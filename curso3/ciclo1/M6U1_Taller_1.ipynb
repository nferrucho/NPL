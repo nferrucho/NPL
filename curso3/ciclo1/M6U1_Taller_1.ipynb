{
  "cells": [
    {
      "cell_type": "markdown",
      "metadata": {
        "id": "view-in-github",
        "colab_type": "text"
      },
      "source": [
        "<a href=\"https://colab.research.google.com/github/nferrucho/NPL/blob/main/curso3/ciclo1/M6U1_Taller_1.ipynb\" target=\"_parent\"><img src=\"https://colab.research.google.com/assets/colab-badge.svg\" alt=\"Open In Colab\"/></a>"
      ]
    },
    {
      "cell_type": "markdown",
      "metadata": {
        "id": "mLlSr7BaKSLF"
      },
      "source": [
        "<img src = \"https://drive.google.com/uc?export=view&id=1li4ahmMhPo2cEUVqQKRDA9ahHp2py4Xb\" alt = \"Encabezado MLDS\" width = \"100%\">  </img>"
      ]
    },
    {
      "cell_type": "markdown",
      "metadata": {
        "id": "fEewD2N0RkMc"
      },
      "source": [
        "# **Taller 1: Metodologías de *Machine Learning***\n",
        "---\n",
        "\n",
        "En este notebook evaluaremos los conceptos aprendidos sobre metodologías de *machine learning*.\n",
        "\n",
        "Ejecute las siguientes celdas para conectarse a UNCode:"
      ]
    },
    {
      "cell_type": "code",
      "execution_count": null,
      "metadata": {
        "id": "2nZiCjQpPdYC"
      },
      "outputs": [],
      "source": [
        "!pip install rlxcrypt"
      ]
    },
    {
      "cell_type": "code",
      "execution_count": null,
      "metadata": {
        "id": "TAqkL4giPflw"
      },
      "outputs": [],
      "source": [
        "!wget --no-cache -O session.pye -q https://raw.githubusercontent.com/JuezUN/INGInious/master/external%20libs/session.pye"
      ]
    },
    {
      "cell_type": "code",
      "execution_count": null,
      "metadata": {
        "id": "CKNgJYjHPhtr"
      },
      "outputs": [],
      "source": [
        "import rlxcrypt\n",
        "import session\n",
        "\n",
        "grader = session.LoginSequence(\"MAPEDDACML-GroupMLDS-6-2024-2@ca999324-7b21-4051-9203-11d1c2e5204d\")"
      ]
    },
    {
      "cell_type": "markdown",
      "metadata": {
        "id": "S-ocd--frFi7"
      },
      "source": [
        "Ejecute la siguiente celda para importar y configurar las librerías usadas :"
      ]
    },
    {
      "cell_type": "code",
      "execution_count": null,
      "metadata": {
        "id": "PIB7qeOuVkfh"
      },
      "outputs": [],
      "source": [
        "# Librerías de utilidad para manipulación y visualización de datos.\n",
        "!pip install -U scikit-learn\n",
        "import pandas as pd\n",
        "import numpy as np\n",
        "import matplotlib.pyplot as plt\n",
        "from IPython.display import display\n",
        "\n",
        "# Ignorar warnings.\n",
        "import warnings\n",
        "warnings.filterwarnings('ignore')"
      ]
    },
    {
      "cell_type": "code",
      "execution_count": null,
      "metadata": {
        "id": "jUMP_2CPqwRY"
      },
      "outputs": [],
      "source": [
        "# Versiones de las librerías usadas.\n",
        "import sklearn\n",
        "!python --version\n",
        "print('Scikit-learn', sklearn.__version__)"
      ]
    },
    {
      "cell_type": "markdown",
      "metadata": {
        "id": "dxNzX3sfq3gZ"
      },
      "source": [
        "Esta actividad se realizó con las siguientes versiones:\n",
        "*  Python 3.10.11\n",
        "*  Scikit-learn 1.2.2"
      ]
    },
    {
      "cell_type": "markdown",
      "metadata": {
        "id": "hjXal-trVEJf"
      },
      "source": [
        "## **Cargar los datos**\n",
        "---\n",
        "En este caso utilizaremos el conjunto de datos [Mobile Phone Price](https://www.kaggle.com/datasets/rkiattisak/mobile-phone-price), el cual contiene distintas características de celulares con el fin de estimar su precio.\n",
        "\n",
        "<center><img src = \"https://drive.google.com/uc?export=view&id=14TyKQ8y9hrCvcPtmmU3leF5kt3uwvKUj\" alt = \"Encabezado MLDS\" width = \"100%\">  </img></center>\n",
        "\n",
        "Este conjunto cuenta con las siguientes columnas:\n",
        "\n",
        "- `Brand`: marca del celular.\n",
        "- `Storage`: capacidad de almacenamiento.\n",
        "- `RAM `: cantidad de memoria RAM.\n",
        "- `Screen Size (inches)` tamaño de la pantalla.\n",
        "- `Battery Capacity (mAh)`: capacidad de la memoria.\n",
        "- `Price ($)`: precio.\n",
        "\n",
        "Comenzamos cargándolo:"
      ]
    },
    {
      "cell_type": "code",
      "execution_count": null,
      "metadata": {
        "id": "Pv04gQUd1lmN"
      },
      "outputs": [],
      "source": [
        "data = pd.read_parquet(\"https://raw.githubusercontent.com/mindlab-unal/mlds6-datasets/main/u1/cellphone.parquet\")"
      ]
    },
    {
      "cell_type": "markdown",
      "metadata": {
        "id": "RojJZC5RZEAX"
      },
      "source": [
        "La idea de este taller es entrenar un modelo para predicción de precios de celular siguiendo la metodología CRISP-DM."
      ]
    },
    {
      "cell_type": "code",
      "execution_count": null,
      "metadata": {
        "id": "wL6IP3EjZJbH"
      },
      "outputs": [],
      "source": [
        "display(data.columns)"
      ]
    },
    {
      "cell_type": "markdown",
      "metadata": {
        "id": "jvU714ETaBCW"
      },
      "source": [
        "**Salida esperada**\n",
        "\n",
        "```python\n",
        "Index(['Brand', 'Storage ', 'RAM ', 'Screen Size (inches)',\n",
        "       'Battery Capacity (mAh)', 'Price ($)'],\n",
        "      dtype='object')\n",
        "```\n",
        "\n",
        "Tenemos entonces las 6 columnas con las cuales vamos a trabajar."
      ]
    },
    {
      "cell_type": "markdown",
      "metadata": {
        "id": "B7NJO2HQ7q5p"
      },
      "source": [
        "> **La tarea es incremental, por lo tanto es recomendable resolver los puntos en orden**"
      ]
    },
    {
      "cell_type": "markdown",
      "metadata": {
        "id": "hvlFb8xffeRb"
      },
      "source": [
        "## **1. Entendimiento del Negocio**\n",
        "---\n",
        "\n",
        "El entendimiento del negocio es fundamental al desarrollar un modelo de predicción de precios de celulares basado en sus características técnicas. En primer lugar, es importante comprender el mercado de celulares y cómo los precios pueden verse afectados por factores como la demanda, la oferta, la competencia y las tendencias de la industria. También es importante conocer los distintos tipos de clientes que compran teléfonos móviles y qué características son más importantes para cada uno de ellos. Por ejemplo, algunos clientes pueden priorizar la calidad de la cámara, mientras que otros pueden estar más interesados en la duración de la batería.\n",
        "\n",
        "Una vez que se comprende el negocio, se puede comenzar a identificar las variables relevantes para el modelo. Estas variables pueden incluir características técnicas como la memoria RAM, la capacidad de almacenamiento, el tamaño de la pantalla y la velocidad del procesador. También es posible que se deban considerar variables más amplias, como la marca y el modelo del teléfono, así como factores externos como el momento del lanzamiento del modelo y las tendencias del mercado.\n",
        "\n",
        "Es importante tener en cuenta que las variables seleccionadas para el modelo deben ser fácilmente medibles y cuantificables. Por ejemplo, el tamaño de la pantalla se puede medir en pulgadas, mientras que la marca del teléfono se puede codificar como una variable binaria. Además, es fundamental asegurarse de que las variables seleccionadas no estén altamente correlacionadas entre sí, ya que esto podría afectar negativamente la precisión del modelo.\n",
        "\n",
        "Una vez que se han seleccionado las variables relevantes, es importante analizar la relación entre ellas y el precio del teléfono. Esto se puede hacer utilizando técnicas de análisis de correlación y regresión. El objetivo de este análisis es determinar cuáles variables tienen la mayor influencia en el precio del teléfono y cómo se relacionan entre sí. Esto permitirá construir un modelo preciso y robusto que pueda predecir con precisión el precio de un teléfono dado su conjunto de características técnicas."
      ]
    },
    {
      "cell_type": "markdown",
      "metadata": {
        "id": "XaRFqDDgtU0n"
      },
      "source": [
        "## **2. Entendimiento de los Datos**\n",
        "---\n",
        "En este punto desarrollaremos distintas actividades para entender un poco más el conjunto de datos."
      ]
    },
    {
      "cell_type": "markdown",
      "metadata": {
        "id": "oFQG4_-M72Z7"
      },
      "source": [
        "### **2.1. Variables Endogenas y Exogenas**\n",
        "---\n",
        "\n",
        "En este punto debe seleccionar y separar las variables de acuerdo a la función que van a tener dentro del modelo. Recuerde que:\n",
        "\n",
        "- **Variable endogena**: variable estimada por el modelo.\n",
        "- **Variable exogena**: variables independientes o características\n",
        "\n",
        "Debe implementar la funcion `endog_exog`, la cual debe seleccionar las variables correspondientes de acuerdo al objetivo del negocio.\n",
        "\n",
        "**Parámetros**:\n",
        "\n",
        "- `df`: `pd.DataFrame` con el dataset.\n",
        "\n",
        "**Retorna**\n",
        "\n",
        "- `endog`: `pd.Series` con la variable endogena.\n",
        "- `exog`: `pd.DataFrame` con las variables exógenas."
      ]
    },
    {
      "cell_type": "code",
      "execution_count": null,
      "metadata": {
        "id": "2ADXyyYP29Jd"
      },
      "outputs": [],
      "source": [
        "# FUNCIÓN CALIFICADA endog_exog:\n",
        "def endog_exog(df):\n",
        "    ### ESCRIBA SU CÓDIGO AQUÍ ###\n",
        "    endog, exog = ..., ...\n",
        "    return endog, exog\n",
        "    ### FIN DEL CÓDIGO ###"
      ]
    },
    {
      "cell_type": "markdown",
      "metadata": {
        "id": "XqDJqyV6JvXm"
      },
      "source": [
        "Use las siguientes celdas para probar su solución:"
      ]
    },
    {
      "cell_type": "code",
      "execution_count": null,
      "metadata": {
        "id": "Xj9SHxQe4qZ7"
      },
      "outputs": [],
      "source": [
        "#TEST_CELL\n",
        "endog, exog = endog_exog(data)\n",
        "display(endog.shape)"
      ]
    },
    {
      "cell_type": "markdown",
      "metadata": {
        "id": "lAaWVvBpJymI"
      },
      "source": [
        "**Salida esperada**:\n",
        "\n",
        "```python\n",
        "❱ display(endog.shape)\n",
        "(407,)\n",
        "```"
      ]
    },
    {
      "cell_type": "code",
      "execution_count": null,
      "metadata": {
        "id": "tTLl2qiY_iWP"
      },
      "outputs": [],
      "source": [
        "#TEST_CELL\n",
        "display(exog.shape)"
      ]
    },
    {
      "cell_type": "markdown",
      "metadata": {
        "id": "LLl98bk-_mQ4"
      },
      "source": [
        "**Salida esperada**:\n",
        "\n",
        "```python\n",
        "❱ display(exog.shape)\n",
        "(407, 5)\n",
        "```"
      ]
    },
    {
      "cell_type": "markdown",
      "metadata": {
        "id": "5T6GxmiX9kP-"
      },
      "source": [
        "<details>    \n",
        "<summary>\n",
        "    <font size=\"3\" color=\"darkgreen\"><b>Pista 1</b></font>\n",
        "</summary>\n",
        "\n",
        "\n",
        "* Puede volver a leer el texto de la sección Entendimiento del negocio para identificar las variables correspondientes."
      ]
    },
    {
      "cell_type": "markdown",
      "metadata": {
        "id": "dGER6Lv_9ujt"
      },
      "source": [
        "<details>    \n",
        "<summary>\n",
        "    <font size=\"3\" color=\"darkgreen\"><b>Pista 2</b></font>\n",
        "</summary>\n",
        "\n",
        "\n",
        "* Recuerde que únicamente hay una variable endogena."
      ]
    },
    {
      "cell_type": "markdown",
      "metadata": {
        "id": "4ukm_JMQ9fn0"
      },
      "source": [
        "<details>    \n",
        "<summary>\n",
        "    <font size=\"3\" color=\"darkgreen\"><b>Pista 3</b></font>\n",
        "</summary>\n",
        "\n",
        "\n",
        "* Valide que el tipo de la variable endogena sea un pd.Series y no un pd.DataFrame."
      ]
    },
    {
      "cell_type": "markdown",
      "metadata": {
        "id": "lQyHcZAK1xp7"
      },
      "source": [
        "#### **Evaluar código**"
      ]
    },
    {
      "cell_type": "code",
      "execution_count": null,
      "metadata": {
        "id": "OFwSYxcyjevU"
      },
      "outputs": [],
      "source": [
        "grader.run_test(\"Test 2_1\", globals())"
      ]
    },
    {
      "cell_type": "markdown",
      "metadata": {
        "id": "gDnhzBI6rNJT"
      },
      "source": [
        "### **2.2. Distribución de Variables**\n",
        "---\n",
        "\n",
        "En este punto debe calcular los conteos de los valores que hay en una columna específica del conjunto de datos. Con esto buscamos identificar si hay datos que deban ser tratados y tipos de columnas (numéricas y categóricas).\n",
        "\n",
        "Para esto deberá implementar la función `desc_var`, la cual debe tomar una columna del conjunto de datos y sacar los conteos de sus valores únicos.\n",
        "\n",
        "**Parámetros**:\n",
        "\n",
        "- `df`: `pd.DataFrame` con el conjunto de datos.\n",
        "- `col`: columna a seleccionar.\n",
        "\n",
        "**Retorna**\n",
        "\n",
        "- `counts`: `pd.Series` con los conteos de los valores únicos en la columna correspondiente."
      ]
    },
    {
      "cell_type": "code",
      "execution_count": null,
      "metadata": {
        "id": "_XMY8ORzrNJT"
      },
      "outputs": [],
      "source": [
        "# FUNCIÓN CALIFICADA desc_var:\n",
        "def desc_var(df, col):\n",
        "    ### ESCRIBA SU CÓDIGO AQUÍ ###\n",
        "    counts = ...\n",
        "    return counts\n",
        "    ### FIN DEL CÓDIGO ###"
      ]
    },
    {
      "cell_type": "markdown",
      "metadata": {
        "id": "kwi2FLEwrNJU"
      },
      "source": [
        "Use las siguientes celdas para probar su solución:"
      ]
    },
    {
      "cell_type": "code",
      "execution_count": null,
      "metadata": {
        "id": "1ey58BARrNJU"
      },
      "outputs": [],
      "source": [
        "#TEST_CELL\n",
        "counts = desc_var(data, \"Price ($)\")\n",
        "display(counts)"
      ]
    },
    {
      "cell_type": "markdown",
      "metadata": {
        "id": "fB0QJJrVrNJU"
      },
      "source": [
        "**Salida esperada**:\n",
        "\n",
        "En este caso debería obtener los conteos de la variable precio:\n",
        "\n",
        "```python\n",
        "❱ display(counts)\n",
        "$149     18\n",
        "$199     15\n",
        "$279     15\n",
        "$299     14\n",
        "699      13\n",
        "         ..\n",
        "$309      1\n",
        "$389      1\n",
        "259       1\n",
        "$109      1\n",
        "1049      1\n",
        "Name: Price ($), Length: 89, dtype: int64\n",
        "```"
      ]
    },
    {
      "cell_type": "code",
      "execution_count": null,
      "metadata": {
        "id": "UoEuEodKrNJU"
      },
      "outputs": [],
      "source": [
        "#TEST_CELL\n",
        "counts = desc_var(data, \"Brand\")\n",
        "display(counts)"
      ]
    },
    {
      "cell_type": "markdown",
      "metadata": {
        "id": "FvrFL1psrNJU"
      },
      "source": [
        "**Salida esperada**:\n",
        "\n",
        "En este caso debería obtener los conteos de la variable marca:\n",
        "\n",
        "```python\n",
        "❱ display(counts)\n",
        "Samsung       79\n",
        "Xiaomi        67\n",
        "Oppo          56\n",
        "Realme        43\n",
        "Vivo          35\n",
        "Apple         30\n",
        "Nokia         28\n",
        "Motorola      23\n",
        "OnePlus       15\n",
        "Huawei        12\n",
        "Google         7\n",
        "Asus           4\n",
        "LG             3\n",
        "Blackberry     3\n",
        "Sony           1\n",
        "CAT            1\n",
        "Name: Brand, dtype: int64\n",
        "```"
      ]
    },
    {
      "cell_type": "markdown",
      "metadata": {
        "id": "kxOJH729rNJV"
      },
      "source": [
        "<details>    \n",
        "<summary>\n",
        "    <font size=\"3\" color=\"darkgreen\"><b>Pista 1</b></font>\n",
        "</summary>\n",
        "\n",
        "\n",
        "* Recuerde que puede seleccionar una columna del `DataFrame` utilizando indexación, es decir, `df[col]`."
      ]
    },
    {
      "cell_type": "markdown",
      "metadata": {
        "id": "liWRJwV2rNJW"
      },
      "source": [
        "<details>    \n",
        "<summary>\n",
        "    <font size=\"3\" color=\"darkgreen\"><b>Pista 2</b></font>\n",
        "</summary>\n",
        "\n",
        "\n",
        "* En `pandas` puede calcular conteos con el método `value_counts`."
      ]
    },
    {
      "cell_type": "markdown",
      "metadata": {
        "id": "TjpHU9urrNJW"
      },
      "source": [
        "#### **Evaluar código**"
      ]
    },
    {
      "cell_type": "code",
      "execution_count": null,
      "metadata": {
        "id": "x_3uuCuPrNJX"
      },
      "outputs": [],
      "source": [
        "grader.run_test(\"Test 2_2\", globals())"
      ]
    },
    {
      "cell_type": "markdown",
      "metadata": {
        "id": "smPcUqFO6ve3"
      },
      "source": [
        "## **3. Preparación de los Datos**\n",
        "---\n",
        "\n",
        "En este punto nos enfocaremos en el preprocesamiento y la limpieza tanto de las variables endogenas como las exogenas."
      ]
    },
    {
      "cell_type": "markdown",
      "metadata": {
        "id": "BkFE17bI62S6"
      },
      "source": [
        "### **3.1. Preprocesamiento de la Variable Endogena**\n",
        "---\n",
        "\n",
        "En este punto debe limpiar la variable endogena, para ello, debe extraer únicamente los valores numéricos de la misma (contiene mezclas de caracteres y números).\n",
        "\n",
        "Para ello, debe implementar la función `prep_endog` la cual toma como entrada la variable endogena cruda y debe retornarla sin caracteres y con un tipo `float`.\n",
        "\n",
        "**Parámetros**\n",
        "\n",
        "- `endog`: `pd.Series` con la variable endogena.\n",
        "\n",
        "**Retorna**\n",
        "\n",
        "- `endog_p`: `pd.Series` con la variable endogena preprocesada."
      ]
    },
    {
      "cell_type": "code",
      "execution_count": null,
      "metadata": {
        "id": "4CqrQkYp6-BE"
      },
      "outputs": [],
      "source": [
        "# FUNCIÓN CALIFICADA endog_exog:\n",
        "def prep_endog(endog):\n",
        "    ### ESCRIBA SU CÓDIGO AQUÍ ###\n",
        "    endog_p = ...\n",
        "    return endog_p\n",
        "    ### FIN DEL CÓDIGO ###"
      ]
    },
    {
      "cell_type": "markdown",
      "metadata": {
        "id": "eEZuH6Lg6-BF"
      },
      "source": [
        "Use las siguientes celdas para probar su solución:"
      ]
    },
    {
      "cell_type": "code",
      "execution_count": null,
      "metadata": {
        "id": "FHFzOIug7VWu"
      },
      "outputs": [],
      "source": [
        "#TEST_CELL\n",
        "endog_p = prep_endog(endog)\n",
        "display(endog_p)"
      ]
    },
    {
      "cell_type": "markdown",
      "metadata": {
        "id": "7iaPHFaD7geI"
      },
      "source": [
        "**Salida esperada**:\n",
        "\n",
        "```python\n",
        "❱ display(endog_prep)\n",
        "0       999.0\n",
        "1      1199.0\n",
        "2       899.0\n",
        "3       279.0\n",
        "4       799.0\n",
        "        ...\n",
        "402    1049.0\n",
        "403     349.0\n",
        "404    1099.0\n",
        "405     429.0\n",
        "406     649.0\n",
        "Name: Price ($), Length: 407, dtype: float64\n",
        "```"
      ]
    },
    {
      "cell_type": "markdown",
      "metadata": {
        "id": "ftSmgHTb7geI"
      },
      "source": [
        "<details>    \n",
        "<summary>\n",
        "    <font size=\"3\" color=\"darkgreen\"><b>Pista 1</b></font>\n",
        "</summary>\n",
        "\n",
        "\n",
        "* Puede eliminar los elementos que no son números por medio de una expresión regular."
      ]
    },
    {
      "cell_type": "markdown",
      "metadata": {
        "id": "q7MYhKQU7sy5"
      },
      "source": [
        "<details>    \n",
        "<summary>\n",
        "    <font size=\"3\" color=\"darkgreen\"><b>Pista 2</b></font>\n",
        "</summary>\n",
        "\n",
        "\n",
        "* Puede utilizar la librería `re` de _Python_ o los métodos de substitución de strings en `pandas`."
      ]
    },
    {
      "cell_type": "markdown",
      "metadata": {
        "id": "VPgxUYC472JL"
      },
      "source": [
        "#### **Evaluar código**"
      ]
    },
    {
      "cell_type": "code",
      "execution_count": null,
      "metadata": {
        "id": "26T43R7KDJ5_"
      },
      "outputs": [],
      "source": [
        "grader.run_test(\"Test 3_1\", globals())"
      ]
    },
    {
      "cell_type": "markdown",
      "metadata": {
        "id": "nroHCpogFDul"
      },
      "source": [
        "### **3.2. Preprocesamiento de las Variables Exogenas**\n",
        "---\n",
        "\n",
        "En este punto debe limpiar las variables exogenas, para ello debe seguir los siguientes pasos:\n",
        "\n",
        "- Debe convertir la variable marca (categórica) en una codificación one-hot (variables dummy).\n",
        "- Debe eliminar valores que no sean números de variables que contengan mezclas de letras y números. Algo equivalente a la limpieza de la variable endógena.\n",
        "- Debe retornar un arreglo de `numpy` de tipo `float` con el resultado.\n",
        "\n",
        "Para esto, debe implementar la función `prep_exog`, la cual toma como entrada un `DataFrame` con las variables exogenas y debe retornar un `np.array` con las variables preprocesadas.\n",
        "\n",
        "**Parámetros**\n",
        "\n",
        "- `exog`: `pd.DataFrame` con las variables exogenas.\n",
        "\n",
        "**Retorna**\n",
        "\n",
        "- `exog_p`: `np.array` con las variables exogenas preprocesadas."
      ]
    },
    {
      "cell_type": "code",
      "execution_count": null,
      "metadata": {
        "id": "oyiv6hvwFDul"
      },
      "outputs": [],
      "source": [
        "# FUNCIÓN CALIFICADA endog_exog:\n",
        "from sklearn.preprocessing import OneHotEncoder\n",
        "def prep_exog(exog):\n",
        "    ### ESCRIBA SU CÓDIGO AQUÍ ###\n",
        "    exog_p = ...\n",
        "    return exog_p\n",
        "    ### FIN DEL CÓDIGO ###"
      ]
    },
    {
      "cell_type": "markdown",
      "metadata": {
        "id": "k8rdta93FDul"
      },
      "source": [
        "Use las siguientes celdas para probar su solución:"
      ]
    },
    {
      "cell_type": "code",
      "execution_count": null,
      "metadata": {
        "id": "iQsnrigRFDul"
      },
      "outputs": [],
      "source": [
        "#TEST_CELL\n",
        "exog_p = prep_exog(exog)\n",
        "display(exog_p.shape)"
      ]
    },
    {
      "cell_type": "markdown",
      "metadata": {
        "id": "J8VakjXhFDum"
      },
      "source": [
        "**Salida esperada**:\n",
        "\n",
        "```python\n",
        "❱ display(exog_p.shape)\n",
        "(407, 20)\n",
        "```"
      ]
    },
    {
      "cell_type": "code",
      "execution_count": null,
      "metadata": {
        "id": "zGJB5FBbIQuG"
      },
      "outputs": [],
      "source": [
        "#TEST_CELL\n",
        "exog_p = prep_exog(exog)\n",
        "display(exog_p.mean())"
      ]
    },
    {
      "cell_type": "markdown",
      "metadata": {
        "id": "rkJ9j5xdIQuH"
      },
      "source": [
        "**Salida esperada**:\n",
        "\n",
        "```python\n",
        "❱ display(exog_p.mean())\n",
        "240.64162162162165\n",
        "```"
      ]
    },
    {
      "cell_type": "markdown",
      "metadata": {
        "id": "YFTnYHxAFDum"
      },
      "source": [
        "<details>    \n",
        "<summary>\n",
        "    <font size=\"3\" color=\"darkgreen\"><b>Pista 1</b></font>\n",
        "</summary>\n",
        "\n",
        "\n",
        "* Puede utilizar la clase `OneHotEncoder` para obtener las variables dummies para la variable categórica."
      ]
    },
    {
      "cell_type": "markdown",
      "metadata": {
        "id": "C9Nl6U4BFDum"
      },
      "source": [
        "<details>    \n",
        "<summary>\n",
        "    <font size=\"3\" color=\"darkgreen\"><b>Pista 2</b></font>\n",
        "</summary>\n",
        "\n",
        "\n",
        "* La columna que contiene la duración de la batería ya es numérica, así que esta no debe modificarla."
      ]
    },
    {
      "cell_type": "markdown",
      "metadata": {
        "id": "SDq1Gyk0FDum"
      },
      "source": [
        "#### **Evaluar código**"
      ]
    },
    {
      "cell_type": "code",
      "execution_count": null,
      "metadata": {
        "id": "8vZaPRU7FDum"
      },
      "outputs": [],
      "source": [
        "grader.run_test(\"Test 3_2\", globals())"
      ]
    },
    {
      "cell_type": "markdown",
      "metadata": {
        "id": "Y4XB5ynIX943"
      },
      "source": [
        "## **4. Modelamiento**\n",
        "---\n",
        "\n",
        "En este punto entrenaremos un modelo para el problema."
      ]
    },
    {
      "cell_type": "markdown",
      "metadata": {
        "id": "f9_RYijXYB6K"
      },
      "source": [
        "### **4.1. Validación Cruzada**\n",
        "---\n",
        "\n",
        "En este punto deberá dividir el conjunto de datos en las particiones de entrenamiento y prueba.\n",
        "\n",
        "Para ello deberá implementar la función `cross_val` la cual deberá dividir las variables exogenas y endogenas en entrenamiento y prueba en dependencia de una proporción de la partición y una semilla de números aleatorios.\n",
        "\n",
        "**Parámetros**\n",
        "\n",
        "- `exog`: variables exogenas.\n",
        "- `endog`: variables endogenas.\n",
        "- `p`: proporcion de datos de prueba.\n",
        "- `random_state`: semilla de números aleatorios.\n",
        "\n",
        "**Retorna**\n",
        "\n",
        "- `exog_train`: variables exogenas de entrenamiento.\n",
        "- `exog_test`: variables exogenas de prueba.\n",
        "- `endog_train`: variable endogena de entrenamiento.\n",
        "- `endog_test`: variable endogena de prueba."
      ]
    },
    {
      "cell_type": "code",
      "execution_count": null,
      "metadata": {
        "id": "4A50AQBNYLDs"
      },
      "outputs": [],
      "source": [
        "# FUNCIÓN CALIFICADA cross_val:\n",
        "from sklearn.model_selection import train_test_split\n",
        "def cross_val(exog, endog, p, random_state):\n",
        "    ### ESCRIBA SU CÓDIGO AQUÍ ###\n",
        "    exog_train = ...\n",
        "    exog_test = ...\n",
        "    endog_train = ...\n",
        "    endog_test = ...\n",
        "    return exog_train, exog_test, endog_train, endog_test\n",
        "    ### FIN DEL CÓDIGO ###"
      ]
    },
    {
      "cell_type": "markdown",
      "metadata": {
        "id": "ghBlGcs2YLDt"
      },
      "source": [
        "Use las siguientes celdas para probar su solución:"
      ]
    },
    {
      "cell_type": "code",
      "execution_count": null,
      "metadata": {
        "id": "v97YgTmmYLDt"
      },
      "outputs": [],
      "source": [
        "#TEST_CELL\n",
        "exog_train, exog_test, endog_train, endog_test = cross_val(\n",
        "        exog_p, endog_p, 0.3, 0\n",
        "        )\n",
        "display(exog_train.shape)\n",
        "display(exog_test.shape)\n",
        "display(endog_test.shape)\n",
        "display(endog_train.shape)"
      ]
    },
    {
      "cell_type": "markdown",
      "metadata": {
        "id": "SdSS9XP7YLDt"
      },
      "source": [
        "**Salida esperada**:\n",
        "\n",
        "```python\n",
        "❱ display(exog_train.shape)\n",
        "(284, 20)\n",
        "\n",
        "❱ display(exog_test.shape)\n",
        "(123, 20)\n",
        "\n",
        "❱ display(endog_test.shape)\n",
        "(123,)\n",
        "\n",
        "❱ display(endog_train.shape)\n",
        "(284,)\n",
        "```"
      ]
    },
    {
      "cell_type": "code",
      "execution_count": null,
      "metadata": {
        "id": "54szukMjYgEE"
      },
      "outputs": [],
      "source": [
        "#TEST_CELL\n",
        "exog_train, exog_test, endog_train, endog_test = cross_val(\n",
        "        exog_p, endog_p, 0.3, 0\n",
        "        )\n",
        "display(endog_train.mean())\n",
        "display(endog_test.mean())"
      ]
    },
    {
      "cell_type": "markdown",
      "metadata": {
        "id": "F1mnZrKkYfEP"
      },
      "source": [
        "**Salida esperada**:\n",
        "\n",
        "En este caso debería obtener el promedio de las variables endogenas en cada partición.\n",
        "\n",
        "```python\n",
        "❱ display(endog_train.mean())\n",
        "413.1232394366197\n",
        "\n",
        "❱ display(endog_test.mean())\n",
        "397.2113821138211\n",
        "```"
      ]
    },
    {
      "cell_type": "markdown",
      "metadata": {
        "id": "BiAJNoKxYLDt"
      },
      "source": [
        "<details>    \n",
        "<summary>\n",
        "    <font size=\"3\" color=\"darkgreen\"><b>Pista 1</b></font>\n",
        "</summary>\n",
        "\n",
        "\n",
        "* Puede eliminar los elementos que no son números por medio de una expresión regular."
      ]
    },
    {
      "cell_type": "markdown",
      "metadata": {
        "id": "eCaGgD8-YLDt"
      },
      "source": [
        "<details>    \n",
        "<summary>\n",
        "    <font size=\"3\" color=\"darkgreen\"><b>Pista 2</b></font>\n",
        "</summary>\n",
        "\n",
        "\n",
        "* Puede utilizar la librería `re` de _Python_ o los métodos de substitución de strings en `pandas`."
      ]
    },
    {
      "cell_type": "markdown",
      "metadata": {
        "id": "bOMM5jG4YLDt"
      },
      "source": [
        "#### **Evaluar código**"
      ]
    },
    {
      "cell_type": "code",
      "execution_count": null,
      "metadata": {
        "id": "-KwH-qHXYLDu"
      },
      "outputs": [],
      "source": [
        "grader.run_test(\"Test 4_1\", globals())"
      ]
    },
    {
      "cell_type": "markdown",
      "metadata": {
        "id": "mvkI7tM8sktT"
      },
      "source": [
        "### **4.2. Modelo de Regresión**\n",
        "---\n",
        "\n",
        "En este punto deberá implementar un modelo de regresión lineal para estimar la variable endogena a partir de las variables exogenas.\n",
        "\n",
        "Para esto debe implementar la función `regression` la cual toma como entrada las variables endogenas y exogenas de entrenamiento y debe retornar un modelo de regresión lineal entrenado.\n",
        "\n",
        "**Parámetros**\n",
        "\n",
        "- `exog_train`: variables exogenas de entrenamiento.\n",
        "- `endog_train`: variables endogenas de entrenamiento.\n",
        "\n",
        "**Retorna**\n",
        "\n",
        "- `model`: modelo de regresión lineal entrenado."
      ]
    },
    {
      "cell_type": "code",
      "execution_count": null,
      "metadata": {
        "id": "7FlzhrrgsktT"
      },
      "outputs": [],
      "source": [
        "# FUNCIÓN CALIFICADA regression:\n",
        "from sklearn.linear_model import LinearRegression\n",
        "def regression(exog_train, endog_train):\n",
        "    ### ESCRIBA SU CÓDIGO AQUÍ ###\n",
        "    model = ...\n",
        "    return model\n",
        "    ### FIN DEL CÓDIGO ###"
      ]
    },
    {
      "cell_type": "markdown",
      "metadata": {
        "id": "RArJ2OxWsktU"
      },
      "source": [
        "Use las siguientes celdas para probar su solución:"
      ]
    },
    {
      "cell_type": "code",
      "execution_count": null,
      "metadata": {
        "id": "Q5wHdmu_sktU"
      },
      "outputs": [],
      "source": [
        "#TEST_CELL\n",
        "model = regression(exog_train, endog_train)\n",
        "print(model.coef_.mean())"
      ]
    },
    {
      "cell_type": "markdown",
      "metadata": {
        "id": "mKZ_QDW3sktU"
      },
      "source": [
        "**Salida esperada**:\n",
        "\n",
        "En este caso debería obtener el promedio de los parámetros del modelo.\n",
        "\n",
        "```python\n",
        "❱ print(model.coef_.mean())\n",
        "21.956117370855814\n",
        "```"
      ]
    },
    {
      "cell_type": "code",
      "execution_count": null,
      "metadata": {
        "id": "PspkAuI1sktU"
      },
      "outputs": [],
      "source": [
        "#TEST_CELL\n",
        "model = regression(exog_train, endog_train)\n",
        "print(model.intercept_)"
      ]
    },
    {
      "cell_type": "markdown",
      "metadata": {
        "id": "Q1bRzao4sktU"
      },
      "source": [
        "**Salida esperada**:\n",
        "\n",
        "En este caso debería obtener el intercepto del modelo.\n",
        "\n",
        "```python\n",
        "❱ print(model.intercept_)\n",
        "-2009.9467842481895\n",
        "```"
      ]
    },
    {
      "cell_type": "markdown",
      "metadata": {
        "id": "QOZ0RY4RsktU"
      },
      "source": [
        "<details>    \n",
        "<summary>\n",
        "    <font size=\"3\" color=\"darkgreen\"><b>Pista 1</b></font>\n",
        "</summary>\n",
        "\n",
        "\n",
        "* Puede usar la clase `LinearRegression` de `sklearn` para entrenar el modelo."
      ]
    },
    {
      "cell_type": "markdown",
      "metadata": {
        "id": "7dgKYk3wsktU"
      },
      "source": [
        "<details>    \n",
        "<summary>\n",
        "    <font size=\"3\" color=\"darkgreen\"><b>Pista 2</b></font>\n",
        "</summary>\n",
        "\n",
        "\n",
        "* Valide que su modelo esté entrenado, es decir, que esté usando el método `fit`."
      ]
    },
    {
      "cell_type": "markdown",
      "metadata": {
        "id": "9FNKwc8GsktV"
      },
      "source": [
        "#### **Evaluar código**"
      ]
    },
    {
      "cell_type": "code",
      "execution_count": null,
      "metadata": {
        "id": "6m7GSxSosktV"
      },
      "outputs": [],
      "source": [
        "grader.run_test(\"Test 4_2\", globals())"
      ]
    },
    {
      "cell_type": "markdown",
      "metadata": {
        "id": "3hrLZWssyPbJ"
      },
      "source": [
        "## **5. Evaluación**\n",
        "---\n",
        "\n",
        "En este punto debe evaluar el desempeño del modelo en términos de métricas clásicas para regresión como $r^2$, error cuadrático medio y error absoluto medio.\n",
        "\n",
        "Para esto, debe implementar la función `evaluate` la cual toma como entrada un modelo entrenado, las variables exogenas y endogenas de prueba. Debe retornar las tres métricas en el mismo orden en el que se mencionan.\n",
        "\n",
        "**Parámetros**\n",
        "\n",
        "- `model`: modelo entrenado.\n",
        "- `exog_test`: variables exogenas de prueba.\n",
        "- `endog_test`: variables endogenas de prueba.\n",
        "\n",
        "**Retorna**\n",
        "\n",
        "- `r2`: coeficiente de determinación.\n",
        "- `mse`: error cuadrático medio.\n",
        "- `mae`: error absoluto medio."
      ]
    },
    {
      "cell_type": "code",
      "execution_count": null,
      "metadata": {
        "id": "12BsI5YayY3Z"
      },
      "outputs": [],
      "source": [
        "# FUNCIÓN CALIFICADA evaluate:\n",
        "from sklearn.metrics import r2_score, mean_squared_error, mean_absolute_error\n",
        "def evaluate(model, exog_test, endog_test):\n",
        "    ### ESCRIBA SU CÓDIGO AQUÍ ###\n",
        "    r2 = ...\n",
        "    mse = ...\n",
        "    mae = ...\n",
        "    return r2, mse, mae\n",
        "    ### FIN DEL CÓDIGO ###"
      ]
    },
    {
      "cell_type": "markdown",
      "metadata": {
        "id": "5ckueLIyyY3b"
      },
      "source": [
        "Use las siguientes celdas para probar su solución:"
      ]
    },
    {
      "cell_type": "code",
      "execution_count": null,
      "metadata": {
        "id": "WmIau3B8yY3b"
      },
      "outputs": [],
      "source": [
        "#TEST_CELL\n",
        "r2, mse, mae = evaluate(model, exog_test, endog_test)\n",
        "print(r2)\n",
        "print(mse)\n",
        "print(mae)"
      ]
    },
    {
      "cell_type": "markdown",
      "metadata": {
        "id": "T8OORxWfyY3b"
      },
      "source": [
        "**Salida esperada**:\n",
        "En este caso debería obtener las métricas del modelo.\n",
        "\n",
        "```python\n",
        "❱ print(r2)\n",
        "0.692024176584816\n",
        "\n",
        "❱ print(mse)\n",
        "25160.88989779909\n",
        "\n",
        "❱ print(mae)\n",
        "110.49360513638557\n",
        "```"
      ]
    },
    {
      "cell_type": "markdown",
      "metadata": {
        "id": "gI_djSy2zBxW"
      },
      "source": [
        "<details>    \n",
        "<summary>\n",
        "    <font size=\"3\" color=\"darkgreen\"><b>Pista 1</b></font>\n",
        "</summary>\n",
        "\n",
        "\n",
        "* Puede usar las métricas `r2_score`, `mean_squared_error`, `mean_absolute_error` de `sklearn`."
      ]
    },
    {
      "cell_type": "markdown",
      "metadata": {
        "id": "PJtM2vBWzBxX"
      },
      "source": [
        "<details>    \n",
        "<summary>\n",
        "    <font size=\"3\" color=\"darkgreen\"><b>Pista 2</b></font>\n",
        "</summary>\n",
        "\n",
        "\n",
        "* Recuerde obtener las predicciones usando el método `predict` del modelo."
      ]
    },
    {
      "cell_type": "markdown",
      "metadata": {
        "id": "UEKYmidGzQMp"
      },
      "source": [
        "#### **Evaluar código**"
      ]
    },
    {
      "cell_type": "code",
      "execution_count": null,
      "metadata": {
        "id": "7_xQ9Q5RzQMq"
      },
      "outputs": [],
      "source": [
        "grader.run_test(\"Test 5_1\", globals())"
      ]
    },
    {
      "cell_type": "markdown",
      "metadata": {
        "id": "08eh8HTknUDd"
      },
      "source": [
        "# **Evaluación**"
      ]
    },
    {
      "cell_type": "code",
      "execution_count": null,
      "metadata": {
        "id": "pb0DP1bWwRll"
      },
      "outputs": [],
      "source": [
        "grader.submit_task(globals())"
      ]
    },
    {
      "cell_type": "markdown",
      "metadata": {
        "id": "C2k0jvWP0evr"
      },
      "source": [
        "# **Recursos Adicionales**\n",
        "---\n",
        "\n",
        "- _Fuente de los íconos_\n",
        "    - Apple iPhone 13 Pro [PNG]. https://micelu.co/wp-content/uploads/2022/12/13-pro-azul.png\n",
        "    - Vivo V21 5G [PNG]. https://n9.cl/6qt9jf\n",
        "    - Samsung S21 Lite [PNG]. https://images.samsung.com/is/image/samsung/p6pim/sg/galaxy-s21/gallery/sg-galaxy-s21-5g-g991-sm-g991bzigxsp-358773254\n",
        "    - Xiaomi Mi 11 Lite [PNG]. https://cdnx.jumpseller.com/tiquemobile/image/30784585/resize/540/540?1673385052"
      ]
    },
    {
      "cell_type": "markdown",
      "metadata": {
        "id": "xwLqFy8Zzet_"
      },
      "source": [
        "# **Créditos**\n",
        "---\n",
        "\n",
        "* **Profesor:** [Jorge E. Camargo, PhD](https://dis.unal.edu.co/~jecamargom/).\n",
        "\n",
        "* **Asistentes docentes:** [Juan Sebastián Lara Ramírez](https://www.linkedin.com/in/juan-sebastian-lara-ramirez-43570a214/).\n",
        "* **Diseño de imágenes:**\n",
        "  - [Rosa Alejandra Superlano Esquibel](https://www.linkedin.com/in/alejandra-superlano-02b74313a/).\n",
        "  - [Mario Andrés Rodríguez Triana](mailto:mrodrigueztr@unal.edu.co).\n",
        "\n",
        "* **Coordinador de virtualización:** [Edder Hernández Forero](https://www.linkedin.com/in/edder-hernandez-forero-28aa8b207/).\n",
        "\n",
        "**Universidad Nacional de Colombia** - *Facultad de Ingeniería*"
      ]
    }
  ],
  "metadata": {
    "colab": {
      "provenance": [],
      "private_outputs": true,
      "include_colab_link": true
    },
    "kernelspec": {
      "display_name": "Python 3",
      "name": "python3"
    },
    "language_info": {
      "name": "python"
    }
  },
  "nbformat": 4,
  "nbformat_minor": 0
}