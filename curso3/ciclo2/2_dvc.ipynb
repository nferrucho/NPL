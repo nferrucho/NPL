{
  "cells": [
    {
      "cell_type": "markdown",
      "metadata": {
        "id": "view-in-github",
        "colab_type": "text"
      },
      "source": [
        "<a href=\"https://colab.research.google.com/github/nferrucho/NPL/blob/main/curso3/ciclo2/2_dvc.ipynb\" target=\"_parent\"><img src=\"https://colab.research.google.com/assets/colab-badge.svg\" alt=\"Open In Colab\"/></a>"
      ]
    },
    {
      "cell_type": "markdown",
      "id": "c848edf3",
      "metadata": {
        "id": "c848edf3"
      },
      "source": [
        "<img src=\"https://drive.google.com/uc?export=view&id=10mKgunAZowpvpttdYdjoDeCM2RSMGXer\" width=\"100%\">"
      ]
    },
    {
      "cell_type": "markdown",
      "id": "789a36cf",
      "metadata": {
        "id": "789a36cf"
      },
      "source": [
        "# Versionamiento de Datos\n",
        "---\n",
        "\n",
        "En este notebook daremos una introducción práctica al versionamiento de datos con la herramienta `dvc`, para ello, debemos instalarla en el entorno de Google Colaboratory. Recuerde que se trata de un sistema basado en el sistema operativo Linux, más específicamente la distribución Ubuntu:"
      ]
    },
    {
      "cell_type": "code",
      "execution_count": null,
      "id": "8f76d370",
      "metadata": {
        "id": "8f76d370"
      },
      "outputs": [],
      "source": [
        "!cat /etc/os-release"
      ]
    },
    {
      "cell_type": "markdown",
      "id": "da436274",
      "metadata": {
        "id": "da436274"
      },
      "source": [
        "Podemos instalar `dvc` con el siguiente comando:"
      ]
    },
    {
      "cell_type": "code",
      "execution_count": null,
      "id": "335025d6",
      "metadata": {
        "id": "335025d6"
      },
      "outputs": [],
      "source": [
        "!pip install dvc dvc-gdrive"
      ]
    },
    {
      "cell_type": "markdown",
      "id": "d6859970",
      "metadata": {
        "id": "d6859970"
      },
      "source": [
        "Adicionalmente, instalaremos algunas herramientas auxiliares:"
      ]
    },
    {
      "cell_type": "code",
      "execution_count": null,
      "id": "a5d9c55c",
      "metadata": {
        "id": "a5d9c55c"
      },
      "outputs": [],
      "source": [
        "!apt install tree"
      ]
    },
    {
      "cell_type": "markdown",
      "id": "9d69ac16",
      "metadata": {
        "id": "9d69ac16"
      },
      "source": [
        "Validamos que la herramienta se encuentra instalada:"
      ]
    },
    {
      "cell_type": "code",
      "execution_count": null,
      "id": "594abbe1",
      "metadata": {
        "id": "594abbe1"
      },
      "outputs": [],
      "source": [
        "!dvc --version"
      ]
    },
    {
      "cell_type": "markdown",
      "id": "bdcf07e5",
      "metadata": {
        "id": "bdcf07e5"
      },
      "source": [
        "Finalmente, importamos las librerías necesarias:"
      ]
    },
    {
      "cell_type": "code",
      "execution_count": null,
      "id": "d15bd41b",
      "metadata": {
        "id": "d15bd41b"
      },
      "outputs": [],
      "source": [
        "import os\n",
        "from IPython import get_ipython"
      ]
    },
    {
      "cell_type": "markdown",
      "id": "51581f76",
      "metadata": {
        "id": "51581f76"
      },
      "source": [
        "# Data Version Control\n",
        "---\n",
        "\n",
        "Data Version Control (DVC) es un sistema de control de versiones específico para datos, similar a Git, pero diseñado específicamente para manejar grandes conjuntos de datos y modelos. Con DVC, se pueden rastrear y controlar las versiones de los datos utilizados en un proyecto de aprendizaje automático (machine learning), así como los cambios realizados en los modelos y scripts de entrenamiento.\n",
        "\n",
        "<center><img src=\"https://drive.google.com/uc?export=view&id=1jZi-b90okFLR-ercTxcdNM9GYDqfWMKj\" width=\"80%\"></center>\n",
        "\n",
        "Algunas de las funciones principales de DVC incluyen:\n",
        "\n",
        "- **Rastreo de cambios en los datos y los modelos**: DVC permite rastrear los cambios realizados en los datos y los modelos y revertirlos si es necesario.\n",
        "- **Almacenamiento de datos**: DVC permite almacenar grandes conjuntos de datos en un sistema de almacenamiento externo, como Amazon S3, y hacer referencia a ellos en el repositorio DVC.\n",
        "- **Replicabilidad**: DVC permite reproducir fácilmente los resultados de un proyecto de aprendizaje automático, ya que registra todos los cambios realizados en los datos y los modelos.\n",
        "- **Colaboración**: DVC permite que varios desarrolladores trabajen usando exactamente los mismos datos, características y modelos.\n",
        "\n",
        "En este notebook veremos los tres principales usos de `dvc` para versionamiento de archivos:"
      ]
    },
    {
      "cell_type": "markdown",
      "id": "70de51e1",
      "metadata": {
        "lines_to_next_cell": 2,
        "id": "70de51e1"
      },
      "source": [
        "## **1. Versionamiento de Datos**\n",
        "---\n",
        "\n",
        "Una de las principales desventajas de sistemas de versionamiento como Git es que no tienen la capacidad de manejar volúmenes grandes de archivos. De hecho, se recomienda que un repositorio no tenga más de 1 GB de tamaño.\n",
        "\n",
        "No obstante, en proyectos de machine learning es muy común el uso y la generación de datos, por lo cual, es necesario buscar una alternativa que nos permita mantener un registro de la información que estamos manejando. **Data Version Control** (DVC) surge como una herramienta que busca extender Git para hacer seguimiento de datos, toda la parte de versionamiento se sigue manejando desde Git, pero los archivos grandes se ubican en algún lugar de almacenamiento distinto del mismo repositorio.\n",
        "\n",
        "<center><img src=\"https://drive.google.com/uc?export=view&id=1SVHchK8RXUOOApwxrVPn10C3K02jTnk7\" width=\"80%\"></center>"
      ]
    },
    {
      "cell_type": "markdown",
      "id": "d3f1bee4",
      "metadata": {
        "id": "d3f1bee4"
      },
      "source": [
        "## **2. Creación del Repositorio**\n",
        "---\n",
        "\n",
        "DVC se usa de una forma muy equivalente a Git, es decir, necesitamos mantener un repositorio de código para versionar los datos también, por ello, vamos a crear un repositorio:"
      ]
    },
    {
      "cell_type": "code",
      "execution_count": null,
      "id": "60e9d758",
      "metadata": {
        "id": "60e9d758"
      },
      "outputs": [],
      "source": [
        "!mkdir myrepo\n",
        "%cd myrepo"
      ]
    },
    {
      "cell_type": "markdown",
      "id": "1dacec70",
      "metadata": {
        "id": "1dacec70"
      },
      "source": [
        "Recuerde configurar su identidad en los siguientes campos:"
      ]
    },
    {
      "cell_type": "code",
      "execution_count": null,
      "id": "c1ea0768",
      "metadata": {
        "id": "c1ea0768"
      },
      "outputs": [],
      "source": [
        "!git config --global user.email \"ejemplo@unal.edu.co\"\n",
        "!git config --global user.name \"Mi nombre o username\"\n",
        "!git config --global init.defaultBranch master"
      ]
    },
    {
      "cell_type": "markdown",
      "id": "a7201ae0",
      "metadata": {
        "id": "a7201ae0"
      },
      "source": [
        "Inicializamos el repositorio:"
      ]
    },
    {
      "cell_type": "code",
      "execution_count": null,
      "id": "d3beb67b",
      "metadata": {
        "id": "d3beb67b"
      },
      "outputs": [],
      "source": [
        "!git init"
      ]
    },
    {
      "cell_type": "markdown",
      "id": "ceb6bf16",
      "metadata": {
        "id": "ceb6bf16"
      },
      "source": [
        "Para iniciar con el versionamiento de datos, vamos a crear la carpeta `data` dentro del repositorio:"
      ]
    },
    {
      "cell_type": "code",
      "execution_count": null,
      "id": "b2f43f02",
      "metadata": {
        "id": "b2f43f02"
      },
      "outputs": [],
      "source": [
        "!mkdir data"
      ]
    },
    {
      "cell_type": "markdown",
      "id": "61a0e42b",
      "metadata": {
        "id": "61a0e42b"
      },
      "source": [
        "## **3. Conjunto de Datos**\n",
        "---\n",
        "\n",
        "Ahora, vamos a descargar dos archivos planos que conforman un dataset de nombres en inglés [Names Corpus](https://www.kaggle.com/datasets/nltkdata/names):"
      ]
    },
    {
      "cell_type": "code",
      "execution_count": null,
      "id": "596d251d",
      "metadata": {
        "id": "596d251d"
      },
      "outputs": [],
      "source": [
        "!wget https://raw.githubusercontent.com/mindlab-unal/mlds6-datasets/master/u2/female.txt -O data/female.txt\n",
        "!wget https://raw.githubusercontent.com/mindlab-unal/mlds6-datasets/master/u2/male.txt -O data/male.txt"
      ]
    },
    {
      "cell_type": "markdown",
      "id": "5d5d10a2",
      "metadata": {
        "id": "5d5d10a2"
      },
      "source": [
        "Veamos la estructura de directorios que tenemos ahora:"
      ]
    },
    {
      "cell_type": "code",
      "execution_count": null,
      "id": "0f39472c",
      "metadata": {
        "id": "0f39472c"
      },
      "outputs": [],
      "source": [
        "!tree"
      ]
    },
    {
      "cell_type": "markdown",
      "id": "e7686ff9",
      "metadata": {
        "id": "e7686ff9"
      },
      "source": [
        "También podemos ver el contenido de alguno de los archivos:"
      ]
    },
    {
      "cell_type": "code",
      "execution_count": null,
      "id": "79858c44",
      "metadata": {
        "id": "79858c44"
      },
      "outputs": [],
      "source": [
        "!head data/male.txt"
      ]
    },
    {
      "cell_type": "markdown",
      "id": "40ddc883",
      "metadata": {
        "id": "40ddc883"
      },
      "source": [
        "## **4. Agregando Datos a DVC**\n",
        "---\n",
        "\n",
        "Como estamos trabajando con Git, estos archivos se mantendrán bajo el seguimiento de esta herramienta. Podemos validarlo:"
      ]
    },
    {
      "cell_type": "code",
      "execution_count": null,
      "id": "25bd230b",
      "metadata": {
        "id": "25bd230b"
      },
      "outputs": [],
      "source": [
        "!git status"
      ]
    },
    {
      "cell_type": "markdown",
      "id": "de4a3460",
      "metadata": {
        "id": "de4a3460"
      },
      "source": [
        "Como podemos ver, toda la carpeta `data` se encuentra en el área de trabajo. Vamos a comenzar e integrar `dvc` para que veamos cómo se simplifica el manejo de Git. Para ello, inicializamos el proyecto con `dvc init`:"
      ]
    },
    {
      "cell_type": "code",
      "execution_count": null,
      "id": "a33b617a",
      "metadata": {
        "id": "a33b617a"
      },
      "outputs": [],
      "source": [
        "!dvc init"
      ]
    },
    {
      "cell_type": "markdown",
      "id": "db23512d",
      "metadata": {
        "id": "db23512d"
      },
      "source": [
        "Veamos qué cambió en el repositorio:"
      ]
    },
    {
      "cell_type": "code",
      "execution_count": null,
      "id": "d65d2e0b",
      "metadata": {
        "id": "d65d2e0b"
      },
      "outputs": [],
      "source": [
        "!ls -a"
      ]
    },
    {
      "cell_type": "markdown",
      "id": "916ffae7",
      "metadata": {
        "id": "916ffae7"
      },
      "source": [
        "Como podemos ver, se creó la carpeta `.dvc` (almacenamiento de la herramienta) y un archivo `.dvcignore` (qué datos debe ignorar la herramienta).\n",
        "\n",
        "Vamos a registrar los datos para su seguimiento con `dvc add`:"
      ]
    },
    {
      "cell_type": "code",
      "execution_count": null,
      "id": "06361aec",
      "metadata": {
        "id": "06361aec"
      },
      "outputs": [],
      "source": [
        "!dvc add data/male.txt data/female.txt"
      ]
    },
    {
      "cell_type": "markdown",
      "id": "e7d62525",
      "metadata": {
        "id": "e7d62525"
      },
      "source": [
        "Veamos qué cambios tiene la carpeta `data` luego de agregar archivos en `dvc`:"
      ]
    },
    {
      "cell_type": "code",
      "execution_count": null,
      "id": "7c26e826",
      "metadata": {
        "id": "7c26e826"
      },
      "outputs": [],
      "source": [
        "!ls -a data/"
      ]
    },
    {
      "cell_type": "markdown",
      "id": "cbd3c61b",
      "metadata": {
        "id": "cbd3c61b"
      },
      "source": [
        "Como podemos ver, se crearon tres archivos:\n",
        "\n",
        "- `male.txt.dvc` y `female.txt.dvc`: metadatos que se conservarán en el repositorio de Git y enlazan a los datos originales.\n",
        "- `.gitignore`: específica a Git que no debe mantener registro de los datos originales, únicamente de los metadatos.\n",
        "\n",
        "Podemos inspeccionar el contenido de estos archivos, primero, los metadatos:"
      ]
    },
    {
      "cell_type": "code",
      "execution_count": null,
      "id": "d9ed8487",
      "metadata": {
        "id": "d9ed8487"
      },
      "outputs": [],
      "source": [
        "!cat data/female.txt.dvc"
      ]
    },
    {
      "cell_type": "markdown",
      "id": "484bea89",
      "metadata": {
        "id": "484bea89"
      },
      "source": [
        "Como podemos ver, se almacena un código hash que identifica la versión del archivo (similar a los commits), su tamaño y el nombre del archivo al que hace referencia.\n",
        "\n",
        "<center><img src=\"https://drive.google.com/uc?export=view&id=1I_85fV6wp5o-2F0UTEvOD2YUcx1EKrZw\" width=\"82%\"></center>\n",
        "\n",
        "También podemos ver el archivo `.gitignore`:"
      ]
    },
    {
      "cell_type": "code",
      "execution_count": null,
      "id": "199e10d8",
      "metadata": {
        "id": "199e10d8"
      },
      "outputs": [],
      "source": [
        "!cat data/.gitignore"
      ]
    },
    {
      "cell_type": "markdown",
      "id": "4dc9a494",
      "metadata": {
        "id": "4dc9a494"
      },
      "source": [
        "Podemos ver que se excluyen los archivos que corresponden directamente a los datos. Con esto, podemos pasar a agregar al área de preparación los archivos necesarios de `dvc`:"
      ]
    },
    {
      "cell_type": "code",
      "execution_count": null,
      "id": "417525f2",
      "metadata": {
        "id": "417525f2"
      },
      "outputs": [],
      "source": [
        "!git add data/.gitignore data/*.txt.dvc"
      ]
    },
    {
      "cell_type": "markdown",
      "id": "47ca0848",
      "metadata": {
        "id": "47ca0848"
      },
      "source": [
        "Podemos validar el estado de los archivos en Git:"
      ]
    },
    {
      "cell_type": "code",
      "execution_count": null,
      "id": "04feee08",
      "metadata": {
        "id": "04feee08"
      },
      "outputs": [],
      "source": [
        "!git status"
      ]
    },
    {
      "cell_type": "markdown",
      "id": "4d2f57da",
      "metadata": {
        "id": "4d2f57da"
      },
      "source": [
        "Procedemos a generar un commit:"
      ]
    },
    {
      "cell_type": "code",
      "execution_count": null,
      "id": "bee89cfe",
      "metadata": {
        "id": "bee89cfe"
      },
      "outputs": [],
      "source": [
        "!git commit -m \"Inicializamos dvc y agregamos el dataset de nombres\""
      ]
    },
    {
      "cell_type": "markdown",
      "id": "807a2ee0",
      "metadata": {
        "id": "807a2ee0"
      },
      "source": [
        "## **5. Almacenamiento Remoto de Datos**\n",
        "---\n",
        "\n",
        "Al igual que con Github, podemos usar distintas plataformas de almacenamiento para guardar de forma remota los datos. En este caso utilizaremos _Google Drive_, para poder conectarnos debemos obtener un archivo de autenticación. Comenzamos ingresando a [este enlace](https://console.cloud.google.com/) donde deberá indicar el país donde se encuentra y aceptar los términos y condiciones:\n",
        "\n",
        "<img src=\"https://drive.google.com/uc?export=view&id=1CR2uLHNpOJnxm-me2t1NnxWQFQvl7dOi\" width=\"80%\">\n",
        "\n",
        "Ahora, debe dar click sobre el botón `Seleccionar Proyecto`:\n",
        "\n",
        "<img src=\"https://drive.google.com/uc?export=view&id=1uwGJ4QelpUUXXw5plkKtvYBc_I6hncWU\" width=\"80%\">\n",
        "\n",
        "Y debe dar click sobre `Nuevo Proyecto`:\n",
        "\n",
        "<img src=\"https://drive.google.com/uc?export=view&id=174eNXXOwLzHm21gNCvb1OZmXQ_JjWhpJ\" width=\"80%\">\n",
        "\n",
        "Ahora deberá asignarle un nombre al proyecto, se sugiere que sea `mlds6`:\n",
        "\n",
        "<img src=\"https://drive.google.com/uc?export=view&id=1dmUqgDXyGcPCaVPDkxRysj-AdYH4wdj6\" width=\"80%\">\n",
        "\n",
        "Debe esperar un tiempo hasta que el proyecto se cree, seguido aparecerá una notificación en la parte superior derecha donde podrá seleccionar el proyecto recién creado:\n",
        "\n",
        "<img src=\"https://drive.google.com/uc?export=view&id=131wawVvjX_V1twWztrgg_Na8D5EsdZW0\" width=\"80%\">\n",
        "\n",
        "Ahora, debemos habilitar el uso de _Google Drive_ en el proyecto recién creado, para esto deberá ingresar en el buscador el siguiente texto `google drive api` y dar click sobre la opción con el mismo nombre:\n",
        "\n",
        "<img src=\"https://drive.google.com/uc?export=view&id=1DXNL3SvDuaTaauncocE3g3oQkoED9jQL\" width=\"80%\">\n",
        "\n",
        "Esto le permitirá habilitarla. Tambien puedes ir a el [panel de APIs](https://console.cloud.google.com/apis/dashboard) para hacer el mismo proceso:\n",
        "\n",
        "<img src=\"https://drive.google.com/uc?export=view&id=1i4EmAfR8XfFL8ag6axIbUJy9-n9HsvPc\" width=\"80%\">\n",
        "\n",
        "Ahora, debe dirigirse a la parte de credenciales dentro del API de _Google Drive_:\n",
        "\n",
        "<img src=\"https://drive.google.com/uc?export=view&id=1ou52BmExwMhMo5JHLIjq2tdI-HWjzxWa\" width=\"80%\">\n",
        "\n",
        "Debe dar click sobre `Crear Credenciales` y seleccionar la opción de cuenta de servicio. En la primera parte se le solicitará un nombre para la cuenta de servicio, se recomienda que utilice `mlds6`:\n",
        "\n",
        "<img src=\"https://drive.google.com/uc?export=view&id=1K4MYFTXizfsh3sRt__Bx7Ht37ZAJm1Mt\" width=\"80%\">\n",
        "\n",
        "> **Nota**: debajo del id que se genera automáticamente para la cuenta de servicio también aparece un correo electrónico, deberá copiar este correo para más adelante.\n",
        "\n",
        "En la segunda parte deberá agregar permisos para la cuenta de servicio, se recomienda que seleccione la opción de `Propietario`:\n",
        "\n",
        "<img src=\"https://drive.google.com/uc?export=view&id=12yTAfRmwGUUsZQ13-6xC5eyebx_vYlq_\" width=\"80%\">\n",
        "\n",
        "En la tercera parte no es necesario ingresar ningún campo, así que puede darle en continuar directamente.\n",
        "\n",
        "Ahora, debemos dirigirnos a la parte superior izquierda y dar click sobre el menú general de la consola de Google (el que tiene tres lineas horizontales) y debemos dar click sobre `IAM y Administración`:\n",
        "\n",
        "<img src=\"https://drive.google.com/uc?export=view&id=1l_E9p4_8W-F8eKX9vFOg34Uq0zRo6OXG\" width=\"80%\">\n",
        "\n",
        "En la parte de la izquierda debe seleccionar `Cuentas de Servicio`, y aquí debe aparecer la cuenta que se acabó de crear. Debe dar click sobre los tres puntos en la parte de acciones de la cuenta de servicio y seleccionar la opción `Administrar Claves`:\n",
        "\n",
        "<img src=\"https://drive.google.com/uc?export=view&id=16brbwtGPfFYCGxh6jqRBR6UdZ-_x19RR\" width=\"80%\">\n",
        "\n",
        "Ahora debe dar click en `Crear clave nueva` y descargar las credenciales en formato `json`:\n",
        "\n",
        "<img src=\"https://drive.google.com/uc?export=view&id=1DAsbmdZyNUvBtkwozPoRQynYqWCmvJA9\" width=\"80%\">\n",
        "\n",
        "**Nota**: esto descargará un archivo en formato `json` en su computador, debe renombrarlo a `credentials.json` y subirlo a _Google Colab_.\n",
        "\n",
        "Por último, vamos a crear una carpeta en drive y a copiar su id:\n",
        "\n",
        "> Nota: Tenga en cuenta que si utiliza una cuenta institucional, puede que no tenga permisos para compartir recuersos a cuentas externas, funcionalidad que será necesaria más adelante\n",
        "\n",
        "<img src=\"https://drive.google.com/uc?export=view&id=18hgHr_-Jr4o3YVAp08vhtBeIIVFP65LU\" width=\"80%\">\n",
        "\n",
        "Deberá reemplazar el id en la siguiente variable:"
      ]
    },
    {
      "cell_type": "code",
      "execution_count": null,
      "id": "5f0b2d2f",
      "metadata": {
        "id": "5f0b2d2f"
      },
      "outputs": [],
      "source": [
        "drive_id = \"...\" # reemplace aquí el id de su carpeta\n",
        "os.environ[\"DRIVEID\"] = drive_id"
      ]
    },
    {
      "cell_type": "markdown",
      "id": "db84e878",
      "metadata": {
        "id": "db84e878"
      },
      "source": [
        "Para enlazar `dvc` con drive debemos agregarlo como remoto:"
      ]
    },
    {
      "cell_type": "code",
      "execution_count": null,
      "id": "af7e4157",
      "metadata": {
        "id": "af7e4157"
      },
      "outputs": [],
      "source": [
        "!dvc remote add -d storage \"gdrive://$DRIVEID\""
      ]
    },
    {
      "cell_type": "markdown",
      "id": "3fe48e50",
      "metadata": {
        "id": "3fe48e50"
      },
      "source": [
        "Para que `dvc` pueda escribir sobre esta carpeta debemos compartirla con permisos de edición al correo de la cuenta de servicio que creamos anteriormente. En la carpeta de drive, damos compartir y copiamos la dirección creada:\n",
        "\n",
        "<img src=\"https://drive.google.com/uc?export=view&id=1J6t4m81xM166pPcSUjCCIEa0eGqqrZTB\" width=\"80%\">\n",
        "\n",
        "Y configuramos `dvc` para que se autentique en _Google Drive_ con esta cuenta de servicio:"
      ]
    },
    {
      "cell_type": "code",
      "execution_count": null,
      "id": "842c07f5",
      "metadata": {
        "id": "842c07f5"
      },
      "outputs": [],
      "source": [
        "!dvc remote modify storage gdrive_use_service_account true"
      ]
    },
    {
      "cell_type": "markdown",
      "id": "cbe02f87",
      "metadata": {
        "id": "cbe02f87"
      },
      "source": [
        "Creamos una variable de entorno para que `dvc` sepa dónde encontrar las credenciales de la cuenta de servicio:"
      ]
    },
    {
      "cell_type": "code",
      "execution_count": null,
      "id": "5f11b8b2",
      "metadata": {
        "id": "5f11b8b2"
      },
      "outputs": [],
      "source": [
        "import json\n",
        "with open(\"../credentials.json\") as f:\n",
        "    os.environ[\"GDRIVE_CREDENTIALS_DATA\"] = f.read()"
      ]
    },
    {
      "cell_type": "markdown",
      "id": "6177039b",
      "metadata": {
        "id": "6177039b"
      },
      "source": [
        "Guardamos en Git los cambios de DVC:"
      ]
    },
    {
      "cell_type": "code",
      "execution_count": null,
      "id": "8a30fd62",
      "metadata": {
        "id": "8a30fd62"
      },
      "outputs": [],
      "source": [
        "!git add .dvc/config\n",
        "!git commit -m \"Agregamos drive remoto a dvc\""
      ]
    },
    {
      "cell_type": "markdown",
      "id": "b67acec4",
      "metadata": {
        "id": "b67acec4"
      },
      "source": [
        "Para subir los datos a drive, usamos el comando `dvc push`:"
      ]
    },
    {
      "cell_type": "code",
      "execution_count": null,
      "id": "638517cd",
      "metadata": {
        "id": "638517cd"
      },
      "outputs": [],
      "source": [
        "!dvc push"
      ]
    },
    {
      "cell_type": "markdown",
      "id": "3aa3b332",
      "metadata": {
        "id": "3aa3b332"
      },
      "source": [
        "De esta forma, tendremos los datos almacenados en drive (se guardan de forma compacta, así que probablemente no los pueda leer directamente en drive).\n",
        "\n",
        "Veamos cómo podemos descargar los datos, primero eliminamos el caché de dvc y los mismos datos:"
      ]
    },
    {
      "cell_type": "code",
      "execution_count": null,
      "id": "06b0e64b",
      "metadata": {
        "id": "06b0e64b"
      },
      "outputs": [],
      "source": [
        "!rm -rf .dvc/cache\n",
        "!rm data/male.txt data/female.txt"
      ]
    },
    {
      "cell_type": "markdown",
      "id": "211b10eb",
      "metadata": {
        "id": "211b10eb"
      },
      "source": [
        "Ahora, con el comando `dvc pull` podemos descargar los datos:"
      ]
    },
    {
      "cell_type": "code",
      "execution_count": null,
      "id": "e06229c1",
      "metadata": {
        "id": "e06229c1"
      },
      "outputs": [],
      "source": [
        "!dvc pull"
      ]
    },
    {
      "cell_type": "markdown",
      "id": "0434a1df",
      "metadata": {
        "id": "0434a1df"
      },
      "source": [
        "Podemos validar que los archivos se encuentran nuevamente en el repositorio:"
      ]
    },
    {
      "cell_type": "code",
      "execution_count": null,
      "id": "822e5c98",
      "metadata": {
        "id": "822e5c98"
      },
      "outputs": [],
      "source": [
        "!tree"
      ]
    },
    {
      "cell_type": "markdown",
      "id": "255d5ea8",
      "metadata": {
        "id": "255d5ea8"
      },
      "source": [
        "Por último veamos qué pasa cuando realizamos cambios en los datos, vamos a duplicar el contenido del archivo `male.txt`. Primero veamos su tamaño original:"
      ]
    },
    {
      "cell_type": "code",
      "execution_count": null,
      "id": "13a81580",
      "metadata": {
        "id": "13a81580"
      },
      "outputs": [],
      "source": [
        "!ls -sh data/male.txt | awk '{ print $1 }'"
      ]
    },
    {
      "cell_type": "markdown",
      "id": "ca3aef94",
      "metadata": {
        "id": "ca3aef94"
      },
      "source": [
        "Ahora, lo duplicamos:"
      ]
    },
    {
      "cell_type": "code",
      "execution_count": null,
      "id": "d3c5c32a",
      "metadata": {
        "id": "d3c5c32a"
      },
      "outputs": [],
      "source": [
        "!cp data/male.txt tmp.txt\n",
        "!cat tmp.txt tmp.txt > data/male.txt\n",
        "!rm tmp.txt"
      ]
    },
    {
      "cell_type": "markdown",
      "id": "dfa0f807",
      "metadata": {
        "id": "dfa0f807"
      },
      "source": [
        "Veamos el tamaño del nuevo archivo:"
      ]
    },
    {
      "cell_type": "code",
      "execution_count": null,
      "id": "6b07c3d1",
      "metadata": {
        "id": "6b07c3d1"
      },
      "outputs": [],
      "source": [
        "!ls -sh data/male.txt | awk '{ print $1 }'"
      ]
    },
    {
      "cell_type": "markdown",
      "id": "2e545b5a",
      "metadata": {
        "id": "2e545b5a"
      },
      "source": [
        "Procedemos a actualizar el registro de este archivo:"
      ]
    },
    {
      "cell_type": "code",
      "execution_count": null,
      "id": "e60fd773",
      "metadata": {
        "id": "e60fd773"
      },
      "outputs": [],
      "source": [
        "!dvc add data/male.txt"
      ]
    },
    {
      "cell_type": "markdown",
      "id": "67d5024e",
      "metadata": {
        "id": "67d5024e"
      },
      "source": [
        "Nuevamente, debemos actualizar los cambios en Git y generar un commit:"
      ]
    },
    {
      "cell_type": "code",
      "execution_count": null,
      "id": "8bc5bc00",
      "metadata": {
        "id": "8bc5bc00"
      },
      "outputs": [],
      "source": [
        "!git add .dvc/config data/male.txt.dvc\n",
        "!git commit -m \"Cambios en male.txt\""
      ]
    },
    {
      "cell_type": "markdown",
      "id": "46f33942",
      "metadata": {
        "id": "46f33942"
      },
      "source": [
        "Subimos la nueva versión de los datos:"
      ]
    },
    {
      "cell_type": "code",
      "execution_count": null,
      "id": "7ab189b5",
      "metadata": {
        "id": "7ab189b5"
      },
      "outputs": [],
      "source": [
        "!dvc push"
      ]
    },
    {
      "cell_type": "markdown",
      "id": "486e3f0c",
      "metadata": {
        "id": "486e3f0c"
      },
      "source": [
        "## **6. Creación y Recuperación de Versiones**\n",
        "---\n",
        "\n",
        "Si deseamos volver a una versión específica de los datos, es suficiente con ir al commit de Git donde se usaron. Veamos los commits que tenemos:"
      ]
    },
    {
      "cell_type": "code",
      "execution_count": null,
      "id": "f53b95e5",
      "metadata": {
        "id": "f53b95e5"
      },
      "outputs": [],
      "source": [
        "!git log"
      ]
    },
    {
      "cell_type": "markdown",
      "id": "d4681c69",
      "metadata": {
        "id": "d4681c69"
      },
      "source": [
        "> **Nota**: el código hash será completamente diferente para usted, así que lo vamos a extraer buscando el mensaje del primer commit que realizamos."
      ]
    },
    {
      "cell_type": "code",
      "execution_count": null,
      "id": "58b3a488",
      "metadata": {
        "id": "58b3a488"
      },
      "outputs": [],
      "source": [
        "command = \"\"\"\n",
        "git --no-pager log --decorate=short --pretty=oneline |\\\n",
        "        grep -P 'Inicializamos' |\\\n",
        "        awk '{ print $1 }'\n",
        "\"\"\"\n",
        "commit = (\n",
        "        get_ipython()\n",
        "        .getoutput(command)[0]\n",
        "        )\n",
        "os.environ[\"COMMIT\"] = commit\n",
        "print(commit)"
      ]
    },
    {
      "cell_type": "markdown",
      "id": "5b788ff0",
      "metadata": {
        "id": "5b788ff0"
      },
      "source": [
        "Regresamos el repositorio a la versión inicial:"
      ]
    },
    {
      "cell_type": "code",
      "execution_count": null,
      "id": "26fe01e6",
      "metadata": {
        "id": "26fe01e6"
      },
      "outputs": [],
      "source": [
        "!git checkout \"$COMMIT\""
      ]
    },
    {
      "cell_type": "markdown",
      "id": "6859906f",
      "metadata": {
        "id": "6859906f"
      },
      "source": [
        "Para recuperar los datos en la versión de este commit, usamos `dvc checkout`:"
      ]
    },
    {
      "cell_type": "code",
      "execution_count": null,
      "id": "f696b116",
      "metadata": {
        "id": "f696b116"
      },
      "outputs": [],
      "source": [
        "!dvc checkout"
      ]
    },
    {
      "cell_type": "markdown",
      "id": "f5ba0be2",
      "metadata": {
        "id": "f5ba0be2"
      },
      "source": [
        "Podemos validar que el archivo se encuentre en su tamaño original:"
      ]
    },
    {
      "cell_type": "code",
      "execution_count": null,
      "id": "84e1ac60",
      "metadata": {
        "id": "84e1ac60"
      },
      "outputs": [],
      "source": [
        "!ls -sh data/male.txt | awk '{ print $1 }'"
      ]
    },
    {
      "cell_type": "markdown",
      "id": "80f27968",
      "metadata": {
        "id": "80f27968"
      },
      "source": [
        "Con esto podemos ver que DVC es una herramienta muy útil para aplicaciones relacionadas con datos y siguiendo la misma filosofía que Git."
      ]
    },
    {
      "cell_type": "markdown",
      "id": "a116cefb",
      "metadata": {
        "id": "a116cefb"
      },
      "source": [
        "## Recursos Adicionales\n",
        "---\n",
        "\n",
        "Los siguientes enlaces corresponden a sitios donde encontrará información muy útil para profundizar en los temas vistos en este notebook:\n",
        "\n",
        "- [DVC](https://dvc.org/)\n",
        "- [DVC: Data Versioning](https://dvc.org/doc/start/data-management/data-versioning)\n",
        "- [DVC: Data and Model Access](https://dvc.org/doc/start/data-management/data-and-model-access)"
      ]
    },
    {
      "cell_type": "markdown",
      "id": "2144ba83",
      "metadata": {
        "id": "2144ba83"
      },
      "source": [
        "## Créditos\n",
        "---\n",
        "\n",
        "**Profesor**\n",
        "\n",
        "- [Jorge E. Camargo, PhD](https://dis.unal.edu.co/~jecamargom/)\n",
        "\n",
        "**Asistente docente**:\n",
        "\n",
        "- [Juan S. Lara MSc](https://www.linkedin.com/in/juan-sebastian-lara-ramirez-43570a214/)\n",
        "\n",
        "**Diseño de imágenes:**\n",
        "- [Brian Chaparro Cetina](mailto:bchaparro@unal.edu.co).\n",
        "\n",
        "**Universidad Nacional de Colombia** - *Facultad de Ingeniería*"
      ]
    }
  ],
  "metadata": {
    "jupytext": {
      "cell_metadata_filter": "-all"
    },
    "kernelspec": {
      "display_name": "Python 3",
      "name": "python3"
    },
    "colab": {
      "provenance": [],
      "private_outputs": true,
      "include_colab_link": true
    }
  },
  "nbformat": 4,
  "nbformat_minor": 5
}