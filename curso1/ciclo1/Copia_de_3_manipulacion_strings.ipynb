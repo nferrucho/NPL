{
  "cells": [
    {
      "cell_type": "markdown",
      "metadata": {
        "id": "view-in-github",
        "colab_type": "text"
      },
      "source": [
        "<a href=\"https://colab.research.google.com/github/nferrucho/NPL/blob/main/Copia_de_3_manipulacion_strings.ipynb\" target=\"_parent\"><img src=\"https://colab.research.google.com/assets/colab-badge.svg\" alt=\"Open In Colab\"/></a>"
      ]
    },
    {
      "cell_type": "markdown",
      "id": "1208d6a1",
      "metadata": {
        "id": "1208d6a1"
      },
      "source": [
        "<img src=\"https://drive.google.com/uc?export=view&id=1pWL34MWc1rS0peIekOBe8GGBIEUFPyrG\" width=\"100%\">"
      ]
    },
    {
      "cell_type": "markdown",
      "id": "d7062d6c",
      "metadata": {
        "id": "d7062d6c"
      },
      "source": [
        "# **Manipulación de Strings Desde _Python_**\n",
        "---\n",
        "\n",
        "En este taller guiado veremos las distintas operaciones en _Python_ para manipulación de strings."
      ]
    },
    {
      "cell_type": "markdown",
      "id": "bb42f754",
      "metadata": {
        "id": "bb42f754"
      },
      "source": [
        "## **1. Tipos de Strings**\n",
        "---\n",
        "\n",
        "Existen distintas formas de definir una cadena de caracteres en _Python_, veamos algunos casos:"
      ]
    },
    {
      "cell_type": "markdown",
      "id": "0c6221a1",
      "metadata": {
        "id": "0c6221a1"
      },
      "source": [
        "### **1.1. Literales**\n",
        "---\n",
        "\n",
        "En _Python_ se pueden definir strings o cadenas de caracteres a partir de elementos conocidos como `Literal`. Por defecto un literal se puede crear a partir de comillas dobles o comillas simples.\n",
        "\n",
        "Un ejemplo con comillas dobles:"
      ]
    },
    {
      "cell_type": "code",
      "execution_count": null,
      "id": "237ef87c",
      "metadata": {
        "id": "237ef87c"
      },
      "outputs": [],
      "source": [
        "x = \"hello world\"\n",
        "print(x)"
      ]
    },
    {
      "cell_type": "markdown",
      "id": "a0fbc120",
      "metadata": {
        "id": "a0fbc120"
      },
      "source": [
        "Un ejemplo con comillas simples:"
      ]
    },
    {
      "cell_type": "code",
      "execution_count": null,
      "id": "60e17d20",
      "metadata": {
        "id": "60e17d20"
      },
      "outputs": [],
      "source": [
        "x = 'hello world'\n",
        "print(x)"
      ]
    },
    {
      "cell_type": "markdown",
      "id": "3713b946",
      "metadata": {
        "id": "3713b946"
      },
      "source": [
        "En _Python_ no importa qué tipo de comillas usemos. Ambas generan el mismo resultado.\n",
        "\n",
        "Veamos una validación:"
      ]
    },
    {
      "cell_type": "code",
      "execution_count": null,
      "id": "ff50b0b9",
      "metadata": {
        "id": "ff50b0b9"
      },
      "outputs": [],
      "source": [
        "print(\"hello world\" == 'hello world')"
      ]
    },
    {
      "cell_type": "markdown",
      "id": "d980ed18",
      "metadata": {
        "id": "d980ed18"
      },
      "source": [
        "También podemos definir literales de múltiples líneas con comillas triples:"
      ]
    },
    {
      "cell_type": "code",
      "execution_count": null,
      "id": "eb6eb39c",
      "metadata": {
        "id": "eb6eb39c"
      },
      "outputs": [],
      "source": [
        "x = \"\"\"\n",
        "hello\n",
        "world\n",
        "\"\"\"\n",
        "print(x)"
      ]
    },
    {
      "cell_type": "markdown",
      "id": "cf3f639a",
      "metadata": {
        "id": "cf3f639a"
      },
      "source": [
        "### **1.2. Tipos de Literales**\n",
        "---\n",
        "\n",
        "Existen distintas formas de definir literales dentro de _Python_:\n",
        "\n",
        "| Tipo | Descripción |\n",
        "| --- | --- |\n",
        "| `b` | Literal de tipo bytes o binario. |\n",
        "| `r` | Literal de tipo crudo o raw. |\n",
        "| `u` | Literal de tipo unicode. |\n",
        "| `f` | Literal de tipo formato. |\n",
        "| `br` | Literal de tipo bytes crudo. |\n",
        "| `fr` | Literal de tipo formato crudo. |\n",
        "\n",
        "Estos tipos de literales se usan como letras que van antes de la definición del literal. Por ejemplo, podemos definir la siguiente cadena como bytes:"
      ]
    },
    {
      "cell_type": "code",
      "execution_count": null,
      "id": "3e27c745",
      "metadata": {
        "id": "3e27c745"
      },
      "outputs": [],
      "source": [
        "val = b\"hola mundo\"\n",
        "print(val)"
      ]
    },
    {
      "cell_type": "markdown",
      "id": "befa64a4",
      "metadata": {
        "id": "befa64a4"
      },
      "source": [
        "Lo interesante de estas cadenas de bytes es que cada elemento se puede interpretar directamente como un número (correspondiente al código ascii de cada carácter):"
      ]
    },
    {
      "cell_type": "code",
      "execution_count": null,
      "id": "704e8273",
      "metadata": {
        "id": "704e8273"
      },
      "outputs": [],
      "source": [
        "print(val[0])"
      ]
    },
    {
      "cell_type": "markdown",
      "id": "0ba42adc",
      "metadata": {
        "id": "0ba42adc"
      },
      "source": [
        "El `104` es el código ASCII correspondiente a la letra `'h'`, veamos:"
      ]
    },
    {
      "cell_type": "code",
      "execution_count": null,
      "id": "22d73092",
      "metadata": {
        "id": "22d73092"
      },
      "outputs": [],
      "source": [
        "chr(104)"
      ]
    },
    {
      "cell_type": "markdown",
      "id": "56109bea",
      "metadata": {
        "id": "56109bea"
      },
      "source": [
        "También podemos definir un literal crudo con el tipo `r`:"
      ]
    },
    {
      "cell_type": "code",
      "execution_count": null,
      "id": "6b925251",
      "metadata": {
        "id": "6b925251"
      },
      "outputs": [],
      "source": [
        "val = r\"prueba de\\n sonido\"\n",
        "print(val)"
      ]
    },
    {
      "cell_type": "markdown",
      "id": "26eaf867",
      "metadata": {
        "id": "26eaf867"
      },
      "source": [
        "Los literales crudos no interpretan caracteres especiales (como el salto de línea `\\n`) que los literales por defecto sí.\n",
        "\n",
        "Veamos qué ocurre con un literal de defecto:"
      ]
    },
    {
      "cell_type": "code",
      "execution_count": null,
      "id": "32a22c7e",
      "metadata": {
        "id": "32a22c7e"
      },
      "outputs": [],
      "source": [
        "val = \"prueba de\\n sonido\"\n",
        "print(val)"
      ]
    },
    {
      "cell_type": "markdown",
      "id": "31af9635",
      "metadata": {
        "id": "31af9635"
      },
      "source": [
        "### **1.3. Caracteres especiales**\n",
        "---\n",
        "\n",
        "Como puede ver, se interpretan caracteres especiales. En especial, _Python_ maneja los siguientes caracteres especiales:\n",
        "\n",
        "| Secuencia | Descripción |\n",
        "| --- | --- |\n",
        "| `\\n` | Salto de línea |\n",
        "| `\\\\` | Backslash |\n",
        "| `\\'` | Comilla simple |\n",
        "| `\\\"` | Comillas dobles |\n",
        "| `\\b` | Backspace en ASCII |\n",
        "| `\\f` | Salto de página |\n",
        "| `\\r` | Retorno de carro |\n",
        "| `\\t` | Tabulación horizontal |\n",
        "| `\\v` | Tabulación vertical |\n",
        "| `\\xff` | Número hexadecimal FF |\n",
        "| `\\uxxxx` | Número unicode xxxx |\n",
        "\n",
        "El literal crudo `r` no interpreta ninguno de estos caracteres especiales. En el siguiente ejemplo podemos ver la diferencia:"
      ]
    },
    {
      "cell_type": "code",
      "execution_count": null,
      "id": "e8975ea1",
      "metadata": {
        "id": "e8975ea1"
      },
      "outputs": [],
      "source": [
        "val = \"Hola\\t\\t amigos \\nBuen día\"\n",
        "print(val)"
      ]
    },
    {
      "cell_type": "markdown",
      "id": "786374e3",
      "metadata": {
        "id": "786374e3"
      },
      "source": [
        "Con el literal crudo:"
      ]
    },
    {
      "cell_type": "code",
      "execution_count": null,
      "id": "34f1d664",
      "metadata": {
        "id": "34f1d664"
      },
      "outputs": [],
      "source": [
        "val = r\"Hola\\t\\t amigos \\nBuen día\"\n",
        "print(val)"
      ]
    },
    {
      "cell_type": "markdown",
      "id": "19619898",
      "metadata": {
        "id": "19619898"
      },
      "source": [
        "### **1.4. Formato de Strings**\n",
        "---\n",
        "\n",
        "<center>\n",
        "<img src = \"https://drive.google.com/uc?export=view&id=1-wGLYXQRNoqf_d8A3zjl2LAE1Z9Jdh7n\" alt = \"Cadenas con formato\" width = \"50%\"></img>\n",
        "</center>\n",
        "\n",
        "Los f-strings o literales de formato presentan una forma rápida de dar formato a un literal a partir de una variable ya existente. Por ejemplo, si queremos reemplazar el valor de la variable `x` dentro del literal de formato (literal string interpolation), hacemos uso de las llaves `{}` y dentro de ellas especificamos el nombre de la variable que será sustituida en ese espacio, así:\n"
      ]
    },
    {
      "cell_type": "code",
      "execution_count": null,
      "id": "2aa68d7c",
      "metadata": {
        "id": "2aa68d7c"
      },
      "outputs": [],
      "source": [
        "name = \"Juan\"\n",
        "val = f\"Mi nombre es {name}\"\n",
        "print(val)"
      ]
    },
    {
      "cell_type": "markdown",
      "id": "3631a45a",
      "metadata": {
        "id": "3631a45a"
      },
      "source": [
        "Con los f-strings podemos dar formato a valores numéricos para su impresión. Esto se consigue usando el operador `:` sobre la variable que se sustituirá y especificando el tipo de formato a aplicar.\n",
        "\n",
        "<center>\n",
        "<img src = \"https://drive.google.com/uc?export=view&id=1oh7PbiOai4df3xomv3tQbdBUzwxhxPIQ\" alt = \"Cadenas con formato\" width = \"60%\">  </img>\n",
        "</center>\n",
        "\n",
        "Por ejemplo, formateamos un número decimal con 2 cifras decimales:"
      ]
    },
    {
      "cell_type": "code",
      "execution_count": null,
      "id": "ec059d89",
      "metadata": {
        "id": "ec059d89"
      },
      "outputs": [],
      "source": [
        "number = 1245.67810\n",
        "print(number)"
      ]
    },
    {
      "cell_type": "markdown",
      "id": "804b0ff2",
      "metadata": {
        "id": "804b0ff2"
      },
      "source": [
        "Veamos el ejemplo luego del formato con f-strings, aplicando el formato `.2f` (dos cifras de punto flotante)."
      ]
    },
    {
      "cell_type": "code",
      "execution_count": null,
      "id": "9e50eaff",
      "metadata": {
        "id": "9e50eaff"
      },
      "outputs": [],
      "source": [
        "num_str = f\"{number:.2f}\"\n",
        "print(num_str)"
      ]
    },
    {
      "cell_type": "markdown",
      "id": "0f3147e1",
      "metadata": {
        "id": "0f3147e1"
      },
      "source": [
        "También es posible acotar el ancho del valor (en este caso 10) que se formatea y si se debe justificar a izquierda (<) o derecha (>)."
      ]
    },
    {
      "cell_type": "code",
      "execution_count": null,
      "id": "50188c98",
      "metadata": {
        "id": "50188c98"
      },
      "outputs": [],
      "source": [
        "names = [\"Pedro\", \"Miguel\", \"Anapolo\", \"Anacleto\"]\n",
        "for name in names:\n",
        "    print(f\"this is {name:>10}\")"
      ]
    },
    {
      "cell_type": "markdown",
      "id": "7961af2f",
      "metadata": {
        "id": "7961af2f"
      },
      "source": [
        "**NOTA:** Puede encontrar más información de interés acerca de f-strings en los siguientes enlaces:\n",
        "* [PEP 0498: f-strings](https://peps.python.org/pep-0498/)\n",
        "* [Python 3's f-strings: an improved string formatting syntax (guide)](https://realpython.com/python-f-strings/)\n"
      ]
    },
    {
      "cell_type": "markdown",
      "id": "ea5c6671",
      "metadata": {
        "id": "ea5c6671"
      },
      "source": [
        "## **2. Operaciones con Strings**\n",
        "---\n",
        "\n",
        "Los strings en _Python_ son elementos inmutables, es decir, no podemos modificar sus valores de no ser que creemos un nuevo elemento (copiado) con las modificaciones.\n",
        "\n",
        "Por ello, no es posible asignar valores sobre una cadena de caracteres en _Python_ como el error que se muestra a continuación:"
      ]
    },
    {
      "cell_type": "code",
      "execution_count": null,
      "id": "609997bc",
      "metadata": {
        "id": "609997bc"
      },
      "outputs": [],
      "source": [
        "x = \"hola mundo\"\n",
        "try:\n",
        "    x[0] = 'a'\n",
        "except Exception as e:\n",
        "    print(e)"
      ]
    },
    {
      "cell_type": "markdown",
      "id": "0de5f55f",
      "metadata": {
        "id": "0de5f55f"
      },
      "source": [
        "Por esto mismo, es importante entender los tipos de operaciones que podemos realizar sobre este tipo de datos. Veamos algunas de ellas:"
      ]
    },
    {
      "cell_type": "markdown",
      "id": "75f75906",
      "metadata": {
        "id": "75f75906"
      },
      "source": [
        "### **2.1. Concatenación**\n",
        "---\n",
        "\n",
        "Podemos concatenar cadenas de caracteres con el operador suma:"
      ]
    },
    {
      "cell_type": "code",
      "execution_count": null,
      "id": "b0943bf4",
      "metadata": {
        "id": "b0943bf4"
      },
      "outputs": [],
      "source": [
        "x = \"hola \" + \"a \" + \"todos.\"\n",
        "print(x)"
      ]
    },
    {
      "cell_type": "markdown",
      "id": "5651a3e8",
      "metadata": {
        "id": "5651a3e8"
      },
      "source": [
        "### **2.2. Comparación**\n",
        "---\n",
        "\n",
        "Podemos comparar dos cadenas de caracteres con el operador de igualdad `==`, note que los strings son sensibles a minúsculas:"
      ]
    },
    {
      "cell_type": "code",
      "execution_count": null,
      "id": "1992c498",
      "metadata": {
        "id": "1992c498"
      },
      "outputs": [],
      "source": [
        "x = \"hola\"\n",
        "y = \"Hola\"\n",
        "print(x == y)"
      ]
    },
    {
      "cell_type": "markdown",
      "id": "47a16ea9",
      "metadata": {
        "id": "47a16ea9"
      },
      "source": [
        "### **2.3. Contiene**\n",
        "---\n",
        "\n",
        "Podemos validar si una subcadena está contenida en una cadena con el operador `in`:"
      ]
    },
    {
      "cell_type": "code",
      "execution_count": null,
      "id": "f626f278",
      "metadata": {
        "id": "f626f278"
      },
      "outputs": [],
      "source": [
        "x = \"hola\"\n",
        "y = \"hola mundo\"\n",
        "print(x in y)"
      ]
    },
    {
      "cell_type": "markdown",
      "id": "07cf3857",
      "metadata": {
        "id": "07cf3857"
      },
      "source": [
        "### **2.4. Creación**\n",
        "---\n",
        "\n",
        "Podemos crear una cadena de caracteres a partir de cualquier variable en _Python_ con la función `str`:"
      ]
    },
    {
      "cell_type": "code",
      "execution_count": null,
      "id": "4a669de5",
      "metadata": {
        "id": "4a669de5"
      },
      "outputs": [],
      "source": [
        "x = 1.5\n",
        "x_str = str(x)"
      ]
    },
    {
      "cell_type": "markdown",
      "id": "b17e47a7",
      "metadata": {
        "id": "b17e47a7"
      },
      "source": [
        "Veamos el tipo de la nueva variable:"
      ]
    },
    {
      "cell_type": "code",
      "execution_count": null,
      "id": "f6dc394b",
      "metadata": {
        "id": "f6dc394b"
      },
      "outputs": [],
      "source": [
        "print(type(x_str))"
      ]
    },
    {
      "cell_type": "markdown",
      "id": "4d9aa4f4",
      "metadata": {
        "id": "4d9aa4f4"
      },
      "source": [
        "Veamos su valor:"
      ]
    },
    {
      "cell_type": "code",
      "execution_count": null,
      "id": "ca174216",
      "metadata": {
        "id": "ca174216"
      },
      "outputs": [],
      "source": [
        "print(x_str)"
      ]
    },
    {
      "cell_type": "markdown",
      "id": "5480783a",
      "metadata": {
        "id": "5480783a"
      },
      "source": [
        "### **2.5. Conversión**\n",
        "---\n",
        "\n",
        "Podemos convertir un string en otro tipo de variable con las funciones de los tipos correspondientes (por ejemplo: `int`, `float`):"
      ]
    },
    {
      "cell_type": "code",
      "execution_count": null,
      "id": "0952f2ac",
      "metadata": {
        "id": "0952f2ac"
      },
      "outputs": [],
      "source": [
        "x = \"3.500\"\n",
        "x_float = float(x)"
      ]
    },
    {
      "cell_type": "markdown",
      "id": "178dd18b",
      "metadata": {
        "id": "178dd18b"
      },
      "source": [
        "Veamos el tipo de la nueva variable:"
      ]
    },
    {
      "cell_type": "code",
      "execution_count": null,
      "id": "82462006",
      "metadata": {
        "id": "82462006"
      },
      "outputs": [],
      "source": [
        "print(type(x_float))"
      ]
    },
    {
      "cell_type": "markdown",
      "id": "1c5c2a72",
      "metadata": {
        "id": "1c5c2a72"
      },
      "source": [
        "Veamos su valor:"
      ]
    },
    {
      "cell_type": "code",
      "execution_count": null,
      "id": "789a3615",
      "metadata": {
        "id": "789a3615"
      },
      "outputs": [],
      "source": [
        "print(x_float)"
      ]
    },
    {
      "cell_type": "markdown",
      "id": "c437e81c",
      "metadata": {
        "id": "c437e81c"
      },
      "source": [
        "### **2.6. Indexación**\n",
        "---\n",
        "\n",
        "La indexación sobre strings funciona de la misma forma como cualquier iterable en _Python_. La notación es la siguiente:\n",
        "\n",
        "```python\n",
        "x[inicio:fin:salto]\n",
        "```\n",
        "\n",
        "Donde seleccionamos desde la posición `inicio`, hasta la posición `fin` dando saltos de un número de veces determinado por `salto`. Si no se especifica explícitamente alguno de estos valores, tomarán los siguientes valores por defecto:\n",
        "- `inicio`: 0\n",
        "- `fin`: longitud de la cadena\n",
        "- `salto`: 1\n",
        "\n",
        "Por ejemplo, la siguiente cadena tiene un mensaje oculto que podemos extraer dando saltos de a dos:"
      ]
    },
    {
      "cell_type": "code",
      "execution_count": null,
      "id": "a0e283d7",
      "metadata": {
        "id": "a0e283d7"
      },
      "outputs": [],
      "source": [
        "x = \"m1e2n3s4a5j6e\""
      ]
    },
    {
      "cell_type": "markdown",
      "id": "56547f4f",
      "metadata": {
        "id": "56547f4f"
      },
      "source": [
        "Podemos obtener la longitud de la cadena de caracteres con la función `len`, para saber hasta dónde podemos indexar:"
      ]
    },
    {
      "cell_type": "code",
      "execution_count": null,
      "id": "c8cce5aa",
      "metadata": {
        "id": "c8cce5aa"
      },
      "outputs": [],
      "source": [
        "print(len(x))"
      ]
    },
    {
      "cell_type": "markdown",
      "id": "77ed359c",
      "metadata": {
        "id": "77ed359c"
      },
      "source": [
        "Veamos el mensaje:"
      ]
    },
    {
      "cell_type": "code",
      "execution_count": null,
      "id": "81225489",
      "metadata": {
        "id": "81225489"
      },
      "outputs": [],
      "source": [
        "print(x[0:13:2])"
      ]
    },
    {
      "cell_type": "markdown",
      "id": "730b9d22",
      "metadata": {
        "id": "730b9d22"
      },
      "source": [
        "Usando los valores por defecto para `inicio` y `fin`:"
      ]
    },
    {
      "cell_type": "code",
      "execution_count": null,
      "id": "ee735dff",
      "metadata": {
        "id": "ee735dff"
      },
      "outputs": [],
      "source": [
        "print(x[::2])"
      ]
    },
    {
      "cell_type": "markdown",
      "id": "785bfb8f",
      "metadata": {
        "id": "785bfb8f"
      },
      "source": [
        "También podemos extraer los números si comenzamos a indexar desde la posición 1:"
      ]
    },
    {
      "cell_type": "code",
      "execution_count": null,
      "id": "7ba6c374",
      "metadata": {
        "id": "7ba6c374"
      },
      "outputs": [],
      "source": [
        "print(x[1::2])"
      ]
    },
    {
      "cell_type": "markdown",
      "id": "c6d9dc83",
      "metadata": {
        "id": "c6d9dc83"
      },
      "source": [
        "### **2.7. Iterables**\n",
        "---\n",
        "\n",
        "Las cadenas de caracteres se pueden iterar como cualquier elemento iterable en _Python_, por ejemplo, con ciclos `for`:"
      ]
    },
    {
      "cell_type": "code",
      "execution_count": null,
      "id": "50afcf52",
      "metadata": {
        "id": "50afcf52"
      },
      "outputs": [],
      "source": [
        "for letter in x:\n",
        "    print(letter)"
      ]
    },
    {
      "cell_type": "markdown",
      "id": "ae39ba14",
      "metadata": {
        "id": "ae39ba14"
      },
      "source": [
        "También es posible convertirlas a otros elementos iterables como listas:"
      ]
    },
    {
      "cell_type": "code",
      "execution_count": null,
      "id": "302771ac",
      "metadata": {
        "id": "302771ac"
      },
      "outputs": [],
      "source": [
        "print(list(x))"
      ]
    },
    {
      "cell_type": "markdown",
      "id": "e794ebfd",
      "metadata": {
        "id": "e794ebfd"
      },
      "source": [
        "Una operación interesante es la creación de un conjunto (`set`) a partir de una cadena de caracteres. Esto permite extraer los caracteres únicos de la cadena:"
      ]
    },
    {
      "cell_type": "code",
      "execution_count": null,
      "id": "76f32227",
      "metadata": {
        "id": "76f32227"
      },
      "outputs": [],
      "source": [
        "print(set(x))"
      ]
    },
    {
      "cell_type": "markdown",
      "id": "31cfd477",
      "metadata": {
        "id": "31cfd477"
      },
      "source": [
        "## **3. Métodos de Strings**\n",
        "---\n",
        "\n",
        "Existen distintos métodos que pueden ser utilizados con los strings. Muchos de estos son sumamente importantes para la transformación y preprocesamiento de información textual. En este caso los dividiremos en dos: **métodos generales** y **métodos avanzados**."
      ]
    },
    {
      "cell_type": "markdown",
      "id": "0b9f45bb",
      "metadata": {
        "id": "0b9f45bb"
      },
      "source": [
        "### **3.1. Métodos Generales**\n",
        "---\n",
        "\n",
        "Los métodos generales son aquellos que se usan muy frecuentemente y además son muy típicos en procesamiento de lenguaje natural. Entre ellos estaremos viendo los siguientes:\n",
        "\n",
        "* Modificación de la grafía.\n",
        "* Validaciones.\n",
        "* Separación.\n",
        "* Unión."
      ]
    },
    {
      "cell_type": "markdown",
      "id": "1c7890ce",
      "metadata": {
        "id": "1c7890ce"
      },
      "source": [
        "#### **3.1.1. Modificación de la grafía**\n",
        "---\n",
        "<center>\n",
        "<img src = \"https://drive.google.com/uc?export=view&id=15FCWTlCuEQkmuiT8uYUssJDIZJMxUecG\" alt = \"Cadenas con formato\" width = \"60%\">  </img>\n",
        "</center>\n",
        "\n",
        "Los strings pueden modificar su grafía con distintos métodos, veamos algunos ejemplos sobre la siguiente cadena de caracteres:"
      ]
    },
    {
      "cell_type": "code",
      "execution_count": null,
      "id": "7e6c63d5",
      "metadata": {
        "id": "7e6c63d5"
      },
      "outputs": [],
      "source": [
        "x = \"HeLlo wOrld\""
      ]
    },
    {
      "cell_type": "markdown",
      "id": "01f0ce28",
      "metadata": {
        "id": "01f0ce28"
      },
      "source": [
        "Si deseamos convertir esta cadena de caracteres a minúsculas, podemos usar el método `lower`:"
      ]
    },
    {
      "cell_type": "code",
      "execution_count": null,
      "id": "8c71d83b",
      "metadata": {
        "id": "8c71d83b"
      },
      "outputs": [],
      "source": [
        "print(x.lower())"
      ]
    },
    {
      "cell_type": "markdown",
      "id": "11bd13fd",
      "metadata": {
        "id": "11bd13fd"
      },
      "source": [
        "También podemos convertirlo todo a mayúsculas con el método `upper`"
      ]
    },
    {
      "cell_type": "code",
      "execution_count": null,
      "id": "3805ab67",
      "metadata": {
        "id": "3805ab67"
      },
      "outputs": [],
      "source": [
        "print(x.upper())"
      ]
    },
    {
      "cell_type": "markdown",
      "id": "3c404cd1",
      "metadata": {
        "id": "3c404cd1"
      },
      "source": [
        "El texto se puede capitalizar (primera letra en mayúscula, el resto en minúscula) con el método `capitalize`:"
      ]
    },
    {
      "cell_type": "code",
      "execution_count": null,
      "id": "28f32e2f",
      "metadata": {
        "id": "28f32e2f"
      },
      "outputs": [],
      "source": [
        "print(x.capitalize())"
      ]
    },
    {
      "cell_type": "markdown",
      "id": "c20105fd",
      "metadata": {
        "id": "c20105fd"
      },
      "source": [
        "También es posible capitalizar cada palabra con el método `title`:"
      ]
    },
    {
      "cell_type": "code",
      "execution_count": null,
      "id": "4fc71f8f",
      "metadata": {
        "lines_to_next_cell": 1,
        "id": "4fc71f8f"
      },
      "outputs": [],
      "source": [
        "print(x.title())"
      ]
    },
    {
      "cell_type": "markdown",
      "id": "5f52abba",
      "metadata": {
        "id": "5f52abba"
      },
      "source": [
        "#### **3.1.2. Validaciones**\n",
        "---\n",
        "\n",
        "Podemos validar si una cadena de caracteres cumple determinadas condiciones. Algunas de estas operaciones son:\n",
        "\n",
        "| Método | Descripción |\n",
        "| --- | --- |\n",
        "| `isascii` | Valida si todos los caracteres son ascii. |\n",
        "| `isnumeric` | Valida si todos los caracteres son números. |\n",
        "| `islower` | Valida si todos los caracteres son minúsculas. |\n",
        "| `isupper` | Valida si todos los caracteres son mayúsculas. |\n",
        "| `istitle` | Valida si todas las palabras están capitalizadas. |\n",
        "| `isalnum` | Valida si todos los caracteres son alfanuméricos. |\n",
        "| `isspace` | Valida si todos los caracteres son espacios. |\n",
        "\n",
        "Por ejemplo, podemos validar si una variable se encuentra en minúsculas para convertirla si no lo está:"
      ]
    },
    {
      "cell_type": "code",
      "execution_count": null,
      "id": "9cd2742e",
      "metadata": {
        "lines_to_next_cell": 1,
        "id": "9cd2742e"
      },
      "outputs": [],
      "source": [
        "def convert_lower(x):\n",
        "    if x.islower():\n",
        "        return x\n",
        "    else:\n",
        "        return x.lower()"
      ]
    },
    {
      "cell_type": "markdown",
      "id": "91d9664c",
      "metadata": {
        "id": "91d9664c"
      },
      "source": [
        "Veamos un ejemplo de esta función:"
      ]
    },
    {
      "cell_type": "code",
      "execution_count": null,
      "id": "b851ef13",
      "metadata": {
        "id": "b851ef13"
      },
      "outputs": [],
      "source": [
        "x = \"Hello world\"\n",
        "print(convert_lower(x))"
      ]
    },
    {
      "cell_type": "code",
      "execution_count": null,
      "id": "f9df1507",
      "metadata": {
        "id": "f9df1507"
      },
      "outputs": [],
      "source": [
        "x = \"hello world\"\n",
        "print(convert_lower(x))"
      ]
    },
    {
      "cell_type": "markdown",
      "id": "ced001cc",
      "metadata": {
        "id": "ced001cc"
      },
      "source": [
        "#### **3.1.3. Separación**\n",
        "---\n",
        "\n",
        "Podemos dividir una cadena de caracteres usando el método `split`.\n",
        "\n",
        "Veamos un ejemplo donde dividimos una cadena por espacios para obtener las palabras:"
      ]
    },
    {
      "cell_type": "code",
      "execution_count": null,
      "id": "c5f62e71",
      "metadata": {
        "id": "c5f62e71"
      },
      "outputs": [],
      "source": [
        "x = \"Alan Mathison Turing fue un matemático, lógico, informático teórico, criptógrafo, filósofo y biólogo teórico británico\""
      ]
    },
    {
      "cell_type": "markdown",
      "id": "57b0dbea",
      "metadata": {
        "id": "57b0dbea"
      },
      "source": [
        "Por defecto el método `split` divide por espacios:"
      ]
    },
    {
      "cell_type": "code",
      "execution_count": null,
      "id": "58ed3bb3",
      "metadata": {
        "id": "58ed3bb3"
      },
      "outputs": [],
      "source": [
        "print(x.split())"
      ]
    },
    {
      "cell_type": "markdown",
      "id": "61a5c649",
      "metadata": {
        "id": "61a5c649"
      },
      "source": [
        "Esta operación es equivalente al `split(\" \")` cuando se específica el espacio:"
      ]
    },
    {
      "cell_type": "code",
      "execution_count": null,
      "id": "40eff7c5",
      "metadata": {
        "id": "40eff7c5"
      },
      "outputs": [],
      "source": [
        "print(x.split(\" \"))"
      ]
    },
    {
      "cell_type": "markdown",
      "id": "33374d7c",
      "metadata": {
        "id": "33374d7c"
      },
      "source": [
        "También es posible separar la cadena usando otros separadores, por ejemplo con una coma:"
      ]
    },
    {
      "cell_type": "code",
      "execution_count": null,
      "id": "27476284",
      "metadata": {
        "id": "27476284"
      },
      "outputs": [],
      "source": [
        "print(x.split(\",\"))"
      ]
    },
    {
      "cell_type": "markdown",
      "id": "27503033",
      "metadata": {
        "id": "27503033"
      },
      "source": [
        "Un método de separación bastante útil para la limpieza de textos es el método `strip`, el cual permite eliminar caracteres sobrantes al inicio y al final de una cadena de caracteres (por defecto usa espacios en blanco). Por ejemplo:"
      ]
    },
    {
      "cell_type": "code",
      "execution_count": null,
      "id": "60856687",
      "metadata": {
        "id": "60856687"
      },
      "outputs": [],
      "source": [
        "x = \"\"\"\n",
        "\n",
        "\n",
        "hello world\n",
        "\n",
        "\n",
        "\n",
        "\"\"\"\n",
        "print(x)"
      ]
    },
    {
      "cell_type": "markdown",
      "id": "148063c4",
      "metadata": {
        "id": "148063c4"
      },
      "source": [
        "Al usar el método `strip`:"
      ]
    },
    {
      "cell_type": "code",
      "execution_count": null,
      "id": "51ade4a9",
      "metadata": {
        "id": "51ade4a9"
      },
      "outputs": [],
      "source": [
        "print(x.strip())"
      ]
    },
    {
      "cell_type": "markdown",
      "id": "bccb9b9b",
      "metadata": {
        "id": "bccb9b9b"
      },
      "source": [
        "También puede usarse con otros caracteres, por ejemplo:"
      ]
    },
    {
      "cell_type": "code",
      "execution_count": null,
      "id": "de264885",
      "metadata": {
        "id": "de264885"
      },
      "outputs": [],
      "source": [
        "x = \"---hello---\""
      ]
    },
    {
      "cell_type": "markdown",
      "id": "2d6c30a3",
      "metadata": {
        "id": "2d6c30a3"
      },
      "source": [
        "Si le damos al método `strip` el caracter `\"-\"` como argumento, vemos cómo se eliminan los valores del inicio y del final:"
      ]
    },
    {
      "cell_type": "code",
      "execution_count": null,
      "id": "a06604f7",
      "metadata": {
        "id": "a06604f7"
      },
      "outputs": [],
      "source": [
        "print(x.strip(\"-\"))"
      ]
    },
    {
      "cell_type": "markdown",
      "id": "e4985d74",
      "metadata": {
        "id": "e4985d74"
      },
      "source": [
        "#### **3.1.4. Unión**\n",
        "---\n",
        "\n",
        "El método `join` permite concatenar distintas cadenas de caracteres usando el string original como separador. Por ejemplo:"
      ]
    },
    {
      "cell_type": "code",
      "execution_count": null,
      "id": "ef2eb24f",
      "metadata": {
        "id": "ef2eb24f"
      },
      "outputs": [],
      "source": [
        "x = [\"este\", \"es\", \"un\", \"mensaje\"]"
      ]
    },
    {
      "cell_type": "markdown",
      "id": "a72e010c",
      "metadata": {
        "id": "a72e010c"
      },
      "source": [
        "Podemos unir las palabras separándolas por espacios:"
      ]
    },
    {
      "cell_type": "code",
      "execution_count": null,
      "id": "f076fc62",
      "metadata": {
        "id": "f076fc62"
      },
      "outputs": [],
      "source": [
        "print(\" \".join(x))"
      ]
    },
    {
      "cell_type": "markdown",
      "id": "3d333496",
      "metadata": {
        "id": "3d333496"
      },
      "source": [
        "También podemos unirlas por otros separadores más elaborados:"
      ]
    },
    {
      "cell_type": "code",
      "execution_count": null,
      "id": "69297a81",
      "metadata": {
        "id": "69297a81"
      },
      "outputs": [],
      "source": [
        "print(\", \".join(x))"
      ]
    },
    {
      "cell_type": "markdown",
      "id": "9d2c3af0",
      "metadata": {
        "id": "9d2c3af0"
      },
      "source": [
        "### **3.2. Métodos Avanzados**\n",
        "---\n",
        "\n",
        "Los métodos avanzados son una serie de procedimientos que se usan en algunas aplicaciones muy específicas, en este caso veremos:\n",
        "\n",
        "* Búsquedas.\n",
        "* Reemplazos.\n",
        "* Conteos.\n",
        "* Codificaciones."
      ]
    },
    {
      "cell_type": "markdown",
      "id": "5668cb53",
      "metadata": {
        "id": "5668cb53"
      },
      "source": [
        "#### **3.2.1. Búsquedas**\n",
        "---\n",
        "\n",
        "Podemos buscar el índice donde se encuentra una subcadena dentro de la cadena original con el método `find`:"
      ]
    },
    {
      "cell_type": "code",
      "execution_count": null,
      "id": "6b1cf5e8",
      "metadata": {
        "id": "6b1cf5e8"
      },
      "outputs": [],
      "source": [
        "x = \"hola mundo\""
      ]
    },
    {
      "cell_type": "markdown",
      "id": "0a51a92b",
      "metadata": {
        "id": "0a51a92b"
      },
      "source": [
        "Veamos el índice donde aparece la subcadena `\"hola\"`:"
      ]
    },
    {
      "cell_type": "code",
      "execution_count": null,
      "id": "0c4b257a",
      "metadata": {
        "id": "0c4b257a"
      },
      "outputs": [],
      "source": [
        "x.find(\"hola\")"
      ]
    },
    {
      "cell_type": "markdown",
      "id": "ca150287",
      "metadata": {
        "id": "ca150287"
      },
      "source": [
        "Ahora veamos el índice donde aparece la subcadena \"mundo\":"
      ]
    },
    {
      "cell_type": "code",
      "execution_count": null,
      "id": "bfbf75b7",
      "metadata": {
        "id": "bfbf75b7"
      },
      "outputs": [],
      "source": [
        "x.find(\"mundo\")"
      ]
    },
    {
      "cell_type": "markdown",
      "id": "a7288073",
      "metadata": {
        "id": "a7288073"
      },
      "source": [
        "Si una subcadena no se encuentra contenida en la cadena de texto, el resultado será -1:"
      ]
    },
    {
      "cell_type": "code",
      "execution_count": null,
      "id": "de746e8b",
      "metadata": {
        "id": "de746e8b"
      },
      "outputs": [],
      "source": [
        "x.find(\"inv\")"
      ]
    },
    {
      "cell_type": "markdown",
      "id": "f51a459b",
      "metadata": {
        "id": "f51a459b"
      },
      "source": [
        "#### **3.2.2. Reemplazos**\n",
        "---\n",
        "\n",
        "Es posible crear una nueva cadena de caracteres reemplazando una subcadena por otra. Por ejemplo, tenemos la siguiente secuencia separada por comas:"
      ]
    },
    {
      "cell_type": "code",
      "execution_count": null,
      "id": "59918127",
      "metadata": {
        "id": "59918127"
      },
      "outputs": [],
      "source": [
        "x = \"1,2,3,4,5,6,7\""
      ]
    },
    {
      "cell_type": "markdown",
      "id": "8524d231",
      "metadata": {
        "id": "8524d231"
      },
      "source": [
        "Con el método `replace` podemos sustituir la coma por otro separador como `\";\"`:"
      ]
    },
    {
      "cell_type": "code",
      "execution_count": null,
      "id": "a33c841d",
      "metadata": {
        "id": "a33c841d"
      },
      "outputs": [],
      "source": [
        "print(x.replace(\",\", \";\"))"
      ]
    },
    {
      "cell_type": "markdown",
      "id": "12f84e26",
      "metadata": {
        "id": "12f84e26"
      },
      "source": [
        "#### **3.2.3. Conteos**\n",
        "---\n",
        "\n",
        "Podemos contar el número de ocurrencias que tenga una subcadena dentro de la cadena original con el método `count`. Por ejemplo, vamos a tomar un segmento de la cadena de ADN de un chimpancé:\n",
        "\n",
        "<center>\n",
        "<img src = \"https://drive.google.com/uc?export=view&id=14s4lGvHgccbfgG0iSTnSfSvBut6dNfyf\" alt = \"Cadenas con formato\" width = \"100%\">  </img>\n",
        "</center>"
      ]
    },
    {
      "cell_type": "code",
      "execution_count": null,
      "id": "5d41971c",
      "metadata": {
        "id": "5d41971c"
      },
      "outputs": [],
      "source": [
        "dna = \"ATGCCCCAACTAAATACCGCCGTATGACCCACCATAATTACCCCCATACTCCTGACACTATTTCTCGTCACCCAACTAAAAATATTAAATTCAAATTACCATCTACCCCCCTCACCAAAACCCATAAAAATAAAAAACTACAATAAACCCTGAGAACCAAAATGAACGAAAATCTATTCGCTTCATTCGCTGCCCCCACAATCCTAG\""
      ]
    },
    {
      "cell_type": "markdown",
      "id": "ed38ac81",
      "metadata": {
        "id": "ed38ac81"
      },
      "source": [
        "Con la función `count` podemos saber la cantidad de bases, por ejemplo, de adenina (`\"A\"`):"
      ]
    },
    {
      "cell_type": "code",
      "execution_count": null,
      "id": "34b92f4e",
      "metadata": {
        "id": "34b92f4e"
      },
      "outputs": [],
      "source": [
        "dna.count(\"A\")"
      ]
    },
    {
      "cell_type": "markdown",
      "id": "3effb0cd",
      "metadata": {
        "id": "3effb0cd"
      },
      "source": [
        "Podemos generar una gráfica donde veamos los conteos de las distintas bases en esta secuencia.\n",
        "\n",
        "Primero sacamos las bases únicas, usando la función `set` como vimos anteriormente:"
      ]
    },
    {
      "cell_type": "code",
      "execution_count": null,
      "id": "c463fb2b",
      "metadata": {
        "id": "c463fb2b"
      },
      "outputs": [],
      "source": [
        "bases = list(set(dna))\n",
        "print(bases)"
      ]
    },
    {
      "cell_type": "markdown",
      "id": "4e8d4e0c",
      "metadata": {
        "id": "4e8d4e0c"
      },
      "source": [
        "Ahora, extraemos los conteos para cada una de las bases:"
      ]
    },
    {
      "cell_type": "code",
      "execution_count": null,
      "id": "a47f52ae",
      "metadata": {
        "id": "a47f52ae"
      },
      "outputs": [],
      "source": [
        "counts = [dna.count(base) for base in bases]"
      ]
    },
    {
      "cell_type": "markdown",
      "id": "c0d5f0b3",
      "metadata": {
        "id": "c0d5f0b3"
      },
      "source": [
        "Finalmente, generamos un gráfico con `matplotlib`:"
      ]
    },
    {
      "cell_type": "code",
      "execution_count": null,
      "id": "ade98ee8",
      "metadata": {
        "id": "ade98ee8"
      },
      "outputs": [],
      "source": [
        "import matplotlib.pyplot as plt\n",
        "fig, ax = plt.subplots()\n",
        "ax.bar(bases, counts)\n",
        "ax.set_xlabel(\"Bases\")\n",
        "ax.set_ylabel(\"Conteos\");"
      ]
    },
    {
      "cell_type": "markdown",
      "id": "6936ac95",
      "metadata": {
        "id": "6936ac95"
      },
      "source": [
        "#### **3.2.4. Codificaciones**\n",
        "---\n",
        "\n",
        "Es posible cambiar la codificación de los literales usando métodos como `encode`, así mismo, se puede cambiar la codificación de literales binarios con métodos como `decode`. Veamos un ejemplo:"
      ]
    },
    {
      "cell_type": "code",
      "execution_count": null,
      "id": "7ba02864",
      "metadata": {
        "id": "7ba02864"
      },
      "outputs": [],
      "source": [
        "x = \"\\xff\\x2201234\""
      ]
    },
    {
      "cell_type": "markdown",
      "id": "ffab4fb6",
      "metadata": {
        "id": "ffab4fb6"
      },
      "source": [
        "Codificamos esta cadena con el esquema `charmap` (ascii) y el método `encode`:"
      ]
    },
    {
      "cell_type": "code",
      "execution_count": null,
      "id": "958084e1",
      "metadata": {
        "id": "958084e1"
      },
      "outputs": [],
      "source": [
        "x_enc = x.encode(\"charmap\")\n",
        "print(x_enc)"
      ]
    },
    {
      "cell_type": "markdown",
      "id": "08091e40",
      "metadata": {
        "id": "08091e40"
      },
      "source": [
        "Note que la variable `x_enc` ahora es de tipo `bytes` y no `str`:"
      ]
    },
    {
      "cell_type": "code",
      "execution_count": null,
      "id": "53eb5dd4",
      "metadata": {
        "id": "53eb5dd4"
      },
      "outputs": [],
      "source": [
        "print(type(x_enc))"
      ]
    },
    {
      "cell_type": "markdown",
      "id": "9eea5642",
      "metadata": {
        "id": "9eea5642"
      },
      "source": [
        "Podemos decodificar el valor, con el método `decode`:"
      ]
    },
    {
      "cell_type": "code",
      "execution_count": null,
      "id": "d8aa5611",
      "metadata": {
        "id": "d8aa5611"
      },
      "outputs": [],
      "source": [
        "x_rec = x_enc.decode(\"charmap\")\n",
        "print(x_rec)"
      ]
    },
    {
      "cell_type": "markdown",
      "id": "de74225f",
      "metadata": {
        "id": "de74225f"
      },
      "source": [
        "Note cómo obtuvimos una decodificación como caracteres de números que fueron definidos como hexadecimales.\n",
        "\n",
        "> **NOTA**: Puede consultar otros tipos de codecs (codificaciones) en [este enlace](https://docs.python.org/3.11/library/codecs.html#standard-encodings)."
      ]
    },
    {
      "cell_type": "markdown",
      "id": "59c8b032",
      "metadata": {
        "id": "59c8b032"
      },
      "source": [
        "## **Recursos Adicionales**\n",
        "---\n",
        "\n",
        "Los siguientes enlaces corresponden a sitios donde encontrará información muy útil para profundizar en los temas vistos en este notebook:\n",
        "\n",
        "* [Lexical Analysis in Python](https://docs.python.org/3/reference/lexical_analysis.html#encodings).\n",
        "* [PEP 0498: f-strings](https://peps.python.org/pep-0498/)\n",
        "* [Python 3's f-strings: an improved string formatting syntax (guide)](https://realpython.com/python-f-strings/)\n",
        "* _Origen de los íconos_\n",
        "    - Flaticon. Monkey free icon [PNG]. https://www.flaticon.com/free-icon/monkey_6658003\n",
        "    - Flaticon. Dna free icon [PNG]. https://www.flaticon.com/free-icon/dna_4341162"
      ]
    },
    {
      "cell_type": "markdown",
      "id": "9ad8f4f2",
      "metadata": {
        "id": "9ad8f4f2"
      },
      "source": [
        "## **Créditos**\n",
        "---\n",
        "\n",
        "* **Profesor:** [Felipe Restrepo Calle](https://dis.unal.edu.co/~ferestrepoca/)\n",
        "* **Asistentes docentes:**\n",
        "    - [Juan Sebastián Lara Ramírez](https://www.linkedin.com/in/juan-sebastian-lara-ramirez-43570a214/).\n",
        "* **Diseño de imágenes:**\n",
        "    - [Rosa Alejandra Superlano Esquibel](mailto:rsuperlano@unal.edu.co).\n",
        "* **Coordinador de virtualización:**\n",
        "    - [Edder Hernández Forero](https://www.linkedin.com/in/edder-hernandez-forero-28aa8b207/).\n",
        "\n",
        "**Universidad Nacional de Colombia** - *Facultad de Ingeniería*"
      ]
    }
  ],
  "metadata": {
    "jupytext": {
      "cell_metadata_filter": "-all",
      "main_language": "python",
      "notebook_metadata_filter": "-all"
    },
    "colab": {
      "provenance": [],
      "private_outputs": true,
      "include_colab_link": true
    },
    "language_info": {
      "name": "python"
    },
    "kernelspec": {
      "name": "python3",
      "display_name": "Python 3"
    }
  },
  "nbformat": 4,
  "nbformat_minor": 5
}