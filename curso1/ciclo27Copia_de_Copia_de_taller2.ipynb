{
  "cells": [
    {
      "cell_type": "markdown",
      "metadata": {
        "id": "view-in-github",
        "colab_type": "text"
      },
      "source": [
        "<a href=\"https://colab.research.google.com/github/nferrucho/NPL/blob/main/curso1/ciclo27Copia_de_Copia_de_taller2.ipynb\" target=\"_parent\"><img src=\"https://colab.research.google.com/assets/colab-badge.svg\" alt=\"Open In Colab\"/></a>"
      ]
    },
    {
      "cell_type": "markdown",
      "id": "b266b944",
      "metadata": {
        "id": "b266b944"
      },
      "source": [
        "<img src=\"https://drive.google.com/uc?export=view&id=1AQr9H9bXDeNPchTRufU78g8z0yxHvrmC\" width=\"100%\">"
      ]
    },
    {
      "cell_type": "markdown",
      "id": "f967c0eb",
      "metadata": {
        "id": "f967c0eb"
      },
      "source": [
        "# **Taller 2**\n",
        "---\n",
        "\n",
        "En este taller se evaluarán las habilidades adquiridas en expresiones regulares, manejo de la librería `spacy` y preprocesamiento a partir del conjunto de datos [Spanish News Classification](https://www.kaggle.com/datasets/kevinmorgado/spanish-news-classification) de Kaggle.\n",
        "\n",
        "En este caso, usted deberá realizar algunas operaciones de búsqueda de textos con expresiones regulares y normalización de textos. Comenzamos importando las librerías necesarias:"
      ]
    },
    {
      "cell_type": "code",
      "execution_count": 11,
      "id": "ecc281d8",
      "metadata": {
        "id": "ecc281d8",
        "colab": {
          "base_uri": "https://localhost:8080/"
        },
        "outputId": "a9aecd62-b651-424e-d2d0-295a9b5ecd40"
      },
      "outputs": [
        {
          "output_type": "stream",
          "name": "stdout",
          "text": [
            "Collecting unidecode\n",
            "  Downloading Unidecode-1.3.8-py3-none-any.whl.metadata (13 kB)\n",
            "Downloading Unidecode-1.3.8-py3-none-any.whl (235 kB)\n",
            "\u001b[2K   \u001b[90m━━━━━━━━━━━━━━━━━━━━━━━━━━━━━━━━━━━━━━━━\u001b[0m \u001b[32m235.5/235.5 kB\u001b[0m \u001b[31m2.1 MB/s\u001b[0m eta \u001b[36m0:00:00\u001b[0m\n",
            "\u001b[?25hInstalling collected packages: unidecode\n",
            "Successfully installed unidecode-1.3.8\n"
          ]
        }
      ],
      "source": [
        "#TEST_CELL\n",
        "!pip install unidecode"
      ]
    },
    {
      "cell_type": "code",
      "execution_count": 12,
      "id": "9b1ec7a6",
      "metadata": {
        "id": "9b1ec7a6"
      },
      "outputs": [],
      "source": [
        "import re\n",
        "import pandas as pd\n",
        "import matplotlib.pyplot as plt\n",
        "import seaborn as sns\n",
        "from unidecode import unidecode\n",
        "from IPython.display import display\n",
        "plt.style.use(\"ggplot\")"
      ]
    },
    {
      "cell_type": "markdown",
      "id": "36823488",
      "metadata": {
        "id": "36823488"
      },
      "source": [
        "Cargamos el conjunto de datos:"
      ]
    },
    {
      "cell_type": "code",
      "execution_count": 13,
      "id": "94804a25",
      "metadata": {
        "id": "94804a25",
        "colab": {
          "base_uri": "https://localhost:8080/",
          "height": 206
        },
        "outputId": "63563148-8293-4a3b-95c7-5d9ca8c87fc4"
      },
      "outputs": [
        {
          "output_type": "display_data",
          "data": {
            "text/plain": [
              "                                                url  \\\n",
              "0  https://www.larepublica.co/redirect/post/3201905   \n",
              "1  https://www.larepublica.co/redirect/post/3210288   \n",
              "2  https://www.larepublica.co/redirect/post/3240676   \n",
              "3  https://www.larepublica.co/redirect/post/3342889   \n",
              "4  https://www.larepublica.co/redirect/post/3427208   \n",
              "\n",
              "                                                news           Type  \n",
              "0  Durante el foro La banca articulador empresari...           Otra  \n",
              "1  El regulador de valores de China dijo el domin...   Regulaciones  \n",
              "2  En una industria históricamente masculina como...       Alianzas  \n",
              "3  Con el dato de marzo el IPC interanual encaden...  Macroeconomia  \n",
              "4  Ayer en Cartagena se dio inicio a la versión n...           Otra  "
            ],
            "text/html": [
              "\n",
              "  <div id=\"df-22b10b6e-1756-45f1-aafd-3780ee760ad3\" class=\"colab-df-container\">\n",
              "    <div>\n",
              "<style scoped>\n",
              "    .dataframe tbody tr th:only-of-type {\n",
              "        vertical-align: middle;\n",
              "    }\n",
              "\n",
              "    .dataframe tbody tr th {\n",
              "        vertical-align: top;\n",
              "    }\n",
              "\n",
              "    .dataframe thead th {\n",
              "        text-align: right;\n",
              "    }\n",
              "</style>\n",
              "<table border=\"1\" class=\"dataframe\">\n",
              "  <thead>\n",
              "    <tr style=\"text-align: right;\">\n",
              "      <th></th>\n",
              "      <th>url</th>\n",
              "      <th>news</th>\n",
              "      <th>Type</th>\n",
              "    </tr>\n",
              "  </thead>\n",
              "  <tbody>\n",
              "    <tr>\n",
              "      <th>0</th>\n",
              "      <td>https://www.larepublica.co/redirect/post/3201905</td>\n",
              "      <td>Durante el foro La banca articulador empresari...</td>\n",
              "      <td>Otra</td>\n",
              "    </tr>\n",
              "    <tr>\n",
              "      <th>1</th>\n",
              "      <td>https://www.larepublica.co/redirect/post/3210288</td>\n",
              "      <td>El regulador de valores de China dijo el domin...</td>\n",
              "      <td>Regulaciones</td>\n",
              "    </tr>\n",
              "    <tr>\n",
              "      <th>2</th>\n",
              "      <td>https://www.larepublica.co/redirect/post/3240676</td>\n",
              "      <td>En una industria históricamente masculina como...</td>\n",
              "      <td>Alianzas</td>\n",
              "    </tr>\n",
              "    <tr>\n",
              "      <th>3</th>\n",
              "      <td>https://www.larepublica.co/redirect/post/3342889</td>\n",
              "      <td>Con el dato de marzo el IPC interanual encaden...</td>\n",
              "      <td>Macroeconomia</td>\n",
              "    </tr>\n",
              "    <tr>\n",
              "      <th>4</th>\n",
              "      <td>https://www.larepublica.co/redirect/post/3427208</td>\n",
              "      <td>Ayer en Cartagena se dio inicio a la versión n...</td>\n",
              "      <td>Otra</td>\n",
              "    </tr>\n",
              "  </tbody>\n",
              "</table>\n",
              "</div>\n",
              "    <div class=\"colab-df-buttons\">\n",
              "\n",
              "  <div class=\"colab-df-container\">\n",
              "    <button class=\"colab-df-convert\" onclick=\"convertToInteractive('df-22b10b6e-1756-45f1-aafd-3780ee760ad3')\"\n",
              "            title=\"Convert this dataframe to an interactive table.\"\n",
              "            style=\"display:none;\">\n",
              "\n",
              "  <svg xmlns=\"http://www.w3.org/2000/svg\" height=\"24px\" viewBox=\"0 -960 960 960\">\n",
              "    <path d=\"M120-120v-720h720v720H120Zm60-500h600v-160H180v160Zm220 220h160v-160H400v160Zm0 220h160v-160H400v160ZM180-400h160v-160H180v160Zm440 0h160v-160H620v160ZM180-180h160v-160H180v160Zm440 0h160v-160H620v160Z\"/>\n",
              "  </svg>\n",
              "    </button>\n",
              "\n",
              "  <style>\n",
              "    .colab-df-container {\n",
              "      display:flex;\n",
              "      gap: 12px;\n",
              "    }\n",
              "\n",
              "    .colab-df-convert {\n",
              "      background-color: #E8F0FE;\n",
              "      border: none;\n",
              "      border-radius: 50%;\n",
              "      cursor: pointer;\n",
              "      display: none;\n",
              "      fill: #1967D2;\n",
              "      height: 32px;\n",
              "      padding: 0 0 0 0;\n",
              "      width: 32px;\n",
              "    }\n",
              "\n",
              "    .colab-df-convert:hover {\n",
              "      background-color: #E2EBFA;\n",
              "      box-shadow: 0px 1px 2px rgba(60, 64, 67, 0.3), 0px 1px 3px 1px rgba(60, 64, 67, 0.15);\n",
              "      fill: #174EA6;\n",
              "    }\n",
              "\n",
              "    .colab-df-buttons div {\n",
              "      margin-bottom: 4px;\n",
              "    }\n",
              "\n",
              "    [theme=dark] .colab-df-convert {\n",
              "      background-color: #3B4455;\n",
              "      fill: #D2E3FC;\n",
              "    }\n",
              "\n",
              "    [theme=dark] .colab-df-convert:hover {\n",
              "      background-color: #434B5C;\n",
              "      box-shadow: 0px 1px 3px 1px rgba(0, 0, 0, 0.15);\n",
              "      filter: drop-shadow(0px 1px 2px rgba(0, 0, 0, 0.3));\n",
              "      fill: #FFFFFF;\n",
              "    }\n",
              "  </style>\n",
              "\n",
              "    <script>\n",
              "      const buttonEl =\n",
              "        document.querySelector('#df-22b10b6e-1756-45f1-aafd-3780ee760ad3 button.colab-df-convert');\n",
              "      buttonEl.style.display =\n",
              "        google.colab.kernel.accessAllowed ? 'block' : 'none';\n",
              "\n",
              "      async function convertToInteractive(key) {\n",
              "        const element = document.querySelector('#df-22b10b6e-1756-45f1-aafd-3780ee760ad3');\n",
              "        const dataTable =\n",
              "          await google.colab.kernel.invokeFunction('convertToInteractive',\n",
              "                                                    [key], {});\n",
              "        if (!dataTable) return;\n",
              "\n",
              "        const docLinkHtml = 'Like what you see? Visit the ' +\n",
              "          '<a target=\"_blank\" href=https://colab.research.google.com/notebooks/data_table.ipynb>data table notebook</a>'\n",
              "          + ' to learn more about interactive tables.';\n",
              "        element.innerHTML = '';\n",
              "        dataTable['output_type'] = 'display_data';\n",
              "        await google.colab.output.renderOutput(dataTable, element);\n",
              "        const docLink = document.createElement('div');\n",
              "        docLink.innerHTML = docLinkHtml;\n",
              "        element.appendChild(docLink);\n",
              "      }\n",
              "    </script>\n",
              "  </div>\n",
              "\n",
              "\n",
              "<div id=\"df-5bfb6f7d-a9ac-4678-a0b5-3d13adbe8670\">\n",
              "  <button class=\"colab-df-quickchart\" onclick=\"quickchart('df-5bfb6f7d-a9ac-4678-a0b5-3d13adbe8670')\"\n",
              "            title=\"Suggest charts\"\n",
              "            style=\"display:none;\">\n",
              "\n",
              "<svg xmlns=\"http://www.w3.org/2000/svg\" height=\"24px\"viewBox=\"0 0 24 24\"\n",
              "     width=\"24px\">\n",
              "    <g>\n",
              "        <path d=\"M19 3H5c-1.1 0-2 .9-2 2v14c0 1.1.9 2 2 2h14c1.1 0 2-.9 2-2V5c0-1.1-.9-2-2-2zM9 17H7v-7h2v7zm4 0h-2V7h2v10zm4 0h-2v-4h2v4z\"/>\n",
              "    </g>\n",
              "</svg>\n",
              "  </button>\n",
              "\n",
              "<style>\n",
              "  .colab-df-quickchart {\n",
              "      --bg-color: #E8F0FE;\n",
              "      --fill-color: #1967D2;\n",
              "      --hover-bg-color: #E2EBFA;\n",
              "      --hover-fill-color: #174EA6;\n",
              "      --disabled-fill-color: #AAA;\n",
              "      --disabled-bg-color: #DDD;\n",
              "  }\n",
              "\n",
              "  [theme=dark] .colab-df-quickchart {\n",
              "      --bg-color: #3B4455;\n",
              "      --fill-color: #D2E3FC;\n",
              "      --hover-bg-color: #434B5C;\n",
              "      --hover-fill-color: #FFFFFF;\n",
              "      --disabled-bg-color: #3B4455;\n",
              "      --disabled-fill-color: #666;\n",
              "  }\n",
              "\n",
              "  .colab-df-quickchart {\n",
              "    background-color: var(--bg-color);\n",
              "    border: none;\n",
              "    border-radius: 50%;\n",
              "    cursor: pointer;\n",
              "    display: none;\n",
              "    fill: var(--fill-color);\n",
              "    height: 32px;\n",
              "    padding: 0;\n",
              "    width: 32px;\n",
              "  }\n",
              "\n",
              "  .colab-df-quickchart:hover {\n",
              "    background-color: var(--hover-bg-color);\n",
              "    box-shadow: 0 1px 2px rgba(60, 64, 67, 0.3), 0 1px 3px 1px rgba(60, 64, 67, 0.15);\n",
              "    fill: var(--button-hover-fill-color);\n",
              "  }\n",
              "\n",
              "  .colab-df-quickchart-complete:disabled,\n",
              "  .colab-df-quickchart-complete:disabled:hover {\n",
              "    background-color: var(--disabled-bg-color);\n",
              "    fill: var(--disabled-fill-color);\n",
              "    box-shadow: none;\n",
              "  }\n",
              "\n",
              "  .colab-df-spinner {\n",
              "    border: 2px solid var(--fill-color);\n",
              "    border-color: transparent;\n",
              "    border-bottom-color: var(--fill-color);\n",
              "    animation:\n",
              "      spin 1s steps(1) infinite;\n",
              "  }\n",
              "\n",
              "  @keyframes spin {\n",
              "    0% {\n",
              "      border-color: transparent;\n",
              "      border-bottom-color: var(--fill-color);\n",
              "      border-left-color: var(--fill-color);\n",
              "    }\n",
              "    20% {\n",
              "      border-color: transparent;\n",
              "      border-left-color: var(--fill-color);\n",
              "      border-top-color: var(--fill-color);\n",
              "    }\n",
              "    30% {\n",
              "      border-color: transparent;\n",
              "      border-left-color: var(--fill-color);\n",
              "      border-top-color: var(--fill-color);\n",
              "      border-right-color: var(--fill-color);\n",
              "    }\n",
              "    40% {\n",
              "      border-color: transparent;\n",
              "      border-right-color: var(--fill-color);\n",
              "      border-top-color: var(--fill-color);\n",
              "    }\n",
              "    60% {\n",
              "      border-color: transparent;\n",
              "      border-right-color: var(--fill-color);\n",
              "    }\n",
              "    80% {\n",
              "      border-color: transparent;\n",
              "      border-right-color: var(--fill-color);\n",
              "      border-bottom-color: var(--fill-color);\n",
              "    }\n",
              "    90% {\n",
              "      border-color: transparent;\n",
              "      border-bottom-color: var(--fill-color);\n",
              "    }\n",
              "  }\n",
              "</style>\n",
              "\n",
              "  <script>\n",
              "    async function quickchart(key) {\n",
              "      const quickchartButtonEl =\n",
              "        document.querySelector('#' + key + ' button');\n",
              "      quickchartButtonEl.disabled = true;  // To prevent multiple clicks.\n",
              "      quickchartButtonEl.classList.add('colab-df-spinner');\n",
              "      try {\n",
              "        const charts = await google.colab.kernel.invokeFunction(\n",
              "            'suggestCharts', [key], {});\n",
              "      } catch (error) {\n",
              "        console.error('Error during call to suggestCharts:', error);\n",
              "      }\n",
              "      quickchartButtonEl.classList.remove('colab-df-spinner');\n",
              "      quickchartButtonEl.classList.add('colab-df-quickchart-complete');\n",
              "    }\n",
              "    (() => {\n",
              "      let quickchartButtonEl =\n",
              "        document.querySelector('#df-5bfb6f7d-a9ac-4678-a0b5-3d13adbe8670 button');\n",
              "      quickchartButtonEl.style.display =\n",
              "        google.colab.kernel.accessAllowed ? 'block' : 'none';\n",
              "    })();\n",
              "  </script>\n",
              "</div>\n",
              "\n",
              "    </div>\n",
              "  </div>\n"
            ],
            "application/vnd.google.colaboratory.intrinsic+json": {
              "type": "dataframe",
              "summary": "{\n  \"name\": \"display(df\",\n  \"rows\": 5,\n  \"fields\": [\n    {\n      \"column\": \"url\",\n      \"properties\": {\n        \"dtype\": \"string\",\n        \"num_unique_values\": 5,\n        \"samples\": [\n          \"https://www.larepublica.co/redirect/post/3210288\",\n          \"https://www.larepublica.co/redirect/post/3427208\",\n          \"https://www.larepublica.co/redirect/post/3240676\"\n        ],\n        \"semantic_type\": \"\",\n        \"description\": \"\"\n      }\n    },\n    {\n      \"column\": \"news\",\n      \"properties\": {\n        \"dtype\": \"string\",\n        \"num_unique_values\": 5,\n        \"samples\": [\n          \"El regulador de valores de China dijo el domingo que buscar\\u00e1 una cooperaci\\u00f3n m\\u00e1s estrecha con su par estadounidense y que apoyar\\u00e1 las salidas a bolsa en el extranjero luego de que supervisores estadounidenses endurecieron las exigencias de divulgaci\\u00f3n de informaci\\u00f3n para las empresas chinas y expresaron preocupaci\\u00f3n por medidas de Pek\\u00edn.La Comisi\\u00f3n Reguladora de Valores de China CSRC dijo en un comunicado que tom\\u00f3 nota de los nuevos requisitos de la Comisi\\u00f3n de Valores de Estados Unidos SEC para las empresas chinas y que ambas partes deber\\u00edan mantener el esp\\u00edritu de respeto mutuo y reforzar las comunicaciones sobre la regulaci\\u00f3n.La CSRC siempre ha estado abierta a que las empresas elijan d\\u00f3nde salir a bolsa y la pol\\u00edtica nacional b\\u00e1sica de China de avanzar en la reforma y la apertura es inquebrantable y la apertura financiera al mundo exterior continuar\\u00e1 dijo en su sitio web.La SEC hab\\u00eda dicho el viernes que exigir\\u00e1 a las compa\\u00f1\\u00edas chinas que revelen la incertidumbre sobre futuras acciones del gobierno de China que puedan afectar significativamente a los resultados financieros de la empresa antes de permitirles captar capital en los mercados de valores estadounidenses.Los emisores chinos tambi\\u00e9n deben revelar si se les deneg\\u00f3 el permiso de las autoridades chinas para cotizar en las bolsas estadounidenses y los riesgos de que dicha aprobaci\\u00f3n pueda ser denegada o rescindida a\\u00f1adi\\u00f3 la SEC.China ha reforzado su control regulatorio sobre la emisi\\u00f3n de acciones en el extranjero despu\\u00e9s de que lanz\\u00f3 una investigaci\\u00f3n de ciberseguridad sobre el gigante del transporte Didi Global Inc el mes pasado apenas unos d\\u00edas despu\\u00e9s de su cotizaci\\u00f3n en Nueva York.El gabinete chino dijo el 6 de julio que reforzar\\u00eda la supervisi\\u00f3n de todas las empresas chinas que cotizan en el extranjero.El regulador del ciberespacio chino dijo que cualquier empresa con datos de m\\u00e1s de un mill\\u00f3n de usuarios debe someterse a una revisi\\u00f3n de ciberseguridad antes de cotizar en el extranjero.El banco central de China tambi\\u00e9n ha dicho que las empresas de pago no bancarias deben informar de sus planes de cotizar en el extranjero.\",\n          \"Ayer en Cartagena se dio inicio a la versi\\u00f3n n\\u00famero 56 de la Convenci\\u00f3n Bancaria. Este ser\\u00e1 el primer encuentro de los banqueros del pa\\u00eds con el presidente Gustavo Petro quien estar\\u00e1 en la sesi\\u00f3n de clausura el pr\\u00f3ximo viernes.Mario Pardo Bayona el presidente de la Junta Directiva de Asobancaria y presidente de Bbva Colombia dio inicio a la sesi\\u00f3n de apertura destacando que a pesar de los avances econ\\u00f3micos y financieros del pa\\u00eds a\\u00fan existe un reto clave reducir las inequidades.En ese sentido el directivo propuso cinco objetivos desde la banca. Como primer punto resalt\\u00f3 la importancia de seguir financiando infraestructura de telecomunicaciones energ\\u00eda agua y alcantarillado que faciliten la vida y la provisi\\u00f3n de servicios en la ruralidad.Como segundo y tercer punto ser\\u00eda clave seguir comprometidos con la bancarizaci\\u00f3n y aumentar el acceso al cr\\u00e9dito pues solo 34 de los adultos y 31 de las Pyme en Colombia acceden al cr\\u00e9dito formal. Sustituir el gota a gota por el cr\\u00e9dito formal es el mejor instrumento para que los colombianos puedan materializar sus sue\\u00f1os y para reducir la pobreza de los microempresarios dijo el directivo.Otro objetivo es trabajar para que los productos financieros cada vez sean m\\u00e1s econ\\u00f3micos aprovechando la digitalizaci\\u00f3n. Como \\u00faltimo punto se debe garantizar que los avances lleguen a todos. A las poblaciones negras raizales palenqueras ind\\u00edgenas mujeres cabeza de familia campesinos j\\u00f3venes discapacitados migrantes etc. Para ello debemos trabajar con el Estado en identificar y derribar las barreras que existan y desde el sector debemos medir publicar y comprometer cifras con los avances en los servicios a estos segmentos poblacionales se\\u00f1al\\u00f3 Pardo.A su turno el gerente general del Banco de la Rep\\u00fablica Leonardo Villar resalt\\u00f3 el papel de la banca durante la pandemia. Las cifras a julio excluyendo la cartera de moneda extranjera muestran tasas de crecimiento de 17 en el cr\\u00e9dito agregado y cercanas a 23 en la cartera para los consumidores. Sin embargo asegur\\u00f3 que dicho crecimiento tiene su contrapartida en el mayor endeudamiento de los consumidores y las empresas por lo que el aumento de las tasas se reflejar\\u00eda en un incremento de la carga financiera.De hecho el superintendente financiero Jorge Casta\\u00f1o advirti\\u00f3 un aumento de los cupos de las tarjetas de cr\\u00e9dito y el deterioro de las originaciones nuevas. El problema es el sobreendeudamiento que las familias puedan tener al acceder a esos cupos altos de tarjetas de cr\\u00e9ditos. La Superintendencia Financiera est\\u00e1 viendo que la carga financiera de los hogares ha empezado a aumentar. La porci\\u00f3n de dinero que las familias utilizan para pagar sus deudas est\\u00e1 empezando a crecer. Si a esto le agregamos el efecto de la inflaci\\u00f3n va a haber una mayor presi\\u00f3n en la capacidad de pago. Nuestro mensaje es que sigamos siendo muy responsables en el uso de los cr\\u00e9ditos asegur\\u00f3 Casta\\u00f1o.Durante la apertura del evento el gerente del Emisor tambi\\u00e9n se refiri\\u00f3 al avance de los pagos digitales y asegur\\u00f3 que tomamos la decisi\\u00f3n de avanzar hacia un sistema de transferencias digitales inmediatas seguras y eficientes que sea totalmente interoperable y que contribuya a la competitividad de los mercados y el desarrollo del pa\\u00eds.Frente al anuncio que hizo el director de la Dian Luis Carlos Reyes sobre avanzar en la emisi\\u00f3n de una moneda digital Villar asegur\\u00f3 que a inicios de agosto se instal\\u00f3 un foro para avanzar en las decisiones urgentes relacionadas con los pagos inmediatos y que dicho foro servir\\u00e1 como insumo para en un futuro tomar la decisi\\u00f3n sobre emitir o no una moneda digital.Un reto del Estado es seguir ofreciendo garant\\u00edas para facilitar el acceso al cr\\u00e9dito de las mujeres esquema donde todav\\u00eda hay brechas a favor de los hombres.Confiamos en que el foro se convierta en una herramienta para avanzar en las decisiones que tenemos en los pagos inmediatos. Nuestro referente m\\u00e1s cercano es el sistema Pix que se ha desarrollado en Brasil donde tras solo dos a\\u00f1os de operaci\\u00f3n m\\u00e1s de 70 de los adultos utiliza el sistema para sus pagos . Este mismo foro podr\\u00e1 servirnos para avanzar en el dise\\u00f1os de esquemas que ampl\\u00eden la oferta de pagos transfronterizos y as\\u00ed evaluar la conveniencia de emitir una moneda digital del Banco Central dijo Villar.Asobancaria cambi\\u00f3 su marca y eslogan despu\\u00e9s de m\\u00e1s de 50 a\\u00f1osEn el inicio de la Convenci\\u00f3n Bancaria en Cartagena Asobancaria anunci\\u00f3 la renovaci\\u00f3n de su logo por primera vez en 50 a\\u00f1os y su slogan que ahora se refiere a acercar la banca a los colombianos.Lo anterior indic\\u00f3 su presidente Hernando Jos\\u00e9 G\\u00f3mez como reflejo de la transformaci\\u00f3n que ha experimentado el sector financiero y de su compromiso con el pa\\u00eds. Seg\\u00fan el dirigente gremial la marca busca reflejar el apoyo al desarrollo sostenible del pa\\u00eds y la construcci\\u00f3n de caminos hacia un futuro compartido.\",\n          \"En una industria hist\\u00f3ricamente masculina como lo es la aviaci\\u00f3n Viva present\\u00f3 su avi\\u00f3n rosado A320NEO que apuesta por la equidad de g\\u00e9nero la lucha contra el c\\u00e1ncer de mama la inclusi\\u00f3n y la diversidad.Desde Francia lleg\\u00f3 Go Pink que tuvo un precio promedio de US50 millones convirti\\u00e9ndose en la aeronave n\\u00famero 20 de las 21 con las que finalizar\\u00e1 el a\\u00f1o esta aerol\\u00ednea.En Viva estamos trabajando muy fuerte para que haya m\\u00e1s mujeres. Actualmente el grupo ejecutivo est\\u00e1 compuesto por 42 mujeres pero la meta es llegar en 2022 con 50 de ellas en nuestro staff se\\u00f1al\\u00f3 F\\u00e9lix Antelo CEO de Viva.Asimismo agreg\\u00f3 que est\\u00e1n evaluando traer otro avi\\u00f3n con esta propuesta para el pr\\u00f3ximo a\\u00f1o as\\u00ed como proyectan un crecimiento de 60 en sillas para el \\u00faltimo trimestre de 2021 en comparaci\\u00f3n con el mismo periodo de 2019.Vamos a estar moviendo m\\u00e1s de dos millones de pasajeros para finalizar el a\\u00f1o es un n\\u00famero ambicioso pero estamos contentos por la reacci\\u00f3n del mercado y porque muchos pasajeros est\\u00e1n eligiendo a Viva por la flota nueva la nueva imagen y los precios bajos dijo.Sobre los planes de expansi\\u00f3n internacional de la compa\\u00f1\\u00eda la aerol\\u00ednea continuar\\u00e1 creciendo pues proyectan abrir 15 rutas en tres a\\u00f1os.Tenemos una buena apuesta por Florida Nueva York Rep\\u00fablica Dominicana y Buenos Aires probablemente para el pr\\u00f3ximo a\\u00f1o cont\\u00f3 Declan Ryan presidente del Grupo Viva.Del mismo modo revel\\u00f3 que se estudia una alianza con Viva Aerobus la aerol\\u00ednea mexicana que recientemente empez\\u00f3 a operar en Colombia.Viva Aerobus es como un hijo para m\\u00ed. Juan Carlos el CEO es un gran amigo y seguramente vamos a trabajar con ellos. Es algo que se contempla.Teniendo en cuenta la entrada de m\\u00e1s empresas al modelo de low cost muchos cuestionan si la industria va camino a ser solo de este nicho no obstante es algo que no podr\\u00e1n asumir todas las aerol\\u00edneas seg\\u00fan Ryan.En promedio las personas ahorran US50 al viajar con modelo de bajo costo es decir US14 billones han sido ahorrados por los colombianos. Sin embargo la historia de la aviaci\\u00f3n nos ha mostrado que cuando las grandes aerol\\u00edneas tratan de trabajar bajo el modelo de low cost no les funciona por sus costos.\"\n        ],\n        \"semantic_type\": \"\",\n        \"description\": \"\"\n      }\n    },\n    {\n      \"column\": \"Type\",\n      \"properties\": {\n        \"dtype\": \"string\",\n        \"num_unique_values\": 4,\n        \"samples\": [\n          \"Regulaciones\",\n          \"Macroeconomia\",\n          \"Otra\"\n        ],\n        \"semantic_type\": \"\",\n        \"description\": \"\"\n      }\n    }\n  ]\n}"
            }
          },
          "metadata": {}
        }
      ],
      "source": [
        "#TEST_CELL\n",
        "df = pd.read_parquet(\"https://raw.githubusercontent.com/mindlab-unal/mlds4-datasets/main/u3/spanish_news.parquet\")\n",
        "display(df.head())"
      ]
    },
    {
      "cell_type": "markdown",
      "id": "3c50d6c3",
      "metadata": {
        "id": "3c50d6c3"
      },
      "source": [
        "Este conjunto de datos contiene tres columnas:\n",
        "\n",
        "- `url`: dirección de donde se extrajeron los datos.\n",
        "- `news`: contenido textual de una noticia.\n",
        "- `Type`: tipo de noticia.\n",
        "\n",
        "Este corpus está conformado por `1217` documentos."
      ]
    },
    {
      "cell_type": "code",
      "execution_count": 14,
      "id": "2f6546f1",
      "metadata": {
        "id": "2f6546f1",
        "colab": {
          "base_uri": "https://localhost:8080/",
          "height": 35
        },
        "outputId": "22ce51b8-0729-4529-eb92-7f6e64801fad"
      },
      "outputs": [
        {
          "output_type": "display_data",
          "data": {
            "text/plain": [
              "(1217, 3)"
            ]
          },
          "metadata": {}
        }
      ],
      "source": [
        "#TEST_CELL\n",
        "display(df.shape)"
      ]
    },
    {
      "cell_type": "markdown",
      "id": "3c3895f1",
      "metadata": {
        "id": "3c3895f1"
      },
      "source": [
        "De la misma forma, el conjunto de datos contiene noticias de 7 categorías distintas:"
      ]
    },
    {
      "cell_type": "code",
      "execution_count": null,
      "id": "6438b4ef",
      "metadata": {
        "lines_to_next_cell": 1,
        "id": "6438b4ef",
        "colab": {
          "base_uri": "https://localhost:8080/",
          "height": 335
        },
        "outputId": "e3d33e15-4afc-499d-da3e-2ef02699aeb3"
      },
      "outputs": [
        {
          "output_type": "display_data",
          "data": {
            "text/plain": [
              "Type\n",
              "Macroeconomia     340\n",
              "Alianzas          247\n",
              "Innovacion        195\n",
              "Regulaciones      142\n",
              "Sostenibilidad    137\n",
              "Otra              130\n",
              "Reputacion         26\n",
              "Name: count, dtype: int64"
            ],
            "text/html": [
              "<div>\n",
              "<style scoped>\n",
              "    .dataframe tbody tr th:only-of-type {\n",
              "        vertical-align: middle;\n",
              "    }\n",
              "\n",
              "    .dataframe tbody tr th {\n",
              "        vertical-align: top;\n",
              "    }\n",
              "\n",
              "    .dataframe thead th {\n",
              "        text-align: right;\n",
              "    }\n",
              "</style>\n",
              "<table border=\"1\" class=\"dataframe\">\n",
              "  <thead>\n",
              "    <tr style=\"text-align: right;\">\n",
              "      <th></th>\n",
              "      <th>count</th>\n",
              "    </tr>\n",
              "    <tr>\n",
              "      <th>Type</th>\n",
              "      <th></th>\n",
              "    </tr>\n",
              "  </thead>\n",
              "  <tbody>\n",
              "    <tr>\n",
              "      <th>Macroeconomia</th>\n",
              "      <td>340</td>\n",
              "    </tr>\n",
              "    <tr>\n",
              "      <th>Alianzas</th>\n",
              "      <td>247</td>\n",
              "    </tr>\n",
              "    <tr>\n",
              "      <th>Innovacion</th>\n",
              "      <td>195</td>\n",
              "    </tr>\n",
              "    <tr>\n",
              "      <th>Regulaciones</th>\n",
              "      <td>142</td>\n",
              "    </tr>\n",
              "    <tr>\n",
              "      <th>Sostenibilidad</th>\n",
              "      <td>137</td>\n",
              "    </tr>\n",
              "    <tr>\n",
              "      <th>Otra</th>\n",
              "      <td>130</td>\n",
              "    </tr>\n",
              "    <tr>\n",
              "      <th>Reputacion</th>\n",
              "      <td>26</td>\n",
              "    </tr>\n",
              "  </tbody>\n",
              "</table>\n",
              "</div><br><label><b>dtype:</b> int64</label>"
            ]
          },
          "metadata": {}
        }
      ],
      "source": [
        "#TEST_CELL\n",
        "display(df.Type.value_counts())"
      ]
    },
    {
      "cell_type": "markdown",
      "id": "23c237a8",
      "metadata": {
        "id": "23c237a8"
      },
      "source": [
        "## **1. Reconocimiento de URLs**\n",
        "---\n",
        "\n",
        "En este punto deberá extraer el protocolo, dominio, y ruta de la cualquiera de las URLs que se encuentran dentro de la columna `url` del conjunto de datos.\n",
        "\n",
        "Por ejemplo, la siguiente URL:\n",
        "\n",
        "`https://www.larepublica.co/redirect/post/3201905`\n",
        "\n",
        "Tiene los siguientes elementos:\n",
        "\n",
        "- **Protocolo**: `https`\n",
        "- **Dominio**: `www.larepublica.co`\n",
        "- **Ruta**: `redirect/post/320195`\n",
        "\n",
        "Para esto, debe implementar la función `url_elements` la cual deberá retornar una expresión regular que contenga tres grupos nombrados de la siguiente forma: `protocol`, `domain` y `route`.\n",
        "\n",
        "**Parámetros**\n",
        "\n",
        "Esta función no tiene parámetros.\n",
        "\n",
        "**Retorna**\n",
        "\n",
        "- `pat`: expresión regular compilada con los tres elementos de una URL."
      ]
    },
    {
      "cell_type": "markdown",
      "id": "7948c572",
      "metadata": {
        "id": "7948c572"
      },
      "source": [
        "<details>    \n",
        "<summary>\n",
        "    <font size=\"3\" color=\"darkgreen\"><b>Pistas</b></font>\n",
        "</summary>\n",
        "\n",
        "- Recuerde que los grupos nombrados dentro de expresiones regulares en _Python_ se definen siguiendo la notación `(?P<tag>regex)` donde `tag` es el nombre del grupo y `regex` es la expresión regular que describe el grupo.\n",
        "- Se recomienda usar cuantificadores como `+` para detectar secuencias de longitud mayor a 1 en los identificadores de cada grupo.\n",
        "- Se recomienda revisar el identificador `\\w`, ya que las URL normalmente usan caracteres alfanuméricos para representar algunas partes.\n",
        "</details>"
      ]
    },
    {
      "cell_type": "code",
      "execution_count": null,
      "id": "9bbb7d27",
      "metadata": {
        "lines_to_next_cell": 1,
        "id": "9bbb7d27"
      },
      "outputs": [],
      "source": [
        "# FUNCIÓN CALIFICADA url_elements:\n",
        "\n",
        "def url_elements():\n",
        "    ### ESCRIBA SU CÓDIGO AQUÍ ###\n",
        "    #regex = r'^(?P<protocol>https?)://(?P<domain>[^/]+)(?P<route>/.*)?$'\n",
        "    regex = r'^(?P<protocol>https?)://(?P<domain>[^/]+)(?:/(?P<route>.*))?$'\n",
        "    pat = re.compile(regex)\n",
        "    return pat\n",
        "    ### FIN DEL CÓDIGO ###"
      ]
    },
    {
      "cell_type": "code",
      "execution_count": null,
      "id": "9021cad2",
      "metadata": {
        "id": "9021cad2",
        "colab": {
          "base_uri": "https://localhost:8080/",
          "height": 35
        },
        "outputId": "92fbcc29-afea-437c-f0a1-ef3018663d38"
      },
      "outputs": [
        {
          "output_type": "display_data",
          "data": {
            "text/plain": [
              "('https', 'www.larepublica.co', 'redirect/post/3201905')"
            ]
          },
          "metadata": {}
        }
      ],
      "source": [
        "#TEST_CELL\n",
        "pat = url_elements()\n",
        "match = re.search(pat, df.url.iloc[0])\n",
        "res = (match.group(\"protocol\"), match.group(\"domain\"), match.group(\"route\"))\n",
        "display(res)"
      ]
    },
    {
      "cell_type": "markdown",
      "id": "ca183617",
      "metadata": {
        "id": "ca183617"
      },
      "source": [
        "**Salida esperada**:\n",
        "\n",
        "En este primer ejemplo se obtienen los elementos de la primera URL en el conjunto de datos:\n",
        "\n",
        "```python\n",
        "❱ display(res)\n",
        "('https', 'www.larepublica.co', 'redirect/post/3201905')\n",
        "```"
      ]
    },
    {
      "cell_type": "code",
      "execution_count": null,
      "id": "06759bac",
      "metadata": {
        "lines_to_next_cell": 1,
        "id": "06759bac",
        "colab": {
          "base_uri": "https://localhost:8080/",
          "height": 72
        },
        "outputId": "c04b620a-8c96-4377-b981-5bbf24e97ca3"
      },
      "outputs": [
        {
          "output_type": "display_data",
          "data": {
            "text/plain": [
              "('https',\n",
              " 'www.bbva.com',\n",
              " 'es/mx/sostenibilidad/irrupcion-de-lo-femenino-en-el-cine-documental/')"
            ]
          },
          "metadata": {}
        }
      ],
      "source": [
        "#TEST_CELL\n",
        "pat = url_elements()\n",
        "match = re.search(pat, df.url.iloc[100])\n",
        "res = (match.group(\"protocol\"), match.group(\"domain\"), match.group(\"route\"))\n",
        "display(res)"
      ]
    },
    {
      "cell_type": "markdown",
      "id": "c4e5b8a3",
      "metadata": {
        "id": "c4e5b8a3"
      },
      "source": [
        "**Salida esperada**:\n",
        "\n",
        "En este segundo ejemplo se obtienen los elementos de la URL número 100 en el conjunto de datos:\n",
        "\n",
        "```python\n",
        "❱ display(res)\n",
        "('https',\n",
        "'www.bbva.com',\n",
        "'es/mx/sostenibilidad/irrupcion-de-lo-femenino-en-el-cine-documental/')\n",
        "```"
      ]
    },
    {
      "cell_type": "markdown",
      "id": "9a02a406",
      "metadata": {
        "id": "9a02a406"
      },
      "source": [
        "## **2. Selección de Categorías con Patrón**\n",
        "---\n",
        "\n",
        "En este punto deberá seleccionar todos los registros del _DataFrame_ donde la columna `Type` corresponda con determinado patrón de entrada.\n",
        "\n",
        "Para esto debe implementar la función `filter_type`, la cual recibirá el conjunto de datos y una expresión regular sobre la que debe filtrar.\n",
        "\n",
        "**Parámetros**\n",
        "\n",
        "- `df`: conjunto de datos en formato `pd.DataFrame`.\n",
        "- `pat`: expresión regular sobre la que se debe filtrar.\n",
        "\n",
        "**Retorna**\n",
        "\n",
        "- `filtered_df`: `DataFrame` resultante del filtro por patrón de búsqueda."
      ]
    },
    {
      "cell_type": "markdown",
      "id": "edce63ad",
      "metadata": {
        "id": "edce63ad"
      },
      "source": [
        "<details>    \n",
        "<summary>\n",
        "    <font size=\"3\" color=\"darkgreen\"><b>Pistas</b></font>\n",
        "</summary>\n",
        "\n",
        "- Recuerde que las `Series` de `pandas` contienen el método `str.contains`, este método le permitirá aplicar una expresión regular directamente.\n",
        "- Puede usar el método `apply` de `pandas` para validar elemento a elemento si hay un match de la expresión regular.\n",
        "</details>"
      ]
    },
    {
      "cell_type": "code",
      "execution_count": 15,
      "id": "efe3c66a",
      "metadata": {
        "lines_to_next_cell": 1,
        "id": "efe3c66a"
      },
      "outputs": [],
      "source": [
        "# FUNCIÓN CALIFICADA filter_type:\n",
        "\n",
        "def filter_type(df, pat):\n",
        "    ### ESCRIBA SU CÓDIGO AQUÍ ###\n",
        "    #filtered_df = pd.DataFrame({})\n",
        "    filtered_df = df[df['Type'].str.contains(pat)]\n",
        "    return filtered_df\n",
        "    ### FIN DEL CÓDIGO ###"
      ]
    },
    {
      "cell_type": "code",
      "execution_count": 16,
      "id": "ecb5c6aa",
      "metadata": {
        "id": "ecb5c6aa",
        "colab": {
          "base_uri": "https://localhost:8080/",
          "height": 147
        },
        "outputId": "1bcad3f9-f78d-45c2-d95d-9b77bdf3e89b"
      },
      "outputs": [
        {
          "output_type": "display_data",
          "data": {
            "text/plain": [
              "Type\n",
              "Alianzas    247\n",
              "Name: count, dtype: int64"
            ],
            "text/html": [
              "<div>\n",
              "<style scoped>\n",
              "    .dataframe tbody tr th:only-of-type {\n",
              "        vertical-align: middle;\n",
              "    }\n",
              "\n",
              "    .dataframe tbody tr th {\n",
              "        vertical-align: top;\n",
              "    }\n",
              "\n",
              "    .dataframe thead th {\n",
              "        text-align: right;\n",
              "    }\n",
              "</style>\n",
              "<table border=\"1\" class=\"dataframe\">\n",
              "  <thead>\n",
              "    <tr style=\"text-align: right;\">\n",
              "      <th></th>\n",
              "      <th>count</th>\n",
              "    </tr>\n",
              "    <tr>\n",
              "      <th>Type</th>\n",
              "      <th></th>\n",
              "    </tr>\n",
              "  </thead>\n",
              "  <tbody>\n",
              "    <tr>\n",
              "      <th>Alianzas</th>\n",
              "      <td>247</td>\n",
              "    </tr>\n",
              "  </tbody>\n",
              "</table>\n",
              "</div><br><label><b>dtype:</b> int64</label>"
            ]
          },
          "metadata": {}
        }
      ],
      "source": [
        "#TEST_CELL\n",
        "pat = re.compile(r\"^[A].*$\")\n",
        "filtered_df = filter_type(df, pat)\n",
        "display(filtered_df.Type.value_counts())"
      ]
    },
    {
      "cell_type": "markdown",
      "id": "3ed0fd33",
      "metadata": {
        "id": "3ed0fd33"
      },
      "source": [
        "**Salida esperada**\n",
        "\n",
        "Este caso de prueba debería extraer todos los casos donde `Type` comienza por una `\"A\"` mayúscula y luego tiene cualquier secuencia de letras.\n",
        "\n",
        "```python\n",
        "❱ display(filtered_df.Type.value_counts())\n",
        "Alianzas    247\n",
        "Name: Type, dtype: int64\n",
        "```"
      ]
    },
    {
      "cell_type": "code",
      "execution_count": 17,
      "id": "8ee869af",
      "metadata": {
        "lines_to_next_cell": 1,
        "id": "8ee869af",
        "colab": {
          "base_uri": "https://localhost:8080/",
          "height": 178
        },
        "outputId": "de1921bc-6b30-4838-8e4c-c9d412247814"
      },
      "outputs": [
        {
          "output_type": "display_data",
          "data": {
            "text/plain": [
              "Type\n",
              "Innovacion    195\n",
              "Reputacion     26\n",
              "Name: count, dtype: int64"
            ],
            "text/html": [
              "<div>\n",
              "<style scoped>\n",
              "    .dataframe tbody tr th:only-of-type {\n",
              "        vertical-align: middle;\n",
              "    }\n",
              "\n",
              "    .dataframe tbody tr th {\n",
              "        vertical-align: top;\n",
              "    }\n",
              "\n",
              "    .dataframe thead th {\n",
              "        text-align: right;\n",
              "    }\n",
              "</style>\n",
              "<table border=\"1\" class=\"dataframe\">\n",
              "  <thead>\n",
              "    <tr style=\"text-align: right;\">\n",
              "      <th></th>\n",
              "      <th>count</th>\n",
              "    </tr>\n",
              "    <tr>\n",
              "      <th>Type</th>\n",
              "      <th></th>\n",
              "    </tr>\n",
              "  </thead>\n",
              "  <tbody>\n",
              "    <tr>\n",
              "      <th>Innovacion</th>\n",
              "      <td>195</td>\n",
              "    </tr>\n",
              "    <tr>\n",
              "      <th>Reputacion</th>\n",
              "      <td>26</td>\n",
              "    </tr>\n",
              "  </tbody>\n",
              "</table>\n",
              "</div><br><label><b>dtype:</b> int64</label>"
            ]
          },
          "metadata": {}
        }
      ],
      "source": [
        "#TEST_CELL\n",
        "pat = re.compile(r\"^.*on$\")\n",
        "filtered_df = filter_type(df, pat)\n",
        "display(filtered_df.Type.value_counts())"
      ]
    },
    {
      "cell_type": "markdown",
      "id": "c303c5a3",
      "metadata": {
        "id": "c303c5a3"
      },
      "source": [
        "**Salida esperada**\n",
        "\n",
        "Este caso de prueba debería extraer todos los casos donde `Type` termine por la secuencia `\"on\"`.\n",
        "\n",
        "```python\n",
        "❱ display(filtered_df.Type.value_counts())\n",
        "Innovacion    195\n",
        "Reputacion     26\n",
        "Name: Type, dtype: int64\n",
        "```"
      ]
    },
    {
      "cell_type": "markdown",
      "id": "35664d80",
      "metadata": {
        "id": "35664d80"
      },
      "source": [
        "## **3. Documentos de Spacy**\n",
        "---\n",
        "\n",
        "En este punto deberá convertir todo el corpus en una lista de documentos de `spacy`. Para ello, debe implementar la función `to_spacy` para extraer el texto de la columna `news` del `DataFrame` dado y convertirlo a objetos tipo `Doc` usando un _pipeline_ dado.\n",
        "\n",
        "**Parámetros**\n",
        "\n",
        "- `df`: conjunto de datos.\n",
        "- `nlp`: _pipeline_ de `spacy`.\n",
        "\n",
        "**Retorna**\n",
        "\n",
        "- `corpus`: lista de documentos de `spacy`"
      ]
    },
    {
      "cell_type": "markdown",
      "id": "32556898",
      "metadata": {
        "id": "32556898"
      },
      "source": [
        "<details>    \n",
        "<summary>\n",
        "    <font size=\"3\" color=\"darkgreen\"><b>Pistas</b></font>\n",
        "</summary>\n",
        "\n",
        "- Puede usar el método `pipe` para pasar una lista de textos a un _pipeline_ y convertir masivamente varios resultados a `Doc` de `spacy`. Tenga en cuenta que debe convertir el resultado a una lista de _Python_.\n",
        "- Puede usar el objeto `nlp` como una función para convertir un texto individual a un `Doc`, de esta forma, debe iterar sobre todo el corpus.\n",
        "</details>"
      ]
    },
    {
      "cell_type": "code",
      "execution_count": 18,
      "id": "bfe15a8d",
      "metadata": {
        "lines_to_next_cell": 1,
        "id": "bfe15a8d"
      },
      "outputs": [],
      "source": [
        "# FUNCIÓN CALIFICADA to_spacy:\n",
        "\n",
        "def to_spacy(df, nlp):\n",
        "    ### ESCRIBA SU CÓDIGO AQUÍ ###\n",
        "    corpus = []\n",
        "    if 'news' not in df.columns:\n",
        "        raise ValueError(\"El dataframe debe contener una columna llamada 'news'.\")\n",
        "\n",
        "    # El dataframe no tenga valores nulos en la columna 'news'\n",
        "    df = df.dropna(subset=['news'])\n",
        "\n",
        "    # Usa el método pipe para procesar los textos en masa\n",
        "    texts = df['news'].tolist()  # Convierte la columna a una lista de textos\n",
        "    corpus = list(nlp.pipe(texts))  # Usa pipe para procesar los textos en paralelo y convierte el resultado a una lista\n",
        "\n",
        "    return corpus\n",
        "    ### FIN DEL CÓDIGO ###"
      ]
    },
    {
      "cell_type": "code",
      "execution_count": 19,
      "id": "88493b60",
      "metadata": {
        "id": "88493b60",
        "colab": {
          "base_uri": "https://localhost:8080/"
        },
        "outputId": "36865ea0-5c83-4d48-88bf-e6805815f3ea"
      },
      "outputs": [
        {
          "output_type": "stream",
          "name": "stdout",
          "text": [
            "\u001b[38;5;2m✔ Download and installation successful\u001b[0m\n",
            "You can now load the package via spacy.load('es_core_news_sm')\n",
            "\u001b[38;5;3m⚠ Restart to reload dependencies\u001b[0m\n",
            "If you are in a Jupyter or Colab notebook, you may need to restart Python in\n",
            "order to load all the package's dependencies. You can do this by selecting the\n",
            "'Restart kernel' or 'Restart runtime' option.\n"
          ]
        }
      ],
      "source": [
        "#TEST_CELL\n",
        "import spacy\n",
        "spacy.cli.download(\"es_core_news_sm\")\n",
        "nlp = spacy.load(\"es_core_news_sm\")"
      ]
    },
    {
      "cell_type": "code",
      "execution_count": 20,
      "id": "245ecb2a",
      "metadata": {
        "lines_to_next_cell": 1,
        "id": "245ecb2a",
        "colab": {
          "base_uri": "https://localhost:8080/",
          "height": 54
        },
        "outputId": "0edcb695-597b-443e-e05d-6d1428d0cb1e"
      },
      "outputs": [
        {
          "output_type": "display_data",
          "data": {
            "text/plain": [
              "list"
            ]
          },
          "metadata": {}
        },
        {
          "output_type": "display_data",
          "data": {
            "text/plain": [
              "spacy.tokens.doc.Doc"
            ]
          },
          "metadata": {}
        }
      ],
      "source": [
        "#TEST_CELL\n",
        "corpus = to_spacy(df.head(20), nlp)\n",
        "display(type(corpus))\n",
        "display(type(corpus[0]))"
      ]
    },
    {
      "cell_type": "markdown",
      "id": "02bd4b77",
      "metadata": {
        "id": "02bd4b77"
      },
      "source": [
        "**Salida esperada**\n",
        "\n",
        "Este caso de prueba debe convertir los primeros 20 documentos del corpus a objetos de `spacy`.\n",
        "\n",
        "```python\n",
        "❱ display(type(corpus))\n",
        "list\n",
        "\n",
        "❱ display(type(corpus[0]))\n",
        "spacy.tokens.doc.Doc\n",
        "```"
      ]
    },
    {
      "cell_type": "markdown",
      "id": "879194e8",
      "metadata": {
        "id": "879194e8"
      },
      "source": [
        "## **4. Recuento de Stop Words**\n",
        "---\n",
        "\n",
        "En este punto, deberá implementar una función que permita contar el número de _stopwords_ por cada documento (de `spacy`). Para ello, debe implementar la función `stopword_count` para obtener los conteos de _stopwords_ a partir de una lista de documentos de `spacy`.\n",
        "\n",
        "**Parámetros**\n",
        "---\n",
        "\n",
        "- `corpus`: lista de documentos de `spacy`.\n",
        "\n",
        "**Retorna**\n",
        "\n",
        "- `counts`: lista de conteos de _stopwords_ por documento."
      ]
    },
    {
      "cell_type": "markdown",
      "id": "04adc5bb",
      "metadata": {
        "id": "04adc5bb"
      },
      "source": [
        "<details>    \n",
        "<summary>\n",
        "    <font size=\"3\" color=\"darkgreen\"><b>Pistas</b></font>\n",
        "</summary>\n",
        "\n",
        "- Recuerde que cada `Token` en `spacy` contiene el atributo `is_stop` que determina si el elemento es una _stopword_.\n",
        "- Puede recorrer todos los tokens de un documento de `spacy` al iterar sobre el mismo, y sumar los valores de `token.is_stop`.\n",
        "</details>"
      ]
    },
    {
      "cell_type": "code",
      "execution_count": 21,
      "id": "36774065",
      "metadata": {
        "lines_to_next_cell": 1,
        "id": "36774065"
      },
      "outputs": [],
      "source": [
        "# FUNCIÓN CALIFICADA stopword_count:\n",
        "\n",
        "def stopword_count(corpus):\n",
        "    ### ESCRIBA SU CÓDIGO AQUÍ ###\n",
        "    counts = []\n",
        "    for doc in corpus:\n",
        "        # Contar las stopwords en el documento\n",
        "        count = sum(token.is_stop for token in doc)\n",
        "        counts.append(count)\n",
        "    return counts\n",
        "    ### FIN DEL CÓDIGO ###"
      ]
    },
    {
      "cell_type": "code",
      "execution_count": 22,
      "id": "a49535a2",
      "metadata": {
        "id": "a49535a2",
        "colab": {
          "base_uri": "https://localhost:8080/",
          "height": 35
        },
        "outputId": "8b75416e-f1b1-4964-a83f-602ce3a195bd"
      },
      "outputs": [
        {
          "output_type": "display_data",
          "data": {
            "text/plain": [
              "[135, 190, 210, 248, 438, 88, 362, 58, 288, 100]"
            ]
          },
          "metadata": {}
        }
      ],
      "source": [
        "#TEST_CELL\n",
        "nlp = spacy.load(\n",
        "        \"es_core_news_sm\",\n",
        "        exclude=[\n",
        "            \"ner\", \"tok2vec\", \"senter\", \"morphologizer\",\n",
        "            \"parser\", \"attribute_ruler\", \"lemmatizer\"]\n",
        "        )\n",
        "corpus = to_spacy(df, nlp)\n",
        "counts = stopword_count(corpus)\n",
        "display(counts[:10])"
      ]
    },
    {
      "cell_type": "markdown",
      "id": "5251d784",
      "metadata": {
        "id": "5251d784"
      },
      "source": [
        "**Salida esperada**\n",
        "\n",
        "Este caso de prueba debe obtener los conteos de _stopwords_ para los primeros 10 documentos del corpus.\n",
        "\n",
        "```python\n",
        "❱ display(counts[:10])\n",
        "[135, 190, 210, 248, 438, 88, 362, 58, 288, 100]\n",
        "```"
      ]
    },
    {
      "cell_type": "code",
      "execution_count": 23,
      "id": "81747429",
      "metadata": {
        "lines_to_next_cell": 1,
        "id": "81747429",
        "colab": {
          "base_uri": "https://localhost:8080/",
          "height": 454
        },
        "outputId": "88000ec1-8042-416d-9eba-f53f87ead816"
      },
      "outputs": [
        {
          "output_type": "display_data",
          "data": {
            "text/plain": [
              "<Figure size 640x480 with 1 Axes>"
            ],
            "image/png": "[encoded data removed]"
          },
          "metadata": {}
        }
      ],
      "source": [
        "#TEST_CELL\n",
        "fig, ax = plt.subplots()\n",
        "sns.histplot(counts, kde=True, ax=ax)\n",
        "ax.set_xlabel(\"Número de stopwords\")\n",
        "ax.set_ylabel(\"Conteo\")\n",
        "fig.show()"
      ]
    },
    {
      "cell_type": "markdown",
      "id": "7aa2ecb3",
      "metadata": {
        "id": "7aa2ecb3"
      },
      "source": [
        "**Salida esperada**\n",
        "\n",
        "Este caso de prueba debe generar un histograma de la distribución de stopwords en todos los documentos.\n",
        "\n",
        "<img src=\"https://drive.google.com/uc?export=view&id=1FYuE4Yywuu65KOJ5z_Oz8WPphdnx1toT\" width=\"50%\">"
      ]
    },
    {
      "cell_type": "markdown",
      "id": "1c411bbd",
      "metadata": {
        "id": "1c411bbd"
      },
      "source": [
        "## **5. Extracción de Palabras por etiquetas POS**\n",
        "---\n",
        "\n",
        "En este punto, deberá implementar una función que permita extraer las palabras de un texto que tengan etiquetas de tipo POS de grano grueso dentro de una lista de posibles valores.\n",
        "\n",
        "Para ello deberá implementar la función `get_pos_words` la cual recibe una lista de documentos de `spacy` y debe retornar una lista de strings con las palabras filtradas y concatenadas por cada documento.\n",
        "\n",
        "**Parámetros**\n",
        "---\n",
        "\n",
        "- `corpus`: lista de documentos de `spacy`.\n",
        "- `pos_list`: lista de etiquetas POS a filtrar.\n",
        "\n",
        "**Retorna**\n",
        "\n",
        "- `filtered_pos`: lista strings con el filtro por etiquetas POS."
      ]
    },
    {
      "cell_type": "markdown",
      "id": "250543a1",
      "metadata": {
        "id": "250543a1"
      },
      "source": [
        "<details>    \n",
        "<summary>\n",
        "    <font size=\"3\" color=\"darkgreen\"><b>Pistas</b></font>\n",
        "</summary>\n",
        "\n",
        "- Recuerde que puede acceder a una etiqueta de tipo _POS_ con el atributo `pos_` de un `Token` de `spacy`.\n",
        "- Es importante que el resultado por cada documento sea un string y no una lista de tokens de `spacy`, puede usar el método `join` de los strings en _Python_ y el atributo `text` de los tokens de `spacy`.\n",
        "</details>"
      ]
    },
    {
      "cell_type": "code",
      "execution_count": 24,
      "id": "424dff2d",
      "metadata": {
        "lines_to_next_cell": 1,
        "id": "424dff2d"
      },
      "outputs": [],
      "source": [
        "# FUNCIÓN CALIFICADA get_pos_words:\n",
        "def get_pos_words(corpus, pos_list):\n",
        "    ### ESCRIBA SU CÓDIGO AQUÍ ###\n",
        "    filtered_pos = []\n",
        "    for doc in corpus:\n",
        "        # Filtrar palabras con las etiquetas POS especificadas\n",
        "        pos_words = [token.text for token in doc if token.pos_ in pos_list]\n",
        "\n",
        "        # Concatenar las palabras en un solo string\n",
        "        pos_words_text = ' '.join(pos_words)\n",
        "\n",
        "        # Añadir el resultado a la lista\n",
        "        filtered_pos.append(pos_words_text)\n",
        "    return filtered_pos\n",
        "    ### FIN DEL CÓDIGO ###"
      ]
    },
    {
      "cell_type": "code",
      "execution_count": 25,
      "id": "e0c24684",
      "metadata": {
        "id": "e0c24684",
        "colab": {
          "base_uri": "https://localhost:8080/",
          "height": 73
        },
        "outputId": "79babed5-9ae2-442f-bdfb-7a8caf80592d"
      },
      "outputs": [
        {
          "output_type": "display_data",
          "data": {
            "text/plain": [
              "'dijo buscará apoyará endurecieron expresaron dijo tomó mantener reforzar elijan salir avanzar continuará dijo dicho exigirá revelen afectar permitirles captar revelar denegó cotizar denegada añadió reforzado lanzó dijo reforzaría cotizan dijo someterse cotizar dicho informar cotizar'"
            ],
            "application/vnd.google.colaboratory.intrinsic+json": {
              "type": "string"
            }
          },
          "metadata": {}
        }
      ],
      "source": [
        "#TEST_CELL\n",
        "nlp = spacy.load(\"es_core_news_sm\")\n",
        "corpus = to_spacy(df.head(2), nlp)\n",
        "filtered_pos = get_pos_words(corpus, [\"VERB\"])\n",
        "display(filtered_pos[1])"
      ]
    },
    {
      "cell_type": "markdown",
      "id": "773688b8",
      "metadata": {
        "id": "773688b8"
      },
      "source": [
        "**Salida esperada**\n",
        "\n",
        "Este caso de prueba debe extraer todos los verbos del segundo texto\n",
        "\n",
        "```python\n",
        "❱ display(filtered_pos[1])\n",
        "'dijo buscará apoyará endurecieron expresaron dijo tomó mantener reforzar elijan salir avanzar continuará dijo dicho exigirá revelen afectar permitirles captar revelar denegó cotizar denegada añadió reforzado lanzó dijo reforzaría cotizan dijo someterse cotizar dicho informar cotizar'\n",
        "```"
      ]
    },
    {
      "cell_type": "code",
      "execution_count": 26,
      "id": "bd93e168",
      "metadata": {
        "lines_to_next_cell": 1,
        "id": "bd93e168",
        "colab": {
          "base_uri": "https://localhost:8080/",
          "height": 110
        },
        "outputId": "53b8504d-7fbe-4d0b-a5a8-08361daef243"
      },
      "outputs": [
        {
          "output_type": "display_data",
          "data": {
            "text/plain": [
              "'foro banca desarrollo director sostenibilidad clientes aseguró entender sostenibilidad asociar costos creo tener concepto negocio tener impacto imaginamos reto cambiar prioridades compitan casos tratar mantener prioridad cuanto ambición negocios reto coyuntura sostenibilidad abre oportunidades fuentes financiamiento agregó directivo argumentó encuentra juego tema rentabilidad negocios particular tema viabilidad mundo negocios mundo general conocemos riesgos transición cambio inclusión desarrollo están dejó aspecto paralelo responsabilidad tiene estar estrategias negocio manera logran impulsar proyectos incluidos aspiraciones concluyó'"
            ],
            "application/vnd.google.colaboratory.intrinsic+json": {
              "type": "string"
            }
          },
          "metadata": {}
        }
      ],
      "source": [
        "#TEST_CELL\n",
        "filtered_pos = get_pos_words(corpus, [\"VERB\", \"NOUN\"])\n",
        "display(filtered_pos[0])"
      ]
    },
    {
      "cell_type": "markdown",
      "id": "8f3529ad",
      "metadata": {
        "id": "8f3529ad"
      },
      "source": [
        "**Salida esperada**\n",
        "\n",
        "Este caso de prueba debe extraer todos los verbos y sustantivos del primer documento\n",
        "\n",
        "```python\n",
        "❱ display(filtered_pos[0])\n",
        "'foro banca desarrollo director sostenibilidad clientes aseguró entender sostenibilidad asociar costos creo tener concepto negocio tener impacto imaginamos reto cambiar prioridades compitan casos tratar mantener prioridad cuanto ambición negocios reto coyuntura sostenibilidad abre oportunidades fuentes financiamiento agregó directivo argumentó encuentra juego tema rentabilidad negocios particular tema viabilidad mundo negocios mundo general conocemos riesgos transición cambio inclusión desarrollo están dejó aspecto paralelo responsabilidad tiene estar estrategias negocio manera logran impulsar proyectos incluidos aspiraciones concluyó'\n",
        "```"
      ]
    },
    {
      "cell_type": "markdown",
      "id": "77d9f39b",
      "metadata": {
        "id": "77d9f39b"
      },
      "source": [
        "## **6. Preprocesamiento**\n",
        "---\n",
        "\n",
        "En este punto usted deberá implementar un flujo de preprocesamiento para textos. Las tareas que debe realizar son las siguientes:\n",
        "\n",
        "1. Filtrar stopwords.\n",
        "2. Seleccionar únicamente palabras en algunas categorías de tipo _POS_\n",
        "3. Normalizar el texto con `unidecode`.\n",
        "4. Convertir a minúsculas.\n",
        "\n",
        "Para ello debe implementar la función `preprocess` la cual recibirá un documento de `spacy` y la lista de etiquetas _POS_ para filtrar, con esto deberá retornar un string con el resultado del preprocesamiento.\n",
        "\n",
        "**Parámetros**\n",
        "---\n",
        "\n",
        "- `doc`: documento de `spacy`.\n",
        "- `pos_list`: lista de etiquetas POS a filtrar.\n",
        "\n",
        "**Retorna**\n",
        "\n",
        "- `preprocess_text`: texto preprocesado."
      ]
    },
    {
      "cell_type": "markdown",
      "id": "609fc44b",
      "metadata": {
        "id": "609fc44b"
      },
      "source": [
        "<details>    \n",
        "<summary>\n",
        "    <font size=\"3\" color=\"darkgreen\"><b>Pistas</b></font>\n",
        "</summary>\n",
        "\n",
        "- Recuerde filtrar stopwords con el atributo `is_stop` y filtrar etiquetas _POS_ con el atributo `pos_` de los tokens de `spacy`.\n",
        "- Con la librería `unidecode` puede normalizar el texto.\n",
        "- Puede convertir los textos en minúsculas con el atributo `lower` de un string.\n",
        "</details>"
      ]
    },
    {
      "cell_type": "code",
      "execution_count": 32,
      "id": "0b32751d",
      "metadata": {
        "lines_to_next_cell": 1,
        "id": "0b32751d"
      },
      "outputs": [],
      "source": [
        "# FUNCIÓN CALIFICADA preprocess:\n",
        "\n",
        "def preprocess(doc, pos_list):\n",
        "    ### ESCRIBA SU CÓDIGO AQUÍ ###\n",
        "    preprocess_text = \"\"\n",
        "\n",
        "    # Filtrar palabras por etiquetas POS especificadas\n",
        "    #pos_words = get_pos_words([doc], pos_list)[0]\n",
        "\n",
        "    # Filtrar stopwords de las palabras filtradas\n",
        "    #filtered_words = [word for word in pos_words.split() ]\n",
        "\n",
        "    # Unificar en un solo string\n",
        "    #preprocess_text = ' '.join(filtered_words)\n",
        "\n",
        "    # Filtrar tokens que no sean stopwords y que estén en la lista de etiquetas POS proporcionada\n",
        "    filtered_tokens = [token for token in doc if not token.is_stop and token.pos_ in pos_list]\n",
        "\n",
        "    # Normalizar y convertir a minúsculas\n",
        "    preprocess_text = ' '.join([unidecode(token.text.lower()) for token in filtered_tokens])\n",
        "\n",
        "\n",
        "    # Normalizar el texto con unidecode y convertir a minúsculas\n",
        "    #preprocess_text = unidecode(preprocess_text).lower()\n",
        "\n",
        "    return preprocess_text\n",
        "    ### FIN DEL CÓDIGO ###"
      ]
    },
    {
      "cell_type": "code",
      "execution_count": 33,
      "id": "b2c1ac66",
      "metadata": {
        "id": "b2c1ac66",
        "colab": {
          "base_uri": "https://localhost:8080/",
          "height": 110
        },
        "outputId": "f41a1e0d-7a1e-4c88-a554-80487c9fa6cb"
      },
      "outputs": [
        {
          "output_type": "display_data",
          "data": {
            "text/plain": [
              "'foro banca desarrollo director sostenibilidad clientes entender sostenibilidad asociar costos concepto negocio impacto imaginamos reto cambiar prioridades compitan casos tratar mantener prioridad ambicion negocios reto coyuntura sostenibilidad abre oportunidades fuentes financiamiento directivo argumento juego tema rentabilidad negocios particular tema viabilidad mundo negocios mundo general conocemos riesgos transicion cambio inclusion desarrollo aspecto paralelo responsabilidad estrategias negocio logran impulsar proyectos incluidos aspiraciones concluyo'"
            ],
            "application/vnd.google.colaboratory.intrinsic+json": {
              "type": "string"
            }
          },
          "metadata": {}
        }
      ],
      "source": [
        "#TEST_CELL\n",
        "nlp = spacy.load(\"es_core_news_sm\")\n",
        "corpus = to_spacy(df.head(10), nlp)\n",
        "preprocess_text = preprocess(corpus[0], [\"VERB\", \"NOUN\"])\n",
        "display(preprocess_text)"
      ]
    },
    {
      "cell_type": "markdown",
      "id": "3bfdfa3f",
      "metadata": {
        "id": "3bfdfa3f"
      },
      "source": [
        "**Salida esperada**\n",
        "\n",
        "Este caso de prueba muestra el primer documento preprocesado.\n",
        "\n",
        "```python\n",
        "❱ display(preprocess_text)\n",
        "'foro banca desarrollo director sostenibilidad clientes aseguro entender sostenibilidad asociar costos creo tener concepto negocio tener impacto imaginamos reto cambiar prioridades compitan casos tratar mantener prioridad cuanto ambicion negocios reto coyuntura sostenibilidad abre oportunidades fuentes financiamiento agrego directivo argumento encuentra juego tema rentabilidad negocios particular tema viabilidad mundo negocios mundo general conocemos riesgos transicion cambio inclusion desarrollo estan dejo aspecto paralelo responsabilidad tiene estar estrategias negocio manera logran impulsar proyectos incluidos aspiraciones concluyo'\n",
        "```"
      ]
    },
    {
      "cell_type": "code",
      "execution_count": 34,
      "id": "597c7461",
      "metadata": {
        "id": "597c7461",
        "colab": {
          "base_uri": "https://localhost:8080/",
          "height": 147
        },
        "outputId": "b89c2e03-988c-4508-8950-6679eea861e5"
      },
      "outputs": [
        {
          "output_type": "display_data",
          "data": {
            "text/plain": [
              "'regulador valores china domingo cooperacion par salidas bolsa extranjero supervisores exigencias divulgacion informacion empresas preocupacion medidas pekin comision reguladora valores china csrc comunicado nota requisitos comision valores unidos sec empresas partes espiritu respeto comunicaciones regulacion csrc empresas bolsa politica china reforma apertura apertura mundo sitio sec viernes companias incertidumbre acciones gobierno china resultados empresa capital mercados valores emisores permiso autoridades bolsas riesgos aprobacion sec.china control emision acciones extranjero investigacion ciberseguridad gigante transporte didi global inc mes cotizacion york gabinete julio supervision empresas extranjero regulador ciberespacio empresa datos millon usuarios revision ciberseguridad extranjero banco china empresas pago planes extranjero'"
            ],
            "application/vnd.google.colaboratory.intrinsic+json": {
              "type": "string"
            }
          },
          "metadata": {}
        }
      ],
      "source": [
        "#TEST_CELL\n",
        "nlp = spacy.load(\"es_core_news_sm\")\n",
        "corpus = to_spacy(df.head(10), nlp)\n",
        "preprocess_text = preprocess(corpus[1], [\"NOUN\", \"PROPN\"])\n",
        "display(preprocess_text)"
      ]
    },
    {
      "cell_type": "markdown",
      "id": "110c9597",
      "metadata": {
        "id": "110c9597"
      },
      "source": [
        "**Salida esperada**\n",
        "\n",
        "Este caso de prueba muestra el segundo documento preprocesado.\n",
        "\n",
        "```python\n",
        "❱ display(preprocess_text)\n",
        "'regulador valores china domingo cooperacion par salidas bolsa extranjero supervisores exigencias divulgacion informacion empresas preocupacion medidas pekin comision reguladora valores china csrc comunicado nota requisitos comision valores estados unidos sec empresas partes espiritu respeto comunicaciones regulacion csrc empresas bolsa politica china reforma apertura apertura mundo sitio sec viernes companias incertidumbre acciones gobierno china resultados empresa capital mercados valores emisores permiso autoridades bolsas riesgos aprobacion sec.china control emision acciones extranjero investigacion ciberseguridad gigante transporte didi global inc mes dias cotizacion nueva york gabinete julio supervision empresas extranjero regulador ciberespacio empresa datos millon usuarios revision ciberseguridad extranjero banco china empresas pago planes extranjero'\n",
        "```"
      ]
    },
    {
      "cell_type": "markdown",
      "id": "a03fabd7",
      "metadata": {
        "id": "a03fabd7"
      },
      "source": [
        "## Créditos\n",
        "---\n",
        "\n",
        "* **Profesor:** [Felipe Restrepo Calle](https://dis.unal.edu.co/~ferestrepoca/)\n",
        "* **Asistentes docentes:**\n",
        "    - [Juan Sebastián Lara Ramírez](https://www.linkedin.com/in/juan-sebastian-lara-ramirez-43570a214/).\n",
        "* **Coordinador de virtualización:**\n",
        "    - [Edder Hernández Forero](https://www.linkedin.com/in/edder-hernandez-forero-28aa8b207/).\n",
        "\n",
        "**Universidad Nacional de Colombia** - *Facultad de Ingeniería*"
      ]
    }
  ],
  "metadata": {
    "jupytext": {
      "cell_metadata_filter": "-all",
      "main_language": "python",
      "notebook_metadata_filter": "-all"
    },
    "colab": {
      "provenance": [],
      "toc_visible": true,
      "include_colab_link": true
    },
    "language_info": {
      "name": "python"
    },
    "kernelspec": {
      "name": "python3",
      "display_name": "Python 3"
    }
  },
  "nbformat": 4,
  "nbformat_minor": 5
}