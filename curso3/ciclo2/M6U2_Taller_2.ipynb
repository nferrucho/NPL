{
  "cells": [
    {
      "cell_type": "markdown",
      "metadata": {
        "id": "view-in-github",
        "colab_type": "text"
      },
      "source": [
        "<a href=\"https://colab.research.google.com/github/nferrucho/NPL/blob/main/curso3/ciclo2/M6U2_Taller_2.ipynb\" target=\"_parent\"><img src=\"https://colab.research.google.com/assets/colab-badge.svg\" alt=\"Open In Colab\"/></a>"
      ]
    },
    {
      "cell_type": "markdown",
      "metadata": {
        "id": "mLlSr7BaKSLF"
      },
      "source": [
        "<img src = \"https://drive.google.com/uc?export=view&id=10mKgunAZowpvpttdYdjoDeCM2RSMGXer\" alt = \"Encabezado MLDS\" width = \"100%\">  </img>"
      ]
    },
    {
      "cell_type": "markdown",
      "metadata": {
        "id": "fEewD2N0RkMc"
      },
      "source": [
        "# **Taller 2: Herramientas y utilidades**\n",
        "---\n",
        "\n",
        "En este notebook evaluaremos los conceptos aprendidos sobre herramientas y utilidades.\n",
        "\n",
        "Ejecute las siguientes celdas para conectarse a UNCode:"
      ]
    },
    {
      "cell_type": "code",
      "execution_count": null,
      "metadata": {
        "id": "AMgHXLh7Zg1l"
      },
      "outputs": [],
      "source": [
        "!pip install dvc dvc-gdrive\n",
        "!pip install mlflow\n",
        "!apt install tree git"
      ]
    },
    {
      "cell_type": "markdown",
      "metadata": {
        "id": "S-ocd--frFi7"
      },
      "source": [
        "Ejecute la siguiente celda para instalar algunas librerías y configurar el servidor de `mlflow`."
      ]
    },
    {
      "cell_type": "markdown",
      "metadata": {
        "id": "R6-Jscb8Zyhb"
      },
      "source": [
        "Importamos las librerías necesarias:"
      ]
    },
    {
      "cell_type": "code",
      "execution_count": null,
      "metadata": {
        "id": "PIB7qeOuVkfh"
      },
      "outputs": [],
      "source": [
        "# Librerías de utilidad para manipulación y visualización de datos.\n",
        "!pip install -U scikit-learn\n",
        "import os\n",
        "import mlflow\n",
        "import pandas as pd\n",
        "import subprocess\n",
        "import matplotlib.pyplot as plt\n",
        "from sklearn.linear_model import LinearRegression\n",
        "from IPython import get_ipython\n",
        "from IPython.display import display\n",
        "\n",
        "# Ignorar warnings.\n",
        "import warnings\n",
        "warnings.filterwarnings('ignore')"
      ]
    },
    {
      "cell_type": "code",
      "execution_count": null,
      "metadata": {
        "id": "jUMP_2CPqwRY"
      },
      "outputs": [],
      "source": [
        "# Versiones de las librerías usadas.\n",
        "import sklearn\n",
        "import dvc\n",
        "!python --version\n",
        "print('MLflow', mlflow.__version__)\n",
        "print('Scikit-learn', sklearn.__version__)\n",
        "print('DVC', dvc.__version__)"
      ]
    },
    {
      "cell_type": "markdown",
      "metadata": {
        "id": "dxNzX3sfq3gZ"
      },
      "source": [
        "Esta actividad se realizó con las siguientes versiones:\n",
        "*  Python 3.10.11\n",
        "*  MLflow 2.1.0\n",
        "*  Scikit-learn 1.2.2\n",
        "*  DVC 2.56.0"
      ]
    },
    {
      "cell_type": "code",
      "execution_count": null,
      "metadata": {
        "id": "TAqkL4giPflw"
      },
      "outputs": [],
      "source": [
        "!pip install rlxcrypt\n",
        "!wget --no-cache -O session.pye -q https://raw.githubusercontent.com/JuezUN/INGInious/master/external%20libs/session.pye"
      ]
    },
    {
      "cell_type": "code",
      "execution_count": null,
      "metadata": {
        "id": "CKNgJYjHPhtr"
      },
      "outputs": [],
      "source": [
        "import rlxcrypt\n",
        "import session\n",
        "\n",
        "grader = session.LoginSequence(\"MAPEDDACML-GroupMLDS-6-2024-2@88aebd25-16d0-401c-9741-e86d48145f1f\")"
      ]
    },
    {
      "cell_type": "markdown",
      "metadata": {
        "id": "arWKQDholpQ9"
      },
      "source": [
        "> **La tarea es incremental, por lo tanto es recomendable resolver los puntos en orden**"
      ]
    },
    {
      "cell_type": "markdown",
      "metadata": {
        "id": "hvlFb8xffeRb"
      },
      "source": [
        "## **1. Inicialización del Repositorio**\n",
        "---\n",
        "\n",
        "En este punto debe inicializar un repositorio de `git`. Ejecute la siguiente celda rellenando la información para identificarse:"
      ]
    },
    {
      "cell_type": "code",
      "execution_count": null,
      "metadata": {
        "id": "xzUaxzqEfolq"
      },
      "outputs": [],
      "source": [
        "!git config --global user.email \"ejemplo@unal.edu.co\"\n",
        "!git config --global user.name \"Mi nombre o username\"\n",
        "!git config --global init.defaultBranch master"
      ]
    },
    {
      "cell_type": "markdown",
      "metadata": {
        "id": "2RcieGAQf_H5"
      },
      "source": [
        "Una vez realizado el *login*, usted deberá realizar los siguientes pasos:\n",
        "\n",
        "1. Crear una carpeta llamada `myrepo`.\n",
        "2. Moverse dentro de la carpeta creada.\n",
        "3. Inicializar el repositorio con `git`."
      ]
    },
    {
      "cell_type": "markdown",
      "metadata": {
        "id": "kAsG3vcvgQ29"
      },
      "source": [
        "<details>    \n",
        "<summary>\n",
        "    <font size=\"3\" color=\"darkgreen\"><b>Pista 1</b></font>\n",
        "</summary>\n",
        "\n",
        "* Recuerde que con `mkdir` puede crear carpetas.\n",
        "</details>"
      ]
    },
    {
      "cell_type": "markdown",
      "metadata": {
        "id": "09aaEP4hgaRJ"
      },
      "source": [
        "<details>    \n",
        "<summary>\n",
        "    <font size=\"3\" color=\"darkgreen\"><b>Pista 2</b></font>\n",
        "</summary>\n",
        "\n",
        "* El comando `%cd` es necesario para movimientos dentro de linux.\n",
        "</details>"
      ]
    },
    {
      "cell_type": "markdown",
      "metadata": {
        "id": "04_DZm8RgfZq"
      },
      "source": [
        "<details>    \n",
        "<summary>\n",
        "    <font size=\"3\" color=\"darkgreen\"><b>Pista 3</b></font>\n",
        "</summary>\n",
        "\n",
        "* Recuerde que dentro de un terminal, el comando `git` le permite realizar cualquier operación con un repositorio.\n",
        "</details>"
      ]
    },
    {
      "cell_type": "code",
      "execution_count": null,
      "metadata": {
        "id": "lthlEDrzhLLM"
      },
      "outputs": [],
      "source": [
        "#TEST_CELL\n",
        "\"\"\"\n",
        "    Descomente esta celda si lo requiere\n",
        "    Este comando borrará el directorio myrepo\n",
        "    si existe en el directorio actual\n",
        "\"\"\"\n",
        "# ![ -d myrepo ] && rm -rf myrepo"
      ]
    },
    {
      "cell_type": "code",
      "execution_count": null,
      "metadata": {
        "id": "qF7_vHRbgQVT"
      },
      "outputs": [],
      "source": [
        "# INGRESE SU CÓDIGO AQUÍ\n",
        "..."
      ]
    },
    {
      "cell_type": "markdown",
      "metadata": {
        "id": "6aMOyq6Mx9Yf"
      },
      "source": [
        "Use las siguientes celdas para probar su solución:"
      ]
    },
    {
      "cell_type": "code",
      "execution_count": null,
      "metadata": {
        "id": "r9gqdQbEg6Hv"
      },
      "outputs": [],
      "source": [
        "#TEST_CELL\n",
        "!pwd | awk -F '/' '{print $NF}'"
      ]
    },
    {
      "cell_type": "markdown",
      "metadata": {
        "id": "xow0N9yyia9_"
      },
      "source": [
        "**Salida esperada**\n",
        "\n",
        "En este caso debería obtener el nombre del repositorio:\n",
        "\n",
        "```python\n",
        "❱ !pwd | awk -F '/' '{print $NF}'\n",
        "myrepo\n",
        "```"
      ]
    },
    {
      "cell_type": "code",
      "execution_count": null,
      "metadata": {
        "id": "osxhCa_4ihky"
      },
      "outputs": [],
      "source": [
        "#TEST_CELL\n",
        "!git status"
      ]
    },
    {
      "cell_type": "markdown",
      "metadata": {
        "id": "jcs_bLDiiid_"
      },
      "source": [
        "**Salida esperada**\n",
        "\n",
        "En este caso se valida que estemos dentro de un repositorio de `git`.\n",
        "\n",
        "```python\n",
        "❱ !git status\n",
        "On branch main\n",
        "\n",
        "No commits yet\n",
        "\n",
        "nothing to commit (create/copy files and use \"git add\" to track)\n",
        "```"
      ]
    },
    {
      "cell_type": "markdown",
      "metadata": {
        "id": "FN9ExHNKizb4"
      },
      "source": [
        "#### **Evaluar código**"
      ]
    },
    {
      "cell_type": "markdown",
      "metadata": {
        "id": "FfuMIuzchsrv"
      },
      "source": [
        "> **Esta celda debe ser ejecutada obligatoriamente antes de evaluar el ejercicio**"
      ]
    },
    {
      "cell_type": "code",
      "execution_count": null,
      "metadata": {
        "id": "ygtyPlf8hsKH"
      },
      "outputs": [],
      "source": [
        "result = subprocess.run(['pwd'], stdout=subprocess.PIPE)\n",
        "current_directory = result.stdout.decode('utf-8').strip().split('/')[-1]"
      ]
    },
    {
      "cell_type": "code",
      "execution_count": null,
      "metadata": {
        "id": "Lkx0OCDUmbEl"
      },
      "outputs": [],
      "source": [
        "grader.run_test(\"Test 1_1\", globals())"
      ]
    },
    {
      "cell_type": "markdown",
      "metadata": {
        "id": "XaRFqDDgtU0n"
      },
      "source": [
        "## **2. Versionamiento de Datos**\n",
        "---\n",
        "En este caso utilizaremos un conjunto de datos que contiene información sobre la edad y la estatura de niños. El conjunto de datos lo encuentra en la siguiente URL:\n",
        "\n",
        "> [https://raw.githubusercontent.com/mindlab-unal/mlds6-datasets/main/u2/children_age.parquet](https://raw.githubusercontent.com/mindlab-unal/mlds6-datasets/main/u2/children_age.parquet)"
      ]
    },
    {
      "cell_type": "markdown",
      "metadata": {
        "id": "oFQG4_-M72Z7"
      },
      "source": [
        "### **2.1. Inicialización de DVC**\n",
        "---\n",
        "\n",
        "En este punto deberá:\n",
        "\n",
        "1. Crear una carpeta con el nombre `data`.\n",
        "2. Inicializar el repositorio de `dvc`."
      ]
    },
    {
      "cell_type": "code",
      "execution_count": null,
      "metadata": {
        "id": "xMdJKhk4qeHT"
      },
      "outputs": [],
      "source": [
        "#TEST_CELL\n",
        "\"\"\"\n",
        "    Descomente esta celda si lo requiere\n",
        "    Este comando borrará el directorio data\n",
        "    si existe en el directorio actual\n",
        "\"\"\"\n",
        "# ![ -d data ] && rm -rf data"
      ]
    },
    {
      "cell_type": "code",
      "execution_count": null,
      "metadata": {
        "id": "upnuUi9Eq7xX"
      },
      "outputs": [],
      "source": [
        "# INGRESE SU CÓDIGO AQUÍ\n",
        "..."
      ]
    },
    {
      "cell_type": "markdown",
      "metadata": {
        "id": "XqDJqyV6JvXm"
      },
      "source": [
        "Use las siguientes celdas para probar su solución:"
      ]
    },
    {
      "cell_type": "code",
      "execution_count": null,
      "metadata": {
        "id": "tTLl2qiY_iWP"
      },
      "outputs": [],
      "source": [
        "#TEST_CELL\n",
        "import subprocess\n",
        "!ls -a"
      ]
    },
    {
      "cell_type": "markdown",
      "metadata": {
        "id": "LLl98bk-_mQ4"
      },
      "source": [
        "**Salida esperada**\n",
        "\n",
        "En este caso debería obtener los archivos dentro del repositorio:\n",
        "\n",
        "```python\n",
        "❱ !ls -a\n",
        ".  ..  data  .dvc  .dvcignore  .git\n",
        "```"
      ]
    },
    {
      "cell_type": "markdown",
      "metadata": {
        "id": "5T6GxmiX9kP-"
      },
      "source": [
        "<details>    \n",
        "<summary>\n",
        "    <font size=\"3\" color=\"darkgreen\"><b>Pista 1</b></font>\n",
        "</summary>\n",
        "\n",
        "\n",
        "* Recuerde que con `mkdir` puede crear carpetas."
      ]
    },
    {
      "cell_type": "markdown",
      "metadata": {
        "id": "dGER6Lv_9ujt"
      },
      "source": [
        "<details>    \n",
        "<summary>\n",
        "    <font size=\"3\" color=\"darkgreen\"><b>Pista 2</b></font>\n",
        "</summary>\n",
        "\n",
        "\n",
        "* Recuerde que dentro de un terminal, el comando `dvc` le permite realizar cualquier operación con los datos."
      ]
    },
    {
      "cell_type": "markdown",
      "metadata": {
        "id": "lQyHcZAK1xp7"
      },
      "source": [
        "#### **Evaluar código**"
      ]
    },
    {
      "cell_type": "markdown",
      "metadata": {
        "id": "eoxIeEbBjhqO"
      },
      "source": [
        "> **Esta celda debe ser ejecutada obligatoriamente antes de evaluar el ejercicio**"
      ]
    },
    {
      "cell_type": "code",
      "execution_count": null,
      "metadata": {
        "id": "NCFOInnnjmZL"
      },
      "outputs": [],
      "source": [
        "dvc_comm = subprocess.check_output(['ls', '-a'])\n",
        "dvc_directory = dvc_comm.decode('utf-8').splitlines()"
      ]
    },
    {
      "cell_type": "code",
      "execution_count": null,
      "metadata": {
        "id": "OFwSYxcyjevU"
      },
      "outputs": [],
      "source": [
        "grader.run_test(\"Test 2_1\", globals())"
      ]
    },
    {
      "cell_type": "markdown",
      "metadata": {
        "id": "gDnhzBI6rNJT"
      },
      "source": [
        "### **2.2. Descarga del Conjunto de Datos**\n",
        "---\n",
        "\n",
        "En este punto deberá:\n",
        "\n",
        "1. Descargar el conjunto de datos, el cual contiene información sobre la edad de niños y niñas y sus alturas.\n",
        "<center><img src = \"https://drive.google.com/uc?export=view&id=19eSPuglYKDOvH0DemEJaPCfTTwSAfUpF\" alt = \"Encabezado MLDS\" width = \"80%\">  </img></center>\n",
        "2. Registrarlo con `dvc`.\n",
        "3. Crear un commit en `git` con el siguiente mensaje: `Versión inicial del conjunto de datos`"
      ]
    },
    {
      "cell_type": "code",
      "execution_count": null,
      "metadata": {
        "id": "N_WUyrdk4Gfa"
      },
      "outputs": [],
      "source": [
        "# INGRESE SU CÓDIGO AQUÍ\n",
        "..."
      ]
    },
    {
      "cell_type": "markdown",
      "metadata": {
        "id": "kwi2FLEwrNJU"
      },
      "source": [
        "Use las siguientes celdas para probar su solución:"
      ]
    },
    {
      "cell_type": "code",
      "execution_count": null,
      "metadata": {
        "id": "FUXidgON4djb"
      },
      "outputs": [],
      "source": [
        "#TEST_CELL\n",
        "import subprocess\n",
        "!ls -a data/"
      ]
    },
    {
      "cell_type": "markdown",
      "metadata": {
        "id": "-QDtNQAF4e2I"
      },
      "source": [
        "**Salida esperada**\n",
        "\n",
        "En este caso debería obtener los archivos dentro de la carpeta de datos.\n",
        "\n",
        "```python\n",
        "❱ !ls -a data/\n",
        ".  ..  children_age.parquet  children_age.parquet.dvc  .gitignore\n",
        "```"
      ]
    },
    {
      "cell_type": "code",
      "execution_count": null,
      "metadata": {
        "id": "JvPLsxtn4kA7"
      },
      "outputs": [],
      "source": [
        "#TEST_CELL\n",
        "!git log -1 --pretty=format:%s"
      ]
    },
    {
      "cell_type": "markdown",
      "metadata": {
        "id": "WrYvocxS4hnn"
      },
      "source": [
        "**Salida esperada**\n",
        "\n",
        "En este caso obtendrá el mensaje del último commit:\n",
        "\n",
        "```python\n",
        "❱ !git log -1 --pretty=format:%s\n",
        "Versión inicial del conjunto de datos\n",
        "```"
      ]
    },
    {
      "cell_type": "markdown",
      "metadata": {
        "id": "M6yRKmDc4u80"
      },
      "source": [
        "Cargamos el conjunto de datos:"
      ]
    },
    {
      "cell_type": "code",
      "execution_count": null,
      "metadata": {
        "id": "tfXYtQzp4uJB"
      },
      "outputs": [],
      "source": [
        "#TEST_CELL\n",
        "data = pd.read_parquet(\"data/children_age.parquet\")\n",
        "display(data.head())"
      ]
    },
    {
      "cell_type": "markdown",
      "metadata": {
        "id": "kxOJH729rNJV"
      },
      "source": [
        "<details>    \n",
        "<summary>\n",
        "    <font size=\"3\" color=\"darkgreen\"><b>Pista 1</b></font>\n",
        "</summary>\n",
        "\n",
        "\n",
        "* Recuerde que puede descargar archivos con el comando `wget`."
      ]
    },
    {
      "cell_type": "markdown",
      "metadata": {
        "id": "liWRJwV2rNJW"
      },
      "source": [
        "<details>    \n",
        "<summary>\n",
        "    <font size=\"3\" color=\"darkgreen\"><b>Pista 2</b></font>\n",
        "</summary>\n",
        "\n",
        "\n",
        "* Recuerde que desde un terminal puede usar el comando `dvc` para interactuar con la herramienta."
      ]
    },
    {
      "cell_type": "markdown",
      "metadata": {
        "id": "SbO_sqha4RIZ"
      },
      "source": [
        "<details>    \n",
        "<summary>\n",
        "    <font size=\"3\" color=\"darkgreen\"><b>Pista 3</b></font>\n",
        "</summary>\n",
        "\n",
        "\n",
        "* Puede usar el comando `git add -A` para mover todos los archivos al area de preparación."
      ]
    },
    {
      "cell_type": "markdown",
      "metadata": {
        "id": "TjpHU9urrNJW"
      },
      "source": [
        "#### **Evaluar código**"
      ]
    },
    {
      "cell_type": "markdown",
      "metadata": {
        "id": "YqPOZ1hNjJgO"
      },
      "source": [
        "> **Esta celda debe ser ejecutada obligatoriamente antes de evaluar el ejercicio**"
      ]
    },
    {
      "cell_type": "code",
      "execution_count": null,
      "metadata": {
        "id": "Kk2H5Aa5jM3x"
      },
      "outputs": [],
      "source": [
        "data_directory = subprocess.check_output(['ls', '-a', 'data/'])\n",
        "s_data_directory_dvc = data_directory.decode('utf-8').splitlines()"
      ]
    },
    {
      "cell_type": "code",
      "execution_count": null,
      "metadata": {
        "id": "x_3uuCuPrNJX"
      },
      "outputs": [],
      "source": [
        "grader.run_test(\"Test 2_2\", globals())"
      ]
    },
    {
      "cell_type": "markdown",
      "metadata": {
        "id": "smPcUqFO6ve3"
      },
      "source": [
        "## **3. Modelamiento**\n",
        "---\n",
        "\n",
        "En este punto deberá entrenar un modelo de regresión sobre los datos y versionar el modelo con `mlflow`.\n",
        "\n",
        "Para esto, iniciamos el servidor de `mlflow`:"
      ]
    },
    {
      "cell_type": "code",
      "execution_count": null,
      "metadata": {
        "id": "WkY5phLZ9W6N"
      },
      "outputs": [],
      "source": [
        "command = \"\"\"\n",
        "mlflow server \\\n",
        "        --backend-store-uri sqlite:///tracking.db \\\n",
        "        --default-artifact-root file:mlruns \\\n",
        "        -p 5000 &\n",
        "\"\"\"\n",
        "get_ipython().system_raw(command)"
      ]
    },
    {
      "cell_type": "markdown",
      "metadata": {
        "id": "46dMqxHY9bhX"
      },
      "source": [
        "Instalamos `ngrok`:"
      ]
    },
    {
      "cell_type": "code",
      "execution_count": null,
      "metadata": {
        "id": "XPTeAmdn9cNf"
      },
      "outputs": [],
      "source": [
        "!pip install pyngrok"
      ]
    },
    {
      "cell_type": "markdown",
      "metadata": {
        "id": "jrmBjDZ99gBw"
      },
      "source": [
        "Debe reemplazar el token en la siguiente variable:"
      ]
    },
    {
      "cell_type": "code",
      "execution_count": null,
      "metadata": {
        "id": "g58J2sQb9gqH"
      },
      "outputs": [],
      "source": [
        "token = \"\" # Agregue el token dentro de las comillas\n",
        "os.environ[\"NGROK_TOKEN\"] = token"
      ]
    },
    {
      "cell_type": "markdown",
      "metadata": {
        "id": "hd2O8_fa9678"
      },
      "source": [
        "Nos autenticamos en ngrok:"
      ]
    },
    {
      "cell_type": "code",
      "execution_count": null,
      "metadata": {
        "id": "XUO61_Aj97de"
      },
      "outputs": [],
      "source": [
        "!ngrok authtoken $NGROK_TOKEN"
      ]
    },
    {
      "cell_type": "markdown",
      "metadata": {
        "id": "mQrALksd9_Ci"
      },
      "source": [
        "Ahora, lanzamos la conexión con ngrok:"
      ]
    },
    {
      "cell_type": "code",
      "execution_count": null,
      "metadata": {
        "id": "vcW4WQ9B9_nJ"
      },
      "outputs": [],
      "source": [
        "from pyngrok import ngrok\n",
        "ngrok.connect(5000, \"http\")"
      ]
    },
    {
      "cell_type": "markdown",
      "metadata": {
        "id": "h26hHM2l-D8y"
      },
      "source": [
        "Especificamos que MLFlow debe usar el servidor que estamos manejando."
      ]
    },
    {
      "cell_type": "code",
      "execution_count": null,
      "metadata": {
        "id": "aDYmLgxM-ExG"
      },
      "outputs": [],
      "source": [
        "mlflow.set_tracking_uri(\"http://localhost:5000\")"
      ]
    },
    {
      "cell_type": "markdown",
      "metadata": {
        "id": "BkFE17bI62S6"
      },
      "source": [
        "### **3.1. Creación del Experimento**\n",
        "---\n",
        "\n",
        "Cree un experimento con el nombre `children` y con una ruta para artefactos ubicada en la carpeta `mlruns`. Esto debe quedar almacenado en la variable `exp_id`:"
      ]
    },
    {
      "cell_type": "code",
      "execution_count": null,
      "metadata": {
        "id": "kFL-y0uN-e9j"
      },
      "outputs": [],
      "source": [
        "# INGRESE SU CÓDIGO AQUÍ\n",
        "try:\n",
        "    exp_id = ...\n",
        "except:\n",
        "    print(\"Revise que el código sea correcto, el experimento únicamente se puede crear una vez (evite correr el código varias veces)\")"
      ]
    },
    {
      "cell_type": "markdown",
      "metadata": {
        "id": "NSVCxxyU-3wp"
      },
      "source": [
        "Use las siguientes celdas para probar su solución:"
      ]
    },
    {
      "cell_type": "code",
      "execution_count": null,
      "metadata": {
        "id": "akvyxBoB-4DP"
      },
      "outputs": [],
      "source": [
        "#TEST_CELL\n",
        "experiment = mlflow.get_experiment_by_name(\"children\")\n",
        "print(experiment.name)\n",
        "print(experiment.artifact_location.split(\"/\")[-1])"
      ]
    },
    {
      "cell_type": "markdown",
      "metadata": {
        "id": "5bzASDQQ_Hci"
      },
      "source": [
        "**Salida esperada**\n",
        "\n",
        "Este caso obtiene el nombre del experimento y la ruta de los artefactos:\n",
        "\n",
        "```python\n",
        "❱ print(experiment.name)\n",
        "children\n",
        "\n",
        "❱ print(experiment.artifact_location.split(\"/\")[-1])\n",
        "mlruns\n",
        "```"
      ]
    },
    {
      "cell_type": "markdown",
      "metadata": {
        "id": "ftSmgHTb7geI"
      },
      "source": [
        "<details>    \n",
        "<summary>\n",
        "    <font size=\"3\" color=\"darkgreen\"><b>Pista 1</b></font>\n",
        "</summary>\n",
        "\n",
        "\n",
        "* Un experimento se crea con la función `create_experiment` de `mlflow`."
      ]
    },
    {
      "cell_type": "markdown",
      "metadata": {
        "id": "q7MYhKQU7sy5"
      },
      "source": [
        "<details>    \n",
        "<summary>\n",
        "    <font size=\"3\" color=\"darkgreen\"><b>Pista 2</b></font>\n",
        "</summary>\n",
        "\n",
        "\n",
        "* El experimento lo debe crear una única vez, no pueden haber nombres repetidos."
      ]
    },
    {
      "cell_type": "markdown",
      "metadata": {
        "id": "VPgxUYC472JL"
      },
      "source": [
        "#### **Evaluar código**"
      ]
    },
    {
      "cell_type": "code",
      "execution_count": null,
      "metadata": {
        "id": "26T43R7KDJ5_"
      },
      "outputs": [],
      "source": [
        "grader.run_test(\"Test 3_1\", globals())"
      ]
    },
    {
      "cell_type": "markdown",
      "metadata": {
        "id": "nroHCpogFDul"
      },
      "source": [
        "### **3.2. Entrenamiento del modelo**\n",
        "---\n",
        "\n",
        "Implemente una función que permita entrenar un modelo de regresión lineal en `sklearn` para predecir la estatura (`height`) en función de la edad de un niño (`age`). Esta función deberá retornar el modelo entrenado y el valor del $r^2$.\n",
        "\n",
        "Para esto tiene que implementar la función `linear_reg` la cual toma como entrada los datos y retorna el modelo y la métrica.\n",
        "\n",
        "**Parametros**\n",
        "\n",
        "- `df`: conjunto de datos como un `pd.DataFrame`.\n",
        "\n",
        "**Retorna**\n",
        "\n",
        "- `model`: modelo entrenado.\n",
        "- `score`: $r^2$."
      ]
    },
    {
      "cell_type": "code",
      "execution_count": null,
      "metadata": {
        "id": "oyiv6hvwFDul"
      },
      "outputs": [],
      "source": [
        "# FUNCIÓN CALIFICADA linear_reg:\n",
        "def linear_reg(df):\n",
        "    ### ESCRIBA SU CÓDIGO AQUÍ ###\n",
        "    model = ...\n",
        "    score = ...\n",
        "    return model, score\n",
        "    ### FIN DEL CÓDIGO ###"
      ]
    },
    {
      "cell_type": "markdown",
      "metadata": {
        "id": "k8rdta93FDul"
      },
      "source": [
        "Use las siguientes celdas para probar su solución:"
      ]
    },
    {
      "cell_type": "code",
      "execution_count": null,
      "metadata": {
        "id": "iQsnrigRFDul"
      },
      "outputs": [],
      "source": [
        "#TEST_CELL\n",
        "model, score = linear_reg(data)\n",
        "print(model.coef_)\n",
        "print(model.intercept_)\n",
        "print(score)"
      ]
    },
    {
      "cell_type": "markdown",
      "metadata": {
        "id": "J8VakjXhFDum"
      },
      "source": [
        "**Salida esperada**\n",
        "\n",
        "En este caso debería obtener los parámetros del modelo y la métrica de desempeño:\n",
        "\n",
        "```python\n",
        "❱ print(model.coef_)\n",
        "[7.99838893]\n",
        "\n",
        "❱ print(model.intercept_)\n",
        "50.08623865698938\n",
        "\n",
        "❱ print(score)\n",
        "0.9431512177265906\n",
        "```"
      ]
    },
    {
      "cell_type": "markdown",
      "metadata": {
        "id": "YFTnYHxAFDum"
      },
      "source": [
        "<details>    \n",
        "<summary>\n",
        "    <font size=\"3\" color=\"darkgreen\"><b>Pista 1</b></font>\n",
        "</summary>\n",
        "\n",
        "\n",
        "* Recuerde que un modelo de regresión lineal en `sklearn` se usa con la clase `LinearRegression`."
      ]
    },
    {
      "cell_type": "markdown",
      "metadata": {
        "id": "C9Nl6U4BFDum"
      },
      "source": [
        "<details>    \n",
        "<summary>\n",
        "    <font size=\"3\" color=\"darkgreen\"><b>Pista 2</b></font>\n",
        "</summary>\n",
        "\n",
        "\n",
        "* Recuerde que puede evaluar el $r^2$ en modelos de regresión con el método `score`."
      ]
    },
    {
      "cell_type": "markdown",
      "metadata": {
        "id": "SDq1Gyk0FDum"
      },
      "source": [
        "#### **Evaluar código**"
      ]
    },
    {
      "cell_type": "code",
      "execution_count": null,
      "metadata": {
        "id": "8vZaPRU7FDum"
      },
      "outputs": [],
      "source": [
        "grader.run_test(\"Test 3_2\", globals())"
      ]
    },
    {
      "cell_type": "markdown",
      "metadata": {
        "id": "CSfJmao_Hx-s"
      },
      "source": [
        "### **3.3. Ejecución en mlflow**\n",
        "---\n",
        "\n",
        "En este punto deberá crear una ejecución donde registre el modelo y la métrica obtenida. Para esto deberá crear una ejecución con el nombre `linear` dado el experimento correspondiente.\n",
        "\n",
        "Debe implementar la función `mlflow_run`, la cual toma como entrada los datos y un experimento; esta debe registrar el modelo bajo el nombre `model` y la métrica bajo el nombre de `score`.\n",
        "\n",
        "**Parámetros**\n",
        "---\n",
        "\n",
        "- `df`: conjunto de datos como un `pd.DataFrame`.\n",
        "- `exp`: experimento de `mlflow`.\n",
        "\n",
        "**Retorna**\n",
        "---\n",
        "\n",
        "- `run`: ejecución de `mlflow`."
      ]
    },
    {
      "cell_type": "code",
      "execution_count": null,
      "metadata": {
        "id": "oaAfKKA4Hx-t"
      },
      "outputs": [],
      "source": [
        "# FUNCIÓN CALIFICADA mlflow_run:\n",
        "def mlflow_run(df, exp):\n",
        "    ### ESCRIBA SU CÓDIGO AQUÍ ###\n",
        "    run = ...\n",
        "    return run\n",
        "    ### FIN DEL CÓDIGO ###"
      ]
    },
    {
      "cell_type": "markdown",
      "metadata": {
        "id": "RJ7pSVqVHx-t"
      },
      "source": [
        "Use las siguientes celdas para probar su solución:"
      ]
    },
    {
      "cell_type": "code",
      "execution_count": null,
      "metadata": {
        "id": "tBqEQ2jdHx-t"
      },
      "outputs": [],
      "source": [
        "#TEST_CELL\n",
        "run = mlflow_run(data, experiment.experiment_id)\n",
        "print(run.info.run_name)"
      ]
    },
    {
      "cell_type": "markdown",
      "metadata": {
        "id": "6C4rnEhfHx-t"
      },
      "source": [
        "**Salida esperada**\n",
        "\n",
        "Esta prueba permite obtener el nombre de la ejecución:\n",
        "\n",
        "```python\n",
        "❱ print(run.info.run_name)\n",
        "linear\n",
        "```"
      ]
    },
    {
      "cell_type": "code",
      "execution_count": null,
      "metadata": {
        "id": "j2ouoPNeIHxA"
      },
      "outputs": [],
      "source": [
        "#TEST_CELL\n",
        "run = mlflow_run(data, experiment.experiment_id)\n",
        "path = run.info.artifact_uri\n",
        "print(os.listdir(path))"
      ]
    },
    {
      "cell_type": "markdown",
      "metadata": {
        "id": "5N5Y-oieIHxB"
      },
      "source": [
        "**Salida esperada**\n",
        "\n",
        "Esta prueba permite obtener el artefacto del modelo entrenado.\n",
        "\n",
        "```python\n",
        "❱ print(os.listdir(path))\n",
        "['model']\n",
        "```"
      ]
    },
    {
      "cell_type": "markdown",
      "metadata": {
        "id": "OYbh75tGHx-t"
      },
      "source": [
        "<details>    \n",
        "<summary>\n",
        "    <font size=\"3\" color=\"darkgreen\"><b>Pista 1</b></font>\n",
        "</summary>\n",
        "\n",
        "\n",
        "* Puede crear una ejecución con la función `mlflow.start_run`."
      ]
    },
    {
      "cell_type": "markdown",
      "metadata": {
        "id": "sEwzHCvqHx-t"
      },
      "source": [
        "<details>    \n",
        "<summary>\n",
        "    <font size=\"3\" color=\"darkgreen\"><b>Pista 2</b></font>\n",
        "</summary>\n",
        "\n",
        "\n",
        "* Recuerde usar la función `end_run` antes de terminar la ejecución."
      ]
    },
    {
      "cell_type": "markdown",
      "metadata": {
        "id": "LOd_HWbtHx-t"
      },
      "source": [
        "#### **Evaluar código**"
      ]
    },
    {
      "cell_type": "code",
      "execution_count": null,
      "metadata": {
        "id": "YAkvr0DxHx-u"
      },
      "outputs": [],
      "source": [
        "grader.run_test(\"Test 3_3\", globals())"
      ]
    },
    {
      "cell_type": "markdown",
      "metadata": {
        "id": "08eh8HTknUDd"
      },
      "source": [
        "# **Evaluación**"
      ]
    },
    {
      "cell_type": "code",
      "execution_count": null,
      "metadata": {
        "id": "pb0DP1bWwRll"
      },
      "outputs": [],
      "source": [
        "grader.submit_task(globals())"
      ]
    },
    {
      "cell_type": "markdown",
      "metadata": {
        "id": "C2k0jvWP0evr"
      },
      "source": [
        "# **Recursos Adicionales**\n",
        "---\n",
        "\n",
        "- _Fuente de los íconos_\n",
        "    - Freepik. Niños dibujados a mano de regreso a la escuela [AI]. https://www.freepik.es/vector-gratis/ninos-dibujados-mano-regreso-escuela_8925986.htm\n",
        "    - Freepik. Set de personajes de estilo kawaii [AI]. https://www.freepik.es/vector-gratis/set-personajes-estilo-kawaii_4280240.htm\n",
        "    - Freepik. Colección de jóvenes [AI]. https://www.freepik.es/vector-gratis/coleccion-jovenes_7035486.htm\n",
        "    - Freepik. Conjunto de banners horizontales planos de hierba verde [JPG]. https://www.freepik.es/vector-gratis/conjunto-banners-horizontales-planos-hierba-verde_2875612.htm\n",
        "    - Freepik. Niños de regreso a la escuela en diseño plano [AI]. https://www.freepik.es/vector-gratis/ninos-regreso-escuela-diseno-plano_9158409.htm"
      ]
    },
    {
      "cell_type": "markdown",
      "metadata": {
        "id": "xwLqFy8Zzet_"
      },
      "source": [
        "# **Créditos**\n",
        "---\n",
        "\n",
        "* **Profesor:** [Jorge E. Camargo, PhD](https://dis.unal.edu.co/~jecamargom/).\n",
        "\n",
        "* **Asistentes docentes:** [Juan Sebastián Lara Ramírez](https://www.linkedin.com/in/juan-sebastian-lara-ramirez-43570a214/).\n",
        "* **Diseño de imágenes:**\n",
        "  - [Rosa Alejandra Superlano Esquibel](https://www.linkedin.com/in/alejandra-superlano-02b74313a/).\n",
        "  - [Mario Andrés Rodríguez Triana](mailto:mrodrigueztr@unal.edu.co).\n",
        "\n",
        "* **Coordinador de virtualización:** [Edder Hernández Forero](https://www.linkedin.com/in/edder-hernandez-forero-28aa8b207/).\n",
        "\n",
        "**Universidad Nacional de Colombia** - *Facultad de Ingeniería*"
      ]
    }
  ],
  "metadata": {
    "colab": {
      "provenance": [],
      "toc_visible": true,
      "include_colab_link": true
    },
    "gpuClass": "standard",
    "kernelspec": {
      "display_name": "Python 3",
      "name": "python3"
    },
    "language_info": {
      "name": "python"
    }
  },
  "nbformat": 4,
  "nbformat_minor": 0
}