{
  "nbformat": 4,
  "nbformat_minor": 0,
  "metadata": {
    "colab": {
      "provenance": [],
      "include_colab_link": true
    },
    "kernelspec": {
      "display_name": "Python 3",
      "language": "python",
      "name": "python3"
    },
    "language_info": {
      "codemirror_mode": {
        "name": "ipython",
        "version": 3
      },
      "file_extension": ".py",
      "mimetype": "text/x-python",
      "name": "python",
      "nbconvert_exporter": "python",
      "pygments_lexer": "ipython3",
      "version": "3.7.6"
    }
  },
  "cells": [
    {
      "cell_type": "markdown",
      "metadata": {
        "id": "view-in-github",
        "colab_type": "text"
      },
      "source": [
        "<a href=\"https://colab.research.google.com/github/nferrucho/NPL/blob/main/NBK_Introducci%C3%B3n_a_Jupyter_Notebooks.ipynb\" target=\"_parent\"><img src=\"https://colab.research.google.com/assets/colab-badge.svg\" alt=\"Open In Colab\"/></a>"
      ]
    },
    {
      "cell_type": "markdown",
      "metadata": {
        "id": "5iHVsxGCtyma"
      },
      "source": [
        "<img src = \"https://drive.google.com/uc?export=view&id=1i8YgsoNGCPQJWRdFcZfoCwRa6wP5yR4x\" alt = \"Encabezado MLDS\" width = \"90%\">  </img>"
      ]
    },
    {
      "cell_type": "markdown",
      "metadata": {
        "id": "FZBr4_ny6UCr"
      },
      "source": [
        "# **Introducción a *Jupyter Notebooks***\n",
        "---"
      ]
    },
    {
      "cell_type": "markdown",
      "metadata": {
        "id": "hmnVoRtpsKp4"
      },
      "source": [
        "\n",
        "<img src = \"https://jupyter.org/assets/homepage/main-logo.svg\" alt = \"Encabezado MLDS\" width = \"10%\">  </img>"
      ]
    },
    {
      "cell_type": "markdown",
      "metadata": {
        "id": "45mGoUjaZRWP"
      },
      "source": [
        "Los *notebooks* de [Jupyter](https://jupyter.org/) son documentos con un entorno computacional interactivo integrado, que permiten organizar y ejecutar código fuente de lenguajes de programación como *Python* o *R*. En otras palabras, podemos pensar en un *notebook* como una \"página web enriquecida\" donde vamos a poder tomar apuntes en forma de texto, títulos, imágenes, enlaces web, y lo más importante, vamos a poder ejecutar código fuente de forma interactiva.\n",
        "\n",
        "Esto es posible con el uso de *kernels*, software que provee soporte a un lenguaje de programación específico. En el transcurso del programa de formación virtual en *Machine Learning and Data Science* de la Universidad Nacional de Colombia se trabajará con el kernel de [IPython](https://ipython.org/) para [Python 3](https://www.python.org/)."
      ]
    },
    {
      "cell_type": "markdown",
      "metadata": {
        "id": "mwV7hl0-VVvZ"
      },
      "source": [
        "Estos documentos funcionan con la ejecución de aplicaciones web, que controlan y permiten la interacción con el sistema operativo. Para ejecutar estas aplicaciones se consideran dos escenarios:\n",
        "\n",
        "1. Con software ejecutado en una máquina local como un computador.\n",
        "2. En la nube mediante plataformas especializadas.\n",
        "\n",
        "En el primer caso, para trabajar en local con Notebooks de *Jupyter* recomendamos usar [Anaconda](https://www.anaconda.com/products/individual), un entorno especializado para ciencia de datos que trae por defecto la posibilidad de trabajar con *notebooks* de *Jupyter* con *Python*. Además, para una mayor flexibilidad y personalización se pueden configurar entornos de desarrollo (como [Visual Studio Code](https://code.visualstudio.com/) o [PyCharm](https://www.jetbrains.com/pycharm/)) para el desarrollo de *notebooks* de *Jupyter* con añadidos como la compleción de código o herramientas para depurar y ejecutar sus programas. Estos permiten la interacción con *Anaconda*.\n",
        "\n",
        "En el segundo caso, para trabajar en la nube, se recomienda trabajar con [*Google Colaboratory*](https://colab.research.google.com/notebooks/intro.ipynb) o simplemente *Colab*, un entorno gratuito de *notebooks* basados en *Jupyter* que no requiere configuración y se ejecuta completamente en la nube. Adicionalmente, es posible acceder a entornos computacionales avanzados por  con hardware especializado GPU o TPU, gracias a la infraestructura computacional que ofrece *Google Cloud Platform*.\n",
        "\n",
        "**La opción recomendada desde el programa de formación en MLDS es *Google Colab*** y el desarrollo de este tutorial y de los materiales que encontrará en su ruta de aprendizaje se realizó tomando esta plataforma como referencia."
      ]
    },
    {
      "cell_type": "markdown",
      "metadata": {
        "id": "xTwj-uWlhHN9"
      },
      "source": [
        "## **1. Celdas de Texto**\n",
        "---\n",
        "\n",
        "El primer tipo de celda es uno con el que ya ha interactuado en el transcurso de este material. Se trata de las **celdas de texto**, con las que podremos dar estructura y forma a la presentación de nuestro *notebook*.\n",
        "\n",
        "Las celdas de texto usan sintaxis propia de un lenguaje de marcado que permite combinar texto con código de lenguajes como *HTML* o *LaTex*. El lenguaje utilizado se llama *Markdown*, el cual tiene ligeras diferencias entre sus versiones para *Jupyter* y *Colab*. Se trata de una especificación ligera para la escritura de contenido HTML. Si quiere conocer más acerca de este lenguaje, lo invitamos a consultar su documentación y guía de inicio de [markdown](/notebooks/markdown_guide.ipynb)."
      ]
    },
    {
      "cell_type": "markdown",
      "metadata": {
        "id": "EaSUD-b6pFJD"
      },
      "source": [
        "### ***Markdown***\n",
        "---"
      ]
    },
    {
      "cell_type": "markdown",
      "metadata": {
        "id": "Gd_M9svrZFde"
      },
      "source": [
        "A continuación, se presentan algunos ejemplos de celdas de texto comunes. Puede dar **doble-click** en cada celda para conocer y editar su contenido. Luego, hacer **clic** por fuera de la celda para ver su resultado."
      ]
    },
    {
      "cell_type": "markdown",
      "metadata": {
        "id": "88t7CrFzt7gI"
      },
      "source": [
        "Haga **doble clic** aquí para ver el código fuente de esta celda:\n",
        "# Este es un título\n",
        "## Los numerales\n",
        "### indican el tamaño\n",
        "####  del título y\n",
        "#####  son usados por Colab\n",
        "######   en su tabla de contenido."
      ]
    },
    {
      "cell_type": "markdown",
      "metadata": {
        "id": "e_s-y0L4Z9j8"
      },
      "source": [
        "\n",
        "Se pueden usar separadores horizontales así:\n",
        "\n",
        "---\n",
        "\n",
        "o así:\n",
        "\n",
        "***\n",
        "\n",
        "Este es texto normal.\n",
        "\n",
        "*Se pueden hacer cursivas* **y negrillas.**\n",
        "_También se puede_ con __barra al piso.__\n",
        "y __*combinados*__ ***de varias*** *__maneras__*"
      ]
    },
    {
      "cell_type": "markdown",
      "metadata": {
        "id": "Xl0HTXkoaG10"
      },
      "source": [
        "Se puede usar texto con estilo de código en una línea: `!python --version`\n",
        "\n",
        "O como un bloque:\n",
        "```\n",
        "def hello_world():\n",
        "  print('Hello World!')\n",
        "```\n",
        "\n",
        "\n",
        "Incluso en negrilla: **`print('Hello World!)`**\n",
        "\n",
        "> Se puede definir bloques de texto en formato de cita.\n",
        "\n",
        "*  Se pueden\n",
        "*  definir\n",
        "*  listas sin orden\n",
        "\n",
        "1. Y también\n",
        "2. listas\n",
        "3. ordenadas\n",
        "  * Incluso\n",
        "  * anidadas\n",
        "  * usando la indentación.\n",
        "\n",
        "  También se pueden agregar enlaces a [sitios web](https://www.python.org/)\n",
        "\n",
        "  o agregar imágenes\n",
        "  \n",
        "![Python logo](https://www.python.org/static/community_logos/python-logo-master-v3-TM.png)\n",
        "\n"
      ]
    },
    {
      "cell_type": "markdown",
      "metadata": {
        "id": "rgJLjMVGrATY"
      },
      "source": [
        "### ***LaTeX***\n",
        "---"
      ]
    },
    {
      "cell_type": "markdown",
      "metadata": {
        "id": "SKU9whoRY7DA"
      },
      "source": [
        "[LaTeX](http://www.latex-project.org/) es el lenguaje más conocido para escribir expresiones especiales como fórmulas matemáticas. Para incluir fórmulas u otras expresiones matemáticas se escribe una expresión en lenguaje LaTeX entre un par de signos  **\\$** .\n",
        "\n",
        "Por ejemplo `$\\sqrt{3x-1}+(1+x)^2$` se visualiza así:\n",
        "\n",
        "$\\sqrt{3x-1}+(1+x)^2.$"
      ]
    },
    {
      "cell_type": "markdown",
      "metadata": {
        "id": "0GTRr42MrWT1"
      },
      "source": [
        "### **HTML**\n",
        "---"
      ]
    },
    {
      "cell_type": "markdown",
      "metadata": {
        "id": "U_4E3aJOaXAI"
      },
      "source": [
        "Otra funcionalidad muy importante de los Jupyter Notebook es su integración con el lenguaje [HTML](https://developer.mozilla.org/es/docs/Web/HTML), usado en de documentos de hipertexto para páginas web. Si bien *Markdown* admite HTML, en *Colab* a veces es necesario emplear celdas de código (se verán en la siguiente sección) mediante la etiqueta `%%html`. En la mayoría de los casos, *Markdown* es suficiente para la disposición de la mayoría de los recursos audiovisuales, como imágenes o tablas."
      ]
    },
    {
      "cell_type": "code",
      "metadata": {
        "id": "kb6H3Jz9sKp9"
      },
      "source": [
        "%%html\n",
        "<marquee direction = \"left\" scrollamount=\"20\" onmouseover=\"stop()\" onmouseout=\"start()\">\n",
        "    <h1 style=\"color: #ff9900; text-align: center\"> Esta es una introducción a los Jupyter Notebook con Google Colaboratory</h1>\n",
        "    <h2 style=\"color: #ff9900; text-align: center\"> Programa de formación en Machine Learning and Data Science</h2>\n",
        "    <h2 style=\"color: #ff9900; text-align: center\"> Universidad Nacional de Colombia</h2>\n",
        "    <img style = \"display: block; margin-left: auto; margin-right: auto;\" src='https://colab.research.google.com/img/colab_favicon.ico' width='200' height='200'/>\n",
        "</marquee>"
      ],
      "execution_count": null,
      "outputs": []
    },
    {
      "cell_type": "markdown",
      "metadata": {
        "id": "YtUpWBRyiaPG"
      },
      "source": [
        "## **2. Celdas de Código**\n",
        "---\n",
        "\n",
        "El otro tipo de celda permitida en los *Notebooks* es la **celda de código**.\n",
        "\n",
        "Estas celdas permiten escribir código fuente en el lenguaje de programación que soporte el *kernel* empleado. En la esquina superior derecha se indicará que el entorno de ejecución está conectado, o en su defecto le dará la opción para conectarse (haciendo clic en \"Conectar\"). Este material, y el resto de los materiales presentados en los dos primeros módulos, está diseñado para ser ejecutado en el lenguaje de programación ***Python* 3.6 o superior**.\n",
        "\n",
        "Los *notebooks* ofrecen una gran flexibilidad de interacción, al permitir acciones como la carga y descarga de archivos, el uso de entrada del teclado y la presentación de contenido multimedia como texto, imágenes y videos. Usted puede ejecutar el código de una celda con el botón de *play* (al costado izquierdo de la celda en Colab), el botón *Run* (En la barra de herramientas en Jupyter) o mediante la combinación de teclas **Shift+Enter**."
      ]
    },
    {
      "cell_type": "code",
      "metadata": {
        "id": "ypn_RbnYT_a_"
      },
      "source": [
        "# Ejecute esta celda con el botón de ejecutar o la combinación de teclado Shift + Enter.\n",
        "!python --version"
      ],
      "execution_count": null,
      "outputs": []
    },
    {
      "cell_type": "code",
      "metadata": {
        "id": "Ub3SAS4BhJmv"
      },
      "source": [
        "#Definicion variable\n",
        "a = 4"
      ],
      "execution_count": null,
      "outputs": []
    },
    {
      "cell_type": "code",
      "metadata": {
        "id": "KkBqvJp-ZYMG"
      },
      "source": [
        "print(a)"
      ],
      "execution_count": null,
      "outputs": []
    },
    {
      "cell_type": "markdown",
      "metadata": {
        "id": "kNmxWCnDhKzu"
      },
      "source": [
        "Se puede escribir un programa completo como el presentado a continuación. No se preocupe si no entiende lo que está escrito, simplemente ejecute la celda y siga las instrucciones. En los próximos materiales se realizará un taller del lenguaje de programación *Python* donde entenderá los principios de programación de computadores necesarios para el desarrollo de este programa de formación."
      ]
    },
    {
      "cell_type": "code",
      "metadata": {
        "id": "KTYavQqDBEMP"
      },
      "source": [
        "x = 1\n",
        "nombre = input('Por favor, ingrese su nombre.\\n')\n",
        "print(f'¡Hola {nombre}!\\nLe damos la bienvenida al programa de formación en Machine Learning y Data Science.')\n",
        "\n",
        "total = 0\n",
        "conjunto = set()\n",
        "while(total < 5):\n",
        "    fruta = input(f'Ingrese el nombre de una fruta. {5 - total} restantes.\\n')\n",
        "    conjunto.add(fruta)\n",
        "\n",
        "    total = len(conjunto)\n",
        "\n",
        "    print(f'Ha ingresado {total} {\"fruta\" if total == 1 else \"frutas\"} distintas.')\n",
        "\n",
        "frutas = list(conjunto)\n",
        "frutas.sort()\n",
        "print('Estas son las frutas que ingresó ordenadas alfabéticamente.')\n",
        "\n",
        "for fruta in [f'\\t{i + 1}.\\t {frutas[i]}' for i in range(len(frutas))]:\n",
        "    print(fruta)\n"
      ],
      "execution_count": null,
      "outputs": []
    },
    {
      "cell_type": "markdown",
      "metadata": {
        "id": "XZhauEkGu1vD"
      },
      "source": [
        "Las variables declaradas se conservan entre celdas."
      ]
    },
    {
      "cell_type": "code",
      "metadata": {
        "id": "mVhGdTpruhvZ"
      },
      "source": [
        "print(frutas)"
      ],
      "execution_count": null,
      "outputs": []
    },
    {
      "cell_type": "markdown",
      "metadata": {
        "id": "1hzwnqr3cLTC"
      },
      "source": [
        "Incluso, y como veremos más adelante en el módulo, es posible realizar visualizaciones más complejas dentro de los *notebooks*. Por ejemplo:"
      ]
    },
    {
      "cell_type": "code",
      "metadata": {
        "id": "cAcF0kyCcKVd"
      },
      "source": [
        "import numpy as np\n",
        "from matplotlib import pyplot as plt\n",
        "\n",
        "y = 100 + np.random.randn(100)\n",
        "x = [x for x in range(len(y))]\n",
        "plt.plot(x, y, '-')\n",
        "plt.title(\"Gráfica de ejemplo\")\n",
        "plt.show()"
      ],
      "execution_count": null,
      "outputs": []
    },
    {
      "cell_type": "markdown",
      "metadata": {
        "id": "trjlka8hiqty"
      },
      "source": [
        " ## **3. Completado de Código y Ayuda**\n",
        " ---\n",
        " Los *Jupyter Notebook* de *Google Colaboratory* cuentan con una herramienta de auto-completado, posible presionando la combinación de teclas **Ctrl + Espacio**.\n",
        "\n",
        "Por ejemplo importemos el módulo [NumPy](https://numpy.org/) (se discutirá en detalle en los demás materiales de la primera unidad) con el alias de **np**."
      ]
    },
    {
      "cell_type": "code",
      "metadata": {
        "cellView": "both",
        "id": "Q0JKWcmtQSHp"
      },
      "source": [
        "import numpy as np"
      ],
      "execution_count": null,
      "outputs": []
    },
    {
      "cell_type": "markdown",
      "metadata": {
        "id": "1M890-bXeyYp"
      },
      "source": [
        "Luego, escriba ``np.random.`` (Si está desde *Colab* presione la secuencia **Ctrl + Espacio**. Si está desde *Jupyter* presione **Tab**.). Debería ver las opciones posibles de auto-completado para ``np.random``."
      ]
    },
    {
      "cell_type": "code",
      "metadata": {
        "id": "u0pktbDc3ADe"
      },
      "source": [],
      "execution_count": null,
      "outputs": []
    },
    {
      "cell_type": "markdown",
      "metadata": {
        "id": "9ReRLQaxJ-zP"
      },
      "source": [
        "Para abrir la documentación completa de un módulo sólo debe presionar  **Shift+Enter** sobre una celda de código con el nombre del paquete a explorar seguido de  **?**."
      ]
    },
    {
      "cell_type": "code",
      "metadata": {
        "cellView": "both",
        "id": "YgQ6Tu7DK17l"
      },
      "source": [
        "np.random.randint?"
      ],
      "execution_count": null,
      "outputs": []
    },
    {
      "cell_type": "markdown",
      "metadata": {
        "id": "ZAP9OG_Talnw"
      },
      "source": [
        "### **Instalar otra biblioteca**\n",
        "---\n",
        "\n",
        "El entorno de ejecución de *Jupyter* permite ejecutar comandos del sistema operativo mediante el símbolo **!**. Por ejemplo, para instalar módulos o librerías específicas de Python se utiliza el comando **`pip`**. La secuencia de comandos **`pip install`** permite especificar el módulo que se desea instalar.\n",
        "\n",
        "En *Google Colab*, el entorno de ejecución está construido encima de una máquina virtual del sistema operativo *Ubuntu*. Al trabajar en local desde otro sistema operativo como *Windows* o *Mac*, los comandos pueden ser distintos y algunos puntos de este tutorial podrían no funcionar."
      ]
    },
    {
      "cell_type": "code",
      "metadata": {
        "id": "5mlqQmFDa0KX"
      },
      "source": [
        "!pip install leaflet"
      ],
      "execution_count": null,
      "outputs": []
    },
    {
      "cell_type": "markdown",
      "metadata": {
        "id": "5-gchR3teD4W"
      },
      "source": [
        "La librería se instaló correctamente. Esta funcionalidad será muy importante más adelante en el curso."
      ]
    },
    {
      "cell_type": "markdown",
      "metadata": {
        "id": "1p-jIdPca3g_"
      },
      "source": [
        "## **4.  Cargar archivos a Google Colab**\n",
        "---\n",
        "\n",
        "Al trabajar con *Google Colab*, una de las primeras preguntas que se pueden presentar es el manejo de archivos con el entorno en la nube. Se consideran dos opciones para la carga de archivos desde un equipo local.\n",
        "\n",
        "\n",
        ">**Atención: Los comandos discutidos a continuación son exclusivos para la plataforma Colab. Si se está trabajando con otras herramientas el manejo de archivos se realiza organizando las carpetas en las que está alojado el archivo .ipynb del *notebook*.**\n"
      ]
    },
    {
      "cell_type": "markdown",
      "metadata": {
        "id": "Bk1cBRNkssvr"
      },
      "source": [
        "### **4.1. Cargar archivos locales**\n",
        "---\n",
        "Al estar en la nube suele ser necesario subir archivos desde una máquina local para su carga y exploración.\n",
        "\n",
        "Para esto deberá hacer clic en la parte derecha del notebook donde aparece el icono de \"Archivos\" (una carpeta o directorio) y luego podrá hacer clic sobre el icono \"Subir\" (un archivo con una flecha apuntando hacia arriba) para seleccionar los archivos que desea cargar.\n",
        "\n",
        "Otra forma de conseguirlo, será mediante programación, como se muesta a continuación:\n",
        "\n",
        ">**Atención: Los archivos que se carguen o generen solo lo harán temporalmente. Cuando la instancia de ejecución termine (cuando se desconecte el *notebook*), estos se borrarán. Para evitar esto se recomienda trabajar con archivos en la nube, como con *Google Drive*.**"
      ]
    },
    {
      "cell_type": "code",
      "metadata": {
        "id": "dJSxD8E1cDLo"
      },
      "source": [
        "from google.colab import files\n",
        "\n",
        "uploaded = files.upload()\n",
        "\n",
        "for fn in uploaded.keys():\n",
        "    print('User uploaded file \"{name}\" with length {length} bytes'.format(\n",
        "      name=fn, length=len(uploaded[fn])))"
      ],
      "execution_count": null,
      "outputs": []
    },
    {
      "cell_type": "markdown",
      "metadata": {
        "id": "g2q_oxMCfTWs"
      },
      "source": [
        "Para ver la lista de archivos que tiene en el directorio actual:"
      ]
    },
    {
      "cell_type": "code",
      "metadata": {
        "id": "kdydb7nZUUyy"
      },
      "source": [
        "# El comando ls da una lista de los archivos en un directorio.\n",
        "!ls"
      ],
      "execution_count": null,
      "outputs": []
    },
    {
      "cell_type": "markdown",
      "metadata": {
        "id": "iLS4mmnncwbL"
      },
      "source": [
        "### **4.2. Cargar desde *Google Drive***\n",
        "---\n",
        "\n",
        "\n",
        "*Google Colab* tiene interacciones con otras herramientas de *Google*. En particular, se puede vincular una unidad de [Google Drive](https://www.google.com/drive/) para el acceso a archivos alojados en la nube en la ejecución del *notebook*.\n",
        "\n",
        "Al ejecutar la celda aparecerá una URL de autenticación de la cuenta de Google. Una vez en esta página, acepte los permisos de uso de *Google Drive* y copie el token de autenticación generado. Péguelo en la celda de código. La unidad de *Google Drive* quedará montada como un directorio más del sistema de archivos."
      ]
    },
    {
      "cell_type": "code",
      "metadata": {
        "id": "9dqAk3cLc1xx"
      },
      "source": [
        "from google.colab import drive\n",
        "drive.mount('/gdrive')"
      ],
      "execution_count": null,
      "outputs": []
    },
    {
      "cell_type": "code",
      "metadata": {
        "id": "qy8Sq1x-G5y6"
      },
      "source": [
        "!ls \"/gdrive/My Drive/\""
      ],
      "execution_count": null,
      "outputs": []
    },
    {
      "cell_type": "markdown",
      "metadata": {
        "id": "4r5hSQAz6d-g"
      },
      "source": [
        "## **5. Recursos adicionales**\n",
        "---\n",
        "\n",
        "* [Introducción a *Google Colaboratory* (notebooks)](https://colab.research.google.com/notebooks/intro.ipynb)\n",
        "* [Guía de Markdown](https://colab.research.google.com/notebooks/markdown_guide.ipynb)\n",
        "* [*Python* 3: documentación oficial.](https://docs.python.org/3/)"
      ]
    },
    {
      "cell_type": "markdown",
      "metadata": {
        "id": "uJLF2Soq64YL"
      },
      "source": [
        "## **Créditos**\n",
        "\n",
        "* **Profesor:** [Felipe Restrepo Calle](https://dis.unal.edu.co/~ferestrepoca/)\n",
        "* **Asistentes docentes:**\n",
        "  - Alberto Nicolai Romero Martínez\n",
        "  - Miguel Angel Ortiz Marín\n",
        "\n",
        "**Universidad Nacional de Colombia** - *Facultad de Ingeniería*"
      ]
    }
  ]
}