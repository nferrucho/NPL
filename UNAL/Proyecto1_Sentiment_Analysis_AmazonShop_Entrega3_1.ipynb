{
  "cells": [
    {
      "cell_type": "markdown",
      "id": "585dcbfa",
      "metadata": {
        "id": "585dcbfa"
      },
      "source": [
        "<img src=\"https://drive.google.com/uc?export=view&id=1AQr9H9bXDeNPchTRufU78g8z0yxHvrmC\" width=\"100%\">"
      ]
    },
    {
      "cell_type": "markdown",
      "id": "Vn5_-ecHCsS5",
      "metadata": {
        "id": "Vn5_-ecHCsS5"
      },
      "source": [
        "# Entrega Número 1"
      ]
    },
    {
      "cell_type": "markdown",
      "id": "82ea3b5e",
      "metadata": {
        "id": "82ea3b5e"
      },
      "source": [
        "# **Entendimiento del Negocio y Carga de Textos**\n",
        "---\n",
        "\n",
        "## Integrantes del Grupo:\n",
        "\n",
        "\n",
        "\n",
        "|**Integrantes**                            | **Correo** |\n",
        "|------------------------------------------|---------------------------------------------------------------------------------------------------|\n",
        "|Juan Esteban López Cardona | juanes1793@gmail.com                |\n",
        "|Nelson Ferrucho  González | nelson.ferrucho@gmail.com              |\n",
        "\n",
        "\n",
        "\n",
        "\n",
        "\n",
        "\n"
      ]
    },
    {
      "cell_type": "markdown",
      "id": "0DD6-hpzhFsx",
      "metadata": {
        "id": "0DD6-hpzhFsx"
      },
      "source": [
        "# **Proyecto análisis de sentimiento sobre reviews de la app Amazon Shopping**\n",
        "\n",
        "## **Objetivos del Proyecto**\n",
        "\n",
        "El objetivo del proyecto es implementar un sistema de análisis de sentimientos que procese automáticamente el histórico de las reseñas de los usuarios, clasificándolas como positivas, negativas o neutras.\n",
        "\n",
        "Este análisis permitirá obtener insights a gran escala sobre el estado emocional de sus usuarios frente a la aplicación y los servicios que esta presta.\n",
        "\n",
        "- El sistema ayudará a priorizar mejorar en la aplicación basadas en el feedback negativo por parte de los clientes.\n",
        "\n",
        "- Identificar tendencias recurrentes en los problemas de la aplicación.  \n",
        "---\n",
        "## **Objetivos del negocio**\n",
        "\n",
        "El objetivo principal del negocio es mejorar la experiencia del usuario en la palicación de Amazon Shopping al analizar de forma eficiente el feedback de los clientes. Esto permitirá a Amazon identificar áreas de mejora en su plataforma.\n",
        "\n",
        "El análisis  ayudará a detectar problemas clave con la app, como errores en funcionalidades, o frustración con procesos como las devoluciones.\n",
        "\n"
      ]
    },
    {
      "cell_type": "markdown",
      "id": "fdb4c33d",
      "metadata": {
        "id": "fdb4c33d"
      },
      "source": [
        "## **1. Marco de Proyecto**\n",
        "\n",
        "\n"
      ]
    },
    {
      "cell_type": "markdown",
      "id": "7a974ec1",
      "metadata": {
        "id": "7a974ec1"
      },
      "source": [
        "### **1.1. Trasfondo del Negocio**\n",
        "---\n",
        "\n",
        "- **¿Quién es el cliente o los beneficiarios del proyecto?**\n",
        "\n",
        "  El cliente es el equipo de Amazon Shopping, específicamente las áreas de atención al cliente, marketing y gestión de producto. Los beneficiarios incluyen los gerentes de producto, analistas de marketing y el equipo de atención al cliente, que dependen de una interpretación precisa de los comentarios de los usuarios para mejorar la experiencia del cliente y la calidad de la aplicación.\n",
        "\n",
        "- **¿En qué dominio se encuentran?**\n",
        "\n",
        "  Este proyecto se ubica dentro del dominio del marketing y la experiencia del cliente en el contexto del comercio electrónico (e-commerce). El análisis de sentimientos en las reseñas permite a las empresas obtener insights valiosos sobre la percepción de los usuarios respecto a la aplicación y los servicios ofrecidos.\n",
        "\n",
        "\n",
        "- **¿Qué problemas del negocio o del dominio estamos tratando de solucionar?**\n",
        "\n",
        "  El principal problema que intentamos abordar es mejorar la experiencia del cliente mediante el análisis de reseñas para entender qué aspectos de la aplicación o del servicio necesitan optimización. A menudo, Amazon recibe una gran cantidad de reseñas que no se pueden analizar manualmente, lo que dificulta identificar de forma rápida los problemas críticos que enfrentan los usuarios. Al utilizar técnicas de análisis de sentimiento, Amazon podrá priorizar las áreas de mejora (por ejemplo, identificar problemas en versiones específicas de la app o servicios como devoluciones)."
      ]
    },
    {
      "cell_type": "markdown",
      "id": "d09c63e5",
      "metadata": {
        "id": "d09c63e5"
      },
      "source": [
        "### **1.2. Alcance**\n",
        "---\n",
        "\n",
        "- **¿Qué  solución de procesamiento de lenguaje natural tratamos de implementar**\n",
        "\n",
        "  Estamos implementando un sistema de análisis de sentimientos utilizando técnicas de Procesamiento de Lenguaje Natural (NLP) para clasificar automáticamente las reseñas en tres categorías principales: positivas, negativas, y neutras. Esto permitirá a Amazon obtener una visión agregada de cómo los usuarios perciben su aplicación, a lo largo del tiempo y según las versiones de la misma.\n",
        "- **¿Qué  se hará?**\n",
        "\n",
        " Se desarrollará un modelo de clasificación de sentimientos basado en las reseñas de los usuarios. Este proceso incluye las siguientes etapas:\n",
        "\n",
        "  - Extracción de datos: Los datos serán limpiados y preprocesados (eliminación de caracteres no deseados, manejo de valores nulos, tokenización, etc.).\n",
        "\n",
        "  - Etiquetado de sentimientos: Se etiquetarán los datos en tres clases: positivo, negativo o neutral, utilizando tanto métodos automáticos como revisión manual para asegurar la precisión.\n",
        "\n",
        "  - Entrenamiento de modelo: Se entrenará un modelo de clasificación supervisado usando algoritmos como SVM, Random Forest, o modelos más avanzados como transformers (e.g., BERT).\n",
        "\n",
        "  - Validación y Evaluación: El modelo será validado y evaluado utilizando\n",
        "  métricas como precisión, recall, y F1-score.\n",
        "\n",
        "- **¿De qué forma el cliente o beneficiario utilizará el producto del proyecto**\n",
        "\n",
        "    El cliente utilizará los resultados del análisis de sentimiento para:\n",
        "\n",
        "    - Priorizar mejoras en la aplicación basándose en el feedback negativo o en tendencias de problemas recurrentes.\n",
        "\n",
        "    - Realizar informes sobre la satisfacción del cliente en función de las versiones de la app y las funcionalidades afectadas.\n",
        "\n",
        "    - Monitorear el impacto de cambios en el servicio o la aplicación mediante la comparación de sentimientos antes y después de lanzamientos importantes.\n",
        "\n",
        "    - Optimizar la atención al cliente, enfocándose en casos que muestran tendencias negativas recurrentes."
      ]
    },
    {
      "cell_type": "markdown",
      "id": "370e4a5d",
      "metadata": {
        "id": "370e4a5d"
      },
      "source": [
        "### **1.3. Plan**\n",
        "---\n",
        "| **Actividad**                            | **Duración Estimada** | **Descripción**                                                                                   |\n",
        "|------------------------------------------|-----------------------|---------------------------------------------------------------------------------------------------|\n",
        "| **1. Recolección y exploración de datos** | 3 días                | Recolección de los datos de reseñas, análisis exploratorio inicial, y limpieza básica de los datos. |\n",
        "| **2. Preprocesamiento de los datos**      | 5 días                | Limpieza Aplicación de conceptos de SpaCy : limpieza detallada del texto (tokenización, stopwords, normalización) y manejo de puntuaciones.     |\n",
        "| **3. Etiquetado de sentimientos**         | 4 días                | Etiquetado de los datos en **positivo**, **negativo**, y **neutral** mediante métodos automáticos y revisión manual de un subconjunto. |\n",
        "| **4. Selección de modelo y entrenamiento** | 7 días                | Entrenamiento rápido con modelos base como **SVM** o **Logistic Regression**, y pruebas iniciales con modelos avanzados (ej. BERT). |\n",
        "| **5. Evaluación y ajuste del modelo**     | 5 días                | Evaluación del modelo usando **precisión**, **recall**, y **F1-score**. Ajuste de hiperparámetros para mejorar rendimiento. |\n",
        "| **6. Visualización de resultados**        | 3 días                |Representación gráfica del desempeño del modelo y como se encuentran las variables en estudio. Recomendaciones de acuerdo a la interpratación de los datos       |\n",
        "\n",
        "\n"
      ]
    },
    {
      "cell_type": "markdown",
      "id": "4a4e145b",
      "metadata": {
        "id": "4a4e145b"
      },
      "source": [
        "## **2. Definición del Corpus**\n"
      ]
    },
    {
      "cell_type": "markdown",
      "id": "2c5f8274",
      "metadata": {
        "id": "2c5f8274"
      },
      "source": [
        "### **2.1. Origen**\n",
        "---\n",
        "\n",
        "- **¿De dónde vienen los textos?**\n",
        "\n",
        "  El corpus es un dataset tomado de Kaggle que contiene un conjunto de datos o reviews sobre una aplicación de Amazon llamada Amazon Shopping App. Acá el link del dataset: [Dataset Amazon Shopping App](https://www.kaggle.com/datasets/ashishkumarak/amazon-shopping-reviews-daily-updated?resource=download/)\n",
        "\n",
        "- **¿Se usa alguna herramienta o proceso para la descarga de la información textual?**\n",
        "\n",
        "  Para el proceso de la carga del dataset , lo que hacemos es:\n",
        "\n",
        "  1.   Descargarlo directamente de la página de Kaggle en local y posteriormente este CSV lo cargamos a Github y queda como un archivo RAW que luego abriremos como un link.\n",
        "\n",
        "  2.   Se abre el link mediante una función de pandas y lo trabajos como un dataframe en GoogleColab.\n",
        "\n",
        "- **¿Qué tipo de textos estamos manejando?**\n",
        "\n",
        "  El tipo de texto que se está manejando en este dataset son reseñas de usuarios de la aplicación Amazon Shopping. Este tipo de texto cuenta con las siguientes características:\n",
        "\n",
        "  1.   Lenguaje natural informal: Los usuarios tienden a escribir con estilo informal.\n",
        "\n",
        "  2.   Opiniones subjetivas.\n",
        "\n",
        "  3.  Texto corto o mediano.\n",
        "\n"
      ]
    },
    {
      "cell_type": "markdown",
      "id": "4a9cc180",
      "metadata": {
        "id": "4a9cc180"
      },
      "source": [
        "### **2.2. Carga o Adquisición de Textos**\n",
        "---\n",
        "\n",
        "Agregue el código necesario en _Python_ para obtener o cargar el corpus."
      ]
    },
    {
      "cell_type": "code",
      "execution_count": 70,
      "id": "1b580368",
      "metadata": {
        "id": "1b580368"
      },
      "outputs": [],
      "source": [
        "# INGRESE SU CÓDIGO\n",
        "import pandas as pd\n"
      ]
    },
    {
      "cell_type": "code",
      "execution_count": 71,
      "id": "fBP5wI44X8xW",
      "metadata": {
        "colab": {
          "base_uri": "https://localhost:8080/",
          "height": 537
        },
        "id": "fBP5wI44X8xW",
        "outputId": "85dd6050-0403-4b7d-8ff1-f94929cd935a"
      },
      "outputs": [
        {
          "output_type": "execute_result",
          "data": {
            "text/plain": [
              "                                   reviewId  \\\n",
              "58878  d943afc6-8526-46ba-bde8-248114d45e19   \n",
              "8545   16f1c656-0fc8-4da9-a433-d89d7d0da4a4   \n",
              "13291  c2b2a85a-56e9-43ec-b1e3-ec891f4ab64e   \n",
              "59404  e08d04f3-6599-44e0-a062-ad5a6f9e2d91   \n",
              "14803  f5d63964-c0d9-4bc5-9c37-58fb58b6686b   \n",
              "53693  ce602c4c-4166-4924-8a59-1f15cf7341e3   \n",
              "31160  c2357103-c943-4387-a045-973bc94d03cd   \n",
              "46991  02d1268f-3368-4d34-a50f-238bd050fe09   \n",
              "47615  38091266-f6f2-4043-9441-e8ff3a2ff27c   \n",
              "26561  953393a9-1d37-4c01-b921-77a058447e00   \n",
              "\n",
              "                                       userName  \\\n",
              "58878                             A Google user   \n",
              "8545   Royalshahnaz Salon (Royal Shahnaz salon)   \n",
              "13291                             Daniel Carter   \n",
              "59404                               J4Z5 Gaming   \n",
              "14803                               Steven Mize   \n",
              "53693                                Suvam Karn   \n",
              "31160                                Amy Nieass   \n",
              "46991                                 Kins Lins   \n",
              "47615                             Denys Boichuk   \n",
              "26561                                     Aiden   \n",
              "\n",
              "                                                 content  score  \\\n",
              "58878  Add to cart vibration is annoying. The fact i ...      2   \n",
              "8545   I am ordering things I can't get some body cha...      5   \n",
              "13291  I can usually find what I'm looking for at a r...      3   \n",
              "59404  Will not do anything about package I never rec...      1   \n",
              "14803  All of the scams of alliexpress, with none of ...      1   \n",
              "53693  The worst thing in this app is that during thi...      4   \n",
              "31160  This App is not working at the moment, it will...      1   \n",
              "46991                     Has so many good things to buy      5   \n",
              "47615  Genuinely best shopping experience I ever had!...      5   \n",
              "26561  This app has gotten worse. When I tried to com...      1   \n",
              "\n",
              "       thumbsUpCount reviewCreatedVersion                   at   appVersion  \n",
              "58878              0          18.21.2.100  2019-12-20 06:29:05  18.21.2.100  \n",
              "8545               0          28.10.0.100  2024-05-23 15:50:05  28.10.0.100  \n",
              "13291           1274          24.16.2.100  2022-09-13 01:43:36  24.16.2.100  \n",
              "59404              1           26.3.0.100  2023-08-12 01:27:26   26.3.0.100  \n",
              "14803              2                  NaN  2023-01-02 18:39:25          NaN  \n",
              "53693              1           20.8.0.100  2020-04-28 09:47:23   20.8.0.100  \n",
              "31160              2           22.6.0.100  2021-03-23 11:31:39   22.6.0.100  \n",
              "46991              0           28.4.0.100  2024-02-25 23:48:20   28.4.0.100  \n",
              "47615              1          20.19.0.100  2020-10-03 02:50:42  20.19.0.100  \n",
              "26561              6          22.22.7.100  2021-12-23 05:16:29  22.22.7.100  "
            ],
            "text/html": [
              "\n",
              "  <div id=\"df-04cc4d3c-a0e6-41bd-972d-b8f8dd5ba10f\" class=\"colab-df-container\">\n",
              "    <div>\n",
              "<style scoped>\n",
              "    .dataframe tbody tr th:only-of-type {\n",
              "        vertical-align: middle;\n",
              "    }\n",
              "\n",
              "    .dataframe tbody tr th {\n",
              "        vertical-align: top;\n",
              "    }\n",
              "\n",
              "    .dataframe thead th {\n",
              "        text-align: right;\n",
              "    }\n",
              "</style>\n",
              "<table border=\"1\" class=\"dataframe\">\n",
              "  <thead>\n",
              "    <tr style=\"text-align: right;\">\n",
              "      <th></th>\n",
              "      <th>reviewId</th>\n",
              "      <th>userName</th>\n",
              "      <th>content</th>\n",
              "      <th>score</th>\n",
              "      <th>thumbsUpCount</th>\n",
              "      <th>reviewCreatedVersion</th>\n",
              "      <th>at</th>\n",
              "      <th>appVersion</th>\n",
              "    </tr>\n",
              "  </thead>\n",
              "  <tbody>\n",
              "    <tr>\n",
              "      <th>58878</th>\n",
              "      <td>d943afc6-8526-46ba-bde8-248114d45e19</td>\n",
              "      <td>A Google user</td>\n",
              "      <td>Add to cart vibration is annoying. The fact i ...</td>\n",
              "      <td>2</td>\n",
              "      <td>0</td>\n",
              "      <td>18.21.2.100</td>\n",
              "      <td>2019-12-20 06:29:05</td>\n",
              "      <td>18.21.2.100</td>\n",
              "    </tr>\n",
              "    <tr>\n",
              "      <th>8545</th>\n",
              "      <td>16f1c656-0fc8-4da9-a433-d89d7d0da4a4</td>\n",
              "      <td>Royalshahnaz Salon (Royal Shahnaz salon)</td>\n",
              "      <td>I am ordering things I can't get some body cha...</td>\n",
              "      <td>5</td>\n",
              "      <td>0</td>\n",
              "      <td>28.10.0.100</td>\n",
              "      <td>2024-05-23 15:50:05</td>\n",
              "      <td>28.10.0.100</td>\n",
              "    </tr>\n",
              "    <tr>\n",
              "      <th>13291</th>\n",
              "      <td>c2b2a85a-56e9-43ec-b1e3-ec891f4ab64e</td>\n",
              "      <td>Daniel Carter</td>\n",
              "      <td>I can usually find what I'm looking for at a r...</td>\n",
              "      <td>3</td>\n",
              "      <td>1274</td>\n",
              "      <td>24.16.2.100</td>\n",
              "      <td>2022-09-13 01:43:36</td>\n",
              "      <td>24.16.2.100</td>\n",
              "    </tr>\n",
              "    <tr>\n",
              "      <th>59404</th>\n",
              "      <td>e08d04f3-6599-44e0-a062-ad5a6f9e2d91</td>\n",
              "      <td>J4Z5 Gaming</td>\n",
              "      <td>Will not do anything about package I never rec...</td>\n",
              "      <td>1</td>\n",
              "      <td>1</td>\n",
              "      <td>26.3.0.100</td>\n",
              "      <td>2023-08-12 01:27:26</td>\n",
              "      <td>26.3.0.100</td>\n",
              "    </tr>\n",
              "    <tr>\n",
              "      <th>14803</th>\n",
              "      <td>f5d63964-c0d9-4bc5-9c37-58fb58b6686b</td>\n",
              "      <td>Steven Mize</td>\n",
              "      <td>All of the scams of alliexpress, with none of ...</td>\n",
              "      <td>1</td>\n",
              "      <td>2</td>\n",
              "      <td>NaN</td>\n",
              "      <td>2023-01-02 18:39:25</td>\n",
              "      <td>NaN</td>\n",
              "    </tr>\n",
              "    <tr>\n",
              "      <th>53693</th>\n",
              "      <td>ce602c4c-4166-4924-8a59-1f15cf7341e3</td>\n",
              "      <td>Suvam Karn</td>\n",
              "      <td>The worst thing in this app is that during thi...</td>\n",
              "      <td>4</td>\n",
              "      <td>1</td>\n",
              "      <td>20.8.0.100</td>\n",
              "      <td>2020-04-28 09:47:23</td>\n",
              "      <td>20.8.0.100</td>\n",
              "    </tr>\n",
              "    <tr>\n",
              "      <th>31160</th>\n",
              "      <td>c2357103-c943-4387-a045-973bc94d03cd</td>\n",
              "      <td>Amy Nieass</td>\n",
              "      <td>This App is not working at the moment, it will...</td>\n",
              "      <td>1</td>\n",
              "      <td>2</td>\n",
              "      <td>22.6.0.100</td>\n",
              "      <td>2021-03-23 11:31:39</td>\n",
              "      <td>22.6.0.100</td>\n",
              "    </tr>\n",
              "    <tr>\n",
              "      <th>46991</th>\n",
              "      <td>02d1268f-3368-4d34-a50f-238bd050fe09</td>\n",
              "      <td>Kins Lins</td>\n",
              "      <td>Has so many good things to buy</td>\n",
              "      <td>5</td>\n",
              "      <td>0</td>\n",
              "      <td>28.4.0.100</td>\n",
              "      <td>2024-02-25 23:48:20</td>\n",
              "      <td>28.4.0.100</td>\n",
              "    </tr>\n",
              "    <tr>\n",
              "      <th>47615</th>\n",
              "      <td>38091266-f6f2-4043-9441-e8ff3a2ff27c</td>\n",
              "      <td>Denys Boichuk</td>\n",
              "      <td>Genuinely best shopping experience I ever had!...</td>\n",
              "      <td>5</td>\n",
              "      <td>1</td>\n",
              "      <td>20.19.0.100</td>\n",
              "      <td>2020-10-03 02:50:42</td>\n",
              "      <td>20.19.0.100</td>\n",
              "    </tr>\n",
              "    <tr>\n",
              "      <th>26561</th>\n",
              "      <td>953393a9-1d37-4c01-b921-77a058447e00</td>\n",
              "      <td>Aiden</td>\n",
              "      <td>This app has gotten worse. When I tried to com...</td>\n",
              "      <td>1</td>\n",
              "      <td>6</td>\n",
              "      <td>22.22.7.100</td>\n",
              "      <td>2021-12-23 05:16:29</td>\n",
              "      <td>22.22.7.100</td>\n",
              "    </tr>\n",
              "  </tbody>\n",
              "</table>\n",
              "</div>\n",
              "    <div class=\"colab-df-buttons\">\n",
              "\n",
              "  <div class=\"colab-df-container\">\n",
              "    <button class=\"colab-df-convert\" onclick=\"convertToInteractive('df-04cc4d3c-a0e6-41bd-972d-b8f8dd5ba10f')\"\n",
              "            title=\"Convert this dataframe to an interactive table.\"\n",
              "            style=\"display:none;\">\n",
              "\n",
              "  <svg xmlns=\"http://www.w3.org/2000/svg\" height=\"24px\" viewBox=\"0 -960 960 960\">\n",
              "    <path d=\"M120-120v-720h720v720H120Zm60-500h600v-160H180v160Zm220 220h160v-160H400v160Zm0 220h160v-160H400v160ZM180-400h160v-160H180v160Zm440 0h160v-160H620v160ZM180-180h160v-160H180v160Zm440 0h160v-160H620v160Z\"/>\n",
              "  </svg>\n",
              "    </button>\n",
              "\n",
              "  <style>\n",
              "    .colab-df-container {\n",
              "      display:flex;\n",
              "      gap: 12px;\n",
              "    }\n",
              "\n",
              "    .colab-df-convert {\n",
              "      background-color: #E8F0FE;\n",
              "      border: none;\n",
              "      border-radius: 50%;\n",
              "      cursor: pointer;\n",
              "      display: none;\n",
              "      fill: #1967D2;\n",
              "      height: 32px;\n",
              "      padding: 0 0 0 0;\n",
              "      width: 32px;\n",
              "    }\n",
              "\n",
              "    .colab-df-convert:hover {\n",
              "      background-color: #E2EBFA;\n",
              "      box-shadow: 0px 1px 2px rgba(60, 64, 67, 0.3), 0px 1px 3px 1px rgba(60, 64, 67, 0.15);\n",
              "      fill: #174EA6;\n",
              "    }\n",
              "\n",
              "    .colab-df-buttons div {\n",
              "      margin-bottom: 4px;\n",
              "    }\n",
              "\n",
              "    [theme=dark] .colab-df-convert {\n",
              "      background-color: #3B4455;\n",
              "      fill: #D2E3FC;\n",
              "    }\n",
              "\n",
              "    [theme=dark] .colab-df-convert:hover {\n",
              "      background-color: #434B5C;\n",
              "      box-shadow: 0px 1px 3px 1px rgba(0, 0, 0, 0.15);\n",
              "      filter: drop-shadow(0px 1px 2px rgba(0, 0, 0, 0.3));\n",
              "      fill: #FFFFFF;\n",
              "    }\n",
              "  </style>\n",
              "\n",
              "    <script>\n",
              "      const buttonEl =\n",
              "        document.querySelector('#df-04cc4d3c-a0e6-41bd-972d-b8f8dd5ba10f button.colab-df-convert');\n",
              "      buttonEl.style.display =\n",
              "        google.colab.kernel.accessAllowed ? 'block' : 'none';\n",
              "\n",
              "      async function convertToInteractive(key) {\n",
              "        const element = document.querySelector('#df-04cc4d3c-a0e6-41bd-972d-b8f8dd5ba10f');\n",
              "        const dataTable =\n",
              "          await google.colab.kernel.invokeFunction('convertToInteractive',\n",
              "                                                    [key], {});\n",
              "        if (!dataTable) return;\n",
              "\n",
              "        const docLinkHtml = 'Like what you see? Visit the ' +\n",
              "          '<a target=\"_blank\" href=https://colab.research.google.com/notebooks/data_table.ipynb>data table notebook</a>'\n",
              "          + ' to learn more about interactive tables.';\n",
              "        element.innerHTML = '';\n",
              "        dataTable['output_type'] = 'display_data';\n",
              "        await google.colab.output.renderOutput(dataTable, element);\n",
              "        const docLink = document.createElement('div');\n",
              "        docLink.innerHTML = docLinkHtml;\n",
              "        element.appendChild(docLink);\n",
              "      }\n",
              "    </script>\n",
              "  </div>\n",
              "\n",
              "\n",
              "<div id=\"df-6bcc6b71-eecb-4d6b-928a-f262cf34f436\">\n",
              "  <button class=\"colab-df-quickchart\" onclick=\"quickchart('df-6bcc6b71-eecb-4d6b-928a-f262cf34f436')\"\n",
              "            title=\"Suggest charts\"\n",
              "            style=\"display:none;\">\n",
              "\n",
              "<svg xmlns=\"http://www.w3.org/2000/svg\" height=\"24px\"viewBox=\"0 0 24 24\"\n",
              "     width=\"24px\">\n",
              "    <g>\n",
              "        <path d=\"M19 3H5c-1.1 0-2 .9-2 2v14c0 1.1.9 2 2 2h14c1.1 0 2-.9 2-2V5c0-1.1-.9-2-2-2zM9 17H7v-7h2v7zm4 0h-2V7h2v10zm4 0h-2v-4h2v4z\"/>\n",
              "    </g>\n",
              "</svg>\n",
              "  </button>\n",
              "\n",
              "<style>\n",
              "  .colab-df-quickchart {\n",
              "      --bg-color: #E8F0FE;\n",
              "      --fill-color: #1967D2;\n",
              "      --hover-bg-color: #E2EBFA;\n",
              "      --hover-fill-color: #174EA6;\n",
              "      --disabled-fill-color: #AAA;\n",
              "      --disabled-bg-color: #DDD;\n",
              "  }\n",
              "\n",
              "  [theme=dark] .colab-df-quickchart {\n",
              "      --bg-color: #3B4455;\n",
              "      --fill-color: #D2E3FC;\n",
              "      --hover-bg-color: #434B5C;\n",
              "      --hover-fill-color: #FFFFFF;\n",
              "      --disabled-bg-color: #3B4455;\n",
              "      --disabled-fill-color: #666;\n",
              "  }\n",
              "\n",
              "  .colab-df-quickchart {\n",
              "    background-color: var(--bg-color);\n",
              "    border: none;\n",
              "    border-radius: 50%;\n",
              "    cursor: pointer;\n",
              "    display: none;\n",
              "    fill: var(--fill-color);\n",
              "    height: 32px;\n",
              "    padding: 0;\n",
              "    width: 32px;\n",
              "  }\n",
              "\n",
              "  .colab-df-quickchart:hover {\n",
              "    background-color: var(--hover-bg-color);\n",
              "    box-shadow: 0 1px 2px rgba(60, 64, 67, 0.3), 0 1px 3px 1px rgba(60, 64, 67, 0.15);\n",
              "    fill: var(--button-hover-fill-color);\n",
              "  }\n",
              "\n",
              "  .colab-df-quickchart-complete:disabled,\n",
              "  .colab-df-quickchart-complete:disabled:hover {\n",
              "    background-color: var(--disabled-bg-color);\n",
              "    fill: var(--disabled-fill-color);\n",
              "    box-shadow: none;\n",
              "  }\n",
              "\n",
              "  .colab-df-spinner {\n",
              "    border: 2px solid var(--fill-color);\n",
              "    border-color: transparent;\n",
              "    border-bottom-color: var(--fill-color);\n",
              "    animation:\n",
              "      spin 1s steps(1) infinite;\n",
              "  }\n",
              "\n",
              "  @keyframes spin {\n",
              "    0% {\n",
              "      border-color: transparent;\n",
              "      border-bottom-color: var(--fill-color);\n",
              "      border-left-color: var(--fill-color);\n",
              "    }\n",
              "    20% {\n",
              "      border-color: transparent;\n",
              "      border-left-color: var(--fill-color);\n",
              "      border-top-color: var(--fill-color);\n",
              "    }\n",
              "    30% {\n",
              "      border-color: transparent;\n",
              "      border-left-color: var(--fill-color);\n",
              "      border-top-color: var(--fill-color);\n",
              "      border-right-color: var(--fill-color);\n",
              "    }\n",
              "    40% {\n",
              "      border-color: transparent;\n",
              "      border-right-color: var(--fill-color);\n",
              "      border-top-color: var(--fill-color);\n",
              "    }\n",
              "    60% {\n",
              "      border-color: transparent;\n",
              "      border-right-color: var(--fill-color);\n",
              "    }\n",
              "    80% {\n",
              "      border-color: transparent;\n",
              "      border-right-color: var(--fill-color);\n",
              "      border-bottom-color: var(--fill-color);\n",
              "    }\n",
              "    90% {\n",
              "      border-color: transparent;\n",
              "      border-bottom-color: var(--fill-color);\n",
              "    }\n",
              "  }\n",
              "</style>\n",
              "\n",
              "  <script>\n",
              "    async function quickchart(key) {\n",
              "      const quickchartButtonEl =\n",
              "        document.querySelector('#' + key + ' button');\n",
              "      quickchartButtonEl.disabled = true;  // To prevent multiple clicks.\n",
              "      quickchartButtonEl.classList.add('colab-df-spinner');\n",
              "      try {\n",
              "        const charts = await google.colab.kernel.invokeFunction(\n",
              "            'suggestCharts', [key], {});\n",
              "      } catch (error) {\n",
              "        console.error('Error during call to suggestCharts:', error);\n",
              "      }\n",
              "      quickchartButtonEl.classList.remove('colab-df-spinner');\n",
              "      quickchartButtonEl.classList.add('colab-df-quickchart-complete');\n",
              "    }\n",
              "    (() => {\n",
              "      let quickchartButtonEl =\n",
              "        document.querySelector('#df-6bcc6b71-eecb-4d6b-928a-f262cf34f436 button');\n",
              "      quickchartButtonEl.style.display =\n",
              "        google.colab.kernel.accessAllowed ? 'block' : 'none';\n",
              "    })();\n",
              "  </script>\n",
              "</div>\n",
              "\n",
              "    </div>\n",
              "  </div>\n"
            ],
            "application/vnd.google.colaboratory.intrinsic+json": {
              "type": "dataframe",
              "repr_error": "0"
            }
          },
          "metadata": {},
          "execution_count": 71
        }
      ],
      "source": [
        "url = \"https://raw.githubusercontent.com/Juanes1793/AmazonDataset_reviews/main/amazon_reviews.csv\"\n",
        "df = pd.read_csv(url)\n",
        "df.sample(10)\n"
      ]
    },
    {
      "cell_type": "markdown",
      "id": "LZ4F0_IzCbXL",
      "metadata": {
        "id": "LZ4F0_IzCbXL"
      },
      "source": [
        "# Entrega Número Dos\n",
        "\n",
        "## Explotaratory  Data Analysis"
      ]
    },
    {
      "cell_type": "markdown",
      "id": "iJ2IPQW7LYQ_",
      "metadata": {
        "id": "iJ2IPQW7LYQ_"
      },
      "source": [
        "## Importe de librerías e instalación de librerías"
      ]
    },
    {
      "cell_type": "code",
      "execution_count": 72,
      "id": "09OA5fOULa34",
      "metadata": {
        "colab": {
          "base_uri": "https://localhost:8080/"
        },
        "id": "09OA5fOULa34",
        "outputId": "fe636615-4863-4e35-c098-844976a5b64d"
      },
      "outputs": [
        {
          "output_type": "stream",
          "name": "stdout",
          "text": [
            "Requirement already satisfied: langid in /usr/local/lib/python3.10/dist-packages (1.1.6)\n",
            "Requirement already satisfied: numpy in /usr/local/lib/python3.10/dist-packages (from langid) (1.26.4)\n",
            "Requirement already satisfied: requests in /usr/local/lib/python3.10/dist-packages (2.32.3)\n",
            "Requirement already satisfied: charset-normalizer<4,>=2 in /usr/local/lib/python3.10/dist-packages (from requests) (3.3.2)\n",
            "Requirement already satisfied: idna<4,>=2.5 in /usr/local/lib/python3.10/dist-packages (from requests) (3.10)\n",
            "Requirement already satisfied: urllib3<3,>=1.21.1 in /usr/local/lib/python3.10/dist-packages (from requests) (2.2.3)\n",
            "Requirement already satisfied: certifi>=2017.4.17 in /usr/local/lib/python3.10/dist-packages (from requests) (2024.8.30)\n",
            "Requirement already satisfied: matplotlib in /usr/local/lib/python3.10/dist-packages (3.7.1)\n",
            "Requirement already satisfied: contourpy>=1.0.1 in /usr/local/lib/python3.10/dist-packages (from matplotlib) (1.3.0)\n",
            "Requirement already satisfied: cycler>=0.10 in /usr/local/lib/python3.10/dist-packages (from matplotlib) (0.12.1)\n",
            "Requirement already satisfied: fonttools>=4.22.0 in /usr/local/lib/python3.10/dist-packages (from matplotlib) (4.53.1)\n",
            "Requirement already satisfied: kiwisolver>=1.0.1 in /usr/local/lib/python3.10/dist-packages (from matplotlib) (1.4.7)\n",
            "Requirement already satisfied: numpy>=1.20 in /usr/local/lib/python3.10/dist-packages (from matplotlib) (1.26.4)\n",
            "Requirement already satisfied: packaging>=20.0 in /usr/local/lib/python3.10/dist-packages (from matplotlib) (24.1)\n",
            "Requirement already satisfied: pillow>=6.2.0 in /usr/local/lib/python3.10/dist-packages (from matplotlib) (10.4.0)\n",
            "Requirement already satisfied: pyparsing>=2.3.1 in /usr/local/lib/python3.10/dist-packages (from matplotlib) (3.1.4)\n",
            "Requirement already satisfied: python-dateutil>=2.7 in /usr/local/lib/python3.10/dist-packages (from matplotlib) (2.8.2)\n",
            "Requirement already satisfied: six>=1.5 in /usr/local/lib/python3.10/dist-packages (from python-dateutil>=2.7->matplotlib) (1.16.0)\n",
            "Requirement already satisfied: unidecode in /usr/local/lib/python3.10/dist-packages (1.3.8)\n",
            "Requirement already satisfied: gensim==4.2.0 in /usr/local/lib/python3.10/dist-packages (4.2.0)\n",
            "Requirement already satisfied: scipy==1.10.1 in /usr/local/lib/python3.10/dist-packages (1.10.1)\n",
            "Requirement already satisfied: numpy>=1.17.0 in /usr/local/lib/python3.10/dist-packages (from gensim==4.2.0) (1.26.4)\n",
            "Requirement already satisfied: smart-open>=1.8.1 in /usr/local/lib/python3.10/dist-packages (from gensim==4.2.0) (7.0.4)\n",
            "Requirement already satisfied: wrapt in /usr/local/lib/python3.10/dist-packages (from smart-open>=1.8.1->gensim==4.2.0) (1.16.0)\n"
          ]
        }
      ],
      "source": [
        "!pip install langid\n",
        "!pip install requests\n",
        "!pip install matplotlib\n",
        "!pip install unidecode\n",
        "!pip install gensim==4.2.0 scipy==1.10.1\n",
        "\n"
      ]
    },
    {
      "cell_type": "code",
      "execution_count": 73,
      "id": "dai0YZOKLZ9m",
      "metadata": {
        "id": "dai0YZOKLZ9m"
      },
      "outputs": [],
      "source": [
        "import langid\n",
        "import pandas as pd\n",
        "import numpy as np\n",
        "import requests\n",
        "import matplotlib.pyplot as plt\n",
        "import spacy\n",
        "import re\n",
        "from unidecode import unidecode"
      ]
    },
    {
      "cell_type": "code",
      "execution_count": 74,
      "id": "CBUVpBAFpdQH",
      "metadata": {
        "colab": {
          "base_uri": "https://localhost:8080/"
        },
        "id": "CBUVpBAFpdQH",
        "outputId": "3970ecd4-5554-4f80-c5ed-4a575b89ab7a"
      },
      "outputs": [
        {
          "output_type": "stream",
          "name": "stdout",
          "text": [
            "\u001b[38;5;2m✔ Download and installation successful\u001b[0m\n",
            "You can now load the package via spacy.load('en_core_web_lg')\n",
            "\u001b[38;5;3m⚠ Restart to reload dependencies\u001b[0m\n",
            "If you are in a Jupyter or Colab notebook, you may need to restart Python in\n",
            "order to load all the package's dependencies. You can do this by selecting the\n",
            "'Restart kernel' or 'Restart runtime' option.\n"
          ]
        }
      ],
      "source": [
        "spacy.cli.download(\"en_core_web_lg\")"
      ]
    },
    {
      "cell_type": "markdown",
      "id": "bDU7bc7YDnzb",
      "metadata": {
        "id": "bDU7bc7YDnzb"
      },
      "source": [
        "## **1. Análisis Exploratorio de los Textos**\n"
      ]
    },
    {
      "cell_type": "markdown",
      "id": "9b47d2fb",
      "metadata": {
        "id": "9b47d2fb"
      },
      "source": [
        "## Exploramos como se ve el dataset de nuevo"
      ]
    },
    {
      "cell_type": "code",
      "execution_count": 75,
      "id": "b44f70b9",
      "metadata": {
        "colab": {
          "base_uri": "https://localhost:8080/",
          "height": 597
        },
        "id": "b44f70b9",
        "outputId": "2c669e44-57b2-4b6e-c524-e99873d44742"
      },
      "outputs": [
        {
          "output_type": "execute_result",
          "data": {
            "text/plain": [
              "                                   reviewId          userName  \\\n",
              "0      cae67a30-4c82-4387-aae2-9a4d73ec96a3     Cory Williams   \n",
              "1      71876ec1-c9b1-4365-aca8-af58c27d5ad3       Firas Assaf   \n",
              "2      1fb9c029-1ab5-431a-8020-f696ffae2fdf   Brandon Roberts   \n",
              "3      f2a977b6-f339-40c0-9142-9810944cf4ac        Mary Fultz   \n",
              "4      90cd58a8-7d63-438e-9257-a8ef3b6eea13  Jessica L. N. F.   \n",
              "...                                     ...               ...   \n",
              "59931  ac82191a-e776-42a0-8e30-91eabb763968         Mary Mora   \n",
              "59932  3aa6af38-b044-4257-9cf3-b94c437da0ef     Marie Elliott   \n",
              "59933  727ec38a-c633-48f4-a302-66e52740a43c       Dan Preston   \n",
              "59934  615a9643-cd36-4010-9a81-8763bac11ddf             Jhosh   \n",
              "59935  6b818e48-406b-4b9d-88c6-759152019a96  Christopher Read   \n",
              "\n",
              "                                                 content  score  \\\n",
              "0         I can not access my orders page it just blank?      2   \n",
              "1      Worst Service and worst customer service I was...      1   \n",
              "2      Awesome dooood 👍 an maybe you know you sent a ...      5   \n",
              "3      Very easy to buy and return Merchandise whenev...      5   \n",
              "4      Today I couldn't figure out changing my height...      1   \n",
              "...                                                  ...    ...   \n",
              "59931  Amazon Smile donates. Make sure you get all se...      5   \n",
              "59932  After having problems with the app and having ...      5   \n",
              "59933  Used to be great. Got greedy, they ruined the ...      1   \n",
              "59934  New search bar location sucks. At least give m...      2   \n",
              "59935  for me personally I use Amazon prime due to be...      5   \n",
              "\n",
              "       thumbsUpCount reviewCreatedVersion                   at   appVersion  \n",
              "0                  0                  NaN  2024-09-02 18:49:11          NaN  \n",
              "1                  0          28.16.0.100  2024-09-02 18:05:56  28.16.0.100  \n",
              "2                  0          28.16.0.100  2024-09-02 18:00:32  28.16.0.100  \n",
              "3                  0          28.15.0.100  2024-09-02 17:48:02  28.15.0.100  \n",
              "4                 15          28.16.0.100  2024-09-02 17:45:28  28.16.0.100  \n",
              "...              ...                  ...                  ...          ...  \n",
              "59931              0           26.1.2.100  2023-01-16 06:12:14   26.1.2.100  \n",
              "59932              1          22.18.0.100  2021-09-24 12:01:29  22.18.0.100  \n",
              "59933              0           26.9.0.100  2023-05-15 18:27:24   26.9.0.100  \n",
              "59934              0          26.12.0.100  2023-06-11 15:24:08  26.12.0.100  \n",
              "59935              0           24.9.0.100  2022-05-08 17:59:37   24.9.0.100  \n",
              "\n",
              "[59936 rows x 8 columns]"
            ],
            "text/html": [
              "\n",
              "  <div id=\"df-fa8025a3-2d75-4dc0-9d80-e79238fc8553\" class=\"colab-df-container\">\n",
              "    <div>\n",
              "<style scoped>\n",
              "    .dataframe tbody tr th:only-of-type {\n",
              "        vertical-align: middle;\n",
              "    }\n",
              "\n",
              "    .dataframe tbody tr th {\n",
              "        vertical-align: top;\n",
              "    }\n",
              "\n",
              "    .dataframe thead th {\n",
              "        text-align: right;\n",
              "    }\n",
              "</style>\n",
              "<table border=\"1\" class=\"dataframe\">\n",
              "  <thead>\n",
              "    <tr style=\"text-align: right;\">\n",
              "      <th></th>\n",
              "      <th>reviewId</th>\n",
              "      <th>userName</th>\n",
              "      <th>content</th>\n",
              "      <th>score</th>\n",
              "      <th>thumbsUpCount</th>\n",
              "      <th>reviewCreatedVersion</th>\n",
              "      <th>at</th>\n",
              "      <th>appVersion</th>\n",
              "    </tr>\n",
              "  </thead>\n",
              "  <tbody>\n",
              "    <tr>\n",
              "      <th>0</th>\n",
              "      <td>cae67a30-4c82-4387-aae2-9a4d73ec96a3</td>\n",
              "      <td>Cory Williams</td>\n",
              "      <td>I can not access my orders page it just blank?</td>\n",
              "      <td>2</td>\n",
              "      <td>0</td>\n",
              "      <td>NaN</td>\n",
              "      <td>2024-09-02 18:49:11</td>\n",
              "      <td>NaN</td>\n",
              "    </tr>\n",
              "    <tr>\n",
              "      <th>1</th>\n",
              "      <td>71876ec1-c9b1-4365-aca8-af58c27d5ad3</td>\n",
              "      <td>Firas Assaf</td>\n",
              "      <td>Worst Service and worst customer service I was...</td>\n",
              "      <td>1</td>\n",
              "      <td>0</td>\n",
              "      <td>28.16.0.100</td>\n",
              "      <td>2024-09-02 18:05:56</td>\n",
              "      <td>28.16.0.100</td>\n",
              "    </tr>\n",
              "    <tr>\n",
              "      <th>2</th>\n",
              "      <td>1fb9c029-1ab5-431a-8020-f696ffae2fdf</td>\n",
              "      <td>Brandon Roberts</td>\n",
              "      <td>Awesome dooood 👍 an maybe you know you sent a ...</td>\n",
              "      <td>5</td>\n",
              "      <td>0</td>\n",
              "      <td>28.16.0.100</td>\n",
              "      <td>2024-09-02 18:00:32</td>\n",
              "      <td>28.16.0.100</td>\n",
              "    </tr>\n",
              "    <tr>\n",
              "      <th>3</th>\n",
              "      <td>f2a977b6-f339-40c0-9142-9810944cf4ac</td>\n",
              "      <td>Mary Fultz</td>\n",
              "      <td>Very easy to buy and return Merchandise whenev...</td>\n",
              "      <td>5</td>\n",
              "      <td>0</td>\n",
              "      <td>28.15.0.100</td>\n",
              "      <td>2024-09-02 17:48:02</td>\n",
              "      <td>28.15.0.100</td>\n",
              "    </tr>\n",
              "    <tr>\n",
              "      <th>4</th>\n",
              "      <td>90cd58a8-7d63-438e-9257-a8ef3b6eea13</td>\n",
              "      <td>Jessica L. N. F.</td>\n",
              "      <td>Today I couldn't figure out changing my height...</td>\n",
              "      <td>1</td>\n",
              "      <td>15</td>\n",
              "      <td>28.16.0.100</td>\n",
              "      <td>2024-09-02 17:45:28</td>\n",
              "      <td>28.16.0.100</td>\n",
              "    </tr>\n",
              "    <tr>\n",
              "      <th>...</th>\n",
              "      <td>...</td>\n",
              "      <td>...</td>\n",
              "      <td>...</td>\n",
              "      <td>...</td>\n",
              "      <td>...</td>\n",
              "      <td>...</td>\n",
              "      <td>...</td>\n",
              "      <td>...</td>\n",
              "    </tr>\n",
              "    <tr>\n",
              "      <th>59931</th>\n",
              "      <td>ac82191a-e776-42a0-8e30-91eabb763968</td>\n",
              "      <td>Mary Mora</td>\n",
              "      <td>Amazon Smile donates. Make sure you get all se...</td>\n",
              "      <td>5</td>\n",
              "      <td>0</td>\n",
              "      <td>26.1.2.100</td>\n",
              "      <td>2023-01-16 06:12:14</td>\n",
              "      <td>26.1.2.100</td>\n",
              "    </tr>\n",
              "    <tr>\n",
              "      <th>59932</th>\n",
              "      <td>3aa6af38-b044-4257-9cf3-b94c437da0ef</td>\n",
              "      <td>Marie Elliott</td>\n",
              "      <td>After having problems with the app and having ...</td>\n",
              "      <td>5</td>\n",
              "      <td>1</td>\n",
              "      <td>22.18.0.100</td>\n",
              "      <td>2021-09-24 12:01:29</td>\n",
              "      <td>22.18.0.100</td>\n",
              "    </tr>\n",
              "    <tr>\n",
              "      <th>59933</th>\n",
              "      <td>727ec38a-c633-48f4-a302-66e52740a43c</td>\n",
              "      <td>Dan Preston</td>\n",
              "      <td>Used to be great. Got greedy, they ruined the ...</td>\n",
              "      <td>1</td>\n",
              "      <td>0</td>\n",
              "      <td>26.9.0.100</td>\n",
              "      <td>2023-05-15 18:27:24</td>\n",
              "      <td>26.9.0.100</td>\n",
              "    </tr>\n",
              "    <tr>\n",
              "      <th>59934</th>\n",
              "      <td>615a9643-cd36-4010-9a81-8763bac11ddf</td>\n",
              "      <td>Jhosh</td>\n",
              "      <td>New search bar location sucks. At least give m...</td>\n",
              "      <td>2</td>\n",
              "      <td>0</td>\n",
              "      <td>26.12.0.100</td>\n",
              "      <td>2023-06-11 15:24:08</td>\n",
              "      <td>26.12.0.100</td>\n",
              "    </tr>\n",
              "    <tr>\n",
              "      <th>59935</th>\n",
              "      <td>6b818e48-406b-4b9d-88c6-759152019a96</td>\n",
              "      <td>Christopher Read</td>\n",
              "      <td>for me personally I use Amazon prime due to be...</td>\n",
              "      <td>5</td>\n",
              "      <td>0</td>\n",
              "      <td>24.9.0.100</td>\n",
              "      <td>2022-05-08 17:59:37</td>\n",
              "      <td>24.9.0.100</td>\n",
              "    </tr>\n",
              "  </tbody>\n",
              "</table>\n",
              "<p>59936 rows × 8 columns</p>\n",
              "</div>\n",
              "    <div class=\"colab-df-buttons\">\n",
              "\n",
              "  <div class=\"colab-df-container\">\n",
              "    <button class=\"colab-df-convert\" onclick=\"convertToInteractive('df-fa8025a3-2d75-4dc0-9d80-e79238fc8553')\"\n",
              "            title=\"Convert this dataframe to an interactive table.\"\n",
              "            style=\"display:none;\">\n",
              "\n",
              "  <svg xmlns=\"http://www.w3.org/2000/svg\" height=\"24px\" viewBox=\"0 -960 960 960\">\n",
              "    <path d=\"M120-120v-720h720v720H120Zm60-500h600v-160H180v160Zm220 220h160v-160H400v160Zm0 220h160v-160H400v160ZM180-400h160v-160H180v160Zm440 0h160v-160H620v160ZM180-180h160v-160H180v160Zm440 0h160v-160H620v160Z\"/>\n",
              "  </svg>\n",
              "    </button>\n",
              "\n",
              "  <style>\n",
              "    .colab-df-container {\n",
              "      display:flex;\n",
              "      gap: 12px;\n",
              "    }\n",
              "\n",
              "    .colab-df-convert {\n",
              "      background-color: #E8F0FE;\n",
              "      border: none;\n",
              "      border-radius: 50%;\n",
              "      cursor: pointer;\n",
              "      display: none;\n",
              "      fill: #1967D2;\n",
              "      height: 32px;\n",
              "      padding: 0 0 0 0;\n",
              "      width: 32px;\n",
              "    }\n",
              "\n",
              "    .colab-df-convert:hover {\n",
              "      background-color: #E2EBFA;\n",
              "      box-shadow: 0px 1px 2px rgba(60, 64, 67, 0.3), 0px 1px 3px 1px rgba(60, 64, 67, 0.15);\n",
              "      fill: #174EA6;\n",
              "    }\n",
              "\n",
              "    .colab-df-buttons div {\n",
              "      margin-bottom: 4px;\n",
              "    }\n",
              "\n",
              "    [theme=dark] .colab-df-convert {\n",
              "      background-color: #3B4455;\n",
              "      fill: #D2E3FC;\n",
              "    }\n",
              "\n",
              "    [theme=dark] .colab-df-convert:hover {\n",
              "      background-color: #434B5C;\n",
              "      box-shadow: 0px 1px 3px 1px rgba(0, 0, 0, 0.15);\n",
              "      filter: drop-shadow(0px 1px 2px rgba(0, 0, 0, 0.3));\n",
              "      fill: #FFFFFF;\n",
              "    }\n",
              "  </style>\n",
              "\n",
              "    <script>\n",
              "      const buttonEl =\n",
              "        document.querySelector('#df-fa8025a3-2d75-4dc0-9d80-e79238fc8553 button.colab-df-convert');\n",
              "      buttonEl.style.display =\n",
              "        google.colab.kernel.accessAllowed ? 'block' : 'none';\n",
              "\n",
              "      async function convertToInteractive(key) {\n",
              "        const element = document.querySelector('#df-fa8025a3-2d75-4dc0-9d80-e79238fc8553');\n",
              "        const dataTable =\n",
              "          await google.colab.kernel.invokeFunction('convertToInteractive',\n",
              "                                                    [key], {});\n",
              "        if (!dataTable) return;\n",
              "\n",
              "        const docLinkHtml = 'Like what you see? Visit the ' +\n",
              "          '<a target=\"_blank\" href=https://colab.research.google.com/notebooks/data_table.ipynb>data table notebook</a>'\n",
              "          + ' to learn more about interactive tables.';\n",
              "        element.innerHTML = '';\n",
              "        dataTable['output_type'] = 'display_data';\n",
              "        await google.colab.output.renderOutput(dataTable, element);\n",
              "        const docLink = document.createElement('div');\n",
              "        docLink.innerHTML = docLinkHtml;\n",
              "        element.appendChild(docLink);\n",
              "      }\n",
              "    </script>\n",
              "  </div>\n",
              "\n",
              "\n",
              "<div id=\"df-174657b2-145e-43b5-b8b0-ea83b25a5dc0\">\n",
              "  <button class=\"colab-df-quickchart\" onclick=\"quickchart('df-174657b2-145e-43b5-b8b0-ea83b25a5dc0')\"\n",
              "            title=\"Suggest charts\"\n",
              "            style=\"display:none;\">\n",
              "\n",
              "<svg xmlns=\"http://www.w3.org/2000/svg\" height=\"24px\"viewBox=\"0 0 24 24\"\n",
              "     width=\"24px\">\n",
              "    <g>\n",
              "        <path d=\"M19 3H5c-1.1 0-2 .9-2 2v14c0 1.1.9 2 2 2h14c1.1 0 2-.9 2-2V5c0-1.1-.9-2-2-2zM9 17H7v-7h2v7zm4 0h-2V7h2v10zm4 0h-2v-4h2v4z\"/>\n",
              "    </g>\n",
              "</svg>\n",
              "  </button>\n",
              "\n",
              "<style>\n",
              "  .colab-df-quickchart {\n",
              "      --bg-color: #E8F0FE;\n",
              "      --fill-color: #1967D2;\n",
              "      --hover-bg-color: #E2EBFA;\n",
              "      --hover-fill-color: #174EA6;\n",
              "      --disabled-fill-color: #AAA;\n",
              "      --disabled-bg-color: #DDD;\n",
              "  }\n",
              "\n",
              "  [theme=dark] .colab-df-quickchart {\n",
              "      --bg-color: #3B4455;\n",
              "      --fill-color: #D2E3FC;\n",
              "      --hover-bg-color: #434B5C;\n",
              "      --hover-fill-color: #FFFFFF;\n",
              "      --disabled-bg-color: #3B4455;\n",
              "      --disabled-fill-color: #666;\n",
              "  }\n",
              "\n",
              "  .colab-df-quickchart {\n",
              "    background-color: var(--bg-color);\n",
              "    border: none;\n",
              "    border-radius: 50%;\n",
              "    cursor: pointer;\n",
              "    display: none;\n",
              "    fill: var(--fill-color);\n",
              "    height: 32px;\n",
              "    padding: 0;\n",
              "    width: 32px;\n",
              "  }\n",
              "\n",
              "  .colab-df-quickchart:hover {\n",
              "    background-color: var(--hover-bg-color);\n",
              "    box-shadow: 0 1px 2px rgba(60, 64, 67, 0.3), 0 1px 3px 1px rgba(60, 64, 67, 0.15);\n",
              "    fill: var(--button-hover-fill-color);\n",
              "  }\n",
              "\n",
              "  .colab-df-quickchart-complete:disabled,\n",
              "  .colab-df-quickchart-complete:disabled:hover {\n",
              "    background-color: var(--disabled-bg-color);\n",
              "    fill: var(--disabled-fill-color);\n",
              "    box-shadow: none;\n",
              "  }\n",
              "\n",
              "  .colab-df-spinner {\n",
              "    border: 2px solid var(--fill-color);\n",
              "    border-color: transparent;\n",
              "    border-bottom-color: var(--fill-color);\n",
              "    animation:\n",
              "      spin 1s steps(1) infinite;\n",
              "  }\n",
              "\n",
              "  @keyframes spin {\n",
              "    0% {\n",
              "      border-color: transparent;\n",
              "      border-bottom-color: var(--fill-color);\n",
              "      border-left-color: var(--fill-color);\n",
              "    }\n",
              "    20% {\n",
              "      border-color: transparent;\n",
              "      border-left-color: var(--fill-color);\n",
              "      border-top-color: var(--fill-color);\n",
              "    }\n",
              "    30% {\n",
              "      border-color: transparent;\n",
              "      border-left-color: var(--fill-color);\n",
              "      border-top-color: var(--fill-color);\n",
              "      border-right-color: var(--fill-color);\n",
              "    }\n",
              "    40% {\n",
              "      border-color: transparent;\n",
              "      border-right-color: var(--fill-color);\n",
              "      border-top-color: var(--fill-color);\n",
              "    }\n",
              "    60% {\n",
              "      border-color: transparent;\n",
              "      border-right-color: var(--fill-color);\n",
              "    }\n",
              "    80% {\n",
              "      border-color: transparent;\n",
              "      border-right-color: var(--fill-color);\n",
              "      border-bottom-color: var(--fill-color);\n",
              "    }\n",
              "    90% {\n",
              "      border-color: transparent;\n",
              "      border-bottom-color: var(--fill-color);\n",
              "    }\n",
              "  }\n",
              "</style>\n",
              "\n",
              "  <script>\n",
              "    async function quickchart(key) {\n",
              "      const quickchartButtonEl =\n",
              "        document.querySelector('#' + key + ' button');\n",
              "      quickchartButtonEl.disabled = true;  // To prevent multiple clicks.\n",
              "      quickchartButtonEl.classList.add('colab-df-spinner');\n",
              "      try {\n",
              "        const charts = await google.colab.kernel.invokeFunction(\n",
              "            'suggestCharts', [key], {});\n",
              "      } catch (error) {\n",
              "        console.error('Error during call to suggestCharts:', error);\n",
              "      }\n",
              "      quickchartButtonEl.classList.remove('colab-df-spinner');\n",
              "      quickchartButtonEl.classList.add('colab-df-quickchart-complete');\n",
              "    }\n",
              "    (() => {\n",
              "      let quickchartButtonEl =\n",
              "        document.querySelector('#df-174657b2-145e-43b5-b8b0-ea83b25a5dc0 button');\n",
              "      quickchartButtonEl.style.display =\n",
              "        google.colab.kernel.accessAllowed ? 'block' : 'none';\n",
              "    })();\n",
              "  </script>\n",
              "</div>\n",
              "\n",
              "  <div id=\"id_f727fd43-23e2-4d75-a29e-4a6b267e3ecc\">\n",
              "    <style>\n",
              "      .colab-df-generate {\n",
              "        background-color: #E8F0FE;\n",
              "        border: none;\n",
              "        border-radius: 50%;\n",
              "        cursor: pointer;\n",
              "        display: none;\n",
              "        fill: #1967D2;\n",
              "        height: 32px;\n",
              "        padding: 0 0 0 0;\n",
              "        width: 32px;\n",
              "      }\n",
              "\n",
              "      .colab-df-generate:hover {\n",
              "        background-color: #E2EBFA;\n",
              "        box-shadow: 0px 1px 2px rgba(60, 64, 67, 0.3), 0px 1px 3px 1px rgba(60, 64, 67, 0.15);\n",
              "        fill: #174EA6;\n",
              "      }\n",
              "\n",
              "      [theme=dark] .colab-df-generate {\n",
              "        background-color: #3B4455;\n",
              "        fill: #D2E3FC;\n",
              "      }\n",
              "\n",
              "      [theme=dark] .colab-df-generate:hover {\n",
              "        background-color: #434B5C;\n",
              "        box-shadow: 0px 1px 3px 1px rgba(0, 0, 0, 0.15);\n",
              "        filter: drop-shadow(0px 1px 2px rgba(0, 0, 0, 0.3));\n",
              "        fill: #FFFFFF;\n",
              "      }\n",
              "    </style>\n",
              "    <button class=\"colab-df-generate\" onclick=\"generateWithVariable('df')\"\n",
              "            title=\"Generate code using this dataframe.\"\n",
              "            style=\"display:none;\">\n",
              "\n",
              "  <svg xmlns=\"http://www.w3.org/2000/svg\" height=\"24px\"viewBox=\"0 0 24 24\"\n",
              "       width=\"24px\">\n",
              "    <path d=\"M7,19H8.4L18.45,9,17,7.55,7,17.6ZM5,21V16.75L18.45,3.32a2,2,0,0,1,2.83,0l1.4,1.43a1.91,1.91,0,0,1,.58,1.4,1.91,1.91,0,0,1-.58,1.4L9.25,21ZM18.45,9,17,7.55Zm-12,3A5.31,5.31,0,0,0,4.9,8.1,5.31,5.31,0,0,0,1,6.5,5.31,5.31,0,0,0,4.9,4.9,5.31,5.31,0,0,0,6.5,1,5.31,5.31,0,0,0,8.1,4.9,5.31,5.31,0,0,0,12,6.5,5.46,5.46,0,0,0,6.5,12Z\"/>\n",
              "  </svg>\n",
              "    </button>\n",
              "    <script>\n",
              "      (() => {\n",
              "      const buttonEl =\n",
              "        document.querySelector('#id_f727fd43-23e2-4d75-a29e-4a6b267e3ecc button.colab-df-generate');\n",
              "      buttonEl.style.display =\n",
              "        google.colab.kernel.accessAllowed ? 'block' : 'none';\n",
              "\n",
              "      buttonEl.onclick = () => {\n",
              "        google.colab.notebook.generateWithVariable('df');\n",
              "      }\n",
              "      })();\n",
              "    </script>\n",
              "  </div>\n",
              "\n",
              "    </div>\n",
              "  </div>\n"
            ],
            "application/vnd.google.colaboratory.intrinsic+json": {
              "type": "dataframe",
              "variable_name": "df",
              "summary": "{\n  \"name\": \"df\",\n  \"rows\": 59936,\n  \"fields\": [\n    {\n      \"column\": \"reviewId\",\n      \"properties\": {\n        \"dtype\": \"string\",\n        \"num_unique_values\": 59306,\n        \"samples\": [\n          \"a6683cd2-9b66-4b14-a1e2-0654268580e3\",\n          \"d30b31eb-91a7-40f7-b88a-6cf4da2320a9\",\n          \"83894fbb-ed54-49c1-a097-5ac8dbff2617\"\n        ],\n        \"semantic_type\": \"\",\n        \"description\": \"\"\n      }\n    },\n    {\n      \"column\": \"userName\",\n      \"properties\": {\n        \"dtype\": \"string\",\n        \"num_unique_values\": 48990,\n        \"samples\": [\n          \"Dipankar Ghosh\",\n          \"Jazz Rock Fusion & Synthesizer Music\",\n          \"Blesy Paul\"\n        ],\n        \"semantic_type\": \"\",\n        \"description\": \"\"\n      }\n    },\n    {\n      \"column\": \"content\",\n      \"properties\": {\n        \"dtype\": \"string\",\n        \"num_unique_values\": 58893,\n        \"samples\": [\n          \"The functionality is fine, but the app is unstable to the point of not being usable. Frequent crashes, even after clearing cache, data, reinstalling, etc.\",\n          \"Great shopping app!\",\n          \"Good if you only have 1 account. You can add multiple accounts and switch between them but it only shows Amazon UK which sux if you want to also access other countries on your phone too.\"\n        ],\n        \"semantic_type\": \"\",\n        \"description\": \"\"\n      }\n    },\n    {\n      \"column\": \"score\",\n      \"properties\": {\n        \"dtype\": \"number\",\n        \"std\": 1,\n        \"min\": 1,\n        \"max\": 5,\n        \"num_unique_values\": 5,\n        \"samples\": [\n          1,\n          4,\n          5\n        ],\n        \"semantic_type\": \"\",\n        \"description\": \"\"\n      }\n    },\n    {\n      \"column\": \"thumbsUpCount\",\n      \"properties\": {\n        \"dtype\": \"number\",\n        \"std\": 79,\n        \"min\": 0,\n        \"max\": 5660,\n        \"num_unique_values\": 584,\n        \"samples\": [\n          302,\n          1565,\n          260\n        ],\n        \"semantic_type\": \"\",\n        \"description\": \"\"\n      }\n    },\n    {\n      \"column\": \"reviewCreatedVersion\",\n      \"properties\": {\n        \"dtype\": \"category\",\n        \"num_unique_values\": 230,\n        \"samples\": [\n          \"22.17.0.100\",\n          \"26.11.0.100\",\n          \"24.22.0.100\"\n        ],\n        \"semantic_type\": \"\",\n        \"description\": \"\"\n      }\n    },\n    {\n      \"column\": \"at\",\n      \"properties\": {\n        \"dtype\": \"object\",\n        \"num_unique_values\": 59790,\n        \"samples\": [\n          \"2023-03-27 00:18:22\",\n          \"2023-11-07 16:26:34\",\n          \"2024-07-18 07:02:16\"\n        ],\n        \"semantic_type\": \"\",\n        \"description\": \"\"\n      }\n    },\n    {\n      \"column\": \"appVersion\",\n      \"properties\": {\n        \"dtype\": \"category\",\n        \"num_unique_values\": 230,\n        \"samples\": [\n          \"22.17.0.100\",\n          \"26.11.0.100\",\n          \"24.22.0.100\"\n        ],\n        \"semantic_type\": \"\",\n        \"description\": \"\"\n      }\n    }\n  ]\n}"
            }
          },
          "metadata": {},
          "execution_count": 75
        }
      ],
      "source": [
        "url = \"https://raw.githubusercontent.com/Juanes1793/AmazonDataset_reviews/main/amazon_reviews.csv\"\n",
        "df = pd.read_csv(url)\n",
        "df"
      ]
    },
    {
      "cell_type": "markdown",
      "id": "f52krz2QD57E",
      "metadata": {
        "id": "f52krz2QD57E"
      },
      "source": [
        "Antes de empezar con el EDA , en nuestro caso nos interesa hacer un análisis de sentimiento a reviews sobre la aplicación de Amazon que estén en inglés, por lo que utilizaremos una librería de Google para identificar los idiomas con los que cuenta el dataset. Esto lo hacemos ya que hay paquetes de NLP como spacy que trabajan con un idioma determinado ."
      ]
    },
    {
      "cell_type": "markdown",
      "id": "EusL79IPEXp9",
      "metadata": {
        "id": "EusL79IPEXp9"
      },
      "source": [
        "## Detectamos cuántos idiomas está manejando el dataset"
      ]
    },
    {
      "cell_type": "code",
      "execution_count": 76,
      "id": "bAGNjJHOEith",
      "metadata": {
        "id": "bAGNjJHOEith"
      },
      "outputs": [],
      "source": [
        "# Función para detectar los lenguajes de las reviews\n",
        "\n",
        "def detect_language(text):\n",
        "    try:\n",
        "        return langid.classify(text)[0]\n",
        "    except:\n",
        "        return 'Unknown'\n",
        "\n",
        "\n"
      ]
    },
    {
      "cell_type": "code",
      "execution_count": 77,
      "id": "-RN_1HZRFI70",
      "metadata": {
        "id": "-RN_1HZRFI70"
      },
      "outputs": [],
      "source": [
        "#Aplicamos la función para crear una nueva columna de idioma y a partir de esta ver cuántos idiomas hay\n",
        "# Ejecutar esta celda, tarda aproximadamente 4 minutos en ejecutarse (Es la celda que tarda más tiempo del notebook)\n",
        "df[\"idioma\"] = df[\"content\"].apply(detect_language)"
      ]
    },
    {
      "cell_type": "code",
      "execution_count": 78,
      "id": "ubehQe1UGsE4",
      "metadata": {
        "colab": {
          "base_uri": "https://localhost:8080/"
        },
        "id": "ubehQe1UGsE4",
        "outputId": "7c30fe6f-a2a6-4687-990f-a01d0845d666"
      },
      "outputs": [
        {
          "output_type": "stream",
          "name": "stdout",
          "text": [
            "idioma\n",
            "en    58590\n",
            "ar      158\n",
            "de      137\n",
            "es      106\n",
            "ja       83\n",
            "      ...  \n",
            "an        1\n",
            "gl        1\n",
            "ml        1\n",
            "si        1\n",
            "af        1\n",
            "Name: count, Length: 72, dtype: int64\n"
          ]
        }
      ],
      "source": [
        "language_counts = df['idioma'].value_counts()\n",
        "print((language_counts))\n"
      ]
    },
    {
      "cell_type": "markdown",
      "id": "y_N-HeAQNW1V",
      "metadata": {
        "id": "y_N-HeAQNW1V"
      },
      "source": [
        "Como vemos, se identifican 72 tipos de idiomas diferentes, lo que nos causaría ruido para hacer los análisis respectivos que queremos hacer, por lo que se eliminarán los datos de los idiomas que no sean inglés. Y empezaremos con el EDA"
      ]
    },
    {
      "cell_type": "code",
      "execution_count": 79,
      "id": "L2AF1RzANVkl",
      "metadata": {
        "colab": {
          "base_uri": "https://localhost:8080/",
          "height": 537
        },
        "id": "L2AF1RzANVkl",
        "outputId": "e4360b32-56c9-4a2c-cc57-6b1b2028f5f8"
      },
      "outputs": [
        {
          "output_type": "execute_result",
          "data": {
            "text/plain": [
              "                                   reviewId               userName  \\\n",
              "16193  728a52cf-7154-4b40-a907-c4bfce5d9e88        Michelle Gregos   \n",
              "49694  801f2b37-3dad-4427-8699-200deebe50a5  djnightbeat nightbeat   \n",
              "31253  971a7c67-0c87-4890-88fa-ab324448c8e1           leila kayser   \n",
              "23385  d4908239-e3cb-46a7-bb36-40835cbdcb04       Ianina Letiagina   \n",
              "29360  aa174655-75dd-400f-913e-e8652858fe78         Scott Campbell   \n",
              "2273   35c910a6-5872-4572-a4b8-ee4f6ef8ecb3            Anime Bunny   \n",
              "14661  7efb0b8a-4011-445c-8a46-1ecc65235af2            Marcus Good   \n",
              "53621  69f1ac0f-c6ef-4304-a175-c1736e3f6810          A Google user   \n",
              "12380  95b0599d-330b-4dcb-90c4-09195df62c05          Ilana Bergher   \n",
              "30046  0c3caf72-6221-489e-9b18-f44e683e1a87       gunnar congiusti   \n",
              "\n",
              "                                                 content  score  \\\n",
              "16193  Convenient, but has limitations. The search fi...      3   \n",
              "49694  The app its beeing screwd up u have to click a...      1   \n",
              "31253  Ordered something less than 12 hours agi, orde...      1   \n",
              "23385  First and last time I have ordered from this p...      1   \n",
              "29360  Always convenient and well stocked with most e...      5   \n",
              "2273   This horrible and they did not deliver my pack...      1   \n",
              "14661  regularly gives internal error and shows no co...      3   \n",
              "53621  Displays the wrong reviews for items. It seems...      3   \n",
              "12380  App keeps crashing, no pattern. Updated it and...      1   \n",
              "30046  One star only because the app is not phone fri...      1   \n",
              "\n",
              "       thumbsUpCount reviewCreatedVersion                   at   appVersion  \\\n",
              "16193            229          20.22.0.100  2020-11-12 19:43:31  20.22.0.100   \n",
              "49694              0          26.12.0.100  2023-06-13 03:35:33  26.12.0.100   \n",
              "31253              1                  NaN  2022-08-07 17:06:15          NaN   \n",
              "23385              0           20.7.0.100  2020-05-01 20:07:47   20.7.0.100   \n",
              "29360              0           28.2.2.100  2024-02-04 17:43:11   28.2.2.100   \n",
              "2273               0          28.14.2.100  2024-08-03 15:51:52  28.14.2.100   \n",
              "14661              1           28.7.0.100  2024-04-23 07:18:25   28.7.0.100   \n",
              "53621              0                  NaN  2019-07-04 21:04:06          NaN   \n",
              "12380              1           28.5.2.100  2024-03-10 21:03:15   28.5.2.100   \n",
              "30046             11          20.14.0.100  2020-07-27 02:55:45  20.14.0.100   \n",
              "\n",
              "      idioma  \n",
              "16193     en  \n",
              "49694     en  \n",
              "31253     en  \n",
              "23385     en  \n",
              "29360     en  \n",
              "2273      en  \n",
              "14661     en  \n",
              "53621     en  \n",
              "12380     en  \n",
              "30046     en  "
            ],
            "text/html": [
              "\n",
              "  <div id=\"df-275ebb71-90c2-4ff9-95b4-b6c7aae986dc\" class=\"colab-df-container\">\n",
              "    <div>\n",
              "<style scoped>\n",
              "    .dataframe tbody tr th:only-of-type {\n",
              "        vertical-align: middle;\n",
              "    }\n",
              "\n",
              "    .dataframe tbody tr th {\n",
              "        vertical-align: top;\n",
              "    }\n",
              "\n",
              "    .dataframe thead th {\n",
              "        text-align: right;\n",
              "    }\n",
              "</style>\n",
              "<table border=\"1\" class=\"dataframe\">\n",
              "  <thead>\n",
              "    <tr style=\"text-align: right;\">\n",
              "      <th></th>\n",
              "      <th>reviewId</th>\n",
              "      <th>userName</th>\n",
              "      <th>content</th>\n",
              "      <th>score</th>\n",
              "      <th>thumbsUpCount</th>\n",
              "      <th>reviewCreatedVersion</th>\n",
              "      <th>at</th>\n",
              "      <th>appVersion</th>\n",
              "      <th>idioma</th>\n",
              "    </tr>\n",
              "  </thead>\n",
              "  <tbody>\n",
              "    <tr>\n",
              "      <th>16193</th>\n",
              "      <td>728a52cf-7154-4b40-a907-c4bfce5d9e88</td>\n",
              "      <td>Michelle Gregos</td>\n",
              "      <td>Convenient, but has limitations. The search fi...</td>\n",
              "      <td>3</td>\n",
              "      <td>229</td>\n",
              "      <td>20.22.0.100</td>\n",
              "      <td>2020-11-12 19:43:31</td>\n",
              "      <td>20.22.0.100</td>\n",
              "      <td>en</td>\n",
              "    </tr>\n",
              "    <tr>\n",
              "      <th>49694</th>\n",
              "      <td>801f2b37-3dad-4427-8699-200deebe50a5</td>\n",
              "      <td>djnightbeat nightbeat</td>\n",
              "      <td>The app its beeing screwd up u have to click a...</td>\n",
              "      <td>1</td>\n",
              "      <td>0</td>\n",
              "      <td>26.12.0.100</td>\n",
              "      <td>2023-06-13 03:35:33</td>\n",
              "      <td>26.12.0.100</td>\n",
              "      <td>en</td>\n",
              "    </tr>\n",
              "    <tr>\n",
              "      <th>31253</th>\n",
              "      <td>971a7c67-0c87-4890-88fa-ab324448c8e1</td>\n",
              "      <td>leila kayser</td>\n",
              "      <td>Ordered something less than 12 hours agi, orde...</td>\n",
              "      <td>1</td>\n",
              "      <td>1</td>\n",
              "      <td>NaN</td>\n",
              "      <td>2022-08-07 17:06:15</td>\n",
              "      <td>NaN</td>\n",
              "      <td>en</td>\n",
              "    </tr>\n",
              "    <tr>\n",
              "      <th>23385</th>\n",
              "      <td>d4908239-e3cb-46a7-bb36-40835cbdcb04</td>\n",
              "      <td>Ianina Letiagina</td>\n",
              "      <td>First and last time I have ordered from this p...</td>\n",
              "      <td>1</td>\n",
              "      <td>0</td>\n",
              "      <td>20.7.0.100</td>\n",
              "      <td>2020-05-01 20:07:47</td>\n",
              "      <td>20.7.0.100</td>\n",
              "      <td>en</td>\n",
              "    </tr>\n",
              "    <tr>\n",
              "      <th>29360</th>\n",
              "      <td>aa174655-75dd-400f-913e-e8652858fe78</td>\n",
              "      <td>Scott Campbell</td>\n",
              "      <td>Always convenient and well stocked with most e...</td>\n",
              "      <td>5</td>\n",
              "      <td>0</td>\n",
              "      <td>28.2.2.100</td>\n",
              "      <td>2024-02-04 17:43:11</td>\n",
              "      <td>28.2.2.100</td>\n",
              "      <td>en</td>\n",
              "    </tr>\n",
              "    <tr>\n",
              "      <th>2273</th>\n",
              "      <td>35c910a6-5872-4572-a4b8-ee4f6ef8ecb3</td>\n",
              "      <td>Anime Bunny</td>\n",
              "      <td>This horrible and they did not deliver my pack...</td>\n",
              "      <td>1</td>\n",
              "      <td>0</td>\n",
              "      <td>28.14.2.100</td>\n",
              "      <td>2024-08-03 15:51:52</td>\n",
              "      <td>28.14.2.100</td>\n",
              "      <td>en</td>\n",
              "    </tr>\n",
              "    <tr>\n",
              "      <th>14661</th>\n",
              "      <td>7efb0b8a-4011-445c-8a46-1ecc65235af2</td>\n",
              "      <td>Marcus Good</td>\n",
              "      <td>regularly gives internal error and shows no co...</td>\n",
              "      <td>3</td>\n",
              "      <td>1</td>\n",
              "      <td>28.7.0.100</td>\n",
              "      <td>2024-04-23 07:18:25</td>\n",
              "      <td>28.7.0.100</td>\n",
              "      <td>en</td>\n",
              "    </tr>\n",
              "    <tr>\n",
              "      <th>53621</th>\n",
              "      <td>69f1ac0f-c6ef-4304-a175-c1736e3f6810</td>\n",
              "      <td>A Google user</td>\n",
              "      <td>Displays the wrong reviews for items. It seems...</td>\n",
              "      <td>3</td>\n",
              "      <td>0</td>\n",
              "      <td>NaN</td>\n",
              "      <td>2019-07-04 21:04:06</td>\n",
              "      <td>NaN</td>\n",
              "      <td>en</td>\n",
              "    </tr>\n",
              "    <tr>\n",
              "      <th>12380</th>\n",
              "      <td>95b0599d-330b-4dcb-90c4-09195df62c05</td>\n",
              "      <td>Ilana Bergher</td>\n",
              "      <td>App keeps crashing, no pattern. Updated it and...</td>\n",
              "      <td>1</td>\n",
              "      <td>1</td>\n",
              "      <td>28.5.2.100</td>\n",
              "      <td>2024-03-10 21:03:15</td>\n",
              "      <td>28.5.2.100</td>\n",
              "      <td>en</td>\n",
              "    </tr>\n",
              "    <tr>\n",
              "      <th>30046</th>\n",
              "      <td>0c3caf72-6221-489e-9b18-f44e683e1a87</td>\n",
              "      <td>gunnar congiusti</td>\n",
              "      <td>One star only because the app is not phone fri...</td>\n",
              "      <td>1</td>\n",
              "      <td>11</td>\n",
              "      <td>20.14.0.100</td>\n",
              "      <td>2020-07-27 02:55:45</td>\n",
              "      <td>20.14.0.100</td>\n",
              "      <td>en</td>\n",
              "    </tr>\n",
              "  </tbody>\n",
              "</table>\n",
              "</div>\n",
              "    <div class=\"colab-df-buttons\">\n",
              "\n",
              "  <div class=\"colab-df-container\">\n",
              "    <button class=\"colab-df-convert\" onclick=\"convertToInteractive('df-275ebb71-90c2-4ff9-95b4-b6c7aae986dc')\"\n",
              "            title=\"Convert this dataframe to an interactive table.\"\n",
              "            style=\"display:none;\">\n",
              "\n",
              "  <svg xmlns=\"http://www.w3.org/2000/svg\" height=\"24px\" viewBox=\"0 -960 960 960\">\n",
              "    <path d=\"M120-120v-720h720v720H120Zm60-500h600v-160H180v160Zm220 220h160v-160H400v160Zm0 220h160v-160H400v160ZM180-400h160v-160H180v160Zm440 0h160v-160H620v160ZM180-180h160v-160H180v160Zm440 0h160v-160H620v160Z\"/>\n",
              "  </svg>\n",
              "    </button>\n",
              "\n",
              "  <style>\n",
              "    .colab-df-container {\n",
              "      display:flex;\n",
              "      gap: 12px;\n",
              "    }\n",
              "\n",
              "    .colab-df-convert {\n",
              "      background-color: #E8F0FE;\n",
              "      border: none;\n",
              "      border-radius: 50%;\n",
              "      cursor: pointer;\n",
              "      display: none;\n",
              "      fill: #1967D2;\n",
              "      height: 32px;\n",
              "      padding: 0 0 0 0;\n",
              "      width: 32px;\n",
              "    }\n",
              "\n",
              "    .colab-df-convert:hover {\n",
              "      background-color: #E2EBFA;\n",
              "      box-shadow: 0px 1px 2px rgba(60, 64, 67, 0.3), 0px 1px 3px 1px rgba(60, 64, 67, 0.15);\n",
              "      fill: #174EA6;\n",
              "    }\n",
              "\n",
              "    .colab-df-buttons div {\n",
              "      margin-bottom: 4px;\n",
              "    }\n",
              "\n",
              "    [theme=dark] .colab-df-convert {\n",
              "      background-color: #3B4455;\n",
              "      fill: #D2E3FC;\n",
              "    }\n",
              "\n",
              "    [theme=dark] .colab-df-convert:hover {\n",
              "      background-color: #434B5C;\n",
              "      box-shadow: 0px 1px 3px 1px rgba(0, 0, 0, 0.15);\n",
              "      filter: drop-shadow(0px 1px 2px rgba(0, 0, 0, 0.3));\n",
              "      fill: #FFFFFF;\n",
              "    }\n",
              "  </style>\n",
              "\n",
              "    <script>\n",
              "      const buttonEl =\n",
              "        document.querySelector('#df-275ebb71-90c2-4ff9-95b4-b6c7aae986dc button.colab-df-convert');\n",
              "      buttonEl.style.display =\n",
              "        google.colab.kernel.accessAllowed ? 'block' : 'none';\n",
              "\n",
              "      async function convertToInteractive(key) {\n",
              "        const element = document.querySelector('#df-275ebb71-90c2-4ff9-95b4-b6c7aae986dc');\n",
              "        const dataTable =\n",
              "          await google.colab.kernel.invokeFunction('convertToInteractive',\n",
              "                                                    [key], {});\n",
              "        if (!dataTable) return;\n",
              "\n",
              "        const docLinkHtml = 'Like what you see? Visit the ' +\n",
              "          '<a target=\"_blank\" href=https://colab.research.google.com/notebooks/data_table.ipynb>data table notebook</a>'\n",
              "          + ' to learn more about interactive tables.';\n",
              "        element.innerHTML = '';\n",
              "        dataTable['output_type'] = 'display_data';\n",
              "        await google.colab.output.renderOutput(dataTable, element);\n",
              "        const docLink = document.createElement('div');\n",
              "        docLink.innerHTML = docLinkHtml;\n",
              "        element.appendChild(docLink);\n",
              "      }\n",
              "    </script>\n",
              "  </div>\n",
              "\n",
              "\n",
              "<div id=\"df-58278c07-aa30-438a-af91-647d9d4fa10e\">\n",
              "  <button class=\"colab-df-quickchart\" onclick=\"quickchart('df-58278c07-aa30-438a-af91-647d9d4fa10e')\"\n",
              "            title=\"Suggest charts\"\n",
              "            style=\"display:none;\">\n",
              "\n",
              "<svg xmlns=\"http://www.w3.org/2000/svg\" height=\"24px\"viewBox=\"0 0 24 24\"\n",
              "     width=\"24px\">\n",
              "    <g>\n",
              "        <path d=\"M19 3H5c-1.1 0-2 .9-2 2v14c0 1.1.9 2 2 2h14c1.1 0 2-.9 2-2V5c0-1.1-.9-2-2-2zM9 17H7v-7h2v7zm4 0h-2V7h2v10zm4 0h-2v-4h2v4z\"/>\n",
              "    </g>\n",
              "</svg>\n",
              "  </button>\n",
              "\n",
              "<style>\n",
              "  .colab-df-quickchart {\n",
              "      --bg-color: #E8F0FE;\n",
              "      --fill-color: #1967D2;\n",
              "      --hover-bg-color: #E2EBFA;\n",
              "      --hover-fill-color: #174EA6;\n",
              "      --disabled-fill-color: #AAA;\n",
              "      --disabled-bg-color: #DDD;\n",
              "  }\n",
              "\n",
              "  [theme=dark] .colab-df-quickchart {\n",
              "      --bg-color: #3B4455;\n",
              "      --fill-color: #D2E3FC;\n",
              "      --hover-bg-color: #434B5C;\n",
              "      --hover-fill-color: #FFFFFF;\n",
              "      --disabled-bg-color: #3B4455;\n",
              "      --disabled-fill-color: #666;\n",
              "  }\n",
              "\n",
              "  .colab-df-quickchart {\n",
              "    background-color: var(--bg-color);\n",
              "    border: none;\n",
              "    border-radius: 50%;\n",
              "    cursor: pointer;\n",
              "    display: none;\n",
              "    fill: var(--fill-color);\n",
              "    height: 32px;\n",
              "    padding: 0;\n",
              "    width: 32px;\n",
              "  }\n",
              "\n",
              "  .colab-df-quickchart:hover {\n",
              "    background-color: var(--hover-bg-color);\n",
              "    box-shadow: 0 1px 2px rgba(60, 64, 67, 0.3), 0 1px 3px 1px rgba(60, 64, 67, 0.15);\n",
              "    fill: var(--button-hover-fill-color);\n",
              "  }\n",
              "\n",
              "  .colab-df-quickchart-complete:disabled,\n",
              "  .colab-df-quickchart-complete:disabled:hover {\n",
              "    background-color: var(--disabled-bg-color);\n",
              "    fill: var(--disabled-fill-color);\n",
              "    box-shadow: none;\n",
              "  }\n",
              "\n",
              "  .colab-df-spinner {\n",
              "    border: 2px solid var(--fill-color);\n",
              "    border-color: transparent;\n",
              "    border-bottom-color: var(--fill-color);\n",
              "    animation:\n",
              "      spin 1s steps(1) infinite;\n",
              "  }\n",
              "\n",
              "  @keyframes spin {\n",
              "    0% {\n",
              "      border-color: transparent;\n",
              "      border-bottom-color: var(--fill-color);\n",
              "      border-left-color: var(--fill-color);\n",
              "    }\n",
              "    20% {\n",
              "      border-color: transparent;\n",
              "      border-left-color: var(--fill-color);\n",
              "      border-top-color: var(--fill-color);\n",
              "    }\n",
              "    30% {\n",
              "      border-color: transparent;\n",
              "      border-left-color: var(--fill-color);\n",
              "      border-top-color: var(--fill-color);\n",
              "      border-right-color: var(--fill-color);\n",
              "    }\n",
              "    40% {\n",
              "      border-color: transparent;\n",
              "      border-right-color: var(--fill-color);\n",
              "      border-top-color: var(--fill-color);\n",
              "    }\n",
              "    60% {\n",
              "      border-color: transparent;\n",
              "      border-right-color: var(--fill-color);\n",
              "    }\n",
              "    80% {\n",
              "      border-color: transparent;\n",
              "      border-right-color: var(--fill-color);\n",
              "      border-bottom-color: var(--fill-color);\n",
              "    }\n",
              "    90% {\n",
              "      border-color: transparent;\n",
              "      border-bottom-color: var(--fill-color);\n",
              "    }\n",
              "  }\n",
              "</style>\n",
              "\n",
              "  <script>\n",
              "    async function quickchart(key) {\n",
              "      const quickchartButtonEl =\n",
              "        document.querySelector('#' + key + ' button');\n",
              "      quickchartButtonEl.disabled = true;  // To prevent multiple clicks.\n",
              "      quickchartButtonEl.classList.add('colab-df-spinner');\n",
              "      try {\n",
              "        const charts = await google.colab.kernel.invokeFunction(\n",
              "            'suggestCharts', [key], {});\n",
              "      } catch (error) {\n",
              "        console.error('Error during call to suggestCharts:', error);\n",
              "      }\n",
              "      quickchartButtonEl.classList.remove('colab-df-spinner');\n",
              "      quickchartButtonEl.classList.add('colab-df-quickchart-complete');\n",
              "    }\n",
              "    (() => {\n",
              "      let quickchartButtonEl =\n",
              "        document.querySelector('#df-58278c07-aa30-438a-af91-647d9d4fa10e button');\n",
              "      quickchartButtonEl.style.display =\n",
              "        google.colab.kernel.accessAllowed ? 'block' : 'none';\n",
              "    })();\n",
              "  </script>\n",
              "</div>\n",
              "\n",
              "    </div>\n",
              "  </div>\n"
            ],
            "application/vnd.google.colaboratory.intrinsic+json": {
              "type": "dataframe",
              "repr_error": "0"
            }
          },
          "metadata": {},
          "execution_count": 79
        }
      ],
      "source": [
        "filtered_df = df[df[\"idioma\"] == \"en\"]\n",
        "filtered_df.sample(10)"
      ]
    },
    {
      "cell_type": "markdown",
      "id": "1f940020",
      "metadata": {
        "id": "1f940020"
      },
      "source": [
        "## EDA"
      ]
    },
    {
      "cell_type": "markdown",
      "id": "23b46372",
      "metadata": {
        "id": "23b46372"
      },
      "source": [
        "### **1.1. Resumen General de los Textos**\n",
        "- ¿Cuántos documentos tiene el corpus?\n"
      ]
    },
    {
      "cell_type": "code",
      "execution_count": 80,
      "id": "72156fae",
      "metadata": {
        "colab": {
          "base_uri": "https://localhost:8080/",
          "height": 35
        },
        "id": "72156fae",
        "outputId": "125fe1ce-7a6c-4705-d5de-2ce7b535eb84"
      },
      "outputs": [
        {
          "output_type": "execute_result",
          "data": {
            "text/plain": [
              "'El corpus tiene 58590 registros'"
            ],
            "application/vnd.google.colaboratory.intrinsic+json": {
              "type": "string"
            }
          },
          "metadata": {},
          "execution_count": 80
        }
      ],
      "source": [
        "filtered_df.shape\n",
        "f\"El corpus tiene {filtered_df.shape[0]} registros\""
      ]
    },
    {
      "cell_type": "markdown",
      "id": "17ee3b49",
      "metadata": {
        "id": "17ee3b49"
      },
      "source": [
        "\n",
        "- ¿En qué idioma se encuentran?\n",
        "\n",
        "Como vimos anteriormente , se identifican 72 tipos de idiomas diferentes, lo que nos causaría ruido para hacer los análisis respectivos que queremos hacer, por lo que se eliminarán los datos de los idiomas que no sean inglés. Y solamente trabajaremos con este lenguaje.\n"
      ]
    },
    {
      "cell_type": "markdown",
      "id": "2d85e58d",
      "metadata": {
        "id": "2d85e58d"
      },
      "source": [
        "- ¿Qué tamaño en MB tiene el corpus?\n"
      ]
    },
    {
      "cell_type": "code",
      "execution_count": 81,
      "id": "f31a3e5b",
      "metadata": {
        "colab": {
          "base_uri": "https://localhost:8080/"
        },
        "id": "f31a3e5b",
        "outputId": "7d459e98-dd83-4ae5-afe4-dec6ef482cec"
      },
      "outputs": [
        {
          "output_type": "stream",
          "name": "stdout",
          "text": [
            "Tamaño en MB del corpus aproximadamente: 7.48 MB\n"
          ]
        }
      ],
      "source": [
        "response = requests.head(url)\n",
        "file_size_bytes = int(response.headers.get('Content-Length', 0))\n",
        "# Convertimos el tamaño de bytes a megabytes\n",
        "file_size_mb = file_size_bytes / (1024 * 1024)\n",
        "print(f\"Tamaño en MB del corpus aproximadamente: {file_size_mb:.2f} MB\")"
      ]
    },
    {
      "cell_type": "markdown",
      "id": "304abed6",
      "metadata": {
        "id": "304abed6"
      },
      "source": [
        "- ¿Hay alguna relación entre distintos documentos del corpus?\n",
        "\n",
        "Como se mencionó en la anterior entrega, este dataset trata de una colección de reviews , acerca de una aplicación de compras en línea de Amazon.  Se pueden encontrar desde reviews positivas, negativas y neutras."
      ]
    },
    {
      "cell_type": "markdown",
      "id": "b0d13ab1",
      "metadata": {
        "id": "b0d13ab1"
      },
      "source": [
        "### **1.2. Resumen de la Calidad de los Textos**\n",
        "\n",
        "A continuación veremos un resumen de la calidad de los datos, primero se mostrarán sus características y luego se harán correcciones o eliminaciones de datos redundantes si es necesario\n",
        "\n",
        "- ¿Hay datos faltantes o documentos vacíos?\n"
      ]
    },
    {
      "cell_type": "code",
      "execution_count": 82,
      "id": "cd146091",
      "metadata": {
        "colab": {
          "base_uri": "https://localhost:8080/",
          "height": 366
        },
        "id": "cd146091",
        "outputId": "3f827c64-bbcb-4795-8857-9ca44132292f"
      },
      "outputs": [
        {
          "output_type": "execute_result",
          "data": {
            "text/plain": [
              "reviewId                   0\n",
              "userName                   5\n",
              "content                    0\n",
              "score                      0\n",
              "thumbsUpCount              0\n",
              "reviewCreatedVersion    5939\n",
              "at                         0\n",
              "appVersion              5939\n",
              "idioma                     0\n",
              "dtype: int64"
            ],
            "text/html": [
              "<div>\n",
              "<style scoped>\n",
              "    .dataframe tbody tr th:only-of-type {\n",
              "        vertical-align: middle;\n",
              "    }\n",
              "\n",
              "    .dataframe tbody tr th {\n",
              "        vertical-align: top;\n",
              "    }\n",
              "\n",
              "    .dataframe thead th {\n",
              "        text-align: right;\n",
              "    }\n",
              "</style>\n",
              "<table border=\"1\" class=\"dataframe\">\n",
              "  <thead>\n",
              "    <tr style=\"text-align: right;\">\n",
              "      <th></th>\n",
              "      <th>0</th>\n",
              "    </tr>\n",
              "  </thead>\n",
              "  <tbody>\n",
              "    <tr>\n",
              "      <th>reviewId</th>\n",
              "      <td>0</td>\n",
              "    </tr>\n",
              "    <tr>\n",
              "      <th>userName</th>\n",
              "      <td>5</td>\n",
              "    </tr>\n",
              "    <tr>\n",
              "      <th>content</th>\n",
              "      <td>0</td>\n",
              "    </tr>\n",
              "    <tr>\n",
              "      <th>score</th>\n",
              "      <td>0</td>\n",
              "    </tr>\n",
              "    <tr>\n",
              "      <th>thumbsUpCount</th>\n",
              "      <td>0</td>\n",
              "    </tr>\n",
              "    <tr>\n",
              "      <th>reviewCreatedVersion</th>\n",
              "      <td>5939</td>\n",
              "    </tr>\n",
              "    <tr>\n",
              "      <th>at</th>\n",
              "      <td>0</td>\n",
              "    </tr>\n",
              "    <tr>\n",
              "      <th>appVersion</th>\n",
              "      <td>5939</td>\n",
              "    </tr>\n",
              "    <tr>\n",
              "      <th>idioma</th>\n",
              "      <td>0</td>\n",
              "    </tr>\n",
              "  </tbody>\n",
              "</table>\n",
              "</div><br><label><b>dtype:</b> int64</label>"
            ]
          },
          "metadata": {},
          "execution_count": 82
        }
      ],
      "source": [
        "filtered_df.isnull().sum()\n"
      ]
    },
    {
      "cell_type": "markdown",
      "id": "b04d79df",
      "metadata": {
        "id": "b04d79df"
      },
      "source": [
        "- ¿Hay datos duplicados o repetidos?"
      ]
    },
    {
      "cell_type": "code",
      "execution_count": 83,
      "id": "b959d560",
      "metadata": {
        "colab": {
          "base_uri": "https://localhost:8080/"
        },
        "id": "b959d560",
        "outputId": "c0cbf9a5-ec3c-41dd-b9a9-cb6be53c0a3e"
      },
      "outputs": [
        {
          "output_type": "execute_result",
          "data": {
            "text/plain": [
              "603"
            ]
          },
          "metadata": {},
          "execution_count": 83
        }
      ],
      "source": [
        "filtered_df['reviewId'].duplicated().sum()\n"
      ]
    },
    {
      "cell_type": "markdown",
      "id": "0405e620",
      "metadata": {
        "id": "0405e620"
      },
      "source": [
        "- Tipo de datos de las columnas del dataset"
      ]
    },
    {
      "cell_type": "code",
      "execution_count": 84,
      "id": "87b79fe0",
      "metadata": {
        "colab": {
          "base_uri": "https://localhost:8080/",
          "height": 366
        },
        "id": "87b79fe0",
        "outputId": "e520c399-c392-450e-e2ff-b8c73b1e60cb"
      },
      "outputs": [
        {
          "output_type": "execute_result",
          "data": {
            "text/plain": [
              "reviewId                object\n",
              "userName                object\n",
              "content                 object\n",
              "score                    int64\n",
              "thumbsUpCount            int64\n",
              "reviewCreatedVersion    object\n",
              "at                      object\n",
              "appVersion              object\n",
              "idioma                  object\n",
              "dtype: object"
            ],
            "text/html": [
              "<div>\n",
              "<style scoped>\n",
              "    .dataframe tbody tr th:only-of-type {\n",
              "        vertical-align: middle;\n",
              "    }\n",
              "\n",
              "    .dataframe tbody tr th {\n",
              "        vertical-align: top;\n",
              "    }\n",
              "\n",
              "    .dataframe thead th {\n",
              "        text-align: right;\n",
              "    }\n",
              "</style>\n",
              "<table border=\"1\" class=\"dataframe\">\n",
              "  <thead>\n",
              "    <tr style=\"text-align: right;\">\n",
              "      <th></th>\n",
              "      <th>0</th>\n",
              "    </tr>\n",
              "  </thead>\n",
              "  <tbody>\n",
              "    <tr>\n",
              "      <th>reviewId</th>\n",
              "      <td>object</td>\n",
              "    </tr>\n",
              "    <tr>\n",
              "      <th>userName</th>\n",
              "      <td>object</td>\n",
              "    </tr>\n",
              "    <tr>\n",
              "      <th>content</th>\n",
              "      <td>object</td>\n",
              "    </tr>\n",
              "    <tr>\n",
              "      <th>score</th>\n",
              "      <td>int64</td>\n",
              "    </tr>\n",
              "    <tr>\n",
              "      <th>thumbsUpCount</th>\n",
              "      <td>int64</td>\n",
              "    </tr>\n",
              "    <tr>\n",
              "      <th>reviewCreatedVersion</th>\n",
              "      <td>object</td>\n",
              "    </tr>\n",
              "    <tr>\n",
              "      <th>at</th>\n",
              "      <td>object</td>\n",
              "    </tr>\n",
              "    <tr>\n",
              "      <th>appVersion</th>\n",
              "      <td>object</td>\n",
              "    </tr>\n",
              "    <tr>\n",
              "      <th>idioma</th>\n",
              "      <td>object</td>\n",
              "    </tr>\n",
              "  </tbody>\n",
              "</table>\n",
              "</div><br><label><b>dtype:</b> object</label>"
            ]
          },
          "metadata": {},
          "execution_count": 84
        }
      ],
      "source": [
        "filtered_df.dtypes\n"
      ]
    },
    {
      "cell_type": "markdown",
      "id": "5e4c4984",
      "metadata": {
        "id": "5e4c4984"
      },
      "source": [
        "Eliminamos duplicados por reviewId"
      ]
    },
    {
      "cell_type": "code",
      "execution_count": 85,
      "id": "3873017e",
      "metadata": {
        "colab": {
          "base_uri": "https://localhost:8080/"
        },
        "id": "3873017e",
        "outputId": "96ac6a72-9333-412a-d451-eb723c0d0907"
      },
      "outputs": [
        {
          "output_type": "execute_result",
          "data": {
            "text/plain": [
              "0"
            ]
          },
          "metadata": {},
          "execution_count": 85
        }
      ],
      "source": [
        "filtered_df = filtered_df.drop_duplicates('reviewId')\n",
        "filtered_df['reviewId'].duplicated().sum()"
      ]
    },
    {
      "cell_type": "markdown",
      "id": "720f72ae",
      "metadata": {
        "id": "720f72ae"
      },
      "source": [
        "### **1.3. Tipos de variables**\n",
        "---\n",
        "\n",
        "- ¿El corpus tiene una variable objetivo a estimar?, de ser así, ¿es una variable continúa o categórica?\n",
        "\n",
        "En este conjunto de datos de reseñas de Amazon, la variable que parece ser la más adecuada como variable objetivo es la columna score. Esta columna indica la calificación dada por el usuario (probablemente en una escala del 1 al 5), por lo que: **Tipo de variable**: Es una variable categórica ordinal, ya que aunque los valores son numéricos, representan categorías discretas (1, 2, 3, 4, 5) que tienen un orden implícito, pero no una relación lineal como una variable continua.\n"
      ]
    },
    {
      "cell_type": "markdown",
      "id": "e91e45e0",
      "metadata": {
        "id": "e91e45e0"
      },
      "source": [
        "- Analice la distribución de las etiquetas, identifique si hay desbalanceo de datos."
      ]
    },
    {
      "cell_type": "code",
      "execution_count": 86,
      "id": "MR2ku5_zM14b",
      "metadata": {
        "colab": {
          "base_uri": "https://localhost:8080/",
          "height": 467
        },
        "id": "MR2ku5_zM14b",
        "outputId": "77367d41-1066-422c-edd8-6b734c00639c"
      },
      "outputs": [
        {
          "output_type": "display_data",
          "data": {
            "text/plain": [
              "<Figure size 640x480 with 1 Axes>"
            ],
            "image/png": "[encoded data removed]"
          },
          "metadata": {}
        }
      ],
      "source": [
        "# Conteo de las etiquetas en la columna 'score'\n",
        "label_counts = filtered_df['score'].value_counts()\n",
        "\n",
        "# Visualización de la distribución de las etiquetas\n",
        "label_counts.plot(kind='bar', color='skyblue')\n",
        "plt.title('Distribución de la variable \"score\"')\n",
        "plt.xlabel('Score')\n",
        "plt.ylabel('Número de reseñas')\n",
        "plt.show()\n",
        "\n"
      ]
    },
    {
      "cell_type": "markdown",
      "id": "999e1ea4",
      "metadata": {
        "id": "999e1ea4"
      },
      "source": [
        "El la imagen se puede ver , que sí hay un desbalanceo en la columna de puntuación, esto podría influír en el modelo, por lo que se debe balancear la columna de puntuación si es que queremos entrenar un modelo."
      ]
    },
    {
      "cell_type": "markdown",
      "id": "131785d9",
      "metadata": {
        "id": "131785d9"
      },
      "source": [
        "\n",
        "- Analice los documentos, y determine cuál es la distribución de la longitud de los documentos a nivel carácter o palabra."
      ]
    },
    {
      "cell_type": "code",
      "execution_count": 87,
      "id": "9bd8e923",
      "metadata": {
        "colab": {
          "base_uri": "https://localhost:8080/",
          "height": 473
        },
        "id": "9bd8e923",
        "outputId": "7ea47b0f-edfd-4db9-9bc0-8d4fabb0b606"
      },
      "outputs": [
        {
          "output_type": "display_data",
          "data": {
            "text/plain": [
              "<Figure size 640x480 with 1 Axes>"
            ],
            "image/png": "[encoded data removed]"
          },
          "metadata": {}
        }
      ],
      "source": [
        "# Contar el número de palabras por reseña\n",
        "filtered_df['word_count'] = filtered_df['content'].apply(lambda x: len(str(x).split()))\n",
        "\n",
        "# Visualizar la distribución del número de palabras\n",
        "plt.hist(filtered_df['word_count'], bins=30, color='skyblue', edgecolor='black')\n",
        "plt.title('Distribución de la longitud de los documentos (número de palabras)')\n",
        "plt.xlabel('Número de palabras')\n",
        "plt.ylabel('Frecuencia')\n",
        "plt.show()\n"
      ]
    },
    {
      "cell_type": "markdown",
      "id": "4bce9ea6",
      "metadata": {
        "id": "4bce9ea6"
      },
      "source": [
        "Algunos comentarios importantes que se pueden hacer sobre esta imagen :\n",
        "\n",
        "**Eje X (Número de palabras)**: El eje horizontal representa la cantidad de palabras en cada documento. Va desde 0 hasta más de 300 palabras, pero la mayor concentración está entre 0 y 100 palabras.\n",
        "\n",
        "**Eje Y (Frecuencia)**: El eje vertical indica la frecuencia o cantidad de documentos que tienen una longitud específica (en términos de número de palabras). La altura de cada barra representa cuántos documentos tienen ese número de palabras.\n",
        "\n",
        "**Distribución**: La distribución está sesgada hacia la izquierda, lo que significa que la mayoría de los documentos tienen una longitud corta, entre 0 y 50 palabras, con un número significativo que tiene menos de 100 palabras. A medida que el número de palabras aumenta, la frecuencia de los documentos disminuye considerablemente."
      ]
    },
    {
      "cell_type": "markdown",
      "id": "9f74f0bf",
      "metadata": {
        "id": "9f74f0bf"
      },
      "source": [
        "- ¿El conjunto de datos cuenta con otras variables adicionales?, de ser así, debe analizar cuáles se incorporarán en el modelo y hacer un análisis descriptivo de las mismas.\n",
        "\n",
        "    Sí, el conjunto de datos cuenta con varias otras variables adicionales, como:\n",
        "\n",
        "- **userName**: Nombre del usuario.\n",
        "\n",
        "- **thumbsUpCount**: Número de votos positivos recibidos.\n",
        "\n",
        "- **reviewCreatedVersion**: Versión de la app en la que se creó la reseña.\n",
        "\n",
        "- **at**: Fecha y hora de la creación de la reseña.\n",
        "\n",
        "- **appVersion**: Versión de la aplicación.\n",
        "\n",
        "- **idioma**: Idioma de la reseña.\n",
        "\n",
        "- **word_count**: Número de palabras en el texto de la reseña.\n",
        "\n",
        "### **Análisis de las variables adicionales**:\n",
        "\n",
        "- **userName**: Probablemente no aporta mucho valor predictivo para el modelo y puede eliminarse. Sin embargo, si hay múltiples reseñas de un mismo usuario, podrías agregar una característica adicional como el número de reseñas por usuario.\n",
        "\n",
        "- **thumbsUpCount**: Podría ser útil como una variable adicional, ya que refleja la popularidad de la reseña. Podría ayudar a identificar reseñas más relevantes.\n",
        "\n",
        "- **reviewCreatedVersion y appVersion**: Estas variables podrían ser útiles para identificar si las versiones más recientes de la aplicación están asociadas con mejores o peores reseñas.\n",
        "\n",
        "- **at**: La fecha de la reseña podría ser transformada para obtener nuevas características como el año, mes, día de la semana, etc., para capturar patrones temporales en las reseñas.\n",
        "\n",
        "- **idioma**: Puede ser relevante si deseas entrenar un modelo multilingüe o enfocarte en un solo idioma. Podrías filtrar reseñas solo en un idioma específico o usarlo como una característica adicional.\n",
        "\n",
        "- **word_count**: La longitud de las reseñas puede ser una característica importante, ya que las reseñas más largas pueden contener más detalles y podrían ser más útiles para el análisis."
      ]
    },
    {
      "cell_type": "markdown",
      "id": "bf3755da",
      "metadata": {
        "id": "bf3755da"
      },
      "source": [
        "### **1.4. Relación Entre Variables**\n",
        "---\n",
        "\n",
        "- Analice si existe alguna relación entre las variables. Puede utilizar medidas de correlación o visualizaciones.\n"
      ]
    },
    {
      "cell_type": "markdown",
      "id": "zHgDSjLpVyL0",
      "metadata": {
        "id": "zHgDSjLpVyL0"
      },
      "source": [
        "### Distribuión del número de reseñas a lo largo del tiempo"
      ]
    },
    {
      "cell_type": "code",
      "execution_count": 88,
      "id": "824cd8ff",
      "metadata": {
        "colab": {
          "base_uri": "https://localhost:8080/",
          "height": 472
        },
        "id": "824cd8ff",
        "outputId": "2c9b29a3-3153-4ef8-ee85-ea6c84d7b2e0"
      },
      "outputs": [
        {
          "output_type": "display_data",
          "data": {
            "text/plain": [
              "<Figure size 640x480 with 1 Axes>"
            ],
            "image/png": "[encoded data removed]"
          },
          "metadata": {}
        }
      ],
      "source": [
        "clean_ReviewIdfiltered_df = filtered_df.copy()\n",
        "clean_ReviewIdfiltered_df.loc[:, 'at'] = pd.to_datetime(clean_ReviewIdfiltered_df['at'])\n",
        "\n",
        "\n",
        "plt.hist(clean_ReviewIdfiltered_df['at'],bins=40,edgecolor='black')\n",
        "plt.title('Distribuión del número de reseñas a lo largo del tiempo')\n",
        "plt.xlabel('Fecha')\n",
        "\n",
        "\n",
        "\n",
        "plt.ylabel('Número de reseñas')\n",
        "plt.show()"
      ]
    },
    {
      "cell_type": "markdown",
      "id": "3112217a",
      "metadata": {
        "id": "3112217a"
      },
      "source": [
        "Podemos observar que hay una relación directamente proporcional que a medida que aumentan los años, aumentan las reseñas. Esto quiere decir que la popularidad de la aplicación aumentó con el tiempo"
      ]
    },
    {
      "cell_type": "markdown",
      "id": "3azvi-tFV2Lj",
      "metadata": {
        "id": "3azvi-tFV2Lj"
      },
      "source": [
        "### Media en años de la calificación de la app"
      ]
    },
    {
      "cell_type": "code",
      "execution_count": 89,
      "id": "4ce468fe",
      "metadata": {
        "colab": {
          "base_uri": "https://localhost:8080/",
          "height": 489
        },
        "id": "4ce468fe",
        "outputId": "fc09b29e-d813-4742-d6d5-8cdac4d2cbfa"
      },
      "outputs": [
        {
          "output_type": "execute_result",
          "data": {
            "text/plain": [
              "Text(0.5, 0, 'Fecha')"
            ]
          },
          "metadata": {},
          "execution_count": 89
        },
        {
          "output_type": "display_data",
          "data": {
            "text/plain": [
              "<Figure size 640x480 with 1 Axes>"
            ],
            "image/png": "[encoded data removed]"
          },
          "metadata": {}
        }
      ],
      "source": [
        "clean_ReviewIdfiltered_df.set_index('at').resample('M')['score'].mean().plot()\n",
        "plt.ylabel('Media de calificación')  # Replace 'Mean Score' with your desired label\n",
        "\n",
        "# Optionally, you can also add a title and x-axis label\n",
        "plt.title('Media en años de la calificación')\n",
        "plt.xlabel('Fecha')\n"
      ]
    },
    {
      "cell_type": "markdown",
      "id": "0Q7tU3U_QZ4x",
      "metadata": {
        "id": "0Q7tU3U_QZ4x"
      },
      "source": [
        "Este tipo de gráfico sugiere que ha habido momentos en los que la experiencia de los usuarios con la aplicación ha variado mucho, posiblemente debido a actualizaciones, problemas o mejoras de funcionalidad. Las fechas exactas de los picos y caídas podrían corresponder a eventos clave, como lanzamientos de nuevas versiones de la app o cambios en la política del servicio.\n",
        "\n",
        "\n"
      ]
    },
    {
      "cell_type": "markdown",
      "id": "c807bc92",
      "metadata": {
        "id": "c807bc92"
      },
      "source": [
        "## **2. Limpieza de los Textos**\n",
        "---\n",
        "\n",
        "La selección de las técnicas de preprocesamiento del corpus puede variar en cada conjunto de datos. Recuerde que puede aplicar (no necesariamente todas) las técnicas generales vistas en el curso, tales como:\n",
        "\n",
        "- Tokenizacion\n",
        "- Normalización de textos.\n",
        "- Limpieza con expresiones regulares.\n",
        "- Lematización.\n",
        "- Filtrado de palabras.\n",
        "- Modificaciones en la grafía."
      ]
    },
    {
      "cell_type": "code",
      "execution_count": 90,
      "id": "310ddd4c",
      "metadata": {
        "id": "310ddd4c",
        "colab": {
          "base_uri": "https://localhost:8080/"
        },
        "outputId": "01d8b1a8-6174-48e0-ef7d-d62e658d7928"
      },
      "outputs": [
        {
          "output_type": "stream",
          "name": "stderr",
          "text": [
            "/usr/local/lib/python3.10/dist-packages/spacy/util.py:1740: UserWarning: [W111] Jupyter notebook detected: if using `prefer_gpu()` or `require_gpu()`, include it in the same cell right before `spacy.load()` to ensure that the model is loaded on the correct device. More information: http://spacy.io/usage/v3#jupyter-notebook-gpu\n",
            "  warnings.warn(Warnings.W111)\n"
          ]
        }
      ],
      "source": [
        "# Load the English SpaCy model\n",
        "nlp = spacy.load(\n",
        "    \"en_core_web_sm\",  # Load the English model\n",
        "    exclude=[\n",
        "        \"tok2vec\", \"morphologizer\", \"parser\",\n",
        "        \"senter\", \"attribute_ruler\", \"lemmatizer\", \"ner\"\n",
        "    ]\n",
        ")\n",
        "\n",
        "def preprocess(text):\n",
        "    # Normalize text\n",
        "    text = unidecode(text).lower()\n",
        "\n",
        "    # Remove non-alphabetic characters and extra spaces\n",
        "    text = re.sub(r\"[^a-z]+\", \" \", text)\n",
        "    text = re.sub(r'\\s+', ' ', text).strip()\n",
        "\n",
        "    # Tokenize and filter stopwords\n",
        "    doc = nlp(text)\n",
        "    filtered_text = [token.text for token in doc if not token.is_stop and len(token.text) > 2]\n",
        "\n",
        "    # Return the preprocessed text\n",
        "    preprocess_text = \" \".join(filtered_text)\n",
        "    return preprocess_text\n"
      ]
    },
    {
      "cell_type": "code",
      "execution_count": 91,
      "id": "y9aAaDjpsvSH",
      "metadata": {
        "colab": {
          "base_uri": "https://localhost:8080/"
        },
        "id": "y9aAaDjpsvSH",
        "outputId": "c0bcb971-0fe5-450c-bc2e-ea1864fd184b"
      },
      "outputs": [
        {
          "output_type": "execute_result",
          "data": {
            "text/plain": [
              "['access orders page blank',\n",
              " 'worst service worst customer service surprised level services provided amazon team way handling customers refunding amounts taking days shall wait days money customer service different answer',\n",
              " 'awesome dooood maybe know sent text telling bogus',\n",
              " 'easy buy return merchandise needed send love shopping amazon',\n",
              " 'today couldn figure changing height weight emptied cart means shopper report objects unrelated tags limit search like google half products expired exceptionally poor quality misleading seller means contacting amazon fix flubs ended membership',\n",
              " 'able order want need day receive day save items purchased past options items looking happy amazon',\n",
              " 'great service amazon recommend looking easy purchases great delivery',\n",
              " 'good',\n",
              " 'great grace',\n",
              " 'app recently hid ability search reviews chatbot app called rufus don trust amazon honestly prompt instead telling sell stuff don trust amazon honestly portray negative reviews let search reviews keyword disable rufus']"
            ]
          },
          "metadata": {},
          "execution_count": 91
        }
      ],
      "source": [
        "text = clean_ReviewIdfiltered_df[\"content\"].head(10).apply(preprocess).to_list()\n",
        "text\n"
      ]
    },
    {
      "cell_type": "markdown",
      "id": "SF2Rr9grep2U",
      "metadata": {
        "id": "SF2Rr9grep2U"
      },
      "source": [
        "---\n",
        "# Entrega Número Tres"
      ]
    },
    {
      "cell_type": "markdown",
      "id": "z3DAaerxe7TS",
      "metadata": {
        "id": "z3DAaerxe7TS"
      },
      "source": [
        "## **3.1. Selección del Embedding**\n",
        "---\n",
        "\n",
        "Seleccione el tipo de **embedding** que considere más apropiado para su problema. Recuerde las siguientes consideraciones:\n",
        "\n",
        "- **Bolsas de palabras**: son útiles para representar documentos completos. Funcionan bien con corpus pequeños (<10000 documentos).\n",
        "- **TF-IDF**: permite obtener una representación ponderada de documentos completos; es una alternativa a las bolsas de palabras.\n",
        "- **Bolsas de N-grams**: a nivel de carácter son útiles para representar palabras o segmentos cortos de texto, funcionan bien con corpus pequeños (<10000 documentos).\n",
        "- **Word2Vec**: permite representar palabras de forma semántica, requiere corpus grandes para un buen resultado (>10000 documentos).\n",
        "- **FastText**: permite representar palabras o segmentos cortos de texto, funcionan bien con corpus grandes (>10000 documentos). Es una alternativa a word2vec que puede representar palabras fuera del vocabulario.\n",
        "- **Doc2Vec**: permite representar documentos completos de forma semántica. Funciona bien con corpus grandes (>10000 documentos).\n",
        "\n",
        "Justifique la selección del embedding:"
      ]
    },
    {
      "cell_type": "markdown",
      "id": "8xnJF3bumdxk",
      "metadata": {
        "id": "8xnJF3bumdxk"
      },
      "source": [
        "## **Se seleccionó el modelo de embedding FastText**\n",
        "\n",
        "Según las opciones que tenemos disponibles , optamos por un modelo de **FastText**. A continuación se enumeran las razones:\n",
        "\n",
        "- **Tamaño del corpus**: Se tienen 57,987 registros, lo cual se considera un corpus grande (>10,000 documentos). FastText funciona bien con corpus grandes, lo que lo hace adecuado para este caso.\n",
        "\n",
        "- **Tipo de contenido**: Como la columna **'content'** contiene reseñas de usuarios, que pueden variar en longitud desde frases cortas hasta párrafos más largos. FastText es eficaz para representar tanto palabras como segmentos cortos de texto, lo que lo hace versátil para manejar esta variabilidad.\n",
        "\n",
        "- **Manejo de palabras fuera del vocabulario**: FastText tiene la ventaja de poder representar palabras que no están en el vocabulario de entrenamiento. Esto es particularmente útil para reseñas de usuarios, que a menudo contienen errores ortográficos, jerga o palabras poco comunes.\n",
        "\n",
        "- **Representación semántica**: FastText, al igual que Word2Vec, proporciona representaciones semánticas de las palabras. Esto es crucial para un análisis de sentimientos, ya que puede capturar matices y relaciones entre palabras que son importantes para determinar el sentimiento.\n",
        "\n",
        "- **Eficiencia**: FastText es conocido por ser eficiente en términos de tiempo de entrenamiento y uso de memoria, lo que es beneficioso cuando se trabaja con un conjunto de datos grande.\n",
        "\n",
        "- **Capacidad de capturar información subpalabra**: FastText considera los n-gramas de caracteres, lo que le permite capturar información morfológica. Esto puede ser útil para entender variaciones de palabras y formas conjugadas, que son comunes en reseñas de usuarios.\n",
        "\n",
        "En comparación con las otras opciones:\n",
        "\n",
        "Bolsas de palabras y TF-IDF son más adecuadas para corpus más pequeños.\n",
        "\n",
        "Word2Vec, aunque similar, no maneja tan bien las palabras fuera del vocabulario como FastText.\n",
        "\n",
        "Doc2Vec está diseñado para documentos completos, lo cual podría ser excesivo para reseñas que pueden ser cortas.\n",
        "\n",
        "**Nota**: Si bien escogimos el modelo de embedding de fastText , en la próxima enrega en donde se tienen que entrenar modelos nos gustaría comparar este modelo de embedidng combinado con métodos como SVM , RandomForest, etc contra la librería transformer de HunggingFeace"
      ]
    },
    {
      "cell_type": "markdown",
      "id": "h43CVfG08wVk",
      "metadata": {
        "id": "h43CVfG08wVk"
      },
      "source": [
        "## Damos un vistazo nuevamente al dataframe"
      ]
    },
    {
      "cell_type": "code",
      "execution_count": 92,
      "id": "W4tHf2hOHLj9",
      "metadata": {
        "colab": {
          "base_uri": "https://localhost:8080/",
          "height": 615
        },
        "id": "W4tHf2hOHLj9",
        "outputId": "6f2a79b9-04e1-474a-d388-2a3bf7730ad5"
      },
      "outputs": [
        {
          "output_type": "execute_result",
          "data": {
            "text/plain": [
              "                                   reviewId          userName  \\\n",
              "0      cae67a30-4c82-4387-aae2-9a4d73ec96a3     Cory Williams   \n",
              "1      71876ec1-c9b1-4365-aca8-af58c27d5ad3       Firas Assaf   \n",
              "2      1fb9c029-1ab5-431a-8020-f696ffae2fdf   Brandon Roberts   \n",
              "3      f2a977b6-f339-40c0-9142-9810944cf4ac        Mary Fultz   \n",
              "4      90cd58a8-7d63-438e-9257-a8ef3b6eea13  Jessica L. N. F.   \n",
              "...                                     ...               ...   \n",
              "59931  ac82191a-e776-42a0-8e30-91eabb763968         Mary Mora   \n",
              "59932  3aa6af38-b044-4257-9cf3-b94c437da0ef     Marie Elliott   \n",
              "59933  727ec38a-c633-48f4-a302-66e52740a43c       Dan Preston   \n",
              "59934  615a9643-cd36-4010-9a81-8763bac11ddf             Jhosh   \n",
              "59935  6b818e48-406b-4b9d-88c6-759152019a96  Christopher Read   \n",
              "\n",
              "                                                 content  score  \\\n",
              "0         I can not access my orders page it just blank?      2   \n",
              "1      Worst Service and worst customer service I was...      1   \n",
              "2      Awesome dooood 👍 an maybe you know you sent a ...      5   \n",
              "3      Very easy to buy and return Merchandise whenev...      5   \n",
              "4      Today I couldn't figure out changing my height...      1   \n",
              "...                                                  ...    ...   \n",
              "59931  Amazon Smile donates. Make sure you get all se...      5   \n",
              "59932  After having problems with the app and having ...      5   \n",
              "59933  Used to be great. Got greedy, they ruined the ...      1   \n",
              "59934  New search bar location sucks. At least give m...      2   \n",
              "59935  for me personally I use Amazon prime due to be...      5   \n",
              "\n",
              "       thumbsUpCount reviewCreatedVersion                   at   appVersion  \\\n",
              "0                  0                  NaN  2024-09-02 18:49:11          NaN   \n",
              "1                  0          28.16.0.100  2024-09-02 18:05:56  28.16.0.100   \n",
              "2                  0          28.16.0.100  2024-09-02 18:00:32  28.16.0.100   \n",
              "3                  0          28.15.0.100  2024-09-02 17:48:02  28.15.0.100   \n",
              "4                 15          28.16.0.100  2024-09-02 17:45:28  28.16.0.100   \n",
              "...              ...                  ...                  ...          ...   \n",
              "59931              0           26.1.2.100  2023-01-16 06:12:14   26.1.2.100   \n",
              "59932              1          22.18.0.100  2021-09-24 12:01:29  22.18.0.100   \n",
              "59933              0           26.9.0.100  2023-05-15 18:27:24   26.9.0.100   \n",
              "59934              0          26.12.0.100  2023-06-11 15:24:08  26.12.0.100   \n",
              "59935              0           24.9.0.100  2022-05-08 17:59:37   24.9.0.100   \n",
              "\n",
              "      idioma  word_count  \n",
              "0         en          10  \n",
              "1         en          52  \n",
              "2         en          16  \n",
              "3         en          18  \n",
              "4         en          70  \n",
              "...      ...         ...  \n",
              "59931     en          20  \n",
              "59932     en          15  \n",
              "59933     en          15  \n",
              "59934     en          20  \n",
              "59935     en          32  \n",
              "\n",
              "[57987 rows x 10 columns]"
            ],
            "text/html": [
              "\n",
              "  <div id=\"df-c25ea2db-50c7-44fb-90b5-9305b9fe8d7e\" class=\"colab-df-container\">\n",
              "    <div>\n",
              "<style scoped>\n",
              "    .dataframe tbody tr th:only-of-type {\n",
              "        vertical-align: middle;\n",
              "    }\n",
              "\n",
              "    .dataframe tbody tr th {\n",
              "        vertical-align: top;\n",
              "    }\n",
              "\n",
              "    .dataframe thead th {\n",
              "        text-align: right;\n",
              "    }\n",
              "</style>\n",
              "<table border=\"1\" class=\"dataframe\">\n",
              "  <thead>\n",
              "    <tr style=\"text-align: right;\">\n",
              "      <th></th>\n",
              "      <th>reviewId</th>\n",
              "      <th>userName</th>\n",
              "      <th>content</th>\n",
              "      <th>score</th>\n",
              "      <th>thumbsUpCount</th>\n",
              "      <th>reviewCreatedVersion</th>\n",
              "      <th>at</th>\n",
              "      <th>appVersion</th>\n",
              "      <th>idioma</th>\n",
              "      <th>word_count</th>\n",
              "    </tr>\n",
              "  </thead>\n",
              "  <tbody>\n",
              "    <tr>\n",
              "      <th>0</th>\n",
              "      <td>cae67a30-4c82-4387-aae2-9a4d73ec96a3</td>\n",
              "      <td>Cory Williams</td>\n",
              "      <td>I can not access my orders page it just blank?</td>\n",
              "      <td>2</td>\n",
              "      <td>0</td>\n",
              "      <td>NaN</td>\n",
              "      <td>2024-09-02 18:49:11</td>\n",
              "      <td>NaN</td>\n",
              "      <td>en</td>\n",
              "      <td>10</td>\n",
              "    </tr>\n",
              "    <tr>\n",
              "      <th>1</th>\n",
              "      <td>71876ec1-c9b1-4365-aca8-af58c27d5ad3</td>\n",
              "      <td>Firas Assaf</td>\n",
              "      <td>Worst Service and worst customer service I was...</td>\n",
              "      <td>1</td>\n",
              "      <td>0</td>\n",
              "      <td>28.16.0.100</td>\n",
              "      <td>2024-09-02 18:05:56</td>\n",
              "      <td>28.16.0.100</td>\n",
              "      <td>en</td>\n",
              "      <td>52</td>\n",
              "    </tr>\n",
              "    <tr>\n",
              "      <th>2</th>\n",
              "      <td>1fb9c029-1ab5-431a-8020-f696ffae2fdf</td>\n",
              "      <td>Brandon Roberts</td>\n",
              "      <td>Awesome dooood 👍 an maybe you know you sent a ...</td>\n",
              "      <td>5</td>\n",
              "      <td>0</td>\n",
              "      <td>28.16.0.100</td>\n",
              "      <td>2024-09-02 18:00:32</td>\n",
              "      <td>28.16.0.100</td>\n",
              "      <td>en</td>\n",
              "      <td>16</td>\n",
              "    </tr>\n",
              "    <tr>\n",
              "      <th>3</th>\n",
              "      <td>f2a977b6-f339-40c0-9142-9810944cf4ac</td>\n",
              "      <td>Mary Fultz</td>\n",
              "      <td>Very easy to buy and return Merchandise whenev...</td>\n",
              "      <td>5</td>\n",
              "      <td>0</td>\n",
              "      <td>28.15.0.100</td>\n",
              "      <td>2024-09-02 17:48:02</td>\n",
              "      <td>28.15.0.100</td>\n",
              "      <td>en</td>\n",
              "      <td>18</td>\n",
              "    </tr>\n",
              "    <tr>\n",
              "      <th>4</th>\n",
              "      <td>90cd58a8-7d63-438e-9257-a8ef3b6eea13</td>\n",
              "      <td>Jessica L. N. F.</td>\n",
              "      <td>Today I couldn't figure out changing my height...</td>\n",
              "      <td>1</td>\n",
              "      <td>15</td>\n",
              "      <td>28.16.0.100</td>\n",
              "      <td>2024-09-02 17:45:28</td>\n",
              "      <td>28.16.0.100</td>\n",
              "      <td>en</td>\n",
              "      <td>70</td>\n",
              "    </tr>\n",
              "    <tr>\n",
              "      <th>...</th>\n",
              "      <td>...</td>\n",
              "      <td>...</td>\n",
              "      <td>...</td>\n",
              "      <td>...</td>\n",
              "      <td>...</td>\n",
              "      <td>...</td>\n",
              "      <td>...</td>\n",
              "      <td>...</td>\n",
              "      <td>...</td>\n",
              "      <td>...</td>\n",
              "    </tr>\n",
              "    <tr>\n",
              "      <th>59931</th>\n",
              "      <td>ac82191a-e776-42a0-8e30-91eabb763968</td>\n",
              "      <td>Mary Mora</td>\n",
              "      <td>Amazon Smile donates. Make sure you get all se...</td>\n",
              "      <td>5</td>\n",
              "      <td>0</td>\n",
              "      <td>26.1.2.100</td>\n",
              "      <td>2023-01-16 06:12:14</td>\n",
              "      <td>26.1.2.100</td>\n",
              "      <td>en</td>\n",
              "      <td>20</td>\n",
              "    </tr>\n",
              "    <tr>\n",
              "      <th>59932</th>\n",
              "      <td>3aa6af38-b044-4257-9cf3-b94c437da0ef</td>\n",
              "      <td>Marie Elliott</td>\n",
              "      <td>After having problems with the app and having ...</td>\n",
              "      <td>5</td>\n",
              "      <td>1</td>\n",
              "      <td>22.18.0.100</td>\n",
              "      <td>2021-09-24 12:01:29</td>\n",
              "      <td>22.18.0.100</td>\n",
              "      <td>en</td>\n",
              "      <td>15</td>\n",
              "    </tr>\n",
              "    <tr>\n",
              "      <th>59933</th>\n",
              "      <td>727ec38a-c633-48f4-a302-66e52740a43c</td>\n",
              "      <td>Dan Preston</td>\n",
              "      <td>Used to be great. Got greedy, they ruined the ...</td>\n",
              "      <td>1</td>\n",
              "      <td>0</td>\n",
              "      <td>26.9.0.100</td>\n",
              "      <td>2023-05-15 18:27:24</td>\n",
              "      <td>26.9.0.100</td>\n",
              "      <td>en</td>\n",
              "      <td>15</td>\n",
              "    </tr>\n",
              "    <tr>\n",
              "      <th>59934</th>\n",
              "      <td>615a9643-cd36-4010-9a81-8763bac11ddf</td>\n",
              "      <td>Jhosh</td>\n",
              "      <td>New search bar location sucks. At least give m...</td>\n",
              "      <td>2</td>\n",
              "      <td>0</td>\n",
              "      <td>26.12.0.100</td>\n",
              "      <td>2023-06-11 15:24:08</td>\n",
              "      <td>26.12.0.100</td>\n",
              "      <td>en</td>\n",
              "      <td>20</td>\n",
              "    </tr>\n",
              "    <tr>\n",
              "      <th>59935</th>\n",
              "      <td>6b818e48-406b-4b9d-88c6-759152019a96</td>\n",
              "      <td>Christopher Read</td>\n",
              "      <td>for me personally I use Amazon prime due to be...</td>\n",
              "      <td>5</td>\n",
              "      <td>0</td>\n",
              "      <td>24.9.0.100</td>\n",
              "      <td>2022-05-08 17:59:37</td>\n",
              "      <td>24.9.0.100</td>\n",
              "      <td>en</td>\n",
              "      <td>32</td>\n",
              "    </tr>\n",
              "  </tbody>\n",
              "</table>\n",
              "<p>57987 rows × 10 columns</p>\n",
              "</div>\n",
              "    <div class=\"colab-df-buttons\">\n",
              "\n",
              "  <div class=\"colab-df-container\">\n",
              "    <button class=\"colab-df-convert\" onclick=\"convertToInteractive('df-c25ea2db-50c7-44fb-90b5-9305b9fe8d7e')\"\n",
              "            title=\"Convert this dataframe to an interactive table.\"\n",
              "            style=\"display:none;\">\n",
              "\n",
              "  <svg xmlns=\"http://www.w3.org/2000/svg\" height=\"24px\" viewBox=\"0 -960 960 960\">\n",
              "    <path d=\"M120-120v-720h720v720H120Zm60-500h600v-160H180v160Zm220 220h160v-160H400v160Zm0 220h160v-160H400v160ZM180-400h160v-160H180v160Zm440 0h160v-160H620v160ZM180-180h160v-160H180v160Zm440 0h160v-160H620v160Z\"/>\n",
              "  </svg>\n",
              "    </button>\n",
              "\n",
              "  <style>\n",
              "    .colab-df-container {\n",
              "      display:flex;\n",
              "      gap: 12px;\n",
              "    }\n",
              "\n",
              "    .colab-df-convert {\n",
              "      background-color: #E8F0FE;\n",
              "      border: none;\n",
              "      border-radius: 50%;\n",
              "      cursor: pointer;\n",
              "      display: none;\n",
              "      fill: #1967D2;\n",
              "      height: 32px;\n",
              "      padding: 0 0 0 0;\n",
              "      width: 32px;\n",
              "    }\n",
              "\n",
              "    .colab-df-convert:hover {\n",
              "      background-color: #E2EBFA;\n",
              "      box-shadow: 0px 1px 2px rgba(60, 64, 67, 0.3), 0px 1px 3px 1px rgba(60, 64, 67, 0.15);\n",
              "      fill: #174EA6;\n",
              "    }\n",
              "\n",
              "    .colab-df-buttons div {\n",
              "      margin-bottom: 4px;\n",
              "    }\n",
              "\n",
              "    [theme=dark] .colab-df-convert {\n",
              "      background-color: #3B4455;\n",
              "      fill: #D2E3FC;\n",
              "    }\n",
              "\n",
              "    [theme=dark] .colab-df-convert:hover {\n",
              "      background-color: #434B5C;\n",
              "      box-shadow: 0px 1px 3px 1px rgba(0, 0, 0, 0.15);\n",
              "      filter: drop-shadow(0px 1px 2px rgba(0, 0, 0, 0.3));\n",
              "      fill: #FFFFFF;\n",
              "    }\n",
              "  </style>\n",
              "\n",
              "    <script>\n",
              "      const buttonEl =\n",
              "        document.querySelector('#df-c25ea2db-50c7-44fb-90b5-9305b9fe8d7e button.colab-df-convert');\n",
              "      buttonEl.style.display =\n",
              "        google.colab.kernel.accessAllowed ? 'block' : 'none';\n",
              "\n",
              "      async function convertToInteractive(key) {\n",
              "        const element = document.querySelector('#df-c25ea2db-50c7-44fb-90b5-9305b9fe8d7e');\n",
              "        const dataTable =\n",
              "          await google.colab.kernel.invokeFunction('convertToInteractive',\n",
              "                                                    [key], {});\n",
              "        if (!dataTable) return;\n",
              "\n",
              "        const docLinkHtml = 'Like what you see? Visit the ' +\n",
              "          '<a target=\"_blank\" href=https://colab.research.google.com/notebooks/data_table.ipynb>data table notebook</a>'\n",
              "          + ' to learn more about interactive tables.';\n",
              "        element.innerHTML = '';\n",
              "        dataTable['output_type'] = 'display_data';\n",
              "        await google.colab.output.renderOutput(dataTable, element);\n",
              "        const docLink = document.createElement('div');\n",
              "        docLink.innerHTML = docLinkHtml;\n",
              "        element.appendChild(docLink);\n",
              "      }\n",
              "    </script>\n",
              "  </div>\n",
              "\n",
              "\n",
              "<div id=\"df-a2125eb9-b92b-4707-9245-be5d60507ff3\">\n",
              "  <button class=\"colab-df-quickchart\" onclick=\"quickchart('df-a2125eb9-b92b-4707-9245-be5d60507ff3')\"\n",
              "            title=\"Suggest charts\"\n",
              "            style=\"display:none;\">\n",
              "\n",
              "<svg xmlns=\"http://www.w3.org/2000/svg\" height=\"24px\"viewBox=\"0 0 24 24\"\n",
              "     width=\"24px\">\n",
              "    <g>\n",
              "        <path d=\"M19 3H5c-1.1 0-2 .9-2 2v14c0 1.1.9 2 2 2h14c1.1 0 2-.9 2-2V5c0-1.1-.9-2-2-2zM9 17H7v-7h2v7zm4 0h-2V7h2v10zm4 0h-2v-4h2v4z\"/>\n",
              "    </g>\n",
              "</svg>\n",
              "  </button>\n",
              "\n",
              "<style>\n",
              "  .colab-df-quickchart {\n",
              "      --bg-color: #E8F0FE;\n",
              "      --fill-color: #1967D2;\n",
              "      --hover-bg-color: #E2EBFA;\n",
              "      --hover-fill-color: #174EA6;\n",
              "      --disabled-fill-color: #AAA;\n",
              "      --disabled-bg-color: #DDD;\n",
              "  }\n",
              "\n",
              "  [theme=dark] .colab-df-quickchart {\n",
              "      --bg-color: #3B4455;\n",
              "      --fill-color: #D2E3FC;\n",
              "      --hover-bg-color: #434B5C;\n",
              "      --hover-fill-color: #FFFFFF;\n",
              "      --disabled-bg-color: #3B4455;\n",
              "      --disabled-fill-color: #666;\n",
              "  }\n",
              "\n",
              "  .colab-df-quickchart {\n",
              "    background-color: var(--bg-color);\n",
              "    border: none;\n",
              "    border-radius: 50%;\n",
              "    cursor: pointer;\n",
              "    display: none;\n",
              "    fill: var(--fill-color);\n",
              "    height: 32px;\n",
              "    padding: 0;\n",
              "    width: 32px;\n",
              "  }\n",
              "\n",
              "  .colab-df-quickchart:hover {\n",
              "    background-color: var(--hover-bg-color);\n",
              "    box-shadow: 0 1px 2px rgba(60, 64, 67, 0.3), 0 1px 3px 1px rgba(60, 64, 67, 0.15);\n",
              "    fill: var(--button-hover-fill-color);\n",
              "  }\n",
              "\n",
              "  .colab-df-quickchart-complete:disabled,\n",
              "  .colab-df-quickchart-complete:disabled:hover {\n",
              "    background-color: var(--disabled-bg-color);\n",
              "    fill: var(--disabled-fill-color);\n",
              "    box-shadow: none;\n",
              "  }\n",
              "\n",
              "  .colab-df-spinner {\n",
              "    border: 2px solid var(--fill-color);\n",
              "    border-color: transparent;\n",
              "    border-bottom-color: var(--fill-color);\n",
              "    animation:\n",
              "      spin 1s steps(1) infinite;\n",
              "  }\n",
              "\n",
              "  @keyframes spin {\n",
              "    0% {\n",
              "      border-color: transparent;\n",
              "      border-bottom-color: var(--fill-color);\n",
              "      border-left-color: var(--fill-color);\n",
              "    }\n",
              "    20% {\n",
              "      border-color: transparent;\n",
              "      border-left-color: var(--fill-color);\n",
              "      border-top-color: var(--fill-color);\n",
              "    }\n",
              "    30% {\n",
              "      border-color: transparent;\n",
              "      border-left-color: var(--fill-color);\n",
              "      border-top-color: var(--fill-color);\n",
              "      border-right-color: var(--fill-color);\n",
              "    }\n",
              "    40% {\n",
              "      border-color: transparent;\n",
              "      border-right-color: var(--fill-color);\n",
              "      border-top-color: var(--fill-color);\n",
              "    }\n",
              "    60% {\n",
              "      border-color: transparent;\n",
              "      border-right-color: var(--fill-color);\n",
              "    }\n",
              "    80% {\n",
              "      border-color: transparent;\n",
              "      border-right-color: var(--fill-color);\n",
              "      border-bottom-color: var(--fill-color);\n",
              "    }\n",
              "    90% {\n",
              "      border-color: transparent;\n",
              "      border-bottom-color: var(--fill-color);\n",
              "    }\n",
              "  }\n",
              "</style>\n",
              "\n",
              "  <script>\n",
              "    async function quickchart(key) {\n",
              "      const quickchartButtonEl =\n",
              "        document.querySelector('#' + key + ' button');\n",
              "      quickchartButtonEl.disabled = true;  // To prevent multiple clicks.\n",
              "      quickchartButtonEl.classList.add('colab-df-spinner');\n",
              "      try {\n",
              "        const charts = await google.colab.kernel.invokeFunction(\n",
              "            'suggestCharts', [key], {});\n",
              "      } catch (error) {\n",
              "        console.error('Error during call to suggestCharts:', error);\n",
              "      }\n",
              "      quickchartButtonEl.classList.remove('colab-df-spinner');\n",
              "      quickchartButtonEl.classList.add('colab-df-quickchart-complete');\n",
              "    }\n",
              "    (() => {\n",
              "      let quickchartButtonEl =\n",
              "        document.querySelector('#df-a2125eb9-b92b-4707-9245-be5d60507ff3 button');\n",
              "      quickchartButtonEl.style.display =\n",
              "        google.colab.kernel.accessAllowed ? 'block' : 'none';\n",
              "    })();\n",
              "  </script>\n",
              "</div>\n",
              "\n",
              "  <div id=\"id_3f7f58ef-5649-47ff-ab7f-dfeb33e92427\">\n",
              "    <style>\n",
              "      .colab-df-generate {\n",
              "        background-color: #E8F0FE;\n",
              "        border: none;\n",
              "        border-radius: 50%;\n",
              "        cursor: pointer;\n",
              "        display: none;\n",
              "        fill: #1967D2;\n",
              "        height: 32px;\n",
              "        padding: 0 0 0 0;\n",
              "        width: 32px;\n",
              "      }\n",
              "\n",
              "      .colab-df-generate:hover {\n",
              "        background-color: #E2EBFA;\n",
              "        box-shadow: 0px 1px 2px rgba(60, 64, 67, 0.3), 0px 1px 3px 1px rgba(60, 64, 67, 0.15);\n",
              "        fill: #174EA6;\n",
              "      }\n",
              "\n",
              "      [theme=dark] .colab-df-generate {\n",
              "        background-color: #3B4455;\n",
              "        fill: #D2E3FC;\n",
              "      }\n",
              "\n",
              "      [theme=dark] .colab-df-generate:hover {\n",
              "        background-color: #434B5C;\n",
              "        box-shadow: 0px 1px 3px 1px rgba(0, 0, 0, 0.15);\n",
              "        filter: drop-shadow(0px 1px 2px rgba(0, 0, 0, 0.3));\n",
              "        fill: #FFFFFF;\n",
              "      }\n",
              "    </style>\n",
              "    <button class=\"colab-df-generate\" onclick=\"generateWithVariable('clean_ReviewIdfiltered_df')\"\n",
              "            title=\"Generate code using this dataframe.\"\n",
              "            style=\"display:none;\">\n",
              "\n",
              "  <svg xmlns=\"http://www.w3.org/2000/svg\" height=\"24px\"viewBox=\"0 0 24 24\"\n",
              "       width=\"24px\">\n",
              "    <path d=\"M7,19H8.4L18.45,9,17,7.55,7,17.6ZM5,21V16.75L18.45,3.32a2,2,0,0,1,2.83,0l1.4,1.43a1.91,1.91,0,0,1,.58,1.4,1.91,1.91,0,0,1-.58,1.4L9.25,21ZM18.45,9,17,7.55Zm-12,3A5.31,5.31,0,0,0,4.9,8.1,5.31,5.31,0,0,0,1,6.5,5.31,5.31,0,0,0,4.9,4.9,5.31,5.31,0,0,0,6.5,1,5.31,5.31,0,0,0,8.1,4.9,5.31,5.31,0,0,0,12,6.5,5.46,5.46,0,0,0,6.5,12Z\"/>\n",
              "  </svg>\n",
              "    </button>\n",
              "    <script>\n",
              "      (() => {\n",
              "      const buttonEl =\n",
              "        document.querySelector('#id_3f7f58ef-5649-47ff-ab7f-dfeb33e92427 button.colab-df-generate');\n",
              "      buttonEl.style.display =\n",
              "        google.colab.kernel.accessAllowed ? 'block' : 'none';\n",
              "\n",
              "      buttonEl.onclick = () => {\n",
              "        google.colab.notebook.generateWithVariable('clean_ReviewIdfiltered_df');\n",
              "      }\n",
              "      })();\n",
              "    </script>\n",
              "  </div>\n",
              "\n",
              "    </div>\n",
              "  </div>\n"
            ],
            "application/vnd.google.colaboratory.intrinsic+json": {
              "type": "dataframe",
              "variable_name": "clean_ReviewIdfiltered_df",
              "summary": "{\n  \"name\": \"clean_ReviewIdfiltered_df\",\n  \"rows\": 57987,\n  \"fields\": [\n    {\n      \"column\": \"reviewId\",\n      \"properties\": {\n        \"dtype\": \"string\",\n        \"num_unique_values\": 57987,\n        \"samples\": [\n          \"98d66c6d-baed-4877-8b03-c735f8214560\",\n          \"677976d4-ea73-43fc-a14e-6ed9dd89f030\",\n          \"dc5a47e0-90e4-4c8d-b06a-12817f991c31\"\n        ],\n        \"semantic_type\": \"\",\n        \"description\": \"\"\n      }\n    },\n    {\n      \"column\": \"userName\",\n      \"properties\": {\n        \"dtype\": \"string\",\n        \"num_unique_values\": 47741,\n        \"samples\": [\n          \"Lindy Blackwell\",\n          \"CheriBomzArt (CheriBom)\",\n          \"Noorul Huda\"\n        ],\n        \"semantic_type\": \"\",\n        \"description\": \"\"\n      }\n    },\n    {\n      \"column\": \"content\",\n      \"properties\": {\n        \"dtype\": \"string\",\n        \"num_unique_values\": 57254,\n        \"samples\": [\n          \"I love Amazon and have been a prime member for a long time. They almost always have what I am looking for and everything is delivered quickly. I have always liked the app and never had issues with it but this most recent update put the home and menu on the bottom of the screen and I can not stand it. I hate to complain but its super annoying on the bottom I accidenly press them all the time then I have find my back to whatever I was doing in the 1st place. I wish they would put it back up top\",\n          \"Changes I would make: custom content - I have NO interest in women's clothing or toys and don't want to see those, dark(er) theme - too BRIGHT! It gives me a headache, in-store codes - A) allow choice of payment to differ based on venue B) a previously set up SNAP/Link/EBT cards aren't available and it would be great to make it a default for whole foods & Amazon Fresh C) payment with a card MUST NOT be the default! Allow for prime savings with alternative payment methods.\",\n          \"Amazon charged me for prime when I never bought or subscribed to it. It has taken over $40 out of my account.\"\n        ],\n        \"semantic_type\": \"\",\n        \"description\": \"\"\n      }\n    },\n    {\n      \"column\": \"score\",\n      \"properties\": {\n        \"dtype\": \"number\",\n        \"std\": 1,\n        \"min\": 1,\n        \"max\": 5,\n        \"num_unique_values\": 5,\n        \"samples\": [\n          1,\n          4,\n          5\n        ],\n        \"semantic_type\": \"\",\n        \"description\": \"\"\n      }\n    },\n    {\n      \"column\": \"thumbsUpCount\",\n      \"properties\": {\n        \"dtype\": \"number\",\n        \"std\": 80,\n        \"min\": 0,\n        \"max\": 5660,\n        \"num_unique_values\": 581,\n        \"samples\": [\n          1136,\n          58,\n          891\n        ],\n        \"semantic_type\": \"\",\n        \"description\": \"\"\n      }\n    },\n    {\n      \"column\": \"reviewCreatedVersion\",\n      \"properties\": {\n        \"dtype\": \"category\",\n        \"num_unique_values\": 229,\n        \"samples\": [\n          \"6.2.0.100\",\n          \"24.3.0.100\",\n          \"24.13.0.100\"\n        ],\n        \"semantic_type\": \"\",\n        \"description\": \"\"\n      }\n    },\n    {\n      \"column\": \"at\",\n      \"properties\": {\n        \"dtype\": \"date\",\n        \"min\": \"2018-09-12 10:08:56\",\n        \"max\": \"2024-09-02 18:49:11\",\n        \"num_unique_values\": 57957,\n        \"samples\": [\n          \"2018-12-09 17:29:26\",\n          \"2024-01-05 18:32:03\",\n          \"2021-10-25 18:09:26\"\n        ],\n        \"semantic_type\": \"\",\n        \"description\": \"\"\n      }\n    },\n    {\n      \"column\": \"appVersion\",\n      \"properties\": {\n        \"dtype\": \"category\",\n        \"num_unique_values\": 229,\n        \"samples\": [\n          \"6.2.0.100\",\n          \"24.3.0.100\",\n          \"24.13.0.100\"\n        ],\n        \"semantic_type\": \"\",\n        \"description\": \"\"\n      }\n    },\n    {\n      \"column\": \"idioma\",\n      \"properties\": {\n        \"dtype\": \"category\",\n        \"num_unique_values\": 1,\n        \"samples\": [\n          \"en\"\n        ],\n        \"semantic_type\": \"\",\n        \"description\": \"\"\n      }\n    },\n    {\n      \"column\": \"word_count\",\n      \"properties\": {\n        \"dtype\": \"number\",\n        \"std\": 26,\n        \"min\": 1,\n        \"max\": 306,\n        \"num_unique_values\": 142,\n        \"samples\": [\n          272\n        ],\n        \"semantic_type\": \"\",\n        \"description\": \"\"\n      }\n    }\n  ]\n}"
            }
          },
          "metadata": {},
          "execution_count": 92
        }
      ],
      "source": [
        "clean_ReviewIdfiltered_df"
      ]
    },
    {
      "cell_type": "markdown",
      "id": "R2HSVJvLn4nl",
      "metadata": {
        "id": "R2HSVJvLn4nl"
      },
      "source": [
        "## **3.2. Implementación del Embedding**\n",
        "---\n",
        "\n",
        "Implemente la estrategia de embedding a partir del conjunto de datos pre-procesado. Recuerde que:\n",
        "\n",
        "- `sklearn`: permite implementar bolsas de palabras, TF-IDF y bolsas de N-grams a partir del módulo `sklearn.feature_extraction.text`.\n",
        "- `gensim`: permite implementar word2vec, fasttext y doc2vec desde `gensim.models`.\n",
        "- `spacy`: permite representar textos con embeddings pre-entrenados con el atributo `vector`."
      ]
    },
    {
      "cell_type": "code",
      "execution_count": 93,
      "id": "7hYtd09fhoRg",
      "metadata": {
        "id": "7hYtd09fhoRg"
      },
      "outputs": [],
      "source": [
        "from gensim.models.fasttext import FastText"
      ]
    },
    {
      "cell_type": "markdown",
      "id": "b0bkCo7dibhh",
      "metadata": {
        "id": "b0bkCo7dibhh"
      },
      "source": [
        "Para entrenar el modelo, necesitamos el corpus tokenizado:"
      ]
    },
    {
      "cell_type": "code",
      "execution_count": 94,
      "id": "UDJM0rBjjQdt",
      "metadata": {
        "id": "UDJM0rBjjQdt"
      },
      "outputs": [],
      "source": [
        "corpus = clean_ReviewIdfiltered_df[\"content\"].apply(preprocess).to_list()"
      ]
    },
    {
      "cell_type": "code",
      "execution_count": 95,
      "id": "j8hAC69LiZAD",
      "metadata": {
        "id": "j8hAC69LiZAD"
      },
      "outputs": [],
      "source": [
        "tokens = list(map(lambda doc: doc.split(), corpus))"
      ]
    },
    {
      "cell_type": "markdown",
      "id": "fyloT_Xl-Ijk",
      "metadata": {
        "id": "fyloT_Xl-Ijk"
      },
      "source": [
        "### Creación del modelo de embedding"
      ]
    },
    {
      "cell_type": "code",
      "execution_count": 96,
      "id": "84obW8L9hzSC",
      "metadata": {
        "colab": {
          "base_uri": "https://localhost:8080/"
        },
        "id": "84obW8L9hzSC",
        "outputId": "842267d5-248b-45c2-b6ec-0e6f5108c7f7"
      },
      "outputs": [
        {
          "output_type": "stream",
          "name": "stderr",
          "text": [
            "WARNING:gensim.models.word2vec:EPOCH 0: supplied example count (0) did not equal expected count (57987)\n",
            "WARNING:gensim.models.word2vec:EPOCH 0: supplied raw word count (0) did not equal expected count (979720)\n",
            "WARNING:gensim.models.word2vec:EPOCH 1: supplied example count (0) did not equal expected count (57987)\n",
            "WARNING:gensim.models.word2vec:EPOCH 1: supplied raw word count (0) did not equal expected count (979720)\n",
            "WARNING:gensim.models.word2vec:EPOCH 2: supplied example count (0) did not equal expected count (57987)\n",
            "WARNING:gensim.models.word2vec:EPOCH 2: supplied raw word count (0) did not equal expected count (979720)\n",
            "WARNING:gensim.models.word2vec:EPOCH 3: supplied example count (0) did not equal expected count (57987)\n",
            "WARNING:gensim.models.word2vec:EPOCH 3: supplied raw word count (0) did not equal expected count (979720)\n",
            "WARNING:gensim.models.word2vec:EPOCH 4: supplied example count (0) did not equal expected count (57987)\n",
            "WARNING:gensim.models.word2vec:EPOCH 4: supplied raw word count (0) did not equal expected count (979720)\n",
            "WARNING:gensim.models.word2vec:EPOCH 5: supplied example count (0) did not equal expected count (57987)\n",
            "WARNING:gensim.models.word2vec:EPOCH 5: supplied raw word count (0) did not equal expected count (979720)\n",
            "WARNING:gensim.models.word2vec:EPOCH 6: supplied example count (0) did not equal expected count (57987)\n",
            "WARNING:gensim.models.word2vec:EPOCH 6: supplied raw word count (0) did not equal expected count (979720)\n",
            "WARNING:gensim.models.word2vec:EPOCH 7: supplied example count (0) did not equal expected count (57987)\n",
            "WARNING:gensim.models.word2vec:EPOCH 7: supplied raw word count (0) did not equal expected count (979720)\n",
            "WARNING:gensim.models.word2vec:EPOCH 8: supplied example count (0) did not equal expected count (57987)\n",
            "WARNING:gensim.models.word2vec:EPOCH 8: supplied raw word count (0) did not equal expected count (979720)\n",
            "WARNING:gensim.models.word2vec:EPOCH 9: supplied example count (0) did not equal expected count (57987)\n",
            "WARNING:gensim.models.word2vec:EPOCH 9: supplied raw word count (0) did not equal expected count (979720)\n",
            "WARNING:gensim.models.word2vec:EPOCH 10: supplied example count (0) did not equal expected count (57987)\n",
            "WARNING:gensim.models.word2vec:EPOCH 10: supplied raw word count (0) did not equal expected count (979720)\n",
            "WARNING:gensim.models.word2vec:EPOCH 11: supplied example count (0) did not equal expected count (57987)\n",
            "WARNING:gensim.models.word2vec:EPOCH 11: supplied raw word count (0) did not equal expected count (979720)\n",
            "WARNING:gensim.models.word2vec:EPOCH 12: supplied example count (0) did not equal expected count (57987)\n",
            "WARNING:gensim.models.word2vec:EPOCH 12: supplied raw word count (0) did not equal expected count (979720)\n",
            "WARNING:gensim.models.word2vec:EPOCH 13: supplied example count (0) did not equal expected count (57987)\n",
            "WARNING:gensim.models.word2vec:EPOCH 13: supplied raw word count (0) did not equal expected count (979720)\n",
            "WARNING:gensim.models.word2vec:EPOCH 14: supplied example count (0) did not equal expected count (57987)\n",
            "WARNING:gensim.models.word2vec:EPOCH 14: supplied raw word count (0) did not equal expected count (979720)\n",
            "WARNING:gensim.models.word2vec:EPOCH 15: supplied example count (0) did not equal expected count (57987)\n",
            "WARNING:gensim.models.word2vec:EPOCH 15: supplied raw word count (0) did not equal expected count (979720)\n",
            "WARNING:gensim.models.word2vec:EPOCH 16: supplied example count (0) did not equal expected count (57987)\n",
            "WARNING:gensim.models.word2vec:EPOCH 16: supplied raw word count (0) did not equal expected count (979720)\n",
            "WARNING:gensim.models.word2vec:EPOCH 17: supplied example count (0) did not equal expected count (57987)\n",
            "WARNING:gensim.models.word2vec:EPOCH 17: supplied raw word count (0) did not equal expected count (979720)\n",
            "WARNING:gensim.models.word2vec:EPOCH 18: supplied example count (0) did not equal expected count (57987)\n",
            "WARNING:gensim.models.word2vec:EPOCH 18: supplied raw word count (0) did not equal expected count (979720)\n",
            "WARNING:gensim.models.word2vec:EPOCH 19: supplied example count (0) did not equal expected count (57987)\n",
            "WARNING:gensim.models.word2vec:EPOCH 19: supplied raw word count (0) did not equal expected count (979720)\n"
          ]
        }
      ],
      "source": [
        "model = FastText(\n",
        "    sentences=tokens,\n",
        "    vector_size=250,\n",
        "    epochs=20,\n",
        "    workers=-1,\n",
        "    min_n=2,\n",
        "    max_n=4,\n",
        "    window=7,           # Captura un mayor contexto en las reseñas.\n",
        "    min_count=5         # Filtra palabras poco frecuentes para acelerar el entrenamiento.\n",
        ")\n"
      ]
    },
    {
      "cell_type": "markdown",
      "id": "hr5lRrOk-Mb7",
      "metadata": {
        "id": "hr5lRrOk-Mb7"
      },
      "source": [
        "Visualizamos como se vería la palabra Amazon si la convertimos a un vector y la pasamos por el modelo de embedding de fastText"
      ]
    },
    {
      "cell_type": "code",
      "execution_count": 97,
      "id": "5J8ffYSllWFU",
      "metadata": {
        "colab": {
          "base_uri": "https://localhost:8080/",
          "height": 1000
        },
        "collapsed": true,
        "id": "5J8ffYSllWFU",
        "outputId": "70d79670-be18-4853-9aaa-f31c16f72738"
      },
      "outputs": [
        {
          "output_type": "display_data",
          "data": {
            "text/plain": [
              "array([ 2.5063255e-04, -8.3604682e-04, -3.4845856e-05, -8.9807902e-04,\n",
              "       -5.5310037e-04,  1.9659710e-04, -8.9928164e-04,  2.5809454e-04,\n",
              "        6.5452250e-04, -8.0786762e-05, -2.4816178e-04,  9.6490025e-04,\n",
              "       -2.8915389e-04, -9.1770559e-04, -7.7378034e-04,  5.1429501e-04,\n",
              "       -3.9520854e-04, -3.1260293e-04,  9.2307187e-04,  6.9343485e-04,\n",
              "       -3.3971318e-04, -5.3779187e-04,  9.3573332e-04,  6.1196100e-04,\n",
              "       -1.0092376e-03,  4.6869207e-04,  1.0478590e-03,  1.9513011e-04,\n",
              "       -3.6895764e-04,  1.6741907e-04, -4.7172161e-04, -4.5149022e-04,\n",
              "        5.5006682e-04, -6.0619009e-06, -1.9433368e-04,  2.8358132e-04,\n",
              "       -1.2089672e-03,  3.5669302e-04, -2.7236587e-04, -1.0938366e-03,\n",
              "        7.9321663e-04, -2.3958792e-06, -8.3834497e-04,  9.2560519e-04,\n",
              "       -1.1316743e-03,  3.1555777e-05, -7.7485555e-04,  1.6022958e-04,\n",
              "        1.0968669e-03, -3.3828746e-05,  1.2299662e-03, -2.3458186e-04,\n",
              "        1.6255745e-03, -2.5181961e-04,  1.0150126e-03, -7.2722085e-04,\n",
              "        2.6451549e-04,  3.1407824e-04, -2.0155245e-04,  5.2546326e-04,\n",
              "        1.6527457e-04, -1.5128924e-03, -2.9697303e-05, -4.5415413e-04,\n",
              "        3.2836932e-04, -5.0292577e-04,  5.0509669e-04,  1.0889968e-03,\n",
              "       -4.1132476e-04, -3.7510647e-05, -2.8629038e-05, -3.3568856e-04,\n",
              "        2.9338241e-04, -4.5683089e-04, -2.1847035e-04, -1.8396224e-05,\n",
              "        3.2555434e-04,  1.2721258e-03,  1.1077266e-04, -3.5859653e-04,\n",
              "       -8.8112219e-04, -5.3481013e-04, -1.3145909e-03, -6.9986493e-04,\n",
              "        1.9906968e-04,  5.7305067e-05,  2.9312028e-04,  1.2781651e-04,\n",
              "        1.4010926e-04, -1.2893759e-04,  6.6835224e-04, -9.9861831e-04,\n",
              "       -8.7073602e-04, -4.7224699e-04,  6.1307318e-04, -3.2724653e-04,\n",
              "       -4.2588919e-04, -3.7726469e-04, -3.8899205e-05,  4.6367368e-05,\n",
              "       -3.9450399e-04, -5.2884058e-04, -1.6563092e-04, -2.6723865e-04,\n",
              "        1.0347061e-03,  4.2441225e-05,  1.0939456e-03, -3.6685888e-04,\n",
              "       -1.5839003e-05,  5.3473905e-04, -6.4135628e-04,  4.8570236e-04,\n",
              "       -2.5849117e-04, -2.4780151e-04, -6.1313441e-04, -2.9838676e-04,\n",
              "       -4.3277463e-04, -9.8628132e-04, -5.1334435e-05,  6.0801994e-04,\n",
              "        4.1248609e-04,  4.2182641e-04,  4.2266757e-04,  5.4000894e-04,\n",
              "        6.2932195e-05,  3.8824236e-04,  5.6660734e-04, -3.3565528e-05,\n",
              "        6.4203334e-05, -9.6442259e-04,  1.0184568e-04,  7.2341680e-04,\n",
              "       -2.2377563e-04,  4.9968227e-04,  1.2413994e-03,  3.8967334e-04,\n",
              "        6.6561188e-04, -3.3006471e-04,  5.9073260e-05,  1.6710862e-04,\n",
              "       -7.0349209e-04, -8.4185251e-04, -3.0099991e-04,  1.4263035e-04,\n",
              "        1.9054710e-04, -1.4964677e-04, -7.9221535e-04,  2.0682999e-05,\n",
              "       -5.0443993e-04,  1.3043686e-03, -8.0096052e-04, -6.7586341e-05,\n",
              "        7.1655487e-04, -3.0908367e-04, -4.4380748e-05,  4.4682249e-04,\n",
              "       -5.7385637e-07,  5.7958253e-04,  2.9579230e-04, -7.8777166e-04,\n",
              "       -4.4878208e-05, -6.5908860e-04,  7.6250476e-04, -2.8463934e-05,\n",
              "        1.3329615e-04,  8.0810831e-04, -3.6152740e-04,  1.1570640e-04,\n",
              "        8.0934406e-04,  4.2767648e-04,  1.1550722e-03, -8.0329005e-04,\n",
              "        7.3268526e-04,  3.2358291e-04,  6.2639988e-04,  5.2214973e-04,\n",
              "        1.3673544e-03,  4.5658482e-04, -1.0671819e-04,  3.4147684e-04,\n",
              "       -2.1503720e-04, -5.7527411e-04, -2.7923507e-04, -4.3322955e-04,\n",
              "       -2.8461812e-04, -2.6267034e-04,  4.3530550e-04, -3.2512203e-04,\n",
              "       -6.3400861e-05, -2.8823694e-04, -6.4713362e-04, -7.3453935e-05,\n",
              "        2.1759025e-04,  5.9834641e-04,  3.3444932e-04,  8.1815575e-05,\n",
              "        5.5951450e-04, -6.0941587e-04, -5.2605313e-04,  8.6527388e-04,\n",
              "       -4.7056196e-04, -5.1970368e-05,  5.8922393e-04,  7.5787457e-04,\n",
              "        7.1153924e-04, -2.8294913e-04,  7.0274918e-04,  1.8256108e-04,\n",
              "       -1.1084009e-04, -5.3761993e-04, -6.2049308e-04,  1.0807562e-03,\n",
              "        1.1074208e-03, -3.9570773e-04, -6.8739557e-04, -1.0639858e-03,\n",
              "       -3.4882766e-04, -6.7883381e-04,  1.4791872e-04, -7.3891412e-04,\n",
              "       -2.6147978e-04, -8.0719194e-04, -4.6288350e-04,  1.5141220e-04,\n",
              "        4.3298237e-04, -2.8687908e-04, -1.0488303e-05, -6.7199311e-05,\n",
              "       -4.0383669e-04,  3.5294986e-04,  8.7173347e-04, -5.1643053e-04,\n",
              "       -3.4921404e-04,  3.1260110e-04,  6.1947206e-04, -1.8720985e-04,\n",
              "        2.4907439e-04, -6.8267371e-04, -2.7145667e-04, -2.5756977e-04,\n",
              "       -1.6627205e-04,  2.8774061e-04, -3.1727744e-05,  3.2223979e-05,\n",
              "        8.8657043e-04,  7.2980276e-04,  3.1857315e-04, -2.6817797e-04,\n",
              "       -5.7550729e-04,  9.1904373e-04], dtype=float32)"
            ]
          },
          "metadata": {}
        }
      ],
      "source": [
        "vect = model.wv[\"Amazon\"]\n",
        "display(vect)"
      ]
    },
    {
      "cell_type": "markdown",
      "id": "4lVQyxBAuelp",
      "metadata": {
        "id": "4lVQyxBAuelp"
      },
      "source": [
        "## **3.3. Exploración del Embedding**\n",
        "---\n",
        "\n",
        "Puede explorar la representación obtenida por medio de distintas técnicas de visualización o métricas:\n",
        "\n",
        "- **Análisis de Correlaciones**: si tiene una variable objetivo, puede evaluar correlaciones entre los embeddings y dicha variable.\n",
        "- **Nubes de palabras**: puede utilizar gráficos de tipo `wordcloud` para visualizar representaciones basadas en conteos\n",
        "- **Distribuciones**: puede calcular histogramas o gráficos de densidad para mostrar la distribución de embeddings semánticos."
      ]
    },
    {
      "cell_type": "markdown",
      "id": "Uh-GSrg-ulpn",
      "metadata": {
        "id": "Uh-GSrg-ulpn"
      },
      "source": [
        "### Nubes de palabras"
      ]
    },
    {
      "cell_type": "code",
      "execution_count": 98,
      "id": "fMgVcgGQuF4p",
      "metadata": {
        "colab": {
          "base_uri": "https://localhost:8080/",
          "height": 424
        },
        "id": "fMgVcgGQuF4p",
        "outputId": "34da6980-3a87-4bf5-f679-35ed18e8a3a6"
      },
      "outputs": [
        {
          "output_type": "display_data",
          "data": {
            "text/plain": [
              "<Figure size 1000x800 with 1 Axes>"
            ],
            "image/png": "[encoded data removed]"
          },
          "metadata": {}
        }
      ],
      "source": [
        "from wordcloud import WordCloud\n",
        "import matplotlib.pyplot as plt\n",
        "\n",
        "# Contar frecuencia de palabras en el corpus\n",
        "all_text = ' '.join(corpus)\n",
        "wordcloud = WordCloud(width=800, height=400, background_color='white').generate(all_text)\n",
        "\n",
        "# Graficar\n",
        "plt.figure(figsize=(10, 8))\n",
        "plt.imshow(wordcloud, interpolation='bilinear')\n",
        "plt.axis('off')\n",
        "plt.show()\n",
        "\n"
      ]
    },
    {
      "cell_type": "markdown",
      "id": "db5FQGq585dP",
      "metadata": {
        "id": "db5FQGq585dP"
      },
      "source": [
        "En este caso podemos ver que las palabras más comunes son Amazon, order, time, product, price, customer, service. Lo que es lógico ya que estamos trabajando con reviews de una aplicación de Amazon"
      ]
    },
    {
      "cell_type": "markdown",
      "id": "1f5cRetx9bYQ",
      "metadata": {
        "id": "1f5cRetx9bYQ"
      },
      "source": [
        "### Relación semántica entre las palabras"
      ]
    },
    {
      "cell_type": "code",
      "execution_count": 99,
      "id": "MnDjSdCNspob",
      "metadata": {
        "colab": {
          "base_uri": "https://localhost:8080/",
          "height": 699
        },
        "collapsed": true,
        "id": "MnDjSdCNspob",
        "outputId": "3b16c09f-3f9a-45a1-fd63-217cbddf9662"
      },
      "outputs": [
        {
          "output_type": "display_data",
          "data": {
            "text/plain": [
              "<Figure size 1000x800 with 1 Axes>"
            ],
            "image/png": "[encoded data removed]"
          },
          "metadata": {}
        }
      ],
      "source": [
        "import numpy as np\n",
        "import matplotlib.pyplot as plt\n",
        "from sklearn.manifold import TSNE\n",
        "from sklearn.decomposition import PCA\n",
        "\n",
        "# 1. Obtener los embeddings de las palabras más frecuentes\n",
        "words = list(model.wv.index_to_key)  # Lista de palabras en el vocabulario\n",
        "word_vectors = np.array([model.wv[word] for word in words])  # Embeddings de las palabras\n",
        "\n",
        "# 2. Reducción de dimensionalidad con PCA o t-SNE\n",
        "# Usaremos t-SNE en este caso\n",
        "tsne = TSNE(n_components=2, random_state=42, perplexity=30)  # Reduce a 2D\n",
        "word_vectors_2d = tsne.fit_transform(word_vectors[:50])  # Limitar a las primeras 50 palabras para facilitar la visualización\n",
        "\n",
        "# 3. Graficar el resultado\n",
        "plt.figure(figsize=(10, 8))\n",
        "plt.scatter(word_vectors_2d[:, 0], word_vectors_2d[:, 1], edgecolors='k', c='r')\n",
        "\n",
        "# 4. Etiquetar las palabras\n",
        "for i, word in enumerate(words[:50]):\n",
        "    plt.text(word_vectors_2d[i, 0], word_vectors_2d[i, 1], word, fontsize=9)\n",
        "\n",
        "plt.title('Visualización de Embeddings de FastText con t-SNE')\n",
        "plt.show()\n"
      ]
    },
    {
      "cell_type": "markdown",
      "id": "6W6u4J4H9gAP",
      "metadata": {
        "id": "6W6u4J4H9gAP"
      },
      "source": [
        "En este caso podemos ver la relación semántica entre las palabras en un espacio de 2 dimensiones utilizando sus embeddings.\n",
        "\n",
        "Los puntos más cercanos en el gráfico representan palabras que tienen una relación semántica más cerca en el espacio de embeddings, es decir que tienen signfiicados similares"
      ]
    },
    {
      "cell_type": "code",
      "execution_count": 100,
      "id": "bHolVcTi9tSR",
      "metadata": {
        "colab": {
          "base_uri": "https://localhost:8080/"
        },
        "id": "bHolVcTi9tSR",
        "outputId": "1a6c3e14-6ee7-46b1-e86e-f0b522da697f"
      },
      "outputs": [
        {
          "output_type": "execute_result",
          "data": {
            "text/plain": [
              "(6989, 250)"
            ]
          },
          "metadata": {},
          "execution_count": 100
        }
      ],
      "source": [
        "word_vectors.shape"
      ]
    },
    {
      "cell_type": "markdown",
      "id": "lnzN_DN-0zfQ",
      "metadata": {
        "id": "lnzN_DN-0zfQ"
      },
      "source": [
        "Realizamos el proceso de clasificación binaria para el campo Score de los datos. Es nuestra variable objetivo que queremos confirmar\n"
      ]
    },
    {
      "cell_type": "code",
      "execution_count": 101,
      "id": "RIGGznCrcErD",
      "metadata": {
        "id": "RIGGznCrcErD"
      },
      "outputs": [],
      "source": [
        "clean_ReviewIdfiltered_df['label'] = clean_ReviewIdfiltered_df['score'].apply(lambda x: 'positivo' if x > 4 else 'negativo' if x < 2 else 'neutro')"
      ]
    },
    {
      "cell_type": "code",
      "execution_count": 102,
      "id": "do026U2S1Ens",
      "metadata": {
        "colab": {
          "base_uri": "https://localhost:8080/",
          "height": 210
        },
        "id": "do026U2S1Ens",
        "outputId": "692846a4-be5b-45c2-b8c8-09e27bb9076f"
      },
      "outputs": [
        {
          "output_type": "execute_result",
          "data": {
            "text/plain": [
              "label\n",
              "negativo    27467\n",
              "neutro      16204\n",
              "positivo    14316\n",
              "Name: count, dtype: int64"
            ],
            "text/html": [
              "<div>\n",
              "<style scoped>\n",
              "    .dataframe tbody tr th:only-of-type {\n",
              "        vertical-align: middle;\n",
              "    }\n",
              "\n",
              "    .dataframe tbody tr th {\n",
              "        vertical-align: top;\n",
              "    }\n",
              "\n",
              "    .dataframe thead th {\n",
              "        text-align: right;\n",
              "    }\n",
              "</style>\n",
              "<table border=\"1\" class=\"dataframe\">\n",
              "  <thead>\n",
              "    <tr style=\"text-align: right;\">\n",
              "      <th></th>\n",
              "      <th>count</th>\n",
              "    </tr>\n",
              "    <tr>\n",
              "      <th>label</th>\n",
              "      <th></th>\n",
              "    </tr>\n",
              "  </thead>\n",
              "  <tbody>\n",
              "    <tr>\n",
              "      <th>negativo</th>\n",
              "      <td>27467</td>\n",
              "    </tr>\n",
              "    <tr>\n",
              "      <th>neutro</th>\n",
              "      <td>16204</td>\n",
              "    </tr>\n",
              "    <tr>\n",
              "      <th>positivo</th>\n",
              "      <td>14316</td>\n",
              "    </tr>\n",
              "  </tbody>\n",
              "</table>\n",
              "</div><br><label><b>dtype:</b> int64</label>"
            ]
          },
          "metadata": {},
          "execution_count": 102
        }
      ],
      "source": [
        "clean_ReviewIdfiltered_df['label'].value_counts()"
      ]
    },
    {
      "cell_type": "code",
      "execution_count": 103,
      "id": "Hgmgu4rCh36T",
      "metadata": {
        "id": "Hgmgu4rCh36T"
      },
      "outputs": [],
      "source": [
        "clean_ReviewIdfiltered_df['tokenized'] = clean_ReviewIdfiltered_df[\"content\"].apply(preprocess).str.split()"
      ]
    },
    {
      "cell_type": "code",
      "execution_count": 104,
      "id": "bnwH_s1JiwuD",
      "metadata": {
        "colab": {
          "base_uri": "https://localhost:8080/",
          "height": 458
        },
        "id": "bnwH_s1JiwuD",
        "outputId": "a4b772fa-411f-4ef8-87ae-f2ab6622b2f2"
      },
      "outputs": [
        {
          "output_type": "execute_result",
          "data": {
            "text/plain": [
              "0                            [access, orders, page, blank]\n",
              "1        [worst, service, worst, customer, service, sur...\n",
              "2        [awesome, dooood, maybe, know, sent, text, tel...\n",
              "3        [easy, buy, return, merchandise, needed, send,...\n",
              "4        [today, couldn, figure, changing, height, weig...\n",
              "                               ...                        \n",
              "59931    [amazon, smile, donates, sure, set, learn, wor...\n",
              "59932    [having, problems, app, having, reinstall, wor...\n",
              "59933    [great, got, greedy, ruined, music, app, longe...\n",
              "59934          [new, search, bar, location, sucks, option]\n",
              "59935    [personally, use, amazon, prime, disabled, hav...\n",
              "Name: tokenized, Length: 57987, dtype: object"
            ],
            "text/html": [
              "<div>\n",
              "<style scoped>\n",
              "    .dataframe tbody tr th:only-of-type {\n",
              "        vertical-align: middle;\n",
              "    }\n",
              "\n",
              "    .dataframe tbody tr th {\n",
              "        vertical-align: top;\n",
              "    }\n",
              "\n",
              "    .dataframe thead th {\n",
              "        text-align: right;\n",
              "    }\n",
              "</style>\n",
              "<table border=\"1\" class=\"dataframe\">\n",
              "  <thead>\n",
              "    <tr style=\"text-align: right;\">\n",
              "      <th></th>\n",
              "      <th>tokenized</th>\n",
              "    </tr>\n",
              "  </thead>\n",
              "  <tbody>\n",
              "    <tr>\n",
              "      <th>0</th>\n",
              "      <td>[access, orders, page, blank]</td>\n",
              "    </tr>\n",
              "    <tr>\n",
              "      <th>1</th>\n",
              "      <td>[worst, service, worst, customer, service, sur...</td>\n",
              "    </tr>\n",
              "    <tr>\n",
              "      <th>2</th>\n",
              "      <td>[awesome, dooood, maybe, know, sent, text, tel...</td>\n",
              "    </tr>\n",
              "    <tr>\n",
              "      <th>3</th>\n",
              "      <td>[easy, buy, return, merchandise, needed, send,...</td>\n",
              "    </tr>\n",
              "    <tr>\n",
              "      <th>4</th>\n",
              "      <td>[today, couldn, figure, changing, height, weig...</td>\n",
              "    </tr>\n",
              "    <tr>\n",
              "      <th>...</th>\n",
              "      <td>...</td>\n",
              "    </tr>\n",
              "    <tr>\n",
              "      <th>59931</th>\n",
              "      <td>[amazon, smile, donates, sure, set, learn, wor...</td>\n",
              "    </tr>\n",
              "    <tr>\n",
              "      <th>59932</th>\n",
              "      <td>[having, problems, app, having, reinstall, wor...</td>\n",
              "    </tr>\n",
              "    <tr>\n",
              "      <th>59933</th>\n",
              "      <td>[great, got, greedy, ruined, music, app, longe...</td>\n",
              "    </tr>\n",
              "    <tr>\n",
              "      <th>59934</th>\n",
              "      <td>[new, search, bar, location, sucks, option]</td>\n",
              "    </tr>\n",
              "    <tr>\n",
              "      <th>59935</th>\n",
              "      <td>[personally, use, amazon, prime, disabled, hav...</td>\n",
              "    </tr>\n",
              "  </tbody>\n",
              "</table>\n",
              "<p>57987 rows × 1 columns</p>\n",
              "</div><br><label><b>dtype:</b> object</label>"
            ]
          },
          "metadata": {},
          "execution_count": 104
        }
      ],
      "source": [
        "clean_ReviewIdfiltered_df['tokenized']"
      ]
    },
    {
      "cell_type": "markdown",
      "id": "hmcaJ2l5q6qB",
      "metadata": {
        "id": "hmcaJ2l5q6qB"
      },
      "source": [
        "Obtenemos nuestra matriz de características y nuestra variable objetivo"
      ]
    },
    {
      "cell_type": "code",
      "execution_count": 105,
      "id": "zyGbCPx0bipz",
      "metadata": {
        "id": "zyGbCPx0bipz"
      },
      "outputs": [],
      "source": [
        "def get_text_embedding(text, model):\n",
        "    # Filtrar palabras que están en el vocabulario del modelo fastText\n",
        "    words = [word for word in text if word in model.wv]\n",
        "    if len(words) == 0:\n",
        "        return np.zeros(model.vector_size)  # Si no hay palabras en el modelo, devolver vector de ceros\n",
        "    return np.mean([model.wv[word] for word in words], axis=0)\n",
        "\n",
        "# Aplicar esta función a cada texto tokenizado para obtener la matriz X\n",
        "X = np.vstack(clean_ReviewIdfiltered_df['tokenized'].apply(lambda text: get_text_embedding(text, model)))"
      ]
    },
    {
      "cell_type": "markdown",
      "id": "1rabMYEwjpZB",
      "metadata": {
        "id": "1rabMYEwjpZB"
      },
      "source": [
        "Haciendo el entrenamiento con Random Forest"
      ]
    },
    {
      "cell_type": "code",
      "execution_count": 106,
      "id": "jDqEJre4juDC",
      "metadata": {
        "id": "jDqEJre4juDC"
      },
      "outputs": [],
      "source": [
        "from sklearn.model_selection import train_test_split\n",
        "from sklearn.ensemble import RandomForestClassifier\n",
        "\n"
      ]
    },
    {
      "cell_type": "markdown",
      "id": "KoDzdMdRkTBk",
      "metadata": {
        "id": "KoDzdMdRkTBk"
      },
      "source": [
        "Separacion de los datos, entrenamiento y prueba"
      ]
    },
    {
      "cell_type": "code",
      "execution_count": 107,
      "id": "qDFdwuhdkY2s",
      "metadata": {
        "id": "qDFdwuhdkY2s"
      },
      "outputs": [],
      "source": [
        "X_train, X_test, y_train, y_test = train_test_split(X, clean_ReviewIdfiltered_df['label'], test_size=0.2, random_state=42)"
      ]
    },
    {
      "cell_type": "markdown",
      "id": "TGel-EGkkfv8",
      "metadata": {
        "id": "TGel-EGkkfv8"
      },
      "source": [
        "Entrenamiento del modelo Random Forest"
      ]
    },
    {
      "cell_type": "code",
      "execution_count": null,
      "id": "EIoQiy-nja9G",
      "metadata": {
        "id": "EIoQiy-nja9G"
      },
      "outputs": [],
      "source": [
        "from sklearn.ensemble import RandomForestClassifier\n",
        "\n",
        "model = RandomForestClassifier(n_estimators=100, random_state=42)\n",
        "model.fit(X_train, y_train)"
      ]
    },
    {
      "cell_type": "markdown",
      "source": [
        "Realizamos la prediccion de los datos de prueba"
      ],
      "metadata": {
        "id": "B9c9DuNLfHv5"
      },
      "id": "B9c9DuNLfHv5"
    },
    {
      "cell_type": "code",
      "execution_count": null,
      "id": "smD8IKDLlXG3",
      "metadata": {
        "id": "smD8IKDLlXG3"
      },
      "outputs": [],
      "source": [
        "y_pred = model.predict(X_test)\n"
      ]
    },
    {
      "cell_type": "markdown",
      "id": "4ZrIzPIKlap_",
      "metadata": {
        "id": "4ZrIzPIKlap_"
      },
      "source": [
        "Obtenemos la matriz de confusion"
      ]
    },
    {
      "cell_type": "code",
      "execution_count": null,
      "id": "-0yMmkw9ldjP",
      "metadata": {
        "id": "-0yMmkw9ldjP"
      },
      "outputs": [],
      "source": [
        "from sklearn.metrics import confusion_matrix\n",
        "\n",
        "cm = confusion_matrix(y_test, y_pred)\n",
        "print(\"Matriz de confusión:\")\n",
        "print(cm)\n"
      ]
    },
    {
      "cell_type": "markdown",
      "id": "f0YVVl5Qli7p",
      "metadata": {
        "id": "f0YVVl5Qli7p"
      },
      "source": [
        "Curva ROC y AUC (para predicciones binarias: positivo vs negativo)"
      ]
    },
    {
      "cell_type": "code",
      "execution_count": null,
      "id": "y2MAIf_zlijR",
      "metadata": {
        "id": "y2MAIf_zlijR"
      },
      "outputs": [],
      "source": [
        "from sklearn.metrics import roc_auc_score, roc_curve\n",
        "import matplotlib.pyplot as plt\n",
        "from sklearn.metrics import auc\n",
        "\n",
        "y_prob = model.predict_proba(X_test)\n",
        "\n",
        "# Select the probabilities for the positive class\n",
        "y_prob_positivo = y_prob[:, 1]\n",
        "\n",
        "fpr, tpr, thresholds = roc_curve(y_test, y_prob_positivo, pos_label='positivo')\n",
        "\n",
        "# Set the multi_class parameter to 'ovo' or 'ovr'\n",
        "auc_score = roc_auc_score(y_test, y_prob, multi_class='ovo')\n",
        "print(f'AUC: {auc_score}')\n",
        "\n",
        "# Converting y_test to binary format for ROC curve\n",
        "y_test_bin = [1 if label == 'positivo' else 0 for label in y_test]\n",
        "\n",
        "# Use y_prob_positivo for binary ROC curve\n",
        "fpr, tpr, _ = roc_curve(y_test_bin, y_prob_positivo)\n",
        "roc_auc = auc(fpr, tpr)\n",
        "\n",
        "# 11. Graficar la curva ROC\n",
        "plt.figure()\n",
        "plt.plot(fpr, tpr, color='darkorange', lw=2, label=f'Curva ROC (AUC = {roc_auc:.2f})')\n",
        "plt.plot([0, 1], [0, 1], color='navy', lw=2, linestyle='--')\n",
        "plt.xlim([0.0, 1.0])\n",
        "plt.ylim([0.0, 1.05])\n",
        "plt.xlabel('Tasa de Falsos Positivos')\n",
        "plt.ylabel('Tasa de Verdaderos Positivos')\n",
        "plt.title('Curva ROC')\n",
        "plt.legend(loc=\"lower right\")\n",
        "plt.show()\n",
        "\n",
        "print(f\"AUC: {roc_auc:.2f}\")"
      ]
    },
    {
      "cell_type": "markdown",
      "id": "kSFlz_EJ1h_x",
      "metadata": {
        "id": "kSFlz_EJ1h_x"
      },
      "source": [
        "Analizando datos con modelo Logistic Regresion\n"
      ]
    },
    {
      "cell_type": "code",
      "execution_count": null,
      "id": "3knR8VIt2R_5",
      "metadata": {
        "id": "3knR8VIt2R_5"
      },
      "outputs": [],
      "source": [
        "from sklearn.model_selection import train_test_split\n",
        "from sklearn.linear_model import LogisticRegression\n",
        "from sklearn.metrics import confusion_matrix, roc_curve, auc\n",
        "\n",
        "# Dividir en conjunto de entrenamiento y prueba\n",
        "#X_train, X_test, y_train, y_test = train_test_split(X, y, test_size=0.2, #random_state=42)\n",
        "\n",
        "# 7. Entrenar un clasificador (por ejemplo, regresión logística)\n",
        "classifier = LogisticRegression()\n",
        "classifier.fit(X_train, y_train)\n",
        "\n",
        "# 8. Predicciones\n",
        "y_pred = classifier.predict(X_test)\n",
        "y_prob = classifier.predict_proba(X_test)[:, 1]\n",
        "\n",
        "# 9. Matriz de confusión\n",
        "cm = confusion_matrix(y_test, y_pred)\n",
        "print(\"Matriz de confusión:\")\n",
        "print(cm)\n",
        "\n",
        "# 10. Curva ROC y AUC\n",
        "# Converting y_test to binary format for ROC curve\n",
        "y_test_bin = [1 if label == 'positivo' else 0 for label in y_test]\n",
        "fpr, tpr, _ = roc_curve(y_test_bin, y_prob)\n",
        "roc_auc = auc(fpr, tpr)\n",
        "\n",
        "# 11. Graficar la curva ROC\n",
        "plt.figure()\n",
        "plt.plot(fpr, tpr, color='darkorange', lw=2, label=f'Curva ROC (AUC = {roc_auc:.2f})')\n",
        "plt.plot([0, 1], [0, 1], color='navy', lw=2, linestyle='--')\n",
        "plt.xlim([0.0, 1.0])\n",
        "plt.ylim([0.0, 1.05])\n",
        "plt.xlabel('Tasa de Falsos Positivos')\n",
        "plt.ylabel('Tasa de Verdaderos Positivos')\n",
        "plt.title('Curva ROC')\n",
        "plt.legend(loc=\"lower right\")\n",
        "plt.show()\n",
        "\n",
        "print(f\"AUC: {roc_auc:.2f}\")\n"
      ]
    },
    {
      "cell_type": "markdown",
      "id": "bcJA0rbhqKxN",
      "metadata": {
        "id": "bcJA0rbhqKxN"
      },
      "source": [
        "Aplicando la valoracion y seleccion de hiperparametros para el modelo Random Forest\n"
      ]
    },
    {
      "cell_type": "code",
      "execution_count": null,
      "id": "Pit3TugaqTqR",
      "metadata": {
        "id": "Pit3TugaqTqR"
      },
      "outputs": [],
      "source": [
        "from sklearn.model_selection import GridSearchCV, train_test_split\n",
        "\n",
        "# 1. Definir el modelo Random Forest\n",
        "model_rf = RandomForestClassifier(random_state=42)\n",
        "\n",
        "# 2. Definir los hiperparámetros a probar en GridSearch\n",
        "param_grid = {\n",
        "    'n_estimators': [50, 100, 200],         # Número de árboles en el bosque\n",
        "    'max_depth': [None, 10, 20, 30],        # Máxima profundidad de los árboles\n",
        "    'min_samples_split': [2, 5, 10],        # Mínimo número de muestras para dividir un nodo\n",
        "    'min_samples_leaf': [1, 2, 4],          # Mínimo número de muestras para formar una hoja\n",
        "    'bootstrap': [True, False],              # Si usar o no el muestreo bootstrap\n",
        "    'max_features': ['auto','sqrt', 'log2']  # Número máximo de características a considerar al dividir\n",
        "}\n",
        "'''\n",
        "param_grid = {\n",
        "    'n_estimators': [100, 200, 300],         # Número de árboles en el bosque\n",
        "    'max_depth': [10, 20, 30,50,None],        # Máxima profundidad de los árboles\n",
        "    'min_samples_split': [2, 10,20],        # Mínimo número de muestras para dividir un nodo\n",
        "    'min_samples_leaf': [2, 5,10 ],          # Mínimo número de muestras para formar una hoja\n",
        "    'bootstrap': [True, False],              # Si usar o no el muestreo bootstrap\n",
        "    'max_features': ['auto','sqrt', 'log2']  # Número máximo de características a considerar al dividir\n",
        "}\n",
        "'''\n",
        "# 3. Configurar GridSearchCV\n",
        "grid_search = GridSearchCV(estimator=model_rf, param_grid=param_grid,\n",
        "                           cv=3, n_jobs=-1, verbose=2, scoring='accuracy')\n",
        "\n",
        "# 4. Ejecutar GridSearchCV para encontrar los mejores hiperparámetros\n",
        "grid_search.fit(X_train, y_train)\n",
        "\n",
        "# 5. Mostrar los mejores hiperparámetros encontrados\n",
        "print(\"Mejores hiperparámetros encontrados:\")\n",
        "print(grid_search.best_params_)\n",
        "\n",
        "# 6. Predecir sobre los datos de prueba usando el mejor modelo\n",
        "best_model = grid_search.best_estimator_\n",
        "y_pred = best_model.predict(X_test)\n",
        "\n",
        "# 7. Evaluar la precisión del modelo\n",
        "accuracy = accuracy_score(y_test, y_pred)\n",
        "print(f\"Precisión del mejor modelo en los datos de prueba: {accuracy}\")"
      ]
    }
  ],
  "metadata": {
    "accelerator": "GPU",
    "colab": {
      "gpuType": "T4",
      "provenance": []
    },
    "jupytext": {
      "cell_metadata_filter": "-all"
    },
    "kernelspec": {
      "display_name": "Python 3",
      "name": "python3"
    },
    "language_info": {
      "codemirror_mode": {
        "name": "ipython",
        "version": 3
      },
      "file_extension": ".py",
      "mimetype": "text/x-python",
      "name": "python",
      "nbconvert_exporter": "python",
      "pygments_lexer": "ipython3",
      "version": "3.10.11"
    }
  },
  "nbformat": 4,
  "nbformat_minor": 5
}