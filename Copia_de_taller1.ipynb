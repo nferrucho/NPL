{
  "cells": [
    {
      "cell_type": "markdown",
      "metadata": {
        "id": "view-in-github",
        "colab_type": "text"
      },
      "source": [
        "<a href=\"https://colab.research.google.com/github/nferrucho/NPL/blob/main/Copia_de_taller1.ipynb\" target=\"_parent\"><img src=\"https://colab.research.google.com/assets/colab-badge.svg\" alt=\"Open In Colab\"/></a>"
      ]
    },
    {
      "cell_type": "markdown",
      "id": "4d9b7750",
      "metadata": {
        "id": "4d9b7750"
      },
      "source": [
        "<img src=\"https://drive.google.com/uc?export=view&id=1pWL34MWc1rS0peIekOBe8GGBIEUFPyrG\" width=\"100%\">"
      ]
    },
    {
      "cell_type": "markdown",
      "id": "2a509d54",
      "metadata": {
        "id": "2a509d54"
      },
      "source": [
        "# **Taller 1**\n",
        "---\n",
        "En este taller se evaluarán las habilidades adquiridas en manejo de archivos, manipulación de _strings_ y la obtención de textos a partir de un **HTML** (_WebScraping_) tal y como se realizó en el taller guiado de obtención de textos desde _Python_.\n",
        "\n",
        "En este caso, usted deberá realizar algunas operaciones de extracción de información y manejo de textos a partir de una página web dada que trata sobre la biografía de [Noam Chomsky](https://es.wikipedia.org/wiki/Noam_Chomsky) en Wikipedia.\n",
        "\n",
        "<center>\n",
        "<img src = \"https://drive.google.com/uc?export=view&id=1FZQwqmYJ98obEV9-gZLF1v7QIJ04wH8T\" alt = \"Cadenas con formato\" width = \"80%\">  </img>\n",
        "</center>\n",
        "\n",
        "Ejecute la siguiente celda para importar las librerías que permiten la ejecución del código que se desarrolle posteriormente."
      ]
    },
    {
      "cell_type": "code",
      "execution_count": 7,
      "id": "910d5103",
      "metadata": {
        "id": "910d5103"
      },
      "outputs": [],
      "source": [
        "import bs4\n",
        "from IPython.display import HTML"
      ]
    },
    {
      "cell_type": "markdown",
      "id": "78416bed",
      "metadata": {
        "id": "78416bed"
      },
      "source": [
        "## **Carga de Datos**\n",
        "\n",
        "Para este primer ejercicio, debe cargar un archivo **HTML** como un fichero y realizar el código requerido para convertirlo a `beautifulsoup` para así poder analizar la información contenida en la página web en los siguientes ejercicios.\n",
        "\n",
        "Primero, cargaremos el archivo **HTML** en un documento llamado `chomsky.html` que se almacenará localmente:"
      ]
    },
    {
      "cell_type": "code",
      "execution_count": 8,
      "id": "f18d4b07",
      "metadata": {
        "id": "f18d4b07",
        "colab": {
          "base_uri": "https://localhost:8080/"
        },
        "outputId": "5bfcb011-2353-4a1f-d6be-7c1967921f89"
      },
      "outputs": [
        {
          "output_type": "stream",
          "name": "stdout",
          "text": [
            "--2024-08-23 20:28:28--  https://drive.google.com/uc?export=view&id=1T1mi5iJ_l5ABVa2lFAzrAtTQPvzuK99q\n",
            "Resolving drive.google.com (drive.google.com)... 142.251.167.138, 142.251.167.101, 142.251.167.113, ...\n",
            "Connecting to drive.google.com (drive.google.com)|142.251.167.138|:443... connected.\n",
            "HTTP request sent, awaiting response... 303 See Other\n",
            "Location: https://drive.usercontent.google.com/download?id=1T1mi5iJ_l5ABVa2lFAzrAtTQPvzuK99q&export=view [following]\n",
            "--2024-08-23 20:28:28--  https://drive.usercontent.google.com/download?id=1T1mi5iJ_l5ABVa2lFAzrAtTQPvzuK99q&export=view\n",
            "Resolving drive.usercontent.google.com (drive.usercontent.google.com)... 172.253.62.132, 2607:f8b0:4004:c17::84\n",
            "Connecting to drive.usercontent.google.com (drive.usercontent.google.com)|172.253.62.132|:443... connected.\n",
            "HTTP request sent, awaiting response... 200 OK\n",
            "Length: 214526 (209K) [application/octet-stream]\n",
            "Saving to: ‘chomsky.html’\n",
            "\n",
            "chomsky.html        100%[===================>] 209.50K  --.-KB/s    in 0.03s   \n",
            "\n",
            "2024-08-23 20:28:31 (7.35 MB/s) - ‘chomsky.html’ saved [214526/214526]\n",
            "\n"
          ]
        }
      ],
      "source": [
        "#TEST_CELL\n",
        "!wget 'https://drive.google.com/uc?export=view&id=1T1mi5iJ_l5ABVa2lFAzrAtTQPvzuK99q' -O chomsky.html"
      ]
    },
    {
      "cell_type": "code",
      "source": [
        "#TEST_CELL\n",
        "!wget 'https://mlds.unal.edu.co/asset-v1:MLDS+mlds4+2024_1+type@asset+block@chomsky.html' -O chomsky.html"
      ],
      "metadata": {
        "id": "LJaAkRt3OTUh",
        "colab": {
          "base_uri": "https://localhost:8080/"
        },
        "outputId": "65a7db15-728d-4004-9ac4-eee93d700260"
      },
      "id": "LJaAkRt3OTUh",
      "execution_count": 9,
      "outputs": [
        {
          "output_type": "stream",
          "name": "stdout",
          "text": [
            "--2024-08-23 20:28:34--  https://mlds.unal.edu.co/asset-v1:MLDS+mlds4+2024_1+type@asset+block@chomsky.html\n",
            "Resolving mlds.unal.edu.co (mlds.unal.edu.co)... 13.58.163.188\n",
            "Connecting to mlds.unal.edu.co (mlds.unal.edu.co)|13.58.163.188|:443... connected.\n",
            "HTTP request sent, awaiting response... 200 OK\n",
            "Length: 214914 (210K) [text/html]\n",
            "Saving to: ‘chomsky.html’\n",
            "\n",
            "chomsky.html        100%[===================>] 209.88K  --.-KB/s    in 0.08s   \n",
            "\n",
            "2024-08-23 20:28:34 (2.72 MB/s) - ‘chomsky.html’ saved [214914/214914]\n",
            "\n"
          ]
        }
      ]
    },
    {
      "cell_type": "markdown",
      "id": "7846f37b",
      "metadata": {
        "id": "7846f37b"
      },
      "source": [
        "La siguiente celda permite visualizar el archivo `.html` dentro del notebook con las imágenes y los enlaces embebidos."
      ]
    },
    {
      "cell_type": "code",
      "execution_count": 10,
      "id": "ee590d29",
      "metadata": {
        "id": "ee590d29",
        "colab": {
          "resources": {
            "http://localhost:8080/w/load.php?lang=es&modules=site.styles&only=styles&skin=vector": {
              "data": "",
              "ok": false,
              "headers": [
                [
                  "content-length",
                  "0"
                ]
              ],
              "status": 404,
              "status_text": ""
            },
            "http://localhost:8080/w/load.php?lang=es&modules=ext.gadget.imagenesinfobox&only=styles&skin=vector": {
              "data": "",
              "ok": false,
              "headers": [
                [
                  "content-length",
                  "0"
                ]
              ],
              "status": 404,
              "status_text": ""
            },
            "http://localhost:8080/w/load.php?lang=es&modules=ext.cite.styles%7Cext.uls.interlanguage%7Cext.visualEditor.desktopArticleTarget.noscript%7Cext.wikimediaBadges%7Cskins.vector.styles.legacy%7Cwikibase.client.init&only=styles&skin=vector": {
              "data": "",
              "ok": false,
              "headers": [
                [
                  "content-length",
                  "0"
                ]
              ],
              "status": 404,
              "status_text": ""
            },
            "http://localhost:8080/static/images/footer/poweredby_mediawiki_88x31.png": {
              "data": "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",
              "ok": false,
              "headers": [
                [
                  "content-length",
                  "9306"
                ],
                [
                  "content-type",
                  "text/html"
                ]
              ],
              "status": 404,
              "status_text": ""
            },
            "http://localhost:8080/static/images/footer/wikimedia-button.png": {
              "data": "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",
              "ok": false,
              "headers": [
                [
                  "content-length",
                  "9306"
                ],
                [
                  "content-type",
                  "text/html"
                ]
              ],
              "status": 404,
              "status_text": ""
            }
          },
          "base_uri": "https://localhost:8080/",
          "height": 1000
        },
        "outputId": "10058854-d943-4ee0-a4aa-a0195f954bb6"
      },
      "outputs": [
        {
          "output_type": "execute_result",
          "data": {
            "text/plain": [
              "<IPython.core.display.HTML object>"
            ],
            "text/html": [
              "<!DOCTYPE html>\n",
              "<html class=\"client-nojs\" lang=\"es\" dir=\"ltr\">\n",
              "<head>\n",
              "<meta charset=\"UTF-8\"/>\n",
              "<title>Noam Chomsky - Wikipedia, la enciclopedia libre</title>\n",
              "<script type=\"text/javascript\" src=\"http://ff.kis.v2.scr.kaspersky-labs.com/FD126C42-EBFA-4E12-B309-BB3FDD723AC1/main.js?attr=jRP2titC5apvj9B5nTPwAFEklNTeIylDqoM1I-bbADXsxLzFYCgW2gTReQnNJQOQNkerbrFIipi33aN_s_DR6GBN6DrQlKpgcL-ViMp02YRnD0c_0Y4VfSurpDqMlDLxzEqO5TKuYC5ryNfhWXtvo-8JhFhF9XKA9gi-OqGNlIiL1_4sHRO4WV_CZ7NnNvY3feyQG-tmKrSP6C60qGmlxXjNsUTSBfnBUs-7CiIjoMk\" charset=\"UTF-8\"></script><script>document.documentElement.className=\"client-js\";RLCONF={\"wgBreakFrames\":false,\"wgSeparatorTransformTable\":[\",\\t.\",\" \\t,\"],\"wgDigitTransformTable\":[\"\",\"\"],\"wgDefaultDateFormat\":\"dmy\",\"wgMonthNames\":[\"\",\"enero\",\"febrero\",\"marzo\",\"abril\",\"mayo\",\"junio\",\"julio\",\"agosto\",\"septiembre\",\"octubre\",\"noviembre\",\"diciembre\"],\"wgRequestId\":\"e768e81b-e05e-4d7d-afc5-27702cf45308\",\"wgCSPNonce\":false,\"wgCanonicalNamespace\":\"\",\"wgCanonicalSpecialPageName\":false,\"wgNamespaceNumber\":0,\"wgPageName\":\"Noam_Chomsky\",\"wgTitle\":\"Noam Chomsky\",\"wgCurRevisionId\":146906837,\"wgRevisionId\":146906837,\"wgArticleId\":15409,\"wgIsArticle\":true,\"wgIsRedirect\":false,\"wgAction\":\"view\",\"wgUserName\":null,\"wgUserGroups\":[\"*\"],\"wgCategories\":[\"Wikipedia:Páginas con enlaces mágicos de ISBN\",\"Wikipedia:Artículos destacados en la Wikipedia en francés\",\"Wikipedia:Artículos destacados en la Wikipedia en azerí\",\"Wikipedia:Artículos destacados en la Wikipedia en euskera\",\n",
              "\"Wikipedia:Artículos destacados en la Wikipedia en latín\",\"Wikipedia:Artículos buenos en la Wikipedia en inglés\",\"Wikipedia:Artículos con pasajes que requieren referencias\",\"Wikipedia:Páginas con referencias con parámetros obsoletos\",\"Wikipedia:Artículos con plantilla The Guardian\",\"Wikipedia:Artículos con identificadores VIAF\",\"Wikipedia:Artículos con identificadores ISNI\",\"Wikipedia:Artículos con identificadores BNA\",\"Wikipedia:Artículos con identificadores BNE\",\"Wikipedia:Artículos con identificadores BNF\",\"Wikipedia:Artículos con identificadores CANTIC\",\"Wikipedia:Artículos con identificadores GND\",\"Wikipedia:Artículos con identificadores LCCN\",\"Wikipedia:Artículos con identificadores NLA\",\"Wikipedia:Artículos con identificadores SNAC\",\"Wikipedia:Artículos con identificadores ULAN\",\"Wikipedia:Artículos con identificadores ORCID\",\"Wikipedia:Artículos con identificadores Scopus\",\"Wikipedia:Artículos con identificadores BIBSYS\",\n",
              "\"Wikipedia:Artículos con identificadores SBN\",\"Wikipedia:Artículos con identificadores DeutscheBiographie\",\"Wikipedia:Artículos con identificadores Open Library\",\"Wikipedia:Artículos con identificadores Google Académico\",\"Wikipedia:Artículos con identificadores Persée\",\"Wikipedia:Artículos con identificadores Dialnet\",\"Wikipedia:Artículos con identificadores Europeana\",\"Wikipedia:Control de autoridades con más de 30 elementos\",\"Personas vivas\",\"Hombres\",\"Nacidos en 1928\",\"Noam Chomsky\",\"Doctores honoris causa de la Universidad de Chile\",\"Miembros de la Leopoldina\",\"Doctores honorarios por la Universidad de Upsala\",\"Doctores honoris causa por la Universidad Rovira i Virgili\",\"Doctores honoris causa de la Universidad de Buenos Aires\",\"Graduados honorarios de la Universidad de Ontario Occidental\",\"Ateos de Estados Unidos\",\"Premios Fundación BBVA Fronteras del Conocimiento\"],\"wgPageContentLanguage\":\"es\",\"wgPageContentModel\":\"wikitext\",\"wgRelevantPageName\":\"Noam_Chomsky\",\n",
              "\"wgRelevantArticleId\":15409,\"wgIsProbablyEditable\":true,\"wgRelevantPageIsProbablyEditable\":true,\"wgRestrictionEdit\":[],\"wgRestrictionMove\":[],\"wgVisualEditor\":{\"pageLanguageCode\":\"es\",\"pageLanguageDir\":\"ltr\",\"pageVariantFallbacks\":\"es\"},\"wgMFDisplayWikibaseDescriptions\":{\"search\":true,\"watchlist\":true,\"tagline\":true,\"nearby\":true},\"wgWMESchemaEditAttemptStepOversample\":false,\"wgWMEPageLength\":50000,\"wgNoticeProject\":\"wikipedia\",\"wgVector2022PreviewPages\":[],\"wgMediaViewerOnClick\":true,\"wgMediaViewerEnabledByDefault\":true,\"wgPopupsFlags\":10,\"wgULSCurrentAutonym\":\"español\",\"wgEditSubmitButtonLabelPublish\":true,\"wgCentralAuthMobileDomain\":false,\"wgULSPosition\":\"interlanguage\",\"wgULSisCompactLinksEnabled\":true,\"wgWikibaseItemId\":\"Q9049\",\"GEHomepageSuggestedEditsEnableTopics\":true,\"wgGETopicsMatchModeEnabled\":true,\"wgGEStructuredTaskRejectionReasonTextInputEnabled\":false};RLSTATE={\"ext.gadget.imagenesinfobox\":\"ready\",\"ext.globalCssJs.user.styles\":\"ready\",\"site.styles\":\"ready\",\"user.styles\"\n",
              ":\"ready\",\"ext.globalCssJs.user\":\"ready\",\"user\":\"ready\",\"user.options\":\"loading\",\"ext.cite.styles\":\"ready\",\"skins.vector.styles.legacy\":\"ready\",\"ext.visualEditor.desktopArticleTarget.noscript\":\"ready\",\"ext.wikimediaBadges\":\"ready\",\"ext.uls.interlanguage\":\"ready\",\"wikibase.client.init\":\"ready\"};RLPAGEMODULES=[\"ext.cite.ux-enhancements\",\"ext.scribunto.logs\",\"site\",\"mediawiki.page.ready\",\"mediawiki.toc\",\"skins.vector.legacy.js\",\"mmv.head\",\"mmv.bootstrap.autostart\",\"ext.visualEditor.desktopArticleTarget.init\",\"ext.visualEditor.targetLoader\",\"ext.eventLogging\",\"ext.wikimediaEvents\",\"ext.navigationTiming\",\"ext.cx.eventlogging.campaigns\",\"ext.quicksurveys.init\",\"ext.centralNotice.geoIP\",\"ext.centralNotice.startUp\",\"ext.gadget.a-commons-directo\",\"ext.gadget.ReferenceTooltips\",\"ext.gadget.refToolbar\",\"ext.gadget.switcher\",\"ext.centralauth.centralautologin\",\"ext.popups\",\"ext.uls.compactlinks\",\"ext.uls.interface\",\"ext.growthExperiments.SuggestedEditSession\"];</script>\n",
              "<script>(RLQ=window.RLQ||[]).push(function(){mw.loader.implement(\"user.options@12s5i\",function($,jQuery,require,module){mw.user.tokens.set({\"patrolToken\":\"+\\\\\",\"watchToken\":\"+\\\\\",\"csrfToken\":\"+\\\\\"});});});</script>\n",
              "<link rel=\"stylesheet\" href=\"/w/load.php?lang=es&amp;modules=ext.cite.styles%7Cext.uls.interlanguage%7Cext.visualEditor.desktopArticleTarget.noscript%7Cext.wikimediaBadges%7Cskins.vector.styles.legacy%7Cwikibase.client.init&amp;only=styles&amp;skin=vector\"/>\n",
              "<script async=\"\" src=\"/w/load.php?lang=es&amp;modules=startup&amp;only=scripts&amp;raw=1&amp;skin=vector\"></script>\n",
              "<meta name=\"ResourceLoaderDynamicStyles\" content=\"\"/>\n",
              "<link rel=\"stylesheet\" href=\"/w/load.php?lang=es&amp;modules=ext.gadget.imagenesinfobox&amp;only=styles&amp;skin=vector\"/>\n",
              "<link rel=\"stylesheet\" href=\"/w/load.php?lang=es&amp;modules=site.styles&amp;only=styles&amp;skin=vector\"/>\n",
              "<noscript><link rel=\"stylesheet\" href=\"/w/load.php?lang=es&amp;modules=noscript&amp;only=styles&amp;skin=vector\"/></noscript>\n",
              "<meta name=\"generator\" content=\"MediaWiki 1.40.0-wmf.6\"/>\n",
              "<meta name=\"referrer\" content=\"origin\"/>\n",
              "<meta name=\"referrer\" content=\"origin-when-crossorigin\"/>\n",
              "<meta name=\"referrer\" content=\"origin-when-cross-origin\"/>\n",
              "<meta name=\"robots\" content=\"max-image-preview:standard\"/>\n",
              "<meta name=\"format-detection\" content=\"telephone=no\"/>\n",
              "<meta property=\"og:image\" content=\"https://upload.wikimedia.org/wikipedia/commons/thumb/a/a9/Noam_Chomsky_portrait_2017.jpg/1200px-Noam_Chomsky_portrait_2017.jpg\"/>\n",
              "<meta property=\"og:image:width\" content=\"1200\"/>\n",
              "<meta property=\"og:image:height\" content=\"1492\"/>\n",
              "<meta property=\"og:image\" content=\"https://upload.wikimedia.org/wikipedia/commons/thumb/a/a9/Noam_Chomsky_portrait_2017.jpg/800px-Noam_Chomsky_portrait_2017.jpg\"/>\n",
              "<meta property=\"og:image:width\" content=\"800\"/>\n",
              "<meta property=\"og:image:height\" content=\"995\"/>\n",
              "<meta property=\"og:image\" content=\"https://upload.wikimedia.org/wikipedia/commons/thumb/a/a9/Noam_Chomsky_portrait_2017.jpg/640px-Noam_Chomsky_portrait_2017.jpg\"/>\n",
              "<meta property=\"og:image:width\" content=\"640\"/>\n",
              "<meta property=\"og:image:height\" content=\"796\"/>\n",
              "<meta name=\"viewport\" content=\"width=1000\"/>\n",
              "<meta property=\"og:title\" content=\"Noam Chomsky - Wikipedia, la enciclopedia libre\"/>\n",
              "<meta property=\"og:type\" content=\"website\"/>\n",
              "<link rel=\"preconnect\" href=\"//upload.wikimedia.org\"/>\n",
              "<link rel=\"alternate\" media=\"only screen and (max-width: 720px)\" href=\"//es.m.wikipedia.org/wiki/Noam_Chomsky\"/>\n",
              "<link rel=\"alternate\" type=\"application/x-wiki\" title=\"Editar\" href=\"/w/index.php?title=Noam_Chomsky&amp;action=edit\"/>\n",
              "<link rel=\"apple-touch-icon\" href=\"/static/apple-touch/wikipedia.png\"/>\n",
              "<link rel=\"icon\" href=\"/static/favicon/wikipedia.ico\"/>\n",
              "<link rel=\"search\" type=\"application/opensearchdescription+xml\" href=\"/w/opensearch_desc.php\" title=\"Wikipedia (es)\"/>\n",
              "<link rel=\"EditURI\" type=\"application/rsd+xml\" href=\"//es.wikipedia.org/w/api.php?action=rsd\"/>\n",
              "<link rel=\"license\" href=\"https://creativecommons.org/licenses/by-sa/3.0/\"/>\n",
              "<link rel=\"canonical\" href=\"https://es.wikipedia.org/wiki/Noam_Chomsky\"/>\n",
              "<link rel=\"dns-prefetch\" href=\"//meta.wikimedia.org\" />\n",
              "<link rel=\"dns-prefetch\" href=\"//login.wikimedia.org\"/>\n",
              "</head>\n",
              "<body class=\"skin-vector-legacy mediawiki ltr sitedir-ltr mw-hide-empty-elt ns-0 ns-subject mw-editable page-Noam_Chomsky rootpage-Noam_Chomsky skin-vector action-view vector-feature-language-in-header-enabled vector-feature-language-in-main-page-header-disabled vector-feature-language-alert-in-sidebar-enabled vector-feature-sticky-header-disabled vector-feature-sticky-header-edit-disabled vector-feature-table-of-contents-legacy-toc-disabled vector-feature-visual-enhancement-next-disabled vector-feature-article-tools-disabled\"><div id=\"mw-page-base\" class=\"noprint\"></div>\n",
              "<div id=\"mw-head-base\" class=\"noprint\"></div>\n",
              "<div id=\"content\" class=\"mw-body\" role=\"main\">\n",
              "\t<a id=\"top\"></a>\n",
              "\t<div id=\"siteNotice\"><!-- CentralNotice --><!--esi <esi:include src=\"/esitest-fa8a495983347898/content\" /> --> </div>\n",
              "\t<div class=\"mw-indicators\">\n",
              "\t</div>\n",
              "\t<h1 id=\"firstHeading\" class=\"firstHeading mw-first-heading\"><span class=\"mw-page-title-main\">Noam Chomsky</span></h1>\n",
              "\t<div id=\"bodyContent\" class=\"vector-body\">\n",
              "\t\t<div id=\"siteSub\" class=\"noprint\">De Wikipedia, la enciclopedia libre</div>\n",
              "\t\t<div id=\"contentSub\"></div>\n",
              "\t\t<div id=\"contentSub2\"></div>\n",
              "\t\t\n",
              "\t\t<div id=\"jump-to-nav\"></div>\n",
              "\t\t<a class=\"mw-jump-link\" href=\"#mw-head\">Ir a la navegación</a>\n",
              "\t\t<a class=\"mw-jump-link\" href=\"#searchInput\">Ir a la búsqueda</a>\n",
              "\t\t<div id=\"mw-content-text\" class=\"mw-body-content mw-content-ltr\" lang=\"es\" dir=\"ltr\"><div class=\"mw-parser-output\"><style data-mw-deduplicate=\"TemplateStyles:r144106961\">.mw-parser-output .infobox .imagen{max-width:100%;margin:0 auto}.mw-parser-output .infobox .imagen img{max-width:100%;height:auto}body.skin-timeless .mw-parser-output .infobox .imagen a.image>img{max-width:100%!important;height:auto!important}</style><table class=\"infobox biography vcard\" style=\"width:22.7em; line-height: 1.4em; text-align:left; padding:.23em;\"><tbody><tr><th colspan=\"3\" class=\"cabecera persona\" style=\"text-align:center;background-color:transparent;color:black;\">Noam Chomsky</th></tr><tr><td colspan=\"3\" class=\"imagen\" style=\"text-align:center;line-height:1.3em; vertical-align:middle;;\">\n",
              "<a href=\"/wiki/Archivo:Noam_Chomsky_portrait_2017.jpg\" class=\"image\"><img alt=\"Noam Chomsky portrait 2017.jpg\" src=\"//upload.wikimedia.org/wikipedia/commons/thumb/a/a9/Noam_Chomsky_portrait_2017.jpg/220px-Noam_Chomsky_portrait_2017.jpg\" decoding=\"async\" width=\"220\" height=\"274\" srcset=\"//upload.wikimedia.org/wikipedia/commons/thumb/a/a9/Noam_Chomsky_portrait_2017.jpg/330px-Noam_Chomsky_portrait_2017.jpg 1.5x, //upload.wikimedia.org/wikipedia/commons/thumb/a/a9/Noam_Chomsky_portrait_2017.jpg/440px-Noam_Chomsky_portrait_2017.jpg 2x\" data-file-width=\"1740\" data-file-height=\"2164\" /></a><br /><div style=\"display:inline;\">Noam Chomsky en 2017</div></td></tr><tr><th colspan=\"3\" style=\"text-align:center;\">Información personal</th></tr><tr><th scope=\"row\" style=\"text-align:left;width:33%;\">Nacimiento</th><td colspan=\"2\" style=\"line-height:1.3em; vertical-align:middle;;\">\n",
              "<a href=\"/wiki/7_de_diciembre\" title=\"7 de diciembre\">7 de diciembre</a> de <a href=\"/wiki/1928\" title=\"1928\">1928</a><span class=\"wikidata-link lapiz noprint\"> <a href=\"https://www.wikidata.org/wiki/Q9049?uselang=es#P569\" title=\"Ver y modificar los datos en Wikidata\"><img alt=\"Ver y modificar los datos en Wikidata\" src=\"//upload.wikimedia.org/wikipedia/commons/thumb/7/73/Blue_pencil.svg/10px-Blue_pencil.svg.png\" decoding=\"async\" width=\"10\" height=\"10\" style=\"vertical-align: baseline\" srcset=\"//upload.wikimedia.org/wikipedia/commons/thumb/7/73/Blue_pencil.svg/15px-Blue_pencil.svg.png 1.5x, //upload.wikimedia.org/wikipedia/commons/thumb/7/73/Blue_pencil.svg/20px-Blue_pencil.svg.png 2x\" data-file-width=\"600\" data-file-height=\"600\" /></a></span> (93 años)<br /><a href=\"/wiki/Filadelfia\" title=\"Filadelfia\">Filadelfia</a>, <a href=\"/wiki/Pensilvania\" title=\"Pensilvania\">Pensilvania</a>, <a href=\"/wiki/Estados_Unidos\" title=\"Estados Unidos\">Estados Unidos</a></td></tr><tr><th scope=\"row\" style=\"text-align:left;width:33%;\">Nacionalidad</th><td colspan=\"2\" class=\"category\" style=\"line-height:1.3em; vertical-align:middle;;\">\n",
              "<a href=\"/wiki/Estados_Unidos\" title=\"Estados Unidos\">Estadounidense</a></td></tr><tr><th scope=\"row\" style=\"text-align:left;width:33%;\">Religión</th><td colspan=\"2\" style=\"line-height:1.3em; vertical-align:middle;;\">\n",
              "<a href=\"/wiki/Ateo\" class=\"mw-redirect\" title=\"Ateo\">Ateo</a></td></tr><tr><th colspan=\"3\" style=\"text-align:center;\">Familia</th></tr><tr><th scope=\"row\" style=\"text-align:left;width:33%;\">Padre</th><td colspan=\"2\" class=\"plainlist\" style=\"line-height:1.3em; vertical-align:middle;;\">\n",
              "<a href=\"/wiki/William_Chomsky\" title=\"William Chomsky\">William Chomsky</a><span class=\"wikidata-link lapiz noprint\"> <a href=\"https://www.wikidata.org/wiki/Q9049?uselang=es#P22\" title=\"Ver y modificar los datos en Wikidata\"><img alt=\"Ver y modificar los datos en Wikidata\" src=\"//upload.wikimedia.org/wikipedia/commons/thumb/7/73/Blue_pencil.svg/10px-Blue_pencil.svg.png\" decoding=\"async\" width=\"10\" height=\"10\" style=\"vertical-align: baseline\" srcset=\"//upload.wikimedia.org/wikipedia/commons/thumb/7/73/Blue_pencil.svg/15px-Blue_pencil.svg.png 1.5x, //upload.wikimedia.org/wikipedia/commons/thumb/7/73/Blue_pencil.svg/20px-Blue_pencil.svg.png 2x\" data-file-width=\"600\" data-file-height=\"600\" /></a></span></td></tr><tr><th scope=\"row\" style=\"text-align:left;width:33%;\">Cónyuge</th><td colspan=\"2\" class=\"plainlist\" style=\"line-height:1.3em; vertical-align:middle;;\">\n",
              "<ul><li><a href=\"/wiki/Carol_Chomsky\" title=\"Carol Chomsky\">Carol Chomsky</a>&#160;<small>(1949-2008)</small></li><li>Valeria Wasserman Chomsky&#160;<small>(desde 2014)</small><span class=\"wikidata-link lapiz noprint\"> <a href=\"https://www.wikidata.org/wiki/Q9049?uselang=es#P26\" title=\"Ver y modificar los datos en Wikidata\"><img alt=\"Ver y modificar los datos en Wikidata\" src=\"//upload.wikimedia.org/wikipedia/commons/thumb/7/73/Blue_pencil.svg/10px-Blue_pencil.svg.png\" decoding=\"async\" width=\"10\" height=\"10\" style=\"vertical-align: baseline\" srcset=\"//upload.wikimedia.org/wikipedia/commons/thumb/7/73/Blue_pencil.svg/15px-Blue_pencil.svg.png 1.5x, //upload.wikimedia.org/wikipedia/commons/thumb/7/73/Blue_pencil.svg/20px-Blue_pencil.svg.png 2x\" data-file-width=\"600\" data-file-height=\"600\" /></a></span></li></ul></td></tr><tr><th colspan=\"3\" style=\"text-align:center;\">Educación</th></tr><tr><th scope=\"row\" style=\"text-align:left;width:33%;\">Educado en</th><td colspan=\"2\" class=\"plainlist\" style=\"line-height:1.3em; vertical-align:middle;;\">\n",
              "<ul><li><a href=\"/wiki/Instituto_de_Tecnolog%C3%ADa_de_Massachusetts\" title=\"Instituto de Tecnología de Massachusetts\">Instituto Tecnológico de Massachusetts</a></li><li>Oak Lane Day School</li><li>Central High School&#160;<small>(hasta 1945)</small></li><li><a href=\"/wiki/Universidad_de_Pensilvania\" title=\"Universidad de Pensilvania\">Universidad de Pensilvania</a>&#160;<small>(<a href=\"/wiki/Bachelor_of_Arts\" class=\"mw-redirect\" title=\"Bachelor of Arts\">B.A.</a>; 1945-1949)</small></li><li>Universidad de Pensilvania&#160;<small>(<a href=\"/wiki/Master_of_Arts\" class=\"mw-redirect\" title=\"Master of Arts\">M.A.</a>; 1949-1951)</small></li><li><a href=\"/wiki/Universidad_de_Harvard\" title=\"Universidad de Harvard\">Universidad de Harvard</a>&#160;<small>(<a href=\"/wiki/Ling%C3%BC%C3%ADstica\" title=\"Lingüística\">Lingüística</a>; 1951-1955)</small><span class=\"wikidata-link lapiz noprint\"> <a href=\"https://www.wikidata.org/wiki/Q9049?uselang=es#P69\" title=\"Ver y modificar los datos en Wikidata\"><img alt=\"Ver y modificar los datos en Wikidata\" src=\"//upload.wikimedia.org/wikipedia/commons/thumb/7/73/Blue_pencil.svg/10px-Blue_pencil.svg.png\" decoding=\"async\" width=\"10\" height=\"10\" style=\"vertical-align: baseline\" srcset=\"//upload.wikimedia.org/wikipedia/commons/thumb/7/73/Blue_pencil.svg/15px-Blue_pencil.svg.png 1.5x, //upload.wikimedia.org/wikipedia/commons/thumb/7/73/Blue_pencil.svg/20px-Blue_pencil.svg.png 2x\" data-file-width=\"600\" data-file-height=\"600\" /></a></span></li></ul></td></tr><tr><th scope=\"row\" style=\"text-align:left;width:33%;\">Alumno de</th><td colspan=\"2\" class=\"plainlist\" style=\"line-height:1.3em; vertical-align:middle;;\">\n",
              "<ul><li><a href=\"/wiki/Zellig_Harris\" title=\"Zellig Harris\">Zellig Harris</a></li><li><a href=\"/wiki/Nelson_Goodman\" title=\"Nelson Goodman\">Nelson Goodman</a><span class=\"wikidata-link lapiz noprint\"> <a href=\"https://www.wikidata.org/wiki/Q9049?uselang=es#P1066\" title=\"Ver y modificar los datos en Wikidata\"><img alt=\"Ver y modificar los datos en Wikidata\" src=\"//upload.wikimedia.org/wikipedia/commons/thumb/7/73/Blue_pencil.svg/10px-Blue_pencil.svg.png\" decoding=\"async\" width=\"10\" height=\"10\" style=\"vertical-align: baseline\" srcset=\"//upload.wikimedia.org/wikipedia/commons/thumb/7/73/Blue_pencil.svg/15px-Blue_pencil.svg.png 1.5x, //upload.wikimedia.org/wikipedia/commons/thumb/7/73/Blue_pencil.svg/20px-Blue_pencil.svg.png 2x\" data-file-width=\"600\" data-file-height=\"600\" /></a></span></li></ul></td></tr><tr><th colspan=\"3\" style=\"text-align:center;\">Información profesional</th></tr><tr><th scope=\"row\" style=\"text-align:left;width:33%;\">Ocupación</th><td colspan=\"2\" class=\"role\" style=\"line-height:1.3em; vertical-align:middle;;\">\n",
              "<a href=\"/wiki/Fil%C3%B3sofo\" class=\"mw-redirect\" title=\"Filósofo\">Filósofo</a>, <a href=\"/wiki/Ling%C3%BCista\" class=\"mw-redirect\" title=\"Lingüista\">lingüista</a>, escritor político, <a href=\"/wiki/Profesor_universitario\" class=\"mw-redirect\" title=\"Profesor universitario\">profesor universitario</a>, <a href=\"/wiki/Psic%C3%B3logo\" title=\"Psicólogo\">psicólogo</a>, <a href=\"/wiki/Antrop%C3%B3logo\" title=\"Antropólogo\">antropólogo</a>, <a href=\"/wiki/Defensor_de_los_derechos_humanos\" title=\"Defensor de los derechos humanos\">activista por los derechos humanos</a>, <a href=\"/wiki/Pedagogo\" class=\"mw-redirect\" title=\"Pedagogo\">pedagogo</a>, crítico de medios, <a href=\"/wiki/Escritor\" title=\"Escritor\">escritor</a>, <a href=\"/wiki/Publicista_(escritor)\" title=\"Publicista (escritor)\">publicista</a>, <a href=\"/wiki/Inform%C3%A1tico_te%C3%B3rico\" title=\"Informático teórico\">informático teórico</a> e <a href=\"/wiki/Historiador\" title=\"Historiador\">historiador</a><span class=\"wikidata-link lapiz noprint\"> <a href=\"https://www.wikidata.org/wiki/Q9049?uselang=es#P106\" title=\"Ver y modificar los datos en Wikidata\"><img alt=\"Ver y modificar los datos en Wikidata\" src=\"//upload.wikimedia.org/wikipedia/commons/thumb/7/73/Blue_pencil.svg/10px-Blue_pencil.svg.png\" decoding=\"async\" width=\"10\" height=\"10\" style=\"vertical-align: baseline\" srcset=\"//upload.wikimedia.org/wikipedia/commons/thumb/7/73/Blue_pencil.svg/15px-Blue_pencil.svg.png 1.5x, //upload.wikimedia.org/wikipedia/commons/thumb/7/73/Blue_pencil.svg/20px-Blue_pencil.svg.png 2x\" data-file-width=\"600\" data-file-height=\"600\" /></a></span></td></tr><tr><th scope=\"row\" style=\"text-align:left;width:33%;\">Área</th><td colspan=\"2\" style=\"line-height:1.3em; vertical-align:middle;;\">\n",
              "Lingüística, <a href=\"/wiki/Filosof%C3%ADa_del_lenguaje\" title=\"Filosofía del lenguaje\">filosofía del lenguaje</a>, <a href=\"/wiki/Psicolog%C3%ADa\" title=\"Psicología\">psicología</a>, <a href=\"/wiki/Gram%C3%A1tica_generativa\" title=\"Gramática generativa\">Gramática generativa</a>, <a href=\"/wiki/Teor%C3%ADa_de_comunicaci%C3%B3n\" title=\"Teoría de comunicación\">teoría de la comunicación</a>, <a href=\"/wiki/Ciencia_cognitiva\" title=\"Ciencia cognitiva\">ciencia cognitiva</a>, <a href=\"/wiki/Filosof%C3%ADa_de_la_mente\" title=\"Filosofía de la mente\">filosofía de la mente</a>, <a href=\"/wiki/%C3%89tica\" title=\"Ética\">ética</a> y <a href=\"/wiki/Pol%C3%ADtica\" title=\"Política\">política</a><span class=\"wikidata-link lapiz noprint\"> <a href=\"https://www.wikidata.org/wiki/Q9049?uselang=es#P101\" title=\"Ver y modificar los datos en Wikidata\"><img alt=\"Ver y modificar los datos en Wikidata\" src=\"//upload.wikimedia.org/wikipedia/commons/thumb/7/73/Blue_pencil.svg/10px-Blue_pencil.svg.png\" decoding=\"async\" width=\"10\" height=\"10\" style=\"vertical-align: baseline\" srcset=\"//upload.wikimedia.org/wikipedia/commons/thumb/7/73/Blue_pencil.svg/15px-Blue_pencil.svg.png 1.5x, //upload.wikimedia.org/wikipedia/commons/thumb/7/73/Blue_pencil.svg/20px-Blue_pencil.svg.png 2x\" data-file-width=\"600\" data-file-height=\"600\" /></a></span></td></tr><tr><th scope=\"row\" style=\"text-align:left;width:33%;\">Conocido&#160;por</th><td colspan=\"2\" style=\"line-height:1.3em; vertical-align:middle;;\">\n",
              "<a href=\"/wiki/Gram%C3%A1tica_generativa\" title=\"Gramática generativa\">Gramática generativa</a>, <a href=\"/wiki/Gram%C3%A1tica_universal\" title=\"Gramática universal\">gramática universal</a>, <a href=\"/wiki/Gram%C3%A1tica_transformacional\" class=\"mw-redirect\" title=\"Gramática transformacional\">gramática transformacional</a>, <a href=\"/wiki/Recci%C3%B3n_y_ligamiento\" title=\"Rección y ligamiento\">rección y ligamiento</a>, <a href=\"/wiki/Teor%C3%ADa_de_la_X%27\" title=\"Teoría de la X&#39;\">teoría de la X'</a>, <a href=\"/wiki/Jerarqu%C3%ADa_de_Chomsky\" title=\"Jerarquía de Chomsky\">jerarquía de Chomsky</a>, <a href=\"/wiki/Gram%C3%A1tica_libre_de_contexto\" title=\"Gramática libre de contexto\">gramática libre de contexto</a>, <a href=\"/wiki/Principios_y_par%C3%A1metros\" title=\"Principios y parámetros\">principios y parámetros</a>, <a href=\"/w/index.php?title=Dispositivo_de_adquisici%C3%B3n_del_lenguaje&amp;action=edit&amp;redlink=1\" class=\"new\" title=\"Dispositivo de adquisición del lenguaje (aún no redactado)\">dispositivo de adquisición del lenguaje</a>, <a href=\"/wiki/Programa_minimalista\" title=\"Programa minimalista\">programa minimalista</a>, <a href=\"/wiki/Pobreza_del_est%C3%ADmulo\" title=\"Pobreza del estímulo\">pobreza del estímulo</a>, <a href=\"/w/index.php?title=Teorema_de_Chomsky-Sch%C3%BCtzenberger&amp;action=edit&amp;redlink=1\" class=\"new\" title=\"Teorema de Chomsky-Schützenberger (aún no redactado)\">teorema de Chomsky-Schützenberger</a>, <a href=\"/wiki/Forma_normal_de_Chomsky\" title=\"Forma normal de Chomsky\">forma normal de Chomsky</a>, <a href=\"/wiki/Modelo_de_Propaganda_de_los_medios_de_comunicaci%C3%B3n\" class=\"mw-redirect\" title=\"Modelo de Propaganda de los medios de comunicación\">modelo de Propaganda de los medios de comunicación</a><sup id=\"cite_ref-Letters_to_the_Editor_in_&#39;&#39;Journal_of_Palestine_Studies&#39;&#39;_1-0\" class=\"reference separada\"><a href=\"#cite_note-Letters_to_the_Editor_in_&#39;&#39;Journal_of_Palestine_Studies&#39;&#39;-1\"><span class=\"corchete-llamada\">[</span>1<span class=\"corchete-llamada\">]</span></a></sup>&#8203;</td></tr><tr><th scope=\"row\" style=\"text-align:left;width:33%;\">Cargos ocupados</th><td colspan=\"2\" class=\"plainlist\" style=\"line-height:1.3em; vertical-align:middle;;\">\n",
              "<a href=\"/wiki/Catedr%C3%A1tico_universitario\" class=\"mw-redirect\" title=\"Catedrático universitario\">Catedrático</a>&#160;<small>(desde 1955)</small><span class=\"wikidata-link lapiz noprint\"> <a href=\"https://www.wikidata.org/wiki/Q9049?uselang=es#P39\" title=\"Ver y modificar los datos en Wikidata\"><img alt=\"Ver y modificar los datos en Wikidata\" src=\"//upload.wikimedia.org/wikipedia/commons/thumb/7/73/Blue_pencil.svg/10px-Blue_pencil.svg.png\" decoding=\"async\" width=\"10\" height=\"10\" style=\"vertical-align: baseline\" srcset=\"//upload.wikimedia.org/wikipedia/commons/thumb/7/73/Blue_pencil.svg/15px-Blue_pencil.svg.png 1.5x, //upload.wikimedia.org/wikipedia/commons/thumb/7/73/Blue_pencil.svg/20px-Blue_pencil.svg.png 2x\" data-file-width=\"600\" data-file-height=\"600\" /></a></span></td></tr><tr><th scope=\"row\" style=\"text-align:left;width:33%;\">Empleador</th><td colspan=\"2\" class=\"plainlist\" style=\"line-height:1.3em; vertical-align:middle;;\">\n",
              "Instituto Tecnológico de Massachusetts&#160;<small>(1955-2002)</small><span class=\"wikidata-link lapiz noprint\"> <a href=\"https://www.wikidata.org/wiki/Q9049?uselang=es#P108\" title=\"Ver y modificar los datos en Wikidata\"><img alt=\"Ver y modificar los datos en Wikidata\" src=\"//upload.wikimedia.org/wikipedia/commons/thumb/7/73/Blue_pencil.svg/10px-Blue_pencil.svg.png\" decoding=\"async\" width=\"10\" height=\"10\" style=\"vertical-align: baseline\" srcset=\"//upload.wikimedia.org/wikipedia/commons/thumb/7/73/Blue_pencil.svg/15px-Blue_pencil.svg.png 1.5x, //upload.wikimedia.org/wikipedia/commons/thumb/7/73/Blue_pencil.svg/20px-Blue_pencil.svg.png 2x\" data-file-width=\"600\" data-file-height=\"600\" /></a></span></td></tr><tr><th scope=\"row\" style=\"text-align:left;width:33%;\">Estudiantes doctorales</th><td colspan=\"2\" style=\"line-height:1.3em; vertical-align:middle;;\">\n",
              "<a href=\"/wiki/Barbara_H._Partee\" title=\"Barbara H. Partee\">Barbara Partee</a>, <a href=\"/wiki/John_R._Ross\" title=\"John R. Ross\">John R. Ross</a>, <a href=\"/wiki/Mark_Baker_(ling%C3%BCista)\" title=\"Mark Baker (lingüista)\">Mark Baker</a>, <a href=\"/wiki/Joan_Bresnan\" title=\"Joan Bresnan\">Joan Bresnan</a> y <a href=\"/wiki/James_McCawley\" title=\"James McCawley\">James McCawley</a><span class=\"wikidata-link lapiz noprint\"> <a href=\"https://www.wikidata.org/wiki/Q9049?uselang=es#P185\" title=\"Ver y modificar los datos en Wikidata\"><img alt=\"Ver y modificar los datos en Wikidata\" src=\"//upload.wikimedia.org/wikipedia/commons/thumb/7/73/Blue_pencil.svg/10px-Blue_pencil.svg.png\" decoding=\"async\" width=\"10\" height=\"10\" style=\"vertical-align: baseline\" srcset=\"//upload.wikimedia.org/wikipedia/commons/thumb/7/73/Blue_pencil.svg/15px-Blue_pencil.svg.png 1.5x, //upload.wikimedia.org/wikipedia/commons/thumb/7/73/Blue_pencil.svg/20px-Blue_pencil.svg.png 2x\" data-file-width=\"600\" data-file-height=\"600\" /></a></span></td></tr><tr><th scope=\"row\" style=\"text-align:left;width:33%;\">Movimientos</th><td colspan=\"2\" style=\"line-height:1.3em; vertical-align:middle;;\">\n",
              "<a href=\"/wiki/Ate%C3%ADsmo\" title=\"Ateísmo\">Ateísmo</a>, <a href=\"/wiki/Anarcosindicalismo\" title=\"Anarcosindicalismo\">anarcosindicalismo</a>, <a href=\"/wiki/Nueva_Izquierda_(concepto)\" title=\"Nueva Izquierda (concepto)\">Nueva Izquierda</a> y <a href=\"/wiki/Movimiento_contra_la_guerra\" title=\"Movimiento contra la guerra\">movimiento antibélico</a><span class=\"wikidata-link lapiz noprint\"> <a href=\"https://www.wikidata.org/wiki/Q9049?uselang=es#P135\" title=\"Ver y modificar los datos en Wikidata\"><img alt=\"Ver y modificar los datos en Wikidata\" src=\"//upload.wikimedia.org/wikipedia/commons/thumb/7/73/Blue_pencil.svg/10px-Blue_pencil.svg.png\" decoding=\"async\" width=\"10\" height=\"10\" style=\"vertical-align: baseline\" srcset=\"//upload.wikimedia.org/wikipedia/commons/thumb/7/73/Blue_pencil.svg/15px-Blue_pencil.svg.png 1.5x, //upload.wikimedia.org/wikipedia/commons/thumb/7/73/Blue_pencil.svg/20px-Blue_pencil.svg.png 2x\" data-file-width=\"600\" data-file-height=\"600\" /></a></span></td></tr><tr><th scope=\"row\" style=\"text-align:left;width:33%;\">Miembro de</th><td colspan=\"2\" class=\"plainlist\" style=\"line-height:1.3em; vertical-align:middle;;\">\n",
              "<ul><li><a href=\"/wiki/Academia_Estadounidense_de_las_Artes_y_las_Ciencias\" title=\"Academia Estadounidense de las Artes y las Ciencias\">Academia Estadounidense de las Artes y las Ciencias</a>&#160;<small>(desde 1963)</small></li><li><a href=\"/wiki/Asociaci%C3%B3n_Estadounidense_para_el_Avance_de_la_Ciencia\" title=\"Asociación Estadounidense para el Avance de la Ciencia\">Asociación Estadounidense para el Avance de la Ciencia</a>&#160;<small>(desde 1966)</small></li><li><a href=\"/wiki/Academia_Nacional_de_Ciencias_(Estados_Unidos)\" title=\"Academia Nacional de Ciencias (Estados Unidos)\">Academia Nacional de Ciencias de los Estados Unidos</a>&#160;<small>(desde 1972)</small></li><li><a href=\"/wiki/Academia_Alemana_de_las_Ciencias_Naturales_Leopoldina\" title=\"Academia Alemana de las Ciencias Naturales Leopoldina\">Academia Alemana de las Ciencias Naturales Leopoldina</a>&#160;<small>(desde 1974)</small></li><li><a href=\"/wiki/Academia_Europ%C3%A6a\" title=\"Academia Europæa\">Academia Europæa</a>&#160;<small>(desde 1995)</small></li><li><a href=\"/wiki/Academia_de_las_Artes_y_de_las_Ciencias_de_Serbia\" title=\"Academia de las Artes y de las Ciencias de Serbia\">Academia de las Artes y de las Ciencias de Serbia</a>&#160;<small>(desde 2003)</small></li><li><a href=\"/wiki/American_Philosophical_Society\" title=\"American Philosophical Society\">Sociedad Filosófica Estadounidense</a>&#160;<small>(desde 2004)</small><span class=\"wikidata-link lapiz noprint\"> <a href=\"https://www.wikidata.org/wiki/Q9049?uselang=es#P463\" title=\"Ver y modificar los datos en Wikidata\"><img alt=\"Ver y modificar los datos en Wikidata\" src=\"//upload.wikimedia.org/wikipedia/commons/thumb/7/73/Blue_pencil.svg/10px-Blue_pencil.svg.png\" decoding=\"async\" width=\"10\" height=\"10\" style=\"vertical-align: baseline\" srcset=\"//upload.wikimedia.org/wikipedia/commons/thumb/7/73/Blue_pencil.svg/15px-Blue_pencil.svg.png 1.5x, //upload.wikimedia.org/wikipedia/commons/thumb/7/73/Blue_pencil.svg/20px-Blue_pencil.svg.png 2x\" data-file-width=\"600\" data-file-height=\"600\" /></a></span></li></ul></td></tr><tr><th scope=\"row\" style=\"text-align:left;width:33%;\">Sitio web</th><td colspan=\"2\" style=\"line-height:1.3em; vertical-align:middle;;\">\n",
              "<a rel=\"nofollow\" class=\"external text\" href=\"https://chomsky.info/\">chomsky.info</a><span class=\"wikidata-link lapiz noprint\"> <a href=\"https://www.wikidata.org/wiki/Q9049?uselang=es#P856\" title=\"Ver y modificar los datos en Wikidata\"><img alt=\"Ver y modificar los datos en Wikidata\" src=\"//upload.wikimedia.org/wikipedia/commons/thumb/7/73/Blue_pencil.svg/10px-Blue_pencil.svg.png\" decoding=\"async\" width=\"10\" height=\"10\" style=\"vertical-align: baseline\" srcset=\"//upload.wikimedia.org/wikipedia/commons/thumb/7/73/Blue_pencil.svg/15px-Blue_pencil.svg.png 1.5x, //upload.wikimedia.org/wikipedia/commons/thumb/7/73/Blue_pencil.svg/20px-Blue_pencil.svg.png 2x\" data-file-width=\"600\" data-file-height=\"600\" /></a></span></td></tr><tr><th scope=\"row\" style=\"text-align:left;width:33%;\">Firma</th><td colspan=\"2\" class=\"biography vcard\" style=\"line-height:1.3em; vertical-align:middle;;\">\n",
              "<a href=\"/wiki/Archivo:Noam_Chomsky_signature.svg\" class=\"image\"><img alt=\"Noam Chomsky signature.svg\" src=\"//upload.wikimedia.org/wikipedia/commons/thumb/4/44/Noam_Chomsky_signature.svg/114px-Noam_Chomsky_signature.svg.png\" decoding=\"async\" width=\"114\" height=\"80\" srcset=\"//upload.wikimedia.org/wikipedia/commons/thumb/4/44/Noam_Chomsky_signature.svg/170px-Noam_Chomsky_signature.svg.png 1.5x, //upload.wikimedia.org/wikipedia/commons/thumb/4/44/Noam_Chomsky_signature.svg/227px-Noam_Chomsky_signature.svg.png 2x\" data-file-width=\"367\" data-file-height=\"259\" /></a></td></tr><tr><td class=\"noprint\" colspan=\"3\" style=\"text-align:left;\"><div class=\"plainlinks wikidata-link\" style=\"font-size: 0.85em\">&#x5b;<a href=\"https://www.wikidata.org/wiki/Q9049\" class=\"extiw\" title=\"d:Q9049\">editar datos en Wikidata</a>&#x5d;</div></td></tr></tbody></table>\n",
              "<p><b>Avram Noam Chomsky</b> (<a href=\"/wiki/Filadelfia\" title=\"Filadelfia\">Filadelfia</a>, <a href=\"/wiki/7_de_diciembre\" title=\"7 de diciembre\">7 de diciembre</a> de <a href=\"/wiki/1928\" title=\"1928\">1928</a>) es un <a href=\"/wiki/Ling%C3%BC%C3%ADstica\" title=\"Lingüística\">lingüista</a>, <a href=\"/wiki/Filosof%C3%ADa\" title=\"Filosofía\">filósofo</a>, <a href=\"/wiki/Ciencia_pol%C3%ADtica\" title=\"Ciencia política\">politólogo</a> y activista estadounidense de origen judío. Es profesor emérito de lingüística en el <a href=\"/wiki/Instituto_Tecnol%C3%B3gico_de_Massachusetts\" class=\"mw-redirect\" title=\"Instituto Tecnológico de Massachusetts\">Instituto Tecnológico de Massachusetts</a> (MIT) y una de las figuras más destacadas de la lingüística del siglo&#160;<span style=\"font-variant:small-caps;text-transform:lowercase\">XX</span>, gracias a sus trabajos en teoría lingüística y <a href=\"/wiki/Ciencia_cognitiva\" title=\"Ciencia cognitiva\">ciencia cognitiva</a>. También es reconocido por su activismo político, caracterizado por una fuerte crítica del <a href=\"/wiki/Capitalismo\" title=\"Capitalismo\">capitalismo</a> contemporáneo y de la <a href=\"/wiki/Pol%C3%ADtica_exterior\" title=\"Política exterior\">política exterior</a> de los Estados Unidos. Se le considera de pensamiento <a href=\"/wiki/Socialista_libertario\" class=\"mw-redirect\" title=\"Socialista libertario\">socialista libertario</a>.<sup id=\"cite_ref-chomskylibertariansocialist_2-0\" class=\"reference separada\"><a href=\"#cite_note-chomskylibertariansocialist-2\"><span class=\"corchete-llamada\">[</span>2<span class=\"corchete-llamada\">]</span></a></sup>&#8203; El <i><a href=\"/wiki/New_York_Times\" class=\"mw-redirect\" title=\"New York Times\">New York Times</a></i> lo ha señalado como «el más importante de los pensadores contemporáneos».<sup id=\"cite_ref-3\" class=\"reference separada\"><a href=\"#cite_note-3\"><span class=\"corchete-llamada\">[</span>3<span class=\"corchete-llamada\">]</span></a></sup>&#8203;\n",
              "</p><p>Propuso la <a href=\"/wiki/Gram%C3%A1tica_generativa\" title=\"Gramática generativa\">gramática generativa</a>, disciplina que situó la <a href=\"/wiki/Sintaxis\" title=\"Sintaxis\">sintaxis</a> en el centro de la investigación lingüística. Con este paradigma, cambiaron la perspectiva, los programas y métodos de investigación en el estudio del lenguaje. Su lingüística es una teoría de la adquisición individual del lenguaje e intenta explicar las estructuras y principios más profundos del mismo. Postuló un aspecto bien definido de <a href=\"/wiki/Innatismo_del_lenguaje\" title=\"Innatismo del lenguaje\">innatismo</a> en la adquisición del lenguaje y la autonomía de la gramática (sobre los otros sistemas cognitivos), así como la existencia de un «órgano del lenguaje» y de una <a href=\"/wiki/Gram%C3%A1tica_universal\" title=\"Gramática universal\">gramática universal</a>. Se opuso con dureza al <a href=\"/wiki/Empirismo\" title=\"Empirismo\">empirismo</a> filosófico y científico y al funcionalismo, en favor del <a href=\"/wiki/Racionalismo\" title=\"Racionalismo\">racionalismo</a> <a href=\"/wiki/Cartesianismo\" title=\"Cartesianismo\">cartesiano</a>. Todas estas ideas chocaban frontalmente con las tradicionales de las ciencias humanas, lo que concitó múltiples adhesiones, críticas y polémicas que le han acabado convirtiendo en uno de los autores más citados.<sup id=\"cite_ref-chomskycitado_4-0\" class=\"reference separada\"><a href=\"#cite_note-chomskycitado-4\"><span class=\"corchete-llamada\">[</span>4<span class=\"corchete-llamada\">]</span></a></sup>&#8203; Sus 3.874 citas en el \"Arts and Humanities Citation Index\" entre 1980 y 1992 le convierten en la persona viva más citada en ese período y la octava más citada de toda la historia, justo por detrás de Sigmund Freud y por delante del filósofo Georg Hegel.<sup id=\"cite_ref-chomskyindex_5-0\" class=\"reference separada\"><a href=\"#cite_note-chomskyindex-5\"><span class=\"corchete-llamada\">[</span>5<span class=\"corchete-llamada\">]</span></a></sup>&#8203;\n",
              "</p><p>Destaca su contribución al establecimiento de las ciencias cognitivas a partir de su crítica del <a href=\"/wiki/Conductismo\" title=\"Conductismo\">conductismo</a> de <a href=\"/wiki/Burrhus_Frederic_Skinner\" title=\"Burrhus Frederic Skinner\">Skinner</a> y de las gramáticas de estados finitos, poniendo en tela de juicio el método basado en el comportamiento del estudio de la mente y el lenguaje que dominaba en los años cincuenta. Su enfoque naturalista en el estudio del lenguaje ha influido en la filosofía del lenguaje y de la mente (ver a <a href=\"/w/index.php?title=Gilbert_Harman&amp;action=edit&amp;redlink=1\" class=\"new\" title=\"Gilbert Harman (aún no redactado)\">Harman</a> y a <a href=\"/wiki/Jerry_Fodor\" title=\"Jerry Fodor\">Fodor</a>). Es el descubridor de la <a href=\"/wiki/Jerarqu%C3%ADa_de_Chomsky\" title=\"Jerarquía de Chomsky\">jerarquía de Chomsky</a>, una clasificación de <a href=\"/wiki/Lenguaje_formal\" title=\"Lenguaje formal\">lenguajes formales</a> de gran importancia en <a href=\"/wiki/Teor%C3%ADa_de_la_computaci%C3%B3n\" title=\"Teoría de la computación\">teoría de la computación</a>.\n",
              "</p><p>También es conocido por su <a href=\"/wiki/Activismo\" title=\"Activismo\">activismo político</a> y por sus <a href=\"/wiki/Cr%C3%ADtica_social\" title=\"Crítica social\">críticas</a> a la política exterior de Estados Unidos y de otros países, como <a href=\"/wiki/Israel\" title=\"Israel\">Israel</a>. Chomsky, que desvincula completamente su actividad científica de su activismo político, se describe a sí mismo como simpatizante del <a href=\"/wiki/Anarcosindicalismo\" title=\"Anarcosindicalismo\">anarcosindicalismo</a> (es miembro del sindicato <a href=\"/wiki/Industrial_Workers_of_the_World\" title=\"Industrial Workers of the World\">IWW</a>). Chomsky es considerado una figura influyente en su país de origen y en el mundo.\n",
              "</p>\n",
              "<div id=\"toc\" class=\"toc\" role=\"navigation\" aria-labelledby=\"mw-toc-heading\"><input type=\"checkbox\" role=\"button\" id=\"toctogglecheckbox\" class=\"toctogglecheckbox\" style=\"display:none\" /><div class=\"toctitle\" lang=\"es\" dir=\"ltr\"><h2 id=\"mw-toc-heading\">Índice</h2><span class=\"toctogglespan\"><label class=\"toctogglelabel\" for=\"toctogglecheckbox\"></label></span></div>\n",
              "<ul>\n",
              "<li class=\"toclevel-1 tocsection-1\"><a href=\"#Biografía\"><span class=\"tocnumber\">1</span> <span class=\"toctext\">Biografía</span></a></li>\n",
              "<li class=\"toclevel-1 tocsection-2\"><a href=\"#Contribuciones_a_la_lingüística\"><span class=\"tocnumber\">2</span> <span class=\"toctext\">Contribuciones a la lingüística</span></a>\n",
              "<ul>\n",
              "<li class=\"toclevel-2 tocsection-3\"><a href=\"#Teoría_de_principios_y_parámetros\"><span class=\"tocnumber\">2.1</span> <span class=\"toctext\">Teoría de principios y parámetros</span></a></li>\n",
              "</ul>\n",
              "</li>\n",
              "<li class=\"toclevel-1 tocsection-4\"><a href=\"#Activismo_político_y_posicionamientos\"><span class=\"tocnumber\">3</span> <span class=\"toctext\">Activismo político y posicionamientos</span></a></li>\n",
              "<li class=\"toclevel-1 tocsection-5\"><a href=\"#Antiglobalización_económica_de_Chomsky\"><span class=\"tocnumber\">4</span> <span class=\"toctext\">Antiglobalización económica de Chomsky</span></a>\n",
              "<ul>\n",
              "<li class=\"toclevel-2 tocsection-6\"><a href=\"#Perspectiva_sobre_el_ateísmo,_la_ciencia_y_la_religión\"><span class=\"tocnumber\">4.1</span> <span class=\"toctext\">Perspectiva sobre el ateísmo, la ciencia y la religión</span></a></li>\n",
              "</ul>\n",
              "</li>\n",
              "<li class=\"toclevel-1 tocsection-7\"><a href=\"#Libros_publicados\"><span class=\"tocnumber\">5</span> <span class=\"toctext\">Libros publicados</span></a>\n",
              "<ul>\n",
              "<li class=\"toclevel-2 tocsection-8\"><a href=\"#Lingüística\"><span class=\"tocnumber\">5.1</span> <span class=\"toctext\">Lingüística</span></a></li>\n",
              "<li class=\"toclevel-2 tocsection-9\"><a href=\"#Política\"><span class=\"tocnumber\">5.2</span> <span class=\"toctext\">Política</span></a></li>\n",
              "</ul>\n",
              "</li>\n",
              "<li class=\"toclevel-1 tocsection-10\"><a href=\"#Véase_también\"><span class=\"tocnumber\">6</span> <span class=\"toctext\">Véase también</span></a></li>\n",
              "<li class=\"toclevel-1 tocsection-11\"><a href=\"#Notas\"><span class=\"tocnumber\">7</span> <span class=\"toctext\">Notas</span></a></li>\n",
              "<li class=\"toclevel-1 tocsection-12\"><a href=\"#Bibliografía\"><span class=\"tocnumber\">8</span> <span class=\"toctext\">Bibliografía</span></a></li>\n",
              "<li class=\"toclevel-1 tocsection-13\"><a href=\"#Enlaces_externos\"><span class=\"tocnumber\">9</span> <span class=\"toctext\">Enlaces externos</span></a></li>\n",
              "</ul>\n",
              "</div>\n",
              "\n",
              "<h2><span id=\"Biograf.C3.ADa\"></span><span class=\"mw-headline\" id=\"Biografía\">Biografía</span><span class=\"mw-editsection\"><span class=\"mw-editsection-bracket\">[</span><a href=\"/w/index.php?title=Noam_Chomsky&amp;action=edit&amp;section=1\" title=\"Editar sección: Biografía\">editar</a><span class=\"mw-editsection-bracket\">]</span></span></h2>\n",
              "<p>Noam Chomsky nació el 7 de diciembre de 1928 en <a href=\"/wiki/Filadelfia\" title=\"Filadelfia\">Filadelfia</a> (Pensilvania),<sup id=\"cite_ref-6\" class=\"reference separada\"><a href=\"#cite_note-6\"><span class=\"corchete-llamada\">[</span>6<span class=\"corchete-llamada\">]</span></a></sup>&#8203; hijo del doctor <a href=\"/wiki/William_Chomsky\" title=\"William Chomsky\">William (Zev) Chomsky</a> (estudioso de la <a href=\"/wiki/Idioma_hebreo\" title=\"Idioma hebreo\">lengua hebrea</a> y uno de sus más distinguidos <a href=\"/wiki/Gram%C3%A1tica\" title=\"Gramática\">gramáticos</a>) y de Elsie Simonofsky, maestra de hebreo. Ambos eran inmigrantes <a href=\"/wiki/Juda%C3%ADsmo\" title=\"Judaísmo\">judeo</a>-<a href=\"/wiki/Ucrania\" title=\"Ucrania\">ucranianos</a>. Desde 1945, estudió <a href=\"/wiki/Filosof%C3%ADa\" title=\"Filosofía\">filosofía</a>, <a href=\"/wiki/Ling%C3%BC%C3%ADstica\" title=\"Lingüística\">lingüística</a> y <a href=\"/wiki/Matem%C3%A1tica\" class=\"mw-redirect\" title=\"Matemática\">matemática</a> en la <a href=\"/wiki/Universidad_de_Pensilvania\" title=\"Universidad de Pensilvania\">Universidad de Pensilvania</a>. Allí estuvo bajo la tutela del profesor <a href=\"/wiki/Zellig_Harris\" title=\"Zellig Harris\">Zellig Harris</a> (también inmigrante judeo-ucraniano, fundador del primer departamento especializado en lingüística en <a href=\"/wiki/Norteam%C3%A9rica\" class=\"mw-redirect\" title=\"Norteamérica\">Norteamérica</a>). Harris y Elsie influyeron más que Zev en la formación de su ideología política. También por influencia de Zellig Harris, Chomsky comenzó a tomar clases de matemáticas y filosofía. Uno de sus maestros fue el filósofo Nelson Goodman, quien más tarde los presentaría en la Society of Fellows de Harvard. Recibió su doctorado en 1955, después de llevar a cabo la mayor parte de sus investigaciones en la <a href=\"/wiki/Universidad_de_Harvard\" title=\"Universidad de Harvard\">Universidad de Harvard</a> durante los cuatro años anteriores. En 1998 recibió el <a href=\"/wiki/Doctorado_honoris_causa\" title=\"Doctorado honoris causa\">Doctorado honoris causa</a> (lingüística) de la <a href=\"/wiki/Universidad_Rovira_i_Virgili\" title=\"Universidad Rovira i Virgili\">Universidad Rovira i Virgili</a>.<sup id=\"cite_ref-7\" class=\"reference separada\"><a href=\"#cite_note-7\"><span class=\"corchete-llamada\">[</span>7<span class=\"corchete-llamada\">]</span></a></sup>&#8203;  Recibió esta misma distinción por parte de la <a href=\"/wiki/Universidad_Nacional_de_Colombia\" title=\"Universidad Nacional de Colombia\">Universidad Nacional de Colombia</a><sup id=\"cite_ref-8\" class=\"reference separada\"><a href=\"#cite_note-8\"><span class=\"corchete-llamada\">[</span>8<span class=\"corchete-llamada\">]</span></a></sup>&#8203; en 2002, de la <a href=\"/wiki/Universidad_de_Chile\" title=\"Universidad de Chile\">Universidad de Chile</a><sup id=\"cite_ref-9\" class=\"reference separada\"><a href=\"#cite_note-9\"><span class=\"corchete-llamada\">[</span>9<span class=\"corchete-llamada\">]</span></a></sup>&#8203; y de la <a href=\"/wiki/Universidad_de_la_Frontera\" class=\"mw-redirect\" title=\"Universidad de la Frontera\">Universidad de la Frontera</a><sup id=\"cite_ref-10\" class=\"reference separada\"><a href=\"#cite_note-10\"><span class=\"corchete-llamada\">[</span>10<span class=\"corchete-llamada\">]</span></a></sup>&#8203; en 2006 y de la <a href=\"/wiki/Universidad_Nacional_Aut%C3%B3noma_de_M%C3%A9xico\" title=\"Universidad Nacional Autónoma de México\">Universidad Nacional Autónoma de México</a><sup id=\"cite_ref-11\" class=\"reference separada\"><a href=\"#cite_note-11\"><span class=\"corchete-llamada\">[</span>11<span class=\"corchete-llamada\">]</span></a></sup>&#8203; en 2010.\n",
              "</p>\n",
              "<div class=\"thumb tleft\"><div class=\"thumbinner\" style=\"width:222px;\"><a href=\"/wiki/Archivo:Prof_dr_Noam_Chomsky,_Bestanddeelnr_929-4752.jpg\" class=\"image\"><img alt=\"\" src=\"//upload.wikimedia.org/wikipedia/commons/thumb/0/08/Prof_dr_Noam_Chomsky%2C_Bestanddeelnr_929-4752.jpg/220px-Prof_dr_Noam_Chomsky%2C_Bestanddeelnr_929-4752.jpg\" decoding=\"async\" width=\"220\" height=\"146\" class=\"thumbimage\" srcset=\"//upload.wikimedia.org/wikipedia/commons/thumb/0/08/Prof_dr_Noam_Chomsky%2C_Bestanddeelnr_929-4752.jpg/330px-Prof_dr_Noam_Chomsky%2C_Bestanddeelnr_929-4752.jpg 1.5x, //upload.wikimedia.org/wikipedia/commons/thumb/0/08/Prof_dr_Noam_Chomsky%2C_Bestanddeelnr_929-4752.jpg/440px-Prof_dr_Noam_Chomsky%2C_Bestanddeelnr_929-4752.jpg 2x\" data-file-width=\"3694\" data-file-height=\"2454\" /></a>  <div class=\"thumbcaption\"><div class=\"magnify\"><a href=\"/wiki/Archivo:Prof_dr_Noam_Chomsky,_Bestanddeelnr_929-4752.jpg\" class=\"internal\" title=\"Aumentar\"></a></div>Noam Chomsky en 1977</div></div></div>\n",
              "<p>En su <a href=\"/wiki/Tesis\" title=\"Tesis\">tesis</a> doctoral comenzó a desarrollar algunas de sus ideas en lingüística, elaborándolas luego en su libro <i>Estructuras sintácticas</i>,<sup id=\"cite_ref-12\" class=\"reference separada\"><a href=\"#cite_note-12\"><span class=\"corchete-llamada\">[</span>12<span class=\"corchete-llamada\">]</span></a></sup>&#8203;  posiblemente su trabajo más conocido en este campo. Sus planteamientos lingüísticos han revolucionado muchos puntos clave del estudio del lenguaje humano, que se han plasmado en la teoría de la <a href=\"/wiki/Gram%C3%A1tica_generativa_transformacional\" title=\"Gramática generativa transformacional\">Gramática generativa transformacional</a>.\n",
              "</p><p>Es profesor del <a href=\"/wiki/Massachusetts_Institute_of_Technology\" class=\"mw-redirect\" title=\"Massachusetts Institute of Technology\">Massachusetts Institute of Technology</a> (MIT) desde 1961, donde ocupó la cátedra <a href=\"/w/index.php?title=Ferrari_P._Ward&amp;action=edit&amp;redlink=1\" class=\"new\" title=\"Ferrari P. Ward (aún no redactado)\">Ferrari P. Ward</a> de Lenguaje Moderno y Lingüística de 1966 a 1976.\n",
              "</p><p>En abril de 2019 es reconocido con el <a href=\"/wiki/Premios_Fundaci%C3%B3n_BBVA_Fronteras_del_Conocimiento\" title=\"Premios Fundación BBVA Fronteras del Conocimiento\"> Premio Fronteras del Conocimiento</a> en la categoría de Humanidades y Ciencias Sociales. El jurado recogió en el acta que Chomsky ha situado la investigación de la mente humana y sus productos “en una nueva y fructífera vía que abarca la lingüística teórica, la psicolingüística, las ciencias cognitivas, las filosofías del lenguaje y de la mente y la psicología cognitiva”. <sup id=\"cite_ref-13\" class=\"reference separada\"><a href=\"#cite_note-13\"><span class=\"corchete-llamada\">[</span>13<span class=\"corchete-llamada\">]</span></a></sup>&#8203;\n",
              "</p><p>Su cónyuge fue <a href=\"/wiki/Carol_Chomsky\" title=\"Carol Chomsky\">Carol Schatz</a>, quien murió el 20 de diciembre de 2008.<sup id=\"cite_ref-14\" class=\"reference separada\"><a href=\"#cite_note-14\"><span class=\"corchete-llamada\">[</span>14<span class=\"corchete-llamada\">]</span></a></sup>&#8203; Tiene dos hijas y un hijo.\n",
              "</p>\n",
              "<h2><span id=\"Contribuciones_a_la_ling.C3.BC.C3.ADstica\"></span><span class=\"mw-headline\" id=\"Contribuciones_a_la_lingüística\">Contribuciones a la lingüística</span><span class=\"mw-editsection\"><span class=\"mw-editsection-bracket\">[</span><a href=\"/w/index.php?title=Noam_Chomsky&amp;action=edit&amp;section=2\" title=\"Editar sección: Contribuciones a la lingüística\">editar</a><span class=\"mw-editsection-bracket\">]</span></span></h2>\n",
              "<p>En 1957, con solo veintinueve años, Chomsky revolucionó el campo de la lingüística teórica con la publicación de la obra <i>Estructuras sintácticas</i>, basada en su tesis doctoral ―<i>Estructura lógica de la teoría lingüística</i>―, que no se publicaría hasta 1975. Su efecto sobre las teorías lingüísticas y psicológicas entonces en boga fue demoledor, ya que atacaba los presupuestos centrales tanto del <a href=\"/wiki/Estructuralismo_(ling%C3%BC%C3%ADstica)\" title=\"Estructuralismo (lingüística)\">estructuralismo</a> como de la <a href=\"/wiki/Psicolog%C3%ADa_conductista\" title=\"Psicología conductista\">psicología conductista</a>. Hasta entonces, se creía que la adquisición del lenguaje, como cualquier otra destreza humana, se producía por medio del aprendizaje y de la asociación. Sin embargo, Chomsky postulaba la existencia de un dispositivo cerebral innato (el «órgano del lenguaje»), que permite aprender y utilizar el lenguaje de forma casi instintiva. Comprobó además que los principios generales abstractos de la gramática son universales en la especie humana y postuló la existencia de una <a href=\"/wiki/Gram%C3%A1tica_universal\" title=\"Gramática universal\">gramática universal</a>.\n",
              "</p><p>La <a href=\"/wiki/Gram%C3%A1tica_Universal\" class=\"mw-redirect\" title=\"Gramática Universal\">Gramática Universal</a> de Chomsky asegura que el fundamento común de la lenguas humanas es su <a href=\"/wiki/Recursi%C3%B3n\" title=\"Recursión\">recursividad</a>, un proceso, habitualmente asociado a la subordinación, que posibilita a un hablante a introducir oraciones en otras oraciones sin límite. Este principio sería el que permitiría a los seres humanos establecer una comunicación rica y compleja para distanciarse, por ejemplo, de los animales. Sin embargo, la teoría de la recursividad de Chomsky se puso en entredicho en el momento en el que el profesor <a href=\"/wiki/Daniel_Everett\" title=\"Daniel Everett\">Daniel Everett</a>, después de convivir con la tribu indígena de los <a href=\"/wiki/Pirah%C3%A3\" title=\"Pirahã\">pirahã</a>, descubrió presuntamente un idioma nuevo que contradice dicha teoría: <a href=\"/wiki/Idioma_pirah%C3%A3\" title=\"Idioma pirahã\">el idioma pirahã</a>. Este nuevo idioma, que carecería de numeración, tiempos verbales y colores, se caracterizaría por su simplicidad aunque, a pesar de que tendría una percepción simple y reducida del mundo, cumpliría con las necesidades comunicativas de la tribu. Este descubrimiento es muy controvertido, ya que el propio Everett es la única persona fuera de la tribu capaz de entenderlo.\n",
              "</p><p>Chomsky denominó <a href=\"/wiki/Gram%C3%A1tica_generativa\" title=\"Gramática generativa\">gramática generativa</a> al conjunto de reglas innatas que permite traducir combinaciones de ideas a combinaciones de un código. Fundamentó la hipótesis, ya existente, de que la gramática es un sistema combinatorio discreto que permite construir infinitas frases a partir de un número finito de elementos mediante reglas diversas que pueden formalizarse. La nueva teoría consideraba que las expresiones (secuencias de palabras) tienen una sintaxis que puede caracterizarse (globalmente) por una <a href=\"/wiki/Gram%C3%A1tica_formal\" title=\"Gramática formal\">gramática formal</a>; en particular, una gramática extendida por normas de transformación. A los niños se les supone un conocimiento innato de la gramática elemental común a todas las lenguas humanas (lo que supone que toda lengua existente es una clase de restricción). Se sostiene que la modelización del conocimiento de la lengua a través de una gramática formal explica la «productividad» de la lengua: con un juego reducido de reglas gramaticales y un conjunto finito de términos, los humanos pueden producir un número infinito de frases, incluidas frases que nadie haya dicho anteriormente.\n",
              "</p><p><i>The Principles and Parameters approach</i> (P&amp;P) (<i>Aproximación por principios y parámetros</i>), desarrollada en las <i>Conferencias</i> de Pisa (1979) y publicada más tarde bajo el título <i>Lectures on Government and Binding</i> (LGB), retoma mucho de la gramática universal: los principios gramaticales en los que se basan las lenguas son innatos y fijos; las diferencias entre las distintas lenguas en el mundo se pueden caracterizar en términos de parámetros programados en el cerebro (como el <a href=\"/w/index.php?title=Par%C3%A1metro_de_elisi%C3%B3n&amp;action=edit&amp;redlink=1\" class=\"new\" title=\"Parámetro de elisión (aún no redactado)\">parámetro de elisión</a>, <i>pro drop param</i>, que indica cuándo un tema explícito es siempre requerido, como en inglés, o si este puede elidirse, como en español) a menudo comparados a interruptores (de ahí el término de <a href=\"/wiki/Principios_y_par%C3%A1metros\" title=\"Principios y parámetros\">principios y parámetros</a> utilizado para calificar este enfoque). Según esta teoría, un niño que aprende una lengua solo necesita adquirir los elementos léxicos básicos (palabras, <a href=\"/wiki/Morfema\" title=\"Morfema\">morfemas</a> gramaticales y <a href=\"/wiki/Proverbio\" title=\"Proverbio\">refranes</a>) y fijar los valores convenientes en los parámetros, lo que puede efectuarse sobre algunos ejemplos clave.\n",
              "</p><p>Los partidarios de esta concepción ponen como ejemplo que la velocidad con la cual los niños aprenden lenguas es inexplicablemente rápida, algo no posible a menos que tengan una capacidad innata para aprenderlas. La similitud de las etapas que siguen todos los niños a través del mundo cuando aprenden una lengua, y el hecho de que cometan errores característicos cuando adquieren su primera lengua, mientras que otros tipos de error al parecer lógicos no se producen nunca (y, según Chomsky, estos deberían darse si el mecanismo de aprendizaje utilizado fuese general más que específico de una lengua), se postulan también como un argumento a favor de dicho innatismo.\n",
              "</p><p>Más recientemente, en su <i>Programa minimalista</i> (1995), conservando al mismo tiempo el concepto central de «principios y parámetros», Chomsky intenta una revisión importante de las máquinas lingüísticas implicadas en el modelo de LGB, despojándolos de todo excepto de los elementos estrictamente necesarios. Al mismo tiempo, preconiza un enfoque general de la arquitectura de la facultad de la lengua humana, destaca los principios de la economía y la concepción óptima y retorna al enfoque <i>derivacional</i> de la generación, en oposición con la mayor parte del enfoque <i>representativo</i> clásico del P&amp;P.\n",
              "</p><p>Chomsky caracterizó la tarea del lingüista mucho mejor que ninguno de sus predecesores y fijó con todo rigor el campo para el estudio científico del lenguaje. Su objetivo nunca fue establecer una teoría especulativa más sobre el lenguaje, sino una explicación rigurosa de su complejidad. La intención era por tanto pasar de una pre-ciencia meramente descriptiva a una ciencia con poder explicativo y predictivo falsable y con construcciones abstractas que permitiesen un riguroso sistema axiomático. Nada ha sido igual desde entonces en el campo del estudio del lenguaje y, por extensión, de la mente humana. La gramática generativa de Chomsky fue la primera evidencia sólida de que la inteligencia humana está basada en dispositivos cerebrales especializados e innatos y eso ha permitido agrupar las ciencias cognitivas. También provocó una enorme escisión epistemológica, que todavía se mantiene, frente a quienes rechazan la concepción modular e innata de la mente y siguen siendo partidarios de un modelo de cerebro como <i>tabla rasa</i>, como por ejemplo los psicólogos que trabajan con procesos de <a href=\"/wiki/Emergencia_(filosof%C3%ADa)\" title=\"Emergencia (filosofía)\">emergencia</a> o las teorías <a href=\"/wiki/Conexionismo\" title=\"Conexionismo\">conexionistas</a>, que consideran la lengua como un caso particular de los procesos generales del cerebro.\n",
              "</p>\n",
              "<h3><span id=\"Teor.C3.ADa_de_principios_y_par.C3.A1metros\"></span><span class=\"mw-headline\" id=\"Teoría_de_principios_y_parámetros\">Teoría de principios y parámetros</span><span class=\"mw-editsection\"><span class=\"mw-editsection-bracket\">[</span><a href=\"/w/index.php?title=Noam_Chomsky&amp;action=edit&amp;section=3\" title=\"Editar sección: Teoría de principios y parámetros\">editar</a><span class=\"mw-editsection-bracket\">]</span></span></h3>\n",
              "<div class=\"noprint AP rellink\"><span style=\"font-size:88%\">Artículos principales:</span>&#32;<i><a href=\"/wiki/Principios_y_par%C3%A1metros\" title=\"Principios y parámetros\"> Principios y parámetros</a></i><span style=\"font-size:88%\">&#32;y&#32;</span><i><a href=\"/wiki/Recci%C3%B3n_y_ligamiento\" title=\"Rección y ligamiento\"> Rección y ligamiento</a></i>.</div>\n",
              "<p>Chomsky se ocupa de las <a href=\"/wiki/Lengua_natural\" title=\"Lengua natural\">lenguas naturales</a> partiendo de una <a href=\"/wiki/Gram%C3%A1tica_universal\" title=\"Gramática universal\">gramática universal</a> propia de todos los seres humanos, de raíz biológica, de la cual derivan las distintas lenguas de las diversas culturas que han existido en la historia y que existen aún.\n",
              "</p><p>La diferencia entre la gramática universal (GU) y las distintas gramáticas particulares (GGPP) radica en que la primera se relaciona con la disposición de un conjunto de principios ―como el «<a href=\"/wiki/Teor%C3%ADa-%CE%B8#Principio_de_proyección\" class=\"mw-redirect\" title=\"Teoría-θ\">principio de proyección</a>», el «<a href=\"/w/index.php?title=Principio_de_dependencia_de_la_estructura&amp;action=edit&amp;redlink=1\" class=\"new\" title=\"Principio de dependencia de la estructura (aún no redactado)\">principio de dependencia de la estructura</a>», el «<a href=\"/wiki/Recci%C3%B3n_y_ligamiento\" title=\"Rección y ligamiento\">principio de ligamiento</a>», la «<a href=\"/wiki/Caso_(gram%C3%A1tica)#Teoría_del_caso_abstracto\" title=\"Caso (gramática)\">teoría del caso</a>», el «<a href=\"/w/index.php?title=Criterio_tem%C3%A1tico&amp;action=edit&amp;redlink=1\" class=\"new\" title=\"Criterio temático (aún no redactado)\">criterio temático</a>» y algunos otros―, mientras que las GGPP se vinculan a las múltiples variaciones que pueden hacer las lenguas de los parámetros de esos principios. Un ejemplo de esta variación se da en el «parámetro de los sujetos nulos», que en <a href=\"/wiki/Idioma_espa%C3%B1ol\" title=\"Idioma español\">español</a> se puede presentar mientras que en <a href=\"/wiki/Idioma_ingl%C3%A9s\" title=\"Idioma inglés\">inglés</a> no, como muestra el siguiente ejemplo:\n",
              "</p>\n",
              "<ul><li>En español: «caminó mucho y está muy cansado». En esta oración el sujeto aparece implícito o es de sujeto nulo.</li>\n",
              "<li>En inglés: «<i>he walked a lot and he is very tired</i>». El sujeto nulo no se permite en inglés y es necesario que el sujeto («<i>he</i>») aparezca explicitado dos veces en la oración.</li></ul>\n",
              "<p>Así, las GGPP no son más que combinaciones de elementos finitos que pueden dar lugar a múltiples lenguas e idiomas que en esta teoría son llamadas <a href=\"/wiki/Lengua-I\" class=\"mw-redirect\" title=\"Lengua-I\">lengua-I</a>.\n",
              "</p><p>El sistema encargado de articular estos principios y variar los parámetros es el <a href=\"/wiki/Cerebro_humano\" title=\"Cerebro humano\">cerebro humano</a> con su capacidad de <a href=\"/wiki/Sintaxis\" title=\"Sintaxis\">sintaxis</a>, que en su sentido amplio adquiere la forma de un <a href=\"/wiki/Sistema_computacional\" class=\"mw-redirect\" title=\"Sistema computacional\">sistema computacional</a> que opera en <a href=\"/wiki/M%C3%B3dulos\" title=\"Módulos\">módulos</a>. Los módulos responden a una estructura matriz compuesta por tres componentes, dentro de los cuales actúan los <a href=\"/wiki/Principios_y_par%C3%A1metros\" title=\"Principios y parámetros\">principios y parámetros</a> definidos como una serie de teorías de lenguaje, conectadas con cuatro módulos centrales: la <a href=\"/wiki/Estructura-P\" class=\"mw-redirect\" title=\"Estructura-P\">estructura-P</a>, la <a href=\"/wiki/Estructura-S\" class=\"mw-redirect\" title=\"Estructura-S\">estructura-S</a>, la <a href=\"/w/index.php?title=Forma_fonol%C3%B3gica&amp;action=edit&amp;redlink=1\" class=\"new\" title=\"Forma fonológica (aún no redactado)\">forma fonológica</a> (FF) y la <a href=\"/w/index.php?title=Forma_l%C3%B3gica_(generativismo)&amp;action=edit&amp;redlink=1\" class=\"new\" title=\"Forma lógica (generativismo) (aún no redactado)\">forma lógica</a> (FL). La estructura-P conecta las oraciones con principios, mientras que la estructura-S apela a la transformación o variabilidad que pueden presentar dichas conexiones; además, la FF se vincula con la entonación y sonido de las expresiones lingüísticas o <a href=\"/wiki/Fonolog%C3%ADa\" title=\"Fonología\">fonología</a> y la FL se encarga de la <a href=\"/wiki/Sem%C3%A1ntica_ling%C3%BC%C3%ADstica\" title=\"Semántica lingüística\">semántica</a> de estas expresiones en relación con su interpretación de sentido y significado.\n",
              "</p><p>En la <a href=\"/wiki/Estructura-P\" class=\"mw-redirect\" title=\"Estructura-P\">estructura-P</a> se encuentran las primeras relaciones entre <a href=\"/wiki/L%C3%A9xico\" title=\"Léxico\">léxico</a> y <a href=\"/wiki/Sintaxis\" title=\"Sintaxis\">sintaxis</a>, como las relaciones <a href=\"/wiki/Sintagma\" title=\"Sintagma\">sintagmáticas</a> que establecen qué es <a href=\"/wiki/Sintagma_verbal\" title=\"Sintagma verbal\">sintagma verbal</a>, <a href=\"/wiki/Sintagma_nominal\" title=\"Sintagma nominal\">sintagma nominal</a>, <a href=\"/wiki/Sintagma_adjetival\" class=\"mw-redirect\" title=\"Sintagma adjetival\">sintagma adjetival</a> o <a href=\"/wiki/Sintagma_preposicional\" title=\"Sintagma preposicional\">sintagma preposicional</a>, entre otras relaciones categoriales.\n",
              "</p><p>La <a href=\"/wiki/Estructura-S\" class=\"mw-redirect\" title=\"Estructura-S\">estructura-S</a> señala acciones transformacionales o de parámetro, no solamente de principio como en la estructura-P. Un ejemplo es la operación <i>muévase α</i>, en la que un elemento se mueve en la oración a otra posición. La estructura-S también sirve como conector entre dos módulos que no se relacionan directamente. El primero es la <a href=\"/w/index.php?title=Forma_fonol%C3%B3gica&amp;action=edit&amp;redlink=1\" class=\"new\" title=\"Forma fonológica (aún no redactado)\">forma fonológica</a> (FF), que se encarga de articular sonidos con formas léxicas a partir de fonemas definidos, como también de establecer las entonaciones de una pregunta o una afirmación, una suposición entre otras acciones ligadas a lo mismo.\n",
              "</p><p>Por último, la forma lógica, quizás la más compleja de todas, conecta con el ejercicio semántico de <a href=\"/wiki/Interpretaci%C3%B3n\" title=\"Interpretación\">interpretación</a> y <a href=\"/wiki/Significado\" title=\"Significado\">significado</a> en el <a href=\"/wiki/Sentido_ling%C3%BC%C3%ADstico\" title=\"Sentido lingüístico\">sentido</a> de un oración en la cual se encuentran a nivel <a href=\"/wiki/L%C3%A9xico\" title=\"Léxico\">léxico</a> las redes temáticas y las selecciones S, como modos de organizar la oración según papeles temáticos (tales como <i>agente</i>, <i>tema</i>, <i>experimentante</i> o <i>benefactivo</i>) y <a href=\"/wiki/Categor%C3%ADas_gramaticales\" class=\"mw-redirect\" title=\"Categorías gramaticales\">categorías gramaticales</a> (tales como <i>animado</i> o <i>humano</i>) respectivamente, para luego dibujar la estructura morfológica de la oración a nivel sintáctico.\n",
              "</p><p>Estos cuatro módulos entregan una salida (<i>output</i>) que sirve como entrada (<i>input</i>) del siguiente módulo hasta entregar una realización <a href=\"/wiki/Ling%C3%BC%C3%ADstica\" title=\"Lingüística\">lingüística</a> u oración en un acto comunicativo.<sup id=\"cite_ref-15\" class=\"reference separada\"><a href=\"#cite_note-15\"><span class=\"corchete-llamada\">[</span>15<span class=\"corchete-llamada\">]</span></a></sup>&#8203;\n",
              "</p>\n",
              "<h2><span id=\"Activismo_pol.C3.ADtico_y_posicionamientos\"></span><span class=\"mw-headline\" id=\"Activismo_político_y_posicionamientos\">Activismo político y posicionamientos</span><span class=\"mw-editsection\"><span class=\"mw-editsection-bracket\">[</span><a href=\"/w/index.php?title=Noam_Chomsky&amp;action=edit&amp;section=4\" title=\"Editar sección: Activismo político y posicionamientos\">editar</a><span class=\"mw-editsection-bracket\">]</span></span></h2><p>\n",
              "Noam Chomsky se interesó por la política a muy temprana edad, estimulado por las lecturas en las librerías de los <a href=\"/wiki/Anarquismo_en_Espa%C3%B1a\" title=\"Anarquismo en España\">anarquistas españoles</a> exiliados en Nueva York. A los once años publicó su primer artículo sobre la caída de Barcelona y la expansión del <a href=\"/wiki/Fascismo\" title=\"Fascismo\">fascismo</a> en Europa.<sup id=\"cite_ref-16\" class=\"reference separada\"><a href=\"#cite_note-16\"><span class=\"corchete-llamada\">[</span>16<span class=\"corchete-llamada\">]</span></a></sup>&#8203;</p><div class=\"thumb tright\"><div class=\"thumbinner\" style=\"width:222px;\"><a href=\"/wiki/Archivo:Noam_Chomsky_WSF_-_2003.jpg\" class=\"image\"><img alt=\"\" src=\"//upload.wikimedia.org/wikipedia/commons/thumb/e/ef/Noam_Chomsky_WSF_-_2003.jpg/220px-Noam_Chomsky_WSF_-_2003.jpg\" decoding=\"async\" width=\"220\" height=\"155\" class=\"thumbimage\" srcset=\"//upload.wikimedia.org/wikipedia/commons/thumb/e/ef/Noam_Chomsky_WSF_-_2003.jpg/330px-Noam_Chomsky_WSF_-_2003.jpg 1.5x, //upload.wikimedia.org/wikipedia/commons/thumb/e/ef/Noam_Chomsky_WSF_-_2003.jpg/440px-Noam_Chomsky_WSF_-_2003.jpg 2x\" data-file-width=\"1672\" data-file-height=\"1181\" /></a>  <div class=\"thumbcaption\"><div class=\"magnify\"><a href=\"/wiki/Archivo:Noam_Chomsky_WSF_-_2003.jpg\" class=\"internal\" title=\"Aumentar\"></a></div>Noam Chomsky en el <a href=\"/wiki/Foro_Social_Mundial\" title=\"Foro Social Mundial\">Foro Social Mundial</a> de 2003</div></div></div><p>Su activismo político arranca de la movilización popular contra la <a href=\"/wiki/Guerra_del_Vietnam\" class=\"mw-redirect\" title=\"Guerra del Vietnam\">guerra del Vietnam</a>. La participación de Chomsky en esta movilización fue particularmente sorprendente considerando que su propia universidad, MIT,  estaba investigando helicópteros, bombas inteligentes y técnicas de contrainsurgencia para la guerra en Vietnam. Y, como dice Chomsky,  \"se desarrolló una buena cantidad de tecnología de orientación de misiles [nucleares] en el campus del MIT\".<sup id=\"cite_ref-17\" class=\"reference separada\"><a href=\"#cite_note-17\"><span class=\"corchete-llamada\">[</span>17<span class=\"corchete-llamada\">]</span></a></sup>&#8203; Como Chomsky también dice, \"aproximadamente el 90&#160;% [del MIT] estaba financiado por el <a href=\"/wiki/El_Pent%C3%A1gono\" title=\"El Pentágono\">Pentágono</a> en ese momento. Y yo personalmente estaba justo en el medio de eso. Estaba en un laboratorio militar.”<sup id=\"cite_ref-18\" class=\"reference separada\"><a href=\"#cite_note-18\"><span class=\"corchete-llamada\">[</span>18<span class=\"corchete-llamada\">]</span></a></sup>&#8203; La oposición de Chomsky a la guerra de Vietnam lo llevó a analizar el papel del mundo académico en la implicación de Estados Unidos en esta guerra. Fruto de este esfuerzo fueron varios artículos compilados en el libro <i>American Power and the New Mandarins</i> (El poder estadounidense y los nuevos mandarines) 1969, de entre los cuales destaca <i><a href=\"/wiki/La_responsabilidad_de_los_intelectuales\" title=\"La responsabilidad de los intelectuales\">La responsabilidad de los intelectuales</a></i> (publicado inicialmente en febrero de 1967 en <i><a href=\"/wiki/The_New_York_Review_of_Books\" class=\"mw-redirect\" title=\"The New York Review of Books\">The New York Review of Books</a></i>). Desde entonces, ha sido muy conocido por sus ideas políticas de <a href=\"/wiki/Izquierda_pol%C3%ADtica\" title=\"Izquierda política\">izquierda</a>, que se centran en la lucha por superar el déficit democrático existente de Estados Unidos —es decir, la gran distancia entre las decisiones políticas y la opinión pública—, y en denunciar las <i>ambiciones imperiales</i> del gobierno de este país en el mundo. En general, se le considera un crítico del <a href=\"/wiki/Capitalismo\" title=\"Capitalismo\">capitalismo</a> y también ha hablado en contra del <a href=\"/wiki/Darwinismo_social\" title=\"Darwinismo social\">darwinismo social</a> de <a href=\"/wiki/Herbert_Spencer\" title=\"Herbert Spencer\">Herbert Spencer</a>.\n",
              "</p><div class=\"thumb tleft\"><div class=\"thumbinner\" style=\"width:222px;\"><a href=\"/wiki/Archivo:Noam_Chomsky_(4094397160).jpg\" class=\"image\"><img alt=\"\" src=\"//upload.wikimedia.org/wikipedia/commons/thumb/a/a1/Noam_Chomsky_%284094397160%29.jpg/220px-Noam_Chomsky_%284094397160%29.jpg\" decoding=\"async\" width=\"220\" height=\"147\" class=\"thumbimage\" srcset=\"//upload.wikimedia.org/wikipedia/commons/thumb/a/a1/Noam_Chomsky_%284094397160%29.jpg/330px-Noam_Chomsky_%284094397160%29.jpg 1.5x, //upload.wikimedia.org/wikipedia/commons/thumb/a/a1/Noam_Chomsky_%284094397160%29.jpg/440px-Noam_Chomsky_%284094397160%29.jpg 2x\" data-file-width=\"3648\" data-file-height=\"2432\" /></a>  <div class=\"thumbcaption\"><div class=\"magnify\"><a href=\"/wiki/Archivo:Noam_Chomsky_(4094397160).jpg\" class=\"internal\" title=\"Aumentar\"></a></div>Conferencia de Chomsky</div></div></div>\n",
              "<p>Se define a sí mismo como partidario de la tradición <a href=\"/wiki/Anarquismo\" title=\"Anarquismo\">anarquista</a>, especialmente de la corriente de orientación laboral del anarquismo, el <a href=\"/wiki/Anarcosindicalismo\" title=\"Anarcosindicalismo\">anarcosindicalismo</a>, y es miembro del célebre <a href=\"/wiki/Sindicalismo_revolucionario\" title=\"Sindicalismo revolucionario\">sindicato revolucionario</a> estadounidense <a href=\"/wiki/Industrial_Workers_of_the_World\" title=\"Industrial Workers of the World\">IWW</a>, al que también perteneció su padre. Pese a ello, no se opone totalmente a la política electoral, al menos en el ámbito de la estrategia: su postura en las elecciones de Estados Unidos es que los ciudadanos deberían votar por los <a href=\"/wiki/Partido_Dem%C3%B3crata_de_los_Estados_Unidos\" class=\"mw-redirect\" title=\"Partido Demócrata de los Estados Unidos\">demócratas</a> locales si con ello se consigue sacar del poder a los <a href=\"/wiki/Partido_Republicano_de_los_Estados_Unidos\" class=\"mw-redirect\" title=\"Partido Republicano de los Estados Unidos\">republicanos</a>, mientras que en las situaciones donde las victorias republicana o demócrata están claras ha pedido el voto para candidaturas más a la izquierda, como las del <a href=\"/wiki/Partido_Verde_(Estados_Unidos)\" class=\"mw-redirect\" title=\"Partido Verde (Estados Unidos)\">Partido Verde</a>. Es uno de los más importantes colaboradores del grupo mediático independiente <a href=\"/wiki/Z_Communications\" class=\"mw-redirect\" title=\"Z Communications\">Z Communications</a>. Esta actuación se inscribe claramente dentro de la tradicional táctica anarcosindicalista de impulsar movilizaciones populares que coaccionen la acción de los poderes públicos y fácticos hasta conseguir cambios concretos y reales (véase el prefacio de Chomsky al libro de <a href=\"/wiki/Rudolf_Rocker\" title=\"Rudolf Rocker\">Rudolf Rocker</a>, <i>Anarcho-Syndicalism: Theory and Practice</i>, 1989).\n",
              "</p><p>Desde un punto de vista más personal y filosófico, también se considera un conservador de la variante <a href=\"/wiki/Liberalismo_cl%C3%A1sico\" title=\"Liberalismo clásico\">liberal clásica</a> (<i>Chomsky's Politics</i>, pp. 188) y se ha definido como un <a href=\"/wiki/Sionismo\" title=\"Sionismo\">sionista</a>; aunque observa que la mayoría considera como <a href=\"/wiki/Antisionista\" class=\"mw-redirect\" title=\"Antisionista\">antisionista su definición de sionismo.</a> Percibe un cambio en el significado del sionismo (<i>Chomsky Reader</i>) desde la década de 1940. En la misma línea y rescatando su contenido libertario, Chomsky ha declarado su admiración y adhesión al <a href=\"/wiki/Kibutz\" title=\"Kibutz\">kibutz</a> como forma social alternativa.\n",
              "</p>\n",
              "<div class=\"thumb tright\"><div class=\"thumbinner\" style=\"width:222px;\"><a href=\"/wiki/Archivo:Noam_Chomsky_(5598993589).jpg\" class=\"image\"><img alt=\"\" src=\"//upload.wikimedia.org/wikipedia/commons/thumb/0/09/Noam_Chomsky_%285598993589%29.jpg/220px-Noam_Chomsky_%285598993589%29.jpg\" decoding=\"async\" width=\"220\" height=\"147\" class=\"thumbimage\" srcset=\"//upload.wikimedia.org/wikipedia/commons/thumb/0/09/Noam_Chomsky_%285598993589%29.jpg/330px-Noam_Chomsky_%285598993589%29.jpg 1.5x, //upload.wikimedia.org/wikipedia/commons/thumb/0/09/Noam_Chomsky_%285598993589%29.jpg/440px-Noam_Chomsky_%285598993589%29.jpg 2x\" data-file-width=\"4870\" data-file-height=\"3247\" /></a>  <div class=\"thumbcaption\"><div class=\"magnify\"><a href=\"/wiki/Archivo:Noam_Chomsky_(5598993589).jpg\" class=\"internal\" title=\"Aumentar\"></a></div>Chomsky en 2011</div></div></div>\n",
              "<p>Con el tiempo, se ha convertido en una de las principales figuras de la política radical estadounidense. Junto a <a href=\"/wiki/Jos%C3%A9_Saramago\" title=\"José Saramago\">José Saramago</a> o <a href=\"/wiki/Leonardo_Boff\" title=\"Leonardo Boff\">Leonardo Boff</a>, entre otros, es uno de los principales intelectuales de la izquierda en el mundo, pese a lo cual, a diferencia de su actividad científica, su aportación teórica en el ámbito político no es demasiado relevante. Nunca se ha considerado un teórico en política, sino simplemente un ciudadano informado que mantiene una actitud muy <a href=\"/wiki/Cr%C3%ADtica_social\" title=\"Crítica social\">crítica</a> hacia la ideología dominante. Chomsky cree que, mientras la actividad científica no está al alcance de cualquiera (ya que exige una formación y una abstracción conceptual muy elevada), para la actividad de crítica política basta una cierta apertura de espíritu. Ha reiterado a menudo que la política debería ser cosa de todos y no dejarse en manos de la <i><a href=\"/wiki/Intelligentsia\" title=\"Intelligentsia\">intelligentsia</a></i>, ni mucho menos aceptar que solo los profesionales de la política (sean periodistas, intelectuales o políticos) sean los únicos capacitados para opinar sobre política.\n",
              "</p><p>Uno de sus principales aportes intelectuales ha sido el análisis de los medios de comunicación. En sus estudios sobre el tema se ha ocupado de los enfoques sesgados, o incluso engañosos, que hay detrás de la supuesta neutralidad de los medios más prestigiosos. Se trata de un trabajo de «<a href=\"/w/index.php?title=Contrainformaci%C3%B3n_alternativa&amp;action=edit&amp;redlink=1\" class=\"new\" title=\"Contrainformación alternativa (aún no redactado)\">contrainformación</a>» que ha obtenido gran difusión y que muchos otros han continuado. Fruto de este esfuerzo es el libro <i>Los guardianes de la libertad,</i> escrito junto con <a href=\"/wiki/Edward_S._Herman\" title=\"Edward S. Herman\">Edward S. Herman</a>, profesor de la <a href=\"/wiki/Universidad_de_Pensilvania\" title=\"Universidad de Pensilvania\">Universidad de Pensilvania</a>.\n",
              "</p><p>Su denuncia de la política exterior de Estados Unidos, de las deficiencias democráticas de su maquinaria política, y de los engaños de los grandes medios de comunicación en este país, supone poner en duda tres de los pilares del nacionalismo estadounidense. Por otro lado, su visión sobre la política del estado <a href=\"/wiki/Israel\" title=\"Israel\">israelí</a> en Oriente Medio es parte de su crítica a la política exterior de Estados Unidos. Chomsky señala que desde hace años la maquinaria militar israelí depende mayormente del apoyo material y diplomático de Estados Unidos, y que ambos estados realizan sistemáticamente acciones violentas al margen de las leyes internacionales. Esta última circunstancia ha motivado que Chomsky declare que según los criterios internacionales actuales, ambos estados ejercen el terrorismo. En concreto en su libro <i>11/09/2001</i>, afirma que los Estados Unidos es «uno de los principales estados terroristas» («<i>a leading terrorist state</i>»). Noam Chomsky lo publicó en diciembre del 2001, tres meses después de lo sucedido en Nueva York. Es un ensayo sobre los hechos y las consecuencias de los <a href=\"/wiki/Atentados_del_11_de_septiembre\" class=\"mw-redirect\" title=\"Atentados del 11 de septiembre\">atentados del 11 de septiembre</a>. Se basa en una estructura de siete largas entrevistas de periodistas extranjeros durante el primer mes y medio posterior a los ataques al <a href=\"/wiki/World_Trade_Center_(1973-2001)\" title=\"World Trade Center (1973-2001)\">World Trade Center</a> y al <a href=\"/wiki/Pent%C3%A1gono\" title=\"Pentágono\">Pentágono</a>. No analiza únicamente las causas, las consecuencias de los atentados y la reacción del pueblo estadounidense, sino que cuestiona las razones de la guerra y los bombardeos. En este libro Chomsky refleja de nuevo su visión crítica con el poder y la industria militar.\n",
              "</p><p>A raíz de estas denuncias, varios detractores de Chomsky lo han tildado de antiestadounidense. Algunos incluso han comprendido sus críticas como una supuesta obsesión antiestadounidense y antisionista. Para algunos nacionalistas, es especialmente controvertida su crítica a la política del gobierno de Israel, por su origen judío. También ha sido polémico su apoyo a la libertad de expresión en los que se conoce como el <a href=\"/wiki/Esc%C3%A1ndalo_Faurisson\" title=\"Escándalo Faurisson\">escándalo Faurisson</a>. En la década de 1970, <a href=\"/wiki/Robert_Faurisson\" title=\"Robert Faurisson\">Robert Faurisson</a> realizaría un estudio y escribiría un libro en el cual concluye que muchos de los acontecimientos del holocausto ( como las cámaras de gas) no existieron realmente. Chomsky firmaría una petición para garantizar a las autoridades la libertad de expresión, aclarando que él mismo no compartía el punto de vista <a href=\"/wiki/Negaci%C3%B3n_del_Holocausto\" class=\"mw-redirect\" title=\"Negación del Holocausto\">negacionista</a>, pero que no reconocía expresiones antisemitas en el trabajo de Faurisson. Chomsky califica al holocausto como <i>la peor muestra de locura colectiva en la historia de la humanidad</i>, pero considera fundamental garantizar la defensa de la <a href=\"/wiki/Libertad_de_expresi%C3%B3n\" title=\"Libertad de expresión\">libertad de expresión</a>, incluso para aquellas ideas popularmente mal vistas. Por último, destaca la crítica que hace de la izquierda <a href=\"/wiki/Posmoderna\" class=\"mw-redirect\" title=\"Posmoderna\">posmoderna</a> y de su entusiasmo por el <a href=\"/wiki/Relativismo_cultural\" title=\"Relativismo cultural\">relativismo cultural</a> que, al <i>deconstruir</i> la noción de verdad, ha invalidado también la posibilidad de la crítica.<sup>[<i><a href=\"/wiki/Wikipedia:Verificabilidad\" title=\"Wikipedia:Verificabilidad\">cita&#160;requerida</a></i>]</sup>\n",
              "</p><p>Chomsky ha pedido a EE.&#160;UU. y a <a href=\"/wiki/Canad%C3%A1\" title=\"Canadá\">Canadá</a> levantar sanciones económicas impuestas a <a href=\"/wiki/Venezuela\" title=\"Venezuela\">Venezuela</a>.<sup id=\"cite_ref-19\" class=\"reference separada\"><a href=\"#cite_note-19\"><span class=\"corchete-llamada\">[</span>19<span class=\"corchete-llamada\">]</span></a></sup>&#8203;\n",
              "</p><p>En cuanto a España, en 2009 firmó un manifiesto de apoyo a la candidatura a las elecciones europeas de la formación política <a href=\"/wiki/Izquierda_Anticapitalista\" class=\"mw-redirect\" title=\"Izquierda Anticapitalista\">Izquierda Anticapitalista</a>,<sup id=\"cite_ref-20\" class=\"reference separada\"><a href=\"#cite_note-20\"><span class=\"corchete-llamada\">[</span>20<span class=\"corchete-llamada\">]</span></a></sup>&#8203; y en 2014 en apoyo de la formación política <a href=\"/wiki/Podemos_(partido_pol%C3%ADtico)\" class=\"mw-redirect\" title=\"Podemos (partido político)\">Podemos</a>.<sup id=\"cite_ref-21\" class=\"reference separada\"><a href=\"#cite_note-21\"><span class=\"corchete-llamada\">[</span>21<span class=\"corchete-llamada\">]</span></a></sup>&#8203; En 2018, Chomsky, junto con más de 100 académicos de diecinueve países, pidió en una carta la \"puesta en libertad inmediata\" de los políticos catalanes encarcelados en España por participar en la declaración de <a href=\"/wiki/Independentismo_catal%C3%A1n\" title=\"Independentismo catalán\">independencia de Cataluña</a>.\n",
              "</p><p>Desde 2009 es miembro honorario de <a href=\"/wiki/AIPTI\" class=\"mw-redirect\" title=\"AIPTI\">AIPTI</a>.<sup id=\"cite_ref-22\" class=\"reference separada\"><a href=\"#cite_note-22\"><span class=\"corchete-llamada\">[</span>22<span class=\"corchete-llamada\">]</span></a></sup>&#8203;\n",
              "</p>\n",
              "<h2><span id=\"Antiglobalizaci.C3.B3n_econ.C3.B3mica_de_Chomsky\"></span><span class=\"mw-headline\" id=\"Antiglobalización_económica_de_Chomsky\">Antiglobalización económica de Chomsky</span><span class=\"mw-editsection\"><span class=\"mw-editsection-bracket\">[</span><a href=\"/w/index.php?title=Noam_Chomsky&amp;action=edit&amp;section=5\" title=\"Editar sección: Antiglobalización económica de Chomsky\">editar</a><span class=\"mw-editsection-bracket\">]</span></span></h2>\n",
              "<div class=\"thumb tright\"><div class=\"thumbinner\" style=\"width:222px;\"><a href=\"/wiki/Archivo:Noam_Chomsky,_Institute_Professor_and_Emeritus_Professor_of_Linguistics,_MIT_(14112575810).jpg\" class=\"image\"><img alt=\"\" src=\"//upload.wikimedia.org/wikipedia/commons/thumb/d/df/Noam_Chomsky%2C_Institute_Professor_and_Emeritus_Professor_of_Linguistics%2C_MIT_%2814112575810%29.jpg/220px-Noam_Chomsky%2C_Institute_Professor_and_Emeritus_Professor_of_Linguistics%2C_MIT_%2814112575810%29.jpg\" decoding=\"async\" width=\"220\" height=\"147\" class=\"thumbimage\" srcset=\"//upload.wikimedia.org/wikipedia/commons/thumb/d/df/Noam_Chomsky%2C_Institute_Professor_and_Emeritus_Professor_of_Linguistics%2C_MIT_%2814112575810%29.jpg/330px-Noam_Chomsky%2C_Institute_Professor_and_Emeritus_Professor_of_Linguistics%2C_MIT_%2814112575810%29.jpg 1.5x, //upload.wikimedia.org/wikipedia/commons/thumb/d/df/Noam_Chomsky%2C_Institute_Professor_and_Emeritus_Professor_of_Linguistics%2C_MIT_%2814112575810%29.jpg/440px-Noam_Chomsky%2C_Institute_Professor_and_Emeritus_Professor_of_Linguistics%2C_MIT_%2814112575810%29.jpg 2x\" data-file-width=\"3872\" data-file-height=\"2592\" /></a>  <div class=\"thumbcaption\"><div class=\"magnify\"><a href=\"/wiki/Archivo:Noam_Chomsky,_Institute_Professor_and_Emeritus_Professor_of_Linguistics,_MIT_(14112575810).jpg\" class=\"internal\" title=\"Aumentar\"></a></div>Chomsky en 2014</div></div></div>\n",
              "<p>Chomsky es uno de los detractores de la <a href=\"/wiki/Globalizaci%C3%B3n\" title=\"Globalización\">globalización</a>, y esto se debe a su forma de entender la hegemonía del <a href=\"/wiki/Capitalismo\" title=\"Capitalismo\">capitalismo</a> moderno. Para Chomsky, Estados Unidos no cree en el <a href=\"/wiki/Libre_comercio\" class=\"mw-redirect\" title=\"Libre comercio\">libre comercio</a>, sino que lo utiliza como un método mediante el cual los países más fuertes imponen a los países pobres la obligación de cumplir unas normas coercitivas y rígidas (la <a href=\"/wiki/Ley_del_embudo\" title=\"Ley del embudo\">ley del embudo</a>).\n",
              "</p><p>El objetivo básico de la globalización económica es globalizar toda la economía mundial, y Estados Unidos controlaría la economía mundial con el apoyo de los organismos satélites (<a href=\"/wiki/Fondo_Monetario_Internacional\" title=\"Fondo Monetario Internacional\">Fondo Monetario Internacional</a>, <a href=\"/wiki/Banco_Mundial\" title=\"Banco Mundial\">Banco Mundial</a>, <a href=\"/wiki/Organizaci%C3%B3n_Mundial_del_Comercio\" title=\"Organización Mundial del Comercio\">Organización Mundial del Comercio</a>). El argumento habitual a favor del libre comercio liberalizado es que conducirá a un aumento generalizado de los niveles de vida. La experiencia ha demostrado que con la apertura de los mercados comerciales y financieros los inversores y empresarios han ganado mucho más dinero, pero gran parte de los países más pobres han sido las víctimas de un descenso pronunciado de sus niveles de vida.\n",
              "</p><p>Según precisa Noam Chomsky:\n",
              "<style data-mw-deduplicate=\"TemplateStyles:r144106912\">.mw-parser-output .flexquote{display:flex;flex-direction:column;background-color:#F9F9F9;border-left:3px solid #c8ccd1;font-size:90%;margin:1em 4em;padding:.4em .8em}.mw-parser-output .flexquote>.flex{display:flex;flex-direction:row}.mw-parser-output .flexquote>.flex>.quote{width:100%}.mw-parser-output .flexquote>.flex>.separator{border-left:1px solid #c8ccd1;border-top:1px solid #c8ccd1;margin:.4em .8em}.mw-parser-output .flexquote>.cite{text-align:right}@media all and (max-width:600px){.mw-parser-output .flexquote>.flex{flex-direction:column}}</style>\n",
              "</p>\n",
              "<blockquote class=\"flexquote\">\n",
              " <div class=\"flex\">\n",
              "  <div class=\"quote\">Para la mayor parte de la población, incluso en un país tan rico como EE.&#160;UU., los sueldos se han estancado o han descendido a lo largo de los últimos 25 años, mientras que el horario y la inseguridad laboral han crecido mucho [...] La economía mundial ha descendido en el mismo periodo de tiempo (de forma considerable) [...] para una gran parte de la población mundial, las condiciones son horrorosas y a menudo se deterioran, y, lo que es más importante,[...] la correlación entre el crecimiento económico y el bienestar social que a menudo se ha dado (por ejemplo, durante la posguerra o la preliberalización) se ha truncado.<sup id=\"cite_ref-23\" class=\"reference separada\"><a href=\"#cite_note-23\"><span class=\"corchete-llamada\">[</span>23<span class=\"corchete-llamada\">]</span></a></sup>&#8203;</div>\n",
              " </div>\n",
              "</blockquote>\n",
              "<p>Sus afirmaciones políticas le han concitado un gran número de simpatizantes, en amplios sectores de la <a href=\"/wiki/Izquierda_pol%C3%ADtica\" title=\"Izquierda política\">izquierda</a>, especialmente europea y <a href=\"/wiki/Latinoamerica\" class=\"mw-redirect\" title=\"Latinoamerica\">latinoamericana</a>, y también algunos detractores. Su libro <i>11 de septiembre</i> (<i>9/11</i>) tuvo una gran difusión, pese a haber sido publicado por una pequeña editorial. Solo la edición de este libro en inglés vendió centenares de miles ejemplares, y ha sido traducido a varias lenguas. Posteriormente, su libro <i>Hegemonía o supervivencia: la búsqueda estadounidense del dominio global</i> fue recomendado por el presidente de Venezuela <a href=\"/wiki/Hugo_Ch%C3%A1vez\" title=\"Hugo Chávez\">Hugo Chávez</a> en su discurso frente a la asamblea general de la <a href=\"/wiki/ONU\" class=\"mw-redirect\" title=\"ONU\">ONU</a> el día 20 de septiembre de 2006, lo que ocasionó que dicho libro, en aproximadamente dos días, pasase del puesto 160.772, al número 2 de los libros más vendidos en <a href=\"/wiki/Amazon.com\" class=\"mw-redirect\" title=\"Amazon.com\">Amazon</a>..\n",
              "</p>\n",
              "<h3><span id=\"Perspectiva_sobre_el_ate.C3.ADsmo.2C_la_ciencia_y_la_religi.C3.B3n\"></span><span class=\"mw-headline\" id=\"Perspectiva_sobre_el_ateísmo,_la_ciencia_y_la_religión\">Perspectiva sobre el ateísmo, la ciencia y la religión</span><span class=\"mw-editsection\"><span class=\"mw-editsection-bracket\">[</span><a href=\"/w/index.php?title=Noam_Chomsky&amp;action=edit&amp;section=6\" title=\"Editar sección: Perspectiva sobre el ateísmo, la ciencia y la religión\">editar</a><span class=\"mw-editsection-bracket\">]</span></span></h3>\n",
              "<p>En diversas ocasiones se le ha preguntado a Chomsky si tiene una <a href=\"/wiki/Religi%C3%B3n\" title=\"Religión\">postura religiosa</a> o es <a href=\"/wiki/Ateo\" class=\"mw-redirect\" title=\"Ateo\">ateo</a>, a lo cual él respondió en una ocasión:\n",
              "</p>\n",
              "<link rel=\"mw-deduplicated-inline-style\" href=\"mw-data:TemplateStyles:r144106912\"/>\n",
              "<blockquote class=\"flexquote\">\n",
              " <div class=\"flex\">\n",
              "  <div class=\"quote\">Soy lo que aquí se llama un «ateo secular», excepto que ni siquiera puedo decir que soy un «ateo» porque no está del todo claro lo que se me pide negar.<sup id=\"cite_ref-edge.org_24-0\" class=\"reference separada\"><a href=\"#cite_note-edge.org-24\"><span class=\"corchete-llamada\">[</span>24<span class=\"corchete-llamada\">]</span></a></sup>&#8203;</div>\n",
              " </div>\n",
              "</blockquote>\n",
              "<p>En una discusión con <a href=\"/wiki/Lawrence_Krauss\" class=\"mw-redirect\" title=\"Lawrence Krauss\">Lawrence Krauss</a> y <a href=\"https://en.wikipedia.org/wiki/Sean_M._Carroll\" class=\"extiw\" title=\"w:Sean M. Carroll\">Sean M. Carroll</a> en 2006, Chomsky dio una respuesta similar:\n",
              "<link rel=\"mw-deduplicated-inline-style\" href=\"mw-data:TemplateStyles:r144106912\"/>\n",
              "</p>\n",
              "<blockquote class=\"flexquote\">\n",
              " <div class=\"flex\">\n",
              "  <div class=\"quote\">De hecho, yo ni siquiera sé lo que es un ateo. Cuando la gente me pregunta si soy ateo, tengo que preguntarles a qué se refieren. ¿Qué es lo que se supone que no tengo que creer? Hasta que no puedas responder a esa pregunta, no puedo decir si soy ateo, y la cuestión no se plantea. [...] No veo cómo uno puede ser un <a href=\"/wiki/Agn%C3%B3stico\" class=\"mw-redirect\" title=\"Agnóstico\">agnóstico</a> cuando uno no sabe qué es lo que se supone que uno cree, o rechaza [creer]».</div>\n",
              " </div><div class=\"cite\">Chomsky (2006), <i>Science in the Dock</i><sup id=\"cite_ref-25\" class=\"reference separada\"><a href=\"#cite_note-25\"><span class=\"corchete-llamada\">[</span>25<span class=\"corchete-llamada\">]</span></a></sup>&#8203;</div>\n",
              "</blockquote>\n",
              "<p>Noam Chomsky ha reconocido los límites de la <a href=\"/wiki/Raz%C3%B3n\" title=\"Razón\">razón humana</a>,<sup id=\"cite_ref-26\" class=\"reference separada\"><a href=\"#cite_note-26\"><span class=\"corchete-llamada\">[</span>26<span class=\"corchete-llamada\">]</span></a></sup>&#8203; y claramente ha rechazado el <a href=\"/wiki/Cientificismo\" title=\"Cientificismo\">cientificismo</a> (la idea de que la ciencia lo puede explicar todo):\n",
              "<link rel=\"mw-deduplicated-inline-style\" href=\"mw-data:TemplateStyles:r144106912\"/>\n",
              "</p>\n",
              "<blockquote class=\"flexquote\">\n",
              " <div class=\"flex\">\n",
              "  <div class=\"quote\">En los problemas comunes de la vida humana, la ciencia nos dice muy poco, y los científicos, como personas, sin duda no son ninguna guía. De hecho, son a menudo la peor guía, ya que a menudo tienden a concentrarse, como un <a href=\"/wiki/L%C3%A1ser\" title=\"Láser\">láser</a>, en sus propios intereses profesionales, y saben muy poco sobre el mundo.</div>\n",
              " </div><div class=\"cite\"><small>The Reality Club: Beyond Belief</small><sup id=\"cite_ref-edge.org_24-1\" class=\"reference separada\"><a href=\"#cite_note-edge.org-24\"><span class=\"corchete-llamada\">[</span>24<span class=\"corchete-llamada\">]</span></a></sup>&#8203;</div>\n",
              "</blockquote>\n",
              "<link rel=\"mw-deduplicated-inline-style\" href=\"mw-data:TemplateStyles:r144106912\"/>\n",
              "<blockquote class=\"flexquote\">\n",
              " <div class=\"flex\">\n",
              "  <div class=\"quote\">La ciencia estudia lo que está al margen de la comprensión, y lo que al margen de la comprensión suele ser bastante simple. Y rara vez llega a los asuntos humanos. Los asuntos humanos son demasiado complicados [...] así que las ciencias reales nos dicen casi nada sobre los asuntos humanos.</div>\n",
              " </div><div class=\"cite\"><small>Science in the Dock (2006)<sup id=\"cite_ref-27\" class=\"reference separada\"><a href=\"#cite_note-27\"><span class=\"corchete-llamada\">[</span>27<span class=\"corchete-llamada\">]</span></a></sup>&#8203;</small></div>\n",
              "</blockquote>\n",
              "<p>Por otra parte, Chomsky ha dejado claro que su postura no es <a href=\"/wiki/Antirreligi%C3%B3n\" title=\"Antirreligión\">antirreligiosa</a>, pues como analista social, al igual que muchos otros autores, ha reconocido que hay una diferenciación radical entre el <a href=\"/wiki/Evangelios\" class=\"mw-redirect\" title=\"Evangelios\">cristianismo de los evangelios</a> en contraste con el de la mayor parte de los gobiernos y organizaciones religiosas:\n",
              "<link rel=\"mw-deduplicated-inline-style\" href=\"mw-data:TemplateStyles:r144106912\"/>\n",
              "</p>\n",
              "<blockquote class=\"flexquote\">\n",
              " <div class=\"flex\">\n",
              "  <div class=\"quote\">Hay una <a href=\"/wiki/Historia_del_cristianismo\" title=\"Historia del cristianismo\">historia del cristianismo</a>; los tres primeros siglos del <a href=\"/wiki/Cristianismo\" title=\"Cristianismo\">cristianismo</a>: era una religión <a href=\"/wiki/Pacifista\" class=\"mw-redirect\" title=\"Pacifista\">pacifista</a> <a href=\"/wiki/Radicalismo\" title=\"Radicalismo\">radical</a>, razón por la cual fue <a href=\"/w/index.php?title=Persecusi%C3%B3n_religiosa&amp;action=edit&amp;redlink=1\" class=\"new\" title=\"Persecusión religiosa (aún no redactado)\">perseguida</a>: era la <a href=\"/wiki/Religi%C3%B3n\" title=\"Religión\">religión</a> de los <a href=\"/wiki/Pobreza\" title=\"Pobreza\">pobres</a> y los que sufrían; <a href=\"/wiki/Jes%C3%BAs\" class=\"mw-redirect\" title=\"Jesús\">Jesús</a> era el símbolo de los <a href=\"/wiki/Pobreza\" title=\"Pobreza\">pobres</a> y los que sufrían, y ahí está la encrucijada. En el siglo IV fue tomada por el <a href=\"/wiki/Imperio_romano\" title=\"Imperio romano\">Imperio romano</a>... que convirtió a la <a href=\"/wiki/Iglesia_(organizaci%C3%B3n)\" title=\"Iglesia (organización)\">Iglesia</a> en la religión de los persecutores.</div>\n",
              " </div><div class=\"cite\">Chomsky (2010)<sup id=\"cite_ref-youtube.com_28-0\" class=\"reference separada\"><a href=\"#cite_note-youtube.com-28\"><span class=\"corchete-llamada\">[</span>28<span class=\"corchete-llamada\">]</span></a></sup>&#8203;</div>\n",
              "</blockquote>\n",
              "<link rel=\"mw-deduplicated-inline-style\" href=\"mw-data:TemplateStyles:r144106912\"/>\n",
              "<blockquote class=\"flexquote\">\n",
              " <div class=\"flex\">\n",
              "  <div class=\"quote\">Jesús mismo, y la mayor parte del mensaje de los <a href=\"/wiki/Evangelios\" class=\"mw-redirect\" title=\"Evangelios\">Evangelios</a>, es un mensaje de servicio a los <a href=\"/wiki/Pobreza\" title=\"Pobreza\">pobres</a>, una crítica de los ricos y los poderosos, y una doctrina <a href=\"/wiki/Paz\" title=\"Paz\">pacifista</a>, y se mantuvo así, así es como el cristianismo estaba... hasta <a href=\"/wiki/Constantino_I\" title=\"Constantino I\">Constantino I</a>: Constantino lo cambió, así que la <a href=\"/wiki/Cruz\" title=\"Cruz\">cruz</a>, que era el símbolo de la persecución de alguien que trabaja para los pobres, se puso en el escudo del <a href=\"/wiki/Imperio_romano\" title=\"Imperio romano\">Imperio romano</a>. Se convirtió en el símbolo de la violencia y la opresión, que es más o menos lo que la Iglesia ha sido hasta el presente.</div>\n",
              " </div><div class=\"cite\"><small><a rel=\"nofollow\" class=\"external text\" href=\"http://www.chomsky.info/debates/20060301.htm\">Science &amp; Technology News, marzo 1, 2006</a></small></div>\n",
              "</blockquote>\n",
              "<p>Además, ha hablado favorablemente de la <a href=\"/wiki/Teolog%C3%ADa_de_la_liberaci%C3%B3n\" title=\"Teología de la liberación\">teología de la liberación</a><sup id=\"cite_ref-youtube.com_28-1\" class=\"reference separada\"><a href=\"#cite_note-youtube.com-28\"><span class=\"corchete-llamada\">[</span>28<span class=\"corchete-llamada\">]</span></a></sup>&#8203; y ha reconocido la labor de movimientos que han tratado de restaurar y rescatar los principios del <a href=\"/wiki/Cristianismo_primitivo\" title=\"Cristianismo primitivo\">cristianismo primitivo</a>:\n",
              "<link rel=\"mw-deduplicated-inline-style\" href=\"mw-data:TemplateStyles:r144106912\"/>\n",
              "</p>\n",
              "<blockquote class=\"flexquote\">\n",
              " <div class=\"flex\">\n",
              "  <div class=\"quote\">De hecho, es bastante notable en los últimos años, que elementos de la Iglesia, en particular obispos latinoamericanos, pero no sólo ellos, han tratado de volver a los Evangelios.</div>\n",
              " </div><div class=\"cite\"><sup id=\"cite_ref-29\" class=\"reference separada\"><a href=\"#cite_note-29\"><span class=\"corchete-llamada\">[</span>29<span class=\"corchete-llamada\">]</span></a></sup>&#8203;</div>\n",
              "</blockquote>\n",
              "<h2><span class=\"mw-headline\" id=\"Libros_publicados\">Libros publicados</span><span class=\"mw-editsection\"><span class=\"mw-editsection-bracket\">[</span><a href=\"/w/index.php?title=Noam_Chomsky&amp;action=edit&amp;section=7\" title=\"Editar sección: Libros publicados\">editar</a><span class=\"mw-editsection-bracket\">]</span></span></h2>\n",
              "<h3><span id=\"Ling.C3.BC.C3.ADstica\"></span><span class=\"mw-headline\" id=\"Lingüística\">Lingüística</span><span class=\"mw-editsection\"><span class=\"mw-editsection-bracket\">[</span><a href=\"/w/index.php?title=Noam_Chomsky&amp;action=edit&amp;section=8\" title=\"Editar sección: Lingüística\">editar</a><span class=\"mw-editsection-bracket\">]</span></span></h3>\n",
              "<ul><li>1955: <i>Logical Structure of Linguistic Theory</i> (es su tesis doctoral, inédita hasta 1975).</li>\n",
              "<li>1957: <i>Syntactic Structures</i> (<i>Estructuras sintácticas</i>, Buenos Aires, Siglo XXI, 1999).</li>\n",
              "<li>1965: <i>Aspects of the Theory of Syntax</i> (<i>Aspectos de la teoría de la sintaxis</i>, Barcelona, Gedisa, 1999).</li>\n",
              "<li>1965: <i>Cartesian Linguistics</i> (<i>Lingüística cartesiana</i>, Madrid, Gredos, 1972).</li>\n",
              "<li>1968: <i>Language and Mind</i> (<i>El lenguaje y el entendimiento</i>, Barcelona, Seix-Barral, 1977).</li>\n",
              "<li>1968: <i>Sound Pattern of English</i> (con Morris Halle).</li>\n",
              "<li>1970: <i>Current Issues in Linguistic Theory</i>.</li>\n",
              "<li>1972: <i>Studies in Semantics in Generative Grammar</i>.</li>\n",
              "<li>1975: <i>Reflections on Language</i> (<i>Reflexiones sobre el lenguaje</i>, Barcelona, Ariel, 1979).</li>\n",
              "<li>1977: <i>Langue, linguistique, politique: dialogues avec Mitsou Ronat</i> (<i>Conversaciones con Noam Chomsky</i>, Barcelona, Gedisa, 1999). Presentación ordenada temática y cronológicamente de las ideas científicas y políticas de Chomsky.</li>\n",
              "<li>1977: <i>Essays on Form and Interpretation</i> (<i>Ensayos sobre forma e interpretación</i>, Madrid, Cátedra, 1982).</li>\n",
              "<li>1980: <i>Rules and Representations</i> (<i>Reglas y representaciones</i>, México, <a href=\"/wiki/Fondo_de_Cultura_Econ%C3%B3mica\" title=\"Fondo de Cultura Económica\">FCE</a>, 1983).</li>\n",
              "<li>1981: <i>Lectures on Government and Binding: The Pisa Lectures</i>.</li>\n",
              "<li>1984: <i>Modular Approaches to the Study of Mind</i>.</li>\n",
              "<li>1986: <i>Barriers</i> (<i>Barreras</i>, Barcelona, Paidós, 1990).</li>\n",
              "<li>1986: <i>Knowledge of Language: Its Nature, Origin, and Use</i>. (<i>El conocimiento del lenguaje, su naturaleza, origen y uso</i>, Madrid, Alianza, 1989).</li>\n",
              "<li>1995: <i>The Minimalist Program</i> (<i>El programa minimalista</i>, Madrid, Alianza, 1999).</li></ul>\n",
              "<h3><span id=\"Pol.C3.ADtica\"></span><span class=\"mw-headline\" id=\"Política\">Política</span><span class=\"mw-editsection\"><span class=\"mw-editsection-bracket\">[</span><a href=\"/w/index.php?title=Noam_Chomsky&amp;action=edit&amp;section=9\" title=\"Editar sección: Política\">editar</a><span class=\"mw-editsection-bracket\">]</span></span></h3>\n",
              "<ul><li>1969: <i>American Power and the New Mandarins</i> (New York, Vintage Books-Random House. Segunda edición revisada: New York, New Press, 2002).</li>\n",
              "<li>1970: <i><a href=\"/wiki/El_Gobierno_en_el_Futuro\" class=\"mw-redirect\" title=\"El Gobierno en el Futuro\">El Gobierno en el Futuro</a></i>.</li>\n",
              "<li>1984: <i>La segunda guerra fría</i> (Barcelona, Crítica, 1984).</li>\n",
              "<li>1988: <i>La quinta libertad</i> (Barcelona, Crítica, 1988).</li>\n",
              "<li>1987: <i>On Power and Ideology. The Managua Lectures</i>.</li>\n",
              "<li>1990: <i><a href=\"/wiki/Los_guardianes_de_la_libertad\" title=\"Los guardianes de la libertad\">Los guardianes de la libertad</a></i> (Noam Chomsky; Edward S. Herman, Barcelona, Crítica, 1990, 1995, 2000).</li>\n",
              "<li>1992: <i>La conquista continúa: 500 años de genocidio imperialista</i> (28020 Madrid 1992 / (C) Terramar Ediciones. Plaza Italia 187. 1900 La Plata, Argentina. Nov. 2007).</li>\n",
              "<li>1992: <i>El miedo a la democracia</i> (Barcelona, Crítica, 1992, 1997, 2001).</li>\n",
              "<li>1992: <i>Ilusiones necesarias.Control del pensamiento en las sociedades democráticas</i> ((C) Libertarias/Prodbufi, S.A. C. Lérida, 80-82, 28020 Madrid, Tetuán, 1992).</li>\n",
              "<li>1995: <i>Cómo nos venden la moto</i> (Noam Chomsky e <a href=\"/wiki/Ignacio_Ramonet\" title=\"Ignacio Ramonet\">Ignacio Ramonet</a>, Barcelona, Icaria, 1995).</li>\n",
              "<li>1996: <i>Cómo se reparte la tarta. Políticas USA al final del milenio</i> (Barcelona, Icaria, 1996).</li>\n",
              "<li>1997: <i>La Aldea Global</i> (Noam Chomsky y <a href=\"/wiki/Heinz_Dieterich\" class=\"mw-redirect\" title=\"Heinz Dieterich\">Heinz Dieterich</a>, Nafarroa, Txalaparta, 1997).</li>\n",
              "<li>1997: <i>Lucha de clases</i> (Barcelona, Crítica, 1997).</li>\n",
              "<li>1997: <i>El nuevo Orden mundial (y el viejo)</i> (Barcelona, Crítica, 1997, 2002).</li>\n",
              "<li>2000: <i>Actos de agresión</i> (Barcelona, Crítica, 2000).</li>\n",
              "<li>2000: <i>El beneficio es lo que cuenta</i> (Barcelona, Crítica, 2000).</li>\n",
              "<li>2001: <i>Perspectivas sobre el poder</i> (Barcelona, El Roure Ciencia, 2001).</li>\n",
              "<li>2001: <i>La (Des)Educación</i> (Barcelona, Crítica, 2001).</li>\n",
              "<li>2002: <i>11/09/2001</i> (Barcelona, RBA, 2002).</li>\n",
              "<li>2002: <i>La Propaganda y la opinión pública</i> (Barcelona, Crítica, 2002).</li>\n",
              "<li>2003: <i>El triángulo fatal</i> (Madrid, Editorial Popular, 2003).</li>\n",
              "<li>2003: <i>Lucha de clases</i> (Barcelona, Editorial Crítica, 2003).</li>\n",
              "<li>2003: <i>La cultura del terrorismo</i> (Madrid, Editorial Popular, 2003).</li>\n",
              "<li>2004: <i>Ilusiones de Oriente Medio</i> (Madrid, Editorial Popular, 2004).</li>\n",
              "<li>2004: <i>Piratas y emperadores</i> (Madrid, Ediciones B, 2004).</li>\n",
              "<li>2005: <i>Hegemonía o supervivencia. La estrategia imperialista de EEUU</i> (Barcelona, Ediciones B, 2005).</li>\n",
              "<li>2006: <i>La naturaleza humana: justicia versus poder</i>, debate con <a href=\"/wiki/Michel_Foucault\" title=\"Michel Foucault\">Michel Foucault</a> (Buenos Aires y Madrid, Katz Barpal Editores, 2006, <a href=\"/wiki/Especial:FuentesDeLibros/8493518727\" class=\"internal mw-magiclink-isbn\">ISBN 84-935187-2-7</a>).</li>\n",
              "<li>2007: <i>Estados fallidos. El abuso de poder y el ataque a la democracia</i> (Barcelona, Ediciones B, 2007).</li>\n",
              "<li>2008: <i>Intervenciones</i> (Haymarket Books, 2008).</li>\n",
              "<li>2008: <i>Sobre el anarquismo</i> (Editorial Laetoli, 2008).</li>\n",
              "<li>2008: <i>Líbano, desde dentro</i> (Barcelona, Editorial Hacer, 2008).</li>\n",
              "<li>2010: <i>Esperanzas y realidades</i> (Barcelona, Tendencias, 2010).</li>\n",
              "<li>2011: <i>Gaza en crisis. Reflexiones sobre la guerra de Israel contra los palestinos</i> (con <a href=\"/wiki/Ilan_Papp%C3%A9\" title=\"Ilan Pappé\">Ilan Pappé</a>) (Madrid, Taurus, 2011).</li>\n",
              "<li>2012: <i><a href=\"/w/index.php?title=Ilusionistas&amp;action=edit&amp;redlink=1\" class=\"new\" title=\"Ilusionistas (aún no redactado)\">Ilusionistas</a></i>. (Madrid, Irreverentes, 2012, <a href=\"/wiki/Especial:FuentesDeLibros/9788415353461\" class=\"internal mw-magiclink-isbn\">ISBN 978-84-15353-46-1</a>).</li>\n",
              "<li>2013: <i>Razones para la anarquía</i> (Barcelona, Editorial Malpaso, 2013, <a href=\"/wiki/Especial:FuentesDeLibros/9788415996477\" class=\"internal mw-magiclink-isbn\">ISBN 978-84-15996-47-7</a>).</li>\n",
              "<li>2016: <i><a href=\"/w/index.php?title=%C2%BFQui%C3%A9n_domina_el_mundo%3F&amp;action=edit&amp;redlink=1\" class=\"new\" title=\"¿Quién domina el mundo? (aún no redactado)\">¿Quién domina el mundo?</a></i> (Barcelona, Ediciones B, 2016, <a href=\"/wiki/Especial:FuentesDeLibros/9788466659888\" class=\"internal mw-magiclink-isbn\">ISBN 978-84-666-5988-8</a>).</li>\n",
              "<li>2017: <i><a href=\"/w/index.php?title=R%C3%A9quiem_por_el_sue%C3%B1o_americano&amp;action=edit&amp;redlink=1\" class=\"new\" title=\"Réquiem por el sueño americano (aún no redactado)\">Réquiem por el sueño americano</a></i> (Madrid, Editorial Sexto Piso, 2017, <a href=\"/wiki/Especial:FuentesDeLibros/9788416677504\" class=\"internal mw-magiclink-isbn\">ISBN 978-84-16677-50-4</a>).</li>\n",
              "<li>2018: <i>Malestar global. Conversaciones con David Barsamian sobre las crecientes amenazas a la democracia</i> (Madrid, Sexto Piso, 2018, <a href=\"/wiki/Especial:FuentesDeLibros/9788416677900\" class=\"internal mw-magiclink-isbn\">ISBN 978-84-16677-90-0</a>).</li></ul>\n",
              "<h2><span id=\"V.C3.A9ase_tambi.C3.A9n\"></span><span class=\"mw-headline\" id=\"Véase_también\">Véase también</span><span class=\"mw-editsection\"><span class=\"mw-editsection-bracket\">[</span><a href=\"/w/index.php?title=Noam_Chomsky&amp;action=edit&amp;section=10\" title=\"Editar sección: Véase también\">editar</a><span class=\"mw-editsection-bracket\">]</span></span></h2>\n",
              "<div class=\"columns\" style=\"-moz-column-count:2; -webkit-column-count:2; column-count:2;\">\n",
              "<ul><li><a href=\"/wiki/Attac\" title=\"Attac\">Attac</a></li>\n",
              "<li><a href=\"/wiki/Jerarqu%C3%ADa_de_Chomsky\" title=\"Jerarquía de Chomsky\">Jerarquía de Chomsky</a></li>\n",
              "<li><a href=\"/wiki/Gram%C3%A1tica_transformacional\" class=\"mw-redirect\" title=\"Gramática transformacional\">Gramática transformacional</a></li>\n",
              "<li><a href=\"/wiki/Problema_de_Orwell\" title=\"Problema de Orwell\">Problema de Orwell</a></li>\n",
              "<li><a href=\"/wiki/Esc%C3%A1ndalo_Faurisson\" title=\"Escándalo Faurisson\">Escándalo Faurisson</a></li>\n",
              "<li><a href=\"/wiki/Modelo_de_Propaganda_de_los_medios_de_comunicaci%C3%B3n\" class=\"mw-redirect\" title=\"Modelo de Propaganda de los medios de comunicación\">Modelo de Propaganda de los medios de comunicación</a></li>\n",
              "<li><a href=\"/wiki/Consenso_manufacturado\" title=\"Consenso manufacturado\">Consenso manufacturado</a></li>\n",
              "<li><a href=\"/wiki/Anarquismo_en_Estados_Unidos\" title=\"Anarquismo en Estados Unidos\">Anarquismo en Estados Unidos</a></li>\n",
              "<li><a href=\"/wiki/Colorless_green_ideas_sleep_furiously\" title=\"Colorless green ideas sleep furiously\">Colorless green ideas sleep furiously</a></li></ul>\n",
              "</div>\n",
              "<h2><span class=\"mw-headline\" id=\"Notas\">Notas</span><span class=\"mw-editsection\"><span class=\"mw-editsection-bracket\">[</span><a href=\"/w/index.php?title=Noam_Chomsky&amp;action=edit&amp;section=11\" title=\"Editar sección: Notas\">editar</a><span class=\"mw-editsection-bracket\">]</span></span></h2>\n",
              "<div class=\"listaref\" style=\"-moz-column-count:2; -webkit-column-count:2; column-count:2; list-style-type: decimal;\"><ol class=\"references\">\n",
              "<li id=\"cite_note-Letters_to_the_Editor_in_&#39;&#39;Journal_of_Palestine_Studies&#39;&#39;-1\"><span class=\"mw-cite-backlink\"><a href=\"#cite_ref-Letters_to_the_Editor_in_&#39;&#39;Journal_of_Palestine_Studies&#39;&#39;_1-0\">↑</a></span> <span class=\"reference-text\">Kanan Makiya, Fouad Moughrabi, Adel Safty, Rex Brynen, <a rel=\"nofollow\" class=\"external text\" href=\"http://links.jstor.org/sici?sici=0377-919X(199422)23%3A4%3C196%3AL%3E2.0.CO%3B2-3\">\"Letters to the Editor\" in <i>Journal of Palestine Studies,</i></a> <i>Journal of Palestine Studies</i> via <a href=\"/wiki/JSTOR\" title=\"JSTOR\">JSTOR</a> (Vol. 23, No. 4, verano de 1994, pp. 196–200), visto 4 de diciembre de 2007. Relevant quotation: \"On page 146 of my book, I clearly adopt <i>the propaganda model developed by Noam Chomsky</i> and Edward Herman...\"</span>\n",
              "</li>\n",
              "<li id=\"cite_note-chomskylibertariansocialist-2\"><span class=\"mw-cite-backlink\"><a href=\"#cite_ref-chomskylibertariansocialist_2-0\">↑</a></span> <span class=\"reference-text\"><span id=\"CITAREFEdgley,_Alison1999\" class=\"citation web\">Edgley, Alison (1999). <a rel=\"nofollow\" class=\"external text\" href=\"https://web.archive.org/web/20090627155151/http://www.chomsky.info/onchomsky/1999----.pdf\">«Chomsky's Libertarian Socialism»</a> <span style=\"color:#555;\">(en inglés)</span>. Archivado desde <a rel=\"nofollow\" class=\"external text\" href=\"http://www.chomsky.info/onchomsky/1999----.pdf\">el original</a> el 27 de junio de 2009.</span><span title=\"ctx_ver=Z39.88-2004&amp;rfr_id=info%3Asid%2Fes.wikipedia.org%3ANoam+Chomsky&amp;rft.au=Edgley%2C+Alison&amp;rft.aulast=Edgley%2C+Alison&amp;rft.btitle=Chomsky%27s+Libertarian+Socialism&amp;rft.date=1999&amp;rft.genre=book&amp;rft_id=http%3A%2F%2Fwww.chomsky.info%2Fonchomsky%2F1999----.pdf&amp;rft_val_fmt=info%3Aofi%2Ffmt%3Akev%3Amtx%3Abook\" class=\"Z3988\"><span style=\"display:none;\">&#160;</span></span></span>\n",
              "</li>\n",
              "<li id=\"cite_note-3\"><span class=\"mw-cite-backlink\"><a href=\"#cite_ref-3\">↑</a></span> <span class=\"reference-text\"><i><a rel=\"nofollow\" class=\"external text\" href=\"http://select.nytimes.com/gst/abstract.html?res=F50B1EFE3B5511728DDDAC0A94DA405B898BF1D3&amp;scp=1&amp;sq=arguably%20the%20most%20important%20intellectual%20alive&amp;st=cse\">The Chomsky Problem</a></i> (en inglés). The New York Times (25-2-1979).</span>\n",
              "</li>\n",
              "<li id=\"cite_note-chomskycitado-4\"><span class=\"mw-cite-backlink\"><a href=\"#cite_ref-chomskycitado_4-0\">↑</a></span> <span class=\"reference-text\"><span id=\"CITAREFSáenzDiciembre_de_2006\" class=\"citation publicación\">Sáenz, Mauricio (Diciembre de 2006). <a rel=\"nofollow\" class=\"external text\" href=\"http://books.google.es/books?id=-2UEAAAAMBAJ&amp;lpg=PP1&amp;pg=PT34#v=onepage&amp;q&amp;f=false\">«Noam Chomsky»</a>. <i>Arcadia</i> (15)<span class=\"reference-accessdate\">. Consultado el 13 de junio de 2011</span>.</span><span title=\"ctx_ver=Z39.88-2004&amp;rfr_id=info%3Asid%2Fes.wikipedia.org%3ANoam+Chomsky&amp;rft.atitle=Noam+Chomsky&amp;rft.au=S%C3%A1enz%2C+Mauricio&amp;rft.aufirst=Mauricio&amp;rft.aulast=S%C3%A1enz&amp;rft.date=Diciembre+de+2006&amp;rft.genre=article&amp;rft.issue=15&amp;rft.jtitle=Arcadia&amp;rft_id=http%3A%2F%2Fbooks.google.es%2Fbooks%3Fid%3D-2UEAAAAMBAJ%26lpg%3DPP1%26pg%3DPT34%23v%3Donepage%26q%26f%3Dfalse&amp;rft_val_fmt=info%3Aofi%2Ffmt%3Akev%3Amtx%3Ajournal\" class=\"Z3988\"><span style=\"display:none;\">&#160;</span></span>, citando a <span id=\"CITAREFBarsky2005\" class=\"citation libro\">Barsky, Robert F (2005). <i>Noam Chomsky, una vida de discrepancia</i>. Península. <small><a href=\"/wiki/ISBN\" title=\"ISBN\">ISBN</a>&#160;<a href=\"/wiki/Especial:FuentesDeLibros/9788483076767\" title=\"Especial:FuentesDeLibros/9788483076767\">9788483076767</a></small>.</span><span title=\"ctx_ver=Z39.88-2004&amp;rfr_id=info%3Asid%2Fes.wikipedia.org%3ANoam+Chomsky&amp;rft.au=Barsky%2C+Robert+F&amp;rft.aufirst=Robert+F&amp;rft.aulast=Barsky&amp;rft.btitle=Noam+Chomsky%2C+una+vida+de+discrepancia&amp;rft.date=2005&amp;rft.genre=book&amp;rft.isbn=9788483076767&amp;rft.pub=Pen%C3%ADnsula&amp;rft_val_fmt=info%3Aofi%2Ffmt%3Akev%3Amtx%3Abook\" class=\"Z3988\"><span style=\"display:none;\">&#160;</span></span></span>\n",
              "</li>\n",
              "<li id=\"cite_note-chomskyindex-5\"><span class=\"mw-cite-backlink\"><a href=\"#cite_ref-chomskyindex_5-0\">↑</a></span> <span class=\"reference-text\"><span class=\"citation publicación\"><a rel=\"nofollow\" class=\"external text\" href=\"https://news.mit.edu/1992/citation-0415\"><i>Noam Chomsky</i></a>. 15 de abril de 1992<span class=\"reference-accessdate\">. Consultado el 26 de octubre de 2022</span>.</span><span title=\"ctx_ver=Z39.88-2004&amp;rfr_id=info%3Asid%2Fes.wikipedia.org%3ANoam+Chomsky&amp;rft.btitle=Noam+Chomsky&amp;rft.date=15+de+Abril+de+1992&amp;rft.genre=book&amp;rft_id=https%3A%2F%2Fnews.mit.edu%2F1992%2Fcitation-0415&amp;rft_val_fmt=info%3Aofi%2Ffmt%3Akev%3Amtx%3Abook\" class=\"Z3988\"><span style=\"display:none;\">&#160;</span></span></span>\n",
              "</li>\n",
              "<li id=\"cite_note-6\"><span class=\"mw-cite-backlink\"><a href=\"#cite_ref-6\">↑</a></span> <span class=\"reference-text\"><a rel=\"nofollow\" class=\"external text\" href=\"https://web.archive.org/web/20070713051903/http://cognet.mit.edu/library/books/chomsky/chomsky/contents.html\"><i>Noam Chomsky: A life of dissent</i></a>, biografía completa <span style=\"color:#555;\">(en inglés)</span></span>\n",
              "</li>\n",
              "<li id=\"cite_note-7\"><span class=\"mw-cite-backlink\"><a href=\"#cite_ref-7\">↑</a></span> <span class=\"reference-text\"><span id=\"CITAREFPaís31_de_octubre_de_1998\" class=\"citation web\">País, Ediciones El (31 de octubre de 1998). <a rel=\"nofollow\" class=\"external text\" href=\"http://elpais.com/diario/1998/10/31/catalunya/909799650_850215.html\">«Chomsky reclama una Universidad subversiva en su discurso de investidura»</a>. <i>EL PAÍS</i><span class=\"reference-accessdate\">. Consultado el 5 de febrero de 2016</span>.</span><span title=\"ctx_ver=Z39.88-2004&amp;rfr_id=info%3Asid%2Fes.wikipedia.org%3ANoam+Chomsky&amp;rft.atitle=Chomsky+reclama+una+Universidad+subversiva+en+su+discurso+de+investidura&amp;rft.au=Pa%C3%ADs%2C+Ediciones+El&amp;rft.aufirst=Ediciones+El&amp;rft.aulast=Pa%C3%ADs&amp;rft.date=31+de+octubre+de+1998&amp;rft.genre=article&amp;rft.jtitle=EL+PA%C3%8DS&amp;rft_id=http%3A%2F%2Felpais.com%2Fdiario%2F1998%2F10%2F31%2Fcatalunya%2F909799650_850215.html&amp;rft_val_fmt=info%3Aofi%2Ffmt%3Akev%3Amtx%3Ajournal\" class=\"Z3988\"><span style=\"display:none;\">&#160;</span></span></span>\n",
              "</li>\n",
              "<li id=\"cite_note-8\"><span class=\"mw-cite-backlink\"><a href=\"#cite_ref-8\">↑</a></span> <span class=\"reference-text\"><a rel=\"nofollow\" class=\"external text\" href=\"http://www.unal.edu.co/secretaria/normas/csu/2002/R0034_02S.pdf\">Resolución número 34 de 2002 del Consejo Superior Universitario de la </a><a href=\"/wiki/Universidad_Nacional_de_Colombia\" title=\"Universidad Nacional de Colombia\">Universidad Nacional de Colombia</a></span>\n",
              "</li>\n",
              "<li id=\"cite_note-9\"><span class=\"mw-cite-backlink\"><a href=\"#cite_ref-9\">↑</a></span> <span class=\"reference-text\"><a rel=\"nofollow\" class=\"external free\" href=\"http://www.lanacion.cl/noticias/site/artic/20061018/pags/20061018174006.html\">http://www.lanacion.cl/noticias/site/artic/20061018/pags/20061018174006.html</a></span>\n",
              "</li>\n",
              "<li id=\"cite_note-10\"><span class=\"mw-cite-backlink\"><a href=\"#cite_ref-10\">↑</a></span> <span class=\"reference-text\"><span id=\"CITAREFNoticias.universia.cl\" class=\"citation noticia\">Noticias.universia.cl. <a rel=\"nofollow\" class=\"external text\" href=\"http://noticias.universia.cl/vida-universitaria/noticia/2006/10/18/327528/universidad-frontera-condecora-honoris-causa-noam-chomsky.html\">«Universidad de La Frontera condecora con Honoris Causa a Noam Chomsky»</a>. <i>Noticias Universia Chile</i><span class=\"reference-accessdate\">. Consultado el 10 de diciembre de 2016</span>.</span><span title=\"ctx_ver=Z39.88-2004&amp;rfr_id=info%3Asid%2Fes.wikipedia.org%3ANoam+Chomsky&amp;rft.atitle=Universidad+de+La+Frontera+condecora+con+Honoris+Causa+a+Noam+Chomsky&amp;rft.au=Noticias.universia.cl&amp;rft.aulast=Noticias.universia.cl&amp;rft.genre=article&amp;rft.jtitle=Noticias+Universia+Chile&amp;rft_id=http%3A%2F%2Fnoticias.universia.cl%2Fvida-universitaria%2Fnoticia%2F2006%2F10%2F18%2F327528%2Funiversidad-frontera-condecora-honoris-causa-noam-chomsky.html&amp;rft_val_fmt=info%3Aofi%2Ffmt%3Akev%3Amtx%3Ajournal\" class=\"Z3988\"><span style=\"display:none;\">&#160;</span></span></span>\n",
              "</li>\n",
              "<li id=\"cite_note-11\"><span class=\"mw-cite-backlink\"><a href=\"#cite_ref-11\">↑</a></span> <span class=\"reference-text\"><span class=\"citation noticia\"><a rel=\"nofollow\" class=\"external text\" href=\"http://mexico.cnn.com/nacional/2010/09/23/unam-otorga-doctorados-honoris-causa-a-figuras-de-la-ciencia-y-humanidad\">«UNAM otorga doctorados honoris causa a figuras de la ciencia y humanidad»</a>. <i>Expansión</i><span class=\"reference-accessdate\">. Consultado el 10 de diciembre de 2016</span>.</span><span title=\"ctx_ver=Z39.88-2004&amp;rfr_id=info%3Asid%2Fes.wikipedia.org%3ANoam+Chomsky&amp;rft.atitle=UNAM+otorga+doctorados+honoris+causa+a+figuras+de+la+ciencia+y+humanidad&amp;rft.genre=article&amp;rft.jtitle=Expansi%C3%B3n&amp;rft_id=http%3A%2F%2Fmexico.cnn.com%2Fnacional%2F2010%2F09%2F23%2Funam-otorga-doctorados-honoris-causa-a-figuras-de-la-ciencia-y-humanidad&amp;rft_val_fmt=info%3Aofi%2Ffmt%3Akev%3Amtx%3Ajournal\" class=\"Z3988\"><span style=\"display:none;\">&#160;</span></span></span>\n",
              "</li>\n",
              "<li id=\"cite_note-12\"><span class=\"mw-cite-backlink\"><a href=\"#cite_ref-12\">↑</a></span> <span class=\"reference-text\"><span id=\"CITAREFChomsky2002\" class=\"citation libro\">Chomsky, Noam (2002). <a rel=\"nofollow\" class=\"external text\" href=\"https://books.google.es/books?id=SNeHkMXHcd8C&amp;printsec=frontcover&amp;dq=isbn:3110172798&amp;hl=es&amp;sa=X&amp;redir_esc=y#v=onepage&amp;q&amp;f=false\"><i>Syntactic Structures</i></a> <span style=\"color:#555;\">(en inglés)</span>. Walter de Gruyter. <small><a href=\"/wiki/ISBN\" title=\"ISBN\">ISBN</a>&#160;<a href=\"/wiki/Especial:FuentesDeLibros/978-3-11-017279-9\" title=\"Especial:FuentesDeLibros/978-3-11-017279-9\">978-3-11-017279-9</a></small><span class=\"reference-accessdate\">. Consultado el 27 de mayo de 2021</span>.</span><span title=\"ctx_ver=Z39.88-2004&amp;rfr_id=info%3Asid%2Fes.wikipedia.org%3ANoam+Chomsky&amp;rft.au=Chomsky%2C+Noam&amp;rft.aufirst=Noam&amp;rft.aulast=Chomsky&amp;rft.btitle=Syntactic+Structures&amp;rft.date=2002&amp;rft.genre=book&amp;rft.isbn=978-3-11-017279-9&amp;rft.pub=Walter+de+Gruyter&amp;rft_id=https%3A%2F%2Fbooks.google.es%2Fbooks%3Fid%3DSNeHkMXHcd8C%26printsec%3Dfrontcover%26dq%3Disbn%3A3110172798%26hl%3Des%26sa%3DX%26redir_esc%3Dy%23v%3Donepage%26q%26f%3Dfalse&amp;rft_val_fmt=info%3Aofi%2Ffmt%3Akev%3Amtx%3Abook\" class=\"Z3988\"><span style=\"display:none;\">&#160;</span></span></span>\n",
              "</li>\n",
              "<li id=\"cite_note-13\"><span class=\"mw-cite-backlink\"><a href=\"#cite_ref-13\">↑</a></span> <span class=\"reference-text\"><span class=\"citation web\"><a rel=\"nofollow\" class=\"external text\" href=\"https://elpais.com/cultura/2019/04/16/actualidad/1555415692_405802.html\">«Noam Chomsky consigue el Premio Fronteras del Conocimiento»</a>. <i>EL PAÍS</i>. 16 de abril de 2019.</span><span title=\"ctx_ver=Z39.88-2004&amp;rfr_id=info%3Asid%2Fes.wikipedia.org%3ANoam+Chomsky&amp;rft.atitle=Noam+Chomsky+consigue+el+Premio+Fronteras+del+Conocimiento&amp;rft.date=16+de+abril+de+2019&amp;rft.genre=article&amp;rft.jtitle=EL+PA%C3%8DS&amp;rft_id=https%3A%2F%2Felpais.com%2Fcultura%2F2019%2F04%2F16%2Factualidad%2F1555415692_405802.html&amp;rft_val_fmt=info%3Aofi%2Ffmt%3Akev%3Amtx%3Ajournal\" class=\"Z3988\"><span style=\"display:none;\">&#160;</span></span></span>\n",
              "</li>\n",
              "<li id=\"cite_note-14\"><span class=\"mw-cite-backlink\"><a href=\"#cite_ref-14\">↑</a></span> <span class=\"reference-text\"><a rel=\"nofollow\" class=\"external text\" href=\"http://www.nytimes.com/2008/12/21/us/21chomsky-carol.html?_r=1\">«Carol Chomsky, 78, linguist and educator, dies»</a>, artículo del 21 de diciembre de 2008 en el diario <i>New York Times</i> (Estados Unidos).</span>\n",
              "</li>\n",
              "<li id=\"cite_note-15\"><span class=\"mw-cite-backlink\"><a href=\"#cite_ref-15\">↑</a></span> <span class=\"reference-text\">Fernández Lagunilla, Marina; Anula Rebollo, Alberto (2004). <i>Sintaxis y cognición: introducción a la gramática generativa</i>. Madrid: Síntesis. <a href=\"/wiki/Especial:FuentesDeLibros/8497561708\" class=\"internal mw-magiclink-isbn\">ISBN 84-9756-170-8</a>.</span>\n",
              "</li>\n",
              "<li id=\"cite_note-16\"><span class=\"mw-cite-backlink\"><a href=\"#cite_ref-16\">↑</a></span> <span class=\"reference-text\"><a rel=\"nofollow\" class=\"external text\" href=\"http://www.huffingtonpost.es/jorge-majfud/sin-azucar-conversaciones_b_10025878.html\">“Sin azúcar: conversacipnes con Noam Chomslky</a> El Huffington Post, <a href=\"/wiki/Jorge_Majfud\" title=\"Jorge Majfud\">Jorge Majfud</a> mayo 2016</span>\n",
              "</li>\n",
              "<li id=\"cite_note-17\"><span class=\"mw-cite-backlink\"><a href=\"#cite_ref-17\">↑</a></span> <span class=\"reference-text\"><a rel=\"nofollow\" class=\"external text\" href=\"https://books.google.co.uk/books?id=x3ertj1IcaAC&amp;printsec=frontcover&amp;source=gbs_ge_summary_r&amp;cad=0#v=onepage&amp;q&amp;f=false\">Michael Albert, ‘’Remembering Tomorrow’’</a>, p97-99; C.P.Otero, ‘’Noam Chomsky: Language and Politics’’, p247; <a rel=\"nofollow\" class=\"external text\" href=\"http://tech.mit.edu/V92/PDF/V92-N21.pdf\">'MIT may be dangerous to the world'</a>, ‘’The Tech’’, 28/4/72, p5.</span>\n",
              "</li>\n",
              "<li id=\"cite_note-18\"><span class=\"mw-cite-backlink\"><a href=\"#cite_ref-18\">↑</a></span> <span class=\"reference-text\">G.D.White, ‘’Campus Inc.’’, p445.</span>\n",
              "</li>\n",
              "<li id=\"cite_note-19\"><span class=\"mw-cite-backlink\"><a href=\"#cite_ref-19\">↑</a></span> <span class=\"reference-text\">César Levano. En su columna de <i>Uno</i>, diario de Lima, 25 de marzo de 2018</span>\n",
              "</li>\n",
              "<li id=\"cite_note-20\"><span class=\"mw-cite-backlink\"><a href=\"#cite_ref-20\">↑</a></span> <span class=\"reference-text\">Público.es: Elecciones al Parlamente europeo. Chomsky, Loach y Zizek: arietes anticapitalistas.<a rel=\"nofollow\" class=\"external autonumber\" href=\"http://www.publico.es/espana/229703/chomsky-loach-y-zizek-arietes-anticapitalistas\">[1]</a></span>\n",
              "</li>\n",
              "<li id=\"cite_note-21\"><span class=\"mw-cite-backlink\"><a href=\"#cite_ref-21\">↑</a></span> <span class=\"reference-text\"><a rel=\"nofollow\" class=\"external text\" href=\"http://www.20minutos.es/noticia/2167651/0/intelectuales/manifiesto-apoyo/podemos/\">Chomsky, Galeano, Negri y otros intelectuales firman un manifiesto de apoyo a Podemos</a></span>\n",
              "</li>\n",
              "<li id=\"cite_note-22\"><span class=\"mw-cite-backlink\"><a href=\"#cite_ref-22\">↑</a></span> <span class=\"reference-text\"><a rel=\"nofollow\" class=\"external text\" href=\"http://www.aipti.org/miembros_honorarios/\">Noam Chomsky, miembro honorario de AIPTI</a></span>\n",
              "</li>\n",
              "<li id=\"cite_note-23\"><span class=\"mw-cite-backlink\"><a href=\"#cite_ref-23\">↑</a></span> <span class=\"reference-text\"><a rel=\"nofollow\" class=\"external text\" href=\"https://web.archive.org/web/20130729213802/http://transnationaljustice.com/publications/journlas/derechoypoder/736-entrevista-a-chomsky.html\">Véase Video en Transnational Justice Center</a></span>\n",
              "</li>\n",
              "<li id=\"cite_note-edge.org-24\"><span class=\"mw-cite-backlink\">↑ <a href=\"#cite_ref-edge.org_24-0\"><sup><i><b>a</b></i></sup></a> <a href=\"#cite_ref-edge.org_24-1\"><sup><i><b>b</b></i></sup></a></span> <span class=\"reference-text\"><a rel=\"nofollow\" class=\"external free\" href=\"http://www.edge.org/discourse/bb.html#chomsky\">http://www.edge.org/discourse/bb.html#chomsky</a></span>\n",
              "</li>\n",
              "<li id=\"cite_note-25\"><span class=\"mw-cite-backlink\"><a href=\"#cite_ref-25\">↑</a></span> <span class=\"reference-text\">Science in the Dock. Discusión con Noam Chomsky, Lawrence Krauss &amp; Sean M. Carroll Science &amp; Technology News, 1 de marzo, 2006</span>\n",
              "</li>\n",
              "<li id=\"cite_note-26\"><span class=\"mw-cite-backlink\"><a href=\"#cite_ref-26\">↑</a></span> <span class=\"reference-text\"><a rel=\"nofollow\" class=\"external free\" href=\"http://www.chomsky.info/interviews/198311--.htm\">http://www.chomsky.info/interviews/198311--.htm</a> Entrevista a Chomsky por John Gliedman Omni, 6:11, Noviembre 1983</span>\n",
              "</li>\n",
              "<li id=\"cite_note-27\"><span class=\"mw-cite-backlink\"><a href=\"#cite_ref-27\">↑</a></span> <span class=\"reference-text\"><a rel=\"nofollow\" class=\"external free\" href=\"http://www.chomsky.info/debates/20060301.htm\">http://www.chomsky.info/debates/20060301.htm</a></span>\n",
              "</li>\n",
              "<li id=\"cite_note-youtube.com-28\"><span class=\"mw-cite-backlink\">↑ <a href=\"#cite_ref-youtube.com_28-0\"><sup><i><b>a</b></i></sup></a> <a href=\"#cite_ref-youtube.com_28-1\"><sup><i><b>b</b></i></sup></a></span> <span class=\"reference-text\"><a rel=\"nofollow\" class=\"external free\" href=\"https://www.youtube.com/watch?v=SNDG7ErY-k4&amp;feature=related\">http://www.youtube.com/watch?v=SNDG7ErY-k4&amp;feature=related</a> Chomsky on Religion (2010)</span>\n",
              "</li>\n",
              "<li id=\"cite_note-29\"><span class=\"mw-cite-backlink\"><a href=\"#cite_ref-29\">↑</a></span> <span class=\"reference-text\">Ídem</span>\n",
              "</li>\n",
              "</ol></div>\n",
              "<h2><span id=\"Bibliograf.C3.ADa\"></span><span class=\"mw-headline\" id=\"Bibliografía\">Bibliografía</span><span class=\"mw-editsection\"><span class=\"mw-editsection-bracket\">[</span><a href=\"/w/index.php?title=Noam_Chomsky&amp;action=edit&amp;section=12\" title=\"Editar sección: Bibliografía\">editar</a><span class=\"mw-editsection-bracket\">]</span></span></h2>\n",
              "<ul><li><span id=\"CITAREFCalvin2001\" class=\"citation libro\"><a href=\"/wiki/William_H._Calvin\" title=\"William H. Calvin\">Calvin, William H</a>; <a href=\"/w/index.php?title=Derek_Bickerton&amp;action=edit&amp;redlink=1\" class=\"new\" title=\"Derek Bickerton (aún no redactado)\">Bickerton, Derek</a> (2001). <i>Lingua ex machina: la conciliación de las teorías de Darwin y Chomsky sobre el cerebro humano (Lingua ex machina, 2000)</i>. <a href=\"/w/index.php?title=Tom%C3%A1s_Fern%C3%A1ndez_A%C3%BAz&amp;action=edit&amp;redlink=1\" class=\"new\" title=\"Tomás Fernández Aúz (aún no redactado)\">Fernández Aúz, Tomás</a> (trad.) (1ª ed, edición). Barcelona: Gedisa. pp.&#160;359 págs. <small><a href=\"/wiki/ISBN\" title=\"ISBN\">ISBN</a>&#160;<a href=\"/wiki/Especial:FuentesDeLibros/84-7432-849-7\" title=\"Especial:FuentesDeLibros/84-7432-849-7\">84-7432-849-7</a></small>.</span><span title=\"ctx_ver=Z39.88-2004&amp;rfr_id=info%3Asid%2Fes.wikipedia.org%3ANoam+Chomsky&amp;rft.au=Calvin%2C+William+H&amp;rft.aufirst=William+H&amp;rft.aulast=Calvin&amp;rft.btitle=Lingua+ex+machina%3A+la+conciliaci%C3%B3n+de+las+teor%C3%ADas+de+Darwin+y+Chomsky+sobre+el+cerebro+humano+%28Lingua+ex+machina%2C+2000%29&amp;rft.date=2001&amp;rft.edition=1%C2%AA+ed%2C&amp;rft.genre=book&amp;rft.isbn=84-7432-849-7&amp;rft.pages=359+p%C3%A1gs.&amp;rft.place=Barcelona&amp;rft.pub=Gedisa&amp;rft_val_fmt=info%3Aofi%2Ffmt%3Akev%3Amtx%3Abook\" class=\"Z3988\"><span style=\"display:none;\">&#160;</span></span> <span style=\"display:none;font-size:100%\" class=\"error citation-comment\">La referencia utiliza el parámetro obsoleto <code>&#124;coautores=</code> (<a href=\"/wiki/Ayuda:Errores_en_las_referencias#deprecated_params\" title=\"Ayuda:Errores en las referencias\">ayuda</a>)</span></li>\n",
              "<li><span id=\"CITAREFCogswell2003\" class=\"citation libro\"><a href=\"/w/index.php?title=David_Cogswell&amp;action=edit&amp;redlink=1\" class=\"new\" title=\"David Cogswell (aún no redactado)\">Cogswell, David</a>; Gordon, Paul (2003). <a rel=\"nofollow\" class=\"external text\" href=\"http://books.google.es/books?id=6p8LE_hfMT0C\"><i>Chomsky para principiantes</i></a>. <a href=\"/w/index.php?title=Leandro_Wolfson&amp;action=edit&amp;redlink=1\" class=\"new\" title=\"Leandro Wolfson (aún no redactado)\">Leandro Wolfson</a> (trad.) (2ª ed, edición). Longseller. <small><a href=\"/wiki/ISBN\" title=\"ISBN\">ISBN</a>&#160;<a href=\"/wiki/Especial:FuentesDeLibros/9789879065389\" title=\"Especial:FuentesDeLibros/9789879065389\">9789879065389</a></small>.</span><span title=\"ctx_ver=Z39.88-2004&amp;rfr_id=info%3Asid%2Fes.wikipedia.org%3ANoam+Chomsky&amp;rft.au=Cogswell%2C+David&amp;rft.aufirst=David&amp;rft.aulast=Cogswell&amp;rft.btitle=Chomsky+para+principiantes&amp;rft.date=2003&amp;rft.edition=2%C2%AA+ed%2C&amp;rft.genre=book&amp;rft.isbn=9789879065389&amp;rft.pub=Longseller&amp;rft_id=http%3A%2F%2Fbooks.google.es%2Fbooks%3Fid%3D6p8LE_hfMT0C&amp;rft_val_fmt=info%3Aofi%2Ffmt%3Akev%3Amtx%3Abook\" class=\"Z3988\"><span style=\"display:none;\">&#160;</span></span> <span style=\"display:none;font-size:100%\" class=\"error citation-comment\">La referencia utiliza el parámetro obsoleto <code>&#124;coautores=</code> (<a href=\"/wiki/Ayuda:Errores_en_las_referencias#deprecated_params\" title=\"Ayuda:Errores en las referencias\">ayuda</a>)</span></li>\n",
              "<li><span id=\"CITAREFMiranda_Alonso2006\" class=\"citation libro\"><a href=\"/w/index.php?title=Tom%C3%A1s_Miranda_Alonso&amp;action=edit&amp;redlink=1\" class=\"new\" title=\"Tomás Miranda Alonso (aún no redactado)\">Miranda Alonso, Tomás</a> (2006). <i>Arquitectura de la mente según Noam Chomsky</i>. Siglo XXI. pp.&#160;200 págs. <small><a href=\"/wiki/ISBN\" title=\"ISBN\">ISBN</a>&#160;<a href=\"/wiki/Especial:FuentesDeLibros/9788432312205\" title=\"Especial:FuentesDeLibros/9788432312205\">9788432312205</a></small>.</span><span title=\"ctx_ver=Z39.88-2004&amp;rfr_id=info%3Asid%2Fes.wikipedia.org%3ANoam+Chomsky&amp;rft.au=Miranda+Alonso%2C+Tom%C3%A1s&amp;rft.aufirst=Tom%C3%A1s&amp;rft.aulast=Miranda+Alonso&amp;rft.btitle=Arquitectura+de+la+mente+seg%C3%BAn+Noam+Chomsky&amp;rft.date=2006&amp;rft.genre=book&amp;rft.isbn=9788432312205&amp;rft.pages=200+p%C3%A1gs.&amp;rft.pub=Siglo+XXI&amp;rft_val_fmt=info%3Aofi%2Ffmt%3Akev%3Amtx%3Abook\" class=\"Z3988\"><span style=\"display:none;\">&#160;</span></span></li>\n",
              "<li><span id=\"CITAREFSmith2001\" class=\"citation libro\"><a href=\"/wiki/Neil_Smith\" title=\"Neil Smith\">Smith, Neil</a> (2001). <i>Chomsky: Ideas e ideales</i>. <a href=\"/w/index.php?title=Izaskun_Fuentes&amp;action=edit&amp;redlink=1\" class=\"new\" title=\"Izaskun Fuentes (aún no redactado)\">Fuentes, Izaskun</a> (trad.). Barcelona: <a href=\"/wiki/Cambridge_University_Press\" title=\"Cambridge University Press\">Cambridge University Press</a>. pp.&#160;368 págs. <small><a href=\"/wiki/ISBN\" title=\"ISBN\">ISBN</a>&#160;<a href=\"/wiki/Especial:FuentesDeLibros/9788483231203\" title=\"Especial:FuentesDeLibros/9788483231203\">9788483231203</a></small>.</span><span title=\"ctx_ver=Z39.88-2004&amp;rfr_id=info%3Asid%2Fes.wikipedia.org%3ANoam+Chomsky&amp;rft.au=Smith%2C+Neil&amp;rft.aufirst=Neil&amp;rft.aulast=Smith&amp;rft.btitle=Chomsky%3A+Ideas+e+ideales&amp;rft.date=2001&amp;rft.genre=book&amp;rft.isbn=9788483231203&amp;rft.pages=368+p%C3%A1gs.&amp;rft.place=Barcelona&amp;rft.pub=Cambridge+University+Press&amp;rft_val_fmt=info%3Aofi%2Ffmt%3Akev%3Amtx%3Abook\" class=\"Z3988\"><span style=\"display:none;\">&#160;</span></span></li>\n",
              "<li><span id=\"CITAREFLorenzo_González2001\" class=\"citation libro\"><a href=\"/w/index.php?title=Guillermo_Lorenzo_Gonz%C3%A1lez&amp;action=edit&amp;redlink=1\" class=\"new\" title=\"Guillermo Lorenzo González (aún no redactado)\">Lorenzo González, Guillermo</a> (2001). <a rel=\"nofollow\" class=\"external text\" href=\"https://archive.org/details/comprenderchomsk00gonz\"><i>Comprender a Chomsky: introducción y comentarios a la filosofía chomskyana sobre el lenguaje y la mente</i></a>. A. Machado Libros. pp.&#160;<a rel=\"nofollow\" class=\"external text\" href=\"https://archive.org/details/comprenderchomsk00gonz/page/n97\">201</a> págs. <small><a href=\"/wiki/ISBN\" title=\"ISBN\">ISBN</a>&#160;<a href=\"/wiki/Especial:FuentesDeLibros/84-7774-883-7\" title=\"Especial:FuentesDeLibros/84-7774-883-7\">84-7774-883-7</a></small>.</span><span title=\"ctx_ver=Z39.88-2004&amp;rfr_id=info%3Asid%2Fes.wikipedia.org%3ANoam+Chomsky&amp;rft.au=Lorenzo+Gonz%C3%A1lez%2C+Guillermo&amp;rft.aufirst=Guillermo&amp;rft.aulast=Lorenzo+Gonz%C3%A1lez&amp;rft.btitle=Comprender+a+Chomsky%3A+introducci%C3%B3n+y+comentarios+a+la+filosof%C3%ADa+chomskyana+sobre+el+lenguaje+y+la+mente&amp;rft.date=2001&amp;rft.genre=book&amp;rft.isbn=84-7774-883-7&amp;rft.pages=201+p%C3%A1gs.&amp;rft.pub=A.+Machado+Libros&amp;rft_id=https%3A%2F%2Farchive.org%2Fdetails%2Fcomprenderchomsk00gonz&amp;rft_val_fmt=info%3Aofi%2Ffmt%3Akev%3Amtx%3Abook\" class=\"Z3988\"><span style=\"display:none;\">&#160;</span></span></li>\n",
              "<li><span id=\"CITAREFBarsky2005\" class=\"citation libro\"><a href=\"/w/index.php?title=Robert_F._Barsky&amp;action=edit&amp;redlink=1\" class=\"new\" title=\"Robert F. Barsky (aún no redactado)\">Barsky, Robert F.</a> (2005). <a rel=\"nofollow\" class=\"external text\" href=\"https://web.archive.org/web/20070713051903/http://cognet.mit.edu/library/books/chomsky/chomsky/contents.html\"><i>&#91;http://web.archive.org/web/http://cognet.mit.edu/library/books/chomsky/chomsky/contents.html Noam Chomsky: una vida de discrepancia&#93;</i></a>. Península. pp.&#160;286 págs. <small><a href=\"/wiki/ISBN\" title=\"ISBN\">ISBN</a>&#160;<a href=\"/wiki/Especial:FuentesDeLibros/9788483076767\" title=\"Especial:FuentesDeLibros/9788483076767\">9788483076767</a></small>. Archivado desde <a rel=\"nofollow\" class=\"external text\" href=\"http://cognet.mit.edu/library/books/chomsky/chomsky/contents.html\">el original</a> el 13 de julio de 2007<span class=\"reference-accessdate\">. Consultado el 28 de junio de 2007</span>.</span><span title=\"ctx_ver=Z39.88-2004&amp;rfr_id=info%3Asid%2Fes.wikipedia.org%3ANoam+Chomsky&amp;rft.au=Barsky%2C+Robert+F.&amp;rft.aufirst=Robert+F.&amp;rft.aulast=Barsky&amp;rft.btitle=%5Bhttp%3A%2F%2Fweb.archive.org%2Fweb%2Fhttp%3A%2F%2Fcognet.mit.edu%2Flibrary%2Fbooks%2Fchomsky%2Fchomsky%2Fcontents.html+Noam+Chomsky%3A+una+vida+de+discrepancia%5D&amp;rft.date=2005&amp;rft.genre=book&amp;rft.isbn=9788483076767&amp;rft.pages=286+p%C3%A1gs&amp;rft.pub=Pen%C3%ADnsula&amp;rft_id=http%3A%2F%2Fcognet.mit.edu%2Flibrary%2Fbooks%2Fchomsky%2Fchomsky%2Fcontents.html&amp;rft_val_fmt=info%3Aofi%2Ffmt%3Akev%3Amtx%3Abook\" class=\"Z3988\"><span style=\"display:none;\">&#160;</span></span></li>\n",
              "<li><span id=\"CITAREFKnight2016\" class=\"citation libro\"><a href=\"/w/index.php?title=Chris_Knight&amp;action=edit&amp;redlink=1\" class=\"new\" title=\"Chris Knight (aún no redactado)\">Knight, Chris</a> (2016). <a rel=\"nofollow\" class=\"external text\" href=\"https://web.archive.org/web/20070713051903/http://cognet.mit.edu/library/books/chomsky/chomsky/contents.html\"><i>Decoding Chomsky: Science and revolutionary politics</i></a>. Yale University Press. Archivado desde <a rel=\"nofollow\" class=\"external text\" href=\"http://cognet.mit.edu/library/books/chomsky/chomsky/contents.html\">el original</a> el 13 de julio de 2007<span class=\"reference-accessdate\">. Consultado el 28 de junio de 2007</span>.</span><span title=\"ctx_ver=Z39.88-2004&amp;rfr_id=info%3Asid%2Fes.wikipedia.org%3ANoam+Chomsky&amp;rft.au=Knight%2C+Chris&amp;rft.aufirst=Chris&amp;rft.aulast=Knight&amp;rft.btitle=Decoding+Chomsky%3A+Science+and+revolutionary+politics&amp;rft.date=2016&amp;rft.genre=book&amp;rft.pub=Yale+University+Press&amp;rft_id=http%3A%2F%2Fcognet.mit.edu%2Flibrary%2Fbooks%2Fchomsky%2Fchomsky%2Fcontents.html&amp;rft_val_fmt=info%3Aofi%2Ffmt%3Akev%3Amtx%3Abook\" class=\"Z3988\"><span style=\"display:none;\">&#160;</span></span></li></ul>\n",
              "<h2><span class=\"mw-headline\" id=\"Enlaces_externos\">Enlaces externos</span><span class=\"mw-editsection\"><span class=\"mw-editsection-bracket\">[</span><a href=\"/w/index.php?title=Noam_Chomsky&amp;action=edit&amp;section=13\" title=\"Editar sección: Enlaces externos\">editar</a><span class=\"mw-editsection-bracket\">]</span></span></h2>\n",
              "<ul><li><img alt=\"\" src=\"//upload.wikimedia.org/wikipedia/commons/thumb/4/4a/Commons-logo.svg/15px-Commons-logo.svg.png\" decoding=\"async\" width=\"15\" height=\"20\" srcset=\"//upload.wikimedia.org/wikipedia/commons/thumb/4/4a/Commons-logo.svg/23px-Commons-logo.svg.png 1.5x, //upload.wikimedia.org/wikipedia/commons/thumb/4/4a/Commons-logo.svg/30px-Commons-logo.svg.png 2x\" data-file-width=\"1024\" data-file-height=\"1376\" /> <a href=\"/wiki/Wikimedia_Commons\" title=\"Wikimedia Commons\">Wikimedia Commons</a> alberga una categoría multimedia sobre <b><a href=\"https://commons.wikimedia.org/wiki/Category:Noam_Chomsky\" class=\"extiw\" title=\"commons:Category:Noam Chomsky\">Noam Chomsky</a></b>.</li>\n",
              "<li><img alt=\"\" src=\"//upload.wikimedia.org/wikipedia/commons/thumb/1/13/Spanish_Wikiquote.SVG/12px-Spanish_Wikiquote.SVG.png\" decoding=\"async\" width=\"12\" height=\"15\" srcset=\"//upload.wikimedia.org/wikipedia/commons/thumb/1/13/Spanish_Wikiquote.SVG/19px-Spanish_Wikiquote.SVG.png 1.5x, //upload.wikimedia.org/wikipedia/commons/thumb/1/13/Spanish_Wikiquote.SVG/25px-Spanish_Wikiquote.SVG.png 2x\" data-file-width=\"272\" data-file-height=\"330\" /> <a href=\"/wiki/Wikiquote\" title=\"Wikiquote\">Wikiquote</a> alberga frases célebres de o sobre <b><a href=\"https://es.wikiquote.org/wiki/Noam_Chomsky\" class=\"extiw\" title=\"q:Noam Chomsky\">Noam Chomsky</a></b>.</li></ul>\n",
              "<ul><li><a rel=\"nofollow\" class=\"external text\" href=\"https://www.theguardian.com/profile/noamchomsky\">Artículos de Noam Chomsky</a> en <i><a href=\"/wiki/The_Guardian\" title=\"The Guardian\">The Guardian</a></i>. <span style=\"color:#555;\">(en inglés)</span></li>\n",
              "<li><a rel=\"nofollow\" class=\"external text\" href=\"https://chomsky.info/\">Sitio web</a> <span style=\"color:#555;\">(en inglés)</span>.</li></ul>\n",
              "<style data-mw-deduplicate=\"TemplateStyles:r144106945\">.mw-parser-output .mw-authority-control{margin-top:1.5em}.mw-parser-output .mw-authority-control .navbox hr:last-child{display:none}.mw-parser-output .mw-authority-control .navbox+.mw-mf-linked-projects{display:none}.mw-parser-output .mw-authority-control .mw-mf-linked-projects{display:flex;padding:0.5em;border:1px solid #c8ccd1;background-color:#eaecf0;color:#222222}.mw-parser-output .mw-authority-control .mw-mf-linked-projects ul li{margin-bottom:0}</style><div class=\"mw-authority-control\"><div role=\"navigation\" class=\"navbox\" aria-label=\"Navbox\" style=\"width: inherit;padding:3px\"><table class=\"hlist navbox-inner\" style=\"border-spacing:0;background:transparent;color:inherit\"><tbody><tr><th scope=\"row\" class=\"navbox-group\" style=\"width: 12%; text-align:center;\"><a href=\"/wiki/Control_de_autoridades\" title=\"Control de autoridades\">Control de autoridades</a></th><td class=\"navbox-list navbox-odd\" style=\"text-align:left;border-left-width:2px;border-left-style:solid;width:100%;padding:0px\"><div style=\"padding:0em 0.25em\">\n",
              "<ul><li><b>Proyectos Wikimedia</b></li>\n",
              "<li><span style=\"white-space:nowrap;\"><a href=\"/wiki/Wikidata\" title=\"Wikidata\"><img alt=\"Wd\" src=\"//upload.wikimedia.org/wikipedia/commons/thumb/f/ff/Wikidata-logo.svg/20px-Wikidata-logo.svg.png\" decoding=\"async\" width=\"20\" height=\"11\" srcset=\"//upload.wikimedia.org/wikipedia/commons/thumb/f/ff/Wikidata-logo.svg/30px-Wikidata-logo.svg.png 1.5x, //upload.wikimedia.org/wikipedia/commons/thumb/f/ff/Wikidata-logo.svg/40px-Wikidata-logo.svg.png 2x\" data-file-width=\"1050\" data-file-height=\"590\" /></a> Datos:</span> <span class=\"uid\"><a href=\"https://www.wikidata.org/wiki/Q9049\" class=\"extiw\" title=\"wikidata:Q9049\">Q9049</a></span></li>\n",
              "<li><span style=\"white-space:nowrap;\"><a href=\"/wiki/Wikimedia_Commons\" title=\"Commonscat\"><img alt=\"Commonscat\" src=\"//upload.wikimedia.org/wikipedia/commons/thumb/4/4a/Commons-logo.svg/15px-Commons-logo.svg.png\" decoding=\"async\" width=\"15\" height=\"20\" srcset=\"//upload.wikimedia.org/wikipedia/commons/thumb/4/4a/Commons-logo.svg/23px-Commons-logo.svg.png 1.5x, //upload.wikimedia.org/wikipedia/commons/thumb/4/4a/Commons-logo.svg/30px-Commons-logo.svg.png 2x\" data-file-width=\"1024\" data-file-height=\"1376\" /></a> Multimedia:</span> <span class=\"uid\"><span class=\"plainlinks\"><a class=\"external text\" href=\"https://commons.wikimedia.org/wiki/Category:Noam_Chomsky\">Noam Chomsky</a></span> / <span class=\"plainlinks\"><a class=\"external text\" href=\"https://commons.wikimedia.org/wiki/Special:MediaSearch?type=image&amp;search=%22Q9049%22\">Q9049</a></span></span></li>\n",
              "<li><span style=\"white-space:nowrap;\"><a href=\"/wiki/Wikiquote\" title=\"Wikiquote\"><img alt=\"Wikiquote\" src=\"//upload.wikimedia.org/wikipedia/commons/thumb/f/fa/Wikiquote-logo.svg/15px-Wikiquote-logo.svg.png\" decoding=\"async\" width=\"15\" height=\"18\" srcset=\"//upload.wikimedia.org/wikipedia/commons/thumb/f/fa/Wikiquote-logo.svg/23px-Wikiquote-logo.svg.png 1.5x, //upload.wikimedia.org/wikipedia/commons/thumb/f/fa/Wikiquote-logo.svg/30px-Wikiquote-logo.svg.png 2x\" data-file-width=\"300\" data-file-height=\"355\" /></a> Citas célebres:</span> <span class=\"uid\"><a href=\"https://es.wikiquote.org/wiki/Noam_Chomsky\" class=\"extiw\" title=\"q:Noam Chomsky\">Noam Chomsky</a></span></li></ul>\n",
              "<hr />\n",
              "<ul><li><b>Identificadores</b></li>\n",
              "<li><a rel=\"nofollow\" class=\"external text\" href=\"//www.worldcat.org/identities/containsVIAFID/89803084\">WorldCat</a></li>\n",
              "<li><span style=\"white-space:nowrap;\"><a href=\"/wiki/Fichero_de_Autoridades_Virtual_Internacional\" title=\"Fichero de Autoridades Virtual Internacional\">VIAF</a>:</span> <span class=\"uid\"><a rel=\"nofollow\" class=\"external text\" href=\"https://viaf.org/viaf/89803084/\">89803084</a></span></li>\n",
              "<li><span style=\"white-space:nowrap;\"><a href=\"/wiki/International_Standard_Name_Identifier\" title=\"International Standard Name Identifier\">ISNI</a>:</span> <span class=\"uid\"><a rel=\"nofollow\" class=\"external text\" href=\"https://isni.oclc.org/xslt/DB=1.2/CMD?ACT=SRCH&amp;IKT=8006&amp;TRM=ISN%3A0000%200001%202143%200999\">0000 0001 2143 0999</a></span></li>\n",
              "<li><span style=\"white-space:nowrap;\"><a href=\"/wiki/Biblioteca_Nacional_de_la_Rep%C3%BAblica_Argentina\" class=\"mw-redirect\" title=\"Biblioteca Nacional de la República Argentina\">BNA</a>:</span> <span class=\"uid\"><a rel=\"nofollow\" class=\"external text\" href=\"https://catalogo.bn.gov.ar/F/?func=direct&amp;local_base=BNA10&amp;doc_number=000047047\">000047047</a></span></li>\n",
              "<li><span style=\"white-space:nowrap;\"><a href=\"/wiki/Biblioteca_Nacional_de_Espa%C3%B1a\" title=\"Biblioteca Nacional de España\">BNE</a>:</span> <span class=\"uid\"><a rel=\"nofollow\" class=\"external text\" href=\"https://datos.bne.es/persona/XX849732.html\">XX849732</a></span></li>\n",
              "<li><span style=\"white-space:nowrap;\"><a href=\"/wiki/Biblioteca_Nacional_de_Francia\" title=\"Biblioteca Nacional de Francia\">BNF</a>:</span> <span class=\"uid\"><a rel=\"nofollow\" class=\"external text\" href=\"https://catalogue.bnf.fr/ark:/12148/cb11896756j\">11896756j</a> <a rel=\"nofollow\" class=\"external text\" href=\"http://data.bnf.fr/ark:/12148/cb11896756j\">(data)</a></span></li>\n",
              "<li><span style=\"white-space:nowrap;\"><a href=\"/wiki/Biblioteca_de_Catalu%C3%B1a\" title=\"Biblioteca de Cataluña\">CANTIC</a>:</span> <span class=\"uid\"><a rel=\"nofollow\" class=\"external text\" href=\"https://cantic.bnc.cat/registre/981058511801106706\">981058511801106706</a></span></li>\n",
              "<li><span style=\"white-space:nowrap;\"><a href=\"/wiki/Gemeinsame_Normdatei\" title=\"Gemeinsame Normdatei\">GND</a>:</span> <span class=\"uid\"><a rel=\"nofollow\" class=\"external text\" href=\"https://d-nb.info/gnd/118520520\">118520520</a></span></li>\n",
              "<li><span style=\"white-space:nowrap;\"><a href=\"/wiki/Library_of_Congress_Control_Number\" title=\"Library of Congress Control Number\">LCCN</a>:</span> <span class=\"uid\"><a rel=\"nofollow\" class=\"external text\" href=\"https://id.loc.gov/authorities/n79104267\">n79104267</a></span></li>\n",
              "<li><span style=\"white-space:nowrap;\"><a href=\"/wiki/Biblioteca_Nacional_de_la_Dieta\" title=\"Biblioteca Nacional de la Dieta\">NDL</a>:</span> <span class=\"uid\"><a rel=\"nofollow\" class=\"external text\" href=\"https://id.ndl.go.jp/auth/ndlna/00435949\">00435949</a></span></li>\n",
              "<li><span style=\"white-space:nowrap;\"><a href=\"/wiki/Biblioteca_Nacional_de_la_Rep%C3%BAblica_Checa\" title=\"Biblioteca Nacional de la República Checa\">NKC</a>:</span> <span class=\"uid\"><a rel=\"nofollow\" class=\"external text\" href=\"https://aleph.nkp.cz/F/?func=find-c&amp;local_base=aut&amp;ccl_term=ica=jn19990003846\">jn19990003846</a></span></li>\n",
              "<li><span style=\"white-space:nowrap;\"><a href=\"/wiki/Biblioteca_Nacional_de_Australia\" title=\"Biblioteca Nacional de Australia\">NLA</a>:</span> <span class=\"uid\"><a rel=\"nofollow\" class=\"external text\" href=\"https://librariesaustralia.nla.gov.au/search/display?dbid=auth&amp;id=36206986\">36206986</a></span></li>\n",
              "<li><span style=\"white-space:nowrap;\"><a href=\"/wiki/CiNii\" title=\"CiNii\">CiNii</a>:</span> <span class=\"uid\"><a rel=\"nofollow\" class=\"external text\" href=\"https://ci.nii.ac.jp/author/DA0040532X\">DA0040532X</a></span></li>\n",
              "<li><span style=\"white-space:nowrap;\"><a href=\"https://www.wikidata.org/wiki/Q29861311\" class=\"extiw\" title=\"d:Q29861311\">SNAC</a>:</span> <span class=\"uid\"><a rel=\"nofollow\" class=\"external text\" href=\"https://snaccooperative.org/ark:/99166/w67t8ffh\">w67t8ffh</a></span></li>\n",
              "<li><span style=\"white-space:nowrap;\"><a href=\"https://www.wikidata.org/wiki/Q22908627\" class=\"extiw\" title=\"d:Q22908627\">S2</a>:</span> <span class=\"uid\"><a rel=\"nofollow\" class=\"external text\" href=\"https://www.semanticscholar.org/author/-/114531657\">114531657</a></span></li>\n",
              "<li><span style=\"white-space:nowrap;\"><a href=\"/wiki/Syst%C3%A8me_universitaire_de_documentation\" title=\"Système universitaire de documentation\">SUDOC</a>:</span> <span class=\"uid\"><a rel=\"nofollow\" class=\"external text\" href=\"https://www.idref.fr/026787865\">026787865</a></span></li>\n",
              "<li><span style=\"white-space:nowrap;\"><a href=\"/wiki/Union_List_of_Artist_Names\" title=\"Union List of Artist Names\">ULAN</a>:</span> <span class=\"uid\"><a rel=\"nofollow\" class=\"external text\" href=\"https://www.getty.edu/vow/ULANFullDisplay?find=&amp;role=&amp;nation=&amp;subjectid=500288286\">500288286</a></span></li>\n",
              "<li><span style=\"white-space:nowrap;\"><a href=\"/wiki/ORCID\" title=\"ORCID\">ORCID</a>:</span> <span class=\"uid\"><a rel=\"nofollow\" class=\"external text\" href=\"https://orcid.org/0000-0002-3632-2461\">0000-0002-3632-2461</a></span></li>\n",
              "<li><span style=\"white-space:nowrap;\"><a href=\"/wiki/Scopus\" title=\"Scopus\">Scopus</a>:</span> <span class=\"uid\"><a rel=\"nofollow\" class=\"external text\" href=\"https://www.scopus.com/authid/detail.uri?authorId=6602495043\">6602495043</a></span></li>\n",
              "<li><span style=\"white-space:nowrap;\"><a href=\"/wiki/BIBSYS\" title=\"BIBSYS\">BIBSYS</a>:</span> <span class=\"uid\"><a rel=\"nofollow\" class=\"external text\" href=\"https://authority.bibsys.no/authority/rest/authorities/html/90052767\">90052767</a></span></li>\n",
              "<li><span style=\"white-space:nowrap;\"><a href=\"/wiki/Mathematics_Genealogy_Project\" title=\"Mathematics Genealogy Project\">MGP</a>:</span> <span class=\"uid\"><a rel=\"nofollow\" class=\"external text\" href=\"https://mathgenealogy.org/id.php?id=82231\">82231</a></span></li>\n",
              "<li><span style=\"white-space:nowrap;\"><a href=\"/wiki/Istituto_Centrale_per_il_Catalogo_Unico\" class=\"mw-redirect\" title=\"Istituto Centrale per il Catalogo Unico\">ICCU</a>:</span> <span class=\"uid\"><a rel=\"nofollow\" class=\"external text\" href=\"https://opac.sbn.it/nome/CFIV103508\">CFIV103508</a></span></li>\n",
              "<li><span style=\"white-space:nowrap;\"><a href=\"/wiki/Deutsche_Biographie\" title=\"Deutsche Biographie\">Deutsche Biographie</a>:</span> <span class=\"uid\"><a rel=\"nofollow\" class=\"external text\" href=\"https://www.deutsche-biographie.de/pnd118520520.html\">118520520</a></span></li>\n",
              "<li><span style=\"white-space:nowrap;\"><a href=\"/wiki/Open_Library\" title=\"Open Library\">Open Library</a>:</span> <span class=\"uid\"><a rel=\"nofollow\" class=\"external text\" href=\"https://openlibrary.org/works/OL31676A?mode=all\">OL31676A</a></span></li>\n",
              "<li><span style=\"white-space:nowrap;\"><a href=\"/wiki/Google_Acad%C3%A9mico\" title=\"Google Académico\">Google Académico</a>:</span> <span class=\"uid\"><a rel=\"nofollow\" class=\"external text\" href=\"https://scholar.google.com/citations?user=rbgNVw0AAAAJ\">rbgNVw0AAAAJ</a></span></li>\n",
              "<li><b>Diccionarios y enciclopedias</b></li>\n",
              "<li><span style=\"white-space:nowrap;\"><a href=\"/wiki/Enciclopedia_Brit%C3%A1nica\" title=\"Enciclopedia Británica\">Britannica</a>:</span> <span class=\"uid\"><a rel=\"nofollow\" class=\"external text\" href=\"https://www.britannica.com/biography/Noam-Chomsky\">url</a></span></li>\n",
              "<li><span style=\"white-space:nowrap;\"><a href=\"/wiki/Enciclopedia_Treccani\" title=\"Enciclopedia Treccani\">Treccani</a>:</span> <span class=\"uid\"><a rel=\"nofollow\" class=\"external text\" href=\"https://www.treccani.it/enciclopedia/noam-chomsky_(Enciclopedia-Italiana)\">url</a></span></li>\n",
              "<li><b>Repositorios digitales</b></li>\n",
              "<li><span style=\"white-space:nowrap;\"><a href=\"/wiki/Pers%C3%A9e_(portal)\" title=\"Persée (portal)\">Persée</a>:</span> <span class=\"uid\"><a rel=\"nofollow\" class=\"external text\" href=\"https://www.persee.fr/authority/180651\">180651</a></span></li>\n",
              "<li><span style=\"white-space:nowrap;\"><a href=\"/wiki/Dialnet\" title=\"Dialnet\">Dialnet</a>:</span> <span class=\"uid\"><a rel=\"nofollow\" class=\"external text\" href=\"https://dialnet.unirioja.es/servlet/autor?codigo=269259\">269259</a></span></li>\n",
              "<li><span style=\"white-space:nowrap;\"><a href=\"/wiki/Europeana\" title=\"Europeana\">Europeana</a>:</span> <span class=\"uid\"><a rel=\"nofollow\" class=\"external text\" href=\"https://data.europeana.eu/agent/base/145347\">agent/base/145347</a></span></li>\n",
              "<li><b>Cine</b></li>\n",
              "<li><span style=\"white-space:nowrap;\"><a href=\"/wiki/Internet_Movie_Database\" title=\"Internet Movie Database\">IMDb</a>:</span> <span class=\"uid\"><a class=\"external text\" href=\"https://wikidata-externalid-url.toolforge.org/?p=345&amp;url_prefix=https://www.imdb.com/&amp;id=nm0159008\">nm0159008</a></span></li></ul>\n",
              "</div></td></tr></tbody></table></div><div class=\"mw-mf-linked-projects hlist\">\n",
              "<ul><li><span style=\"white-space:nowrap;\"><a href=\"/wiki/Wikidata\" title=\"Wikidata\"><img alt=\"Wd\" src=\"//upload.wikimedia.org/wikipedia/commons/thumb/f/ff/Wikidata-logo.svg/20px-Wikidata-logo.svg.png\" decoding=\"async\" width=\"20\" height=\"11\" srcset=\"//upload.wikimedia.org/wikipedia/commons/thumb/f/ff/Wikidata-logo.svg/30px-Wikidata-logo.svg.png 1.5x, //upload.wikimedia.org/wikipedia/commons/thumb/f/ff/Wikidata-logo.svg/40px-Wikidata-logo.svg.png 2x\" data-file-width=\"1050\" data-file-height=\"590\" /></a> Datos:</span> <span class=\"uid\"><a href=\"https://www.wikidata.org/wiki/Q9049\" class=\"extiw\" title=\"wikidata:Q9049\">Q9049</a></span></li>\n",
              "<li><span style=\"white-space:nowrap;\"><a href=\"/wiki/Wikimedia_Commons\" title=\"Commonscat\"><img alt=\"Commonscat\" src=\"//upload.wikimedia.org/wikipedia/commons/thumb/4/4a/Commons-logo.svg/15px-Commons-logo.svg.png\" decoding=\"async\" width=\"15\" height=\"20\" srcset=\"//upload.wikimedia.org/wikipedia/commons/thumb/4/4a/Commons-logo.svg/23px-Commons-logo.svg.png 1.5x, //upload.wikimedia.org/wikipedia/commons/thumb/4/4a/Commons-logo.svg/30px-Commons-logo.svg.png 2x\" data-file-width=\"1024\" data-file-height=\"1376\" /></a> Multimedia:</span> <span class=\"uid\"><span class=\"plainlinks\"><a class=\"external text\" href=\"https://commons.wikimedia.org/wiki/Category:Noam_Chomsky\">Noam Chomsky</a></span> / <span class=\"plainlinks\"><a class=\"external text\" href=\"https://commons.wikimedia.org/wiki/Special:MediaSearch?type=image&amp;search=%22Q9049%22\">Q9049</a></span></span></li>\n",
              "<li><span style=\"white-space:nowrap;\"><a href=\"/wiki/Wikiquote\" title=\"Wikiquote\"><img alt=\"Wikiquote\" src=\"//upload.wikimedia.org/wikipedia/commons/thumb/f/fa/Wikiquote-logo.svg/15px-Wikiquote-logo.svg.png\" decoding=\"async\" width=\"15\" height=\"18\" srcset=\"//upload.wikimedia.org/wikipedia/commons/thumb/f/fa/Wikiquote-logo.svg/23px-Wikiquote-logo.svg.png 1.5x, //upload.wikimedia.org/wikipedia/commons/thumb/f/fa/Wikiquote-logo.svg/30px-Wikiquote-logo.svg.png 2x\" data-file-width=\"300\" data-file-height=\"355\" /></a> Citas célebres:</span> <span class=\"uid\"><a href=\"https://es.wikiquote.org/wiki/Noam_Chomsky\" class=\"extiw\" title=\"q:Noam Chomsky\">Noam Chomsky</a></span></li></ul>\n",
              "</div></div>\n",
              "<!-- \n",
              "NewPP limit report\n",
              "Parsed by mw1374\n",
              "Cached time: 20221026110436\n",
              "Cache expiry: 1814400\n",
              "Reduced expiry: false\n",
              "Complications: [show‐toc]\n",
              "CPU time usage: 0.924 seconds\n",
              "Real time usage: 1.415 seconds\n",
              "Preprocessor visited node count: 2918/1000000\n",
              "Post‐expand include size: 79116/2097152 bytes\n",
              "Template argument size: 9270/2097152 bytes\n",
              "Highest expansion depth: 20/100\n",
              "Expensive parser function count: 31/500\n",
              "Unstrip recursion depth: 0/20\n",
              "Unstrip post‐expand size: 30761/5000000 bytes\n",
              "Lua time usage: 0.701/10.000 seconds\n",
              "Lua memory usage: 14863896/52428800 bytes\n",
              "Number of Wikibase entities loaded: 32/400\n",
              "-->\n",
              "<!--\n",
              "Transclusion expansion time report (%,ms,calls,template)\n",
              "100.00% 1259.846      1 -total\n",
              " 45.48%  572.952      1 Plantilla:Ficha_de_persona\n",
              " 41.06%  517.305      1 Plantilla:NF\n",
              "  6.46%   81.330      1 Plantilla:Listaref\n",
              "  3.01%   37.974      3 Plantilla:Cita_web\n",
              "  2.62%   32.969     12 Plantilla:Reemplazar\n",
              "  2.15%   27.056      9 Plantilla:Cita_libro\n",
              "  2.06%   26.012      5 Plantilla:Y-e\n",
              "  1.61%   20.240      4 Plantilla:Desvincular\n",
              "  1.33%   16.776      8 Plantilla:Cita\n",
              "-->\n",
              "\n",
              "<!-- Saved in parser cache with key eswiki:pcache:idhash:15409-0!canonical and timestamp 20221026110438 and revision id 146906837.\n",
              " -->\n",
              "</div><noscript><img src=\"//es.wikipedia.org/wiki/Special:CentralAutoLogin/start?type=1x1\" alt=\"\" title=\"\" width=\"1\" height=\"1\" style=\"border: none; position: absolute;\" /></noscript>\n",
              "<div class=\"printfooter\" data-nosnippet=\"\">Obtenido de «<a dir=\"ltr\" href=\"https://es.wikipedia.org/w/index.php?title=Noam_Chomsky&amp;oldid=146906837\">https://es.wikipedia.org/w/index.php?title=Noam_Chomsky&amp;oldid=146906837</a>»</div></div>\n",
              "\t\t<div id=\"catlinks\" class=\"catlinks\" data-mw=\"interface\"><div id=\"mw-normal-catlinks\" class=\"mw-normal-catlinks\"><a href=\"/wiki/Especial:Categor%C3%ADas\" title=\"Especial:Categorías\">Categorías</a>: <ul><li><a href=\"/wiki/Categor%C3%ADa:Hombres\" title=\"Categoría:Hombres\">Hombres</a></li><li><a href=\"/wiki/Categor%C3%ADa:Nacidos_en_1928\" title=\"Categoría:Nacidos en 1928\">Nacidos en 1928</a></li><li><a href=\"/wiki/Categor%C3%ADa:Noam_Chomsky\" title=\"Categoría:Noam Chomsky\">Noam Chomsky</a></li><li><a href=\"/wiki/Categor%C3%ADa:Doctores_honoris_causa_de_la_Universidad_de_Chile\" title=\"Categoría:Doctores honoris causa de la Universidad de Chile\">Doctores honoris causa de la Universidad de Chile</a></li><li><a href=\"/wiki/Categor%C3%ADa:Miembros_de_la_Leopoldina\" title=\"Categoría:Miembros de la Leopoldina\">Miembros de la Leopoldina</a></li><li><a href=\"/wiki/Categor%C3%ADa:Doctores_honorarios_por_la_Universidad_de_Upsala\" title=\"Categoría:Doctores honorarios por la Universidad de Upsala\">Doctores honorarios por la Universidad de Upsala</a></li><li><a href=\"/wiki/Categor%C3%ADa:Doctores_honoris_causa_por_la_Universidad_Rovira_i_Virgili\" title=\"Categoría:Doctores honoris causa por la Universidad Rovira i Virgili\">Doctores honoris causa por la Universidad Rovira i Virgili</a></li><li><a href=\"/wiki/Categor%C3%ADa:Doctores_honoris_causa_de_la_Universidad_de_Buenos_Aires\" title=\"Categoría:Doctores honoris causa de la Universidad de Buenos Aires\">Doctores honoris causa de la Universidad de Buenos Aires</a></li><li><a href=\"/wiki/Categor%C3%ADa:Graduados_honorarios_de_la_Universidad_de_Ontario_Occidental\" title=\"Categoría:Graduados honorarios de la Universidad de Ontario Occidental\">Graduados honorarios de la Universidad de Ontario Occidental</a></li><li><a href=\"/wiki/Categor%C3%ADa:Ateos_de_Estados_Unidos\" title=\"Categoría:Ateos de Estados Unidos\">Ateos de Estados Unidos</a></li><li><a href=\"/wiki/Categor%C3%ADa:Premios_Fundaci%C3%B3n_BBVA_Fronteras_del_Conocimiento\" title=\"Categoría:Premios Fundación BBVA Fronteras del Conocimiento\">Premios Fundación BBVA Fronteras del Conocimiento</a></li></ul></div><div id=\"mw-hidden-catlinks\" class=\"mw-hidden-catlinks mw-hidden-cats-hidden\">Categorías ocultas: <ul><li><a href=\"/wiki/Categor%C3%ADa:Wikipedia:P%C3%A1ginas_con_enlaces_m%C3%A1gicos_de_ISBN\" title=\"Categoría:Wikipedia:Páginas con enlaces mágicos de ISBN\">Wikipedia:Páginas con enlaces mágicos de ISBN</a></li><li><a href=\"/wiki/Categor%C3%ADa:Wikipedia:Art%C3%ADculos_destacados_en_la_Wikipedia_en_franc%C3%A9s\" title=\"Categoría:Wikipedia:Artículos destacados en la Wikipedia en francés\">Wikipedia:Artículos destacados en la Wikipedia en francés</a></li><li><a href=\"/wiki/Categor%C3%ADa:Wikipedia:Art%C3%ADculos_destacados_en_la_Wikipedia_en_azer%C3%AD\" title=\"Categoría:Wikipedia:Artículos destacados en la Wikipedia en azerí\">Wikipedia:Artículos destacados en la Wikipedia en azerí</a></li><li><a href=\"/wiki/Categor%C3%ADa:Wikipedia:Art%C3%ADculos_destacados_en_la_Wikipedia_en_euskera\" title=\"Categoría:Wikipedia:Artículos destacados en la Wikipedia en euskera\">Wikipedia:Artículos destacados en la Wikipedia en euskera</a></li><li><a href=\"/wiki/Categor%C3%ADa:Wikipedia:Art%C3%ADculos_destacados_en_la_Wikipedia_en_lat%C3%ADn\" title=\"Categoría:Wikipedia:Artículos destacados en la Wikipedia en latín\">Wikipedia:Artículos destacados en la Wikipedia en latín</a></li><li><a href=\"/wiki/Categor%C3%ADa:Wikipedia:Art%C3%ADculos_buenos_en_la_Wikipedia_en_ingl%C3%A9s\" title=\"Categoría:Wikipedia:Artículos buenos en la Wikipedia en inglés\">Wikipedia:Artículos buenos en la Wikipedia en inglés</a></li><li><a href=\"/wiki/Categor%C3%ADa:Wikipedia:Art%C3%ADculos_con_pasajes_que_requieren_referencias\" title=\"Categoría:Wikipedia:Artículos con pasajes que requieren referencias\">Wikipedia:Artículos con pasajes que requieren referencias</a></li><li><a href=\"/wiki/Categor%C3%ADa:Wikipedia:P%C3%A1ginas_con_referencias_con_par%C3%A1metros_obsoletos\" title=\"Categoría:Wikipedia:Páginas con referencias con parámetros obsoletos\">Wikipedia:Páginas con referencias con parámetros obsoletos</a></li><li><a href=\"/wiki/Categor%C3%ADa:Wikipedia:Art%C3%ADculos_con_plantilla_The_Guardian\" title=\"Categoría:Wikipedia:Artículos con plantilla The Guardian\">Wikipedia:Artículos con plantilla The Guardian</a></li><li><a href=\"/wiki/Categor%C3%ADa:Wikipedia:Art%C3%ADculos_con_identificadores_VIAF\" title=\"Categoría:Wikipedia:Artículos con identificadores VIAF\">Wikipedia:Artículos con identificadores VIAF</a></li><li><a href=\"/wiki/Categor%C3%ADa:Wikipedia:Art%C3%ADculos_con_identificadores_ISNI\" title=\"Categoría:Wikipedia:Artículos con identificadores ISNI\">Wikipedia:Artículos con identificadores ISNI</a></li><li><a href=\"/wiki/Categor%C3%ADa:Wikipedia:Art%C3%ADculos_con_identificadores_BNA\" title=\"Categoría:Wikipedia:Artículos con identificadores BNA\">Wikipedia:Artículos con identificadores BNA</a></li><li><a href=\"/wiki/Categor%C3%ADa:Wikipedia:Art%C3%ADculos_con_identificadores_BNE\" title=\"Categoría:Wikipedia:Artículos con identificadores BNE\">Wikipedia:Artículos con identificadores BNE</a></li><li><a href=\"/wiki/Categor%C3%ADa:Wikipedia:Art%C3%ADculos_con_identificadores_BNF\" title=\"Categoría:Wikipedia:Artículos con identificadores BNF\">Wikipedia:Artículos con identificadores BNF</a></li><li><a href=\"/wiki/Categor%C3%ADa:Wikipedia:Art%C3%ADculos_con_identificadores_CANTIC\" title=\"Categoría:Wikipedia:Artículos con identificadores CANTIC\">Wikipedia:Artículos con identificadores CANTIC</a></li><li><a href=\"/wiki/Categor%C3%ADa:Wikipedia:Art%C3%ADculos_con_identificadores_GND\" title=\"Categoría:Wikipedia:Artículos con identificadores GND\">Wikipedia:Artículos con identificadores GND</a></li><li><a href=\"/wiki/Categor%C3%ADa:Wikipedia:Art%C3%ADculos_con_identificadores_LCCN\" title=\"Categoría:Wikipedia:Artículos con identificadores LCCN\">Wikipedia:Artículos con identificadores LCCN</a></li><li><a href=\"/wiki/Categor%C3%ADa:Wikipedia:Art%C3%ADculos_con_identificadores_NLA\" title=\"Categoría:Wikipedia:Artículos con identificadores NLA\">Wikipedia:Artículos con identificadores NLA</a></li><li><a href=\"/wiki/Categor%C3%ADa:Wikipedia:Art%C3%ADculos_con_identificadores_SNAC\" title=\"Categoría:Wikipedia:Artículos con identificadores SNAC\">Wikipedia:Artículos con identificadores SNAC</a></li><li><a href=\"/wiki/Categor%C3%ADa:Wikipedia:Art%C3%ADculos_con_identificadores_ULAN\" title=\"Categoría:Wikipedia:Artículos con identificadores ULAN\">Wikipedia:Artículos con identificadores ULAN</a></li><li><a href=\"/wiki/Categor%C3%ADa:Wikipedia:Art%C3%ADculos_con_identificadores_ORCID\" title=\"Categoría:Wikipedia:Artículos con identificadores ORCID\">Wikipedia:Artículos con identificadores ORCID</a></li><li><a href=\"/wiki/Categor%C3%ADa:Wikipedia:Art%C3%ADculos_con_identificadores_Scopus\" title=\"Categoría:Wikipedia:Artículos con identificadores Scopus\">Wikipedia:Artículos con identificadores Scopus</a></li><li><a href=\"/wiki/Categor%C3%ADa:Wikipedia:Art%C3%ADculos_con_identificadores_BIBSYS\" title=\"Categoría:Wikipedia:Artículos con identificadores BIBSYS\">Wikipedia:Artículos con identificadores BIBSYS</a></li><li><a href=\"/wiki/Categor%C3%ADa:Wikipedia:Art%C3%ADculos_con_identificadores_SBN\" title=\"Categoría:Wikipedia:Artículos con identificadores SBN\">Wikipedia:Artículos con identificadores SBN</a></li><li><a href=\"/wiki/Categor%C3%ADa:Wikipedia:Art%C3%ADculos_con_identificadores_DeutscheBiographie\" title=\"Categoría:Wikipedia:Artículos con identificadores DeutscheBiographie\">Wikipedia:Artículos con identificadores DeutscheBiographie</a></li><li><a href=\"/wiki/Categor%C3%ADa:Wikipedia:Art%C3%ADculos_con_identificadores_Open_Library\" title=\"Categoría:Wikipedia:Artículos con identificadores Open Library\">Wikipedia:Artículos con identificadores Open Library</a></li><li><a href=\"/wiki/Categor%C3%ADa:Wikipedia:Art%C3%ADculos_con_identificadores_Google_Acad%C3%A9mico\" title=\"Categoría:Wikipedia:Artículos con identificadores Google Académico\">Wikipedia:Artículos con identificadores Google Académico</a></li><li><a href=\"/wiki/Categor%C3%ADa:Wikipedia:Art%C3%ADculos_con_identificadores_Pers%C3%A9e\" title=\"Categoría:Wikipedia:Artículos con identificadores Persée\">Wikipedia:Artículos con identificadores Persée</a></li><li><a href=\"/wiki/Categor%C3%ADa:Wikipedia:Art%C3%ADculos_con_identificadores_Dialnet\" title=\"Categoría:Wikipedia:Artículos con identificadores Dialnet\">Wikipedia:Artículos con identificadores Dialnet</a></li><li><a href=\"/wiki/Categor%C3%ADa:Wikipedia:Art%C3%ADculos_con_identificadores_Europeana\" title=\"Categoría:Wikipedia:Artículos con identificadores Europeana\">Wikipedia:Artículos con identificadores Europeana</a></li><li><a href=\"/wiki/Categor%C3%ADa:Wikipedia:Control_de_autoridades_con_m%C3%A1s_de_30_elementos\" title=\"Categoría:Wikipedia:Control de autoridades con más de 30 elementos\">Wikipedia:Control de autoridades con más de 30 elementos</a></li><li><a href=\"/wiki/Categor%C3%ADa:Personas_vivas\" title=\"Categoría:Personas vivas\">Personas vivas</a></li></ul></div></div>\n",
              "\t</div>\n",
              "</div>\n",
              "\n",
              "<div id=\"mw-navigation\">\n",
              "\t<h2>Menú de navegación</h2>\n",
              "\t<div id=\"mw-head\">\n",
              "\t\t\n",
              "\n",
              "<nav id=\"p-personal\" class=\"vector-menu mw-portlet mw-portlet-personal vector-user-menu-legacy\" aria-labelledby=\"p-personal-label\" role=\"navigation\"  >\n",
              "\t<h3\n",
              "\t\tid=\"p-personal-label\"\n",
              "\t\t\n",
              "\t\tclass=\"vector-menu-heading \"\n",
              "\t>\n",
              "\t\t<span class=\"vector-menu-heading-label\">Herramientas personales</span>\n",
              "\t</h3>\n",
              "\t<div class=\"vector-menu-content\">\n",
              "\t\t\n",
              "\t\t<ul class=\"vector-menu-content-list\"><li id=\"pt-anonuserpage\" class=\"mw-list-item\"><span title=\"La página de usuario de la IP desde la que editas\">No has accedido</span></li><li id=\"pt-anontalk\" class=\"mw-list-item\"><a href=\"/wiki/Especial:MiDiscusi%C3%B3n\" title=\"Discusión sobre ediciones hechas desde esta dirección IP [n]\" accesskey=\"n\"><span>Discusión</span></a></li><li id=\"pt-anoncontribs\" class=\"mw-list-item\"><a href=\"/wiki/Especial:MisContribuciones\" title=\"Una lista de modificaciones hechas desde esta dirección IP [y]\" accesskey=\"y\"><span>Contribuciones</span></a></li><li id=\"pt-createaccount\" class=\"mw-list-item\"><a href=\"/w/index.php?title=Especial:Crear_una_cuenta&amp;returnto=Noam+Chomsky\" title=\"Te recomendamos crear una cuenta e iniciar sesión; sin embargo, no es obligatorio\"><span>Crear una cuenta</span></a></li><li id=\"pt-login\" class=\"mw-list-item\"><a href=\"/w/index.php?title=Especial:Entrar&amp;returnto=Noam+Chomsky\" title=\"Te recomendamos iniciar sesión, aunque no es obligatorio [o]\" accesskey=\"o\"><span>Acceder</span></a></li></ul>\n",
              "\t\t\n",
              "\t</div>\n",
              "</nav>\n",
              "\n",
              "\t\t<div id=\"left-navigation\">\n",
              "\t\t\t\n",
              "\n",
              "<nav id=\"p-namespaces\" class=\"vector-menu mw-portlet mw-portlet-namespaces vector-menu-tabs vector-menu-tabs-legacy\" aria-labelledby=\"p-namespaces-label\" role=\"navigation\"  >\n",
              "\t<h3\n",
              "\t\tid=\"p-namespaces-label\"\n",
              "\t\t\n",
              "\t\tclass=\"vector-menu-heading \"\n",
              "\t>\n",
              "\t\t<span class=\"vector-menu-heading-label\">Espacios de nombres</span>\n",
              "\t</h3>\n",
              "\t<div class=\"vector-menu-content\">\n",
              "\t\t\n",
              "\t\t<ul class=\"vector-menu-content-list\"><li id=\"ca-nstab-main\" class=\"selected mw-list-item\"><a href=\"/wiki/Noam_Chomsky\" title=\"Ver la página de contenido [c]\" accesskey=\"c\"><span>Artículo</span></a></li><li id=\"ca-talk\" class=\"mw-list-item\"><a href=\"/wiki/Discusi%C3%B3n:Noam_Chomsky\" rel=\"discussion\" title=\"Discusión acerca de la página [t]\" accesskey=\"t\"><span>Discusión</span></a></li></ul>\n",
              "\t\t\n",
              "\t</div>\n",
              "</nav>\n",
              "\n",
              "\t\t\t\n",
              "\n",
              "<nav id=\"p-variants\" class=\"vector-menu mw-portlet mw-portlet-variants emptyPortlet vector-menu-dropdown-noicon vector-menu-dropdown\" aria-labelledby=\"p-variants-label\" role=\"navigation\"  >\n",
              "\t<input type=\"checkbox\"\n",
              "\t\tid=\"p-variants-checkbox\"\n",
              "\t\trole=\"button\"\n",
              "\t\taria-haspopup=\"true\"\n",
              "\t\tdata-event-name=\"ui.dropdown-p-variants\"\n",
              "\t\tclass=\"vector-menu-checkbox\"\n",
              "\t\taria-labelledby=\"p-variants-label\"\n",
              "\t/>\n",
              "\t<label\n",
              "\t\tid=\"p-variants-label\"\n",
              "\t\t aria-label=\"Cambiar variante de idioma\"\n",
              "\t\tclass=\"vector-menu-heading \"\n",
              "\t>\n",
              "\t\t<span class=\"vector-menu-heading-label\">español</span>\n",
              "\t</label>\n",
              "\t<div class=\"vector-menu-content\">\n",
              "\t\t\n",
              "\t\t<ul class=\"vector-menu-content-list\"></ul>\n",
              "\t\t\n",
              "\t</div>\n",
              "</nav>\n",
              "\n",
              "\t\t</div>\n",
              "\t\t<div id=\"right-navigation\">\n",
              "\t\t\t\n",
              "\n",
              "<nav id=\"p-views\" class=\"vector-menu mw-portlet mw-portlet-views vector-menu-tabs vector-menu-tabs-legacy\" aria-labelledby=\"p-views-label\" role=\"navigation\"  >\n",
              "\t<h3\n",
              "\t\tid=\"p-views-label\"\n",
              "\t\t\n",
              "\t\tclass=\"vector-menu-heading \"\n",
              "\t>\n",
              "\t\t<span class=\"vector-menu-heading-label\">Vistas</span>\n",
              "\t</h3>\n",
              "\t<div class=\"vector-menu-content\">\n",
              "\t\t\n",
              "\t\t<ul class=\"vector-menu-content-list\"><li id=\"ca-view\" class=\"selected vector-tab-noicon mw-list-item\"><a href=\"/wiki/Noam_Chomsky\"><span>Leer</span></a></li><li id=\"ca-edit\" class=\"vector-tab-noicon mw-list-item\"><a href=\"/w/index.php?title=Noam_Chomsky&amp;action=edit\" title=\"Editar esta página [e]\" accesskey=\"e\"><span>Editar</span></a></li><li id=\"ca-history\" class=\"vector-tab-noicon mw-list-item\"><a href=\"/w/index.php?title=Noam_Chomsky&amp;action=history\" title=\"Versiones anteriores de esta página [h]\" accesskey=\"h\"><span>Ver historial</span></a></li></ul>\n",
              "\t\t\n",
              "\t</div>\n",
              "</nav>\n",
              "\n",
              "\t\t\t\n",
              "\n",
              "<nav id=\"p-cactions\" class=\"vector-menu mw-portlet mw-portlet-cactions emptyPortlet vector-menu-dropdown-noicon vector-menu-dropdown\" aria-labelledby=\"p-cactions-label\" role=\"navigation\"  title=\"Más opciones\" >\n",
              "\t<input type=\"checkbox\"\n",
              "\t\tid=\"p-cactions-checkbox\"\n",
              "\t\trole=\"button\"\n",
              "\t\taria-haspopup=\"true\"\n",
              "\t\tdata-event-name=\"ui.dropdown-p-cactions\"\n",
              "\t\tclass=\"vector-menu-checkbox\"\n",
              "\t\taria-labelledby=\"p-cactions-label\"\n",
              "\t/>\n",
              "\t<label\n",
              "\t\tid=\"p-cactions-label\"\n",
              "\t\t\n",
              "\t\tclass=\"vector-menu-heading \"\n",
              "\t>\n",
              "\t\t<span class=\"vector-menu-heading-label\">Más</span>\n",
              "\t</label>\n",
              "\t<div class=\"vector-menu-content\">\n",
              "\t\t\n",
              "\t\t<ul class=\"vector-menu-content-list\"></ul>\n",
              "\t\t\n",
              "\t</div>\n",
              "</nav>\n",
              "\n",
              "\t\t\t\n",
              "<div id=\"p-search\" role=\"search\" class=\"vector-search-box-vue  vector-search-box-show-thumbnail vector-search-box-auto-expand-width vector-search-box\">\n",
              "\t<div>\n",
              "\t\t\t<h3 >\n",
              "\t\t\t\t<label for=\"searchInput\">Buscar</label>\n",
              "\t\t\t</h3>\n",
              "\t\t<form action=\"/w/index.php\" id=\"searchform\"\n",
              "\t\t\tclass=\"vector-search-box-form\">\n",
              "\t\t\t<div id=\"simpleSearch\"\n",
              "\t\t\t\tclass=\"vector-search-box-inner\"\n",
              "\t\t\t\t data-search-loc=\"header-navigation\">\n",
              "\t\t\t\t<input class=\"vector-search-box-input\"\n",
              "\t\t\t\t\t type=\"search\" name=\"search\" placeholder=\"Buscar en Wikipedia\" aria-label=\"Buscar en Wikipedia\" autocapitalize=\"sentences\" title=\"Buscar en este wiki [f]\" accesskey=\"f\" id=\"searchInput\"\n",
              "\t\t\t\t>\n",
              "\t\t\t\t<input type=\"hidden\" name=\"title\" value=\"Especial:Buscar\">\n",
              "\t\t\t\t<input id=\"mw-searchButton\"\n",
              "\t\t\t\t\t class=\"searchButton mw-fallbackSearchButton\" type=\"submit\" name=\"fulltext\" title=\"Busca páginas con este texto.\" value=\"Buscar\">\n",
              "\t\t\t\t<input id=\"searchButton\"\n",
              "\t\t\t\t\t class=\"searchButton\" type=\"submit\" name=\"go\" title=\"Ir a la página con este nombre exacto si existe\" value=\"Ir\">\n",
              "\t\t\t</div>\n",
              "\t\t</form>\n",
              "\t</div>\n",
              "</div>\n",
              "\n",
              "\t\t</div>\n",
              "\t</div>\n",
              "\t\n",
              "\n",
              "<div id=\"mw-panel\">\n",
              "\t<div id=\"p-logo\" role=\"banner\">\n",
              "\t\t<a class=\"mw-wiki-logo\" href=\"/wiki/Wikipedia:Portada\"\n",
              "\t\t\ttitle=\"Visitar la página principal\"></a>\n",
              "\t</div>\n",
              "\t\n",
              "\n",
              "<nav id=\"p-navigation\" class=\"vector-menu mw-portlet mw-portlet-navigation vector-menu-portal portal\" aria-labelledby=\"p-navigation-label\" role=\"navigation\"  >\n",
              "\t<h3\n",
              "\t\tid=\"p-navigation-label\"\n",
              "\t\t\n",
              "\t\tclass=\"vector-menu-heading \"\n",
              "\t>\n",
              "\t\t<span class=\"vector-menu-heading-label\">Navegación</span>\n",
              "\t</h3>\n",
              "\t<div class=\"vector-menu-content\">\n",
              "\t\t\n",
              "\t\t<ul class=\"vector-menu-content-list\"><li id=\"n-mainpage-description\" class=\"mw-list-item\"><a href=\"/wiki/Wikipedia:Portada\" title=\"Visitar la página principal [z]\" accesskey=\"z\"><span>Portada</span></a></li><li id=\"n-portal\" class=\"mw-list-item\"><a href=\"/wiki/Portal:Comunidad\" title=\"Acerca del proyecto, lo que puedes hacer, dónde encontrar información\"><span>Portal de la comunidad</span></a></li><li id=\"n-currentevents\" class=\"mw-list-item\"><a href=\"/wiki/Portal:Actualidad\" title=\"Encuentra información de contexto sobre acontecimientos actuales\"><span>Actualidad</span></a></li><li id=\"n-recentchanges\" class=\"mw-list-item\"><a href=\"/wiki/Especial:CambiosRecientes\" title=\"Lista de cambios recientes en la wiki [r]\" accesskey=\"r\"><span>Cambios recientes</span></a></li><li id=\"n-newpages\" class=\"mw-list-item\"><a href=\"/wiki/Especial:P%C3%A1ginasNuevas\"><span>Páginas nuevas</span></a></li><li id=\"n-randompage\" class=\"mw-list-item\"><a href=\"/wiki/Especial:Aleatoria\" title=\"Cargar una página al azar [x]\" accesskey=\"x\"><span>Página aleatoria</span></a></li><li id=\"n-help\" class=\"mw-list-item\"><a href=\"/wiki/Ayuda:Contenidos\" title=\"El lugar para aprender\"><span>Ayuda</span></a></li><li id=\"n-sitesupport\" class=\"mw-list-item\"><a href=\"//donate.wikimedia.org/wiki/Special:FundraiserRedirector?utm_source=donate&amp;utm_medium=sidebar&amp;utm_campaign=C13_es.wikipedia.org&amp;uselang=es\" title=\"Apóyanos\"><span>Donaciones</span></a></li><li id=\"n-bug_in_article\" class=\"mw-list-item\"><a href=\"/wiki/Wikipedia:Informes_de_error\"><span>Notificar un error</span></a></li></ul>\n",
              "\t\t\n",
              "\t</div>\n",
              "</nav>\n",
              "\n",
              "\t\n",
              "\n",
              "<nav id=\"p-tb\" class=\"vector-menu mw-portlet mw-portlet-tb vector-menu-portal portal\" aria-labelledby=\"p-tb-label\" role=\"navigation\"  >\n",
              "\t<h3\n",
              "\t\tid=\"p-tb-label\"\n",
              "\t\t\n",
              "\t\tclass=\"vector-menu-heading \"\n",
              "\t>\n",
              "\t\t<span class=\"vector-menu-heading-label\">Herramientas</span>\n",
              "\t</h3>\n",
              "\t<div class=\"vector-menu-content\">\n",
              "\t\t\n",
              "\t\t<ul class=\"vector-menu-content-list\"><li id=\"t-whatlinkshere\" class=\"mw-list-item\"><a href=\"/wiki/Especial:LoQueEnlazaAqu%C3%AD/Noam_Chomsky\" title=\"Lista de todas las páginas de la wiki que enlazan aquí [j]\" accesskey=\"j\"><span>Lo que enlaza aquí</span></a></li><li id=\"t-recentchangeslinked\" class=\"mw-list-item\"><a href=\"/wiki/Especial:CambiosEnEnlazadas/Noam_Chomsky\" rel=\"nofollow\" title=\"Cambios recientes en las páginas que enlazan con esta [k]\" accesskey=\"k\"><span>Cambios en enlazadas</span></a></li><li id=\"t-upload\" class=\"mw-list-item\"><a href=\"//commons.wikimedia.org/wiki/Special:UploadWizard?uselang=es\" title=\"Subir archivos [u]\" accesskey=\"u\"><span>Subir archivo</span></a></li><li id=\"t-specialpages\" class=\"mw-list-item\"><a href=\"/wiki/Especial:P%C3%A1ginasEspeciales\" title=\"Lista de todas las páginas especiales [q]\" accesskey=\"q\"><span>Páginas especiales</span></a></li><li id=\"t-permalink\" class=\"mw-list-item\"><a href=\"/w/index.php?title=Noam_Chomsky&amp;oldid=146906837\" title=\"Enlace permanente a esta versión de la página\"><span>Enlace permanente</span></a></li><li id=\"t-info\" class=\"mw-list-item\"><a href=\"/w/index.php?title=Noam_Chomsky&amp;action=info\" title=\"Más información sobre esta página\"><span>Información de la página</span></a></li><li id=\"t-cite\" class=\"mw-list-item\"><a href=\"/w/index.php?title=Especial:Citar&amp;page=Noam_Chomsky&amp;id=146906837&amp;wpFormIdentifier=titleform\" title=\"Información sobre cómo citar esta página\"><span>Citar esta página</span></a></li><li id=\"t-wikibase\" class=\"mw-list-item\"><a href=\"https://www.wikidata.org/wiki/Special:EntityPage/Q9049\" title=\"Enlace al elemento conectado del repositorio de datos [g]\" accesskey=\"g\"><span>Elemento de Wikidata</span></a></li></ul>\n",
              "\t\t\n",
              "\t</div>\n",
              "</nav>\n",
              "\n",
              "\n",
              "<nav id=\"p-coll-print_export\" class=\"vector-menu mw-portlet mw-portlet-coll-print_export vector-menu-portal portal\" aria-labelledby=\"p-coll-print_export-label\" role=\"navigation\"  >\n",
              "\t<h3\n",
              "\t\tid=\"p-coll-print_export-label\"\n",
              "\t\t\n",
              "\t\tclass=\"vector-menu-heading \"\n",
              "\t>\n",
              "\t\t<span class=\"vector-menu-heading-label\">Imprimir/exportar</span>\n",
              "\t</h3>\n",
              "\t<div class=\"vector-menu-content\">\n",
              "\t\t\n",
              "\t\t<ul class=\"vector-menu-content-list\"><li id=\"coll-create_a_book\" class=\"mw-list-item\"><a href=\"/w/index.php?title=Especial:Libro&amp;bookcmd=book_creator&amp;referer=Noam+Chomsky\"><span>Crear un libro</span></a></li><li id=\"coll-download-as-rl\" class=\"mw-list-item\"><a href=\"/w/index.php?title=Especial:DownloadAsPdf&amp;page=Noam_Chomsky&amp;action=show-download-screen\"><span>Descargar como PDF</span></a></li><li id=\"t-print\" class=\"mw-list-item\"><a href=\"/w/index.php?title=Noam_Chomsky&amp;printable=yes\" title=\"Versión imprimible de esta página [p]\" accesskey=\"p\"><span>Versión para imprimir</span></a></li></ul>\n",
              "\t\t\n",
              "\t</div>\n",
              "</nav>\n",
              "\n",
              "\n",
              "<nav id=\"p-wikibase-otherprojects\" class=\"vector-menu mw-portlet mw-portlet-wikibase-otherprojects vector-menu-portal portal\" aria-labelledby=\"p-wikibase-otherprojects-label\" role=\"navigation\"  >\n",
              "\t<h3\n",
              "\t\tid=\"p-wikibase-otherprojects-label\"\n",
              "\t\t\n",
              "\t\tclass=\"vector-menu-heading \"\n",
              "\t>\n",
              "\t\t<span class=\"vector-menu-heading-label\">En otros proyectos</span>\n",
              "\t</h3>\n",
              "\t<div class=\"vector-menu-content\">\n",
              "\t\t\n",
              "\t\t<ul class=\"vector-menu-content-list\"><li class=\"wb-otherproject-link wb-otherproject-commons mw-list-item\"><a href=\"https://commons.wikimedia.org/wiki/Noam_Chomsky\" hreflang=\"en\"><span>Wikimedia Commons</span></a></li><li class=\"wb-otherproject-link wb-otherproject-wikiquote mw-list-item\"><a href=\"https://es.wikiquote.org/wiki/Noam_Chomsky\" hreflang=\"es\"><span>Wikiquote</span></a></li></ul>\n",
              "\t\t\n",
              "\t</div>\n",
              "</nav>\n",
              "\n",
              "\t\n",
              "\n",
              "<nav id=\"p-lang\" class=\"vector-menu mw-portlet mw-portlet-lang vector-menu-portal portal\" aria-labelledby=\"p-lang-label\" role=\"navigation\"  >\n",
              "\t<h3\n",
              "\t\tid=\"p-lang-label\"\n",
              "\t\t\n",
              "\t\tclass=\"vector-menu-heading \"\n",
              "\t>\n",
              "\t\t<span class=\"vector-menu-heading-label\">En otros idiomas</span>\n",
              "\t</h3>\n",
              "\t<div class=\"vector-menu-content\">\n",
              "\t\t\n",
              "\t\t<ul class=\"vector-menu-content-list\"><li class=\"interlanguage-link interwiki-af mw-list-item\"><a href=\"https://af.wikipedia.org/wiki/Noam_Chomsky\" title=\"Noam Chomsky (afrikáans)\" lang=\"af\" hreflang=\"af\" class=\"interlanguage-link-target\"><span>Afrikaans</span></a></li><li class=\"interlanguage-link interwiki-als mw-list-item\"><a href=\"https://als.wikipedia.org/wiki/Noam_Chomsky\" title=\"Noam Chomsky (Alemannisch)\" lang=\"gsw\" hreflang=\"gsw\" class=\"interlanguage-link-target\"><span>Alemannisch</span></a></li><li class=\"interlanguage-link interwiki-am mw-list-item\"><a href=\"https://am.wikipedia.org/wiki/%E1%8A%96%E1%88%9D_%E1%89%BE%E1%88%9D%E1%88%B5%E1%8A%AA\" title=\"ኖም ቾምስኪ (amárico)\" lang=\"am\" hreflang=\"am\" class=\"interlanguage-link-target\"><span>አማርኛ</span></a></li><li class=\"interlanguage-link interwiki-an mw-list-item\"><a href=\"https://an.wikipedia.org/wiki/Noam_Chomsky\" title=\"Noam Chomsky (aragonés)\" lang=\"an\" hreflang=\"an\" class=\"interlanguage-link-target\"><span>Aragonés</span></a></li><li class=\"interlanguage-link interwiki-ang mw-list-item\"><a href=\"https://ang.wikipedia.org/wiki/Noam_Chomsky\" title=\"Noam Chomsky (inglés antiguo)\" lang=\"ang\" hreflang=\"ang\" class=\"interlanguage-link-target\"><span>Ænglisc</span></a></li><li class=\"interlanguage-link interwiki-ar mw-list-item\"><a href=\"https://ar.wikipedia.org/wiki/%D9%86%D8%B9%D9%88%D9%85_%D8%AA%D8%B4%D9%88%D9%85%D8%B3%D9%83%D9%8A\" title=\"نعوم تشومسكي (árabe)\" lang=\"ar\" hreflang=\"ar\" class=\"interlanguage-link-target\"><span>العربية</span></a></li><li class=\"interlanguage-link interwiki-ary mw-list-item\"><a href=\"https://ary.wikipedia.org/wiki/%D9%86%D8%B9%D9%88%D9%85_%D8%AA%D8%B4%D9%88%D9%85%D8%B3%D9%83%D9%8A\" title=\"نعوم تشومسكي (Moroccan Arabic)\" lang=\"ary\" hreflang=\"ary\" class=\"interlanguage-link-target\"><span>الدارجة</span></a></li><li class=\"interlanguage-link interwiki-arz mw-list-item\"><a href=\"https://arz.wikipedia.org/wiki/%D9%86%D8%A7%D8%B9%D9%88%D9%85_%D8%AA%D8%B4%D9%88%D9%85%D8%B3%D9%83%D9%89\" title=\"ناعوم تشومسكى (Egyptian Arabic)\" lang=\"arz\" hreflang=\"arz\" class=\"interlanguage-link-target\"><span>مصرى</span></a></li><li class=\"interlanguage-link interwiki-ast mw-list-item\"><a href=\"https://ast.wikipedia.org/wiki/Noam_Chomsky\" title=\"Noam Chomsky (asturiano)\" lang=\"ast\" hreflang=\"ast\" class=\"interlanguage-link-target\"><span>Asturianu</span></a></li><li class=\"interlanguage-link interwiki-az badge-Q17437796 badge-featuredarticle mw-list-item\" title=\"artículo destacado\"><a href=\"https://az.wikipedia.org/wiki/Noam_%C3%87omski\" title=\"Noam Çomski (azerbaiyano)\" lang=\"az\" hreflang=\"az\" class=\"interlanguage-link-target\"><span>Azərbaycanca</span></a></li><li class=\"interlanguage-link interwiki-azb mw-list-item\"><a href=\"https://azb.wikipedia.org/wiki/%D9%86%D9%88%D8%A2%D9%85_%DA%86%D8%A7%D9%85%D8%B3%DA%A9%DB%8C\" title=\"نوآم چامسکی (South Azerbaijani)\" lang=\"azb\" hreflang=\"azb\" class=\"interlanguage-link-target\"><span>تۆرکجه</span></a></li><li class=\"interlanguage-link interwiki-ba mw-list-item\"><a href=\"https://ba.wikipedia.org/wiki/%D0%9D%D0%BE%D0%B0%D0%BC_%D0%A5%D0%BE%D0%BC%D1%81%D0%BA%D0%B8%D0%B9\" title=\"Ноам Хомский (baskir)\" lang=\"ba\" hreflang=\"ba\" class=\"interlanguage-link-target\"><span>Башҡортса</span></a></li><li class=\"interlanguage-link interwiki-bat-smg mw-list-item\"><a href=\"https://bat-smg.wikipedia.org/wiki/Noam_Chomsky\" title=\"Noam Chomsky (Samogitian)\" lang=\"sgs\" hreflang=\"sgs\" class=\"interlanguage-link-target\"><span>Žemaitėška</span></a></li><li class=\"interlanguage-link interwiki-be mw-list-item\"><a href=\"https://be.wikipedia.org/wiki/%D0%9D%D0%BE%D0%B0%D0%BC_%D0%A5%D0%BE%D0%BC%D1%81%D0%BA%D1%96\" title=\"Ноам Хомскі (bielorruso)\" lang=\"be\" hreflang=\"be\" class=\"interlanguage-link-target\"><span>Беларуская</span></a></li><li class=\"interlanguage-link interwiki-be-x-old mw-list-item\"><a href=\"https://be-tarask.wikipedia.org/wiki/%D0%9D%D0%BE%D0%B0%D0%BC_%D0%A7%D0%BE%D0%BC%D1%81%D0%BA%D1%96\" title=\"Ноам Чомскі (Belarusian (Taraškievica orthography))\" lang=\"be-tarask\" hreflang=\"be-tarask\" class=\"interlanguage-link-target\"><span>Беларуская (тарашкевіца)</span></a></li><li class=\"interlanguage-link interwiki-bg mw-list-item\"><a href=\"https://bg.wikipedia.org/wiki/%D0%9D%D0%BE%D0%B0%D0%BC_%D0%A7%D0%BE%D0%BC%D1%81%D0%BA%D0%B8\" title=\"Ноам Чомски (búlgaro)\" lang=\"bg\" hreflang=\"bg\" class=\"interlanguage-link-target\"><span>Български</span></a></li><li class=\"interlanguage-link interwiki-bh mw-list-item\"><a href=\"https://bh.wikipedia.org/wiki/%E0%A4%A8%E0%A5%8B%E0%A4%AE_%E0%A4%9A%E0%A5%8B%E0%A4%AE%E0%A4%B8%E0%A5%8D%E0%A4%95%E0%A5%80\" title=\"नोम चोमस्की (Bhojpuri)\" lang=\"bh\" hreflang=\"bh\" class=\"interlanguage-link-target\"><span>भोजपुरी</span></a></li><li class=\"interlanguage-link interwiki-bn mw-list-item\"><a href=\"https://bn.wikipedia.org/wiki/%E0%A6%A8%E0%A7%8B%E0%A6%AE_%E0%A6%9A%E0%A6%AE%E0%A7%8D%E2%80%8C%E0%A6%B8%E0%A7%8D%E0%A6%95%E0%A6%BF\" title=\"নোম চম্‌স্কি (bengalí)\" lang=\"bn\" hreflang=\"bn\" class=\"interlanguage-link-target\"><span>বাংলা</span></a></li><li class=\"interlanguage-link interwiki-bo mw-list-item\"><a href=\"https://bo.wikipedia.org/wiki/%E0%BD%93%E0%BD%98%E0%BC%8B%E0%BD%86%E0%BD%BC%E0%BD%98%E0%BC%8B%E0%BD%A6%E0%BD%B2%E0%BC%8B%E0%BD%80%E0%BD%BA%E0%BC%8D\" title=\"ནམ་ཆོམ་སི་ཀེ། (tibetano)\" lang=\"bo\" hreflang=\"bo\" class=\"interlanguage-link-target\"><span>བོད་ཡིག</span></a></li><li class=\"interlanguage-link interwiki-br mw-list-item\"><a href=\"https://br.wikipedia.org/wiki/Noam_Chomsky\" title=\"Noam Chomsky (bretón)\" lang=\"br\" hreflang=\"br\" class=\"interlanguage-link-target\"><span>Brezhoneg</span></a></li><li class=\"interlanguage-link interwiki-bs mw-list-item\"><a href=\"https://bs.wikipedia.org/wiki/Noam_Chomsky\" title=\"Noam Chomsky (bosnio)\" lang=\"bs\" hreflang=\"bs\" class=\"interlanguage-link-target\"><span>Bosanski</span></a></li><li class=\"interlanguage-link interwiki-bxr mw-list-item\"><a href=\"https://bxr.wikipedia.org/wiki/%D0%9D%D0%BE%D0%B0%D0%BC_%D0%A7%D0%BE%D0%BC%D1%81%D0%BA%D0%B8\" title=\"Ноам Чомски (Russia Buriat)\" lang=\"bxr\" hreflang=\"bxr\" class=\"interlanguage-link-target\"><span>Буряад</span></a></li><li class=\"interlanguage-link interwiki-ca mw-list-item\"><a href=\"https://ca.wikipedia.org/wiki/Noam_Chomsky\" title=\"Noam Chomsky (catalán)\" lang=\"ca\" hreflang=\"ca\" class=\"interlanguage-link-target\"><span>Català</span></a></li><li class=\"interlanguage-link interwiki-ce mw-list-item\"><a href=\"https://ce.wikipedia.org/wiki/%D0%A5%D0%BE%D0%BC%D1%81%D0%BA%D0%B8,_%D0%9D%D0%BE%D0%B0%D0%BC\" title=\"Хомски, Ноам (checheno)\" lang=\"ce\" hreflang=\"ce\" class=\"interlanguage-link-target\"><span>Нохчийн</span></a></li><li class=\"interlanguage-link interwiki-ckb mw-list-item\"><a href=\"https://ckb.wikipedia.org/wiki/%D9%86%D9%88%D8%A7%D9%85_%DA%86%DB%86%D9%85%D8%B3%DA%A9%DB%8C\" title=\"نوام چۆمسکی (kurdo sorani)\" lang=\"ckb\" hreflang=\"ckb\" class=\"interlanguage-link-target\"><span>کوردی</span></a></li><li class=\"interlanguage-link interwiki-crh mw-list-item\"><a href=\"https://crh.wikipedia.org/wiki/Noam_%C3%87omski\" title=\"Noam Çomski (tártaro de Crimea)\" lang=\"crh\" hreflang=\"crh\" class=\"interlanguage-link-target\"><span>Qırımtatarca</span></a></li><li class=\"interlanguage-link interwiki-cs mw-list-item\"><a href=\"https://cs.wikipedia.org/wiki/Noam_Chomsky\" title=\"Noam Chomsky (checo)\" lang=\"cs\" hreflang=\"cs\" class=\"interlanguage-link-target\"><span>Čeština</span></a></li><li class=\"interlanguage-link interwiki-cu mw-list-item\"><a href=\"https://cu.wikipedia.org/wiki/%D0%90%D0%B2%D1%80%D0%B0%D0%BC%D1%8A_%D0%9D%D0%BE%D0%B0%D0%BC%D1%8A_%D0%A5%D0%BE%D0%BC%D1%8C%D1%81%D0%BA%EA%99%91%D0%B8\" title=\"Аврамъ Ноамъ Хомьскꙑи (eslavo eclesiástico)\" lang=\"cu\" hreflang=\"cu\" class=\"interlanguage-link-target\"><span>Словѣньскъ / ⰔⰎⰑⰂⰡⰐⰠⰔⰍⰟ</span></a></li><li class=\"interlanguage-link interwiki-cy mw-list-item\"><a href=\"https://cy.wikipedia.org/wiki/Noam_Chomsky\" title=\"Noam Chomsky (galés)\" lang=\"cy\" hreflang=\"cy\" class=\"interlanguage-link-target\"><span>Cymraeg</span></a></li><li class=\"interlanguage-link interwiki-da mw-list-item\"><a href=\"https://da.wikipedia.org/wiki/Noam_Chomsky\" title=\"Noam Chomsky (danés)\" lang=\"da\" hreflang=\"da\" class=\"interlanguage-link-target\"><span>Dansk</span></a></li><li class=\"interlanguage-link interwiki-de mw-list-item\"><a href=\"https://de.wikipedia.org/wiki/Noam_Chomsky\" title=\"Noam Chomsky (alemán)\" lang=\"de\" hreflang=\"de\" class=\"interlanguage-link-target\"><span>Deutsch</span></a></li><li class=\"interlanguage-link interwiki-diq mw-list-item\"><a href=\"https://diq.wikipedia.org/wiki/Noam_Chomsky\" title=\"Noam Chomsky (Zazaki)\" lang=\"diq\" hreflang=\"diq\" class=\"interlanguage-link-target\"><span>Zazaki</span></a></li><li class=\"interlanguage-link interwiki-el mw-list-item\"><a href=\"https://el.wikipedia.org/wiki/%CE%9D%CF%8C%CE%B1%CE%BC_%CE%A4%CF%83%CF%8C%CE%BC%CF%83%CE%BA%CE%B9\" title=\"Νόαμ Τσόμσκι (griego)\" lang=\"el\" hreflang=\"el\" class=\"interlanguage-link-target\"><span>Ελληνικά</span></a></li><li class=\"interlanguage-link interwiki-en badge-Q17437798 badge-goodarticle mw-list-item\" title=\"artículo bueno\"><a href=\"https://en.wikipedia.org/wiki/Noam_Chomsky\" title=\"Noam Chomsky (inglés)\" lang=\"en\" hreflang=\"en\" class=\"interlanguage-link-target\"><span>English</span></a></li><li class=\"interlanguage-link interwiki-eo mw-list-item\"><a href=\"https://eo.wikipedia.org/wiki/Noam_Chomsky\" title=\"Noam Chomsky (esperanto)\" lang=\"eo\" hreflang=\"eo\" class=\"interlanguage-link-target\"><span>Esperanto</span></a></li><li class=\"interlanguage-link interwiki-et mw-list-item\"><a href=\"https://et.wikipedia.org/wiki/Noam_Chomsky\" title=\"Noam Chomsky (estonio)\" lang=\"et\" hreflang=\"et\" class=\"interlanguage-link-target\"><span>Eesti</span></a></li><li class=\"interlanguage-link interwiki-eu badge-Q17437796 badge-featuredarticle mw-list-item\" title=\"artículo destacado\"><a href=\"https://eu.wikipedia.org/wiki/Noam_Chomsky\" title=\"Noam Chomsky (euskera)\" lang=\"eu\" hreflang=\"eu\" class=\"interlanguage-link-target\"><span>Euskara</span></a></li><li class=\"interlanguage-link interwiki-ext mw-list-item\"><a href=\"https://ext.wikipedia.org/wiki/Noam_Chomski\" title=\"Noam Chomski (Extremaduran)\" lang=\"ext\" hreflang=\"ext\" class=\"interlanguage-link-target\"><span>Estremeñu</span></a></li><li class=\"interlanguage-link interwiki-fa mw-list-item\"><a href=\"https://fa.wikipedia.org/wiki/%D9%86%D9%88%D8%A2%D9%85_%DA%86%D8%A7%D9%85%D8%B3%DA%A9%DB%8C\" title=\"نوآم چامسکی (persa)\" lang=\"fa\" hreflang=\"fa\" class=\"interlanguage-link-target\"><span>فارسی</span></a></li><li class=\"interlanguage-link interwiki-fi mw-list-item\"><a href=\"https://fi.wikipedia.org/wiki/Noam_Chomsky\" title=\"Noam Chomsky (finés)\" lang=\"fi\" hreflang=\"fi\" class=\"interlanguage-link-target\"><span>Suomi</span></a></li><li class=\"interlanguage-link interwiki-fr badge-Q17437796 badge-featuredarticle mw-list-item\" title=\"artículo destacado\"><a href=\"https://fr.wikipedia.org/wiki/Noam_Chomsky\" title=\"Noam Chomsky (francés)\" lang=\"fr\" hreflang=\"fr\" class=\"interlanguage-link-target\"><span>Français</span></a></li><li class=\"interlanguage-link interwiki-frr mw-list-item\"><a href=\"https://frr.wikipedia.org/wiki/Noam_Chomsky\" title=\"Noam Chomsky (frisón septentrional)\" lang=\"frr\" hreflang=\"frr\" class=\"interlanguage-link-target\"><span>Nordfriisk</span></a></li><li class=\"interlanguage-link interwiki-ga mw-list-item\"><a href=\"https://ga.wikipedia.org/wiki/Noam_Chomsky\" title=\"Noam Chomsky (irlandés)\" lang=\"ga\" hreflang=\"ga\" class=\"interlanguage-link-target\"><span>Gaeilge</span></a></li><li class=\"interlanguage-link interwiki-gd mw-list-item\"><a href=\"https://gd.wikipedia.org/wiki/Noam_Chomsky\" title=\"Noam Chomsky (gaélico escocés)\" lang=\"gd\" hreflang=\"gd\" class=\"interlanguage-link-target\"><span>Gàidhlig</span></a></li><li class=\"interlanguage-link interwiki-gl mw-list-item\"><a href=\"https://gl.wikipedia.org/wiki/Noam_Chomsky\" title=\"Noam Chomsky (gallego)\" lang=\"gl\" hreflang=\"gl\" class=\"interlanguage-link-target\"><span>Galego</span></a></li><li class=\"interlanguage-link interwiki-glk mw-list-item\"><a href=\"https://glk.wikipedia.org/wiki/%D9%86%D8%A4%D8%A7%D9%85_%DA%86%D8%A7%D9%85%D8%B3%DA%A9%D9%8A\" title=\"نؤام چامسکي (Gilaki)\" lang=\"glk\" hreflang=\"glk\" class=\"interlanguage-link-target\"><span>گیلکی</span></a></li><li class=\"interlanguage-link interwiki-gu mw-list-item\"><a href=\"https://gu.wikipedia.org/wiki/%E0%AA%A8%E0%AB%8B%E0%AA%86%E0%AA%AE_%E0%AA%9A%E0%AB%8B%E0%AA%AE%E0%AB%8D%E0%AA%B8%E0%AB%8D%E0%AA%95%E0%AB%80\" title=\"નોઆમ ચોમ્સ્કી (guyaratí)\" lang=\"gu\" hreflang=\"gu\" class=\"interlanguage-link-target\"><span>ગુજરાતી</span></a></li><li class=\"interlanguage-link interwiki-he mw-list-item\"><a href=\"https://he.wikipedia.org/wiki/%D7%A0%D7%95%D7%A2%D7%9D_%D7%97%D7%95%D7%9E%D7%A1%D7%A7%D7%99\" title=\"נועם חומסקי (hebreo)\" lang=\"he\" hreflang=\"he\" class=\"interlanguage-link-target\"><span>עברית</span></a></li><li class=\"interlanguage-link interwiki-hi mw-list-item\"><a href=\"https://hi.wikipedia.org/wiki/%E0%A4%A8%E0%A5%8B%E0%A4%86%E0%A4%AE_%E0%A4%9A%E0%A4%BE%E0%A4%AE%E0%A5%8D%E0%A4%B8%E0%A4%95%E0%A5%80\" title=\"नोआम चाम्सकी (hindi)\" lang=\"hi\" hreflang=\"hi\" class=\"interlanguage-link-target\"><span>हिन्दी</span></a></li><li class=\"interlanguage-link interwiki-hif mw-list-item\"><a href=\"https://hif.wikipedia.org/wiki/Noam_Chomsky\" title=\"Noam Chomsky (Fiji Hindi)\" lang=\"hif\" hreflang=\"hif\" class=\"interlanguage-link-target\"><span>Fiji Hindi</span></a></li><li class=\"interlanguage-link interwiki-hr mw-list-item\"><a href=\"https://hr.wikipedia.org/wiki/Noam_Chomsky\" title=\"Noam Chomsky (croata)\" lang=\"hr\" hreflang=\"hr\" class=\"interlanguage-link-target\"><span>Hrvatski</span></a></li><li class=\"interlanguage-link interwiki-ht mw-list-item\"><a href=\"https://ht.wikipedia.org/wiki/Noam_Chomsky\" title=\"Noam Chomsky (criollo haitiano)\" lang=\"ht\" hreflang=\"ht\" class=\"interlanguage-link-target\"><span>Kreyòl ayisyen</span></a></li><li class=\"interlanguage-link interwiki-hu mw-list-item\"><a href=\"https://hu.wikipedia.org/wiki/Noam_Chomsky\" title=\"Noam Chomsky (húngaro)\" lang=\"hu\" hreflang=\"hu\" class=\"interlanguage-link-target\"><span>Magyar</span></a></li><li class=\"interlanguage-link interwiki-hy mw-list-item\"><a href=\"https://hy.wikipedia.org/wiki/%D5%86%D5%B8%D5%A1%D5%B4_%D5%89%D5%B8%D5%B4%D5%BD%D5%AF%D5%AB\" title=\"Նոամ Չոմսկի (armenio)\" lang=\"hy\" hreflang=\"hy\" class=\"interlanguage-link-target\"><span>Հայերեն</span></a></li><li class=\"interlanguage-link interwiki-hyw mw-list-item\"><a href=\"https://hyw.wikipedia.org/wiki/%D5%86%D5%B8%D5%A1%D5%B4_%D5%89%D5%B8%D5%B4%D5%BD%D6%84%D5%AB\" title=\"Նոամ Չոմսքի (Western Armenian)\" lang=\"hyw\" hreflang=\"hyw\" class=\"interlanguage-link-target\"><span>Արեւմտահայերէն</span></a></li><li class=\"interlanguage-link interwiki-ia mw-list-item\"><a href=\"https://ia.wikipedia.org/wiki/Noam_Chomsky\" title=\"Noam Chomsky (interlingua)\" lang=\"ia\" hreflang=\"ia\" class=\"interlanguage-link-target\"><span>Interlingua</span></a></li><li class=\"interlanguage-link interwiki-id mw-list-item\"><a href=\"https://id.wikipedia.org/wiki/Noam_Chomsky\" title=\"Noam Chomsky (indonesio)\" lang=\"id\" hreflang=\"id\" class=\"interlanguage-link-target\"><span>Bahasa Indonesia</span></a></li><li class=\"interlanguage-link interwiki-ilo mw-list-item\"><a href=\"https://ilo.wikipedia.org/wiki/Noam_Chomsky\" title=\"Noam Chomsky (ilocano)\" lang=\"ilo\" hreflang=\"ilo\" class=\"interlanguage-link-target\"><span>Ilokano</span></a></li><li class=\"interlanguage-link interwiki-io mw-list-item\"><a href=\"https://io.wikipedia.org/wiki/Noam_Chomsky\" title=\"Noam Chomsky (ido)\" lang=\"io\" hreflang=\"io\" class=\"interlanguage-link-target\"><span>Ido</span></a></li><li class=\"interlanguage-link interwiki-is mw-list-item\"><a href=\"https://is.wikipedia.org/wiki/Noam_Chomsky\" title=\"Noam Chomsky (islandés)\" lang=\"is\" hreflang=\"is\" class=\"interlanguage-link-target\"><span>Íslenska</span></a></li><li class=\"interlanguage-link interwiki-it mw-list-item\"><a href=\"https://it.wikipedia.org/wiki/Noam_Chomsky\" title=\"Noam Chomsky (italiano)\" lang=\"it\" hreflang=\"it\" class=\"interlanguage-link-target\"><span>Italiano</span></a></li><li class=\"interlanguage-link interwiki-ja mw-list-item\"><a href=\"https://ja.wikipedia.org/wiki/%E3%83%8E%E3%83%BC%E3%83%A0%E3%83%BB%E3%83%81%E3%83%A7%E3%83%A0%E3%82%B9%E3%82%AD%E3%83%BC\" title=\"ノーム・チョムスキー (japonés)\" lang=\"ja\" hreflang=\"ja\" class=\"interlanguage-link-target\"><span>日本語</span></a></li><li class=\"interlanguage-link interwiki-jbo mw-list-item\"><a href=\"https://jbo.wikipedia.org/wiki/nom.tcomskis\" title=\"nom.tcomskis (lojban)\" lang=\"jbo\" hreflang=\"jbo\" class=\"interlanguage-link-target\"><span>La .lojban.</span></a></li><li class=\"interlanguage-link interwiki-jv mw-list-item\"><a href=\"https://jv.wikipedia.org/wiki/Noam_Chomsky\" title=\"Noam Chomsky (javanés)\" lang=\"jv\" hreflang=\"jv\" class=\"interlanguage-link-target\"><span>Jawa</span></a></li><li class=\"interlanguage-link interwiki-ka mw-list-item\"><a href=\"https://ka.wikipedia.org/wiki/%E1%83%9C%E1%83%9D%E1%83%90%E1%83%9B_%E1%83%A9%E1%83%9D%E1%83%9B%E1%83%A1%E1%83%99%E1%83%98\" title=\"ნოამ ჩომსკი (georgiano)\" lang=\"ka\" hreflang=\"ka\" class=\"interlanguage-link-target\"><span>ქართული</span></a></li><li class=\"interlanguage-link interwiki-kk mw-list-item\"><a href=\"https://kk.wikipedia.org/wiki/%D0%9D%D0%BE%D0%B0%D0%BC_%D0%A7%D0%BE%D0%BC%D1%81%D0%BA%D0%B8\" title=\"Ноам Чомски (kazajo)\" lang=\"kk\" hreflang=\"kk\" class=\"interlanguage-link-target\"><span>Қазақша</span></a></li><li class=\"interlanguage-link interwiki-kn mw-list-item\"><a href=\"https://kn.wikipedia.org/wiki/%E0%B2%A8%E0%B3%8B%E0%B2%85%E0%B2%AE%E0%B3%8D_%E0%B2%9A%E0%B2%BE%E0%B2%AE%E0%B3%8D%E0%B2%B8%E0%B3%8D%E0%B2%95%E0%B3%80\" title=\"ನೋಅಮ್ ಚಾಮ್ಸ್ಕೀ (canarés)\" lang=\"kn\" hreflang=\"kn\" class=\"interlanguage-link-target\"><span>ಕನ್ನಡ</span></a></li><li class=\"interlanguage-link interwiki-ko mw-list-item\"><a href=\"https://ko.wikipedia.org/wiki/%EB%85%B8%EC%97%84_%EC%B4%98%EC%8A%A4%ED%82%A4\" title=\"노엄 촘스키 (coreano)\" lang=\"ko\" hreflang=\"ko\" class=\"interlanguage-link-target\"><span>한국어</span></a></li><li class=\"interlanguage-link interwiki-ks mw-list-item\"><a href=\"https://ks.wikipedia.org/wiki/%D9%86%D9%B2%D8%A4%D9%85_%DA%86%D9%88%D9%85%D8%B3%DA%A9%D8%A0\" title=\"نٲؤم چومسکؠ (cachemiro)\" lang=\"ks\" hreflang=\"ks\" class=\"interlanguage-link-target\"><span>कॉशुर / کٲشُر</span></a></li><li class=\"interlanguage-link interwiki-ku mw-list-item\"><a href=\"https://ku.wikipedia.org/wiki/Noam_Chomsky\" title=\"Noam Chomsky (kurdo)\" lang=\"ku\" hreflang=\"ku\" class=\"interlanguage-link-target\"><span>Kurdî</span></a></li><li class=\"interlanguage-link interwiki-kw mw-list-item\"><a href=\"https://kw.wikipedia.org/wiki/Noam_Chomsky\" title=\"Noam Chomsky (córnico)\" lang=\"kw\" hreflang=\"kw\" class=\"interlanguage-link-target\"><span>Kernowek</span></a></li><li class=\"interlanguage-link interwiki-la badge-Q17437796 badge-featuredarticle mw-list-item\" title=\"artículo destacado\"><a href=\"https://la.wikipedia.org/wiki/Noam_Chomsky\" title=\"Noam Chomsky (latín)\" lang=\"la\" hreflang=\"la\" class=\"interlanguage-link-target\"><span>Latina</span></a></li><li class=\"interlanguage-link interwiki-lb mw-list-item\"><a href=\"https://lb.wikipedia.org/wiki/Noam_Chomsky\" title=\"Noam Chomsky (luxemburgués)\" lang=\"lb\" hreflang=\"lb\" class=\"interlanguage-link-target\"><span>Lëtzebuergesch</span></a></li><li class=\"interlanguage-link interwiki-li mw-list-item\"><a href=\"https://li.wikipedia.org/wiki/Noam_Chomsky\" title=\"Noam Chomsky (limburgués)\" lang=\"li\" hreflang=\"li\" class=\"interlanguage-link-target\"><span>Limburgs</span></a></li><li class=\"interlanguage-link interwiki-lmo mw-list-item\"><a href=\"https://lmo.wikipedia.org/wiki/Noam_Chomsky\" title=\"Noam Chomsky (Lombard)\" lang=\"lmo\" hreflang=\"lmo\" class=\"interlanguage-link-target\"><span>Lombard</span></a></li><li class=\"interlanguage-link interwiki-lt mw-list-item\"><a href=\"https://lt.wikipedia.org/wiki/Noam_Chomsky\" title=\"Noam Chomsky (lituano)\" lang=\"lt\" hreflang=\"lt\" class=\"interlanguage-link-target\"><span>Lietuvių</span></a></li><li class=\"interlanguage-link interwiki-lv mw-list-item\"><a href=\"https://lv.wikipedia.org/wiki/Noams_%C4%8Comskis\" title=\"Noams Čomskis (letón)\" lang=\"lv\" hreflang=\"lv\" class=\"interlanguage-link-target\"><span>Latviešu</span></a></li><li class=\"interlanguage-link interwiki-mad mw-list-item\"><a href=\"https://mad.wikipedia.org/wiki/Noam_Chomsky\" title=\"Noam Chomsky (madurés)\" lang=\"mad\" hreflang=\"mad\" class=\"interlanguage-link-target\"><span>Madhurâ</span></a></li><li class=\"interlanguage-link interwiki-mg mw-list-item\"><a href=\"https://mg.wikipedia.org/wiki/Noam_Chomsky\" title=\"Noam Chomsky (malgache)\" lang=\"mg\" hreflang=\"mg\" class=\"interlanguage-link-target\"><span>Malagasy</span></a></li><li class=\"interlanguage-link interwiki-mk mw-list-item\"><a href=\"https://mk.wikipedia.org/wiki/%D0%9D%D0%BE%D0%B0%D0%BC_%D0%A7%D0%BE%D0%BC%D1%81%D0%BA%D0%B8\" title=\"Ноам Чомски (macedonio)\" lang=\"mk\" hreflang=\"mk\" class=\"interlanguage-link-target\"><span>Македонски</span></a></li><li class=\"interlanguage-link interwiki-ml mw-list-item\"><a href=\"https://ml.wikipedia.org/wiki/%E0%B4%A8%E0%B5%8B%E0%B4%82_%E0%B4%9A%E0%B5%8B%E0%B4%82%E0%B4%B8%E0%B5%8D%E0%B4%95%E0%B4%BF\" title=\"നോം ചോംസ്കി (malayalam)\" lang=\"ml\" hreflang=\"ml\" class=\"interlanguage-link-target\"><span>മലയാളം</span></a></li><li class=\"interlanguage-link interwiki-mn mw-list-item\"><a href=\"https://mn.wikipedia.org/wiki/%D0%9D%D0%BE%D0%B0%D0%BC_%D0%A7%D0%BE%D0%BC%D1%81%D0%BA%D0%B8%D0%B9\" title=\"Ноам Чомский (mongol)\" lang=\"mn\" hreflang=\"mn\" class=\"interlanguage-link-target\"><span>Монгол</span></a></li><li class=\"interlanguage-link interwiki-mr mw-list-item\"><a href=\"https://mr.wikipedia.org/wiki/%E0%A4%A8%E0%A5%8B%E0%A4%86%E0%A4%AE_%E0%A4%9A%E0%A5%89%E0%A4%AE%E0%A5%8D%E0%A4%B8%E0%A5%8D%E0%A4%95%E0%A5%80\" title=\"नोआम चॉम्स्की (maratí)\" lang=\"mr\" hreflang=\"mr\" class=\"interlanguage-link-target\"><span>मराठी</span></a></li><li class=\"interlanguage-link interwiki-ms mw-list-item\"><a href=\"https://ms.wikipedia.org/wiki/Noam_Chomsky\" title=\"Noam Chomsky (malayo)\" lang=\"ms\" hreflang=\"ms\" class=\"interlanguage-link-target\"><span>Bahasa Melayu</span></a></li><li class=\"interlanguage-link interwiki-my mw-list-item\"><a href=\"https://my.wikipedia.org/wiki/%E1%80%94%E1%80%AD%E1%80%AF%E1%80%9B%E1%80%99%E1%80%BA_%E1%80%81%E1%80%BB%E1%80%B1%E1%80%AC%E1%80%84%E1%80%BA%E1%80%85%E1%80%80%E1%80%AE%E1%80%B8\" title=\"နိုရမ် ချောင်စကီး (birmano)\" lang=\"my\" hreflang=\"my\" class=\"interlanguage-link-target\"><span>မြန်မာဘာသာ</span></a></li><li class=\"interlanguage-link interwiki-myv mw-list-item\"><a href=\"https://myv.wikipedia.org/wiki/%D0%9D%D0%BE%D0%B0%D0%BC_%D0%A5%D0%BE%D0%BC%D1%81%D0%BA%D0%B8%D0%B9\" title=\"Ноам Хомский (erzya)\" lang=\"myv\" hreflang=\"myv\" class=\"interlanguage-link-target\"><span>Эрзянь</span></a></li><li class=\"interlanguage-link interwiki-nl mw-list-item\"><a href=\"https://nl.wikipedia.org/wiki/Noam_Chomsky\" title=\"Noam Chomsky (neerlandés)\" lang=\"nl\" hreflang=\"nl\" class=\"interlanguage-link-target\"><span>Nederlands</span></a></li><li class=\"interlanguage-link interwiki-nn mw-list-item\"><a href=\"https://nn.wikipedia.org/wiki/Noam_Chomsky\" title=\"Noam Chomsky (noruego nynorsk)\" lang=\"nn\" hreflang=\"nn\" class=\"interlanguage-link-target\"><span>Norsk nynorsk</span></a></li><li class=\"interlanguage-link interwiki-no mw-list-item\"><a href=\"https://no.wikipedia.org/wiki/Noam_Chomsky\" title=\"Noam Chomsky (noruego bokmal)\" lang=\"nb\" hreflang=\"nb\" class=\"interlanguage-link-target\"><span>Norsk bokmål</span></a></li><li class=\"interlanguage-link interwiki-nqo mw-list-item\"><a href=\"https://nqo.wikipedia.org/wiki/%DF%8A%DF%9D%DF%91%DF%99%DF%8A%DF%A1_%DF%A3%DF%8F%DF%AF%DF%A1_%DF%9B%DF%AD%DF%8F%DF%A1%DF%9B%DF%91%DF%9E%DF%8C%DF%AB\" title=\"ߊߝߑߙߊߡ ߣߏ߯ߡ ߛ߭ߏߡߛߑߞߌ߫ (n’ko)\" lang=\"nqo\" hreflang=\"nqo\" class=\"interlanguage-link-target\"><span>ߒߞߏ</span></a></li><li class=\"interlanguage-link interwiki-oc mw-list-item\"><a href=\"https://oc.wikipedia.org/wiki/Noam_Chomsky\" title=\"Noam Chomsky (occitano)\" lang=\"oc\" hreflang=\"oc\" class=\"interlanguage-link-target\"><span>Occitan</span></a></li><li class=\"interlanguage-link interwiki-os mw-list-item\"><a href=\"https://os.wikipedia.org/wiki/%D0%A5%D0%BE%D0%BC%D1%81%D0%BA%D0%B8%D0%B9,_%D0%9D%D0%BE%D0%B0%D0%BC\" title=\"Хомский, Ноам (osético)\" lang=\"os\" hreflang=\"os\" class=\"interlanguage-link-target\"><span>Ирон</span></a></li><li class=\"interlanguage-link interwiki-pa mw-list-item\"><a href=\"https://pa.wikipedia.org/wiki/%E0%A8%A8%E0%A9%8C%E0%A8%AE_%E0%A8%9A%E0%A9%8C%E0%A8%AE%E0%A8%B8%E0%A8%95%E0%A9%80\" title=\"ਨੌਮ ਚੌਮਸਕੀ (punyabí)\" lang=\"pa\" hreflang=\"pa\" class=\"interlanguage-link-target\"><span>ਪੰਜਾਬੀ</span></a></li><li class=\"interlanguage-link interwiki-pl mw-list-item\"><a href=\"https://pl.wikipedia.org/wiki/Noam_Chomsky\" title=\"Noam Chomsky (polaco)\" lang=\"pl\" hreflang=\"pl\" class=\"interlanguage-link-target\"><span>Polski</span></a></li><li class=\"interlanguage-link interwiki-pms mw-list-item\"><a href=\"https://pms.wikipedia.org/wiki/Noam_Chomsky\" title=\"Noam Chomsky (Piedmontese)\" lang=\"pms\" hreflang=\"pms\" class=\"interlanguage-link-target\"><span>Piemontèis</span></a></li><li class=\"interlanguage-link interwiki-pnb mw-list-item\"><a href=\"https://pnb.wikipedia.org/wiki/%D9%86%D9%88%D9%85_%DA%86%D9%88%D9%85%D8%B3%DA%A9%DB%8C\" title=\"نوم چومسکی (Western Punjabi)\" lang=\"pnb\" hreflang=\"pnb\" class=\"interlanguage-link-target\"><span>پنجابی</span></a></li><li class=\"interlanguage-link interwiki-ps mw-list-item\"><a href=\"https://ps.wikipedia.org/wiki/%D9%86%D9%88%D9%85_%DA%86%D9%88%D9%85%D8%B3%D9%83%D9%8A\" title=\"نوم چومسكي (pastún)\" lang=\"ps\" hreflang=\"ps\" class=\"interlanguage-link-target\"><span>پښتو</span></a></li><li class=\"interlanguage-link interwiki-pt mw-list-item\"><a href=\"https://pt.wikipedia.org/wiki/Noam_Chomsky\" title=\"Noam Chomsky (portugués)\" lang=\"pt\" hreflang=\"pt\" class=\"interlanguage-link-target\"><span>Português</span></a></li><li class=\"interlanguage-link interwiki-ro mw-list-item\"><a href=\"https://ro.wikipedia.org/wiki/Noam_Chomsky\" title=\"Noam Chomsky (rumano)\" lang=\"ro\" hreflang=\"ro\" class=\"interlanguage-link-target\"><span>Română</span></a></li><li class=\"interlanguage-link interwiki-ru mw-list-item\"><a href=\"https://ru.wikipedia.org/wiki/%D0%A5%D0%BE%D0%BC%D1%81%D0%BA%D0%B8%D0%B9,_%D0%9D%D0%BE%D0%B0%D0%BC\" title=\"Хомский, Ноам (ruso)\" lang=\"ru\" hreflang=\"ru\" class=\"interlanguage-link-target\"><span>Русский</span></a></li><li class=\"interlanguage-link interwiki-rue mw-list-item\"><a href=\"https://rue.wikipedia.org/wiki/%D0%9D%D0%BE%D0%B0%D0%BC_%D0%A7%D0%BE%D0%BC%D1%81%D0%BA%D1%96\" title=\"Ноам Чомскі (Rusyn)\" lang=\"rue\" hreflang=\"rue\" class=\"interlanguage-link-target\"><span>Русиньскый</span></a></li><li class=\"interlanguage-link interwiki-sat mw-list-item\"><a href=\"https://sat.wikipedia.org/wiki/%E1%B1%B1%E1%B1%B3%E1%B1%A3%E1%B1%9F%E1%B1%A2_%E1%B1%AA%E1%B1%9A%E1%B1%A2%E1%B1%A5%E1%B1%A0%E1%B1%A4\" title=\"ᱱᱳᱣᱟᱢ ᱪᱚᱢᱥᱠᱤ (santali)\" lang=\"sat\" hreflang=\"sat\" class=\"interlanguage-link-target\"><span>ᱥᱟᱱᱛᱟᱲᱤ</span></a></li><li class=\"interlanguage-link interwiki-sc mw-list-item\"><a href=\"https://sc.wikipedia.org/wiki/Noam_Chomsky\" title=\"Noam Chomsky (sardo)\" lang=\"sc\" hreflang=\"sc\" class=\"interlanguage-link-target\"><span>Sardu</span></a></li><li class=\"interlanguage-link interwiki-sco mw-list-item\"><a href=\"https://sco.wikipedia.org/wiki/Noam_Chomsky\" title=\"Noam Chomsky (escocés)\" lang=\"sco\" hreflang=\"sco\" class=\"interlanguage-link-target\"><span>Scots</span></a></li><li class=\"interlanguage-link interwiki-se mw-list-item\"><a href=\"https://se.wikipedia.org/wiki/Noam_Chomsky\" title=\"Noam Chomsky (sami septentrional)\" lang=\"se\" hreflang=\"se\" class=\"interlanguage-link-target\"><span>Davvisámegiella</span></a></li><li class=\"interlanguage-link interwiki-sh mw-list-item\"><a href=\"https://sh.wikipedia.org/wiki/Noam_Chomsky\" title=\"Noam Chomsky (serbocroata)\" lang=\"sh\" hreflang=\"sh\" class=\"interlanguage-link-target\"><span>Srpskohrvatski / српскохрватски</span></a></li><li class=\"interlanguage-link interwiki-simple mw-list-item\"><a href=\"https://simple.wikipedia.org/wiki/Noam_Chomsky\" title=\"Noam Chomsky (Simple English)\" lang=\"en-simple\" hreflang=\"en-simple\" class=\"interlanguage-link-target\"><span>Simple English</span></a></li><li class=\"interlanguage-link interwiki-sk mw-list-item\"><a href=\"https://sk.wikipedia.org/wiki/Noam_Avram_Chomsky\" title=\"Noam Avram Chomsky (eslovaco)\" lang=\"sk\" hreflang=\"sk\" class=\"interlanguage-link-target\"><span>Slovenčina</span></a></li><li class=\"interlanguage-link interwiki-sl mw-list-item\"><a href=\"https://sl.wikipedia.org/wiki/Noam_Chomsky\" title=\"Noam Chomsky (esloveno)\" lang=\"sl\" hreflang=\"sl\" class=\"interlanguage-link-target\"><span>Slovenščina</span></a></li><li class=\"interlanguage-link interwiki-sq mw-list-item\"><a href=\"https://sq.wikipedia.org/wiki/Noam_Chomsky\" title=\"Noam Chomsky (albanés)\" lang=\"sq\" hreflang=\"sq\" class=\"interlanguage-link-target\"><span>Shqip</span></a></li><li class=\"interlanguage-link interwiki-sr mw-list-item\"><a href=\"https://sr.wikipedia.org/wiki/%D0%9D%D0%BE%D0%B0%D0%BC_%D0%A7%D0%BE%D0%BC%D1%81%D0%BA%D0%B8\" title=\"Ноам Чомски (serbio)\" lang=\"sr\" hreflang=\"sr\" class=\"interlanguage-link-target\"><span>Српски / srpski</span></a></li><li class=\"interlanguage-link interwiki-su mw-list-item\"><a href=\"https://su.wikipedia.org/wiki/Noam_Chomsky\" title=\"Noam Chomsky (sundanés)\" lang=\"su\" hreflang=\"su\" class=\"interlanguage-link-target\"><span>Sunda</span></a></li><li class=\"interlanguage-link interwiki-sv mw-list-item\"><a href=\"https://sv.wikipedia.org/wiki/Noam_Chomsky\" title=\"Noam Chomsky (sueco)\" lang=\"sv\" hreflang=\"sv\" class=\"interlanguage-link-target\"><span>Svenska</span></a></li><li class=\"interlanguage-link interwiki-sw mw-list-item\"><a href=\"https://sw.wikipedia.org/wiki/Noam_Chomsky\" title=\"Noam Chomsky (suajili)\" lang=\"sw\" hreflang=\"sw\" class=\"interlanguage-link-target\"><span>Kiswahili</span></a></li><li class=\"interlanguage-link interwiki-ta mw-list-item\"><a href=\"https://ta.wikipedia.org/wiki/%E0%AE%A8%E0%AF%8B%E0%AE%AE%E0%AF%8D_%E0%AE%9A%E0%AF%8B%E0%AE%AE%E0%AF%8D%E0%AE%9A%E0%AF%81%E0%AE%95%E0%AF%8D%E0%AE%95%E0%AE%BF\" title=\"நோம் சோம்சுக்கி (tamil)\" lang=\"ta\" hreflang=\"ta\" class=\"interlanguage-link-target\"><span>தமிழ்</span></a></li><li class=\"interlanguage-link interwiki-te mw-list-item\"><a href=\"https://te.wikipedia.org/wiki/%E0%B0%A8%E0%B1%8B%E0%B0%AE%E0%B1%8D_%E0%B0%9A%E0%B1%8B%E0%B0%AE%E0%B1%8D%E0%B0%B8%E0%B1%8D%E0%B0%95%E0%B1%80\" title=\"నోమ్ చోమ్స్కీ (telugu)\" lang=\"te\" hreflang=\"te\" class=\"interlanguage-link-target\"><span>తెలుగు</span></a></li><li class=\"interlanguage-link interwiki-th mw-list-item\"><a href=\"https://th.wikipedia.org/wiki/%E0%B9%82%E0%B8%99%E0%B8%A1_%E0%B8%8A%E0%B8%AD%E0%B8%A1%E0%B8%AA%E0%B8%81%E0%B8%B5\" title=\"โนม ชอมสกี (tailandés)\" lang=\"th\" hreflang=\"th\" class=\"interlanguage-link-target\"><span>ไทย</span></a></li><li class=\"interlanguage-link interwiki-tl mw-list-item\"><a href=\"https://tl.wikipedia.org/wiki/Noam_Chomsky\" title=\"Noam Chomsky (tagalo)\" lang=\"tl\" hreflang=\"tl\" class=\"interlanguage-link-target\"><span>Tagalog</span></a></li><li class=\"interlanguage-link interwiki-tr mw-list-item\"><a href=\"https://tr.wikipedia.org/wiki/Noam_Chomsky\" title=\"Noam Chomsky (turco)\" lang=\"tr\" hreflang=\"tr\" class=\"interlanguage-link-target\"><span>Türkçe</span></a></li><li class=\"interlanguage-link interwiki-tt mw-list-item\"><a href=\"https://tt.wikipedia.org/wiki/Noam_%C3%87omskiy\" title=\"Noam Çomskiy (tártaro)\" lang=\"tt\" hreflang=\"tt\" class=\"interlanguage-link-target\"><span>Татарча/tatarça</span></a></li><li class=\"interlanguage-link interwiki-uk mw-list-item\"><a href=\"https://uk.wikipedia.org/wiki/%D0%9D%D0%BE%D0%B0%D0%BC_%D0%A7%D0%BE%D0%BC%D1%81%D0%BA%D1%96\" title=\"Ноам Чомскі (ucraniano)\" lang=\"uk\" hreflang=\"uk\" class=\"interlanguage-link-target\"><span>Українська</span></a></li><li class=\"interlanguage-link interwiki-ur mw-list-item\"><a href=\"https://ur.wikipedia.org/wiki/%D9%86%D8%A4%D8%A7%D9%85_%DA%86%D9%88%D9%85%D8%B3%DA%A9%DB%8C\" title=\"نؤام چومسکی (urdu)\" lang=\"ur\" hreflang=\"ur\" class=\"interlanguage-link-target\"><span>اردو</span></a></li><li class=\"interlanguage-link interwiki-uz mw-list-item\"><a href=\"https://uz.wikipedia.org/wiki/Noam_Chomsky\" title=\"Noam Chomsky (uzbeko)\" lang=\"uz\" hreflang=\"uz\" class=\"interlanguage-link-target\"><span>Oʻzbekcha/ўзбекча</span></a></li><li class=\"interlanguage-link interwiki-vep mw-list-item\"><a href=\"https://vep.wikipedia.org/wiki/Homskii_Noam\" title=\"Homskii Noam (Veps)\" lang=\"vep\" hreflang=\"vep\" class=\"interlanguage-link-target\"><span>Vepsän kel’</span></a></li><li class=\"interlanguage-link interwiki-vi mw-list-item\"><a href=\"https://vi.wikipedia.org/wiki/Noam_Chomsky\" title=\"Noam Chomsky (vietnamita)\" lang=\"vi\" hreflang=\"vi\" class=\"interlanguage-link-target\"><span>Tiếng Việt</span></a></li><li class=\"interlanguage-link interwiki-vo mw-list-item\"><a href=\"https://vo.wikipedia.org/wiki/Noam_Chomsky\" title=\"Noam Chomsky (volapük)\" lang=\"vo\" hreflang=\"vo\" class=\"interlanguage-link-target\"><span>Volapük</span></a></li><li class=\"interlanguage-link interwiki-wa mw-list-item\"><a href=\"https://wa.wikipedia.org/wiki/Noam_Chomsky\" title=\"Noam Chomsky (valón)\" lang=\"wa\" hreflang=\"wa\" class=\"interlanguage-link-target\"><span>Walon</span></a></li><li class=\"interlanguage-link interwiki-war mw-list-item\"><a href=\"https://war.wikipedia.org/wiki/Noam_Chomsky\" title=\"Noam Chomsky (waray)\" lang=\"war\" hreflang=\"war\" class=\"interlanguage-link-target\"><span>Winaray</span></a></li><li class=\"interlanguage-link interwiki-wuu mw-list-item\"><a href=\"https://wuu.wikipedia.org/wiki/%E8%AF%BA%E5%A7%86%C2%B7%E4%B9%94%E5%A7%86%E6%96%AF%E5%9F%BA\" title=\"诺姆·乔姆斯基 (chino wu)\" lang=\"wuu\" hreflang=\"wuu\" class=\"interlanguage-link-target\"><span>吴语</span></a></li><li class=\"interlanguage-link interwiki-xmf mw-list-item\"><a href=\"https://xmf.wikipedia.org/wiki/%E1%83%9C%E1%83%9D%E1%83%90%E1%83%9B_%E1%83%A9%E1%83%9D%E1%83%9B%E1%83%A1%E1%83%99%E1%83%98\" title=\"ნოამ ჩომსკი (Mingrelian)\" lang=\"xmf\" hreflang=\"xmf\" class=\"interlanguage-link-target\"><span>მარგალური</span></a></li><li class=\"interlanguage-link interwiki-yi mw-list-item\"><a href=\"https://yi.wikipedia.org/wiki/%D7%A0%D7%95%D7%A2%D7%9D_%D7%9B%D7%90%D7%9E%D7%A1%D7%A7%D7%99\" title=\"נועם כאמסקי (yidis)\" lang=\"yi\" hreflang=\"yi\" class=\"interlanguage-link-target\"><span>ייִדיש</span></a></li><li class=\"interlanguage-link interwiki-yo mw-list-item\"><a href=\"https://yo.wikipedia.org/wiki/Noam_Chomsky\" title=\"Noam Chomsky (yoruba)\" lang=\"yo\" hreflang=\"yo\" class=\"interlanguage-link-target\"><span>Yorùbá</span></a></li><li class=\"interlanguage-link interwiki-zh mw-list-item\"><a href=\"https://zh.wikipedia.org/wiki/%E8%AF%BA%E5%A7%86%C2%B7%E4%B9%94%E5%A7%86%E6%96%AF%E5%9F%BA\" title=\"诺姆·乔姆斯基 (chino)\" lang=\"zh\" hreflang=\"zh\" class=\"interlanguage-link-target\"><span>中文</span></a></li><li class=\"interlanguage-link interwiki-zh-min-nan mw-list-item\"><a href=\"https://zh-min-nan.wikipedia.org/wiki/Noam_Chomsky\" title=\"Noam Chomsky (Chinese (Min Nan))\" lang=\"nan\" hreflang=\"nan\" class=\"interlanguage-link-target\"><span>Bân-lâm-gú</span></a></li><li class=\"interlanguage-link interwiki-zh-yue mw-list-item\"><a href=\"https://zh-yue.wikipedia.org/wiki/%E6%9D%AD%E5%A3%AB%E5%9F%BA\" title=\"杭士基 (Cantonese)\" lang=\"yue\" hreflang=\"yue\" class=\"interlanguage-link-target\"><span>粵語</span></a></li></ul>\n",
              "\t\t<div class=\"after-portlet after-portlet-lang\"><span class=\"wb-langlinks-edit wb-langlinks-link\"><a href=\"https://www.wikidata.org/wiki/Special:EntityPage/Q9049#sitelinks-wikipedia\" title=\"Editar enlaces interlingüísticos\" class=\"wbc-editpage\">Editar enlaces</a></span></div>\n",
              "\t</div>\n",
              "</nav>\n",
              "\n",
              "</div>\n",
              "\n",
              "</div>\n",
              "\n",
              "<footer id=\"footer\" class=\"mw-footer\" role=\"contentinfo\" >\n",
              "\t<ul id=\"footer-info\">\n",
              "\t<li id=\"footer-info-lastmod\"> Esta página se editó por última vez el 26 oct 2022 a las 11:04.</li>\n",
              "\t<li id=\"footer-info-copyright\">El texto está disponible bajo la <a rel=\"license\" href=\"//es.wikipedia.org/wiki/Wikipedia:Texto_de_la_Licencia_Creative_Commons_Atribuci%C3%B3n-CompartirIgual_3.0_Unported\">Licencia Creative Commons Atribución Compartir Igual 3.0</a><a rel=\"license\" href=\"http://creativecommons.org/licenses/by-sa/3.0/\" style=\"display:none;\"></a>;\n",
              "pueden aplicarse cláusulas adicionales. Al usar este sitio, usted acepta nuestros <a href=\"//wikimediafoundation.org/wiki/Terms_of_Use\">términos de uso</a> y nuestra <a href=\"//wikimediafoundation.org/wiki/Privacy_policy\">política de privacidad</a>. <br/>Wikipedia&reg; es una marca registrada de la <a href=\"//www.wikimediafoundation.org/\">Fundación Wikimedia, Inc.</a>, una organización sin ánimo de lucro.</li>\n",
              "</ul>\n",
              "\n",
              "\t<ul id=\"footer-places\">\n",
              "\t<li id=\"footer-places-privacy\"><a href=\"https://meta.wikimedia.org/wiki/Privacy_policy/es\">Política de privacidad</a></li>\n",
              "\t<li id=\"footer-places-about\"><a href=\"/wiki/Wikipedia:Acerca_de\">Acerca de Wikipedia</a></li>\n",
              "\t<li id=\"footer-places-disclaimers\"><a href=\"/wiki/Wikipedia:Limitaci%C3%B3n_general_de_responsabilidad\">Limitación de responsabilidad</a></li>\n",
              "\t<li id=\"footer-places-mobileview\"><a href=\"//es.m.wikipedia.org/w/index.php?title=Noam_Chomsky&amp;mobileaction=toggle_view_mobile\" class=\"noprint stopMobileRedirectToggle\">Versión para móviles</a></li>\n",
              "\t<li id=\"footer-places-developers\"><a href=\"https://developer.wikimedia.org\">Desarrolladores</a></li>\n",
              "\t<li id=\"footer-places-statslink\"><a href=\"https://stats.wikimedia.org/#/es.wikipedia.org\">Estadísticas</a></li>\n",
              "\t<li id=\"footer-places-cookiestatement\"><a href=\"https://foundation.wikimedia.org/wiki/Cookie_statement/es\">Declaración de cookies</a></li>\n",
              "</ul>\n",
              "\n",
              "\t<ul id=\"footer-icons\" class=\"noprint\">\n",
              "\t<li id=\"footer-copyrightico\"><a href=\"https://wikimediafoundation.org/\"><img src=\"/static/images/footer/wikimedia-button.png\" srcset=\"/static/images/footer/wikimedia-button-1.5x.png 1.5x, /static/images/footer/wikimedia-button-2x.png 2x\" width=\"88\" height=\"31\" alt=\"Wikimedia Foundation\" loading=\"lazy\" /></a></li>\n",
              "\t<li id=\"footer-poweredbyico\"><a href=\"https://www.mediawiki.org/\"><img src=\"/static/images/footer/poweredby_mediawiki_88x31.png\" alt=\"Powered by MediaWiki\" srcset=\"/static/images/footer/poweredby_mediawiki_132x47.png 1.5x, /static/images/footer/poweredby_mediawiki_176x62.png 2x\" width=\"88\" height=\"31\" loading=\"lazy\"/></a></li>\n",
              "</ul>\n",
              "\n",
              "</footer>\n",
              "\n",
              "<script>(RLQ=window.RLQ||[]).push(function(){mw.config.set({\"wgPageParseReport\":{\"limitreport\":{\"cputime\":\"0.924\",\"walltime\":\"1.415\",\"ppvisitednodes\":{\"value\":2918,\"limit\":1000000},\"postexpandincludesize\":{\"value\":79116,\"limit\":2097152},\"templateargumentsize\":{\"value\":9270,\"limit\":2097152},\"expansiondepth\":{\"value\":20,\"limit\":100},\"expensivefunctioncount\":{\"value\":31,\"limit\":500},\"unstrip-depth\":{\"value\":0,\"limit\":20},\"unstrip-size\":{\"value\":30761,\"limit\":5000000},\"entityaccesscount\":{\"value\":32,\"limit\":400},\"timingprofile\":[\"100.00% 1259.846      1 -total\",\" 45.48%  572.952      1 Plantilla:Ficha_de_persona\",\" 41.06%  517.305      1 Plantilla:NF\",\"  6.46%   81.330      1 Plantilla:Listaref\",\"  3.01%   37.974      3 Plantilla:Cita_web\",\"  2.62%   32.969     12 Plantilla:Reemplazar\",\"  2.15%   27.056      9 Plantilla:Cita_libro\",\"  2.06%   26.012      5 Plantilla:Y-e\",\"  1.61%   20.240      4 Plantilla:Desvincular\",\"  1.33%   16.776      8 Plantilla:Cita\"]},\"scribunto\":{\"limitreport-timeusage\":{\"value\":\"0.701\",\"limit\":\"10.000\"},\"limitreport-memusage\":{\"value\":14863896,\"limit\":52428800},\"limitreport-logs\":\"\\\"\\\"\\n\"},\"cachereport\":{\"origin\":\"mw1374\",\"timestamp\":\"20221026110436\",\"ttl\":1814400,\"transientcontent\":false}}});});</script>\n",
              "<script type=\"application/ld+json\">{\"@context\":\"https:\\/\\/schema.org\",\"@type\":\"Article\",\"name\":\"Noam Chomsky\",\"url\":\"https:\\/\\/es.wikipedia.org\\/wiki\\/Noam_Chomsky\",\"sameAs\":\"http:\\/\\/www.wikidata.org\\/entity\\/Q9049\",\"mainEntity\":\"http:\\/\\/www.wikidata.org\\/entity\\/Q9049\",\"author\":{\"@type\":\"Organization\",\"name\":\"Colaboradores de los proyectos Wikimedia\"},\"publisher\":{\"@type\":\"Organization\",\"name\":\"Wikimedia Foundation, Inc.\",\"logo\":{\"@type\":\"ImageObject\",\"url\":\"https:\\/\\/www.wikimedia.org\\/static\\/images\\/wmf-hor-googpub.png\"}},\"datePublished\":\"2003-10-15T23:36:15Z\",\"dateModified\":\"2022-10-26T11:04:35Z\",\"image\":\"https:\\/\\/upload.wikimedia.org\\/wikipedia\\/commons\\/a\\/a9\\/Noam_Chomsky_portrait_2017.jpg\",\"headline\":\"ling\\u00fcista, fil\\u00f3sofo, polit\\u00f3logo y activista estadounidense de origen jud\\u00edo\"}</script><script type=\"application/ld+json\">{\"@context\":\"https:\\/\\/schema.org\",\"@type\":\"Article\",\"name\":\"Noam Chomsky\",\"url\":\"https:\\/\\/es.wikipedia.org\\/wiki\\/Noam_Chomsky\",\"sameAs\":\"http:\\/\\/www.wikidata.org\\/entity\\/Q9049\",\"mainEntity\":\"http:\\/\\/www.wikidata.org\\/entity\\/Q9049\",\"author\":{\"@type\":\"Organization\",\"name\":\"Colaboradores de los proyectos Wikimedia\"},\"publisher\":{\"@type\":\"Organization\",\"name\":\"Wikimedia Foundation, Inc.\",\"logo\":{\"@type\":\"ImageObject\",\"url\":\"https:\\/\\/www.wikimedia.org\\/static\\/images\\/wmf-hor-googpub.png\"}},\"datePublished\":\"2003-10-15T23:36:15Z\",\"dateModified\":\"2022-10-26T11:04:35Z\",\"image\":\"https:\\/\\/upload.wikimedia.org\\/wikipedia\\/commons\\/a\\/a9\\/Noam_Chomsky_portrait_2017.jpg\",\"headline\":\"ling\\u00fcista, fil\\u00f3sofo, polit\\u00f3logo y activista estadounidense de origen jud\\u00edo\"}</script>\n",
              "<script>(RLQ=window.RLQ||[]).push(function(){mw.config.set({\"wgBackendResponseTime\":122,\"wgHostname\":\"mw1353\"});});</script>\n",
              "</body>\n",
              "</html>"
            ]
          },
          "metadata": {},
          "execution_count": 10
        }
      ],
      "source": [
        "#TEST_CELL\n",
        "HTML(filename=\"chomsky.html\")"
      ]
    },
    {
      "cell_type": "markdown",
      "id": "7f4905a6",
      "metadata": {
        "id": "7f4905a6"
      },
      "source": [
        "Leeremos el archivo recién descargado y, a partir de este, crearemos la variable `soup` que contendrá dicho documento **HTML** como un objeto `BeautifulSoup` con la finalidad de utilizarlo posteriormente."
      ]
    },
    {
      "cell_type": "code",
      "execution_count": 11,
      "id": "d83bf810",
      "metadata": {
        "id": "d83bf810"
      },
      "outputs": [],
      "source": [
        "with open(\"chomsky.html\") as f:\n",
        "    raw_data = f.read()\n",
        "    soup = bs4.BeautifulSoup(raw_data)"
      ]
    },
    {
      "cell_type": "markdown",
      "id": "e1834f22",
      "metadata": {
        "id": "e1834f22"
      },
      "source": [
        "## **1. Extracción de Headings**\n",
        "---\n",
        "\n",
        "<center>\n",
        "<img src = \"https://drive.google.com/uc?export=view&id=1gqbtUpan9VuoQYm1xcHT77qLlyyO5DlF\" alt = \"Cadenas con formato\" width = \"60%\">  </img>\n",
        "</center>\n",
        "\n",
        "\n",
        "Para este primer ejercicio, debe completar la función `get_headings` con un código válido que retorne una lista que contenga **todos** los nombres de las secciones (_headers_) del archivo **HTML** que sean del **nivel indicado**, por ejemplo, todos los títulos con la etiqueta `<h2>`.\n",
        "\n",
        "**Parámetros**\n",
        "\n",
        "* `soup`: este debe contener el documento **HTML** pero como un objeto de `beautifulsoup`.\n",
        "* `head_n`: número entero que indica el nivel del título requerido.\n",
        "\n",
        "**Retorna**\n",
        "\n",
        "* `results`: lista cuyos elementos son _strings_ que indican los nombres de los _headers_ pertenecientes al nivel del título señalado con `head_n`."
      ]
    },
    {
      "cell_type": "markdown",
      "id": "b82e5a09",
      "metadata": {
        "id": "b82e5a09"
      },
      "source": [
        "<details>    \n",
        "<summary>\n",
        "    <font size=\"3\" color=\"darkgreen\"><b>Pistas</b></font>\n",
        "</summary>\n",
        "\n",
        "* Recuerde que los objetos que provengan de la librería `bs4` (`BeautifulSoup`) contienen el método _`find_all(query)`_ el cual permite filtrar el contenido y obtener _todas_ las coincidencias según lo indicado en el parámetro _`query`_.\n",
        "* No debe confundir el método _`find`_ con el indicado en la pista anterior. A diferencia de este último, el método _`find`_ devuelve el primer elemento de la etiqueta dada. Para desarrollar correctamente el ejercicio, se debe analizar solamente el ***contenido*** sobre _Noam Chomsky_ que contiene la página; en el caso de Wikipedia, esta sección tiene un `id` único y específico.\n",
        "</details>"
      ]
    },
    {
      "cell_type": "code",
      "execution_count": 12,
      "id": "9b8ff8aa",
      "metadata": {
        "lines_to_next_cell": 1,
        "id": "9b8ff8aa"
      },
      "outputs": [],
      "source": [
        "# FUNCIÓN CALIFICADA get_headings:\n",
        "\n",
        "def get_headings(soup, head_n):\n",
        "\n",
        "    tag_name = f'h{head_n}'\n",
        "    headers = soup.find_all(tag_name)\n",
        "    results = [header.get_text() for header in headers]\n",
        "\n",
        "\n",
        "    return results\n",
        "    ### FIN DEL CÓDIGO ###"
      ]
    },
    {
      "cell_type": "code",
      "execution_count": 13,
      "id": "29421c94",
      "metadata": {
        "id": "29421c94",
        "colab": {
          "base_uri": "https://localhost:8080/"
        },
        "outputId": "b85d670c-bd0f-42cc-a7c0-4d903a0711b7"
      },
      "outputs": [
        {
          "output_type": "stream",
          "name": "stdout",
          "text": [
            "['Noam Chomsky']\n"
          ]
        }
      ],
      "source": [
        "#TEST_CELL\n",
        "print(get_headings(soup, 1))"
      ]
    },
    {
      "cell_type": "markdown",
      "id": "f60c03c6",
      "metadata": {
        "id": "f60c03c6"
      },
      "source": [
        "**Salida esperada:**\n",
        "\n",
        "* En este primer ejemplo, se retornan todos los títulos que sean de nivel 1 que, en el caso de Wikipedia, solo incluye el título del contenido.\n",
        "\n",
        "```python\n",
        "print(get_headings(soup, 1))\n",
        "```\n",
        "> `['Noam Chomsky']`"
      ]
    },
    {
      "cell_type": "code",
      "execution_count": 14,
      "id": "1cc70224",
      "metadata": {
        "id": "1cc70224",
        "colab": {
          "base_uri": "https://localhost:8080/"
        },
        "outputId": "00434863-7246-4be7-a9ef-acfb96ce2576"
      },
      "outputs": [
        {
          "output_type": "stream",
          "name": "stdout",
          "text": [
            "['Índice', 'Biografía[editar]', 'Contribuciones a la lingüística[editar]', 'Activismo político y posicionamientos[editar]', 'Antiglobalización económica de Chomsky[editar]', 'Libros publicados[editar]', 'Véase también[editar]', 'Notas[editar]', 'Bibliografía[editar]', 'Enlaces externos[editar]', 'Menú de navegación']\n"
          ]
        }
      ],
      "source": [
        "#TEST_CELL\n",
        "print(get_headings(soup, 2))"
      ]
    },
    {
      "cell_type": "markdown",
      "id": "0be1b65b",
      "metadata": {
        "id": "0be1b65b"
      },
      "source": [
        "**Salida esperada:**\n",
        "\n",
        "* Para el segundo ejemplo, se retornan todos los títulos que sean de nivel 2.\n",
        "\n",
        "```python\n",
        "print(get_headings(soup, 2))\n",
        "```\n",
        "> `['Índice', 'Biografía[editar]', 'Contribuciones a la lingüística[editar]', 'Activismo político y posicionamientos[editar]', 'Antiglobalización económica de Chomsky[editar]', 'Libros publicados[editar]', 'Véase también[editar]', 'Notas[editar]', 'Bibliografía[editar]', 'Enlaces externos[editar]']`"
      ]
    },
    {
      "cell_type": "code",
      "execution_count": 15,
      "id": "46181c7c",
      "metadata": {
        "lines_to_next_cell": 1,
        "id": "46181c7c",
        "colab": {
          "base_uri": "https://localhost:8080/"
        },
        "outputId": "6bb28478-c7fa-498c-c368-a8b0406d0041"
      },
      "outputs": [
        {
          "output_type": "stream",
          "name": "stdout",
          "text": [
            "['Teoría de principios y parámetros[editar]', 'Perspectiva sobre el ateísmo, la ciencia y la religión[editar]', 'Lingüística[editar]', 'Política[editar]', '\\nHerramientas personales\\n', '\\nEspacios de nombres\\n', '\\nVistas\\n', '\\nBuscar\\n', '\\nNavegación\\n', '\\nHerramientas\\n', '\\nImprimir/exportar\\n', '\\nEn otros proyectos\\n', '\\nEn otros idiomas\\n']\n"
          ]
        }
      ],
      "source": [
        "#TEST_CELL\n",
        "print(get_headings(soup, 3))"
      ]
    },
    {
      "cell_type": "markdown",
      "id": "2660842f",
      "metadata": {
        "id": "2660842f"
      },
      "source": [
        "**Salida esperada:**\n",
        "\n",
        "* En este último caso, se retornan todos los títulos que sean de nivel 3.\n",
        "\n",
        "```python\n",
        "print(get_headings(soup, 3))\n",
        "```\n",
        "> `['Teoría de principios y parámetros[editar]', 'Perspectiva sobre el ateísmo, la ciencia y la religión[editar]', 'Lingüística[editar]', 'Política[editar]']`"
      ]
    },
    {
      "cell_type": "markdown",
      "id": "11d35103",
      "metadata": {
        "id": "11d35103"
      },
      "source": [
        "## **2. Extracción de Texto en un ID**\n",
        "---\n",
        "Para este ejercicio, debe completar la función `get_text` con un código válido que retorne una cadena de texto que incluya todo el contenido de una sección indicada del archivo **HTML**.\n",
        "\n",
        "**Parámetros**\n",
        "\n",
        "* `soup`: este debe contener el documento **HTML** pero como un objeto de `beautifulsoup`.\n",
        "* `id`: cadena de texto que indica una de las secciones del archivo **HTML** que tenga como _id_ el argumento indicado.\n",
        "\n",
        "**Retorna**\n",
        "\n",
        "* `content`: cadena de texto que contiene el contenido de la sección indicada por el parámetro `id`."
      ]
    },
    {
      "cell_type": "markdown",
      "id": "91923a20",
      "metadata": {
        "id": "91923a20"
      },
      "source": [
        "<details>    \n",
        "<summary>\n",
        "    <font size=\"3\" color=\"darkgreen\"><b>Pistas</b></font>\n",
        "</summary>\n",
        "\n",
        "* Tenga en cuenta que `content` debe ser una **cadena de texto** que contenga **solamente** el contenido de la sección indicada, es decir, el resultado _no_ debe incluir las etiquetas ni el formato **HTML** que englobe a la división. Para esto se puede usar la función `get_text()`.\n",
        "* Recuerde que la función _`find`_ obtiene la primera coincidencia de la etiqueta dada. Como los _id_ en **HTML** son únicos, puede resultar más fácil filtrar por este método.\n",
        "</details>"
      ]
    },
    {
      "cell_type": "code",
      "execution_count": 19,
      "id": "6f0b23cb",
      "metadata": {
        "lines_to_next_cell": 1,
        "id": "6f0b23cb"
      },
      "outputs": [],
      "source": [
        "# FUNCIÓN CALIFICADA get_text:\n",
        "\n",
        "def get_text(soup, id):\n",
        "    ### ESCRIBA SU CÓDIGO AQUÍ ###\n",
        "    content = soup.find(id=id)\n",
        "\n",
        "    if content:\n",
        "      return content.get_text()\n",
        "    else:\n",
        "      return None\n",
        "\n",
        "    ### FIN DEL CÓDIGO ###"
      ]
    },
    {
      "cell_type": "code",
      "execution_count": 20,
      "id": "8878427f",
      "metadata": {
        "id": "8878427f",
        "colab": {
          "base_uri": "https://localhost:8080/"
        },
        "outputId": "810b680f-fd76-4cfc-e614-ca3399e15c01"
      },
      "outputs": [
        {
          "output_type": "stream",
          "name": "stdout",
          "text": [
            "Índice\n",
            "\n",
            "1 Biografía\n",
            "2 Contribuciones a la lingüística\n",
            "\n",
            "2.1 Teoría de principios y parámetros\n",
            "\n",
            "\n",
            "3 Activismo político y posicionamientos\n",
            "4 Antiglobalización económica de Chomsky\n",
            "\n",
            "4.1 Perspectiva sobre el ateísmo, la ciencia y la religión\n",
            "\n",
            "\n",
            "5 Libros publicados\n",
            "\n",
            "5.1 Lingüística\n",
            "5.2 Política\n",
            "\n",
            "\n",
            "6 Véase también\n",
            "7 Notas\n",
            "8 Bibliografía\n",
            "9 Enlaces externos\n",
            "\n",
            "\n"
          ]
        }
      ],
      "source": [
        "#TEST_CELL\n",
        "print(get_text(soup, \"toc\"))"
      ]
    },
    {
      "cell_type": "markdown",
      "id": "ec50ebb5",
      "metadata": {
        "id": "ec50ebb5"
      },
      "source": [
        "**Salida esperada:**\n",
        "\n",
        "* En el ejemplo, la función retorna la tabla de contenido que está identificada con el _id_ `toc` en forma de _string_.\n",
        "\n",
        "```python\n",
        "print(get_text(soup, \"toc\"))\n",
        "```\n",
        "> <p>Índice<br><br>1 Biografía<br>2 Contribuciones a la lingüística<br><br>2.1 Teoría de principios y parámetros<br><br><br>3 Activismo político y posicionamientos<br>4 Antiglobalización económica de Chomsky<br><br>4.1 Perspectiva sobre el ateísmo, la ciencia y la religión<br><br><br>5 Libros publicados<br><br>5.1 Lingüística<br>5.2 Política<br><br><br>6 Véase también<br>7 Notas<br>8 Bibliografía<br>9 Enlaces externos<br><br></p>"
      ]
    },
    {
      "cell_type": "code",
      "execution_count": 21,
      "id": "48a3e0e0",
      "metadata": {
        "id": "48a3e0e0",
        "colab": {
          "base_uri": "https://localhost:8080/"
        },
        "outputId": "1068fab9-f866-493a-b3d2-5fb33796585c"
      },
      "outputs": [
        {
          "output_type": "stream",
          "name": "stdout",
          "text": [
            "\n",
            "\n",
            " Esta página se editó por última vez el 26 oct 2022 a las 11:04.\n",
            "El texto está disponible bajo la Licencia Creative Commons Atribución Compartir Igual 3.0;\n",
            "pueden aplicarse cláusulas adicionales. Al usar este sitio, usted acepta nuestros términos de uso y nuestra política de privacidad. Wikipedia® es una marca registrada de la Fundación Wikimedia, Inc., una organización sin ánimo de lucro.\n",
            "\n",
            "\n",
            "Política de privacidad\n",
            "Acerca de Wikipedia\n",
            "Limitación de responsabilidad\n",
            "Versión para móviles\n",
            "Desarrolladores\n",
            "Estadísticas\n",
            "Declaración de cookies\n",
            "\n",
            "\n",
            "\n",
            "\n",
            "\n",
            "\n"
          ]
        }
      ],
      "source": [
        "#TEST_CELL\n",
        "print(get_text(soup, \"footer\"))"
      ]
    },
    {
      "cell_type": "markdown",
      "id": "0c2c84a0",
      "metadata": {
        "id": "0c2c84a0"
      },
      "source": [
        "**Salida esperada:**\n",
        "\n",
        "* La función retorna el contenido en bruto de la sección que está identificada con el _id_ `footer`.\n",
        "\n",
        "```python\n",
        "print(get_text(soup, \"footer\"))\n",
        "```\n",
        "> <br><br> Esta página se editó por última vez el 26 oct 2022 a las 11:04.<br>El texto está disponible bajo la Licencia Creative Commons Atribución Compartir Igual 3.0;<br>pueden aplicarse cláusulas adicionales. Al usar este sitio, usted acepta nuestros términos de uso y nuestra política de privacidad. Wikipedia® es una marca registrada de la Fundación Wikimedia, Inc., una organización sin ánimo de lucro.<br><br><br>Política de privacidad<br>Acerca de Wikipedia<br>Limitación de responsabilidad<br>Versión para móviles<br>Desarrolladores<br>Estadísticas<br>Declaración de cookies<br><br><br><br><br><br>"
      ]
    },
    {
      "cell_type": "code",
      "execution_count": 22,
      "id": "c6500637",
      "metadata": {
        "lines_to_next_cell": 1,
        "id": "c6500637",
        "colab": {
          "base_uri": "https://localhost:8080/"
        },
        "outputId": "c121f450-cfe4-4878-c720-e0fdda27c4b0"
      },
      "outputs": [
        {
          "output_type": "stream",
          "name": "stdout",
          "text": [
            "\n",
            "De Wikipedia, la enciclopedia libre\n",
            "\n",
            "\n",
            "\n",
            "Ir a la navegación\n",
            "Ir a la búsqueda\n",
            "Noam Chomsky\n",
            "Noam Chomsky en 2017Información personalNacimiento\n",
            "7 de diciembre de 1928  (93 años)Filadelfia, Pensilvania, Estados UnidosNacionalidad\n",
            "EstadounidenseReligión\n",
            "AteoFamiliaPadre\n",
            "William Chomsky Cónyuge\n",
            "Carol Chomsky (1949-2008)Valeria Wasserman Chomsky (desde 2014) EducaciónEducado en\n",
            "Instituto Tecnológico de MassachusettsOak Lane Day SchoolCentral High School (hasta 1945)Universidad de Pensilvania (B.A.; 1945-1949)Universidad de Pensilvania (M.A.; 1949-1951)Universidad de Harvard (Lingüística; 1951-1955) Alumno de\n",
            "Zellig HarrisNelson Goodman Información profesionalOcupación\n",
            "Filósofo, lingüista, escritor político, profesor universitario, psicólogo, antropólogo, activista por los derechos humanos, pedagogo, crítico de medios, escritor, publicista, informático teórico e historiador Área\n",
            "Lingüística, filosofía del lenguaje, psicología, Gramática generativa, teoría de la comunicación, ciencia cognitiva, \n"
          ]
        }
      ],
      "source": [
        "#TEST_CELL\n",
        "print(get_text(soup, \"bodyContent\")[:1000])"
      ]
    },
    {
      "cell_type": "markdown",
      "id": "d7c087e4",
      "metadata": {
        "id": "d7c087e4"
      },
      "source": [
        "**Salida esperada:**\n",
        "\n",
        "* Por último, la función retorna los primeros 1000 caracteres en bruto del contenido de la sección identificada con el _id_ `bodyContent`.\n",
        "\n",
        "```python\n",
        "print(get_text(soup, \"bodyContent\")[:1000])\n",
        "```\n",
        "> <br>De Wikipedia, la enciclopedia libre<br><br><br><br>Ir a la navegación<br>Ir a la búsqueda<br>Noam Chomsky<br>Noam Chomsky en 2017Información personalNacimiento<br>7 de diciembre de 1928  (93 años)Filadelfia, Pensilvania, Estados UnidosNacionalidad<br>EstadounidenseReligión<br>AteoFamiliaPadre<br>William Chomsky Cónyuge<br>Carol Chomsky (1949-2008)Valeria Wasserman Chomsky (desde 2014) EducaciónEducado en<br>Instituto Tecnológico de MassachusettsOak Lane Day SchoolCentral High School (hasta 1945)Universidad de Pensilvania (B.A.; 1945-1949)Universidad de Pensilvania (M.A.; 1949-1951)Universidad de Harvard (Lingüística; 1951-1955) Alumno de<br>Zellig HarrisNelson Goodman Información profesionalOcupación<br>Filósofo, lingüista, escritor político, profesor universitario, psicólogo, antropólogo, activista por los derechos humanos, pedagogo, crítico de medios, escritor, publicista, informático teórico e historiador Área<br>Lingüística, filosofía del lenguaje, psicología, Gramática generativa, teoría de la comunicación, ciencia cognitiva,"
      ]
    },
    {
      "cell_type": "markdown",
      "id": "3b5cf1a4",
      "metadata": {
        "id": "3b5cf1a4"
      },
      "source": [
        "## **3. Normalización del Texto**\n",
        "---\n",
        "En este ejercicio se busca _normalizar_ el texto, lo que implica un proceso de transformación del mismo para estandarizarlo y hacerlo consistente antes de realizar operaciones complejas sobre este. Debe completar la función `normalize` con un código válido que retorne una cadena que incluya todo el contenido _normalizado_ de una sección indicada del archivo **HTML**. La función `normalize` debe tener en cuenta los siguientes requerimientos para la normalización:\n",
        "\n",
        "<ol>\n",
        "<li>Extraer un fragmento de texto a partir de un <i>id</i>, como se realizó en el ejercicio anterior.</li>\n",
        "<li>La cadena de texto entrante debe ser separada por cada salto de línea que se encuentre.</li>\n",
        "<li>Todo el texto debe estar en <b>minúsculas</b>.</li>\n",
        "<li>Se deben eliminar los espacios en blanco al inicio y al final de cada línea.</li>\n",
        "<li>En la cadena de texto resultante, cada línea diferente de la cadena original se une por espacios para así formar un <i>string</i> de una sola línea.</li>\n",
        "</ol>\n",
        "\n",
        "**Parámetros**\n",
        "\n",
        "* `soup`: este debe contener el documento **HTML** pero como un objeto de `beautifulsoup`.\n",
        "* `id`: cadena de texto que indica una de las secciones del archivo **HTML** que tenga como _id_ el argumento indicado.\n",
        "\n",
        "**Retorna**\n",
        "\n",
        "* `strip_text`: cadena de texto que contiene el contenido _normalizado_ de la sección indicada por el parámetro `id`."
      ]
    },
    {
      "cell_type": "markdown",
      "id": "6ab181ec",
      "metadata": {
        "id": "6ab181ec"
      },
      "source": [
        "<details>    \n",
        "<summary>\n",
        "    <font size=\"3\" color=\"darkgreen\"><b>Pistas</b></font>\n",
        "</summary>\n",
        "\n",
        "* _Python_ provee una función para las cadenas que permite su conversión a minúsculas; la misma retorna un _string_ con la transformación realizada, su sintaxis es la siguiente:\n",
        "    ```python\n",
        "    text.lower()\n",
        "    ```\n",
        "* Existe otra función que puede ayudarle en este ejercicio llamada _`split`_. La misma separa una cadena de texto indicada en un lugar en concreto; este puede ser definido por el usuario pasando un caracter o un _substring_ como argumento en el parámetro `char`, en caso contrario, se separará la cadena por espacios por defecto. Su sintaxis es la siguiente:\n",
        "    ```python\n",
        "    text.split(char)\n",
        "    ```\n",
        "Cabe resaltar que esta función retorna una lista de _tokens_ donde cada uno de estos corresponde a los segmentos de texto que hay entre la aparición de un caracter separador y otro. En caso de que utilice este método, debe **unir** estos _tokens_ según los requerimientos de normalización dados para retornar un solo _string_.\n",
        "* Puede tomar la función del ejercicio anterior (`get_text`) y, a partir del resultado de la misma, empezar a trabajar en este ejercicio. Recuerde que la función `get_text` retorna una cadena de texto.\n",
        "\n",
        "</details>"
      ]
    },
    {
      "cell_type": "code",
      "execution_count": 29,
      "id": "43f60896",
      "metadata": {
        "lines_to_next_cell": 1,
        "id": "43f60896"
      },
      "outputs": [],
      "source": [
        "# FUNCIÓN CALIFICADA normalize:\n",
        "\n",
        "def normalize(soup, id):\n",
        "    ### ESCRIBA SU CÓDIGO AQUÍ ###\n",
        "\n",
        "    strip_text = soup.find(id=id)\n",
        "\n",
        "    if strip_text:\n",
        "\n",
        "        texto = strip_text.get_text()\n",
        "\n",
        "        # Normalizar el texto: convertir a minúsculas y eliminar espacios en blanco adicionales\n",
        "        normalizado = ' '.join(texto.lower().split())\n",
        "\n",
        "        return normalizado\n",
        "    else:\n",
        "        return None\n",
        "\n",
        "    ### FIN DEL CÓDIGO ###"
      ]
    },
    {
      "cell_type": "code",
      "execution_count": 28,
      "id": "33deea11",
      "metadata": {
        "id": "33deea11",
        "colab": {
          "base_uri": "https://localhost:8080/"
        },
        "outputId": "39c37394-eae4-48f3-d113-be87281f7746"
      },
      "outputs": [
        {
          "output_type": "stream",
          "name": "stdout",
          "text": [
            "índice 1 biografía 2 contribuciones a la lingüística 2.1 teoría de principios y parámetros 3 activismo político y posicionamientos 4 antiglobalización económica de chomsky 4.1 perspectiva sobre el ateísmo, la ciencia y la religión 5 libros publicados 5.1 lingüística 5.2 política 6 véase también 7 notas 8 bibliografía 9 enlaces externos\n"
          ]
        }
      ],
      "source": [
        "#TEST_CELL\n",
        "print(normalize(soup, \"toc\"))"
      ]
    },
    {
      "cell_type": "markdown",
      "id": "35323273",
      "metadata": {
        "id": "35323273"
      },
      "source": [
        "**Salida esperada:**\n",
        "\n",
        "* En el ejemplo, la función retorna la tabla de contenido _normalizada_ que está identificada con el _id_ `toc`.\n",
        "\n",
        "```python\n",
        "print(get_text(soup, \"toc\"))\n",
        "```\n",
        "\n",
        ">`'índice  1 biografía 2 contribuciones a la lingüística  2.1 teoría de principios y parámetros   3 activismo político y posicionamientos 4 antiglobalización económica de chomsky  4.1 perspectiva sobre el ateísmo, la ciencia y la religión   5 libros publicados  5.1 lingüística 5.2 política   6 véase también 7 notas 8 bibliografía 9 enlaces externos'`"
      ]
    },
    {
      "cell_type": "code",
      "execution_count": 34,
      "id": "4f70ded3",
      "metadata": {
        "id": "4f70ded3",
        "colab": {
          "base_uri": "https://localhost:8080/"
        },
        "outputId": "406d597e-a21d-467f-9b84-04e9665113a0"
      },
      "outputs": [
        {
          "output_type": "stream",
          "name": "stdout",
          "text": [
            "esta página se editó por última vez el 26 oct 2022 a las 11:04. el texto está disponible bajo la licencia creative commons atribución compartir igual 3.0; pueden aplicarse cláusulas adicionales. al usar este sitio, usted acepta nuestros términos de uso y nuestra política de privacidad. wikipedia® es una marca registrada de la fundación wikimedia, inc., una organización sin ánimo de lucro. política de privacidad acerca de wikipedia limitación de responsabilidad versión para móviles desarrolladores estadísticas declaración de cookies\n"
          ]
        }
      ],
      "source": [
        "#TEST_CELL\n",
        "print(normalize(soup, \"footer\"))"
      ]
    },
    {
      "cell_type": "markdown",
      "id": "f99f4f3a",
      "metadata": {
        "id": "f99f4f3a"
      },
      "source": [
        "**Salida esperada:**\n",
        "* La función retorna el contenido _normalizado_ de la sección que está identificada con el _id_ `footer`.\n",
        "\n",
        "```python\n",
        "print(get_text(soup, \"footer\"))\n",
        "```\n",
        "\n",
        ">`'  esta página se editó por última vez el 26 oct 2022 a las 11:04. el texto está disponible bajo la licencia creative commons atribución compartir igual 3.0; pueden aplicarse cláusulas adicionales. al usar este sitio, usted acepta nuestros términos de uso y nuestra política de privacidad. wikipedia® es una marca registrada de la fundación wikimedia, inc., una organización sin ánimo de lucro.   política de privacidad acerca de wikipedia limitación de responsabilidad versión para móviles desarrolladores estadísticas declaración de cookies'`"
      ]
    },
    {
      "cell_type": "code",
      "execution_count": 35,
      "id": "0a24f1cc",
      "metadata": {
        "lines_to_next_cell": 1,
        "id": "0a24f1cc",
        "colab": {
          "base_uri": "https://localhost:8080/"
        },
        "collapsed": true,
        "outputId": "dfeb886d-3d88-4b63-8fa7-e61df907de4a"
      },
      "outputs": [
        {
          "output_type": "stream",
          "name": "stdout",
          "text": [
            "de wikipedia, la enciclopedia libre ir a la navegación ir a la búsqueda noam chomsky noam chomsky en 2017información personalnacimiento 7 de diciembre de 1928 (93 años)filadelfia, pensilvania, estados unidosnacionalidad estadounidensereligión ateofamiliapadre william chomsky cónyuge carol chomsky (1949-2008)valeria wasserman chomsky (desde 2014) educacióneducado en instituto tecnológico de massachusettsoak lane day schoolcentral high school (hasta 1945)universidad de pensilvania (b.a.; 1945-1949)universidad de pensilvania (m.a.; 1949-1951)universidad de harvard (lingüística; 1951-1955) alumno de zellig harrisnelson goodman información profesionalocupación filósofo, lingüista, escritor político, profesor universitario, psicólogo, antropólogo, activista por los derechos humanos, pedagogo, crítico de medios, escritor, publicista, informático teórico e historiador área lingüística, filosofía del lenguaje, psicología, gramática generativa, teoría de la comunicación, ciencia cognitiva, filos\n"
          ]
        }
      ],
      "source": [
        "#TEST_CELL\n",
        "print(normalize(soup, \"bodyContent\")[:1000])"
      ]
    },
    {
      "cell_type": "markdown",
      "id": "839f9fcf",
      "metadata": {
        "id": "839f9fcf"
      },
      "source": [
        "**Salida esperada:**\n",
        "* En este último ejemplo, la función retorna los primeros 1000 caracteres del contenido de la sección identificada con el _id_ `bodyContent`.\n",
        "\n",
        "```python\n",
        "print(get_text(soup, \"bodyContent\")[:1000])\n",
        "```\n",
        "\n",
        ">`' de wikipedia, la enciclopedia libre    ir a la navegación ir a la búsqueda noam chomsky noam chomsky en 2017información personalnacimiento 7 de diciembre de 1928  (93 años)filadelfia, pensilvania, estados unidosnacionalidad estadounidensereligión ateofamiliapadre william chomsky cónyuge carol chomsky (1949-2008)valeria wasserman chomsky (desde 2014) educacióneducado en instituto tecnológico de massachusettsoak lane day schoolcentral high school (hasta 1945)universidad de pensilvania (b.a.; 1945-1949)universidad de pensilvania (m.a.; 1949-1951)universidad de harvard (lingüística; 1951-1955) alumno de zellig harrisnelson goodman información profesionalocupación filósofo, lingüista, escritor político, profesor universitario, psicólogo, antropólogo,'`"
      ]
    },
    {
      "cell_type": "markdown",
      "id": "a084acad",
      "metadata": {
        "id": "a084acad"
      },
      "source": [
        "## **4. Eliminación de Palabras**\n",
        "---\n",
        "\n",
        "En este ejercicio debe realizar una eliminación de palabras con la finalidad de extraer la información relevante del texto y limpiar el mismo de palabras poco informativas a nivel léxico. Debe completar la función `delete_words` con un código válido que retorne una cadena que incluya todo el contenido _limpio_ de una sección indicada del archivo **HTML**. Para dar con la respuesta correcta, adicionalmente debe seguir los siguientes pasos para realizar la eliminación de las palabras:\n",
        "\n",
        "<ol>\n",
        "\n",
        "<li> Normalizar el texto de la sección indicada. </li>\n",
        "<li> La cadena de texto a analizar debe separarse por espacios para poder obtener a los <i>tokens</i>. </li>\n",
        "<li> Las palabras deben estar filtradas por un <i>rango de longitud</i>. </li>\n",
        "<li> Se deben eliminar palabras de una lista dada y <b>no</b> arbitrariamente.</li>\n",
        "<li> Los <i>tokens</i> de la cadena de texto resultante deben estar unidos por espacios para formar la cadena de texto de salida. </li>\n",
        "    \n",
        "</ol>\n",
        "\n",
        "<center>\n",
        "<img src = \"https://drive.google.com/uc?export=view&id=1I3pjiAMCrchVYybNbStRcEM0a7S1tcK5\" alt = \"Cadenas con formato\" width = \"80%\">  </img>\n",
        "</center>\n",
        "\n",
        "**Parámetros**\n",
        "\n",
        "* `soup`: este debe contener el documento **HTML** pero como un objeto de `beautifulsoup`.\n",
        "* `id`: cadena de texto que indica una de las secciones del archivo **HTML** que tenga como _id_ el argumento indicado.\n",
        "* `min_len`: número entero que indica el límite inferior del _rango de longitud_ por el cual deben estar filtradas las palabras.\n",
        "* `max_len`: número entero que indica el límite superior del _rango de longitud_ por el cual deben estar filtradas las palabras.\n",
        "* `stops`: lista cuyos elementos son _strings_ o _tokens_ los cuales deben ser los que se eliminen de la cadena de texto.\n",
        "\n",
        "**Retorna**\n",
        "\n",
        "* `resulting_tokens`: cadena de texto que contiene el contenido de la sección indicada luego de la _eliminación de palabras_."
      ]
    },
    {
      "cell_type": "markdown",
      "id": "bd0a7c61",
      "metadata": {
        "id": "bd0a7c61"
      },
      "source": [
        "<details>    \n",
        "<summary>\n",
        "    <font size=\"3\" color=\"darkgreen\"><b>Pistas</b></font>\n",
        "</summary>\n",
        "\n",
        "* Esta función está basada en la utilización de **filtros**. Estos los puede realizar con sentencias `if` tradicionales, o bien, utilizar la función de _Python_ `filter`, la cual retorna un iterable con los elementos que retornen `True` a una función dada. Su sintaxis es la siguiente:\n",
        "    ```python\n",
        "    filter(function, iterable)\n",
        "    ```\n",
        "\n",
        "    El parámetro `function` recibe una función que retorne `True` o `False` (función _booleana_) y esta es la que permite evaluar si los elementos del parámetro `iterable` cumplen con la condición de la función o no.\n",
        "    \n",
        "* Para cumplir con el quinto paso dado en el enunciado del ejercicio, puede unir a los _tokens_ que estén almacenados en una lista con la función `join`:\n",
        "    ```python\n",
        "    string.join(iterable)\n",
        "    ```\n",
        "\n",
        "    Donde el parámetro `string` es el separador requerido (en este caso y siguiendo el inciso número 2, este debería ser un espacio `\" \"`) y el parámetro `iterable` es la lista que contiene a los _tokens_ a unir.\n",
        "</details>"
      ]
    },
    {
      "cell_type": "code",
      "execution_count": null,
      "id": "47ae7af3",
      "metadata": {
        "lines_to_next_cell": 1,
        "id": "47ae7af3"
      },
      "outputs": [],
      "source": [
        "# FUNCIÓN CALIFICADA delete_words:\n",
        "\n",
        "def delete_words(soup, id, min_len, max_len, stops):\n",
        "    ### ESCRIBA SU CÓDIGO AQUÍ ###\n",
        "    resulting_tokens = None\n",
        "\n",
        "\n",
        "    return resulting_tokens\n",
        "    ### FIN DEL CÓDIGO ###"
      ]
    },
    {
      "cell_type": "code",
      "execution_count": null,
      "id": "ba769513",
      "metadata": {
        "id": "ba769513"
      },
      "outputs": [],
      "source": [
        "#TEST_CELL\n",
        "stops = [\"de\", \"la\", \"a\", \"del\"]\n",
        "print(delete_words(soup, \"toc\", 1, 23, stops))"
      ]
    },
    {
      "cell_type": "markdown",
      "id": "e33ec0bb",
      "metadata": {
        "id": "e33ec0bb"
      },
      "source": [
        "**Salida esperada:**\n",
        "\n",
        "* En el ejemplo, la función retorna la tabla de contenido, que está identificada con el _id_ `toc`, se eliminan los artículos _[\"de\", \"la\", \"a\", \"del\"]_ y la longitud de cada _token_ debe estar entre 1 y 23 caracteres.\n",
        "\n",
        "```python\n",
        "stops = [\"de\", \"la\", \"a\", \"del\"]\n",
        "print(delete_words(soup, \"toc\", 1, 23, stops))\n",
        "```\n",
        "\n",
        "> `'índice 1 biografía 2 contribuciones lingüística 2.1 teoría principios y parámetros 3 activismo político y posicionamientos 4 antiglobalización económica chomsky 4.1 perspectiva sobre el ateísmo, ciencia y religión 5 libros publicados 5.1 lingüística 5.2 política 6 véase también 7 notas 8 bibliografía 9 enlaces externos'`"
      ]
    },
    {
      "cell_type": "code",
      "execution_count": null,
      "id": "413015fb",
      "metadata": {
        "lines_to_next_cell": 1,
        "id": "413015fb"
      },
      "outputs": [],
      "source": [
        "#TEST_CELL\n",
        "stops = [\"de\", \"la\", \"a\", \"del\", \"por\", \"las\"]\n",
        "print(delete_words(soup, \"footer\", 3, 10, stops))"
      ]
    },
    {
      "cell_type": "markdown",
      "id": "fee2400c",
      "metadata": {
        "id": "fee2400c"
      },
      "source": [
        "**Salida esperada:**\n",
        "* En este caso, la función retorna la tabla de contenido, que está identificada con el _id_ `footer`, se eliminan los artículos _[\"de\", \"la\", \"a\", \"del\", \"por\", \"las\"]_ y la longitud de cada _token_ debe estar entre 3 y 10 caracteres.\n",
        "\n",
        "```python\n",
        "stops = [\"de\", \"la\", \"a\", \"del\"]\n",
        "print(delete_words(soup, \"toc\", 1, 23, stops))\n",
        "```\n",
        "\n",
        "> `'esta página editó última vez oct 2022 11:04. texto está disponible bajo licencia creative commons atribución compartir igual 3.0; pueden aplicarse cláusulas usar este sitio, usted acepta nuestros términos uso nuestra política wikipedia® una marca registrada fundación wikimedia, inc., una sin ánimo lucro. política privacidad acerca wikipedia limitación versión para móviles cookies'`"
      ]
    },
    {
      "cell_type": "markdown",
      "id": "346b7839",
      "metadata": {
        "id": "346b7839"
      },
      "source": [
        "## **5. Conteo de un Listado de Nombres Sobre un Párrafo**\n",
        "---\n",
        "En este ejercicio se requiere realizar un conteo de la cantidad de palabras dadas que se encuentren dentro de un texto en particular, para ello, debe completar la función `count_words` con un código válido que retorne un diccionario que contenga como llave la _palabra_ deseada y como valor la _cantidad_ de ocurrencias que la palabra tiene dentro de una sección indicada del archivo **HTML**.\n",
        "\n",
        "**Parámetros**\n",
        "\n",
        "* `soup`: este debe contener el documento **HTML** pero como un objeto de `beautifulsoup`.\n",
        "* `id`: cadena de texto que indica una de las secciones del archivo **HTML** que tenga como _id_ el argumento indicado.\n",
        "* `min_len`: número entero que indica el límite inferior del _rango de longitud_ por el cual deben estar filtradas las palabras.\n",
        "* `max_len`: número entero que indica el límite superior del _rango de longitud_ por el cual deben estar filtradas las palabras.\n",
        "* `stops`: lista cuyos elementos son _strings_ o _tokens_ los cuales deben ser los que se eliminen de la cadena de texto.\n",
        "* `words`: lista cuyos elementos son _strings_ que indican qué palabras se desean contar dentro del texto.\n",
        "\n",
        "**Retorna**\n",
        "\n",
        "* `counts`: diccionario que contiene el conteo de las palabras (`words`) indicadas como argumentos."
      ]
    },
    {
      "cell_type": "markdown",
      "id": "316c0381",
      "metadata": {
        "id": "316c0381"
      },
      "source": [
        "<details>    \n",
        "<summary>\n",
        "    <font size=\"3\" color=\"darkgreen\"><b>Pistas</b></font>\n",
        "</summary>\n",
        "\n",
        "* Recuerde que en el diccionario se deben almacenar las palabras y el conteo de cada una de estas como el valor de cada elemento del diccionario. Este proceso de almacenamiento lo debe hacer _después_ de haber realizado la eliminación de palabras visto en el punto anterior.\n",
        "* Puede utilizar la función `counts` de _Python_ para hacer más eficiente a la función. Su sintaxis es:\n",
        "    ```python\n",
        "    text.count(element)\n",
        "    ```\n",
        "Esta devuelve el número de veces que el elemento (`element`) especificado aparece en el texto (`text`) indicado.\n",
        "</details>"
      ]
    },
    {
      "cell_type": "code",
      "execution_count": null,
      "id": "8e0eac0d",
      "metadata": {
        "lines_to_next_cell": 1,
        "id": "8e0eac0d"
      },
      "outputs": [],
      "source": [
        "# FUNCIÓN CALIFICADA count_words:\n",
        "\n",
        "def count_words(\n",
        "        soup, id, min_len, max_len,\n",
        "        stops, words\n",
        "        ):\n",
        "    ### ESCRIBA SU CÓDIGO AQUÍ ###\n",
        "    counts = {}\n",
        "\n",
        "\n",
        "    return counts\n",
        "    ### FIN DEL CÓDIGO ###"
      ]
    },
    {
      "cell_type": "code",
      "execution_count": null,
      "id": "2e2ff218",
      "metadata": {
        "id": "2e2ff218"
      },
      "outputs": [],
      "source": [
        "#TEST_CELL\n",
        "stops = [\"de\", \"la\", \"a\", \"del\", \"por\", \"las\"]\n",
        "words = [\"chomsky\", \"sintaxis\"]\n",
        "print(count_words(soup, \"bodyContent\", 3, 10, stops, words))"
      ]
    },
    {
      "cell_type": "markdown",
      "id": "64cf851e",
      "metadata": {
        "id": "64cf851e"
      },
      "source": [
        "**Salida esperada:**\n",
        "\n",
        "* En este ejemplo, la función retorna un diccionario con el conteo de las palabras _\"chomsky\"_ y _\"sintaxis\"_, dentro del _id_ `bodyContent`, se eliminan los artículos _[\"de\", \"la\", \"a\", \"del\", \"por\", \"las\"]_ y la longitud de cada _token_ debe estar entre 3 y 10 caracteres.\n",
        "\n",
        "```python\n",
        "stops = [\"de\", \"la\", \"a\", \"del\", \"por\", \"las\"]\n",
        "words = [\"chomsky\", \"sintaxis\"]\n",
        "print(count_words(soup, \"bodyContent\", 3, 10, stops, words))\n",
        "```\n",
        "\n",
        "> `{'chomsky': 97, 'sintaxis': 6}`"
      ]
    },
    {
      "cell_type": "code",
      "execution_count": null,
      "id": "f393284f",
      "metadata": {
        "id": "f393284f"
      },
      "outputs": [],
      "source": [
        "#TEST_CELL\n",
        "stops = [\"de\", \"la\", \"a\", \"del\", \"por\", \"las\"]\n",
        "words = [\"teoría\", \"lenguaje\"]\n",
        "print(count_words(soup, \"bodyContent\", 3, 10, stops, words))"
      ]
    },
    {
      "cell_type": "markdown",
      "id": "57e41a49",
      "metadata": {
        "id": "57e41a49"
      },
      "source": [
        "**Salida esperada:**\n",
        "* En este caso, la función retorna un diccionario con el conteo de las palabras _\"teoría\"_ y _\"lenguaje\"_, dentro del _id_ `bodyContent`, se eliminan los mismos artículos que el ejemplo anterior _[\"de\", \"la\", \"a\", \"del\", \"por\", \"las\"]_ y la longitud de cada _token_ debe estar entre 3 y 10 caracteres.\n",
        "\n",
        "```python\n",
        "stops = [\"de\", \"la\", \"a\", \"del\", \"por\", \"las\"]\n",
        "words = [\"teoría\", \"lenguaje\"]\n",
        "print(count_words(soup, \"bodyContent\", 3, 10, stops, words))\n",
        "```\n",
        "\n",
        "> `{'teoría': 21, 'lenguaje': 23}`"
      ]
    },
    {
      "cell_type": "code",
      "execution_count": null,
      "id": "20ae6e57",
      "metadata": {
        "lines_to_next_cell": 1,
        "id": "20ae6e57"
      },
      "outputs": [],
      "source": [
        "#TEST_CELL\n",
        "stops = [\"de\", \"la\", \"a\", \"del\", \"por\", \"las\"]\n",
        "words = [\"teoría\", \"lenguaje\", \"formal\", \"gramática\"]\n",
        "print(count_words(soup, \"bodyContent\", 3, 10, stops, words))"
      ]
    },
    {
      "cell_type": "markdown",
      "id": "69418d84",
      "metadata": {
        "id": "69418d84"
      },
      "source": [
        "**Salida esperada:**\n",
        "* Por último, se mantienen los argumentos de los ejemplos anteriores pero la función retorna un diccionario con el conteo de las palabras _\"teoría\"_, _\"lenguaje\"_, _\"formal\"_ y _\"gramática\"_.\n",
        "```python\n",
        "stops = [\"de\", \"la\", \"a\", \"del\", \"por\", \"las\"]\n",
        "words = [\"teoría\", \"lenguaje\", \"formal\", \"gramática\"]\n",
        "print(count_words(soup, \"bodyContent\", 3, 10, stops, words))\n",
        "```\n",
        "\n",
        "> `{'teoría': 21, 'lenguaje': 23, 'formal': 3, 'gramática': 26}`"
      ]
    },
    {
      "cell_type": "markdown",
      "id": "2d8a80d4",
      "metadata": {
        "id": "2d8a80d4"
      },
      "source": [
        "## **6. Formato de Tabla de los Conteos**\n",
        "---\n",
        "En este ejercicio se requiere dar un formato en forma de tabla al resultado del ejercicio anterior. Para ello, debe completar la función `print_counts` con un código válido que retorne una tabla con la _cantidad_ de ocurrencias que una palabra dada tiene dentro de una sección indicada del archivo **HTML**. Para realizar la tabla, tenga en cuenta que la separación, ancho o la longitud de cada columna es de **20 espacios o caracteres** y se debe justificar cada elemento a la izquierda.\n",
        "\n",
        "**Parámetros**\n",
        "\n",
        "* `soup`: este debe contener el documento **HTML** pero como un objeto de `beautifulsoup`.\n",
        "* `id`: cadena de texto que indica una de las secciones del archivo **HTML** que tenga como _id_ el argumento indicado.\n",
        "* `min_len`: número entero que indica el límite inferior del _rango de longitud_ por el cual deben estar filtradas las palabras.\n",
        "* `max_len`: número entero que indica el límite superior del _rango de longitud_ por el cual deben estar filtradas las palabras.\n",
        "* `stops`: lista cuyos elementos son _strings_ o _tokens_ los cuales deben ser los que se eliminen de la cadena de texto.\n",
        "* `words`: lista cuyos elementos son _strings_ que indican qué palabras se desean contar dentro del texto.\n",
        "\n",
        "**Retorna**\n",
        "\n",
        "* `values`: conteo de la cantidad de ocurrencias de una palabra en _formato de tabla (f-string)_."
      ]
    },
    {
      "cell_type": "markdown",
      "id": "36440bd0",
      "metadata": {
        "id": "36440bd0"
      },
      "source": [
        "<details>    \n",
        "<summary>\n",
        "    <font size=\"3\" color=\"darkgreen\"><b>Pistas</b></font>\n",
        "</summary>\n",
        "\n",
        "* En el taller guiado `3_manipulacion_strings` se explica el formateo de _strings_ (_f-strings_) y, gracias a esto, es posible acotar el ancho de cada columna y si se debe justificar a izquierda (<) o derecha (>).\n",
        "* En este ejercicio solo debe considerar dos columnas \"_Palabra_\", la cual contiene el listado de palabras a contar y \"_Conteo_\" que indica cuántas ocurrencias tuvo la palabra correspondiente dentro del texto. También tenga en cuenta que la separación entre el título y las filas de datos de la tabla formada por guiones `-` puede crearse igualmente con el formato de _f-strings_.\n",
        "\n",
        "\n",
        "</details>"
      ]
    },
    {
      "cell_type": "code",
      "execution_count": null,
      "id": "ca2a94b2",
      "metadata": {
        "lines_to_next_cell": 1,
        "id": "ca2a94b2"
      },
      "outputs": [],
      "source": [
        "# FUNCIÓN CALIFICADA print_counts:\n",
        "\n",
        "def print_counts(\n",
        "        soup, id, min_len, max_len,\n",
        "        stops, words\n",
        "        ):\n",
        "    ### ESCRIBA SU CÓDIGO AQUÍ ###\n",
        "    values = []\n",
        "\n",
        "\n",
        "    return values\n",
        "    ### FIN DEL CÓDIGO ###"
      ]
    },
    {
      "cell_type": "code",
      "execution_count": null,
      "id": "4ecbdf6b",
      "metadata": {
        "id": "4ecbdf6b"
      },
      "outputs": [],
      "source": [
        "#TEST_CELL\n",
        "stops = [\"de\", \"la\", \"a\", \"del\", \"por\", \"las\"]\n",
        "words = [\"chomsky\", \"sintaxis\"]\n",
        "print(print_counts(soup, \"bodyContent\", 3, 10, stops, words))"
      ]
    },
    {
      "cell_type": "markdown",
      "id": "01b864bf",
      "metadata": {
        "id": "01b864bf"
      },
      "source": [
        "**Salida esperada:**\n",
        "\n",
        "* Al igual que el ejemplo del ejercicio anterior, la función retorna una tabla con el conteo de las palabras _\"chomsky\"_ y _\"sintaxis\"_, dentro del _id_ `bodyContent`, se eliminan los artículos _[\"de\", \"la\", \"a\", \"del\", \"por\", \"las\"]_ y la longitud de cada _token_ debe estar entre 3 y 10 caracteres.\n",
        "\n",
        "```python\n",
        "stops = [\"de\", \"la\", \"a\", \"del\", \"por\", \"las\"]\n",
        "words = [\"chomsky\", \"sintaxis\"]\n",
        "print(print_counts(soup, \"bodyContent\", 3, 10, stops, words))\n",
        "```\n",
        "<img src=\"https://drive.google.com/uc?export=view&id=1VNpgBNcQ-wtPWxl5Xpb3bBvSLnqX33ib\">"
      ]
    },
    {
      "cell_type": "code",
      "execution_count": null,
      "id": "70572bce",
      "metadata": {
        "id": "70572bce"
      },
      "outputs": [],
      "source": [
        "#TEST_CELL\n",
        "stops = [\"de\", \"la\", \"a\", \"del\", \"por\", \"las\"]\n",
        "words = [\"teoría\", \"lenguaje\"]\n",
        "print(print_counts(soup, \"bodyContent\", 3, 10, stops, words))"
      ]
    },
    {
      "cell_type": "markdown",
      "id": "75b78c9c",
      "metadata": {
        "id": "75b78c9c"
      },
      "source": [
        "**Salida esperada:**\n",
        "* En este caso, la función retorna una tabla con el conteo de las palabras _\"teoría\"_ y _\"lenguaje\"_, dentro del _id_ `bodyContent`, se eliminan los mismos artículos que el ejemplo anterior _[\"de\", \"la\", \"a\", \"del\", \"por\", \"las\"]_ y la longitud de cada _token_ debe estar entre 3 y 10 caracteres.\n",
        "```python\n",
        "stops = [\"de\", \"la\", \"a\", \"del\", \"por\", \"las\"]\n",
        "words = [\"teoría\", \"lenguaje\"]\n",
        "print(print_counts(soup, \"bodyContent\", 3, 10, stops, words))\n",
        "```\n",
        "<img src=\"https://drive.google.com/uc?export=view&id=1-3Jcq_elxgGdUdkgtROoolVqecgz0iro\">"
      ]
    },
    {
      "cell_type": "code",
      "execution_count": null,
      "id": "b9056d0b",
      "metadata": {
        "id": "b9056d0b"
      },
      "outputs": [],
      "source": [
        "#TEST_CELL\n",
        "stops = [\"de\", \"la\", \"a\", \"del\", \"por\", \"las\"]\n",
        "words = [\"teoría\", \"lenguaje\", \"formal\", \"gramática\"]\n",
        "print(print_counts(soup, \"bodyContent\", 3, 10, stops, words))"
      ]
    },
    {
      "cell_type": "markdown",
      "id": "be286d1f",
      "metadata": {
        "id": "be286d1f"
      },
      "source": [
        "**Salida esperada:**\n",
        "* Por último, se mantienen los argumentos de los ejemplos anteriores pero la función retorna una tabla con el conteo de las palabras _\"teoría\"_, _\"lenguaje\"_, _\"formal\"_ y _\"gramática\"_.\n",
        "```python\n",
        "stops = [\"de\", \"la\", \"a\", \"del\", \"por\", \"las\"]\n",
        "words = [\"teoría\", \"lenguaje\", \"formal\", \"gramática\"]\n",
        "print(print_counts(soup, \"bodyContent\", 3, 10, stops, words))\n",
        "```\n",
        "<img src=\"https://drive.google.com/uc?export=view&id=1prX1UW5j8g35-uSHNsGii90jQCpWBPkv\">"
      ]
    },
    {
      "cell_type": "markdown",
      "id": "465c700b",
      "metadata": {
        "id": "465c700b"
      },
      "source": [
        "## Créditos\n",
        "---\n",
        "\n",
        "* **Profesor:** [Felipe Restrepo Calle](https://dis.unal.edu.co/~ferestrepoca/)\n",
        "* **Asistentes docentes:**\n",
        "    - [Juan Sebastián Lara Ramírez](https://www.linkedin.com/in/juan-sebastian-lara-ramirez-43570a214/).\n",
        "* **Diseño de imágenes:**\n",
        "    - [Rosa Alejandra Superlano Esquibel](mailto:rsuperlano@unal.edu.co).\n",
        "* **Coordinador de virtualización:**\n",
        "    - [Edder Hernández Forero](https://www.linkedin.com/in/edder-hernandez-forero-28aa8b207/).\n",
        "\n",
        "**Universidad Nacional de Colombia** - *Facultad de Ingeniería*"
      ]
    }
  ],
  "metadata": {
    "jupytext": {
      "cell_metadata_filter": "-all",
      "main_language": "python",
      "notebook_metadata_filter": "-all"
    },
    "language_info": {
      "name": "python"
    },
    "colab": {
      "provenance": [],
      "include_colab_link": true
    },
    "kernelspec": {
      "name": "python3",
      "display_name": "Python 3"
    }
  },
  "nbformat": 4,
  "nbformat_minor": 5
}