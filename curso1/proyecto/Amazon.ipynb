{
  "nbformat": 4,
  "nbformat_minor": 0,
  "metadata": {
    "colab": {
      "provenance": [],
      "authorship_tag": "ABX9TyN3Z3spXIpcXqmPZq6CKBu5",
      "include_colab_link": true
    },
    "kernelspec": {
      "name": "python3",
      "display_name": "Python 3"
    },
    "language_info": {
      "name": "python"
    }
  },
  "cells": [
    {
      "cell_type": "markdown",
      "metadata": {
        "id": "view-in-github",
        "colab_type": "text"
      },
      "source": [
        "<a href=\"https://colab.research.google.com/github/nferrucho/NPL/blob/main/proyecto/Amazon.ipynb\" target=\"_parent\"><img src=\"https://colab.research.google.com/assets/colab-badge.svg\" alt=\"Open In Colab\"/></a>"
      ]
    },
    {
      "cell_type": "code",
      "execution_count": 55,
      "metadata": {
        "colab": {
          "base_uri": "https://localhost:8080/",
          "height": 293
        },
        "id": "fYHQ_kr795Ri",
        "outputId": "2fbf3118-6129-492c-b03f-abc55c228dac"
      },
      "outputs": [
        {
          "output_type": "execute_result",
          "data": {
            "text/plain": [
              "                               reviewId           userName  \\\n",
              "0  75a98b82-b222-442b-b8e6-dba1dff5eec0              Jason   \n",
              "1  cd5e35df-eda2-43e7-a78c-76ae5c8b880a         Rashid Ali   \n",
              "2  62dba633-af93-4fd8-a42b-3d03f085b99d      Octávio Viana   \n",
              "3  846f512f-428a-4147-a790-27e20a0af439  Christiaan Burger   \n",
              "4  bebf8fc4-6640-47e6-b3f1-d674c244c309            Diane L   \n",
              "\n",
              "                                             content  score  thumbsUpCount  \\\n",
              "0  Would be nice if the search function actually ...      1              3   \n",
              "1                                               Good      5              0   \n",
              "2  Uma aldrabice o desconto de 10% para compras a...      1              0   \n",
              "3                                  Do not use Amazon      1              0   \n",
              "4  Missing words when you want to go to account s...      3            261   \n",
              "\n",
              "  reviewCreatedVersion                   at   appVersion  \n",
              "0          28.16.0.100  2024-09-08 18:48:32  28.16.0.100  \n",
              "1          28.16.0.100  2024-09-08 18:44:39  28.16.0.100  \n",
              "2                  NaN  2024-09-08 18:15:12          NaN  \n",
              "3          28.13.6.100  2024-09-08 18:01:03  28.13.6.100  \n",
              "4          28.16.0.100  2024-09-08 17:46:29  28.16.0.100  "
            ],
            "text/html": [
              "\n",
              "  <div id=\"df-2f5f1eed-8581-4fc0-a5f1-bd2ccf9846dd\" class=\"colab-df-container\">\n",
              "    <div>\n",
              "<style scoped>\n",
              "    .dataframe tbody tr th:only-of-type {\n",
              "        vertical-align: middle;\n",
              "    }\n",
              "\n",
              "    .dataframe tbody tr th {\n",
              "        vertical-align: top;\n",
              "    }\n",
              "\n",
              "    .dataframe thead th {\n",
              "        text-align: right;\n",
              "    }\n",
              "</style>\n",
              "<table border=\"1\" class=\"dataframe\">\n",
              "  <thead>\n",
              "    <tr style=\"text-align: right;\">\n",
              "      <th></th>\n",
              "      <th>reviewId</th>\n",
              "      <th>userName</th>\n",
              "      <th>content</th>\n",
              "      <th>score</th>\n",
              "      <th>thumbsUpCount</th>\n",
              "      <th>reviewCreatedVersion</th>\n",
              "      <th>at</th>\n",
              "      <th>appVersion</th>\n",
              "    </tr>\n",
              "  </thead>\n",
              "  <tbody>\n",
              "    <tr>\n",
              "      <th>0</th>\n",
              "      <td>75a98b82-b222-442b-b8e6-dba1dff5eec0</td>\n",
              "      <td>Jason</td>\n",
              "      <td>Would be nice if the search function actually ...</td>\n",
              "      <td>1</td>\n",
              "      <td>3</td>\n",
              "      <td>28.16.0.100</td>\n",
              "      <td>2024-09-08 18:48:32</td>\n",
              "      <td>28.16.0.100</td>\n",
              "    </tr>\n",
              "    <tr>\n",
              "      <th>1</th>\n",
              "      <td>cd5e35df-eda2-43e7-a78c-76ae5c8b880a</td>\n",
              "      <td>Rashid Ali</td>\n",
              "      <td>Good</td>\n",
              "      <td>5</td>\n",
              "      <td>0</td>\n",
              "      <td>28.16.0.100</td>\n",
              "      <td>2024-09-08 18:44:39</td>\n",
              "      <td>28.16.0.100</td>\n",
              "    </tr>\n",
              "    <tr>\n",
              "      <th>2</th>\n",
              "      <td>62dba633-af93-4fd8-a42b-3d03f085b99d</td>\n",
              "      <td>Octávio Viana</td>\n",
              "      <td>Uma aldrabice o desconto de 10% para compras a...</td>\n",
              "      <td>1</td>\n",
              "      <td>0</td>\n",
              "      <td>NaN</td>\n",
              "      <td>2024-09-08 18:15:12</td>\n",
              "      <td>NaN</td>\n",
              "    </tr>\n",
              "    <tr>\n",
              "      <th>3</th>\n",
              "      <td>846f512f-428a-4147-a790-27e20a0af439</td>\n",
              "      <td>Christiaan Burger</td>\n",
              "      <td>Do not use Amazon</td>\n",
              "      <td>1</td>\n",
              "      <td>0</td>\n",
              "      <td>28.13.6.100</td>\n",
              "      <td>2024-09-08 18:01:03</td>\n",
              "      <td>28.13.6.100</td>\n",
              "    </tr>\n",
              "    <tr>\n",
              "      <th>4</th>\n",
              "      <td>bebf8fc4-6640-47e6-b3f1-d674c244c309</td>\n",
              "      <td>Diane L</td>\n",
              "      <td>Missing words when you want to go to account s...</td>\n",
              "      <td>3</td>\n",
              "      <td>261</td>\n",
              "      <td>28.16.0.100</td>\n",
              "      <td>2024-09-08 17:46:29</td>\n",
              "      <td>28.16.0.100</td>\n",
              "    </tr>\n",
              "  </tbody>\n",
              "</table>\n",
              "</div>\n",
              "    <div class=\"colab-df-buttons\">\n",
              "\n",
              "  <div class=\"colab-df-container\">\n",
              "    <button class=\"colab-df-convert\" onclick=\"convertToInteractive('df-2f5f1eed-8581-4fc0-a5f1-bd2ccf9846dd')\"\n",
              "            title=\"Convert this dataframe to an interactive table.\"\n",
              "            style=\"display:none;\">\n",
              "\n",
              "  <svg xmlns=\"http://www.w3.org/2000/svg\" height=\"24px\" viewBox=\"0 -960 960 960\">\n",
              "    <path d=\"M120-120v-720h720v720H120Zm60-500h600v-160H180v160Zm220 220h160v-160H400v160Zm0 220h160v-160H400v160ZM180-400h160v-160H180v160Zm440 0h160v-160H620v160ZM180-180h160v-160H180v160Zm440 0h160v-160H620v160Z\"/>\n",
              "  </svg>\n",
              "    </button>\n",
              "\n",
              "  <style>\n",
              "    .colab-df-container {\n",
              "      display:flex;\n",
              "      gap: 12px;\n",
              "    }\n",
              "\n",
              "    .colab-df-convert {\n",
              "      background-color: #E8F0FE;\n",
              "      border: none;\n",
              "      border-radius: 50%;\n",
              "      cursor: pointer;\n",
              "      display: none;\n",
              "      fill: #1967D2;\n",
              "      height: 32px;\n",
              "      padding: 0 0 0 0;\n",
              "      width: 32px;\n",
              "    }\n",
              "\n",
              "    .colab-df-convert:hover {\n",
              "      background-color: #E2EBFA;\n",
              "      box-shadow: 0px 1px 2px rgba(60, 64, 67, 0.3), 0px 1px 3px 1px rgba(60, 64, 67, 0.15);\n",
              "      fill: #174EA6;\n",
              "    }\n",
              "\n",
              "    .colab-df-buttons div {\n",
              "      margin-bottom: 4px;\n",
              "    }\n",
              "\n",
              "    [theme=dark] .colab-df-convert {\n",
              "      background-color: #3B4455;\n",
              "      fill: #D2E3FC;\n",
              "    }\n",
              "\n",
              "    [theme=dark] .colab-df-convert:hover {\n",
              "      background-color: #434B5C;\n",
              "      box-shadow: 0px 1px 3px 1px rgba(0, 0, 0, 0.15);\n",
              "      filter: drop-shadow(0px 1px 2px rgba(0, 0, 0, 0.3));\n",
              "      fill: #FFFFFF;\n",
              "    }\n",
              "  </style>\n",
              "\n",
              "    <script>\n",
              "      const buttonEl =\n",
              "        document.querySelector('#df-2f5f1eed-8581-4fc0-a5f1-bd2ccf9846dd button.colab-df-convert');\n",
              "      buttonEl.style.display =\n",
              "        google.colab.kernel.accessAllowed ? 'block' : 'none';\n",
              "\n",
              "      async function convertToInteractive(key) {\n",
              "        const element = document.querySelector('#df-2f5f1eed-8581-4fc0-a5f1-bd2ccf9846dd');\n",
              "        const dataTable =\n",
              "          await google.colab.kernel.invokeFunction('convertToInteractive',\n",
              "                                                    [key], {});\n",
              "        if (!dataTable) return;\n",
              "\n",
              "        const docLinkHtml = 'Like what you see? Visit the ' +\n",
              "          '<a target=\"_blank\" href=https://colab.research.google.com/notebooks/data_table.ipynb>data table notebook</a>'\n",
              "          + ' to learn more about interactive tables.';\n",
              "        element.innerHTML = '';\n",
              "        dataTable['output_type'] = 'display_data';\n",
              "        await google.colab.output.renderOutput(dataTable, element);\n",
              "        const docLink = document.createElement('div');\n",
              "        docLink.innerHTML = docLinkHtml;\n",
              "        element.appendChild(docLink);\n",
              "      }\n",
              "    </script>\n",
              "  </div>\n",
              "\n",
              "\n",
              "<div id=\"df-cc293cd4-8990-44f9-a99a-f3cd61a4a0d4\">\n",
              "  <button class=\"colab-df-quickchart\" onclick=\"quickchart('df-cc293cd4-8990-44f9-a99a-f3cd61a4a0d4')\"\n",
              "            title=\"Suggest charts\"\n",
              "            style=\"display:none;\">\n",
              "\n",
              "<svg xmlns=\"http://www.w3.org/2000/svg\" height=\"24px\"viewBox=\"0 0 24 24\"\n",
              "     width=\"24px\">\n",
              "    <g>\n",
              "        <path d=\"M19 3H5c-1.1 0-2 .9-2 2v14c0 1.1.9 2 2 2h14c1.1 0 2-.9 2-2V5c0-1.1-.9-2-2-2zM9 17H7v-7h2v7zm4 0h-2V7h2v10zm4 0h-2v-4h2v4z\"/>\n",
              "    </g>\n",
              "</svg>\n",
              "  </button>\n",
              "\n",
              "<style>\n",
              "  .colab-df-quickchart {\n",
              "      --bg-color: #E8F0FE;\n",
              "      --fill-color: #1967D2;\n",
              "      --hover-bg-color: #E2EBFA;\n",
              "      --hover-fill-color: #174EA6;\n",
              "      --disabled-fill-color: #AAA;\n",
              "      --disabled-bg-color: #DDD;\n",
              "  }\n",
              "\n",
              "  [theme=dark] .colab-df-quickchart {\n",
              "      --bg-color: #3B4455;\n",
              "      --fill-color: #D2E3FC;\n",
              "      --hover-bg-color: #434B5C;\n",
              "      --hover-fill-color: #FFFFFF;\n",
              "      --disabled-bg-color: #3B4455;\n",
              "      --disabled-fill-color: #666;\n",
              "  }\n",
              "\n",
              "  .colab-df-quickchart {\n",
              "    background-color: var(--bg-color);\n",
              "    border: none;\n",
              "    border-radius: 50%;\n",
              "    cursor: pointer;\n",
              "    display: none;\n",
              "    fill: var(--fill-color);\n",
              "    height: 32px;\n",
              "    padding: 0;\n",
              "    width: 32px;\n",
              "  }\n",
              "\n",
              "  .colab-df-quickchart:hover {\n",
              "    background-color: var(--hover-bg-color);\n",
              "    box-shadow: 0 1px 2px rgba(60, 64, 67, 0.3), 0 1px 3px 1px rgba(60, 64, 67, 0.15);\n",
              "    fill: var(--button-hover-fill-color);\n",
              "  }\n",
              "\n",
              "  .colab-df-quickchart-complete:disabled,\n",
              "  .colab-df-quickchart-complete:disabled:hover {\n",
              "    background-color: var(--disabled-bg-color);\n",
              "    fill: var(--disabled-fill-color);\n",
              "    box-shadow: none;\n",
              "  }\n",
              "\n",
              "  .colab-df-spinner {\n",
              "    border: 2px solid var(--fill-color);\n",
              "    border-color: transparent;\n",
              "    border-bottom-color: var(--fill-color);\n",
              "    animation:\n",
              "      spin 1s steps(1) infinite;\n",
              "  }\n",
              "\n",
              "  @keyframes spin {\n",
              "    0% {\n",
              "      border-color: transparent;\n",
              "      border-bottom-color: var(--fill-color);\n",
              "      border-left-color: var(--fill-color);\n",
              "    }\n",
              "    20% {\n",
              "      border-color: transparent;\n",
              "      border-left-color: var(--fill-color);\n",
              "      border-top-color: var(--fill-color);\n",
              "    }\n",
              "    30% {\n",
              "      border-color: transparent;\n",
              "      border-left-color: var(--fill-color);\n",
              "      border-top-color: var(--fill-color);\n",
              "      border-right-color: var(--fill-color);\n",
              "    }\n",
              "    40% {\n",
              "      border-color: transparent;\n",
              "      border-right-color: var(--fill-color);\n",
              "      border-top-color: var(--fill-color);\n",
              "    }\n",
              "    60% {\n",
              "      border-color: transparent;\n",
              "      border-right-color: var(--fill-color);\n",
              "    }\n",
              "    80% {\n",
              "      border-color: transparent;\n",
              "      border-right-color: var(--fill-color);\n",
              "      border-bottom-color: var(--fill-color);\n",
              "    }\n",
              "    90% {\n",
              "      border-color: transparent;\n",
              "      border-bottom-color: var(--fill-color);\n",
              "    }\n",
              "  }\n",
              "</style>\n",
              "\n",
              "  <script>\n",
              "    async function quickchart(key) {\n",
              "      const quickchartButtonEl =\n",
              "        document.querySelector('#' + key + ' button');\n",
              "      quickchartButtonEl.disabled = true;  // To prevent multiple clicks.\n",
              "      quickchartButtonEl.classList.add('colab-df-spinner');\n",
              "      try {\n",
              "        const charts = await google.colab.kernel.invokeFunction(\n",
              "            'suggestCharts', [key], {});\n",
              "      } catch (error) {\n",
              "        console.error('Error during call to suggestCharts:', error);\n",
              "      }\n",
              "      quickchartButtonEl.classList.remove('colab-df-spinner');\n",
              "      quickchartButtonEl.classList.add('colab-df-quickchart-complete');\n",
              "    }\n",
              "    (() => {\n",
              "      let quickchartButtonEl =\n",
              "        document.querySelector('#df-cc293cd4-8990-44f9-a99a-f3cd61a4a0d4 button');\n",
              "      quickchartButtonEl.style.display =\n",
              "        google.colab.kernel.accessAllowed ? 'block' : 'none';\n",
              "    })();\n",
              "  </script>\n",
              "</div>\n",
              "\n",
              "    </div>\n",
              "  </div>\n"
            ],
            "application/vnd.google.colaboratory.intrinsic+json": {
              "type": "dataframe",
              "variable_name": "df",
              "summary": "{\n  \"name\": \"df\",\n  \"rows\": 60366,\n  \"fields\": [\n    {\n      \"column\": \"reviewId\",\n      \"properties\": {\n        \"dtype\": \"string\",\n        \"num_unique_values\": 59712,\n        \"samples\": [\n          \"e5010e6c-c1e6-4205-90a6-8428290c3466\",\n          \"0fefb141-7b48-41de-8d61-78cbe3286902\",\n          \"d702ffe7-140a-4ee9-9e05-1ae17b00d504\"\n        ],\n        \"semantic_type\": \"\",\n        \"description\": \"\"\n      }\n    },\n    {\n      \"column\": \"userName\",\n      \"properties\": {\n        \"dtype\": \"string\",\n        \"num_unique_values\": 49371,\n        \"samples\": [\n          \"Ally\",\n          \"Peter Brissette\",\n          \"Russell R.\"\n        ],\n        \"semantic_type\": \"\",\n        \"description\": \"\"\n      }\n    },\n    {\n      \"column\": \"content\",\n      \"properties\": {\n        \"dtype\": \"string\",\n        \"num_unique_values\": 59280,\n        \"samples\": [\n          \"great shopping experience and prices are affordable and reasonable..and as a Amazon prime member my orders arrives quickly in one or two days in which I am happy\",\n          \"It is what it is. No dark theme, only brite screaming white. One would think, as the leader in online shopping that Amazon would have the best shopping app. The controls for following products leaves a lot to be desired. The filters being set, then sorting by price, sorts items by price, but continuing on, starts the products from sorted again, according to one of the filter's settings. You'd think they would know how to program this correctly. The app functions poorly sometimes and is clunky.\",\n          \"I LOVE AMAZON UNTIL THEY ALLOW SOMEONE TO USE YOUR BANK CARD THAT'S ON FILE AND I NEVER GOT MY MONEY BACK FROM THEM I THINK WHEN YOU PURCHASE ANYTHING ONLINE THAT SHOULD ASK YOU FOR A PASSWORD OR SECURITY QUESTION TO MAKE SURE THAT IT'S YOU THAT DOING THE PURCHASE BECAUSE THERE IS A LOT OF SCAMMERS OUT THERE AND I HAD REDO MY ACCOUNT AND CANCELED MY PRIME ACCOUNT NOW I DON'T HAVE PRIME ANY MORE BC SOMEONE WAS USING MY CARD BUT THE APP IT'S A GOOD APP JUST HAVE TO DO BETTER WITH ACCOUNT INFORMA\"\n        ],\n        \"semantic_type\": \"\",\n        \"description\": \"\"\n      }\n    },\n    {\n      \"column\": \"score\",\n      \"properties\": {\n        \"dtype\": \"number\",\n        \"std\": 1,\n        \"min\": 1,\n        \"max\": 5,\n        \"num_unique_values\": 5,\n        \"samples\": [\n          5,\n          4,\n          3\n        ],\n        \"semantic_type\": \"\",\n        \"description\": \"\"\n      }\n    },\n    {\n      \"column\": \"thumbsUpCount\",\n      \"properties\": {\n        \"dtype\": \"number\",\n        \"std\": 79,\n        \"min\": 0,\n        \"max\": 5660,\n        \"num_unique_values\": 585,\n        \"samples\": [\n          459,\n          865,\n          310\n        ],\n        \"semantic_type\": \"\",\n        \"description\": \"\"\n      }\n    },\n    {\n      \"column\": \"reviewCreatedVersion\",\n      \"properties\": {\n        \"dtype\": \"category\",\n        \"num_unique_values\": 231,\n        \"samples\": [\n          \"22.17.0.100\",\n          \"22.9.0.100\",\n          \"28.2.2.100\"\n        ],\n        \"semantic_type\": \"\",\n        \"description\": \"\"\n      }\n    },\n    {\n      \"column\": \"at\",\n      \"properties\": {\n        \"dtype\": \"object\",\n        \"num_unique_values\": 60220,\n        \"samples\": [\n          \"2023-12-12 00:59:22\",\n          \"2024-06-05 05:46:08\",\n          \"2024-08-02 18:31:39\"\n        ],\n        \"semantic_type\": \"\",\n        \"description\": \"\"\n      }\n    },\n    {\n      \"column\": \"appVersion\",\n      \"properties\": {\n        \"dtype\": \"category\",\n        \"num_unique_values\": 231,\n        \"samples\": [\n          \"22.17.0.100\",\n          \"22.9.0.100\",\n          \"28.2.2.100\"\n        ],\n        \"semantic_type\": \"\",\n        \"description\": \"\"\n      }\n    }\n  ]\n}"
            }
          },
          "metadata": {},
          "execution_count": 55
        }
      ],
      "source": [
        "import pandas as pd\n",
        "\n",
        "# URL convertida al formato raw\n",
        "url = 'https://raw.githubusercontent.com/nferrucho/NPL/main/proyecto/amazon_reviews.csv'\n",
        "\n",
        "# Leer el archivo CSV directamente desde GitHub\n",
        "df = pd.read_csv(url)\n",
        "\n",
        "# Mostrar las primeras filas del DataFrame\n",
        "df.head()\n"
      ]
    },
    {
      "cell_type": "code",
      "source": [
        "datos = df.content\n",
        "print(datos.head())"
      ],
      "metadata": {
        "colab": {
          "base_uri": "https://localhost:8080/"
        },
        "id": "CYSSS_h0Ay3o",
        "outputId": "5e0a0d95-ad8b-46b7-e821-46793e39d637"
      },
      "execution_count": 18,
      "outputs": [
        {
          "output_type": "stream",
          "name": "stdout",
          "text": [
            "0    Would be nice if the search function actually ...\n",
            "1                                                 Good\n",
            "2    Uma aldrabice o desconto de 10% para compras a...\n",
            "3                                    Do not use Amazon\n",
            "4    Missing words when you want to go to account s...\n",
            "Name: content, dtype: object\n"
          ]
        }
      ]
    },
    {
      "cell_type": "code",
      "source": [
        "import re\n",
        "\n",
        "# Función mejorada para normalizar y tokenizar texto\n",
        "def normalizar_tokenizar(texto):\n",
        "  try:\n",
        "      # Eliminar texto vacio\n",
        "      if pd.isna(texto) or texto.strip() == '':\n",
        "        return []\n",
        "\n",
        "      # Expresión regular para encontrar números y porcentajes\n",
        "      patron_numeros = r'\\d+(?:\\.\\d+)?%'  # Coincide con porcentajes como '45%' o '23.5%'\n",
        "      patron_palabras_numeros = r'\\d+(?:\\.\\d+)?'  # Coincide con números como '123' o '45.67'\n",
        "\n",
        "      # Extraer los porcentajes y números del texto antes de aplicar lower\n",
        "      porcentajes = re.findall(patron_numeros, texto)\n",
        "      numeros = re.findall(patron_palabras_numeros, texto)\n",
        "\n",
        "      # Convertir a minúsculas, pero no los números ni los porcentajes\n",
        "      texto = re.sub(patron_numeros, '', texto)  # Quitar los porcentajes temporariamente\n",
        "      texto = re.sub(patron_palabras_numeros, '', texto)  # Quitar los números temporariamente\n",
        "      texto = texto.lower()\n",
        "\n",
        "      # Volver a insertar los números y porcentajes en el texto\n",
        "      for p in porcentajes:\n",
        "          texto += f' {p}'\n",
        "      for n in numeros:\n",
        "          texto += f' {n}'\n",
        "\n",
        "      # Eliminar caracteres especiales, pero mantener los espacios\n",
        "      texto = re.sub(r'[^\\w\\s%]', '', texto)\n",
        "\n",
        "      # Tokenizar (dividir en palabras)\n",
        "      tokens = texto.split()\n",
        "\n",
        "      # Filtrar palabras stop\n",
        "      #tokens_filtrados = [token for token in tokens if token not in stop_words]\n",
        "\n",
        "      # Normalizacion\n",
        "      preprocess_text = ' '.join([tokens])\n",
        "      return tokens\n",
        "\n",
        "  except Exception as e:\n",
        "      print(f\"Error procesando el texto: {texto}\")\n",
        "      print(f\"Error: {e}\")\n",
        "      return []"
      ],
      "metadata": {
        "id": "PNK-WxoqDN5T"
      },
      "execution_count": 65,
      "outputs": []
    },
    {
      "cell_type": "code",
      "source": [
        "# Aplicar la función 'normalizar_tokenizar' a la columna 'review_text'\n",
        "df['review_text_tokenizado'] = df['content'].apply(normalizar_tokenizar)\n",
        "\n",
        "# Mostrar las primeras filas con la nueva columna\n",
        "print(df[['review_text_tokenizado']].head())"
      ],
      "metadata": {
        "colab": {
          "base_uri": "https://localhost:8080/"
        },
        "id": "xqsPwG5-SZLq",
        "outputId": "f6e0bfe1-a0aa-46f1-fde6-9d5848bd3d30"
      },
      "execution_count": 67,
      "outputs": [
        {
          "output_type": "stream",
          "name": "stdout",
          "text": [
            "                              review_text_tokenizado\n",
            "0  [would, be, nice, if, the, search, function, a...\n",
            "1                                             [good]\n",
            "2  [uma, aldrabice, o, desconto, de, para, compra...\n",
            "3                             [do, not, use, amazon]\n",
            "4  [missing, words, when, you, want, to, go, to, ...\n"
          ]
        }
      ]
    },
    {
      "cell_type": "code",
      "source": [
        "import spacy\n",
        "\n",
        "# Cargar el modelo\n",
        "nlp = spacy.load(\"en_core_web_sm\")\n",
        "doc = nlp(datos[0])\n",
        "print(doc)"
      ],
      "metadata": {
        "colab": {
          "base_uri": "https://localhost:8080/"
        },
        "id": "2orI8cwiBclK",
        "outputId": "0777cf69-430e-43d5-f5a5-a18897f63e4a"
      },
      "execution_count": 78,
      "outputs": [
        {
          "output_type": "stream",
          "name": "stdout",
          "text": [
            "Would be nice if the search function actually worked correctly. Shows very little of what I actually searched\n"
          ]
        }
      ]
    },
    {
      "cell_type": "code",
      "source": [
        "\n",
        "#TEST_CELL\n",
        "!pip install unidecode"
      ],
      "metadata": {
        "colab": {
          "base_uri": "https://localhost:8080/"
        },
        "id": "7bjNOHYj7Gsv",
        "outputId": "35577456-1295-4969-8cb9-7458d3f3b40f"
      },
      "execution_count": 85,
      "outputs": [
        {
          "output_type": "stream",
          "name": "stdout",
          "text": [
            "Requirement already satisfied: unidecode in /usr/local/lib/python3.10/dist-packages (1.3.8)\n"
          ]
        }
      ]
    },
    {
      "cell_type": "code",
      "source": [
        "import pandas as pd\n",
        "import re\n",
        "from unidecode import unidecode\n",
        "\n",
        "def normalizar_tokenizarSpacy(texto):\n",
        "  try:\n",
        "    if pd.isna(texto) or texto.strip() == '':\n",
        "        return []\n",
        "\n",
        "    # Procesar el texto con spaCy\n",
        "    doc = nlp(texto)\n",
        "\n",
        "    # Filtrar tokens usando spaCy\n",
        "    tokens_filtrados = [\n",
        "        token.text.lower()\n",
        "        for token in doc\n",
        "        if not token.is_stop and token.pos_ in {'NOUN', 'VERB'}\n",
        "    ]\n",
        "\n",
        "    return tokens_filtrados\n",
        "  except Exception as e:\n",
        "      print(f\"Error procesando el texto: {texto}\")\n",
        "      print(f\"Error: {e}\")\n",
        "      return []\n"
      ],
      "metadata": {
        "id": "2anCW4_Unv8r"
      },
      "execution_count": 91,
      "outputs": []
    },
    {
      "cell_type": "code",
      "source": [
        "# Aplicar la función 'normalizar_tokenizar' a la columna 'content'\n",
        "df['content_tokenizado'] = df['content'].apply(normalizar_tokenizarSpacy)\n",
        "\n",
        "# Mostrar las primeras filas con la nueva columna\n",
        "print(df[['content', 'content_tokenizado']].head())"
      ],
      "metadata": {
        "id": "4oIFVB3Knz1b"
      },
      "execution_count": null,
      "outputs": []
    },
    {
      "cell_type": "code",
      "source": [
        "print(df[['content_tokenizado']].head())"
      ],
      "metadata": {
        "colab": {
          "base_uri": "https://localhost:8080/"
        },
        "id": "s3xgSP47n4sc",
        "outputId": "7539feaf-0f4f-4c58-f65d-723f88f0f650"
      },
      "execution_count": 71,
      "outputs": [
        {
          "output_type": "stream",
          "name": "stdout",
          "text": [
            "                                  content_tokenizado\n",
            "0        [search, function, worked, shows, searched]\n",
            "1                                                 []\n",
            "2                  [aldrabice, o, %, para, euros, o]\n",
            "3                                              [use]\n",
            "4  [missing, words, want, account, settings, hit,...\n"
          ]
        }
      ]
    },
    {
      "cell_type": "code",
      "source": [
        "\n",
        "#TEST_CELL\n",
        "!pip install unidecode"
      ],
      "metadata": {
        "colab": {
          "base_uri": "https://localhost:8080/"
        },
        "id": "mk1-8PV4yWXH",
        "outputId": "1a58ae83-7cd9-4015-b537-4cc677408322"
      },
      "execution_count": 74,
      "outputs": [
        {
          "output_type": "stream",
          "name": "stdout",
          "text": [
            "Collecting unidecode\n",
            "  Downloading Unidecode-1.3.8-py3-none-any.whl.metadata (13 kB)\n",
            "Downloading Unidecode-1.3.8-py3-none-any.whl (235 kB)\n",
            "\u001b[?25l   \u001b[90m━━━━━━━━━━━━━━━━━━━━━━━━━━━━━━━━━━━━━━━━\u001b[0m \u001b[32m0.0/235.5 kB\u001b[0m \u001b[31m?\u001b[0m eta \u001b[36m-:--:--\u001b[0m\r\u001b[2K   \u001b[90m━━━━━━━━━━━━━━━━━━━━━━━━━━━━━━━━━━━━━━━━\u001b[0m \u001b[32m235.5/235.5 kB\u001b[0m \u001b[31m13.6 MB/s\u001b[0m eta \u001b[36m0:00:00\u001b[0m\n",
            "\u001b[?25hInstalling collected packages: unidecode\n",
            "Successfully installed unidecode-1.3.8\n"
          ]
        }
      ]
    },
    {
      "cell_type": "code",
      "source": [
        "\n",
        "def preprocess_word_list(word_list):\n",
        "\n",
        "    # Unir las palabras en un texto para que spaCy pueda procesarlas como un documento\n",
        "    text = ' '.join(word_list)\n",
        "\n",
        "    # Procesar el texto con spaCy\n",
        "    doc = nlp(text)\n",
        "\n",
        "    # Lista de etiquetas POS a filtrar (sustantivos y verbos)\n",
        "    pos_list = {'NOUN', 'VERB'}\n",
        "\n",
        "    # Filtrar tokens que no sean stopwords y que tengan las etiquetas POS especificadas\n",
        "    filtered_tokens = [token for token in doc if not token.is_stop and token.pos_ in pos_list]\n",
        "\n",
        "    # Normalizar y convertir a minúsculas, eliminar acentos\n",
        "    preprocess_text = ' '.join([unidecode(token.text.lower()) for token in filtered_tokens])\n",
        "\n",
        "    return preprocess_text\n",
        "\n",
        "# Ejemplo de uso\n",
        "word_list = [\"Este\", \"es\", \"un\", \"ejemplo\", \"de\", \"texto\", \"preprocesado\", \"spaCy\"]\n",
        "resultado = preprocess_word_list(word_list)\n",
        "print(resultado)\n"
      ],
      "metadata": {
        "colab": {
          "base_uri": "https://localhost:8080/"
        },
        "id": "wMHG-osd_T6P",
        "outputId": "77d10f15-1f8c-4239-8bd9-b751ceaff1af"
      },
      "execution_count": 95,
      "outputs": [
        {
          "output_type": "stream",
          "name": "stdout",
          "text": [
            "este preprocesado spacy\n"
          ]
        }
      ]
    },
    {
      "cell_type": "code",
      "source": [
        "# Aplicar la función 'normalizar_tokenizar' a la columna 'content'\n",
        "df['content_normalizado'] = df['content_tokenizado'].apply(preprocess_word_list)\n",
        "\n",
        "# Mostrar las primeras filas con la nueva columna\n",
        "print(df[['content_normalizado']].head())"
      ],
      "metadata": {
        "colab": {
          "base_uri": "https://localhost:8080/"
        },
        "id": "c1pw9O_q_lQG",
        "outputId": "5d86d846-a8ea-411c-a331-31b6df7c6c93"
      },
      "execution_count": 96,
      "outputs": [
        {
          "output_type": "stream",
          "name": "stdout",
          "text": [
            "                                 content_normalizado\n",
            "0              search function worked shows searched\n",
            "1                                                   \n",
            "2                                aldrabice o euros o\n",
            "3                                                use\n",
            "4  words want account settings hit body person sh...\n"
          ]
        }
      ]
    }
  ]
}