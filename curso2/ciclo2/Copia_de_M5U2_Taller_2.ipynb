{
  "cells": [
    {
      "cell_type": "markdown",
      "metadata": {
        "id": "view-in-github",
        "colab_type": "text"
      },
      "source": [
        "<a href=\"https://colab.research.google.com/github/nferrucho/NPL/blob/main/curso2/ciclo2/Copia_de_M5U2_Taller_2.ipynb\" target=\"_parent\"><img src=\"https://colab.research.google.com/assets/colab-badge.svg\" alt=\"Open In Colab\"/></a>"
      ]
    },
    {
      "cell_type": "markdown",
      "id": "bKcpFUkaEE40",
      "metadata": {
        "id": "bKcpFUkaEE40"
      },
      "source": [
        "<img src = \"https://drive.google.com/uc?export=view&id=1Md0grlXXV4fB0bkYuMWzBiS64RvjaFGX\" alt = \"Encabezado MLDS\" width = \"100%\">  </img>"
      ]
    },
    {
      "cell_type": "markdown",
      "id": "JCjMae-PEHm-",
      "metadata": {
        "id": "JCjMae-PEHm-"
      },
      "source": [
        "# **Taller 2: Redes Neuronales con *Keras***\n",
        "---\n",
        "\n",
        "En este taller deberá entrenar una red neuronal de clasificación para el [conjunto de datos Digits](https://archive.ics.uci.edu/ml/datasets/Optical+Recognition+of+Handwritten+Digits) del repositorio de la *UCI* usando *Tensorflow*.\n",
        "\n",
        "Ejecute las siguientes celdas para conectarse a UNCode:\n",
        "\n"
      ]
    },
    {
      "cell_type": "code",
      "execution_count": 1,
      "id": "ZG9fFBVbnZdj",
      "metadata": {
        "id": "ZG9fFBVbnZdj",
        "colab": {
          "base_uri": "https://localhost:8080/"
        },
        "outputId": "83cd5f53-a5d1-4025-e0d6-2b463cd27fd6"
      },
      "outputs": [
        {
          "output_type": "stream",
          "name": "stdout",
          "text": [
            "Collecting rlxcrypt\n",
            "  Downloading rlxcrypt-0.0.4-cp310-cp310-manylinux_2_17_x86_64.manylinux2014_x86_64.whl.metadata (1.9 kB)\n",
            "Collecting imphook (from rlxcrypt)\n",
            "  Downloading imphook-1.0.tar.gz (12 kB)\n",
            "  Preparing metadata (setup.py) ... \u001b[?25l\u001b[?25hdone\n",
            "Requirement already satisfied: cython in /usr/local/lib/python3.10/dist-packages (from rlxcrypt) (3.0.11)\n",
            "Collecting pycryptodome (from rlxcrypt)\n",
            "  Downloading pycryptodome-3.21.0-cp36-abi3-manylinux_2_17_x86_64.manylinux2014_x86_64.whl.metadata (3.4 kB)\n",
            "Requirement already satisfied: cryptography in /usr/local/lib/python3.10/dist-packages (from rlxcrypt) (43.0.1)\n",
            "Requirement already satisfied: cffi>=1.12 in /usr/local/lib/python3.10/dist-packages (from cryptography->rlxcrypt) (1.17.1)\n",
            "Requirement already satisfied: pycparser in /usr/local/lib/python3.10/dist-packages (from cffi>=1.12->cryptography->rlxcrypt) (2.22)\n",
            "Downloading rlxcrypt-0.0.4-cp310-cp310-manylinux_2_17_x86_64.manylinux2014_x86_64.whl (297 kB)\n",
            "\u001b[2K   \u001b[90m━━━━━━━━━━━━━━━━━━━━━━━━━━━━━━━━━━━━━━━━\u001b[0m \u001b[32m297.9/297.9 kB\u001b[0m \u001b[31m5.2 MB/s\u001b[0m eta \u001b[36m0:00:00\u001b[0m\n",
            "\u001b[?25hDownloading pycryptodome-3.21.0-cp36-abi3-manylinux_2_17_x86_64.manylinux2014_x86_64.whl (2.3 MB)\n",
            "\u001b[2K   \u001b[90m━━━━━━━━━━━━━━━━━━━━━━━━━━━━━━━━━━━━━━━━\u001b[0m \u001b[32m2.3/2.3 MB\u001b[0m \u001b[31m23.5 MB/s\u001b[0m eta \u001b[36m0:00:00\u001b[0m\n",
            "\u001b[?25hBuilding wheels for collected packages: imphook\n",
            "  Building wheel for imphook (setup.py) ... \u001b[?25l\u001b[?25hdone\n",
            "  Created wheel for imphook: filename=imphook-1.0-py3-none-any.whl size=9421 sha256=75d55776ec42a0de121defc75ce75f9255f0d4224a659e463a8317d9ce7544ca\n",
            "  Stored in directory: /root/.cache/pip/wheels/dc/e2/a4/fcb3817d09a2eb047b2b08eb58e7d9140041b0f3f415eb1256\n",
            "Successfully built imphook\n",
            "Installing collected packages: imphook, pycryptodome, rlxcrypt\n",
            "Successfully installed imphook-1.0 pycryptodome-3.21.0 rlxcrypt-0.0.4\n"
          ]
        }
      ],
      "source": [
        "!pip install rlxcrypt"
      ]
    },
    {
      "cell_type": "code",
      "execution_count": 2,
      "id": "DQG52SQXncDH",
      "metadata": {
        "id": "DQG52SQXncDH"
      },
      "outputs": [],
      "source": [
        "!wget --no-cache -O session.pye -q https://raw.githubusercontent.com/JuezUN/INGInious/master/external%20libs/session.pye"
      ]
    },
    {
      "cell_type": "code",
      "execution_count": 3,
      "id": "T9ENQ5-cncFU",
      "metadata": {
        "id": "T9ENQ5-cncFU",
        "colab": {
          "base_uri": "https://localhost:8080/",
          "height": 309
        },
        "outputId": "e4c5c394-4f0c-44f8-a6c0-f96fa0a3ac80"
      },
      "outputs": [
        {
          "output_type": "display_data",
          "data": {
            "text/plain": [
              "<IPython.core.display.HTML object>"
            ],
            "text/html": [
              "\n",
              "    <div>\n",
              "    <div style=\"display: flex\">\n",
              "        <div style=\"padding: 10px\">\n",
              "          <img\n",
              "            src=\"https://uncode.unal.edu.co/static/images/logo_unc.svg\"\n",
              "            width=\"50px\"\n",
              "            height=\"50px\"\n",
              "          />\n",
              "        </div>\n",
              "      \n",
              "        <div>\n",
              "          <h2>UNCode Notebooks grader API</h2>\n",
              "          <hr />\n",
              "        </div>\n",
              "      </div>\n",
              "      \n",
              "      <div style=\"display: flex\">\n",
              "        <span>Please enter authentication data</span>\n",
              "      </div>\n",
              "    </div>\n",
              "    "
            ]
          },
          "metadata": {}
        },
        {
          "name": "stdout",
          "output_type": "stream",
          "text": [
            "Please enter your UNCode username: nelson.ferrucho@gmail.com\n",
            "Please enter your password: ··········\n"
          ]
        },
        {
          "output_type": "display_data",
          "data": {
            "text/plain": [
              "<IPython.core.display.HTML object>"
            ],
            "text/html": [
              "<h5 style=\"color: green\"><Response [200]></h5>"
            ]
          },
          "metadata": {}
        },
        {
          "output_type": "display_data",
          "data": {
            "text/plain": [
              "<IPython.core.display.HTML object>"
            ],
            "text/html": [
              "<h5 style=\"color: green\">Auth process succeeded</h5>"
            ]
          },
          "metadata": {}
        },
        {
          "output_type": "display_data",
          "data": {
            "text/plain": [
              "<IPython.core.display.HTML object>"
            ],
            "text/html": [
              "<h5>View your courses <a href=\"https://uncode.unal.edu.co/courselist\">at UNCode platform</a></h5>"
            ]
          },
          "metadata": {}
        },
        {
          "output_type": "display_data",
          "data": {
            "text/plain": [
              "<IPython.core.display.HTML object>"
            ],
            "text/html": [
              "<h3>You will sumbit code to course: <span style=\"color: green\">Deep learning: Introducción al aprendizaje profundo con Python | Grupo MLDS-5 | 2024 - 2<span></h3>"
            ]
          },
          "metadata": {}
        },
        {
          "output_type": "display_data",
          "data": {
            "text/plain": [
              "<IPython.core.display.HTML object>"
            ],
            "text/html": [
              "<h3>You will sumbit code to task: <span style=\"color: blue\">Taller 2: Redes Neuronales con Keras<span></h3>"
            ]
          },
          "metadata": {}
        }
      ],
      "source": [
        "import rlxcrypt\n",
        "import session\n",
        "\n",
        "grader = session.LoginSequence(\"DLIAAPCP-GroupMLDS-5-2024-2@a4526b56-9e9e-4349-8e31-7988c2f739ca\")"
      ]
    },
    {
      "cell_type": "markdown",
      "id": "r3P9zBx6nVIg",
      "metadata": {
        "id": "r3P9zBx6nVIg"
      },
      "source": [
        "Ejecute la siguiente celda para importar y configurar las librerías usadas:"
      ]
    },
    {
      "cell_type": "code",
      "execution_count": 4,
      "id": "Eh1X9102Etpf",
      "metadata": {
        "id": "Eh1X9102Etpf",
        "colab": {
          "base_uri": "https://localhost:8080/"
        },
        "outputId": "ed69451e-f857-43cb-9eb6-6ff67d65c3ab"
      },
      "outputs": [
        {
          "output_type": "stream",
          "name": "stdout",
          "text": [
            "Requirement already satisfied: scikit-learn in /usr/local/lib/python3.10/dist-packages (1.5.2)\n",
            "Requirement already satisfied: numpy>=1.19.5 in /usr/local/lib/python3.10/dist-packages (from scikit-learn) (1.26.4)\n",
            "Requirement already satisfied: scipy>=1.6.0 in /usr/local/lib/python3.10/dist-packages (from scikit-learn) (1.13.1)\n",
            "Requirement already satisfied: joblib>=1.2.0 in /usr/local/lib/python3.10/dist-packages (from scikit-learn) (1.4.2)\n",
            "Requirement already satisfied: threadpoolctl>=3.1.0 in /usr/local/lib/python3.10/dist-packages (from scikit-learn) (3.5.0)\n"
          ]
        }
      ],
      "source": [
        "!pip install -U scikit-learn\n",
        "\n",
        "# Librerías de utilidad para manipulación y visualización de datos.\n",
        "from numbers import Number\n",
        "import numpy as np\n",
        "import seaborn as sns\n",
        "import matplotlib as mpl\n",
        "import matplotlib.pyplot as plt\n",
        "import sklearn\n",
        "\n",
        "#Importamos tensorflow\n",
        "import tensorflow as tf\n",
        "tf.config.run_functions_eagerly(True)\n",
        "# Ignorar warnings.\n",
        "import warnings\n",
        "warnings.filterwarnings('ignore')\n",
        "\n",
        "# Seleccionamos las semillas para efectos de reproducibilidad\n",
        "np.random.seed(0)\n",
        "tf.random.set_seed(0)"
      ]
    },
    {
      "cell_type": "code",
      "execution_count": 5,
      "id": "t1E6ZNs_Ezz8",
      "metadata": {
        "id": "t1E6ZNs_Ezz8",
        "colab": {
          "base_uri": "https://localhost:8080/"
        },
        "outputId": "4386e207-c175-4e44-cd62-4fc9358821b3"
      },
      "outputs": [
        {
          "output_type": "stream",
          "name": "stdout",
          "text": [
            "Python 3.10.12\n",
            "NumPy 1.26.4\n",
            "Tensorflow 2.17.0\n"
          ]
        }
      ],
      "source": [
        "# Versiones de las librerías usadas.\n",
        "!python --version\n",
        "print('NumPy', np.__version__)\n",
        "print('Tensorflow', tf.__version__)"
      ]
    },
    {
      "cell_type": "markdown",
      "id": "dHkwqI9wE3N1",
      "metadata": {
        "id": "dHkwqI9wE3N1"
      },
      "source": [
        "Esta actividad se realizó con las siguientes versiones:\n",
        "*  Python 3.9.16\n",
        "*  NumPy 1.22.4\n",
        "*  Tensorflow 2.12.0\n"
      ]
    },
    {
      "cell_type": "markdown",
      "id": "rKJpcSYPsaAH",
      "metadata": {
        "id": "rKJpcSYPsaAH"
      },
      "source": [
        "## **Cargar datos**\n",
        "---\n",
        "\n",
        "Lo primero que vamos a hacer es cargar los datos, y luego usted deberá construir una serie de funciones para crear todo el flujo de trabajo con los datos y el modelo.\n",
        "\n",
        "El conjunto de datos cuenta con imágenes de dígitos escritos a mano, de tamaño $8\\times8$, es decir, cada imagen se representa por un vector de $64$ pixeles. En total son por tanto 10 clases diferentes."
      ]
    },
    {
      "cell_type": "code",
      "execution_count": 6,
      "id": "aba8d8a8",
      "metadata": {
        "id": "aba8d8a8"
      },
      "outputs": [],
      "source": [
        "from sklearn import datasets\n",
        "from sklearn import model_selection\n",
        "X, y = datasets.load_digits(return_X_y=True)\n",
        "X_train, X_test, y_train, y_test =  model_selection.train_test_split(X, y, test_size = 0.4, stratify=y, random_state = 50)"
      ]
    },
    {
      "cell_type": "code",
      "execution_count": 7,
      "id": "3fIOir66FLv5",
      "metadata": {
        "id": "3fIOir66FLv5",
        "colab": {
          "base_uri": "https://localhost:8080/",
          "height": 524
        },
        "outputId": "a9e79855-cab6-47e1-929c-ffa74920d169"
      },
      "outputs": [
        {
          "output_type": "stream",
          "name": "stdout",
          "text": [
            "Un ejemplo de imagen:\n"
          ]
        },
        {
          "output_type": "display_data",
          "data": {
            "text/plain": [
              "<Figure size 640x480 with 0 Axes>"
            ]
          },
          "metadata": {}
        },
        {
          "output_type": "display_data",
          "data": {
            "text/plain": [
              "<Figure size 480x480 with 1 Axes>"
            ],
            "image/png": "[encoded data removed]"
          },
          "metadata": {}
        },
        {
          "output_type": "stream",
          "name": "stdout",
          "text": [
            "El shape de X es: (1797, 64)\n",
            "Número de muestras de entrenamiento = 1078\n",
            "Número de muestras de prueba = 719\n"
          ]
        }
      ],
      "source": [
        "print('Un ejemplo de imagen:')\n",
        "plt.gray()\n",
        "plt.matshow(np.reshape(X_train[0], (-1, 8)))\n",
        "plt.show()\n",
        "print(\"El shape de X es:\", X.shape)\n",
        "print(\"Número de muestras de entrenamiento =\", X_train.shape[0])\n",
        "print(\"Número de muestras de prueba =\", X_test.shape[0])"
      ]
    },
    {
      "cell_type": "markdown",
      "id": "LjxmLm1ffi9L",
      "metadata": {
        "id": "LjxmLm1ffi9L"
      },
      "source": [
        "**Salida esperada**\n",
        "```\n",
        "Un ejemplo de imagen:\n",
        "<Figure size 432x288 with 0 Axes>\n",
        "```\n",
        "![digits.png](data:image/png;base64,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)\n",
        "```\n",
        "El shape de X es: (1797, 64)\n",
        "Número de muestras de entrenamiento = 1078\n",
        "Número de muestras de prueba = 719\n",
        "```\n"
      ]
    },
    {
      "cell_type": "markdown",
      "id": "0BIH-WCi7mAu",
      "metadata": {
        "id": "0BIH-WCi7mAu"
      },
      "source": [
        "Tenemos en total 1797 muestras de 64 dimensiones para diez clases diferentes."
      ]
    },
    {
      "cell_type": "markdown",
      "id": "cFbSe-Bvf8rb",
      "metadata": {
        "id": "cFbSe-Bvf8rb"
      },
      "source": [
        "> **La tarea es incremental, por lo tanto es recomendable resolver los puntos en orden.**\n"
      ]
    },
    {
      "cell_type": "markdown",
      "id": "95f2ac95",
      "metadata": {
        "id": "95f2ac95"
      },
      "source": [
        "# **1. Clasificación multiclase**\n",
        "---\n",
        "Cuando un dataset tiene etiquetas que pertenecen a más de dos categorías para clasificación, no podemos utilizar una salida con activación logística (*sigmoid*) ni una pérdida binaria ([`tf.keras.losses.BinaryCrossentropy`](https://www.tensorflow.org/api_docs/python/tf/keras/losses/BinaryCrossentropy)). Una alternativa es utilizar una salida con activación tipo *softmax*, la cual, nos permitirá saber el grado de certeza con el que la red clasifica a cada clase y una pérdida conocida como entropía cruzada categórica ([`tf.keras.losses.CategoricalCrossentropy`](https://www.tensorflow.org/api_docs/python/tf/keras/losses/CategoricalCrossentropy)) comúnmente usada cuando la salida es *softmax*.\n",
        "\n",
        "Por ejemplo, supongamos que la salida de la última capa de tres neuronas es la siguiente:\n",
        "```\n",
        "z = [[5], [3], [4]]\n",
        "```\n",
        "Entonces, la función de activación *softmax*, definida por\n",
        "$$\n",
        "\\sigma(z)_i = \\frac{e^{x_i}}{\\sum_{i=1}^{n}e^{x_i}}, i \\in \\{1,2,...,n\\},\n",
        "$$\n",
        "aplicada sobre la salida del modelo, dará como resultado\n",
        "```\n",
        "[[0.665], [0.090], [0.245]]\n",
        "```\n",
        "El resultado anterior se interpreta como que el modelo está haciendo una predicción hacia la clase `0`, porque es la posición que obtuvo el valor más alto.\n"
      ]
    },
    {
      "cell_type": "markdown",
      "id": "-SRz2UOKsrxa",
      "metadata": {
        "id": "-SRz2UOKsrxa"
      },
      "source": [
        "## **1.1 Representación *One-hot***\n",
        "---"
      ]
    },
    {
      "cell_type": "markdown",
      "id": "f9fd3987",
      "metadata": {
        "id": "f9fd3987"
      },
      "source": [
        "Cuando la función de activación de la salida es de tipo *softmax*, las etiquetas se deben codificar como *one-hot encoding*. Por ejemplo, si tuvieramos 3 clases, la última capa de la red neuronal para clasificación debe tener tres neuronas; las predicciones del modelo serán de tres dimensiones. Por tanto las etiquetas deben tener también tres dimensiones: `[1,0,0], [0,1,0], [0,0,1]` para las clases `0`, `1` y `2` respectivamente.\n",
        "\n",
        "Usando la función [`tf.keras.utils.to_categorical`](https://www.tensorflow.org/api_docs/python/tf/keras/utils/to_categorical) complete la función `one_hot_labels` que debe recibir las etiquetas `y` del conjunto de datos y devolver la representación *one-hot*.\n",
        "\n",
        "**Entrada**:\n",
        "\n",
        "* **`y_train`**: `np.array`, un arreglo de etiquetas del conjunto de entrenamiento, de tamaño `(l, )`, siendo `l` el número de muestras de la partición de entrenamiento\n",
        "* **`y_test`**: `np.array`, un arreglo de etiquetas del conjunto de entrenamiento, de tamaño `(m, )`, siendo `m` el número de muestras de la partición de prueba.\n",
        "\n",
        "**Salida**:\n",
        "* **`y_train_ohe`**: `np.array`, etiquetas *one-hot* del conjunto de entrenamiento, un arreglo de *NumPy* de tamaño `(l, c)`, siendo `c` el número de clases del conjunto de datos.\n",
        "* **`y_test_ohe`**:  `np.array`, etiquetas *one-hot* del conjunto de prueba, un arreglo de *NumPy* de tamaño `(m, c)`, siendo `c` el número de clases del conjunto de datos."
      ]
    },
    {
      "cell_type": "code",
      "execution_count": 50,
      "id": "RGN6tLbZwomb",
      "metadata": {
        "id": "RGN6tLbZwomb"
      },
      "outputs": [],
      "source": [
        "# FUNCIÓN CALIFICADA one_hot_labels:\n",
        "def one_hot_labels(y_train, y_test):\n",
        "\n",
        "    y_train_ohe = -1\n",
        "    y_test_ohe = -1\n",
        "\n",
        "    num_classes = np.max(y_train) + 1\n",
        "    y_train_ohe = tf.keras.utils.to_categorical(y_train, num_classes=num_classes)\n",
        "\n",
        "    y_test_ohe = tf.keras.utils.to_categorical(y_test, num_classes=num_classes)\n",
        "    return y_train_ohe, y_test_ohe"
      ]
    },
    {
      "cell_type": "code",
      "execution_count": 51,
      "id": "7edbae05",
      "metadata": {
        "id": "7edbae05",
        "colab": {
          "base_uri": "https://localhost:8080/"
        },
        "outputId": "ffe6489a-de6c-4adc-fa05-2c0ed76cfca5"
      },
      "outputs": [
        {
          "output_type": "stream",
          "name": "stdout",
          "text": [
            "Para las etiquetas y = [0 1 0 0 0 0 1 2 1 2] la representación one-hot es:\n",
            " [[1. 0. 0.]\n",
            " [0. 1. 0.]\n",
            " [1. 0. 0.]\n",
            " [1. 0. 0.]\n",
            " [1. 0. 0.]\n",
            " [1. 0. 0.]\n",
            " [0. 1. 0.]\n",
            " [0. 0. 1.]\n",
            " [0. 1. 0.]\n",
            " [0. 0. 1.]]\n",
            "Para las etiquetas y = [0 1 2] la representación one-hot es:\n",
            " [[1. 0. 0.]\n",
            " [0. 1. 0.]\n",
            " [0. 0. 1.]]\n"
          ]
        }
      ],
      "source": [
        "#TEST_CELL\n",
        "y_trial_tr = np.array([0, 1, 0, 0, 0, 0, 1, 2, 1, 2])\n",
        "y_trial_te = np.array([0, 1, 2])\n",
        "y_tr_ohe, y_te_ohe = one_hot_labels(y_trial_tr, y_trial_te)\n",
        "print(\"Para las etiquetas y =\",y_trial_tr,\"la representación one-hot es:\\n\", y_tr_ohe)\n",
        "print(\"Para las etiquetas y =\",y_trial_te,\"la representación one-hot es:\\n\", y_te_ohe)"
      ]
    },
    {
      "cell_type": "markdown",
      "id": "4QBD05FdjgJG",
      "metadata": {
        "id": "4QBD05FdjgJG"
      },
      "source": [
        "**Salida esperada**\n",
        "```python\n",
        "Para las etiquetas y = [0 1 0 0 0 0 1 2 1 2] la representación one-hot es:\n",
        " [[1. 0. 0.]\n",
        " [0. 1. 0.]\n",
        " [1. 0. 0.]\n",
        " [1. 0. 0.]\n",
        " [1. 0. 0.]\n",
        " [1. 0. 0.]\n",
        " [0. 1. 0.]\n",
        " [0. 0. 1.]\n",
        " [0. 1. 0.]\n",
        " [0. 0. 1.]]\n",
        "Para las etiquetas y = [0 1 2] la representación one-hot es:\n",
        " [[1. 0. 0.]\n",
        " [0. 1. 0.]\n",
        " [0. 0. 1.]]\n",
        "```"
      ]
    },
    {
      "cell_type": "markdown",
      "id": "J2PQtx7pxJ4Y",
      "metadata": {
        "id": "J2PQtx7pxJ4Y"
      },
      "source": [
        "### **Evaluar código**"
      ]
    },
    {
      "cell_type": "code",
      "execution_count": 52,
      "id": "4OqqQ3HB1Ipm",
      "metadata": {
        "id": "4OqqQ3HB1Ipm",
        "colab": {
          "base_uri": "https://localhost:8080/",
          "height": 141
        },
        "outputId": "21c03d7c-cd57-4838-db60-b7656898abb6"
      },
      "outputs": [
        {
          "output_type": "stream",
          "name": "stdout",
          "text": [
            "Test 1_1_1\n"
          ]
        },
        {
          "output_type": "display_data",
          "data": {
            "text/plain": [
              "<IPython.core.display.HTML object>"
            ],
            "text/html": [
              "<h4>Test Run correctly</h4>"
            ]
          },
          "metadata": {}
        },
        {
          "output_type": "display_data",
          "data": {
            "text/plain": [
              "<IPython.core.display.HTML object>"
            ],
            "text/html": [
              "<h6 style=\"color: green;\">Your test grade: 100</h6>\n",
              "<h6>Feedback: Probando código ejemplo.</h6>"
            ]
          },
          "metadata": {}
        }
      ],
      "source": [
        "grader.run_test(\"Test 1_1_1\", globals())"
      ]
    },
    {
      "cell_type": "code",
      "execution_count": 53,
      "id": "lCFh6Q7P1wYM",
      "metadata": {
        "id": "lCFh6Q7P1wYM",
        "colab": {
          "base_uri": "https://localhost:8080/",
          "height": 141
        },
        "outputId": "2eba3b51-8c14-401b-f0f3-26e8899dbd06"
      },
      "outputs": [
        {
          "output_type": "stream",
          "name": "stdout",
          "text": [
            "Test 1_1_2\n"
          ]
        },
        {
          "output_type": "display_data",
          "data": {
            "text/plain": [
              "<IPython.core.display.HTML object>"
            ],
            "text/html": [
              "<h4>Test Run correctly</h4>"
            ]
          },
          "metadata": {}
        },
        {
          "output_type": "display_data",
          "data": {
            "text/plain": [
              "<IPython.core.display.HTML object>"
            ],
            "text/html": [
              "<h6 style=\"color: green;\">Your test grade: 100</h6>\n",
              "<h6>Feedback: Probando código ejemplo.</h6>"
            ]
          },
          "metadata": {}
        }
      ],
      "source": [
        "grader.run_test(\"Test 1_1_2\", globals())"
      ]
    },
    {
      "cell_type": "code",
      "execution_count": 54,
      "id": "R-aIMeXD15wv",
      "metadata": {
        "id": "R-aIMeXD15wv",
        "colab": {
          "base_uri": "https://localhost:8080/",
          "height": 141
        },
        "outputId": "4575233a-b103-4982-d270-b66dccf8fd45"
      },
      "outputs": [
        {
          "output_type": "stream",
          "name": "stdout",
          "text": [
            "Test 1_1_3\n"
          ]
        },
        {
          "output_type": "display_data",
          "data": {
            "text/plain": [
              "<IPython.core.display.HTML object>"
            ],
            "text/html": [
              "<h4>Test Run correctly</h4>"
            ]
          },
          "metadata": {}
        },
        {
          "output_type": "display_data",
          "data": {
            "text/plain": [
              "<IPython.core.display.HTML object>"
            ],
            "text/html": [
              "<h6 style=\"color: green;\">Your test grade: 100</h6>\n",
              "<h6>Feedback: Probando tu códgico con y_train y y_test</h6>"
            ]
          },
          "metadata": {}
        }
      ],
      "source": [
        "grader.run_test(\"Test 1_1_3\", globals())"
      ]
    },
    {
      "cell_type": "markdown",
      "id": "ab82b73e",
      "metadata": {
        "id": "ab82b73e"
      },
      "source": [
        "## **1.2 Definición del modelo**\n",
        "---\n",
        "\n",
        "Ahora vamos a definir la arquitectura del modelo. Complete la función `define_model`, que crea un modelo en **Keras** con las siguientes especificaciones:\n",
        "\n",
        "* Debe utilizar el API funcional de **Keras** (no puede ser un modelo secuencial).\n",
        "* Debe tener una capa de entrada con las dimensiones del dataset.\n",
        "* Debe permitir agregar una serie de capas densa con activación *ReLU* (por lo menos una).\n",
        "* Debe tener una capa densa de salida con tantas unidades como el número de categorías de las etiquetas a clasificar y con una activación *softmax*.\n",
        "\n",
        "**Entrada**:\n",
        "\n",
        "* **`input_shape`**: `int`, un número entero correspondiente a la dimensión de entrada del modelo.\n",
        "* **`hidden_layers`**: `int`, un número entero correspondiente al número de capas ocultas.\n",
        "* **`hidden_units`**: `int`, un número entero correspondiente al número de neuronas de las capas ocultas.\n",
        "* **`output_units`**: `int`, un número entero correspondiente al número de neuronas de la capa de salida.\n",
        "\n",
        "**Salida**:\n",
        "* **`model`**: `tf.keras.Model`, un modelo funcional de red neuronal en **Keras**."
      ]
    },
    {
      "cell_type": "code",
      "execution_count": 57,
      "id": "lnloDLZaqZc7",
      "metadata": {
        "id": "lnloDLZaqZc7"
      },
      "outputs": [],
      "source": [
        "# FUNCIÓN CALIFICADA define_model:\n",
        "\n",
        "def define_model(input_shape, hidden_layers, hidden_units, output_units):\n",
        "    # Fijamos una semilla para efectos de reproducibiidad\n",
        "    tf.keras.utils.set_random_seed(0)\n",
        "    input_layer = tf.keras.layers.Input(shape=(input_shape,))\n",
        "\n",
        "    # Definir la primera capa oculta\n",
        "    x = tf.keras.layers.Dense(hidden_units, activation='relu')(input_layer)\n",
        "\n",
        "    # Agregar capas ocultas\n",
        "    for _ in range(hidden_layers - 1):\n",
        "        x = tf.keras.layers.Dense(hidden_units, activation='relu')(x)\n",
        "\n",
        "\n",
        "    # Definir la capa de salida con activación softmax\n",
        "    output_layer = tf.keras.layers.Dense(output_units, activation='softmax')(x)\n",
        "\n",
        "    model = tf.keras.models.Model(inputs=input_layer, outputs=output_layer)\n",
        "    return model"
      ]
    },
    {
      "cell_type": "code",
      "execution_count": 58,
      "id": "0ddb6ca3",
      "metadata": {
        "id": "0ddb6ca3",
        "colab": {
          "base_uri": "https://localhost:8080/",
          "height": 289
        },
        "outputId": "475e99bc-d1c3-4805-b6df-5d8eb8ecdeeb"
      },
      "outputs": [
        {
          "output_type": "display_data",
          "data": {
            "text/plain": [
              "\u001b[1mModel: \"functional_14\"\u001b[0m\n"
            ],
            "text/html": [
              "<pre style=\"white-space:pre;overflow-x:auto;line-height:normal;font-family:Menlo,'DejaVu Sans Mono',consolas,'Courier New',monospace\"><span style=\"font-weight: bold\">Model: \"functional_14\"</span>\n",
              "</pre>\n"
            ]
          },
          "metadata": {}
        },
        {
          "output_type": "display_data",
          "data": {
            "text/plain": [
              "┏━━━━━━━━━━━━━━━━━━━━━━━━━━━━━━━━━━━━━━┳━━━━━━━━━━━━━━━━━━━━━━━━━━━━━┳━━━━━━━━━━━━━━━━━┓\n",
              "┃\u001b[1m \u001b[0m\u001b[1mLayer (type)                        \u001b[0m\u001b[1m \u001b[0m┃\u001b[1m \u001b[0m\u001b[1mOutput Shape               \u001b[0m\u001b[1m \u001b[0m┃\u001b[1m \u001b[0m\u001b[1m        Param #\u001b[0m\u001b[1m \u001b[0m┃\n",
              "┡━━━━━━━━━━━━━━━━━━━━━━━━━━━━━━━━━━━━━━╇━━━━━━━━━━━━━━━━━━━━━━━━━━━━━╇━━━━━━━━━━━━━━━━━┩\n",
              "│ input_layer_15 (\u001b[38;5;33mInputLayer\u001b[0m)          │ (\u001b[38;5;45mNone\u001b[0m, \u001b[38;5;34m64\u001b[0m)                  │               \u001b[38;5;34m0\u001b[0m │\n",
              "├──────────────────────────────────────┼─────────────────────────────┼─────────────────┤\n",
              "│ dense_62 (\u001b[38;5;33mDense\u001b[0m)                     │ (\u001b[38;5;45mNone\u001b[0m, \u001b[38;5;34m16\u001b[0m)                  │           \u001b[38;5;34m1,040\u001b[0m │\n",
              "├──────────────────────────────────────┼─────────────────────────────┼─────────────────┤\n",
              "│ dense_63 (\u001b[38;5;33mDense\u001b[0m)                     │ (\u001b[38;5;45mNone\u001b[0m, \u001b[38;5;34m16\u001b[0m)                  │             \u001b[38;5;34m272\u001b[0m │\n",
              "├──────────────────────────────────────┼─────────────────────────────┼─────────────────┤\n",
              "│ dense_64 (\u001b[38;5;33mDense\u001b[0m)                     │ (\u001b[38;5;45mNone\u001b[0m, \u001b[38;5;34m10\u001b[0m)                  │             \u001b[38;5;34m170\u001b[0m │\n",
              "└──────────────────────────────────────┴─────────────────────────────┴─────────────────┘\n"
            ],
            "text/html": [
              "<pre style=\"white-space:pre;overflow-x:auto;line-height:normal;font-family:Menlo,'DejaVu Sans Mono',consolas,'Courier New',monospace\">┏━━━━━━━━━━━━━━━━━━━━━━━━━━━━━━━━━━━━━━┳━━━━━━━━━━━━━━━━━━━━━━━━━━━━━┳━━━━━━━━━━━━━━━━━┓\n",
              "┃<span style=\"font-weight: bold\"> Layer (type)                         </span>┃<span style=\"font-weight: bold\"> Output Shape                </span>┃<span style=\"font-weight: bold\">         Param # </span>┃\n",
              "┡━━━━━━━━━━━━━━━━━━━━━━━━━━━━━━━━━━━━━━╇━━━━━━━━━━━━━━━━━━━━━━━━━━━━━╇━━━━━━━━━━━━━━━━━┩\n",
              "│ input_layer_15 (<span style=\"color: #0087ff; text-decoration-color: #0087ff\">InputLayer</span>)          │ (<span style=\"color: #00d7ff; text-decoration-color: #00d7ff\">None</span>, <span style=\"color: #00af00; text-decoration-color: #00af00\">64</span>)                  │               <span style=\"color: #00af00; text-decoration-color: #00af00\">0</span> │\n",
              "├──────────────────────────────────────┼─────────────────────────────┼─────────────────┤\n",
              "│ dense_62 (<span style=\"color: #0087ff; text-decoration-color: #0087ff\">Dense</span>)                     │ (<span style=\"color: #00d7ff; text-decoration-color: #00d7ff\">None</span>, <span style=\"color: #00af00; text-decoration-color: #00af00\">16</span>)                  │           <span style=\"color: #00af00; text-decoration-color: #00af00\">1,040</span> │\n",
              "├──────────────────────────────────────┼─────────────────────────────┼─────────────────┤\n",
              "│ dense_63 (<span style=\"color: #0087ff; text-decoration-color: #0087ff\">Dense</span>)                     │ (<span style=\"color: #00d7ff; text-decoration-color: #00d7ff\">None</span>, <span style=\"color: #00af00; text-decoration-color: #00af00\">16</span>)                  │             <span style=\"color: #00af00; text-decoration-color: #00af00\">272</span> │\n",
              "├──────────────────────────────────────┼─────────────────────────────┼─────────────────┤\n",
              "│ dense_64 (<span style=\"color: #0087ff; text-decoration-color: #0087ff\">Dense</span>)                     │ (<span style=\"color: #00d7ff; text-decoration-color: #00d7ff\">None</span>, <span style=\"color: #00af00; text-decoration-color: #00af00\">10</span>)                  │             <span style=\"color: #00af00; text-decoration-color: #00af00\">170</span> │\n",
              "└──────────────────────────────────────┴─────────────────────────────┴─────────────────┘\n",
              "</pre>\n"
            ]
          },
          "metadata": {}
        },
        {
          "output_type": "display_data",
          "data": {
            "text/plain": [
              "\u001b[1m Total params: \u001b[0m\u001b[38;5;34m1,482\u001b[0m (5.79 KB)\n"
            ],
            "text/html": [
              "<pre style=\"white-space:pre;overflow-x:auto;line-height:normal;font-family:Menlo,'DejaVu Sans Mono',consolas,'Courier New',monospace\"><span style=\"font-weight: bold\"> Total params: </span><span style=\"color: #00af00; text-decoration-color: #00af00\">1,482</span> (5.79 KB)\n",
              "</pre>\n"
            ]
          },
          "metadata": {}
        },
        {
          "output_type": "display_data",
          "data": {
            "text/plain": [
              "\u001b[1m Trainable params: \u001b[0m\u001b[38;5;34m1,482\u001b[0m (5.79 KB)\n"
            ],
            "text/html": [
              "<pre style=\"white-space:pre;overflow-x:auto;line-height:normal;font-family:Menlo,'DejaVu Sans Mono',consolas,'Courier New',monospace\"><span style=\"font-weight: bold\"> Trainable params: </span><span style=\"color: #00af00; text-decoration-color: #00af00\">1,482</span> (5.79 KB)\n",
              "</pre>\n"
            ]
          },
          "metadata": {}
        },
        {
          "output_type": "display_data",
          "data": {
            "text/plain": [
              "\u001b[1m Non-trainable params: \u001b[0m\u001b[38;5;34m0\u001b[0m (0.00 B)\n"
            ],
            "text/html": [
              "<pre style=\"white-space:pre;overflow-x:auto;line-height:normal;font-family:Menlo,'DejaVu Sans Mono',consolas,'Courier New',monospace\"><span style=\"font-weight: bold\"> Non-trainable params: </span><span style=\"color: #00af00; text-decoration-color: #00af00\">0</span> (0.00 B)\n",
              "</pre>\n"
            ]
          },
          "metadata": {}
        },
        {
          "output_type": "stream",
          "name": "stdout",
          "text": [
            "None\n"
          ]
        }
      ],
      "source": [
        "#TEST_CELL\n",
        "test_model = define_model(64, 2, 16, 10)\n",
        "print(test_model.summary())"
      ]
    },
    {
      "cell_type": "markdown",
      "id": "mDPdrZNPsV6D",
      "metadata": {
        "id": "mDPdrZNPsV6D"
      },
      "source": [
        "**Salida esperada**\n",
        "\n",
        "```\n",
        "┏━━━━━━━━━━━━━━━━━━━━━━━━━━━━━━━━━━━━━━┳━━━━━━━━━━━━━━━━━━━━━━━━━━━━━┳━━━━━━━━━━━━━━━━━┓\n",
        "┃ Layer (type)                         ┃ Output Shape                ┃         Param # ┃\n",
        "┡━━━━━━━━━━━━━━━━━━━━━━━━━━━━━━━━━━━━━━╇━━━━━━━━━━━━━━━━━━━━━━━━━━━━━╇━━━━━━━━━━━━━━━━━┩\n",
        "│ input_layer (InputLayer)             │ (None, 64)                  │               0 │\n",
        "├──────────────────────────────────────┼─────────────────────────────┼─────────────────┤\n",
        "│ dense (Dense)                        │ (None, 16)                  │           1,040 │\n",
        "├──────────────────────────────────────┼─────────────────────────────┼─────────────────┤\n",
        "│ dense_1 (Dense)                      │ (None, 16)                  │             272 │\n",
        "├──────────────────────────────────────┼─────────────────────────────┼─────────────────┤\n",
        "│ dense_2 (Dense)                      │ (None, 10)                  │             170 │\n",
        "└──────────────────────────────────────┴─────────────────────────────┴─────────────────┘\n",
        " Total params: 1,482 (5.79 KB)\n",
        " Trainable params: 1,482 (5.79 KB)\n",
        " Non-trainable params: 0 (0.00 B)\n",
        "None\n",
        "```"
      ]
    },
    {
      "cell_type": "markdown",
      "id": "r7ui18FY-dVe",
      "metadata": {
        "id": "r7ui18FY-dVe"
      },
      "source": [
        "### **Evaluar código**"
      ]
    },
    {
      "cell_type": "code",
      "execution_count": 59,
      "id": "az_12iu_2ayi",
      "metadata": {
        "id": "az_12iu_2ayi",
        "colab": {
          "base_uri": "https://localhost:8080/",
          "height": 141
        },
        "outputId": "12f8c851-4706-4597-b7ff-ad894ce1f820"
      },
      "outputs": [
        {
          "output_type": "stream",
          "name": "stdout",
          "text": [
            "Test 1_2_1\n"
          ]
        },
        {
          "output_type": "display_data",
          "data": {
            "text/plain": [
              "<IPython.core.display.HTML object>"
            ],
            "text/html": [
              "<h4>Test Run correctly</h4>"
            ]
          },
          "metadata": {}
        },
        {
          "output_type": "display_data",
          "data": {
            "text/plain": [
              "<IPython.core.display.HTML object>"
            ],
            "text/html": [
              "<h6 style=\"color: green;\">Your test grade: 100</h6>\n",
              "<h6>Feedback: Probando código ejemplo.</h6>"
            ]
          },
          "metadata": {}
        }
      ],
      "source": [
        "grader.run_test(\"Test 1_2_1\", globals())"
      ]
    },
    {
      "cell_type": "code",
      "execution_count": 60,
      "id": "YiEAmY_32oAN",
      "metadata": {
        "id": "YiEAmY_32oAN",
        "colab": {
          "base_uri": "https://localhost:8080/",
          "height": 141
        },
        "outputId": "15a7d100-a37e-4ca2-c3ef-119cc2a42cbb"
      },
      "outputs": [
        {
          "output_type": "stream",
          "name": "stdout",
          "text": [
            "Test 1_2_2\n"
          ]
        },
        {
          "output_type": "display_data",
          "data": {
            "text/plain": [
              "<IPython.core.display.HTML object>"
            ],
            "text/html": [
              "<h4>Test Run correctly</h4>"
            ]
          },
          "metadata": {}
        },
        {
          "output_type": "display_data",
          "data": {
            "text/plain": [
              "<IPython.core.display.HTML object>"
            ],
            "text/html": [
              "<h6 style=\"color: green;\">Your test grade: 100</h6>\n",
              "<h6>Feedback: Probando código ejemplo.</h6>"
            ]
          },
          "metadata": {}
        }
      ],
      "source": [
        "grader.run_test(\"Test 1_2_2\", globals())"
      ]
    },
    {
      "cell_type": "code",
      "execution_count": 61,
      "id": "86mTlJ952213",
      "metadata": {
        "id": "86mTlJ952213",
        "colab": {
          "base_uri": "https://localhost:8080/",
          "height": 141
        },
        "outputId": "727466a5-d39d-4869-8905-3a24976ae1a5"
      },
      "outputs": [
        {
          "output_type": "stream",
          "name": "stdout",
          "text": [
            "Test 1_2_3\n"
          ]
        },
        {
          "output_type": "display_data",
          "data": {
            "text/plain": [
              "<IPython.core.display.HTML object>"
            ],
            "text/html": [
              "<h4>Test Run correctly</h4>"
            ]
          },
          "metadata": {}
        },
        {
          "output_type": "display_data",
          "data": {
            "text/plain": [
              "<IPython.core.display.HTML object>"
            ],
            "text/html": [
              "<h6 style=\"color: green;\">Your test grade: 100</h6>\n",
              "<h6>Feedback: Probando código ejemplo.</h6>"
            ]
          },
          "metadata": {}
        }
      ],
      "source": [
        "grader.run_test(\"Test 1_2_3\", globals())"
      ]
    },
    {
      "cell_type": "code",
      "execution_count": 62,
      "id": "rKD-wPNh3D8C",
      "metadata": {
        "id": "rKD-wPNh3D8C",
        "colab": {
          "base_uri": "https://localhost:8080/",
          "height": 141
        },
        "outputId": "772e9c91-278c-494b-9fff-2aa2c47630cb"
      },
      "outputs": [
        {
          "output_type": "stream",
          "name": "stdout",
          "text": [
            "Test 1_2_4\n"
          ]
        },
        {
          "output_type": "display_data",
          "data": {
            "text/plain": [
              "<IPython.core.display.HTML object>"
            ],
            "text/html": [
              "<h4>Test Run correctly</h4>"
            ]
          },
          "metadata": {}
        },
        {
          "output_type": "display_data",
          "data": {
            "text/plain": [
              "<IPython.core.display.HTML object>"
            ],
            "text/html": [
              "<h6 style=\"color: green;\">Your test grade: 100</h6>\n",
              "<h6>Feedback: Probando código ejemplo.</h6>"
            ]
          },
          "metadata": {}
        }
      ],
      "source": [
        "grader.run_test(\"Test 1_2_4\", globals())"
      ]
    },
    {
      "cell_type": "code",
      "execution_count": 63,
      "id": "atmKwZet3mx0",
      "metadata": {
        "id": "atmKwZet3mx0",
        "colab": {
          "base_uri": "https://localhost:8080/",
          "height": 141
        },
        "outputId": "f301d567-2c18-4b67-9d7f-af233021be92"
      },
      "outputs": [
        {
          "output_type": "stream",
          "name": "stdout",
          "text": [
            "Test 1_2_5\n"
          ]
        },
        {
          "output_type": "display_data",
          "data": {
            "text/plain": [
              "<IPython.core.display.HTML object>"
            ],
            "text/html": [
              "<h4>Test Run correctly</h4>"
            ]
          },
          "metadata": {}
        },
        {
          "output_type": "display_data",
          "data": {
            "text/plain": [
              "<IPython.core.display.HTML object>"
            ],
            "text/html": [
              "<h6 style=\"color: green;\">Your test grade: 100</h6>\n",
              "<h6>Feedback: Probando código ejemplo.</h6>"
            ]
          },
          "metadata": {}
        }
      ],
      "source": [
        "grader.run_test(\"Test 1_2_5\", globals())"
      ]
    },
    {
      "cell_type": "code",
      "execution_count": 64,
      "id": "NQuH4Q2z3x4n",
      "metadata": {
        "id": "NQuH4Q2z3x4n",
        "colab": {
          "base_uri": "https://localhost:8080/",
          "height": 141
        },
        "outputId": "11a52bcf-d367-4aef-9a23-8794a2120a4b"
      },
      "outputs": [
        {
          "output_type": "stream",
          "name": "stdout",
          "text": [
            "Test 1_2_6\n"
          ]
        },
        {
          "output_type": "display_data",
          "data": {
            "text/plain": [
              "<IPython.core.display.HTML object>"
            ],
            "text/html": [
              "<h4>Test Run correctly</h4>"
            ]
          },
          "metadata": {}
        },
        {
          "output_type": "display_data",
          "data": {
            "text/plain": [
              "<IPython.core.display.HTML object>"
            ],
            "text/html": [
              "<h6 style=\"color: green;\">Your test grade: 100</h6>\n",
              "<h6>Feedback: Probando código ejemplo.</h6>"
            ]
          },
          "metadata": {}
        }
      ],
      "source": [
        "grader.run_test(\"Test 1_2_6\", globals())"
      ]
    },
    {
      "cell_type": "code",
      "execution_count": 65,
      "id": "vcIc34a_39ja",
      "metadata": {
        "id": "vcIc34a_39ja",
        "colab": {
          "base_uri": "https://localhost:8080/",
          "height": 719
        },
        "outputId": "474a10c4-929a-4ee8-9f11-5fef69b98107"
      },
      "outputs": [
        {
          "output_type": "display_data",
          "data": {
            "text/plain": [
              "\u001b[1mModel: \"functional_22\"\u001b[0m\n"
            ],
            "text/html": [
              "<pre style=\"white-space:pre;overflow-x:auto;line-height:normal;font-family:Menlo,'DejaVu Sans Mono',consolas,'Courier New',monospace\"><span style=\"font-weight: bold\">Model: \"functional_22\"</span>\n",
              "</pre>\n"
            ]
          },
          "metadata": {}
        },
        {
          "output_type": "display_data",
          "data": {
            "text/plain": [
              "┏━━━━━━━━━━━━━━━━━━━━━━━━━━━━━━━━━━━━━━┳━━━━━━━━━━━━━━━━━━━━━━━━━━━━━┳━━━━━━━━━━━━━━━━━┓\n",
              "┃\u001b[1m \u001b[0m\u001b[1mLayer (type)                        \u001b[0m\u001b[1m \u001b[0m┃\u001b[1m \u001b[0m\u001b[1mOutput Shape               \u001b[0m\u001b[1m \u001b[0m┃\u001b[1m \u001b[0m\u001b[1m        Param #\u001b[0m\u001b[1m \u001b[0m┃\n",
              "┡━━━━━━━━━━━━━━━━━━━━━━━━━━━━━━━━━━━━━━╇━━━━━━━━━━━━━━━━━━━━━━━━━━━━━╇━━━━━━━━━━━━━━━━━┩\n",
              "│ input_layer_23 (\u001b[38;5;33mInputLayer\u001b[0m)          │ (\u001b[38;5;45mNone\u001b[0m, \u001b[38;5;34m3\u001b[0m)                   │               \u001b[38;5;34m0\u001b[0m │\n",
              "├──────────────────────────────────────┼─────────────────────────────┼─────────────────┤\n",
              "│ dense_86 (\u001b[38;5;33mDense\u001b[0m)                     │ (\u001b[38;5;45mNone\u001b[0m, \u001b[38;5;34m5\u001b[0m)                   │              \u001b[38;5;34m20\u001b[0m │\n",
              "├──────────────────────────────────────┼─────────────────────────────┼─────────────────┤\n",
              "│ dense_87 (\u001b[38;5;33mDense\u001b[0m)                     │ (\u001b[38;5;45mNone\u001b[0m, \u001b[38;5;34m5\u001b[0m)                   │              \u001b[38;5;34m30\u001b[0m │\n",
              "├──────────────────────────────────────┼─────────────────────────────┼─────────────────┤\n",
              "│ dense_88 (\u001b[38;5;33mDense\u001b[0m)                     │ (\u001b[38;5;45mNone\u001b[0m, \u001b[38;5;34m5\u001b[0m)                   │              \u001b[38;5;34m30\u001b[0m │\n",
              "├──────────────────────────────────────┼─────────────────────────────┼─────────────────┤\n",
              "│ dense_89 (\u001b[38;5;33mDense\u001b[0m)                     │ (\u001b[38;5;45mNone\u001b[0m, \u001b[38;5;34m2\u001b[0m)                   │              \u001b[38;5;34m12\u001b[0m │\n",
              "└──────────────────────────────────────┴─────────────────────────────┴─────────────────┘\n"
            ],
            "text/html": [
              "<pre style=\"white-space:pre;overflow-x:auto;line-height:normal;font-family:Menlo,'DejaVu Sans Mono',consolas,'Courier New',monospace\">┏━━━━━━━━━━━━━━━━━━━━━━━━━━━━━━━━━━━━━━┳━━━━━━━━━━━━━━━━━━━━━━━━━━━━━┳━━━━━━━━━━━━━━━━━┓\n",
              "┃<span style=\"font-weight: bold\"> Layer (type)                         </span>┃<span style=\"font-weight: bold\"> Output Shape                </span>┃<span style=\"font-weight: bold\">         Param # </span>┃\n",
              "┡━━━━━━━━━━━━━━━━━━━━━━━━━━━━━━━━━━━━━━╇━━━━━━━━━━━━━━━━━━━━━━━━━━━━━╇━━━━━━━━━━━━━━━━━┩\n",
              "│ input_layer_23 (<span style=\"color: #0087ff; text-decoration-color: #0087ff\">InputLayer</span>)          │ (<span style=\"color: #00d7ff; text-decoration-color: #00d7ff\">None</span>, <span style=\"color: #00af00; text-decoration-color: #00af00\">3</span>)                   │               <span style=\"color: #00af00; text-decoration-color: #00af00\">0</span> │\n",
              "├──────────────────────────────────────┼─────────────────────────────┼─────────────────┤\n",
              "│ dense_86 (<span style=\"color: #0087ff; text-decoration-color: #0087ff\">Dense</span>)                     │ (<span style=\"color: #00d7ff; text-decoration-color: #00d7ff\">None</span>, <span style=\"color: #00af00; text-decoration-color: #00af00\">5</span>)                   │              <span style=\"color: #00af00; text-decoration-color: #00af00\">20</span> │\n",
              "├──────────────────────────────────────┼─────────────────────────────┼─────────────────┤\n",
              "│ dense_87 (<span style=\"color: #0087ff; text-decoration-color: #0087ff\">Dense</span>)                     │ (<span style=\"color: #00d7ff; text-decoration-color: #00d7ff\">None</span>, <span style=\"color: #00af00; text-decoration-color: #00af00\">5</span>)                   │              <span style=\"color: #00af00; text-decoration-color: #00af00\">30</span> │\n",
              "├──────────────────────────────────────┼─────────────────────────────┼─────────────────┤\n",
              "│ dense_88 (<span style=\"color: #0087ff; text-decoration-color: #0087ff\">Dense</span>)                     │ (<span style=\"color: #00d7ff; text-decoration-color: #00d7ff\">None</span>, <span style=\"color: #00af00; text-decoration-color: #00af00\">5</span>)                   │              <span style=\"color: #00af00; text-decoration-color: #00af00\">30</span> │\n",
              "├──────────────────────────────────────┼─────────────────────────────┼─────────────────┤\n",
              "│ dense_89 (<span style=\"color: #0087ff; text-decoration-color: #0087ff\">Dense</span>)                     │ (<span style=\"color: #00d7ff; text-decoration-color: #00d7ff\">None</span>, <span style=\"color: #00af00; text-decoration-color: #00af00\">2</span>)                   │              <span style=\"color: #00af00; text-decoration-color: #00af00\">12</span> │\n",
              "└──────────────────────────────────────┴─────────────────────────────┴─────────────────┘\n",
              "</pre>\n"
            ]
          },
          "metadata": {}
        },
        {
          "output_type": "display_data",
          "data": {
            "text/plain": [
              "\u001b[1m Total params: \u001b[0m\u001b[38;5;34m92\u001b[0m (368.00 B)\n"
            ],
            "text/html": [
              "<pre style=\"white-space:pre;overflow-x:auto;line-height:normal;font-family:Menlo,'DejaVu Sans Mono',consolas,'Courier New',monospace\"><span style=\"font-weight: bold\"> Total params: </span><span style=\"color: #00af00; text-decoration-color: #00af00\">92</span> (368.00 B)\n",
              "</pre>\n"
            ]
          },
          "metadata": {}
        },
        {
          "output_type": "display_data",
          "data": {
            "text/plain": [
              "\u001b[1m Trainable params: \u001b[0m\u001b[38;5;34m92\u001b[0m (368.00 B)\n"
            ],
            "text/html": [
              "<pre style=\"white-space:pre;overflow-x:auto;line-height:normal;font-family:Menlo,'DejaVu Sans Mono',consolas,'Courier New',monospace\"><span style=\"font-weight: bold\"> Trainable params: </span><span style=\"color: #00af00; text-decoration-color: #00af00\">92</span> (368.00 B)\n",
              "</pre>\n"
            ]
          },
          "metadata": {}
        },
        {
          "output_type": "display_data",
          "data": {
            "text/plain": [
              "\u001b[1m Non-trainable params: \u001b[0m\u001b[38;5;34m0\u001b[0m (0.00 B)\n"
            ],
            "text/html": [
              "<pre style=\"white-space:pre;overflow-x:auto;line-height:normal;font-family:Menlo,'DejaVu Sans Mono',consolas,'Courier New',monospace\"><span style=\"font-weight: bold\"> Non-trainable params: </span><span style=\"color: #00af00; text-decoration-color: #00af00\">0</span> (0.00 B)\n",
              "</pre>\n"
            ]
          },
          "metadata": {}
        },
        {
          "output_type": "display_data",
          "data": {
            "text/plain": [
              "\u001b[1mModel: \"functional_23\"\u001b[0m\n"
            ],
            "text/html": [
              "<pre style=\"white-space:pre;overflow-x:auto;line-height:normal;font-family:Menlo,'DejaVu Sans Mono',consolas,'Courier New',monospace\"><span style=\"font-weight: bold\">Model: \"functional_23\"</span>\n",
              "</pre>\n"
            ]
          },
          "metadata": {}
        },
        {
          "output_type": "display_data",
          "data": {
            "text/plain": [
              "┏━━━━━━━━━━━━━━━━━━━━━━━━━━━━━━━━━━━━━━┳━━━━━━━━━━━━━━━━━━━━━━━━━━━━━┳━━━━━━━━━━━━━━━━━┓\n",
              "┃\u001b[1m \u001b[0m\u001b[1mLayer (type)                        \u001b[0m\u001b[1m \u001b[0m┃\u001b[1m \u001b[0m\u001b[1mOutput Shape               \u001b[0m\u001b[1m \u001b[0m┃\u001b[1m \u001b[0m\u001b[1m        Param #\u001b[0m\u001b[1m \u001b[0m┃\n",
              "┡━━━━━━━━━━━━━━━━━━━━━━━━━━━━━━━━━━━━━━╇━━━━━━━━━━━━━━━━━━━━━━━━━━━━━╇━━━━━━━━━━━━━━━━━┩\n",
              "│ input_layer_24 (\u001b[38;5;33mInputLayer\u001b[0m)          │ (\u001b[38;5;45mNone\u001b[0m, \u001b[38;5;34m3\u001b[0m)                   │               \u001b[38;5;34m0\u001b[0m │\n",
              "├──────────────────────────────────────┼─────────────────────────────┼─────────────────┤\n",
              "│ dense_90 (\u001b[38;5;33mDense\u001b[0m)                     │ (\u001b[38;5;45mNone\u001b[0m, \u001b[38;5;34m5\u001b[0m)                   │              \u001b[38;5;34m20\u001b[0m │\n",
              "├──────────────────────────────────────┼─────────────────────────────┼─────────────────┤\n",
              "│ dense_91 (\u001b[38;5;33mDense\u001b[0m)                     │ (\u001b[38;5;45mNone\u001b[0m, \u001b[38;5;34m5\u001b[0m)                   │              \u001b[38;5;34m30\u001b[0m │\n",
              "├──────────────────────────────────────┼─────────────────────────────┼─────────────────┤\n",
              "│ dense_92 (\u001b[38;5;33mDense\u001b[0m)                     │ (\u001b[38;5;45mNone\u001b[0m, \u001b[38;5;34m5\u001b[0m)                   │              \u001b[38;5;34m30\u001b[0m │\n",
              "├──────────────────────────────────────┼─────────────────────────────┼─────────────────┤\n",
              "│ dense_93 (\u001b[38;5;33mDense\u001b[0m)                     │ (\u001b[38;5;45mNone\u001b[0m, \u001b[38;5;34m2\u001b[0m)                   │              \u001b[38;5;34m12\u001b[0m │\n",
              "└──────────────────────────────────────┴─────────────────────────────┴─────────────────┘\n"
            ],
            "text/html": [
              "<pre style=\"white-space:pre;overflow-x:auto;line-height:normal;font-family:Menlo,'DejaVu Sans Mono',consolas,'Courier New',monospace\">┏━━━━━━━━━━━━━━━━━━━━━━━━━━━━━━━━━━━━━━┳━━━━━━━━━━━━━━━━━━━━━━━━━━━━━┳━━━━━━━━━━━━━━━━━┓\n",
              "┃<span style=\"font-weight: bold\"> Layer (type)                         </span>┃<span style=\"font-weight: bold\"> Output Shape                </span>┃<span style=\"font-weight: bold\">         Param # </span>┃\n",
              "┡━━━━━━━━━━━━━━━━━━━━━━━━━━━━━━━━━━━━━━╇━━━━━━━━━━━━━━━━━━━━━━━━━━━━━╇━━━━━━━━━━━━━━━━━┩\n",
              "│ input_layer_24 (<span style=\"color: #0087ff; text-decoration-color: #0087ff\">InputLayer</span>)          │ (<span style=\"color: #00d7ff; text-decoration-color: #00d7ff\">None</span>, <span style=\"color: #00af00; text-decoration-color: #00af00\">3</span>)                   │               <span style=\"color: #00af00; text-decoration-color: #00af00\">0</span> │\n",
              "├──────────────────────────────────────┼─────────────────────────────┼─────────────────┤\n",
              "│ dense_90 (<span style=\"color: #0087ff; text-decoration-color: #0087ff\">Dense</span>)                     │ (<span style=\"color: #00d7ff; text-decoration-color: #00d7ff\">None</span>, <span style=\"color: #00af00; text-decoration-color: #00af00\">5</span>)                   │              <span style=\"color: #00af00; text-decoration-color: #00af00\">20</span> │\n",
              "├──────────────────────────────────────┼─────────────────────────────┼─────────────────┤\n",
              "│ dense_91 (<span style=\"color: #0087ff; text-decoration-color: #0087ff\">Dense</span>)                     │ (<span style=\"color: #00d7ff; text-decoration-color: #00d7ff\">None</span>, <span style=\"color: #00af00; text-decoration-color: #00af00\">5</span>)                   │              <span style=\"color: #00af00; text-decoration-color: #00af00\">30</span> │\n",
              "├──────────────────────────────────────┼─────────────────────────────┼─────────────────┤\n",
              "│ dense_92 (<span style=\"color: #0087ff; text-decoration-color: #0087ff\">Dense</span>)                     │ (<span style=\"color: #00d7ff; text-decoration-color: #00d7ff\">None</span>, <span style=\"color: #00af00; text-decoration-color: #00af00\">5</span>)                   │              <span style=\"color: #00af00; text-decoration-color: #00af00\">30</span> │\n",
              "├──────────────────────────────────────┼─────────────────────────────┼─────────────────┤\n",
              "│ dense_93 (<span style=\"color: #0087ff; text-decoration-color: #0087ff\">Dense</span>)                     │ (<span style=\"color: #00d7ff; text-decoration-color: #00d7ff\">None</span>, <span style=\"color: #00af00; text-decoration-color: #00af00\">2</span>)                   │              <span style=\"color: #00af00; text-decoration-color: #00af00\">12</span> │\n",
              "└──────────────────────────────────────┴─────────────────────────────┴─────────────────┘\n",
              "</pre>\n"
            ]
          },
          "metadata": {}
        },
        {
          "output_type": "display_data",
          "data": {
            "text/plain": [
              "\u001b[1m Total params: \u001b[0m\u001b[38;5;34m92\u001b[0m (368.00 B)\n"
            ],
            "text/html": [
              "<pre style=\"white-space:pre;overflow-x:auto;line-height:normal;font-family:Menlo,'DejaVu Sans Mono',consolas,'Courier New',monospace\"><span style=\"font-weight: bold\"> Total params: </span><span style=\"color: #00af00; text-decoration-color: #00af00\">92</span> (368.00 B)\n",
              "</pre>\n"
            ]
          },
          "metadata": {}
        },
        {
          "output_type": "display_data",
          "data": {
            "text/plain": [
              "\u001b[1m Trainable params: \u001b[0m\u001b[38;5;34m92\u001b[0m (368.00 B)\n"
            ],
            "text/html": [
              "<pre style=\"white-space:pre;overflow-x:auto;line-height:normal;font-family:Menlo,'DejaVu Sans Mono',consolas,'Courier New',monospace\"><span style=\"font-weight: bold\"> Trainable params: </span><span style=\"color: #00af00; text-decoration-color: #00af00\">92</span> (368.00 B)\n",
              "</pre>\n"
            ]
          },
          "metadata": {}
        },
        {
          "output_type": "display_data",
          "data": {
            "text/plain": [
              "\u001b[1m Non-trainable params: \u001b[0m\u001b[38;5;34m0\u001b[0m (0.00 B)\n"
            ],
            "text/html": [
              "<pre style=\"white-space:pre;overflow-x:auto;line-height:normal;font-family:Menlo,'DejaVu Sans Mono',consolas,'Courier New',monospace\"><span style=\"font-weight: bold\"> Non-trainable params: </span><span style=\"color: #00af00; text-decoration-color: #00af00\">0</span> (0.00 B)\n",
              "</pre>\n"
            ]
          },
          "metadata": {}
        },
        {
          "output_type": "stream",
          "name": "stdout",
          "text": [
            "Test 1_2_7\n"
          ]
        },
        {
          "output_type": "display_data",
          "data": {
            "text/plain": [
              "<IPython.core.display.HTML object>"
            ],
            "text/html": [
              "<h4>Test Run correctly</h4>"
            ]
          },
          "metadata": {}
        },
        {
          "output_type": "display_data",
          "data": {
            "text/plain": [
              "<IPython.core.display.HTML object>"
            ],
            "text/html": [
              "<h6 style=\"color: green;\">Your test grade: 100</h6>\n",
              "<h6>Feedback: Probando código ejemplo.</h6>"
            ]
          },
          "metadata": {}
        }
      ],
      "source": [
        "grader.run_test(\"Test 1_2_7\", globals())"
      ]
    },
    {
      "cell_type": "markdown",
      "id": "02320f5d",
      "metadata": {
        "id": "02320f5d"
      },
      "source": [
        "## **1.3 Compilación del modelo**\n",
        "---\n",
        "\n",
        "Complete la funcion `compile_model` para que reciba un modelo de **Keras** y lo compile con una pérdida `loss`. La función debe recibir un optimizador y una lista con las métricas a monitorear durante el entrenamiento.\n",
        "\n",
        "**Entrada**:\n",
        "\n",
        "* **`model`**: `tf.keras.Model`, un modelo de **Keras**.\n",
        "* **`loss`**: una función de pérdida tipo `tf.keras.losses`.\n",
        "* **`optmizer`**: un optimizador tipo `tf.keras.optimizers`.\n",
        "* **`metrics`**: `list`, una lista con las métricas (tipo `str`, por ejemplo `acc`) a monitorear.\n",
        "\n",
        "**Salida**:\n",
        "* **`model`**: `tf.keras.Model`, un modelo de red neuronal en **Keras** compilado."
      ]
    },
    {
      "cell_type": "code",
      "execution_count": 94,
      "id": "lBf3StHqql88",
      "metadata": {
        "id": "lBf3StHqql88"
      },
      "outputs": [],
      "source": [
        "# FUNCIÓN CALIFICADA compile_model:\n",
        "\n",
        "def compile_model(model, loss, optimizer, metrics):\n",
        "    # Fijamos una semilla para efectos de reproducibiidad\n",
        "    tf.keras.utils.set_random_seed(0)\n",
        "    model.compile(optimizer=optimizer, loss=loss, metrics=metrics)\n",
        "    return model"
      ]
    },
    {
      "cell_type": "code",
      "execution_count": 95,
      "id": "t20k80Mxuk8W",
      "metadata": {
        "id": "t20k80Mxuk8W",
        "colab": {
          "base_uri": "https://localhost:8080/"
        },
        "outputId": "9f9671b7-a883-4898-d333-047f2fcf44dd"
      },
      "outputs": [
        {
          "output_type": "execute_result",
          "data": {
            "text/plain": [
              "{'optimizer': {'module': 'keras.optimizers',\n",
              "  'class_name': 'Adam',\n",
              "  'config': {'name': 'adam',\n",
              "   'learning_rate': 0.0010000000474974513,\n",
              "   'weight_decay': None,\n",
              "   'clipnorm': None,\n",
              "   'global_clipnorm': None,\n",
              "   'clipvalue': None,\n",
              "   'use_ema': False,\n",
              "   'ema_momentum': 0.99,\n",
              "   'ema_overwrite_frequency': None,\n",
              "   'loss_scale_factor': None,\n",
              "   'gradient_accumulation_steps': None,\n",
              "   'beta_1': 0.9,\n",
              "   'beta_2': 0.999,\n",
              "   'epsilon': 1e-07,\n",
              "   'amsgrad': False},\n",
              "  'registered_name': None},\n",
              " 'loss': {'module': 'builtins',\n",
              "  'class_name': 'function',\n",
              "  'config': 'categorical_crossentropy',\n",
              "  'registered_name': 'function'},\n",
              " 'loss_weights': None,\n",
              " 'metrics': ['acc'],\n",
              " 'weighted_metrics': None,\n",
              " 'run_eagerly': False,\n",
              " 'steps_per_execution': 1,\n",
              " 'jit_compile': False}"
            ]
          },
          "metadata": {},
          "execution_count": 95
        }
      ],
      "source": [
        "#TEST_CELL\n",
        "test_model = compile_model(test_model,\n",
        "                           tf.keras.losses.categorical_crossentropy,\n",
        "                           tf.keras.optimizers.Adam(learning_rate=1e-3),\n",
        "                           metrics = ['acc'])\n",
        "test_model.get_compile_config()"
      ]
    },
    {
      "cell_type": "markdown",
      "id": "8q75wAljqsRx",
      "metadata": {
        "id": "8q75wAljqsRx"
      },
      "source": [
        "**Salida esperada**\n",
        "```\n",
        "{'optimizer': {'module': 'keras.optimizers',\n",
        "  'class_name': 'Adam',\n",
        "  'config': {'name': 'adam',\n",
        "   'learning_rate': 0.0010000000474974513,\n",
        "   'weight_decay': None,\n",
        "   'clipnorm': None,\n",
        "   'global_clipnorm': None,\n",
        "   'clipvalue': None,\n",
        "   'use_ema': False,\n",
        "   'ema_momentum': 0.99,\n",
        "   'ema_overwrite_frequency': None,\n",
        "   'loss_scale_factor': None,\n",
        "   'gradient_accumulation_steps': None,\n",
        "   'beta_1': 0.9,\n",
        "   'beta_2': 0.999,\n",
        "   'epsilon': 1e-07,\n",
        "   'amsgrad': False},\n",
        "  'registered_name': None},\n",
        " 'loss': {'module': 'builtins',\n",
        "  'class_name': 'function',\n",
        "  'config': 'categorical_crossentropy',\n",
        "  'registered_name': 'function'},\n",
        " 'loss_weights': None,\n",
        " 'metrics': ['acc'],\n",
        " 'weighted_metrics': None,\n",
        " 'run_eagerly': False,\n",
        " 'steps_per_execution': 1,\n",
        " 'jit_compile': False}\n",
        "```"
      ]
    },
    {
      "cell_type": "markdown",
      "id": "VqKoCS1onXBJ",
      "metadata": {
        "id": "VqKoCS1onXBJ"
      },
      "source": [
        "### **Evaluar código**"
      ]
    },
    {
      "cell_type": "code",
      "execution_count": 96,
      "id": "AVWBUvAj4dxM",
      "metadata": {
        "id": "AVWBUvAj4dxM",
        "colab": {
          "base_uri": "https://localhost:8080/",
          "height": 141
        },
        "outputId": "e3a842e2-63b1-45fb-f977-3d524dfde7e8"
      },
      "outputs": [
        {
          "output_type": "stream",
          "name": "stdout",
          "text": [
            "Test 1_3_1\n"
          ]
        },
        {
          "output_type": "display_data",
          "data": {
            "text/plain": [
              "<IPython.core.display.HTML object>"
            ],
            "text/html": [
              "<h4>Test Run correctly</h4>"
            ]
          },
          "metadata": {}
        },
        {
          "output_type": "display_data",
          "data": {
            "text/plain": [
              "<IPython.core.display.HTML object>"
            ],
            "text/html": [
              "<h6 style=\"color: green;\">Your test grade: 100</h6>\n",
              "<h6>Feedback: Probando código ejemplo.</h6>"
            ]
          },
          "metadata": {}
        }
      ],
      "source": [
        "grader.run_test(\"Test 1_3_1\", globals())"
      ]
    },
    {
      "cell_type": "code",
      "execution_count": 97,
      "id": "gRRylwOo4pxg",
      "metadata": {
        "id": "gRRylwOo4pxg",
        "colab": {
          "base_uri": "https://localhost:8080/",
          "height": 141
        },
        "outputId": "ab3faa8a-57d3-4898-ff5d-b1fa90a99f89"
      },
      "outputs": [
        {
          "output_type": "stream",
          "name": "stdout",
          "text": [
            "Test 1_3_2\n"
          ]
        },
        {
          "output_type": "display_data",
          "data": {
            "text/plain": [
              "<IPython.core.display.HTML object>"
            ],
            "text/html": [
              "<h4>Test Run correctly</h4>"
            ]
          },
          "metadata": {}
        },
        {
          "output_type": "display_data",
          "data": {
            "text/plain": [
              "<IPython.core.display.HTML object>"
            ],
            "text/html": [
              "<h6 style=\"color: green;\">Your test grade: 100</h6>\n",
              "<h6>Feedback: Probando código ejemplo.</h6>"
            ]
          },
          "metadata": {}
        }
      ],
      "source": [
        "grader.run_test(\"Test 1_3_2\", globals())"
      ]
    },
    {
      "cell_type": "markdown",
      "id": "dlk9666cwhG8",
      "metadata": {
        "id": "dlk9666cwhG8"
      },
      "source": [
        "## **1.4 *Callbacks***\n",
        "---\n",
        "\n",
        "Para el entrenamiento vamos a usar un conjunto de validación para monitoreo. Vamos a usar `tf.keras.callbacks.ModelCheckpoint` y `tf.keras.callbacks.EarlyStopping` para guardar el mejor modelo y detener el entrenamiento en caso de que no se presente mejora en el desempeño después de cierto número de iteraciones. Complete la función `define_callbacks` con las siguientes especificaciones:\n",
        "\n",
        "**Entrada**:\n",
        "\n",
        "* **filepath**: un `str` de la dirección para guardar el modelo y/o los pesos.\n",
        "* **metric**:  un `str` según la métrica que se quiere monitorear.\n",
        "* **mode**: un `str` que puede ser `min` o `max` dependiendo si lo que se quiere es minimizar o maximizar respectivamente la métrica de monitoreo.\n",
        "* **patience**: `int`, un entero correspondiente al número de epochs de paciencia que deben suceder para que el entrenamiento se detenga.\n",
        "\n",
        "**Salida**:\n",
        "* **`callbacks`**: `list`, una lista con los callbacks `ModelCheckpoint` y `EarlyStopping` configurados.\n",
        "\n",
        "> **Nota**: solo vamos a guardar los pesos del mejor modelo, y esos pesos deben quedar automáticamente cargados en el modelo resultante."
      ]
    },
    {
      "cell_type": "code",
      "execution_count": 99,
      "id": "2vxb2LlYq2hO",
      "metadata": {
        "id": "2vxb2LlYq2hO"
      },
      "outputs": [],
      "source": [
        "# FUNCIÓN CALIFICADA define_callbacks:\n",
        "\n",
        "def define_callbacks(filepath, metric, mode, patience):\n",
        "    # Callback para guardar los pesos del mejor modelo basado en la métrica monitoreada\n",
        "    checkpoint = tf.keras.callbacks.ModelCheckpoint(\n",
        "        filepath=filepath,                   # Dirección donde se guardarán los pesos\n",
        "        monitor=metric,                      # Métrica a monitorear\n",
        "        save_best_only=True,                 # Solo guardar los mejores pesos\n",
        "        save_weights_only=True,              # Solo guardar los pesos\n",
        "        mode=mode,                           # 'min' o 'max' para minimizar o maximizar la métrica\n",
        "        verbose=1                            # Mostrar cuando se guarda el mejor modelo\n",
        "    )\n",
        "\n",
        "    # Callback para detener el entrenamiento si no hay mejora después de `patience` epochs\n",
        "    stopping = tf.keras.callbacks.EarlyStopping(\n",
        "        monitor=metric,                      # Métrica a monitorear\n",
        "        mode=mode,                           # 'min' o 'max'\n",
        "        patience=patience,                   # Número de epochs de paciencia\n",
        "        verbose=1,                           # Mostrar mensajes cuando se detiene el entrenamiento\n",
        "        restore_best_weights=True            # Cargar automáticamente los mejores pesos\n",
        "    )\n",
        "    callbacks = [checkpoint, stopping]\n",
        "    return callbacks"
      ]
    },
    {
      "cell_type": "code",
      "execution_count": 100,
      "id": "nil4mvIn1zGK",
      "metadata": {
        "id": "nil4mvIn1zGK",
        "colab": {
          "base_uri": "https://localhost:8080/"
        },
        "outputId": "031f962c-1f61-49d2-c3fd-23c110b9ccfe"
      },
      "outputs": [
        {
          "output_type": "stream",
          "name": "stdout",
          "text": [
            "ModelCheckpoint setup:\n",
            " \n",
            "monitor = loss \n",
            "path = test_checkpoint.weights.h5 \n",
            "save_best_only = True\n",
            "\n",
            "EarlyStopping setup:\n",
            " \n",
            "monitor = loss \n",
            "patience = 2 \n",
            "restore_best_only = True\n"
          ]
        }
      ],
      "source": [
        "#TEST_CELL\n",
        "test_checkpoint, test_stopping = define_callbacks('test_checkpoint.weights.h5', 'loss', 'min', 2)\n",
        "print('ModelCheckpoint setup:\\n',\n",
        "      '\\nmonitor =',test_checkpoint.monitor,\n",
        "      '\\npath =',test_checkpoint.filepath,\n",
        "      '\\nsave_best_only =', test_checkpoint.save_best_only)\n",
        "print('\\nEarlyStopping setup:\\n',\n",
        "      '\\nmonitor =',test_stopping.monitor,\n",
        "      '\\npatience =',test_stopping.patience,\n",
        "      '\\nrestore_best_only =', test_stopping.restore_best_weights)"
      ]
    },
    {
      "cell_type": "markdown",
      "id": "8CB19Njk1HtC",
      "metadata": {
        "id": "8CB19Njk1HtC"
      },
      "source": [
        "**Salida esperada**\n",
        "```\n",
        "ModelCheckpoint setup:\n",
        "\n",
        "monitor = loss\n",
        "path = test_checkpoint.weights.h5\n",
        "save_best_only = True\n",
        "\n",
        "EarlyStopping setup:\n",
        "\n",
        "monitor = loss\n",
        "patience = 2\n",
        "restore_best_only = True\n",
        "```"
      ]
    },
    {
      "cell_type": "markdown",
      "id": "VHSV_FFRqce3",
      "metadata": {
        "id": "VHSV_FFRqce3"
      },
      "source": [
        "### **Evaluar código**"
      ]
    },
    {
      "cell_type": "code",
      "execution_count": 101,
      "id": "UpReCfN344yF",
      "metadata": {
        "id": "UpReCfN344yF",
        "colab": {
          "base_uri": "https://localhost:8080/",
          "height": 141
        },
        "outputId": "3f6e0e26-192f-4873-905e-29a5369ef1c8"
      },
      "outputs": [
        {
          "output_type": "stream",
          "name": "stdout",
          "text": [
            "Test 1_4_1\n"
          ]
        },
        {
          "output_type": "display_data",
          "data": {
            "text/plain": [
              "<IPython.core.display.HTML object>"
            ],
            "text/html": [
              "<h4>Test Run correctly</h4>"
            ]
          },
          "metadata": {}
        },
        {
          "output_type": "display_data",
          "data": {
            "text/plain": [
              "<IPython.core.display.HTML object>"
            ],
            "text/html": [
              "<h6 style=\"color: green;\">Your test grade: 100</h6>\n",
              "<h6>Feedback: Probando código ejemplo.</h6>"
            ]
          },
          "metadata": {}
        }
      ],
      "source": [
        "grader.run_test(\"Test 1_4_1\", globals())"
      ]
    },
    {
      "cell_type": "code",
      "execution_count": 102,
      "id": "7i6UxVlQ5HTE",
      "metadata": {
        "id": "7i6UxVlQ5HTE",
        "colab": {
          "base_uri": "https://localhost:8080/",
          "height": 141
        },
        "outputId": "963ff453-20f0-4aa2-9611-147bb8a908d6"
      },
      "outputs": [
        {
          "output_type": "stream",
          "name": "stdout",
          "text": [
            "Test 1_4_2\n"
          ]
        },
        {
          "output_type": "display_data",
          "data": {
            "text/plain": [
              "<IPython.core.display.HTML object>"
            ],
            "text/html": [
              "<h4>Test Run correctly</h4>"
            ]
          },
          "metadata": {}
        },
        {
          "output_type": "display_data",
          "data": {
            "text/plain": [
              "<IPython.core.display.HTML object>"
            ],
            "text/html": [
              "<h6 style=\"color: green;\">Your test grade: 100</h6>\n",
              "<h6>Feedback: Probando código ejemplo.</h6>"
            ]
          },
          "metadata": {}
        }
      ],
      "source": [
        "grader.run_test(\"Test 1_4_2\", globals())"
      ]
    },
    {
      "cell_type": "code",
      "execution_count": 103,
      "id": "mOhh6oWR5R8X",
      "metadata": {
        "id": "mOhh6oWR5R8X",
        "colab": {
          "base_uri": "https://localhost:8080/",
          "height": 141
        },
        "outputId": "2cf80897-9580-48d2-b730-b0c7c44f258b"
      },
      "outputs": [
        {
          "output_type": "stream",
          "name": "stdout",
          "text": [
            "Test 1_4_3\n"
          ]
        },
        {
          "output_type": "display_data",
          "data": {
            "text/plain": [
              "<IPython.core.display.HTML object>"
            ],
            "text/html": [
              "<h4>Test Run correctly</h4>"
            ]
          },
          "metadata": {}
        },
        {
          "output_type": "display_data",
          "data": {
            "text/plain": [
              "<IPython.core.display.HTML object>"
            ],
            "text/html": [
              "<h6 style=\"color: green;\">Your test grade: 100</h6>\n",
              "<h6>Feedback: Probando código ejemplo.</h6>"
            ]
          },
          "metadata": {}
        }
      ],
      "source": [
        "grader.run_test(\"Test 1_4_3\", globals())"
      ]
    },
    {
      "cell_type": "markdown",
      "id": "z7t0gjMStHQm",
      "metadata": {
        "id": "z7t0gjMStHQm"
      },
      "source": [
        "## **1.5 Entrenamiento**\n",
        "---\n",
        "\n",
        "Complete la función `train_model` que recibe el modelo compilado y los parámetros necesarios para el entrenamiento, y devuelve un objeto tipo `History` junto con el modelo entrenado.\n",
        "\n",
        "**Entrada**:\n",
        "\n",
        "* **model**: `tf.keras.Model`, un modelo de Keras compildo.\n",
        "* **X_train**: `np.array`, una matriz de tamaño `(l,n)`, siendo `l` el número de muestras de los datos de entrenamiento, y `n` el número de _features_.\n",
        "* **y_ohe_train**: `np.array`, etiquetas *one-hot* del conjunto de entrenamiento, un arreglo de *NumPy* de tamaño `(l, c)`, siendo `c` el número de clases del conjunto de datos.\n",
        "* **epochs**: `int`, el número máximo de epochs para entrenar.\n",
        "* **batch_size**: `int`, el tamaño del *batch* que se usa en cada iteración de entrenamiento.\n",
        "* **validation_rate**: `float`, el porcentaje (en número de 0 a 1) de datos de entrenamiento que se usarán para validar.\n",
        "* **callbacks**: `list`, lista con los callbacks configurados para monitorear el entrenamiento.\n",
        "\n",
        "**Salida**:\n",
        "* **`history`**: un objeto tipo `History` de tensorflow con la información del entrenamiento del modelo.\n",
        "* **`model`**: `tf.keras.Model`, el modelo entranado."
      ]
    },
    {
      "cell_type": "code",
      "execution_count": 104,
      "id": "daPaK2EEq_HE",
      "metadata": {
        "id": "daPaK2EEq_HE"
      },
      "outputs": [],
      "source": [
        "# FUNCIÓN CALIFICADA train_model:\n",
        "def train_model(model, X_train, y_ohe_train, epochs, batch_size, validation_rate, callbacks):\n",
        "    # Fijamos una semilla para efectos de reproducibiidad\n",
        "    tf.keras.utils.set_random_seed(0)\n",
        "\n",
        "    # Dividir los datos de entrenamiento en entrenamiento y validación según el validation_rate\n",
        "    validation_split = validation_rate\n",
        "\n",
        "    # Entrenar el modelo\n",
        "    history = model.fit(\n",
        "        X_train,                # Datos de entrada\n",
        "        y_ohe_train,            # Etiquetas one-hot\n",
        "        epochs=epochs,          # Número máximo de epochs\n",
        "        batch_size=batch_size,  # Tamaño del batch en cada iteración\n",
        "        validation_split=validation_split,  # Usar una fracción de los datos para validación\n",
        "        callbacks=callbacks     # Lista de callbacks para monitorear el entrenamiento\n",
        "    )\n",
        "    return history, model"
      ]
    },
    {
      "cell_type": "markdown",
      "id": "491b94d3",
      "metadata": {
        "id": "491b94d3"
      },
      "source": [
        "Utilice el siguiente código para visualizar la pérdida del modelo a lo largo de las épocas:"
      ]
    },
    {
      "cell_type": "code",
      "execution_count": 105,
      "id": "f81e9419",
      "metadata": {
        "id": "f81e9419",
        "colab": {
          "base_uri": "https://localhost:8080/",
          "height": 833
        },
        "outputId": "f66e62bc-d0f7-4374-a233-ba3cdab9a047"
      },
      "outputs": [
        {
          "output_type": "stream",
          "name": "stdout",
          "text": [
            "Epoch 1/5\n",
            "\u001b[1m13/14\u001b[0m \u001b[32m━━━━━━━━━━━━━━━━━━\u001b[0m\u001b[37m━━\u001b[0m \u001b[1m0s\u001b[0m 44ms/step - acc: 0.0754 - loss: 4.8883\n",
            "Epoch 1: loss improved from inf to 4.02000, saving model to test_checkpoint.weights.h5\n",
            "\u001b[1m14/14\u001b[0m \u001b[32m━━━━━━━━━━━━━━━━━━━━\u001b[0m\u001b[37m\u001b[0m \u001b[1m1s\u001b[0m 57ms/step - acc: 0.0782 - loss: 4.7725 - val_acc: 0.2269 - val_loss: 2.4234\n",
            "Epoch 2/5\n",
            "\u001b[1m14/14\u001b[0m \u001b[32m━━━━━━━━━━━━━━━━━━━━\u001b[0m\u001b[37m\u001b[0m \u001b[1m0s\u001b[0m 61ms/step - acc: 0.1614 - loss: 2.6443\n",
            "Epoch 2: loss improved from 4.02000 to 2.43602, saving model to test_checkpoint.weights.h5\n",
            "\u001b[1m14/14\u001b[0m \u001b[32m━━━━━━━━━━━━━━━━━━━━\u001b[0m\u001b[37m\u001b[0m \u001b[1m1s\u001b[0m 76ms/step - acc: 0.1647 - loss: 2.6304 - val_acc: 0.2778 - val_loss: 1.9777\n",
            "Epoch 3/5\n",
            "\u001b[1m14/14\u001b[0m \u001b[32m━━━━━━━━━━━━━━━━━━━━\u001b[0m\u001b[37m\u001b[0m \u001b[1m0s\u001b[0m 69ms/step - acc: 0.2214 - loss: 2.1628\n",
            "Epoch 3: loss improved from 2.43602 to 2.06657, saving model to test_checkpoint.weights.h5\n",
            "\u001b[1m14/14\u001b[0m \u001b[32m━━━━━━━━━━━━━━━━━━━━\u001b[0m\u001b[37m\u001b[0m \u001b[1m1s\u001b[0m 85ms/step - acc: 0.2248 - loss: 2.1564 - val_acc: 0.3519 - val_loss: 1.8119\n",
            "Epoch 4/5\n",
            "\u001b[1m14/14\u001b[0m \u001b[32m━━━━━━━━━━━━━━━━━━━━\u001b[0m\u001b[37m\u001b[0m \u001b[1m0s\u001b[0m 68ms/step - acc: 0.2956 - loss: 1.9405\n",
            "Epoch 4: loss improved from 2.06657 to 1.84849, saving model to test_checkpoint.weights.h5\n",
            "\u001b[1m14/14\u001b[0m \u001b[32m━━━━━━━━━━━━━━━━━━━━\u001b[0m\u001b[37m\u001b[0m \u001b[1m1s\u001b[0m 85ms/step - acc: 0.2989 - loss: 1.9343 - val_acc: 0.4028 - val_loss: 1.6404\n",
            "Epoch 5/5\n",
            "\u001b[1m13/14\u001b[0m \u001b[32m━━━━━━━━━━━━━━━━━━\u001b[0m\u001b[37m━━\u001b[0m \u001b[1m0s\u001b[0m 43ms/step - acc: 0.3593 - loss: 1.7540\n",
            "Epoch 5: loss improved from 1.84849 to 1.65731, saving model to test_checkpoint.weights.h5\n",
            "\u001b[1m14/14\u001b[0m \u001b[32m━━━━━━━━━━━━━━━━━━━━\u001b[0m\u001b[37m\u001b[0m \u001b[1m1s\u001b[0m 51ms/step - acc: 0.3673 - loss: 1.7411 - val_acc: 0.4907 - val_loss: 1.4942\n",
            "Restoring model weights from the end of the best epoch: 5.\n"
          ]
        },
        {
          "output_type": "execute_result",
          "data": {
            "text/plain": [
              "Text(0, 0.5, 'Pérdida en entrenamiento')"
            ]
          },
          "metadata": {},
          "execution_count": 105
        },
        {
          "output_type": "display_data",
          "data": {
            "text/plain": [
              "<Figure size 640x480 with 1 Axes>"
            ],
            "image/png": "[encoded data removed]"
          },
          "metadata": {}
        }
      ],
      "source": [
        "#TEST CELL\n",
        "#tf.config.experimental.enable_op_determinism()\n",
        "y_train_ohe, y_test_ohe = one_hot_labels(y_train, y_test)\n",
        "test_model = define_model(64, 2, 16, 10)\n",
        "test_model = compile_model(test_model,\n",
        "                           tf.keras.losses.categorical_crossentropy,\n",
        "                           tf.keras.optimizers.Adam(learning_rate=1e-3),\n",
        "                           metrics = ['acc'])\n",
        "test_checkpoint, test_stopping = define_callbacks('test_checkpoint.weights.h5', 'loss', 'min', 2)\n",
        "history, test_model = train_model(test_model,\n",
        "                             X_train,\n",
        "                             y_train_ohe,\n",
        "                             epochs=5,\n",
        "                             batch_size=64,\n",
        "                             validation_rate=0.2,\n",
        "                             callbacks=[test_checkpoint, test_stopping])\n",
        "plt.plot(history.history[\"loss\"])\n",
        "plt.xlabel(\"Época\"); plt.ylabel(\"Pérdida en entrenamiento\")"
      ]
    },
    {
      "cell_type": "markdown",
      "id": "tsvPMAchEFXe",
      "metadata": {
        "id": "tsvPMAchEFXe"
      },
      "source": [
        "**Salida esperada:**\n",
        "```\n",
        "Epoch 1/5\n",
        "14/14 ━━━━━━━━━━━━━━━━━━━━ 0s 59ms/step - acc: 0.0769 - loss: 4.8263\n",
        "Epoch 1: loss improved from inf to 4.02000, saving model to test_checkpoint.weights.h5\n",
        "14/14 ━━━━━━━━━━━━━━━━━━━━ 2s 110ms/step - acc: 0.0782 - loss: 4.7725 - val_acc: 0.2269 - val_loss: 2.4234\n",
        "Epoch 2/5\n",
        "14/14 ━━━━━━━━━━━━━━━━━━━━ 0s 66ms/step - acc: 0.1614 - loss: 2.6443\n",
        "Epoch 2: loss improved from 4.02000 to 2.43602, saving model to test_checkpoint.weights.h5\n",
        "14/14 ━━━━━━━━━━━━━━━━━━━━ 2s 73ms/step - acc: 0.1647 - loss: 2.6304 - val_acc: 0.2778 - val_loss: 1.9777\n",
        "Epoch 3/5\n",
        "13/14 ━━━━━━━━━━━━━━━━━━━━ 0s 44ms/step - acc: 0.2176 - loss: 2.1702\n",
        "Epoch 3: loss improved from 2.43602 to 2.06657, saving model to test_checkpoint.weights.h5\n",
        "14/14 ━━━━━━━━━━━━━━━━━━━━ 1s 52ms/step - acc: 0.2248 - loss: 2.1564 - val_acc: 0.3519 - val_loss: 1.8119\n",
        "Epoch 4/5\n",
        "14/14 ━━━━━━━━━━━━━━━━━━━━ 0s 42ms/step - acc: 0.2956 - loss: 1.9405\n",
        "Epoch 4: loss improved from 2.06657 to 1.84849, saving model to test_checkpoint.weights.h5\n",
        "14/14 ━━━━━━━━━━━━━━━━━━━━ 1s 50ms/step - acc: 0.2989 - loss: 1.9343 - val_acc: 0.4028 - val_loss: 1.6404\n",
        "Epoch 5/5\n",
        "14/14 ━━━━━━━━━━━━━━━━━━━━ 0s 44ms/step - acc: 0.3636 - loss: 1.7471\n",
        "Epoch 5: loss improved from 1.84849 to 1.65731, saving model to test_checkpoint.weights.h5\n",
        "14/14 ━━━━━━━━━━━━━━━━━━━━ 1s 51ms/step - acc: 0.3673 - loss: 1.7411 - val_acc: 0.4907 - val_loss: 1.4942\n",
        "Restoring model weights from the end of the best epoch: 5.\n",
        "Text(0, 0.5, 'Pérdida en entrenamiento')\n",
        "```\n",
        "![history:loss.png](data:image/png;base64,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)"
      ]
    },
    {
      "cell_type": "markdown",
      "id": "IL8CV5x5qiSO",
      "metadata": {
        "id": "IL8CV5x5qiSO"
      },
      "source": [
        "### **Evaluar código**"
      ]
    },
    {
      "cell_type": "code",
      "execution_count": 106,
      "id": "h2xgYofd5eC_",
      "metadata": {
        "id": "h2xgYofd5eC_",
        "colab": {
          "base_uri": "https://localhost:8080/",
          "height": 141
        },
        "outputId": "ec35799e-7e7f-446c-8848-73b28699feff"
      },
      "outputs": [
        {
          "output_type": "stream",
          "name": "stdout",
          "text": [
            "Test 1_5_1\n"
          ]
        },
        {
          "output_type": "display_data",
          "data": {
            "text/plain": [
              "<IPython.core.display.HTML object>"
            ],
            "text/html": [
              "<h4>Test Run correctly</h4>"
            ]
          },
          "metadata": {}
        },
        {
          "output_type": "display_data",
          "data": {
            "text/plain": [
              "<IPython.core.display.HTML object>"
            ],
            "text/html": [
              "<h6 style=\"color: green;\">Your test grade: 100</h6>\n",
              "<h6>Feedback: Probando código ejemplo.</h6>"
            ]
          },
          "metadata": {}
        }
      ],
      "source": [
        "grader.run_test(\"Test 1_5_1\", globals())"
      ]
    },
    {
      "cell_type": "code",
      "execution_count": 108,
      "id": "XD0Zqk105xJH",
      "metadata": {
        "id": "XD0Zqk105xJH",
        "colab": {
          "base_uri": "https://localhost:8080/",
          "height": 141
        },
        "outputId": "ec74af5e-9cdb-42b7-864e-fcccd160e266"
      },
      "outputs": [
        {
          "output_type": "stream",
          "name": "stdout",
          "text": [
            "Test 1_5_2\n"
          ]
        },
        {
          "output_type": "display_data",
          "data": {
            "text/plain": [
              "<IPython.core.display.HTML object>"
            ],
            "text/html": [
              "<h4>Test Run correctly</h4>"
            ]
          },
          "metadata": {}
        },
        {
          "output_type": "display_data",
          "data": {
            "text/plain": [
              "<IPython.core.display.HTML object>"
            ],
            "text/html": [
              "<h6 style=\"color: green;\">Your test grade: 100</h6>\n",
              "<h6>Feedback: Probando código ejemplo.</h6>"
            ]
          },
          "metadata": {}
        }
      ],
      "source": [
        "grader.run_test(\"Test 1_5_2\", globals())"
      ]
    },
    {
      "cell_type": "code",
      "execution_count": 109,
      "id": "oPQgQTLO6LXp",
      "metadata": {
        "id": "oPQgQTLO6LXp",
        "colab": {
          "base_uri": "https://localhost:8080/",
          "height": 105
        },
        "outputId": "e6a51852-e349-4d3b-a087-dcbbea3b90cf"
      },
      "outputs": [
        {
          "output_type": "stream",
          "name": "stdout",
          "text": [
            "Test 1_5_3\n"
          ]
        },
        {
          "output_type": "display_data",
          "data": {
            "text/plain": [
              "<IPython.core.display.HTML object>"
            ],
            "text/html": [
              "<h6 style=\"color: green;\">Your test grade: 100</h6>\n",
              "<h6>Feedback: Probando código ejemplo.</h6>"
            ]
          },
          "metadata": {}
        }
      ],
      "source": [
        "grader.run_test(\"Test 1_5_3\", globals())"
      ]
    },
    {
      "cell_type": "markdown",
      "id": "a407eb44",
      "metadata": {
        "id": "a407eb44"
      },
      "source": [
        "## **1.6 Evaluación**\n",
        "---\n",
        "\n",
        "Finalmente, podemos utilizar los datos reservados de la partición de prueba para evaluar la exactitud o *accuracy* del modelo en la clasificación de entradas nunca antes vistas.\n",
        "\n",
        "Complete la función **`evaluate_model`** para que retorne la exactitud de un modelo **`model`** sobre los arreglos **`X_test`** y **`y_ohe_test`**.\n",
        "\n",
        "**Entrada**:\n",
        "\n",
        "* **model**: `tf.keras.Model`, un modelo de Keras compilado y entrenado.\n",
        "* **X_test**: `np.array`, una matriz de tamaño `(m,n)`, siendo `m` el número de muestras de los datos de prueba, y `n` el número de _features_.\n",
        "* **y_ohe_test**: `np.array`, etiquetas *one-hot* del conjunto de prueba, un arreglo de *NumPy* de tamaño `(m, c)`, siendo `c` el número de clases del conjunto de datos.\n",
        "\n",
        "**Salida**:\n",
        "* **`acc`**: `float`, el _accuracy_ del modelo en los datos de prueba."
      ]
    },
    {
      "cell_type": "code",
      "execution_count": 110,
      "id": "oT9cBaybrEjJ",
      "metadata": {
        "id": "oT9cBaybrEjJ"
      },
      "outputs": [],
      "source": [
        "# FUNCIÓN CALIFICADA evaluate_model:\n",
        "\n",
        "def evaluate_model(model, X_test, y_ohe_test):\n",
        "    # Evaluar el modelo en los datos de prueba\n",
        "    results = model.evaluate(X_test, y_ohe_test, verbose=0)\n",
        "\n",
        "    # Obtener la métrica de exactitud (accuracy) que se encuentra en la segunda posición del resultado\n",
        "    acc = results[1]  # Asumimos que accuracy es la segunda métrica (el índice puede variar si configuras otras métricas)\n",
        "\n",
        "    return acc"
      ]
    },
    {
      "cell_type": "code",
      "execution_count": 111,
      "id": "I7JFhotS8N54",
      "metadata": {
        "id": "I7JFhotS8N54",
        "colab": {
          "base_uri": "https://localhost:8080/"
        },
        "outputId": "754b2f0a-d8ba-438f-adf0-42e9452a8618"
      },
      "outputs": [
        {
          "output_type": "stream",
          "name": "stdout",
          "text": [
            "Epoch 1/5\n",
            "\u001b[1m14/14\u001b[0m \u001b[32m━━━━━━━━━━━━━━━━━━━━\u001b[0m\u001b[37m\u001b[0m \u001b[1m0s\u001b[0m 84ms/step - acc: 0.0769 - loss: 4.8263\n",
            "Epoch 1: loss improved from inf to 4.02000, saving model to test_checkpoint.weights.h5\n",
            "\u001b[1m14/14\u001b[0m \u001b[32m━━━━━━━━━━━━━━━━━━━━\u001b[0m\u001b[37m\u001b[0m \u001b[1m2s\u001b[0m 125ms/step - acc: 0.0782 - loss: 4.7725 - val_acc: 0.2269 - val_loss: 2.4234\n",
            "Epoch 2/5\n",
            "\u001b[1m14/14\u001b[0m \u001b[32m━━━━━━━━━━━━━━━━━━━━\u001b[0m\u001b[37m\u001b[0m \u001b[1m0s\u001b[0m 87ms/step - acc: 0.1614 - loss: 2.6443\n",
            "Epoch 2: loss improved from 4.02000 to 2.43602, saving model to test_checkpoint.weights.h5\n",
            "\u001b[1m14/14\u001b[0m \u001b[32m━━━━━━━━━━━━━━━━━━━━\u001b[0m\u001b[37m\u001b[0m \u001b[1m1s\u001b[0m 95ms/step - acc: 0.1647 - loss: 2.6304 - val_acc: 0.2778 - val_loss: 1.9777\n",
            "Epoch 3/5\n",
            "\u001b[1m13/14\u001b[0m \u001b[32m━━━━━━━━━━━━━━━━━━\u001b[0m\u001b[37m━━\u001b[0m \u001b[1m0s\u001b[0m 46ms/step - acc: 0.2176 - loss: 2.1702\n",
            "Epoch 3: loss improved from 2.43602 to 2.06657, saving model to test_checkpoint.weights.h5\n",
            "\u001b[1m14/14\u001b[0m \u001b[32m━━━━━━━━━━━━━━━━━━━━\u001b[0m\u001b[37m\u001b[0m \u001b[1m2s\u001b[0m 53ms/step - acc: 0.2248 - loss: 2.1564 - val_acc: 0.3519 - val_loss: 1.8119\n",
            "Epoch 4/5\n",
            "\u001b[1m13/14\u001b[0m \u001b[32m━━━━━━━━━━━━━━━━━━\u001b[0m\u001b[37m━━\u001b[0m \u001b[1m0s\u001b[0m 44ms/step - acc: 0.2917 - loss: 1.9475\n",
            "Epoch 4: loss improved from 2.06657 to 1.84849, saving model to test_checkpoint.weights.h5\n",
            "\u001b[1m14/14\u001b[0m \u001b[32m━━━━━━━━━━━━━━━━━━━━\u001b[0m\u001b[37m\u001b[0m \u001b[1m1s\u001b[0m 51ms/step - acc: 0.2989 - loss: 1.9343 - val_acc: 0.4028 - val_loss: 1.6404\n",
            "Epoch 5/5\n",
            "\u001b[1m14/14\u001b[0m \u001b[32m━━━━━━━━━━━━━━━━━━━━\u001b[0m\u001b[37m\u001b[0m \u001b[1m0s\u001b[0m 47ms/step - acc: 0.3636 - loss: 1.7471\n",
            "Epoch 5: loss improved from 1.84849 to 1.65731, saving model to test_checkpoint.weights.h5\n",
            "\u001b[1m14/14\u001b[0m \u001b[32m━━━━━━━━━━━━━━━━━━━━\u001b[0m\u001b[37m\u001b[0m \u001b[1m1s\u001b[0m 55ms/step - acc: 0.3673 - loss: 1.7411 - val_acc: 0.4907 - val_loss: 1.4942\n",
            "Restoring model weights from the end of the best epoch: 5.\n"
          ]
        }
      ],
      "source": [
        "#TEST CELL prev\n",
        "y_train_ohe, y_test_ohe = one_hot_labels(y_train, y_test)\n",
        "test_model = define_model(64, 2, 16, 10)\n",
        "test_model = compile_model(test_model,\n",
        "                           tf.keras.losses.categorical_crossentropy,\n",
        "                           tf.keras.optimizers.Adam(learning_rate=1e-3),\n",
        "                           metrics = ['acc'])\n",
        "test_checkpoint, test_stopping = define_callbacks('test_checkpoint.weights.h5', 'loss', 'min', 2)\n",
        "history, test_model = train_model(test_model,\n",
        "                             X_train,\n",
        "                             y_train_ohe,\n",
        "                             epochs=5,\n",
        "                             batch_size=64,\n",
        "                             validation_rate=0.2,\n",
        "                             callbacks=[test_checkpoint, test_stopping])"
      ]
    },
    {
      "cell_type": "code",
      "execution_count": 112,
      "id": "bl_8wsI77J88",
      "metadata": {
        "id": "bl_8wsI77J88",
        "colab": {
          "base_uri": "https://localhost:8080/"
        },
        "outputId": "f760fc9d-7fc5-45aa-caa6-87501c55757d"
      },
      "outputs": [
        {
          "output_type": "stream",
          "name": "stdout",
          "text": [
            "Accuracy en test: 0.4186\n"
          ]
        }
      ],
      "source": [
        "#TEST CELL\n",
        "acc = evaluate_model(test_model,\n",
        "                     X_test=X_test,\n",
        "                     y_ohe_test=y_test_ohe)\n",
        "print(\"Accuracy en test:\",np.round(acc,4))"
      ]
    },
    {
      "cell_type": "markdown",
      "id": "GUHq6xRriP2G",
      "metadata": {
        "id": "GUHq6xRriP2G"
      },
      "source": [
        "**Salida esperada:**\n",
        "```\n",
        "23/23 ━━━━━━━━━━━━━━━━━━━━ 0s 13ms/step - acc: 0.3878 - loss: 1.6046\n",
        "Accuracy en test: 0.4186\n",
        "```"
      ]
    },
    {
      "cell_type": "markdown",
      "id": "d5RvpYQ4_Zt9",
      "metadata": {
        "id": "d5RvpYQ4_Zt9"
      },
      "source": [
        "### **Evaluar código**"
      ]
    },
    {
      "cell_type": "code",
      "execution_count": 113,
      "id": "_3ld8rdt6oXT",
      "metadata": {
        "id": "_3ld8rdt6oXT",
        "colab": {
          "base_uri": "https://localhost:8080/",
          "height": 141
        },
        "outputId": "b459fc06-7b13-4bd6-c7c8-37307d5c5697"
      },
      "outputs": [
        {
          "output_type": "stream",
          "name": "stdout",
          "text": [
            "Test 1_6_1\n"
          ]
        },
        {
          "output_type": "display_data",
          "data": {
            "text/plain": [
              "<IPython.core.display.HTML object>"
            ],
            "text/html": [
              "<h4>Test Run correctly</h4>"
            ]
          },
          "metadata": {}
        },
        {
          "output_type": "display_data",
          "data": {
            "text/plain": [
              "<IPython.core.display.HTML object>"
            ],
            "text/html": [
              "<h6 style=\"color: green;\">Your test grade: 100</h6>\n",
              "<h6>Feedback: Probando código ejemplo.</h6>"
            ]
          },
          "metadata": {}
        }
      ],
      "source": [
        "grader.run_test(\"Test 1_6_1\", globals())"
      ]
    },
    {
      "cell_type": "code",
      "execution_count": 114,
      "id": "LY31K-AV7QAq",
      "metadata": {
        "id": "LY31K-AV7QAq",
        "colab": {
          "base_uri": "https://localhost:8080/",
          "height": 141
        },
        "outputId": "8583fa3c-585c-40c8-c070-d99aa1a6de4b"
      },
      "outputs": [
        {
          "output_type": "stream",
          "name": "stdout",
          "text": [
            "Test 1_6_2\n"
          ]
        },
        {
          "output_type": "display_data",
          "data": {
            "text/plain": [
              "<IPython.core.display.HTML object>"
            ],
            "text/html": [
              "<h4>Test Run correctly</h4>"
            ]
          },
          "metadata": {}
        },
        {
          "output_type": "display_data",
          "data": {
            "text/plain": [
              "<IPython.core.display.HTML object>"
            ],
            "text/html": [
              "<h6 style=\"color: green;\">Your test grade: 100</h6>\n",
              "<h6>Feedback: Probando código ejemplo.</h6>"
            ]
          },
          "metadata": {}
        }
      ],
      "source": [
        "grader.run_test(\"Test 1_6_2\", globals())"
      ]
    },
    {
      "cell_type": "markdown",
      "id": "Ztzh2fiQidPP",
      "metadata": {
        "id": "Ztzh2fiQidPP"
      },
      "source": [
        "## **Entrenando durante más _epochs_**\n",
        "----\n",
        "En este punto usted ha debido programar con éxito todos los pasos necesairios para entrenar un modelo básico de red neuronal en _Keras_. A continuación vamos a usar su código para el entrenamiento de un modelo de dos capas densas de 16 neuronas. Usaremos el optimizador `Adam` con una tasa de entrenamiento de `1e-2`, monitoreando la función de pérdida en validación con una paciencia de 10 _epochs_, realizando máximo 50 _epochs_, usando un _batch_size_ de 64 muestras y reservando un 20% del conjunto de entrenamiento para validación.\n",
        "\n",
        "> **Nota: este código no es calificable.**"
      ]
    },
    {
      "cell_type": "code",
      "execution_count": 115,
      "id": "-qGQsrEci_k2",
      "metadata": {
        "id": "-qGQsrEci_k2",
        "colab": {
          "base_uri": "https://localhost:8080/",
          "height": 1000
        },
        "outputId": "c76077af-2095-4b45-89d3-659b690d93db"
      },
      "outputs": [
        {
          "output_type": "stream",
          "name": "stdout",
          "text": [
            "Epoch 1/50\n",
            "\u001b[1m14/14\u001b[0m \u001b[32m━━━━━━━━━━━━━━━━━━━━\u001b[0m\u001b[37m\u001b[0m \u001b[1m0s\u001b[0m 52ms/step - acc: 0.1299 - loss: 3.3480\n",
            "Epoch 1: val_loss improved from inf to 1.93804, saving model to best_model.weights.h5\n",
            "\u001b[1m14/14\u001b[0m \u001b[32m━━━━━━━━━━━━━━━━━━━━\u001b[0m\u001b[37m\u001b[0m \u001b[1m1s\u001b[0m 64ms/step - acc: 0.1326 - loss: 3.2981 - val_acc: 0.2963 - val_loss: 1.9380\n",
            "Epoch 2/50\n",
            "\u001b[1m13/14\u001b[0m \u001b[32m━━━━━━━━━━━━━━━━━━\u001b[0m\u001b[37m━━\u001b[0m \u001b[1m0s\u001b[0m 47ms/step - acc: 0.3360 - loss: 1.7511\n",
            "Epoch 2: val_loss improved from 1.93804 to 0.99028, saving model to best_model.weights.h5\n",
            "\u001b[1m14/14\u001b[0m \u001b[32m━━━━━━━━━━━━━━━━━━━━\u001b[0m\u001b[37m\u001b[0m \u001b[1m1s\u001b[0m 54ms/step - acc: 0.3523 - loss: 1.7232 - val_acc: 0.6944 - val_loss: 0.9903\n",
            "Epoch 3/50\n",
            "\u001b[1m14/14\u001b[0m \u001b[32m━━━━━━━━━━━━━━━━━━━━\u001b[0m\u001b[37m\u001b[0m \u001b[1m0s\u001b[0m 55ms/step - acc: 0.6473 - loss: 0.9688\n",
            "Epoch 3: val_loss improved from 0.99028 to 0.66835, saving model to best_model.weights.h5\n",
            "\u001b[1m14/14\u001b[0m \u001b[32m━━━━━━━━━━━━━━━━━━━━\u001b[0m\u001b[37m\u001b[0m \u001b[1m1s\u001b[0m 66ms/step - acc: 0.6516 - loss: 0.9594 - val_acc: 0.7963 - val_loss: 0.6683\n",
            "Epoch 4/50\n",
            "\u001b[1m14/14\u001b[0m \u001b[32m━━━━━━━━━━━━━━━━━━━━\u001b[0m\u001b[37m\u001b[0m \u001b[1m0s\u001b[0m 66ms/step - acc: 0.7319 - loss: 0.7290\n",
            "Epoch 4: val_loss improved from 0.66835 to 0.57179, saving model to best_model.weights.h5\n",
            "\u001b[1m14/14\u001b[0m \u001b[32m━━━━━━━━━━━━━━━━━━━━\u001b[0m\u001b[37m\u001b[0m \u001b[1m1s\u001b[0m 83ms/step - acc: 0.7346 - loss: 0.7219 - val_acc: 0.8056 - val_loss: 0.5718\n",
            "Epoch 5/50\n",
            "\u001b[1m14/14\u001b[0m \u001b[32m━━━━━━━━━━━━━━━━━━━━\u001b[0m\u001b[37m\u001b[0m \u001b[1m0s\u001b[0m 72ms/step - acc: 0.8010 - loss: 0.5496\n",
            "Epoch 5: val_loss improved from 0.57179 to 0.46620, saving model to best_model.weights.h5\n",
            "\u001b[1m14/14\u001b[0m \u001b[32m━━━━━━━━━━━━━━━━━━━━\u001b[0m\u001b[37m\u001b[0m \u001b[1m1s\u001b[0m 81ms/step - acc: 0.8025 - loss: 0.5462 - val_acc: 0.8241 - val_loss: 0.4662\n",
            "Epoch 6/50\n",
            "\u001b[1m14/14\u001b[0m \u001b[32m━━━━━━━━━━━━━━━━━━━━\u001b[0m\u001b[37m\u001b[0m \u001b[1m0s\u001b[0m 48ms/step - acc: 0.8706 - loss: 0.3958\n",
            "Epoch 6: val_loss improved from 0.46620 to 0.45462, saving model to best_model.weights.h5\n",
            "\u001b[1m14/14\u001b[0m \u001b[32m━━━━━━━━━━━━━━━━━━━━\u001b[0m\u001b[37m\u001b[0m \u001b[1m1s\u001b[0m 56ms/step - acc: 0.8712 - loss: 0.3940 - val_acc: 0.8472 - val_loss: 0.4546\n",
            "Epoch 7/50\n",
            "\u001b[1m14/14\u001b[0m \u001b[32m━━━━━━━━━━━━━━━━━━━━\u001b[0m\u001b[37m\u001b[0m \u001b[1m0s\u001b[0m 79ms/step - acc: 0.8882 - loss: 0.3348\n",
            "Epoch 7: val_loss improved from 0.45462 to 0.40321, saving model to best_model.weights.h5\n",
            "\u001b[1m14/14\u001b[0m \u001b[32m━━━━━━━━━━━━━━━━━━━━\u001b[0m\u001b[37m\u001b[0m \u001b[1m2s\u001b[0m 89ms/step - acc: 0.8888 - loss: 0.3330 - val_acc: 0.8472 - val_loss: 0.4032\n",
            "Epoch 8/50\n",
            "\u001b[1m14/14\u001b[0m \u001b[32m━━━━━━━━━━━━━━━━━━━━\u001b[0m\u001b[37m\u001b[0m \u001b[1m0s\u001b[0m 47ms/step - acc: 0.9169 - loss: 0.2619\n",
            "Epoch 8: val_loss improved from 0.40321 to 0.33486, saving model to best_model.weights.h5\n",
            "\u001b[1m14/14\u001b[0m \u001b[32m━━━━━━━━━━━━━━━━━━━━\u001b[0m\u001b[37m\u001b[0m \u001b[1m2s\u001b[0m 55ms/step - acc: 0.9171 - loss: 0.2611 - val_acc: 0.8935 - val_loss: 0.3349\n",
            "Epoch 9/50\n",
            "\u001b[1m13/14\u001b[0m \u001b[32m━━━━━━━━━━━━━━━━━━\u001b[0m\u001b[37m━━\u001b[0m \u001b[1m0s\u001b[0m 53ms/step - acc: 0.9360 - loss: 0.1724\n",
            "Epoch 9: val_loss improved from 0.33486 to 0.33067, saving model to best_model.weights.h5\n",
            "\u001b[1m14/14\u001b[0m \u001b[32m━━━━━━━━━━━━━━━━━━━━\u001b[0m\u001b[37m\u001b[0m \u001b[1m1s\u001b[0m 61ms/step - acc: 0.9368 - loss: 0.1734 - val_acc: 0.8750 - val_loss: 0.3307\n",
            "Epoch 10/50\n",
            "\u001b[1m14/14\u001b[0m \u001b[32m━━━━━━━━━━━━━━━━━━━━\u001b[0m\u001b[37m\u001b[0m \u001b[1m0s\u001b[0m 45ms/step - acc: 0.9600 - loss: 0.1318\n",
            "Epoch 10: val_loss improved from 0.33067 to 0.32625, saving model to best_model.weights.h5\n",
            "\u001b[1m14/14\u001b[0m \u001b[32m━━━━━━━━━━━━━━━━━━━━\u001b[0m\u001b[37m\u001b[0m \u001b[1m1s\u001b[0m 53ms/step - acc: 0.9599 - loss: 0.1326 - val_acc: 0.9028 - val_loss: 0.3262\n",
            "Epoch 11/50\n",
            "\u001b[1m14/14\u001b[0m \u001b[32m━━━━━━━━━━━━━━━━━━━━\u001b[0m\u001b[37m\u001b[0m \u001b[1m0s\u001b[0m 47ms/step - acc: 0.9611 - loss: 0.1260\n",
            "Epoch 11: val_loss improved from 0.32625 to 0.31396, saving model to best_model.weights.h5\n",
            "\u001b[1m14/14\u001b[0m \u001b[32m━━━━━━━━━━━━━━━━━━━━\u001b[0m\u001b[37m\u001b[0m \u001b[1m1s\u001b[0m 55ms/step - acc: 0.9611 - loss: 0.1263 - val_acc: 0.8935 - val_loss: 0.3140\n",
            "Epoch 12/50\n",
            "\u001b[1m13/14\u001b[0m \u001b[32m━━━━━━━━━━━━━━━━━━\u001b[0m\u001b[37m━━\u001b[0m \u001b[1m0s\u001b[0m 49ms/step - acc: 0.9784 - loss: 0.1122\n",
            "Epoch 12: val_loss did not improve from 0.31396\n",
            "\u001b[1m14/14\u001b[0m \u001b[32m━━━━━━━━━━━━━━━━━━━━\u001b[0m\u001b[37m\u001b[0m \u001b[1m1s\u001b[0m 55ms/step - acc: 0.9776 - loss: 0.1120 - val_acc: 0.8935 - val_loss: 0.3417\n",
            "Epoch 13/50\n",
            "\u001b[1m14/14\u001b[0m \u001b[32m━━━━━━━━━━━━━━━━━━━━\u001b[0m\u001b[37m\u001b[0m \u001b[1m0s\u001b[0m 49ms/step - acc: 0.9780 - loss: 0.0868\n",
            "Epoch 13: val_loss did not improve from 0.31396\n",
            "\u001b[1m14/14\u001b[0m \u001b[32m━━━━━━━━━━━━━━━━━━━━\u001b[0m\u001b[37m\u001b[0m \u001b[1m1s\u001b[0m 56ms/step - acc: 0.9775 - loss: 0.0872 - val_acc: 0.8843 - val_loss: 0.4096\n",
            "Epoch 14/50\n",
            "\u001b[1m13/14\u001b[0m \u001b[32m━━━━━━━━━━━━━━━━━━\u001b[0m\u001b[37m━━\u001b[0m \u001b[1m0s\u001b[0m 49ms/step - acc: 0.9635 - loss: 0.0952\n",
            "Epoch 14: val_loss improved from 0.31396 to 0.29172, saving model to best_model.weights.h5\n",
            "\u001b[1m14/14\u001b[0m \u001b[32m━━━━━━━━━━━━━━━━━━━━\u001b[0m\u001b[37m\u001b[0m \u001b[1m1s\u001b[0m 57ms/step - acc: 0.9642 - loss: 0.0950 - val_acc: 0.9213 - val_loss: 0.2917\n",
            "Epoch 15/50\n",
            "\u001b[1m14/14\u001b[0m \u001b[32m━━━━━━━━━━━━━━━━━━━━\u001b[0m\u001b[37m\u001b[0m \u001b[1m0s\u001b[0m 67ms/step - acc: 0.9761 - loss: 0.0866\n",
            "Epoch 15: val_loss improved from 0.29172 to 0.22308, saving model to best_model.weights.h5\n",
            "\u001b[1m14/14\u001b[0m \u001b[32m━━━━━━━━━━━━━━━━━━━━\u001b[0m\u001b[37m\u001b[0m \u001b[1m2s\u001b[0m 79ms/step - acc: 0.9757 - loss: 0.0872 - val_acc: 0.9306 - val_loss: 0.2231\n",
            "Epoch 16/50\n",
            "\u001b[1m14/14\u001b[0m \u001b[32m━━━━━━━━━━━━━━━━━━━━\u001b[0m\u001b[37m\u001b[0m \u001b[1m0s\u001b[0m 69ms/step - acc: 0.9760 - loss: 0.0731\n",
            "Epoch 16: val_loss did not improve from 0.22308\n",
            "\u001b[1m14/14\u001b[0m \u001b[32m━━━━━━━━━━━━━━━━━━━━\u001b[0m\u001b[37m\u001b[0m \u001b[1m1s\u001b[0m 83ms/step - acc: 0.9757 - loss: 0.0736 - val_acc: 0.9167 - val_loss: 0.3018\n",
            "Epoch 17/50\n",
            "\u001b[1m14/14\u001b[0m \u001b[32m━━━━━━━━━━━━━━━━━━━━\u001b[0m\u001b[37m\u001b[0m \u001b[1m0s\u001b[0m 49ms/step - acc: 0.9723 - loss: 0.0732\n",
            "Epoch 17: val_loss did not improve from 0.22308\n",
            "\u001b[1m14/14\u001b[0m \u001b[32m━━━━━━━━━━━━━━━━━━━━\u001b[0m\u001b[37m\u001b[0m \u001b[1m1s\u001b[0m 58ms/step - acc: 0.9725 - loss: 0.0735 - val_acc: 0.9259 - val_loss: 0.2641\n",
            "Epoch 18/50\n",
            "\u001b[1m13/14\u001b[0m \u001b[32m━━━━━━━━━━━━━━━━━━\u001b[0m\u001b[37m━━\u001b[0m \u001b[1m0s\u001b[0m 46ms/step - acc: 0.9718 - loss: 0.0664\n",
            "Epoch 18: val_loss did not improve from 0.22308\n",
            "\u001b[1m14/14\u001b[0m \u001b[32m━━━━━━━━━━━━━━━━━━━━\u001b[0m\u001b[37m\u001b[0m \u001b[1m1s\u001b[0m 53ms/step - acc: 0.9719 - loss: 0.0668 - val_acc: 0.9259 - val_loss: 0.2321\n",
            "Epoch 19/50\n",
            "\u001b[1m13/14\u001b[0m \u001b[32m━━━━━━━━━━━━━━━━━━\u001b[0m\u001b[37m━━\u001b[0m \u001b[1m0s\u001b[0m 51ms/step - acc: 0.9808 - loss: 0.0590\n",
            "Epoch 19: val_loss did not improve from 0.22308\n",
            "\u001b[1m14/14\u001b[0m \u001b[32m━━━━━━━━━━━━━━━━━━━━\u001b[0m\u001b[37m\u001b[0m \u001b[1m1s\u001b[0m 58ms/step - acc: 0.9811 - loss: 0.0595 - val_acc: 0.9398 - val_loss: 0.2726\n",
            "Epoch 20/50\n",
            "\u001b[1m14/14\u001b[0m \u001b[32m━━━━━━━━━━━━━━━━━━━━\u001b[0m\u001b[37m\u001b[0m \u001b[1m0s\u001b[0m 45ms/step - acc: 0.9883 - loss: 0.0449\n",
            "Epoch 20: val_loss improved from 0.22308 to 0.20765, saving model to best_model.weights.h5\n",
            "\u001b[1m14/14\u001b[0m \u001b[32m━━━━━━━━━━━━━━━━━━━━\u001b[0m\u001b[37m\u001b[0m \u001b[1m1s\u001b[0m 54ms/step - acc: 0.9883 - loss: 0.0448 - val_acc: 0.9583 - val_loss: 0.2076\n",
            "Epoch 21/50\n",
            "\u001b[1m14/14\u001b[0m \u001b[32m━━━━━━━━━━━━━━━━━━━━\u001b[0m\u001b[37m\u001b[0m \u001b[1m0s\u001b[0m 46ms/step - acc: 0.9954 - loss: 0.0305\n",
            "Epoch 21: val_loss did not improve from 0.20765\n",
            "\u001b[1m14/14\u001b[0m \u001b[32m━━━━━━━━━━━━━━━━━━━━\u001b[0m\u001b[37m\u001b[0m \u001b[1m1s\u001b[0m 53ms/step - acc: 0.9954 - loss: 0.0306 - val_acc: 0.9259 - val_loss: 0.2573\n",
            "Epoch 22/50\n",
            "\u001b[1m13/14\u001b[0m \u001b[32m━━━━━━━━━━━━━━━━━━\u001b[0m\u001b[37m━━\u001b[0m \u001b[1m0s\u001b[0m 46ms/step - acc: 0.9978 - loss: 0.0223\n",
            "Epoch 22: val_loss did not improve from 0.20765\n",
            "\u001b[1m14/14\u001b[0m \u001b[32m━━━━━━━━━━━━━━━━━━━━\u001b[0m\u001b[37m\u001b[0m \u001b[1m1s\u001b[0m 53ms/step - acc: 0.9978 - loss: 0.0224 - val_acc: 0.9537 - val_loss: 0.2174\n",
            "Epoch 23/50\n",
            "\u001b[1m13/14\u001b[0m \u001b[32m━━━━━━━━━━━━━━━━━━\u001b[0m\u001b[37m━━\u001b[0m \u001b[1m0s\u001b[0m 48ms/step - acc: 0.9978 - loss: 0.0168\n",
            "Epoch 23: val_loss did not improve from 0.20765\n",
            "\u001b[1m14/14\u001b[0m \u001b[32m━━━━━━━━━━━━━━━━━━━━\u001b[0m\u001b[37m\u001b[0m \u001b[1m1s\u001b[0m 54ms/step - acc: 0.9976 - loss: 0.0172 - val_acc: 0.9444 - val_loss: 0.2362\n",
            "Epoch 24/50\n",
            "\u001b[1m14/14\u001b[0m \u001b[32m━━━━━━━━━━━━━━━━━━━━\u001b[0m\u001b[37m\u001b[0m \u001b[1m0s\u001b[0m 48ms/step - acc: 0.9967 - loss: 0.0173\n",
            "Epoch 24: val_loss did not improve from 0.20765\n",
            "\u001b[1m14/14\u001b[0m \u001b[32m━━━━━━━━━━━━━━━━━━━━\u001b[0m\u001b[37m\u001b[0m \u001b[1m1s\u001b[0m 54ms/step - acc: 0.9967 - loss: 0.0174 - val_acc: 0.9398 - val_loss: 0.2470\n",
            "Epoch 25/50\n",
            "\u001b[1m14/14\u001b[0m \u001b[32m━━━━━━━━━━━━━━━━━━━━\u001b[0m\u001b[37m\u001b[0m \u001b[1m0s\u001b[0m 48ms/step - acc: 0.9967 - loss: 0.0147\n",
            "Epoch 25: val_loss did not improve from 0.20765\n",
            "\u001b[1m14/14\u001b[0m \u001b[32m━━━━━━━━━━━━━━━━━━━━\u001b[0m\u001b[37m\u001b[0m \u001b[1m1s\u001b[0m 55ms/step - acc: 0.9967 - loss: 0.0147 - val_acc: 0.9491 - val_loss: 0.2290\n",
            "Epoch 26/50\n",
            "\u001b[1m14/14\u001b[0m \u001b[32m━━━━━━━━━━━━━━━━━━━━\u001b[0m\u001b[37m\u001b[0m \u001b[1m0s\u001b[0m 65ms/step - acc: 0.9978 - loss: 0.0126\n",
            "Epoch 26: val_loss did not improve from 0.20765\n",
            "\u001b[1m14/14\u001b[0m \u001b[32m━━━━━━━━━━━━━━━━━━━━\u001b[0m\u001b[37m\u001b[0m \u001b[1m2s\u001b[0m 79ms/step - acc: 0.9978 - loss: 0.0127 - val_acc: 0.9491 - val_loss: 0.2464\n",
            "Epoch 27/50\n",
            "\u001b[1m14/14\u001b[0m \u001b[32m━━━━━━━━━━━━━━━━━━━━\u001b[0m\u001b[37m\u001b[0m \u001b[1m0s\u001b[0m 74ms/step - acc: 0.9978 - loss: 0.0118\n",
            "Epoch 27: val_loss did not improve from 0.20765\n",
            "\u001b[1m14/14\u001b[0m \u001b[32m━━━━━━━━━━━━━━━━━━━━\u001b[0m\u001b[37m\u001b[0m \u001b[1m1s\u001b[0m 88ms/step - acc: 0.9978 - loss: 0.0119 - val_acc: 0.9537 - val_loss: 0.2504\n",
            "Epoch 28/50\n",
            "\u001b[1m14/14\u001b[0m \u001b[32m━━━━━━━━━━━━━━━━━━━━\u001b[0m\u001b[37m\u001b[0m \u001b[1m0s\u001b[0m 49ms/step - acc: 0.9978 - loss: 0.0112\n",
            "Epoch 28: val_loss did not improve from 0.20765\n",
            "\u001b[1m14/14\u001b[0m \u001b[32m━━━━━━━━━━━━━━━━━━━━\u001b[0m\u001b[37m\u001b[0m \u001b[1m2s\u001b[0m 57ms/step - acc: 0.9978 - loss: 0.0112 - val_acc: 0.9583 - val_loss: 0.2410\n",
            "Epoch 29/50\n",
            "\u001b[1m13/14\u001b[0m \u001b[32m━━━━━━━━━━━━━━━━━━\u001b[0m\u001b[37m━━\u001b[0m \u001b[1m0s\u001b[0m 47ms/step - acc: 0.9978 - loss: 0.0106\n",
            "Epoch 29: val_loss did not improve from 0.20765\n",
            "\u001b[1m14/14\u001b[0m \u001b[32m━━━━━━━━━━━━━━━━━━━━\u001b[0m\u001b[37m\u001b[0m \u001b[1m1s\u001b[0m 54ms/step - acc: 0.9978 - loss: 0.0107 - val_acc: 0.9537 - val_loss: 0.2518\n",
            "Epoch 30/50\n",
            "\u001b[1m14/14\u001b[0m \u001b[32m━━━━━━━━━━━━━━━━━━━━\u001b[0m\u001b[37m\u001b[0m \u001b[1m0s\u001b[0m 46ms/step - acc: 0.9978 - loss: 0.0095\n",
            "Epoch 30: val_loss did not improve from 0.20765\n",
            "\u001b[1m14/14\u001b[0m \u001b[32m━━━━━━━━━━━━━━━━━━━━\u001b[0m\u001b[37m\u001b[0m \u001b[1m1s\u001b[0m 60ms/step - acc: 0.9978 - loss: 0.0095 - val_acc: 0.9537 - val_loss: 0.2422\n",
            "Epoch 30: early stopping\n",
            "Restoring model weights from the end of the best epoch: 20.\n"
          ]
        },
        {
          "output_type": "display_data",
          "data": {
            "text/plain": [
              "<Figure size 640x480 with 1 Axes>"
            ],
            "image/png": "[encoded data removed]"
          },
          "metadata": {}
        },
        {
          "output_type": "stream",
          "name": "stdout",
          "text": [
            "Accuracy en test: 0.9263\n"
          ]
        }
      ],
      "source": [
        "final_model = define_model(64, 2, 16, 10)\n",
        "final_model = compile_model(final_model,\n",
        "                           tf.keras.losses.categorical_crossentropy,\n",
        "                           tf.keras.optimizers.Adam(learning_rate=1e-2),\n",
        "                           metrics = ['acc'])\n",
        "final_checkpoint, final_stopping = define_callbacks('best_model.weights.h5', 'val_loss', 'min', 10)\n",
        "history, final_model = train_model(final_model,\n",
        "                             X_train,\n",
        "                             y_train_ohe,\n",
        "                             epochs=50,\n",
        "                             batch_size=64,\n",
        "                             validation_rate=0.2,\n",
        "                             callbacks=[final_checkpoint, final_stopping])\n",
        "plt.plot(history.history['loss'])\n",
        "plt.plot(history.history['val_loss'])\n",
        "plt.title('model loss')\n",
        "plt.ylabel('loss')\n",
        "plt.xlabel('epoch')\n",
        "plt.legend(['train', 'validation'], loc='upper left')\n",
        "plt.show()\n",
        "acc = evaluate_model(final_model,\n",
        "                     X_test=X_test,\n",
        "                     y_ohe_test=y_test_ohe)\n",
        "print(\"Accuracy en test:\",np.round(acc,4))"
      ]
    },
    {
      "cell_type": "markdown",
      "id": "q3yAobvXkuZj",
      "metadata": {
        "id": "q3yAobvXkuZj"
      },
      "source": [
        "**Salida esperada:**\n",
        "\n",
        "```\n",
        "Epoch 1/50\n",
        "13/14 ━━━━━━━━━━━━━━━━━━━━ 0s 41ms/step - acc: 0.1268 - loss: 3.4056\n",
        "Epoch 1: val_loss improved from inf to 1.93804, saving model to best_model.weights.h5\n",
        "14/14 ━━━━━━━━━━━━━━━━━━━━ 1s 51ms/step - acc: 0.1326 - loss: 3.2981 - val_acc: 0.2963 - val_loss: 1.9380\n",
        "Epoch 2/50\n",
        "14/14 ━━━━━━━━━━━━━━━━━━━━ 0s 42ms/step - acc: 0.3447 - loss: 1.7362\n",
        "............\n",
        "EEpoch 29/50\n",
        "13/14 ━━━━━━━━━━━━━━━━━━━━ 0s 41ms/step - acc: 0.9978 - loss: 0.0106\n",
        "Epoch 29: val_loss did not improve from 0.20765\n",
        "14/14 ━━━━━━━━━━━━━━━━━━━━ 1s 48ms/step - acc: 0.9978 - loss: 0.0107 - val_acc: 0.9537 - val_loss: 0.2518\n",
        "Epoch 30/50\n",
        "14/14 ━━━━━━━━━━━━━━━━━━━━ 0s 49ms/step - acc: 0.9978 - loss: 0.0095\n",
        "Epoch 30: val_loss did not improve from 0.20765\n",
        "14/14 ━━━━━━━━━━━━━━━━━━━━ 1s 58ms/step - acc: 0.9978 - loss: 0.0095 - val_acc: 0.9537 - val_loss: 0.2422\n",
        "Epoch 30: early stopping\n",
        "```\n",
        "\n",
        "![full_training.png](data:image/png;base64,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)\n",
        "```\n",
        "23/23 ━━━━━━━━━━━━━━━━━━━━ 0s 19ms/step - acc: 0.9264 - loss: 0.2334\n",
        "Accuracy en test: 0.9263\n",
        "```"
      ]
    },
    {
      "cell_type": "markdown",
      "id": "cYSkuIVylxOj",
      "metadata": {
        "id": "cYSkuIVylxOj"
      },
      "source": [
        "Obtuvimos un _accuracy_ de 92.63% ¡Buen trabajo!"
      ]
    },
    {
      "cell_type": "markdown",
      "id": "CGzRu75QJhFF",
      "metadata": {
        "id": "CGzRu75QJhFF"
      },
      "source": [
        "# **2. Regresión**\n",
        "---\n",
        "\n",
        "Una tarea de regresión implica modelar una variable continua, no una categórica como lo hemos venido haciendo. Esto tiene dos implicaciones directas en la construcción de un modelo de red neuronal. La primera es que no se puede usar una función de activación tipo `sigmoid` o `softmax` en la salida, sino una activación lineal (o `linear`, que viene por defecto en las capas densas de Keras). La segunda es que la función de pérdida no puede ser una entropía cruzada, sino una que mida qué tan lejos están las predicciones del modelo respecto a los valores reales. **Keras** nos ofrece muchas opciones para esto, pero las más usuales son:\n",
        "\n",
        "*   `tf.keras.losses.MeanSquaredError`: el error cuadrático medio o MSE por sus siglas en inglés, es la media del cuadrado del error de las predicciones del modelo.\n",
        "*   `tf.keras.losses.MeanAbsoluteError`: el error medio absolto o MAE por sus siglas en inglés, es la media del error absoluto de las predicciones del modelo.\n",
        "\n",
        "Comparadas entre sí, el error cuadrático medio penaliza con más fuerza los errores grandes; sin embargo la idea es la misma: penalizar el error de predicción.\n",
        "\n",
        "Vamos a usar el [conjunto de datos Diabetes](https://scikit-learn.org/stable/modules/generated/sklearn.datasets.load_diabetes.html) del repositorio de la *UCI*. Este dataset plantea una tarea de regresión. Cada muestra del conjunto de datos corresponde a un paciente. A partir de información como la edad, sexo, índice de masa corporal, presión arterial media, y seis mediciones del suero sanguineo, el objetivo es predecir el progreso de la enfermedad después de un año de haber tomado los datos del paciente. Este progreso se mide de forma cuantitativa en una variable que puede tomar valores entre 40 y 346. Veamos el resumen de las características importantes del _dataset_:\n",
        "\n",
        "* Total de muestras: 442\n",
        "* Dimension de las muestras: 10\n",
        "* Rango de las *features*: `float`, -0.2 < `x` < 0.2. Es decir, los datos están normalizados.\n",
        "* Dimensión de la variable objetivo: 1\n",
        "* Rango de la variable objetivo: `int` 40 <`y`< 346\n",
        "\n",
        "Vamos a cargar el dataset y definir particiones de entrenamiento y prueba. En este caso no necesitamos una codificación *one-hot*."
      ]
    },
    {
      "cell_type": "code",
      "execution_count": 116,
      "id": "kxJ4NREbQE5Y",
      "metadata": {
        "id": "kxJ4NREbQE5Y"
      },
      "outputs": [],
      "source": [
        "diabetes = datasets.load_diabetes()\n",
        "X, y = diabetes.data, diabetes.target\n",
        "\n",
        "X_train_2, X_test_2, y_train_2, y_test_2 = model_selection.train_test_split(\n",
        "    X, y, test_size=0.3, random_state=13\n",
        ")"
      ]
    },
    {
      "cell_type": "markdown",
      "id": "NCnVwZph_xA1",
      "metadata": {
        "id": "NCnVwZph_xA1"
      },
      "source": [
        "Verifiquemos el tamaño de cada partición y el rango de la variable objetivo"
      ]
    },
    {
      "cell_type": "code",
      "execution_count": 117,
      "id": "9352c972",
      "metadata": {
        "id": "9352c972",
        "colab": {
          "base_uri": "https://localhost:8080/"
        },
        "outputId": "3e3b50f9-ab2a-4cf9-a2a8-4ffd87d6c412"
      },
      "outputs": [
        {
          "output_type": "execute_result",
          "data": {
            "text/plain": [
              "((309, 10), (133, 10), 346.0, 40.0)"
            ]
          },
          "metadata": {},
          "execution_count": 117
        }
      ],
      "source": [
        "X_train_2.shape, X_test_2.shape, y_train_2.max(), y_test_2.min()"
      ]
    },
    {
      "cell_type": "markdown",
      "id": "Um7YHy7WrXOQ",
      "metadata": {
        "id": "Um7YHy7WrXOQ"
      },
      "source": [
        "**Salida esperada**\n",
        "```python\n",
        "((309, 10), (133, 10), 346.0, 40.0)\n",
        "\n",
        "```"
      ]
    },
    {
      "cell_type": "markdown",
      "id": "Bdv7aoXcrca3",
      "metadata": {
        "id": "Bdv7aoXcrca3"
      },
      "source": [
        "Es decir, tenemos 309 _samples_ para _train_, 133 para _test_, 10 _features_, y el rango de la variable objetivo va desde 40 hasta 346."
      ]
    },
    {
      "cell_type": "markdown",
      "id": "jhSdSAZp_5gl",
      "metadata": {
        "id": "jhSdSAZp_5gl"
      },
      "source": [
        "## **2.1 Definición del modelo**\n",
        "---\n",
        "\n",
        "Similar al ejercicio 1.2, vamos a definir la arquitectura del modelo. Complete la función `define_regressor`, que crea un modelo en **Keras** con las siguientes especificaciones:\n",
        "\n",
        "* Debe utilizar el API funcional de **Keras** (no puede ser un modelo secuencial).\n",
        "* Debe tener una capa de entrada con las dimensiones del dataset.\n",
        "* Debe permitir agregar una serie de capas densa con activación *ReLU* (por lo menos una).\n",
        "* Debe tener una capa densa de salida con tantas unidades como la dimensión de la variable objetivo, y con una activación *linear*.\n",
        "\n",
        "**Entrada**:\n",
        "\n",
        "* **`input_shape`**: un número entero correspondiente a la dimensión de entrada del modelo.\n",
        "* **`hidden_layers`**: un número entero correspondiente al número de capas ocultas.\n",
        "* **`hidden_units`**: un número entero correspondiente al número de neuronas de las capas ocultas.\n",
        "* **`output_units`**: un número entero correspondiente al número de neuronas de la capa de salida.\n",
        "\n",
        "**Salida**:\n",
        "* **`model`**: un modelo de red neuronal en **Keras**."
      ]
    },
    {
      "cell_type": "code",
      "execution_count": 119,
      "id": "WaRembvp_4-5",
      "metadata": {
        "id": "WaRembvp_4-5"
      },
      "outputs": [],
      "source": [
        "# FUNCIÓN CALIFICADA define_regressor:\n",
        "\n",
        "def define_regressor(input_shape, hidden_layers, hidden_units, output_units):\n",
        "    # Fijamos una semilla para efectos de reproducibiidad\n",
        "    tf.keras.utils.set_random_seed(0)\n",
        "\n",
        "    # Capa de entrada\n",
        "    input_layer = tf.keras.layers.Input(shape=(input_shape,))\n",
        "\n",
        "    # Capas ocultas\n",
        "    x = input_layer\n",
        "    for _ in range(hidden_layers):\n",
        "        x = tf.keras.layers.Dense(hidden_units, activation='relu')(x)\n",
        "\n",
        "\n",
        "    # Capa de salida con activación lineal para regresión\n",
        "    output_layer = tf.keras.layers.Dense(output_units, activation='linear')(x)\n",
        "\n",
        "    # Crear el modelo utilizando el API funcional\n",
        "    model = tf.keras.models.Model(inputs=input_layer, outputs=output_layer)\n",
        "\n",
        "    return model"
      ]
    },
    {
      "cell_type": "markdown",
      "id": "dLHgs-N_AciJ",
      "metadata": {
        "id": "dLHgs-N_AciJ"
      },
      "source": [
        "La siguiente celda usa la función que usted creó para definir un modelo de dos capas densas de 8 neuronas y una salida unidimensional, para poder usarlo en el problema de Diabetes:"
      ]
    },
    {
      "cell_type": "code",
      "execution_count": 120,
      "id": "fiORV0-0Azj1",
      "metadata": {
        "id": "fiORV0-0Azj1",
        "colab": {
          "base_uri": "https://localhost:8080/",
          "height": 289
        },
        "outputId": "b595324b-eb9b-46f2-a805-305d70b6e10d"
      },
      "outputs": [
        {
          "output_type": "display_data",
          "data": {
            "text/plain": [
              "\u001b[1mModel: \"functional_84\"\u001b[0m\n"
            ],
            "text/html": [
              "<pre style=\"white-space:pre;overflow-x:auto;line-height:normal;font-family:Menlo,'DejaVu Sans Mono',consolas,'Courier New',monospace\"><span style=\"font-weight: bold\">Model: \"functional_84\"</span>\n",
              "</pre>\n"
            ]
          },
          "metadata": {}
        },
        {
          "output_type": "display_data",
          "data": {
            "text/plain": [
              "┏━━━━━━━━━━━━━━━━━━━━━━━━━━━━━━━━━━━━━━┳━━━━━━━━━━━━━━━━━━━━━━━━━━━━━┳━━━━━━━━━━━━━━━━━┓\n",
              "┃\u001b[1m \u001b[0m\u001b[1mLayer (type)                        \u001b[0m\u001b[1m \u001b[0m┃\u001b[1m \u001b[0m\u001b[1mOutput Shape               \u001b[0m\u001b[1m \u001b[0m┃\u001b[1m \u001b[0m\u001b[1m        Param #\u001b[0m\u001b[1m \u001b[0m┃\n",
              "┡━━━━━━━━━━━━━━━━━━━━━━━━━━━━━━━━━━━━━━╇━━━━━━━━━━━━━━━━━━━━━━━━━━━━━╇━━━━━━━━━━━━━━━━━┩\n",
              "│ input_layer_85 (\u001b[38;5;33mInputLayer\u001b[0m)          │ (\u001b[38;5;45mNone\u001b[0m, \u001b[38;5;34m10\u001b[0m)                  │               \u001b[38;5;34m0\u001b[0m │\n",
              "├──────────────────────────────────────┼─────────────────────────────┼─────────────────┤\n",
              "│ dense_313 (\u001b[38;5;33mDense\u001b[0m)                    │ (\u001b[38;5;45mNone\u001b[0m, \u001b[38;5;34m8\u001b[0m)                   │              \u001b[38;5;34m88\u001b[0m │\n",
              "├──────────────────────────────────────┼─────────────────────────────┼─────────────────┤\n",
              "│ dense_314 (\u001b[38;5;33mDense\u001b[0m)                    │ (\u001b[38;5;45mNone\u001b[0m, \u001b[38;5;34m8\u001b[0m)                   │              \u001b[38;5;34m72\u001b[0m │\n",
              "├──────────────────────────────────────┼─────────────────────────────┼─────────────────┤\n",
              "│ dense_315 (\u001b[38;5;33mDense\u001b[0m)                    │ (\u001b[38;5;45mNone\u001b[0m, \u001b[38;5;34m1\u001b[0m)                   │               \u001b[38;5;34m9\u001b[0m │\n",
              "└──────────────────────────────────────┴─────────────────────────────┴─────────────────┘\n"
            ],
            "text/html": [
              "<pre style=\"white-space:pre;overflow-x:auto;line-height:normal;font-family:Menlo,'DejaVu Sans Mono',consolas,'Courier New',monospace\">┏━━━━━━━━━━━━━━━━━━━━━━━━━━━━━━━━━━━━━━┳━━━━━━━━━━━━━━━━━━━━━━━━━━━━━┳━━━━━━━━━━━━━━━━━┓\n",
              "┃<span style=\"font-weight: bold\"> Layer (type)                         </span>┃<span style=\"font-weight: bold\"> Output Shape                </span>┃<span style=\"font-weight: bold\">         Param # </span>┃\n",
              "┡━━━━━━━━━━━━━━━━━━━━━━━━━━━━━━━━━━━━━━╇━━━━━━━━━━━━━━━━━━━━━━━━━━━━━╇━━━━━━━━━━━━━━━━━┩\n",
              "│ input_layer_85 (<span style=\"color: #0087ff; text-decoration-color: #0087ff\">InputLayer</span>)          │ (<span style=\"color: #00d7ff; text-decoration-color: #00d7ff\">None</span>, <span style=\"color: #00af00; text-decoration-color: #00af00\">10</span>)                  │               <span style=\"color: #00af00; text-decoration-color: #00af00\">0</span> │\n",
              "├──────────────────────────────────────┼─────────────────────────────┼─────────────────┤\n",
              "│ dense_313 (<span style=\"color: #0087ff; text-decoration-color: #0087ff\">Dense</span>)                    │ (<span style=\"color: #00d7ff; text-decoration-color: #00d7ff\">None</span>, <span style=\"color: #00af00; text-decoration-color: #00af00\">8</span>)                   │              <span style=\"color: #00af00; text-decoration-color: #00af00\">88</span> │\n",
              "├──────────────────────────────────────┼─────────────────────────────┼─────────────────┤\n",
              "│ dense_314 (<span style=\"color: #0087ff; text-decoration-color: #0087ff\">Dense</span>)                    │ (<span style=\"color: #00d7ff; text-decoration-color: #00d7ff\">None</span>, <span style=\"color: #00af00; text-decoration-color: #00af00\">8</span>)                   │              <span style=\"color: #00af00; text-decoration-color: #00af00\">72</span> │\n",
              "├──────────────────────────────────────┼─────────────────────────────┼─────────────────┤\n",
              "│ dense_315 (<span style=\"color: #0087ff; text-decoration-color: #0087ff\">Dense</span>)                    │ (<span style=\"color: #00d7ff; text-decoration-color: #00d7ff\">None</span>, <span style=\"color: #00af00; text-decoration-color: #00af00\">1</span>)                   │               <span style=\"color: #00af00; text-decoration-color: #00af00\">9</span> │\n",
              "└──────────────────────────────────────┴─────────────────────────────┴─────────────────┘\n",
              "</pre>\n"
            ]
          },
          "metadata": {}
        },
        {
          "output_type": "display_data",
          "data": {
            "text/plain": [
              "\u001b[1m Total params: \u001b[0m\u001b[38;5;34m169\u001b[0m (676.00 B)\n"
            ],
            "text/html": [
              "<pre style=\"white-space:pre;overflow-x:auto;line-height:normal;font-family:Menlo,'DejaVu Sans Mono',consolas,'Courier New',monospace\"><span style=\"font-weight: bold\"> Total params: </span><span style=\"color: #00af00; text-decoration-color: #00af00\">169</span> (676.00 B)\n",
              "</pre>\n"
            ]
          },
          "metadata": {}
        },
        {
          "output_type": "display_data",
          "data": {
            "text/plain": [
              "\u001b[1m Trainable params: \u001b[0m\u001b[38;5;34m169\u001b[0m (676.00 B)\n"
            ],
            "text/html": [
              "<pre style=\"white-space:pre;overflow-x:auto;line-height:normal;font-family:Menlo,'DejaVu Sans Mono',consolas,'Courier New',monospace\"><span style=\"font-weight: bold\"> Trainable params: </span><span style=\"color: #00af00; text-decoration-color: #00af00\">169</span> (676.00 B)\n",
              "</pre>\n"
            ]
          },
          "metadata": {}
        },
        {
          "output_type": "display_data",
          "data": {
            "text/plain": [
              "\u001b[1m Non-trainable params: \u001b[0m\u001b[38;5;34m0\u001b[0m (0.00 B)\n"
            ],
            "text/html": [
              "<pre style=\"white-space:pre;overflow-x:auto;line-height:normal;font-family:Menlo,'DejaVu Sans Mono',consolas,'Courier New',monospace\"><span style=\"font-weight: bold\"> Non-trainable params: </span><span style=\"color: #00af00; text-decoration-color: #00af00\">0</span> (0.00 B)\n",
              "</pre>\n"
            ]
          },
          "metadata": {}
        },
        {
          "output_type": "stream",
          "name": "stdout",
          "text": [
            "None\n"
          ]
        }
      ],
      "source": [
        "#TEST_CELL\n",
        "test_model_2 = define_regressor(10, 2, 8, 1)\n",
        "print(test_model_2.summary())"
      ]
    },
    {
      "cell_type": "markdown",
      "id": "GYYQfXeAzZmZ",
      "metadata": {
        "id": "GYYQfXeAzZmZ"
      },
      "source": [
        "**Salida esperada:**\n",
        "```\n",
        "┏━━━━━━━━━━━━━━━━━━━━━━━━━━━━━━━━━━━━━━┳━━━━━━━━━━━━━━━━━━━━━━━━━━━━━┳━━━━━━━━━━━━━━━━━┓\n",
        "┃ Layer (type)                         ┃ Output Shape                ┃         Param # ┃\n",
        "┡━━━━━━━━━━━━━━━━━━━━━━━━━━━━━━━━━━━━━━╇━━━━━━━━━━━━━━━━━━━━━━━━━━━━━╇━━━━━━━━━━━━━━━━━┩\n",
        "│ input_layer_21 (InputLayer)          │ (None, 10)                  │               0 │\n",
        "├──────────────────────────────────────┼─────────────────────────────┼─────────────────┤\n",
        "│ dense_69 (Dense)                     │ (None, 8)                   │              88 │\n",
        "├──────────────────────────────────────┼─────────────────────────────┼─────────────────┤\n",
        "│ dense_70 (Dense)                     │ (None, 8)                   │              72 │\n",
        "├──────────────────────────────────────┼─────────────────────────────┼─────────────────┤\n",
        "│ dense_71 (Dense)                     │ (None, 1)                   │               9 │\n",
        "└──────────────────────────────────────┴─────────────────────────────┴─────────────────┘\n",
        " Total params: 169 (676.00 B)\n",
        " Trainable params: 169 (676.00 B)\n",
        " Non-trainable params: 0 (0.00 B)\n",
        "None\n",
        "```"
      ]
    },
    {
      "cell_type": "markdown",
      "id": "DCECtpJjqkn1",
      "metadata": {
        "id": "DCECtpJjqkn1"
      },
      "source": [
        "### **Evaluar código**"
      ]
    },
    {
      "cell_type": "code",
      "execution_count": 121,
      "id": "rkHlABs18TpZ",
      "metadata": {
        "id": "rkHlABs18TpZ",
        "colab": {
          "base_uri": "https://localhost:8080/",
          "height": 141
        },
        "outputId": "a14ba61b-3f95-4b38-bb29-208d1cef7bfd"
      },
      "outputs": [
        {
          "output_type": "stream",
          "name": "stdout",
          "text": [
            "Test 2_1_1\n"
          ]
        },
        {
          "output_type": "display_data",
          "data": {
            "text/plain": [
              "<IPython.core.display.HTML object>"
            ],
            "text/html": [
              "<h4>Test Run correctly</h4>"
            ]
          },
          "metadata": {}
        },
        {
          "output_type": "display_data",
          "data": {
            "text/plain": [
              "<IPython.core.display.HTML object>"
            ],
            "text/html": [
              "<h6 style=\"color: green;\">Your test grade: 100</h6>\n",
              "<h6>Feedback: Probando código ejemplo.</h6>"
            ]
          },
          "metadata": {}
        }
      ],
      "source": [
        "grader.run_test(\"Test 2_1_1\", globals())"
      ]
    },
    {
      "cell_type": "code",
      "execution_count": 122,
      "id": "rH2jTCck8qPy",
      "metadata": {
        "id": "rH2jTCck8qPy",
        "colab": {
          "base_uri": "https://localhost:8080/",
          "height": 141
        },
        "outputId": "2e215183-32c3-456e-bad4-c7fb0e8569cf"
      },
      "outputs": [
        {
          "output_type": "stream",
          "name": "stdout",
          "text": [
            "Test 2_1_2\n"
          ]
        },
        {
          "output_type": "display_data",
          "data": {
            "text/plain": [
              "<IPython.core.display.HTML object>"
            ],
            "text/html": [
              "<h4>Test Run correctly</h4>"
            ]
          },
          "metadata": {}
        },
        {
          "output_type": "display_data",
          "data": {
            "text/plain": [
              "<IPython.core.display.HTML object>"
            ],
            "text/html": [
              "<h6 style=\"color: green;\">Your test grade: 100</h6>\n",
              "<h6>Feedback: Probando código ejemplo.</h6>"
            ]
          },
          "metadata": {}
        }
      ],
      "source": [
        "grader.run_test(\"Test 2_1_2\", globals())"
      ]
    },
    {
      "cell_type": "code",
      "execution_count": 123,
      "id": "N5r2zReL80GW",
      "metadata": {
        "id": "N5r2zReL80GW",
        "colab": {
          "base_uri": "https://localhost:8080/",
          "height": 141
        },
        "outputId": "1fe6dc3c-bab7-4a35-b5b6-a97de51dbbf0"
      },
      "outputs": [
        {
          "output_type": "stream",
          "name": "stdout",
          "text": [
            "Test 2_1_3\n"
          ]
        },
        {
          "output_type": "display_data",
          "data": {
            "text/plain": [
              "<IPython.core.display.HTML object>"
            ],
            "text/html": [
              "<h4>Test Run correctly</h4>"
            ]
          },
          "metadata": {}
        },
        {
          "output_type": "display_data",
          "data": {
            "text/plain": [
              "<IPython.core.display.HTML object>"
            ],
            "text/html": [
              "<h6 style=\"color: green;\">Your test grade: 100</h6>\n",
              "<h6>Feedback: Probando código ejemplo.</h6>"
            ]
          },
          "metadata": {}
        }
      ],
      "source": [
        "grader.run_test(\"Test 2_1_3\", globals())"
      ]
    },
    {
      "cell_type": "code",
      "execution_count": 124,
      "id": "YgX5Q2NZ88dJ",
      "metadata": {
        "id": "YgX5Q2NZ88dJ",
        "colab": {
          "base_uri": "https://localhost:8080/",
          "height": 141
        },
        "outputId": "356182ea-a320-401e-a3c3-48ac317e3860"
      },
      "outputs": [
        {
          "output_type": "stream",
          "name": "stdout",
          "text": [
            "Test 2_1_4\n"
          ]
        },
        {
          "output_type": "display_data",
          "data": {
            "text/plain": [
              "<IPython.core.display.HTML object>"
            ],
            "text/html": [
              "<h4>Test Run correctly</h4>"
            ]
          },
          "metadata": {}
        },
        {
          "output_type": "display_data",
          "data": {
            "text/plain": [
              "<IPython.core.display.HTML object>"
            ],
            "text/html": [
              "<h6 style=\"color: green;\">Your test grade: 100</h6>\n",
              "<h6>Feedback: Probando código ejemplo.</h6>"
            ]
          },
          "metadata": {}
        }
      ],
      "source": [
        "grader.run_test(\"Test 2_1_4\", globals())"
      ]
    },
    {
      "cell_type": "code",
      "execution_count": 125,
      "id": "upvzDrzM9NuA",
      "metadata": {
        "id": "upvzDrzM9NuA",
        "colab": {
          "base_uri": "https://localhost:8080/",
          "height": 141
        },
        "outputId": "f481a3c6-8a45-401e-dad9-31d4bd89587a"
      },
      "outputs": [
        {
          "output_type": "stream",
          "name": "stdout",
          "text": [
            "Test 2_1_5\n"
          ]
        },
        {
          "output_type": "display_data",
          "data": {
            "text/plain": [
              "<IPython.core.display.HTML object>"
            ],
            "text/html": [
              "<h4>Test Run correctly</h4>"
            ]
          },
          "metadata": {}
        },
        {
          "output_type": "display_data",
          "data": {
            "text/plain": [
              "<IPython.core.display.HTML object>"
            ],
            "text/html": [
              "<h6 style=\"color: green;\">Your test grade: 100</h6>\n",
              "<h6>Feedback: Probando código ejemplo.</h6>"
            ]
          },
          "metadata": {}
        }
      ],
      "source": [
        "grader.run_test(\"Test 2_1_5\", globals())"
      ]
    },
    {
      "cell_type": "code",
      "execution_count": 126,
      "id": "GJfeaUW_9aAO",
      "metadata": {
        "id": "GJfeaUW_9aAO",
        "colab": {
          "base_uri": "https://localhost:8080/",
          "height": 141
        },
        "outputId": "47faafe4-1788-47fa-c244-b0f743c5ad47"
      },
      "outputs": [
        {
          "output_type": "stream",
          "name": "stdout",
          "text": [
            "Test 2_1_6\n"
          ]
        },
        {
          "output_type": "display_data",
          "data": {
            "text/plain": [
              "<IPython.core.display.HTML object>"
            ],
            "text/html": [
              "<h4>Test Run correctly</h4>"
            ]
          },
          "metadata": {}
        },
        {
          "output_type": "display_data",
          "data": {
            "text/plain": [
              "<IPython.core.display.HTML object>"
            ],
            "text/html": [
              "<h6 style=\"color: green;\">Your test grade: 100</h6>\n",
              "<h6>Feedback: Probando código ejemplo.</h6>"
            ]
          },
          "metadata": {}
        }
      ],
      "source": [
        "grader.run_test(\"Test 2_1_6\", globals())"
      ]
    },
    {
      "cell_type": "code",
      "execution_count": 127,
      "id": "DpIaiQkM9pA8",
      "metadata": {
        "id": "DpIaiQkM9pA8",
        "colab": {
          "base_uri": "https://localhost:8080/",
          "height": 923
        },
        "outputId": "c8a0a8e1-4d8a-4d14-894f-2a7e1a153a99"
      },
      "outputs": [
        {
          "output_type": "display_data",
          "data": {
            "text/plain": [
              "\u001b[1mModel: \"functional_92\"\u001b[0m\n"
            ],
            "text/html": [
              "<pre style=\"white-space:pre;overflow-x:auto;line-height:normal;font-family:Menlo,'DejaVu Sans Mono',consolas,'Courier New',monospace\"><span style=\"font-weight: bold\">Model: \"functional_92\"</span>\n",
              "</pre>\n"
            ]
          },
          "metadata": {}
        },
        {
          "output_type": "display_data",
          "data": {
            "text/plain": [
              "┏━━━━━━━━━━━━━━━━━━━━━━━━━━━━━━━━━━━━━━┳━━━━━━━━━━━━━━━━━━━━━━━━━━━━━┳━━━━━━━━━━━━━━━━━┓\n",
              "┃\u001b[1m \u001b[0m\u001b[1mLayer (type)                        \u001b[0m\u001b[1m \u001b[0m┃\u001b[1m \u001b[0m\u001b[1mOutput Shape               \u001b[0m\u001b[1m \u001b[0m┃\u001b[1m \u001b[0m\u001b[1m        Param #\u001b[0m\u001b[1m \u001b[0m┃\n",
              "┡━━━━━━━━━━━━━━━━━━━━━━━━━━━━━━━━━━━━━━╇━━━━━━━━━━━━━━━━━━━━━━━━━━━━━╇━━━━━━━━━━━━━━━━━┩\n",
              "│ input_layer_93 (\u001b[38;5;33mInputLayer\u001b[0m)          │ (\u001b[38;5;45mNone\u001b[0m, \u001b[38;5;34m7\u001b[0m)                   │               \u001b[38;5;34m0\u001b[0m │\n",
              "├──────────────────────────────────────┼─────────────────────────────┼─────────────────┤\n",
              "│ dense_337 (\u001b[38;5;33mDense\u001b[0m)                    │ (\u001b[38;5;45mNone\u001b[0m, \u001b[38;5;34m7\u001b[0m)                   │              \u001b[38;5;34m56\u001b[0m │\n",
              "├──────────────────────────────────────┼─────────────────────────────┼─────────────────┤\n",
              "│ dense_338 (\u001b[38;5;33mDense\u001b[0m)                    │ (\u001b[38;5;45mNone\u001b[0m, \u001b[38;5;34m7\u001b[0m)                   │              \u001b[38;5;34m56\u001b[0m │\n",
              "├──────────────────────────────────────┼─────────────────────────────┼─────────────────┤\n",
              "│ dense_339 (\u001b[38;5;33mDense\u001b[0m)                    │ (\u001b[38;5;45mNone\u001b[0m, \u001b[38;5;34m7\u001b[0m)                   │              \u001b[38;5;34m56\u001b[0m │\n",
              "├──────────────────────────────────────┼─────────────────────────────┼─────────────────┤\n",
              "│ dense_340 (\u001b[38;5;33mDense\u001b[0m)                    │ (\u001b[38;5;45mNone\u001b[0m, \u001b[38;5;34m7\u001b[0m)                   │              \u001b[38;5;34m56\u001b[0m │\n",
              "├──────────────────────────────────────┼─────────────────────────────┼─────────────────┤\n",
              "│ dense_341 (\u001b[38;5;33mDense\u001b[0m)                    │ (\u001b[38;5;45mNone\u001b[0m, \u001b[38;5;34m7\u001b[0m)                   │              \u001b[38;5;34m56\u001b[0m │\n",
              "├──────────────────────────────────────┼─────────────────────────────┼─────────────────┤\n",
              "│ dense_342 (\u001b[38;5;33mDense\u001b[0m)                    │ (\u001b[38;5;45mNone\u001b[0m, \u001b[38;5;34m7\u001b[0m)                   │              \u001b[38;5;34m56\u001b[0m │\n",
              "├──────────────────────────────────────┼─────────────────────────────┼─────────────────┤\n",
              "│ dense_343 (\u001b[38;5;33mDense\u001b[0m)                    │ (\u001b[38;5;45mNone\u001b[0m, \u001b[38;5;34m3\u001b[0m)                   │              \u001b[38;5;34m24\u001b[0m │\n",
              "└──────────────────────────────────────┴─────────────────────────────┴─────────────────┘\n"
            ],
            "text/html": [
              "<pre style=\"white-space:pre;overflow-x:auto;line-height:normal;font-family:Menlo,'DejaVu Sans Mono',consolas,'Courier New',monospace\">┏━━━━━━━━━━━━━━━━━━━━━━━━━━━━━━━━━━━━━━┳━━━━━━━━━━━━━━━━━━━━━━━━━━━━━┳━━━━━━━━━━━━━━━━━┓\n",
              "┃<span style=\"font-weight: bold\"> Layer (type)                         </span>┃<span style=\"font-weight: bold\"> Output Shape                </span>┃<span style=\"font-weight: bold\">         Param # </span>┃\n",
              "┡━━━━━━━━━━━━━━━━━━━━━━━━━━━━━━━━━━━━━━╇━━━━━━━━━━━━━━━━━━━━━━━━━━━━━╇━━━━━━━━━━━━━━━━━┩\n",
              "│ input_layer_93 (<span style=\"color: #0087ff; text-decoration-color: #0087ff\">InputLayer</span>)          │ (<span style=\"color: #00d7ff; text-decoration-color: #00d7ff\">None</span>, <span style=\"color: #00af00; text-decoration-color: #00af00\">7</span>)                   │               <span style=\"color: #00af00; text-decoration-color: #00af00\">0</span> │\n",
              "├──────────────────────────────────────┼─────────────────────────────┼─────────────────┤\n",
              "│ dense_337 (<span style=\"color: #0087ff; text-decoration-color: #0087ff\">Dense</span>)                    │ (<span style=\"color: #00d7ff; text-decoration-color: #00d7ff\">None</span>, <span style=\"color: #00af00; text-decoration-color: #00af00\">7</span>)                   │              <span style=\"color: #00af00; text-decoration-color: #00af00\">56</span> │\n",
              "├──────────────────────────────────────┼─────────────────────────────┼─────────────────┤\n",
              "│ dense_338 (<span style=\"color: #0087ff; text-decoration-color: #0087ff\">Dense</span>)                    │ (<span style=\"color: #00d7ff; text-decoration-color: #00d7ff\">None</span>, <span style=\"color: #00af00; text-decoration-color: #00af00\">7</span>)                   │              <span style=\"color: #00af00; text-decoration-color: #00af00\">56</span> │\n",
              "├──────────────────────────────────────┼─────────────────────────────┼─────────────────┤\n",
              "│ dense_339 (<span style=\"color: #0087ff; text-decoration-color: #0087ff\">Dense</span>)                    │ (<span style=\"color: #00d7ff; text-decoration-color: #00d7ff\">None</span>, <span style=\"color: #00af00; text-decoration-color: #00af00\">7</span>)                   │              <span style=\"color: #00af00; text-decoration-color: #00af00\">56</span> │\n",
              "├──────────────────────────────────────┼─────────────────────────────┼─────────────────┤\n",
              "│ dense_340 (<span style=\"color: #0087ff; text-decoration-color: #0087ff\">Dense</span>)                    │ (<span style=\"color: #00d7ff; text-decoration-color: #00d7ff\">None</span>, <span style=\"color: #00af00; text-decoration-color: #00af00\">7</span>)                   │              <span style=\"color: #00af00; text-decoration-color: #00af00\">56</span> │\n",
              "├──────────────────────────────────────┼─────────────────────────────┼─────────────────┤\n",
              "│ dense_341 (<span style=\"color: #0087ff; text-decoration-color: #0087ff\">Dense</span>)                    │ (<span style=\"color: #00d7ff; text-decoration-color: #00d7ff\">None</span>, <span style=\"color: #00af00; text-decoration-color: #00af00\">7</span>)                   │              <span style=\"color: #00af00; text-decoration-color: #00af00\">56</span> │\n",
              "├──────────────────────────────────────┼─────────────────────────────┼─────────────────┤\n",
              "│ dense_342 (<span style=\"color: #0087ff; text-decoration-color: #0087ff\">Dense</span>)                    │ (<span style=\"color: #00d7ff; text-decoration-color: #00d7ff\">None</span>, <span style=\"color: #00af00; text-decoration-color: #00af00\">7</span>)                   │              <span style=\"color: #00af00; text-decoration-color: #00af00\">56</span> │\n",
              "├──────────────────────────────────────┼─────────────────────────────┼─────────────────┤\n",
              "│ dense_343 (<span style=\"color: #0087ff; text-decoration-color: #0087ff\">Dense</span>)                    │ (<span style=\"color: #00d7ff; text-decoration-color: #00d7ff\">None</span>, <span style=\"color: #00af00; text-decoration-color: #00af00\">3</span>)                   │              <span style=\"color: #00af00; text-decoration-color: #00af00\">24</span> │\n",
              "└──────────────────────────────────────┴─────────────────────────────┴─────────────────┘\n",
              "</pre>\n"
            ]
          },
          "metadata": {}
        },
        {
          "output_type": "display_data",
          "data": {
            "text/plain": [
              "\u001b[1m Total params: \u001b[0m\u001b[38;5;34m360\u001b[0m (1.41 KB)\n"
            ],
            "text/html": [
              "<pre style=\"white-space:pre;overflow-x:auto;line-height:normal;font-family:Menlo,'DejaVu Sans Mono',consolas,'Courier New',monospace\"><span style=\"font-weight: bold\"> Total params: </span><span style=\"color: #00af00; text-decoration-color: #00af00\">360</span> (1.41 KB)\n",
              "</pre>\n"
            ]
          },
          "metadata": {}
        },
        {
          "output_type": "display_data",
          "data": {
            "text/plain": [
              "\u001b[1m Trainable params: \u001b[0m\u001b[38;5;34m360\u001b[0m (1.41 KB)\n"
            ],
            "text/html": [
              "<pre style=\"white-space:pre;overflow-x:auto;line-height:normal;font-family:Menlo,'DejaVu Sans Mono',consolas,'Courier New',monospace\"><span style=\"font-weight: bold\"> Trainable params: </span><span style=\"color: #00af00; text-decoration-color: #00af00\">360</span> (1.41 KB)\n",
              "</pre>\n"
            ]
          },
          "metadata": {}
        },
        {
          "output_type": "display_data",
          "data": {
            "text/plain": [
              "\u001b[1m Non-trainable params: \u001b[0m\u001b[38;5;34m0\u001b[0m (0.00 B)\n"
            ],
            "text/html": [
              "<pre style=\"white-space:pre;overflow-x:auto;line-height:normal;font-family:Menlo,'DejaVu Sans Mono',consolas,'Courier New',monospace\"><span style=\"font-weight: bold\"> Non-trainable params: </span><span style=\"color: #00af00; text-decoration-color: #00af00\">0</span> (0.00 B)\n",
              "</pre>\n"
            ]
          },
          "metadata": {}
        },
        {
          "output_type": "display_data",
          "data": {
            "text/plain": [
              "\u001b[1mModel: \"functional_93\"\u001b[0m\n"
            ],
            "text/html": [
              "<pre style=\"white-space:pre;overflow-x:auto;line-height:normal;font-family:Menlo,'DejaVu Sans Mono',consolas,'Courier New',monospace\"><span style=\"font-weight: bold\">Model: \"functional_93\"</span>\n",
              "</pre>\n"
            ]
          },
          "metadata": {}
        },
        {
          "output_type": "stream",
          "name": "stdout",
          "text": [
            "Test 2_1_7\n"
          ]
        },
        {
          "output_type": "display_data",
          "data": {
            "text/plain": [
              "┏━━━━━━━━━━━━━━━━━━━━━━━━━━━━━━━━━━━━━━┳━━━━━━━━━━━━━━━━━━━━━━━━━━━━━┳━━━━━━━━━━━━━━━━━┓\n",
              "┃\u001b[1m \u001b[0m\u001b[1mLayer (type)                        \u001b[0m\u001b[1m \u001b[0m┃\u001b[1m \u001b[0m\u001b[1mOutput Shape               \u001b[0m\u001b[1m \u001b[0m┃\u001b[1m \u001b[0m\u001b[1m        Param #\u001b[0m\u001b[1m \u001b[0m┃\n",
              "┡━━━━━━━━━━━━━━━━━━━━━━━━━━━━━━━━━━━━━━╇━━━━━━━━━━━━━━━━━━━━━━━━━━━━━╇━━━━━━━━━━━━━━━━━┩\n",
              "│ input_layer_94 (\u001b[38;5;33mInputLayer\u001b[0m)          │ (\u001b[38;5;45mNone\u001b[0m, \u001b[38;5;34m7\u001b[0m)                   │               \u001b[38;5;34m0\u001b[0m │\n",
              "├──────────────────────────────────────┼─────────────────────────────┼─────────────────┤\n",
              "│ dense_344 (\u001b[38;5;33mDense\u001b[0m)                    │ (\u001b[38;5;45mNone\u001b[0m, \u001b[38;5;34m7\u001b[0m)                   │              \u001b[38;5;34m56\u001b[0m │\n",
              "├──────────────────────────────────────┼─────────────────────────────┼─────────────────┤\n",
              "│ dense_345 (\u001b[38;5;33mDense\u001b[0m)                    │ (\u001b[38;5;45mNone\u001b[0m, \u001b[38;5;34m7\u001b[0m)                   │              \u001b[38;5;34m56\u001b[0m │\n",
              "├──────────────────────────────────────┼─────────────────────────────┼─────────────────┤\n",
              "│ dense_346 (\u001b[38;5;33mDense\u001b[0m)                    │ (\u001b[38;5;45mNone\u001b[0m, \u001b[38;5;34m7\u001b[0m)                   │              \u001b[38;5;34m56\u001b[0m │\n",
              "├──────────────────────────────────────┼─────────────────────────────┼─────────────────┤\n",
              "│ dense_347 (\u001b[38;5;33mDense\u001b[0m)                    │ (\u001b[38;5;45mNone\u001b[0m, \u001b[38;5;34m7\u001b[0m)                   │              \u001b[38;5;34m56\u001b[0m │\n",
              "├──────────────────────────────────────┼─────────────────────────────┼─────────────────┤\n",
              "│ dense_348 (\u001b[38;5;33mDense\u001b[0m)                    │ (\u001b[38;5;45mNone\u001b[0m, \u001b[38;5;34m7\u001b[0m)                   │              \u001b[38;5;34m56\u001b[0m │\n",
              "├──────────────────────────────────────┼─────────────────────────────┼─────────────────┤\n",
              "│ dense_349 (\u001b[38;5;33mDense\u001b[0m)                    │ (\u001b[38;5;45mNone\u001b[0m, \u001b[38;5;34m7\u001b[0m)                   │              \u001b[38;5;34m56\u001b[0m │\n",
              "├──────────────────────────────────────┼─────────────────────────────┼─────────────────┤\n",
              "│ dense_350 (\u001b[38;5;33mDense\u001b[0m)                    │ (\u001b[38;5;45mNone\u001b[0m, \u001b[38;5;34m3\u001b[0m)                   │              \u001b[38;5;34m24\u001b[0m │\n",
              "└──────────────────────────────────────┴─────────────────────────────┴─────────────────┘\n"
            ],
            "text/html": [
              "<pre style=\"white-space:pre;overflow-x:auto;line-height:normal;font-family:Menlo,'DejaVu Sans Mono',consolas,'Courier New',monospace\">┏━━━━━━━━━━━━━━━━━━━━━━━━━━━━━━━━━━━━━━┳━━━━━━━━━━━━━━━━━━━━━━━━━━━━━┳━━━━━━━━━━━━━━━━━┓\n",
              "┃<span style=\"font-weight: bold\"> Layer (type)                         </span>┃<span style=\"font-weight: bold\"> Output Shape                </span>┃<span style=\"font-weight: bold\">         Param # </span>┃\n",
              "┡━━━━━━━━━━━━━━━━━━━━━━━━━━━━━━━━━━━━━━╇━━━━━━━━━━━━━━━━━━━━━━━━━━━━━╇━━━━━━━━━━━━━━━━━┩\n",
              "│ input_layer_94 (<span style=\"color: #0087ff; text-decoration-color: #0087ff\">InputLayer</span>)          │ (<span style=\"color: #00d7ff; text-decoration-color: #00d7ff\">None</span>, <span style=\"color: #00af00; text-decoration-color: #00af00\">7</span>)                   │               <span style=\"color: #00af00; text-decoration-color: #00af00\">0</span> │\n",
              "├──────────────────────────────────────┼─────────────────────────────┼─────────────────┤\n",
              "│ dense_344 (<span style=\"color: #0087ff; text-decoration-color: #0087ff\">Dense</span>)                    │ (<span style=\"color: #00d7ff; text-decoration-color: #00d7ff\">None</span>, <span style=\"color: #00af00; text-decoration-color: #00af00\">7</span>)                   │              <span style=\"color: #00af00; text-decoration-color: #00af00\">56</span> │\n",
              "├──────────────────────────────────────┼─────────────────────────────┼─────────────────┤\n",
              "│ dense_345 (<span style=\"color: #0087ff; text-decoration-color: #0087ff\">Dense</span>)                    │ (<span style=\"color: #00d7ff; text-decoration-color: #00d7ff\">None</span>, <span style=\"color: #00af00; text-decoration-color: #00af00\">7</span>)                   │              <span style=\"color: #00af00; text-decoration-color: #00af00\">56</span> │\n",
              "├──────────────────────────────────────┼─────────────────────────────┼─────────────────┤\n",
              "│ dense_346 (<span style=\"color: #0087ff; text-decoration-color: #0087ff\">Dense</span>)                    │ (<span style=\"color: #00d7ff; text-decoration-color: #00d7ff\">None</span>, <span style=\"color: #00af00; text-decoration-color: #00af00\">7</span>)                   │              <span style=\"color: #00af00; text-decoration-color: #00af00\">56</span> │\n",
              "├──────────────────────────────────────┼─────────────────────────────┼─────────────────┤\n",
              "│ dense_347 (<span style=\"color: #0087ff; text-decoration-color: #0087ff\">Dense</span>)                    │ (<span style=\"color: #00d7ff; text-decoration-color: #00d7ff\">None</span>, <span style=\"color: #00af00; text-decoration-color: #00af00\">7</span>)                   │              <span style=\"color: #00af00; text-decoration-color: #00af00\">56</span> │\n",
              "├──────────────────────────────────────┼─────────────────────────────┼─────────────────┤\n",
              "│ dense_348 (<span style=\"color: #0087ff; text-decoration-color: #0087ff\">Dense</span>)                    │ (<span style=\"color: #00d7ff; text-decoration-color: #00d7ff\">None</span>, <span style=\"color: #00af00; text-decoration-color: #00af00\">7</span>)                   │              <span style=\"color: #00af00; text-decoration-color: #00af00\">56</span> │\n",
              "├──────────────────────────────────────┼─────────────────────────────┼─────────────────┤\n",
              "│ dense_349 (<span style=\"color: #0087ff; text-decoration-color: #0087ff\">Dense</span>)                    │ (<span style=\"color: #00d7ff; text-decoration-color: #00d7ff\">None</span>, <span style=\"color: #00af00; text-decoration-color: #00af00\">7</span>)                   │              <span style=\"color: #00af00; text-decoration-color: #00af00\">56</span> │\n",
              "├──────────────────────────────────────┼─────────────────────────────┼─────────────────┤\n",
              "│ dense_350 (<span style=\"color: #0087ff; text-decoration-color: #0087ff\">Dense</span>)                    │ (<span style=\"color: #00d7ff; text-decoration-color: #00d7ff\">None</span>, <span style=\"color: #00af00; text-decoration-color: #00af00\">3</span>)                   │              <span style=\"color: #00af00; text-decoration-color: #00af00\">24</span> │\n",
              "└──────────────────────────────────────┴─────────────────────────────┴─────────────────┘\n",
              "</pre>\n"
            ]
          },
          "metadata": {}
        },
        {
          "output_type": "display_data",
          "data": {
            "text/plain": [
              "\u001b[1m Total params: \u001b[0m\u001b[38;5;34m360\u001b[0m (1.41 KB)\n"
            ],
            "text/html": [
              "<pre style=\"white-space:pre;overflow-x:auto;line-height:normal;font-family:Menlo,'DejaVu Sans Mono',consolas,'Courier New',monospace\"><span style=\"font-weight: bold\"> Total params: </span><span style=\"color: #00af00; text-decoration-color: #00af00\">360</span> (1.41 KB)\n",
              "</pre>\n"
            ]
          },
          "metadata": {}
        },
        {
          "output_type": "display_data",
          "data": {
            "text/plain": [
              "\u001b[1m Trainable params: \u001b[0m\u001b[38;5;34m360\u001b[0m (1.41 KB)\n"
            ],
            "text/html": [
              "<pre style=\"white-space:pre;overflow-x:auto;line-height:normal;font-family:Menlo,'DejaVu Sans Mono',consolas,'Courier New',monospace\"><span style=\"font-weight: bold\"> Trainable params: </span><span style=\"color: #00af00; text-decoration-color: #00af00\">360</span> (1.41 KB)\n",
              "</pre>\n"
            ]
          },
          "metadata": {}
        },
        {
          "output_type": "display_data",
          "data": {
            "text/plain": [
              "\u001b[1m Non-trainable params: \u001b[0m\u001b[38;5;34m0\u001b[0m (0.00 B)\n"
            ],
            "text/html": [
              "<pre style=\"white-space:pre;overflow-x:auto;line-height:normal;font-family:Menlo,'DejaVu Sans Mono',consolas,'Courier New',monospace\"><span style=\"font-weight: bold\"> Non-trainable params: </span><span style=\"color: #00af00; text-decoration-color: #00af00\">0</span> (0.00 B)\n",
              "</pre>\n"
            ]
          },
          "metadata": {}
        },
        {
          "output_type": "display_data",
          "data": {
            "text/plain": [
              "<IPython.core.display.HTML object>"
            ],
            "text/html": [
              "<h4>Test Run correctly</h4>"
            ]
          },
          "metadata": {}
        },
        {
          "output_type": "display_data",
          "data": {
            "text/plain": [
              "<IPython.core.display.HTML object>"
            ],
            "text/html": [
              "<h6 style=\"color: green;\">Your test grade: 100</h6>\n",
              "<h6>Feedback: Probando código ejemplo.</h6>"
            ]
          },
          "metadata": {}
        }
      ],
      "source": [
        "grader.run_test(\"Test 2_1_7\", globals())"
      ]
    },
    {
      "cell_type": "markdown",
      "id": "JW1-6Cn2A4A3",
      "metadata": {
        "id": "JW1-6Cn2A4A3"
      },
      "source": [
        "## **2.2 Compilación y entrenamiento**\n",
        "---\n",
        "\n",
        "Vamos a usar las funciones que definió anteriormente para compilar y definir callbacks.\n",
        "\n",
        "Complete la función `train_regressor` que recibe un modelo, y los parámetros necesarios para compilarlo y entrenarlo, y devuelve un objeto tipo `History` junto con el modelo entrenado.\n",
        "\n",
        "**Entrada**:\n",
        "\n",
        "* **model**: un modelo de Keras.\n",
        "* **filepath**: un `str` de la dirección para guardar el modelo y/o los pesos.\n",
        "* **X_train**: Los datos de entrenamiento.\n",
        "* **y_train**: Las etiquetas de los datos de entrenamiento.\n",
        "* **epochs**: el número máximo de epochs para entrenar.\n",
        "* **batch_size**: el tamaño del *batch* que se usa en cada iteración de entrenamiento.\n",
        "* **learning_rate**: la tasa de aprendizaje.\n",
        "* **validation_rate**: el porcentaje (en número de 0 a 1) de datos de entrenamiento que se usarán para validar.\n",
        "\n",
        "**Salida**:\n",
        "* **`history`**: un objeto tipo `History` de tensorflow con la información del entrenamiento del modelo.\n",
        "* **`model`**: el modelo entranado.\n",
        "\n",
        "**Notas Importantes:** la función `train_regressor` por defecto retorna un modelo con las siguientes especificaciones:\n",
        "\n",
        "* La función de ṕerdida debe ser el **Mean Absolute Error o MAE**.\n",
        "\n",
        "* Debe usar un optimizador *Adam*.\n",
        "\n",
        "* Debe estar configurado para monitorear la función de pérdida en validación durante el entrenamiento, con una paciencia de 10 epochs.\n",
        "\n",
        "* Debe reportar la métrica **Mean Absolute Error o MAE**.\n",
        "\n",
        "\n",
        "\n"
      ]
    },
    {
      "cell_type": "code",
      "execution_count": 165,
      "id": "E6jXESE7sRc4",
      "metadata": {
        "id": "E6jXESE7sRc4"
      },
      "outputs": [],
      "source": [
        "# FUNCIÓN CALIFICADA train_regressor:\n",
        "\n",
        "def train_regressor(model, filepath, X_train, y_train, epochs, batch_size,\n",
        "                    learning_rate, validation_rate):\n",
        "    # Compilar el modelo con MAE como función de pérdida y optimizador Adam\n",
        "    model = compile_model(\n",
        "        model,\n",
        "        loss=tf.keras.losses.MeanAbsoluteError(),  # Función de pérdida MAE\n",
        "        optimizer=tf.keras.optimizers.Adam(learning_rate=learning_rate),  # Optimizador Adam\n",
        "        metrics=['mae']  # Monitorear MAE como métrica\n",
        "    )\n",
        "    # Definir callbacks para guardar el mejor modelo y early stopping\n",
        "    callbacks = define_callbacks(filepath, 'val_loss', 'min', patience=10)\n",
        "\n",
        "    # Entrenar el modelo\n",
        "    history = model.fit(\n",
        "        X_train,              # Datos de entrada para entrenamiento\n",
        "        y_train,              # Etiquetas para entrenamiento\n",
        "        epochs=epochs,        # Número máximo de epochs\n",
        "        batch_size=batch_size, # Tamaño del batch\n",
        "        validation_split=validation_rate,  # Porcentaje de datos para validación\n",
        "        callbacks=callbacks    # Callbacks configurados\n",
        "    )\n",
        "\n",
        "    return history, model"
      ]
    },
    {
      "cell_type": "markdown",
      "id": "m5EtBAik5SzL",
      "metadata": {
        "id": "m5EtBAik5SzL"
      },
      "source": [
        "En la siguiente celda, usaremos su código para entrenar el modelo durante máximo 50 epochs, usando un tamaño de _batch_ de 64, una tasa de aprendizaje de 0.05, y reservando el 20% del conjunto de entrenamiento para validación:"
      ]
    },
    {
      "cell_type": "code",
      "execution_count": 166,
      "id": "qkspb7o2dfVw",
      "metadata": {
        "id": "qkspb7o2dfVw"
      },
      "outputs": [],
      "source": [
        "#TEST CELL prev\n",
        "test_model_2 = define_regressor(10, 2, 8, 1)"
      ]
    },
    {
      "cell_type": "code",
      "execution_count": 167,
      "id": "-l5YzNNzC-j3",
      "metadata": {
        "id": "-l5YzNNzC-j3",
        "colab": {
          "base_uri": "https://localhost:8080/",
          "height": 1000
        },
        "outputId": "78855552-bf4c-4f4d-fb0f-19f0b26676d4"
      },
      "outputs": [
        {
          "output_type": "stream",
          "name": "stdout",
          "text": [
            "Epoch 1/50\n",
            "\u001b[1m4/4\u001b[0m \u001b[32m━━━━━━━━━━━━━━━━━━━━\u001b[0m\u001b[37m\u001b[0m \u001b[1m0s\u001b[0m 305ms/step - loss: 149.7292 - mae: 149.7292\n",
            "Epoch 1: val_loss improved from inf to 162.67799, saving model to best_regressor.weights.h5\n",
            "\u001b[1m4/4\u001b[0m \u001b[32m━━━━━━━━━━━━━━━━━━━━\u001b[0m\u001b[37m\u001b[0m \u001b[1m2s\u001b[0m 515ms/step - loss: 149.7141 - mae: 149.7141 - val_loss: 162.6780 - val_mae: 162.6780\n",
            "Epoch 2/50\n",
            "\u001b[1m4/4\u001b[0m \u001b[32m━━━━━━━━━━━━━━━━━━━━\u001b[0m\u001b[37m\u001b[0m \u001b[1m0s\u001b[0m 96ms/step - loss: 148.1492 - mae: 148.1492 \n",
            "Epoch 2: val_loss improved from 162.67799 to 159.36980, saving model to best_regressor.weights.h5\n",
            "\u001b[1m4/4\u001b[0m \u001b[32m━━━━━━━━━━━━━━━━━━━━\u001b[0m\u001b[37m\u001b[0m \u001b[1m1s\u001b[0m 139ms/step - loss: 148.0667 - mae: 148.0667 - val_loss: 159.3698 - val_mae: 159.3698\n",
            "Epoch 3/50\n",
            "\u001b[1m4/4\u001b[0m \u001b[32m━━━━━━━━━━━━━━━━━━━━\u001b[0m\u001b[37m\u001b[0m \u001b[1m0s\u001b[0m 154ms/step - loss: 144.3042 - mae: 144.3042\n",
            "Epoch 3: val_loss improved from 159.36980 to 152.64738, saving model to best_regressor.weights.h5\n",
            "\u001b[1m4/4\u001b[0m \u001b[32m━━━━━━━━━━━━━━━━━━━━\u001b[0m\u001b[37m\u001b[0m \u001b[1m1s\u001b[0m 254ms/step - loss: 144.1050 - mae: 144.1050 - val_loss: 152.6474 - val_mae: 152.6474\n",
            "Epoch 4/50\n",
            "\u001b[1m4/4\u001b[0m \u001b[32m━━━━━━━━━━━━━━━━━━━━\u001b[0m\u001b[37m\u001b[0m \u001b[1m0s\u001b[0m 153ms/step - loss: 136.7272 - mae: 136.7272\n",
            "Epoch 4: val_loss improved from 152.64738 to 140.61748, saving model to best_regressor.weights.h5\n",
            "\u001b[1m4/4\u001b[0m \u001b[32m━━━━━━━━━━━━━━━━━━━━\u001b[0m\u001b[37m\u001b[0m \u001b[1m1s\u001b[0m 215ms/step - loss: 136.3421 - mae: 136.3421 - val_loss: 140.6175 - val_mae: 140.6175\n",
            "Epoch 5/50\n",
            "\u001b[1m4/4\u001b[0m \u001b[32m━━━━━━━━━━━━━━━━━━━━\u001b[0m\u001b[37m\u001b[0m \u001b[1m0s\u001b[0m 151ms/step - loss: 123.4211 - mae: 123.4211\n",
            "Epoch 5: val_loss improved from 140.61748 to 120.81393, saving model to best_regressor.weights.h5\n",
            "\u001b[1m4/4\u001b[0m \u001b[32m━━━━━━━━━━━━━━━━━━━━\u001b[0m\u001b[37m\u001b[0m \u001b[1m1s\u001b[0m 211ms/step - loss: 122.7582 - mae: 122.7582 - val_loss: 120.8139 - val_mae: 120.8139\n",
            "Epoch 6/50\n",
            "\u001b[1m4/4\u001b[0m \u001b[32m━━━━━━━━━━━━━━━━━━━━\u001b[0m\u001b[37m\u001b[0m \u001b[1m0s\u001b[0m 146ms/step - loss: 102.3525 - mae: 102.3525\n",
            "Epoch 6: val_loss improved from 120.81393 to 95.25583, saving model to best_regressor.weights.h5\n",
            "\u001b[1m4/4\u001b[0m \u001b[32m━━━━━━━━━━━━━━━━━━━━\u001b[0m\u001b[37m\u001b[0m \u001b[1m1s\u001b[0m 248ms/step - loss: 101.3454 - mae: 101.3454 - val_loss: 95.2558 - val_mae: 95.2558\n",
            "Epoch 7/50\n",
            "\u001b[1m4/4\u001b[0m \u001b[32m━━━━━━━━━━━━━━━━━━━━\u001b[0m\u001b[37m\u001b[0m \u001b[1m0s\u001b[0m 108ms/step - loss: 77.4644 - mae: 77.4644\n",
            "Epoch 7: val_loss improved from 95.25583 to 74.45323, saving model to best_regressor.weights.h5\n",
            "\u001b[1m4/4\u001b[0m \u001b[32m━━━━━━━━━━━━━━━━━━━━\u001b[0m\u001b[37m\u001b[0m \u001b[1m1s\u001b[0m 184ms/step - loss: 76.4537 - mae: 76.4537 - val_loss: 74.4532 - val_mae: 74.4532\n",
            "Epoch 8/50\n",
            "\u001b[1m4/4\u001b[0m \u001b[32m━━━━━━━━━━━━━━━━━━━━\u001b[0m\u001b[37m\u001b[0m \u001b[1m0s\u001b[0m 211ms/step - loss: 61.3215 - mae: 61.3215\n",
            "Epoch 8: val_loss improved from 74.45323 to 63.86236, saving model to best_regressor.weights.h5\n",
            "\u001b[1m4/4\u001b[0m \u001b[32m━━━━━━━━━━━━━━━━━━━━\u001b[0m\u001b[37m\u001b[0m \u001b[1m2s\u001b[0m 344ms/step - loss: 60.9781 - mae: 60.9781 - val_loss: 63.8624 - val_mae: 63.8624\n",
            "Epoch 9/50\n",
            "\u001b[1m4/4\u001b[0m \u001b[32m━━━━━━━━━━━━━━━━━━━━\u001b[0m\u001b[37m\u001b[0m \u001b[1m0s\u001b[0m 235ms/step - loss: 62.3245 - mae: 62.3245\n",
            "Epoch 9: val_loss did not improve from 63.86236\n",
            "\u001b[1m4/4\u001b[0m \u001b[32m━━━━━━━━━━━━━━━━━━━━\u001b[0m\u001b[37m\u001b[0m \u001b[1m2s\u001b[0m 329ms/step - loss: 62.3687 - mae: 62.3687 - val_loss: 64.5326 - val_mae: 64.5326\n",
            "Epoch 10/50\n",
            "\u001b[1m4/4\u001b[0m \u001b[32m━━━━━━━━━━━━━━━━━━━━\u001b[0m\u001b[37m\u001b[0m \u001b[1m0s\u001b[0m 371ms/step - loss: 63.8360 - mae: 63.8360\n",
            "Epoch 10: val_loss improved from 63.86236 to 60.92392, saving model to best_regressor.weights.h5\n",
            "\u001b[1m4/4\u001b[0m \u001b[32m━━━━━━━━━━━━━━━━━━━━\u001b[0m\u001b[37m\u001b[0m \u001b[1m2s\u001b[0m 515ms/step - loss: 63.5398 - mae: 63.5398 - val_loss: 60.9239 - val_mae: 60.9239\n",
            "Epoch 11/50\n",
            "\u001b[1m4/4\u001b[0m \u001b[32m━━━━━━━━━━━━━━━━━━━━\u001b[0m\u001b[37m\u001b[0m \u001b[1m0s\u001b[0m 245ms/step - loss: 57.8309 - mae: 57.8309\n",
            "Epoch 11: val_loss improved from 60.92392 to 60.79733, saving model to best_regressor.weights.h5\n",
            "\u001b[1m4/4\u001b[0m \u001b[32m━━━━━━━━━━━━━━━━━━━━\u001b[0m\u001b[37m\u001b[0m \u001b[1m2s\u001b[0m 365ms/step - loss: 57.4050 - mae: 57.4050 - val_loss: 60.7973 - val_mae: 60.7973\n",
            "Epoch 12/50\n",
            "\u001b[1m4/4\u001b[0m \u001b[32m━━━━━━━━━━━━━━━━━━━━\u001b[0m\u001b[37m\u001b[0m \u001b[1m0s\u001b[0m 125ms/step - loss: 54.3528 - mae: 54.3528\n",
            "Epoch 12: val_loss did not improve from 60.79733\n",
            "\u001b[1m4/4\u001b[0m \u001b[32m━━━━━━━━━━━━━━━━━━━━\u001b[0m\u001b[37m\u001b[0m \u001b[1m1s\u001b[0m 159ms/step - loss: 53.9954 - mae: 53.9954 - val_loss: 64.5626 - val_mae: 64.5626\n",
            "Epoch 13/50\n",
            "\u001b[1m4/4\u001b[0m \u001b[32m━━━━━━━━━━━━━━━━━━━━\u001b[0m\u001b[37m\u001b[0m \u001b[1m0s\u001b[0m 134ms/step - loss: 53.7632 - mae: 53.7632\n",
            "Epoch 13: val_loss did not improve from 60.79733\n",
            "\u001b[1m4/4\u001b[0m \u001b[32m━━━━━━━━━━━━━━━━━━━━\u001b[0m\u001b[37m\u001b[0m \u001b[1m1s\u001b[0m 171ms/step - loss: 53.4154 - mae: 53.4154 - val_loss: 65.5839 - val_mae: 65.5839\n",
            "Epoch 14/50\n",
            "\u001b[1m4/4\u001b[0m \u001b[32m━━━━━━━━━━━━━━━━━━━━\u001b[0m\u001b[37m\u001b[0m \u001b[1m0s\u001b[0m 121ms/step - loss: 53.1019 - mae: 53.1019\n",
            "Epoch 14: val_loss did not improve from 60.79733\n",
            "\u001b[1m4/4\u001b[0m \u001b[32m━━━━━━━━━━━━━━━━━━━━\u001b[0m\u001b[37m\u001b[0m \u001b[1m1s\u001b[0m 155ms/step - loss: 52.6686 - mae: 52.6686 - val_loss: 62.1879 - val_mae: 62.1879\n",
            "Epoch 15/50\n",
            "\u001b[1m4/4\u001b[0m \u001b[32m━━━━━━━━━━━━━━━━━━━━\u001b[0m\u001b[37m\u001b[0m \u001b[1m0s\u001b[0m 162ms/step - loss: 51.2511 - mae: 51.2511\n",
            "Epoch 15: val_loss improved from 60.79733 to 57.27717, saving model to best_regressor.weights.h5\n",
            "\u001b[1m4/4\u001b[0m \u001b[32m━━━━━━━━━━━━━━━━━━━━\u001b[0m\u001b[37m\u001b[0m \u001b[1m1s\u001b[0m 236ms/step - loss: 50.7909 - mae: 50.7909 - val_loss: 57.2772 - val_mae: 57.2772\n",
            "Epoch 16/50\n",
            "\u001b[1m4/4\u001b[0m \u001b[32m━━━━━━━━━━━━━━━━━━━━\u001b[0m\u001b[37m\u001b[0m \u001b[1m0s\u001b[0m 157ms/step - loss: 50.3468 - mae: 50.3468\n",
            "Epoch 16: val_loss improved from 57.27717 to 54.40543, saving model to best_regressor.weights.h5\n",
            "\u001b[1m4/4\u001b[0m \u001b[32m━━━━━━━━━━━━━━━━━━━━\u001b[0m\u001b[37m\u001b[0m \u001b[1m1s\u001b[0m 206ms/step - loss: 49.8937 - mae: 49.8937 - val_loss: 54.4054 - val_mae: 54.4054\n",
            "Epoch 17/50\n",
            "\u001b[1m4/4\u001b[0m \u001b[32m━━━━━━━━━━━━━━━━━━━━\u001b[0m\u001b[37m\u001b[0m \u001b[1m0s\u001b[0m 166ms/step - loss: 49.9538 - mae: 49.9538\n",
            "Epoch 17: val_loss improved from 54.40543 to 53.52409, saving model to best_regressor.weights.h5\n",
            "\u001b[1m4/4\u001b[0m \u001b[32m━━━━━━━━━━━━━━━━━━━━\u001b[0m\u001b[37m\u001b[0m \u001b[1m1s\u001b[0m 220ms/step - loss: 49.4874 - mae: 49.4874 - val_loss: 53.5241 - val_mae: 53.5241\n",
            "Epoch 18/50\n",
            "\u001b[1m4/4\u001b[0m \u001b[32m━━━━━━━━━━━━━━━━━━━━\u001b[0m\u001b[37m\u001b[0m \u001b[1m0s\u001b[0m 166ms/step - loss: 49.2058 - mae: 49.2058\n",
            "Epoch 18: val_loss did not improve from 53.52409\n",
            "\u001b[1m4/4\u001b[0m \u001b[32m━━━━━━━━━━━━━━━━━━━━\u001b[0m\u001b[37m\u001b[0m \u001b[1m1s\u001b[0m 223ms/step - loss: 48.7134 - mae: 48.7134 - val_loss: 53.9191 - val_mae: 53.9191\n",
            "Epoch 19/50\n",
            "\u001b[1m3/4\u001b[0m \u001b[32m━━━━━━━━━━━━━━━\u001b[0m\u001b[37m━━━━━\u001b[0m \u001b[1m0s\u001b[0m 41ms/step - loss: 49.0768 - mae: 49.0768 \n",
            "Epoch 19: val_loss did not improve from 53.52409\n",
            "\u001b[1m4/4\u001b[0m \u001b[32m━━━━━━━━━━━━━━━━━━━━\u001b[0m\u001b[37m\u001b[0m \u001b[1m1s\u001b[0m 54ms/step - loss: 47.7778 - mae: 47.7778 - val_loss: 54.5207 - val_mae: 54.5207\n",
            "Epoch 20/50\n",
            "\u001b[1m4/4\u001b[0m \u001b[32m━━━━━━━━━━━━━━━━━━━━\u001b[0m\u001b[37m\u001b[0m \u001b[1m0s\u001b[0m 47ms/step - loss: 47.7580 - mae: 47.7580\n",
            "Epoch 20: val_loss did not improve from 53.52409\n",
            "\u001b[1m4/4\u001b[0m \u001b[32m━━━━━━━━━━━━━━━━━━━━\u001b[0m\u001b[37m\u001b[0m \u001b[1m0s\u001b[0m 63ms/step - loss: 47.2666 - mae: 47.2666 - val_loss: 53.8467 - val_mae: 53.8467\n",
            "Epoch 21/50\n",
            "\u001b[1m3/4\u001b[0m \u001b[32m━━━━━━━━━━━━━━━\u001b[0m\u001b[37m━━━━━\u001b[0m \u001b[1m0s\u001b[0m 49ms/step - loss: 47.9269 - mae: 47.9269 \n",
            "Epoch 21: val_loss improved from 53.52409 to 51.98601, saving model to best_regressor.weights.h5\n",
            "\u001b[1m4/4\u001b[0m \u001b[32m━━━━━━━━━━━━━━━━━━━━\u001b[0m\u001b[37m\u001b[0m \u001b[1m0s\u001b[0m 71ms/step - loss: 46.6360 - mae: 46.6360 - val_loss: 51.9860 - val_mae: 51.9860\n",
            "Epoch 22/50\n",
            "\u001b[1m3/4\u001b[0m \u001b[32m━━━━━━━━━━━━━━━\u001b[0m\u001b[37m━━━━━\u001b[0m \u001b[1m0s\u001b[0m 43ms/step - loss: 47.0876 - mae: 47.0876\n",
            "Epoch 22: val_loss improved from 51.98601 to 49.93987, saving model to best_regressor.weights.h5\n",
            "\u001b[1m4/4\u001b[0m \u001b[32m━━━━━━━━━━━━━━━━━━━━\u001b[0m\u001b[37m\u001b[0m \u001b[1m0s\u001b[0m 61ms/step - loss: 45.8806 - mae: 45.8806 - val_loss: 49.9399 - val_mae: 49.9399\n",
            "Epoch 23/50\n",
            "\u001b[1m4/4\u001b[0m \u001b[32m━━━━━━━━━━━━━━━━━━━━\u001b[0m\u001b[37m\u001b[0m \u001b[1m0s\u001b[0m 46ms/step - loss: 45.8783 - mae: 45.8783\n",
            "Epoch 23: val_loss improved from 49.93987 to 49.14960, saving model to best_regressor.weights.h5\n",
            "\u001b[1m4/4\u001b[0m \u001b[32m━━━━━━━━━━━━━━━━━━━━\u001b[0m\u001b[37m\u001b[0m \u001b[1m0s\u001b[0m 72ms/step - loss: 45.4391 - mae: 45.4391 - val_loss: 49.1496 - val_mae: 49.1496\n",
            "Epoch 24/50\n",
            "\u001b[1m3/4\u001b[0m \u001b[32m━━━━━━━━━━━━━━━\u001b[0m\u001b[37m━━━━━\u001b[0m \u001b[1m0s\u001b[0m 39ms/step - loss: 46.0797 - mae: 46.0797\n",
            "Epoch 24: val_loss improved from 49.14960 to 48.80516, saving model to best_regressor.weights.h5\n",
            "\u001b[1m4/4\u001b[0m \u001b[32m━━━━━━━━━━━━━━━━━━━━\u001b[0m\u001b[37m\u001b[0m \u001b[1m0s\u001b[0m 64ms/step - loss: 44.9664 - mae: 44.9664 - val_loss: 48.8052 - val_mae: 48.8052\n",
            "Epoch 25/50\n",
            "\u001b[1m3/4\u001b[0m \u001b[32m━━━━━━━━━━━━━━━\u001b[0m\u001b[37m━━━━━\u001b[0m \u001b[1m0s\u001b[0m 47ms/step - loss: 45.5739 - mae: 45.5739\n",
            "Epoch 25: val_loss did not improve from 48.80516\n",
            "\u001b[1m4/4\u001b[0m \u001b[32m━━━━━━━━━━━━━━━━━━━━\u001b[0m\u001b[37m\u001b[0m \u001b[1m0s\u001b[0m 58ms/step - loss: 44.5184 - mae: 44.5184 - val_loss: 48.8352 - val_mae: 48.8352\n",
            "Epoch 26/50\n",
            "\u001b[1m3/4\u001b[0m \u001b[32m━━━━━━━━━━━━━━━\u001b[0m\u001b[37m━━━━━\u001b[0m \u001b[1m0s\u001b[0m 40ms/step - loss: 45.1894 - mae: 45.1894 \n",
            "Epoch 26: val_loss did not improve from 48.80516\n",
            "\u001b[1m4/4\u001b[0m \u001b[32m━━━━━━━━━━━━━━━━━━━━\u001b[0m\u001b[37m\u001b[0m \u001b[1m0s\u001b[0m 57ms/step - loss: 44.2011 - mae: 44.2011 - val_loss: 48.9124 - val_mae: 48.9124\n",
            "Epoch 27/50\n",
            "\u001b[1m3/4\u001b[0m \u001b[32m━━━━━━━━━━━━━━━\u001b[0m\u001b[37m━━━━━\u001b[0m \u001b[1m0s\u001b[0m 45ms/step - loss: 44.9742 - mae: 44.9742 \n",
            "Epoch 27: val_loss improved from 48.80516 to 48.36305, saving model to best_regressor.weights.h5\n",
            "\u001b[1m4/4\u001b[0m \u001b[32m━━━━━━━━━━━━━━━━━━━━\u001b[0m\u001b[37m\u001b[0m \u001b[1m0s\u001b[0m 67ms/step - loss: 44.0224 - mae: 44.0224 - val_loss: 48.3631 - val_mae: 48.3631\n",
            "Epoch 28/50\n",
            "\u001b[1m4/4\u001b[0m \u001b[32m━━━━━━━━━━━━━━━━━━━━\u001b[0m\u001b[37m\u001b[0m \u001b[1m0s\u001b[0m 48ms/step - loss: 44.2477 - mae: 44.2477\n",
            "Epoch 28: val_loss improved from 48.36305 to 47.84354, saving model to best_regressor.weights.h5\n",
            "\u001b[1m4/4\u001b[0m \u001b[32m━━━━━━━━━━━━━━━━━━━━\u001b[0m\u001b[37m\u001b[0m \u001b[1m0s\u001b[0m 71ms/step - loss: 43.8939 - mae: 43.8939 - val_loss: 47.8435 - val_mae: 47.8435\n",
            "Epoch 29/50\n",
            "\u001b[1m4/4\u001b[0m \u001b[32m━━━━━━━━━━━━━━━━━━━━\u001b[0m\u001b[37m\u001b[0m \u001b[1m0s\u001b[0m 65ms/step - loss: 44.1767 - mae: 44.1767\n",
            "Epoch 29: val_loss improved from 47.84354 to 47.51031, saving model to best_regressor.weights.h5\n",
            "\u001b[1m4/4\u001b[0m \u001b[32m━━━━━━━━━━━━━━━━━━━━\u001b[0m\u001b[37m\u001b[0m \u001b[1m0s\u001b[0m 95ms/step - loss: 43.8243 - mae: 43.8243 - val_loss: 47.5103 - val_mae: 47.5103\n",
            "Epoch 30/50\n",
            "\u001b[1m4/4\u001b[0m \u001b[32m━━━━━━━━━━━━━━━━━━━━\u001b[0m\u001b[37m\u001b[0m \u001b[1m0s\u001b[0m 66ms/step - loss: 44.1266 - mae: 44.1266\n",
            "Epoch 30: val_loss improved from 47.51031 to 47.40320, saving model to best_regressor.weights.h5\n",
            "\u001b[1m4/4\u001b[0m \u001b[32m━━━━━━━━━━━━━━━━━━━━\u001b[0m\u001b[37m\u001b[0m \u001b[1m0s\u001b[0m 95ms/step - loss: 43.7752 - mae: 43.7752 - val_loss: 47.4032 - val_mae: 47.4032\n",
            "Epoch 31/50\n",
            "\u001b[1m4/4\u001b[0m \u001b[32m━━━━━━━━━━━━━━━━━━━━\u001b[0m\u001b[37m\u001b[0m \u001b[1m0s\u001b[0m 59ms/step - loss: 44.0867 - mae: 44.0867\n",
            "Epoch 31: val_loss improved from 47.40320 to 47.21758, saving model to best_regressor.weights.h5\n",
            "\u001b[1m4/4\u001b[0m \u001b[32m━━━━━━━━━━━━━━━━━━━━\u001b[0m\u001b[37m\u001b[0m \u001b[1m1s\u001b[0m 86ms/step - loss: 43.7372 - mae: 43.7372 - val_loss: 47.2176 - val_mae: 47.2176\n",
            "Epoch 32/50\n",
            "\u001b[1m4/4\u001b[0m \u001b[32m━━━━━━━━━━━━━━━━━━━━\u001b[0m\u001b[37m\u001b[0m \u001b[1m0s\u001b[0m 71ms/step - loss: 44.0490 - mae: 44.0490\n",
            "Epoch 32: val_loss did not improve from 47.21758\n",
            "\u001b[1m4/4\u001b[0m \u001b[32m━━━━━━━━━━━━━━━━━━━━\u001b[0m\u001b[37m\u001b[0m \u001b[1m1s\u001b[0m 104ms/step - loss: 43.6994 - mae: 43.6994 - val_loss: 47.2566 - val_mae: 47.2566\n",
            "Epoch 33/50\n",
            "\u001b[1m4/4\u001b[0m \u001b[32m━━━━━━━━━━━━━━━━━━━━\u001b[0m\u001b[37m\u001b[0m \u001b[1m0s\u001b[0m 67ms/step - loss: 44.0227 - mae: 44.0227\n",
            "Epoch 33: val_loss did not improve from 47.21758\n",
            "\u001b[1m4/4\u001b[0m \u001b[32m━━━━━━━━━━━━━━━━━━━━\u001b[0m\u001b[37m\u001b[0m \u001b[1m1s\u001b[0m 100ms/step - loss: 43.6718 - mae: 43.6718 - val_loss: 47.3654 - val_mae: 47.3654\n",
            "Epoch 34/50\n",
            "\u001b[1m4/4\u001b[0m \u001b[32m━━━━━━━━━━━━━━━━━━━━\u001b[0m\u001b[37m\u001b[0m \u001b[1m0s\u001b[0m 70ms/step - loss: 44.0241 - mae: 44.0241\n",
            "Epoch 34: val_loss improved from 47.21758 to 46.95468, saving model to best_regressor.weights.h5\n",
            "\u001b[1m4/4\u001b[0m \u001b[32m━━━━━━━━━━━━━━━━━━━━\u001b[0m\u001b[37m\u001b[0m \u001b[1m0s\u001b[0m 95ms/step - loss: 43.6722 - mae: 43.6722 - val_loss: 46.9547 - val_mae: 46.9547\n",
            "Epoch 35/50\n",
            "\u001b[1m3/4\u001b[0m \u001b[32m━━━━━━━━━━━━━━━\u001b[0m\u001b[37m━━━━━\u001b[0m \u001b[1m0s\u001b[0m 41ms/step - loss: 44.6089 - mae: 44.6089\n",
            "Epoch 35: val_loss did not improve from 46.95468\n",
            "\u001b[1m4/4\u001b[0m \u001b[32m━━━━━━━━━━━━━━━━━━━━\u001b[0m\u001b[37m\u001b[0m \u001b[1m0s\u001b[0m 54ms/step - loss: 43.6660 - mae: 43.6660 - val_loss: 47.1091 - val_mae: 47.1091\n",
            "Epoch 36/50\n",
            "\u001b[1m3/4\u001b[0m \u001b[32m━━━━━━━━━━━━━━━\u001b[0m\u001b[37m━━━━━\u001b[0m \u001b[1m0s\u001b[0m 59ms/step - loss: 44.5927 - mae: 44.5927\n",
            "Epoch 36: val_loss did not improve from 46.95468\n",
            "\u001b[1m4/4\u001b[0m \u001b[32m━━━━━━━━━━━━━━━━━━━━\u001b[0m\u001b[37m\u001b[0m \u001b[1m0s\u001b[0m 68ms/step - loss: 43.6486 - mae: 43.6486 - val_loss: 47.2929 - val_mae: 47.2929\n",
            "Epoch 37/50\n",
            "\u001b[1m3/4\u001b[0m \u001b[32m━━━━━━━━━━━━━━━\u001b[0m\u001b[37m━━━━━\u001b[0m \u001b[1m0s\u001b[0m 41ms/step - loss: 44.5579 - mae: 44.5579\n",
            "Epoch 37: val_loss did not improve from 46.95468\n",
            "\u001b[1m4/4\u001b[0m \u001b[32m━━━━━━━━━━━━━━━━━━━━\u001b[0m\u001b[37m\u001b[0m \u001b[1m0s\u001b[0m 54ms/step - loss: 43.6240 - mae: 43.6240 - val_loss: 46.9930 - val_mae: 46.9930\n",
            "Epoch 38/50\n",
            "\u001b[1m4/4\u001b[0m \u001b[32m━━━━━━━━━━━━━━━━━━━━\u001b[0m\u001b[37m\u001b[0m \u001b[1m0s\u001b[0m 49ms/step - loss: 43.9097 - mae: 43.9097\n",
            "Epoch 38: val_loss did not improve from 46.95468\n",
            "\u001b[1m4/4\u001b[0m \u001b[32m━━━━━━━━━━━━━━━━━━━━\u001b[0m\u001b[37m\u001b[0m \u001b[1m0s\u001b[0m 68ms/step - loss: 43.5625 - mae: 43.5625 - val_loss: 47.0382 - val_mae: 47.0382\n",
            "Epoch 39/50\n",
            "\u001b[1m4/4\u001b[0m \u001b[32m━━━━━━━━━━━━━━━━━━━━\u001b[0m\u001b[37m\u001b[0m \u001b[1m0s\u001b[0m 47ms/step - loss: 43.8767 - mae: 43.8767\n",
            "Epoch 39: val_loss did not improve from 46.95468\n",
            "\u001b[1m4/4\u001b[0m \u001b[32m━━━━━━━━━━━━━━━━━━━━\u001b[0m\u001b[37m\u001b[0m \u001b[1m0s\u001b[0m 64ms/step - loss: 43.5301 - mae: 43.5301 - val_loss: 47.1604 - val_mae: 47.1604\n",
            "Epoch 40/50\n",
            "\u001b[1m4/4\u001b[0m \u001b[32m━━━━━━━━━━━━━━━━━━━━\u001b[0m\u001b[37m\u001b[0m \u001b[1m0s\u001b[0m 44ms/step - loss: 43.8578 - mae: 43.8578\n",
            "Epoch 40: val_loss improved from 46.95468 to 46.66537, saving model to best_regressor.weights.h5\n",
            "\u001b[1m4/4\u001b[0m \u001b[32m━━━━━━━━━━━━━━━━━━━━\u001b[0m\u001b[37m\u001b[0m \u001b[1m0s\u001b[0m 64ms/step - loss: 43.5116 - mae: 43.5116 - val_loss: 46.6654 - val_mae: 46.6654\n",
            "Epoch 41/50\n",
            "\u001b[1m3/4\u001b[0m \u001b[32m━━━━━━━━━━━━━━━\u001b[0m\u001b[37m━━━━━\u001b[0m \u001b[1m0s\u001b[0m 40ms/step - loss: 44.4236 - mae: 44.4236\n",
            "Epoch 41: val_loss did not improve from 46.66537\n",
            "\u001b[1m4/4\u001b[0m \u001b[32m━━━━━━━━━━━━━━━━━━━━\u001b[0m\u001b[37m\u001b[0m \u001b[1m0s\u001b[0m 58ms/step - loss: 43.4842 - mae: 43.4842 - val_loss: 46.9779 - val_mae: 46.9779\n",
            "Epoch 42/50\n",
            "\u001b[1m3/4\u001b[0m \u001b[32m━━━━━━━━━━━━━━━\u001b[0m\u001b[37m━━━━━\u001b[0m \u001b[1m0s\u001b[0m 40ms/step - loss: 44.4270 - mae: 44.4270\n",
            "Epoch 42: val_loss did not improve from 46.66537\n",
            "\u001b[1m4/4\u001b[0m \u001b[32m━━━━━━━━━━━━━━━━━━━━\u001b[0m\u001b[37m\u001b[0m \u001b[1m0s\u001b[0m 56ms/step - loss: 43.4760 - mae: 43.4760 - val_loss: 46.7873 - val_mae: 46.7873\n",
            "Epoch 43/50\n",
            "\u001b[1m3/4\u001b[0m \u001b[32m━━━━━━━━━━━━━━━\u001b[0m\u001b[37m━━━━━\u001b[0m \u001b[1m0s\u001b[0m 55ms/step - loss: 44.3883 - mae: 44.3883\n",
            "Epoch 43: val_loss did not improve from 46.66537\n",
            "\u001b[1m4/4\u001b[0m \u001b[32m━━━━━━━━━━━━━━━━━━━━\u001b[0m\u001b[37m\u001b[0m \u001b[1m0s\u001b[0m 64ms/step - loss: 43.4282 - mae: 43.4282 - val_loss: 46.7421 - val_mae: 46.7421\n",
            "Epoch 44/50\n",
            "\u001b[1m3/4\u001b[0m \u001b[32m━━━━━━━━━━━━━━━\u001b[0m\u001b[37m━━━━━\u001b[0m \u001b[1m0s\u001b[0m 43ms/step - loss: 44.3741 - mae: 44.3741\n",
            "Epoch 44: val_loss did not improve from 46.66537\n",
            "\u001b[1m4/4\u001b[0m \u001b[32m━━━━━━━━━━━━━━━━━━━━\u001b[0m\u001b[37m\u001b[0m \u001b[1m0s\u001b[0m 58ms/step - loss: 43.4020 - mae: 43.4020 - val_loss: 46.7744 - val_mae: 46.7744\n",
            "Epoch 45/50\n",
            "\u001b[1m3/4\u001b[0m \u001b[32m━━━━━━━━━━━━━━━\u001b[0m\u001b[37m━━━━━\u001b[0m \u001b[1m0s\u001b[0m 45ms/step - loss: 44.3466 - mae: 44.3466 \n",
            "Epoch 45: val_loss improved from 46.66537 to 46.39876, saving model to best_regressor.weights.h5\n",
            "\u001b[1m4/4\u001b[0m \u001b[32m━━━━━━━━━━━━━━━━━━━━\u001b[0m\u001b[37m\u001b[0m \u001b[1m0s\u001b[0m 66ms/step - loss: 43.3757 - mae: 43.3757 - val_loss: 46.3988 - val_mae: 46.3988\n",
            "Epoch 46/50\n",
            "\u001b[1m4/4\u001b[0m \u001b[32m━━━━━━━━━━━━━━━━━━━━\u001b[0m\u001b[37m\u001b[0m \u001b[1m0s\u001b[0m 47ms/step - loss: 43.6739 - mae: 43.6739\n",
            "Epoch 46: val_loss did not improve from 46.39876\n",
            "\u001b[1m4/4\u001b[0m \u001b[32m━━━━━━━━━━━━━━━━━━━━\u001b[0m\u001b[37m\u001b[0m \u001b[1m0s\u001b[0m 63ms/step - loss: 43.3117 - mae: 43.3117 - val_loss: 46.6212 - val_mae: 46.6212\n",
            "Epoch 47/50\n",
            "\u001b[1m4/4\u001b[0m \u001b[32m━━━━━━━━━━━━━━━━━━━━\u001b[0m\u001b[37m\u001b[0m \u001b[1m0s\u001b[0m 49ms/step - loss: 43.6525 - mae: 43.6525\n",
            "Epoch 47: val_loss did not improve from 46.39876\n",
            "\u001b[1m4/4\u001b[0m \u001b[32m━━━━━━━━━━━━━━━━━━━━\u001b[0m\u001b[37m\u001b[0m \u001b[1m0s\u001b[0m 62ms/step - loss: 43.2925 - mae: 43.2925 - val_loss: 46.4834 - val_mae: 46.4834\n",
            "Epoch 48/50\n",
            "\u001b[1m4/4\u001b[0m \u001b[32m━━━━━━━━━━━━━━━━━━━━\u001b[0m\u001b[37m\u001b[0m \u001b[1m0s\u001b[0m 45ms/step - loss: 43.5621 - mae: 43.5621\n",
            "Epoch 48: val_loss improved from 46.39876 to 46.27600, saving model to best_regressor.weights.h5\n",
            "\u001b[1m4/4\u001b[0m \u001b[32m━━━━━━━━━━━━━━━━━━━━\u001b[0m\u001b[37m\u001b[0m \u001b[1m0s\u001b[0m 66ms/step - loss: 43.2125 - mae: 43.2125 - val_loss: 46.2760 - val_mae: 46.2760\n",
            "Epoch 49/50\n",
            "\u001b[1m3/4\u001b[0m \u001b[32m━━━━━━━━━━━━━━━\u001b[0m\u001b[37m━━━━━\u001b[0m \u001b[1m0s\u001b[0m 42ms/step - loss: 44.1017 - mae: 44.1017\n",
            "Epoch 49: val_loss did not improve from 46.27600\n",
            "\u001b[1m4/4\u001b[0m \u001b[32m━━━━━━━━━━━━━━━━━━━━\u001b[0m\u001b[37m\u001b[0m \u001b[1m0s\u001b[0m 57ms/step - loss: 43.1620 - mae: 43.1620 - val_loss: 46.7083 - val_mae: 46.7083\n",
            "Epoch 50/50\n",
            "\u001b[1m4/4\u001b[0m \u001b[32m━━━━━━━━━━━━━━━━━━━━\u001b[0m\u001b[37m\u001b[0m \u001b[1m0s\u001b[0m 46ms/step - loss: 43.5077 - mae: 43.5077\n",
            "Epoch 50: val_loss did not improve from 46.27600\n",
            "\u001b[1m4/4\u001b[0m \u001b[32m━━━━━━━━━━━━━━━━━━━━\u001b[0m\u001b[37m\u001b[0m \u001b[1m0s\u001b[0m 60ms/step - loss: 43.1553 - mae: 43.1553 - val_loss: 46.7165 - val_mae: 46.7165\n",
            "Restoring model weights from the end of the best epoch: 48.\n"
          ]
        },
        {
          "output_type": "display_data",
          "data": {
            "text/plain": [
              "<Figure size 640x480 with 1 Axes>"
            ],
            "image/png": "[encoded data removed]"
          },
          "metadata": {}
        }
      ],
      "source": [
        "#TEST CELL\n",
        "history, test_model_2 = train_regressor(model=test_model_2,\n",
        "                                        filepath='best_regressor.weights.h5',\n",
        "                                        X_train=X_train_2,\n",
        "                                        y_train=y_train_2,\n",
        "                                        epochs=50,\n",
        "                                        batch_size=64,\n",
        "                                        learning_rate=5e-2,\n",
        "                                        validation_rate=0.2)\n",
        "plt.plot(history.history['loss'])\n",
        "plt.plot(history.history['val_loss'])\n",
        "plt.title('model loss')\n",
        "plt.ylabel('loss')\n",
        "plt.xlabel('epoch')\n",
        "plt.legend(['train', 'validation'], loc='upper left')\n",
        "plt.show()"
      ]
    },
    {
      "cell_type": "markdown",
      "id": "uAQkKDf0C9ud",
      "metadata": {
        "id": "uAQkKDf0C9ud"
      },
      "source": [
        "**Salida esperada:**\n",
        "\n",
        "```\n",
        "Epoch 1/50\n",
        "3/4 ━━━━━━━━━━━━━━━━━━━━ 0s 38ms/step - loss: 149.7544 - mae: 149.7544\n",
        "Epoch 1: val_loss improved from inf to 162.67799, saving model to best_regressor.weights.h5\n",
        "4/4 ━━━━━━━━━━━━━━━━━━━━ 0s 72ms/step - loss: 149.7141 - mae: 149.7141 - val_loss: 162.6780 - val_mae: 162.6780\n",
        "Epoch 2/50\n",
        "...........\n",
        "Epoch 50/50\n",
        "4/4 ━━━━━━━━━━━━━━━━━━━━ 0s 68ms/step - loss: 43.5077 - mae: 43.5077\n",
        "Epoch 50: val_loss did not improve from 46.27600\n",
        "4/4 ━━━━━━━━━━━━━━━━━━━━ 0s 98ms/step - loss: 43.1553 - mae: 43.1553 - val_loss: 46.7165 - val_mae: 46.7165\n",
        "Restoring model weights from the end of the best epoch: 48.\n",
        "\n",
        "```\n",
        "\n",
        "![reg_loss.png](data:image/png;base64,iVBORw0KGgoAAAANSUhEUgAAAjsAAAHHCAYAAABZbpmkAAAAOXRFWHRTb2Z0d2FyZQBNYXRwbG90bGliIHZlcnNpb24zLjcuMSwgaHR0cHM6Ly9tYXRwbG90bGliLm9yZy/bCgiHAAAACXBIWXMAAA9hAAAPYQGoP6dpAABjQklEQVR4nO3dd3hUZd7G8e+ZzEx6rwQSCD2gIApigFUQFEQRFdeyuMKKsqtgQ6wr9hV11XWxr7ri7qtrFwuKIlURECmK9BIglCRASO8z5/3jJAORlkCSmST357rmmplzzpz5TUad2+c8xTBN00RERESkmbJ5uwARERGRhqSwIyIiIs2awo6IiIg0awo7IiIi0qwp7IiIiEizprAjIiIizZrCjoiIiDRrCjsiIiLSrCnsiIiISLOmsCMiTc62bdswDIPp06fX+bXz58/HMAzmz59/zOOmT5+OYRhs27bthGoUEd+hsCMiIiLNmsKOiIiINGsKOyIiItKsKeyISJ099NBDGIbBxo0bueaaawgPDyc2NpYpU6ZgmiYZGRmMHDmSsLAwEhISeOaZZw47R3Z2NuPGjSM+Pp6AgAB69uzJW2+9ddhxubm5jB07lvDwcCIiIhgzZgy5ublHrGv9+vVcfvnlREVFERAQQO/evfnss8/q9bO/9NJLdO/eHX9/fxITE5kwYcJh9WzatIlRo0aRkJBAQEAAbdq04aqrriIvL89zzOzZsxkwYAARERGEhITQpUsX7rvvvnqtVUQsdm8XICJN15VXXklqaipPPPEEM2fO5LHHHiMqKopXX32Vc889lyeffJK3336byZMn06dPH84++2wASkpKGDhwIJs3b2bixImkpKTwwQcfMHbsWHJzc7n11lsBME2TkSNH8v333/OXv/yF1NRUPvnkE8aMGXNYLWvWrKF///60bt2ae+65h+DgYN5//30uueQSPvroIy699NKT/rwPPfQQDz/8MEOGDOHGG29kw4YNvPzyyyxbtoxFixbhcDgoLy9n6NChlJWVcfPNN5OQkMCuXbv44osvyM3NJTw8nDVr1nDRRRfRo0cPHnnkEfz9/dm8eTOLFi066RpF5AhMEZE6evDBB03AHD9+vGdbZWWl2aZNG9MwDPOJJ57wbD9w4IAZGBhojhkzxrPtueeeMwHz//7v/zzbysvLzbS0NDMkJMTMz883TdM0Z8yYYQLmU089VeN9fve735mA+eabb3q2Dx482Dz11FPN0tJSzza3223269fP7NSpk2fbvHnzTMCcN2/eMT/jm2++aQJmenq6aZqmmZ2dbTqdTvP88883XS6X57gXXnjBBMx///vfpmma5sqVK03A/OCDD4567n/84x8mYO7du/eYNYhI/dBlLBE5Yddff73nsZ+fH71798Y0TcaNG+fZHhERQZcuXdi6datn25dffklCQgJXX321Z5vD4eCWW26hsLCQBQsWeI6z2+3ceOONNd7n5ptvrlFHTk4Oc+fO5YorrqCgoIB9+/axb98+9u/fz9ChQ9m0aRO7du06qc/67bffUl5ezm233YbNdvA/nTfccANhYWHMnDkTgPDwcAC+/vpriouLj3iuiIgIAD799FPcbvdJ1SUix6ewIyInLDk5ucbz8PBwAgICiImJOWz7gQMHPM+3b99Op06daoQGgNTUVM/+6vtWrVoREhJS47guXbrUeL5582ZM02TKlCnExsbWuD344IOA1UfoZFTX9Nv3djqdtG/f3rM/JSWFSZMm8frrrxMTE8PQoUN58cUXa/TXufLKK+nfvz/XX3898fHxXHXVVbz//vsKPiINRH12ROSE+fn51WobWP1vGkp1SJg8eTJDhw494jEdO3ZssPf/rWeeeYaxY8fy6aef8s0333DLLbcwdepUlixZQps2bQgMDGThwoXMmzePmTNnMmvWLN577z3OPfdcvvnmm6P+DUXkxKhlR0QaXdu2bdm0adNhLRnr16/37K++37NnD4WFhTWO27BhQ43n7du3B6xLYUOGDDniLTQ09KRrPtJ7l5eXk56e7tlf7dRTT+X+++9n4cKFfPfdd+zatYtXXnnFs99mszF48GCeffZZ1q5dy9/+9jfmzp3LvHnzTqpOETmcwo6INLrhw4eTmZnJe++959lWWVnJ888/T0hICOecc47nuMrKSl5++WXPcS6Xi+eff77G+eLi4hg4cCCvvvoqe/bsOez99u7de9I1DxkyBKfTybRp02q0Ur3xxhvk5eVx4YUXApCfn09lZWWN15566qnYbDbKysoAq4/Rb5122mkAnmNEpP7oMpaINLrx48fz6quvMnbsWJYvX067du348MMPWbRoEc8995ynFWbEiBH079+fe+65h23bttGtWzc+/vjjGv1fqr344osMGDCAU089lRtuuIH27duTlZXF4sWL2blzJz///PNJ1RwbG8u9997Lww8/zLBhw7j44ovZsGEDL730En369OGaa64BYO7cuUycOJHf//73dO7cmcrKSv773//i5+fHqFGjAHjkkUdYuHAhF154IW3btiU7O5uXXnqJNm3aMGDAgJOqU0QOp7AjIo0uMDCQ+fPnc8899/DWW2+Rn59Ply5dePPNNxk7dqznOJvNxmeffcZtt93G//3f/2EYBhdffDHPPPMMvXr1qnHObt268dNPP/Hwww8zffp09u/fT1xcHL169eKBBx6ol7ofeughYmNjeeGFF7j99tuJiopi/PjxPP744zgcDgB69uzJ0KFD+fzzz9m1axdBQUH07NmTr776irPOOguAiy++mG3btvHvf/+bffv2ERMTwznnnMPDDz/sGc0lIvXHMBuy16CIiIiIl6nPjoiIiDRrCjsiIiLSrCnsiIiISLOmsCMiIiLNmsKOiIiINGsKOyIiItKsaZ4drHV1du/eTWhoKIZheLscERERqQXTNCkoKCAxMfGwhYUPpbAD7N69m6SkJG+XISIiIicgIyODNm3aHHW/wg54pqbPyMggLCzMy9WIiIhIbeTn55OUlHTchX4VdsBz6SosLExhR0REpIk5XhcUdVAWERGRZk1hR0RERJo1hR0RERFp1tRnpw5cLhcVFRXeLkPqgdPpPOYwRRERaT4UdmrBNE0yMzPJzc31dilST2w2GykpKTidTm+XIiIiDUxhpxaqg05cXBxBQUGaeLCJq55Ecs+ePSQnJ+v7FBFp5hR2jsPlcnmCTnR0tLfLkXoSGxvL7t27qaysxOFweLscERFpQOq0cBzVfXSCgoK8XInUp+rLVy6Xy8uViIhIQ1PYqSVd6mhe9H2KiLQcCjsiIiLSrCnsSK20a9eO5557zttliIiI1Jk6KDdjAwcO5LTTTquXkLJs2TKCg4NPvigREZFGprDTkNwuKC+CAN9cXNQ0TVwuF3b78f8xiI2NbYSKRERE6p8uYzUU04Tc7ZCzBQqzreeNaOzYsSxYsIB//vOfGIaBYRhMnz4dwzD46quvOOOMM/D39+f7779ny5YtjBw5kvj4eEJCQujTpw/ffvttjfP99jKWYRi8/vrrXHrppQQFBdGpUyc+++yzRv2MIiIitaGwU0emaVJcXlm7W6UfxRVuivdnULx3B8VlFbV/7RFuZh0C0z//+U/S0tK44YYb2LNnD3v27CEpKQmAe+65hyeeeIJ169bRo0cPCgsLGT58OHPmzGHlypUMGzaMESNGsGPHjmO+x8MPP8wVV1zBL7/8wvDhwxk9ejQ5OTkn9fcVERGpb7qMVUclFS66PfD1CbwyE/j1pN577SNDCXLW7isLDw/H6XQSFBREQkICAOvXrwfgkUce4bzzzvMcGxUVRc+ePT3PH330UT755BM+++wzJk6ceNT3GDt2LFdffTUAjz/+ONOmTePHH39k2LBhdf5sIiIiDUUtOy1Q7969azwvLCxk8uTJpKamEhERQUhICOvWrTtuy06PHj08j4ODgwkLCyM7O7tBahYRETlRXm3ZWbhwIX//+99Zvnw5e/bs4ZNPPuGSSy6pccy6deu4++67WbBgAZWVlXTr1o2PPvqI5ORkAEpLS7njjjt49913KSsrY+jQobz00kvEx8c3SM2BDj/WPjK07i8sL4YD6eCuBJsDIlPAGVjn964Pvx1VNXnyZGbPns3TTz9Nx44dCQwM5PLLL6e8vPyY5/ntMguGYeB2u+ulRhERkfri1bBTVFREz549ue6667jssssO279lyxYGDBjAuHHjePjhhwkLC2PNmjUEBAR4jrn99tuZOXMmH3zwAeHh4UycOJHLLruMRYsWNUjNhmHU+lJSDc4wCOgKOVuhshQKtkJkOwgIr/caPW/pdNZqOYRFixYxduxYLr30UsBq6dm2bVuD1SUiItKYvBp2LrjgAi644IKj7v/rX//K8OHDeeqppzzbOnTo4Hmcl5fHG2+8wTvvvMO5554LwJtvvklqaipLlizhrLPOarjiT4TdH2I6Qc42KC+wgk9YawiJa5C3a9euHUuXLmXbtm2EhIQctdWlU6dOfPzxx4wYMQLDMJgyZYpaaEREpNnw2T47brebmTNn0rlzZ4YOHUpcXBx9+/ZlxowZnmOWL19ORUUFQ4YM8Wzr2rUrycnJLF68+KjnLisrIz8/v8at0djsEN0egqpWUM/fBXk7G2Ro+uTJk/Hz86Nbt27ExsYetQ/Os88+S2RkJP369WPEiBEMHTqU008/vd7rERER8QafHY2VnZ1NYWEhTzzxBI899hhPPvkks2bN4rLLLmPevHmcc845ZGZm4nQ6iYiIqPHa+Ph4MjMzj3ruqVOn8vDDDzfwJzgGwwbhSeDnDwW7oWgvVJZZl7Vs9dMvB6Bz586Hhb6xY8cedly7du2YO3dujW0TJkyo8fy3l7WONAw+Nzf3hOoUERFpSD7dsgMwcuRIbr/9dk477TTuueceLrroIl555ZWTOve9995LXl6e55aRkVEfJdeNYUBovBVwMKAsH/ZvBl0+EhERqVc+G3ZiYmKw2+1069atxvbU1FTP5ZiEhATKy8sPa1HIysryzC1zJP7+/oSFhdW4eU1gpNWPx/CDimKrlUdERETqjc+GHafTSZ8+fdiwYUON7Rs3bqRt27YAnHHGGTgcDubMmePZv2HDBnbs2EFaWlqj1ntSnMEQ3tp6XJgJrgrv1iMiItKMeLXPTmFhIZs3b/Y8T09PZ9WqVURFRZGcnMydd97JlVdeydlnn82gQYOYNWsWn3/+OfPnzwesWYLHjRvHpEmTiIqKIiwsjJtvvpm0tDTfG4l1PIFRULTPat0p2AMRyd6uSEREpFnwatj56aefGDRokOf5pEmTABgzZgzTp0/n0ksv5ZVXXmHq1KnccsstdOnShY8++ogBAwZ4XvOPf/wDm83GqFGjakwq2OQYhjUMff8mKN4PQTHgDPJ2VSIiIk2eYdZldclmKj8/n/DwcPLy8g7rv1NaWkp6ejopKSk1JjNsMDnboPQAOEMguqMVgqTeNfr3KiIi9e5Yv9+H8tk+Oy1WWCJgg/JCKM3zdjUiIiJNnsKOr7E7D86onL9LQ9FFREROksKOLwqJsxYLdZVDkVYRFxERORkKO77I5ld1OQsozPLaUPR27drx3HPPeZ4bhlFjuY7f2rZtG4ZhsGrVqpN63/o6j4iICPjwchEtXmCkNcFgRTHk74bItt6uiD179hAZGVmv5xw7diy5ubk1QlRSUhJ79uwhJiamXt9LRERaJrXs+CrDgPA21uOSHCgv9m49WDNW+/v7N/j7+Pn5kZCQgN2uLC4iIidPYceXOYOtFh6A/LqtjP6vf/2LxMREzxpj1UaOHMl1113Hli1bGDlyJPHx8YSEhNCnTx++/fbbY57zt5exfvzxR3r16kVAQAC9e/dm5cqVNY53uVyMGzeOlJQUAgMD6dKlC//85z89+x966CHeeustPv30UwzDwDAM5s+ff8TLWAsWLODMM8/E39+fVq1acc8991BZWenZP3DgQG655RbuuusuoqKiSEhI4KGHHqr130tERJovhZ26Mk0oL2q8m384VJRZsyuXHKh1mb///e/Zv38/8+bN82zLyclh1qxZjB49msLCQoYPH86cOXNYuXIlw4YNY8SIEZ51x46nsLCQiy66iG7durF8+XIeeughJk+eXOMYt9tNmzZt+OCDD1i7di0PPPAA9913H++//z4AkydP5oorrmDYsGHs2bOHPXv20K9fv8Pea9euXQwfPpw+ffrw888/8/LLL/PGG2/w2GOP1TjurbfeIjg4mKVLl/LUU0/xyCOPMHv27Fr/zUREpHnSdYK6qiiGxxO9897Xz4GACLAdP6NGRkZywQUX8M477zB48GAAPvzwQ2JiYhg0aBA2m42ePXt6jn/00Uf55JNP+Oyzz5g4ceJxz//OO+/gdrt54403CAgIoHv37uzcuZMbb7zRc4zD4eDhhx/2PE9JSWHx4sW8//77XHHFFYSEhBAYGEhZWdkxF2596aWXSEpK4oUXXsAwDLp27cru3bu5++67eeCBB7BV/T169OjBgw8+CECnTp144YUXmDNnDuedd95xP4+IiDRfatlpSuo4FH306NF89NFHlJWVAfD2229z1VVXYbPZKCwsZPLkyaSmphIREUFISAjr1q2rdcvOunXr6NGjR43Zh4+0+OqLL77IGWecQWxsLCEhIfzrX/+q9Xsc+l5paWkYh8wm3b9/fwoLC9m5c6dnW48ePWq8rlWrVmRna+i+iEhLp5adunIEwX27G/99iw9YQacwC4KiwM953JeMGDEC0zSZOXMmffr04bvvvuMf//gHYF1Cmj17Nk8//TQdO3YkMDCQyy+/nPLy8nor+d1332Xy5Mk888wzpKWlERoayt///neWLl1ab+9xKIfDUeO5YRiH9VkSEZGWR2GnrgzD6jjc2BxBUFFUNRR9T62GogcEBHDZZZfx9ttvs3nzZrp06cLpp58OwKJFixg7diyXXnopYPXB2bZtW63LSU1N5b///S+lpaWe1p0lS5bUOGbRokX069ePm266ybNty5YtNY5xOp24XK7jvtdHH32EaZqe1p1FixYRGhpKmzZtal2ziIi0TLqM1VQcNhS9qFYvGz16NDNnzuTf//43o0eP9mzv1KkTH3/8MatWreLnn3/mD3/4Q51aQf7whz9gGAY33HADa9eu5csvv+Tpp5+ucUynTp346aef+Prrr9m4cSNTpkxh2bJlNY5p164dv/zyCxs2bGDfvn1UVBw+geJNN91ERkYGN998M+vXr+fTTz/lwQcfZNKkSZ7+OiIiIkejX4qmxBkMgVHW4/zaXUo799xziYqKYsOGDfzhD3/wbH/22WeJjIykX79+jBgxgqFDh3pafWojJCSEzz//nNWrV9OrVy/++te/8uSTT9Y45s9//jOXXXYZV155JX379mX//v01WnkAbrjhBrp06ULv3r2JjY1l0aJFh71X69at+fLLL/nxxx/p2bMnf/nLXxg3bhz3339/resVEZGWyzDNOkze0kwda4n40tJS0tPTSUlJqdEZ12sqyyB7rfU4/hTwcxz7eDkin/teRUSkzo71+30otew0NXZ/q/8OQGmed2sRERFpAhR2mqKAcOu+NNerZYiIiDQFCjtNUUCEdV9WCO7KYx4qIiLS0insNEWOALAHACaU5nu7GhEREZ+msFNLPtePu7p1R5eyTojPfZ8iItJgFHaOo3pW3uLi4jq/1m2aDfej6um3kw/uY0/KJ4erninaz8/Py5WIiEhD0wzKx+Hn50dERIRnjaWgoKAaazQdy/6iMvJLKokJdhAS4Kj162rFNMBtB3cF5O+HgKMPuZOa3G43e/fuJSgoCLtd/wqIiDR3+i99LVSvyF2XRSVNE7LyS6l0m+wEHH4GYQEOAhx+1FvmKSmEsnzYWwxB0fV00pbBZrORnJxcvwFURER8ksJOLRiGQatWrYiLizvicgZHE1NSzkfLd/HJyl0UlVujptpFB/HHtHac3SkWm+0kf2h3r4KP7wBHCIz7BuzHXxxULE6nU0tNiIi0EJpBmdrPwHii8ooreGNROm9+n05BmRV6OseHcMvgTgw/pdWJhx63G57taq2EPvoj6DSkHqsWERHxbZpB2YeEBzmYdF5nvr/7XG4d3InQADsbswqZ+M5Khj63kM9/3o3LfQKZ02aDrhdaj9d9Vr9Fi4iINBMKO40oPMjB7VWh57YhVujZlF3Izf+zQs/XazLrftLUEdb9+pkalSUiInIECjteEB7o4LYhVui5fUhnwgLsbM4u5M//Xc4nK3fW7WTtfmcNQy/eBzuWNEzBIiIiTZjCjheFBzq4dUgnvr/nXP7QNxmAuz78hR8276v9Sfwc0GW49Xjd5w1QpYiISNOmsOMDwgIcPDbyFC7s0YoKl8mf/285G7MKan8Cz6WsL6wx7yIiIuKhsOMjbDaDZ37fkz7tIikorWTsv38kK7+0di/ucC44giAvA/asatA6RUREmhqFHR8S4PDjX3/sTfuYYHbnlXLd9GUUltViVXNHIHQ6z3qsS1kiIiI1KOz4mMhgJ9P/dCbRwU7W7M5nwtsrqHS5j//C1Iute4UdERGRGhR2fFBydBBvjO1DgMPGgo17uX/Gr8dfULTTeWBzwL6NsHdD4xQqIiLSBCjs+KjTkiJ4/urTsRnw7rIMXpq/5dgvCAiH9gOtx5pgUERExENhx4ed1y2ehy7uDsDfv97AjJW7jv2C6lFZupQlIiLiobDj465Na8f4s9sDcOeHP/PDlmPMwdNlOBg22PMz5O5opApFRER8m8JOE3DPsK5ceGrVHDz/PcYcPCGxkNzPerzui8YrUERExIcp7DQBNpvBM1f0pHdbaw6eP725jOyjzcGjS1kiIiI1KOw0EQEOP1671pqDZ1duCbe8u/LIB6ZeZN3vWAyF2Y1XoIiIiI9S2GlCIoOdvPmnPjj9bCzZmsPy7QcOPyi8DSSeDpjWSugiIiItnMJOE9M2OpiRpyUC8Pp3W498kC5liYiIeCjsNEE3VI3O+npNJtv3Fx1+QHXYSV8AJbmNV5iIiIgPUthpgjrHh3JO51jcJvz7+/TDD4jpBLFdwV0JG79u/AJFRER8iMJOE1U99877P+0kt7j88AOqW3fW61KWiIi0bF4NOwsXLmTEiBEkJiZiGAYzZsw46rF/+ctfMAyD5557rsb2nJwcRo8eTVhYGBEREYwbN47CwsKGLdwH9OsQTbdWYZRUuHh76REmEKwOO5u+hfLixi1ORETEh3g17BQVFdGzZ09efPHFYx73ySefsGTJEhITEw/bN3r0aNasWcPs2bP54osvWLhwIePHj2+okn2GYRjccHYKANN/2EZZpavmAQk9ICIZKktgyxwvVCgiIuIbvBp2LrjgAh577DEuvfTSox6za9cubr75Zt5++20cDkeNfevWrWPWrFm8/vrr9O3blwEDBvD888/z7rvvsnv37oYu3+su6pFIQlgAewvK+HTVbz6vYUDXqjl3Nn/b+MWJiIj4CJ/us+N2u/njH//InXfeSffu3Q/bv3jxYiIiIujdu7dn25AhQ7DZbCxduvSo5y0rKyM/P7/GrSly+Nn4U/92gDUM3TTNmgcknWnd7/m5cQsTERHxIT4ddp588knsdju33HLLEfdnZmYSFxdXY5vdbicqKorMzMyjnnfq1KmEh4d7bklJSfVad2O6um8yIf52NmYVsmDj3po7W/W07rPWgKui8YsTERHxAT4bdpYvX84///lPpk+fjmEY9Xrue++9l7y8PM8tIyOjXs/fmMICHFzVxwprr/12ksHIFPAPB1c57F3vhepERES8z2fDznfffUd2djbJycnY7Xbsdjvbt2/njjvuoF27dgAkJCSQnV1z/afKykpycnJISEg46rn9/f0JCwurcWvK/jQgBT+bwaLN+1mzO+/gDsOAVj2sx3t+8U5xIiIiXuazYeePf/wjv/zyC6tWrfLcEhMTufPOO/n6a2uivLS0NHJzc1m+fLnndXPnzsXtdtO3b19vld7oWkcEcuGprQB4/bvfTDKYUB121G9HRERaJrs337ywsJDNmzd7nqenp7Nq1SqioqJITk4mOjq6xvEOh4OEhAS6dOkCQGpqKsOGDeOGG27glVdeoaKigokTJ3LVVVcdcZh6c3bD79rz2c+7+fzn3dw1rAutwgOtHdX9dhR2RESkhfJqy85PP/1Er1696NWrFwCTJk2iV69ePPDAA7U+x9tvv03Xrl0ZPHgww4cPZ8CAAfzrX/9qqJJ91qltwjmrfRSVbpPpi7Yd3FEddjJXg9t1xNeKiIg0Z4Z52Hjllic/P5/w8HDy8vKadP+dueuzuG76T4T62/nh3nMJDXBYAefx1tbkghN/stbNEhERaQZq+/vts312pO4Gdo6jQ2wwBWWVvLesaoSZzQ8STrEe61KWiIi0QAo7zYjNZnDD76wFQt9ctI0Kl9va4em3s8o7hYmIiHiRwk4zc0mv1sSEONmVW8KXq/dYGz1hR8PPRUSk5VHYaWYCHH5cm9YOsCYZNE2z5vBzddESEZEWRmGnGbrmrLYEOGz8uiufJVtzIC4VbA4ozYXcHd4uT0REpFEp7DRDUcFOLj+jDVC1hITd3wo8AJm6lCUiIi2Lwk4zNW5AewwD5q7PZnN2wSHLRmhEloiItCwKO81USkww53eLB+DtpTug1WnWDoUdERFpYRR2mrFLTmsNwPeb9mnZCBERabEUdpqxtA7RGAZsyi4kO6gDGDYozIKCTG+XJiIi0mgUdpqxiCAnpySGA7BoRwlEVy0Vofl2RESkBVHYaeb6dbRWjl+0eb8uZYmISIuksNPM9e8QA8APm/dhVo/IylTYERGRlkNhp5nr0y4Kp5+N3Xml7AnsbG1Uy46IiLQgCjvNXKDTj9PbRgCwsDDR2pi7A4pzvFeUiIhII1LYaQEGdLQuZS3YXg6R7ayNmau9V5CIiEgjUthpAfpVhZ0ftuzHTFAnZRERaVkUdlqAHq3DCfW3k1dSQVZwF2ujwo6IiLQQCjstgN3PRt/21hD0n8qSrI1aEFRERFoIhZ0Won/VfDtf7Y+zNuzbBGWFXqxIRESkcSjstBD9q/rtzMkwMUNaASZk/erdokRERBqBwk4L0SkuhNhQf0or3BwIT7U2qt+OiIi0AAo7LYRhGPTvYF3KWm+0tzZqjSwREWkBFHZakOpLWQsKWlkb1LIjIiItgMJOC1IddmZmx1ob9q6DyjIvViQiItLwFHZakMSIQFJigtlpRlPujAB3JWSv9XZZIiIiDUphp4WxhqAbZPh3sjboUpaIiDRzCjstTP8O1qUsz+SCCjsiItLMKey0MGkdojEM+K6wtbVBI7JERKSZU9hpYSKCnJySGM6vZjtrQ9av4Kr0ak0iIiINSWGnBerXMZrtZjyltiCoLIV9G71dkoiISINR2GmBBnSMwcTG+urWHfXbERGRZkxhpwXq3TYKp5+NFRXJ1gatgC4iIs2Ywk4LFOj04/S2EfzqbmdtUMuOiIg0Ywo7LdSAjjGs8VzG+gXcbq/WIyIi0lAUdlqofh1j2Gy2phQHlBfAgXRvlyQiItIgFHZaqB6twwny92e9u6rfji5liYhIM6Ww00LZ/Wz0bR+tfjsiItLsKey0YP07Rh/st6MRWSIi0kwp7LRgAzrG8Ks7BQBzz89gml6uSEREpP4p7LRgHeNCOBDcgQrTD6N4P+Tv8nZJIiIi9U5hpwUzDIPeHVux2dSioCIi0nwp7LRw/TvGqJOyiIg0awo7LVz/jjH8alr9dip2rfRyNSIiIvVPYaeFS4wIJCcsFQDXrlXeLUZERKQBeDXsLFy4kBEjRpCYmIhhGMyYMcOzr6KigrvvvptTTz2V4OBgEhMTufbaa9m9e3eNc+Tk5DB69GjCwsKIiIhg3LhxFBYWNvInadpiO56O2zQIKMmCwr3eLkdERKReeTXsFBUV0bNnT1588cXD9hUXF7NixQqmTJnCihUr+Pjjj9mwYQMXX3xxjeNGjx7NmjVrmD17Nl988QULFy5k/PjxjfURmoU+nZNJNxOsJ5nqtyMiIs2LYZq+MbmKYRh88sknXHLJJUc9ZtmyZZx55pls376d5ORk1q1bR7du3Vi2bBm9e/cGYNasWQwfPpydO3eSmJhYq/fOz88nPDycvLw8wsLC6uPjNCm5xeUsnjqcC/yWUTDwUUIH3uLtkkRERI6rtr/fTarPTl5eHoZhEBERAcDixYuJiIjwBB2AIUOGYLPZWLp06VHPU1ZWRn5+fo1bSxYR5KQgpB0AOdvXercYERGRetZkwk5paSl33303V199tSe9ZWZmEhcXV+M4u91OVFQUmZmZRz3X1KlTCQ8P99ySkpIatPamwIzqBICRs8nLlYiIiNSvJhF2KioquOKKKzBNk5dffvmkz3fvvfeSl5fnuWVkZNRDlU1bUGJXAEIKt3u5EhERkfpl93YBx1MddLZv387cuXNrXJNLSEggOzu7xvGVlZXk5OSQkJBw1HP6+/vj7+/fYDU3RXHtusMyiHLthfIicAZ7uyQREZF64dMtO9VBZ9OmTXz77bdER0fX2J+WlkZubi7Lly/3bJs7dy5ut5u+ffs2drlNWvvkJPaboQCUZW30cjUiIiL1x6stO4WFhWzevNnzPD09nVWrVhEVFUWrVq24/PLLWbFiBV988QUul8vTDycqKgqn00lqairDhg3jhhtu4JVXXqGiooKJEydy1VVX1XokllhiQ/1ZZbQmmvVkbf2V5KRe3i5JRESkXng17Pz0008MGjTI83zSpEkAjBkzhoceeojPPvsMgNNOO63G6+bNm8fAgQMBePvtt5k4cSKDBw/GZrMxatQopk2b1ij1NzcHgtpC8XoKdq3zdikiIiL1xqthZ+DAgRxrmp/aTAEUFRXFO++8U59ltViVER2gGNinEVkiItJ8+HSfHWlczoQuAAQVpnu5EhERkfqjsCMe0W27AxBXngG+MbG2iIjISVPYEY+2HbtRadoIppT8bM09JCIizYPCjniEBgezxxYPwO6tq71cjYiISP1Q2JEacgKSAcjN0BpZIiLSPCjsSA1l4R0AcO/VxIIiItI8KOxIDY54a0HQgHyNyBIRkeZBYUdqiEyyRmTFlO2o1TxHIiIivk5hR2pIaH8KAK3NbLIP5Hu5GhERkZOnsCM1BEQmUkQgfoZJxpY13i5HRETkpCnsSE2GwT5/a0TWgR0akSUiIk2fwo4cpiSsPQDlWRu8XImIiMjJU9iRw/jFWiOy/PO2erkSERGRk6ewI4cJa5MKQFTpDtxujcgSEZGmTWFHDhPTzhp+3o7d7Mgp9nI1IiIiJ0dhRw7jF9MRgCijkK07dni5GhERkZOjsCOHcwZzwB4HwP7tGn4uIiJNm8KOHFFRaAoApZkakSUiIk2bwo4ckRFjjchyHNji5UpEREROjsKOHFFI664ARJVup6zS5eVqRERETpzCjhxRWGtr+Hk79rB1b5GXqxERETlxCjtyRNWXsdoaWWzMzPVuMSIiIidBYUeOLDyJCsOJv1FJ1vaN3q5GRETkhCnsyJHZbBQGtwWgZM96LxcjIiJy4hR25Kjc0dbkgkbOZi9XIiIicuIUduSoglpZI7KiS3ZQWFbp5WpEREROjMKOHFVgQhcAUow9bMoq8HI1IiIiJ0ZhR46uakRWe9seNmQq7IiISNOksCNHV9VnJ8E4QPruTC8XIyIicmIUduToAiModUYBULhba2SJiEjTpLAjx1QZabXusG+TdwsRERE5QQo7ckwBraxOynHlGewrLPNyNSIiInV3QmHnrbfeYubMmZ7nd911FxEREfTr14/t27fXW3HiffbYqk7Kxm42akSWiIg0QScUdh5//HECAwMBWLx4MS+++CJPPfUUMTEx3H777fVaoHhZtBV2UoxMNmpEloiINEH2E3lRRkYGHTtafTlmzJjBqFGjGD9+PP3792fgwIH1WZ94W0x12NnD25n5Xi5GRESk7k6oZSckJIT9+/cD8M0333DeeecBEBAQQElJSf1VJ94X2Q63YSfYKGPf7m3erkZERKTOTqhl57zzzuP666+nV69ebNy4keHDhwOwZs0a2rVrV5/1ibf5OagMS8aZtxX3vk2YpolhGN6uSkREpNZOqGXnxRdfJC0tjb179/LRRx8RHR0NwPLly7n66qvrtUDxPntcZwBaVe5kV65a7kREpGk5oZadiIgIXnjhhcO2P/zwwyddkPgeW0xH2AQdqkZktYkM8nZJIiIitXZCLTuzZs3i+++/9zx/8cUXOe200/jDH/7AgQMH6q048RExB0dkbcgs9HIxIiIidXNCYefOO+8kP98ambN69WruuOMOhg8fTnp6OpMmTarXAsUHRB+ca2eDRmSJiEgTc0KXsdLT0+nWrRsAH330ERdddBGPP/44K1as8HRWlmakqmWnjbGPrZk5Xi5GRESkbk6oZcfpdFJcXAzAt99+y/nnnw9AVFSUp8VHmpHgWNzOMGyGiWvvFipdbm9XJCIiUmsn1LIzYMAAJk2aRP/+/fnxxx957733ANi4cSNt2rSp1wLFBxgGRkwn2L2cJHMX2/YX0zEuxNtViYiI1MoJtey88MIL2O12PvzwQ15++WVat24NwFdffcWwYcNqfZ6FCxcyYsQIEhMTMQyDGTNm1NhvmiYPPPAArVq1IjAwkCFDhrBpU83Vt3Nychg9ejRhYWFEREQwbtw4CgvViba+GTHWjNlWvx0tGyEiIk3HCYWd5ORkvvjiC37++WfGjRvn2f6Pf/yDadOm1fo8RUVF9OzZkxdffPGI+5966immTZvGK6+8wtKlSwkODmbo0KGUlpZ6jhk9ejRr1qxh9uzZfPHFFyxcuJDx48efyMeSY6nupGzLZIMWBBURkSbkhC5jAbhcLmbMmMG6desA6N69OxdffDF+fn61PscFF1zABRdccMR9pmny3HPPcf/99zNy5EgA/vOf/xAfH8+MGTO46qqrWLduHbNmzWLZsmX07t0bgOeff57hw4fz9NNPk5iYeKIfT37rkJadb9WyIyIiTcgJtexs3ryZ1NRUrr32Wj7++GM+/vhjrrnmGrp3786WLVvqpbD09HQyMzMZMmSIZ1t4eDh9+/Zl8eLFgLXiekREhCfoAAwZMgSbzcbSpUvrpQ6p4hl+vkfDz0VEpEk5obBzyy230KFDBzIyMlixYgUrVqxgx44dpKSkcMstt9RLYZmZmQDEx8fX2B4fH+/Zl5mZSVxcXI39drudqKgozzFHUlZWRn5+fo2bHEd0B0wMIowi8nMyKa1websiERGRWjmhsLNgwQKeeuopoqKiPNuio6N54oknWLBgQb0V11CmTp1KeHi455aUlOTtknyfIxDCrZF2Kexmc7Y6gYuISNNwQmHH39+fgoLD+20UFhbidDpPuiiAhIQEALKysmpsz8rK8uxLSEggOzu7xv7KykpycnI8xxzJvffeS15enueWkZFRLzU3d0Z0Vb8d2x7Wq9+OiIg0EScUdi666CLGjx/P0qVLMU0T0zRZsmQJf/nLX7j44ovrpbCUlBQSEhKYM2eOZ1t+fj5Lly4lLS0NgLS0NHJzc1m+fLnnmLlz5+J2u+nbt+9Rz+3v709YWFiNm9RCzMF+Oxs1IktERJqIExqNNW3aNMaMGUNaWhoOhwOAiooKRo4cyXPPPVfr8xQWFrJ582bP8/T0dFatWkVUVBTJycncdtttPPbYY3Tq1ImUlBSmTJlCYmIil1xyCQCpqakMGzaMG264gVdeeYWKigomTpzIVVddpZFYDeGQTsqL1bIjIiJNxAmFnYiICD799FM2b97sGXqemppKx44d63Sen376iUGDBnmeVy8iOmbMGKZPn85dd91FUVER48ePJzc3lwEDBjBr1iwCAgI8r3n77beZOHEigwcPxmazMWrUqDrN9SN14Bl+rpYdERFpOgzTNM3aHFiX1cyfffbZEy7IG/Lz8wkPDycvL0+XtI4lNwOeO4Vy04/UsumsePACwgMd3q5KRERaqNr+fte6ZWflypW1Os4wjNqeUpqasNZgD8RZWUKSkU36viJOS4rwdlUiIiLHVOuwM2/evIasQ5oCmw2iO0DWr7Q39rB1b6HCjoiI+LwTGo0lLVj0wX47W/Zqrh0REfF9CjtSN4cMP9+6t8jLxYiIiByfwo7UjWf1c4UdERFpGhR2pG4OGX6evr8Il7tWg/lERES8RmFH6qaqZSfOyCWgMp/duSVeLkhEROTYFHakbgLCIDwZgFQjg83qpCwiIj5OYUfqLuFUALrZtqnfjoiI+DyFHam7qrCTauxgq1p2RETExynsSN0lnAJAN9t2teyIiIjPU9iRuqtq2elk7GTH3gNeLkZEROTYFHak7iLaYjpD8TcqCS3cRkFphbcrEhEROSqFHak7w8Bo1QOAVGM76ft0KUtERHyXwo6cmHj12xERkaZBYUdOTPXwc2O7RmSJiIhPU9iRE+OZa2e7Vj8XERGfprAjJya2K27DTqRRSH72Dm9XIyIiclQKO3JiHAFURlqLggbnrMGtBUFFRMRHKezICbO3tkZkdXRvY3eeFgQVERHfpLAjJ8xWNfxcI7JERMSXKezIifOskaURWSIi4rsUduTExVthJ8WWxc6sbC8XIyIicmQKO3LigqMpDogHwLXnVy8XIyIicmQKO3JSymO6AxB8YJ2XKxERETkyhR05KQFJPQFILN1McXmll6sRERE5nMKOnJSANlbY0YgsERHxVQo7cnISrOHnXY0M0rPzvFyMiIjI4RR25OREplBmCyTAqCBnx1pvVyMiInIYhR05OTYbB0I6A2BmakSWiIj4HoUdOWkVsdaIrJADatkRERHfo7AjJ82/akRWQskmTFMLgoqIiG9R2JGTFtX+DAC6so1MLQgqIiI+RmFHTpo9oTsubMQY+WTs2ObtckRERGpQ2JGT5wwiy9EGgPxtK71cjIiISE0KO1IvckO7WA8yf/FuISIiIr+hsCP1oiKuekSW1sgSERHforAj9SIg6TQAWpVu9m4hIiIiv6GwI/UirlMfAJLcuykpzPdyNSIiIgcp7Ei9iIxrwz7CsRkmmZvVSVlERHyHwo7UmwxnRwAKtq3wciUiIiIHKexIvTkQVj0ia7V3CxERETmEwo7Um8rYUwAIzVvv5UpEREQOUtiRehNYNSIroWQLuF3eLUZERKSKwo7Um1btu1NiOgmkFDNnq7fLERERAXw87LhcLqZMmUJKSgqBgYF06NCBRx99tMbK2qZp8sADD9CqVSsCAwMZMmQImzZt8mLVLVdyTBgbzCQA8tLVSVlERHyDT4edJ598kpdffpkXXniBdevW8eSTT/LUU0/x/PPPe4556qmnmDZtGq+88gpLly4lODiYoUOHUlpa6sXKWyan3cYOZwcACrdr+LmIiPgGnw47P/zwAyNHjuTCCy+kXbt2XH755Zx//vn8+OOPgNWq89xzz3H//fczcuRIevTowX/+8x92797NjBkzvFt8C5VXNSLLyPrVy5WIiIhYfDrs9OvXjzlz5rBx40YAfv75Z77//nsuuOACANLT08nMzGTIkCGe14SHh9O3b18WL17slZpbOldc1YisXK2RJSIivsHu7QKO5Z577iE/P5+uXbvi5+eHy+Xib3/7G6NHjwYgMzMTgPj4+Bqvi4+P9+w7krKyMsrKyjzP8/O1vEF9CU7uiXudQVjFPijaB8Ex3i5JRERaOJ9u2Xn//fd5++23eeedd1ixYgVvvfUWTz/9NG+99dZJnXfq1KmEh4d7bklJSfVUsSQnxLHNrAqfmlxQRER8gE+HnTvvvJN77rmHq666ilNPPZU//vGP3H777UydOhWAhIQEALKysmq8Lisry7PvSO69917y8vI8t4yMjIb7EC1M+9gQ1pnJAFTs/tnL1YiIiPh42CkuLsZmq1min58fbrcbgJSUFBISEpgzZ45nf35+PkuXLiUtLe2o5/X39ycsLKzGTepHTIiTLX7tASjZscq7xYiIiODjfXZGjBjB3/72N5KTk+nevTsrV67k2Wef5brrrgPAMAxuu+02HnvsMTp16kRKSgpTpkwhMTGRSy65xLvFt1CGYZAb1hXyNSJLRER8g0+Hneeff54pU6Zw0003kZ2dTWJiIn/+85954IEHPMfcddddFBUVMX78eHJzcxkwYACzZs0iICDAi5W3bGb8KZAPwflboaIUHPouRETEewzz0OmIW6j8/HzCw8PJy8vTJa168OLcTVy9YCBRRiGMnw+JvbxdkoiINEO1/f326T470jS1jw1hrbut9UQjskRExMsUdqTetY8NYa3ZDgBzzy/eLUZERFo8hR2pd22jg1hnWi07FbvVsiMiIt6lsCP1LsDhx/7QzgD4Zf8KVVMFiIiIeIPCjjQIR1wXykw7fhWFkLvd2+WIiEgLprAjDaJtbAQbzTbWE3VSFhERL1LYkQbRPjaYte521hNNLigiIl6ksCMNon1sMGurOimzR2tkiYiI9yjsSIPoEBvCcncnAMytC6CswMsViYhIS6WwIw0iLtSfbc5ObHG3wqgsgXWfe7skERFpoRR2pEEYhkH72BA+cQ2wNvz8rncLEhGRFkthRxpM+5hgZrirwk76Qsjb5d2CRESkRVLYkQbTPjaEnWYsW4N6ACas/sDbJYmISAuksCMNpkNsCAAzjbOtDb+8B6bpxYpERKQlUtiRBtOnXSQAr+X0xPTzh+y1mmBQREQancKONJi4sAC6tQoj3wxmV/xAa6M6KouISCNT2JEGNbBLLABfGudYG1Z/AK5KL1YkIiItjcKONKiBXeIAeG13CmZQNBRlw9b53i1KRERaFIUdaVC9kiMI9bezt8RkX7uLrI2/6FKWiIg0HoUdaVAOPxsDOsUA8K1jkLVx3RdaPkJERBqNwo40uOp+O+/tioXojqDlI0REpBEp7EiDO6ez1W/n5115FKdebm3UqCwREWkkCjvS4BLCA+iaEIppwveBg62NWj5CREQaicKONIrqUVlf7XRCcj+0fISIiDQWhR1pFNX9dhZu3Iu7x5XWxp/f1fIRIiLS4BR2pFGc0TaSEH87+4vKWRMxCPz8Ye86yPzF26WJiEgzp7AjjcLhZ6N/x2gA5m4rhy7DrB0/v+fFqkREpCVQ2JFGU91vZ/7GbOh5tbVRy0eIiEgDU9iRRlPdb2dVRi4HWp0NWj5CREQagcKONJpW4YF0ibeGoH+XngenjLJ2aPkIERFpQAo70qiqW3fmb8iGHldZG7V8hIiINCCFHWlU5xw6BL1Vr+a/fISrEipKvV2FiEiLprAjjap32yiCnX7sKyxnzZ6Cg607zWn5iAPbYNkb8O5oeCoFnu4EG7/2dlUiIi2W3dsFSMvitNvo3zGGb9ZmMX9DNqeefgXMe+zg8hHhrb1dYt2VFUD6d7BlLmyZAzlbDz/mf1fB0KnQ989gGI1fo4hIC6aWHWl01Zey5m/cC5FtD1k+4n3vFlZbpgm7V8HCp+HN4fBkO3j3alj2mhV0bHbrM517P1w/B3r9EUw3zLobvpysofYiIo1MLTvS6Krn21m54wC5xeVE9LwSdvxgTTDY/zbfbvmoLIcZN8KvH9bcHtkOOgyGjoOh3e8gIOzgvtZnQEwnmP0gLHvdusx1+b8hILwxKxcRabEUdqTRtY4IpFNcCJuyC/lu0z5GdLsEvrzLWj5i9gNgDwBXObgqqu5/89hdCaEJMOh+CI5uvMLLi+H9P8Lmb63Wm05DocMgK+BEtT/66wwD+t9qHfPRDdbr3xgKf3jPatkSEZEGpbAjXjGwSyybsguZv2EvI3r2hC4XwNoZ8MO02p9ky1z4wwcQ27nB6vQoyYV3roSMJeAIgiv/Cx2H1O0cqSPgT1/C/662gt3rg+Gq/0FSnwYpWURELAo74hUDu8Tx2nfpLNi4F7fbxHbew9aMyu5K8HNW3RxHeOwAwwaL/mldDnpjCFzxH2g/sOGKLciC/xsFWautS09/+ACS+57YuVqfDjfMtYJT1mqYfiFc+vLBCRZFRKTeGaZpmt4uwtvy8/MJDw8nLy+PsLCw479ATlpZpYtej8ymuNzFFzcP4JTWdey/UrTPGtqdscS6pHThM3DG2Pov9MB2+O8lVsfj4Dj44yeQcMrJn7esED4aBxtnWc8H/RXOvtO3+yuJiPiY2v5+azSWeIW/3Y9+HWIAWLBxb91PEBwD134Kp/7eag36/Fb4+q/gdtVfkdnr4d9DraATkQzXzaqfoAPgHwJXvQNnTbCez/sbfPJnqCyrn/OLiIiHwo54TY2lI06EIwAuew0G3mc9X/wCvHeN1WpysnYuhzeHQcEeiE2F676G6A4nf95D2fxg2ONw4bNg+MEv71nz8bjd9fs+IiItnMKOeM05na2ws2JHLnklFSd2EsOAgXfDqDfAzx82fGmFlLxdJ17Y1vnw1ggoOWANG//TlxCWeOLnO54+4+CaD8ERbHW6XvZaw72XiEgLpLAjXpMUFUSH2GBcbpPvN+07qXOZp4wi78qPqQyIhszVFL10Dq+9+zE3/t9yXp6/pfYnWvc5vP17qCiClHPg2s8gKOqkaquVDufCeQ9bj799CHLSG/49RURaCI3GEq8a2CWOLXvTmb8hmwt7tKrVa37OyGX+hr3szi1hV26J576s0k0b4wHecPydLmU7Gb3uLyyruIknf+1Du+ggLjj1COd3u61gU1YIG7+CmXdYsx2njrBai+z+9fyJj6H3OFj7KWz7Dj672QpaNv3/iIjIyfL50Vi7du3i7rvv5quvvqK4uJiOHTvy5ptv0rt3bwBM0+TBBx/ktddeIzc3l/79+/Pyyy/TqVOnWr+HRmN5z3eb9vLHN34kLtSfpfcNxjjGaKTN2QU8NWsD36zNOuJ+w4C4UH86hrn5a/FTdCtehhuDr129CfCD/skBOCuLrLWsygutgFNeCPzmX4Fe18BF/wQ/L/y/QM5WeLk/VBRbfXn6jGv8GkREmoja/n77dMvOgQMH6N+/P4MGDeKrr74iNjaWTZs2ERkZ6TnmqaeeYtq0abz11lukpKQwZcoUhg4dytq1awkICPBi9VIbZ6ZEEejwI7ugjLV78umeePgQ9N25JTz37UY+XL4Ttwk2Ay44pRVdE0JJjAgkMSKQNpGBxIcF4LRXtYS4zoVZ92Bb9hoX+C2ztu04RiGGzZpDp88NMOg+7w0Bj2oPgx+AWfdYs0l3Os8aCSYiIifMp1t27rnnHhYtWsR33313xP2maZKYmMgdd9zB5MmTAcjLyyM+Pp7p06dz1VVX1ep91LLjXeOmL2PO+mzuHNqFCYM6erYfKCrnpfmbeWvxdsorrRFK53eL586hXegUH1q7k2/8mqwtP/PCD5nkuQL4w++6cVZqO3CGgH/owXtHoO/MceN2w5sXWHMItR9kze3jK7WJiPiQZjHPzmeffUbv3r35/e9/T1xcHL169eK11w6OVElPTyczM5MhQw5O2x8eHk7fvn1ZvHjxUc9bVlZGfn5+jZt4T/UQ9AUbrPl2issreWHuJs5+ah6vfZdOeaWbvilRfHxTP/51be/aBx2AzkOJv+Au4gbeyGfu/oxfGktWVG9IPM0aSh4aD84g3woTNhuMfNFaI2zrPFj5X29XJCLSpPl02Nm6daun/83XX3/NjTfeyC233MJbb70FQGZmJgDx8fE1XhcfH+/ZdyRTp04lPDzcc0tKSmq4DyHHdU5naxX05TsO8Pp3Wznn7/N5+puNFJRVktoqjOl/6sO748/i9OTI45zp6G4c2IGebcLJL63k7o9+wYcbNC0xHa1ZlcGaLPFkhtKLiLRwPh123G43p59+Oo8//ji9evVi/Pjx3HDDDbzyyisndd57772XvLw8zy0jI6OeKpYTkRwdRPsYawj6YzPXsbegjOSoIP551WnMvHkAA7vEHbPjcm3Y/Ww8c0VPnHYb8zfs5f2fmsB3njYBWveGsnz44jbw9YAmIuKjfDrstGrVim7dutXYlpqayo4dVk/ThIQEALKyao7OycrK8uw7En9/f8LCwmrcxLuGVw0Ljwlx8sjI7nw76RxGntYam63+Li91jAtl8vnWCumPfrGOnQeK6+3cDcLmZ13O8nPCpm/g53e9XZGISJPk02Gnf//+bNiwoca2jRs30rZtWwBSUlJISEhgzpw5nv35+fksXbqUtLS0Rq1VTs6tQzrxzvV9WXDnIK5Na3dwVFU9GzegPb3bRlJYVsldH/6C2+3jrSVxXWHgPdbjWXdDwdEvz4qIyJH5dNi5/fbbWbJkCY8//jibN2/mnXfe4V//+hcTJliLJxqGwW233cZjjz3GZ599xurVq7n22mtJTEzkkksu8W7xUicOPxv9OsYQ7N+wsyH42Qye/n1PAh1+/LBlP/+3dHuDvl+96HcrtDoNSvPgi0m6nCUiUkc+HXb69OnDJ598wv/+9z9OOeUUHn30UZ577jlGjx7tOeauu+7i5ptvZvz48fTp04fCwkJmzZqlOXbkqNrFBHPPBV0BmPrlerbtK/JyRcfhZ4dLXgKbAzbMhF8/8nZFIiJNik/Ps9NYNM9Oy+N2m1zzxlJ+2LKf3m0jee/PafjVY/+gBrHgKZj3NwiMgglLISTO2xWJiHhVs5hnR6Sh2GwGT13egxB/Oz9tP8Ab32/1dknHN+B2SDgVSnLgy8nerkZEpMlQ2JEWq01kEPdfmArA099sZFNWgZcrOg4/B4x8CWx2a8HQJa9Ysy2LiMgxKexIi3ZlnyQGdomlvNLNHR/8TKXLx8NDqx7wuzusx7PuhjeHwZ5fvFuTiIiPU9iRFs0wDJ4c1YOwADu/7MzjyVnrfX925XPuhiEPgyMYMpbCv86BmZOh5IC3KxMR8UkKO9LixYcF8OglpwDw2nfp3PXhL1T4cguPzQ8G3AYTl0H3y8B0w7LX4PkzYMV/dGlLROQ3NBoLjcYSyztLd3D/jNW4TfhdpxheGn06oQEOb5d1fOkL4cs7Ye9663nrM2D409D69IZ/b7cLivdDYRYUZFn3hVlQmH3wvuQARLeHxNOt2hJPg4Dwhq9NRJq92v5+K+ygsCMHzV2fxYS3V1JS4fIsQhof1gTmbHJVwNJXYf4TUF4AGHDGGBj8IARFnfz5K8th7zrYvQr2rII9P0PeTijaa7Us1VVM56rgUxWAEk4Bu//J1ykiLYrCTh0o7MihftmZy3XTl7GvsJzE8ACmX3cmneNDvV1W7RRkwjdTYPX71vPASKuPT3x38A+DgDDwD7fu/Y7SalVZDtlrrVBTHW6y1oCr/ChvakBwLITEW3P/VN+HJlj3/mGQvQ52r4BdyyF3x+GnsDmswJPcz+qAHRx98n8LEWn2FHbqQGFHfisjp5gxb/7I1r1FhAbYefWPZ9CvQ4y3y6q9bYusS1vZa45+jD2wKvyEgX+o9bg07+jBJiAcWvW0lq5IPA2iO1rBJijGmuW5tor2wa6q4LNruRWCivcf3B/WBn7/JiSdWftzikiLpLBTBwo7ciQHisq54T8/8dP2Azj8rDW1Rp7W2ttl1Z6rEn56w1peouQAlOZDWT5U1GK194Dwg6Gm+j4yBYwGmGXaNCF3O+z8CeZPhf2brbmEznsEzrqpYd5TRJoFhZ06UNiRoymtcDHp/VV8udpabfyuYV248ZwOGE35B9hVAWUFVvCpDkDV93Z/q/WmoYLN8ZQVwGe3wJqPreddL4KRL0JgROPXIiI+T2GnDhR25FjcbpO/fbmON75PB+Cas5J5aER37H6auaFBmCYsex2+vs+6nBbRFq54CxJ7ebsyEfExCjt1oLAjtfHv79N5dOZaTBMGdYllRM9EIoOchAc5iAxyEhHoICzQ4fsLijYVu1fC+2OsS1x+Thj6OPS5Xpe1RMRDYacOFHaktmb9uodb311FWeWRh1sbBoQFOIgMchAe5CQyyEGbyEAGd42nX8do/O1+jVxxE1eSC59OgPVfWM+7XwYXT7M6VItIi6ewUwcKO1IXqzJymb4onX2F5RwoLie3uILc4nKKyl3HfF2Iv52BXWI5v3sCg7rENo0JC32BacKSl2D2A+CutEaB/f4ta6i6iLRoCjt1oLAj9aG80k1eiRV8cksqOFBkBaFfduXyzZossgvKPMc6/Wz06xjN0O4JDEmNJzZUE+odV8aP8MFYyN8F9gAY+jc4fWzdhr2LSLOisFMHCjvS0Nxuk5935vL1miy+WZPJ1n1Fnn2GAWckRzK0ewIX9mhFYkSgFyv1cUX74ZM/w+bZ1vPIFGsSwp5XHX2SRBFpthR26kBhRxrb5uwCT/D5eWeeZ7ufzWBEj1aMP7sD3RL1z+IRud2w9BX47umDkxGGJ8PvbofTRmvZCZEWRGGnDhR2xJv25JUwe20WM3/Zw9L0HM/233WK4S/ndKBfh+imPa9PQykvgp/+DYumQVG2tS2sNfS/FU6/FhxqIRNp7hR26kBhR3zFr7vyeHXhVmb+sht31b+Z3RPD+PM5HRh+SoLm9jmSihJY/hYseg4K9ljbQuKh3y3Q+0/gDPZqeSLScBR26kBhR3xNRk4xb3yfzrvLdlBaYQ1zbxMZyPUDUriiTxJBTnXKPUxFKaz6P/j+OcjLsLYFxUC/iXD6mPpZ/b2uqpfCKMiyJkh0lVszWHse/2ab6YZO50Nsl8avVaQJUtipA4Ud8VU5ReX8d/F23lq8jZwia3HOiCAH16a144rebWgTGeTlCn1QZTn88i589wwc2Fa10bCWwWh/DqScA8lp4GyAv11ZgbXI6c5l1lpfO5dB8b66ncPPaa0L1vcvzWMCxZ3LYccP0ONKCInzdjXSzCjs1IHCjvi6knIXH67YyWsLt7Ij5+BCnt1ahXFet3jO7x5Pt1Zh6ttzKFcl/Poh/PA8ZP1ac5+fE9qcCSlnWwGo9Rl1H83ldsP+TdaQ+Opws3ed1TpzKJsDwluDn7/1vn4OqxO1n6Pq+SG3/F2wfZH1uo7nwSUvNc2A4HbDxlnW337HD9a2gHAY/CCc8Sew6XKs1A+FnTpQ2JGmwuU2+XpNJm/9sI1l23I8/XoAWkcEWsGnWzx9UqJwqH/PQfl7IH0hpC+ArQsgf2fN/c4QaNvPavHxc0B5MVQUVd0XW52hK4oPPq8ots5Zlnf4e4UnQZve0KaPdUvoAY6A2tVpmtZK9V//FSpLITgWLnkZOp138n+DxlBRarWq/fCCFQShKuy1gQPW2nK0PgMu+ofV0tZUlRXA3o2ACfGn1P77lXqnsFMHCjvSFOUUlTN3fTbfrMlk4aa9nr49AOGBDs7tGsf53eI5u3Mswf7q4+NhmpCzFbbOt8JP+ndQknPclx2RPRBan34w3LTuDWGtTr7G7HXw4TjIXmM973sjDHnId39Ui3Ng2Rvw46tQtNfa5h9udRDv+2erw/iy12HOo1BeAIbNukw36D7fXvqjvAj2boC9663vJHud9bi6TxhYLXKtToOkM6tufSE0wWsln5T9W2Dj11CWb31HGGBwyGNb1aXVqseOAOg6AkLjvVaywk4dKOxIU1dS7uL7zfv4Zk0mc9Zne/r3ANhtBm2jg+gQG0LHuIO39rEhhCgEWZdcslZbLT67V4LNbvXncQRX3QdZI7ocQQe3OwIhKNrqSNxQkxlWlMK3D1pzCoHVgjDqDYjr2jDvdyJytsLil2Dl/0FlibUtPAnOutEa/v/bIJO/x1rNfs3H1vPQRBg2FbqN9H7/JNOE7T9YE1ZWB5vc7Uc/PjjOumR5pD5Z4ckHg09SH+u788VJL00TstfC2s9g3ecHw3Vd2APhzOuh/20QHFPvJR6Pwk4dKOxIc+JymyzffoDZazP5Zm0W2/cXH/XYVuEBdIwLoUNsCB3iQujWKoyebcI1xN2XbPwaZtxk/ahWL5PRe5z3woHbZbWKLZ9uLdBa3UcpoYc1x1G3kcf/Yd88B2becfDSVsfzYPjfISqlISs/srydsOp/sOrtg/UcKigG4lIhtqsVNGNTredBUVZYOJBu9dvKWAoZy6zA8Nt+W44gSL0Yzr0fIpIa53MdjWnC7hVWuFn7GeRsObjPZod2A6yZyTGtY0131WMOeVy1ff8m638QwPqfgL5/hn43N+rIR4WdOlDYkebKNE0y80vZnF3I5uxCtuwtrHpcxL7CsiO+JjzQwYBOMZzTOZZzOscSH+ajl05akoIsmHEjbJljPe8yHC5+AYKjG6+GfZutQPDzu1Cw++D2judZP3ApZ9ctgFWUwPf/sG6ucivInT3Zmh+poWfBriiB9TOtFqmt87F+ybH6bqVebF2ajO1qhZq6tlaU5sOu5Van9eoAVN23yx4AZ90EA26HgEb8rXG7rEC2rqoFp8ZlOH/ocC50uxg6D6tbUDFN2PwtzH0M9qyytvmHWZ8x7SarU3oDU9ipA4UdaYnyiivYvLeQLdmFbK4KQcu3HyCvpKLGcV0TQhnYJY5zOsdyRttInHa1+nhF9TIZ3z5ohYOQBDhjLHQ+H1r1apgRTqV5sOYTWPWO9cNdLSACTv099L4O4rud3Hvs2wQzJ1kdyAGi2kPaRGu9s/qcENI0rWkBVv0frP6oZufydr+zlhrpdnH9T0LpdlvhZ87DsO07a1twrNVfqde1DbeQrWlC5mpY/T6s/vDghJtgtcJ0Os/6vJ3OP/l+U6YJG76EeY8fHPkYEG6F4L5/adB+WQo7daCwI2JxVS1YOn/DXhZs3MsvO3M59L8QwU4/+nW0Wn1OT44kJSaYQKef9wpuifb8Ah+Ng30bD24LjrN+vDoPhfaDTq7VwO2ygseqt61WgMpSa7vhBx2HwGl/gC4X1G/ri2laP8hf33uwg3NAuBXm+txwcpd+crbCui+swLZ33cHt4clw2tXQ8+rGuXxmmrDhK5g9BfZvtrbFdoXzH7P+rvV1WTI3A1Z/AL+8X/Pz+odb31vqCOg4uGGWU3G7Yd2nMG8q7NtgbQuKti5v9rmhQea2UtipA4UdkSPLKSrnu017WbBhLws37WVfYflhx7SOCCQlJpj2scFV9yG0jwkmMSIQP5vm/WkQ5cVWJ9+NX8OWedYIp2o2B7RNg05DrfAT3fHwH1JXhRUqCrOgMLvqlgX5u61zHjo0P7ar1erR44qGH2VUVgAr37ZasKr7zxh+1g/0WTdZnX6PFwpclVYr1MZZ1mep/tEF6zJS6sXQazS0O9s78/24KuCnN2H+1IOjANsPsvpixXc/sXOW5MLaT62As/37g9v9/KHLMGtCx45DGm+RXLcLfv3Y+ozVfYKC4+DiaVbgqkcKO3WgsCNyfG63ydo9+czfkM3CTfvYkFlw2CWvQzntNtpFB5ESE0yr8EDiwwKID/P33MeFBRDqb9dEiCerstyauG/jN7Dp64OtBtUiUyDxNGt4eHWoOd5Q+4AIOPVyK+Qk9mr8ztBulxVUlr588PIWWLWcdRN0uwTszoPbi3OsTs8bZ1mjqUoPuURls1vzJ50yCk65rFH6kdRKSS589zQsfdW6LGnYoNc1MOj+w4dyu93gKrNa2SrLqx6XWcPgf3nf+tyuQ/5HpN3vrHCaejEERjTmp6rJVQm/vAcLnrRGto1fYP2zWI8UdupAYUek7kzT5EBxBVv3FrJ1XxFb9xaRvq+QrXuL2L6/mHKX+7jnCHDYrPATGkBcmD+twgNoXz1EPjaEyGDncc8hv7F/C2z6xvoB3LYI3EcJpDa79X/bIbHWPDghcdZ9Qg+ro6qvzOmT+asVen75wPqRB6u/Up/rrcCz8WvYsQRM18HXBEZZfVE6D7Uu2fhKwDmSnHT49iFYO8N6bg+AwEgrzLjKrYDjrjz+eWJToeeVcMrl3h/x9VuuCmtqh05D6v3UCjt1oLAjUr9cbpNdB0rYuq+QbfuKyMwvIzu/lKyCUrLzy8jKLyW/9Pj/AY8KdtKxalh8h9hgzxxBieGB2HSJ7PjKCqzRRge2W51iqwNNSLz1g9qUlm0o2mdd/ln2mtU69Vtx3ayQ1nmYNcmjrYn1Jdux1JqDaNdPxznQqFpuxN8aOZV6kXWZKv4U789V5AUKO3WgsCPS+ErKXWQXlJKVX+a533mgmC17i9iSXciu3JKjvjbQ4Ufn+BB6JUfSKzmCXkmRJEUF6pJYS1BZbrWCrPyvNXtx52FWK05kW29XdvKqJ/lzV1phxu60WnqqH/tVrammf849FHbqQGFHxPcUlVWSvq/osDmCtu0vosJ1+H+2ooOdVvBJjqRXUgQ9kiI0Q7RIM6ewUwcKOyJNR4XLzY6cYn7dlcfKHbmszMhl7e68wwKQYUCX+FB6JUfQLjqYmBB/YkL9iQlxEhviT1SwUzNFizRxCjt1oLAj0rSVVrhYszuflTsOsDIjl1U7co95GQysMBQZ5CQ62OkJQrEh/iRGBNAmMog2kYEkRQYRFqgRYyK+SmGnDhR2RJqfrPxSVu7I5eeduezJLWF/UTl7C8rYV1hOTlEZ7lr+ly/U307ryEBPAGpT9bhVeAChAXZCAxyEBtjxt9sUikQamcJOHSjsiLQsLrfJgeJy9hWWsa+gnP1FZewtsG47c0vYeaCEXQeKjziJ4tE4/AxP8Anxtx8MQv52gvz9CLD74e+wHbx3HNzmf8i+8EAH0SFOIoOczWZpDtM0FQSlQdT291u990SkxfGzGdalqxB/OMakwCXlLnblFpNxwApAOw8UV92XkJ1fSkFpJYVl1hD6CpdJTlE5OUW1D0jHE+pvJyrESVSwk6igqvsQ63FkkBOH3cDPZsNuM7AZBnabgZ9f1b1h4GczsPtZ+/xsh9wMA5vN8Lzu0H0OPxsBDhtOv9q1VJmmSX5JJTtzi9l1oIRduSUH76se5xSXExnkJCbEumQYG+pf4z4mxEls1WXEsECHVbfNUECSeqOWHdSyIyInzu02KSyvtIJPaSUFpRUUlFnPC0orKCitpLjcRVmli7IKN2WVLkor3JRWuCirrHlfUuEiv6SCnKLyWl9mayiGAf72mi1QAXY/Aqpaohx2g30F5ezKLfEEvoaowc84Skg7JKzZ/QxPQDr43IafAXabDT+bQbC/nbAAOyEB9hqXH0P87YRVPQ4NcBDgsFFS4aK43EVJuXVfXF7peWzts77TykM6xR+ay4wan8F6ZrcZOO3W3866t+Gsuvkf8tzhZ6O80k1JhfXPSUmFi9Kq97W2WbeSchcVbtPznQQ4/Ah0HHxcfave5mczME1wmybuqnuz6rHLbVY9tx6XVrooKqukqMz6rIVV99Xbiqoel1a4rb9foPU3DA90EBboICzAbt0HOggLcBAWaCc80EHb6OB6HyGplh0RkUZgsxnWf9ADHPV2TrfbJK+kgpxiq6Vof2E5B6oeV99yi8updJu43GaNe7fnuRvXEba7zZrbXFXPrR+8gzWYJlWhzA0cfVmQatHBTlpHBtI6ouoWefA+Otif3JJy9hWUs7ewtOq+jH0FZewtLDtqXyrThErTqlWavjfG9GZwavzxD2wACjsiIj7GZjOIDHYSGeykQ2zjva9pmpS7rIBT3RJ1aMtT6SEtU+UuF1HB/p5wE+g89ozFCeEBx7xkCFarQlF5pRXCfhvE3FDpdleFtarHh2yrdB18TaXbxOU6+PoKl5uiMheFZRVVLW6V5JdWVLXEVVJQtb2wtJKSCpenRSTY349Ap50ghx9BTj8CndZ9kNNOoNMPh58NA6gRxQ65WGIesqnC7aa80k1Z5aH3Ls/z6m0VLvfBFrWqOgKdhz62VbXW+GG3GZQd0grkafXx3B/cVuky8bMZ2AyrtclmWJdzqx9XX84Ea9LOkKq+ZsFOO8H+doKc1dvshPhbfwN/u43icqs1Mq+kgvzSCvJLKg95XL29kvySCiKCvLf8i8KOiIgA1o+gv90Pf7sfUH8tVbXlV9VKJlLfmlRX/yeeeALDMLjttts820pLS5kwYQLR0dGEhIQwatQosrKOsG6KiIiItEhNJuwsW7aMV199lR49etTYfvvtt/P555/zwQcfsGDBAnbv3s1ll13mpSpFRETE1zSJsFNYWMjo0aN57bXXiIyM9GzPy8vjjTfe4Nlnn+Xcc8/ljDPO4M033+SHH35gyZIlXqxYREREfEWTCDsTJkzgwgsvZMiQITW2L1++nIqKihrbu3btSnJyMosXLz7q+crKysjPz69xExERkebJ5zsov/vuu6xYsYJly5Ydti8zMxOn00lERESN7fHx8WRmZh71nFOnTuXhhx+u71JFRETEB/l0y05GRga33norb7/9NgEBAfV23nvvvZe8vDzPLSMjo97OLSIiIr7Fp8PO8uXLyc7O5vTTT8dut2O321mwYAHTpk3DbrcTHx9PeXk5ubm5NV6XlZVFQsLRJ3Tw9/cnLCysxk1ERESaJ5++jDV48GBWr15dY9uf/vQnunbtyt13301SUhIOh4M5c+YwatQoADZs2MCOHTtIS0vzRskiIiLiY3w67ISGhnLKKafU2BYcHEx0dLRn+7hx45g0aRJRUVGEhYVx8803k5aWxllnneWNkkVERMTH+HTYqY1//OMf2Gw2Ro0aRVlZGUOHDuWll17ydlkiIiLiI7TqOVr1XEREpCmq7e+3T3dQFhERETlZCjsiIiLSrCnsiIiISLPW5Dso14fqbktaNkJERKTpqP7dPl73Y4UdoKCgAICkpCQvVyIiIiJ1VVBQQHh4+FH3azQW4Ha72b17N6GhoRiGUW/nzc/PJykpiYyMDI3yagL0fTUd+q6aDn1XTUtT+75M06SgoIDExERstqP3zFHLDmCz2WjTpk2DnV9LUjQt+r6aDn1XTYe+q6alKX1fx2rRqaYOyiIiItKsKeyIiIhIs6aw04D8/f158MEH8ff393YpUgv6vpoOfVdNh76rpqW5fl/qoCwiIiLNmlp2REREpFlT2BEREZFmTWFHREREmjWFHREREWnWFHYa0Isvvki7du0ICAigb9++/Pjjj94uqcVbuHAhI0aMIDExEcMwmDFjRo39pmnywAMP0KpVKwIDAxkyZAibNm3yTrEt3NSpU+nTpw+hoaHExcVxySWXsGHDhhrHlJaWMmHCBKKjowkJCWHUqFFkZWV5qeKW7eWXX6ZHjx6eyejS0tL46quvPPv1XfmuJ554AsMwuO222zzbmtv3pbDTQN577z0mTZrEgw8+yIoVK+jZsydDhw4lOzvb26W1aEVFRfTs2ZMXX3zxiPufeuoppk2bxiuvvMLSpUsJDg5m6NChlJaWNnKlsmDBAiZMmMCSJUuYPXs2FRUVnH/++RQVFXmOuf322/n888/54IMPWLBgAbt37+ayyy7zYtUtV5s2bXjiiSdYvnw5P/30E+eeey4jR45kzZo1gL4rX7Vs2TJeffVVevToUWN7s/u+TGkQZ555pjlhwgTPc5fLZSYmJppTp071YlVyKMD85JNPPM/dbreZkJBg/v3vf/dsy83NNf39/c3//e9/XqhQDpWdnW0C5oIFC0zTtL4bh8NhfvDBB55j1q1bZwLm4sWLvVWmHCIyMtJ8/fXX9V35qIKCArNTp07m7NmzzXPOOce89dZbTdNsnv9uqWWnAZSXl7N8+XKGDBni2Waz2RgyZAiLFy/2YmVyLOnp6WRmZtb43sLDw+nbt6++Nx+Ql5cHQFRUFADLly+noqKixvfVtWtXkpOT9X15mcvl4t1336WoqIi0tDR9Vz5qwoQJXHjhhTW+F2ie/25pIdAGsG/fPlwuF/Hx8TW2x8fHs379ei9VJceTmZkJcMTvrXqfeIfb7ea2226jf//+nHLKKYD1fTmdTiIiImocq+/Le1avXk1aWhqlpaWEhITwySef0K1bN1atWqXvyse8++67rFixgmXLlh22rzn+u6WwIyI+b8KECfz66698//333i5FjqFLly6sWrWKvLw8PvzwQ8aMGcOCBQu8XZb8RkZGBrfeeiuzZ88mICDA2+U0Cl3GagAxMTH4+fkd1nM9KyuLhIQEL1Ulx1P93eh78y0TJ07kiy++YN68ebRp08azPSEhgfLycnJzc2scr+/Le5xOJx07duSMM85g6tSp9OzZk3/+85/6rnzM8uXLyc7O5vTTT8dut2O321mwYAHTpk3DbrcTHx/f7L4vhZ0G4HQ6OeOMM5gzZ45nm9vtZs6cOaSlpXmxMjmWlJQUEhISanxv+fn5LF26VN+bF5imycSJE/nkk0+YO3cuKSkpNfafccYZOByOGt/Xhg0b2LFjh74vH+F2uykrK9N35WMGDx7M6tWrWbVqlefWu3dvRo8e7Xnc3L4vXcZqIJMmTWLMmDH07t2bM888k+eee46ioiL+9Kc/ebu0Fq2wsJDNmzd7nqenp7Nq1SqioqJITk7mtttu47HHHqNTp06kpKQwZcoUEhMTueSSS7xXdAs1YcIE3nnnHT799FNCQ0M9fQXCw8MJDAwkPDyccePGMWnSJKKioggLC+Pmm28mLS2Ns846y8vVtzz33nsvF1xwAcnJyRQUFPDOO+8wf/58vv76a31XPiY0NNTT961acHAw0dHRnu3N7vvy9nCw5uz55583k5OTTafTaZ555pnmkiVLvF1Sizdv3jwTOOw2ZswY0zSt4edTpkwx4+PjTX9/f3Pw4MHmhg0bvFt0C3Wk7wkw33zzTc8xJSUl5k033WRGRkaaQUFB5qWXXmru2bPHe0W3YNddd53Ztm1b0+l0mrGxsebgwYPNb775xrNf35VvO3TouWk2v+/LME3T9FLOEhEREWlw6rMjIiIizZrCjoiIiDRrCjsiIiLSrCnsiIiISLOmsCMiIiLNmsKOiIiINGsKOyIiItKsKeyIiPzG/PnzMQzjsLWBRKRpUtgRERGRZk1hR0RERJo1hR0R8Tlut5upU6eSkpJCYGAgPXv25MMPPwQOXmKaOXMmPXr0ICAggLPOOotff/21xjk++ugjunfvjr+/P+3ateOZZ56psb+srIy7776bpKQk/P396dixI2+88UaNY5YvX07v3r0JCgqiX79+bNiwoWE/uIg0CIUdEfE5U6dO5T//+Q+vvPIKa9as4fbbb+eaa65hwYIFnmPuvPNOnnnmGZYtW0ZsbCwjRoygoqICsELKFVdcwVVXXcXq1at56KGHmDJlCtOnT/e8/tprr+V///sf06ZNY926dbz66quEhITUqOOvf/0rzzzzDD/99BN2u53rrruuUT6/iNQvLQQqIj6lrKyMqKgovv32W9LS0jzbr7/+eoqLixk/fjyDBg3i3Xff5corrwQgJyeHNm3aMH36dK644gpGjx7N3r17+eabbzyvv+uuu5g5cyZr1qxh48aNdOnShdmzZzNkyJDDapg/fz6DBg3i22+/ZfDgwQB8+eWXXHjhhZSUlBAQENDAfwURqU9q2RERn7J582aKi4s577zzCAkJ8dz+85//sGXLFs9xhwahqKgounTpwrp16wBYt24d/fv3r3He/v37s2nTJlwuF6tWrcLPz49zzjnnmLX06NHD87hVq1YAZGdnn/RnFJHGZfd2ASIihyosLARg5syZtG7dusY+f3//GoHnRAUGBtbqOIfD4XlsGAZg9ScSkaZFLTsi4lO6deuGv78/O3bsoGPHjjVuSUlJnuOWLFnieXzgwAE2btxIamoqAKmpqSxatKjGeRctWkTnzp3x8/Pj1FNPxe121+gDJCLNl1p2RMSnhIaGMnnyZG6//XbcbjcDBgwgLy+PRYsWERYWRtu2bQF45JFHiI6OJj4+nr/+9a/ExMRwySWXAHDHHXfQp08fHn30Ua688koWL17MCy+8wEsvvQRAu3btGDNmDNdddx3Tpk2jZ8+ebN++nezsbK644gpvfXQRaSAKOyLicx599FFiY2OZOnUqW7duJSIigtNPP5377rvPcxnpiSee4NZbb2XTpk2cdtppfP755zidTgBOP/103n//fR544AEeffRRWrVqxSOPPMLYsWM97/Hyyy9z3333cdNNN7F//36Sk5O57777vPFxRaSBaTSWiDQp1SOlDhw4QEREhLfLEZEmQH12REREpFlT2BEREZFmTZexREREpFlTy46IiIg0awo7IiIi0qwp7IiIiEizprAjIiIizZrCjoiIiDRrCjsiIiLSrCnsiIiISLOmsCMiIiLNmsKOiIiINGv/D6NYaepKmplKAAAAAElFTkSuQmCC)"
      ]
    },
    {
      "cell_type": "markdown",
      "id": "8wqOciK1qmtO",
      "metadata": {
        "id": "8wqOciK1qmtO"
      },
      "source": [
        "### **Evaluar código**"
      ]
    },
    {
      "cell_type": "code",
      "execution_count": 168,
      "id": "9P3YxPkU-B4N",
      "metadata": {
        "id": "9P3YxPkU-B4N",
        "colab": {
          "base_uri": "https://localhost:8080/",
          "height": 141
        },
        "outputId": "a045a43a-406d-4ab4-d105-a20241f0b19d"
      },
      "outputs": [
        {
          "output_type": "stream",
          "name": "stdout",
          "text": [
            "Test 2_2_1\n"
          ]
        },
        {
          "output_type": "display_data",
          "data": {
            "text/plain": [
              "<IPython.core.display.HTML object>"
            ],
            "text/html": [
              "<h4>Test Run correctly</h4>"
            ]
          },
          "metadata": {}
        },
        {
          "output_type": "display_data",
          "data": {
            "text/plain": [
              "<IPython.core.display.HTML object>"
            ],
            "text/html": [
              "<h6 style=\"color: green;\">Your test grade: 100</h6>\n",
              "<h6>Feedback: Probando código ejemplo.</h6>"
            ]
          },
          "metadata": {}
        }
      ],
      "source": [
        "grader.run_test(\"Test 2_2_1\", globals())"
      ]
    },
    {
      "cell_type": "code",
      "execution_count": 169,
      "id": "CN_NdCNB--xp",
      "metadata": {
        "id": "CN_NdCNB--xp",
        "colab": {
          "base_uri": "https://localhost:8080/",
          "height": 141
        },
        "outputId": "aa2bfcbf-c475-4b8f-c9f4-9674d70d5bf6"
      },
      "outputs": [
        {
          "output_type": "stream",
          "name": "stdout",
          "text": [
            "Test 2_2_2\n"
          ]
        },
        {
          "output_type": "display_data",
          "data": {
            "text/plain": [
              "<IPython.core.display.HTML object>"
            ],
            "text/html": [
              "<h4>Test Run correctly</h4>"
            ]
          },
          "metadata": {}
        },
        {
          "output_type": "display_data",
          "data": {
            "text/plain": [
              "<IPython.core.display.HTML object>"
            ],
            "text/html": [
              "<h6 style=\"color: green;\">Your test grade: 100</h6>\n",
              "<h6>Feedback: Probando código ejemplo.</h6>"
            ]
          },
          "metadata": {}
        }
      ],
      "source": [
        "grader.run_test(\"Test 2_2_2\", globals())"
      ]
    },
    {
      "cell_type": "code",
      "execution_count": 170,
      "id": "27Tfx83TBDsv",
      "metadata": {
        "id": "27Tfx83TBDsv",
        "colab": {
          "base_uri": "https://localhost:8080/",
          "height": 141
        },
        "outputId": "eb03e69d-9c7c-4a6c-bd3a-83cb188ff2c3"
      },
      "outputs": [
        {
          "output_type": "stream",
          "name": "stdout",
          "text": [
            "Test 2_2_3\n"
          ]
        },
        {
          "output_type": "display_data",
          "data": {
            "text/plain": [
              "<IPython.core.display.HTML object>"
            ],
            "text/html": [
              "<h4>Test Run correctly</h4>"
            ]
          },
          "metadata": {}
        },
        {
          "output_type": "display_data",
          "data": {
            "text/plain": [
              "<IPython.core.display.HTML object>"
            ],
            "text/html": [
              "<h6 style=\"color: green;\">Your test grade: 100</h6>\n",
              "<h6>Feedback: Probando código ejemplo.</h6>"
            ]
          },
          "metadata": {}
        }
      ],
      "source": [
        "grader.run_test(\"Test 2_2_3\", globals())"
      ]
    },
    {
      "cell_type": "markdown",
      "id": "U50jFKJxDEmb",
      "metadata": {
        "id": "U50jFKJxDEmb"
      },
      "source": [
        "## **2.3 Evaluación**\n",
        "---\n",
        "\n",
        "Ahora vamos a utilizar los datos reservados de la partición de prueba para evaluar la exactitud o *accuracy* del modelo en la clasificación de entradas nunca antes vistas.\n",
        "\n",
        "Complete la función **`evaluate_model`** para que retorne la exactitud de un modelo **`model`** sobre los arreglos **`X_test`** y **`y_test`**.\n",
        "\n",
        "**Entrada**:\n",
        "\n",
        "* **`model`**: un modelo de Keras compilado y entrenado.\n",
        "* **`X_test`**: Los datos de prueba.\n",
        "* **`y_test`**: Las etiquetas de los datos de prueba.\n",
        "\n",
        "**Salida**:\n",
        "* **`mae`**: el error medio absoluto del modelo en los datos de prueba."
      ]
    },
    {
      "cell_type": "code",
      "execution_count": 135,
      "id": "5xcPkMxfsZcD",
      "metadata": {
        "id": "5xcPkMxfsZcD"
      },
      "outputs": [],
      "source": [
        "# FUNCIÓN CALIFICADA evaluate_regressor:\n",
        "\n",
        "def evaluate_regreesor(model, X_test, y_test):\n",
        "    # Evaluar el modelo en los datos de prueba\n",
        "    results = model.evaluate(X_test, y_test, verbose=0)\n",
        "\n",
        "    # Obtener el Mean Absolute Error (MAE) que se encuentra en la segunda posición del resultado\n",
        "    mae = results[1]  # Asumimos que el MAE es la segunda métrica si fue monitoreado en la compilación\n",
        "\n",
        "    return mae"
      ]
    },
    {
      "cell_type": "code",
      "execution_count": 136,
      "id": "OWU2DFz_dTp_",
      "metadata": {
        "id": "OWU2DFz_dTp_",
        "colab": {
          "base_uri": "https://localhost:8080/"
        },
        "outputId": "6d29a473-423d-481c-96ad-564fb7d00d93"
      },
      "outputs": [
        {
          "output_type": "stream",
          "name": "stdout",
          "text": [
            "Epoch 1/50\n",
            "\u001b[1m3/4\u001b[0m \u001b[32m━━━━━━━━━━━━━━━\u001b[0m\u001b[37m━━━━━\u001b[0m \u001b[1m0s\u001b[0m 40ms/step - loss: 149.7544 - mae: 149.7544 \n",
            "Epoch 1: val_loss improved from inf to 162.67799, saving model to best_regressor.weights.h5\n",
            "\u001b[1m4/4\u001b[0m \u001b[32m━━━━━━━━━━━━━━━━━━━━\u001b[0m\u001b[37m\u001b[0m \u001b[1m0s\u001b[0m 77ms/step - loss: 149.7141 - mae: 149.7141 - val_loss: 162.6780 - val_mae: 162.6780\n",
            "Epoch 2/50\n",
            "\u001b[1m4/4\u001b[0m \u001b[32m━━━━━━━━━━━━━━━━━━━━\u001b[0m\u001b[37m\u001b[0m \u001b[1m0s\u001b[0m 70ms/step - loss: 148.1492 - mae: 148.1492\n",
            "Epoch 2: val_loss improved from 162.67799 to 159.36980, saving model to best_regressor.weights.h5\n",
            "\u001b[1m4/4\u001b[0m \u001b[32m━━━━━━━━━━━━━━━━━━━━\u001b[0m\u001b[37m\u001b[0m \u001b[1m1s\u001b[0m 96ms/step - loss: 148.0667 - mae: 148.0667 - val_loss: 159.3698 - val_mae: 159.3698\n",
            "Epoch 3/50\n",
            "\u001b[1m4/4\u001b[0m \u001b[32m━━━━━━━━━━━━━━━━━━━━\u001b[0m\u001b[37m\u001b[0m \u001b[1m0s\u001b[0m 55ms/step - loss: 144.3042 - mae: 144.3042\n",
            "Epoch 3: val_loss improved from 159.36980 to 152.64738, saving model to best_regressor.weights.h5\n",
            "\u001b[1m4/4\u001b[0m \u001b[32m━━━━━━━━━━━━━━━━━━━━\u001b[0m\u001b[37m\u001b[0m \u001b[1m1s\u001b[0m 96ms/step - loss: 144.1050 - mae: 144.1050 - val_loss: 152.6474 - val_mae: 152.6474\n",
            "Epoch 4/50\n",
            "\u001b[1m4/4\u001b[0m \u001b[32m━━━━━━━━━━━━━━━━━━━━\u001b[0m\u001b[37m\u001b[0m \u001b[1m0s\u001b[0m 68ms/step - loss: 136.7272 - mae: 136.7272\n",
            "Epoch 4: val_loss improved from 152.64738 to 140.61748, saving model to best_regressor.weights.h5\n",
            "\u001b[1m4/4\u001b[0m \u001b[32m━━━━━━━━━━━━━━━━━━━━\u001b[0m\u001b[37m\u001b[0m \u001b[1m1s\u001b[0m 98ms/step - loss: 136.3421 - mae: 136.3421 - val_loss: 140.6175 - val_mae: 140.6175\n",
            "Epoch 5/50\n",
            "\u001b[1m4/4\u001b[0m \u001b[32m━━━━━━━━━━━━━━━━━━━━\u001b[0m\u001b[37m\u001b[0m \u001b[1m0s\u001b[0m 69ms/step - loss: 123.4211 - mae: 123.4211\n",
            "Epoch 5: val_loss improved from 140.61748 to 120.81393, saving model to best_regressor.weights.h5\n",
            "\u001b[1m4/4\u001b[0m \u001b[32m━━━━━━━━━━━━━━━━━━━━\u001b[0m\u001b[37m\u001b[0m \u001b[1m1s\u001b[0m 111ms/step - loss: 122.7582 - mae: 122.7582 - val_loss: 120.8139 - val_mae: 120.8139\n",
            "Epoch 6/50\n",
            "\u001b[1m3/4\u001b[0m \u001b[32m━━━━━━━━━━━━━━━\u001b[0m\u001b[37m━━━━━\u001b[0m \u001b[1m0s\u001b[0m 47ms/step - loss: 104.0311 - mae: 104.0311 \n",
            "Epoch 6: val_loss improved from 120.81393 to 95.25583, saving model to best_regressor.weights.h5\n",
            "\u001b[1m4/4\u001b[0m \u001b[32m━━━━━━━━━━━━━━━━━━━━\u001b[0m\u001b[37m\u001b[0m \u001b[1m0s\u001b[0m 66ms/step - loss: 101.3454 - mae: 101.3454 - val_loss: 95.2558 - val_mae: 95.2558\n",
            "Epoch 7/50\n",
            "\u001b[1m3/4\u001b[0m \u001b[32m━━━━━━━━━━━━━━━\u001b[0m\u001b[37m━━━━━\u001b[0m \u001b[1m0s\u001b[0m 43ms/step - loss: 79.1490 - mae: 79.1490\n",
            "Epoch 7: val_loss improved from 95.25583 to 74.45323, saving model to best_regressor.weights.h5\n",
            "\u001b[1m4/4\u001b[0m \u001b[32m━━━━━━━━━━━━━━━━━━━━\u001b[0m\u001b[37m\u001b[0m \u001b[1m0s\u001b[0m 61ms/step - loss: 76.4537 - mae: 76.4537 - val_loss: 74.4532 - val_mae: 74.4532\n",
            "Epoch 8/50\n",
            "\u001b[1m3/4\u001b[0m \u001b[32m━━━━━━━━━━━━━━━\u001b[0m\u001b[37m━━━━━\u001b[0m \u001b[1m0s\u001b[0m 40ms/step - loss: 61.8939 - mae: 61.8939\n",
            "Epoch 8: val_loss improved from 74.45323 to 63.86236, saving model to best_regressor.weights.h5\n",
            "\u001b[1m4/4\u001b[0m \u001b[32m━━━━━━━━━━━━━━━━━━━━\u001b[0m\u001b[37m\u001b[0m \u001b[1m0s\u001b[0m 65ms/step - loss: 60.9781 - mae: 60.9781 - val_loss: 63.8624 - val_mae: 63.8624\n",
            "Epoch 9/50\n",
            "\u001b[1m3/4\u001b[0m \u001b[32m━━━━━━━━━━━━━━━\u001b[0m\u001b[37m━━━━━\u001b[0m \u001b[1m0s\u001b[0m 40ms/step - loss: 62.2508 - mae: 62.2508 \n",
            "Epoch 9: val_loss did not improve from 63.86236\n",
            "\u001b[1m4/4\u001b[0m \u001b[32m━━━━━━━━━━━━━━━━━━━━\u001b[0m\u001b[37m\u001b[0m \u001b[1m0s\u001b[0m 53ms/step - loss: 62.3687 - mae: 62.3687 - val_loss: 64.5326 - val_mae: 64.5326\n",
            "Epoch 10/50\n",
            "\u001b[1m3/4\u001b[0m \u001b[32m━━━━━━━━━━━━━━━\u001b[0m\u001b[37m━━━━━\u001b[0m \u001b[1m0s\u001b[0m 43ms/step - loss: 64.3297 - mae: 64.3297\n",
            "Epoch 10: val_loss improved from 63.86236 to 60.92392, saving model to best_regressor.weights.h5\n",
            "\u001b[1m4/4\u001b[0m \u001b[32m━━━━━━━━━━━━━━━━━━━━\u001b[0m\u001b[37m\u001b[0m \u001b[1m0s\u001b[0m 66ms/step - loss: 63.5398 - mae: 63.5398 - val_loss: 60.9239 - val_mae: 60.9239\n",
            "Epoch 11/50\n",
            "\u001b[1m4/4\u001b[0m \u001b[32m━━━━━━━━━━━━━━━━━━━━\u001b[0m\u001b[37m\u001b[0m \u001b[1m0s\u001b[0m 46ms/step - loss: 57.8309 - mae: 57.8309\n",
            "Epoch 11: val_loss improved from 60.92392 to 60.79733, saving model to best_regressor.weights.h5\n",
            "\u001b[1m4/4\u001b[0m \u001b[32m━━━━━━━━━━━━━━━━━━━━\u001b[0m\u001b[37m\u001b[0m \u001b[1m0s\u001b[0m 69ms/step - loss: 57.4050 - mae: 57.4050 - val_loss: 60.7973 - val_mae: 60.7973\n",
            "Epoch 12/50\n",
            "\u001b[1m3/4\u001b[0m \u001b[32m━━━━━━━━━━━━━━━\u001b[0m\u001b[37m━━━━━\u001b[0m \u001b[1m0s\u001b[0m 60ms/step - loss: 54.9484 - mae: 54.9484\n",
            "Epoch 12: val_loss did not improve from 60.79733\n",
            "\u001b[1m4/4\u001b[0m \u001b[32m━━━━━━━━━━━━━━━━━━━━\u001b[0m\u001b[37m\u001b[0m \u001b[1m0s\u001b[0m 68ms/step - loss: 53.9954 - mae: 53.9954 - val_loss: 64.5626 - val_mae: 64.5626\n",
            "Epoch 13/50\n",
            "\u001b[1m3/4\u001b[0m \u001b[32m━━━━━━━━━━━━━━━\u001b[0m\u001b[37m━━━━━\u001b[0m \u001b[1m0s\u001b[0m 43ms/step - loss: 54.3430 - mae: 54.3430\n",
            "Epoch 13: val_loss did not improve from 60.79733\n",
            "\u001b[1m4/4\u001b[0m \u001b[32m━━━━━━━━━━━━━━━━━━━━\u001b[0m\u001b[37m\u001b[0m \u001b[1m0s\u001b[0m 57ms/step - loss: 53.4154 - mae: 53.4154 - val_loss: 65.5839 - val_mae: 65.5839\n",
            "Epoch 14/50\n",
            "\u001b[1m3/4\u001b[0m \u001b[32m━━━━━━━━━━━━━━━\u001b[0m\u001b[37m━━━━━\u001b[0m \u001b[1m0s\u001b[0m 43ms/step - loss: 53.8240 - mae: 53.8240\n",
            "Epoch 14: val_loss did not improve from 60.79733\n",
            "\u001b[1m4/4\u001b[0m \u001b[32m━━━━━━━━━━━━━━━━━━━━\u001b[0m\u001b[37m\u001b[0m \u001b[1m0s\u001b[0m 58ms/step - loss: 52.6686 - mae: 52.6686 - val_loss: 62.1879 - val_mae: 62.1879\n",
            "Epoch 15/50\n",
            "\u001b[1m4/4\u001b[0m \u001b[32m━━━━━━━━━━━━━━━━━━━━\u001b[0m\u001b[37m\u001b[0m \u001b[1m0s\u001b[0m 45ms/step - loss: 51.2511 - mae: 51.2511\n",
            "Epoch 15: val_loss improved from 60.79733 to 57.27717, saving model to best_regressor.weights.h5\n",
            "\u001b[1m4/4\u001b[0m \u001b[32m━━━━━━━━━━━━━━━━━━━━\u001b[0m\u001b[37m\u001b[0m \u001b[1m0s\u001b[0m 71ms/step - loss: 50.7909 - mae: 50.7909 - val_loss: 57.2772 - val_mae: 57.2772\n",
            "Epoch 16/50\n",
            "\u001b[1m3/4\u001b[0m \u001b[32m━━━━━━━━━━━━━━━\u001b[0m\u001b[37m━━━━━\u001b[0m \u001b[1m0s\u001b[0m 44ms/step - loss: 51.1020 - mae: 51.1020\n",
            "Epoch 16: val_loss improved from 57.27717 to 54.40543, saving model to best_regressor.weights.h5\n",
            "\u001b[1m4/4\u001b[0m \u001b[32m━━━━━━━━━━━━━━━━━━━━\u001b[0m\u001b[37m\u001b[0m \u001b[1m0s\u001b[0m 65ms/step - loss: 49.8937 - mae: 49.8937 - val_loss: 54.4054 - val_mae: 54.4054\n",
            "Epoch 17/50\n",
            "\u001b[1m3/4\u001b[0m \u001b[32m━━━━━━━━━━━━━━━\u001b[0m\u001b[37m━━━━━\u001b[0m \u001b[1m0s\u001b[0m 43ms/step - loss: 50.7311 - mae: 50.7311\n",
            "Epoch 17: val_loss improved from 54.40543 to 53.52409, saving model to best_regressor.weights.h5\n",
            "\u001b[1m4/4\u001b[0m \u001b[32m━━━━━━━━━━━━━━━━━━━━\u001b[0m\u001b[37m\u001b[0m \u001b[1m0s\u001b[0m 62ms/step - loss: 49.4874 - mae: 49.4874 - val_loss: 53.5241 - val_mae: 53.5241\n",
            "Epoch 18/50\n",
            "\u001b[1m3/4\u001b[0m \u001b[32m━━━━━━━━━━━━━━━\u001b[0m\u001b[37m━━━━━\u001b[0m \u001b[1m0s\u001b[0m 42ms/step - loss: 50.0265 - mae: 50.0265 \n",
            "Epoch 18: val_loss did not improve from 53.52409\n",
            "\u001b[1m4/4\u001b[0m \u001b[32m━━━━━━━━━━━━━━━━━━━━\u001b[0m\u001b[37m\u001b[0m \u001b[1m0s\u001b[0m 59ms/step - loss: 48.7134 - mae: 48.7134 - val_loss: 53.9191 - val_mae: 53.9191\n",
            "Epoch 19/50\n",
            "\u001b[1m3/4\u001b[0m \u001b[32m━━━━━━━━━━━━━━━\u001b[0m\u001b[37m━━━━━\u001b[0m \u001b[1m0s\u001b[0m 42ms/step - loss: 49.0768 - mae: 49.0768 \n",
            "Epoch 19: val_loss did not improve from 53.52409\n",
            "\u001b[1m4/4\u001b[0m \u001b[32m━━━━━━━━━━━━━━━━━━━━\u001b[0m\u001b[37m\u001b[0m \u001b[1m0s\u001b[0m 54ms/step - loss: 47.7778 - mae: 47.7778 - val_loss: 54.5207 - val_mae: 54.5207\n",
            "Epoch 20/50\n",
            "\u001b[1m3/4\u001b[0m \u001b[32m━━━━━━━━━━━━━━━\u001b[0m\u001b[37m━━━━━\u001b[0m \u001b[1m0s\u001b[0m 44ms/step - loss: 48.5771 - mae: 48.5771 \n",
            "Epoch 20: val_loss did not improve from 53.52409\n",
            "\u001b[1m4/4\u001b[0m \u001b[32m━━━━━━━━━━━━━━━━━━━━\u001b[0m\u001b[37m\u001b[0m \u001b[1m0s\u001b[0m 56ms/step - loss: 47.2666 - mae: 47.2666 - val_loss: 53.8467 - val_mae: 53.8467\n",
            "Epoch 21/50\n",
            "\u001b[1m3/4\u001b[0m \u001b[32m━━━━━━━━━━━━━━━\u001b[0m\u001b[37m━━━━━\u001b[0m \u001b[1m0s\u001b[0m 41ms/step - loss: 47.9269 - mae: 47.9269 \n",
            "Epoch 21: val_loss improved from 53.52409 to 51.98601, saving model to best_regressor.weights.h5\n",
            "\u001b[1m4/4\u001b[0m \u001b[32m━━━━━━━━━━━━━━━━━━━━\u001b[0m\u001b[37m\u001b[0m \u001b[1m0s\u001b[0m 60ms/step - loss: 46.6360 - mae: 46.6360 - val_loss: 51.9860 - val_mae: 51.9860\n",
            "Epoch 22/50\n",
            "\u001b[1m3/4\u001b[0m \u001b[32m━━━━━━━━━━━━━━━\u001b[0m\u001b[37m━━━━━\u001b[0m \u001b[1m0s\u001b[0m 55ms/step - loss: 47.0876 - mae: 47.0876\n",
            "Epoch 22: val_loss improved from 51.98601 to 49.93987, saving model to best_regressor.weights.h5\n",
            "\u001b[1m4/4\u001b[0m \u001b[32m━━━━━━━━━━━━━━━━━━━━\u001b[0m\u001b[37m\u001b[0m \u001b[1m0s\u001b[0m 68ms/step - loss: 45.8806 - mae: 45.8806 - val_loss: 49.9399 - val_mae: 49.9399\n",
            "Epoch 23/50\n",
            "\u001b[1m3/4\u001b[0m \u001b[32m━━━━━━━━━━━━━━━\u001b[0m\u001b[37m━━━━━\u001b[0m \u001b[1m0s\u001b[0m 44ms/step - loss: 46.6104 - mae: 46.6104\n",
            "Epoch 23: val_loss improved from 49.93987 to 49.14960, saving model to best_regressor.weights.h5\n",
            "\u001b[1m4/4\u001b[0m \u001b[32m━━━━━━━━━━━━━━━━━━━━\u001b[0m\u001b[37m\u001b[0m \u001b[1m0s\u001b[0m 64ms/step - loss: 45.4391 - mae: 45.4391 - val_loss: 49.1496 - val_mae: 49.1496\n",
            "Epoch 24/50\n",
            "\u001b[1m3/4\u001b[0m \u001b[32m━━━━━━━━━━━━━━━\u001b[0m\u001b[37m━━━━━\u001b[0m \u001b[1m0s\u001b[0m 41ms/step - loss: 46.0797 - mae: 46.0797 \n",
            "Epoch 24: val_loss improved from 49.14960 to 48.80516, saving model to best_regressor.weights.h5\n",
            "\u001b[1m4/4\u001b[0m \u001b[32m━━━━━━━━━━━━━━━━━━━━\u001b[0m\u001b[37m\u001b[0m \u001b[1m0s\u001b[0m 62ms/step - loss: 44.9664 - mae: 44.9664 - val_loss: 48.8052 - val_mae: 48.8052\n",
            "Epoch 25/50\n",
            "\u001b[1m4/4\u001b[0m \u001b[32m━━━━━━━━━━━━━━━━━━━━\u001b[0m\u001b[37m\u001b[0m \u001b[1m0s\u001b[0m 47ms/step - loss: 44.9142 - mae: 44.9142\n",
            "Epoch 25: val_loss did not improve from 48.80516\n",
            "\u001b[1m4/4\u001b[0m \u001b[32m━━━━━━━━━━━━━━━━━━━━\u001b[0m\u001b[37m\u001b[0m \u001b[1m0s\u001b[0m 65ms/step - loss: 44.5184 - mae: 44.5184 - val_loss: 48.8352 - val_mae: 48.8352\n",
            "Epoch 26/50\n",
            "\u001b[1m3/4\u001b[0m \u001b[32m━━━━━━━━━━━━━━━\u001b[0m\u001b[37m━━━━━\u001b[0m \u001b[1m0s\u001b[0m 44ms/step - loss: 45.1894 - mae: 45.1894\n",
            "Epoch 26: val_loss did not improve from 48.80516\n",
            "\u001b[1m4/4\u001b[0m \u001b[32m━━━━━━━━━━━━━━━━━━━━\u001b[0m\u001b[37m\u001b[0m \u001b[1m0s\u001b[0m 58ms/step - loss: 44.2011 - mae: 44.2011 - val_loss: 48.9124 - val_mae: 48.9124\n",
            "Epoch 27/50\n",
            "\u001b[1m3/4\u001b[0m \u001b[32m━━━━━━━━━━━━━━━\u001b[0m\u001b[37m━━━━━\u001b[0m \u001b[1m0s\u001b[0m 41ms/step - loss: 44.9742 - mae: 44.9742 \n",
            "Epoch 27: val_loss improved from 48.80516 to 48.36305, saving model to best_regressor.weights.h5\n",
            "\u001b[1m4/4\u001b[0m \u001b[32m━━━━━━━━━━━━━━━━━━━━\u001b[0m\u001b[37m\u001b[0m \u001b[1m0s\u001b[0m 63ms/step - loss: 44.0224 - mae: 44.0224 - val_loss: 48.3631 - val_mae: 48.3631\n",
            "Epoch 28/50\n",
            "\u001b[1m3/4\u001b[0m \u001b[32m━━━━━━━━━━━━━━━\u001b[0m\u001b[37m━━━━━\u001b[0m \u001b[1m0s\u001b[0m 43ms/step - loss: 44.8374 - mae: 44.8374 \n",
            "Epoch 28: val_loss improved from 48.36305 to 47.84354, saving model to best_regressor.weights.h5\n",
            "\u001b[1m4/4\u001b[0m \u001b[32m━━━━━━━━━━━━━━━━━━━━\u001b[0m\u001b[37m\u001b[0m \u001b[1m0s\u001b[0m 60ms/step - loss: 43.8939 - mae: 43.8939 - val_loss: 47.8435 - val_mae: 47.8435\n",
            "Epoch 29/50\n",
            "\u001b[1m3/4\u001b[0m \u001b[32m━━━━━━━━━━━━━━━\u001b[0m\u001b[37m━━━━━\u001b[0m \u001b[1m0s\u001b[0m 54ms/step - loss: 44.7640 - mae: 44.7640\n",
            "Epoch 29: val_loss improved from 47.84354 to 47.51031, saving model to best_regressor.weights.h5\n",
            "\u001b[1m4/4\u001b[0m \u001b[32m━━━━━━━━━━━━━━━━━━━━\u001b[0m\u001b[37m\u001b[0m \u001b[1m0s\u001b[0m 70ms/step - loss: 43.8243 - mae: 43.8243 - val_loss: 47.5103 - val_mae: 47.5103\n",
            "Epoch 30/50\n",
            "\u001b[1m3/4\u001b[0m \u001b[32m━━━━━━━━━━━━━━━\u001b[0m\u001b[37m━━━━━\u001b[0m \u001b[1m0s\u001b[0m 41ms/step - loss: 44.7121 - mae: 44.7121\n",
            "Epoch 30: val_loss improved from 47.51031 to 47.40320, saving model to best_regressor.weights.h5\n",
            "\u001b[1m4/4\u001b[0m \u001b[32m━━━━━━━━━━━━━━━━━━━━\u001b[0m\u001b[37m\u001b[0m \u001b[1m0s\u001b[0m 62ms/step - loss: 43.7752 - mae: 43.7752 - val_loss: 47.4032 - val_mae: 47.4032\n",
            "Epoch 31/50\n",
            "\u001b[1m3/4\u001b[0m \u001b[32m━━━━━━━━━━━━━━━\u001b[0m\u001b[37m━━━━━\u001b[0m \u001b[1m0s\u001b[0m 43ms/step - loss: 44.6691 - mae: 44.6691 \n",
            "Epoch 31: val_loss improved from 47.40320 to 47.21758, saving model to best_regressor.weights.h5\n",
            "\u001b[1m4/4\u001b[0m \u001b[32m━━━━━━━━━━━━━━━━━━━━\u001b[0m\u001b[37m\u001b[0m \u001b[1m0s\u001b[0m 62ms/step - loss: 43.7372 - mae: 43.7372 - val_loss: 47.2176 - val_mae: 47.2176\n",
            "Epoch 32/50\n",
            "\u001b[1m4/4\u001b[0m \u001b[32m━━━━━━━━━━━━━━━━━━━━\u001b[0m\u001b[37m\u001b[0m \u001b[1m0s\u001b[0m 54ms/step - loss: 44.0490 - mae: 44.0490\n",
            "Epoch 32: val_loss did not improve from 47.21758\n",
            "\u001b[1m4/4\u001b[0m \u001b[32m━━━━━━━━━━━━━━━━━━━━\u001b[0m\u001b[37m\u001b[0m \u001b[1m0s\u001b[0m 69ms/step - loss: 43.6994 - mae: 43.6994 - val_loss: 47.2566 - val_mae: 47.2566\n",
            "Epoch 33/50\n",
            "\u001b[1m4/4\u001b[0m \u001b[32m━━━━━━━━━━━━━━━━━━━━\u001b[0m\u001b[37m\u001b[0m \u001b[1m0s\u001b[0m 44ms/step - loss: 44.0227 - mae: 44.0227\n",
            "Epoch 33: val_loss did not improve from 47.21758\n",
            "\u001b[1m4/4\u001b[0m \u001b[32m━━━━━━━━━━━━━━━━━━━━\u001b[0m\u001b[37m\u001b[0m \u001b[1m0s\u001b[0m 61ms/step - loss: 43.6718 - mae: 43.6718 - val_loss: 47.3654 - val_mae: 47.3654\n",
            "Epoch 34/50\n",
            "\u001b[1m3/4\u001b[0m \u001b[32m━━━━━━━━━━━━━━━\u001b[0m\u001b[37m━━━━━\u001b[0m \u001b[1m0s\u001b[0m 42ms/step - loss: 44.6106 - mae: 44.6106 \n",
            "Epoch 34: val_loss improved from 47.21758 to 46.95468, saving model to best_regressor.weights.h5\n",
            "\u001b[1m4/4\u001b[0m \u001b[32m━━━━━━━━━━━━━━━━━━━━\u001b[0m\u001b[37m\u001b[0m \u001b[1m0s\u001b[0m 64ms/step - loss: 43.6722 - mae: 43.6722 - val_loss: 46.9547 - val_mae: 46.9547\n",
            "Epoch 35/50\n",
            "\u001b[1m3/4\u001b[0m \u001b[32m━━━━━━━━━━━━━━━\u001b[0m\u001b[37m━━━━━\u001b[0m \u001b[1m0s\u001b[0m 39ms/step - loss: 44.6089 - mae: 44.6089 \n",
            "Epoch 35: val_loss did not improve from 46.95468\n",
            "\u001b[1m4/4\u001b[0m \u001b[32m━━━━━━━━━━━━━━━━━━━━\u001b[0m\u001b[37m\u001b[0m \u001b[1m0s\u001b[0m 54ms/step - loss: 43.6660 - mae: 43.6660 - val_loss: 47.1091 - val_mae: 47.1091\n",
            "Epoch 36/50\n",
            "\u001b[1m4/4\u001b[0m \u001b[32m━━━━━━━━━━━━━━━━━━━━\u001b[0m\u001b[37m\u001b[0m \u001b[1m0s\u001b[0m 48ms/step - loss: 44.0026 - mae: 44.0026\n",
            "Epoch 36: val_loss did not improve from 46.95468\n",
            "\u001b[1m4/4\u001b[0m \u001b[32m━━━━━━━━━━━━━━━━━━━━\u001b[0m\u001b[37m\u001b[0m \u001b[1m0s\u001b[0m 65ms/step - loss: 43.6486 - mae: 43.6486 - val_loss: 47.2929 - val_mae: 47.2929\n",
            "Epoch 37/50\n",
            "\u001b[1m3/4\u001b[0m \u001b[32m━━━━━━━━━━━━━━━\u001b[0m\u001b[37m━━━━━\u001b[0m \u001b[1m0s\u001b[0m 41ms/step - loss: 44.5579 - mae: 44.5579\n",
            "Epoch 37: val_loss did not improve from 46.95468\n",
            "\u001b[1m4/4\u001b[0m \u001b[32m━━━━━━━━━━━━━━━━━━━━\u001b[0m\u001b[37m\u001b[0m \u001b[1m0s\u001b[0m 56ms/step - loss: 43.6240 - mae: 43.6240 - val_loss: 46.9930 - val_mae: 46.9930\n",
            "Epoch 38/50\n",
            "\u001b[1m3/4\u001b[0m \u001b[32m━━━━━━━━━━━━━━━\u001b[0m\u001b[37m━━━━━\u001b[0m \u001b[1m0s\u001b[0m 40ms/step - loss: 44.4883 - mae: 44.4883 \n",
            "Epoch 38: val_loss did not improve from 46.95468\n",
            "\u001b[1m4/4\u001b[0m \u001b[32m━━━━━━━━━━━━━━━━━━━━\u001b[0m\u001b[37m\u001b[0m \u001b[1m0s\u001b[0m 53ms/step - loss: 43.5625 - mae: 43.5625 - val_loss: 47.0382 - val_mae: 47.0382\n",
            "Epoch 39/50\n",
            "\u001b[1m4/4\u001b[0m \u001b[32m━━━━━━━━━━━━━━━━━━━━\u001b[0m\u001b[37m\u001b[0m \u001b[1m0s\u001b[0m 56ms/step - loss: 43.8767 - mae: 43.8767\n",
            "Epoch 39: val_loss did not improve from 46.95468\n",
            "\u001b[1m4/4\u001b[0m \u001b[32m━━━━━━━━━━━━━━━━━━━━\u001b[0m\u001b[37m\u001b[0m \u001b[1m0s\u001b[0m 91ms/step - loss: 43.5301 - mae: 43.5301 - val_loss: 47.1604 - val_mae: 47.1604\n",
            "Epoch 40/50\n",
            "\u001b[1m4/4\u001b[0m \u001b[32m━━━━━━━━━━━━━━━━━━━━\u001b[0m\u001b[37m\u001b[0m \u001b[1m0s\u001b[0m 60ms/step - loss: 43.8578 - mae: 43.8578\n",
            "Epoch 40: val_loss improved from 46.95468 to 46.66537, saving model to best_regressor.weights.h5\n",
            "\u001b[1m4/4\u001b[0m \u001b[32m━━━━━━━━━━━━━━━━━━━━\u001b[0m\u001b[37m\u001b[0m \u001b[1m1s\u001b[0m 88ms/step - loss: 43.5116 - mae: 43.5116 - val_loss: 46.6654 - val_mae: 46.6654\n",
            "Epoch 41/50\n",
            "\u001b[1m4/4\u001b[0m \u001b[32m━━━━━━━━━━━━━━━━━━━━\u001b[0m\u001b[37m\u001b[0m \u001b[1m0s\u001b[0m 61ms/step - loss: 43.8365 - mae: 43.8365\n",
            "Epoch 41: val_loss did not improve from 46.66537\n",
            "\u001b[1m4/4\u001b[0m \u001b[32m━━━━━━━━━━━━━━━━━━━━\u001b[0m\u001b[37m\u001b[0m \u001b[1m0s\u001b[0m 82ms/step - loss: 43.4842 - mae: 43.4842 - val_loss: 46.9779 - val_mae: 46.9779\n",
            "Epoch 42/50\n",
            "\u001b[1m4/4\u001b[0m \u001b[32m━━━━━━━━━━━━━━━━━━━━\u001b[0m\u001b[37m\u001b[0m \u001b[1m0s\u001b[0m 65ms/step - loss: 43.8326 - mae: 43.8326\n",
            "Epoch 42: val_loss did not improve from 46.66537\n",
            "\u001b[1m4/4\u001b[0m \u001b[32m━━━━━━━━━━━━━━━━━━━━\u001b[0m\u001b[37m\u001b[0m \u001b[1m1s\u001b[0m 87ms/step - loss: 43.4760 - mae: 43.4760 - val_loss: 46.7873 - val_mae: 46.7873\n",
            "Epoch 43/50\n",
            "\u001b[1m4/4\u001b[0m \u001b[32m━━━━━━━━━━━━━━━━━━━━\u001b[0m\u001b[37m\u001b[0m \u001b[1m0s\u001b[0m 73ms/step - loss: 43.7882 - mae: 43.7882\n",
            "Epoch 43: val_loss did not improve from 46.66537\n",
            "\u001b[1m4/4\u001b[0m \u001b[32m━━━━━━━━━━━━━━━━━━━━\u001b[0m\u001b[37m\u001b[0m \u001b[1m1s\u001b[0m 91ms/step - loss: 43.4282 - mae: 43.4282 - val_loss: 46.7421 - val_mae: 46.7421\n",
            "Epoch 44/50\n",
            "\u001b[1m3/4\u001b[0m \u001b[32m━━━━━━━━━━━━━━━\u001b[0m\u001b[37m━━━━━\u001b[0m \u001b[1m0s\u001b[0m 40ms/step - loss: 44.3741 - mae: 44.3741 \n",
            "Epoch 44: val_loss did not improve from 46.66537\n",
            "\u001b[1m4/4\u001b[0m \u001b[32m━━━━━━━━━━━━━━━━━━━━\u001b[0m\u001b[37m\u001b[0m \u001b[1m0s\u001b[0m 57ms/step - loss: 43.4020 - mae: 43.4020 - val_loss: 46.7744 - val_mae: 46.7744\n",
            "Epoch 45/50\n",
            "\u001b[1m4/4\u001b[0m \u001b[32m━━━━━━━━━━━━━━━━━━━━\u001b[0m\u001b[37m\u001b[0m \u001b[1m0s\u001b[0m 56ms/step - loss: 43.7398 - mae: 43.7398\n",
            "Epoch 45: val_loss improved from 46.66537 to 46.39876, saving model to best_regressor.weights.h5\n",
            "\u001b[1m4/4\u001b[0m \u001b[32m━━━━━━━━━━━━━━━━━━━━\u001b[0m\u001b[37m\u001b[0m \u001b[1m0s\u001b[0m 79ms/step - loss: 43.3757 - mae: 43.3757 - val_loss: 46.3988 - val_mae: 46.3988\n",
            "Epoch 46/50\n",
            "\u001b[1m3/4\u001b[0m \u001b[32m━━━━━━━━━━━━━━━\u001b[0m\u001b[37m━━━━━\u001b[0m \u001b[1m0s\u001b[0m 42ms/step - loss: 44.2776 - mae: 44.2776\n",
            "Epoch 46: val_loss did not improve from 46.39876\n",
            "\u001b[1m4/4\u001b[0m \u001b[32m━━━━━━━━━━━━━━━━━━━━\u001b[0m\u001b[37m\u001b[0m \u001b[1m0s\u001b[0m 57ms/step - loss: 43.3117 - mae: 43.3117 - val_loss: 46.6212 - val_mae: 46.6212\n",
            "Epoch 47/50\n",
            "\u001b[1m3/4\u001b[0m \u001b[32m━━━━━━━━━━━━━━━\u001b[0m\u001b[37m━━━━━\u001b[0m \u001b[1m0s\u001b[0m 41ms/step - loss: 44.2525 - mae: 44.2525 \n",
            "Epoch 47: val_loss did not improve from 46.39876\n",
            "\u001b[1m4/4\u001b[0m \u001b[32m━━━━━━━━━━━━━━━━━━━━\u001b[0m\u001b[37m\u001b[0m \u001b[1m0s\u001b[0m 56ms/step - loss: 43.2925 - mae: 43.2925 - val_loss: 46.4834 - val_mae: 46.4834\n",
            "Epoch 48/50\n",
            "\u001b[1m4/4\u001b[0m \u001b[32m━━━━━━━━━━━━━━━━━━━━\u001b[0m\u001b[37m\u001b[0m \u001b[1m0s\u001b[0m 51ms/step - loss: 43.5621 - mae: 43.5621\n",
            "Epoch 48: val_loss improved from 46.39876 to 46.27600, saving model to best_regressor.weights.h5\n",
            "\u001b[1m4/4\u001b[0m \u001b[32m━━━━━━━━━━━━━━━━━━━━\u001b[0m\u001b[37m\u001b[0m \u001b[1m0s\u001b[0m 73ms/step - loss: 43.2125 - mae: 43.2125 - val_loss: 46.2760 - val_mae: 46.2760\n",
            "Epoch 49/50\n",
            "\u001b[1m3/4\u001b[0m \u001b[32m━━━━━━━━━━━━━━━\u001b[0m\u001b[37m━━━━━\u001b[0m \u001b[1m0s\u001b[0m 47ms/step - loss: 44.1017 - mae: 44.1017\n",
            "Epoch 49: val_loss did not improve from 46.27600\n",
            "\u001b[1m4/4\u001b[0m \u001b[32m━━━━━━━━━━━━━━━━━━━━\u001b[0m\u001b[37m\u001b[0m \u001b[1m0s\u001b[0m 58ms/step - loss: 43.1620 - mae: 43.1620 - val_loss: 46.7083 - val_mae: 46.7083\n",
            "Epoch 50/50\n",
            "\u001b[1m3/4\u001b[0m \u001b[32m━━━━━━━━━━━━━━━\u001b[0m\u001b[37m━━━━━\u001b[0m \u001b[1m0s\u001b[0m 41ms/step - loss: 44.0950 - mae: 44.0950 \n",
            "Epoch 50: val_loss did not improve from 46.27600\n",
            "\u001b[1m4/4\u001b[0m \u001b[32m━━━━━━━━━━━━━━━━━━━━\u001b[0m\u001b[37m\u001b[0m \u001b[1m0s\u001b[0m 57ms/step - loss: 43.1553 - mae: 43.1553 - val_loss: 46.7165 - val_mae: 46.7165\n",
            "Restoring model weights from the end of the best epoch: 48.\n"
          ]
        }
      ],
      "source": [
        "#TEST CELL prev\n",
        "test_model_2 = define_regressor(10, 2, 8, 1)\n",
        "history, test_model_2 = train_regressor(model=test_model_2,\n",
        "                                        filepath='best_regressor.weights.h5',\n",
        "                                        X_train=X_train_2,\n",
        "                                        y_train=y_train_2,\n",
        "                                        epochs=50,\n",
        "                                        batch_size=64,\n",
        "                                        learning_rate=5e-2,\n",
        "                                        validation_rate=0.2)"
      ]
    },
    {
      "cell_type": "code",
      "execution_count": 137,
      "id": "Gmwet8bvD_ij",
      "metadata": {
        "id": "Gmwet8bvD_ij",
        "colab": {
          "base_uri": "https://localhost:8080/"
        },
        "outputId": "0dee50be-1dd7-42db-d55e-53b8e24f9e17"
      },
      "outputs": [
        {
          "output_type": "stream",
          "name": "stdout",
          "text": [
            "MEA en test: 44.6665\n"
          ]
        }
      ],
      "source": [
        "#TEST CELL\n",
        "mae = evaluate_regreesor(test_model_2,\n",
        "                     X_test=X_test_2,\n",
        "                     y_test=y_test_2)\n",
        "print(\"MEA en test:\",np.round(mae,4))"
      ]
    },
    {
      "cell_type": "markdown",
      "id": "mX9jLEHg53ka",
      "metadata": {
        "id": "mX9jLEHg53ka"
      },
      "source": [
        "Es decir, en el conjunto de prueba tenemos un error medio absoluto de 44.67."
      ]
    },
    {
      "cell_type": "markdown",
      "id": "-lSbfzfgB7Ss",
      "metadata": {
        "id": "-lSbfzfgB7Ss"
      },
      "source": [
        "**Salida esperada:**\n",
        "```\n",
        "MEA en test: 44.6665\n",
        "```"
      ]
    },
    {
      "cell_type": "markdown",
      "id": "om40epaCqo-r",
      "metadata": {
        "id": "om40epaCqo-r"
      },
      "source": [
        "### **Evaluar código**"
      ]
    },
    {
      "cell_type": "code",
      "execution_count": 138,
      "id": "hQrV6JOTBxei",
      "metadata": {
        "id": "hQrV6JOTBxei",
        "colab": {
          "base_uri": "https://localhost:8080/",
          "height": 141
        },
        "outputId": "bba9029b-d32a-4070-e549-a699530ab26a"
      },
      "outputs": [
        {
          "output_type": "stream",
          "name": "stdout",
          "text": [
            "Test 2_3_1\n"
          ]
        },
        {
          "output_type": "display_data",
          "data": {
            "text/plain": [
              "<IPython.core.display.HTML object>"
            ],
            "text/html": [
              "<h4>Test Run correctly</h4>"
            ]
          },
          "metadata": {}
        },
        {
          "output_type": "display_data",
          "data": {
            "text/plain": [
              "<IPython.core.display.HTML object>"
            ],
            "text/html": [
              "<h6 style=\"color: green;\">Your test grade: 100</h6>\n",
              "<h6>Feedback: Probando código ejemplo.</h6>"
            ]
          },
          "metadata": {}
        }
      ],
      "source": [
        "grader.run_test(\"Test 2_3_1\", globals())"
      ]
    },
    {
      "cell_type": "code",
      "execution_count": 139,
      "id": "U-hCt9kPCYUQ",
      "metadata": {
        "id": "U-hCt9kPCYUQ",
        "colab": {
          "base_uri": "https://localhost:8080/",
          "height": 141
        },
        "outputId": "e04894ea-69ec-4f69-af5a-ef565d4f691e"
      },
      "outputs": [
        {
          "metadata": {
            "tags": null
          },
          "name": "stdout",
          "output_type": "stream",
          "text": [
            "Test 2_3_2\n"
          ]
        },
        {
          "data": {
            "text/html": [
              "<h4>Test Run correctly</h4>"
            ],
            "text/plain": [
              "<IPython.core.display.HTML object>"
            ]
          },
          "metadata": {},
          "output_type": "display_data"
        },
        {
          "data": {
            "text/html": [
              "<h6 style=\"color: green;\">Your test grade: 100</h6>\n",
              "<h6>Feedback: Probando código ejemplo.</h6>"
            ],
            "text/plain": [
              "<IPython.core.display.HTML object>"
            ]
          },
          "metadata": {},
          "output_type": "display_data"
        }
      ],
      "source": [
        "grader.run_test(\"Test 2_3_2\", globals())"
      ]
    },
    {
      "cell_type": "markdown",
      "id": "nCBxQJP-u3NI",
      "metadata": {
        "id": "nCBxQJP-u3NI"
      },
      "source": [
        "# **Evaluación**\n"
      ]
    },
    {
      "cell_type": "code",
      "execution_count": 171,
      "id": "JbSAgo9fu6dR",
      "metadata": {
        "id": "JbSAgo9fu6dR",
        "colab": {
          "base_uri": "https://localhost:8080/",
          "height": 1000
        },
        "outputId": "0021189b-c7cc-41d1-95c8-a29840767d66"
      },
      "outputs": [
        {
          "output_type": "stream",
          "name": "stdout",
          "text": [
            "Test 1_1_1\n",
            "Test 1_1_2\n",
            "Test 1_1_3\n",
            "Test 1_2_1\n",
            "Test 1_2_2\n",
            "Test 1_2_3\n",
            "Test 1_2_4\n",
            "Test 1_2_5\n"
          ]
        },
        {
          "output_type": "display_data",
          "data": {
            "text/plain": [
              "\u001b[1mModel: \"functional_177\"\u001b[0m\n"
            ],
            "text/html": [
              "<pre style=\"white-space:pre;overflow-x:auto;line-height:normal;font-family:Menlo,'DejaVu Sans Mono',consolas,'Courier New',monospace\"><span style=\"font-weight: bold\">Model: \"functional_177\"</span>\n",
              "</pre>\n"
            ]
          },
          "metadata": {}
        },
        {
          "output_type": "display_data",
          "data": {
            "text/plain": [
              "┏━━━━━━━━━━━━━━━━━━━━━━━━━━━━━━━━━━━━━━┳━━━━━━━━━━━━━━━━━━━━━━━━━━━━━┳━━━━━━━━━━━━━━━━━┓\n",
              "┃\u001b[1m \u001b[0m\u001b[1mLayer (type)                        \u001b[0m\u001b[1m \u001b[0m┃\u001b[1m \u001b[0m\u001b[1mOutput Shape               \u001b[0m\u001b[1m \u001b[0m┃\u001b[1m \u001b[0m\u001b[1m        Param #\u001b[0m\u001b[1m \u001b[0m┃\n",
              "┡━━━━━━━━━━━━━━━━━━━━━━━━━━━━━━━━━━━━━━╇━━━━━━━━━━━━━━━━━━━━━━━━━━━━━╇━━━━━━━━━━━━━━━━━┩\n",
              "│ input_layer_178 (\u001b[38;5;33mInputLayer\u001b[0m)         │ (\u001b[38;5;45mNone\u001b[0m, \u001b[38;5;34m3\u001b[0m)                   │               \u001b[38;5;34m0\u001b[0m │\n",
              "├──────────────────────────────────────┼─────────────────────────────┼─────────────────┤\n",
              "│ dense_626 (\u001b[38;5;33mDense\u001b[0m)                    │ (\u001b[38;5;45mNone\u001b[0m, \u001b[38;5;34m5\u001b[0m)                   │              \u001b[38;5;34m20\u001b[0m │\n",
              "├──────────────────────────────────────┼─────────────────────────────┼─────────────────┤\n",
              "│ dense_627 (\u001b[38;5;33mDense\u001b[0m)                    │ (\u001b[38;5;45mNone\u001b[0m, \u001b[38;5;34m5\u001b[0m)                   │              \u001b[38;5;34m30\u001b[0m │\n",
              "├──────────────────────────────────────┼─────────────────────────────┼─────────────────┤\n",
              "│ dense_628 (\u001b[38;5;33mDense\u001b[0m)                    │ (\u001b[38;5;45mNone\u001b[0m, \u001b[38;5;34m5\u001b[0m)                   │              \u001b[38;5;34m30\u001b[0m │\n",
              "├──────────────────────────────────────┼─────────────────────────────┼─────────────────┤\n",
              "│ dense_629 (\u001b[38;5;33mDense\u001b[0m)                    │ (\u001b[38;5;45mNone\u001b[0m, \u001b[38;5;34m2\u001b[0m)                   │              \u001b[38;5;34m12\u001b[0m │\n",
              "└──────────────────────────────────────┴─────────────────────────────┴─────────────────┘\n"
            ],
            "text/html": [
              "<pre style=\"white-space:pre;overflow-x:auto;line-height:normal;font-family:Menlo,'DejaVu Sans Mono',consolas,'Courier New',monospace\">┏━━━━━━━━━━━━━━━━━━━━━━━━━━━━━━━━━━━━━━┳━━━━━━━━━━━━━━━━━━━━━━━━━━━━━┳━━━━━━━━━━━━━━━━━┓\n",
              "┃<span style=\"font-weight: bold\"> Layer (type)                         </span>┃<span style=\"font-weight: bold\"> Output Shape                </span>┃<span style=\"font-weight: bold\">         Param # </span>┃\n",
              "┡━━━━━━━━━━━━━━━━━━━━━━━━━━━━━━━━━━━━━━╇━━━━━━━━━━━━━━━━━━━━━━━━━━━━━╇━━━━━━━━━━━━━━━━━┩\n",
              "│ input_layer_178 (<span style=\"color: #0087ff; text-decoration-color: #0087ff\">InputLayer</span>)         │ (<span style=\"color: #00d7ff; text-decoration-color: #00d7ff\">None</span>, <span style=\"color: #00af00; text-decoration-color: #00af00\">3</span>)                   │               <span style=\"color: #00af00; text-decoration-color: #00af00\">0</span> │\n",
              "├──────────────────────────────────────┼─────────────────────────────┼─────────────────┤\n",
              "│ dense_626 (<span style=\"color: #0087ff; text-decoration-color: #0087ff\">Dense</span>)                    │ (<span style=\"color: #00d7ff; text-decoration-color: #00d7ff\">None</span>, <span style=\"color: #00af00; text-decoration-color: #00af00\">5</span>)                   │              <span style=\"color: #00af00; text-decoration-color: #00af00\">20</span> │\n",
              "├──────────────────────────────────────┼─────────────────────────────┼─────────────────┤\n",
              "│ dense_627 (<span style=\"color: #0087ff; text-decoration-color: #0087ff\">Dense</span>)                    │ (<span style=\"color: #00d7ff; text-decoration-color: #00d7ff\">None</span>, <span style=\"color: #00af00; text-decoration-color: #00af00\">5</span>)                   │              <span style=\"color: #00af00; text-decoration-color: #00af00\">30</span> │\n",
              "├──────────────────────────────────────┼─────────────────────────────┼─────────────────┤\n",
              "│ dense_628 (<span style=\"color: #0087ff; text-decoration-color: #0087ff\">Dense</span>)                    │ (<span style=\"color: #00d7ff; text-decoration-color: #00d7ff\">None</span>, <span style=\"color: #00af00; text-decoration-color: #00af00\">5</span>)                   │              <span style=\"color: #00af00; text-decoration-color: #00af00\">30</span> │\n",
              "├──────────────────────────────────────┼─────────────────────────────┼─────────────────┤\n",
              "│ dense_629 (<span style=\"color: #0087ff; text-decoration-color: #0087ff\">Dense</span>)                    │ (<span style=\"color: #00d7ff; text-decoration-color: #00d7ff\">None</span>, <span style=\"color: #00af00; text-decoration-color: #00af00\">2</span>)                   │              <span style=\"color: #00af00; text-decoration-color: #00af00\">12</span> │\n",
              "└──────────────────────────────────────┴─────────────────────────────┴─────────────────┘\n",
              "</pre>\n"
            ]
          },
          "metadata": {}
        },
        {
          "output_type": "display_data",
          "data": {
            "text/plain": [
              "\u001b[1m Total params: \u001b[0m\u001b[38;5;34m92\u001b[0m (368.00 B)\n"
            ],
            "text/html": [
              "<pre style=\"white-space:pre;overflow-x:auto;line-height:normal;font-family:Menlo,'DejaVu Sans Mono',consolas,'Courier New',monospace\"><span style=\"font-weight: bold\"> Total params: </span><span style=\"color: #00af00; text-decoration-color: #00af00\">92</span> (368.00 B)\n",
              "</pre>\n"
            ]
          },
          "metadata": {}
        },
        {
          "output_type": "stream",
          "name": "stdout",
          "text": [
            "Test 1_2_6\n",
            "Test 1_2_7\n"
          ]
        },
        {
          "output_type": "display_data",
          "data": {
            "text/plain": [
              "\u001b[1m Trainable params: \u001b[0m\u001b[38;5;34m92\u001b[0m (368.00 B)\n"
            ],
            "text/html": [
              "<pre style=\"white-space:pre;overflow-x:auto;line-height:normal;font-family:Menlo,'DejaVu Sans Mono',consolas,'Courier New',monospace\"><span style=\"font-weight: bold\"> Trainable params: </span><span style=\"color: #00af00; text-decoration-color: #00af00\">92</span> (368.00 B)\n",
              "</pre>\n"
            ]
          },
          "metadata": {}
        },
        {
          "output_type": "display_data",
          "data": {
            "text/plain": [
              "\u001b[1m Non-trainable params: \u001b[0m\u001b[38;5;34m0\u001b[0m (0.00 B)\n"
            ],
            "text/html": [
              "<pre style=\"white-space:pre;overflow-x:auto;line-height:normal;font-family:Menlo,'DejaVu Sans Mono',consolas,'Courier New',monospace\"><span style=\"font-weight: bold\"> Non-trainable params: </span><span style=\"color: #00af00; text-decoration-color: #00af00\">0</span> (0.00 B)\n",
              "</pre>\n"
            ]
          },
          "metadata": {}
        },
        {
          "output_type": "display_data",
          "data": {
            "text/plain": [
              "\u001b[1mModel: \"functional_178\"\u001b[0m\n"
            ],
            "text/html": [
              "<pre style=\"white-space:pre;overflow-x:auto;line-height:normal;font-family:Menlo,'DejaVu Sans Mono',consolas,'Courier New',monospace\"><span style=\"font-weight: bold\">Model: \"functional_178\"</span>\n",
              "</pre>\n"
            ]
          },
          "metadata": {}
        },
        {
          "output_type": "display_data",
          "data": {
            "text/plain": [
              "┏━━━━━━━━━━━━━━━━━━━━━━━━━━━━━━━━━━━━━━┳━━━━━━━━━━━━━━━━━━━━━━━━━━━━━┳━━━━━━━━━━━━━━━━━┓\n",
              "┃\u001b[1m \u001b[0m\u001b[1mLayer (type)                        \u001b[0m\u001b[1m \u001b[0m┃\u001b[1m \u001b[0m\u001b[1mOutput Shape               \u001b[0m\u001b[1m \u001b[0m┃\u001b[1m \u001b[0m\u001b[1m        Param #\u001b[0m\u001b[1m \u001b[0m┃\n",
              "┡━━━━━━━━━━━━━━━━━━━━━━━━━━━━━━━━━━━━━━╇━━━━━━━━━━━━━━━━━━━━━━━━━━━━━╇━━━━━━━━━━━━━━━━━┩\n",
              "│ input_layer_179 (\u001b[38;5;33mInputLayer\u001b[0m)         │ (\u001b[38;5;45mNone\u001b[0m, \u001b[38;5;34m3\u001b[0m)                   │               \u001b[38;5;34m0\u001b[0m │\n",
              "├──────────────────────────────────────┼─────────────────────────────┼─────────────────┤\n",
              "│ dense_630 (\u001b[38;5;33mDense\u001b[0m)                    │ (\u001b[38;5;45mNone\u001b[0m, \u001b[38;5;34m5\u001b[0m)                   │              \u001b[38;5;34m20\u001b[0m │\n",
              "├──────────────────────────────────────┼─────────────────────────────┼─────────────────┤\n",
              "│ dense_631 (\u001b[38;5;33mDense\u001b[0m)                    │ (\u001b[38;5;45mNone\u001b[0m, \u001b[38;5;34m5\u001b[0m)                   │              \u001b[38;5;34m30\u001b[0m │\n",
              "├──────────────────────────────────────┼─────────────────────────────┼─────────────────┤\n",
              "│ dense_632 (\u001b[38;5;33mDense\u001b[0m)                    │ (\u001b[38;5;45mNone\u001b[0m, \u001b[38;5;34m5\u001b[0m)                   │              \u001b[38;5;34m30\u001b[0m │\n",
              "├──────────────────────────────────────┼─────────────────────────────┼─────────────────┤\n",
              "│ dense_633 (\u001b[38;5;33mDense\u001b[0m)                    │ (\u001b[38;5;45mNone\u001b[0m, \u001b[38;5;34m2\u001b[0m)                   │              \u001b[38;5;34m12\u001b[0m │\n",
              "└──────────────────────────────────────┴─────────────────────────────┴─────────────────┘\n"
            ],
            "text/html": [
              "<pre style=\"white-space:pre;overflow-x:auto;line-height:normal;font-family:Menlo,'DejaVu Sans Mono',consolas,'Courier New',monospace\">┏━━━━━━━━━━━━━━━━━━━━━━━━━━━━━━━━━━━━━━┳━━━━━━━━━━━━━━━━━━━━━━━━━━━━━┳━━━━━━━━━━━━━━━━━┓\n",
              "┃<span style=\"font-weight: bold\"> Layer (type)                         </span>┃<span style=\"font-weight: bold\"> Output Shape                </span>┃<span style=\"font-weight: bold\">         Param # </span>┃\n",
              "┡━━━━━━━━━━━━━━━━━━━━━━━━━━━━━━━━━━━━━━╇━━━━━━━━━━━━━━━━━━━━━━━━━━━━━╇━━━━━━━━━━━━━━━━━┩\n",
              "│ input_layer_179 (<span style=\"color: #0087ff; text-decoration-color: #0087ff\">InputLayer</span>)         │ (<span style=\"color: #00d7ff; text-decoration-color: #00d7ff\">None</span>, <span style=\"color: #00af00; text-decoration-color: #00af00\">3</span>)                   │               <span style=\"color: #00af00; text-decoration-color: #00af00\">0</span> │\n",
              "├──────────────────────────────────────┼─────────────────────────────┼─────────────────┤\n",
              "│ dense_630 (<span style=\"color: #0087ff; text-decoration-color: #0087ff\">Dense</span>)                    │ (<span style=\"color: #00d7ff; text-decoration-color: #00d7ff\">None</span>, <span style=\"color: #00af00; text-decoration-color: #00af00\">5</span>)                   │              <span style=\"color: #00af00; text-decoration-color: #00af00\">20</span> │\n",
              "├──────────────────────────────────────┼─────────────────────────────┼─────────────────┤\n",
              "│ dense_631 (<span style=\"color: #0087ff; text-decoration-color: #0087ff\">Dense</span>)                    │ (<span style=\"color: #00d7ff; text-decoration-color: #00d7ff\">None</span>, <span style=\"color: #00af00; text-decoration-color: #00af00\">5</span>)                   │              <span style=\"color: #00af00; text-decoration-color: #00af00\">30</span> │\n",
              "├──────────────────────────────────────┼─────────────────────────────┼─────────────────┤\n",
              "│ dense_632 (<span style=\"color: #0087ff; text-decoration-color: #0087ff\">Dense</span>)                    │ (<span style=\"color: #00d7ff; text-decoration-color: #00d7ff\">None</span>, <span style=\"color: #00af00; text-decoration-color: #00af00\">5</span>)                   │              <span style=\"color: #00af00; text-decoration-color: #00af00\">30</span> │\n",
              "├──────────────────────────────────────┼─────────────────────────────┼─────────────────┤\n",
              "│ dense_633 (<span style=\"color: #0087ff; text-decoration-color: #0087ff\">Dense</span>)                    │ (<span style=\"color: #00d7ff; text-decoration-color: #00d7ff\">None</span>, <span style=\"color: #00af00; text-decoration-color: #00af00\">2</span>)                   │              <span style=\"color: #00af00; text-decoration-color: #00af00\">12</span> │\n",
              "└──────────────────────────────────────┴─────────────────────────────┴─────────────────┘\n",
              "</pre>\n"
            ]
          },
          "metadata": {}
        },
        {
          "output_type": "display_data",
          "data": {
            "text/plain": [
              "\u001b[1m Total params: \u001b[0m\u001b[38;5;34m92\u001b[0m (368.00 B)\n"
            ],
            "text/html": [
              "<pre style=\"white-space:pre;overflow-x:auto;line-height:normal;font-family:Menlo,'DejaVu Sans Mono',consolas,'Courier New',monospace\"><span style=\"font-weight: bold\"> Total params: </span><span style=\"color: #00af00; text-decoration-color: #00af00\">92</span> (368.00 B)\n",
              "</pre>\n"
            ]
          },
          "metadata": {}
        },
        {
          "output_type": "display_data",
          "data": {
            "text/plain": [
              "\u001b[1m Trainable params: \u001b[0m\u001b[38;5;34m92\u001b[0m (368.00 B)\n"
            ],
            "text/html": [
              "<pre style=\"white-space:pre;overflow-x:auto;line-height:normal;font-family:Menlo,'DejaVu Sans Mono',consolas,'Courier New',monospace\"><span style=\"font-weight: bold\"> Trainable params: </span><span style=\"color: #00af00; text-decoration-color: #00af00\">92</span> (368.00 B)\n",
              "</pre>\n"
            ]
          },
          "metadata": {}
        },
        {
          "output_type": "display_data",
          "data": {
            "text/plain": [
              "\u001b[1m Non-trainable params: \u001b[0m\u001b[38;5;34m0\u001b[0m (0.00 B)\n"
            ],
            "text/html": [
              "<pre style=\"white-space:pre;overflow-x:auto;line-height:normal;font-family:Menlo,'DejaVu Sans Mono',consolas,'Courier New',monospace\"><span style=\"font-weight: bold\"> Non-trainable params: </span><span style=\"color: #00af00; text-decoration-color: #00af00\">0</span> (0.00 B)\n",
              "</pre>\n"
            ]
          },
          "metadata": {}
        },
        {
          "output_type": "stream",
          "name": "stdout",
          "text": [
            "Test 1_3_1\n",
            "Test 1_3_2\n",
            "Test 1_4_1\n",
            "Test 1_4_2\n",
            "Test 1_4_3\n",
            "Test 1_5_1\n",
            "Test 1_5_2\n",
            "Test 1_5_3\n",
            "Test 1_6_1\n",
            "Test 1_6_2\n",
            "Test 2_1_1\n",
            "Test 2_1_2\n",
            "Test 2_1_3\n",
            "Test 2_1_4\n",
            "Test 2_1_5\n",
            "Test 2_1_6\n"
          ]
        },
        {
          "output_type": "display_data",
          "data": {
            "text/plain": [
              "\u001b[1mModel: \"functional_200\"\u001b[0m\n"
            ],
            "text/html": [
              "<pre style=\"white-space:pre;overflow-x:auto;line-height:normal;font-family:Menlo,'DejaVu Sans Mono',consolas,'Courier New',monospace\"><span style=\"font-weight: bold\">Model: \"functional_200\"</span>\n",
              "</pre>\n"
            ]
          },
          "metadata": {}
        },
        {
          "output_type": "display_data",
          "data": {
            "text/plain": [
              "┏━━━━━━━━━━━━━━━━━━━━━━━━━━━━━━━━━━━━━━┳━━━━━━━━━━━━━━━━━━━━━━━━━━━━━┳━━━━━━━━━━━━━━━━━┓\n",
              "┃\u001b[1m \u001b[0m\u001b[1mLayer (type)                        \u001b[0m\u001b[1m \u001b[0m┃\u001b[1m \u001b[0m\u001b[1mOutput Shape               \u001b[0m\u001b[1m \u001b[0m┃\u001b[1m \u001b[0m\u001b[1m        Param #\u001b[0m\u001b[1m \u001b[0m┃\n",
              "┡━━━━━━━━━━━━━━━━━━━━━━━━━━━━━━━━━━━━━━╇━━━━━━━━━━━━━━━━━━━━━━━━━━━━━╇━━━━━━━━━━━━━━━━━┩\n",
              "│ input_layer_201 (\u001b[38;5;33mInputLayer\u001b[0m)         │ (\u001b[38;5;45mNone\u001b[0m, \u001b[38;5;34m7\u001b[0m)                   │               \u001b[38;5;34m0\u001b[0m │\n",
              "├──────────────────────────────────────┼─────────────────────────────┼─────────────────┤\n",
              "│ dense_703 (\u001b[38;5;33mDense\u001b[0m)                    │ (\u001b[38;5;45mNone\u001b[0m, \u001b[38;5;34m7\u001b[0m)                   │              \u001b[38;5;34m56\u001b[0m │\n",
              "├──────────────────────────────────────┼─────────────────────────────┼─────────────────┤\n",
              "│ dense_704 (\u001b[38;5;33mDense\u001b[0m)                    │ (\u001b[38;5;45mNone\u001b[0m, \u001b[38;5;34m7\u001b[0m)                   │              \u001b[38;5;34m56\u001b[0m │\n",
              "├──────────────────────────────────────┼─────────────────────────────┼─────────────────┤\n",
              "│ dense_705 (\u001b[38;5;33mDense\u001b[0m)                    │ (\u001b[38;5;45mNone\u001b[0m, \u001b[38;5;34m7\u001b[0m)                   │              \u001b[38;5;34m56\u001b[0m │\n",
              "├──────────────────────────────────────┼─────────────────────────────┼─────────────────┤\n",
              "│ dense_706 (\u001b[38;5;33mDense\u001b[0m)                    │ (\u001b[38;5;45mNone\u001b[0m, \u001b[38;5;34m7\u001b[0m)                   │              \u001b[38;5;34m56\u001b[0m │\n",
              "├──────────────────────────────────────┼─────────────────────────────┼─────────────────┤\n",
              "│ dense_707 (\u001b[38;5;33mDense\u001b[0m)                    │ (\u001b[38;5;45mNone\u001b[0m, \u001b[38;5;34m7\u001b[0m)                   │              \u001b[38;5;34m56\u001b[0m │\n",
              "├──────────────────────────────────────┼─────────────────────────────┼─────────────────┤\n",
              "│ dense_708 (\u001b[38;5;33mDense\u001b[0m)                    │ (\u001b[38;5;45mNone\u001b[0m, \u001b[38;5;34m7\u001b[0m)                   │              \u001b[38;5;34m56\u001b[0m │\n",
              "├──────────────────────────────────────┼─────────────────────────────┼─────────────────┤\n",
              "│ dense_709 (\u001b[38;5;33mDense\u001b[0m)                    │ (\u001b[38;5;45mNone\u001b[0m, \u001b[38;5;34m3\u001b[0m)                   │              \u001b[38;5;34m24\u001b[0m │\n",
              "└──────────────────────────────────────┴─────────────────────────────┴─────────────────┘\n"
            ],
            "text/html": [
              "<pre style=\"white-space:pre;overflow-x:auto;line-height:normal;font-family:Menlo,'DejaVu Sans Mono',consolas,'Courier New',monospace\">┏━━━━━━━━━━━━━━━━━━━━━━━━━━━━━━━━━━━━━━┳━━━━━━━━━━━━━━━━━━━━━━━━━━━━━┳━━━━━━━━━━━━━━━━━┓\n",
              "┃<span style=\"font-weight: bold\"> Layer (type)                         </span>┃<span style=\"font-weight: bold\"> Output Shape                </span>┃<span style=\"font-weight: bold\">         Param # </span>┃\n",
              "┡━━━━━━━━━━━━━━━━━━━━━━━━━━━━━━━━━━━━━━╇━━━━━━━━━━━━━━━━━━━━━━━━━━━━━╇━━━━━━━━━━━━━━━━━┩\n",
              "│ input_layer_201 (<span style=\"color: #0087ff; text-decoration-color: #0087ff\">InputLayer</span>)         │ (<span style=\"color: #00d7ff; text-decoration-color: #00d7ff\">None</span>, <span style=\"color: #00af00; text-decoration-color: #00af00\">7</span>)                   │               <span style=\"color: #00af00; text-decoration-color: #00af00\">0</span> │\n",
              "├──────────────────────────────────────┼─────────────────────────────┼─────────────────┤\n",
              "│ dense_703 (<span style=\"color: #0087ff; text-decoration-color: #0087ff\">Dense</span>)                    │ (<span style=\"color: #00d7ff; text-decoration-color: #00d7ff\">None</span>, <span style=\"color: #00af00; text-decoration-color: #00af00\">7</span>)                   │              <span style=\"color: #00af00; text-decoration-color: #00af00\">56</span> │\n",
              "├──────────────────────────────────────┼─────────────────────────────┼─────────────────┤\n",
              "│ dense_704 (<span style=\"color: #0087ff; text-decoration-color: #0087ff\">Dense</span>)                    │ (<span style=\"color: #00d7ff; text-decoration-color: #00d7ff\">None</span>, <span style=\"color: #00af00; text-decoration-color: #00af00\">7</span>)                   │              <span style=\"color: #00af00; text-decoration-color: #00af00\">56</span> │\n",
              "├──────────────────────────────────────┼─────────────────────────────┼─────────────────┤\n",
              "│ dense_705 (<span style=\"color: #0087ff; text-decoration-color: #0087ff\">Dense</span>)                    │ (<span style=\"color: #00d7ff; text-decoration-color: #00d7ff\">None</span>, <span style=\"color: #00af00; text-decoration-color: #00af00\">7</span>)                   │              <span style=\"color: #00af00; text-decoration-color: #00af00\">56</span> │\n",
              "├──────────────────────────────────────┼─────────────────────────────┼─────────────────┤\n",
              "│ dense_706 (<span style=\"color: #0087ff; text-decoration-color: #0087ff\">Dense</span>)                    │ (<span style=\"color: #00d7ff; text-decoration-color: #00d7ff\">None</span>, <span style=\"color: #00af00; text-decoration-color: #00af00\">7</span>)                   │              <span style=\"color: #00af00; text-decoration-color: #00af00\">56</span> │\n",
              "├──────────────────────────────────────┼─────────────────────────────┼─────────────────┤\n",
              "│ dense_707 (<span style=\"color: #0087ff; text-decoration-color: #0087ff\">Dense</span>)                    │ (<span style=\"color: #00d7ff; text-decoration-color: #00d7ff\">None</span>, <span style=\"color: #00af00; text-decoration-color: #00af00\">7</span>)                   │              <span style=\"color: #00af00; text-decoration-color: #00af00\">56</span> │\n",
              "├──────────────────────────────────────┼─────────────────────────────┼─────────────────┤\n",
              "│ dense_708 (<span style=\"color: #0087ff; text-decoration-color: #0087ff\">Dense</span>)                    │ (<span style=\"color: #00d7ff; text-decoration-color: #00d7ff\">None</span>, <span style=\"color: #00af00; text-decoration-color: #00af00\">7</span>)                   │              <span style=\"color: #00af00; text-decoration-color: #00af00\">56</span> │\n",
              "├──────────────────────────────────────┼─────────────────────────────┼─────────────────┤\n",
              "│ dense_709 (<span style=\"color: #0087ff; text-decoration-color: #0087ff\">Dense</span>)                    │ (<span style=\"color: #00d7ff; text-decoration-color: #00d7ff\">None</span>, <span style=\"color: #00af00; text-decoration-color: #00af00\">3</span>)                   │              <span style=\"color: #00af00; text-decoration-color: #00af00\">24</span> │\n",
              "└──────────────────────────────────────┴─────────────────────────────┴─────────────────┘\n",
              "</pre>\n"
            ]
          },
          "metadata": {}
        },
        {
          "output_type": "display_data",
          "data": {
            "text/plain": [
              "\u001b[1m Total params: \u001b[0m\u001b[38;5;34m360\u001b[0m (1.41 KB)\n"
            ],
            "text/html": [
              "<pre style=\"white-space:pre;overflow-x:auto;line-height:normal;font-family:Menlo,'DejaVu Sans Mono',consolas,'Courier New',monospace\"><span style=\"font-weight: bold\"> Total params: </span><span style=\"color: #00af00; text-decoration-color: #00af00\">360</span> (1.41 KB)\n",
              "</pre>\n"
            ]
          },
          "metadata": {}
        },
        {
          "output_type": "display_data",
          "data": {
            "text/plain": [
              "\u001b[1m Trainable params: \u001b[0m\u001b[38;5;34m360\u001b[0m (1.41 KB)\n"
            ],
            "text/html": [
              "<pre style=\"white-space:pre;overflow-x:auto;line-height:normal;font-family:Menlo,'DejaVu Sans Mono',consolas,'Courier New',monospace\"><span style=\"font-weight: bold\"> Trainable params: </span><span style=\"color: #00af00; text-decoration-color: #00af00\">360</span> (1.41 KB)\n",
              "</pre>\n"
            ]
          },
          "metadata": {}
        },
        {
          "output_type": "display_data",
          "data": {
            "text/plain": [
              "\u001b[1m Non-trainable params: \u001b[0m\u001b[38;5;34m0\u001b[0m (0.00 B)\n"
            ],
            "text/html": [
              "<pre style=\"white-space:pre;overflow-x:auto;line-height:normal;font-family:Menlo,'DejaVu Sans Mono',consolas,'Courier New',monospace\"><span style=\"font-weight: bold\"> Non-trainable params: </span><span style=\"color: #00af00; text-decoration-color: #00af00\">0</span> (0.00 B)\n",
              "</pre>\n"
            ]
          },
          "metadata": {}
        },
        {
          "output_type": "display_data",
          "data": {
            "text/plain": [
              "\u001b[1mModel: \"functional_201\"\u001b[0m\n"
            ],
            "text/html": [
              "<pre style=\"white-space:pre;overflow-x:auto;line-height:normal;font-family:Menlo,'DejaVu Sans Mono',consolas,'Courier New',monospace\"><span style=\"font-weight: bold\">Model: \"functional_201\"</span>\n",
              "</pre>\n"
            ]
          },
          "metadata": {}
        },
        {
          "output_type": "display_data",
          "data": {
            "text/plain": [
              "┏━━━━━━━━━━━━━━━━━━━━━━━━━━━━━━━━━━━━━━┳━━━━━━━━━━━━━━━━━━━━━━━━━━━━━┳━━━━━━━━━━━━━━━━━┓\n",
              "┃\u001b[1m \u001b[0m\u001b[1mLayer (type)                        \u001b[0m\u001b[1m \u001b[0m┃\u001b[1m \u001b[0m\u001b[1mOutput Shape               \u001b[0m\u001b[1m \u001b[0m┃\u001b[1m \u001b[0m\u001b[1m        Param #\u001b[0m\u001b[1m \u001b[0m┃\n",
              "┡━━━━━━━━━━━━━━━━━━━━━━━━━━━━━━━━━━━━━━╇━━━━━━━━━━━━━━━━━━━━━━━━━━━━━╇━━━━━━━━━━━━━━━━━┩\n",
              "│ input_layer_202 (\u001b[38;5;33mInputLayer\u001b[0m)         │ (\u001b[38;5;45mNone\u001b[0m, \u001b[38;5;34m7\u001b[0m)                   │               \u001b[38;5;34m0\u001b[0m │\n",
              "├──────────────────────────────────────┼─────────────────────────────┼─────────────────┤\n",
              "│ dense_710 (\u001b[38;5;33mDense\u001b[0m)                    │ (\u001b[38;5;45mNone\u001b[0m, \u001b[38;5;34m7\u001b[0m)                   │              \u001b[38;5;34m56\u001b[0m │\n",
              "├──────────────────────────────────────┼─────────────────────────────┼─────────────────┤\n",
              "│ dense_711 (\u001b[38;5;33mDense\u001b[0m)                    │ (\u001b[38;5;45mNone\u001b[0m, \u001b[38;5;34m7\u001b[0m)                   │              \u001b[38;5;34m56\u001b[0m │\n",
              "├──────────────────────────────────────┼─────────────────────────────┼─────────────────┤\n",
              "│ dense_712 (\u001b[38;5;33mDense\u001b[0m)                    │ (\u001b[38;5;45mNone\u001b[0m, \u001b[38;5;34m7\u001b[0m)                   │              \u001b[38;5;34m56\u001b[0m │\n",
              "├──────────────────────────────────────┼─────────────────────────────┼─────────────────┤\n",
              "│ dense_713 (\u001b[38;5;33mDense\u001b[0m)                    │ (\u001b[38;5;45mNone\u001b[0m, \u001b[38;5;34m7\u001b[0m)                   │              \u001b[38;5;34m56\u001b[0m │\n",
              "├──────────────────────────────────────┼─────────────────────────────┼─────────────────┤\n",
              "│ dense_714 (\u001b[38;5;33mDense\u001b[0m)                    │ (\u001b[38;5;45mNone\u001b[0m, \u001b[38;5;34m7\u001b[0m)                   │              \u001b[38;5;34m56\u001b[0m │\n",
              "├──────────────────────────────────────┼─────────────────────────────┼─────────────────┤\n",
              "│ dense_715 (\u001b[38;5;33mDense\u001b[0m)                    │ (\u001b[38;5;45mNone\u001b[0m, \u001b[38;5;34m7\u001b[0m)                   │              \u001b[38;5;34m56\u001b[0m │\n",
              "├──────────────────────────────────────┼─────────────────────────────┼─────────────────┤\n",
              "│ dense_716 (\u001b[38;5;33mDense\u001b[0m)                    │ (\u001b[38;5;45mNone\u001b[0m, \u001b[38;5;34m3\u001b[0m)                   │              \u001b[38;5;34m24\u001b[0m │\n",
              "└──────────────────────────────────────┴─────────────────────────────┴─────────────────┘\n"
            ],
            "text/html": [
              "<pre style=\"white-space:pre;overflow-x:auto;line-height:normal;font-family:Menlo,'DejaVu Sans Mono',consolas,'Courier New',monospace\">┏━━━━━━━━━━━━━━━━━━━━━━━━━━━━━━━━━━━━━━┳━━━━━━━━━━━━━━━━━━━━━━━━━━━━━┳━━━━━━━━━━━━━━━━━┓\n",
              "┃<span style=\"font-weight: bold\"> Layer (type)                         </span>┃<span style=\"font-weight: bold\"> Output Shape                </span>┃<span style=\"font-weight: bold\">         Param # </span>┃\n",
              "┡━━━━━━━━━━━━━━━━━━━━━━━━━━━━━━━━━━━━━━╇━━━━━━━━━━━━━━━━━━━━━━━━━━━━━╇━━━━━━━━━━━━━━━━━┩\n",
              "│ input_layer_202 (<span style=\"color: #0087ff; text-decoration-color: #0087ff\">InputLayer</span>)         │ (<span style=\"color: #00d7ff; text-decoration-color: #00d7ff\">None</span>, <span style=\"color: #00af00; text-decoration-color: #00af00\">7</span>)                   │               <span style=\"color: #00af00; text-decoration-color: #00af00\">0</span> │\n",
              "├──────────────────────────────────────┼─────────────────────────────┼─────────────────┤\n",
              "│ dense_710 (<span style=\"color: #0087ff; text-decoration-color: #0087ff\">Dense</span>)                    │ (<span style=\"color: #00d7ff; text-decoration-color: #00d7ff\">None</span>, <span style=\"color: #00af00; text-decoration-color: #00af00\">7</span>)                   │              <span style=\"color: #00af00; text-decoration-color: #00af00\">56</span> │\n",
              "├──────────────────────────────────────┼─────────────────────────────┼─────────────────┤\n",
              "│ dense_711 (<span style=\"color: #0087ff; text-decoration-color: #0087ff\">Dense</span>)                    │ (<span style=\"color: #00d7ff; text-decoration-color: #00d7ff\">None</span>, <span style=\"color: #00af00; text-decoration-color: #00af00\">7</span>)                   │              <span style=\"color: #00af00; text-decoration-color: #00af00\">56</span> │\n",
              "├──────────────────────────────────────┼─────────────────────────────┼─────────────────┤\n",
              "│ dense_712 (<span style=\"color: #0087ff; text-decoration-color: #0087ff\">Dense</span>)                    │ (<span style=\"color: #00d7ff; text-decoration-color: #00d7ff\">None</span>, <span style=\"color: #00af00; text-decoration-color: #00af00\">7</span>)                   │              <span style=\"color: #00af00; text-decoration-color: #00af00\">56</span> │\n",
              "├──────────────────────────────────────┼─────────────────────────────┼─────────────────┤\n",
              "│ dense_713 (<span style=\"color: #0087ff; text-decoration-color: #0087ff\">Dense</span>)                    │ (<span style=\"color: #00d7ff; text-decoration-color: #00d7ff\">None</span>, <span style=\"color: #00af00; text-decoration-color: #00af00\">7</span>)                   │              <span style=\"color: #00af00; text-decoration-color: #00af00\">56</span> │\n",
              "├──────────────────────────────────────┼─────────────────────────────┼─────────────────┤\n",
              "│ dense_714 (<span style=\"color: #0087ff; text-decoration-color: #0087ff\">Dense</span>)                    │ (<span style=\"color: #00d7ff; text-decoration-color: #00d7ff\">None</span>, <span style=\"color: #00af00; text-decoration-color: #00af00\">7</span>)                   │              <span style=\"color: #00af00; text-decoration-color: #00af00\">56</span> │\n",
              "├──────────────────────────────────────┼─────────────────────────────┼─────────────────┤\n",
              "│ dense_715 (<span style=\"color: #0087ff; text-decoration-color: #0087ff\">Dense</span>)                    │ (<span style=\"color: #00d7ff; text-decoration-color: #00d7ff\">None</span>, <span style=\"color: #00af00; text-decoration-color: #00af00\">7</span>)                   │              <span style=\"color: #00af00; text-decoration-color: #00af00\">56</span> │\n",
              "├──────────────────────────────────────┼─────────────────────────────┼─────────────────┤\n",
              "│ dense_716 (<span style=\"color: #0087ff; text-decoration-color: #0087ff\">Dense</span>)                    │ (<span style=\"color: #00d7ff; text-decoration-color: #00d7ff\">None</span>, <span style=\"color: #00af00; text-decoration-color: #00af00\">3</span>)                   │              <span style=\"color: #00af00; text-decoration-color: #00af00\">24</span> │\n",
              "└──────────────────────────────────────┴─────────────────────────────┴─────────────────┘\n",
              "</pre>\n"
            ]
          },
          "metadata": {}
        },
        {
          "output_type": "display_data",
          "data": {
            "text/plain": [
              "\u001b[1m Total params: \u001b[0m\u001b[38;5;34m360\u001b[0m (1.41 KB)\n"
            ],
            "text/html": [
              "<pre style=\"white-space:pre;overflow-x:auto;line-height:normal;font-family:Menlo,'DejaVu Sans Mono',consolas,'Courier New',monospace\"><span style=\"font-weight: bold\"> Total params: </span><span style=\"color: #00af00; text-decoration-color: #00af00\">360</span> (1.41 KB)\n",
              "</pre>\n"
            ]
          },
          "metadata": {}
        },
        {
          "output_type": "display_data",
          "data": {
            "text/plain": [
              "\u001b[1m Trainable params: \u001b[0m\u001b[38;5;34m360\u001b[0m (1.41 KB)\n"
            ],
            "text/html": [
              "<pre style=\"white-space:pre;overflow-x:auto;line-height:normal;font-family:Menlo,'DejaVu Sans Mono',consolas,'Courier New',monospace\"><span style=\"font-weight: bold\"> Trainable params: </span><span style=\"color: #00af00; text-decoration-color: #00af00\">360</span> (1.41 KB)\n",
              "</pre>\n"
            ]
          },
          "metadata": {}
        },
        {
          "output_type": "display_data",
          "data": {
            "text/plain": [
              "\u001b[1m Non-trainable params: \u001b[0m\u001b[38;5;34m0\u001b[0m (0.00 B)\n"
            ],
            "text/html": [
              "<pre style=\"white-space:pre;overflow-x:auto;line-height:normal;font-family:Menlo,'DejaVu Sans Mono',consolas,'Courier New',monospace\"><span style=\"font-weight: bold\"> Non-trainable params: </span><span style=\"color: #00af00; text-decoration-color: #00af00\">0</span> (0.00 B)\n",
              "</pre>\n"
            ]
          },
          "metadata": {}
        },
        {
          "output_type": "stream",
          "name": "stdout",
          "text": [
            "Test 2_1_7\n",
            "Test 2_2_1\n",
            "Test 2_2_2\n",
            "Test 2_2_3\n",
            "Test 2_3_1\n",
            "Test 2_3_2\n"
          ]
        },
        {
          "output_type": "display_data",
          "data": {
            "text/plain": [
              "<IPython.core.display.HTML object>"
            ],
            "text/html": [
              "<h3>Grading succeeded</h3>"
            ]
          },
          "metadata": {}
        },
        {
          "output_type": "display_data",
          "data": {
            "text/plain": [
              "<IPython.core.display.HTML object>"
            ],
            "text/html": [
              "<h6 style=\"color: green;\">TEST Test 1_1_1 , Your test grade: 100</h6>\n",
              "<h6>Feedback: Probando código ejemplo.</h6>"
            ]
          },
          "metadata": {}
        },
        {
          "output_type": "display_data",
          "data": {
            "text/plain": [
              "<IPython.core.display.HTML object>"
            ],
            "text/html": [
              "<h6 style=\"color: green;\">TEST Test 1_1_2 , Your test grade: 100</h6>\n",
              "<h6>Feedback: Probando código ejemplo.</h6>"
            ]
          },
          "metadata": {}
        },
        {
          "output_type": "display_data",
          "data": {
            "text/plain": [
              "<IPython.core.display.HTML object>"
            ],
            "text/html": [
              "<h6 style=\"color: green;\">TEST Test 1_1_3 , Your test grade: 100</h6>\n",
              "<h6>Feedback: Probando tu códgico con y_train y y_test</h6>"
            ]
          },
          "metadata": {}
        },
        {
          "output_type": "display_data",
          "data": {
            "text/plain": [
              "<IPython.core.display.HTML object>"
            ],
            "text/html": [
              "<h6 style=\"color: green;\">TEST Test 1_2_1 , Your test grade: 100</h6>\n",
              "<h6>Feedback: Probando código ejemplo.</h6>"
            ]
          },
          "metadata": {}
        },
        {
          "output_type": "display_data",
          "data": {
            "text/plain": [
              "<IPython.core.display.HTML object>"
            ],
            "text/html": [
              "<h6 style=\"color: green;\">TEST Test 1_2_2 , Your test grade: 100</h6>\n",
              "<h6>Feedback: Probando código ejemplo.</h6>"
            ]
          },
          "metadata": {}
        },
        {
          "output_type": "display_data",
          "data": {
            "text/plain": [
              "<IPython.core.display.HTML object>"
            ],
            "text/html": [
              "<h6 style=\"color: green;\">TEST Test 1_2_3 , Your test grade: 100</h6>\n",
              "<h6>Feedback: Probando código ejemplo.</h6>"
            ]
          },
          "metadata": {}
        },
        {
          "output_type": "display_data",
          "data": {
            "text/plain": [
              "<IPython.core.display.HTML object>"
            ],
            "text/html": [
              "<h6 style=\"color: green;\">TEST Test 1_2_4 , Your test grade: 100</h6>\n",
              "<h6>Feedback: Probando código ejemplo.</h6>"
            ]
          },
          "metadata": {}
        },
        {
          "output_type": "display_data",
          "data": {
            "text/plain": [
              "<IPython.core.display.HTML object>"
            ],
            "text/html": [
              "<h6 style=\"color: green;\">TEST Test 1_2_5 , Your test grade: 100</h6>\n",
              "<h6>Feedback: Probando código ejemplo.</h6>"
            ]
          },
          "metadata": {}
        },
        {
          "output_type": "display_data",
          "data": {
            "text/plain": [
              "<IPython.core.display.HTML object>"
            ],
            "text/html": [
              "<h6 style=\"color: green;\">TEST Test 1_2_6 , Your test grade: 100</h6>\n",
              "<h6>Feedback: Probando código ejemplo.</h6>"
            ]
          },
          "metadata": {}
        },
        {
          "output_type": "display_data",
          "data": {
            "text/plain": [
              "<IPython.core.display.HTML object>"
            ],
            "text/html": [
              "<h6 style=\"color: green;\">TEST Test 1_2_7 , Your test grade: 100</h6>\n",
              "<h6>Feedback: Probando código ejemplo.</h6>"
            ]
          },
          "metadata": {}
        },
        {
          "output_type": "display_data",
          "data": {
            "text/plain": [
              "<IPython.core.display.HTML object>"
            ],
            "text/html": [
              "<h6 style=\"color: green;\">TEST Test 1_3_1 , Your test grade: 100</h6>\n",
              "<h6>Feedback: Probando código ejemplo.</h6>"
            ]
          },
          "metadata": {}
        },
        {
          "output_type": "display_data",
          "data": {
            "text/plain": [
              "<IPython.core.display.HTML object>"
            ],
            "text/html": [
              "<h6 style=\"color: green;\">TEST Test 1_3_2 , Your test grade: 100</h6>\n",
              "<h6>Feedback: Probando código ejemplo.</h6>"
            ]
          },
          "metadata": {}
        },
        {
          "output_type": "display_data",
          "data": {
            "text/plain": [
              "<IPython.core.display.HTML object>"
            ],
            "text/html": [
              "<h6 style=\"color: green;\">TEST Test 1_4_1 , Your test grade: 100</h6>\n",
              "<h6>Feedback: Probando código ejemplo.</h6>"
            ]
          },
          "metadata": {}
        },
        {
          "output_type": "display_data",
          "data": {
            "text/plain": [
              "<IPython.core.display.HTML object>"
            ],
            "text/html": [
              "<h6 style=\"color: green;\">TEST Test 1_4_2 , Your test grade: 100</h6>\n",
              "<h6>Feedback: Probando código ejemplo.</h6>"
            ]
          },
          "metadata": {}
        },
        {
          "output_type": "display_data",
          "data": {
            "text/plain": [
              "<IPython.core.display.HTML object>"
            ],
            "text/html": [
              "<h6 style=\"color: green;\">TEST Test 1_4_3 , Your test grade: 100</h6>\n",
              "<h6>Feedback: Probando código ejemplo.</h6>"
            ]
          },
          "metadata": {}
        },
        {
          "output_type": "display_data",
          "data": {
            "text/plain": [
              "<IPython.core.display.HTML object>"
            ],
            "text/html": [
              "<h6 style=\"color: green;\">TEST Test 1_5_1 , Your test grade: 100</h6>\n",
              "<h6>Feedback: Probando código ejemplo.</h6>"
            ]
          },
          "metadata": {}
        },
        {
          "output_type": "display_data",
          "data": {
            "text/plain": [
              "<IPython.core.display.HTML object>"
            ],
            "text/html": [
              "<h6 style=\"color: green;\">TEST Test 1_5_2 , Your test grade: 100</h6>\n",
              "<h6>Feedback: Probando código ejemplo.</h6>"
            ]
          },
          "metadata": {}
        },
        {
          "output_type": "display_data",
          "data": {
            "text/plain": [
              "<IPython.core.display.HTML object>"
            ],
            "text/html": [
              "<h6 style=\"color: green;\">TEST Test 1_5_3 , Your test grade: 100</h6>\n",
              "<h6>Feedback: Probando código ejemplo.</h6>"
            ]
          },
          "metadata": {}
        },
        {
          "output_type": "display_data",
          "data": {
            "text/plain": [
              "<IPython.core.display.HTML object>"
            ],
            "text/html": [
              "<h6 style=\"color: green;\">TEST Test 1_6_1 , Your test grade: 100</h6>\n",
              "<h6>Feedback: Probando código ejemplo.</h6>"
            ]
          },
          "metadata": {}
        },
        {
          "output_type": "display_data",
          "data": {
            "text/plain": [
              "<IPython.core.display.HTML object>"
            ],
            "text/html": [
              "<h6 style=\"color: green;\">TEST Test 1_6_2 , Your test grade: 100</h6>\n",
              "<h6>Feedback: Probando código ejemplo.</h6>"
            ]
          },
          "metadata": {}
        },
        {
          "output_type": "display_data",
          "data": {
            "text/plain": [
              "<IPython.core.display.HTML object>"
            ],
            "text/html": [
              "<h6 style=\"color: green;\">TEST Test 2_1_1 , Your test grade: 100</h6>\n",
              "<h6>Feedback: Probando código ejemplo.</h6>"
            ]
          },
          "metadata": {}
        },
        {
          "output_type": "display_data",
          "data": {
            "text/plain": [
              "<IPython.core.display.HTML object>"
            ],
            "text/html": [
              "<h6 style=\"color: green;\">TEST Test 2_1_2 , Your test grade: 100</h6>\n",
              "<h6>Feedback: Probando código ejemplo.</h6>"
            ]
          },
          "metadata": {}
        },
        {
          "output_type": "display_data",
          "data": {
            "text/plain": [
              "<IPython.core.display.HTML object>"
            ],
            "text/html": [
              "<h6 style=\"color: green;\">TEST Test 2_1_3 , Your test grade: 100</h6>\n",
              "<h6>Feedback: Probando código ejemplo.</h6>"
            ]
          },
          "metadata": {}
        },
        {
          "output_type": "display_data",
          "data": {
            "text/plain": [
              "<IPython.core.display.HTML object>"
            ],
            "text/html": [
              "<h6 style=\"color: green;\">TEST Test 2_1_4 , Your test grade: 100</h6>\n",
              "<h6>Feedback: Probando código ejemplo.</h6>"
            ]
          },
          "metadata": {}
        },
        {
          "output_type": "display_data",
          "data": {
            "text/plain": [
              "<IPython.core.display.HTML object>"
            ],
            "text/html": [
              "<h6 style=\"color: green;\">TEST Test 2_1_5 , Your test grade: 100</h6>\n",
              "<h6>Feedback: Probando código ejemplo.</h6>"
            ]
          },
          "metadata": {}
        },
        {
          "output_type": "display_data",
          "data": {
            "text/plain": [
              "<IPython.core.display.HTML object>"
            ],
            "text/html": [
              "<h6 style=\"color: green;\">TEST Test 2_1_6 , Your test grade: 100</h6>\n",
              "<h6>Feedback: Probando código ejemplo.</h6>"
            ]
          },
          "metadata": {}
        },
        {
          "output_type": "display_data",
          "data": {
            "text/plain": [
              "<IPython.core.display.HTML object>"
            ],
            "text/html": [
              "<h6 style=\"color: green;\">TEST Test 2_1_7 , Your test grade: 100</h6>\n",
              "<h6>Feedback: Probando código ejemplo.</h6>"
            ]
          },
          "metadata": {}
        },
        {
          "output_type": "display_data",
          "data": {
            "text/plain": [
              "<IPython.core.display.HTML object>"
            ],
            "text/html": [
              "<h6 style=\"color: green;\">TEST Test 2_2_1 , Your test grade: 100</h6>\n",
              "<h6>Feedback: Probando código ejemplo.</h6>"
            ]
          },
          "metadata": {}
        },
        {
          "output_type": "display_data",
          "data": {
            "text/plain": [
              "<IPython.core.display.HTML object>"
            ],
            "text/html": [
              "<h6 style=\"color: green;\">TEST Test 2_2_2 , Your test grade: 100</h6>\n",
              "<h6>Feedback: Probando código ejemplo.</h6>"
            ]
          },
          "metadata": {}
        },
        {
          "output_type": "display_data",
          "data": {
            "text/plain": [
              "<IPython.core.display.HTML object>"
            ],
            "text/html": [
              "<h6 style=\"color: green;\">TEST Test 2_2_3 , Your test grade: 100</h6>\n",
              "<h6>Feedback: Probando código ejemplo.</h6>"
            ]
          },
          "metadata": {}
        },
        {
          "output_type": "display_data",
          "data": {
            "text/plain": [
              "<IPython.core.display.HTML object>"
            ],
            "text/html": [
              "<h6 style=\"color: green;\">TEST Test 2_3_1 , Your test grade: 100</h6>\n",
              "<h6>Feedback: Probando código ejemplo.</h6>"
            ]
          },
          "metadata": {}
        },
        {
          "output_type": "display_data",
          "data": {
            "text/plain": [
              "<IPython.core.display.HTML object>"
            ],
            "text/html": [
              "<h6 style=\"color: green;\">TEST Test 2_3_2 , Your test grade: 100</h6>\n",
              "<h6>Feedback: Probando código ejemplo.</h6>"
            ]
          },
          "metadata": {}
        },
        {
          "output_type": "display_data",
          "data": {
            "text/plain": [
              "<IPython.core.display.HTML object>"
            ],
            "text/html": [
              "<h3 style=\"color: purple;\">Your submission grade: \"100.0%\"</h3>"
            ]
          },
          "metadata": {}
        }
      ],
      "source": [
        "grader.submit_task(globals())"
      ]
    },
    {
      "cell_type": "markdown",
      "id": "QvM67oJwG1Jd",
      "metadata": {
        "id": "QvM67oJwG1Jd"
      },
      "source": [
        "# **Créditos**\n",
        "---\n",
        "\n",
        "* **Profesor:** [Fabio Augusto Gonzalez](https://dis.unal.edu.co/~fgonza/)\n",
        "* **Asistentes docentes :**\n",
        "  * [Santiago Toledo Cortés](https://sites.google.com/unal.edu.co/santiagotoledo-cortes/)\n",
        "  * [Juan Sebastián Lara](https://http://juselara.com/)\n",
        "* **Diseño de imágenes:**\n",
        "    - [Mario Andres Rodriguez Triana](mailto:mrodrigueztr@unal.edu.co).\n",
        "* **Coordinador de virtualización:**\n",
        "    - [Edder Hernández Forero](https://www.linkedin.com/in/edder-hernandez-forero-28aa8b207/).\n",
        "\n",
        "**Universidad Nacional de Colombia** - *Facultad de Ingeniería*"
      ]
    }
  ],
  "metadata": {
    "colab": {
      "provenance": [],
      "toc_visible": true,
      "include_colab_link": true
    },
    "gpuClass": "standard",
    "jupytext": {
      "cell_metadata_filter": "-all",
      "main_language": "python",
      "notebook_metadata_filter": "-all"
    },
    "kernelspec": {
      "display_name": "Python 3 (ipykernel)",
      "language": "python",
      "name": "python3"
    },
    "language_info": {
      "codemirror_mode": {
        "name": "ipython",
        "version": 3
      },
      "file_extension": ".py",
      "mimetype": "text/x-python",
      "name": "python",
      "nbconvert_exporter": "python",
      "pygments_lexer": "ipython3",
      "version": "3.9.13"
    }
  },
  "nbformat": 4,
  "nbformat_minor": 5
}