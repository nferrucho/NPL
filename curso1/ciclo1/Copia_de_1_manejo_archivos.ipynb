{
  "cells": [
    {
      "cell_type": "markdown",
      "metadata": {
        "id": "view-in-github",
        "colab_type": "text"
      },
      "source": [
        "<a href=\"https://colab.research.google.com/github/nferrucho/NPL/blob/main/Copia_de_1_manejo_archivos.ipynb\" target=\"_parent\"><img src=\"https://colab.research.google.com/assets/colab-badge.svg\" alt=\"Open In Colab\"/></a>"
      ]
    },
    {
      "cell_type": "markdown",
      "id": "6cf01d0e",
      "metadata": {
        "id": "6cf01d0e"
      },
      "source": [
        "<img src=\"https://drive.google.com/uc?export=view&id=1pWL34MWc1rS0peIekOBe8GGBIEUFPyrG\" width=\"100%\">"
      ]
    },
    {
      "cell_type": "markdown",
      "id": "344da8d6",
      "metadata": {
        "id": "344da8d6"
      },
      "source": [
        "# Carga de Textos en Python\n",
        "---\n",
        "\n",
        "En este notebook veremos las operaciones típicas para la manipulación de archivos desde _Python_, en especial:\n",
        "\n",
        "1. Manejo del sistema de archivos con `os`.\n",
        "2. Manipulación de ficheros o archivos planos.\n",
        "3. Manipulación de archivos `json`.\n",
        "\n",
        "Para esta práctica necesitaremos instalar algunas herramientas dentro del entorno de ejecución de _Google Colab_. Más precisamente, el comando `tree` nos permitirá ver estructuras de carpetas, subcarpetas y archivos como un árbol."
      ]
    },
    {
      "cell_type": "code",
      "execution_count": null,
      "id": "cc0916b4",
      "metadata": {
        "id": "cc0916b4"
      },
      "outputs": [],
      "source": [
        "# Software base\n",
        "!apt update # actualizamos los paquetes de linux en Google Colab\n",
        "!apt install tree # instalamos la utilidad tree"
      ]
    },
    {
      "cell_type": "markdown",
      "id": "3982312b",
      "metadata": {
        "id": "3982312b"
      },
      "source": [
        "## **1. Manejo del Sistema de Archivos con `os`**\n",
        "---\n",
        "\n",
        "Una de las principales ventajas de un lenguaje de programación de alto nivel como _Python_ es que nos da una interfaz unificada para la manipulación del sistema de archivos desde cualquier sistema operativo, se trata de la librería base `os`.\n",
        "\n",
        "> **Nota**: recuerde que `colab` trabaja sobre una máquina gratuita de Google que funciona bajo el sistema operativo Linux, en especial, tiene estas especificaciones:"
      ]
    },
    {
      "cell_type": "code",
      "execution_count": null,
      "id": "f716df2f",
      "metadata": {
        "id": "f716df2f"
      },
      "outputs": [],
      "source": [
        "!cat /etc/os-release"
      ]
    },
    {
      "cell_type": "markdown",
      "id": "905df4d9",
      "metadata": {
        "id": "905df4d9"
      },
      "source": [
        "Vamos a descargar un archivo en formato `.zip` y a descomprimirlo usando utilidades de Linux para ver cómo es su posterior manipulación desde _Python_."
      ]
    },
    {
      "cell_type": "code",
      "execution_count": null,
      "id": "749b67b7",
      "metadata": {
        "id": "749b67b7"
      },
      "outputs": [],
      "source": [
        "# Eliminamos versiones previas de los datos, para evitar conflictos\n",
        "!rm -rf data os_examples*\n",
        "# Descargamos un archivo zip con los datos para este taller\n",
        "!wget 'https://drive.google.com/uc?export=view&id=1CmoK4VbqTpGA1BiNAThbz-CrDF6zBMps' -O os_examples.zip\n",
        "# Descomprimimos el archivo\n",
        "!unzip os_examples.zip"
      ]
    },
    {
      "cell_type": "markdown",
      "id": "03b3936f",
      "metadata": {
        "id": "03b3936f"
      },
      "source": [
        "Veamos la estructura de archivos que acabamos de descargar:\n",
        "\n",
        "<center>\n",
        "<img src=\"https://drive.google.com/uc?export=view&id=1xf92yIUuaSQ-ySFVIUqUd3OVfWHSjnqQ\" width=\"60%\">\n",
        "</center>"
      ]
    },
    {
      "cell_type": "code",
      "execution_count": null,
      "id": "d9ded4ac",
      "metadata": {
        "id": "d9ded4ac"
      },
      "outputs": [],
      "source": [
        "!tree data"
      ]
    },
    {
      "cell_type": "markdown",
      "id": "ad6d880c",
      "metadata": {
        "id": "ad6d880c"
      },
      "source": [
        "Como se puede ver, tenemos 3 carpetas: `img`, `pdf` y `txt`; dentro de las cuales tenemos un archivo de distintos formatos.\n",
        "\n",
        "Veamos como manipular archivos desde _Python_ usando la librería `os`:"
      ]
    },
    {
      "cell_type": "code",
      "execution_count": null,
      "id": "ceb06cd0",
      "metadata": {
        "id": "ceb06cd0"
      },
      "outputs": [],
      "source": [
        "import os"
      ]
    },
    {
      "cell_type": "markdown",
      "id": "fa6191c8",
      "metadata": {
        "id": "fa6191c8"
      },
      "source": [
        "### **1.1. Listado**\n",
        "---\n",
        "\n",
        "Para listar archivos podemos usar la función `os.listdir`, la cual nos permite ver qué archivos y carpetas se encuentran en una ruta especificada, veamos un ejemplo:"
      ]
    },
    {
      "cell_type": "code",
      "execution_count": null,
      "id": "0d0c90d3",
      "metadata": {
        "id": "0d0c90d3"
      },
      "outputs": [],
      "source": [
        "print(os.listdir(\".\"))"
      ]
    },
    {
      "cell_type": "markdown",
      "id": "63141a4a",
      "metadata": {
        "id": "63141a4a"
      },
      "source": [
        "Recuerde que la ruta `\".\"` representa el directorio actual dentro del sistema de archivos. Veamos algunos ejemplos de listado de archivos dentro de rutas específicas, por ejemplo, a partir de la carpeta que descomprimimos anteriormente:"
      ]
    },
    {
      "cell_type": "code",
      "execution_count": null,
      "id": "34519e47",
      "metadata": {
        "id": "34519e47"
      },
      "outputs": [],
      "source": [
        "print(os.listdir(\"data/\"))"
      ]
    },
    {
      "cell_type": "markdown",
      "id": "60897b07",
      "metadata": {
        "id": "60897b07"
      },
      "source": [
        "También podemos listar elementos dentro de alguna de las subcarpetas:"
      ]
    },
    {
      "cell_type": "code",
      "execution_count": null,
      "id": "17e06c62",
      "metadata": {
        "id": "17e06c62"
      },
      "outputs": [],
      "source": [
        "print(os.listdir(\"data/img\"))"
      ]
    },
    {
      "cell_type": "markdown",
      "id": "f8fb762c",
      "metadata": {
        "id": "f8fb762c"
      },
      "source": [
        "Con la librería `os`, también podemos validar si un elemento es un directorio, por medio de la función `os.path.isdir`:"
      ]
    },
    {
      "cell_type": "code",
      "execution_count": null,
      "id": "883269f5",
      "metadata": {
        "id": "883269f5"
      },
      "outputs": [],
      "source": [
        "print(os.path.isdir(\"data\"))"
      ]
    },
    {
      "cell_type": "markdown",
      "id": "ec34218c",
      "metadata": {
        "id": "ec34218c"
      },
      "source": [
        "También podemos validar si es un archivo o fichero con la función `os.path.isfile`:"
      ]
    },
    {
      "cell_type": "code",
      "execution_count": null,
      "id": "dc53768d",
      "metadata": {
        "id": "dc53768d"
      },
      "outputs": [],
      "source": [
        "print(os.path.isfile(\"data\"))"
      ]
    },
    {
      "cell_type": "markdown",
      "id": "cf08bece",
      "metadata": {
        "id": "cf08bece"
      },
      "source": [
        "Veamos un ejemplo con un archivo. Primero, validamos si es un directorio:"
      ]
    },
    {
      "cell_type": "code",
      "execution_count": null,
      "id": "b559aaae",
      "metadata": {
        "id": "b559aaae"
      },
      "outputs": [],
      "source": [
        "print(os.path.isdir(\"data/img/poema.png\"))"
      ]
    },
    {
      "cell_type": "markdown",
      "id": "a5ab8118",
      "metadata": {
        "id": "a5ab8118"
      },
      "source": [
        "Ahora, podemos validar si es un fichero:"
      ]
    },
    {
      "cell_type": "code",
      "execution_count": null,
      "id": "e26af285",
      "metadata": {
        "id": "e26af285"
      },
      "outputs": [],
      "source": [
        "print(os.path.isfile(\"data/img/poema.png\"))"
      ]
    },
    {
      "cell_type": "markdown",
      "id": "47c3a0e1",
      "metadata": {
        "id": "47c3a0e1"
      },
      "source": [
        "Podemos corroborar si un elemento existe o no con la función `os.path.exists`, veamos un ejemplo con la carpeta que creamos:"
      ]
    },
    {
      "cell_type": "code",
      "execution_count": null,
      "id": "31f692c3",
      "metadata": {
        "id": "31f692c3"
      },
      "outputs": [],
      "source": [
        "print(os.path.exists(\"data\"))"
      ]
    },
    {
      "cell_type": "markdown",
      "id": "4f11ad40",
      "metadata": {
        "id": "4f11ad40"
      },
      "source": [
        "Veamos un ejemplo de un elemento que no existe"
      ]
    },
    {
      "cell_type": "code",
      "execution_count": null,
      "id": "6b8e8ac2",
      "metadata": {
        "id": "6b8e8ac2"
      },
      "outputs": [],
      "source": [
        "print(os.path.exists(\"data2\"))"
      ]
    },
    {
      "cell_type": "markdown",
      "id": "5d28a77b",
      "metadata": {
        "id": "5d28a77b"
      },
      "source": [
        "Como podemos evidenciar, `\"data2\"` no existe pues no existe ninguna carpeta ni archivo con dicho nombre."
      ]
    },
    {
      "cell_type": "markdown",
      "id": "9b994b24",
      "metadata": {
        "id": "9b994b24"
      },
      "source": [
        "### **1.2. Movimientos y Creación**\n",
        "---\n",
        "\n",
        "Con la librería `os` también es posible renombrar archivos dentro del sistema operativo con la función `os.rename`. Veamos un ejemplo donde renombramos la carpeta `\"data\"` como `\"data2\"`:"
      ]
    },
    {
      "cell_type": "code",
      "execution_count": null,
      "id": "4db739d0",
      "metadata": {
        "id": "4db739d0"
      },
      "outputs": [],
      "source": [
        "os.rename(\"data\", \"data2\")"
      ]
    },
    {
      "cell_type": "markdown",
      "id": "f2c307db",
      "metadata": {
        "id": "f2c307db"
      },
      "source": [
        "Podemos validar que `\"data\"` ya no existe y que `\"data2\"` ahora si existe"
      ]
    },
    {
      "cell_type": "code",
      "execution_count": null,
      "id": "7c10c733",
      "metadata": {
        "id": "7c10c733"
      },
      "outputs": [],
      "source": [
        "print(os.listdir(\".\"))"
      ]
    },
    {
      "cell_type": "markdown",
      "id": "04f3e08f",
      "metadata": {
        "id": "04f3e08f"
      },
      "source": [
        "Validemos que `data` ya no existe:"
      ]
    },
    {
      "cell_type": "code",
      "execution_count": null,
      "id": "6216a34c",
      "metadata": {
        "id": "6216a34c"
      },
      "outputs": [],
      "source": [
        "print(os.path.exists(\"data\"))"
      ]
    },
    {
      "cell_type": "markdown",
      "id": "cf899097",
      "metadata": {
        "id": "cf899097"
      },
      "source": [
        "También podemos ver que `data2` ahora si existe:"
      ]
    },
    {
      "cell_type": "code",
      "execution_count": null,
      "id": "61e2fd75",
      "metadata": {
        "id": "61e2fd75"
      },
      "outputs": [],
      "source": [
        "print(os.path.exists(\"data2\"))"
      ]
    },
    {
      "cell_type": "markdown",
      "id": "1883d670",
      "metadata": {
        "id": "1883d670"
      },
      "source": [
        "Desde la librería `os` igual podemos ejecutar cualquier comando del sistema operativo con la función `os.system`. Por ejemplo, para copiar un archivo podemos usar el comando `cp` de **Linux**, veamos qué archivos hay antes del copiado:"
      ]
    },
    {
      "cell_type": "code",
      "execution_count": null,
      "id": "ea4af317",
      "metadata": {
        "id": "ea4af317"
      },
      "outputs": [],
      "source": [
        "print(os.listdir(\".\"))"
      ]
    },
    {
      "cell_type": "markdown",
      "id": "61d5a3fd",
      "metadata": {
        "id": "61d5a3fd"
      },
      "source": [
        "Ahora, vamos a crear una copia de `\"os_examples.zip\"` como `\"os_examples2.zip\"`. El comando `cp` nos permite copiar un archivo desde una ruta de origen hacia una ruta de destino:"
      ]
    },
    {
      "cell_type": "code",
      "execution_count": null,
      "id": "3cd069a5",
      "metadata": {
        "id": "3cd069a5"
      },
      "outputs": [],
      "source": [
        "os.system(\"cp os_examples.zip os_examples2.zip\")"
      ]
    },
    {
      "cell_type": "markdown",
      "id": "d3f188fe",
      "metadata": {
        "id": "d3f188fe"
      },
      "source": [
        "Veamos el resultado:"
      ]
    },
    {
      "cell_type": "code",
      "execution_count": null,
      "id": "56a98621",
      "metadata": {
        "id": "56a98621"
      },
      "outputs": [],
      "source": [
        "print(os.listdir(\".\"))"
      ]
    },
    {
      "cell_type": "markdown",
      "id": "016cd6a5",
      "metadata": {
        "id": "016cd6a5"
      },
      "source": [
        "También podemos crear carpetas con la función `os.makedirs`:"
      ]
    },
    {
      "cell_type": "code",
      "execution_count": null,
      "id": "d025cafe",
      "metadata": {
        "id": "d025cafe"
      },
      "outputs": [],
      "source": [
        "os.makedirs(\"test\")"
      ]
    },
    {
      "cell_type": "markdown",
      "id": "57d629eb",
      "metadata": {
        "id": "57d629eb"
      },
      "source": [
        "Validemos el resultado"
      ]
    },
    {
      "cell_type": "code",
      "execution_count": null,
      "id": "67f9b12e",
      "metadata": {
        "id": "67f9b12e"
      },
      "outputs": [],
      "source": [
        "print(os.path.exists(\"test\"))"
      ]
    },
    {
      "cell_type": "markdown",
      "id": "1851e65f",
      "metadata": {
        "id": "1851e65f"
      },
      "source": [
        "### **1.3. Borrado**\n",
        "---\n",
        "\n",
        "Con la función `os.remove` podemos eliminar archivos, mientras que con `os.rmdir` podemos borrar carpetas. Primero veamos los archivos que tenemos hasta este punto:"
      ]
    },
    {
      "cell_type": "code",
      "execution_count": null,
      "id": "5e5e326f",
      "metadata": {
        "id": "5e5e326f"
      },
      "outputs": [],
      "source": [
        "print(os.listdir(\".\"))"
      ]
    },
    {
      "cell_type": "markdown",
      "id": "43cf3298",
      "metadata": {
        "id": "43cf3298"
      },
      "source": [
        "Vamos a eliminar el archivo `os_examples2.zip` que creamos en los ejemplos anteriores:"
      ]
    },
    {
      "cell_type": "code",
      "execution_count": null,
      "id": "3ead8c03",
      "metadata": {
        "id": "3ead8c03"
      },
      "outputs": [],
      "source": [
        "os.remove(\"os_examples2.zip\")"
      ]
    },
    {
      "cell_type": "markdown",
      "id": "12638837",
      "metadata": {
        "id": "12638837"
      },
      "source": [
        "Veamos el resultado:"
      ]
    },
    {
      "cell_type": "code",
      "execution_count": null,
      "id": "92148267",
      "metadata": {
        "id": "92148267"
      },
      "outputs": [],
      "source": [
        "print(os.listdir(\".\"))"
      ]
    },
    {
      "cell_type": "markdown",
      "id": "9f8cb264",
      "metadata": {
        "id": "9f8cb264"
      },
      "source": [
        "También podemos eliminar la carpeta `test` que creamos en los ejemplos anteriores usando la función `os.rmdir`:"
      ]
    },
    {
      "cell_type": "code",
      "execution_count": null,
      "id": "eaea3f0c",
      "metadata": {
        "id": "eaea3f0c"
      },
      "outputs": [],
      "source": [
        "os.rmdir(\"test\")"
      ]
    },
    {
      "cell_type": "markdown",
      "id": "62359504",
      "metadata": {
        "id": "62359504"
      },
      "source": [
        "Podemos validar que los elementos se han eliminado:"
      ]
    },
    {
      "cell_type": "code",
      "execution_count": null,
      "id": "08ceddeb",
      "metadata": {
        "id": "08ceddeb"
      },
      "outputs": [],
      "source": [
        "print(os.listdir(\".\"))"
      ]
    },
    {
      "cell_type": "markdown",
      "id": "03cfa09e",
      "metadata": {
        "id": "03cfa09e"
      },
      "source": [
        "### **1.4. Otras operaciones**\n",
        "---"
      ]
    },
    {
      "cell_type": "markdown",
      "id": "f4d8b946",
      "metadata": {
        "id": "f4d8b946"
      },
      "source": [
        "Existen funcionalidades adicionales del paquete `os` que llegaremos a necesitar en algunos casos. Por ejemplo, la función `os.path.join` permite unir carpetas y subcarpetas dentro de una ruta completa.\n",
        "\n",
        "Por ejemplo, podemos unir tres rutas: `/content`,  `data/`, `img/poema.png`:"
      ]
    },
    {
      "cell_type": "code",
      "execution_count": null,
      "id": "247825b3",
      "metadata": {
        "id": "247825b3"
      },
      "outputs": [],
      "source": [
        "print(os.path.join(\"/content\", \"data\", \"img/poema.png\"))"
      ]
    },
    {
      "cell_type": "markdown",
      "id": "1ca74784",
      "metadata": {
        "id": "1ca74784"
      },
      "source": [
        "Veamos un ejemplo en el que listamos las rutas de todos los archivos que hay en el directorio actual y sus subcarpetas:"
      ]
    },
    {
      "cell_type": "code",
      "execution_count": null,
      "id": "96421a6b",
      "metadata": {
        "id": "96421a6b"
      },
      "outputs": [],
      "source": [
        "# creamos una cola con los posibles archivos, carpetas y subcarpetas\n",
        "queue = os.listdir(\".\")\n",
        "# creamos una lista donde se almacenarán los archivos\n",
        "files = []\n",
        "\n",
        "# iteramos mientras que tengamos archivos en la cola\n",
        "while queue:\n",
        "    # extraemos un elemento de la cola\n",
        "    path = queue.pop(0)\n",
        "    # validamos si el elemento es una carpeta\n",
        "    if os.path.isdir(path):\n",
        "        # en caso de ser carpeta, listamos los elementos que contiene\n",
        "        elements = os.listdir(path)\n",
        "        # creamos las rutas completas de todos los elementos encontrados\n",
        "        paths = [os.path.join(path, element) for element in elements]\n",
        "        # agregamos los elementos a la cola\n",
        "        queue.extend(paths)\n",
        "    else:\n",
        "        # en caso de que el elemento sea un archivo\n",
        "        # se agrega al resultado final.\n",
        "        files.append(path)\n",
        "print(files)"
      ]
    },
    {
      "cell_type": "markdown",
      "id": "30f593fe",
      "metadata": {
        "id": "30f593fe"
      },
      "source": [
        "En este caso, podemos ver que obtener de forma recursiva los archivos dentro de un directorio requiere un código moderadamente complejo con la librería `os`. Otra alternativa más directa consiste en utilizar otras librerías que permiten solucionar esta tarea más fácilmente, por ejemplo:"
      ]
    },
    {
      "cell_type": "code",
      "execution_count": null,
      "id": "aad6710f",
      "metadata": {
        "id": "aad6710f"
      },
      "outputs": [],
      "source": [
        "import pathlib\n",
        "print(list(pathlib.Path(\".\").rglob(\"*.*\")))"
      ]
    },
    {
      "cell_type": "markdown",
      "id": "bcd11939",
      "metadata": {
        "id": "bcd11939"
      },
      "source": [
        "Sin embargo, para entender este ejemplo necesitamos abordar el concepto de **expresiones regulares**. Este tema lo abordaremos más en detalle en otro taller guiado de esta unidad.\n",
        "\n",
        "De forma adicional, si desea hacer una manipulación avanzada de archivos en _Python_ puede revisar paquetes adicionales como:\n",
        "\n",
        "* [`glob`](https://docs.python.org/3/library/glob.html)\n",
        "* [`shutil`](https://docs.python.org/3/library/shutil.html)\n",
        "* [`pathlib`](https://docs.python.org/3/library/pathlib.html)\n",
        "* [`subprocess`](https://docs.python.org/3/library/subprocess.html)"
      ]
    },
    {
      "cell_type": "markdown",
      "id": "cc48a64a",
      "metadata": {
        "id": "cc48a64a"
      },
      "source": [
        "## **2. Manipulación de Ficheros o Archivos Planos**\n",
        "---\n",
        "\n",
        "Desde _Python_ podemos leer y escribir ficheros haciendo uso de los distintos modos. Veamos una descripción de estos:\n",
        "\n",
        "| Modo | Descripción |\n",
        "| --- | --- |\n",
        "| `r` | Modo lectura. |\n",
        "| `w` | Modo escritura. |\n",
        "| `a` | Modo **append** (abre un archivo existente y escribe al final) |\n",
        "| `r+` | Modo lectura con permisos de escritura. |\n",
        "| `w+` | Modo escritura con permisos de lectura. |\n",
        "| `a+` | Modo **append** con permisos de lectura. |\n",
        "| `rb` | Modo lectura binario. |\n",
        "| `wb` | Modo escritura binario. |\n",
        "| `ab` | Modo **append** binario. |\n",
        "\n",
        "Para estas operaciones, haremos uso de dos instrucciones de _Python_:\n",
        "\n",
        "* `open`: permite crear o leer un archivo con un modo dado.\n",
        "* `with`: crea un contexto para la manipulación de un archivo, una vez terminado el contexto, el archivo se cierra de forma automática.\n",
        "\n",
        "La sintaxis para manejar ficheros desde _Python_ es la siguiente:\n",
        "\n",
        "```python\n",
        "with open(nombre_archivo, modo) as f:\n",
        "    ...\n",
        "```\n",
        "\n",
        "Esto es lo que se conoce como un contexto y nos permite referenciar a un archivo almacenado en la ruta `nombre_archivo` mediante el identificador `f` y abrirlo con un `modo` especificado.\n",
        "\n",
        "Veamos algunos ejemplos:"
      ]
    },
    {
      "cell_type": "markdown",
      "id": "8755480b",
      "metadata": {
        "id": "8755480b"
      },
      "source": [
        "### **2.1. Lectura**\n",
        "---\n",
        "\n",
        "Comenzaremos cargando el archivo que descargamos al inicio del notebook, para este caso, leemos el archivo y utilizamos un `encoding`  de tipo `latin1`.\n",
        "\n",
        "> Un `encoding` hace referencia a un esquema de codificación que contiene los distintos caracteres relacionados a un idioma. Más precisamente, `latin_1` codifica caracteres utilizados en idiomas de Europa Occidental. Puede ver una lista de las posibles codificaciones de caracteres en [este enlace](https://docs.python.org/3.11/library/codecs.html#standard-encodings).\n",
        "\n",
        "Veamos cómo leer el archivo `biblia.txt`, haciendo uso del método `read` del fichero y especificando el modo `\"r\"` de lectura:"
      ]
    },
    {
      "cell_type": "code",
      "execution_count": null,
      "id": "10338149",
      "metadata": {
        "id": "10338149"
      },
      "outputs": [],
      "source": [
        "with open(\"data2/txt/biblia.txt\", \"r\", encoding=\"latin1\") as f:\n",
        "    data = f.read()"
      ]
    },
    {
      "cell_type": "markdown",
      "id": "d245966f",
      "metadata": {
        "id": "d245966f"
      },
      "source": [
        "Podemos ver el tipo de la variable que cargamos:"
      ]
    },
    {
      "cell_type": "code",
      "execution_count": null,
      "id": "ac4d51a8",
      "metadata": {
        "id": "ac4d51a8"
      },
      "outputs": [],
      "source": [
        "print(type(data))"
      ]
    },
    {
      "cell_type": "markdown",
      "id": "20be9052",
      "metadata": {
        "id": "20be9052"
      },
      "source": [
        "En este caso, todo el archivo se lee como una cadena de caracteres. Podemos imprimir los primeros 500 caracteres del archivo:"
      ]
    },
    {
      "cell_type": "code",
      "execution_count": null,
      "id": "f7176e0d",
      "metadata": {
        "id": "f7176e0d"
      },
      "outputs": [],
      "source": [
        "print(data[:500])"
      ]
    },
    {
      "cell_type": "markdown",
      "id": "26fc1e52",
      "metadata": {
        "id": "26fc1e52"
      },
      "source": [
        "Adicional al método `read`, los ficheros de _Python_ también permiten utilizar el método `readlines`, el cual carga los datos como una lista de strings, separando cada valor por un salto de línea `\"\\n\"`.\n",
        "\n",
        "Veamos un ejemplo sobre el mismo archivo:"
      ]
    },
    {
      "cell_type": "code",
      "execution_count": null,
      "id": "4f3d4923",
      "metadata": {
        "id": "4f3d4923"
      },
      "outputs": [],
      "source": [
        "with open(\"data2/txt/biblia.txt\", \"r\", encoding=\"latin1\") as f:\n",
        "    data = f.readlines()"
      ]
    },
    {
      "cell_type": "markdown",
      "id": "91ca7552",
      "metadata": {
        "id": "91ca7552"
      },
      "source": [
        "Podemos validar el tipo de los datos que se cargaron:"
      ]
    },
    {
      "cell_type": "code",
      "execution_count": null,
      "id": "0c71196c",
      "metadata": {
        "id": "0c71196c"
      },
      "outputs": [],
      "source": [
        "print(type(data))"
      ]
    },
    {
      "cell_type": "markdown",
      "id": "d3fd08a2",
      "metadata": {
        "id": "d3fd08a2"
      },
      "source": [
        "También, podemos validar el tipo de un elemento de la lista obtenida:"
      ]
    },
    {
      "cell_type": "code",
      "execution_count": null,
      "id": "fbf10362",
      "metadata": {
        "id": "fbf10362"
      },
      "outputs": [],
      "source": [
        "print(type(data[0]))"
      ]
    },
    {
      "cell_type": "markdown",
      "id": "5dc57c5b",
      "metadata": {
        "id": "5dc57c5b"
      },
      "source": [
        "Veamos las primeras 10 líneas del archivo:"
      ]
    },
    {
      "cell_type": "code",
      "execution_count": null,
      "id": "2470c734",
      "metadata": {
        "id": "2470c734"
      },
      "outputs": [],
      "source": [
        "print(data[:10])"
      ]
    },
    {
      "cell_type": "markdown",
      "id": "8d07b07b",
      "metadata": {
        "id": "8d07b07b"
      },
      "source": [
        "### **2.2. Escritura**\n",
        "---\n",
        "\n",
        "Para escribir sobre un archivo, debemos usar el fichero en modo `\"w\"`. Si queremos escribir una cadena de caracteres en el archivo debemos usar el método `write`."
      ]
    },
    {
      "cell_type": "code",
      "execution_count": null,
      "id": "ca0acb8d",
      "metadata": {
        "id": "ca0acb8d"
      },
      "outputs": [],
      "source": [
        "with open(\"file.txt\", \"w\") as f:\n",
        "    f.write(\"hola\")"
      ]
    },
    {
      "cell_type": "markdown",
      "id": "30669c42",
      "metadata": {
        "id": "30669c42"
      },
      "source": [
        "Validemos el resultado:"
      ]
    },
    {
      "cell_type": "code",
      "execution_count": null,
      "id": "c8fc83f4",
      "metadata": {
        "id": "c8fc83f4"
      },
      "outputs": [],
      "source": [
        "print(os.listdir(\".\"))"
      ]
    },
    {
      "cell_type": "markdown",
      "id": "650d9be5",
      "metadata": {
        "id": "650d9be5"
      },
      "source": [
        "Note que ahora existe el archivo `file.txt`. Podemos ver su contenido usando un fichero en modo lectura como lo vimos anteriormente:"
      ]
    },
    {
      "cell_type": "code",
      "execution_count": null,
      "id": "7046d2f5",
      "metadata": {
        "id": "7046d2f5"
      },
      "outputs": [],
      "source": [
        "with open(\"file.txt\", \"r\") as f:\n",
        "    data = f.read()\n",
        "print(data)"
      ]
    },
    {
      "cell_type": "markdown",
      "id": "3d449547",
      "metadata": {
        "id": "3d449547"
      },
      "source": [
        "También podemos realizar múltiples escrituras sobre un archivo por medio del método `writelines` de los ficheros, el cual recibe como argumento una lista con los strings que se van a escribir como la variable `data` que se define a continuación:"
      ]
    },
    {
      "cell_type": "code",
      "execution_count": null,
      "id": "de73d691",
      "metadata": {
        "id": "de73d691"
      },
      "outputs": [],
      "source": [
        "data = [\"hola\\n\", \"mundo\\n\", \"saludos\\n\"]\n",
        "with open(\"file.txt\", \"w\") as f:\n",
        "    f.writelines(data)"
      ]
    },
    {
      "cell_type": "markdown",
      "id": "f8a5a8c4",
      "metadata": {
        "id": "f8a5a8c4"
      },
      "source": [
        "Validemos el contenido del archivo:"
      ]
    },
    {
      "cell_type": "code",
      "execution_count": null,
      "id": "cd987d04",
      "metadata": {
        "id": "cd987d04"
      },
      "outputs": [],
      "source": [
        "with open(\"file.txt\", \"r\") as f:\n",
        "    data = f.read()\n",
        "print(data)"
      ]
    },
    {
      "cell_type": "markdown",
      "id": "b9a6aa92",
      "metadata": {
        "id": "b9a6aa92"
      },
      "source": [
        "Recuerde que en _Python_ el carácter `\"\\n\"` representa un salto de línea (habláremos más en detalle sobre estos caracteres especiales en el taller guiado de manipulación de strings desde _Python_).\n",
        "\n",
        "**IMPORTANTE**: Note que el archivo `file.txt` se sobrescribió cuando abrimos el archivo por segunda vez en modo de escritura. Este es el comportamiento normal del modo `\"w\"`; así que se recomienda tener cuidado al usar este modo, ya que podemos borrar el contenido de los archivos existentes."
      ]
    },
    {
      "cell_type": "markdown",
      "id": "f4f76ca8",
      "metadata": {
        "id": "f4f76ca8"
      },
      "source": [
        "### **2.3. Append**\n",
        "---\n",
        "\n",
        "El modo **`append`** funciona como un modo de escritura, pero en lugar de sobrescribir un archivo, agrega elementos al final del mismo.\n",
        "\n",
        "Veamos un ejemplo en el que abrimos el archivo `file.txt` que creamos en el paso anterior pero esta vez en modo `\"a\"`."
      ]
    },
    {
      "cell_type": "code",
      "execution_count": null,
      "id": "181ada46",
      "metadata": {
        "id": "181ada46"
      },
      "outputs": [],
      "source": [
        "with open(\"file.txt\", \"a\") as f:\n",
        "    f.write(\"test\\n\")"
      ]
    },
    {
      "cell_type": "markdown",
      "id": "bcd49885",
      "metadata": {
        "id": "bcd49885"
      },
      "source": [
        "Validemos el resultado, creando un fichero en modo lectura `\"r\"` para extraer su contenido:"
      ]
    },
    {
      "cell_type": "code",
      "execution_count": null,
      "id": "12f57336",
      "metadata": {
        "id": "12f57336"
      },
      "outputs": [],
      "source": [
        "with open(\"file.txt\", \"r\") as f:\n",
        "    data = f.read()\n",
        "print(data)"
      ]
    },
    {
      "cell_type": "markdown",
      "id": "0f28c034",
      "metadata": {
        "id": "0f28c034"
      },
      "source": [
        "### **2.4. Modos Extendidos**\n",
        "---\n",
        "\n",
        "Los modos extendidos se generan a partir del uso del operador `+` sobre los modos. Permiten combinar lectura con escritura de archivos.\n",
        "\n",
        "A manera de ejemplo, primero vamos a crear un fichero en modo de lectura extendido `\"r+\"` para poder leer y escribir sobre el archivo `file.txt`."
      ]
    },
    {
      "cell_type": "code",
      "execution_count": null,
      "id": "1ae2457b",
      "metadata": {
        "id": "1ae2457b"
      },
      "outputs": [],
      "source": [
        "with open(\"file.txt\", \"r+\") as f:\n",
        "    data = f.read()\n",
        "    print(data) # Imprimimos el contenido del archivo hasta este punto\n",
        "    f.write(\"hello\\n\")"
      ]
    },
    {
      "cell_type": "markdown",
      "id": "004d3e6c",
      "metadata": {
        "id": "004d3e6c"
      },
      "source": [
        "Note que en la anterior celda usamos el método `read` dentro del mismo contexto que el método `write` (acotado por la identación del `with`). Esto nos permite leer el archivo como se encontraba anteriormente y agregar la línea `\"hello\\n\"` al final.\n",
        "\n",
        "Verifiquemos que la línea nueva se agregara abriendo el fichero en modo lectura `\"r\"` para revisar el contenido del archivo:"
      ]
    },
    {
      "cell_type": "code",
      "execution_count": null,
      "id": "0186225b",
      "metadata": {
        "id": "0186225b"
      },
      "outputs": [],
      "source": [
        "with open(\"file.txt\", \"r\") as f:\n",
        "    data = f.read()\n",
        "    print(data)"
      ]
    },
    {
      "cell_type": "markdown",
      "id": "0ba88312",
      "metadata": {
        "id": "0ba88312"
      },
      "source": [
        "Como se puede evidenciar, el archivo fue modificado correctamente con la nueva línea.\n",
        "\n",
        "Es importante tener en cuenta que internamente los ficheros guardan una ubicación luego de cualquier operación de lectura o escritura. En el ejemplo de lectura-escritura anterior con `\"r+\"` vimos que la nueva línea se agregó al final. Esto sucede debido a que el archivo fue leído inicialmente (la posición quedó en el último carácter leído) y luego sí se agrega la nueva línea.\n",
        "\n",
        "Veamos un ejemplo donde abrimos un fichero en modo `\"r+\"` pero únicamente para escribir sobre él:"
      ]
    },
    {
      "cell_type": "code",
      "execution_count": null,
      "id": "809ea2c8",
      "metadata": {
        "id": "809ea2c8"
      },
      "outputs": [],
      "source": [
        "with open(\"file.txt\", \"r+\") as f:\n",
        "    data = f.write(\"nueva línea\")"
      ]
    },
    {
      "cell_type": "markdown",
      "id": "b61d73bb",
      "metadata": {
        "id": "b61d73bb"
      },
      "source": [
        "Veamos el contenido del archivo, cargándolo con un fichero en modo lectura:"
      ]
    },
    {
      "cell_type": "code",
      "execution_count": null,
      "id": "1f7f803e",
      "metadata": {
        "id": "1f7f803e"
      },
      "outputs": [],
      "source": [
        "with open(\"file.txt\", \"r\") as f:\n",
        "    data = f.read()\n",
        "print(data)"
      ]
    },
    {
      "cell_type": "markdown",
      "id": "d64790df",
      "metadata": {
        "id": "d64790df"
      },
      "source": [
        "Como se puede ver, el valor `\"nueva línea\"` fue agregado al inicio del fichero y sobrescribió el contenido anterior del archivo.\n",
        "\n",
        "Podemos cambiar manualmente la posición dentro de un fichero con el método `seek`. Por ejemplo, vamos a escribir sobre el archivo existente con el modo `r+` pero vamos a escribir sobre el carácter de la posición 10:"
      ]
    },
    {
      "cell_type": "code",
      "execution_count": null,
      "id": "c2914321",
      "metadata": {
        "id": "c2914321"
      },
      "outputs": [],
      "source": [
        "with open(\"file.txt\", \"r+\") as f:\n",
        "    f.seek(10)\n",
        "    f.write(\"<nuevo valor>\")"
      ]
    },
    {
      "cell_type": "markdown",
      "id": "21f4ac07",
      "metadata": {
        "id": "21f4ac07"
      },
      "source": [
        "Veamos el contenido del archivo, cargándolo con un fichero en modo lectura:"
      ]
    },
    {
      "cell_type": "code",
      "execution_count": null,
      "id": "b965f269",
      "metadata": {
        "id": "b965f269"
      },
      "outputs": [],
      "source": [
        "with open(\"file.txt\", \"r\") as f:\n",
        "    data = f.read()\n",
        "print(data)"
      ]
    },
    {
      "cell_type": "markdown",
      "id": "8442ffe5",
      "metadata": {
        "id": "8442ffe5"
      },
      "source": [
        "### **2.5. Modos Binarios**\n",
        "---\n",
        "\n",
        "Los modos binarios permiten guardar archivos directamente como ficheros binarios. Estos se crean usando el modificador `\"b\"` sobre los modos que vimos anteriormente (por ejemplo: `\"rb\"`, `\"wb\"`, `\"ab\"`).\n",
        "\n",
        "Los modos binarios generalmente se usan para almacenar datos de forma compacta en aplicaciones que necesitan un buen rendimiento o interactuar con la información de más bajo nivel del sistema (por ejemplo, leyendo datos que provienen de puertos USB, bluetooth, entre otros). Si abrimos un archivo binario usando un editor de texto, no entenderíamos su contenido a simple vista, pues lo que se almacena son bytes.\n",
        "\n",
        "En este caso, veremos un ejemplo en el que podemos almacenar números enteros como valores hexadecimales dentro de un archivo binario. Primero, veamos cómo convertir un número entero en su valor hexadecimal en _Python_ con la función base `hex`.\n",
        "\n",
        "Por ejemplo, `255` codificado como un valor hexadecimal corresponde a `FF`:"
      ]
    },
    {
      "cell_type": "code",
      "execution_count": null,
      "id": "b04a88fd",
      "metadata": {
        "id": "b04a88fd"
      },
      "outputs": [],
      "source": [
        "print(hex(255))"
      ]
    },
    {
      "cell_type": "markdown",
      "id": "8d9f9be7",
      "metadata": {
        "id": "8d9f9be7"
      },
      "source": [
        "También podemos convertir un número a su valor en bytes (hexadecimal) con el método `to_bytes`, la cual recibe como argumento el número de bytes que se usará para guardar el número (en este caso 1) y el orden de los bytes que permite determinar si el bit más alto es el de la derecha `little` o el de la izquierda `big` (en este caso `big`):"
      ]
    },
    {
      "cell_type": "code",
      "execution_count": null,
      "id": "61126e57",
      "metadata": {
        "id": "61126e57"
      },
      "outputs": [],
      "source": [
        "num = 255\n",
        "print(num.to_bytes(1, \"big\"))"
      ]
    },
    {
      "cell_type": "markdown",
      "id": "b1a7f999",
      "metadata": {
        "id": "b1a7f999"
      },
      "source": [
        "Ahora, vamos a escribir un fichero binario con los valores hexadecimales contenidos en la lista `nums`:"
      ]
    },
    {
      "cell_type": "code",
      "execution_count": null,
      "id": "1bbfad1f",
      "metadata": {
        "id": "1bbfad1f"
      },
      "outputs": [],
      "source": [
        "nums = [0, 255, 33, 45]"
      ]
    },
    {
      "cell_type": "markdown",
      "id": "9450d871",
      "metadata": {
        "id": "9450d871"
      },
      "source": [
        "Primero codificamos estos valores como una cadena binaria (veremos más detalles de los tipos de cadenas en el taller guiado de manipulación de _strings_ desde _Python_)"
      ]
    },
    {
      "cell_type": "code",
      "execution_count": null,
      "id": "b00c5a35",
      "metadata": {
        "id": "b00c5a35"
      },
      "outputs": [],
      "source": [
        "bins = [num.to_bytes(1, \"big\") for num in nums]\n",
        "print(bins)"
      ]
    },
    {
      "cell_type": "markdown",
      "id": "ca23ac7f",
      "metadata": {
        "id": "ca23ac7f"
      },
      "source": [
        "Como puede ver, los números `33` y `45` se muestran como símbolos, esto se debe a que su valor hexadecimal corresponde a dicho símbolo en codificación [ASCII](https://www.ascii-code.com/). Podemos validar el carácter al que corresponde un número con la función `chr`:"
      ]
    },
    {
      "cell_type": "code",
      "execution_count": null,
      "id": "ccac44e8",
      "metadata": {
        "id": "ccac44e8"
      },
      "outputs": [],
      "source": [
        "chr(33)"
      ]
    },
    {
      "cell_type": "markdown",
      "id": "8358e494",
      "metadata": {
        "id": "8358e494"
      },
      "source": [
        "Con los números codificados como bytes, podemos escribir el archivo binario:"
      ]
    },
    {
      "cell_type": "markdown",
      "id": "4fe0900c",
      "metadata": {
        "id": "4fe0900c"
      },
      "source": [
        "\n",
        "<img src=\"https://drive.google.com/uc?export=view&id=10qksOQgIj-F7sC3Ak40A9oC3y6DyyNuM\" width=\"70%\">"
      ]
    },
    {
      "cell_type": "code",
      "execution_count": null,
      "id": "6af010db",
      "metadata": {
        "id": "6af010db"
      },
      "outputs": [],
      "source": [
        "with open(\"file.txt\", \"wb\") as f:\n",
        "    for bin in bins:\n",
        "        f.write(bin)"
      ]
    },
    {
      "cell_type": "markdown",
      "id": "2be43ef9",
      "metadata": {
        "id": "2be43ef9"
      },
      "source": [
        "Ahora, veamos qué pasa cuando leemos el archivo como lectura binaria `\"rb\"`:"
      ]
    },
    {
      "cell_type": "markdown",
      "id": "2f387dd2",
      "metadata": {
        "id": "2f387dd2"
      },
      "source": [
        "<img src=\"https://drive.google.com/uc?export=view&id=1uWLkDh5es1GVTkvkK5ciieAy8apgz88G\" width=\"70%\">"
      ]
    },
    {
      "cell_type": "code",
      "execution_count": null,
      "id": "eaa141bf",
      "metadata": {
        "id": "eaa141bf"
      },
      "outputs": [],
      "source": [
        "with open(\"file.txt\", \"rb\") as f:\n",
        "    # leemos los datos binarios\n",
        "    data = f.read()\n",
        "    print(data)\n",
        "    # Extraemos los números usando int()\n",
        "    nums = [int(i) for i in data]\n",
        "    print(nums)"
      ]
    },
    {
      "cell_type": "markdown",
      "id": "6f872666",
      "metadata": {
        "id": "6f872666"
      },
      "source": [
        "Como mencionamos anteriormente, guardar la información en formato binario puede ser más compacto que guardar la información cruda.\n",
        "\n",
        "Veamos un ejemplo donde guardamos los números en un archivo separado por comas, primero creamos el string con los datos de la forma en la que serán almacenados, al convertir cada número en un string con la función `map` y luego uniéndolos con el carácter `,` de por medio:"
      ]
    },
    {
      "cell_type": "code",
      "execution_count": null,
      "id": "ca5edc91",
      "metadata": {
        "id": "ca5edc91"
      },
      "outputs": [],
      "source": [
        "line = \",\".join(map(str, nums))\n",
        "print(line)"
      ]
    },
    {
      "cell_type": "markdown",
      "id": "3fae1335",
      "metadata": {
        "id": "3fae1335"
      },
      "source": [
        "Ahora, escribimos los números en un fichero de texto en modo escritura no binario `\"w\"`:"
      ]
    },
    {
      "cell_type": "code",
      "execution_count": null,
      "id": "a990efa6",
      "metadata": {
        "id": "a990efa6"
      },
      "outputs": [],
      "source": [
        "with open(\"file2.txt\", \"w\") as f:\n",
        "    f.write(line)"
      ]
    },
    {
      "cell_type": "markdown",
      "id": "a62b6c40",
      "metadata": {
        "id": "a62b6c40"
      },
      "source": [
        "Veamos una comparativa del tamaño de los archivos `file.txt` (binario) y `file2.txt` (no binario). Esto lo hacemos por medio de la función `stat` la cual nos permite extraer metadatos generales de un fichero, como su tamaño en bytes `st_size`.\n",
        "\n",
        "Para el archivo binario:"
      ]
    },
    {
      "cell_type": "code",
      "execution_count": null,
      "id": "0440da40",
      "metadata": {
        "id": "0440da40"
      },
      "outputs": [],
      "source": [
        "print(os.stat(\"file.txt\").st_size)"
      ]
    },
    {
      "cell_type": "markdown",
      "id": "58942fd2",
      "metadata": {
        "id": "58942fd2"
      },
      "source": [
        "Para el archivo no binario:"
      ]
    },
    {
      "cell_type": "code",
      "execution_count": null,
      "id": "7e8c87d8",
      "metadata": {
        "id": "7e8c87d8"
      },
      "outputs": [],
      "source": [
        "print(os.stat(\"file2.txt\").st_size)"
      ]
    },
    {
      "cell_type": "markdown",
      "id": "9331c753",
      "metadata": {
        "id": "9331c753"
      },
      "source": [
        "## **3. Manipulación de Archivos JSON**\n",
        "---\n",
        "\n",
        "El formato `json` es una abreviación de _JavaScript Object Notation_ y se trata de un formato de archivos compacto y fácil de leer para las personas.\n",
        "\n",
        "Se trata de un formato que permite almacenar información por medio de un esquema de clave-valor (similar a los diccionarios de _Python_). Este formato permite almacenar los siguientes tipos de datos:\n",
        "\n",
        "* **Número**: cualquier número se puede almacenar separando los decimales por un `.`, por ejemplo `3.5`.\n",
        "* **Texto**: cualquier cadena de caracteres se puede almacenar si está acotada por comillas dobles, por ejemplo: `\"hola mundo\"`.\n",
        "* **Booleanos**: se pueden guardar valores booleanos como `true` o `false`\n",
        "* **Arreglos**: Se puede guardar una secuencia de valores acotándolos con corchetes cuadrados `[]` y separando cada valor por una coma, por ejemplo `[1, 2, 3.5, false, \"yes\"]`\n",
        "* **Objetos**: Pares de clave-valor (la clave siempre debe ser un texto) acotados por las llaves `{}` y separando las claves de los valores con `:` y cada par clave-valor con comas, por ejemplo: `{\"nombre\": \"Pedro\", \"apellido\": \"Perez\"}`\n",
        "\n",
        "Un ejemplo de un archivo `json`:\n",
        "\n",
        "```javascript\n",
        "{\n",
        "   \"nombre\": \"Pedro Pablo\",\n",
        "   \"apellido\": \"Perez Perez\",\n",
        "   \"contacto\": {\n",
        "       \"correo\": \"pepep@correo.com\",\n",
        "       \"teléfono\": 123456\n",
        "   },\n",
        "   \"cargo\": \"docente\",\n",
        "   \"tiene_hijos\": true,\n",
        "   \"nombre_hijos\": [\"Pipe\", \"Marco\", \"Julia\"]\n",
        "}\n",
        "```\n",
        "\n",
        "El formato `json` es una forma común de almacenar conjuntos de datos para procesamiento de lenguaje natural. _Python_ trae una librería base `json` que nos permite leer y escribir ficheros con este formato y además los convierte a diccionarios para su fácil manipulación.\n",
        "\n",
        "Veamos cómo almacenar y leer datos en formato `json`, comenzamos importando la librería para la manipulación de este tipo de archivos:"
      ]
    },
    {
      "cell_type": "code",
      "execution_count": null,
      "id": "31782c32",
      "metadata": {
        "id": "31782c32"
      },
      "outputs": [],
      "source": [
        "import json"
      ]
    },
    {
      "cell_type": "markdown",
      "id": "f4314d36",
      "metadata": {
        "id": "f4314d36"
      },
      "source": [
        "### **3.1. Escritura**\n",
        "---\n",
        "\n",
        "La escritura de archivos `json` desde _Python_ se realiza al convertir un diccionario de Python al formato.\n",
        "\n",
        "Vamos a definir un diccionario con la información del ejemplo anterior:"
      ]
    },
    {
      "cell_type": "code",
      "execution_count": null,
      "id": "c024b558",
      "metadata": {
        "id": "c024b558"
      },
      "outputs": [],
      "source": [
        "data =  {\n",
        "        \"nombre\": \"Pedro Pablo\",\n",
        "        \"apellido\": \"Perez Perez\",\n",
        "        \"contacto\": {\n",
        "            \"correo\": \"pepep@correo.com\",\n",
        "            \"teléfono\": 123456\n",
        "            },\n",
        "        \"cargo\": \"docente\",\n",
        "        \"tiene_hijos\": True,\n",
        "        \"nombre_hijos\": [\"Pipe\", \"Marco\", \"Julia\"]\n",
        "        }"
      ]
    },
    {
      "cell_type": "markdown",
      "id": "a821077b",
      "metadata": {
        "id": "a821077b"
      },
      "source": [
        "Ahora, podemos convertir este diccionario a la especificación `json` con la función `dumps`"
      ]
    },
    {
      "cell_type": "code",
      "execution_count": null,
      "id": "839d07d6",
      "metadata": {
        "id": "839d07d6"
      },
      "outputs": [],
      "source": [
        "data_json = json.dumps(data)\n",
        "print(data_json)"
      ]
    },
    {
      "cell_type": "markdown",
      "id": "5352d669",
      "metadata": {
        "id": "5352d669"
      },
      "source": [
        "Esta es la información que podemos guardar como un fichero como vimos en los casos anteriores, no obstante, la librería `json` contiene la función `dump` que permite guardar la información directamente en un fichero (modo escritura) como se muestra a continuación:"
      ]
    },
    {
      "cell_type": "code",
      "execution_count": null,
      "id": "f36517dc",
      "metadata": {
        "id": "f36517dc"
      },
      "outputs": [],
      "source": [
        "with open(\"file.json\", \"w\") as f:\n",
        "    json.dump(data, f)"
      ]
    },
    {
      "cell_type": "markdown",
      "id": "ce632c1d",
      "metadata": {
        "id": "ce632c1d"
      },
      "source": [
        "Podemos corroborar el contenido del archivo con un fichero en modo lectura:"
      ]
    },
    {
      "cell_type": "code",
      "execution_count": null,
      "id": "4224fc2d",
      "metadata": {
        "id": "4224fc2d"
      },
      "outputs": [],
      "source": [
        "with open(\"file.json\", \"r\") as f:\n",
        "    print(f.read())"
      ]
    },
    {
      "cell_type": "markdown",
      "id": "c55c753c",
      "metadata": {
        "id": "c55c753c"
      },
      "source": [
        "### **3.2. Lectura**\n",
        "---\n",
        "\n",
        "La librería `json` también permite interpretar el formato `json` como un diccionario de _Python_. Por ejemplo, el siguiente string viene en formato `json`:"
      ]
    },
    {
      "cell_type": "code",
      "execution_count": null,
      "id": "632787c7",
      "metadata": {
        "id": "632787c7"
      },
      "outputs": [],
      "source": [
        "data = '{\"nombre\": \"Pedro Pablo\", \"numero\": 12345}'"
      ]
    },
    {
      "cell_type": "markdown",
      "id": "33f6df8b",
      "metadata": {
        "id": "33f6df8b"
      },
      "source": [
        "Con la función `loads` podemos convertir este valor en un diccionario de _Python_:"
      ]
    },
    {
      "cell_type": "code",
      "execution_count": null,
      "id": "95dbc59b",
      "metadata": {
        "id": "95dbc59b"
      },
      "outputs": [],
      "source": [
        "result = json.loads(data)"
      ]
    },
    {
      "cell_type": "markdown",
      "id": "f69630ff",
      "metadata": {
        "id": "f69630ff"
      },
      "source": [
        "Veamos el tipo de la variable `result`:"
      ]
    },
    {
      "cell_type": "code",
      "execution_count": null,
      "id": "8cd46c51",
      "metadata": {
        "id": "8cd46c51"
      },
      "outputs": [],
      "source": [
        "print(type(result))"
      ]
    },
    {
      "cell_type": "markdown",
      "id": "f1be6e7e",
      "metadata": {
        "id": "f1be6e7e"
      },
      "source": [
        "Como es un diccionario, podemos indexar y obtener valores del mismo:"
      ]
    },
    {
      "cell_type": "code",
      "execution_count": null,
      "id": "e34aed2a",
      "metadata": {
        "id": "e34aed2a"
      },
      "outputs": [],
      "source": [
        "print(result[\"numero\"])"
      ]
    },
    {
      "cell_type": "markdown",
      "id": "686cc500",
      "metadata": {
        "id": "686cc500"
      },
      "source": [
        "De la misma forma, la librería `json` tiene la función `load` para leer un fichero directamente como un diccionario, si quisiéramos leer el archivo que creamos en el ejemplo anterior:"
      ]
    },
    {
      "cell_type": "code",
      "execution_count": null,
      "id": "5b0272b4",
      "metadata": {
        "id": "5b0272b4"
      },
      "outputs": [],
      "source": [
        "with open(\"file.json\", \"r\") as f:\n",
        "    result = json.load(f)"
      ]
    },
    {
      "cell_type": "markdown",
      "id": "f5590aac",
      "metadata": {
        "id": "f5590aac"
      },
      "source": [
        "Veamos el resultado:"
      ]
    },
    {
      "cell_type": "code",
      "execution_count": null,
      "id": "04234646",
      "metadata": {
        "id": "04234646"
      },
      "outputs": [],
      "source": [
        "print(result)"
      ]
    },
    {
      "cell_type": "markdown",
      "id": "2c935c85",
      "metadata": {
        "id": "2c935c85"
      },
      "source": [
        "## **Recursos Adicionales**\n",
        "---\n",
        "\n",
        "Los siguientes enlaces corresponden a sitios donde encontrará información muy útil para profundizar en los temas vistos en este taller guiado:\n",
        "\n",
        "* [Input and Output, Python](https://docs.python.org/3/tutorial/inputoutput.html).\n",
        "* [Python file open](https://www.w3schools.com/python/python_file_open.asp).\n",
        "* [Python JSON](https://www.w3schools.com/python/python_json.asp).\n",
        "* _Fuente de los íconos_\n",
        "    - Flaticon. Folder free icon [PNG]. https://www.flaticon.com/free-icon/folder_716784\n",
        "    - Flaticon. Png free icon [PNG]. https://www.flaticon.com/free-icon/png_136523\n",
        "    - Flaticon. Pdf File free icon [PNG]. https://www.flaticon.com/free-icon/pdf-file_2656448\n",
        "    - Flaticon. Txt free icon [PNG]. https://www.flaticon.com/free-icon/txt_2306185"
      ]
    },
    {
      "cell_type": "markdown",
      "id": "414aab59",
      "metadata": {
        "id": "414aab59"
      },
      "source": [
        "## **Créditos**\n",
        "\n",
        "* **Profesor:** [Felipe Restrepo Calle](https://dis.unal.edu.co/~ferestrepoca/)\n",
        "* **Asistentes docentes:**\n",
        "    - [Juan Sebastián Lara Ramírez](https://www.linkedin.com/in/juan-sebastian-lara-ramirez-43570a214/).\n",
        "* **Diseño de imágenes:**\n",
        "    - [Rosa Alejandra Superlano Esquibel](mailto:rsuperlano@unal.edu.co).\n",
        "* **Coordinador de virtualización:**\n",
        "    - [Edder Hernández Forero](https://www.linkedin.com/in/edder-hernandez-forero-28aa8b207/).\n",
        "\n",
        "**Universidad Nacional de Colombia** - *Facultad de Ingeniería*"
      ]
    }
  ],
  "metadata": {
    "jupytext": {
      "cell_metadata_filter": "-all",
      "main_language": "python",
      "notebook_metadata_filter": "-all"
    },
    "colab": {
      "provenance": [],
      "private_outputs": true,
      "include_colab_link": true
    },
    "language_info": {
      "name": "python"
    },
    "kernelspec": {
      "name": "python3",
      "display_name": "Python 3"
    }
  },
  "nbformat": 4,
  "nbformat_minor": 5
}