{
  "cells": [
    {
      "cell_type": "markdown",
      "metadata": {
        "id": "view-in-github",
        "colab_type": "text"
      },
      "source": [
        "<a href=\"https://colab.research.google.com/github/nferrucho/NPL/blob/main/curso3/ciclo1/1_kdd.ipynb\" target=\"_parent\"><img src=\"https://colab.research.google.com/assets/colab-badge.svg\" alt=\"Open In Colab\"/></a>"
      ]
    },
    {
      "cell_type": "markdown",
      "id": "51b2936b",
      "metadata": {
        "id": "51b2936b"
      },
      "source": [
        "<img src=\"https://drive.google.com/uc?export=view&id=1li4ahmMhPo2cEUVqQKRDA9ahHp2py4Xb\" width=\"100%\">"
      ]
    },
    {
      "cell_type": "markdown",
      "id": "cabe7acd",
      "metadata": {
        "id": "cabe7acd"
      },
      "source": [
        "# Knowledge Discovery in Databases\n",
        "---\n",
        "\n",
        "En este notebook veremos un ejemplo práctico de la metodología _Knowledge Discovery in Databases_ (KDD) descrita en el siguiente diagrama:\n",
        "\n",
        "<img src=\"https://drive.google.com/uc?export=view&id=1Dyi9xBZp9ohTFw9pUGRjbUwlz2ihQjRA\" width=\"80%\">\n",
        "\n",
        "Este problema lo abordaremos con las siguientes librerías:\n",
        "\n",
        "> **Nota**: como puede observar, usaremos `pandas` y `numpy` para manipulación de datos, `matplotlib` y `seaborn` para visualización de datos, y `statsmodels` para modelamiento. Es importante tener en cuenta esto, ya que uno de los problemas que vamos a abordar a lo largo de este curso es saber cómo podemos integrar proyectos de machine learning independientemente de las librerías o el lenguaje de programación usado."
      ]
    },
    {
      "cell_type": "code",
      "execution_count": null,
      "id": "c23738db",
      "metadata": {
        "id": "c23738db"
      },
      "outputs": [],
      "source": [
        "import numpy as np\n",
        "import pandas as pd\n",
        "import statsmodels.api as sm\n",
        "import matplotlib.pyplot as plt\n",
        "import seaborn as sns\n",
        "from IPython.display import display"
      ]
    },
    {
      "cell_type": "markdown",
      "id": "2ff4538e",
      "metadata": {
        "id": "2ff4538e"
      },
      "source": [
        "## **1. Contexto**\n",
        "---\n",
        "\n",
        "En este caso, estaremos trabajando con el conjunto de datos [customer personality analysis](https://www.kaggle.com/imakash3011/customer-personality-analysis), el cual contiene información demográfica de ventas y promociones sobre clientes de una empresa:\n",
        "\n",
        "<img src=\"https://drive.google.com/uc?export=view&id=11CGnstfN7q1vrl9abTgdGEIPU6kumQtn\" width=\"80%\">\n",
        "\n",
        "En este caso tenemos como objetivo determinar si un cliente aceptará o no una campaña publicitaria dadas sus características:\n",
        "\n",
        "<img src=\"https://drive.google.com/uc?export=view&id=1wjbWqo6YGCT-VtXZHYGIO5NrK1Vx5TtB\" width=\"80%\">\n",
        "\n",
        "Este conjunto de datos contiene los siguientes atributos y campos:\n",
        "\n",
        "**Información sociodemográfica**:\n",
        "\n",
        "- `ID`: Identificador único del cliente.\n",
        "- `Year_Birth`: Año de nacimiento.\n",
        "- `Education`: Nivel de estudios del cliente.\n",
        "- `Marital_Status`: Estado civil.\n",
        "- `Income`: ingresos anuales del cliente.\n",
        "- `Kidhome`: Número de hijos menores del cliente\n",
        "- `Teenhome`: Número de hijos adolescentes del cliente.\n",
        "- `Dt_Customer`: fecha de inscripción del cliente con la empresa.\n",
        "- `Recency`: número de días desde la última compra.\n",
        "- `Complain`: específica si el cliente ha realizado algún reclamo en los últimos dos años.\n",
        "\n",
        "**Información de ventas**:\n",
        "\n",
        "- `MntWines`: cantidad gastada en vinos en los últimos 2 años.\n",
        "- `MntFruits`: cantidad gastada en frutas en los últimos 2 años.\n",
        "- `MntMeatProducts`: cantidad gastada en carnes en los últimos 2 años.\n",
        "- `MntFishProducts`: cantidad gastada en pescados en los últimos 2 años.\n",
        "- `MntSweetProducts`: cantidad gastada en dulces en los últimos 2 años.\n",
        "- `MntGoldProds`: cantidad gastada en productos con oro en los últimos 2 años.\n",
        "\n",
        "**Información sobre promociones**:\n",
        "\n",
        "- `NumDealsPurchases`: número de compras realizadas con descuento.\n",
        "- `AcceptedCmp1`: específica si el cliente aceptó la primera campaña publicitaria.\n",
        "- `AcceptedCmp2`: específica si el cliente aceptó la segunda campaña publicitaria.\n",
        "- `AcceptedCmp3`: específica si el cliente aceptó la tercera campaña publicitaria.\n",
        "- `AcceptedCmp4`: específica si el cliente aceptó la cuarta campaña publicitaria.\n",
        "- `AcceptedCmp5`: específica si el cliente aceptó la quinta campaña publicitaria.\n",
        "- `Response`: específica si el cliente aceptó la última campaña publicitaria.\n",
        "\n",
        "**Información sobre medios de compra**:\n",
        "\n",
        "- `NumWebPurchases`: número de compras realizadas a través de la página web de la empresa.\n",
        "- `NumCatalogPurchases`: número de compras realizadas a través de un catálogo telefónico.\n",
        "- `NumStorePurchases`: número de compras realizadas directamente en las tiendas físicas.\n",
        "- `NumWebVisitsMonth`: número de visitas a la página web de la empresa en el último mes.\n",
        "\n",
        "Comenzamos cargando el conjunto de datos:"
      ]
    },
    {
      "cell_type": "code",
      "execution_count": null,
      "id": "194b8d5b",
      "metadata": {
        "id": "194b8d5b"
      },
      "outputs": [],
      "source": [
        "data = pd.read_csv(\"https://raw.githubusercontent.com/mindlab-unal/mlds6-datasets/main/u1/marketing_campaign.csv\", sep=\"\\t\")\n",
        "display(data.head())"
      ]
    },
    {
      "cell_type": "markdown",
      "id": "d154feec",
      "metadata": {
        "id": "d154feec"
      },
      "source": [
        "Veamos paso a paso, cómo podemos entrenar un modelo para determinar qué usuarios podrían aceptar una promoción según la metodología _KDD_."
      ]
    },
    {
      "cell_type": "markdown",
      "id": "4b794b59",
      "metadata": {
        "id": "4b794b59"
      },
      "source": [
        "## **2. Selección**\n",
        "---\n",
        "\n",
        "La metodología _KDD_ formalmente inicia desde este paso, es decir, se asume que el científico de datos ya tiene conocimientos sobre el negocio y los datos.\n",
        "\n",
        "<img src=\"https://drive.google.com/uc?export=view&id=1StofJqVJ6pxfIopijtp37PeftPxOQdJZ\" width=\"80%\">\n",
        "\n",
        "Podemos hacer una inspección rápida del conjunto de datos, como el tamaño:"
      ]
    },
    {
      "cell_type": "code",
      "execution_count": null,
      "id": "c27bc87b",
      "metadata": {
        "id": "c27bc87b"
      },
      "outputs": [],
      "source": [
        "display(data.shape)"
      ]
    },
    {
      "cell_type": "markdown",
      "id": "ab4eeffa",
      "metadata": {
        "id": "ab4eeffa"
      },
      "source": [
        "También podemos obtener información sobre los campos y tipos del dataset:"
      ]
    },
    {
      "cell_type": "code",
      "execution_count": null,
      "id": "c2c5af21",
      "metadata": {
        "id": "c2c5af21"
      },
      "outputs": [],
      "source": [
        "display(data.dtypes)"
      ]
    },
    {
      "cell_type": "markdown",
      "id": "f2b5d6bc",
      "metadata": {
        "id": "f2b5d6bc"
      },
      "source": [
        "Este conjunto de datos está conformado por 28 columnas, de las cuales:\n",
        "\n",
        "- Hay columnas de tipo entero como el año de nacimiento `Year_Birth`, el número de hijos menores de 14 años `Kidhome`, entre otros.\n",
        "- Algunas variables son de tipo cadena de caracteres como la educación `Education`, el estado marital `Marital_Status`, entre otros. Estas variables las trataremos como variables nominales.\n",
        "- Otras variables son numéricas como el ingreso del cliente `Income`.\n",
        "- La variable a predecir `Response` contiene valores binarios.\n",
        "- Hay columnas como el `ID` y variables desconocidas (`Z_CostContact`, `Z_Revenue`) que no deberían ser incluidas en el modelo.\n",
        "\n",
        "El proceso de **selección** consiste en seleccionar los registros y las columnas que necesitaremos para nuestra solución de analítica.\n",
        "\n",
        "Para esto, comenzaremos validando si hay valores faltantes en el conjunto de datos:"
      ]
    },
    {
      "cell_type": "code",
      "execution_count": null,
      "id": "e6e1d6aa",
      "metadata": {
        "id": "e6e1d6aa"
      },
      "outputs": [],
      "source": [
        "display(data.isnull().sum())"
      ]
    },
    {
      "cell_type": "markdown",
      "id": "7f233215",
      "metadata": {
        "id": "7f233215"
      },
      "source": [
        "Como podemos ver, la variable `Income` contiene 24 valores faltantes. Procedemos a eliminarlos:"
      ]
    },
    {
      "cell_type": "code",
      "execution_count": null,
      "id": "22b918c9",
      "metadata": {
        "id": "22b918c9"
      },
      "outputs": [],
      "source": [
        "selected_rows = data.dropna()\n",
        "display(data.shape[0])\n",
        "display(selected_rows.shape[0])"
      ]
    },
    {
      "cell_type": "markdown",
      "id": "d995d420",
      "metadata": {
        "id": "d995d420"
      },
      "source": [
        "Como podemos ver, `selected_rows` es un `DataFrame` donde se eliminaron las filas con valores faltantes.\n",
        "\n",
        "Ahora, vamos a seleccionar las columnas necesarias para la aplicación, para ello, vamos a realizar dos filtros:\n",
        "\n",
        "- Eliminamos columnas que no deseamos tener como variables de entrada al modelo.\n",
        "- Eliminamos todas las columnas que estén muy correlacionadas con la variable objetivo, por ejemplo, aquellas que indican si un cliente aceptó otro tipo de promoción ya que no sabemos en qué fecha se realizó cada una (las filtramos con una expresión regular que excluye nombres de columnas donde haya al menos un número)."
      ]
    },
    {
      "cell_type": "code",
      "execution_count": null,
      "id": "2e5ea686",
      "metadata": {
        "id": "2e5ea686"
      },
      "outputs": [],
      "source": [
        "selected_variables = (\n",
        "        selected_rows\n",
        "        .drop(columns=[\"ID\", \"Z_CostContact\", \"Z_Revenue\"])\n",
        "        .filter(regex=r\"^[a-zA-Z_]+$\")\n",
        "        )\n",
        "display(selected_variables.columns)"
      ]
    },
    {
      "cell_type": "code",
      "source": [
        "selected_variables"
      ],
      "metadata": {
        "id": "vZ1pDm6lkjmx"
      },
      "id": "vZ1pDm6lkjmx",
      "execution_count": null,
      "outputs": []
    },
    {
      "cell_type": "markdown",
      "id": "e876e47f",
      "metadata": {
        "id": "e876e47f"
      },
      "source": [
        "## **3. Preprocesamiento**\n",
        "---\n",
        "\n",
        "La etapa de preprocesamiento en _KDD_ consiste en modificar los datos del conjunto de datos para dejarlos en un formato un poco más estándar, creación de nuevas variables, unión o división de categorías.\n",
        "\n",
        "La etapa de preprocesamiento parte de los datos seleccionados y permite llegar a una versión preprocesada de los datos:\n",
        "\n",
        "<img src=\"https://drive.google.com/uc?export=view&id=1q0X6cP0l2bmLFAkpDIkF23BWx2lNnelG\" width=\"80%\">\n",
        "\n",
        "En nuestro caso, vamos a modificar algunas columnas para que se puedan manipular más fácilmente.\n",
        "\n",
        "Primero, usaremos la columna `Year_Birth` para calcular la edad de las personas. Esto fundamentalmente por temas de magnitud y estabilidad numérica en los modelos (es más fácil manipular el número 25 en lugar de el año 1996).\n",
        "\n",
        "Para esto, definimos la función `get_age` para hacer el cálculo con la librería `datetime` para el manejo de fechas."
      ]
    },
    {
      "cell_type": "code",
      "execution_count": null,
      "id": "ecc4ce48",
      "metadata": {
        "lines_to_next_cell": 1,
        "id": "ecc4ce48"
      },
      "outputs": [],
      "source": [
        "import datetime as dt"
      ]
    },
    {
      "cell_type": "markdown",
      "id": "3a732be2",
      "metadata": {
        "id": "3a732be2"
      },
      "source": [
        "La función nos permite obtener la diferencia entre el año tiempo actual `utcnow()` (formato UTC) y el año almacenado en el conjunto de datos:"
      ]
    },
    {
      "cell_type": "code",
      "execution_count": null,
      "id": "f7ec554d",
      "metadata": {
        "lines_to_next_cell": 1,
        "id": "f7ec554d"
      },
      "outputs": [],
      "source": [
        "def get_age(df):\n",
        "    return dt.datetime.utcnow().year - df[\"Year_Birth\"]"
      ]
    },
    {
      "cell_type": "markdown",
      "id": "d8bd5e86",
      "metadata": {
        "id": "d8bd5e86"
      },
      "source": [
        "Con esta función podemos calcular el número de años que tiene el cliente. Veamos un ejemplo, primero calculamos la fecha actual:"
      ]
    },
    {
      "cell_type": "code",
      "execution_count": null,
      "id": "ddfed028",
      "metadata": {
        "id": "ddfed028"
      },
      "outputs": [],
      "source": [
        "display(dt.datetime.utcnow())"
      ]
    },
    {
      "cell_type": "markdown",
      "id": "22e96f22",
      "metadata": {
        "id": "22e96f22"
      },
      "source": [
        "Veamos la diferencia en años de alguien que nació en 1985 (aproximado de su edad):"
      ]
    },
    {
      "cell_type": "code",
      "execution_count": null,
      "id": "a58fe437",
      "metadata": {
        "lines_to_next_cell": 1,
        "id": "a58fe437"
      },
      "outputs": [],
      "source": [
        "display(dt.datetime.utcnow().year - 1985)"
      ]
    },
    {
      "cell_type": "markdown",
      "id": "64961bc2",
      "metadata": {
        "id": "64961bc2"
      },
      "source": [
        "De la misma forma, podemos calcular cuántos años de antigüedad tiene el cliente en la compañía. Como la información es un poco más precisa (disponemos de fechas), podemos calcular los años con cifras decimales con la función `gen_antiquity`:"
      ]
    },
    {
      "cell_type": "code",
      "execution_count": null,
      "id": "3db7723e",
      "metadata": {
        "lines_to_next_cell": 1,
        "id": "3db7723e"
      },
      "outputs": [],
      "source": [
        "def get_antiquity(df):\n",
        "    return (\n",
        "            dt.datetime.utcnow() -\n",
        "            pd.to_datetime(df[\"Dt_Customer\"], format=\"%d-%m-%Y\")\n",
        "            ).dt.days / 365"
      ]
    },
    {
      "cell_type": "markdown",
      "id": "d1739f95",
      "metadata": {
        "id": "d1739f95"
      },
      "source": [
        "Finalmente, creamos el conjunto de datos preprocesado al reemplazar las variables antiguas por las preprocesadas:"
      ]
    },
    {
      "cell_type": "code",
      "execution_count": null,
      "id": "715dfbbc",
      "metadata": {
        "id": "715dfbbc"
      },
      "outputs": [],
      "source": [
        "preprocessed_data = (\n",
        "        selected_variables\n",
        "        .assign(\n",
        "            age = get_age, antiquity = get_antiquity\n",
        "            )\n",
        "        .drop(columns=[\"Dt_Customer\", \"Year_Birth\"])\n",
        "        )\n",
        "display(preprocessed_data.columns)"
      ]
    },
    {
      "cell_type": "markdown",
      "id": "104df197",
      "metadata": {
        "id": "104df197"
      },
      "source": [
        "El método `assign` de `pandas` nos permite crear nuevas columnas a partir de funciones (esto ayuda a estructurar mejor el código). Veamos una descripción de las nuevas columnas que calculamos:"
      ]
    },
    {
      "cell_type": "code",
      "execution_count": null,
      "id": "81e5fe62",
      "metadata": {
        "id": "81e5fe62"
      },
      "outputs": [],
      "source": [
        "display(\n",
        "        preprocessed_data\n",
        "        .filter([\"age\", \"antiquity\"])\n",
        "        .describe()\n",
        "        )"
      ]
    },
    {
      "cell_type": "code",
      "source": [
        "preprocessed_data"
      ],
      "metadata": {
        "id": "Wta3QnWKts0Q"
      },
      "id": "Wta3QnWKts0Q",
      "execution_count": null,
      "outputs": []
    },
    {
      "cell_type": "markdown",
      "id": "5c1c0351",
      "metadata": {
        "id": "5c1c0351"
      },
      "source": [
        "## **4. Transformación**\n",
        "---\n",
        "\n",
        "El proceso de transformación en _KDD_ parte de los datos preprocesados y permite extraer datos transformados:\n",
        "\n",
        "<img src=\"https://drive.google.com/uc?export=view&id=19iYXSMlPIMcxsEnSJwRrmFOFU_A8ZfTq\" width=\"80%\">\n",
        "\n",
        "En términos más simples, el proceso de transformación consiste en extraer características o representaciones puramente numéricas, para dejar listas las entradas y salidas del modelo. En especial, como vamos a estar trabajando en un problema supervisado, vamos a comenzar separando las variables explicativas de la variable objetivo:"
      ]
    },
    {
      "cell_type": "code",
      "execution_count": null,
      "id": "34ca7875",
      "metadata": {
        "id": "34ca7875"
      },
      "outputs": [],
      "source": [
        "variables = preprocessed_data.drop(columns=[\"Response\"])\n",
        "target = preprocessed_data.Response.values"
      ]
    },
    {
      "cell_type": "markdown",
      "id": "a64a0c71",
      "metadata": {
        "id": "a64a0c71"
      },
      "source": [
        "Ahora, sobre las variables explicativas `variables` sabemos que tenemos una mezcla de distintos tipos de variables, por ello, debemos plantearnos las siguientes preguntas:\n",
        "\n",
        "1. ¿Qué tipo de tratamiento se le puede dar a una variable numérica?"
      ]
    },
    {
      "cell_type": "markdown",
      "id": "30685595",
      "metadata": {
        "id": "30685595"
      },
      "source": [
        "<details>    \n",
        "<summary>\n",
        "    <font size=\"3\" color=\"darkgreen\"><b>Respuesta</b></font>\n",
        "</summary>\n",
        "\n",
        "Existen distintos tratamientos que podemos realizar en variables numéricas, entre ellos:\n",
        "\n",
        "- Normalización con respecto a alguna norma (Euclidiana, Manhattan, entre otras).\n",
        "- Z-scaling, es decir, eliminación de medias y desviaciones estándar por variable.\n",
        "- Min-Max, es decir, acotar el rango de los datos a una escala fija.\n",
        "</details>"
      ]
    },
    {
      "cell_type": "markdown",
      "id": "91cb1cdc",
      "metadata": {
        "id": "91cb1cdc"
      },
      "source": [
        "2. ¿Qué tipo de tratamiento se le puede dar a una variable ordinal?"
      ]
    },
    {
      "cell_type": "markdown",
      "id": "d1b84acf",
      "metadata": {
        "id": "d1b84acf"
      },
      "source": [
        "<details>    \n",
        "<summary>\n",
        "    <font size=\"3\" color=\"darkgreen\"><b>Respuesta</b></font>\n",
        "</summary>\n",
        "\n",
        "Existen distintos tratamientos que podemos realizar en variables ordinales, entre ellos:\n",
        "\n",
        "- Se puede utilizar una codificación ordinal, es decir, en el mismo orden de las variables asignar números enteros.\n",
        "- Cuando las variables ordinales no tienen muchos valores posibles, podemos manejarlas como variables categóricas.\n",
        "- Cuando las variables ordinales tienen muchos valores posibles, se pueden manipular como variables numéricas.\n",
        "</details>"
      ]
    },
    {
      "cell_type": "markdown",
      "id": "308d060d",
      "metadata": {
        "id": "308d060d"
      },
      "source": [
        "3. ¿Qué tipo de tratamiento se le puede dar a una variable categórica?"
      ]
    },
    {
      "cell_type": "markdown",
      "id": "1677e86e",
      "metadata": {
        "id": "1677e86e"
      },
      "source": [
        "<details>    \n",
        "<summary>\n",
        "    <font size=\"3\" color=\"darkgreen\"><b>Respuesta</b></font>\n",
        "</summary>\n",
        "\n",
        "Existen distintos tratamientos que podemos realizar en variables categóricas, entre ellos:\n",
        "\n",
        "* La codificación de tipo one-hot o la creación de variables _dummy_.\n",
        "* Target encoding, es decir, reemplazar cada categoría con el resultado de un descriptivo (por ejemplo, el promedio de variables numéricas de la categoría, conteos, entre otros).\n",
        "* _Embeddings_, como normalmente se realiza en procesamiento de lenguaje natural o con modelos de _Deep Learning_.\n",
        "</details>"
      ]
    },
    {
      "cell_type": "markdown",
      "id": "02e9009f",
      "metadata": {
        "id": "02e9009f"
      },
      "source": [
        "Para la transformación, vamos a definir los siguientes tipos de variables:"
      ]
    },
    {
      "cell_type": "code",
      "execution_count": null,
      "id": "b5ebb3ff",
      "metadata": {
        "lines_to_next_cell": 1,
        "id": "b5ebb3ff"
      },
      "outputs": [],
      "source": [
        "categorical = [\"Education\", \"Marital_Status\"]\n",
        "ordinal = [\"Kidhome\", \"Teenhome\", \"Recency\", \"age\"]\n",
        "numeric = [\"Income\", \"antiquity\"]\n",
        "binary = [\"Complain\"]"
      ]
    },
    {
      "cell_type": "markdown",
      "id": "caa2e267",
      "metadata": {
        "id": "caa2e267"
      },
      "source": [
        "Ahora, vamos a definir algunas funciones para transformar estas variables en números dependiendo del tipo de dato que tengamos.\n",
        "\n",
        "* Para las variables categóricas calculamos variables _dummy_:"
      ]
    },
    {
      "cell_type": "code",
      "execution_count": null,
      "id": "529918ee",
      "metadata": {
        "lines_to_next_cell": 1,
        "id": "529918ee"
      },
      "outputs": [],
      "source": [
        "def get_dummies(df, cols):\n",
        "    dummies = []\n",
        "    for col in cols:\n",
        "        dummies.append(pd.get_dummies(df[col]))\n",
        "    return pd.concat(dummies, axis=1).values"
      ]
    },
    {
      "cell_type": "markdown",
      "id": "2725668d",
      "metadata": {
        "id": "2725668d"
      },
      "source": [
        "* Para las variables ordinales y numéricas, realizamos un reescalamiento de tipo MinMax:"
      ]
    },
    {
      "cell_type": "code",
      "execution_count": null,
      "id": "92099adb",
      "metadata": {
        "lines_to_next_cell": 1,
        "id": "92099adb"
      },
      "outputs": [],
      "source": [
        "def min_max(df, cols):\n",
        "    data = df.filter(cols).values\n",
        "    transformed_data = (\n",
        "            (data - data.min(keepdims=True, axis=0)) /\n",
        "            (data.max(keepdims=True, axis=0) - data.min(keepdims=True, axis=0))\n",
        "            )\n",
        "    return transformed_data"
      ]
    },
    {
      "cell_type": "markdown",
      "id": "83ce80da",
      "metadata": {
        "id": "83ce80da"
      },
      "source": [
        "* La variable binaria, la vamos a dejar tal cual viene:"
      ]
    },
    {
      "cell_type": "code",
      "execution_count": null,
      "id": "4b28ce17",
      "metadata": {
        "lines_to_next_cell": 1,
        "id": "4b28ce17"
      },
      "outputs": [],
      "source": [
        "def identity(df, cols):\n",
        "    return df.filter(cols).values"
      ]
    },
    {
      "cell_type": "markdown",
      "id": "76aed9fd",
      "metadata": {
        "id": "76aed9fd"
      },
      "source": [
        "Finalmente, extraemos todas las características y las concatenamos en una única representación:"
      ]
    },
    {
      "cell_type": "code",
      "execution_count": null,
      "id": "de19ae4a",
      "metadata": {
        "id": "de19ae4a"
      },
      "outputs": [],
      "source": [
        "categorical_features = get_dummies(preprocessed_data, categorical)\n",
        "ordinal_features = min_max(preprocessed_data, ordinal)\n",
        "numeric_features = min_max(preprocessed_data, numeric)\n",
        "binary_features = min_max(preprocessed_data, binary)\n",
        "features = np.concatenate(\n",
        "    [categorical_features, ordinal_features, numeric_features, binary_features],\n",
        "    axis=1\n",
        ")\n",
        "display(features.shape)"
      ]
    },
    {
      "cell_type": "code",
      "source": [
        "features"
      ],
      "metadata": {
        "id": "JllZ_xn3wK3n"
      },
      "id": "JllZ_xn3wK3n",
      "execution_count": null,
      "outputs": []
    },
    {
      "cell_type": "markdown",
      "id": "7655a843",
      "metadata": {
        "id": "7655a843"
      },
      "source": [
        "Como puede ver, nos quedamos con una representación de 20 características."
      ]
    },
    {
      "cell_type": "markdown",
      "id": "5669fdd9",
      "metadata": {
        "id": "5669fdd9"
      },
      "source": [
        "## **5. Minería de Datos**\n",
        "---\n",
        "\n",
        "La etapa de minería de datos consiste en entrenar un modelo de machine learning sobre las características extraídas:\n",
        "\n",
        "<img src=\"https://drive.google.com/uc?export=view&id=1SfYgZZfoX6fcontSzTmT4ljqsCO-RJwD\" width=\"80%\">\n",
        "\n",
        "Primero, vamos a aplicar una estrategia de muestreo `SMOTE` para balancear las etiquetas:"
      ]
    },
    {
      "cell_type": "code",
      "source": [
        "display(np.unique(target, return_counts=True))"
      ],
      "metadata": {
        "id": "yzN5nOctwfL6"
      },
      "id": "yzN5nOctwfL6",
      "execution_count": null,
      "outputs": []
    },
    {
      "cell_type": "code",
      "execution_count": null,
      "id": "063686b6",
      "metadata": {
        "id": "063686b6"
      },
      "outputs": [],
      "source": [
        "from imblearn.over_sampling import SMOTE"
      ]
    },
    {
      "cell_type": "markdown",
      "id": "34d1015f",
      "metadata": {
        "id": "34d1015f"
      },
      "source": [
        "Balanceamos el conjunto de datos:"
      ]
    },
    {
      "cell_type": "code",
      "execution_count": null,
      "id": "4dfa386e",
      "metadata": {
        "id": "4dfa386e"
      },
      "outputs": [],
      "source": [
        "features, target = SMOTE(random_state=0).fit_resample(features, target)"
      ]
    },
    {
      "cell_type": "markdown",
      "id": "7284b9be",
      "metadata": {
        "id": "7284b9be"
      },
      "source": [
        "Podemos validar que las etiquetas se encuentran balanceadas:"
      ]
    },
    {
      "cell_type": "code",
      "execution_count": null,
      "id": "ad028445",
      "metadata": {
        "id": "ad028445"
      },
      "outputs": [],
      "source": [
        "display(np.unique(target, return_counts=True))"
      ]
    },
    {
      "cell_type": "markdown",
      "id": "eb6beb35",
      "metadata": {
        "id": "eb6beb35"
      },
      "source": [
        "Para esto, vamos a entrenar un modelo de regresión logística desde `statsmodels`, comenzamos definiendo el modelo:"
      ]
    },
    {
      "cell_type": "code",
      "execution_count": null,
      "id": "b28db6f7",
      "metadata": {
        "id": "b28db6f7"
      },
      "outputs": [],
      "source": [
        "model = sm.Logit(endog=target, exog=features)"
      ]
    },
    {
      "cell_type": "markdown",
      "id": "c2de4e35",
      "metadata": {
        "id": "c2de4e35"
      },
      "source": [
        "Entrenamos el modelo:"
      ]
    },
    {
      "cell_type": "code",
      "execution_count": null,
      "id": "98f04a3a",
      "metadata": {
        "id": "98f04a3a"
      },
      "outputs": [],
      "source": [
        "results = model.fit()"
      ]
    },
    {
      "cell_type": "markdown",
      "id": "e04e128c",
      "metadata": {
        "id": "e04e128c"
      },
      "source": [
        "## **6. Evaluación**\n",
        "---\n",
        "\n",
        "Por último, la evaluación consiste en evaluar algunas métricas y en la posibilidad de utilizar los patrones encontrados:\n",
        "\n",
        "<img src=\"https://drive.google.com/uc?export=view&id=1YNAo3g8RHqI-mSvTVFDpF70XjN570IJr\" width=\"80%\">\n",
        "\n",
        "Para ello, primero veremos las métricas de desempeño del modelo:"
      ]
    },
    {
      "cell_type": "code",
      "execution_count": null,
      "id": "25bf6374",
      "metadata": {
        "id": "25bf6374"
      },
      "outputs": [],
      "source": [
        "display(results.summary())"
      ]
    },
    {
      "cell_type": "markdown",
      "id": "27a37099",
      "metadata": {
        "id": "27a37099"
      },
      "source": [
        "Podemos ver métricas de desempeño como `Log-likelihood` (entre más cercano a cero mejor) y otra información estadística de los parámetros del modelo.\n",
        "\n",
        "Ahora, podemos generar predicciones del modelo:"
      ]
    },
    {
      "cell_type": "code",
      "execution_count": null,
      "id": "82ad7395",
      "metadata": {
        "id": "82ad7395"
      },
      "outputs": [],
      "source": [
        "preds = results.predict(features)\n",
        "display(preds)"
      ]
    },
    {
      "cell_type": "markdown",
      "id": "d1b65fc3",
      "metadata": {
        "id": "d1b65fc3"
      },
      "source": [
        "Como podemos ver, el resultado son valores entre 0 y 1. Veamos una comparativa de las predicciones del modelo y los valores reales de la variable dependiente, para ello construimos el siguiente `DataFrame`:"
      ]
    },
    {
      "cell_type": "code",
      "execution_count": null,
      "id": "a55fb798",
      "metadata": {
        "id": "a55fb798"
      },
      "outputs": [],
      "source": [
        "preds = pd.DataFrame({\"target\": target, \"preds\": preds})\n",
        "display(preds)"
      ]
    },
    {
      "cell_type": "markdown",
      "id": "3bd4e9f0",
      "metadata": {
        "id": "3bd4e9f0"
      },
      "source": [
        "Generamos una gráfica de distribuciones con `seaborn`"
      ]
    },
    {
      "cell_type": "code",
      "execution_count": null,
      "id": "3bc3441a",
      "metadata": {
        "id": "3bc3441a"
      },
      "outputs": [],
      "source": [
        "fig, ax = plt.subplots()\n",
        "sns.histplot(preds, x=\"preds\", hue=target, kde=True)\n",
        "fig.show()"
      ]
    },
    {
      "cell_type": "markdown",
      "id": "c576a09c",
      "metadata": {
        "id": "c576a09c"
      },
      "source": [
        "Como puede ver las predicciones corresponden mayoritariamente a la clase correspondiente, aunque existe una región de incertidumbre (valores cercanos a 0) que pueden llegar a ser de interés para un futuro análisis."
      ]
    },
    {
      "cell_type": "markdown",
      "id": "2c2c8f85",
      "metadata": {
        "id": "2c2c8f85"
      },
      "source": [
        "## Recursos Adicionales\n",
        "---\n",
        "\n",
        "Los siguientes enlaces corresponden a sitios donde encontrará información muy útil para profundizar en los temas vistos en este notebook:\n",
        "\n",
        "- [Statsmodels](https://www.statsmodels.org/stable/index.html)\n",
        "- [Matplotlib](https://matplotlib.org/)\n",
        "- [Seaborn](https://seaborn.pydata.org/)"
      ]
    },
    {
      "cell_type": "markdown",
      "id": "8f746ad5",
      "metadata": {
        "id": "8f746ad5"
      },
      "source": [
        "## Créditos\n",
        "---\n",
        "\n",
        "**Profesor**\n",
        "\n",
        "- [Jorge E. Camargo, PhD](https://dis.unal.edu.co/~jecamargom/)\n",
        "\n",
        "**Asistente docente**:\n",
        "\n",
        "- [Juan S. Lara MSc](https://www.linkedin.com/in/juan-sebastian-lara-ramirez-43570a214/)\n",
        "\n",
        "**Diseño de imágenes:**\n",
        "- [Brian Chaparro Cetina](mailto:bchaparro@unal.edu.co).\n",
        "\n",
        "**Universidad Nacional de Colombia** - *Facultad de Ingeniería*"
      ]
    }
  ],
  "metadata": {
    "jupytext": {
      "cell_metadata_filter": "-all",
      "encoding": "# -*- coding: utf-8 -*-"
    },
    "kernelspec": {
      "display_name": "Python 3 (ipykernel)",
      "language": "python",
      "name": "python3"
    },
    "colab": {
      "provenance": [],
      "private_outputs": true,
      "include_colab_link": true
    },
    "gpuClass": "standard"
  },
  "nbformat": 4,
  "nbformat_minor": 5
}