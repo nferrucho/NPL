{
  "cells": [
    {
      "cell_type": "markdown",
      "metadata": {
        "id": "view-in-github",
        "colab_type": "text"
      },
      "source": [
        "<a href=\"https://colab.research.google.com/github/nferrucho/NPL/blob/main/curso3/ciclo5/1_ab_testing.ipynb\" target=\"_parent\"><img src=\"https://colab.research.google.com/assets/colab-badge.svg\" alt=\"Open In Colab\"/></a>"
      ]
    },
    {
      "cell_type": "markdown",
      "id": "c1083b64",
      "metadata": {
        "id": "c1083b64"
      },
      "source": [
        "<img src=\"https://drive.google.com/uc?export=view&id=1hiUFVbQ2Jgrv0olU-pcf89ODJ5t2pRVe\" width=\"100%\">"
      ]
    },
    {
      "cell_type": "markdown",
      "id": "585cc96e",
      "metadata": {
        "id": "585cc96e"
      },
      "source": [
        "# Evaluación de Modelos\n",
        "---\n",
        "\n",
        "En este notebook veremos un ejemplo de experimentación y evaluación de modelos ya desplegados por medio de técnicas estadísticas. Comenzamos importando las librerías necesarias:"
      ]
    },
    {
      "cell_type": "code",
      "execution_count": null,
      "id": "4f91ec9b",
      "metadata": {
        "id": "4f91ec9b"
      },
      "outputs": [],
      "source": [
        "import pandas as pd\n",
        "import matplotlib.pyplot as plt\n",
        "from IPython.display import display\n",
        "from scipy import stats\n",
        "plt.style.use(\"ggplot\")"
      ]
    },
    {
      "cell_type": "markdown",
      "id": "6af974ac",
      "metadata": {
        "id": "6af974ac"
      },
      "source": [
        "La evaluación de modelos es un proceso importante para garantizar que los modelos de aprendizaje automático estén funcionando correctamente en un entorno de producción y para detectar cualquier problema o desviación en el rendimiento del modelo.\n",
        "\n",
        "Algunas de las técnicas comunes para evaluar modelos después del despliegue incluyen:\n",
        "\n",
        "- **Monitoreo de la precisión**: se puede realizar un seguimiento de la precisión del modelo en tiempo real y establecer alertas para notificar al equipo si la precisión del modelo cae por debajo de un umbral aceptable.\n",
        "- **Monitoreo de la calidad de los datos**: se puede realizar un seguimiento de la calidad de los datos que ingresan al modelo para detectar cualquier problema o cambio en los patrones de los datos que puedan afectar el rendimiento del modelo.\n",
        "- **Monitoreo de los resultados del modelo**: se pueden realizar pruebas y experimentos continuos para evaluar los resultados del modelo y compararlos con los resultados esperados.\n",
        "- **Evaluación de la calidad de los resultados**: se pueden realizar pruebas y experimentos para evaluar la calidad de los resultados del modelo y compararlos con los resultados esperados.\n",
        "- **Verificación de la equidad del modelo**: se pueden realizar pruebas para verificar si el modelo está produciendo resultados equitativos para diferentes grupos de usuarios o datos.\n",
        "\n",
        "En general, la evaluación continua de los modelos de aprendizaje automático después del despliegue es esencial para garantizar que los modelos estén funcionando correctamente en producción y para detectar cualquier problema o desviación en el rendimiento del modelo. En este notebook veremos el detalle de A/B testing enfocado en la evaluación de modelos."
      ]
    },
    {
      "cell_type": "markdown",
      "id": "6a172bec",
      "metadata": {
        "id": "6a172bec"
      },
      "source": [
        "## **1. A/B Testing**\n",
        "---\n",
        "\n",
        "A/B testing, también conocido como prueba A/B, es una técnica de experimentación que se utiliza para comparar dos versiones diferentes de una página web, aplicación móvil, correo electrónico e incluso un modelo de machine learning. Se utiliza para evaluar cuál de las dos versiones proporciona mejores resultados en términos de una métrica predefinida o key performance indicator (KPI), como la tasa de clics, la tasa de conversión, el tiempo de permanencia, ingresos totales, entre otros.\n",
        "\n",
        "<img src=\"https://drive.google.com/uc?export=view&id=1AVLtYO4j--exx3RsWJd33_Wheo9y7WRu\" width=\"80%\">\n",
        "\n",
        "En un A/B test, se divide aleatoriamente a los usuarios en dos grupos: el grupo A y el grupo B. A cada grupo se le muestra una versión diferente del elemento que se está evaluando y se mide el rendimiento de cada versión en función de la métrica predefinida.\n",
        "\n",
        "<img src=\"https://drive.google.com/uc?export=view&id=1Xji338rFFvDvmZi7G-7YMeVJa3Gs8Qtf\" width=\"80%\">\n",
        "\n",
        "Luego, se compara el rendimiento de las dos versiones para determinar cuál es mejor. Si una versión proporciona un mejor rendimiento que la otra, se puede seleccionar como la versión óptima para usar en producción. Respecto a aplicaciones de machine learning, A/B testing se utiliza para comparar el rendimiento de dos o más modelos de aprendizaje automático en un entorno de producción en tiempo real. Se utiliza para evaluar qué modelo proporciona mejores resultados para una tarea específica."
      ]
    },
    {
      "cell_type": "markdown",
      "id": "56c18f97",
      "metadata": {
        "id": "56c18f97"
      },
      "source": [
        "## **2. Comparación de Modelos**\n",
        "---\n",
        "\n",
        "Veamos un ejemplo con un conjunto de datos obtenidos del siguiente experimento:\n",
        "\n",
        "<img src=\"https://drive.google.com/uc?export=view&id=1cy-aV8Vy6xn6RL0KmX9Vv7lvCQlwFFiZ\" width=\"80%\">\n",
        "\n",
        "- Hacemos parte de una compañía fabricante de galletas e implementamos una metodología de generación de precios diferenciales en dependencia del perfil de los distintos puntos de venta.\n",
        "- Originalmente, implementamos un modelo basado en redes neuronales (**modelo A**) que demostró buenos resultados.\n",
        "- Junto al equipo de ciencia de datos implementamos una nueva versión del modelo (**modelo B**) que presentó un mejor ajuste durante el entrenamiento y validación cruzada.\n",
        "- Para validar si el nuevo modelo realmente funciona mejor, se realizó un A/B testing sobre una muestra de 5000 clientes durante un mes, buscamos validar qué modelo genera un mayor ingreso neto (en dólares).\n",
        "\n",
        "Vamos a cargar el conjunto de datos:"
      ]
    },
    {
      "cell_type": "code",
      "execution_count": null,
      "id": "caa6ee29",
      "metadata": {
        "id": "caa6ee29"
      },
      "outputs": [],
      "source": [
        "data = pd.read_parquet(\"https://raw.githubusercontent.com/mindlab-unal/mlds6-datasets/main/u5/ab_testing.parquet\")\n",
        "display(data.head())"
      ]
    },
    {
      "cell_type": "markdown",
      "id": "fb62ed14",
      "metadata": {
        "id": "fb62ed14"
      },
      "source": [
        "En este caso disponemos de tres columnas:\n",
        "\n",
        "- `client`: identificador único de cada cliente de la muestra.\n",
        "- `group`: específica qué modelo fue utilizado con dicho usuario.\n",
        "- `revenue`: ingresos netos obtenidos de un cliente durante el mes del experimento."
      ]
    },
    {
      "cell_type": "markdown",
      "id": "0e164240",
      "metadata": {
        "id": "0e164240"
      },
      "source": [
        "## **3. Evaluación Estadística**\n",
        "---\n",
        "\n",
        "Normalmente, los experimentos de tipo A/B testing consisten en una comparación de dos muestras estadísticas, comenzaremos validando qué distribución siguen los datos. Para esto generaremos una gráfica de tipo kernel density estimation para visualizar la forma de ambas distribuciones, para esto, utilizaremos la librería `seaborn`:"
      ]
    },
    {
      "cell_type": "code",
      "execution_count": null,
      "id": "bf8e2665",
      "metadata": {
        "id": "bf8e2665"
      },
      "outputs": [],
      "source": [
        "import seaborn as sns"
      ]
    },
    {
      "cell_type": "markdown",
      "id": "2fb464c2",
      "metadata": {
        "id": "2fb464c2"
      },
      "source": [
        "Ahora, generamos la gráfica:"
      ]
    },
    {
      "cell_type": "code",
      "execution_count": null,
      "id": "589e6c82",
      "metadata": {
        "id": "589e6c82"
      },
      "outputs": [],
      "source": [
        "fig, ax = plt.subplots()\n",
        "sns.histplot(data, x=\"revenue\", hue=\"group\", ax=ax, kde=True)\n",
        "fig.show()"
      ]
    },
    {
      "cell_type": "markdown",
      "id": "945fe9d4",
      "metadata": {
        "id": "945fe9d4"
      },
      "source": [
        "Como podemos ver, pareciera que los datos siguiesen una distribución normal. Esto lo podemos corroborar con una prueba de bondad por medio de la prueba de Kolmogorov-Smirnov, para ello, definimos dos distribuciones para cada grupo:"
      ]
    },
    {
      "cell_type": "code",
      "execution_count": null,
      "id": "fd12b80f",
      "metadata": {
        "id": "fd12b80f"
      },
      "outputs": [],
      "source": [
        "revenue_a = data.query(\"group == 'A'\").revenue\n",
        "revenue_b = data.query(\"group == 'B'\").revenue\n",
        "dist_a = stats.norm(loc=revenue_a.mean(), scale=revenue_a.std())\n",
        "dist_b = stats.norm(loc=revenue_b.mean(), scale=revenue_b.std())"
      ]
    },
    {
      "cell_type": "markdown",
      "id": "5d31048d",
      "metadata": {
        "id": "5d31048d"
      },
      "source": [
        "Veamos el resultado de la prueba de bondad:"
      ]
    },
    {
      "cell_type": "code",
      "execution_count": null,
      "id": "6247989e",
      "metadata": {
        "id": "6247989e"
      },
      "outputs": [],
      "source": [
        "print(stats.kstest(revenue_a, dist_a.cdf))\n",
        "print(stats.kstest(revenue_b, dist_b.cdf))"
      ]
    },
    {
      "cell_type": "markdown",
      "id": "4bf2e151",
      "metadata": {
        "id": "4bf2e151"
      },
      "source": [
        "Recordemos la hipótesis manejada por la prueba de Kolmogorov-Smirnov:\n",
        "\n",
        "- $H_0$: los datos siguen la distribución normal.\n",
        "- $H_1$: los datos no siguen la distribución normal.\n",
        "\n",
        "Si establecemos un nivel de significancia del `0.05` y como obtenemos `pvalue` que es considerablemente mayor que el nivel de significancia podemos concluir que:\n",
        "\n",
        "> No podemos rechazar la hipótesis nula $H_0$, es decir, es probable que los datos sigan la distribución normal.\n",
        "\n",
        "Teniendo en cuenta esto, procedemos a realizar una prueba de comparación de medias para validar qué modelo genera un mayor ingreso neto. Para esto, utilizaremos una prueba de t-student para validar la siguiente hipótesis:\n",
        "\n",
        "- $H_0$: $\\mu_a <= \\mu_b$ (en promedio el modelo **A** genera un menor ingreso neto que el modelo **B**).\n",
        "- $H_1$: $\\mu_a > \\mu_b$ (en promedio el modelo **A** genera un mayor ingreso neto que el modelo **B**).\n",
        "\n",
        "Aplicamos la prueba:"
      ]
    },
    {
      "cell_type": "code",
      "execution_count": null,
      "id": "8ddfddf6",
      "metadata": {
        "id": "8ddfddf6"
      },
      "outputs": [],
      "source": [
        "print(stats.ttest_ind(revenue_a, revenue_b, alternative=\"less\"))"
      ]
    },
    {
      "cell_type": "markdown",
      "id": "1f3ac725",
      "metadata": {
        "id": "1f3ac725"
      },
      "source": [
        "Si tomamos un nivel de significancia del `0.05` y al comparar el resultado obtenido de `pvalue`, llegamos a la siguiente conclusión:\n",
        "\n",
        "> Rechazamos la hipótesis nula, es decir, el modelo **B** probablemente está generando mayores ingresos en comparación con el modelo **A**.\n",
        "\n",
        "Por último, podemos validar cuánto fue el incremento promedio en los ingresos netos del modelo **B**:"
      ]
    },
    {
      "cell_type": "code",
      "execution_count": null,
      "id": "5925e34d",
      "metadata": {
        "id": "5925e34d"
      },
      "outputs": [],
      "source": [
        "print(revenue_b.mean() - revenue_a.mean())"
      ]
    },
    {
      "cell_type": "markdown",
      "id": "d22da752",
      "metadata": {
        "id": "d22da752"
      },
      "source": [
        "Esto nos muestra que el modelo genera en promedio `200` dólares más por cliente, por ende, lo recomendable sería comenzar a utilizar este modelo y sustituir la versión del modelo anterior."
      ]
    },
    {
      "cell_type": "markdown",
      "id": "e021f2a6",
      "metadata": {
        "id": "e021f2a6"
      },
      "source": [
        "## Recursos Adicionales\n",
        "---\n",
        "\n",
        "Los siguientes enlaces corresponden a sitios donde encontrará información muy útil para profundizar en los temas vistos en este notebook:\n",
        "\n",
        "- [A/B Testing](https://es.wikipedia.org/wiki/Prueba_A/B)\n",
        "- [Kolmogorov-Smirnov test](https://docs.scipy.org/doc/scipy/reference/generated/scipy.stats.kstest.html)\n",
        "- [T-student test](https://docs.scipy.org/doc/scipy/reference/generated/scipy.stats.ttest_ind.html)"
      ]
    },
    {
      "cell_type": "markdown",
      "id": "8eb772c4",
      "metadata": {
        "id": "8eb772c4"
      },
      "source": [
        "## Créditos\n",
        "---\n",
        "\n",
        "**Profesor**\n",
        "\n",
        "- [Jorge E. Camargo, PhD](https://dis.unal.edu.co/~jecamargom/)\n",
        "\n",
        "**Asistente docente**:\n",
        "\n",
        "- [Juan S. Lara MSc](https://www.linkedin.com/in/juan-sebastian-lara-ramirez-43570a214/)\n",
        "\n",
        "**Diseño de imágenes:**\n",
        "  - [Rosa Alejandra Superlano Esquibel](https://www.linkedin.com/in/alejandra-superlano-02b74313a/).\n",
        "  - [Mario Andrés Rodríguez Triana](mailto:mrodrigueztr@unal.edu.co).\n",
        "\n",
        "**Universidad Nacional de Colombia** - *Facultad de Ingeniería*"
      ]
    }
  ],
  "metadata": {
    "jupytext": {
      "cell_metadata_filter": "-all",
      "main_language": "python"
    },
    "colab": {
      "provenance": [],
      "private_outputs": true,
      "include_colab_link": true
    },
    "language_info": {
      "name": "python"
    },
    "kernelspec": {
      "name": "python3",
      "display_name": "Python 3"
    }
  },
  "nbformat": 4,
  "nbformat_minor": 5
}