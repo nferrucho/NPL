{
  "cells": [
    {
      "cell_type": "markdown",
      "metadata": {
        "id": "view-in-github",
        "colab_type": "text"
      },
      "source": [
        "<a href=\"https://colab.research.google.com/github/nferrucho/NPL/blob/main/curso3/ciclo4/2_mlflow_api.ipynb\" target=\"_parent\"><img src=\"https://colab.research.google.com/assets/colab-badge.svg\" alt=\"Open In Colab\"/></a>"
      ]
    },
    {
      "cell_type": "markdown",
      "id": "60569f2d",
      "metadata": {
        "id": "60569f2d"
      },
      "source": [
        "<img src=\"https://drive.google.com/uc?export=view&id=1o4udU5qVMi_7jDi0XzSspbPC6Hw0ev9o\" width=\"100%\">"
      ]
    },
    {
      "cell_type": "markdown",
      "id": "aef673f4",
      "metadata": {
        "id": "aef673f4"
      },
      "source": [
        "# **Despliege de Modelos con MLFlow**\n",
        "---\n",
        "\n",
        "En este notebook veremos cómo podemos crear APIs de modelos con `mlflow` y cómo podemos utilizarlas con la librería `requests`. Comenzamos configurando el servidor de `mlflow` e importando las librerías necesarias:"
      ]
    },
    {
      "cell_type": "code",
      "execution_count": null,
      "id": "91ae66d7",
      "metadata": {
        "id": "91ae66d7"
      },
      "outputs": [],
      "source": [
        "!pip install mlflow requests"
      ]
    },
    {
      "cell_type": "code",
      "execution_count": null,
      "id": "6419d6ef",
      "metadata": {
        "id": "6419d6ef"
      },
      "outputs": [],
      "source": [
        "import mlflow\n",
        "import os\n",
        "import pandas as pd\n",
        "from IPython.display import display"
      ]
    },
    {
      "cell_type": "markdown",
      "id": "fb0fee0c",
      "metadata": {
        "id": "fb0fee0c"
      },
      "source": [
        "Adicionalmente, utilizaremos un servidor de `mlflow`:"
      ]
    },
    {
      "cell_type": "code",
      "execution_count": null,
      "id": "9d8af5ff",
      "metadata": {
        "id": "9d8af5ff"
      },
      "outputs": [],
      "source": [
        "command = \"\"\"\n",
        "mlflow server \\\n",
        "        --backend-store-uri sqlite:///tracking.db \\\n",
        "        --default-artifact-root file:mlruns \\\n",
        "        -p 5000 &\n",
        "\"\"\"\n",
        "get_ipython().system_raw(command)"
      ]
    },
    {
      "cell_type": "markdown",
      "id": "65b101c3",
      "metadata": {
        "id": "65b101c3"
      },
      "source": [
        "Utilizaremos `ngrok` para acceder al tablero de `mlflow`:"
      ]
    },
    {
      "cell_type": "code",
      "execution_count": null,
      "id": "cafa2dbc",
      "metadata": {
        "id": "cafa2dbc"
      },
      "outputs": [],
      "source": [
        "!pip install pyngrok"
      ]
    },
    {
      "cell_type": "markdown",
      "id": "bf1b4c84",
      "metadata": {
        "id": "bf1b4c84"
      },
      "source": [
        "Ahora debe agregar su token de `ngrok`:"
      ]
    },
    {
      "cell_type": "code",
      "execution_count": null,
      "id": "0e0f6138",
      "metadata": {
        "id": "0e0f6138"
      },
      "outputs": [],
      "source": [
        "token = \"\" # Agregue el token dentro de las comillas\n",
        "os.environ[\"NGROK_TOKEN\"] = token"
      ]
    },
    {
      "cell_type": "markdown",
      "id": "62a74048",
      "metadata": {
        "id": "62a74048"
      },
      "source": [
        "Nos autenticamos en ngrok:"
      ]
    },
    {
      "cell_type": "code",
      "execution_count": null,
      "id": "075cced6",
      "metadata": {
        "id": "075cced6"
      },
      "outputs": [],
      "source": [
        "!ngrok authtoken $NGROK_TOKEN"
      ]
    },
    {
      "cell_type": "markdown",
      "id": "c43ace2d",
      "metadata": {
        "id": "c43ace2d"
      },
      "source": [
        "Ahora, lanzamos la conexión con ngrok:"
      ]
    },
    {
      "cell_type": "code",
      "execution_count": null,
      "id": "61148bc9",
      "metadata": {
        "id": "61148bc9"
      },
      "outputs": [],
      "source": [
        "from pyngrok import ngrok\n",
        "ngrok.connect(5000, \"http\")"
      ]
    },
    {
      "cell_type": "markdown",
      "id": "1bc8d9ff",
      "metadata": {
        "id": "1bc8d9ff"
      },
      "source": [
        "Especificamos que MLFlow debe usar el servidor que estamos manejando."
      ]
    },
    {
      "cell_type": "code",
      "execution_count": null,
      "id": "abba2577",
      "metadata": {
        "id": "abba2577"
      },
      "outputs": [],
      "source": [
        "mlflow.set_tracking_uri(\"http://localhost:5000\")"
      ]
    },
    {
      "cell_type": "markdown",
      "id": "e731d9f1",
      "metadata": {
        "id": "e731d9f1"
      },
      "source": [
        "Vamos a crear un experimento en MLFlow para este conjunto de datos:"
      ]
    },
    {
      "cell_type": "code",
      "execution_count": null,
      "id": "1319c8b5",
      "metadata": {
        "id": "1319c8b5"
      },
      "outputs": [],
      "source": [
        "exp_id = mlflow.create_experiment(name=\"airline_delay\", artifact_location=\"mlruns/\")"
      ]
    },
    {
      "cell_type": "markdown",
      "id": "dc50d0f2",
      "metadata": {
        "id": "dc50d0f2"
      },
      "source": [
        "## **1. Carga de Datos**\n",
        "---\n",
        "\n",
        "En este caso utilizaremos el conjunto de datos [Airlines Delay](https://www.kaggle.com/datasets/ulrikthygepedersen/airlines-delay). Se trata de un conjunto de datos público que contiene información sobre los retrasos de vuelos de las principales aerolíneas de EE. UU. durante el año 2008. El conjunto de datos consta de varias tablas, incluyendo una tabla principal de retrasos de vuelos y tablas auxiliares con información adicional.\n",
        "\n",
        "<center><img src=\"https://drive.google.com/uc?export=view&id=1Vwdxpx8q-Ys5zCTYA_HV8JYK7cVp_Y1D\" width=\"80%\"></center>\n",
        "\n",
        "La tabla principal contiene más de 7 millones de registros, incluye información sobre el retraso en minutos de los vuelos, la aerolínea, el origen y destino de los vuelos, la hora de salida y llegada prevista, la hora real de salida y llegada, y varias otras variables relacionadas con los vuelos. También contiene variables adicionales, como el tiempo de taxi en la pista y la cantidad de combustible consumido.\n",
        "\n",
        "Las tablas auxiliares proporcionan información adicional sobre las aerolíneas, aeropuertos y aviones utilizados en los vuelos. Por ejemplo, la tabla de aerolíneas contiene información sobre el nombre y la ubicación de las aerolíneas, mientras que la tabla de aviones contiene información sobre el fabricante, el modelo y la capacidad de los aviones.\n",
        "\n",
        "Este conjunto de datos es útil para tareas de análisis de datos y modelado de aprendizaje automático para predecir  y entender los patrones y factores que contribuyen a los retrasos en los vuelos de las aerolíneas en los Estados Unidos. Además, este conjunto de datos se utiliza a menudo para demostrar técnicas de limpieza y preprocesamiento de datos debido a la gran cantidad de datos faltantes y las diferentes formas en que se registran los retrasos y tiempos de llegada.\n",
        "\n",
        "Vamos a cargar este conjunto de datos:"
      ]
    },
    {
      "cell_type": "code",
      "execution_count": null,
      "id": "db5b8e69",
      "metadata": {
        "id": "db5b8e69"
      },
      "outputs": [],
      "source": [
        "data = pd.read_parquet(\n",
        "    \"https://raw.githubusercontent.com/mindlab-unal/mlds6-datasets/main/u4/airline_delay.parquet\",\n",
        "    )\n",
        "display(data.head())"
      ]
    },
    {
      "cell_type": "markdown",
      "id": "1e4e167b",
      "metadata": {
        "id": "1e4e167b"
      },
      "source": [
        "Este conjunto de datos tiene los siguientes campos:\n",
        "\n",
        "- `flight`: número del vuelo.\n",
        "- `time`: tiempo en el aire en minutos.\n",
        "- `lenght`: distancia del vuelo en millas.\n",
        "- `airline`: aerolínea.\n",
        "- `from`: origen del vuelo.\n",
        "- `to`: destino del vuelo.\n",
        "- `day`: día de la semana.\n",
        "- `delayed`: específica si se retrasó o no.\n",
        "\n",
        "Vamos a convertir las variables categóricas en numéricas con `pd.factorize`:"
      ]
    },
    {
      "cell_type": "code",
      "execution_count": null,
      "id": "803e7f4e",
      "metadata": {
        "id": "803e7f4e"
      },
      "outputs": [],
      "source": [
        "data_prep = (\n",
        "        data\n",
        "        .assign(\n",
        "            **{\n",
        "                \"airline\": pd.factorize(data.airline)[0],\n",
        "                \"from\": pd.factorize(data[\"from\"])[0],\n",
        "                \"to\": pd.factorize(data.to)[0]\n",
        "                }\n",
        "            )\n",
        "        )\n",
        "display(data_prep.head())"
      ]
    },
    {
      "cell_type": "markdown",
      "id": "07e3b7da",
      "metadata": {
        "id": "07e3b7da"
      },
      "source": [
        "Ahora separamos las características de las etiquetas:"
      ]
    },
    {
      "cell_type": "code",
      "execution_count": null,
      "id": "91943bab",
      "metadata": {
        "id": "91943bab"
      },
      "outputs": [],
      "source": [
        "features = data_prep.drop(columns=\"delayed\").to_numpy()\n",
        "labels = data_prep.delayed.to_numpy()"
      ]
    },
    {
      "cell_type": "markdown",
      "id": "ad1915c0",
      "metadata": {
        "id": "ad1915c0"
      },
      "source": [
        "## **2. Modelamiento**\n",
        "---\n",
        "\n",
        "Ahora, veamos el entrenamiento de un modelo de `xgboost`:"
      ]
    },
    {
      "cell_type": "code",
      "execution_count": null,
      "id": "a9e8151b",
      "metadata": {
        "id": "a9e8151b"
      },
      "outputs": [],
      "source": [
        "from xgboost import XGBClassifier"
      ]
    },
    {
      "cell_type": "markdown",
      "id": "d4ec0a3f",
      "metadata": {
        "id": "d4ec0a3f"
      },
      "source": [
        "Dividimos el conjunto de datos en entrenamiento y prueba para validar la generalización del modelo:"
      ]
    },
    {
      "cell_type": "code",
      "execution_count": null,
      "id": "b067a690",
      "metadata": {
        "id": "b067a690"
      },
      "outputs": [],
      "source": [
        "from sklearn.model_selection import train_test_split\n",
        "features_train, features_test, labels_train, labels_test = train_test_split(\n",
        "        features, labels, test_size=0.3, random_state=0\n",
        "        )"
      ]
    },
    {
      "cell_type": "markdown",
      "id": "8cd4549a",
      "metadata": {
        "id": "8cd4549a"
      },
      "source": [
        "En este caso evaluaremos el `accuracy` del modelo:"
      ]
    },
    {
      "cell_type": "code",
      "execution_count": null,
      "id": "14420865",
      "metadata": {
        "id": "14420865"
      },
      "outputs": [],
      "source": [
        "from sklearn.metrics import accuracy_score"
      ]
    },
    {
      "cell_type": "markdown",
      "id": "cfd71a1d",
      "metadata": {
        "id": "cfd71a1d"
      },
      "source": [
        "Entrenamos el modelo:"
      ]
    },
    {
      "cell_type": "code",
      "execution_count": null,
      "id": "1e503d0e",
      "metadata": {
        "id": "1e503d0e"
      },
      "outputs": [],
      "source": [
        "with mlflow.start_run(\n",
        "        run_name=\"xgboost\",\n",
        "        experiment_id=exp_id\n",
        "        ):\n",
        "    model = XGBClassifier(\n",
        "            n_estimators=100, max_depth=5, learning_rate=1e-4, n_jobs=-1\n",
        "            )\n",
        "    model.fit(features_train, labels_train)\n",
        "    y_pred = model.predict(features_test)\n",
        "    mlflow.log_metric(\"accuracy\", accuracy_score(labels_test, y_pred))\n",
        "    mlflow.xgboost.log_model(model, \"model\")"
      ]
    },
    {
      "cell_type": "markdown",
      "id": "33d98864",
      "metadata": {
        "id": "33d98864"
      },
      "source": [
        "Sobre este modelo, debe generar una versión con el nombre `airline_delay`."
      ]
    },
    {
      "cell_type": "markdown",
      "id": "6ab10e1c",
      "metadata": {
        "id": "6ab10e1c"
      },
      "source": [
        "## **3. Despliegue**\n",
        "---\n",
        "\n",
        "`mlflow` nos permite desplegar modelos como **REST APIs** de forma muy sencilla. Un REST API (acrónimo en inglés de *Representational State Transfer Application Programming Interface*) es un tipo de API (*Application Programming Interface*) que utiliza la arquitectura REST para proporcionar servicios web. REST es un conjunto de principios y restricciones que se utilizan para crear servicios web escalables y flexibles que pueden ser accedidos desde cualquier dispositivo o plataforma que tenga conexión a Internet.\n",
        "\n",
        "<img src=\"https://drive.google.com/uc?export=view&id=1zNq0W7kTnw4nCN2hNGEevWXNfa6TKH7E\" width=\"80%\">\n",
        "\n",
        "En un REST API, los datos son transferidos entre el cliente y el servidor a través de solicitudes HTTP estándar, como GET, POST, PUT y DELETE. Estas solicitudes se utilizan para realizar operaciones en los recursos que se encuentran en el servidor. Los recursos se identifican mediante URLs y los datos se transfieren en un formato estandarizado, como JSON o XML.\n",
        "\n",
        "El uso de REST API se ha vuelto muy popular en los últimos años debido a que es un enfoque muy flexible y escalable para construir servicios web. Muchas aplicaciones móviles y web utilizan REST API para acceder a datos y realizar operaciones en ellos.\n",
        "\n",
        "`mlflow` permite desplegar modelos que ya se encuentran en el registro por medio de un REST API sencillo que toma como entrada los datos de un modelo y devuelve las predicciones:\n",
        "\n",
        "<img src=\"https://drive.google.com/uc?export=view&id=1glFzD_ngp-QMN8NWfQfjM3sUWJZnvdLY\" width=\"80%\">\n",
        "\n",
        "Para crear el API de `mlflow` debemos especificar la url del servidor de seguimiento de `mlflow`:"
      ]
    },
    {
      "cell_type": "code",
      "execution_count": null,
      "id": "88bd8d33",
      "metadata": {
        "id": "88bd8d33"
      },
      "outputs": [],
      "source": [
        "import os\n",
        "os.environ[\"MLFLOW_TRACKING_URI\"] = \"http://localhost:5000\""
      ]
    },
    {
      "cell_type": "markdown",
      "id": "7e6b1782",
      "metadata": {
        "id": "7e6b1782"
      },
      "source": [
        "Ahora, lanzamos el API con `mlflow`:"
      ]
    },
    {
      "cell_type": "code",
      "execution_count": null,
      "id": "80af897a",
      "metadata": {
        "id": "80af897a"
      },
      "outputs": [],
      "source": [
        "command = \"\"\"\n",
        "mlflow models serve -m 'models:/airline_delay/1' -p 8001 --env-manager 'local' &\n",
        "\"\"\"\n",
        "get_ipython().system_raw(command)"
      ]
    },
    {
      "cell_type": "markdown",
      "id": "7207bd7c",
      "metadata": {
        "id": "7207bd7c"
      },
      "source": [
        "Esto genera un API que está ejecutándose en el puerto `8001`. Veamos cómo podemos enviarle datos con la librería `requests`:"
      ]
    },
    {
      "cell_type": "code",
      "execution_count": null,
      "id": "000b46a6",
      "metadata": {
        "id": "000b46a6"
      },
      "outputs": [],
      "source": [
        "import requests"
      ]
    },
    {
      "cell_type": "markdown",
      "id": "5a219917",
      "metadata": {
        "id": "5a219917"
      },
      "source": [
        "Vamos a enviarle dos registros del conjunto de test:"
      ]
    },
    {
      "cell_type": "code",
      "execution_count": null,
      "id": "89a7fa75",
      "metadata": {
        "id": "89a7fa75"
      },
      "outputs": [],
      "source": [
        "data_request = features_test[:2].tolist()\n",
        "display(data_request)"
      ]
    },
    {
      "cell_type": "markdown",
      "id": "b4c52b73",
      "metadata": {
        "id": "b4c52b73"
      },
      "source": [
        "Finalmente, enviamos los datos para que el modelo desplegado nos de una predicción:"
      ]
    },
    {
      "cell_type": "code",
      "execution_count": null,
      "id": "99dc5c90",
      "metadata": {
        "id": "99dc5c90"
      },
      "outputs": [],
      "source": [
        "r = requests.post(\"http://localhost:8001/invocations\", json={\"inputs\": data_request})\n",
        "print(r.text)"
      ]
    },
    {
      "cell_type": "markdown",
      "id": "a73abaa8",
      "metadata": {
        "id": "a73abaa8"
      },
      "source": [
        "Como podemos ver, el API nos retorna las predicciones del modelo de una forma muy sencilla. Así mismo, `mlflow` nos permite hacer despliegues como aplicaciones web con un único comando."
      ]
    },
    {
      "cell_type": "markdown",
      "id": "a1a0cc3e",
      "metadata": {
        "id": "a1a0cc3e"
      },
      "source": [
        "## Recursos Adicionales\n",
        "---\n",
        "\n",
        "Los siguientes enlaces corresponden a sitios donde encontrará información muy útil para profundizar en los temas vistos en este notebook:\n",
        "\n",
        "- [MLFlow Models](https://mlflow.org/docs/latest/models.html).\n",
        "- [MLFlow Model Serving](https://towardsdatascience.com/mlflow-model-serving-bcd936d59052).\n",
        "- [¿Qué es un API de Rest?](https://www.redhat.com/es/topics/api/what-is-a-rest-api)"
      ]
    },
    {
      "cell_type": "markdown",
      "id": "0970fde7",
      "metadata": {
        "id": "0970fde7"
      },
      "source": [
        "## Créditos\n",
        "---\n",
        "\n",
        "**Profesor**\n",
        "\n",
        "- [Jorge E. Camargo, PhD](https://dis.unal.edu.co/~jecamargom/)\n",
        "\n",
        "**Asistente docente**:\n",
        "\n",
        "- [Juan S. Lara MSc](https://www.linkedin.com/in/juan-sebastian-lara-ramirez-43570a214/)\n",
        "\n",
        "**Coordinador de virtualización:**\n",
        "\n",
        "- [Edder Hernández Forero](https://www.linkedin.com/in/edder-hernandez-forero-28aa8b207/).\n",
        "\n",
        "**Diseño de imágenes:**\n",
        "  - [Rosa Alejandra Superlano Esquibel](https://www.linkedin.com/in/alejandra-superlano-02b74313a/).\n",
        "  - [Mario Andrés Rodríguez Triana](mailto:mrodrigueztr@unal.edu.co).\n",
        "\n",
        "**Universidad Nacional de Colombia** - *Facultad de Ingeniería*"
      ]
    }
  ],
  "metadata": {
    "jupytext": {
      "cell_metadata_filter": "-all"
    },
    "kernelspec": {
      "display_name": "Python 3",
      "name": "python3"
    },
    "colab": {
      "private_outputs": true,
      "provenance": [],
      "include_colab_link": true
    }
  },
  "nbformat": 4,
  "nbformat_minor": 5
}