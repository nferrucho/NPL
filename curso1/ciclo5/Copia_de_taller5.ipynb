{
  "cells": [
    {
      "cell_type": "markdown",
      "metadata": {
        "id": "view-in-github",
        "colab_type": "text"
      },
      "source": [
        "<a href=\"https://colab.research.google.com/github/nferrucho/NPL/blob/main/curso1/ciclo5/Copia_de_taller5.ipynb\" target=\"_parent\"><img src=\"https://colab.research.google.com/assets/colab-badge.svg\" alt=\"Open In Colab\"/></a>"
      ]
    },
    {
      "cell_type": "markdown",
      "id": "790ab065",
      "metadata": {
        "id": "790ab065"
      },
      "source": [
        "<img src=\"https://drive.google.com/uc?export=view&id=1WNLKH10YpQNNk9eeRIyYLwGkxNbNp-Mm\" width=\"100%\">"
      ]
    },
    {
      "cell_type": "markdown",
      "id": "3d6e5aa1",
      "metadata": {
        "id": "3d6e5aa1"
      },
      "source": [
        "# **Taller 5**\n",
        "---\n",
        "\n",
        "En este taller se evaluarán los conocimientos adquiridos en análisis no supervisado de textos con modelos de agrupamiento y de tópicos. Para esto, usaremos un conjunto de datos de poemas en español.\n",
        "\n",
        "Comenzaremos importando las librerías necesarias:"
      ]
    },
    {
      "cell_type": "code",
      "execution_count": 1,
      "id": "eb759b98",
      "metadata": {
        "id": "eb759b98",
        "colab": {
          "base_uri": "https://localhost:8080/"
        },
        "outputId": "0a14b295-3a11-48b9-9674-39bbc53abd2a"
      },
      "outputs": [
        {
          "output_type": "stream",
          "name": "stdout",
          "text": [
            "Collecting unidecode\n",
            "  Downloading Unidecode-1.3.8-py3-none-any.whl.metadata (13 kB)\n",
            "Downloading Unidecode-1.3.8-py3-none-any.whl (235 kB)\n",
            "\u001b[?25l   \u001b[90m━━━━━━━━━━━━━━━━━━━━━━━━━━━━━━━━━━━━━━━━\u001b[0m \u001b[32m0.0/235.5 kB\u001b[0m \u001b[31m?\u001b[0m eta \u001b[36m-:--:--\u001b[0m\r\u001b[2K   \u001b[91m━━━━━━━━━━━━━━━━━━━━━━━━━━━━━\u001b[0m\u001b[91m╸\u001b[0m\u001b[90m━━━━━━━━━━\u001b[0m \u001b[32m174.1/235.5 kB\u001b[0m \u001b[31m5.1 MB/s\u001b[0m eta \u001b[36m0:00:01\u001b[0m\r\u001b[2K   \u001b[90m━━━━━━━━━━━━━━━━━━━━━━━━━━━━━━━━━━━━━━━━\u001b[0m \u001b[32m235.5/235.5 kB\u001b[0m \u001b[31m3.6 MB/s\u001b[0m eta \u001b[36m0:00:00\u001b[0m\n",
            "\u001b[?25hInstalling collected packages: unidecode\n",
            "Successfully installed unidecode-1.3.8\n"
          ]
        }
      ],
      "source": [
        "#TEST_CELL\n",
        "!pip install unidecode"
      ]
    },
    {
      "cell_type": "code",
      "execution_count": 2,
      "id": "1f60a493",
      "metadata": {
        "id": "1f60a493"
      },
      "outputs": [],
      "source": [
        "import re\n",
        "import spacy\n",
        "import numpy as np\n",
        "import matplotlib.pyplot as plt\n",
        "import pandas as pd\n",
        "from unidecode import unidecode\n",
        "from IPython.display import display\n",
        "from sklearn.feature_extraction.text import TfidfVectorizer\n",
        "from sklearn.feature_extraction.text import TfidfVectorizer\n",
        "from sklearn.cluster import KMeans\n",
        "from sklearn.metrics import silhouette_score\n",
        "from sklearn.metrics.pairwise import cosine_similarity\n",
        "from sklearn.decomposition import TruncatedSVD"
      ]
    },
    {
      "cell_type": "markdown",
      "id": "a1b12bf9",
      "metadata": {
        "id": "a1b12bf9"
      },
      "source": [
        "Ahora cargamos el conjunto de datos:"
      ]
    },
    {
      "cell_type": "code",
      "execution_count": 3,
      "id": "c37e6bad",
      "metadata": {
        "id": "c37e6bad",
        "colab": {
          "base_uri": "https://localhost:8080/",
          "height": 206
        },
        "outputId": "a3ae08b3-5e28-4581-b69e-862dde55e9f6"
      },
      "outputs": [
        {
          "output_type": "display_data",
          "data": {
            "text/plain": [
              "                    author                                            content  \\\n",
              "0         Leopoldo Lugones  \\n\\nEn el parque confuso\\nQue con lánguidas br...   \n",
              "1          Marilina Rébora  \\n\\nPorque si tú no velas, vendré como ladrón;...   \n",
              "2          Antonio Colinas  \\n\\nPequeña de mis sueños, por tu piel las pal...   \n",
              "3      José María Hinojosa  \\n\\nLos dedos de la nieve\\nrepiquetearon\\nen e...   \n",
              "4  Rubén Izaguirre Fiallos  Naciste en Armenia,\\npero te fuiste a vivir al...   \n",
              "\n",
              "                                   title  \n",
              "0                   LA MUERTE DE LA LUNA  \n",
              "1                  PORQUE SI TÚ NO VELAS  \n",
              "2  POEMA DE LA BELLEZA CAUTIVA QUE PERDÍ  \n",
              "3                              SENCILLEZ  \n",
              "4          Breve Carta a Consuelo Suncín  "
            ],
            "text/html": [
              "\n",
              "  <div id=\"df-af29e707-9464-4d92-ae79-245f94c16784\" class=\"colab-df-container\">\n",
              "    <div>\n",
              "<style scoped>\n",
              "    .dataframe tbody tr th:only-of-type {\n",
              "        vertical-align: middle;\n",
              "    }\n",
              "\n",
              "    .dataframe tbody tr th {\n",
              "        vertical-align: top;\n",
              "    }\n",
              "\n",
              "    .dataframe thead th {\n",
              "        text-align: right;\n",
              "    }\n",
              "</style>\n",
              "<table border=\"1\" class=\"dataframe\">\n",
              "  <thead>\n",
              "    <tr style=\"text-align: right;\">\n",
              "      <th></th>\n",
              "      <th>author</th>\n",
              "      <th>content</th>\n",
              "      <th>title</th>\n",
              "    </tr>\n",
              "  </thead>\n",
              "  <tbody>\n",
              "    <tr>\n",
              "      <th>0</th>\n",
              "      <td>Leopoldo Lugones</td>\n",
              "      <td>\\n\\nEn el parque confuso\\nQue con lánguidas br...</td>\n",
              "      <td>LA MUERTE DE LA LUNA</td>\n",
              "    </tr>\n",
              "    <tr>\n",
              "      <th>1</th>\n",
              "      <td>Marilina Rébora</td>\n",
              "      <td>\\n\\nPorque si tú no velas, vendré como ladrón;...</td>\n",
              "      <td>PORQUE SI TÚ NO VELAS</td>\n",
              "    </tr>\n",
              "    <tr>\n",
              "      <th>2</th>\n",
              "      <td>Antonio Colinas</td>\n",
              "      <td>\\n\\nPequeña de mis sueños, por tu piel las pal...</td>\n",
              "      <td>POEMA DE LA BELLEZA CAUTIVA QUE PERDÍ</td>\n",
              "    </tr>\n",
              "    <tr>\n",
              "      <th>3</th>\n",
              "      <td>José María Hinojosa</td>\n",
              "      <td>\\n\\nLos dedos de la nieve\\nrepiquetearon\\nen e...</td>\n",
              "      <td>SENCILLEZ</td>\n",
              "    </tr>\n",
              "    <tr>\n",
              "      <th>4</th>\n",
              "      <td>Rubén Izaguirre Fiallos</td>\n",
              "      <td>Naciste en Armenia,\\npero te fuiste a vivir al...</td>\n",
              "      <td>Breve Carta a Consuelo Suncín</td>\n",
              "    </tr>\n",
              "  </tbody>\n",
              "</table>\n",
              "</div>\n",
              "    <div class=\"colab-df-buttons\">\n",
              "\n",
              "  <div class=\"colab-df-container\">\n",
              "    <button class=\"colab-df-convert\" onclick=\"convertToInteractive('df-af29e707-9464-4d92-ae79-245f94c16784')\"\n",
              "            title=\"Convert this dataframe to an interactive table.\"\n",
              "            style=\"display:none;\">\n",
              "\n",
              "  <svg xmlns=\"http://www.w3.org/2000/svg\" height=\"24px\" viewBox=\"0 -960 960 960\">\n",
              "    <path d=\"M120-120v-720h720v720H120Zm60-500h600v-160H180v160Zm220 220h160v-160H400v160Zm0 220h160v-160H400v160ZM180-400h160v-160H180v160Zm440 0h160v-160H620v160ZM180-180h160v-160H180v160Zm440 0h160v-160H620v160Z\"/>\n",
              "  </svg>\n",
              "    </button>\n",
              "\n",
              "  <style>\n",
              "    .colab-df-container {\n",
              "      display:flex;\n",
              "      gap: 12px;\n",
              "    }\n",
              "\n",
              "    .colab-df-convert {\n",
              "      background-color: #E8F0FE;\n",
              "      border: none;\n",
              "      border-radius: 50%;\n",
              "      cursor: pointer;\n",
              "      display: none;\n",
              "      fill: #1967D2;\n",
              "      height: 32px;\n",
              "      padding: 0 0 0 0;\n",
              "      width: 32px;\n",
              "    }\n",
              "\n",
              "    .colab-df-convert:hover {\n",
              "      background-color: #E2EBFA;\n",
              "      box-shadow: 0px 1px 2px rgba(60, 64, 67, 0.3), 0px 1px 3px 1px rgba(60, 64, 67, 0.15);\n",
              "      fill: #174EA6;\n",
              "    }\n",
              "\n",
              "    .colab-df-buttons div {\n",
              "      margin-bottom: 4px;\n",
              "    }\n",
              "\n",
              "    [theme=dark] .colab-df-convert {\n",
              "      background-color: #3B4455;\n",
              "      fill: #D2E3FC;\n",
              "    }\n",
              "\n",
              "    [theme=dark] .colab-df-convert:hover {\n",
              "      background-color: #434B5C;\n",
              "      box-shadow: 0px 1px 3px 1px rgba(0, 0, 0, 0.15);\n",
              "      filter: drop-shadow(0px 1px 2px rgba(0, 0, 0, 0.3));\n",
              "      fill: #FFFFFF;\n",
              "    }\n",
              "  </style>\n",
              "\n",
              "    <script>\n",
              "      const buttonEl =\n",
              "        document.querySelector('#df-af29e707-9464-4d92-ae79-245f94c16784 button.colab-df-convert');\n",
              "      buttonEl.style.display =\n",
              "        google.colab.kernel.accessAllowed ? 'block' : 'none';\n",
              "\n",
              "      async function convertToInteractive(key) {\n",
              "        const element = document.querySelector('#df-af29e707-9464-4d92-ae79-245f94c16784');\n",
              "        const dataTable =\n",
              "          await google.colab.kernel.invokeFunction('convertToInteractive',\n",
              "                                                    [key], {});\n",
              "        if (!dataTable) return;\n",
              "\n",
              "        const docLinkHtml = 'Like what you see? Visit the ' +\n",
              "          '<a target=\"_blank\" href=https://colab.research.google.com/notebooks/data_table.ipynb>data table notebook</a>'\n",
              "          + ' to learn more about interactive tables.';\n",
              "        element.innerHTML = '';\n",
              "        dataTable['output_type'] = 'display_data';\n",
              "        await google.colab.output.renderOutput(dataTable, element);\n",
              "        const docLink = document.createElement('div');\n",
              "        docLink.innerHTML = docLinkHtml;\n",
              "        element.appendChild(docLink);\n",
              "      }\n",
              "    </script>\n",
              "  </div>\n",
              "\n",
              "\n",
              "<div id=\"df-16598054-3ece-4bc9-8fcd-c2c29712e17d\">\n",
              "  <button class=\"colab-df-quickchart\" onclick=\"quickchart('df-16598054-3ece-4bc9-8fcd-c2c29712e17d')\"\n",
              "            title=\"Suggest charts\"\n",
              "            style=\"display:none;\">\n",
              "\n",
              "<svg xmlns=\"http://www.w3.org/2000/svg\" height=\"24px\"viewBox=\"0 0 24 24\"\n",
              "     width=\"24px\">\n",
              "    <g>\n",
              "        <path d=\"M19 3H5c-1.1 0-2 .9-2 2v14c0 1.1.9 2 2 2h14c1.1 0 2-.9 2-2V5c0-1.1-.9-2-2-2zM9 17H7v-7h2v7zm4 0h-2V7h2v10zm4 0h-2v-4h2v4z\"/>\n",
              "    </g>\n",
              "</svg>\n",
              "  </button>\n",
              "\n",
              "<style>\n",
              "  .colab-df-quickchart {\n",
              "      --bg-color: #E8F0FE;\n",
              "      --fill-color: #1967D2;\n",
              "      --hover-bg-color: #E2EBFA;\n",
              "      --hover-fill-color: #174EA6;\n",
              "      --disabled-fill-color: #AAA;\n",
              "      --disabled-bg-color: #DDD;\n",
              "  }\n",
              "\n",
              "  [theme=dark] .colab-df-quickchart {\n",
              "      --bg-color: #3B4455;\n",
              "      --fill-color: #D2E3FC;\n",
              "      --hover-bg-color: #434B5C;\n",
              "      --hover-fill-color: #FFFFFF;\n",
              "      --disabled-bg-color: #3B4455;\n",
              "      --disabled-fill-color: #666;\n",
              "  }\n",
              "\n",
              "  .colab-df-quickchart {\n",
              "    background-color: var(--bg-color);\n",
              "    border: none;\n",
              "    border-radius: 50%;\n",
              "    cursor: pointer;\n",
              "    display: none;\n",
              "    fill: var(--fill-color);\n",
              "    height: 32px;\n",
              "    padding: 0;\n",
              "    width: 32px;\n",
              "  }\n",
              "\n",
              "  .colab-df-quickchart:hover {\n",
              "    background-color: var(--hover-bg-color);\n",
              "    box-shadow: 0 1px 2px rgba(60, 64, 67, 0.3), 0 1px 3px 1px rgba(60, 64, 67, 0.15);\n",
              "    fill: var(--button-hover-fill-color);\n",
              "  }\n",
              "\n",
              "  .colab-df-quickchart-complete:disabled,\n",
              "  .colab-df-quickchart-complete:disabled:hover {\n",
              "    background-color: var(--disabled-bg-color);\n",
              "    fill: var(--disabled-fill-color);\n",
              "    box-shadow: none;\n",
              "  }\n",
              "\n",
              "  .colab-df-spinner {\n",
              "    border: 2px solid var(--fill-color);\n",
              "    border-color: transparent;\n",
              "    border-bottom-color: var(--fill-color);\n",
              "    animation:\n",
              "      spin 1s steps(1) infinite;\n",
              "  }\n",
              "\n",
              "  @keyframes spin {\n",
              "    0% {\n",
              "      border-color: transparent;\n",
              "      border-bottom-color: var(--fill-color);\n",
              "      border-left-color: var(--fill-color);\n",
              "    }\n",
              "    20% {\n",
              "      border-color: transparent;\n",
              "      border-left-color: var(--fill-color);\n",
              "      border-top-color: var(--fill-color);\n",
              "    }\n",
              "    30% {\n",
              "      border-color: transparent;\n",
              "      border-left-color: var(--fill-color);\n",
              "      border-top-color: var(--fill-color);\n",
              "      border-right-color: var(--fill-color);\n",
              "    }\n",
              "    40% {\n",
              "      border-color: transparent;\n",
              "      border-right-color: var(--fill-color);\n",
              "      border-top-color: var(--fill-color);\n",
              "    }\n",
              "    60% {\n",
              "      border-color: transparent;\n",
              "      border-right-color: var(--fill-color);\n",
              "    }\n",
              "    80% {\n",
              "      border-color: transparent;\n",
              "      border-right-color: var(--fill-color);\n",
              "      border-bottom-color: var(--fill-color);\n",
              "    }\n",
              "    90% {\n",
              "      border-color: transparent;\n",
              "      border-bottom-color: var(--fill-color);\n",
              "    }\n",
              "  }\n",
              "</style>\n",
              "\n",
              "  <script>\n",
              "    async function quickchart(key) {\n",
              "      const quickchartButtonEl =\n",
              "        document.querySelector('#' + key + ' button');\n",
              "      quickchartButtonEl.disabled = true;  // To prevent multiple clicks.\n",
              "      quickchartButtonEl.classList.add('colab-df-spinner');\n",
              "      try {\n",
              "        const charts = await google.colab.kernel.invokeFunction(\n",
              "            'suggestCharts', [key], {});\n",
              "      } catch (error) {\n",
              "        console.error('Error during call to suggestCharts:', error);\n",
              "      }\n",
              "      quickchartButtonEl.classList.remove('colab-df-spinner');\n",
              "      quickchartButtonEl.classList.add('colab-df-quickchart-complete');\n",
              "    }\n",
              "    (() => {\n",
              "      let quickchartButtonEl =\n",
              "        document.querySelector('#df-16598054-3ece-4bc9-8fcd-c2c29712e17d button');\n",
              "      quickchartButtonEl.style.display =\n",
              "        google.colab.kernel.accessAllowed ? 'block' : 'none';\n",
              "    })();\n",
              "  </script>\n",
              "</div>\n",
              "\n",
              "    </div>\n",
              "  </div>\n"
            ],
            "application/vnd.google.colaboratory.intrinsic+json": {
              "type": "dataframe",
              "summary": "{\n  \"name\": \"display(data\",\n  \"rows\": 5,\n  \"fields\": [\n    {\n      \"column\": \"author\",\n      \"properties\": {\n        \"dtype\": \"string\",\n        \"num_unique_values\": 5,\n        \"samples\": [\n          \"Marilina R\\u00e9bora\",\n          \"Rub\\u00e9n Izaguirre Fiallos\",\n          \"Antonio Colinas\"\n        ],\n        \"semantic_type\": \"\",\n        \"description\": \"\"\n      }\n    },\n    {\n      \"column\": \"content\",\n      \"properties\": {\n        \"dtype\": \"string\",\n        \"num_unique_values\": 5,\n        \"samples\": [\n          \"\\n\\nPorque si t\\u00fa no velas, vendr\\u00e9 como ladr\\u00f3n;\\nhe de llegar a ti sin que sepas la hora.\\nEstate alerta, pues; vigila cada acci\\u00f3n,\\ny lo que has recibido y escuchado, memora.\\n\\nAunque nombre de vivo posees, est\\u00e1s muerto;\\nperfectas, ante Dios, no he encontrado tus obras.\\nConsol\\u00eddalas pronto o han de morir por cierto,\\nsi es que no te arrepientes y de otro modo obras.\\n\\nYo soy El de las siete estrellas a su diestra;\\nEl que en los siete Esp\\u00edritus de Dios, \\u00fanico, arde.\\nVestir\\u00e1 el que venciere de blancas vestiduras.\\nDel libro de la vida, su nombre \\u0097santa muestra\\u0097\\njam\\u00e1s he de borrar, lo dir\\u00e9 en las alturas.\\nVendr\\u00e9 como ladr\\u00f3n: igual, temprano o tarde.\\nVendr\\u00e9 como ladr\\u00f3n, de improviso o a oscuras.\",\n          \"Naciste en Armenia,\\npero te fuiste a vivir al mundo.\\n\\nTres nombres: Jos\\u00e9 Vasconcelos, Enrique G\\u00f3mez Carrillo y Antoine de Saint-Exup\\u00e9ry.\\nTres camas, seis piernas.\\n\\nPara m\\u00ed, eres la mujer m\\u00e1s bella del mundo,\\nla insigne guanaquita que pude amar el resto de la vida.\\n\\nAh, Consuelo Sunc\\u00edn, Condesa de Sonsonate,\\nte comiste el mundo,\\npara ense\\u00f1arnos su esqueleto.\",\n          \"\\n\\nPeque\\u00f1a de mis sue\\u00f1os, por tu piel las palomas,\\nla p\\u00e1lida presencia de la luna en el bosque\\no la nieve reci\\u00e9n ca\\u00edda de los astros.\\npor esa piel sin m\\u00e1cula, por su tersura suave,\\ntronch\\u00e9 columnas firmes, derrumb\\u00e9 la techumbre\\nde la m\\u00e1s alta noche: la de mis sue\\u00f1os puros.\\nPan del amanecer tu blanco cuello, frente,\\nosamenta querida, veta, venero noble\\u0085\\nAqu\\u00ed tengo los brazos abiertos como un r\\u00edo,\\nlas venas descansadas, todo el amor del mundo\\ndispuesto a consumir en un beso glorioso.\\nPeque\\u00f1a m\\u00eda, amada, no olvides que por ti,\\nuna noche de julio, olvid\\u00e9 la aventura\\nde salir a buscar la belleza cautiva.\"\n        ],\n        \"semantic_type\": \"\",\n        \"description\": \"\"\n      }\n    },\n    {\n      \"column\": \"title\",\n      \"properties\": {\n        \"dtype\": \"string\",\n        \"num_unique_values\": 5,\n        \"samples\": [\n          \"PORQUE SI T\\u00da NO VELAS\",\n          \"Breve Carta a Consuelo Sunc\\u00edn\",\n          \"POEMA DE LA BELLEZA CAUTIVA QUE PERD\\u00cd\"\n        ],\n        \"semantic_type\": \"\",\n        \"description\": \"\"\n      }\n    }\n  ]\n}"
            }
          },
          "metadata": {}
        }
      ],
      "source": [
        "#TEST_CELL\n",
        "data = (\n",
        "        pd.read_parquet(\"https://raw.githubusercontent.com/mindlab-unal/mlds4-datasets/main/u5/poems.parquet\")\n",
        "        .dropna()\n",
        "        )\n",
        "display(data.head())"
      ]
    },
    {
      "cell_type": "markdown",
      "id": "12edc382",
      "metadata": {
        "id": "12edc382"
      },
      "source": [
        "Como podemos ver, el conjunto tiene columnas:\n",
        "\n",
        "- `author`: Nombre del autor del poema.\n",
        "- `content`: Texto el poema.\n",
        "- `title`: Título del poema.\n",
        "\n",
        "Vamos a preprocesar el conjunto de datos:"
      ]
    },
    {
      "cell_type": "code",
      "execution_count": 4,
      "id": "5c199c41",
      "metadata": {
        "lines_to_next_cell": 1,
        "id": "5c199c41"
      },
      "outputs": [],
      "source": [
        "nlp = spacy.blank(\"es\")\n",
        "def preprocess(text):\n",
        "    doc = nlp(text) # creamos un documento de spacy\n",
        "    no_stops = \" \".join(\n",
        "        token.text\n",
        "        for token in filter(\n",
        "            lambda token: not token.is_stop and len(token) > 3 and len(token) < 24,\n",
        "            doc,\n",
        "            )\n",
        "        ) # eliminamos stopwords y palabras por longitud\n",
        "    norm_text = unidecode(no_stops.lower()) # normalizamos el texto\n",
        "    no_chars = re.sub(r\"[^a-z ]\", \" \", norm_text) # eliminamos caracteres especiales\n",
        "    no_spaces = re.sub(r\"\\s+\", \" \", no_chars) # eliminamos espacios duplicados\n",
        "    striped_text = no_spaces.strip()\n",
        "    if not len(striped_text):\n",
        "        return None\n",
        "    else:\n",
        "        return striped_text"
      ]
    },
    {
      "cell_type": "markdown",
      "id": "94f4bb87",
      "metadata": {
        "id": "94f4bb87"
      },
      "source": [
        "Aplicamos la función de preprocesamiento:"
      ]
    },
    {
      "cell_type": "code",
      "execution_count": 5,
      "id": "9816cad2",
      "metadata": {
        "id": "9816cad2"
      },
      "outputs": [],
      "source": [
        "data = (\n",
        "        data\n",
        "        .assign(\n",
        "            corpus=data.content.apply(preprocess)\n",
        "            )\n",
        "        .dropna()\n",
        "        )"
      ]
    },
    {
      "cell_type": "markdown",
      "id": "c6e01bf3",
      "metadata": {
        "id": "c6e01bf3"
      },
      "source": [
        "Inspeccionemos el tamaño de este conjunto de datos:"
      ]
    },
    {
      "cell_type": "code",
      "execution_count": 6,
      "id": "0643cb04",
      "metadata": {
        "id": "0643cb04",
        "colab": {
          "base_uri": "https://localhost:8080/",
          "height": 34
        },
        "outputId": "348c9fc7-2323-4c68-cf57-8835ddadfc40"
      },
      "outputs": [
        {
          "output_type": "display_data",
          "data": {
            "text/plain": [
              "(5125, 4)"
            ]
          },
          "metadata": {}
        }
      ],
      "source": [
        "#TEST_CELL\n",
        "display(data.shape)"
      ]
    },
    {
      "cell_type": "markdown",
      "id": "4ea2889b",
      "metadata": {
        "id": "4ea2889b"
      },
      "source": [
        "## **1. Extracción de Características**\n",
        "---\n",
        "\n",
        "En este punto deberá codificar de forma numérica el corpus. Para ello, deberá entrenar un vectorizador TF-IDF con sublinear scaling que permita extraer únicamente los términos que aparecen por lo menos en el 0.5% de los documentos en el corpus.\n",
        "\n",
        "Para esto, deberá implementar la función `vectorizer` la cual recibirá el corpus preprocesado y deberá retornar un arreglo de `numpy` con la representación y el vectorizador.\n",
        "\n",
        "**Parámetros**\n",
        "\n",
        "- `corpus`: `pd.Series` con los textos preprocesados del conjunto de datos.\n",
        "\n",
        "**Retorna**:\n",
        "\n",
        "- `features`: arreglo de numpy con la representación de tipo TF-IDF.\n",
        "- `vect`: `TfidfVectorizer` entrenado con las especificaciones dadas."
      ]
    },
    {
      "cell_type": "markdown",
      "id": "1e444d68",
      "metadata": {
        "id": "1e444d68"
      },
      "source": [
        "<details>    \n",
        "<summary>\n",
        "    <font size=\"3\" color=\"darkgreen\"><b>Pistas</b></font>\n",
        "</summary>\n",
        "\n",
        "- Recuerde que _sublinear scaling_ se puede controlar con el parámetro `sublinear_tf` del vectorizador.\n",
        "- Recuerde convertir la representación a un arreglo de `numpy`.\n",
        "- Puede usar el parámetro `min_df` para filtrar términos por frecuencia de documento.\n",
        "</details>"
      ]
    },
    {
      "cell_type": "code",
      "execution_count": 25,
      "id": "f46959ae",
      "metadata": {
        "lines_to_next_cell": 1,
        "id": "f46959ae"
      },
      "outputs": [],
      "source": [
        "# FUNCIÓN CALIFICADA vectorizer:\n",
        "from sklearn.feature_extraction.text import TfidfVectorizer\n",
        "\n",
        "def vectorizer(corpus):\n",
        "    ### ESCRIBA SU CÓDIGO AQUÍ ###\n",
        "\n",
        "    vect = TfidfVectorizer(\n",
        "        sublinear_tf=True,\n",
        "        min_df=0.005)\n",
        "    tfidf_matrix = vect.fit_transform(corpus)\n",
        "    features = tfidf_matrix.toarray()\n",
        "\n",
        "    return features, vect\n",
        "    ### FIN DEL CÓDIGO ###"
      ]
    },
    {
      "cell_type": "code",
      "execution_count": 26,
      "id": "5391f55d",
      "metadata": {
        "id": "5391f55d",
        "colab": {
          "base_uri": "https://localhost:8080/",
          "height": 34
        },
        "outputId": "5bedc429-4e45-419c-c610-0e652b9f3970"
      },
      "outputs": [
        {
          "output_type": "display_data",
          "data": {
            "text/plain": [
              "(5125, 2232)"
            ]
          },
          "metadata": {}
        }
      ],
      "source": [
        "#TEST_CELL\n",
        "features, vect = vectorizer(data.corpus)\n",
        "display(features.shape)"
      ]
    },
    {
      "cell_type": "markdown",
      "id": "9c109185",
      "metadata": {
        "id": "9c109185"
      },
      "source": [
        "**Salida esperada**:\n",
        "\n",
        "En este primer ejemplo debe obtener el tamaño de la representación:\n",
        "\n",
        "```python\n",
        "❱ display(features.shape)\n",
        "(5125, 2232)\n",
        "```"
      ]
    },
    {
      "cell_type": "code",
      "execution_count": 27,
      "id": "ba9caac7",
      "metadata": {
        "id": "ba9caac7",
        "colab": {
          "base_uri": "https://localhost:8080/",
          "height": 34
        },
        "outputId": "ac6e9d56-a423-4360-9fec-0bb7bb4e7021"
      },
      "outputs": [
        {
          "output_type": "display_data",
          "data": {
            "text/plain": [
              "array(['abajo', 'abandonado', 'abandono', 'abeja', 'abejas'], dtype=object)"
            ]
          },
          "metadata": {}
        }
      ],
      "source": [
        "#TEST_CELL\n",
        "features, vect = vectorizer(data.corpus)\n",
        "display(vect.get_feature_names_out()[:5])"
      ]
    },
    {
      "cell_type": "markdown",
      "id": "15176e70",
      "metadata": {
        "id": "15176e70"
      },
      "source": [
        "**Salida esperada**:\n",
        "\n",
        "En este caso deberá obtener las primeras 5 palabras del vocabulario:\n",
        "\n",
        "```python\n",
        "❱ display(vect.get_feature_names_out()[:5])\n",
        "array(['abajo', 'abandonado', 'abandono', 'abeja', 'abejas'], dtype=object)\n",
        "```"
      ]
    },
    {
      "cell_type": "code",
      "execution_count": null,
      "id": "0cb5ae8d",
      "metadata": {
        "id": "0cb5ae8d"
      },
      "outputs": [],
      "source": [
        "#TEST_CELL\n",
        "features, vect = vectorizer(data.corpus)\n",
        "display(features.sum())"
      ]
    },
    {
      "cell_type": "markdown",
      "id": "bb9d89ab",
      "metadata": {
        "id": "bb9d89ab"
      },
      "source": [
        "**Salida esperada**:\n",
        "\n",
        "En este caso deberá obtener la suma de toda la matriz:\n",
        "\n",
        "```python\n",
        "❱ display(features.sum())\n",
        "26109.80862778348\n",
        "```"
      ]
    },
    {
      "cell_type": "markdown",
      "id": "ca39f732",
      "metadata": {
        "id": "ca39f732"
      },
      "source": [
        "## **2. Modelo de Agrupamiento**\n",
        "---\n",
        "\n",
        "En este punto deberá entrenar un modelo de K-Means y evaluar el coeficiente de silueta para un número específico de clusters $K$.\n",
        "\n",
        "Para esto, deberá implementar la función `clustering`, la cual recibirá una matriz de características y deberá retornar el modelo entrenado y el valor del coeficiente de silueta.\n",
        "\n",
        "**Parámetros**\n",
        "\n",
        "- `features`: arreglo de `numpy` con las características de los textos.\n",
        "- `n_clusters`: número de clusters a usar.\n",
        "- `seed`: semilla de números aleatorios.\n",
        "\n",
        "**Retorna**:\n",
        "\n",
        "- `model`: modelo de K-Means entrenado.\n",
        "- `score`: valor del coeficiente de silueta."
      ]
    },
    {
      "cell_type": "markdown",
      "id": "efa221d0",
      "metadata": {
        "id": "efa221d0"
      },
      "source": [
        "<details>    \n",
        "<summary>\n",
        "    <font size=\"3\" color=\"darkgreen\"><b>Pistas</b></font>\n",
        "</summary>\n",
        "\n",
        "- Recuerde que puede controlar el número de clusters con el parámetro `n_clusters`.\n",
        "- Recuerde que el coeficiente de silueta no necesita ninguna etiqueta, la función recibe las características y las predicciones del modelo.\n",
        "</details>"
      ]
    },
    {
      "cell_type": "code",
      "execution_count": 32,
      "id": "6c8d53e6",
      "metadata": {
        "lines_to_next_cell": 1,
        "id": "6c8d53e6"
      },
      "outputs": [],
      "source": [
        "# FUNCIÓN CALIFICADA clustering:\n",
        "from sklearn.cluster import KMeans\n",
        "from sklearn.metrics import silhouette_score\n",
        "\n",
        "def clustering(features, n_clusters, seed):\n",
        "    ### ESCRIBA SU CÓDIGO AQUÍ ###\n",
        "    # Inicializar el modelo K-Means con la semilla especificada\n",
        "    kmeans = KMeans(n_clusters=n_clusters, random_state=seed)\n",
        "\n",
        "    # Entrenar el modelo\n",
        "    model = kmeans.fit(features)\n",
        "\n",
        "    # Obtener las etiquetas de los clusters\n",
        "    labels = model.labels_\n",
        "\n",
        "    # Calcular el coeficiente de silueta\n",
        "    score = silhouette_score(features, labels)\n",
        "\n",
        "    return model, score\n",
        "    ### FIN DEL CÓDIGO ###"
      ]
    },
    {
      "cell_type": "code",
      "execution_count": 33,
      "id": "57cb13a5",
      "metadata": {
        "id": "57cb13a5",
        "colab": {
          "base_uri": "https://localhost:8080/",
          "height": 34
        },
        "outputId": "c8840772-71ee-4be7-bf37-77780cb662c4"
      },
      "outputs": [
        {
          "output_type": "display_data",
          "data": {
            "text/plain": [
              "0.0007199986581833003"
            ]
          },
          "metadata": {}
        }
      ],
      "source": [
        "#TEST_CELL\n",
        "features, vect = vectorizer(data.corpus)\n",
        "model, score = clustering(\n",
        "        features=features,\n",
        "        n_clusters=5,\n",
        "        seed=0\n",
        "        )\n",
        "display(score)"
      ]
    },
    {
      "cell_type": "markdown",
      "id": "7dabc873",
      "metadata": {
        "id": "7dabc873"
      },
      "source": [
        "**Salida esperada**:\n",
        "\n",
        "El coeficiente de silueta debería dar un resultado igual a:\n",
        "\n",
        "```python\n",
        "❱ display(score)\n",
        "0.0011509503589058696\n",
        "```"
      ]
    },
    {
      "cell_type": "code",
      "execution_count": 34,
      "id": "ecdbe61a",
      "metadata": {
        "id": "ecdbe61a",
        "colab": {
          "base_uri": "https://localhost:8080/",
          "height": 34
        },
        "outputId": "80f6f169-2f33-415f-b814-c6b790aef652"
      },
      "outputs": [
        {
          "output_type": "display_data",
          "data": {
            "text/plain": [
              "0.0015068363955449303"
            ]
          },
          "metadata": {}
        }
      ],
      "source": [
        "#TEST_CELL\n",
        "features, vect = vectorizer(data.corpus)\n",
        "model, score = clustering(\n",
        "        features=features,\n",
        "        n_clusters=10,\n",
        "        seed=0\n",
        "        )\n",
        "display(score)"
      ]
    },
    {
      "cell_type": "markdown",
      "id": "1f57849a",
      "metadata": {
        "id": "1f57849a"
      },
      "source": [
        "**Salida esperada**:\n",
        "\n",
        "El coeficiente de silueta debería dar un resultado igual a:\n",
        "\n",
        "```python\n",
        "❱ display(score)\n",
        "0.0024804861748867956\n",
        "```"
      ]
    },
    {
      "cell_type": "markdown",
      "id": "d2014a38",
      "metadata": {
        "id": "d2014a38"
      },
      "source": [
        "## **3. Documento Más Relevante**\n",
        "---\n",
        "\n",
        "En este punto deberá encontrar el documento más similar a un cluster en específico. El proceso debe seguir los siguientes pasos:\n",
        "\n",
        "1. Calcular la similitud coseno entre las características de cada documento y el centroide de un cluster dado.\n",
        "2. Encontrar el id del documento con mayor similitud coseno.\n",
        "3. Extraer el documento del corpus.\n",
        "\n",
        "Para esto deberá implementar la función `cluster_document`, la cual toma como entrada el corpus, las características, un modelo entrenado y el id de un cluster. Esta función debe retornar el texto del documento más relevante.\n",
        "\n",
        "**Parámetros**\n",
        "\n",
        "- `corpus`: `pd.Series` con el texto preprocesado.\n",
        "- `features`: arreglo de `numpy` con las características de los textos.\n",
        "- `model`: modelo de K-Means entrenado.\n",
        "- `cluster_id`: identificador del cluster a analizar.\n",
        "\n",
        "**Retorna**:\n",
        "\n",
        "- `relevant_doc`: documento más relevante para el cluster en cuestión."
      ]
    },
    {
      "cell_type": "markdown",
      "id": "4b5ca7f6",
      "metadata": {
        "lines_to_next_cell": 2,
        "id": "4b5ca7f6"
      },
      "source": [
        "<details>    \n",
        "<summary>\n",
        "    <font size=\"3\" color=\"darkgreen\"><b>Pistas</b></font>\n",
        "</summary>\n",
        "\n",
        "- Puede acceder a los centroides del modelo K-Means con el atributo `cluster_centers_` del modelo entrenado.\n",
        "- Puede usar la función `np.argmax` para encontrar el documento más similar.\n",
        "</details>"
      ]
    },
    {
      "cell_type": "code",
      "execution_count": 35,
      "id": "7954c31c",
      "metadata": {
        "lines_to_next_cell": 1,
        "id": "7954c31c"
      },
      "outputs": [],
      "source": [
        "# FUNCIÓN CALIFICADA cluster_document:\n",
        "from sklearn.metrics.pairwise import cosine_similarity\n",
        "\n",
        "def cluster_document(corpus, features, model, cluster_id):\n",
        "    ### ESCRIBA SU CÓDIGO AQUÍ ###\n",
        "    # Obtener el centroide del cluster específico\n",
        "    centroid = model.cluster_centers_[cluster_id]\n",
        "\n",
        "    # Calcular la similitud coseno entre cada documento y el centroide\n",
        "    similarities = cosine_similarity(features, centroid.reshape(1, -1))\n",
        "\n",
        "    # Encontrar el índice del documento con mayor similitud\n",
        "    most_similar_doc_index = np.argmax(similarities)\n",
        "\n",
        "    # Obtener el documento más relevante del corpus\n",
        "    relevant_doc = corpus.iloc[most_similar_doc_index]\n",
        "\n",
        "    return relevant_doc\n",
        "    ### FIN DEL CÓDIGO ###"
      ]
    },
    {
      "cell_type": "code",
      "execution_count": 36,
      "id": "1865829b",
      "metadata": {
        "id": "1865829b",
        "colab": {
          "base_uri": "https://localhost:8080/"
        },
        "outputId": "f24eb3ed-0f22-4542-bc9f-c04de3e19afa"
      },
      "outputs": [
        {
          "output_type": "stream",
          "name": "stdout",
          "text": [
            "\n",
            "\n",
            "Ved en sombras el cuarto, y en el lecho\n",
            "desnudos, sonrosados, rozagantes,\n",
            "el nudo vivo de los dos amantes\n",
            "boca con boca y pecho contra pecho.\n",
            "\n",
            "Se hace más apretado el nudo estrecho,\n",
            "bailotean los dedos delirantes,\n",
            "suspéndese el aliento unos instantes...\n",
            "y he aquí el nudo sexual deshecho.\n",
            "\n",
            "Un desorden de sábanas y almohadas,\n",
            "dos pálidas cabezas despeinadas,\n",
            "una suelta palabra indiferente,\n",
            "\n",
            "un poco de hambre, un poco de tristeza,\n",
            "un infantil deseo de pureza\n",
            "y un vago olor cualquiera en el ambiente.\n"
          ]
        }
      ],
      "source": [
        "#TEST_CELL\n",
        "features, vect = vectorizer(data.corpus)\n",
        "model = clustering(features, 25, 0)[0]\n",
        "relevant_doc = cluster_document(data.content, features, model, 0)\n",
        "print(relevant_doc)"
      ]
    },
    {
      "cell_type": "markdown",
      "id": "546f8198",
      "metadata": {
        "id": "546f8198"
      },
      "source": [
        "**Salida esperada**:\n",
        "\n",
        "Este primer ejemplo debería retornar el documento más relevante para el cluster 0.\n",
        "\n",
        "```python\n",
        "❱ print(relevant_doc)\n",
        "Cien sonetos de amor\n",
        "\n",
        "«Vendrás conmigo» ?dije? sin que nadie supiera\n",
        "dónde y cómo latía mi estado doloroso,\n",
        "y para mí no había clavel ni barcarola,\n",
        "nada sino una herida por el amor abierta.\n",
        "Repetí: ven conmigo, como si me muriera,\n",
        "y nadie vio en mi boca la luna que sangraba,\n",
        "nadie vio aquella sangre que subía al silencio.\n",
        "Oh amor ahora olvidemos la estrella con espinas!\n",
        "Por eso cuando oí que tu voz repetía\n",
        "«Vendrás conmigo» ?fue como si desataras\n",
        "dolor, amor, la furia del vino encarcelado\n",
        "que desde su bodega sumergida subiera\n",
        "y otra vez en mi boca sentí un sabor de llama,\n",
        "de sangre y de claveles, de piedra y quemadura.\n",
        "```"
      ]
    },
    {
      "cell_type": "code",
      "execution_count": 37,
      "id": "349ae5eb",
      "metadata": {
        "id": "349ae5eb",
        "colab": {
          "base_uri": "https://localhost:8080/"
        },
        "outputId": "81bce6bb-c385-43f7-e843-f31986263203"
      },
      "outputs": [
        {
          "output_type": "stream",
          "name": "stdout",
          "text": [
            "\n",
            "Cantan. Cantan.\n",
            "¿Dónde cantan los pájaros que cantan?\n",
            "Ha llovido. Aún las ramas\n",
            "están sin hojas nuevas. Cantan. Cantan\n",
            "los pájaros. ¿En dónde cantan\n",
            "los pájaros que cantan?\n",
            "No tengo pájaros en jaulas.\n",
            "No hay niños que los vendan. Cantan.\n",
            "El valle está muy lejos. Nada...\n",
            "Yo no sé dónde cantan\n",
            "los pájaros -cantan, cantan-\n",
            "los pájaros que cantan.\n"
          ]
        }
      ],
      "source": [
        "#TEST_CELL\n",
        "features, vect = vectorizer(data.corpus)\n",
        "model = clustering(features, 25, 0)[0]\n",
        "relevant_doc = cluster_document(data.content, features, model, 2)\n",
        "print(relevant_doc)"
      ]
    },
    {
      "cell_type": "markdown",
      "id": "ce12824b",
      "metadata": {
        "id": "ce12824b"
      },
      "source": [
        "**Salida esperada**:\n",
        "\n",
        "Este segundo ejemplo debería retornar el documento más relevante para el cluster 2.\n",
        "\n",
        "```python\n",
        "❱ print(relevant_doc)\n",
        "\n",
        "Eres uno con Dios, porque le amas.\n",
        "¡Tu pequeñez qué importa y tu miseria,\n",
        "eres uno con Dios, porque le amas!\n",
        "Le buscaste en los libros,\n",
        "le buscaste en los templos,\n",
        "le buscaste en los astros,\n",
        "y un día el corazón te dijo, trémulo:\n",
        "«aquí está», y desde entonces ya sois uno,\n",
        "ya sois uno los dos, porque le amas.\n",
        "No podrían separaros\n",
        "ni el placer de la vida\n",
        "ni el dolor de la muerte.\n",
        "En el placer has de mirar su rostro,\n",
        "en el dolor has de mirar su rostro,\n",
        "en vida y muerte has de mirar su rostro.\n",
        "«¡Dios!» dirás en los besos,\n",
        "dirás «Dios» en los cantos,\n",
        "dirás «¡Dios!» en los ayes.\n",
        "Y comprendiendo al fin que es ilusorio\n",
        "todo pecado (como toda vida),\n",
        "y que nada de Él puede separarte,\n",
        "uno con Dios te sentirás por siempre:\n",
        "uno solo con Dios, porque le amas.\n",
        "```"
      ]
    },
    {
      "cell_type": "markdown",
      "id": "e2a57278",
      "metadata": {
        "id": "e2a57278"
      },
      "source": [
        "## **4. Modelo de Tópicos**\n",
        "---\n",
        "\n",
        "En este punto deberá entrenar un modelo de *Latent Semantic Analysis* sobre el corpus de poemas.\n",
        "\n",
        "Para esto deberá implementar la función `topic_model`, la cual toma como entrada las características del texto y el número de tópicos. Esta deberá retornar el modelo entrenado.\n",
        "\n",
        "**Nota**: debe utilizar el algoritmo `arpack` en `TruncatedSVD` para que los resultados sean consistentes, es decir, `algorithm=\"arpack\"` como argumento del modelo.\n",
        "\n",
        "**Parámetros**\n",
        "\n",
        "- `features`: arreglo de `numpy` con las características de los textos.\n",
        "- `n_components`: número de tópicos.\n",
        "\n",
        "**Retorna**:\n",
        "\n",
        "- `model`: modelo de tópicos entrenado."
      ]
    },
    {
      "cell_type": "markdown",
      "id": "8ab30421",
      "metadata": {
        "id": "8ab30421"
      },
      "source": [
        "<details>    \n",
        "<summary>\n",
        "    <font size=\"3\" color=\"darkgreen\"><b>Pistas</b></font>\n",
        "</summary>\n",
        "\n",
        "- Recuerde especificar el algorithmo de optimización, de lo contrario los resultados pueden ser variables.\n",
        "- Puede especificar el número de tópicos con el parámetro `n_components` del modelo.\n",
        "</details>"
      ]
    },
    {
      "cell_type": "code",
      "execution_count": 38,
      "id": "162a8d62",
      "metadata": {
        "lines_to_next_cell": 1,
        "id": "162a8d62"
      },
      "outputs": [],
      "source": [
        "# FUNCIÓN CALIFICADA topic_model:\n",
        "from sklearn.decomposition import TruncatedSVD\n",
        "\n",
        "def topic_model(features, n_components):\n",
        "    ### ESCRIBA SU CÓDIGO AQUÍ ###\n",
        "    # Crear el modelo LSA con el algoritmo arpack\n",
        "    lsa = TruncatedSVD(n_components=n_components, algorithm='arpack')\n",
        "\n",
        "    # Entrenar el modelo\n",
        "    model = lsa.fit(features)\n",
        "    return model\n",
        "    ### FIN DEL CÓDIGO ###"
      ]
    },
    {
      "cell_type": "code",
      "execution_count": 39,
      "id": "2b1abfb1",
      "metadata": {
        "id": "2b1abfb1",
        "colab": {
          "base_uri": "https://localhost:8080/",
          "height": 104
        },
        "outputId": "1d8c9727-fd31-404f-99a4-f6bbd56930e9"
      },
      "outputs": [
        {
          "output_type": "display_data",
          "data": {
            "text/plain": [
              "array([[ 0.02037573,  0.01055891,  0.01040283,  0.00990592,  0.00902456],\n",
              "       [-0.01477555, -0.00338276, -0.00075354, -0.01209799, -0.00512086],\n",
              "       [-0.02064902, -0.01047121, -0.01311938,  0.01244566,  0.00910363],\n",
              "       [-0.0211558 ,  0.00615672,  0.01806387, -0.00759171, -0.00587832],\n",
              "       [ 0.01138   ,  0.00010993, -0.01209617, -0.00322183,  0.00915466]])"
            ]
          },
          "metadata": {}
        }
      ],
      "source": [
        "#TEST_CELL\n",
        "features, vect = vectorizer(data.corpus)\n",
        "model = topic_model(features, 10)\n",
        "display(model.components_[:5, :5])"
      ]
    },
    {
      "cell_type": "markdown",
      "id": "27b80d40",
      "metadata": {
        "id": "27b80d40"
      },
      "source": [
        "**Salida esperada**:\n",
        "\n",
        "Este ejemplo debería mostrar las primeras 5 filas y las primeras 5 columnas de la matriz tópico-término.\n",
        "\n",
        "```python\n",
        "❱ print(model.components_[:5, :5])\n",
        "array([[ 0.02037573,  0.01055891,  0.01040283,  0.00990592,  0.00902456],\n",
        "       [-0.01477555, -0.00338276, -0.00075354, -0.01209799, -0.00512086],\n",
        "       [-0.02064902, -0.01047121, -0.01311938,  0.01244566,  0.00910363],\n",
        "       [-0.0211558 ,  0.00615672,  0.01806387, -0.00759171, -0.00587832],\n",
        "       [ 0.01138   ,  0.00010993, -0.01209617, -0.00322183,  0.00915466]])\n",
        "```"
      ]
    },
    {
      "cell_type": "code",
      "execution_count": 40,
      "id": "21e7245d",
      "metadata": {
        "lines_to_next_cell": 1,
        "id": "21e7245d",
        "colab": {
          "base_uri": "https://localhost:8080/",
          "height": 52
        },
        "outputId": "7b084b99-50a1-4320-a78b-484a74cdb3ec"
      },
      "outputs": [
        {
          "output_type": "display_data",
          "data": {
            "text/plain": [
              "array([[ 0.02037573,  0.01055891,  0.01040283,  0.00990592,  0.00902456],\n",
              "       [-0.01477555, -0.00338276, -0.00075354, -0.01209799, -0.00512086]])"
            ]
          },
          "metadata": {}
        }
      ],
      "source": [
        "#TEST_CELL\n",
        "features, vect = vectorizer(data.corpus)\n",
        "model = topic_model(features, 2)\n",
        "display(model.components_[:, :5])"
      ]
    },
    {
      "cell_type": "markdown",
      "id": "bde89091",
      "metadata": {
        "id": "bde89091"
      },
      "source": [
        "**Salida esperada**:\n",
        "\n",
        "Este ejemplo debería mostrar las primeras las primeras 5 columnas de la matriz tópico-término.\n",
        "\n",
        "```python\n",
        "❱ display(model.components_[:5])\n",
        "array([[ 0.02037573,  0.01055891,  0.01040283,  0.00990592,  0.00902456],\n",
        "       [-0.01477555, -0.00338276, -0.00075354, -0.01209799, -0.00512086]])\n",
        "```"
      ]
    },
    {
      "cell_type": "markdown",
      "id": "6ef2cc1c",
      "metadata": {
        "id": "6ef2cc1c"
      },
      "source": [
        "## **5. Documento Más Relevante**\n",
        "---\n",
        "\n",
        "En este punto deberá extraer el documento más relevante de un tópico específico. El proceso debe seguir los siguientes pasos:\n",
        "\n",
        "1. Extraer la matriz documento-tópico y sacar su valor absoluto.\n",
        "2. Extraer la columna correspondiente al identificador de un tópico dado.\n",
        "3. Encontrar el identificador del documento con mayor valor dentro de la columna del tópico.\n",
        "4. Retornar el texto del documento correspondiente.\n",
        "\n",
        "Para ello deberá implementar la función `topic_document`, la cual toma como entrada las características de los textos, el corpus, el modelo entrenado y un identificador de tópico y debe retornar el documento más relevante para dicho tópico.\n",
        "\n",
        "**Parámetros**\n",
        "\n",
        "- `features`: arreglo de `numpy` con las características de los textos.\n",
        "- `corpus`: `pd.Series` con los documentos.\n",
        "- `model`: modelo de tópicos entrenado.\n",
        "- `topic_id`: identificador del tópico.\n",
        "\n",
        "**Retorna**:\n",
        "\n",
        "- `relevant_doc`: documento relevante para el tópico en cuestión."
      ]
    },
    {
      "cell_type": "markdown",
      "id": "47ec6610",
      "metadata": {
        "id": "47ec6610"
      },
      "source": [
        "<details>    \n",
        "<summary>\n",
        "    <font size=\"3\" color=\"darkgreen\"><b>Pistas</b></font>\n",
        "</summary>\n",
        "\n",
        "- La matriz documento-tópico se puede extraer con el método `transform` del modelo.\n",
        "- Puede usar la función `np.argmax` para encontrar el documento más relevante en un tópico.\n",
        "</details>"
      ]
    },
    {
      "cell_type": "code",
      "execution_count": 41,
      "id": "0209be64",
      "metadata": {
        "lines_to_next_cell": 1,
        "id": "0209be64"
      },
      "outputs": [],
      "source": [
        "# FUNCIÓN CALIFICADA topic_document:\n",
        "def topic_document(features, corpus, model, topic_id):\n",
        "    ### ESCRIBA SU CÓDIGO AQUÍ ###\n",
        "    # Obtener la matriz documento-tópico\n",
        "    doc_topic_matrix = np.abs(model.transform(features))\n",
        "\n",
        "    # Extraer la columna correspondiente al tópico\n",
        "    topic_distribution = doc_topic_matrix[:, topic_id]\n",
        "\n",
        "    # Encontrar el índice del documento con mayor valor en el tópico\n",
        "    most_relevant_doc_index = np.argmax(topic_distribution)\n",
        "\n",
        "    # Obtener el documento más relevante del corpus\n",
        "    relevant_doc = corpus.iloc[most_relevant_doc_index]\n",
        "\n",
        "    return relevant_doc\n",
        "    ### FIN DEL CÓDIGO ###"
      ]
    },
    {
      "cell_type": "code",
      "execution_count": 42,
      "id": "e2dacc25",
      "metadata": {
        "id": "e2dacc25",
        "colab": {
          "base_uri": "https://localhost:8080/"
        },
        "outputId": "6255ab9e-9a21-44ce-b399-a148671dd586"
      },
      "outputs": [
        {
          "output_type": "stream",
          "name": "stdout",
          "text": [
            "\n",
            "Dios mío, yo te ofrezco mi dolor: \n",
            "¡Es todo lo que puedo ya ofrecerte! \n",
            "Tú me diste un amor, un solo amor, \n",
            "¡un gran amor! \n",
            "Me lo robó la muerte \n",
            "...y no me queda más que mi dolor. \n",
            "Acéptalo, Señor: \n",
            "¡Es todo lo que puedo ya ofrecerte!...\n"
          ]
        }
      ],
      "source": [
        "#TEST_CELL\n",
        "features, vect = vectorizer(data.corpus)\n",
        "model = topic_model(features, 10)\n",
        "relevant_doc = topic_document(features, data.content, model, 1)\n",
        "print(relevant_doc)"
      ]
    },
    {
      "cell_type": "markdown",
      "id": "abbb2f2f",
      "metadata": {
        "id": "abbb2f2f"
      },
      "source": [
        "**Salida esperada**:\n",
        "\n",
        "Este ejemplo debería mostrar el poema más relacionado al tópico 1:\n",
        "\n",
        "```python\n",
        "❱ print(relevant_doc)\n",
        "Dios mío, yo te ofrezco mi dolor:\n",
        "¡Es todo lo que puedo ya ofrecerte!\n",
        "Tú me diste un amor, un solo amor,\n",
        "¡un gran amor!\n",
        "Me lo robó la muerte\n",
        "...y no me queda más que mi dolor.\n",
        "Acéptalo, Señor:\n",
        "¡Es todo lo que puedo ya ofrecerte!...\n",
        "```"
      ]
    },
    {
      "cell_type": "code",
      "execution_count": 43,
      "id": "0fd4e6a7",
      "metadata": {
        "id": "0fd4e6a7",
        "colab": {
          "base_uri": "https://localhost:8080/"
        },
        "outputId": "b778047a-feaa-44b1-93fc-d5807d9009e0"
      },
      "outputs": [
        {
          "output_type": "stream",
          "name": "stdout",
          "text": [
            "Cien sonetos de amor\n",
            "\n",
            "Mi fea, eres una castaña despeinada, \n",
            "mi bella, eres hermosa como el viento, \n",
            "mi fea, de tu boca se pueden hacer dos, \n",
            "mi bella, son tus besos frescos como sandías. \n",
            "Mi fea, dónde están escondidos tus senos? \n",
            "Son mínimos como dos copas de trigo. \n",
            "Me gustaría verte dos lunas en el pecho: \n",
            "las gigantescas torres de tu soberanía. \n",
            "Mi fea, el mar no tiene tus uñas en su tienda, \n",
            "mi bella, flor a flor, estrella por estrella, \n",
            "ola por ola, amor, he contado tu cuerpo: \n",
            "mi fea, te amo por tu cintura de oro, \n",
            "mi bella, te amo por una arruga en tu frente, \n",
            "amor, te amo por clara y por oscura.\n"
          ]
        }
      ],
      "source": [
        "#TEST_CELL\n",
        "features, vect = vectorizer(data.corpus)\n",
        "model = topic_model(features, 10)\n",
        "relevant_doc = topic_document(features, data.content, model, 2)\n",
        "print(relevant_doc)"
      ]
    },
    {
      "cell_type": "markdown",
      "id": "2db10727",
      "metadata": {
        "id": "2db10727"
      },
      "source": [
        "**Salida esperada**:\n",
        "\n",
        "Este ejemplo debería mostrar el poema más relacionado al tópico 2:\n",
        "\n",
        "```python\n",
        "❱ print(relevant_doc)\n",
        "Cien sonetos de amor\n",
        "\n",
        "Mi fea, eres una castaña despeinada,\n",
        "mi bella, eres hermosa como el viento,\n",
        "mi fea, de tu boca se pueden hacer dos,\n",
        "mi bella, son tus besos frescos como sandías.\n",
        "Mi fea, dónde están escondidos tus senos?\n",
        "Son mínimos como dos copas de trigo.\n",
        "Me gustaría verte dos lunas en el pecho:\n",
        "las gigantescas torres de tu soberanía.\n",
        "Mi fea, el mar no tiene tus uñas en su tienda,\n",
        "mi bella, flor a flor, estrella por estrella,\n",
        "ola por ola, amor, he contado tu cuerpo:\n",
        "mi fea, te amo por tu cintura de oro,\n",
        "mi bella, te amo por una arruga en tu frente,\n",
        "amor, te amo por clara y por oscura.\n",
        "```"
      ]
    },
    {
      "cell_type": "markdown",
      "id": "f4b4659c",
      "metadata": {
        "id": "f4b4659c"
      },
      "source": [
        "## Créditos\n",
        "---\n",
        "\n",
        "* **Profesor:** [Felipe Restrepo Calle](https://dis.unal.edu.co/~ferestrepoca/)\n",
        "* **Asistentes docentes:**\n",
        "    - [Juan Sebastián Lara Ramírez](https://www.linkedin.com/in/juan-sebastian-lara-ramirez-43570a214/).\n",
        "* **Diseño de imágenes:**\n",
        "    - [Rosa Alejandra Superlano Esquibel](mailto:rsuperlano@unal.edu.co).\n",
        "* **Coordinador de virtualización:**\n",
        "    - [Edder Hernández Forero](https://www.linkedin.com/in/edder-hernandez-forero-28aa8b207/).\n",
        "\n",
        "**Universidad Nacional de Colombia** - *Facultad de Ingeniería*"
      ]
    }
  ],
  "metadata": {
    "jupytext": {
      "cell_metadata_filter": "-all"
    },
    "kernelspec": {
      "display_name": "Python 3 (ipykernel)",
      "language": "python",
      "name": "python3"
    },
    "colab": {
      "provenance": [],
      "include_colab_link": true
    }
  },
  "nbformat": 4,
  "nbformat_minor": 5
}