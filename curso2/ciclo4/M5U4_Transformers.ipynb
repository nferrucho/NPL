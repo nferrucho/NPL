{
  "cells": [
    {
      "cell_type": "markdown",
      "metadata": {
        "id": "view-in-github",
        "colab_type": "text"
      },
      "source": [
        "<a href=\"https://colab.research.google.com/github/nferrucho/NPL/blob/main/curso2/ciclo4/M5U4_Transformers.ipynb\" target=\"_parent\"><img src=\"https://colab.research.google.com/assets/colab-badge.svg\" alt=\"Open In Colab\"/></a>"
      ]
    },
    {
      "cell_type": "markdown",
      "source": [
        "<img src = \"https://drive.google.com/uc?export=view&id=1VV2e_u46fNm_ewns8QW2HGRZAPHh-e2t\" alt = \"Encabezado MLDS\" width = \"100%\">  </img>"
      ],
      "metadata": {
        "id": "LdWaUHzH42fA"
      }
    },
    {
      "cell_type": "markdown",
      "metadata": {
        "id": "LFZbazQTEY4w"
      },
      "source": [
        "# **Transformers**\n",
        "----\n",
        "\n",
        "En este Notebook aprenderemos a trabajar con modelos basados en _Transformers_ utilizando [Hugginface](https://huggingface.co/). Tal como se menciona en el _Módulo 4_ del _Programa de Fonrmación_, Hugginface es una empresa dedicada a la democratización de la inteligencia artificial y el procesamiento de lenguaje natural. Su principal producto es la librería de código abierto con funcionalidades amplias como el uso de modelos pre-entrenados y funciones de **_Machine Learning_ automático** (o auto-ML).\n",
        "\n",
        "<center><img src=\"https://drive.google.com/uc?export=view&id=1hqBNDmIkGAq8Z-6-UuKhBGEwj0--ORdg\" alt =\"Icono de Transformers utilizando Hugginface \"width=\"60%\"></center>\n",
        "\n",
        "Con *_Hugginface_* podemos automatizar diferentes tareas como:\n",
        "\n",
        "*    Análisis de sentimientos.\n",
        "*    Generación de respuestas.\n",
        "*    Reconocimiento de entidades nombradas.\n",
        "*    Traducción.\n",
        "\n",
        "En este notebook veremos:\n",
        "\n",
        "* Cómo funciona un _Transformer_.\n",
        "* Cómo usar modelos pre-entrenados de _Huggingface_ para resolver problemas con conjuntos de datos propios.\n",
        "\n",
        "Primero tenemos que realizar la instalación de las librerías que necesitamos, dado que estas no vienen instaladas por defecto en el entorno de Colab.\n"
      ]
    },
    {
      "cell_type": "code",
      "execution_count": null,
      "metadata": {
        "id": "28iCd7p-IxuJ"
      },
      "outputs": [],
      "source": [
        "!pip install --upgrade transformers\n",
        "!pip install tf-keras\n",
        "!pip install datasets\n",
        "!pip install sentencepiece"
      ]
    },
    {
      "cell_type": "code",
      "source": [
        "import os\n",
        "os.environ['TF_USE_LEGACY_KERAS'] = '1' # Establece la versión legacy"
      ],
      "metadata": {
        "id": "2Rrcy98jyyFS"
      },
      "execution_count": null,
      "outputs": []
    },
    {
      "cell_type": "markdown",
      "metadata": {
        "id": "sm0JQ_mFbsZ4"
      },
      "source": [
        "# **¿Qué es un _Transformer_?** (\"Attention is all you need\")\n",
        "----\n",
        "\n",
        "Los _Transformers_ son **arquitecturas diseñadas para el procesamiento secuencial de información**. Son redes neuronales profundas que sustituyen a las CNN y RNN usando mecanismos de auto-atención, o _self attention_.\n",
        "\n",
        "La idea detrás de la auto-atención es que cada elemento en la secuencia de entrada puede afectar a cualquier otro elemento en la secuencia, lo permite aprender la dependencia entre los elementos.\n",
        "\n",
        "Si bien, los _Transformers_ nacieron como una alternativa para solucionar el problema de memoria sostenida, hoy en día han revolucionado el campo del NLP y se han convertido en la base para muchos modelos de vanguardia como BERT, GPT, T5, entre otros.\n",
        "\n",
        "<center><img src=\"https://drive.google.com/uc?export=view&id=17nSmlq0EkNTKD8UA2CZyYRmhYSiAQ0LB\" alt =\"Gráfico ilustrativo de la arquitectura de un Transformer\" width=\"33%\"></center>\n",
        "\n",
        "\n",
        "Esta arquitectura fue propuesta por **Ashish Vaswani**, en su publicación *_attention is all you need_*, la cual pueden consultar en el siguiente enlace : [**_Attention is all you need_**](https://arxiv.org/abs/1706.03762)\n",
        "\n",
        "\n",
        "* Al igual que todos los modelos de aprendizaje profundo, una buena parte de los modelos basados en _Transformers_ busca **aprender una buena representación de las entradas** (textos en este caso) dependiendo de cuál sea la tarea final.\n",
        "\n",
        "El mecanismo de auto-atención codifica no solo los caracteres y palabras de los textos, sino además **la posición** de estos en el texto, y de esta forma puede rastrear en qué parte del texto suceden cosas importantes e  identificar cuales necesitan más atención.\n",
        "\n"
      ]
    },
    {
      "cell_type": "markdown",
      "source": [
        "# **1. El funcionamiento de un _Transformer_**\n",
        "----\n",
        "\n",
        "Cuando se presentaron por primera vez los _Transformers_, se mostraron como un modelo de traducción de texto. Para esto, el modelo usa dos sub-estructuras:\n",
        "\n",
        "* Una primera parte llamada codificador o _encoder_.\n",
        "* Una segunda parte llamada decodificador o _decoder_.\n",
        "\n",
        "Si bien hablaremos más a profundidad sobre estas arquitecturas en la próxima unidad, podemos considerar unas ideas rápidas para orientarnos sobre cómo funcionan los _Transformers_.\n",
        "\n",
        "<center><img src=\"https://drive.google.com/uc?export=view&id=11a3mgpcKWLNYy2rwn0eBysMeQsqQPOGC\" alt =\"Gráfico ilustrativo de la arquitectura de un transformer de manera general\" width=\"32%\" /></center>"
      ],
      "metadata": {
        "id": "Xxw2awS0sffl"
      }
    },
    {
      "cell_type": "markdown",
      "metadata": {
        "id": "vRNaPzdsg-aP"
      },
      "source": [
        "## **Componentes**\n",
        "\n",
        "Un _Transformer_ puede verse como la unión de un codificador y un decodificador:\n",
        "\n",
        "\n",
        "*   **_Encoder_** (codificador): Como su nombre lo indica, esta sección del modelo se encarga de **convertir los datos de entrada** hacia una representación numérica. Esta codificación no es más que un aprendizaje de representación, que también sucede, aunque de forma muy diferente, en otros modelos como las redes neuronales convolucionales.\n",
        "\n",
        "*   **_Decoder_** (decodificador): Como su nombre lo indica, esta sección del modelo **toma la codificación que generó el _encoder_ y la transforma** dependiendo de cuál es la tarea objetivo. Por ejemplo, si el objetivo es hacer traducción, el _decoder_ transforma la codificación que el _encoder_ hizo, en una frase legible en el idioma objetivo.\n",
        "\n",
        "Si miramos más en detalle, cada sección contiene a su vez muchas estructuras que son modificables dependiendo de cada modelo y cada tarea específica:\n",
        "\n",
        "<center><img src=\"https://drive.google.com/uc?export=view&id=17nSmlq0EkNTKD8UA2CZyYRmhYSiAQ0LB\" alt =\"Gráfico ilustrativo de la arquitectura de un Transformer\" width=\"33%\"></center>\n",
        "\n",
        "*    _Multi-head attention_ o atención de múltiples cabezas: Es una técnica que permite al modelo centrarse en diferentes partes de la secuencia simultáneamente. Se compone de varias \"cabezas\" de atención que funcionan en paralelo, cada una de las cuales aprende diferentes patrones de atención. La atención se calcula utilizando tres conjuntos de vectores: consultas (queries), claves (keys) y valores (values), que se obtienen a partir de las representaciones de entrada.\n",
        "\n",
        "*    _Feed Forward_ o Redes neuronales de avance: Las redes neuronales de avance en cada capa del codificador y decodificador son responsables de aprender representaciones más abstractas y no lineales de la secuencia de entrada.\n",
        "\n",
        "*    _Positional Encoding_ o codificación posicional: Dado que la arquitectura _Transformer_ no tiene información implícita de la posición de las palabras en la secuencia, se utiliza un _encoding_ posicional para proporcionar información sobre la posición de las palabras en la secuencia. Esta información se suma a las representaciones de entrada antes de alimentarlas al codificador y decodificador.\n",
        "\n",
        "No toda tarea requiere de un _encoder_ y un _decoder_. Por ejemplo, si queremos hacer clasificación de texto, lo que necesitamos es usar la representación generada por el _encoder_ y usar eso como entrada a un perceptrón multicapa (o a un SVM, o a un árbol de decisión, etc). La tarea de generación de texto, en cambio, si requiere la capacidad generativa del _decoder_ para devolver un texto legible."
      ]
    },
    {
      "cell_type": "markdown",
      "source": [
        "## **_Pipeline_ de ejecución**\n",
        "\n",
        "Si bien los _Transformers_ permiten realizar varias tareas, no actúan solos. Al igual que otras arquitecturas, son parte de un _pipline_ de ejecución más grande, que incluye un proceso de tokenización y un post-procesamiento:\n",
        "\n",
        "<center><img src=\"https://drive.google.com/uc?export=view&id=1yaxcm5ceXkGuMZ5u6iQaZ0sGyYXGU3Pu\" alt =\"Gráfico ilustrativo de la pipeline de ejecución\" width=\"80%\" /></center>\n",
        "\n",
        "Para poder utilizar los modelos pre entrenados, debemos considerar entonces las otras etapas del _pipeline_ aparte del modelo porque también deben ser replicadas.\n",
        "* Al igual que hace con los diferentes modelos _Hugginface_, podemos descargarlas y utilizarlas de forma independiente.\n",
        "\n",
        "A continuación, vamos a ver cómo usarlas:"
      ],
      "metadata": {
        "id": "wsM68BTc5Rmd"
      }
    },
    {
      "cell_type": "markdown",
      "metadata": {
        "id": "5OPRcOl3ldWI"
      },
      "source": [
        "## **1.1 Tokenizers**\n",
        "----\n",
        "La **tokenización** es el proceso inicial de representación numérica del texto. Es una parte crucial del desarrollo modelos, pues sin esto resultaría imposible el procesamiento de la información. Existen diferentes métodos para tokenizar, por ejemplo:\n",
        "\n",
        "* **Tokenización basada en palabras**, asigna un token específico a cada palabra del texto, bien sea separándolo por espacios en blanco, o por signos de puntuación.\n",
        "\n",
        "<center><img src=\"https://drive.google.com/uc?export=view&id=1XUFHGKJj_4FhxvDsSUmrhgE0s-AvHD1P\" alt =\"Gráfico ilustrativo de la tokenización basada en palabras\" width=\"90%\" /></center>\n",
        "\n",
        "* **Tokenización basada en caracteres**, asigna un token específico a cada carácter.\n",
        "\n",
        "<center><img src=\"https://drive.google.com/uc?export=view&id=1xTGdCl-PG-J4W4h1sQ7mO0btF5dZvJOq\" alt =\"Gráfico ilustrativo de la tokenización basada en caracteres\" width=\"90%\" /></center>\n",
        "\n",
        "* **Tokenización basada en estructuras**, asigna un token específico a estructuras gramaticales, como por ejemplo prefijos o sufijos:\n",
        "\n",
        "<center><img src=\"https://drive.google.com/uc?export=view&id=1eew0wJpwPQohwd0XfB5Q1mBoK1yAFuSp\" alt =\"Gráfico ilustrativo de la tokenización basada en estructuras\" width=\"90%\" /></center>\n",
        "\n",
        "Veamos entonces cómo usar un `tokenizer` de _Hugginface_. La librería ofrece una amplia variedad de tokenizers que permiten:\n",
        "\n",
        "*   **Entrenar nuevos vocabularios y tokenizar**, usando los tokenizadores más usados hoy en día.\n",
        "*   **Hacer seguimiento**. Siempre es posible obtener la parte de la frase original que corresponde a cualquier token.\n",
        "*   **Realizar todo el preprocesamiento**: Operaciones de truncado, relleno, añadir los tokens especiales que necesite el modelo, etc.\n",
        "\n",
        "Cada tokenizer en sí mismo trabaja como un _pipeline_ de ejecución que incluye los siguientes pasos:\n",
        "\n",
        "*  El `Normalizer`: Se encarga de normalizar el texto, es decir, en convertir el texto en una forma más uniforme y estandarizada, convirtiendo mayúsculas en minúsculas, quitando signos de puntuación y caracteres especiales, convirtiendo las palabras a su lema o forma canónica (lematización), etc.\n",
        "*    El `PreTokenizer`: Se encarga de crear divisiones iniciales de palabras en el texto. La forma más común de dividir el texto es simplemente en los espacios en blanco.\n",
        "*    El `Model`: Se encarga de realizar la tokenización propiamente dicha.\n",
        "*    El `PostProcessor`: Se encarga de postprocesar la codificación para añadir cualquier cosa relevante que, por ejemplo, necesite un modelo lingüístico, como tokens especiales.\n",
        "\n",
        "\n"
      ]
    },
    {
      "cell_type": "markdown",
      "source": [
        "### **1.1.1 `AutoTokenizer`**\n",
        "---\n",
        "La función `AutoTokenizer` de la biblioteca `Transformers` es una herramienta que nos permite instanciar automáticamente un tokenizer específico para un modelo de lenguaje determinado.  A continuación, a manera ilustrativa vamos a usar la función `AutoTokenizer` para cargar un tokenizer usado en un modelo de análisis de sentimientos: [bert-base-multilingual-uncased-sentiment](https://huggingface.co/nlptown/bert-base-multilingual-uncased-sentiment). Lo cargamos usando la función `.from_pretrained()`, que acepta un argumento `pretrained_model_name_or_path`, que a su vez especifica el nombre o la ruta del modelo preentrenado para el que se quiere obtener el tokenizer."
      ],
      "metadata": {
        "id": "65UR9YDD13rG"
      }
    },
    {
      "cell_type": "code",
      "source": [
        "from transformers import AutoTokenizer\n",
        "\n",
        "checkpoint = \"nlptown/bert-base-multilingual-uncased-sentiment\"\n",
        "tokenizer = AutoTokenizer.from_pretrained(pretrained_model_name_or_path=checkpoint)"
      ],
      "metadata": {
        "id": "I5u--YZ_LvdN"
      },
      "execution_count": null,
      "outputs": []
    },
    {
      "cell_type": "markdown",
      "source": [
        "Una vez cargado nuestro `tokenizer`, podemos usarlo para tokenizar un texto **secuencia**, por ejemplo: `\"Usar redes neuronales es muy divertido\"`:"
      ],
      "metadata": {
        "id": "gvLUOyfFLyz1"
      }
    },
    {
      "cell_type": "code",
      "source": [
        "print(tokenizer(\"Usar redes neuronales es muy divertido\"))\n",
        "print(type(tokenizer(\"Usar redes neuronales es muy divertido\")))"
      ],
      "metadata": {
        "id": "D-zsAFSGFDNh"
      },
      "execution_count": null,
      "outputs": []
    },
    {
      "cell_type": "markdown",
      "source": [
        "Lo que vemos es que `tokenizer` devuelve un objeto tipo `transformers.tokenization_utils_base.BatchEncoding`, parecido a un diccionario con tres llaves :\n",
        "\n",
        "*   `input_ids`: Una lista de enteros con los índices del token correspondiente a cada elemento de la secuencia de entrada.\n",
        "*   `token_type_ids`: Una lista de enteros que indican a cuál secuencia pertenece el token. Como en este ejemplo solo hay una secuencia, entonces solo hay un índice `0` para todos.\n",
        "*   `attention_mask`: La máscara de atención es un tensor binario que indica la posición de los índices de relleno para que el modelo no les preste atención. 1 indica un valor que debe ser atendido, mientras que 0 indica un valor de relleno.\n",
        "\n",
        "### **1.1.2 Parámetros**\n",
        "---\n",
        "\n",
        "Al igual que en los procesos de preprocesamiento de imágenes, en aplicaciones de texto debemos estandarizar algunos parámetros como, por ejemplo, la longitud de las secuencia de entrada del modelo.\n",
        "\n",
        "Digamos que nuestros datos se componen de textos que pueden tener una longitud máxima de 10 tokens, es decir, que cada texto se representa por medio de un vector de 10 dimensiones y que por tanto el tamaño de entrada del modelo es de 10. ¿Qué pasa si un texto se compone de menos de 10 tokens? Por ejemplo: `Deep Learning` tiene solo dos palabras, y su representación usaría dos tokens. En este caso hay que \"rellenar\" la secuencia. En esta operación de relleno, o _padding_, se agrega un token especial al final de la secuencia hasta que se alcance la longitud máxima deseada. El token de _padding_ puede ser diferente dependiendo del modelo de lenguaje y del tokenizer utilizado, pero generalmente es el mismo token que se utiliza para indicar el final de una secuencia (en BERT, por ejemplo, se llama `[SEP]`).\n",
        "\n",
        "Estos parámetros los podemos controlar con la función `tokenizer`. Los argumentos que acepta esta función dependen del tokenizer que se esté utilizando, pero en general, estos son algunos de los argumentos más comunes que se utilizan:\n",
        "\n",
        "* `text`: La secuencia de texto sin procesar que se desea tokenizar.\n",
        "* `add_special_tokens`: Un valor booleano que indica si se deben agregar tokens especiales al principio y al final de la secuencia de tokens resultante. Estos tokens especiales se utilizan en algunos modelos de lenguaje para indicar el inicio y el final de la secuencia, y para separar varias secuencias cuando se procesan en lotes.\n",
        "* `max_length`: La longitud máxima deseada para la secuencia de tokens resultante después de agregar padding y/o truncar la secuencia. Si no se especifica un valor para `max_length`, no se aplicará padding ni truncamiento a la secuencia.\n",
        "* `padding`: Un valor booleano o una cadena que indica si se debe aplicar padding a la secuencia de tokens. Si se especifica un valor booleano, se aplicará padding al final de la secuencia hasta que alcance la longitud máxima especificada. Si se especifica una cadena, el valor puede ser `longest`, `max_length`, o `do_not_pad`, para indicar cómo se debe aplicar el padding.\n",
        "* `truncation`: Un valor booleano que indica si se debe truncar la secuencia de tokens si es más larga que la longitud máxima especificada. Si se establece en `True`, se truncará la secuencia al final para que tenga la longitud máxima especificada. Si se establece en `False`, se devolverá la secuencia completa sin truncamiento.\n",
        "* `return_tensors`: Un valor de cadena que indica el formato en que se deben devolver los tokens. Puede ser `pt` para devolver un tensor de _PyTorch_, `tf` para devolver un tensor de _TensorFlow_, o `np` para devolver una matriz NumPy. Si no se especifica un valor para return_tensors, se devolverán los tokens como una lista de Python.\n",
        "\n",
        "Es importante tener en cuenta que no todos los argumentos están disponibles para todos los tokenizers. Además, algunos tokenizers pueden tener argumentos adicionales que no se mencionan aquí. Por lo tanto, siempre es recomendable consultar la documentación oficial del tokenizer que se esté utilizando para obtener una lista completa de los argumentos y su descripción.\n"
      ],
      "metadata": {
        "id": "1QtPq3WVMNy_"
      }
    },
    {
      "cell_type": "markdown",
      "source": [
        "### **1.1.3 Métodos**\n",
        "---\n",
        "\n",
        "Los _tokenizers_ tienen varios métodos útiles que se pueden utilizar para realizar diferentes tareas:\n",
        "\n",
        "* `tokenizer.tokenize(texto)`: Este método toma un texto sin procesar como entrada y devuelve una lista de tokens. Por ejemplo, si usamos el tokenizer de BERT para tokenizar la oración `Hello, how are you?`, obtendrás los tokens `[\"hello\", \",\", \"how\", \"are\", \"you\", \"?\"]`.\n",
        "\n",
        "* `tokenizer.encode(texto, add_special_tokens=True)`: Este método toma un texto sin procesar como entrada y devuelve una lista de códigos de token. Cada código de token corresponde a un token en el vocabulario del modelo. Si se establece el parámetro add_special_tokens en `True`, se agregan los tokens especiales necesarios para que el modelo procese correctamente la entrada (en BERT, serían el token `[CLS]` para el inicio de la secuencia y `[SEP]` para separar varias secuencias).\n",
        "\n",
        "* `tokenizer.decode(codigos)`: Este método toma una lista de códigos de token como entrada y devuelve una cadena de texto que representa la secuencia de tokens correspondiente. Si los códigos de token provienen de un modelo que agrega tokens especiales, como BERT, los tokens especiales se eliminan automáticamente de la cadena de salida.\n",
        "\n",
        "* `tokenizer.encode_plus(texto, text_pair=None, ... )`: Este método toma una secuencia de texto (y una secuencia de texto adicional, si es necesario) y devuelve una diccionario que contiene los tokens codificados, las máscaras de atención y otros elementos necesarios para la entrada de un modelo de lenguaje.\n",
        "\n",
        "* `tokenizer.convert_tokens_to_ids(tokens)`: Este método toma una lista de tokens como entrada y devuelve una lista de códigos de token que corresponden a cada token en la lista de entrada.\n",
        "\n",
        "Veamos algunos ejemplos. Podemos obtener los tokens de un texto:"
      ],
      "metadata": {
        "id": "cUYYETpi28tH"
      }
    },
    {
      "cell_type": "code",
      "execution_count": null,
      "metadata": {
        "id": "s_GnjMNpo4a2"
      },
      "outputs": [],
      "source": [
        "tokens = tokenizer.tokenize(\"Usar redes neuronales es muy divertido\")\n",
        "\n",
        "print(tokens)"
      ]
    },
    {
      "cell_type": "markdown",
      "source": [
        "Podemos ver solo los índices de los tokens con la función:"
      ],
      "metadata": {
        "id": "VqKU5n8VOVTm"
      }
    },
    {
      "cell_type": "code",
      "execution_count": null,
      "metadata": {
        "id": "56HJj-lLpA9j"
      },
      "outputs": [],
      "source": [
        "ids = tokenizer.convert_tokens_to_ids(tokens)\n",
        "\n",
        "print(ids)"
      ]
    },
    {
      "cell_type": "markdown",
      "source": [
        "O podemos retornar las palabras correspondientes a una lista de índices:"
      ],
      "metadata": {
        "id": "D9TlKk2JOgX2"
      }
    },
    {
      "cell_type": "code",
      "execution_count": null,
      "metadata": {
        "id": "shGTMy2TpE1I"
      },
      "outputs": [],
      "source": [
        "decoded_string = tokenizer.decode([26859, 42962, 13468, 38481, 11300, 10153, 13653, 78000, 26538, 10351])\n",
        "print(decoded_string)"
      ]
    },
    {
      "cell_type": "markdown",
      "source": [
        "Ahora veamos el efecto de cambiar ciertos parámetros. Definiremos un texto de ejemplo con 10 palabras. Luego, especificamos que queremos una longitud máxima de 20 tokens utilizando el argumento `max_length`.\n",
        "\n",
        "Para asegurarnos de que la secuencia resultante tenga una longitud de 20, especificamos `padding='max_length'`. Además, para asegurarnos de que la secuencia de entrada se trunque si es más larga que 20 tokens, establecemos `truncation=True`. También especificamos que queremos que se devuelvan las máscaras de atención de la entrada utilizando el argumento `return_attention_mask=True`.\n",
        "\n",
        "Finalmente, utilizamos el argumento return_tensors=\"np\" para especificar que queremos que los resultados se devuelvan como arrays de Numpy."
      ],
      "metadata": {
        "id": "EOdejNOyGnnZ"
      }
    },
    {
      "cell_type": "code",
      "source": [
        "text = \"Este es un texto de ejemplo con 10 palabras.\"\n",
        "max_length = 20\n",
        "\n",
        "# Tokenizar y agregar padding\n",
        "tokenizer.encode_plus(\n",
        "    text,\n",
        "    max_length=max_length,\n",
        "    padding='max_length',\n",
        "    truncation=True,\n",
        "    return_attention_mask=True,\n",
        "    return_tensors=\"np\"\n",
        ")"
      ],
      "metadata": {
        "id": "cuhe-URgGelJ"
      },
      "execution_count": null,
      "outputs": []
    },
    {
      "cell_type": "markdown",
      "source": [
        "Note que el tokenizador rellenó con `0` los índices de los tokens de lleneno, y que en  `attention_mask` estos tokens están indicados también con el número `0`."
      ],
      "metadata": {
        "id": "1YBAAnyDHHaR"
      }
    },
    {
      "cell_type": "markdown",
      "metadata": {
        "id": "0Myl5_0EpPiT"
      },
      "source": [
        "## **1.2 Modelos**\n",
        "----\n",
        "Al igual que con los tokenizers, podemos llamar modelos de forma independiente. Hay muchas opciones de modelos pre-entrenados que se pueden consultar en el [Hub](https://huggingface.co/models) de modelos de _Hugginface_. No obstante, _Hugginface_ nos permite trabajar con modelos genéricos usando la clase `AutoModel`, que permite utilizar diferentes llamados que hacen alusión a la salida esperada de acuerdo con la tarea que deseamos resolver, por ejemplo :\n",
        "\n",
        "* ForCausalLM\n",
        "* ForMaskedLM\n",
        "* ForMultipleChoice\n",
        "* ForQuestionAnswering\n",
        "* ForSequenceClassification\n",
        "* ForTokenClassification\n",
        "\n",
        "De esta manera, al definir por ejemplo un modelo a partir de la clase\n",
        "`TFAutoModelForSequenceClassification`\n",
        "lo que obtenemos es un modelo genérico en _Tensorflow_ para clasificación que se inicializará después con ayuda del método `from_pretrained`.\n"
      ]
    },
    {
      "cell_type": "markdown",
      "source": [
        "### **1.2.1 Ejemplo: Análisis de sentimientos**\n",
        "---\n",
        "\n",
        "A continuación, usaremos un modelo pre-entrenado para hacer análisis de sentimientos en español, sobre el que puede consultar más detalles en https://huggingface.co/pysentimiento/robertuito-sentiment-analysis.\n",
        "\n",
        "El modelo ha sido entrenado con un corpus de alrededor de 5000 tweets, y predice tres etiquetas posibles:  NEGATIVO, NEUTRO y POSITIVO. El nombre del modelo es: `\"pysentimiento/robertuito-sentiment-analysis\"`. Esto nos sirve para definir tanto el modelo como el tokenizador:"
      ],
      "metadata": {
        "id": "dOHa-SBVI7-5"
      }
    },
    {
      "cell_type": "code",
      "execution_count": null,
      "metadata": {
        "id": "6pRjRm3Lqku0"
      },
      "outputs": [],
      "source": [
        "from transformers import TFAutoModelForSequenceClassification\n",
        "import numpy as np\n",
        "\n",
        "checkpoint = \"pysentimiento/robertuito-sentiment-analysis\"\n",
        "#Definimos el tokenizer\n",
        "tokenizer = AutoTokenizer.from_pretrained(checkpoint)\n",
        "#Definimos el modelo\n",
        "model = TFAutoModelForSequenceClassification.from_pretrained(checkpoint)"
      ]
    },
    {
      "cell_type": "markdown",
      "source": [
        "Con el modelo cargado, vamos a analizar el sentimiento de la secuencia siguiente :"
      ],
      "metadata": {
        "id": "cJyTJoiygzHo"
      }
    },
    {
      "cell_type": "code",
      "source": [
        "#Definimos una secuencia de ejemplo\n",
        "sequence = \"Usar redes neuronales es muy divertido\""
      ],
      "metadata": {
        "id": "5aLolgGqg142"
      },
      "execution_count": null,
      "outputs": []
    },
    {
      "cell_type": "markdown",
      "source": [
        "Codificamos la secuencia con el `tokenizer`, y nos quedamos solo con los `input_ids`. Note que en el `tokenizer` usamos el argumento `return_tensor`, que nos permite controlar el tipo de variable que retorna el `tokenizer`:"
      ],
      "metadata": {
        "id": "mpJB9Nbrg5VR"
      }
    },
    {
      "cell_type": "code",
      "execution_count": null,
      "metadata": {
        "id": "ke6azzLGsIOz"
      },
      "outputs": [],
      "source": [
        "#Codificamos la secuencia\n",
        "cod = tokenizer(sequence, return_tensors='tf')['input_ids']\n",
        "print(cod)"
      ]
    },
    {
      "cell_type": "markdown",
      "source": [
        "Y ahora podemos pasar la secuencia codificada al modelo para predecir a cuál sentimiento corresponde:"
      ],
      "metadata": {
        "id": "obNtQxAxInqJ"
      }
    },
    {
      "cell_type": "code",
      "source": [
        "output = model(cod)\n",
        "print(output)"
      ],
      "metadata": {
        "id": "JF_nb4xvIn5R"
      },
      "execution_count": null,
      "outputs": []
    },
    {
      "cell_type": "markdown",
      "source": [
        "La salida del modelo es `[[-3.1336043 ,  0.66872346,  3.285456  ]]`. Necesitamos entonces hacer un paso más para obtener una interpretación concreta:"
      ],
      "metadata": {
        "id": "MYy_wEUZI_rn"
      }
    },
    {
      "cell_type": "markdown",
      "metadata": {
        "id": "BwIcrmEh9vCD"
      },
      "source": [
        "## **1.3 Post-procesamiento**\n",
        "---\n",
        "De acuerdo con la salida esperada, generamos un postprocesamiento adecuado que nos permita entender la salida del modelo. `output.logits` nos retorna el tensor de las predicciones :\n",
        "\n"
      ]
    },
    {
      "cell_type": "code",
      "source": [
        "output.logits"
      ],
      "metadata": {
        "id": "B9eBWH_xlFOx"
      },
      "execution_count": null,
      "outputs": []
    },
    {
      "cell_type": "markdown",
      "source": [
        "Y debemos usar la función _softmax_ sobre la salida `output.logits`. Para esto podemos usar cualquier herramienta, por ejemplo `numpy` o `Tensorflow`. En este caso usamos `tf.math.softmax()`:"
      ],
      "metadata": {
        "id": "NdgOpouImNrk"
      }
    },
    {
      "cell_type": "code",
      "source": [
        "import tensorflow as tf\n",
        "\n",
        "print(tf.math.softmax(output.logits))"
      ],
      "metadata": {
        "id": "t-lHOVS4lZFu"
      },
      "execution_count": null,
      "outputs": []
    },
    {
      "cell_type": "markdown",
      "source": [
        "El resultado muestra la probabilidad de las tres clases 0:NEGATIVO, 1:NEUTRO, 2:POSITIVO. La clase 2 es la que obtiene una probabilidad más alta, De esta manera tenemos que el modelo está prediciendo que la secuencia tiene un sentimiento **POSITIVO**."
      ],
      "metadata": {
        "id": "VLONoaoKoj4N"
      }
    },
    {
      "cell_type": "markdown",
      "source": [
        "## **1.4 Pipelines**\n",
        "---\n",
        "\n",
        "Huggingface provee un mecanismo, llamado *pipelines* que permite automatizar los pasos de tokenización, aplicación del modelo y postprocesamiento. A continuación veremos un ejemplo del uso de un pipeline para la tarea de respuesta de preguntas, en Inglés *question answering*. Esto se lleva a cabo con la función `pipeline` la cual recibe el nombre de la tarea, el modelo y el tokenizer. El modelo que vamos a usar es un modelo pequeño basado en Bert afinado para la tarea de respuesta de preguntas en dominio cerrado. En esta tarea se da un contexto y una pregunta y el modelo retorna la respuesta que corresponde a una subcadena del contexto."
      ],
      "metadata": {
        "id": "hilGtn9eOlal"
      }
    },
    {
      "cell_type": "code",
      "source": [
        "from transformers import TFAutoModelForQuestionAnswering\n",
        "from transformers import pipeline\n",
        "\n",
        "checkpoint = \"Sebastian77/distilbert-base-uncased-finetuned-squad_es\"\n",
        "#Definimos el tokenizer\n",
        "tokenizer = AutoTokenizer.from_pretrained(checkpoint)\n",
        "#Definimos el modelo\n",
        "model = TFAutoModelForQuestionAnswering.from_pretrained(checkpoint)\n",
        "qa_pipeline = pipeline('question-answering',\n",
        "                            model = model,\n",
        "                            tokenizer = tokenizer)"
      ],
      "metadata": {
        "id": "-xPRR4IqKSFT"
      },
      "execution_count": null,
      "outputs": []
    },
    {
      "cell_type": "markdown",
      "source": [
        "A continuación usamos el pipeline para responder dos preguntas. La función `qa_pipeline` recibe tanto el contexto y la pregunta y retorna la respuesta indicando el score que le asigna a la respuesta y la posición dentro del contexto."
      ],
      "metadata": {
        "id": "4v4iG1_FPg7a"
      }
    },
    {
      "cell_type": "code",
      "source": [
        "#Especificamos el contexto\n",
        "context = '''\n",
        "Colombia, oficialmente República de Colombia, es un país soberano situado en la\n",
        "región noroccidental de América del Sur. Se constituye en un Estado unitario,\n",
        "social y democrático de derecho cuya forma de gobierno es presidencialista con\n",
        "dos cámaras legislativas. Su capital y ciudad más poblada es Bogotá.​ Es una\n",
        "república organizada políticamente en treinta y dos departamentos\n",
        "descentralizados y el Distrito Capital de Bogotá,13​ sede del Gobierno nacional.\n",
        "'''\n",
        "question1 = \"Cuál es la capital de Colombia?\"\n",
        "question2 = \"Dónde está situado Colombia?\"\n",
        "print(qa_pipeline(context=context, question=question1))\n",
        "print(qa_pipeline(context=context, question=question2))"
      ],
      "metadata": {
        "id": "GhRkoBmbK_C4"
      },
      "execution_count": null,
      "outputs": []
    },
    {
      "cell_type": "markdown",
      "metadata": {
        "id": "mvsj_MgoQr98"
      },
      "source": [
        "# **2. _Fine Tuning_ con BERT**\n",
        "----\n",
        "\n",
        "Al igual que con los modelos pre-entrenados de redes neuronales convolucionales para detección de objetos en imágenes, con los modelos de _Transformers_ podemos hacer un ajuste fino o _Fine-tuning_ usando un dataset particular para alguna tarea más específica. El principio de cómo funciona, y los pasos a seguir, son exactamente iguales a lo que se hacen con las CNN's:\n",
        "\n",
        "1.   Se carga un modelo base originalmente pre-entrenado para una tarea general.\n",
        "2.   Si es necesario, sobre el modelo base se añaden capas de procesamiento específicas para la nueva tarea objetivo.\n",
        "3.   Se congelan los pesos del modelo base y se entrenan las capas añadidas usando el nuevo conjunto de datos durante unas cuantas _epochs_.\n",
        "4.   Se liberan todos los pesos del modelo y se sigue entrenando, usando un _learning rate_ pequeño.\n",
        "\n",
        "Veamos entonces cómo hacer esto con los modelos de la librería _Hugginface_.\n",
        "\n",
        "Primero, como ejemplo, vamos a cargar el conjunto de datos **CoLA**, usando el paquete `datasets`. Esta es una biblioteca de _Python_ desarrollada por _HuggingFace_ que ofrece:\n",
        "\n",
        "*    Amplia colección de conjuntos de datos: incluye una gran cantidad de conjuntos de datos populares para tareas de NLP, como clasificación de texto, resumen, traducción automática, respuesta a preguntas, análisis de sentimiento, etc. Algunos ejemplos de conjuntos de datos incluidos son SQuAD, GLUE, SuperGLUE, y WMT.\n",
        "\n",
        "*    Carga de datos eficiente: `datasets` utiliza Apache Arrow, un formato de datos en columna, para almacenar y cargar datos de manera eficiente en términos de tiempo y memoria. Esto permite trabajar con conjuntos de datos grandes sin preocuparse por el rendimiento.\n",
        "\n",
        "*     Procesamiento de datos: `datasets` proporciona funciones para aplicar fácilmente operaciones de preprocesamiento, como la tokenización, filtrado, muestreo, división y otros procesos necesarios antes de utilizar los datos en modelos de NLP.\n",
        "\n",
        "*     Interoperabilidad: `datasets` es compatible con diferentes bibliotecas de aprendizaje automático y NLP, como TensorFlow, PyTorch, y spaCy, lo que facilita la integración con diferentes flujos de trabajo y herramientas existentes.\n",
        "\n",
        "Llamamos a la función `load_datasets` y cargamos **CoLA**:\n",
        "\n"
      ]
    },
    {
      "cell_type": "code",
      "execution_count": null,
      "metadata": {
        "id": "YpIzjqVektZe"
      },
      "outputs": [],
      "source": [
        "from datasets import load_dataset\n",
        "\n",
        "dataset = load_dataset(\"glue\", \"cola\")\n",
        "dataset_train = dataset[\"train\"] # Cargamos la partición de prueba"
      ]
    },
    {
      "cell_type": "markdown",
      "metadata": {
        "id": "XEGvAESKoVaU"
      },
      "source": [
        "**CoLA**, o _Corpus of Linguistic Acceptability_ consta de 10657 frases de 23 publicaciones lingüísticas, anotadas por expertos en aceptabilidad (gramaticalidad) por sus autores originales. La versión pública contiene 9594 frases pertenecientes a los conjuntos de entrenamiento y validación, y excluye 1063 frases pertenecientes a un conjunto de prueba.\n",
        "\n",
        "Podemos dar un vistazo de los datasets usando el atributo `.data`:"
      ]
    },
    {
      "cell_type": "code",
      "execution_count": null,
      "metadata": {
        "id": "oAbySfCKmgGy"
      },
      "outputs": [],
      "source": [
        "dataset_train.data"
      ]
    },
    {
      "cell_type": "markdown",
      "source": [
        "La tarea entonces es de **clasificación binaria**. El modelo debe decidir si una oración es gramáticamente correcta o no. Ahora discutamos un poco sobre el modelo que vamos a usar."
      ],
      "metadata": {
        "id": "ulUREOytUpbp"
      }
    },
    {
      "cell_type": "markdown",
      "source": [
        "##  **Selección del modelo pre-entrenado**\n",
        "\n",
        "Si bien podemos usar `AutoModel` para definir nuestro modelo, también es bueno conocer más en detalle el panorama general de los modelos pre-entrenados que tenemos a disposición. Desde la presentación del _Transformer_ original (o _Vanilla Transformer_), que está pensado para tareas de traducción, han surgido variaciones y familias completas de modelos:\n",
        "\n",
        "<center><img src=\"https://drive.google.com/uc?export=view&id=14qol6GZRgGZ92xZBBMX0dQtSlqiAmapT\" alt =\"Attention heatmap\" width=\"70%\" /></center>\n",
        "\n",
        "Veamos algunos detalles :\n",
        "\n",
        "*   **BERT**: Pre-entrenado para NSP (_Next Sentence Prediction_) y MLM (_Masked Language Modeling_) y con aplicaciones en GLU (_General Language Understanding_), QA (_Question Answering_) y muchas otras más. La versión _Base_ del modelo tiene 110 millones de parámetros y la versión _Large_ 340 millones.\n",
        "*   **GPT**: Pre-entrenado para LM (_Language Modeling_) y con aplicaciones en generación de texto y muchas otras con el ajuste fino adecuado. El modelo tiene 117 millones de parámetros.\n",
        "*   **ViT**: Es una extensión de BERT pensada para hacer análisis de imagen basado en parches. Tiene 86 millones de parámetros.\n",
        "*   **TransformerXL**: Pre-entrenado para LM (_Language Modeling_) y con aplicaciones en tareas generales de lenguaje. Es un modelo con un mecanismo de atención que permite capturar relaciones en contextos más largos que el _Vanilla Transformer_. Tiene 151 millones de parámetros.\n",
        "\n",
        "Como el catálogo es tan extenso, no podemos ver aquí todos los detalles, pero [aquí](https://docs.google.com/spreadsheets/d/1ltyrAB6BL29cOv2fSpNQnnq2vbX8UrHl47d7FkIf6t4/edit#gid=0) puede encontrar una tabla mucho más completa.\n",
        "\n",
        "De nuevo, la escogencia del modelo para nuestra tarea va a ser el resultado de una negociación y un balance entre los requerimientos y limitaciones computacionales, la tarea específica y el conjunto de datos que tengamos disponible, y el desempeño que pretendamos obtener."
      ],
      "metadata": {
        "id": "zaufx18zLr3u"
      }
    },
    {
      "cell_type": "markdown",
      "source": [
        "### **BERT**\n",
        "----\n",
        "![Screenshot 2023-04-17 120540.png](data:image/png;base64,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)\n",
        "Para nuestro ejemplo a continuación vamos a usar **BERT** (Bidirectional Encoder Representations from Transformers). [BERT fue desarrollado por Google en 2018](https://arxiv.org/abs/1810.04805). El modelo es bidireccional, lo que significa que puede procesar y comprender el contexto de la oración en ambas direcciones: de izquierda a derecha y de derecha a izquierda.\n",
        "\n",
        "El modelo fue entrenado en un corpus de datos masivo utilizando una técnica de pre-entrenamiento llamada \"masked language modeling\" (MLM) y otra técnica llamada \"next sentence prediction\" (NSP).\n",
        "\n",
        "En la técnica de MLM, se oculta una parte de la oración y el modelo debe adivinar qué palabra faltante debe ir en ese espacio en blanco. Esto obliga al modelo a aprender a comprender el contexto y el significado de las palabras en una oración. En la técnica de NSP, se proporcionan dos oraciones al modelo, y el modelo debe determinar si la segunda oración sigue o no a la primera. Esto ayuda al modelo a aprender a comprender la relación entre dos oraciones y capturar el contexto más amplio del texto.\n",
        "\n",
        "BERT se entrenó en una variedad de conjuntos de datos masivos, incluidos los conjuntos de datos de Wikipedia y el libro de Google Books. En total los datos contenian más de 3.3 mil millones de palabras en inglés.\n",
        "\n",
        "\n"
      ],
      "metadata": {
        "id": "2k-Iy5uO1FzA"
      }
    },
    {
      "cell_type": "markdown",
      "source": [
        "## **2.1 Tokenización**\n",
        "---\n",
        "\n",
        "En su versión básica podemos cargar BERT con `\"bert-base-cased\"`. A continuación, cargamos un tokenizador con `AutoTokenizer` y tokenizamos los datos como matrices _NumPy_. Note que `dataset` tiene varios `keys`. Las oraciones con las que se entrena el modelo están en la key `sentence` y las etiquetas están en la key `label`.\n",
        "\n",
        "Las etiquetas ya son una lista de 0 y 1, así que podemos convertirlas directamente en una matriz _NumPy_ sin tokenización."
      ],
      "metadata": {
        "id": "mt81zwAPbbZu"
      }
    },
    {
      "cell_type": "code",
      "source": [
        "from transformers import AutoTokenizer\n",
        "\n",
        "tokenizer = AutoTokenizer.from_pretrained(\"bert-base-cased\")\n",
        "tokenized_data_train = tokenizer(dataset_train[\"sentence\"], return_tensors=\"np\", padding=True)\n",
        "\n",
        "labels_train = tf.keras.utils.to_categorical(np.array(dataset_train[\"label\"]))"
      ],
      "metadata": {
        "id": "ISB0Kbbm-Rie"
      },
      "execution_count": null,
      "outputs": []
    },
    {
      "cell_type": "markdown",
      "source": [
        "Note también que no definimos la longitud de secuencuia máxima. Para BERT, esta está definida por defecto en 512.\n",
        "\n",
        "Ahora, `tokenized_data_train` contiene los datos tokenizados con el `tokenizer`. Como vimos antes, estos datos se almacenan como un objeto de tipo `BatchEncoding`:"
      ],
      "metadata": {
        "id": "dML6hjRneNAT"
      }
    },
    {
      "cell_type": "code",
      "source": [
        "type(tokenized_data_train)"
      ],
      "metadata": {
        "id": "s5vQYXooeI_3"
      },
      "execution_count": null,
      "outputs": []
    },
    {
      "cell_type": "markdown",
      "source": [
        "El cual es un objeto muy parecido a un diccionario:"
      ],
      "metadata": {
        "id": "TGKGK6mxexcS"
      }
    },
    {
      "cell_type": "code",
      "source": [
        "print(tokenized_data_train)"
      ],
      "metadata": {
        "id": "IWvDpqXXeiqP"
      },
      "execution_count": null,
      "outputs": []
    },
    {
      "cell_type": "markdown",
      "source": [
        "### **Token `[CLS]`**\n",
        "---\n",
        "El token `[CLS]` (abreviatura de \"classification\") es un token especial que se agrega al comienzo de cada secuencia de entrada en BERT y se utiliza en el proceso de fine-tuning para clasificación de texto. Este token se utiliza para representar la oración completa y se procesa de manera especial por el modelo.\n",
        "\n",
        "Durante la fase de fine-tuning, el modelo de BERT utiliza la representación del token `[CLS]` para realizar la tarea de clasificación de texto. En particular, la salida del modelo de BERT se toma a partir de la representación del token `[CLS]` y se utiliza como entrada para un clasificador adicional que se entrena para la tarea específica de clasificación de texto.\n",
        "\n",
        "La representación del token `[CLS]` se entrena durante el proceso de pre-entrenamiento de BERT para capturar información semántica y sintáctica de la secuencia de entrada y se utiliza durante el fine-tuning para ayudar al modelo a producir una clasificación más precisa.\n",
        "\n",
        "![Screenshot 2023-04-17 121332.png](data:image/png;base64,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)\n",
        "\n",
        "Todo el proceso relacionado con el token `[CLS]` sucede de forma automática, así que en ningún momento vamos a ser muy explícitos en el código al respecto, pero es importante conocer estos detalles del modelo en caso de querer abordar aplicaciones más complejas."
      ],
      "metadata": {
        "id": "N86N0ap5K_5h"
      }
    },
    {
      "cell_type": "markdown",
      "metadata": {
        "id": "vI1qVSLAyrVY"
      },
      "source": [
        "## **2.2 Modelo**\n",
        "---\n",
        "Ahora cargamos y compilamos el modelo. Usamos `TFAutoModelForSequenceClassification` para ser explícitos con que vamos a trabajar con un modelo de _Tensorflow_."
      ]
    },
    {
      "cell_type": "code",
      "source": [
        "from transformers import TFAutoModelForSequenceClassification\n",
        "from tensorflow.keras.optimizers import Adam\n",
        "\n",
        "# Definimos y cargamos el modelo\n",
        "model = TFAutoModelForSequenceClassification.from_pretrained(\"bert-base-cased\")"
      ],
      "metadata": {
        "id": "nR7Wj4Lnwzq4"
      },
      "execution_count": null,
      "outputs": []
    },
    {
      "cell_type": "markdown",
      "source": [
        "Antes de seguir, veamos la arquitectura del modelo con `.summary()`:"
      ],
      "metadata": {
        "id": "Z1qscBXmXa5W"
      }
    },
    {
      "cell_type": "code",
      "source": [
        "model.summary()"
      ],
      "metadata": {
        "id": "FLN6y8I2iYuF"
      },
      "execution_count": null,
      "outputs": []
    },
    {
      "cell_type": "markdown",
      "source": [
        "Note que tenemos tres secciones:\n",
        "\n",
        "\n",
        "\n",
        "1.   El modelo BERT.\n",
        "2.   Una capa de _dropout_.\n",
        "3.   Una capa densa de neuronas.\n",
        "\n",
        "Es decir, este es un modelo que codifica las oraciones usando el modelo de BERT, y hace la clasificación final con una capa densa.\n",
        "\n",
        "Veamos en detalle la configuración de esta última capa densa: `model.layers` retorna las capas del modelo, y como nos interesa la última, usamos la indexación `[-1]`, y a esa capa le aplicamos `.get_config()`, función que retorna un diccionario con todas las especificaciones de la capa.\n",
        "\n",
        "\n"
      ],
      "metadata": {
        "id": "IkNpU-uCXj96"
      }
    },
    {
      "cell_type": "code",
      "source": [
        "model.layers[-1].get_config()"
      ],
      "metadata": {
        "id": "7jC_RSKUNOPf"
      },
      "execution_count": null,
      "outputs": []
    },
    {
      "cell_type": "markdown",
      "source": [
        "Podemos ver que es una capa de dos neuronas (`'units': 2`), que es justo lo que necesitamos para la clasificación binaria que vamos a hacer. Además, note que la activación es `linear`, es decir, la salida de las neuronas no se procesan por una función `softmax`.\n",
        "\n",
        "> **Nota:** si tuvieramos más de dos clases, usaríamos el argumento `num_labels`. Por ejemplo, para tres clases sería:\n",
        "```\n",
        "TFAutoModelForSequenceClassification.from_pretrained(\"bert-base-cased\", num_labels=3)\n",
        "```"
      ],
      "metadata": {
        "id": "nGHjlzaUYlp2"
      }
    },
    {
      "cell_type": "markdown",
      "source": [
        "## **2.3 Calentamiento**\n",
        "---\n",
        "Primero hacemos un calentamiento de la capa de clasificación. Congelamos el modelo BERT y compilamos el modelo definiendo `Adam` como optimizador. Como tenemos dos neuronas de salida, usamos `CategoricalCrossentropy`. Además usamos una tasa de aprendizaje de `5e-6`.\n",
        "\n",
        "> **Nota 1**: Recuerde que la escogencia de los hiperparámetros del modelo es algo que debe ser explorado cuidadosamente.\n",
        "\n",
        "> **Nota 2**: Como no hay una función `softmax` en la salida del modelo, debemos definir `from_logits=True` en la función de pérdida.\n"
      ],
      "metadata": {
        "id": "JFJWCMxexv06"
      }
    },
    {
      "cell_type": "code",
      "source": [
        "# Compilamos el modelo\n",
        "model.compile(optimizer=Adam(learning_rate=5e-6),\n",
        "              loss = tf.keras.losses.CategoricalCrossentropy(from_logits=True))\n",
        "\n",
        "# Congelamos las capas del modelo BERT\n",
        "for i in range(len(model.layers)-1):\n",
        "  model.layers[i].trainable = False\n",
        "\n",
        "model.summary()"
      ],
      "metadata": {
        "id": "-oTl5eeWWGQn"
      },
      "execution_count": null,
      "outputs": []
    },
    {
      "cell_type": "markdown",
      "source": [
        "Note que tenemos solo 1,538 parámetros para entrenar. Como vimos en la Unidad 2, con la función `.fit()` podemos definir usar una porción del conjunto de entrenamiento para validación, con el argumento `validation_split`, y también podemos definir un _Callback_ tipo `EarlyStopping` para detener el entrenamiento si después de ciertas _epochs_ la función de pérdida en validación no mejora.\n",
        "\n",
        "Note también que en `.fit()` convertimos los datos `tokenized_data_train` en un diccionario. _Keras_ reconoce objetos `dict` pero no el `BatchEncoding` devuelto por el `tokenizer`, a pesar de que `BatchEncoding` es una subclase de `dict`."
      ],
      "metadata": {
        "id": "9W2IFiBH2yTb"
      }
    },
    {
      "cell_type": "code",
      "source": [
        "model.get_compile_config()"
      ],
      "metadata": {
        "id": "aBnwpIOy4KlV"
      },
      "execution_count": null,
      "outputs": []
    },
    {
      "cell_type": "code",
      "source": [
        "#Definimos un callback\n",
        "stopping = tf.keras.callbacks.EarlyStopping(\n",
        "                monitor=\"val_loss\",\n",
        "                patience=5,\n",
        "                mode=\"min\",\n",
        "                restore_best_weights=True\n",
        "            )\n",
        "# Entrenamos\n",
        "history = model.fit(dict(tokenized_data_train),\n",
        "                    labels_train,\n",
        "                    epochs = 10,            # Entrenamos por pocas epochs\n",
        "                    batch_size=32,\n",
        "                    validation_split = 0.2, # Usamos el 20% del dataset como conjunto de validación\n",
        "                    callbacks=[stopping])"
      ],
      "metadata": {
        "id": "Qu7xvvBR2yZv"
      },
      "execution_count": null,
      "outputs": []
    },
    {
      "cell_type": "markdown",
      "source": [
        "Y siempre es bueno mirar las curvas de entrenamiento:"
      ],
      "metadata": {
        "id": "p7pe6nwCojOx"
      }
    },
    {
      "cell_type": "code",
      "source": [
        "import matplotlib.pyplot as plt\n",
        "\n",
        "plt.style.use(\"ggplot\")\n",
        "plt.plot(history.history[\"loss\"])\n",
        "plt.title(\"Train Loss\")\n",
        "plt.xlabel(\"Epoch\")\n",
        "plt.ylabel(\"Loss\")\n",
        "plt.show()\n",
        "plt.style.use(\"ggplot\")\n",
        "plt.plot(history.history[\"val_loss\"])\n",
        "plt.title(\"Val Loss\")\n",
        "plt.xlabel(\"Epoch\")\n",
        "plt.ylabel(\"Loss\")\n",
        "plt.show()"
      ],
      "metadata": {
        "id": "_TmfX1f7drpS"
      },
      "execution_count": null,
      "outputs": []
    },
    {
      "cell_type": "markdown",
      "source": [
        "## **2.4 Ajuste Fino**\n",
        "---\n",
        "Ahora vamos a entrenar todo el modelo ajustándolo un poco más a partir de los pesos obtenidos con el calentamiento. Volvemos entrenables las capas que estaban congeladas:\n"
      ],
      "metadata": {
        "id": "VR17iSuZWJsz"
      }
    },
    {
      "cell_type": "code",
      "source": [
        "for i in range(len(model.layers)-1):\n",
        "  model.layers[i].trainable = True"
      ],
      "metadata": {
        "id": "3CQzcROF33ZF"
      },
      "execution_count": null,
      "outputs": []
    },
    {
      "cell_type": "markdown",
      "source": [
        "Y compilamos de nuevo usando esta vez una tasa de aprendizaje mucho más baja (`1e-9`):"
      ],
      "metadata": {
        "id": "zXu4RGfp339t"
      }
    },
    {
      "cell_type": "code",
      "source": [
        "model.compile(optimizer=Adam(learning_rate=1e-7),\n",
        "              loss = tf.keras.losses.CategoricalCrossentropy(from_logits=True))\n",
        "\n",
        "model.summary()"
      ],
      "metadata": {
        "id": "aKJl--nw4G0S"
      },
      "execution_count": null,
      "outputs": []
    },
    {
      "cell_type": "markdown",
      "source": [
        "En este momento tenemos 108'311.810 parámetros para entrenar. Como todo el tiempo hemos manipulado el mismo modelo `model`, no necesitamos guardar los pesos del calentamiento y volverlos a cargar; de eso se ha encargado `tf.keras.callbacks.EarlyStopping` ya que definimos `restore_best_weights=True`. A continuación de nuevo usamos un `EarlyStopping` y entrenamos con la función `fit()`:"
      ],
      "metadata": {
        "id": "CT3e1D8K4NEC"
      }
    },
    {
      "cell_type": "code",
      "execution_count": null,
      "metadata": {
        "id": "wAy3lDhCxzmM"
      },
      "outputs": [],
      "source": [
        "#Definimos un callback\n",
        "stopping = tf.keras.callbacks.EarlyStopping(\n",
        "                monitor=\"val_loss\",\n",
        "                patience=5,\n",
        "                mode=\"min\",\n",
        "                restore_best_weights=True\n",
        "            )\n",
        "# Entrenamos\n",
        "history = model.fit(dict(tokenized_data_train),\n",
        "                    labels_train,\n",
        "                    epochs = 50,\n",
        "                    batch_size=32,\n",
        "                    validation_split = 0.2, # Usamos el 20% del dataset como conjunto de validación\n",
        "                    callbacks=[stopping])"
      ]
    },
    {
      "cell_type": "markdown",
      "metadata": {
        "id": "4fQOHaEi0aNq"
      },
      "source": [
        "## **2.5 Evaluación**\n",
        "---\n",
        "Una vez entrenado el modelo, evaluamos los resultados en el conjunto de prueba, teniendo cuidado de usar el mismo `tokenizer` que se usó para los datos de entrenamiento :"
      ]
    },
    {
      "cell_type": "code",
      "source": [
        "dataset_test = dataset[\"validation\"] # Cargamos la partición de desarrollo\n",
        "\n",
        "tokenized_data_test = tokenizer(dataset_test[\"sentence\"], return_tensors=\"np\", padding=True)\n",
        "labels_test = np.array(dataset_test[\"label\"])"
      ],
      "metadata": {
        "id": "kyk7Ya_foaCI"
      },
      "execution_count": null,
      "outputs": []
    },
    {
      "cell_type": "markdown",
      "source": [
        "Usamos `.predict` para hacer inferencia :"
      ],
      "metadata": {
        "id": "NWmxZzfTs4wl"
      }
    },
    {
      "cell_type": "code",
      "execution_count": null,
      "metadata": {
        "id": "29yJIsPD0ewL"
      },
      "outputs": [],
      "source": [
        "predictions = model.predict(dict(tokenized_data_test))"
      ]
    },
    {
      "cell_type": "markdown",
      "source": [
        "Y recordemos que estas predicciones necesitan ser post-procesadas por una función _softmax_ :"
      ],
      "metadata": {
        "id": "So0OvJ6ws9uO"
      }
    },
    {
      "cell_type": "code",
      "source": [
        "predictions = tf.math.softmax(predictions.logits)"
      ],
      "metadata": {
        "id": "InpAeffPpUgV"
      },
      "execution_count": null,
      "outputs": []
    },
    {
      "cell_type": "markdown",
      "source": [
        "Ya con esto, podemos usar cualquier métrica para medir el desempeño:"
      ],
      "metadata": {
        "id": "_DCDQEz0xUb1"
      }
    },
    {
      "cell_type": "code",
      "source": [
        "from sklearn.metrics import *\n",
        "\n",
        "print(classification_report(labels_test, np.argmax(predictions, axis=-1)))"
      ],
      "metadata": {
        "id": "0NLllUwPw-hh"
      },
      "execution_count": null,
      "outputs": []
    },
    {
      "cell_type": "markdown",
      "source": [
        "¡Buen trabajo!"
      ],
      "metadata": {
        "id": "3dPwoNaIq3Yu"
      }
    },
    {
      "cell_type": "markdown",
      "source": [
        "# **Referencias**\n",
        "---\n",
        "* [_Attention is All you need_](https://arxiv.org/abs/1706.03762)\n",
        "* [*Hugging Face*](https://huggingface.co/)\n",
        "* [*Fine-tune a pretrained model*](https://huggingface.co/docs/transformers/training)\n",
        "* [*Modelo transformador para la comprensión del lenguaje*](https://www.tensorflow.org/text/tutorials/transformer)\n",
        "* [*TensorFlow and Transformers*](https://towardsdatascience.com/tensorflow-and-transformers-df6fceaf57cc)\n",
        "\n",
        "* _Origen de los íconos_\n",
        "\n",
        "    - [BERT: Pre-training of Deep Bidirectional Transformers for Language Understanding](https://arxiv.org/abs/1810.04805)\n",
        "    - Platen,P. (2022, 5 abril). Transformers Design Philosophy [Imagen] https://huggingface.co/blog/assets/59_transformers_philosophy/transformers.png\n",
        "    - Tunstall,L. (2022, 23 noviembre).\n",
        "Huggingface-course: Documentation-images - Transformers [Imagen] https://huggingface.co/datasets/huggingface-course/documentation-images/blob/main/en/chapter1/transformers.svg\n",
        "    - Davaadorj,M. (2022, 19 marzo).\n",
        "Huggingface-course: Documentation-images - Transformers Blocks [Imagen] https://huggingface.co/datasets/huggingface-course/documentation-images/blob/main/en/chapter1/transformers_blocks.svg\n",
        "    - Davaadorj,M. (2022, 19 marzo).\n",
        "Huggingface-course: Documentation-images - Full Nlp Pipeline [Imagen] https://huggingface.co/datasets/huggingface-course/documentation-images/blob/main/en/chapter2/full_nlp_pipeline.svg\n",
        "    - Davaadorj,M. (2022, 19 marzo).\n",
        "Huggingface-course: Documentation-images - Word Based Tokenization [Imagen] https://huggingface.co/datasets/huggingface-course/documentation-images/blob/main/en/chapter2/word_based_tokenization.svg\n",
        "    - Davaadorj,M. (2022, 19 marzo).\n",
        "Huggingface-course: Documentation-images - Character Based Tokenization [Imagen] https://huggingface.co/datasets/huggingface-course/documentation-images/blob/main/en/chapter2/character_based_tokenization.svg\n",
        "    - Davaadorj,M. (2022, 19 marzo).\n",
        "Huggingface-course: Documentation-images - Bpe Subword [Imagen] https://huggingface.co/datasets/huggingface-course/documentation-images/blob/main/en/chapter2/bpe_subword.svg\n"
      ],
      "metadata": {
        "id": "EfGnL_Rz3afe"
      }
    },
    {
      "cell_type": "markdown",
      "source": [
        "# **Créditos**\n",
        "---\n",
        "\n",
        "* **Profesor:** [Fabio Augusto Gonzalez](https://dis.unal.edu.co/~fgonza/)\n",
        "* **Asistentes docentes :**\n",
        "  * [Santiago Toledo Cortés](https://sites.google.com/unal.edu.co/santiagotoledo-cortes/)\n",
        "* **Diseño de imágenes:**\n",
        "    - [Mario Andres Rodriguez Triana](https://www.linkedin.com/in/mario-andres-rodriguez-triana-394806145/).\n",
        "* **Coordinador de virtualización:**\n",
        "    - [Edder Hernández Forero](https://www.linkedin.com/in/edder-hernandez-forero-28aa8b207/).\n",
        "\n",
        "**Universidad Nacional de Colombia** - *Facultad de Ingeniería*"
      ],
      "metadata": {
        "id": "ssVJdhSct0Ki"
      }
    }
  ],
  "metadata": {
    "accelerator": "GPU",
    "colab": {
      "provenance": [],
      "private_outputs": true,
      "gpuType": "T4",
      "toc_visible": true,
      "include_colab_link": true
    },
    "kernelspec": {
      "display_name": "Python 3",
      "name": "python3"
    },
    "language_info": {
      "name": "python"
    }
  },
  "nbformat": 4,
  "nbformat_minor": 0
}