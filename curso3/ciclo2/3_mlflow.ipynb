{
  "cells": [
    {
      "cell_type": "markdown",
      "metadata": {
        "id": "view-in-github",
        "colab_type": "text"
      },
      "source": [
        "<a href=\"https://colab.research.google.com/github/nferrucho/NPL/blob/main/curso3/ciclo2/3_mlflow.ipynb\" target=\"_parent\"><img src=\"https://colab.research.google.com/assets/colab-badge.svg\" alt=\"Open In Colab\"/></a>"
      ]
    },
    {
      "cell_type": "markdown",
      "id": "5c54c36d",
      "metadata": {
        "id": "5c54c36d"
      },
      "source": [
        "<img src=\"https://drive.google.com/uc?export=view&id=10mKgunAZowpvpttdYdjoDeCM2RSMGXer\" width=\"100%\">"
      ]
    },
    {
      "cell_type": "code",
      "source": [],
      "metadata": {
        "id": "I0v1jUy33s7Q"
      },
      "id": "I0v1jUy33s7Q",
      "execution_count": null,
      "outputs": []
    },
    {
      "cell_type": "markdown",
      "id": "6dae7d3d",
      "metadata": {
        "id": "6dae7d3d"
      },
      "source": [
        "# Versionamiento de Modelos y Experimentos\n",
        "---\n",
        "\n",
        "En este notebook daremos una introducción práctica al versionamiento de modelos y al registro de experimentos con la herramienta `mlflow`, para ello, debemos instalarla en el entorno de Google Colaboratory. Recuerde que se trata de un sistema basado en el sistema operativo Linux, más específicamente la distribución Ubuntu:"
      ]
    },
    {
      "cell_type": "code",
      "execution_count": null,
      "id": "391c9581",
      "metadata": {
        "id": "391c9581"
      },
      "outputs": [],
      "source": [
        "!cat /etc/os-release"
      ]
    },
    {
      "cell_type": "markdown",
      "id": "da0c3be8",
      "metadata": {
        "id": "da0c3be8"
      },
      "source": [
        "Podemos instalar `mlflow` con el siguiente comando:"
      ]
    },
    {
      "cell_type": "code",
      "execution_count": null,
      "id": "4da10615",
      "metadata": {
        "id": "4da10615"
      },
      "outputs": [],
      "source": [
        "!pip install mlflow"
      ]
    },
    {
      "cell_type": "markdown",
      "id": "d058a696",
      "metadata": {
        "id": "d058a696"
      },
      "source": [
        "Adicionalmente, instalaremos algunas herramientas auxiliares:"
      ]
    },
    {
      "cell_type": "code",
      "execution_count": null,
      "id": "c07f7a26",
      "metadata": {
        "id": "c07f7a26"
      },
      "outputs": [],
      "source": [
        "!apt install tree"
      ]
    },
    {
      "cell_type": "markdown",
      "id": "7bdd6313",
      "metadata": {
        "id": "7bdd6313"
      },
      "source": [
        "Validamos que la herramienta se encuentra instalada:"
      ]
    },
    {
      "cell_type": "code",
      "execution_count": null,
      "id": "34ad14e3",
      "metadata": {
        "id": "34ad14e3"
      },
      "outputs": [],
      "source": [
        "!mlflow --version"
      ]
    },
    {
      "cell_type": "markdown",
      "id": "f179eef3",
      "metadata": {
        "id": "f179eef3"
      },
      "source": [
        "Finalmente, importamos las librerías necesarias:"
      ]
    },
    {
      "cell_type": "code",
      "execution_count": null,
      "id": "b4c86876",
      "metadata": {
        "id": "b4c86876"
      },
      "outputs": [],
      "source": [
        "import os\n",
        "import mlflow\n",
        "import matplotlib.pyplot as plt\n",
        "from IPython import get_ipython\n",
        "from IPython.display import display"
      ]
    },
    {
      "cell_type": "markdown",
      "id": "14bb6bee",
      "metadata": {
        "id": "14bb6bee"
      },
      "source": [
        "## **1. Versionamiento de Modelos y Seguimiento de Experimentos**\n",
        "---\n",
        "\n",
        "El versionamiento de modelos de aprendizaje automático (machine learning) es el proceso de llevar un registro de los diferentes modelos creados y utilizados en un proyecto de aprendizaje automático. Esto permite revertir a versiones anteriores del modelo, si es necesario, comparar diferentes versiones del modelo para ver cuál es el mejor y replicar los resultados obtenidos con una versión específica del modelo.\n",
        "\n",
        "El seguimiento de experimentos es el proceso de registrar y rastrear los diferentes experimentos realizados en un proyecto de aprendizaje automático. Esto incluye registrar los parámetros y configuraciones utilizadas en cada experimento, así como los resultados obtenidos. El seguimiento de experimentos permite comparar diferentes experimentos y ver cómo los cambios en los parámetros y configuraciones afectan a los resultados del modelo.\n",
        "\n",
        "Ambos, el versionamiento de modelos y el seguimiento de experimentos son fundamentales para el desarrollo de proyectos de aprendizaje automático, ya que permiten comprender mejor cómo funciona un modelo, comparar diferentes versiones y experimentos y replicar los resultados obtenidos.\n",
        "\n",
        "Existen distintas herramientas que permiten realizar este tipo de operaciones como `dvc`, `kubeflow`, `wandb` y `mlflow`, siendo esta última la más popular para estructuración de proyectos de machine learning y seguimiento de experimentos."
      ]
    },
    {
      "cell_type": "markdown",
      "id": "30aa82d8",
      "metadata": {
        "id": "30aa82d8"
      },
      "source": [
        "## **2. MLFlow**\n",
        "---\n",
        "\n",
        "MLFlow es una plataforma open-source para la gestión de proyectos de aprendizaje automático (machine learning). Proporciona un conjunto de herramientas para facilitar el desarrollo, el seguimiento y la implementación de proyectos de aprendizaje automático.\n",
        "\n",
        "<center><img src=\"https://drive.google.com/uc?export=view&id=1HC7J56QY5xZgp-8hbcscZyRFrF9Te2z6\" width=\"50%\"></center>\n",
        "\n",
        "Algunas de las funciones principales de MLflow incluyen:\n",
        "\n",
        "- **Seguimiento de experimentos**: MLFlow permite rastrear los experimentos realizados en un proyecto de aprendizaje automático, registrando los parámetros y configuraciones utilizadas, así como los resultados obtenidos.\n",
        "- **Administración de modelos**: MLFlow permite almacenar, rastrear y desplegar modelos de aprendizaje automático.\n",
        "- **Integración con diferentes herramientas y bibliotecas**: MLFlow es compatible con una variedad de herramientas y bibliotecas de aprendizaje automático populares, como TensorFlow, Keras, PyTorch, scikit-learn, entre otras.\n",
        "- **Interfaz de línea de comandos y API**: MLFlow ofrece una interfaz de línea de comandos y una API en distintos lenguajes de programación para interactuar con la plataforma.\n",
        "\n",
        "Con MLFlow podemos estructurar proyectos de machine learning sin importar la librería o el lenguaje de programación con los que fue desarrollado un modelo. Normalmente, `mlflow` cuenta con un servidor de seguimiento que se encarga de gestionar los modelos, versiones, metadatos y demás, para que equipos de científicos de datos e ingenieros de machine learning puedan fácilmente entrenar y desplegar modelos:\n",
        "\n",
        "<img src=\"https://drive.google.com/uc?export=view&id=184t9zpdMmNj-TVJ7CfxAM8n4jSU8UtmK\" width=\"80%\">\n",
        "\n",
        "MLFlow nos permite trabajar de distintas formas, incluyendo:\n",
        "\n",
        "- Archivos locales.\n",
        "- Archivos locales junto con una base de datos local en SQL.\n",
        "- Servidor remoto de seguimiento, con una base de datos SQL y un backend de ejecución.\n",
        "\n",
        "En este caso, trabajaremos con un almacenamiento local y una base de datos de sqlite por la simplicidad de configuración para un ambiente de desarrollo de Google Colab.\n",
        "\n",
        "Comenzamos creando una carpeta donde se guardarán todos los datos de MLFLow:"
      ]
    },
    {
      "cell_type": "code",
      "execution_count": null,
      "id": "d0ce696f",
      "metadata": {
        "id": "d0ce696f"
      },
      "outputs": [],
      "source": [
        "!mkdir mlruns"
      ]
    },
    {
      "cell_type": "markdown",
      "id": "00f4fb47",
      "metadata": {
        "id": "00f4fb47"
      },
      "source": [
        "Ahora, vamos a lanzar el servidor de MLFlow utilizando una base de datos de sqlite llamada `tracking.db` y especificamos que los artefactos (archivos) serán guardados en el directorio `mlruns`:"
      ]
    },
    {
      "cell_type": "code",
      "execution_count": null,
      "id": "500455d0",
      "metadata": {
        "id": "500455d0"
      },
      "outputs": [],
      "source": [
        "command = \"\"\"\n",
        "mlflow server \\\n",
        "        --backend-store-uri sqlite:///tracking.db \\\n",
        "        --default-artifact-root file:mlruns \\\n",
        "        -p 5000 &\n",
        "\"\"\"\n",
        "get_ipython().system_raw(command)"
      ]
    },
    {
      "cell_type": "markdown",
      "id": "b0c2ae42",
      "metadata": {
        "id": "b0c2ae42"
      },
      "source": [
        "Esto lanza un servidor web de MLFlow, no obstante, el servidor estará corriendo en Google Colaboratory y no en nuestro computador, por lo que no es tan fácil acceder al tablero e interactuar de forma gráfica con la herramienta.\n",
        "\n",
        "Por esto, usaremos una herramienta conocida como [ngrok](https://ngrok.com/). Para usar esta herramienta debemos crear una cuenta gratuita y luego instalar su paquete:"
      ]
    },
    {
      "cell_type": "code",
      "execution_count": null,
      "id": "27e4728a",
      "metadata": {
        "id": "27e4728a"
      },
      "outputs": [],
      "source": [
        "!pip install pyngrok"
      ]
    },
    {
      "cell_type": "markdown",
      "id": "75eda252",
      "metadata": {
        "id": "75eda252"
      },
      "source": [
        "Ahora debe copiar su token de autenticación tal y como se muestra en la siguiente figura:\n",
        "\n",
        "<img src=\"https://drive.google.com/uc?export=view&id=1RlqT7i6jSmXONmdLf6Wd8ZAHe_XYjl6H\" width=\"50%\">\n",
        "\n",
        "Debe reemplazar el token en la siguiente variable:"
      ]
    },
    {
      "cell_type": "code",
      "execution_count": null,
      "id": "d8aad93f",
      "metadata": {
        "id": "d8aad93f"
      },
      "outputs": [],
      "source": [
        "token = \"\" # Agregue el token dentro de las comillas\n",
        "os.environ[\"NGROK_TOKEN\"] = token"
      ]
    },
    {
      "cell_type": "markdown",
      "id": "7141b289",
      "metadata": {
        "id": "7141b289"
      },
      "source": [
        "Nos autenticamos en ngrok:"
      ]
    },
    {
      "cell_type": "code",
      "execution_count": null,
      "id": "435650a2",
      "metadata": {
        "id": "435650a2"
      },
      "outputs": [],
      "source": [
        "!ngrok authtoken $NGROK_TOKEN"
      ]
    },
    {
      "cell_type": "markdown",
      "id": "1c8472f4",
      "metadata": {
        "id": "1c8472f4"
      },
      "source": [
        "Ahora, lanzamos la conexión con ngrok:"
      ]
    },
    {
      "cell_type": "code",
      "execution_count": null,
      "id": "85843491",
      "metadata": {
        "id": "85843491"
      },
      "outputs": [],
      "source": [
        "from pyngrok import ngrok\n",
        "ngrok.connect(5000, \"http\")"
      ]
    },
    {
      "cell_type": "markdown",
      "id": "cdfe87f4",
      "metadata": {
        "id": "cdfe87f4"
      },
      "source": [
        "Si realizó los pasos correctamente, el resultado de la celda anterior debe ser una url pública donde podrá ver el tablero de MLFlow.\n",
        "\n",
        "> **Nota**: si está trabajando en un entorno de desarrollo local (su computador) en lugar de Google Colab, no es necesario hacer la parte de ngrok.\n",
        "\n",
        "Adicionalmente, MLFlow crea la base de datos `tracking.db` para almacenar información del servidor. Esta almacena la siguiente información:\n",
        "\n",
        "- `metrics`: almacena métricas de modelos.\n",
        "- `model_versions`: almacena las versiones de los modelos.\n",
        "- `experiments`: almacena experimentos.\n",
        "- `latest_metrics`: almacena las métricas más recientes.\n",
        "- `experiment_tags`: almacena etiquetas relacionadas con los experimentos.\n",
        "- `tags`: almacena etiquetas globales.\n",
        "- `registered_models`: almacena los modelos registrados.\n",
        "- `params`: almacena hiperparámetros.\n",
        "- `runs`: almacena información sobre ejecuciones.\n",
        "- `registered_model_tags`: almacena etiquetas relacionadas con los modelos registrados.\n",
        "- `model_version_tags`: almacena etiquetas sobre las versiones de los modelos.\n",
        "\n",
        "Con MLFlow estaremos hablando de tres componentes:\n",
        "\n",
        "<img src=\"https://drive.google.com/uc?export=view&id=1H0LOMbvvtrR3hdViTm37PCg-sme_Pqoe\" width=\"80%\">\n",
        "\n",
        "Veamos el detalle de cada uno:"
      ]
    },
    {
      "cell_type": "markdown",
      "id": "bdf82bf5",
      "metadata": {
        "id": "bdf82bf5"
      },
      "source": [
        "### **2.1. Tracking**\n",
        "---\n",
        "\n",
        "MLFlow nos permite hacer seguimiento de ejecuciones y experimentos en proyectos de machine learning.\n",
        "\n",
        "<img src=\"https://drive.google.com/uc?export=view&id=1Y0erkQiZMd2n8nVbCajYWN2YfCh5oHwd\" width=\"60%\">\n",
        "\n",
        "- **Ejecución (runs)**: una ejecución hace referencia al entrenamiento de un modelo de machine learning con un conjunto de hiperparámetros específicos y con determinadas métricas.\n",
        "- **Experimentos (experiments)**: un experimento es el nivel de organización básico en MLFlow y nos permite agrupar varias ejecuciones, generalmente se usan para diferenciar conjuntos de datos o tipos de modelos.\n",
        "\n",
        "El componente de seguimiento de MLFlow permite almacenar la siguiente información:\n",
        "\n",
        "- **params**: hiperparámetros del modelo.\n",
        "- **metrics**: métricas de desempeño del modelo.\n",
        "- **model**: almacenar el modelo.\n",
        "- **artifact**: almacenar elementos generados por el modelo.\n",
        "\n",
        "Veamos un ejemplo con el siguiente conjunto de datos:"
      ]
    },
    {
      "cell_type": "code",
      "execution_count": null,
      "id": "8d5b9843",
      "metadata": {
        "id": "8d5b9843"
      },
      "outputs": [],
      "source": [
        "from sklearn.datasets import make_circles\n",
        "features, labels = make_circles(\n",
        "    n_samples=1000,\n",
        "    noise=0.1,\n",
        "    factor=0.5,\n",
        "    random_state=42\n",
        "    )"
      ]
    },
    {
      "cell_type": "markdown",
      "id": "bd983ab4",
      "metadata": {
        "id": "bd983ab4"
      },
      "source": [
        "Podemos visualizarlo:"
      ]
    },
    {
      "cell_type": "code",
      "execution_count": null,
      "id": "539b98c3",
      "metadata": {
        "id": "539b98c3"
      },
      "outputs": [],
      "source": [
        "fig, ax = plt.subplots()\n",
        "ax.scatter(features[:, 0], features[:, 1], c=labels, alpha=0.5)\n",
        "ax.set_xlabel(\"$x_1$\")\n",
        "ax.set_ylabel(\"$x_2$\")\n",
        "fig.show()"
      ]
    },
    {
      "cell_type": "markdown",
      "id": "b8d6fd71",
      "metadata": {
        "id": "b8d6fd71"
      },
      "source": [
        "Especificamos que MLFlow debe usar el servidor que estamos manejando."
      ]
    },
    {
      "cell_type": "code",
      "execution_count": null,
      "id": "392f2a35",
      "metadata": {
        "id": "392f2a35"
      },
      "outputs": [],
      "source": [
        "mlflow.set_tracking_uri(\"http://localhost:5000\")"
      ]
    },
    {
      "cell_type": "markdown",
      "id": "a7051a15",
      "metadata": {
        "id": "a7051a15"
      },
      "source": [
        "Vamos a crear un experimento en MLFlow para este conjunto de datos:"
      ]
    },
    {
      "cell_type": "code",
      "execution_count": null,
      "id": "4893bd39",
      "metadata": {
        "id": "4893bd39"
      },
      "outputs": [],
      "source": [
        "exp_id = mlflow.create_experiment(name=\"circles\", artifact_location=\"mlruns/\")\n",
        "print(exp_id)"
      ]
    },
    {
      "cell_type": "markdown",
      "id": "3ccb2f38",
      "metadata": {
        "id": "3ccb2f38"
      },
      "source": [
        "Ahora, vamos a entrenar un modelo de regresión logística desde `sklearn`:"
      ]
    },
    {
      "cell_type": "code",
      "execution_count": null,
      "id": "3370140f",
      "metadata": {
        "id": "3370140f"
      },
      "outputs": [],
      "source": [
        "from sklearn.linear_model import LogisticRegression"
      ]
    },
    {
      "cell_type": "markdown",
      "id": "8e29f168",
      "metadata": {
        "id": "8e29f168"
      },
      "source": [
        "Importamos las métricas que evaluaremos de este modelo:"
      ]
    },
    {
      "cell_type": "code",
      "execution_count": null,
      "id": "d457131f",
      "metadata": {
        "id": "d457131f"
      },
      "outputs": [],
      "source": [
        "from sklearn.metrics import accuracy_score, f1_score, precision_score, recall_score"
      ]
    },
    {
      "cell_type": "markdown",
      "id": "31def084",
      "metadata": {
        "id": "31def084"
      },
      "source": [
        "El entrenamiento de este modelo se realizará dentro de una run de MLFlow:"
      ]
    },
    {
      "cell_type": "code",
      "execution_count": null,
      "id": "98141849",
      "metadata": {
        "id": "98141849"
      },
      "outputs": [],
      "source": [
        "run = mlflow.start_run(\n",
        "    experiment_id = exp_id,\n",
        "    run_name=\"default_logistic\"\n",
        "    )\n",
        "print(run)"
      ]
    },
    {
      "cell_type": "markdown",
      "id": "f6071d27",
      "metadata": {
        "id": "f6071d27"
      },
      "source": [
        "Entrenamos el modelo:"
      ]
    },
    {
      "cell_type": "code",
      "execution_count": null,
      "id": "2c0bb686",
      "metadata": {
        "id": "2c0bb686"
      },
      "outputs": [],
      "source": [
        "model = LogisticRegression().fit(features, labels)"
      ]
    },
    {
      "cell_type": "markdown",
      "id": "95c1d753",
      "metadata": {
        "id": "95c1d753"
      },
      "source": [
        "Obtenemos las predicciones del modelo:"
      ]
    },
    {
      "cell_type": "code",
      "execution_count": null,
      "id": "31e5e008",
      "metadata": {
        "id": "31e5e008"
      },
      "outputs": [],
      "source": [
        "y_pred = model.predict(features)"
      ]
    },
    {
      "cell_type": "markdown",
      "id": "8db72a6a",
      "metadata": {
        "id": "8db72a6a"
      },
      "source": [
        "Ahora vamos a registrar métricas de desempeño del modelo con la función `log_metrics`:"
      ]
    },
    {
      "cell_type": "code",
      "execution_count": null,
      "id": "a38744df",
      "metadata": {
        "id": "a38744df"
      },
      "outputs": [],
      "source": [
        "mlflow.log_metrics({\n",
        "    \"accuracy\": accuracy_score(labels, y_pred),\n",
        "    \"f1\": f1_score(labels, y_pred),\n",
        "    \"precision\": precision_score(labels, y_pred),\n",
        "    \"recall\": recall_score(labels, y_pred)\n",
        "    })"
      ]
    },
    {
      "cell_type": "markdown",
      "id": "a48f6e04",
      "metadata": {
        "id": "a48f6e04"
      },
      "source": [
        "Vamos a almacenar el modelo desde `mlflow` con la función `log_model`"
      ]
    },
    {
      "cell_type": "code",
      "execution_count": null,
      "id": "dcc6eba6",
      "metadata": {
        "id": "dcc6eba6"
      },
      "outputs": [],
      "source": [
        "mlflow.sklearn.log_model(model, \"model\")"
      ]
    },
    {
      "cell_type": "markdown",
      "id": "b2eddb2b",
      "metadata": {
        "id": "b2eddb2b"
      },
      "source": [
        "Por último, vamos a crear una matriz de confusión y a almacenarla:"
      ]
    },
    {
      "cell_type": "code",
      "execution_count": null,
      "id": "c106786b",
      "metadata": {
        "id": "c106786b"
      },
      "outputs": [],
      "source": [
        "from sklearn.metrics import confusion_matrix\n",
        "import seaborn as sns\n",
        "fig, ax = plt.subplots()\n",
        "cm = confusion_matrix(labels, y_pred)\n",
        "sns.heatmap(cm, annot=True, fmt=\".0f\", ax=ax)\n",
        "ax.set_xlabel(\"Predicción\")\n",
        "ax.set_ylabel(\"Real\")\n",
        "fig.show()\n",
        "fig.savefig(\"confusion_matrix.png\")"
      ]
    },
    {
      "cell_type": "markdown",
      "id": "3752a4b3",
      "metadata": {
        "id": "3752a4b3"
      },
      "source": [
        "Guardamos la imagen dentro del almacenamiento de MLFlow:"
      ]
    },
    {
      "cell_type": "code",
      "execution_count": null,
      "id": "8d5f09e9",
      "metadata": {
        "id": "8d5f09e9"
      },
      "outputs": [],
      "source": [
        "mlflow.log_artifact(\"confusion_matrix.png\", \"confusion_matrix\")"
      ]
    },
    {
      "cell_type": "markdown",
      "id": "03d6171b",
      "metadata": {
        "id": "03d6171b"
      },
      "source": [
        "Finalmente, terminamos la ejecución:"
      ]
    },
    {
      "cell_type": "code",
      "execution_count": null,
      "id": "76eaf467",
      "metadata": {
        "id": "76eaf467"
      },
      "outputs": [],
      "source": [
        "mlflow.end_run()"
      ]
    },
    {
      "cell_type": "markdown",
      "id": "8ee491d3",
      "metadata": {
        "id": "8ee491d3"
      },
      "source": [
        "Si actualizamos la página del tablero podremos ver que se ha creado el experimento y el run:\n",
        "\n",
        "<img src=\"https://drive.google.com/uc?export=view&id=1DG5JDg6l0GEbQII6h7hLANhY4-sGKgdn\" width=\"100%\">\n",
        "\n",
        "Si damos click sobre el nombre del run podremos ver los elementos que almacenamos como las métricas, el modelo (hablaremos de esto más adelante) y los artefactos:\n",
        "\n",
        "<img src=\"https://drive.google.com/uc?export=view&id=1Xx4EouBSvAaxr0K1T1wVmaIZCrg3rpMv\" width=\"100%\">\n",
        "\n",
        "Veamos otro ejemplo con una máquina de soporte vectorial:"
      ]
    },
    {
      "cell_type": "code",
      "execution_count": null,
      "id": "a4278bf4",
      "metadata": {
        "id": "a4278bf4"
      },
      "outputs": [],
      "source": [
        "from sklearn.svm import SVC"
      ]
    },
    {
      "cell_type": "markdown",
      "id": "d46ce051",
      "metadata": {
        "id": "d46ce051"
      },
      "source": [
        "Vamos a repetir el proceso con la única diferencia que ahora guardaremos hiper-parámetros del modelo con la función `log_params`. Definimos los hiperparámetros:"
      ]
    },
    {
      "cell_type": "code",
      "execution_count": null,
      "id": "83e7a7f5",
      "metadata": {
        "id": "83e7a7f5"
      },
      "outputs": [],
      "source": [
        "params = {\"kernel\": \"rbf\", \"C\": 1.0, \"gamma\": 0.1}"
      ]
    },
    {
      "cell_type": "markdown",
      "id": "45d64041",
      "metadata": {
        "id": "45d64041"
      },
      "source": [
        "Ahora entrenamos y almacenamos la información importante:"
      ]
    },
    {
      "cell_type": "code",
      "execution_count": null,
      "id": "74ae2371",
      "metadata": {
        "id": "74ae2371"
      },
      "outputs": [],
      "source": [
        "run = mlflow.start_run(experiment_id=exp_id, run_name=\"svm\")\n",
        "model = SVC(**params).fit(features, labels)\n",
        "y_pred = model.predict(features)\n",
        "\n",
        "cm = confusion_matrix(labels, y_pred)\n",
        "fig, ax = plt.subplots()\n",
        "sns.heatmap(cm, annot=True, fmt=\".0f\", ax=ax)\n",
        "ax.set_xlabel(\"Predicción\")\n",
        "ax.set_ylabel(\"Real\")\n",
        "fig.show()\n",
        "fig.savefig(\"confusion_matrix.png\")\n",
        "\n",
        "mlflow.log_params(params)\n",
        "mlflow.sklearn.log_model(model, \"model\")\n",
        "mlflow.log_artifact(\"confusion_matrix.png\", \"confusion_matrix\")\n",
        "mlflow.log_metrics({\n",
        "    \"accuracy\": accuracy_score(labels, y_pred),\n",
        "    \"f1\": f1_score(labels, y_pred),\n",
        "    \"precision\": precision_score(labels, y_pred),\n",
        "    \"recall\": recall_score(labels, y_pred)\n",
        "    })\n",
        "mlflow.end_run()"
      ]
    },
    {
      "cell_type": "markdown",
      "id": "4fb9bf24",
      "metadata": {
        "id": "4fb9bf24"
      },
      "source": [
        "Desde el tablero de MLFlow podremos ver que ahora hay dos runs en este experimento:\n",
        "\n",
        "<img src=\"https://drive.google.com/uc?export=view&id=1lwdaXRVYy5u6CMQKo0mMtW_LfScm_LdR\" width=\"100%\">\n",
        "\n",
        "Si abrimos el nuevo run, podemos ver que también se han guardado los hiperparámetros del modelo."
      ]
    },
    {
      "cell_type": "markdown",
      "id": "0c80a2b2",
      "metadata": {
        "id": "0c80a2b2"
      },
      "source": [
        "### **2.2. Projects**\n",
        "---\n",
        "\n",
        "MLFlow se integra bastante bien con herramientas como Git o DVC, en especial, nos permite definir proyectos de ciencia de datos de forma más estructurada.\n",
        "\n",
        "<img src=\"https://drive.google.com/uc?export=view&id=1_dGTZvz9pUyPWgfmD2Sz6n4yddwmQRsX\" width=\"80%\">\n",
        "\n",
        "Vamos a agregar el siguiente script para entrenar un modelo de bosques aleatorios sobre un conjunto de datos sintético:"
      ]
    },
    {
      "cell_type": "code",
      "execution_count": null,
      "id": "914b8935",
      "metadata": {
        "id": "914b8935"
      },
      "outputs": [],
      "source": [
        "%%writefile train.py\n",
        "import sys\n",
        "import mlflow\n",
        "from sklearn.ensemble import RandomForestClassifier\n",
        "from sklearn.datasets import make_moons\n",
        "\n",
        "params = {\n",
        "        \"max_depth\": int(sys.argv[1]),\n",
        "        \"n_estimators\": int(sys.argv[2])\n",
        "        }\n",
        "features, labels = make_moons(n_samples=1000, noise=0.1, random_state=42)\n",
        "\n",
        "with mlflow.start_run():\n",
        "    model = RandomForestClassifier(**params).fit(features, labels)\n",
        "    mlflow.sklearn.log_model(model, \"model\")\n",
        "    mlflow.log_params(params)\n",
        "    mlflow.log_metrics({\n",
        "        \"accuracy\": model.score(features, labels)\n",
        "        })"
      ]
    },
    {
      "cell_type": "markdown",
      "id": "9f471168",
      "metadata": {
        "id": "9f471168"
      },
      "source": [
        "Creamos un nuevo experimento:"
      ]
    },
    {
      "cell_type": "code",
      "execution_count": null,
      "id": "e73478f5",
      "metadata": {
        "id": "e73478f5"
      },
      "outputs": [],
      "source": [
        "exp_id = mlflow.create_experiment(name=\"moons\", artifact_location=\"mlruns/\")\n",
        "print(exp_id)"
      ]
    },
    {
      "cell_type": "markdown",
      "id": "d521deb2",
      "metadata": {
        "id": "d521deb2"
      },
      "source": [
        "Un proyecto de MLFlow se define a partir del archivo `MLproject`. Se trata de un archivo en formato `yaml` que define los posibles parámetros que podemos probar, sus valores por defecto, el nombre del proyecto y el comando que se debe usar para correr el script, veamos cómo definir el archivo:"
      ]
    },
    {
      "cell_type": "code",
      "execution_count": null,
      "id": "91efb5c3",
      "metadata": {
        "id": "91efb5c3"
      },
      "outputs": [],
      "source": [
        "%%writefile MLproject\n",
        "name: \"mlds6\"\n",
        "entry_points:\n",
        "    train:\n",
        "        parameters:\n",
        "            max_depth: {type: int, default: 2}\n",
        "            n_estimators: {type: int, default: 50}\n",
        "        command: \"python train.py {max_depth} {n_estimators}\""
      ]
    },
    {
      "cell_type": "markdown",
      "id": "218877d8",
      "metadata": {
        "id": "218877d8"
      },
      "source": [
        "Vamos a inicializar el proyecto como un repositorio de Git, recuerde identificarse:"
      ]
    },
    {
      "cell_type": "code",
      "execution_count": null,
      "id": "35b38d78",
      "metadata": {
        "id": "35b38d78"
      },
      "outputs": [],
      "source": [
        "!git config --global user.email \"ejemplo@unal.edu.co\"\n",
        "!git config --global user.name \"Mi nombre o username\"\n",
        "!git config --global init.defaultBranch master"
      ]
    },
    {
      "cell_type": "markdown",
      "id": "72e16a12",
      "metadata": {
        "id": "72e16a12"
      },
      "source": [
        "Inicializamos:"
      ]
    },
    {
      "cell_type": "code",
      "execution_count": null,
      "id": "fcb7d10a",
      "metadata": {
        "id": "fcb7d10a"
      },
      "outputs": [],
      "source": [
        "!git init"
      ]
    },
    {
      "cell_type": "markdown",
      "id": "3b2238bf",
      "metadata": {
        "id": "3b2238bf"
      },
      "source": [
        "Agregamos los dos archivos y creamos un commit:"
      ]
    },
    {
      "cell_type": "code",
      "execution_count": null,
      "id": "2a2c5aa3",
      "metadata": {
        "id": "2a2c5aa3"
      },
      "outputs": [],
      "source": [
        "!git add train.py MLproject\n",
        "!git commit -m \"Proyecto de ML\""
      ]
    },
    {
      "cell_type": "markdown",
      "id": "d40dff72",
      "metadata": {
        "id": "d40dff72"
      },
      "source": [
        "Ahora, debemos especificar al sistema cuál es la URI del servidor:"
      ]
    },
    {
      "cell_type": "code",
      "execution_count": null,
      "id": "ea57e0d2",
      "metadata": {
        "id": "ea57e0d2"
      },
      "outputs": [],
      "source": [
        "os.environ[\"MLFLOW_TRACKING_URI\"] = \"http://localhost:5000/\""
      ]
    },
    {
      "cell_type": "markdown",
      "id": "34e839d9",
      "metadata": {
        "id": "34e839d9"
      },
      "source": [
        "Ahora, podemos ejecutar el script directamente desde el CLI de `mlflow`, usamos los sugientes parámetros:\n",
        "\n",
        "- `-e`: especifica el entry point (ejecutable) definido en el archivo `MLproject`.\n",
        "- `-P`: permite cambiar un parámetro del modelo.\n",
        "- `--experiment-name`: permite especificar el nombre del experimento que se debe usar.\n",
        "- `--env-manager`: especifica qué tipo de dependencias se usarán para la ejecución del proyecto, en este caso usamos las mismas que tiene Google Colab.\n",
        "- `run-name`: nombre de la ejecución"
      ]
    },
    {
      "cell_type": "code",
      "execution_count": null,
      "id": "093d3073",
      "metadata": {
        "id": "093d3073"
      },
      "outputs": [],
      "source": [
        "!mlflow run -e train -P max_depth=3 -P n_estimators=100 --experiment-name 'moons' --env-manager local --run-name random_forest ."
      ]
    },
    {
      "cell_type": "markdown",
      "id": "c54e3dd8",
      "metadata": {
        "id": "c54e3dd8"
      },
      "source": [
        "Podemos entrenar nuevamente el modelo, pero con otros hiperparámetros:"
      ]
    },
    {
      "cell_type": "code",
      "execution_count": null,
      "id": "8e630c65",
      "metadata": {
        "id": "8e630c65"
      },
      "outputs": [],
      "source": [
        "!mlflow run -e train -P max_depth=7 -P n_estimators=50 --experiment-name 'moons' --env-manager local --run-name random_forest ."
      ]
    },
    {
      "cell_type": "markdown",
      "id": "25733d2f",
      "metadata": {
        "id": "25733d2f"
      },
      "source": [
        "Desde el tablero debería ver el nuevo experimento con dos runs creadas:\n",
        "\n",
        "<img src=\"https://drive.google.com/uc?export=view&id=1cJOgtwdncK9W8RApUI-zkh_KRhlC-ar_\" width=\"100%\">\n",
        "\n",
        "Si abrimos alguna de las runs, podremos ver información detallada como:\n",
        "\n",
        "- `Run ID`: identificador de la ejecución.\n",
        "- `User`: usuario que realizó la ejecución.\n",
        "- `Date`: fecha en la que se realizó.\n",
        "- `Duration`: tiempo que tomó el run.\n",
        "- `Source`: muestra el script que generó el run.\n",
        "- `Status`: muestra si el run aún está en ejecución, si terminó o tuvo errores.\n",
        "- `Git commit`: identificador del commit de Git en el que se ejecutó el código.\n",
        "- `Lifecycle Stage`: ciclo de vida del modelo (los veremos más en detalle más adelante).\n",
        "- `Entry Point`: punto de entrada usado (especificado en el archivo MLproject)."
      ]
    },
    {
      "cell_type": "markdown",
      "id": "cd68861b",
      "metadata": {
        "id": "cd68861b"
      },
      "source": [
        "### **2.3. Models**\n",
        "---\n",
        "\n",
        "Uno de los elementos más importantes de MLFlow es que da una forma estructurada y unificada de manejar modelos de machine learning sin importar la librería que estemos usando.\n",
        "\n",
        "<img src=\"https://drive.google.com/uc?export=view&id=1yM4bW-qZu8U3MSppBSkz95RrmoJ-A8-q\" width=\"80%\">\n",
        "\n",
        "De hecho, esto se puede ver dentro de los artefactos cuando exportamos un modelo con MLFlow:\n",
        "\n",
        "<img src=\"https://drive.google.com/uc?export=view&id=1ly1mC54SBeUK6vf0iUyrozzb6MhGgv4a\" width=\"60%\">\n",
        "\n",
        "Como podemos ver, el modelo se guarda junto con otros archivos adicionales. Dentro de estos tenemos:\n",
        "\n",
        "- `MLmodel`: archivo en formato `yaml` que define todo lo necesario para poder reutilizar un modelo. Esto incluye: la librería de machine learning del modelo, versión de Python, versión de la librería, versión de MLFlow, función para realizar predicciones, tipo de serialización del modelo.\n",
        "- `model.pkl`: modelo exportado de `sklearn`, esto puede variar en dependencia de la librería usada (más adelante veremos que esto es trasparente para el usuario).\n",
        "- `conda.yaml`: dependencias de anaconda para construir el modelo.\n",
        "- `python_env.yaml`: dependencias de Python para construir el modelo.\n",
        "- `requirements.txt`: dependencias de `pip`.\n",
        "\n",
        "Adicionalmente, en la parte derecha de los artefactos tenemos un botón para registrar un modelo (versionar):\n",
        "\n",
        "<img src=\"https://drive.google.com/uc?export=view&id=1adgOCIiMvfkOB6mxSiZA3NnfC9heNTiJ\" width=\"100%\">\n",
        "\n",
        "Para registrarlo debemos asignarle un nombre:\n",
        "\n",
        "<img src=\"https://drive.google.com/uc?export=view&id=1IwSpld08asodRUdkgYK6o9hN8VSp0oZA\" width=\"50%\">\n",
        "\n",
        "Con esto, veremos que el modelo será agregado a la pestaña de modelos:\n",
        "\n",
        "<img src=\"https://drive.google.com/uc?export=view&id=1WfVG4c5GQChVfNze0yPGFINJksy3Ancw\" width=\"100%\">\n",
        "\n",
        "Si damos click sobre el nombre del modelo, podremos agregar etiquetas (para luego filtrarlo), agregar una descripción o ver su versión\n",
        "\n",
        "Por último, podemos cargar cualquier modelo del registro de MLFlow de la siguiente forma:"
      ]
    },
    {
      "cell_type": "code",
      "execution_count": null,
      "id": "ddb401f3",
      "metadata": {
        "id": "ddb401f3"
      },
      "outputs": [],
      "source": [
        "model_name = 'moons_predictor'\n",
        "model_version = 1\n",
        "model = mlflow.pyfunc.load_model(f\"models:/{model_name}/{model_version}\")\n",
        "print(model)"
      ]
    },
    {
      "cell_type": "markdown",
      "id": "93ffc656",
      "metadata": {
        "id": "93ffc656"
      },
      "source": [
        "Con este modelo podemos realizar predicciones, por ejemplo:"
      ]
    },
    {
      "cell_type": "code",
      "execution_count": null,
      "id": "796480cb",
      "metadata": {
        "id": "796480cb"
      },
      "outputs": [],
      "source": [
        "features = [[-1.0, 1.0]]\n",
        "predictions = model.predict(features)\n",
        "print(predictions)"
      ]
    },
    {
      "cell_type": "markdown",
      "id": "f055be03",
      "metadata": {
        "id": "f055be03"
      },
      "source": [
        "Esta forma de usar modelos es común para las librerías de machine learning soportadas por MLFlow. En las siguientes unidades seguiremos profundizando en el uso de MLFlow junto con otras herramientas."
      ]
    },
    {
      "cell_type": "markdown",
      "id": "4397d29f",
      "metadata": {
        "id": "4397d29f"
      },
      "source": [
        "## Recursos Adicionales\n",
        "---\n",
        "\n",
        "Los siguientes enlaces corresponden a sitios donde encontrará información muy útil para profundizar en los temas vistos en este notebook:\n",
        "\n",
        "- [MLFlow Documentation](https://mlflow.org/docs/latest/index.html)\n",
        "- [MLFlow Tracking](https://mlflow.org/docs/latest/tracking.html)\n",
        "- [MLFlow Projects](https://mlflow.org/docs/latest/projects.html)\n",
        "- [MLFlow Models](https://mlflow.org/docs/latest/models.html)"
      ]
    },
    {
      "cell_type": "markdown",
      "id": "ddad7149",
      "metadata": {
        "id": "ddad7149"
      },
      "source": [
        "## Créditos\n",
        "---\n",
        "\n",
        "**Profesor**\n",
        "\n",
        "- [Jorge E. Camargo, PhD](https://dis.unal.edu.co/~jecamargom/)\n",
        "\n",
        "**Asistente docente**:\n",
        "\n",
        "- [Juan S. Lara MSc](https://www.linkedin.com/in/juan-sebastian-lara-ramirez-43570a214/)\n",
        "\n",
        "**Diseño de imágenes:**\n",
        "- [Brian Chaparro Cetina](mailto:bchaparro@unal.edu.co).\n",
        "\n",
        "**Universidad Nacional de Colombia** - *Facultad de Ingeniería*"
      ]
    }
  ],
  "metadata": {
    "jupytext": {
      "cell_metadata_filter": "-all"
    },
    "kernelspec": {
      "display_name": "Python 3",
      "name": "python3"
    },
    "colab": {
      "provenance": [],
      "private_outputs": true,
      "include_colab_link": true
    }
  },
  "nbformat": 4,
  "nbformat_minor": 5
}