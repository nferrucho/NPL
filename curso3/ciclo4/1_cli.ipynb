{
  "cells": [
    {
      "cell_type": "markdown",
      "metadata": {
        "id": "view-in-github",
        "colab_type": "text"
      },
      "source": [
        "<a href=\"https://colab.research.google.com/github/nferrucho/NPL/blob/main/curso3/ciclo4/1_cli.ipynb\" target=\"_parent\"><img src=\"https://colab.research.google.com/assets/colab-badge.svg\" alt=\"Open In Colab\"/></a>"
      ]
    },
    {
      "cell_type": "markdown",
      "id": "2d211098",
      "metadata": {
        "id": "2d211098"
      },
      "source": [
        "<img src=\"https://drive.google.com/uc?export=view&id=1o4udU5qVMi_7jDi0XzSspbPC6Hw0ev9o\" width=\"100%\">"
      ]
    },
    {
      "cell_type": "markdown",
      "id": "21c6358f",
      "metadata": {
        "id": "21c6358f"
      },
      "source": [
        "# **Introducción a Despliegue de Modelos**\n",
        "---\n",
        "\n",
        "En este notebook veremos una introducción al despliegue de modelos con una aplicación tipo CLI desde _Python_.\n",
        "\n",
        "Comenzamos configurando el servidor de `mlflow` e importando las librerías necesarias:"
      ]
    },
    {
      "cell_type": "code",
      "execution_count": null,
      "id": "2e9aa5f7",
      "metadata": {
        "id": "2e9aa5f7"
      },
      "outputs": [],
      "source": [
        "!pip install mlflow"
      ]
    },
    {
      "cell_type": "code",
      "execution_count": null,
      "id": "d5b75ebb",
      "metadata": {
        "id": "d5b75ebb"
      },
      "outputs": [],
      "source": [
        "import mlflow\n",
        "import os\n",
        "import pandas as pd\n",
        "from IPython.display import display"
      ]
    },
    {
      "cell_type": "markdown",
      "id": "bb3fdf4d",
      "metadata": {
        "id": "bb3fdf4d"
      },
      "source": [
        "Adicionalmente, utilizaremos un servidor de `mlflow`:"
      ]
    },
    {
      "cell_type": "code",
      "execution_count": null,
      "id": "b729b824",
      "metadata": {
        "id": "b729b824"
      },
      "outputs": [],
      "source": [
        "command = \"\"\"\n",
        "mlflow server \\\n",
        "        --backend-store-uri sqlite:///tracking.db \\\n",
        "        --default-artifact-root file:mlruns \\\n",
        "        -p 5000 &\n",
        "\"\"\"\n",
        "get_ipython().system_raw(command)"
      ]
    },
    {
      "cell_type": "markdown",
      "id": "0bbdbcab",
      "metadata": {
        "id": "0bbdbcab"
      },
      "source": [
        "Utilizaremos `ngrok` para acceder al tablero de `mlflow`:"
      ]
    },
    {
      "cell_type": "code",
      "execution_count": null,
      "id": "0333646d",
      "metadata": {
        "id": "0333646d"
      },
      "outputs": [],
      "source": [
        "!pip install pyngrok"
      ]
    },
    {
      "cell_type": "markdown",
      "id": "e9e7a35e",
      "metadata": {
        "id": "e9e7a35e"
      },
      "source": [
        "Ahora debe agregar su token de `ngrok`:"
      ]
    },
    {
      "cell_type": "code",
      "execution_count": null,
      "id": "6430a9e7",
      "metadata": {
        "id": "6430a9e7"
      },
      "outputs": [],
      "source": [
        "token = \"\" # Agregue el token dentro de las comillas\n",
        "os.environ[\"NGROK_TOKEN\"] = token"
      ]
    },
    {
      "cell_type": "markdown",
      "id": "1491d2a7",
      "metadata": {
        "id": "1491d2a7"
      },
      "source": [
        "Nos autenticamos en ngrok:"
      ]
    },
    {
      "cell_type": "code",
      "execution_count": null,
      "id": "4dc23bb2",
      "metadata": {
        "id": "4dc23bb2"
      },
      "outputs": [],
      "source": [
        "!ngrok authtoken $NGROK_TOKEN"
      ]
    },
    {
      "cell_type": "markdown",
      "id": "7a5055bb",
      "metadata": {
        "id": "7a5055bb"
      },
      "source": [
        "Ahora, lanzamos la conexión con ngrok:"
      ]
    },
    {
      "cell_type": "code",
      "execution_count": null,
      "id": "75e98a01",
      "metadata": {
        "id": "75e98a01"
      },
      "outputs": [],
      "source": [
        "from pyngrok import ngrok\n",
        "ngrok.connect(5000, \"http\")"
      ]
    },
    {
      "cell_type": "markdown",
      "id": "c50b15a5",
      "metadata": {
        "id": "c50b15a5"
      },
      "source": [
        "Especificamos que MLFlow debe usar el servidor que estamos manejando."
      ]
    },
    {
      "cell_type": "code",
      "execution_count": null,
      "id": "47d82ff3",
      "metadata": {
        "id": "47d82ff3"
      },
      "outputs": [],
      "source": [
        "mlflow.set_tracking_uri(\"http://localhost:5000\")"
      ]
    },
    {
      "cell_type": "markdown",
      "id": "e3e7368c",
      "metadata": {
        "id": "e3e7368c"
      },
      "source": [
        "Vamos a crear un experimento en MLFlow para este conjunto de datos:"
      ]
    },
    {
      "cell_type": "code",
      "execution_count": null,
      "id": "e6f558aa",
      "metadata": {
        "id": "e6f558aa"
      },
      "outputs": [],
      "source": [
        "exp_id = mlflow.create_experiment(name=\"fake_job\", artifact_location=\"mlruns/\")"
      ]
    },
    {
      "cell_type": "markdown",
      "id": "5be66e2e",
      "metadata": {
        "id": "5be66e2e"
      },
      "source": [
        "## **1. Carga de Datos**\n",
        "---\n",
        "\n",
        "En este caso utilizaremos el conjunto de datos [Real / Fake Job Posting Prediction](https://www.kaggle.com/datasets/shivamb/real-or-fake-fake-jobposting-prediction). Se trata de un conjunto de datos público que contiene información sobre ofertas de trabajo publicadas en línea. El objetivo es predecir si una oferta de trabajo es legítima o falsa. El conjunto de datos está etiquetado con valores binarios que indican si una oferta de trabajo es legítima o falsa.\n",
        "\n",
        "<center><img src=\"https://drive.google.com/uc?export=view&id=1I_u3x5jYImlRriBaXyrv_F1snzMFLSbZ\" width=\"80%\"></center>\n",
        "\n",
        "El conjunto de datos contiene 18,000 ofertas de trabajo, de las cuales el 80% son ofertas de trabajo legítimas y el 20% son falsas. Las ofertas de trabajo se recopilaron de diversos sitios web de ofertas de trabajo y se seleccionaron manualmente para garantizar que fueran ofertas de trabajo reales o falsas.\n",
        "\n",
        "Cada registro en el conjunto de datos contiene información como el título del trabajo, la ubicación, la descripción del trabajo y la empresa que publicó la oferta de trabajo. Además, hay otras características relacionadas con la compañía que publicó la oferta de trabajo, como el tamaño de la compañía, la industria y el tipo de empleador.\n",
        "\n",
        "Este conjunto de datos es útil para tareas de clasificación binaria y es utilizado comúnmente en la industria y la academia para entrenar modelos de aprendizaje automático que pueden ayudar a identificar automáticamente las ofertas de trabajo falsas en línea.\n",
        "\n",
        "Vamos a cargarlo:"
      ]
    },
    {
      "cell_type": "code",
      "execution_count": null,
      "id": "78c20594",
      "metadata": {
        "id": "78c20594"
      },
      "outputs": [],
      "source": [
        "data = pd.read_parquet(\n",
        "        \"https://raw.githubusercontent.com/mindlab-unal/mlds6-datasets/main/u4/fake_jobs.parquet\"\n",
        "        ).dropna()"
      ]
    },
    {
      "cell_type": "markdown",
      "id": "816d0486",
      "metadata": {
        "id": "816d0486"
      },
      "source": [
        "En este caso tenemos dos columnas:\n",
        "\n",
        "- `description`: texto con la descripción del trabajo.\n",
        "- `fraudulent`: etiqueta que indica si un trabajo en fraudulento o no."
      ]
    },
    {
      "cell_type": "code",
      "execution_count": null,
      "id": "5ae2b7ed",
      "metadata": {
        "id": "5ae2b7ed"
      },
      "outputs": [],
      "source": [
        "display(data.columns)"
      ]
    },
    {
      "cell_type": "markdown",
      "id": "5c001b15",
      "metadata": {
        "id": "5c001b15"
      },
      "source": [
        "## **2. Modelamiento**\n",
        "---\n",
        "\n",
        "En este caso, utilizaremos conteos de palabras como forma de representar las descripciones de los trabajos por medio de la clase `Tfidfvectorizer`:"
      ]
    },
    {
      "cell_type": "code",
      "execution_count": null,
      "id": "acbd9258",
      "metadata": {
        "id": "acbd9258"
      },
      "outputs": [],
      "source": [
        "from sklearn.feature_extraction.text import TfidfVectorizer"
      ]
    },
    {
      "cell_type": "markdown",
      "id": "c83f3c00",
      "metadata": {
        "id": "c83f3c00"
      },
      "source": [
        "También utilizaremos el modelo de bosques aleatorios para la clasificación:"
      ]
    },
    {
      "cell_type": "code",
      "execution_count": null,
      "id": "b3de9700",
      "metadata": {
        "id": "b3de9700"
      },
      "outputs": [],
      "source": [
        "from sklearn.ensemble import RandomForestClassifier"
      ]
    },
    {
      "cell_type": "markdown",
      "id": "85e4f3a2",
      "metadata": {
        "id": "85e4f3a2"
      },
      "source": [
        "En este caso utilizaremos un `Pipeline` para unificar la extracción de características y la clasificación:"
      ]
    },
    {
      "cell_type": "code",
      "execution_count": null,
      "id": "1c855a70",
      "metadata": {
        "id": "1c855a70"
      },
      "outputs": [],
      "source": [
        "from sklearn.pipeline import Pipeline"
      ]
    },
    {
      "cell_type": "markdown",
      "id": "710d64ad",
      "metadata": {
        "id": "710d64ad"
      },
      "source": [
        "Usamos `train_test_split` para particionar el conjunto de datos y evaluar la generalización:"
      ]
    },
    {
      "cell_type": "code",
      "execution_count": null,
      "id": "e2355f86",
      "metadata": {
        "id": "e2355f86"
      },
      "outputs": [],
      "source": [
        "from sklearn.model_selection import train_test_split\n",
        "corpus_train, corpus_test, labels_train, labels_test = train_test_split(\n",
        "    data.description,\n",
        "    data.fraudulent,\n",
        "    stratify=data.fraudulent,\n",
        "    random_state=0,\n",
        "    test_size=0.3\n",
        "    )"
      ]
    },
    {
      "cell_type": "markdown",
      "id": "99fdc5fc",
      "metadata": {
        "id": "99fdc5fc"
      },
      "source": [
        "Ahora, veamos el entrenamiento del modelo:"
      ]
    },
    {
      "cell_type": "code",
      "execution_count": null,
      "id": "87475325",
      "metadata": {
        "id": "87475325"
      },
      "outputs": [],
      "source": [
        "with mlflow.start_run(\n",
        "        run_name=\"random_forest\", experiment_id=exp_id\n",
        "        ):\n",
        "    model = Pipeline([\n",
        "        (\"extractor\", TfidfVectorizer(max_features=5000, sublinear_tf=True)),\n",
        "        (\"clf\", RandomForestClassifier(max_depth=5, n_estimators=200, random_state=0))\n",
        "        ])\n",
        "    model.fit(corpus_train, labels_train)\n",
        "    mlflow.sklearn.log_model(model, \"model\")\n",
        "    mlflow.log_metric(\"accuracy\", model.score(corpus_test, labels_test))"
      ]
    },
    {
      "cell_type": "markdown",
      "id": "6171df22",
      "metadata": {
        "id": "6171df22"
      },
      "source": [
        "Este modelo debería de obtener un desempeño a nivel de `accuracy` de alrededor de `0.96`. Ahora, es importante que genere una versión de este modelo con el nombre **jobclf**.\n",
        "\n",
        "Con esto, podremos generar predicciones de la siguiente forma:"
      ]
    },
    {
      "cell_type": "code",
      "execution_count": null,
      "id": "9104c389",
      "metadata": {
        "id": "9104c389"
      },
      "outputs": [],
      "source": [
        "model_name = 'jobclf'\n",
        "model_version = 1\n",
        "model = mlflow.pyfunc.load_model(f\"models:/{model_name}/{model_version}\")\n",
        "display(model)"
      ]
    },
    {
      "cell_type": "markdown",
      "id": "ec0af4db",
      "metadata": {
        "id": "ec0af4db"
      },
      "source": [
        "Podemos usarlo para generar predicciones, para ello, comenzamos definiendo un texto a clasificar:"
      ]
    },
    {
      "cell_type": "code",
      "execution_count": null,
      "id": "043df38a",
      "metadata": {
        "id": "043df38a"
      },
      "outputs": [],
      "source": [
        "text = \"Organised - Focused - Vibrant - Awesome!Do you have a passion for customer service? Slick typing skills? Maybe Account Management? ...And think administration is cooler than a polar bear on a jetski? Then we need to hear you!\\xa0We are the Cloud Video Production Service and opperating on a glodal level. Yeah, it's pretty cool. Serious about\\xa0delivering a world class product and excellent customer service.Our rapidly expanding business is looking for a talented Project Manager to manage the successful delivery of video projects, manage client communications and drive the production process. Work with some of the coolest brands on the planet and learn from a global team that are representing NZ is a huge way!We are entering the next growth stage of our business and growing quickly internationally. \\xa0Therefore, the position is bursting with opportunity for the right person entering the business at the right time.\\xa090 Seconds, the worlds Cloud Video Production Service -\\xa0http://90#URL_fbe6559afac620a3cd2c22281f7b8d0eef56a73e3d9a311e2f1ca13d081dd630#90 Seconds is the worlds Cloud Video Production Service enabling brands and agencies to get high quality online video content shot and produced anywhere in the world. Fast, affordable, and all managed seamlessly in the cloud from purchase to publish.\\xa090 Seconds removes the hassle, cost, risk and speed issues of working with regular video production companies by managing every aspect of video projects in a beautiful online experience. \\xa0With a growing network of over 2,000 rated video professionals in over 50 countries and dedicated production success teams in 5 countries guaranteeing video project success 100%. It's as easy as commissioning a quick google adwords campaign.90 Seconds has produced almost 4,000 videos in over 30 Countries for over 500 Global brands including some of the worlds largest including Paypal, L'oreal, Sony and Barclays and has offices in Auckland, London, Sydney, Tokyo &amp; Singapore.Our Auckland office is based\\xa0right in the heart of the Wynyard Quarter Innovation Precinct - GridAKL!\\xa0\""
      ]
    },
    {
      "cell_type": "markdown",
      "id": "4a1bfe69",
      "metadata": {
        "id": "4a1bfe69"
      },
      "source": [
        "Generamos la predicción:"
      ]
    },
    {
      "cell_type": "code",
      "execution_count": null,
      "id": "22d1a6a0",
      "metadata": {
        "id": "22d1a6a0"
      },
      "outputs": [],
      "source": [
        "prediction = model.predict([text])\n",
        "print(prediction)"
      ]
    },
    {
      "cell_type": "markdown",
      "id": "f562a3d4",
      "metadata": {
        "id": "f562a3d4"
      },
      "source": [
        "Como podemos ver, este texto no corresponde a una descripción de trabajo fraudulenta."
      ]
    },
    {
      "cell_type": "markdown",
      "id": "1938e083",
      "metadata": {
        "id": "1938e083"
      },
      "source": [
        "## **3. Despliegue de Modelos**\n",
        "---\n",
        "\n",
        "El despliegue de modelos de machine learning (ML) es el proceso de integrar modelos de aprendizaje automático en un entorno de producción para que puedan utilizarse para hacer predicciones y tomar decisiones.\n",
        "\n",
        "<center><img src=\"https://drive.google.com/uc?export=view&id=1IT0IiJaAl6Yallj-Dmt2nLROCd_b9uMa\" width=\"80%\"></center>\n",
        "\n",
        "En el proceso de despliegue de modelos de ML es importante considerar aspectos como la privacidad de los datos, la seguridad, la escalabilidad y el rendimiento para garantizar que el modelo sea confiable y útil en el entorno de producción.\n",
        "\n",
        "Existen distintos tipos de despliegue de modelos, entre ellos encontramos:\n",
        "\n",
        "- **CLI**: interfaz de usuario en la que un usuario interactúa con un programa mediante la introducción de comandos de texto simples en una terminal o consola.\n",
        "- **Aplicaciones de escritorio**: involucran una interfaz gráfica de usuario y permiten interactuar con los modelos por medio de ventanas, botones, cuadros de texto y demás.\n",
        "- **APIs**: es posible crear APIs para los modelos, tanto librerías de _Python_ reutilizables como aplicaciones web para predicción.\n",
        "\n",
        "En este notebook veremos un ejemplo con un **CLI** creado en _Python_"
      ]
    },
    {
      "cell_type": "markdown",
      "id": "87daf774",
      "metadata": {
        "id": "87daf774"
      },
      "source": [
        "## **4. Command Line Interface**\n",
        "---\n",
        "\n",
        "**CLI** son las siglas en inglés de *Command Line Interface* (Interfaz de línea de comandos en español). Un CLI se utiliza a menudo en sistemas operativos basados en Unix, como Linux y macOS, así como en algunos sistemas operativos de Microsoft Windows. Los usuarios pueden utilizar comandos específicos para realizar tareas en el sistema, como crear archivos, cambiar permisos de archivo, copiar o mover archivos, y configurar el sistema."
      ]
    },
    {
      "cell_type": "code",
      "execution_count": null,
      "id": "15ef1d57",
      "metadata": {
        "id": "15ef1d57",
        "cellView": "form"
      },
      "outputs": [],
      "source": [
        "#@markdown ##**Ejecute esta celda para ver el video.**\n",
        "from IPython.display import IFrame\n",
        "IFrame(\n",
        "        src=\"https://drive.google.com/file/d/1JBYfu2lE6rqtmQNgZ4q14hBn8-QLc3Sx/preview\",\n",
        "        width=\"768px\",\n",
        "        height=\"432px\"\n",
        "        )"
      ]
    },
    {
      "cell_type": "markdown",
      "id": "b7bf5f20",
      "metadata": {
        "id": "b7bf5f20"
      },
      "source": [
        "El CLI también se utiliza a menudo en programación, especialmente para herramientas de línea de comandos y scripts. Algunos lenguajes de programación tienen bibliotecas que permiten a los desarrolladores crear aplicaciones de línea de comandos para interactuar con los usuarios mediante la entrada de comandos de texto en una terminal.\n",
        "\n",
        "Este tipo de aplicaciones son muy comunes para el despliegue de modelos de machine learning, en especial es un proceso sencillo que consiste en la implementación de un script que permita recibir información a partir de comandos y retornar predicciones en forma de texto:\n",
        "\n",
        "<center><img src=\"https://drive.google.com/uc?export=view&id=1WHvc30OJR6ItI2NhEWN_0QzZ-GE5GNeq\" width=\"80%\"><center>\n",
        "\n",
        "Veamos cómo podemos crear un CLI para el modelo, para esto, debemos crear un script de _Python_ que nos permita recibir textos y retornar predicciones."
      ]
    },
    {
      "cell_type": "markdown",
      "source": [
        "Primero creamos la carpeta `src`"
      ],
      "metadata": {
        "id": "8ZuWbWJ9IHOq"
      },
      "id": "8ZuWbWJ9IHOq"
    },
    {
      "cell_type": "code",
      "source": [
        "!mkdir src"
      ],
      "metadata": {
        "id": "_SZXTbl5IF1P"
      },
      "id": "_SZXTbl5IF1P",
      "execution_count": null,
      "outputs": []
    },
    {
      "cell_type": "markdown",
      "source": [
        "Definimos el script"
      ],
      "metadata": {
        "id": "k4Zix0TrIKGk"
      },
      "id": "k4Zix0TrIKGk"
    },
    {
      "cell_type": "code",
      "execution_count": null,
      "id": "4e9a46de",
      "metadata": {
        "id": "4e9a46de"
      },
      "outputs": [],
      "source": [
        "%%writefile ./src/mlcli.py\n",
        "from argparse import ArgumentParser\n",
        "import mlflow\n",
        "mlflow.set_tracking_uri(\"http://localhost:5000\")\n",
        "\n",
        "def main():\n",
        "    parser = ArgumentParser(\n",
        "            description=\"CLI para modelo de detección de trabajos fraudulentos\"\n",
        "            )\n",
        "    parser.add_argument(\"--text\", type=str, required=True, help=\"Texto con la descripción del trabajo\")\n",
        "    args = parser.parse_args()\n",
        "    model = mlflow.pyfunc.load_model(\"models:/jobclf/1\")\n",
        "    prediction = model.predict([args.text])[0]\n",
        "    prediction = \"fraudulento\" if prediction else \"no fraudulento\"\n",
        "    print(f\"El trabajo es: {prediction}\")\n",
        "\n",
        "if __name__ == \"__main__\":\n",
        "    main()"
      ]
    },
    {
      "cell_type": "markdown",
      "id": "e2d692a4",
      "metadata": {
        "id": "e2d692a4"
      },
      "source": [
        "En este script, utilizamos la librería `argparse`. Esta nos permite estructurar la información recibida por el script y mostrar ayudas en caso de ser necesario:"
      ]
    },
    {
      "cell_type": "code",
      "execution_count": null,
      "id": "c01954c6",
      "metadata": {
        "id": "c01954c6"
      },
      "outputs": [],
      "source": [
        "!python ./src/mlcli.py --help"
      ]
    },
    {
      "cell_type": "markdown",
      "id": "b9885f31",
      "metadata": {
        "id": "b9885f31"
      },
      "source": [
        "Podemos probar el script:"
      ]
    },
    {
      "cell_type": "code",
      "execution_count": null,
      "id": "0ee0dbf4",
      "metadata": {
        "id": "0ee0dbf4"
      },
      "outputs": [],
      "source": [
        "!python ./src/mlcli.py --text \"Organised - Focused - Vibrant - Awesome!Do you have a passion for customer service? Slick typing skills? Maybe Account Management? ...And think administration is cooler than a polar bear on a jetski? Then we need to hear you!\\xa0We are the Cloud Video Production Service and opperating on a glodal level. Yeah, it's pretty cool. Serious about\\xa0delivering a world class product and excellent customer service.Our rapidly expanding business is looking for a talented Project Manager to manage the successful delivery of video projects, manage client communications and drive the production process. Work with some of the coolest brands on the planet and learn from a global team that are representing NZ is a huge way!We are entering the next growth stage of our business and growing quickly internationally. \\xa0Therefore, the position is bursting with opportunity for the right person entering the business at the right time.\\xa090 Seconds, the worlds Cloud Video Production Service -\\xa0http://90#URL_fbe6559afac620a3cd2c22281f7b8d0eef56a73e3d9a311e2f1ca13d081dd630#90 Seconds is the worlds Cloud Video Production Service enabling brands and agencies to get high quality online video content shot and produced anywhere in the world. Fast, affordable, and all managed seamlessly in the cloud from purchase to publish.\\xa090 Seconds removes the hassle, cost, risk and speed issues of working with regular video production companies by managing every aspect of video projects in a beautiful online experience. \\xa0With a growing network of over 2,000 rated video professionals in over 50 countries and dedicated production success teams in 5 countries guaranteeing video project success 100%. It's as easy as commissioning a quick google adwords campaign.90 Seconds has produced almost 4,000 videos in over 30 Countries for over 500 Global brands including some of the worlds largest including Paypal, L'oreal, Sony and Barclays and has offices in Auckland, London, Sydney, Tokyo &amp; Singapore.Our Auckland office is based\\xa0right in the heart of the Wynyard Quarter Innovation Precinct - GridAKL!\\xa0\""
      ]
    },
    {
      "cell_type": "markdown",
      "id": "68826882",
      "metadata": {
        "id": "68826882"
      },
      "source": [
        "Ahora, podemos crear el CLI al crear un archivo `pyproject.toml` el cual contiene las dependencias del proyecto y permite instalar el script dentro del sistema. Veamos el archivo:"
      ]
    },
    {
      "cell_type": "code",
      "execution_count": null,
      "id": "b17d43e7",
      "metadata": {
        "id": "b17d43e7"
      },
      "outputs": [],
      "source": [
        "%%writefile ./src/pyproject.toml\n",
        "[project]\n",
        "name = \"mlcli\" # nombre del proyecto\n",
        "version = \"0.1.0\" # versión del proyecto\n",
        "description = \"CLI para modelo de detección de trabajos fraudulentos\" # descripción\n",
        "authors = [\n",
        "    {name=\"Juan Lara\", email=\"julara@unal.edu.co\"},\n",
        "    ] # autores con correo.\n",
        "\n",
        "dependencies = [\n",
        "    \"scikit-learn >= 1.2.1\", # depende de sklearn\n",
        "    \"mlflow >= 2.1.1\" # depende de mlflow\n",
        "    ]\n",
        "\n",
        "[build-system]\n",
        "requires = [\n",
        "        \"setuptools\", \"wheel\"\n",
        "        ]\n",
        "\n",
        "[project.scripts]\n",
        "mlcli = \"mlcli:main\" # cli"
      ]
    },
    {
      "cell_type": "markdown",
      "id": "4f308690",
      "metadata": {
        "id": "4f308690"
      },
      "source": [
        "En este caso creamos un CLI con nombre `mlcli` que utiliza la función `main` del script `mlcli.py`.\n",
        "\n",
        "Instalamos el proyecto:"
      ]
    },
    {
      "cell_type": "code",
      "execution_count": null,
      "id": "b876c901",
      "metadata": {
        "id": "b876c901"
      },
      "outputs": [],
      "source": [
        "!pip install ./src/"
      ]
    },
    {
      "cell_type": "markdown",
      "id": "596c198f",
      "metadata": {
        "id": "596c198f"
      },
      "source": [
        "Podemos validar que el cli fue creado:"
      ]
    },
    {
      "cell_type": "code",
      "execution_count": null,
      "id": "55d450d9",
      "metadata": {
        "id": "55d450d9"
      },
      "outputs": [],
      "source": [
        "!mlcli --text \"Organised - Focused - Vibrant - Awesome!Do you have a passion for customer service? Slick typing skills? Maybe Account Management? ...And think administration is cooler than a polar bear on a jetski? Then we need to hear you!\\xa0We are the Cloud Video Production Service and opperating on a glodal level. Yeah, it's pretty cool. Serious about\\xa0delivering a world class product and excellent customer service.Our rapidly expanding business is looking for a talented Project Manager to manage the successful delivery of video projects, manage client communications and drive the production process. Work with some of the coolest brands on the planet and learn from a global team that are representing NZ is a huge way!We are entering the next growth stage of our business and growing quickly internationally. \\xa0Therefore, the position is bursting with opportunity for the right person entering the business at the right time.\\xa090 Seconds, the worlds Cloud Video Production Service -\\xa0http://90#URL_fbe6559afac620a3cd2c22281f7b8d0eef56a73e3d9a311e2f1ca13d081dd630#90 Seconds is the worlds Cloud Video Production Service enabling brands and agencies to get high quality online video content shot and produced anywhere in the world. Fast, affordable, and all managed seamlessly in the cloud from purchase to publish.\\xa090 Seconds removes the hassle, cost, risk and speed issues of working with regular video production companies by managing every aspect of video projects in a beautiful online experience. \\xa0With a growing network of over 2,000 rated video professionals in over 50 countries and dedicated production success teams in 5 countries guaranteeing video project success 100%. It's as easy as commissioning a quick google adwords campaign.90 Seconds has produced almost 4,000 videos in over 30 Countries for over 500 Global brands including some of the worlds largest including Paypal, L'oreal, Sony and Barclays and has offices in Auckland, London, Sydney, Tokyo &amp; Singapore.Our Auckland office is based\\xa0right in the heart of the Wynyard Quarter Innovation Precinct - GridAKL!\\xa0\""
      ]
    },
    {
      "cell_type": "markdown",
      "id": "7289bdab",
      "metadata": {
        "id": "7289bdab"
      },
      "source": [
        "Como podemos ver, creamos el cli `mlcli` que se puede instalar con `pip`. Esta es una de las formas más simples de despliegue de modelos."
      ]
    },
    {
      "cell_type": "markdown",
      "id": "3e2274ad",
      "metadata": {
        "id": "3e2274ad"
      },
      "source": [
        "## Recursos Adicionales\n",
        "---\n",
        "\n",
        "Los siguientes enlaces corresponden a sitios donde encontrará información muy útil para profundizar en los temas vistos en este notebook:\n",
        "\n",
        "- [The pyproject.toml file](https://python-poetry.org/docs/pyproject/).\n",
        "- [Build a quick inference CLI for your machine learning model](https://medium.com/@sthacruz/build-a-quick-inference-cli-for-your-machine-learning-model-be649cf675be)."
      ]
    },
    {
      "cell_type": "markdown",
      "id": "6e747312",
      "metadata": {
        "id": "6e747312"
      },
      "source": [
        "## Créditos\n",
        "---\n",
        "\n",
        "**Profesor**\n",
        "\n",
        "- [Jorge E. Camargo, PhD](https://dis.unal.edu.co/~jecamargom/)\n",
        "\n",
        "**Asistente docente**:\n",
        "\n",
        "- [Juan S. Lara MSc](https://www.linkedin.com/in/juan-sebastian-lara-ramirez-43570a214/)\n",
        "\n",
        "**Coordinador de virtualización:**\n",
        "\n",
        "- [Edder Hernández Forero](https://www.linkedin.com/in/edder-hernandez-forero-28aa8b207/).\n",
        "\n",
        "**Diseño de imágenes:**\n",
        "  - [Rosa Alejandra Superlano Esquibel](https://www.linkedin.com/in/alejandra-superlano-02b74313a/).\n",
        "  - [Mario Andrés Rodríguez Triana](mailto:mrodrigueztr@unal.edu.co).\n",
        "\n",
        "**Universidad Nacional de Colombia** - *Facultad de Ingeniería*"
      ]
    }
  ],
  "metadata": {
    "jupytext": {
      "cell_metadata_filter": "-all"
    },
    "kernelspec": {
      "display_name": "Python 3",
      "name": "python3"
    },
    "colab": {
      "private_outputs": true,
      "provenance": [],
      "include_colab_link": true
    }
  },
  "nbformat": 4,
  "nbformat_minor": 5
}