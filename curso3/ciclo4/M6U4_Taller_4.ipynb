{
  "cells": [
    {
      "cell_type": "markdown",
      "metadata": {
        "id": "view-in-github",
        "colab_type": "text"
      },
      "source": [
        "<a href=\"https://colab.research.google.com/github/nferrucho/NPL/blob/main/curso3/ciclo4/M6U4_Taller_4.ipynb\" target=\"_parent\"><img src=\"https://colab.research.google.com/assets/colab-badge.svg\" alt=\"Open In Colab\"/></a>"
      ]
    },
    {
      "cell_type": "markdown",
      "metadata": {
        "id": "j69mQFrfHmFk"
      },
      "source": [
        "<img src=\"https://drive.google.com/uc?export=view&id=1o4udU5qVMi_7jDi0XzSspbPC6Hw0ev9o\" width=\"100%\">"
      ]
    },
    {
      "cell_type": "markdown",
      "metadata": {
        "id": "fEewD2N0RkMc"
      },
      "source": [
        "# **Taller 4: Despliegue de modelos**\n",
        "---\n",
        "\n",
        "En este notebook evaluaremos los conceptos aprendidos sobre el despliegue de modelos.\n",
        "\n",
        "Ejecute las siguientes celdas para conectarse a UNCode:"
      ]
    },
    {
      "cell_type": "code",
      "execution_count": null,
      "metadata": {
        "id": "2nZiCjQpPdYC"
      },
      "outputs": [],
      "source": [
        "!pip install rlxcrypt"
      ]
    },
    {
      "cell_type": "code",
      "execution_count": null,
      "metadata": {
        "id": "TAqkL4giPflw"
      },
      "outputs": [],
      "source": [
        "!wget --no-cache -O session.pye -q https://raw.githubusercontent.com/JuezUN/INGInious/master/external%20libs/session.pye"
      ]
    },
    {
      "cell_type": "code",
      "execution_count": null,
      "metadata": {
        "id": "CKNgJYjHPhtr"
      },
      "outputs": [],
      "source": [
        "import rlxcrypt\n",
        "import session\n",
        "\n",
        "grader = session.LoginSequence(\"MAPEDDACML-GroupMLDS-6-2024-2@2907beb0-f808-419c-a736-2406605bf0ad\")"
      ]
    },
    {
      "cell_type": "markdown",
      "metadata": {
        "id": "S-ocd--frFi7"
      },
      "source": [
        "Comenzamos instalando las librerías y herramientas necesarias:"
      ]
    },
    {
      "cell_type": "code",
      "execution_count": null,
      "metadata": {
        "id": "AMgHXLh7Zg1l"
      },
      "outputs": [],
      "source": [
        "!pip install fastapi"
      ]
    },
    {
      "cell_type": "markdown",
      "metadata": {
        "id": "R6-Jscb8Zyhb"
      },
      "source": [
        "Importamos las librerías necesarias:"
      ]
    },
    {
      "cell_type": "code",
      "execution_count": null,
      "metadata": {
        "id": "PIB7qeOuVkfh"
      },
      "outputs": [],
      "source": [
        "# Librerías de utilidad para manipulación y visualización de datos.\n",
        "import joblib\n",
        "import requests\n",
        "import pandas as pd\n",
        "import os\n",
        "import subprocess\n",
        "from sklearn.svm import SVR\n",
        "from IPython.display import display\n",
        "from pydantic import BaseModel\n",
        "from typing import List\n",
        "\n",
        "# Ignorar warnings.\n",
        "import warnings\n",
        "warnings.filterwarnings('ignore')"
      ]
    },
    {
      "cell_type": "code",
      "execution_count": null,
      "metadata": {
        "id": "jUMP_2CPqwRY"
      },
      "outputs": [],
      "source": [
        "# Versiones de las librerías usadas\n",
        "!python --version\n",
        "import fastapi\n",
        "print('FastAPI', fastapi.__version__)"
      ]
    },
    {
      "cell_type": "markdown",
      "metadata": {
        "id": "F0TKCwN8KRtN"
      },
      "source": [
        "Esta actividad se realizó con las siguientes versiones:\n",
        "*  Python 3.10.11\n",
        "*  FastAPI 0.95.11"
      ]
    },
    {
      "cell_type": "markdown",
      "metadata": {
        "id": "b0azfDGkKpoM"
      },
      "source": [
        "## **Carga de datos**\n",
        "----\n",
        "\n",
        "Se trata de un conjunto de datos que contiene valores monetarios de las acciones de la empresa ABC durante seis días consecutivos, las columnas están nombradas de forma relativa de acuerdo al día, donde el primer día corresponde a `d1`, el segundo a `d2`, y así con el resto de días.\n",
        "\n",
        "<center><img src = \"https://drive.google.com/uc?export=view&id=1_zfM8NlHwTjJlilr8hSC0MEXMFKyVqKl\" alt = \"Encabezado MLDS\" width = \"80%\">  </img></center>\n",
        "\n",
        "El objetivo es utilizar los 5 primeros días para predecir el valor de la acción durante el sexto día."
      ]
    },
    {
      "cell_type": "code",
      "execution_count": null,
      "metadata": {
        "id": "j8_7t6WpKPrw"
      },
      "outputs": [],
      "source": [
        "data = pd.read_parquet(\"https://raw.githubusercontent.com/mindlab-unal/mlds6-datasets/main/u4/stocks.parquet\")\n",
        "display(data.head())"
      ]
    },
    {
      "cell_type": "markdown",
      "metadata": {
        "id": "zy4igwl5LBt-"
      },
      "source": [
        "## **1. Selección de Datos**\n",
        "---\n",
        "En este punto deberá separar la columna objetivo de las variables que serán entrada para el modelo.\n",
        "\n",
        "Para esto debe implementar la función `get_xy` la cual toma como entrada el conjunto de datos y debe retornar la matriz de características y el vector de etiquetas.\n",
        "\n",
        "**Parámetros**\n",
        "\n",
        "- `df`: conjunto de datos como un `pd.DataFrame`.\n",
        "\n",
        "**Retorna**\n",
        "\n",
        "- `features`: arreglo de `numpy` con las características.\n",
        "- `labels`: arreglo de `numpy` con las etiquetas."
      ]
    },
    {
      "cell_type": "code",
      "execution_count": null,
      "metadata": {
        "id": "mWSd50aALJB8"
      },
      "outputs": [],
      "source": [
        "# FUNCIÓN CALIFICADA get_xy\n",
        "def get_xy(df):\n",
        "    ### ESCRIBA SU CÓDIGO AQUÍ ###\n",
        "    features, labels = ..., ...\n",
        "    return features, labels\n",
        "    ### FIN DEL CÓDIGO ###"
      ]
    },
    {
      "cell_type": "markdown",
      "metadata": {
        "id": "vwI9L3JBLN_K"
      },
      "source": [
        "Use las siguientes celdas para probar su solución:"
      ]
    },
    {
      "cell_type": "code",
      "execution_count": null,
      "metadata": {
        "id": "nlP_P8WqLNY9"
      },
      "outputs": [],
      "source": [
        "#TEST_CELL\n",
        "features, labels = get_xy(data)\n",
        "display(features.sum())"
      ]
    },
    {
      "cell_type": "markdown",
      "metadata": {
        "id": "7rDJViUrLRhe"
      },
      "source": [
        "El resultado de la celda anterior debería ser:\n",
        "\n",
        "```python\n",
        "❱ display(features.sum())\n",
        "34949.00878930474\n",
        "```"
      ]
    },
    {
      "cell_type": "code",
      "execution_count": null,
      "metadata": {
        "id": "7KVVD5lKLR8I"
      },
      "outputs": [],
      "source": [
        "#TEST_CELL\n",
        "features, labels = get_xy(data)\n",
        "display(features.shape)\n",
        "display(labels.shape)"
      ]
    },
    {
      "cell_type": "markdown",
      "metadata": {
        "id": "rYlPQ2cDLTJN"
      },
      "source": [
        "El resultado de la celda anterior debería dar los tamaños esperados de los arreglos:\n",
        "\n",
        "```python\n",
        "❱ display(features.shape)\n",
        "(1000, 5)\n",
        "\n",
        "❱ display(labels.shape)\n",
        "(1000,)\n",
        "```"
      ]
    },
    {
      "cell_type": "markdown",
      "metadata": {
        "id": "kAsG3vcvgQ29"
      },
      "source": [
        "<details>\n",
        "<summary>\n",
        "    <font size=\"3\" color=\"darkgreen\"><b>Pista 1</b></font>\n",
        "</summary>\n",
        "\n",
        "* Recuerde convertir la matriz de características y el vector de etiquetas a arreglos de `numpy`.\n",
        "</details>"
      ]
    },
    {
      "cell_type": "markdown",
      "metadata": {
        "id": "09aaEP4hgaRJ"
      },
      "source": [
        "<details>\n",
        "<summary>\n",
        "    <font size=\"3\" color=\"darkgreen\"><b>Pista 2</b></font>\n",
        "</summary>\n",
        "\n",
        "* Puede usar el método `drop` para excluir una columna del `DataFrame`.\n",
        "</details>"
      ]
    },
    {
      "cell_type": "markdown",
      "metadata": {
        "id": "piBujd3dLq2K"
      },
      "source": [
        "### **Evaluar código**"
      ]
    },
    {
      "cell_type": "code",
      "execution_count": null,
      "metadata": {
        "id": "8vZaPRU7FDum"
      },
      "outputs": [],
      "source": [
        "grader.run_test(\"Test 1_1\", globals())"
      ]
    },
    {
      "cell_type": "markdown",
      "metadata": {
        "id": "jha94e9kRH37"
      },
      "source": [
        "## **2. Creación del Repositorio**\n",
        "---\n",
        "\n",
        "En este punto deberá crear un repositorio de `git` de la siguiente forma:\n",
        "\n",
        "1. El nombre del repositorio debe ser `stocks`.\n",
        "2. Debe ubicarse dentro del repositorio e inicializarlo con `git`.\n",
        "\n",
        "Para esto deberá autenticarse con `git`:"
      ]
    },
    {
      "cell_type": "code",
      "execution_count": null,
      "metadata": {
        "id": "IB-U8rDrROVP"
      },
      "outputs": [],
      "source": [
        "!git config --global user.email \"ejemplo@unal.edu.co\"\n",
        "!git config --global user.name \"Mi nombre o username\"\n",
        "!git config --global init.defaultBranch master"
      ]
    },
    {
      "cell_type": "code",
      "execution_count": null,
      "metadata": {
        "id": "gX6UFkiIRH4A"
      },
      "outputs": [],
      "source": [
        "#TEST_CELL\n",
        "\"\"\"\n",
        "    Descomente esta celda si lo requiere\n",
        "    Este comando borrará el directorio stocks\n",
        "    si existe en el directorio actual\n",
        "\"\"\"\n",
        "# ![ -d stocks ] && rm -rf stocks"
      ]
    },
    {
      "cell_type": "code",
      "execution_count": null,
      "metadata": {
        "id": "2FF_kFR8RvNs"
      },
      "outputs": [],
      "source": [
        "# INGRESE SU CÓDIGO AQUÍ"
      ]
    },
    {
      "cell_type": "markdown",
      "metadata": {
        "id": "9E3G_EUfRH4A"
      },
      "source": [
        "Use las siguientes celdas para probar su solución:"
      ]
    },
    {
      "cell_type": "code",
      "execution_count": null,
      "metadata": {
        "id": "ClZJx-yvRH4A"
      },
      "outputs": [],
      "source": [
        "#TEST_CELL\n",
        "!pwd | awk -F '/' '{print $NF}'"
      ]
    },
    {
      "cell_type": "markdown",
      "metadata": {
        "id": "opSmJZ7RRH4B"
      },
      "source": [
        "**Salida esperada**\n",
        "\n",
        "En este caso debería obtener el nombre del repositorio:\n",
        "\n",
        "```python\n",
        "❱ !pwd | awk -F '/' '{print $NF}'\n",
        "stocks\n",
        "```"
      ]
    },
    {
      "cell_type": "code",
      "execution_count": null,
      "metadata": {
        "id": "nLoOVnlGRH4B"
      },
      "outputs": [],
      "source": [
        "#TEST_CELL\n",
        "!git status"
      ]
    },
    {
      "cell_type": "markdown",
      "metadata": {
        "id": "96U5sAOyRH4B"
      },
      "source": [
        "**Salida esperada**\n",
        "\n",
        "En este caso se valida que estemos dentro de un repositorio de `git`.\n",
        "\n",
        "```python\n",
        "❱ !git status\n",
        "On branch main\n",
        "\n",
        "No commits yet\n",
        "\n",
        "nothing to commit (create/copy files and use \"git add\" to track)\n",
        "```"
      ]
    },
    {
      "cell_type": "markdown",
      "metadata": {
        "id": "Bx_4KxHTRH4B"
      },
      "source": [
        "<details>\n",
        "<summary>\n",
        "    <font size=\"3\" color=\"darkgreen\"><b>Pista 1</b></font>\n",
        "</summary>\n",
        "\n",
        "* Recuerde que con `mkdir` puede crear carpetas.\n",
        "</details>"
      ]
    },
    {
      "cell_type": "markdown",
      "metadata": {
        "id": "l_BQZCl1RH4B"
      },
      "source": [
        "<details>\n",
        "<summary>\n",
        "    <font size=\"3\" color=\"darkgreen\"><b>Pista 2</b></font>\n",
        "</summary>\n",
        "\n",
        "* El comando `%cd` es necesario para movimientos dentro de linux.\n",
        "</details>"
      ]
    },
    {
      "cell_type": "markdown",
      "metadata": {
        "id": "G9HvDEv-RgZ8"
      },
      "source": [
        "<details>\n",
        "<summary>\n",
        "    <font size=\"3\" color=\"darkgreen\"><b>Pista 3</b></font>\n",
        "</summary>\n",
        "\n",
        "* Recuerde que dentro de un terminal, el comando `git` le permite realizar cualquier operación con un repositorio.\n",
        "</details>"
      ]
    },
    {
      "cell_type": "markdown",
      "metadata": {
        "id": "buQPz0fKRH4B"
      },
      "source": [
        "### **Evaluar código**"
      ]
    },
    {
      "cell_type": "markdown",
      "metadata": {
        "id": "YqPOZ1hNjJgO"
      },
      "source": [
        "> **Esta celda debe ser ejecutada obligatoriamente antes de evaluar el ejercicio**"
      ]
    },
    {
      "cell_type": "code",
      "execution_count": null,
      "metadata": {
        "id": "uXhh1Z7llJmk"
      },
      "outputs": [],
      "source": [
        "result = subprocess.run(['pwd'], stdout=subprocess.PIPE)\n",
        "current_directory = result.stdout.decode('utf-8').strip().split('/')[-1]"
      ]
    },
    {
      "cell_type": "code",
      "execution_count": null,
      "metadata": {
        "id": "ormZejjLRH4C"
      },
      "outputs": [],
      "source": [
        "grader.run_test(\"Test 2_1\", globals())"
      ]
    },
    {
      "cell_type": "markdown",
      "metadata": {
        "id": "Xuo4Z1UnTvar"
      },
      "source": [
        "## **3. Modelamiento**\n",
        "---\n",
        "\n",
        "En este punto deberá entrenar un modelo de máquina de soporte vectorial para regresión a partir de los datos.\n",
        "\n",
        "Para esto debe implementar la función `train_model` la cual toma como entrada la matriz de características y el vector de etiquetas y debe retornar el modelo entrenado.\n",
        "\n",
        "**Parámetros**\n",
        "\n",
        "- `features`: arreglo de `numpy` con las características.\n",
        "- `labels`: arreglo de `numpy` con las etiquetas.\n",
        "\n",
        "**Retorna**\n",
        "\n",
        "- `model`: modelo entrenado."
      ]
    },
    {
      "cell_type": "code",
      "execution_count": null,
      "metadata": {
        "id": "SnAUUGc0TxS6"
      },
      "outputs": [],
      "source": [
        "# FUNCIÓN CALIFICADA train_model\n",
        "def train_model(features, labels):\n",
        "    ### ESCRIBA SU CÓDIGO AQUÍ ###\n",
        "    model = ...\n",
        "    return model\n",
        "    ### FIN DEL CÓDIGO ###"
      ]
    },
    {
      "cell_type": "markdown",
      "metadata": {
        "id": "9C6u-T7QT6bG"
      },
      "source": [
        "Use las siguientes celdas para probar su solución:"
      ]
    },
    {
      "cell_type": "code",
      "execution_count": null,
      "metadata": {
        "id": "VlKeuFUBT6pg"
      },
      "outputs": [],
      "source": [
        "#TEST_CELL\n",
        "features, labels = get_xy(data)\n",
        "model = train_model(features, labels)\n",
        "print(model.score(features, labels))"
      ]
    },
    {
      "cell_type": "markdown",
      "metadata": {
        "id": "PDqFfhbxT_C9"
      },
      "source": [
        "El resultado de la celda anterior debería ser:\n",
        "\n",
        "```python\n",
        "❱ print(model.score(features, labels))\n",
        "0.9804584510787114\n",
        "```"
      ]
    },
    {
      "cell_type": "markdown",
      "metadata": {
        "id": "tX569YPQUB61"
      },
      "source": [
        "<details>\n",
        "<summary>\n",
        "    <font size=\"3\" color=\"darkgreen\"><b>Pista 1</b></font>\n",
        "</summary>\n",
        "\n",
        "* Recuerde que la clase `SVR` le permite definir una máquina de soporte vectorial para regresión.\n",
        "</details>"
      ]
    },
    {
      "cell_type": "markdown",
      "metadata": {
        "id": "YZLQRY_tUIkZ"
      },
      "source": [
        "<details>\n",
        "<summary>\n",
        "    <font size=\"3\" color=\"darkgreen\"><b>Pista 2</b></font>\n",
        "</summary>\n",
        "\n",
        "* Tenga en cuenta que el modelo debe ser entrenado antes de retornarlo.\n",
        "</details>"
      ]
    },
    {
      "cell_type": "markdown",
      "metadata": {
        "id": "JpkrZEcyULKU"
      },
      "source": [
        "### **Evaluar código**"
      ]
    },
    {
      "cell_type": "code",
      "execution_count": null,
      "metadata": {
        "id": "OZJ9SIszYRAp"
      },
      "outputs": [],
      "source": [
        "grader.run_test(\"Test 3_1\", globals())"
      ]
    },
    {
      "cell_type": "markdown",
      "metadata": {
        "id": "iy9tuXv8Y0-I"
      },
      "source": [
        "## **4. Persistencia de Modelo**\n",
        "---\n",
        "\n",
        "En este punto deberá escribir una función que permita guardar un modelo entrenado con el nombre `model.joblib`.\n",
        "\n",
        "Para esto, debe implementar la función `save_model` la cual toma como entrada un modelo entrenado y la ruta de almacenamiento del archivo para guardarlo.\n",
        "\n",
        "**Parámetros**\n",
        "\n",
        "- `model`: modelo entrenado.\n",
        "- `path`: ruta donde se guardará el modelo."
      ]
    },
    {
      "cell_type": "code",
      "execution_count": null,
      "metadata": {
        "id": "ZrASuB5LY7Op"
      },
      "outputs": [],
      "source": [
        "# FUNCIÓN CALIFICADA save_model\n",
        "def save_model(model, path):\n",
        "    ### ESCRIBA SU CÓDIGO AQUÍ ###\n",
        "    ...\n",
        "    ### FIN DEL CÓDIGO ###"
      ]
    },
    {
      "cell_type": "markdown",
      "metadata": {
        "id": "RE0Fv4dkY7Oq"
      },
      "source": [
        "Use las siguientes celdas para probar su solución:"
      ]
    },
    {
      "cell_type": "code",
      "execution_count": null,
      "metadata": {
        "id": "3ivSgRcQY7Oq"
      },
      "outputs": [],
      "source": [
        "#TEST_CELL\n",
        "save_model(model, \"model.joblib\")\n",
        "!ls -sh"
      ]
    },
    {
      "cell_type": "markdown",
      "metadata": {
        "id": "t-nTYwaUZM3A"
      },
      "source": [
        "El resultado de la celda anterior debería ser:\n",
        "\n",
        "```python\n",
        "❱ !ls -sh\n",
        "total 28K\n",
        "28K model.joblib\n",
        "```"
      ]
    },
    {
      "cell_type": "markdown",
      "metadata": {
        "id": "o_GdhuFgY7Oq"
      },
      "source": [
        "<details>\n",
        "<summary>\n",
        "    <font size=\"3\" color=\"darkgreen\"><b>Pista 1</b></font>\n",
        "</summary>\n",
        "\n",
        "* Recuerde que puede usar la librería `joblib` para guardar modelos de `sklearn`.\n",
        "</details>"
      ]
    },
    {
      "cell_type": "markdown",
      "metadata": {
        "id": "8ZkSVaIUY7Oq"
      },
      "source": [
        "<details>\n",
        "<summary>\n",
        "    <font size=\"3\" color=\"darkgreen\"><b>Pista 2</b></font>\n",
        "</summary>\n",
        "\n",
        "* Revise el funcionamiento de la función `joblib.dump`.\n",
        "</details>"
      ]
    },
    {
      "cell_type": "markdown",
      "metadata": {
        "id": "2co_YvCzY7Oq"
      },
      "source": [
        "### **Evaluar código**"
      ]
    },
    {
      "cell_type": "markdown",
      "metadata": {
        "id": "tHJJQ1lolXmw"
      },
      "source": [
        "> **Esta celda debe ser ejecutada obligatoriamente antes de evaluar el ejercicio**"
      ]
    },
    {
      "cell_type": "code",
      "execution_count": null,
      "metadata": {
        "id": "OrtX8NxElWjH"
      },
      "outputs": [],
      "source": [
        "save_model(model, \"model.joblib\")\n",
        "comm = subprocess.check_output(['ls', '-sh'])\n",
        "saved_directory = (comm.decode('utf-8')).split()"
      ]
    },
    {
      "cell_type": "code",
      "execution_count": null,
      "metadata": {
        "id": "VHfyQJtrY7Or"
      },
      "outputs": [],
      "source": [
        "grader.run_test(\"Test 4_1\", globals())"
      ]
    },
    {
      "cell_type": "markdown",
      "metadata": {
        "id": "Gxi8we3BcjkZ"
      },
      "source": [
        "## **5. Estructuración de API**\n",
        "---\n",
        "\n",
        "En este punto deberá escribir una clase que representará la entrada y la salida de un API para el modelo en `fastapi`.\n",
        "\n",
        "Para esto debe implementar las clases `ApiInput` y `ApiOutput` con las siguientes consideranciones:\n",
        "\n",
        "- `ApiInput`: debe tener un atributo llamado `features` que tenga tipo `List[float]`.\n",
        "- `ApiOutput`: debe tener un atributo llamado `forecast` que sea de tipo `float`."
      ]
    },
    {
      "cell_type": "code",
      "execution_count": null,
      "metadata": {
        "id": "85TZkgTucnoD"
      },
      "outputs": [],
      "source": [
        "# CLASE CALIFICADA ApiInput\n",
        "class ApiInput(...):\n",
        "    ### ESCRIBA SU CÓDIGO AQUÍ ###\n",
        "    ...\n",
        "    ### FIN DEL CÓDIGO ###"
      ]
    },
    {
      "cell_type": "code",
      "execution_count": null,
      "metadata": {
        "id": "cRytnBqsc2Oh"
      },
      "outputs": [],
      "source": [
        "# CLASE CALIFICADA ApiOutput\n",
        "class ApiOutput(...):\n",
        "    ### ESCRIBA SU CÓDIGO AQUÍ ###\n",
        "    ...\n",
        "    ### FIN DEL CÓDIGO ###"
      ]
    },
    {
      "cell_type": "markdown",
      "metadata": {
        "id": "4jDepD3YcnoD"
      },
      "source": [
        "Use las siguientes celdas para probar su solución:"
      ]
    },
    {
      "cell_type": "code",
      "execution_count": null,
      "metadata": {
        "id": "OawqPt69cnoD"
      },
      "outputs": [],
      "source": [
        "#TEST_CELL\n",
        "inp = ApiInput(features=[1.1, 2.2, 3.3])\n",
        "display(inp)"
      ]
    },
    {
      "cell_type": "markdown",
      "metadata": {
        "id": "cdGDYSXRc9CC"
      },
      "source": [
        "El resultado de la celda anterior debería ser:\n",
        "\n",
        "```python\n",
        "❱ display(inp)\n",
        "ApiInput(features=[1.1, 2.2, 3.3])\n",
        "```"
      ]
    },
    {
      "cell_type": "code",
      "execution_count": null,
      "metadata": {
        "id": "nF1jltntdANF"
      },
      "outputs": [],
      "source": [
        "#TEST_CELL\n",
        "out = ApiOutput(forecast=4.5)\n",
        "display(out)"
      ]
    },
    {
      "cell_type": "markdown",
      "metadata": {
        "id": "ROcsKrSPdAsq"
      },
      "source": [
        "El resultado de la celda anterior debería ser:\n",
        "\n",
        "```python\n",
        "❱ display(out)\n",
        "ApiOutput(forecast=4.5)\n",
        "```"
      ]
    },
    {
      "cell_type": "markdown",
      "metadata": {
        "id": "UbE7ynVYcnoE"
      },
      "source": [
        "<details>\n",
        "<summary>\n",
        "    <font size=\"3\" color=\"darkgreen\"><b>Pista 1</b></font>\n",
        "</summary>\n",
        "\n",
        "* Las clases que estructuran las entradas del API deberán heredar de `BaseModel`.\n",
        "</details>"
      ]
    },
    {
      "cell_type": "markdown",
      "metadata": {
        "id": "mxMTXYwPcnoE"
      },
      "source": [
        "<details>\n",
        "<summary>\n",
        "    <font size=\"3\" color=\"darkgreen\"><b>Pista 2</b></font>\n",
        "</summary>\n",
        "\n",
        "* Recuerde utilizar la notación `:` para especificar anotaciones de tipo.\n",
        "</details>"
      ]
    },
    {
      "cell_type": "markdown",
      "metadata": {
        "id": "CmoQSrvscnoE"
      },
      "source": [
        "### **Evaluar código**"
      ]
    },
    {
      "cell_type": "markdown",
      "metadata": {
        "id": "kXdhJKXD2a88"
      },
      "source": [
        "> **Esta celda debe ser ejecutada obligatoriamente antes de evaluar el ejercicio**"
      ]
    },
    {
      "cell_type": "code",
      "execution_count": null,
      "metadata": {
        "id": "tIvs_Ffj6ELo"
      },
      "outputs": [],
      "source": [
        "\"\"\"\n",
        "    Esta celda debe ser ejecutada obligatoriamente antes de evaluar el código.\n",
        "    No la debe modificar\n",
        "\"\"\"\n",
        "\n",
        "def get_api_input(features: List[float]) -> ApiInput:\n",
        "    return ApiInput(features=features)\n",
        "\n",
        "def get_api_output(forecast: float) -> ApiOutput:\n",
        "    return ApiOutput(forecast=forecast)"
      ]
    },
    {
      "cell_type": "code",
      "execution_count": null,
      "metadata": {
        "id": "9q33uDLGcnoE"
      },
      "outputs": [],
      "source": [
        "grader.run_test(\"Test 5_1\", globals())"
      ]
    },
    {
      "cell_type": "markdown",
      "metadata": {
        "id": "q9it0cdMfhhr"
      },
      "source": [
        "## **6. Función del API**\n",
        "---\n",
        "\n",
        "En este punto deberá implementar una función que a partir de la clase de entrada, genere la clase de salida por medio del modelo.\n",
        "\n",
        "Para esto debe utilizar la función `predict`, la cual toma como entrada un `ApiInput` y debe generar un `ApiOutput` al cargar y utilizar el modelo guardado en la ruta `model.joblib`.\n",
        "\n",
        "**Parámetros**\n",
        "\n",
        "- `data`: un objeto de tipo `ApiInput`.\n",
        "\n",
        "**Retorna**\n",
        "\n",
        "- `prediction`: un objeto de tipo `ApiOutput`."
      ]
    },
    {
      "cell_type": "code",
      "execution_count": null,
      "metadata": {
        "id": "e5WG8g4MfpYk"
      },
      "outputs": [],
      "source": [
        "# FUNCIÓN CALIFICADA train_model\n",
        "def predict(data: ApiInput) -> ApiOutput:\n",
        "    ### ESCRIBA SU CÓDIGO AQUÍ ###\n",
        "    prediction = ...\n",
        "    return prediction\n",
        "    ### FIN DEL CÓDIGO ###"
      ]
    },
    {
      "cell_type": "markdown",
      "metadata": {
        "id": "kj-jhlR9fpYl"
      },
      "source": [
        "Use las siguientes celdas para probar su solución:"
      ]
    },
    {
      "cell_type": "code",
      "execution_count": null,
      "metadata": {
        "id": "sEqUfikyfpYl"
      },
      "outputs": [],
      "source": [
        "#TEST_CELL\n",
        "inp = ApiInput(features=[1.1, 2.2, 3.3, 3.2, 0.9])\n",
        "print(type(inp), inp.features)\n",
        "\n",
        "pred = predict(inp)\n",
        "display(pred)"
      ]
    },
    {
      "cell_type": "code",
      "execution_count": null,
      "metadata": {
        "id": "jmJu5-FvIzLk"
      },
      "outputs": [],
      "source": [
        "inp = ApiInput(features=[52.6, 5.4, 1.85, 9.62, 3.2])\n",
        "pred = predict(inp)\n",
        "display(pred)"
      ]
    },
    {
      "cell_type": "markdown",
      "metadata": {
        "id": "5Z7Y9jidfpYl"
      },
      "source": [
        "El resultado de la celda anterior debería ser:\n",
        "\n",
        "```python\n",
        "❱ display(pred)\n",
        "ApiOutput(forecast=9.756829361821138)\n",
        "```"
      ]
    },
    {
      "cell_type": "markdown",
      "metadata": {
        "id": "ffYHFuPKfpYl"
      },
      "source": [
        "### **Evaluar código**"
      ]
    },
    {
      "cell_type": "code",
      "execution_count": null,
      "metadata": {
        "id": "2AXvIzfTfpYm"
      },
      "outputs": [],
      "source": [
        "grader.run_test(\"Test 6_1\", globals())"
      ]
    },
    {
      "cell_type": "markdown",
      "metadata": {
        "id": "x1peoSsNiDbe"
      },
      "source": [
        "## **7. Despliegue del modelo (OPCIONAL)**\n",
        "---\n",
        "\n",
        "En este punto deberá seguir los siguientes pasos:\n",
        "\n",
        "1. Completar el script `main.py`\n",
        "2. Subir todo a un repositorio de github y desplegar el API.\n",
        "\n",
        "Debe completar el siguiente script:\n",
        "\n",
        "> **Nota**: `Railway` solo permite conectar cuentas de _Github_ que tengan una identidad confiable al tener cierta trayectoria, es por eso que si tienes una cuenta nueva no podrás desarrollar este punto en el momento"
      ]
    },
    {
      "cell_type": "code",
      "execution_count": null,
      "metadata": {
        "id": "3YTf-Z1hiHlh"
      },
      "outputs": [],
      "source": [
        "%%writefile main.py\n",
        "from fastapi import FastAPI\n",
        "from pydantic import BaseModel\n",
        "from typing import List\n",
        "import joblib\n",
        "\n",
        "# Reemplace esto con su implementación:\n",
        "class ApiInput(...):\n",
        "    ...\n",
        "\n",
        "# Reemplace esto con su implementación:\n",
        "class ApiOutput(...):\n",
        "    ...\n",
        "\n",
        "app = FastAPI()\n",
        "model = joblib.load(\"model.joblib\")\n",
        "\n",
        "# Reemplace esto con su implementación:\n",
        "@app.post(\"/predict\")\n",
        "async def predict(data: ApiInput) -> ApiOutput:\n",
        "    ..."
      ]
    },
    {
      "cell_type": "markdown",
      "metadata": {
        "id": "kqKIdaCpsyB9"
      },
      "source": [
        "<details>\n",
        "<summary>\n",
        "    <font size=\"3\" color=\"darkgreen\"><b>Pista 1</b></font>\n",
        "</summary>\n",
        "\n",
        "* Recuerde que puede utilizar el procedimiento visto en el notebook `3_fastapi`.\n",
        "</details>"
      ]
    },
    {
      "cell_type": "markdown",
      "metadata": {
        "id": "dspnsoNLiJWb"
      },
      "source": [
        "Utilice los siguientes archivos de configuración:"
      ]
    },
    {
      "cell_type": "code",
      "execution_count": null,
      "metadata": {
        "id": "PJv3yIDsiJsx"
      },
      "outputs": [],
      "source": [
        "%%writefile requirements.txt\n",
        "scikit-learn==1.2.2\n",
        "fastapi==0.82.0\n",
        "uvicorn==0.19.0"
      ]
    },
    {
      "cell_type": "code",
      "execution_count": null,
      "metadata": {
        "id": "yKJ7O1jpiLRV"
      },
      "outputs": [],
      "source": [
        "%%writefile railway.json\n",
        "{\n",
        "  \"$schema\": \"https://railway.app/railway.schema.json\",\n",
        "  \"build\": {\n",
        "    \"builder\": \"NIXPACKS\"\n",
        "  },\n",
        "  \"deploy\": {\n",
        "    \"startCommand\": \"uvicorn main:app --host 0.0.0.0 --port $PORT\",\n",
        "    \"restartPolicyType\": \"ON_FAILURE\",\n",
        "    \"restartPolicyMaxRetries\": 10\n",
        "  }\n",
        "}"
      ]
    },
    {
      "cell_type": "markdown",
      "metadata": {
        "id": "xMX8joWaiNeD"
      },
      "source": [
        "Escriba los comandos para subir todo al repositorio de **GitHub**:"
      ]
    },
    {
      "cell_type": "code",
      "execution_count": null,
      "metadata": {
        "id": "CbLWZRHQK6-L"
      },
      "outputs": [],
      "source": [
        "# INGRESE SU CÓDIGO AQUÍ"
      ]
    },
    {
      "cell_type": "markdown",
      "metadata": {
        "id": "ZSJun7uTiQxk"
      },
      "source": [
        "Si el despliegue fue correcto, debe pegar la url del modelo en la siguiente variable:"
      ]
    },
    {
      "cell_type": "code",
      "execution_count": null,
      "metadata": {
        "id": "McXX6W08iTbP"
      },
      "outputs": [],
      "source": [
        "# INGRESE SU URL AQUÍ\n",
        "model_url = \"https://mlapi-production.up.railway.app\""
      ]
    },
    {
      "cell_type": "code",
      "execution_count": null,
      "metadata": {
        "id": "2UCj0WKdiTxk"
      },
      "outputs": [],
      "source": [
        "#TEST_CELL\n",
        "inp = ApiInput(features=[1.1, 2.2, 3.3, 3.2, 0.9])\n",
        "r = requests.post(\n",
        "    os.path.join(model_url, \"predict\"),\n",
        "    json=inp.dict(),\n",
        "    )\n",
        "print(r.json())"
      ]
    },
    {
      "cell_type": "markdown",
      "metadata": {
        "id": "xE7dvtFEiVIs"
      },
      "source": [
        "El resultado de la celda anterior debería ser:\n",
        "\n",
        "```python\n",
        "{\"forecast\": 9.756829361821138}\n",
        "```"
      ]
    },
    {
      "cell_type": "markdown",
      "metadata": {
        "id": "08eh8HTknUDd"
      },
      "source": [
        "# **Evaluación**"
      ]
    },
    {
      "cell_type": "code",
      "execution_count": null,
      "metadata": {
        "id": "pb0DP1bWwRll"
      },
      "outputs": [],
      "source": [
        "grader.submit_task(globals())"
      ]
    },
    {
      "cell_type": "markdown",
      "metadata": {
        "id": "xwLqFy8Zzet_"
      },
      "source": [
        "# **Créditos**\n",
        "---\n",
        "\n",
        "* **Profesor:** [Jorge E. Camargo, PhD](https://dis.unal.edu.co/~jecamargom/).\n",
        "\n",
        "* **Asistentes docentes:** [Juan Sebastián Lara Ramírez](https://www.linkedin.com/in/juan-sebastian-lara-ramirez-43570a214/).\n",
        "* **Diseño de imágenes:**\n",
        "  - [Rosa Alejandra Superlano Esquibel](https://www.linkedin.com/in/alejandra-superlano-02b74313a/).\n",
        "  - [Mario Andrés Rodríguez Triana](mailto:mrodrigueztr@unal.edu.co).\n",
        "\n",
        "* **Coordinador de virtualización:** [Edder Hernández Forero](https://www.linkedin.com/in/edder-hernandez-forero-28aa8b207/).\n",
        "\n",
        "**Universidad Nacional de Colombia** - *Facultad de Ingeniería*"
      ]
    }
  ],
  "metadata": {
    "colab": {
      "provenance": [],
      "include_colab_link": true
    },
    "kernelspec": {
      "display_name": "Python 3",
      "name": "python3"
    },
    "language_info": {
      "name": "python"
    }
  },
  "nbformat": 4,
  "nbformat_minor": 0
}