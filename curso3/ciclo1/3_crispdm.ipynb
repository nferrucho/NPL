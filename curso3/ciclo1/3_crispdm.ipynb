{
  "cells": [
    {
      "cell_type": "markdown",
      "metadata": {
        "id": "view-in-github",
        "colab_type": "text"
      },
      "source": [
        "<a href=\"https://colab.research.google.com/github/nferrucho/NPL/blob/main/curso3/ciclo1/3_crispdm.ipynb\" target=\"_parent\"><img src=\"https://colab.research.google.com/assets/colab-badge.svg\" alt=\"Open In Colab\"/></a>"
      ]
    },
    {
      "cell_type": "markdown",
      "id": "3ebf1c46",
      "metadata": {
        "id": "3ebf1c46"
      },
      "source": [
        "<img src=\"https://drive.google.com/uc?export=view&id=1li4ahmMhPo2cEUVqQKRDA9ahHp2py4Xb\" width=\"100%\">"
      ]
    },
    {
      "cell_type": "markdown",
      "id": "b33b6810",
      "metadata": {
        "id": "b33b6810"
      },
      "source": [
        "# Cross Industry Standard Process for Data Mining\n",
        "---\n",
        "\n",
        "En este notebook veremos un ejemplo práctico de la metodología _Cross Industry Standard Process for Data Mining_ (CRISPDM).\n",
        "\n",
        "<img src=\"https://drive.google.com/uc?export=view&id=1n2Sgt3If68rpeBSB8cIn1irJwc2J3Ilr\" width=\"100%\">\n",
        "\n",
        "Este problema lo abordaremos con las siguientes librerías:\n",
        "\n",
        "> **Nota**: este problema lo abordaremos con `tensorflow`, `numpy` y `pandas` para manejo de datos y modelamiento, y con `plotly` para visualización. Es importante tener en cuenta esto, ya que uno de los problemas que vamos a abordar a lo largo de este curso es saber cómo podemos integrar proyectos de machine learning independiente de las librerías o el lenguaje de programación usado."
      ]
    },
    {
      "cell_type": "code",
      "execution_count": null,
      "id": "d120921f",
      "metadata": {
        "id": "d120921f"
      },
      "outputs": [],
      "source": [
        "import plotly.express as px\n",
        "import numpy as np\n",
        "import pandas as pd\n",
        "import tensorflow as tf\n",
        "import tensorflow_datasets as tfds\n",
        "from tensorflow.keras.models import Model\n",
        "from tensorflow.keras.layers import Dense, Dropout, GlobalAveragePooling2D\n",
        "from tensorflow.keras.losses import SparseCategoricalCrossentropy\n",
        "from tensorflow.keras.metrics import Accuracy\n",
        "from tensorflow.keras.applications import MobileNet\n",
        "from tensorflow.keras.optimizers import Adam\n",
        "from tensorflow.keras.applications.mobilenet import preprocess_input\n",
        "from IPython.display import display"
      ]
    },
    {
      "cell_type": "markdown",
      "id": "79a0b32e",
      "metadata": {
        "id": "79a0b32e"
      },
      "source": [
        "Veamos cada etapa de _CRISPDM_ con un ejemplo práctico:"
      ]
    },
    {
      "cell_type": "markdown",
      "id": "8a95090a",
      "metadata": {
        "id": "8a95090a"
      },
      "source": [
        "## **1. Entendimiento del Negocio**\n",
        "---\n",
        "\n",
        "Una empresa de desarrollo de videojuegos móviles planea implementar un sistema de reconocimiento de imágenes para el análisis del juego **piedra, papel o tijeras** en tiempo real desde cualquier dispositivo móvil moderno. Para ello, recolectaron imágenes de las manos de distintas personas en las tres posturas del juego.\n",
        "\n",
        "Al equipo de ciencia de datos se le encargó implementar un modelo que permita clasificar de forma automática las posturas a partir de imágenes.\n",
        "\n",
        "<img src=\"https://drive.google.com/uc?export=view&id=1_59piBEtkGjktv1P6uDPCXr7NMJ0ZjRL\" width=\"80%\">\n",
        "\n",
        "En la etapa de **entendimiento del negocio** normalmente debemos dar respuesta a las siguientes preguntas:\n",
        "\n",
        "a. ¿Quién es el cliente? ¿En qué unidad de negocio se encuentra?"
      ]
    },
    {
      "cell_type": "markdown",
      "id": "4e33f1cc",
      "metadata": {
        "id": "4e33f1cc"
      },
      "source": [
        "<details>    \n",
        "<summary>\n",
        "    <font size=\"3\" color=\"darkgreen\"><b>Respuesta</b></font>\n",
        "</summary>\n",
        "\n",
        "En este caso los clientes son el equipo de desarrollo de videojuegos representados por un _product owner_ quien estableció qué tipo de solución de analítica se esperaba.\n",
        "</details>"
      ]
    },
    {
      "cell_type": "markdown",
      "id": "cbf02e08",
      "metadata": {
        "id": "cbf02e08"
      },
      "source": [
        "2. ¿Qué problemas de negocio se trata de solucionar?"
      ]
    },
    {
      "cell_type": "markdown",
      "id": "a94a5b8e",
      "metadata": {
        "id": "a94a5b8e"
      },
      "source": [
        "<details>    \n",
        "<summary>\n",
        "    <font size=\"3\" color=\"darkgreen\"><b>Respuesta</b></font>\n",
        "</summary>\n",
        "\n",
        "Se requiere un modelo que pueda ser embebido en dispositivos móviles y que permita clasificar de forma automática imágenes de posturas de manos.\n",
        "</details>"
      ]
    },
    {
      "cell_type": "markdown",
      "id": "3763db0e",
      "metadata": {
        "id": "3763db0e"
      },
      "source": [
        "3. ¿Qué soluciones de ciencia de datos queremos construir?"
      ]
    },
    {
      "cell_type": "markdown",
      "id": "7d4edb00",
      "metadata": {
        "id": "7d4edb00"
      },
      "source": [
        "<details>    \n",
        "<summary>\n",
        "    <font size=\"3\" color=\"darkgreen\"><b>Respuesta</b></font>\n",
        "</summary>\n",
        "\n",
        "De acuerdo al estado del arte en clasificación de imágenes y con el supuesto de que el modelo debe ser compacto para su integración en aplicaciones móviles, una de las mejores opciones son redes neuronales convolucionales.\n",
        "</details>"
      ]
    },
    {
      "cell_type": "markdown",
      "id": "3c59344a",
      "metadata": {
        "id": "3c59344a"
      },
      "source": [
        "4. ¿Cómo implementáremos el proyecto?"
      ]
    },
    {
      "cell_type": "markdown",
      "id": "4fe60c3a",
      "metadata": {
        "id": "4fe60c3a"
      },
      "source": [
        "<details>    \n",
        "<summary>\n",
        "    <font size=\"3\" color=\"darkgreen\"><b>Respuesta</b></font>\n",
        "</summary>\n",
        "\n",
        "Una de las mejores opciones es usar librerías como `tensorflow` para manipulación de datos, modelamiento y despliegue.\n",
        "</details>"
      ]
    },
    {
      "cell_type": "markdown",
      "id": "2d7594fa",
      "metadata": {
        "id": "2d7594fa"
      },
      "source": [
        "4. ¿Cómo se usará el resultado del proyecto?"
      ]
    },
    {
      "cell_type": "markdown",
      "id": "2776ba94",
      "metadata": {
        "id": "2776ba94"
      },
      "source": [
        "<details>    \n",
        "<summary>\n",
        "    <font size=\"3\" color=\"darkgreen\"><b>Respuesta</b></font>\n",
        "</summary>\n",
        "\n",
        "El modelo se exportará en formato `hdf5` para que posteriormente sea embebido en un dispositivo móvil con herramientas como `tflite`.\n",
        "</details>"
      ]
    },
    {
      "cell_type": "markdown",
      "id": "1709fa83",
      "metadata": {
        "id": "1709fa83"
      },
      "source": [
        "5. ¿Quiénes estarán trabajando en el proyecto?"
      ]
    },
    {
      "cell_type": "markdown",
      "id": "b95268a4",
      "metadata": {
        "id": "b95268a4"
      },
      "source": [
        "<details>    \n",
        "<summary>\n",
        "    <font size=\"3\" color=\"darkgreen\"><b>Respuesta</b></font>\n",
        "</summary>\n",
        "\n",
        "El equipo de desarrollo para este proyecto está dado por:\n",
        "\n",
        "- Empresa de desarrollo de videojuegos:\n",
        "  - Product owner con conocimientos del negocio.\n",
        "  - Lider técnico con conocimientos técnicos de la aplicación.\n",
        "  - Desarrollador móvil que se encargará de la integración.\n",
        "- Equipo de ciencia de datos:\n",
        "  - Lider de proyecto encargado de entender el problema y plantear soluciones de analítica.\n",
        "  - Científico de datos encargado de implementar y entrenar los modelos.\n",
        "</details>"
      ]
    },
    {
      "cell_type": "markdown",
      "id": "f03d6c03",
      "metadata": {
        "id": "f03d6c03"
      },
      "source": [
        "5. ¿Qué métricas se usarán para medir el proyecto?"
      ]
    },
    {
      "cell_type": "markdown",
      "id": "bb4331eb",
      "metadata": {
        "id": "bb4331eb"
      },
      "source": [
        "<details>    \n",
        "<summary>\n",
        "    <font size=\"3\" color=\"darkgreen\"><b>Respuesta</b></font>\n",
        "</summary>\n",
        "\n",
        "La solución en este caso es muy técnica, por ello, las métricas están muy ligadas al desempeño del modelo. En especial se medirán 3 cosas:\n",
        "\n",
        "- Tamaño del modelo (MB).\n",
        "- Tiempo de inferencia (milisegundos).\n",
        "- Accuracy del modelo.\n",
        "\n",
        "Tenga en cuenta que las métricas no necesariamente tienen que ser directamente del modelo, por lo general se suelen utilizar indicadores claves de desempeño (KPI) que evalúan distintos aspectos y ganancias en un negocio (número de clientes, ingresos, entre otros).\n",
        "</details>"
      ]
    },
    {
      "cell_type": "markdown",
      "id": "4ef75fa7",
      "metadata": {
        "id": "4ef75fa7"
      },
      "source": [
        "6. ¿Cómo se ejecutará el proyecto?"
      ]
    },
    {
      "cell_type": "markdown",
      "id": "d931128a",
      "metadata": {
        "id": "d931128a"
      },
      "source": [
        "<details>    \n",
        "<summary>\n",
        "    <font size=\"3\" color=\"darkgreen\"><b>Respuesta</b></font>\n",
        "</summary>\n",
        "\n",
        "El proyecto se puede ejecutar siguiendo distintas estrategias de estructuración de proyectos, por ejemplo, con metodologías ágiles como scrum y con el apoyo de herramientas como [Azure DevOps](https://azure.microsoft.com/es-es/products/devops/) o [Jira](https://www.atlassian.com/es/software/jira).\n",
        "\n",
        "La planeación es algo que queda a disposición del equipo de desarrollo, en muchos lugares incluso se mantiene una lista de tareas en un documento de excel compartido. En este caso manejaremos de forma simple la ejecución con una tabla de tiempos:\n",
        "\n",
        "| Tarea | Tiempo |\n",
        "| --- | --- |\n",
        "| Entendimiento del negocio | 1 semana |\n",
        "| Entendimiento de los datos | 1 semana |\n",
        "| Preparación de los datos | 2 semanas |\n",
        "| Modelado | 1 semana |\n",
        "| Evaluación | 0.5 semanas |\n",
        "| Despliegue | 1 semana |\n",
        "</details>"
      ]
    },
    {
      "cell_type": "markdown",
      "id": "71cf8e07",
      "metadata": {
        "id": "71cf8e07"
      },
      "source": [
        "## **2. Entendimiento de los Datos**\n",
        "---\n",
        "\n",
        "En la etapa de entendimiento de los datos procedemos con la carga de datos y el análisis exploratorio de los datos.\n",
        "\n",
        "<img src=\"https://drive.google.com/uc?export=view&id=1JcDmzhnIbiO0187TrYBY44l__zedk9u7\" width=\"80%\">\n",
        "\n",
        "Cargaremos los datos con `tensorflow_datasets`:"
      ]
    },
    {
      "cell_type": "code",
      "execution_count": null,
      "id": "70ed6cb3",
      "metadata": {
        "id": "70ed6cb3"
      },
      "outputs": [],
      "source": [
        "ds = tfds.load(\"rock_paper_scissors\")\n",
        "display(ds)"
      ]
    },
    {
      "cell_type": "markdown",
      "id": "60b0d943",
      "metadata": {
        "id": "60b0d943"
      },
      "source": [
        "Como podemos ver, se trata de un conjunto de imágenes de tamaño `(300, 300, 3)` donde ya tenemos la información particionada en entrenamiento y prueba. Vamos a extraer las particiones:"
      ]
    },
    {
      "cell_type": "code",
      "execution_count": null,
      "id": "48c2b040",
      "metadata": {
        "id": "48c2b040"
      },
      "outputs": [],
      "source": [
        "train_ds = ds[\"train\"]\n",
        "test_ds = ds[\"test\"]"
      ]
    },
    {
      "cell_type": "markdown",
      "id": "d0ce783e",
      "metadata": {
        "id": "d0ce783e"
      },
      "source": [
        "Como parte del análisis exploratorio, podemos extraer una imagen del conjunto de datos y visualizarla para entender el tipo de imágenes que estamos manejando:"
      ]
    },
    {
      "cell_type": "code",
      "execution_count": null,
      "id": "5d83ccb9",
      "metadata": {
        "id": "5d83ccb9"
      },
      "outputs": [],
      "source": [
        "sample = next(iter(train_ds.take(1)))\n",
        "display(sample)"
      ]
    },
    {
      "cell_type": "markdown",
      "id": "4fa82995",
      "metadata": {
        "id": "4fa82995"
      },
      "source": [
        "El resultado es un diccionario con la imagen y su etiqueta. Podemos visualizar la imagen:"
      ]
    },
    {
      "cell_type": "code",
      "execution_count": null,
      "id": "9b636643",
      "metadata": {
        "id": "9b636643"
      },
      "outputs": [],
      "source": [
        "img = sample[\"image\"].numpy()\n",
        "label = sample[\"label\"].numpy()\n",
        "fig = px.imshow(img, title=f\"Label = {label}\")\n",
        "fig.show()"
      ]
    },
    {
      "cell_type": "markdown",
      "id": "b8da3fce",
      "metadata": {
        "id": "b8da3fce"
      },
      "source": [
        "Ahora, vamos a extraer todas las etiquetas del conjunto de entrenamiento para visualizar su distribución:"
      ]
    },
    {
      "cell_type": "code",
      "execution_count": null,
      "id": "3d9b6fc5",
      "metadata": {
        "id": "3d9b6fc5"
      },
      "outputs": [],
      "source": [
        "train_labels = list(map(\n",
        "        lambda x: float(x),\n",
        "        train_ds.map(lambda sample: sample[\"label\"])\n",
        "        ))\n",
        "display(train_labels[:10])"
      ]
    },
    {
      "cell_type": "markdown",
      "id": "27b33e88",
      "metadata": {
        "id": "27b33e88"
      },
      "source": [
        "En total tenemos `2520` imágenes en el conjunto de entrenamiento:"
      ]
    },
    {
      "cell_type": "code",
      "execution_count": null,
      "id": "618c4256",
      "metadata": {
        "id": "618c4256"
      },
      "outputs": [],
      "source": [
        "display(len(train_labels))"
      ]
    },
    {
      "cell_type": "markdown",
      "id": "5ac47d2c",
      "metadata": {
        "id": "5ac47d2c"
      },
      "source": [
        "Veamos la distribución:"
      ]
    },
    {
      "cell_type": "code",
      "execution_count": null,
      "id": "0e6f84c7",
      "metadata": {
        "lines_to_next_cell": 1,
        "id": "0e6f84c7"
      },
      "outputs": [],
      "source": [
        "values, counts = np.unique(train_labels, return_counts=True)\n",
        "fig = px.bar(\n",
        "    x=values,\n",
        "    y=counts,\n",
        "    title=\"Distribución de etiquetas\",\n",
        "    labels={\n",
        "        \"x\": \"Etiquetas\",\n",
        "        \"y\": \"Conteo\"\n",
        "    }\n",
        ")\n",
        "fig.show()"
      ]
    },
    {
      "cell_type": "markdown",
      "id": "2c81e5c1",
      "metadata": {
        "id": "2c81e5c1"
      },
      "source": [
        "Con esto, sabemos que el conjunto de datos está balanceado."
      ]
    },
    {
      "cell_type": "markdown",
      "id": "29637ad0",
      "metadata": {
        "id": "29637ad0"
      },
      "source": [
        "## **3. Preparación de los Datos**\n",
        "---\n",
        "\n",
        "La preparación de los datos busca implementar estrategias para estandarizar los datos y dejarlos listos para el entrenamiento de un modelo.\n",
        "\n",
        "<img src=\"https://drive.google.com/uc?export=view&id=1TX1-Mc_-H46s_ypBjzCfPvPHDc1tNW4Y\" width=\"80%\">\n",
        "\n",
        "Para el ejemplo que estamos desarrollando debemos aplicar dos estrategias de pre-procesamiento:\n",
        "\n",
        "- Cambiar el tamaño de las imágenes para que coincidan con el modelo compacto que se usará en la aplicación móvil.\n",
        "- Aplicar la estrategia de pre-procesamiento definida en el modelo que se implementará.\n",
        "\n",
        "En este caso adaptaremos una red `MobileNet`, la cual requiere imágenes de tamaño `(224, 224, 3)`, para esto, usaremos la función `resize` de `tensorflow`, adicional a esto, aplicaremos la función `preprocess_input` definida para esta red neuronal."
      ]
    },
    {
      "cell_type": "code",
      "execution_count": null,
      "id": "ce4a22c2",
      "metadata": {
        "lines_to_next_cell": 1,
        "id": "ce4a22c2"
      },
      "outputs": [],
      "source": [
        "def preprocess(sample):\n",
        "    img = tf.image.resize(sample[\"image\"], (224, 224))\n",
        "    prep_img = preprocess_input(img)\n",
        "    return prep_img, sample[\"label\"]"
      ]
    },
    {
      "cell_type": "markdown",
      "id": "7ac954df",
      "metadata": {
        "id": "7ac954df"
      },
      "source": [
        "Aplicamos el preprocesamiento sobre el conjunto de datos:"
      ]
    },
    {
      "cell_type": "code",
      "execution_count": null,
      "id": "64a14a3b",
      "metadata": {
        "id": "64a14a3b"
      },
      "outputs": [],
      "source": [
        "train_ds_prep = (\n",
        "        train_ds\n",
        "        .map(preprocess)\n",
        "        .batch(64)\n",
        "        )\n",
        "display(train_ds_prep)"
      ]
    },
    {
      "cell_type": "code",
      "execution_count": null,
      "id": "65b8880c",
      "metadata": {
        "lines_to_next_cell": 1,
        "id": "65b8880c"
      },
      "outputs": [],
      "source": [
        "test_ds_prep = (\n",
        "        train_ds\n",
        "        .map(preprocess)\n",
        "        .batch(64)\n",
        "        )\n",
        "display(test_ds_prep)"
      ]
    },
    {
      "cell_type": "markdown",
      "id": "7f19b107",
      "metadata": {
        "id": "7f19b107"
      },
      "source": [
        "## **4. Modelamiento**\n",
        "---\n",
        "\n",
        "En la etapa de modelamiento se implementa algún algoritmo predictivo y se hace el ajuste de parámetros e hiper-parámetros.\n",
        "\n",
        "<img src=\"https://drive.google.com/uc?export=view&id=1i_fvvKhDA4OfVT2wl--NMJAiEx6xqH-M\" width=\"80%\">\n",
        "\n",
        "En este caso definiremos la red neuronal como un modelo de `tf.keras`:"
      ]
    },
    {
      "cell_type": "code",
      "execution_count": null,
      "id": "d737f794",
      "metadata": {
        "lines_to_next_cell": 1,
        "id": "d737f794"
      },
      "outputs": [],
      "source": [
        "class ImageClassifier(Model):\n",
        "    def __init__(self):\n",
        "        super(ImageClassifier, self).__init__()\n",
        "        self.feature_extractor = MobileNet(\n",
        "            include_top=False,\n",
        "            input_shape=(224, 224, 3)\n",
        "        )\n",
        "        self.pool = GlobalAveragePooling2D()\n",
        "        self.den1 = Dense(128, activation=\"relu\")\n",
        "        self.drop = Dropout(0.2)\n",
        "        self.out = Dense(3, activation=\"softmax\")\n",
        "\n",
        "\n",
        "    def build(self, input_shape):\n",
        "        self.feature_extractor.build(input_shape)\n",
        "        self.pool.build((None, 7, 7, 1024))\n",
        "        self.den1.build((None, 1024))\n",
        "        self.drop.build((None, 128))\n",
        "        self.out.build((None, 128))\n",
        "\n",
        "        super(ImageClassifier, self).build(input_shape)\n",
        "\n",
        "    def call(self, x):\n",
        "        features = self.feature_extractor(x)\n",
        "        pool = self.pool(features)\n",
        "        h = self.drop(self.den1(pool))\n",
        "        pred = self.out(h)\n",
        "        return pred"
      ]
    },
    {
      "cell_type": "code",
      "execution_count": null,
      "id": "a2387930",
      "metadata": {
        "id": "a2387930"
      },
      "outputs": [],
      "source": [
        "model = ImageClassifier()\n",
        "model.build((None, 224, 224, 3))\n",
        "model.summary()"
      ]
    },
    {
      "cell_type": "markdown",
      "id": "f8f51535",
      "metadata": {
        "id": "f8f51535"
      },
      "source": [
        "Veamos la predicción sobre un batch de datos:"
      ]
    },
    {
      "cell_type": "code",
      "execution_count": null,
      "id": "248b521f",
      "metadata": {
        "id": "248b521f"
      },
      "outputs": [],
      "source": [
        "y_pred = model.predict(train_ds_prep.take(1))\n",
        "display(y_pred.shape)"
      ]
    },
    {
      "cell_type": "markdown",
      "id": "ace9e2ba",
      "metadata": {
        "id": "ace9e2ba"
      },
      "source": [
        "El modelo predice la probabilidad de que una imagen sea piedra, papel o tijera; por ello las predicciones son una matriz con 3 filas.\n",
        "\n",
        "Ahora, vamos a compilar el modelo para el problema correspondiente:"
      ]
    },
    {
      "cell_type": "code",
      "execution_count": null,
      "id": "56f5f7fb",
      "metadata": {
        "id": "56f5f7fb"
      },
      "outputs": [],
      "source": [
        "model.compile(\n",
        "    optimizer=Adam(learning_rate=1e-4),\n",
        "    loss=SparseCategoricalCrossentropy(),\n",
        "    metrics=[\"categorical_accuracy\"]\n",
        ")"
      ]
    },
    {
      "cell_type": "markdown",
      "id": "e3740bbf",
      "metadata": {
        "id": "e3740bbf"
      },
      "source": [
        "Con esto, podemos entrenar el modelo:"
      ]
    },
    {
      "cell_type": "code",
      "execution_count": null,
      "id": "32eab3e9",
      "metadata": {
        "id": "32eab3e9"
      },
      "outputs": [],
      "source": [
        "history = model.fit(train_ds_prep, epochs=10, validation_data=test_ds_prep)"
      ]
    },
    {
      "cell_type": "markdown",
      "id": "1c7faf9a",
      "metadata": {
        "id": "1c7faf9a"
      },
      "source": [
        "Veamos cómo son las pérdidas de entrenamiento y prueba durante cada época del modelo:"
      ]
    },
    {
      "cell_type": "code",
      "execution_count": null,
      "id": "9543c5f0",
      "metadata": {
        "id": "9543c5f0"
      },
      "outputs": [],
      "source": [
        "losses = pd.DataFrame(\n",
        "        data={\n",
        "            \"loss\": np.concatenate([\n",
        "                history.history[\"loss\"],\n",
        "                history.history[\"val_loss\"]\n",
        "                ]),\n",
        "            \"epoch\": np.concatenate([\n",
        "                np.arange(10),\n",
        "                np.arange(10)\n",
        "                ]),\n",
        "            \"type\": ([\"train\"] * 10) + ([\"test\"] * 10)\n",
        "            }\n",
        "        )\n",
        "display(losses)"
      ]
    },
    {
      "cell_type": "markdown",
      "id": "b6a10af1",
      "metadata": {
        "id": "b6a10af1"
      },
      "source": [
        "Generamos la visualización:"
      ]
    },
    {
      "cell_type": "code",
      "execution_count": null,
      "id": "3429c8d1",
      "metadata": {
        "id": "3429c8d1"
      },
      "outputs": [],
      "source": [
        "fig = px.line(losses, x=\"epoch\", y=\"loss\", color=\"type\")\n",
        "fig.show()"
      ]
    },
    {
      "cell_type": "markdown",
      "id": "dc98c5f1",
      "metadata": {
        "id": "dc98c5f1"
      },
      "source": [
        "Podemos ver que el modelo está correctamente ajustado con los hiper-parámetros que seleccionamos."
      ]
    },
    {
      "cell_type": "markdown",
      "id": "0eb4e80a",
      "metadata": {
        "id": "0eb4e80a"
      },
      "source": [
        "## **5. Evaluación**\n",
        "---\n",
        "\n",
        "En la etapa de evaluación evaluamos métricas de desempeño del modelo y del negocio.\n",
        "\n",
        "<img src=\"https://drive.google.com/uc?export=view&id=13NxDATWLutsDvi3uNbvz0BVx9kXNNC_l\" width=\"80%\">\n",
        "\n",
        "Veamos algunas métricas de desempeño del modelo, primero obtenemos las predicciones y las etiquetas de todo el conjunto de test:"
      ]
    },
    {
      "cell_type": "code",
      "execution_count": null,
      "id": "574805b5",
      "metadata": {
        "id": "574805b5"
      },
      "outputs": [],
      "source": [
        "y_pred = []\n",
        "y_test = []\n",
        "for x_batch, y_batch in test_ds_prep:\n",
        "    y_test.append(y_batch)\n",
        "    y_pred.append(np.argmax(model.predict(x_batch), axis=1))"
      ]
    },
    {
      "cell_type": "markdown",
      "id": "0024f8d0",
      "metadata": {
        "id": "0024f8d0"
      },
      "source": [
        "Veamos el accuracy:"
      ]
    },
    {
      "cell_type": "code",
      "source": [
        "y_pred = np.concatenate(y_pred)\n",
        "y_test = np.concatenate(y_test)"
      ],
      "metadata": {
        "id": "ugsjZ0VgxhZN"
      },
      "id": "ugsjZ0VgxhZN",
      "execution_count": null,
      "outputs": []
    },
    {
      "cell_type": "code",
      "source": [
        "y_pred"
      ],
      "metadata": {
        "id": "eDC4cjaUumvB"
      },
      "id": "eDC4cjaUumvB",
      "execution_count": null,
      "outputs": []
    },
    {
      "cell_type": "code",
      "source": [
        "y_test"
      ],
      "metadata": {
        "id": "3CyxRYk1uxnY"
      },
      "id": "3CyxRYk1uxnY",
      "execution_count": null,
      "outputs": []
    },
    {
      "cell_type": "code",
      "execution_count": null,
      "id": "815cfbd7",
      "metadata": {
        "id": "815cfbd7"
      },
      "outputs": [],
      "source": [
        "acc = Accuracy()(y_test, y_pred)\n",
        "display(acc)"
      ]
    },
    {
      "cell_type": "markdown",
      "id": "0a995836",
      "metadata": {
        "id": "0a995836"
      },
      "source": [
        "También es importante evaluar cuánto tiempo tarda el modelo en hacer inferencia, para ello, medimos el tiempo sobre un batch de datos:"
      ]
    },
    {
      "cell_type": "code",
      "execution_count": null,
      "id": "f9321f20",
      "metadata": {
        "id": "f9321f20"
      },
      "outputs": [],
      "source": [
        "import time\n",
        "t0 = time.time()\n",
        "y_pred = model.predict(test_ds_prep.take(1))\n",
        "t = ( time.time() - t0 ) * 1000\n",
        "display(f\"Tiempo en milisegundos: {t:.2f}\")"
      ]
    },
    {
      "cell_type": "markdown",
      "id": "d68d4d10",
      "metadata": {
        "id": "d68d4d10"
      },
      "source": [
        "## **6. Despliegue**\n",
        "---\n",
        "\n",
        "En la etapa de despliegue generalmente se genera un producto usable a partir del modelo o aplicación desarrollada.\n",
        "\n",
        "<img src=\"https://drive.google.com/uc?export=view&id=1qcZeGf0p3mV3YOhuOfDZLexiKjMz77sZ\" width=\"80%\">\n",
        "\n",
        "Existen varias formas de desplegar un modelo, de esto hablaremos más adelante en el curso. Por el momento, exportaremos el modelo en formato `hdf5` para un posterior despliegue:"
      ]
    },
    {
      "cell_type": "code",
      "execution_count": null,
      "id": "47f49e0a",
      "metadata": {
        "id": "47f49e0a"
      },
      "outputs": [],
      "source": [
        "model.save_weights(\"model.weights.h5\")"
      ]
    },
    {
      "cell_type": "markdown",
      "id": "be849f5c",
      "metadata": {
        "id": "be849f5c"
      },
      "source": [
        "Con esto, tenemos un modelo preparado para ser embebido en aplicaciones móviles con un muy buen desempeño."
      ]
    },
    {
      "cell_type": "markdown",
      "id": "27f1c5b5",
      "metadata": {
        "id": "27f1c5b5"
      },
      "source": [
        "## Recursos Adicionales\n",
        "---\n",
        "\n",
        "Los siguientes enlaces corresponden a sitios donde encontrará información muy útil para profundizar en los temas vistos en este notebook:\n",
        "\n",
        "- [Tensorflow](https://www.tensorflow.org/)\n",
        "- [Plotly](https://plotly.com/)"
      ]
    },
    {
      "cell_type": "markdown",
      "id": "1337ce5b",
      "metadata": {
        "id": "1337ce5b"
      },
      "source": [
        "## Créditos\n",
        "---\n",
        "\n",
        "**Profesor**\n",
        "\n",
        "- [Jorge E. Camargo, PhD](https://dis.unal.edu.co/~jecamargom/)\n",
        "\n",
        "**Asistente docente**:\n",
        "\n",
        "- [Juan S. Lara MSc](https://www.linkedin.com/in/juan-sebastian-lara-ramirez-43570a214/)\n",
        "\n",
        "**Diseño de imágenes:**\n",
        "- [Brian Chaparro Cetina](mailto:bchaparro@unal.edu.co).\n",
        "\n",
        "**Universidad Nacional de Colombia** - *Facultad de Ingeniería*"
      ]
    }
  ],
  "metadata": {
    "jupytext": {
      "cell_metadata_filter": "-all",
      "encoding": "# -*- coding: utf-8 -*-"
    },
    "kernelspec": {
      "display_name": "Python 3",
      "name": "python3"
    },
    "colab": {
      "provenance": [],
      "private_outputs": true,
      "gpuType": "T4",
      "toc_visible": true,
      "include_colab_link": true
    },
    "accelerator": "GPU"
  },
  "nbformat": 4,
  "nbformat_minor": 5
}