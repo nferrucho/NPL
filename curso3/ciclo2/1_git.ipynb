{
  "cells": [
    {
      "cell_type": "markdown",
      "metadata": {
        "id": "view-in-github",
        "colab_type": "text"
      },
      "source": [
        "<a href=\"https://colab.research.google.com/github/nferrucho/NPL/blob/main/curso3/ciclo2/1_git.ipynb\" target=\"_parent\"><img src=\"https://colab.research.google.com/assets/colab-badge.svg\" alt=\"Open In Colab\"/></a>"
      ]
    },
    {
      "cell_type": "markdown",
      "id": "12297489",
      "metadata": {
        "id": "12297489"
      },
      "source": [
        "<img src=\"https://drive.google.com/uc?export=view&id=10mKgunAZowpvpttdYdjoDeCM2RSMGXer\" width=\"100%\">"
      ]
    },
    {
      "cell_type": "markdown",
      "id": "9e10cde4",
      "metadata": {
        "id": "9e10cde4"
      },
      "source": [
        "# Versionamiento de Código\n",
        "---\n",
        "\n",
        "En este notebook daremos una introducción práctica al versionamiento de código con la herramienta `git`, para ello, debemos instalarla en el entorno de Google Colaboratory. Recuerde que se trata de un sistema basado en el sistema operativo Linux, más específicamente la distribución Ubuntu:"
      ]
    },
    {
      "cell_type": "code",
      "execution_count": null,
      "id": "2763db86",
      "metadata": {
        "id": "2763db86"
      },
      "outputs": [],
      "source": [
        "!cat /etc/os-release"
      ]
    },
    {
      "cell_type": "markdown",
      "id": "93fab91b",
      "metadata": {
        "id": "93fab91b"
      },
      "source": [
        "Podemos instalar `git` con el siguiente comando:"
      ]
    },
    {
      "cell_type": "code",
      "execution_count": null,
      "id": "c06f48af",
      "metadata": {
        "id": "c06f48af"
      },
      "outputs": [],
      "source": [
        "!apt install git"
      ]
    },
    {
      "cell_type": "markdown",
      "id": "cb016e41",
      "metadata": {
        "id": "cb016e41"
      },
      "source": [
        "Adicionalmente, instalaremos algunas herramientas auxiliares:"
      ]
    },
    {
      "cell_type": "code",
      "execution_count": null,
      "id": "7a4ea4e6",
      "metadata": {
        "id": "7a4ea4e6"
      },
      "outputs": [],
      "source": [
        "!apt install tree"
      ]
    },
    {
      "cell_type": "markdown",
      "id": "951aefc8",
      "metadata": {
        "id": "951aefc8"
      },
      "source": [
        "Validamos que la herramienta se encuentra instalada:"
      ]
    },
    {
      "cell_type": "code",
      "execution_count": null,
      "id": "1e6f8e0c",
      "metadata": {
        "id": "1e6f8e0c"
      },
      "outputs": [],
      "source": [
        "!git --version"
      ]
    },
    {
      "cell_type": "markdown",
      "id": "7d8e8524",
      "metadata": {
        "id": "7d8e8524"
      },
      "source": [
        "Finalmente, importamos las librerías necesarias:"
      ]
    },
    {
      "cell_type": "code",
      "execution_count": null,
      "id": "ad5d184c",
      "metadata": {
        "id": "ad5d184c"
      },
      "outputs": [],
      "source": [
        "import os\n",
        "from IPython import get_ipython"
      ]
    },
    {
      "cell_type": "markdown",
      "id": "4c639cc7",
      "metadata": {
        "id": "4c639cc7"
      },
      "source": [
        "## **1. Control de Versiones**\n",
        "---\n",
        "\n",
        "Llamamos control de versiones a la gestión de cambios realizados sobre elementos de algún producto o sus componentes. Se trata de una tarea que no es específica en aplicaciones de _machine learning_, sino que toma su base en proyectos de la ingeniería donde se crean versiones de software, hardware, metodologías, entre otras.\n",
        "\n",
        "En proyectos de analítica y _machine learning_ se suelen tratar 4 tipos de versionamiento:\n",
        "\n",
        "- **Versionamiento de código**: se crean versiones del código fuente (por ejemplo en Python).\n",
        "- **Versionamiento de datos**: se crean versiones del conjunto de datos, conjuntos de características, entre otros.\n",
        "- **Versionamiento de modelos**: los distintos modelos entrenados se versionan.\n",
        "- **Versionamiento de artefactos**: generamos versiones de distintos tipos de elementos que pueden llegar a ser salida de los modelos, entrenamiento, loggings, y demás.\n",
        "\n",
        "En este notebook estaremos viendo el detalle del versionamiento de código."
      ]
    },
    {
      "cell_type": "markdown",
      "id": "9af5cafa",
      "metadata": {
        "id": "9af5cafa"
      },
      "source": [
        "## **2. Versionamiento de Código**\n",
        "---\n",
        "\n",
        "Existen varias razones por las cuales es importante versionar el código en proyectos de aprendizaje automático (machine learning):\n",
        "\n",
        "- **Seguimiento de cambios**: Al usar un sistema de control de versiones se puede rastrear todos los cambios realizados en el código y revertirlos si es necesario. Esto puede ser especialmente útil en proyectos de aprendizaje automático, donde se pueden probar diferentes modelos y parámetros.\n",
        "- **Colaboración**: Al versionar el código, varios desarrolladores pueden trabajar en un proyecto de aprendizaje automático al mismo tiempo, y enviar y recibir cambios a través de un repositorio remoto. Esto facilita el trabajo en equipo y la colaboración en proyectos complejos.\n",
        "- **Replicabilidad**: Al tener un registro detallado de todos los cambios realizados en el código, es más fácil reproducir los resultados de un proyecto de aprendizaje automático en el futuro. Esto es especialmente importante en investigación científica, donde es necesario poder replicar los resultados de un estudio.\n",
        "- **Transparencia**: Al versionar el código, se puede ver exactamente qué cambios se realizaron en un proyecto de aprendizaje automático y quién los realizó. Esto puede ayudar a detectar errores y problemas, y a entender mejor cómo funciona el sistema.\n",
        "\n",
        "En resumen, versionar el código en proyectos de aprendizaje automático es esencial para el seguimiento de los cambios, la colaboración, la replicabilidad y la transparencia en el desarrollo de proyectos complejos.\n",
        "\n",
        "En este caso estaremos trabajando con las dos herramientas más populares para versionamiento de código `git` y `github`."
      ]
    },
    {
      "cell_type": "markdown",
      "id": "afc1ac27",
      "metadata": {
        "id": "afc1ac27"
      },
      "source": [
        "## **3. Git**\n",
        "---\n",
        "\n",
        "`git` es un software de control de versiones que permite a los desarrolladores llevar un registro de los cambios realizados en el código de un proyecto. Con este software, los desarrolladores pueden trabajar en diferentes versiones de un proyecto al mismo tiempo, sin causar conflictos entre las versiones. Además, `git` permite crear ramas (branches) para trabajar en características específicas del proyecto, y luego fusionarlas de nuevo en la rama principal cuando estén listas.\n",
        "\n",
        "<center><img src=\"https://drive.google.com/uc?export=view&id=18S4DFuH8KmXd-iIOMYbEAWxVI31Ijzya\" width=\"80%\"></center>\n",
        "\n",
        "`git` puede ser especialmente útil en proyectos de ciencia de datos, ya que permite estructurar y organizar un proyecto de ciencia de datos de tal forma de que cualquier cambio funcional pueda ser versionado y revertido.\n",
        "\n",
        "`git` funciona mediante el uso de repositorios, que son copias completas de un proyecto con todo su historial de cambios. Cada repositorio tiene tres áreas principales: el área de trabajo, el área de preparación y el repositorio:\n",
        "\n",
        "- **Repositorio**: Es donde se guardan las versiones finales del proyecto.\n",
        "- **Área de trabajo**: Es donde se realizan los cambios en los archivos del proyecto.\n",
        "- **Área de preparación**: Es donde se colocan los cambios que se van a guardar en el repositorio.\n",
        "\n",
        "`git` funciona por medio de comandos de shell. Veamos un ejemplo de las tres áreas:"
      ]
    },
    {
      "cell_type": "markdown",
      "id": "82aa07b0",
      "metadata": {
        "id": "82aa07b0"
      },
      "source": [
        "### **3.1. Creación de un Repositorio**\n",
        "---\n",
        "\n",
        "Comenzaremos inicializando un repositorio, para ello debemos crear una carpeta con el nombre del proyecto.\n",
        "\n",
        "En este caso usamos el comando `mkdir` para crear un directorio con nombre `'myrepo'`:"
      ]
    },
    {
      "cell_type": "code",
      "execution_count": null,
      "id": "baf46b81",
      "metadata": {
        "id": "baf46b81"
      },
      "outputs": [],
      "source": [
        "!mkdir 'myrepo'"
      ]
    },
    {
      "cell_type": "markdown",
      "id": "184fb496",
      "metadata": {
        "id": "184fb496"
      },
      "source": [
        "Ahora, cambiamos el directorio de trabajo para ubicarnos dentro de esta nueva carpeta con el comando `mv`:\n",
        "\n",
        "> **Nota**: a diferencia de otros comandos UNIX, el comando `cd` debe usarse con el operador `%` en lugar de `!`. Esto ya que el comando `cd` debe cambiar el entorno de trabajo del notebook."
      ]
    },
    {
      "cell_type": "code",
      "execution_count": null,
      "id": "732d5b57",
      "metadata": {
        "id": "732d5b57"
      },
      "outputs": [],
      "source": [
        "%cd 'myrepo'"
      ]
    },
    {
      "cell_type": "markdown",
      "id": "21d823b0",
      "metadata": {
        "id": "21d823b0"
      },
      "source": [
        "Podemos validar que ahora nos encontramos dentro de la carpeta que acabamos de crear con el comando `pwd`:"
      ]
    },
    {
      "cell_type": "code",
      "execution_count": null,
      "id": "3978d95b",
      "metadata": {
        "id": "3978d95b"
      },
      "outputs": [],
      "source": [
        "!pwd"
      ]
    },
    {
      "cell_type": "markdown",
      "id": "e133dceb",
      "metadata": {
        "id": "e133dceb"
      },
      "source": [
        "Por último, inicializamos un repositorio con el comando `git init`:"
      ]
    },
    {
      "cell_type": "code",
      "execution_count": null,
      "id": "8dad8080",
      "metadata": {
        "id": "8dad8080"
      },
      "outputs": [],
      "source": [
        "!git init"
      ]
    },
    {
      "cell_type": "markdown",
      "id": "51602770",
      "metadata": {
        "id": "51602770"
      },
      "source": [
        "Al iniciar un repositorio se crea la carpeta `.git`, donde la herramienta almacenará todas las versiones y metadatos necesarios para crear versiones de un código.\n",
        "\n",
        "Podemos ver los contenidos de esta carpeta con el comando `tree`:"
      ]
    },
    {
      "cell_type": "code",
      "execution_count": null,
      "id": "ddcafa3a",
      "metadata": {
        "id": "ddcafa3a"
      },
      "outputs": [],
      "source": [
        "!tree -a"
      ]
    },
    {
      "cell_type": "markdown",
      "id": "f8aac523",
      "metadata": {
        "id": "f8aac523"
      },
      "source": [
        "> **Nota**: todos los archivos o carpetas cuyo nombre comienzan por punto `.` son ocultos, es decir, la carpeta `.git` normalmente es oculta y únicamente la debe manipular la misma herramienta. No obstante, es necesario saber que existe para evitar borrarla o modificarla por error."
      ]
    },
    {
      "cell_type": "markdown",
      "id": "1fb38372",
      "metadata": {
        "id": "1fb38372"
      },
      "source": [
        "### **3.2. Área de Trabajo y Preparación**\n",
        "---\n",
        "\n",
        "El área de trabajo en `git` es el lugar donde se realizan los cambios en los archivos del proyecto. Cuando se hacen modificaciones a un archivo en el área de trabajo, `git` no registra automáticamente esos cambios en el repositorio. En su lugar, se deben añadir explícitamente los cambios al área de preparación mediante el comando `git add`.\n",
        "\n",
        "Veamos un ejemplo creando el siguiente archivo con el comando `%%writefile` (escribe toda la celda en un archivo):"
      ]
    },
    {
      "cell_type": "code",
      "execution_count": null,
      "id": "5eb8b89d",
      "metadata": {
        "id": "5eb8b89d"
      },
      "outputs": [],
      "source": [
        "%%writefile rand.py\n",
        "import numpy as np\n",
        "print(np.random.normal())"
      ]
    },
    {
      "cell_type": "markdown",
      "id": "425d5185",
      "metadata": {
        "id": "425d5185"
      },
      "source": [
        "Podemos validar que se creó el archivo `rand.py`:"
      ]
    },
    {
      "cell_type": "code",
      "execution_count": null,
      "id": "86ed0d4a",
      "metadata": {
        "id": "86ed0d4a"
      },
      "outputs": [],
      "source": [
        "!ls"
      ]
    },
    {
      "cell_type": "markdown",
      "id": "541219b5",
      "metadata": {
        "id": "541219b5"
      },
      "source": [
        "También podemos ver el contenido del archivo con el comando `cat`:"
      ]
    },
    {
      "cell_type": "code",
      "execution_count": null,
      "id": "ae175510",
      "metadata": {
        "id": "ae175510"
      },
      "outputs": [],
      "source": [
        "!cat rand.py"
      ]
    },
    {
      "cell_type": "markdown",
      "id": "9aa9c53b",
      "metadata": {
        "id": "9aa9c53b"
      },
      "source": [
        "Como podemos ver, se trata de un script en _Python_ que imprime un número aleatorio por medio de la librería `numpy`, podemos ejecutarlo:"
      ]
    },
    {
      "cell_type": "code",
      "execution_count": null,
      "id": "f45a85d8",
      "metadata": {
        "id": "f45a85d8"
      },
      "outputs": [],
      "source": [
        "!python rand.py"
      ]
    },
    {
      "cell_type": "markdown",
      "id": "62007129",
      "metadata": {
        "id": "62007129"
      },
      "source": [
        "Veamos cómo cambia el espacio de trabajo con el comando `git status`:"
      ]
    },
    {
      "cell_type": "code",
      "execution_count": null,
      "id": "ae2ebf45",
      "metadata": {
        "id": "ae2ebf45"
      },
      "outputs": [],
      "source": [
        "!git status"
      ]
    },
    {
      "cell_type": "markdown",
      "id": "d66c7be6",
      "metadata": {
        "id": "d66c7be6"
      },
      "source": [
        "Como podemos ver, `git` nos indica que hay un nuevo archivo al que no se le está haciendo seguimiento, usamos el comando `git add` para agregarlo al área de preparación:"
      ]
    },
    {
      "cell_type": "code",
      "execution_count": null,
      "id": "031ccfd0",
      "metadata": {
        "id": "031ccfd0"
      },
      "outputs": [],
      "source": [
        "!git add rand.py"
      ]
    },
    {
      "cell_type": "markdown",
      "id": "5d04d349",
      "metadata": {
        "id": "5d04d349"
      },
      "source": [
        "Podemos validar el estado de los archivos con el comando `git status`:"
      ]
    },
    {
      "cell_type": "code",
      "execution_count": null,
      "id": "0d4c9c1b",
      "metadata": {
        "id": "0d4c9c1b"
      },
      "outputs": [],
      "source": [
        "!git status"
      ]
    },
    {
      "cell_type": "markdown",
      "id": "95905b03",
      "metadata": {
        "id": "95905b03"
      },
      "source": [
        "Como podemos ver, el archivo ahora se encuentra en el área de preparación y se muestra con un color diferente. Antes de agregar cualquier elemento al repositorio, debemos identificarnos como usuarios. Puede cambiar los siguientes datos por su nombre y correo:"
      ]
    },
    {
      "cell_type": "code",
      "execution_count": null,
      "id": "a8860765",
      "metadata": {
        "id": "a8860765"
      },
      "outputs": [],
      "source": [
        "!git config --global user.email \"ejemplo@unal.edu.co\"\n",
        "!git config --global user.name \"Mi nombre o username\"\n",
        "!git config --global init.defaultBranch master"
      ]
    },
    {
      "cell_type": "markdown",
      "id": "c3dbd49a",
      "metadata": {
        "id": "c3dbd49a"
      },
      "source": [
        "Podemos agregar el archivo al repositorio con el comando `git commit` y agregando un mensaje:"
      ]
    },
    {
      "cell_type": "code",
      "execution_count": null,
      "id": "c3e3154d",
      "metadata": {
        "id": "c3e3154d"
      },
      "outputs": [],
      "source": [
        "!git commit -m \"agregamos el archivo rand.py\""
      ]
    },
    {
      "cell_type": "markdown",
      "id": "c52d2300",
      "metadata": {
        "id": "c52d2300"
      },
      "source": [
        "Con esto ya tenemos un archivo agregado al repositorio de `git` sobre el que se realiza seguimiento. Esto quiere decir que cualquier cambio que realicemos sobre el mismo será detectado y podrá ser revertido.\n",
        "\n",
        "Veamos el estado actual del repositorio:"
      ]
    },
    {
      "cell_type": "code",
      "execution_count": null,
      "id": "ec8f84ae",
      "metadata": {
        "id": "ec8f84ae"
      },
      "outputs": [],
      "source": [
        "!git status"
      ]
    },
    {
      "cell_type": "markdown",
      "id": "70a062fd",
      "metadata": {
        "id": "70a062fd"
      },
      "source": [
        "Ahora, vamos a modificar el archivo para que quede de la siguiente forma (cambiamos el número aleatorio de normal a uniforme):"
      ]
    },
    {
      "cell_type": "code",
      "execution_count": null,
      "id": "89b6af49",
      "metadata": {
        "id": "89b6af49"
      },
      "outputs": [],
      "source": [
        "%%writefile rand.py\n",
        "import numpy as np\n",
        "print(np.random.uniform())"
      ]
    },
    {
      "cell_type": "markdown",
      "id": "cc339253",
      "metadata": {
        "id": "cc339253"
      },
      "source": [
        "Podemos validar el contenido del archivo:"
      ]
    },
    {
      "cell_type": "code",
      "execution_count": null,
      "id": "024164c6",
      "metadata": {
        "id": "024164c6"
      },
      "outputs": [],
      "source": [
        "!cat rand.py"
      ]
    },
    {
      "cell_type": "markdown",
      "id": "db163390",
      "metadata": {
        "id": "db163390"
      },
      "source": [
        "Veamos qué cambios se detectan con el comando `git status`:"
      ]
    },
    {
      "cell_type": "code",
      "execution_count": null,
      "id": "0c7c086d",
      "metadata": {
        "id": "0c7c086d"
      },
      "outputs": [],
      "source": [
        "!git status"
      ]
    },
    {
      "cell_type": "markdown",
      "id": "1140b305",
      "metadata": {
        "id": "1140b305"
      },
      "source": [
        "Como podemos ver, el archivo `rand.py` aparece modificado. Podemos ver qué ha cambiado con el comando `git diff`:"
      ]
    },
    {
      "cell_type": "code",
      "execution_count": null,
      "id": "a337efc5",
      "metadata": {
        "id": "a337efc5"
      },
      "outputs": [],
      "source": [
        "!git diff rand.py"
      ]
    },
    {
      "cell_type": "markdown",
      "id": "5beab3aa",
      "metadata": {
        "id": "5beab3aa"
      },
      "source": [
        "En este caso, `git` nos muestra qué lineas se han eliminado y cuáles se han agregado. Por último, podemos agregar estos cambios al repositorio con los comandos que vimos anteriormente:"
      ]
    },
    {
      "cell_type": "code",
      "execution_count": null,
      "id": "d267caa3",
      "metadata": {
        "id": "d267caa3"
      },
      "outputs": [],
      "source": [
        "!git add rand.py\n",
        "!git commit -m \"Cambiamos el tipo de distribución\""
      ]
    },
    {
      "cell_type": "markdown",
      "id": "e81ee498",
      "metadata": {
        "id": "e81ee498"
      },
      "source": [
        "### **3.3. Componentes de Git**\n",
        "---\n",
        "\n",
        "Internamente, `git` funciona como un grafo computacional tal y como se muestra en la siguiente figura:\n",
        "\n",
        "<img src=\"https://drive.google.com/uc?export=view&id=1OIdSbN49YpLxP97azU0ukok2ExF9fBn9\" width=\"80%\">\n",
        "\n",
        "Podemos ver un flujo de trabajo donde varios desarrolladores contribuyen al mismo proyecto. El grafo de `git` está conformado por los siguientes componentes:"
      ]
    },
    {
      "cell_type": "markdown",
      "id": "2ed5f05c",
      "metadata": {
        "id": "2ed5f05c"
      },
      "source": [
        "#### **3.3.1. Commits**\n",
        "---\n",
        "\n",
        "Son los nodos en el grafo y corresponden a una versión específica del código. Un commit se crea al usar el comando `git commit` como lo vimos anteriormente.\n",
        "\n",
        "Con el comando `git log` podemos ver todos los commits en el proyecto:"
      ]
    },
    {
      "cell_type": "code",
      "execution_count": null,
      "id": "f33b571b",
      "metadata": {
        "id": "f33b571b"
      },
      "outputs": [],
      "source": [
        "!git log"
      ]
    },
    {
      "cell_type": "markdown",
      "id": "0436039f",
      "metadata": {
        "id": "0436039f"
      },
      "source": [
        "Como podemos ver, tenemos dos commits creados hasta el momento. Cada commit se identifica por:\n",
        "\n",
        "- Código hash único que permite identificar cada commit.\n",
        "- El autor que creó el commit.\n",
        "- La fecha en la que se realizó el cambio.\n",
        "- El mensaje que se agregó con el commit.\n",
        "\n",
        "Si deseamos movernos a un commit específico, podemos usar el comando `git checkout` especificando el hash del commit.\n",
        "\n",
        "> **Nota**: el código será completamente diferente para usted, así que lo vamos a extraer buscando el mensaje del primer commit que realizamos."
      ]
    },
    {
      "cell_type": "code",
      "execution_count": null,
      "id": "20903ef4",
      "metadata": {
        "id": "20903ef4"
      },
      "outputs": [],
      "source": [
        "command = \"\"\"\n",
        "git --no-pager log --decorate=short --pretty=oneline |\\\n",
        "        grep -P 'agregamos' |\\\n",
        "        awk '{ print $1 }'\n",
        "\"\"\"\n",
        "commit = (\n",
        "        get_ipython()\n",
        "        .getoutput(command)[0]\n",
        "        )\n",
        "print(commit)"
      ]
    },
    {
      "cell_type": "markdown",
      "id": "2ff54cb0",
      "metadata": {
        "id": "2ff54cb0"
      },
      "source": [
        "Guardamos el commit como una variable de entorno:"
      ]
    },
    {
      "cell_type": "code",
      "execution_count": null,
      "id": "2a7e67d2",
      "metadata": {
        "id": "2a7e67d2"
      },
      "outputs": [],
      "source": [
        "os.environ[\"COMMIT\"] = commit"
      ]
    },
    {
      "cell_type": "markdown",
      "id": "ca559372",
      "metadata": {
        "id": "ca559372"
      },
      "source": [
        "Podemos validar que la variable se encuentra en el entorno:"
      ]
    },
    {
      "cell_type": "code",
      "execution_count": null,
      "id": "e9c028e8",
      "metadata": {
        "id": "e9c028e8"
      },
      "outputs": [],
      "source": [
        "!echo $COMMIT"
      ]
    },
    {
      "cell_type": "markdown",
      "id": "b4de6916",
      "metadata": {
        "id": "b4de6916"
      },
      "source": [
        "Por último, cambiamos a la primera versión del código:"
      ]
    },
    {
      "cell_type": "code",
      "execution_count": null,
      "id": "9aba5790",
      "metadata": {
        "id": "9aba5790"
      },
      "outputs": [],
      "source": [
        "!git checkout $COMMIT"
      ]
    },
    {
      "cell_type": "markdown",
      "id": "056a206b",
      "metadata": {
        "id": "056a206b"
      },
      "source": [
        "Validemos el contenido del archivo `rand.py`:"
      ]
    },
    {
      "cell_type": "code",
      "execution_count": null,
      "id": "91e3ade5",
      "metadata": {
        "id": "91e3ade5"
      },
      "outputs": [],
      "source": [
        "!cat rand.py"
      ]
    },
    {
      "cell_type": "markdown",
      "id": "7e9a35d2",
      "metadata": {
        "id": "7e9a35d2"
      },
      "source": [
        "Como podemos ver, el archivo se revirtió a la primera versión. Podemos volver a la versión más reciente de la siguiente forma:"
      ]
    },
    {
      "cell_type": "code",
      "execution_count": null,
      "id": "aaf397b3",
      "metadata": {
        "id": "aaf397b3"
      },
      "outputs": [],
      "source": [
        "!git checkout master"
      ]
    },
    {
      "cell_type": "markdown",
      "id": "d8d75c0f",
      "metadata": {
        "id": "d8d75c0f"
      },
      "source": [
        "#### **3.3.1. Branches**\n",
        "---\n",
        "\n",
        "Las ramas son una forma de mantener más de una versión paralela del código. Una rama se crea con el comando `git branch` como mostramos a continuación:"
      ]
    },
    {
      "cell_type": "code",
      "execution_count": null,
      "id": "0dc5349e",
      "metadata": {
        "id": "0dc5349e"
      },
      "outputs": [],
      "source": [
        "!git branch dev"
      ]
    },
    {
      "cell_type": "markdown",
      "id": "56960222",
      "metadata": {
        "id": "56960222"
      },
      "source": [
        "Podemos validar las ramas existentes con el mismo comando:"
      ]
    },
    {
      "cell_type": "code",
      "execution_count": null,
      "id": "bb436fcd",
      "metadata": {
        "id": "bb436fcd"
      },
      "outputs": [],
      "source": [
        "!git branch"
      ]
    },
    {
      "cell_type": "markdown",
      "id": "d6ac3303",
      "metadata": {
        "id": "d6ac3303"
      },
      "source": [
        "Esto nos muestra dos ramas:\n",
        "\n",
        "- `master`: rama principal que existe por defecto.\n",
        "- `dev`: nombre de la rama que acabamos de crear.\n",
        "\n",
        "En este momento, ambas ramas tienen exactamente el mismo código, probemos haciendo algunos cambios sobre la rama `master`, para ello agregamos un nuevo script:"
      ]
    },
    {
      "cell_type": "code",
      "execution_count": null,
      "id": "7e1192d4",
      "metadata": {
        "id": "7e1192d4"
      },
      "outputs": [],
      "source": [
        "%%writefile rand_matrix.py\n",
        "import numpy as np\n",
        "x = np.random.normal(size=(2, 2))\n",
        "print(x)"
      ]
    },
    {
      "cell_type": "markdown",
      "id": "6119dd94",
      "metadata": {
        "id": "6119dd94"
      },
      "source": [
        "Podemos ver que el archivo fue creado y su estado en el repositorio:"
      ]
    },
    {
      "cell_type": "code",
      "execution_count": null,
      "id": "2deed3cb",
      "metadata": {
        "id": "2deed3cb"
      },
      "outputs": [],
      "source": [
        "!git status"
      ]
    },
    {
      "cell_type": "markdown",
      "id": "ce1f9c34",
      "metadata": {
        "id": "ce1f9c34"
      },
      "source": [
        "Agregamos el archivo al repositorio:"
      ]
    },
    {
      "cell_type": "code",
      "execution_count": null,
      "id": "b2931d25",
      "metadata": {
        "id": "b2931d25"
      },
      "outputs": [],
      "source": [
        "!git add rand_matrix.py\n",
        "!git commit -m \"Creamos el script rand_matrix\""
      ]
    },
    {
      "cell_type": "markdown",
      "id": "48e065bf",
      "metadata": {
        "id": "48e065bf"
      },
      "source": [
        "Podemos ver los commits creados hasta este punto:"
      ]
    },
    {
      "cell_type": "code",
      "execution_count": null,
      "id": "edef962b",
      "metadata": {
        "id": "edef962b"
      },
      "outputs": [],
      "source": [
        "!git log"
      ]
    },
    {
      "cell_type": "markdown",
      "id": "bff2e51e",
      "metadata": {
        "id": "bff2e51e"
      },
      "source": [
        "Ahora, cambiamos a la rama `dev` con el comando `git switch`:"
      ]
    },
    {
      "cell_type": "code",
      "execution_count": null,
      "id": "12bab6b1",
      "metadata": {
        "id": "12bab6b1"
      },
      "outputs": [],
      "source": [
        "!git switch dev"
      ]
    },
    {
      "cell_type": "markdown",
      "id": "249e7ec2",
      "metadata": {
        "id": "249e7ec2"
      },
      "source": [
        "Como esta rama fue creada un commit atrás, no contiene el nuevo script `rand_matrix.py`."
      ]
    },
    {
      "cell_type": "code",
      "execution_count": null,
      "id": "5054a9ca",
      "metadata": {
        "id": "5054a9ca"
      },
      "outputs": [],
      "source": [
        "!ls"
      ]
    },
    {
      "cell_type": "markdown",
      "id": "f9000a49",
      "metadata": {
        "id": "f9000a49"
      },
      "source": [
        "Sobre esta rama también podemos realizar cambios, vamos a agregar el siguiente script:"
      ]
    },
    {
      "cell_type": "code",
      "execution_count": null,
      "id": "12d51643",
      "metadata": {
        "id": "12d51643"
      },
      "outputs": [],
      "source": [
        "%%writefile randint.py\n",
        "import numpy as np\n",
        "print(np.random.randint(0, 5))"
      ]
    },
    {
      "cell_type": "markdown",
      "id": "0bfcc297",
      "metadata": {
        "id": "0bfcc297"
      },
      "source": [
        "Podemos validar que ya existe:"
      ]
    },
    {
      "cell_type": "code",
      "execution_count": null,
      "id": "2f1dd319",
      "metadata": {
        "id": "2f1dd319"
      },
      "outputs": [],
      "source": [
        "!git status"
      ]
    },
    {
      "cell_type": "markdown",
      "id": "bf4b53c0",
      "metadata": {
        "id": "bf4b53c0"
      },
      "source": [
        "Agregamos el archivo al repositorio:"
      ]
    },
    {
      "cell_type": "code",
      "execution_count": null,
      "id": "115ca168",
      "metadata": {
        "id": "115ca168"
      },
      "outputs": [],
      "source": [
        "!git add randint.py\n",
        "!git commit -m \"Agregamos el archivo randint\""
      ]
    },
    {
      "cell_type": "markdown",
      "id": "6da97ab0",
      "metadata": {
        "id": "6da97ab0"
      },
      "source": [
        "Recuerde que si cambiamos a la rama `master`, los cambios que únicamente se realizaron en `dev` deberían de ocultarse (el script `randint.py`), veamos los archivos en la rama actual:"
      ]
    },
    {
      "cell_type": "code",
      "execution_count": null,
      "id": "9bc57d8e",
      "metadata": {
        "id": "9bc57d8e"
      },
      "outputs": [],
      "source": [
        "!ls"
      ]
    },
    {
      "cell_type": "markdown",
      "id": "c6b1df85",
      "metadata": {
        "id": "c6b1df85"
      },
      "source": [
        "Ahora veamos qué pasa cuando regresamos a la rama `master`:"
      ]
    },
    {
      "cell_type": "code",
      "execution_count": null,
      "id": "52ba8489",
      "metadata": {
        "id": "52ba8489"
      },
      "outputs": [],
      "source": [
        "!git switch master"
      ]
    },
    {
      "cell_type": "markdown",
      "id": "87ea6791",
      "metadata": {
        "id": "87ea6791"
      },
      "source": [
        "Veamos los archivos que tenemos en esta rama:"
      ]
    },
    {
      "cell_type": "code",
      "execution_count": null,
      "id": "14d15110",
      "metadata": {
        "id": "14d15110"
      },
      "outputs": [],
      "source": [
        "!ls"
      ]
    },
    {
      "cell_type": "markdown",
      "id": "b4326aa4",
      "metadata": {
        "id": "b4326aa4"
      },
      "source": [
        "Como podemos ver, las ramas son independientes (incluso los cambios dentro de un mismo archivo).\n",
        "\n",
        "Cada rama tiene sus propios commits con sus propios identificadores, veamos los commits de la rama `master`:"
      ]
    },
    {
      "cell_type": "code",
      "execution_count": null,
      "id": "7c13786b",
      "metadata": {
        "id": "7c13786b"
      },
      "outputs": [],
      "source": [
        "!git switch master\n",
        "!git log"
      ]
    },
    {
      "cell_type": "markdown",
      "id": "4914f410",
      "metadata": {
        "id": "4914f410"
      },
      "source": [
        "Ahora veamos los commits de la rama `dev`:"
      ]
    },
    {
      "cell_type": "code",
      "execution_count": null,
      "id": "3e8800e6",
      "metadata": {
        "id": "3e8800e6"
      },
      "outputs": [],
      "source": [
        "!git switch dev\n",
        "!git log"
      ]
    },
    {
      "cell_type": "markdown",
      "id": "7c6fc039",
      "metadata": {
        "id": "7c6fc039"
      },
      "source": [
        "`git` nos permite unir o combinar dos ramas con el comando `git merge`, es decir, podemos consolidar los resultados en una única rama. Por ejemplo, podemos unir la rama `dev` dentro de la rama `master`, primero, nos debemos posicionar sobre la rama destino de la unión:"
      ]
    },
    {
      "cell_type": "code",
      "execution_count": null,
      "id": "8d699c78",
      "metadata": {
        "id": "8d699c78"
      },
      "outputs": [],
      "source": [
        "!git switch master"
      ]
    },
    {
      "cell_type": "markdown",
      "id": "061dcfbd",
      "metadata": {
        "id": "061dcfbd"
      },
      "source": [
        "Ahora, hacemos la unión de la rama `dev`:"
      ]
    },
    {
      "cell_type": "code",
      "execution_count": null,
      "id": "79dfcf4a",
      "metadata": {
        "id": "79dfcf4a"
      },
      "outputs": [],
      "source": [
        "!git merge dev --no-edit"
      ]
    },
    {
      "cell_type": "markdown",
      "id": "e365b30e",
      "metadata": {
        "id": "e365b30e"
      },
      "source": [
        "Veamos los archivos luego de la unión:"
      ]
    },
    {
      "cell_type": "code",
      "execution_count": null,
      "id": "eb105c12",
      "metadata": {
        "id": "eb105c12"
      },
      "outputs": [],
      "source": [
        "!ls"
      ]
    },
    {
      "cell_type": "markdown",
      "id": "02533579",
      "metadata": {
        "id": "02533579"
      },
      "source": [
        "Como podemos ver, ahora tenemos los tres archivos en un mismo espacio. De igual forma pasa con los commits:"
      ]
    },
    {
      "cell_type": "code",
      "execution_count": null,
      "id": "5d315208",
      "metadata": {
        "id": "5d315208"
      },
      "outputs": [],
      "source": [
        "!git log"
      ]
    },
    {
      "cell_type": "markdown",
      "id": "34e09ee3",
      "metadata": {
        "id": "34e09ee3"
      },
      "source": [
        "La rama `master` tiene en su histórico sus commits y el commit realizado sobre la rama `dev`.\n",
        "\n",
        "Es posible crear tantas ramas cómo queramos, no obstante, hay dos prácticas comunes que nos permiten gestionar de mejor forma la creación y unión de ramas dentro de un proyecto: Gitflow y Trunk Based:\n",
        "\n",
        "<img src=\"https://drive.google.com/uc?export=view&id=1x25Ord1C5pPnpNbz3_cSxt4mT1BJqYhm\" width=\"80%\">\n",
        "\n",
        "- **Gitflow** es una metodología de ramificación que se basa en tener ramas separadas para desarrollo, pruebas y producción. Esta metodología sugiere tener una rama principal (master) que contiene el código estable y seguro para producción, una rama de desarrollo (develop) donde se integran todas las nuevas funcionalidades, y ramas adicionales para características y correcciones de errores.\n",
        "- **Trunk Based** es una metodología de ramificación más simple en la que todos los desarrolladores trabajan directamente en la rama principal (master) del repositorio. En esta metodología no se utilizan ramas adicionales para características o correcciones de errores, sino que se hace uso de técnicas como el pair programming, code review y pruebas automatizadas para asegurar la calidad del código."
      ]
    },
    {
      "cell_type": "markdown",
      "id": "ec9278c9",
      "metadata": {
        "id": "ec9278c9"
      },
      "source": [
        "## **4. Github**\n",
        "---\n",
        "\n",
        "Github es una plataforma en línea que ofrece servicios de alojamiento y control de versiones para proyectos de software mediante `git`. En Github, los desarrolladores pueden crear repositorios para alojar su código, colaborar con otros desarrolladores en proyectos compartidos, realizar seguimiento de problemas y características, y hacer seguimiento de las contribuciones de los desarrolladores.\n",
        "\n",
        "<img src=\"https://drive.google.com/uc?export=view&id=1nLN0kCo_teb7Y4JHHjiXnUQ_6V2tef2J\" width=\"60%\">\n",
        "\n",
        "Github también ofrece una amplia variedad de herramientas para facilitar el desarrollo colaborativo, como la posibilidad de enviar y recibir solicitudes de extracción (pull requests) para fusionar cambios en un repositorio, y la posibilidad de hacer un seguimiento de las tareas y problemas del proyecto mediante el uso de etiquetas y sistemas de seguimiento de problemas.\n",
        "\n",
        "Además de ser una plataforma de alojamiento y control de versiones, Github también se ha convertido en una comunidad donde los desarrolladores pueden compartir y colaborar en proyectos de código abierto, y es una importante plataforma para los desarrolladores para compartir y descubrir proyectos interesantes.\n",
        "\n",
        "Para empezar con Github debemos crear una cuenta en [este enlace](https://github.com/signup). Una vez creada la cuenta debemos crear un token de acceso para conectarnos desde Google Colab (o en un ambiente local), para esto, debe dirigirse a la parte superior derecha sobre el icono de su usuario y dar click en `Settings`:\n",
        "\n",
        "<img src=\"https://drive.google.com/uc?export=view&id=1j-fnjkGEsoUIHS_XEk7iSDlnvbDGTxeV\" width=\"60%\">\n",
        "\n",
        "Aquí debemos seleccionar `Developer Settings`, en la parte de la izquierda:\n",
        "\n",
        "<img src=\"https://drive.google.com/uc?export=view&id=14nELKnQ-7-BbVbsA6EABjO1b_oMRS_OI\" width=\"60%\">\n",
        "\n",
        "Ahora debemos seleccionar `Personal Access Tokens > Tokens (classic)` y dar click sobre `Generate New Token`, debe llenar los campos como se muestran en esta imagen:\n",
        "\n",
        "<img src=\"https://drive.google.com/uc?export=view&id=1F315eYNob2E-Z4jM8IqKvtUG5kPyttjJ\" width=\"100%\">\n",
        "\n",
        "Se le pedirá seleccionar una lista de permisos, debe escoger los siguientes:\n",
        "\n",
        "- `repo`: control de los repositorios privados del usuario.\n",
        "- `admin:repo_hook`: permisos de lectura y escritura de repositorios.\n",
        "\n",
        "Esto deberá generar un código el cual debe asignar en la siguiente variable:"
      ]
    },
    {
      "cell_type": "code",
      "execution_count": null,
      "id": "dd8421e7",
      "metadata": {
        "id": "dd8421e7"
      },
      "outputs": [],
      "source": [
        "token = \"\" # Agregue su token dentro de las comillas."
      ]
    },
    {
      "cell_type": "markdown",
      "id": "bce1cda5",
      "metadata": {
        "id": "bce1cda5"
      },
      "source": [
        "Ahora, debemos configurar un repositorio remoto (dentro de Github) que será como un espejo de nuestro repositorio local.\n",
        "\n",
        "Para ello, debemos hacer click sobre el icono `+` en la parte superior derecha y dar click en `New Repository`:\n",
        "\n",
        "<img src=\"https://drive.google.com/uc?export=view&id=1XXJxZH0H9vqc0fT4d_31Q9XA-jCbhZtK\" width=\"60%\">\n",
        "\n",
        "Aunque no es obligatorio que el repositorio de github se llame igual que nuestro repositorio local (`myrepo`), se recomienda que se tengan el mismo nombre. Puede agregar una descripción al proyecto, también lo puede hacer público (visible por cualquier persona) o privado. Es importante que **NO** esté activa la opción `Add a README file`. Para crear el repositorio debe dar click en `Create repository`.\n",
        "\n",
        "Ahora deberá dar click sobre el botón `HTTPS` y copiar la url del repositorio:\n",
        "\n",
        "<img src=\"https://drive.google.com/uc?export=view&id=19w_XVHHYIKuZxyyCbaQiP_urtMYw52pj\" width=\"100%\">\n",
        "\n",
        "Debe reemplazar la url en la siguiente variable:"
      ]
    },
    {
      "cell_type": "code",
      "execution_count": null,
      "id": "ed41af4b",
      "metadata": {
        "id": "ed41af4b"
      },
      "outputs": [],
      "source": [
        "repo_url = \"...\" # Agruegue la url de su repositorio dentro de las comillas."
      ]
    },
    {
      "cell_type": "markdown",
      "id": "bcdd6e0d",
      "metadata": {
        "id": "bcdd6e0d"
      },
      "source": [
        "Ahora, usaremos una expresión regular para reemplazar el token en esta url:"
      ]
    },
    {
      "cell_type": "code",
      "execution_count": null,
      "id": "059bd0c1",
      "metadata": {
        "id": "059bd0c1"
      },
      "outputs": [],
      "source": [
        "import re\n",
        "pat = re.compile(r\"(https://)(.*)\")"
      ]
    },
    {
      "cell_type": "markdown",
      "id": "2b095079",
      "metadata": {
        "id": "2b095079"
      },
      "source": [
        "Formateamos la URL:"
      ]
    },
    {
      "cell_type": "code",
      "execution_count": null,
      "id": "0021d9e3",
      "metadata": {
        "id": "0021d9e3"
      },
      "outputs": [],
      "source": [
        "match = re.match(pat, repo_url)\n",
        "url_token = \"\".join([match.group(1), token, \"@\", match.group(2)])\n",
        "os.environ[\"GITHUB\"] = url_token"
      ]
    },
    {
      "cell_type": "markdown",
      "id": "871738e6",
      "metadata": {
        "id": "871738e6"
      },
      "source": [
        "Finalmente, enlazamos el repositorio local con el nuevo repositorio en Github con el comando `git remote`:"
      ]
    },
    {
      "cell_type": "code",
      "execution_count": null,
      "id": "a2fa6366",
      "metadata": {
        "id": "a2fa6366"
      },
      "outputs": [],
      "source": [
        "!git remote add origin $GITHUB"
      ]
    },
    {
      "cell_type": "markdown",
      "id": "05ce6ce2",
      "metadata": {
        "id": "05ce6ce2"
      },
      "source": [
        "En este punto, las versiones local (Colab) y remoto (Github) son distintas, para subir los cambios podemos usar el comando `git push` especificando la rama que deseamos actualizar:"
      ]
    },
    {
      "cell_type": "code",
      "execution_count": null,
      "id": "d7bb35aa",
      "metadata": {
        "id": "d7bb35aa"
      },
      "outputs": [],
      "source": [
        "!git push origin master\n",
        "!git push origin dev"
      ]
    },
    {
      "cell_type": "markdown",
      "id": "84e9a35d",
      "metadata": {
        "id": "84e9a35d"
      },
      "source": [
        "Si actualiza el repositorio en la página de Github, verá que los archivos se han guardado en la nube.\n",
        "\n",
        "También puede darse el caso en el que queramos descargar un repositorio. Veamos un ejemplo, primero salimos del repositorio:"
      ]
    },
    {
      "cell_type": "code",
      "execution_count": null,
      "id": "1fab2ffc",
      "metadata": {
        "id": "1fab2ffc"
      },
      "outputs": [],
      "source": [
        "%cd .."
      ]
    },
    {
      "cell_type": "markdown",
      "id": "19a0aafc",
      "metadata": {
        "id": "19a0aafc"
      },
      "source": [
        "Eliminamos el repositorio de Colab:"
      ]
    },
    {
      "cell_type": "code",
      "execution_count": null,
      "id": "d6fcbaca",
      "metadata": {
        "id": "d6fcbaca"
      },
      "outputs": [],
      "source": [
        "!rm -rf myrepo"
      ]
    },
    {
      "cell_type": "markdown",
      "id": "62f37d7e",
      "metadata": {
        "id": "62f37d7e"
      },
      "source": [
        "Validamos que el repositorio ya no está:"
      ]
    },
    {
      "cell_type": "code",
      "execution_count": null,
      "id": "03832592",
      "metadata": {
        "id": "03832592"
      },
      "outputs": [],
      "source": [
        "!ls"
      ]
    },
    {
      "cell_type": "markdown",
      "id": "d96f23a7",
      "metadata": {
        "id": "d96f23a7"
      },
      "source": [
        "Ahora, usamos el comando `git clone` para descargar el repositorio:"
      ]
    },
    {
      "cell_type": "code",
      "execution_count": null,
      "id": "dafca086",
      "metadata": {
        "id": "dafca086"
      },
      "outputs": [],
      "source": [
        "!git clone $GITHUB"
      ]
    },
    {
      "cell_type": "markdown",
      "id": "aed1d3ec",
      "metadata": {
        "id": "aed1d3ec"
      },
      "source": [
        "Como podemos ver, el repositorio se descargó desde Github:"
      ]
    },
    {
      "cell_type": "code",
      "execution_count": null,
      "id": "04803ceb",
      "metadata": {
        "id": "04803ceb"
      },
      "outputs": [],
      "source": [
        "!ls"
      ]
    },
    {
      "cell_type": "markdown",
      "id": "bbf4cede",
      "metadata": {
        "id": "bbf4cede"
      },
      "source": [
        "Vamos a tener dos versiones del mismo repositorio (equivalente a dos personas trabajando sobre el mismo, no es necesario que estén en el mismo computador):"
      ]
    },
    {
      "cell_type": "code",
      "execution_count": null,
      "id": "4284251a",
      "metadata": {
        "id": "4284251a"
      },
      "outputs": [],
      "source": [
        "!cp -r myrepo myrepo2\n",
        "!mv myrepo myrepo1"
      ]
    },
    {
      "cell_type": "markdown",
      "id": "11988835",
      "metadata": {
        "id": "11988835"
      },
      "source": [
        "Y vamos a crear un archivo sobre el repositorio `myrepo1`:"
      ]
    },
    {
      "cell_type": "code",
      "execution_count": null,
      "id": "e80b54a8",
      "metadata": {
        "id": "e80b54a8"
      },
      "outputs": [],
      "source": [
        "%cd myrepo1"
      ]
    },
    {
      "cell_type": "markdown",
      "id": "3cda3957",
      "metadata": {
        "id": "3cda3957"
      },
      "source": [
        "Agregamos un archivo:"
      ]
    },
    {
      "cell_type": "code",
      "execution_count": null,
      "id": "19156674",
      "metadata": {
        "id": "19156674"
      },
      "outputs": [],
      "source": [
        "%%writefile data.txt\n",
        "# hello world"
      ]
    },
    {
      "cell_type": "markdown",
      "id": "d8ced677",
      "metadata": {
        "id": "d8ced677"
      },
      "source": [
        "Creamos un commit y lo subimos a Github:"
      ]
    },
    {
      "cell_type": "code",
      "execution_count": null,
      "id": "5e142824",
      "metadata": {
        "id": "5e142824"
      },
      "outputs": [],
      "source": [
        "!git add data.txt\n",
        "!git commit -m \"Agregamos data.txt\"\n",
        "!git push origin master"
      ]
    },
    {
      "cell_type": "markdown",
      "id": "9fea204d",
      "metadata": {
        "id": "9fea204d"
      },
      "source": [
        "Ahora, nos movemos al repositorio del otro desarrollador:"
      ]
    },
    {
      "cell_type": "code",
      "execution_count": null,
      "id": "e75667d3",
      "metadata": {
        "id": "e75667d3"
      },
      "outputs": [],
      "source": [
        "%cd ../myrepo2\n",
        "!ls"
      ]
    },
    {
      "cell_type": "markdown",
      "id": "425012c7",
      "metadata": {
        "id": "425012c7"
      },
      "source": [
        "Como podemos ver, no existe el archivo `data.txt` en este entorno (se encuentra únicamente en `myrepo1` y en Github).\n",
        "\n",
        "Para descargar los cambios más recientes de Github, podemos usar el comando `git pull` y especificando una rama:"
      ]
    },
    {
      "cell_type": "code",
      "execution_count": null,
      "id": "5f20d181",
      "metadata": {
        "id": "5f20d181"
      },
      "outputs": [],
      "source": [
        "!git pull origin master"
      ]
    },
    {
      "cell_type": "markdown",
      "id": "80116a36",
      "metadata": {
        "id": "80116a36"
      },
      "source": [
        "Validemos si el repositorio está actualizado:"
      ]
    },
    {
      "cell_type": "code",
      "execution_count": null,
      "id": "7a729af1",
      "metadata": {
        "id": "7a729af1"
      },
      "outputs": [],
      "source": [
        "!ls"
      ]
    },
    {
      "cell_type": "markdown",
      "id": "f060295c",
      "metadata": {
        "id": "f060295c"
      },
      "source": [
        "Como podemos ver, todos los repositorios están sincronizados. Esta es la metodología colaborativa típica que siguen los desarrolladores para trabajar en conjunto sobre un repositorio de código."
      ]
    },
    {
      "cell_type": "markdown",
      "id": "db00621a",
      "metadata": {
        "id": "db00621a"
      },
      "source": [
        "## Recursos Adicionales\n",
        "---\n",
        "\n",
        "Los siguientes enlaces corresponden a sitios donde encontrará información muy útil para profundizar en los temas vistos en este notebook:\n",
        "\n",
        "- [Git](https://git-scm.com/)\n",
        "- [Github](https://github.com/)"
      ]
    },
    {
      "cell_type": "markdown",
      "id": "4326617b",
      "metadata": {
        "id": "4326617b"
      },
      "source": [
        "## Créditos\n",
        "---\n",
        "\n",
        "**Profesor**\n",
        "\n",
        "- [Jorge E. Camargo, PhD](https://dis.unal.edu.co/~jecamargom/)\n",
        "\n",
        "**Asistente docente**:\n",
        "\n",
        "- [Juan S. Lara MSc](https://www.linkedin.com/in/juan-sebastian-lara-ramirez-43570a214/)\n",
        "\n",
        "**Diseño de imágenes:**\n",
        "- [Brian Chaparro Cetina](mailto:bchaparro@unal.edu.co).\n",
        "\n",
        "**Universidad Nacional de Colombia** - *Facultad de Ingeniería*"
      ]
    }
  ],
  "metadata": {
    "jupytext": {
      "cell_metadata_filter": "-all"
    },
    "kernelspec": {
      "display_name": "Python 3",
      "name": "python3"
    },
    "colab": {
      "provenance": [],
      "private_outputs": true,
      "include_colab_link": true
    }
  },
  "nbformat": 4,
  "nbformat_minor": 5
}