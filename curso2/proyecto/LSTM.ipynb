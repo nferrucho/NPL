{
  "nbformat": 4,
  "nbformat_minor": 0,
  "metadata": {
    "colab": {
      "provenance": [],
      "gpuType": "V28"
    },
    "kernelspec": {
      "name": "python3",
      "display_name": "Python 3"
    },
    "language_info": {
      "name": "python"
    },
    "accelerator": "TPU"
  },
  "cells": [
    {
      "cell_type": "markdown",
      "source": [
        "el conjunto de datos \"Household Electric Power Consumption\" de Kaggle. Este conjunto de datos contiene registros de consumo de energía en kilovatios-hora (kWh) a intervalos de un minuto.\n",
        "\n"
      ],
      "metadata": {
        "id": "MSW_HcUpUqZy"
      }
    },
    {
      "cell_type": "markdown",
      "source": [
        "**Generación de datos:**\n",
        "\n",
        "Creamos un conjunto de datos sintético que simula el consumo de energía a lo largo del tiempo.\n",
        "\n",
        "**Preprocesamiento:**\n",
        "\n",
        "Normalizamos los datos y creamos un conjunto de datos adecuado para el modelo LSTM.\n",
        "\n",
        "**Modelo LSTM: **\n",
        "\n",
        "Construimos un modelo LSTM simple con capas LSTM y de abandono para prevenir el sobreajuste.\n",
        "\n",
        "**Entrenamiento y predicción:**\n",
        "\n",
        "Entrenamos el modelo y hacemos predicciones sobre el conjunto de prueba.\n",
        "\n",
        "**Visualización:**\n",
        "\n",
        "Mostramos los valores reales y predichos en un gráfico."
      ],
      "metadata": {
        "id": "PKfxYynf7jAH"
      }
    },
    {
      "cell_type": "markdown",
      "source": [
        "**Paso 1: Importar las librerías necesarias**\n",
        "Asegúrate de tener las librerías necesarias instaladas:"
      ],
      "metadata": {
        "id": "Vgzzpk6vUzZs"
      }
    },
    {
      "cell_type": "code",
      "source": [
        "pip install pandas numpy matplotlib scikit-learn keras\n"
      ],
      "metadata": {
        "colab": {
          "base_uri": "https://localhost:8080/"
        },
        "id": "v-BcXHKEUvvF",
        "outputId": "6e686ed3-47ef-4658-ca11-f314bbc20ead"
      },
      "execution_count": 8,
      "outputs": [
        {
          "output_type": "stream",
          "name": "stdout",
          "text": [
            "Requirement already satisfied: pandas in /usr/local/lib/python3.10/dist-packages (2.2.2)\n",
            "Requirement already satisfied: numpy in /usr/local/lib/python3.10/dist-packages (1.26.4)\n",
            "Requirement already satisfied: matplotlib in /usr/local/lib/python3.10/dist-packages (3.8.0)\n",
            "Requirement already satisfied: scikit-learn in /usr/local/lib/python3.10/dist-packages (1.5.2)\n",
            "Requirement already satisfied: keras in /usr/local/lib/python3.10/dist-packages (2.15.0)\n",
            "Requirement already satisfied: python-dateutil>=2.8.2 in /usr/local/lib/python3.10/dist-packages (from pandas) (2.9.0.post0)\n",
            "Requirement already satisfied: pytz>=2020.1 in /usr/local/lib/python3.10/dist-packages (from pandas) (2024.2)\n",
            "Requirement already satisfied: tzdata>=2022.7 in /usr/local/lib/python3.10/dist-packages (from pandas) (2024.2)\n",
            "Requirement already satisfied: contourpy>=1.0.1 in /usr/local/lib/python3.10/dist-packages (from matplotlib) (1.3.0)\n",
            "Requirement already satisfied: cycler>=0.10 in /usr/local/lib/python3.10/dist-packages (from matplotlib) (0.12.1)\n",
            "Requirement already satisfied: fonttools>=4.22.0 in /usr/local/lib/python3.10/dist-packages (from matplotlib) (4.54.1)\n",
            "Requirement already satisfied: kiwisolver>=1.0.1 in /usr/local/lib/python3.10/dist-packages (from matplotlib) (1.4.7)\n",
            "Requirement already satisfied: packaging>=20.0 in /usr/local/lib/python3.10/dist-packages (from matplotlib) (24.1)\n",
            "Requirement already satisfied: pillow>=6.2.0 in /usr/local/lib/python3.10/dist-packages (from matplotlib) (11.0.0)\n",
            "Requirement already satisfied: pyparsing>=2.3.1 in /usr/local/lib/python3.10/dist-packages (from matplotlib) (3.2.0)\n",
            "Requirement already satisfied: scipy>=1.6.0 in /usr/local/lib/python3.10/dist-packages (from scikit-learn) (1.13.1)\n",
            "Requirement already satisfied: joblib>=1.2.0 in /usr/local/lib/python3.10/dist-packages (from scikit-learn) (1.4.2)\n",
            "Requirement already satisfied: threadpoolctl>=3.1.0 in /usr/local/lib/python3.10/dist-packages (from scikit-learn) (3.5.0)\n",
            "Requirement already satisfied: six>=1.5 in /usr/local/lib/python3.10/dist-packages (from python-dateutil>=2.8.2->pandas) (1.16.0)\n"
          ]
        }
      ]
    },
    {
      "cell_type": "markdown",
      "source": [
        "Luego, importa las librerías:"
      ],
      "metadata": {
        "id": "CchvM8wv3jub"
      }
    },
    {
      "cell_type": "code",
      "source": [
        "import numpy as np\n",
        "import pandas as pd\n",
        "import matplotlib.pyplot as plt\n",
        "from sklearn.preprocessing import MinMaxScaler\n",
        "from keras.models import Sequential\n",
        "from keras.layers import LSTM, Dense, Dropout\n"
      ],
      "metadata": {
        "id": "XQIY0dKHVwQo"
      },
      "execution_count": 9,
      "outputs": []
    },
    {
      "cell_type": "markdown",
      "source": [
        "**Paso 2: Cargar el conjunto de datos**\n",
        "\n",
        "Descarga el archivo CSV desde Kaggle y colócalo en el mismo directorio que tu script o notebook. Luego, carga el conjunto de datos:"
      ],
      "metadata": {
        "id": "abepcYjOh4KH"
      }
    },
    {
      "cell_type": "code",
      "source": [
        "# Cargar el conjunto de datos\n",
        "data = pd.read_csv('/content/drive/MyDrive/Colab Notebooks/household_power_consumption.txt', sep=';', low_memory=False,\n",
        "                   parse_dates={'datetime': ['Date', 'Time']},\n",
        "                   infer_datetime_format=True, na_values='?')\n",
        "\n",
        "# Filtrar solo las columnas necesarias y eliminar filas con valores NaN\n",
        "data = data[['datetime', 'Global_active_power']]\n",
        "data.dropna(inplace=True)\n",
        "\n",
        "# Convertir la columna de energía a tipo numérico\n",
        "data['Global_active_power'] = data['Global_active_power'].astype(float)\n",
        "\n"
      ],
      "metadata": {
        "colab": {
          "base_uri": "https://localhost:8080/"
        },
        "id": "Y4DbMfa7ir5v",
        "outputId": "1efa40e3-7510-49eb-955e-6ed2ddbb7aa6"
      },
      "execution_count": 10,
      "outputs": [
        {
          "output_type": "stream",
          "name": "stderr",
          "text": [
            "<ipython-input-10-f19b40781c52>:2: FutureWarning: Support for nested sequences for 'parse_dates' in pd.read_csv is deprecated. Combine the desired columns with pd.to_datetime after parsing instead.\n",
            "  data = pd.read_csv('/content/drive/MyDrive/Colab Notebooks/household_power_consumption.txt', sep=';', low_memory=False,\n",
            "<ipython-input-10-f19b40781c52>:2: FutureWarning: The argument 'infer_datetime_format' is deprecated and will be removed in a future version. A strict version of it is now the default, see https://pandas.pydata.org/pdeps/0004-consistent-to-datetime-parsing.html. You can safely remove this argument.\n",
            "  data = pd.read_csv('/content/drive/MyDrive/Colab Notebooks/household_power_consumption.txt', sep=';', low_memory=False,\n",
            "<ipython-input-10-f19b40781c52>:2: UserWarning: Parsing dates in %d/%m/%Y %H:%M:%S format when dayfirst=False (the default) was specified. Pass `dayfirst=True` or specify a format to silence this warning.\n",
            "  data = pd.read_csv('/content/drive/MyDrive/Colab Notebooks/household_power_consumption.txt', sep=';', low_memory=False,\n"
          ]
        }
      ]
    },
    {
      "cell_type": "markdown",
      "source": [
        "**Paso 3: Preprocesar los datos**\n",
        "\n",
        "Normalizamos los datos y creamos un conjunto de datos adecuado para el modelo LSTM."
      ],
      "metadata": {
        "id": "ojBrYVwU53Ky"
      }
    },
    {
      "cell_type": "code",
      "source": [
        "# Normalizar los datos\n",
        "scaler = MinMaxScaler(feature_range=(0, 1))\n",
        "scaled_data = scaler.fit_transform(data['Global_active_power'].values.reshape(-1, 1))\n",
        "\n",
        "# Crear conjuntos de datos para entrenamiento y prueba\n",
        "def create_dataset(data, time_step=1):\n",
        "    X, Y = [], []\n",
        "    for i in range(len(data) - time_step - 1):\n",
        "        X.append(data[i:(i + time_step), 0])\n",
        "        Y.append(data[i + time_step, 0])\n",
        "    return np.array(X), np.array(Y)\n",
        "\n",
        "# Definir el número de pasos de tiempo\n",
        "time_step = 10\n",
        "X, y = create_dataset(scaled_data, time_step)\n",
        "\n",
        "# Reshape para LSTM [muestras, pasos de tiempo, características]\n",
        "X = X.reshape(X.shape[0], X.shape[1], 1)\n"
      ],
      "metadata": {
        "id": "t8yRzizU6CZZ"
      },
      "execution_count": 11,
      "outputs": []
    },
    {
      "cell_type": "markdown",
      "source": [
        "**Paso 4: Dividir en conjuntos de entrenamiento y prueba**"
      ],
      "metadata": {
        "id": "dJvX8NaE6Jf-"
      }
    },
    {
      "cell_type": "code",
      "source": [
        "# Dividir en conjuntos de entrenamiento y prueba\n",
        "train_size = int(len(X) * 0.8)\n",
        "X_train, X_test = X[:train_size], X[train_size:]\n",
        "y_train, y_test = y[:train_size], y[train_size:]\n"
      ],
      "metadata": {
        "id": "KV8-1lXa6Mw6"
      },
      "execution_count": 12,
      "outputs": []
    },
    {
      "cell_type": "markdown",
      "source": [
        "**Paso 5: Construir el modelo LSTM**"
      ],
      "metadata": {
        "id": "uaKTczkA6S1S"
      }
    },
    {
      "cell_type": "markdown",
      "source": [
        "**LSTM:**\n",
        "\n",
        "En la línea donde se define model.add(LSTM(...)), las funciones de activación sigmoide y tanh se aplican internamente en la implementación de Keras.\n",
        "\n",
        "Las puertas (input gate, forget gate y output gate) utilizan la función sigmoide para determinar qué información retener o descartar.\n",
        "\n",
        "La actualización de la celda y la salida utilizan la función tangente hiperbólica para generar los nuevos valores que se pasan a través de la red."
      ],
      "metadata": {
        "id": "kOSmetsG-MIk"
      }
    },
    {
      "cell_type": "code",
      "source": [
        "# Crear el modelo LSTM\n",
        "model = Sequential()\n",
        "\n",
        "# Capa LSTM con funciones sigmoide y tanh integradas en su funcionamiento\n",
        "model.add(LSTM(50, return_sequences=True, input_shape=(X_train.shape[1], 1)))\n",
        "\n",
        "# Función sigmoide y tanh aquí\n",
        "model.add(Dropout(0.2))  # Capa de abandono para prevenir el sobreajuste\n",
        "\n",
        "# Otra capa LSTM\n",
        "model.add(LSTM(50, return_sequences=False))  # Función sigmoide y tanh aquí\n",
        "model.add(Dropout(0.2))  # Capa de abandono\n",
        "\n",
        "# Capa de salida\n",
        "model.add(Dense(1))  # Capa densa para producir la salida\n",
        "\n",
        "# Compilación del modelo\n",
        "model.compile(optimizer='adam', loss='mean_squared_error')\n",
        "\n"
      ],
      "metadata": {
        "id": "q65VG0MW6VPk"
      },
      "execution_count": 13,
      "outputs": []
    },
    {
      "cell_type": "markdown",
      "source": [],
      "metadata": {
        "id": "83In505l-hnF"
      }
    },
    {
      "cell_type": "markdown",
      "source": [
        "**Paso 6: Entrenar el modelo**"
      ],
      "metadata": {
        "id": "fNJjo9BV6k1X"
      }
    },
    {
      "cell_type": "code",
      "source": [
        "# Entrenar el modelo\n",
        "#model.fit(X_train, y_train, epochs=100, batch_size=32)\n",
        "model.fit(X_train, y_train, epochs=3, batch_size=32)"
      ],
      "metadata": {
        "colab": {
          "base_uri": "https://localhost:8080/"
        },
        "id": "1IMwxCw86mi5",
        "outputId": "1b7ed861-f4e7-40e2-ff6a-63e97b7c609e"
      },
      "execution_count": 14,
      "outputs": [
        {
          "output_type": "stream",
          "name": "stdout",
          "text": [
            "Epoch 1/3\n",
            "51232/51232 [==============================] - 477s 9ms/step - loss: 7.2058e-04\n",
            "Epoch 2/3\n",
            "51232/51232 [==============================] - 477s 9ms/step - loss: 6.8227e-04\n",
            "Epoch 3/3\n",
            "51232/51232 [==============================] - 478s 9ms/step - loss: 6.6384e-04\n"
          ]
        },
        {
          "output_type": "execute_result",
          "data": {
            "text/plain": [
              "<keras.src.callbacks.History at 0x7fe68950a290>"
            ]
          },
          "metadata": {},
          "execution_count": 14
        }
      ]
    },
    {
      "cell_type": "markdown",
      "source": [
        "**Paso 7: Hacer predicciones**\n",
        "\n",
        "La función inverse_transform se utiliza para revertir la normalización o escalado de los datos a su rango original. Esto es especialmente útil en el contexto de modelos de aprendizaje automático, donde los datos se normalizan antes de ser introducidos en el modelo para mejorar la convergencia y el rendimiento.\n",
        "\n",
        "predicted_energy = scaler.inverse_transform(predicted_energy) utiliza el método inverse_transform del objeto scaler (que es una instancia de MinMaxScaler en este caso) para convertir las predicciones normalizadas de vuelta a su rango original. Esto permite que las predicciones se interpreten y se comparen con los valores reales de consumo de energía."
      ],
      "metadata": {
        "id": "0UYqvF9U6roW"
      }
    },
    {
      "cell_type": "code",
      "source": [
        "# Hacer predicciones\n",
        "predicted_energy = model.predict(X_test)\n",
        "\n",
        "# Invertir la normalización\n",
        "predicted_energy = scaler.inverse_transform(predicted_energy)\n",
        "actual_energy = scaler.inverse_transform(y_test.reshape(-1, 1))\n"
      ],
      "metadata": {
        "colab": {
          "base_uri": "https://localhost:8080/"
        },
        "id": "l_xkA5CG6uR2",
        "outputId": "eb481261-da48-41e1-8930-fd5e3cbea11e"
      },
      "execution_count": 15,
      "outputs": [
        {
          "output_type": "stream",
          "name": "stdout",
          "text": [
            "12808/12808 [==============================] - 52s 4ms/step\n"
          ]
        }
      ]
    },
    {
      "cell_type": "markdown",
      "source": [
        "**Paso 8: Visualizar los resultados**"
      ],
      "metadata": {
        "id": "Ml4z_2Kr60Uh"
      }
    },
    {
      "cell_type": "code",
      "source": [
        "# Visualizar los resultados\n",
        "plt.figure(figsize=(14, 5))\n",
        "plt.plot(data['datetime'][len(data)-len(y_test):], actual_energy, color='blue', label='Energía Real')\n",
        "plt.plot(data['datetime'][len(data)-len(y_test):], predicted_energy, color='red', label='Energía Predicha')\n",
        "plt.title('Predicción de Consumo de Energía')\n",
        "plt.xlabel('Tiempo')\n",
        "plt.ylabel('Energía (kWh)')\n",
        "plt.legend()\n",
        "plt.show()\n"
      ],
      "metadata": {
        "colab": {
          "base_uri": "https://localhost:8080/",
          "height": 488
        },
        "id": "p-K6b97e63oD",
        "outputId": "dfaaf40d-bced-40f5-de0a-aeafc84f0b5c"
      },
      "execution_count": 16,
      "outputs": [
        {
          "output_type": "display_data",
          "data": {
            "text/plain": [
              "<Figure size 1400x500 with 1 Axes>"
            ],
            "image/png": "[encoded data removed]"
          },
          "metadata": {}
        }
      ]
    },
    {
      "cell_type": "markdown",
      "source": [
        "**Notas**\n",
        "\n",
        "1. Formato de los datos:\n",
        "\n",
        "Asegúrate de que el archivo household_power_consumption.txt esté correctamente formateado y que las columnas de fecha y hora se estén combinando correctamente.\n",
        "\n",
        "2. Tiempo de entrenamiento:\n",
        "\n",
        "Ajusta el número de épocas y el tamaño del lote según tu hardware y tus necesidades. Entrenar el modelo puede tardar un poco, especialmente si el conjunto de datos es grande.\n",
        "\n",
        "3. Exploración de datos:\n",
        "\n",
        "Antes de entrenar el modelo, puedes explorar el conjunto de datos para obtener información sobre su distribución y posibles valores atípicos.\n"
      ],
      "metadata": {
        "id": "dpeuJ2oV6-uQ"
      }
    },
    {
      "cell_type": "markdown",
      "source": [
        "**Personalizacion de Activaciones**\n",
        "\n",
        "En este caso, activation='tanh' se utiliza para la activación de la celda, y recurrent_activation='sigmoid' se aplica para las puertas.\n",
        "\n",
        "En este ejemplo, activation='tanh' se utiliza para la activación de la celda, lo que permite que la red maneje tanto la información positiva como la negativa, mientras que recurrent_activation='sigmoid' se utiliza para controlar cómo se gestionan las puertas.\n",
        "\n",
        "\n"
      ],
      "metadata": {
        "id": "Cn8j16UNFsJP"
      }
    },
    {
      "cell_type": "code",
      "source": [
        "model.add(LSTM(50, return_sequences=True, activation='tanh', recurrent_activation='sigmoid', input_shape=(X_train.shape[1], 1)))\n"
      ],
      "metadata": {
        "colab": {
          "base_uri": "https://localhost:8080/",
          "height": 301
        },
        "id": "5ZA8Ag-4Fcdn",
        "outputId": "f3efc7de-5aea-48a6-f489-08d11b33ce58"
      },
      "execution_count": 17,
      "outputs": [
        {
          "output_type": "error",
          "ename": "ValueError",
          "evalue": "Input 0 of layer \"lstm_5\" is incompatible with the layer: expected ndim=3, found ndim=2. Full shape received: (None, 1)",
          "traceback": [
            "\u001b[0;31m---------------------------------------------------------------------------\u001b[0m",
            "\u001b[0;31mValueError\u001b[0m                                Traceback (most recent call last)",
            "\u001b[0;32m<ipython-input-17-79fded43e3a4>\u001b[0m in \u001b[0;36m<cell line: 1>\u001b[0;34m()\u001b[0m\n\u001b[0;32m----> 1\u001b[0;31m \u001b[0mmodel\u001b[0m\u001b[0;34m.\u001b[0m\u001b[0madd\u001b[0m\u001b[0;34m(\u001b[0m\u001b[0mLSTM\u001b[0m\u001b[0;34m(\u001b[0m\u001b[0;36m50\u001b[0m\u001b[0;34m,\u001b[0m \u001b[0mreturn_sequences\u001b[0m\u001b[0;34m=\u001b[0m\u001b[0;32mTrue\u001b[0m\u001b[0;34m,\u001b[0m \u001b[0mactivation\u001b[0m\u001b[0;34m=\u001b[0m\u001b[0;34m'tanh'\u001b[0m\u001b[0;34m,\u001b[0m \u001b[0mrecurrent_activation\u001b[0m\u001b[0;34m=\u001b[0m\u001b[0;34m'sigmoid'\u001b[0m\u001b[0;34m,\u001b[0m \u001b[0minput_shape\u001b[0m\u001b[0;34m=\u001b[0m\u001b[0;34m(\u001b[0m\u001b[0mX_train\u001b[0m\u001b[0;34m.\u001b[0m\u001b[0mshape\u001b[0m\u001b[0;34m[\u001b[0m\u001b[0;36m1\u001b[0m\u001b[0;34m]\u001b[0m\u001b[0;34m,\u001b[0m \u001b[0;36m1\u001b[0m\u001b[0;34m)\u001b[0m\u001b[0;34m)\u001b[0m\u001b[0;34m)\u001b[0m\u001b[0;34m\u001b[0m\u001b[0;34m\u001b[0m\u001b[0m\n\u001b[0m",
            "\u001b[0;32m/usr/local/lib/python3.10/dist-packages/tensorflow/python/trackable/base.py\u001b[0m in \u001b[0;36m_method_wrapper\u001b[0;34m(self, *args, **kwargs)\u001b[0m\n\u001b[1;32m    202\u001b[0m     \u001b[0mself\u001b[0m\u001b[0;34m.\u001b[0m\u001b[0m_self_setattr_tracking\u001b[0m \u001b[0;34m=\u001b[0m \u001b[0;32mFalse\u001b[0m  \u001b[0;31m# pylint: disable=protected-access\u001b[0m\u001b[0;34m\u001b[0m\u001b[0;34m\u001b[0m\u001b[0m\n\u001b[1;32m    203\u001b[0m     \u001b[0;32mtry\u001b[0m\u001b[0;34m:\u001b[0m\u001b[0;34m\u001b[0m\u001b[0;34m\u001b[0m\u001b[0m\n\u001b[0;32m--> 204\u001b[0;31m       \u001b[0mresult\u001b[0m \u001b[0;34m=\u001b[0m \u001b[0mmethod\u001b[0m\u001b[0;34m(\u001b[0m\u001b[0mself\u001b[0m\u001b[0;34m,\u001b[0m \u001b[0;34m*\u001b[0m\u001b[0margs\u001b[0m\u001b[0;34m,\u001b[0m \u001b[0;34m**\u001b[0m\u001b[0mkwargs\u001b[0m\u001b[0;34m)\u001b[0m\u001b[0;34m\u001b[0m\u001b[0;34m\u001b[0m\u001b[0m\n\u001b[0m\u001b[1;32m    205\u001b[0m     \u001b[0;32mfinally\u001b[0m\u001b[0;34m:\u001b[0m\u001b[0;34m\u001b[0m\u001b[0;34m\u001b[0m\u001b[0m\n\u001b[1;32m    206\u001b[0m       \u001b[0mself\u001b[0m\u001b[0;34m.\u001b[0m\u001b[0m_self_setattr_tracking\u001b[0m \u001b[0;34m=\u001b[0m \u001b[0mprevious_value\u001b[0m  \u001b[0;31m# pylint: disable=protected-access\u001b[0m\u001b[0;34m\u001b[0m\u001b[0;34m\u001b[0m\u001b[0m\n",
            "\u001b[0;32m/usr/local/lib/python3.10/dist-packages/keras/src/utils/traceback_utils.py\u001b[0m in \u001b[0;36merror_handler\u001b[0;34m(*args, **kwargs)\u001b[0m\n\u001b[1;32m     68\u001b[0m             \u001b[0;31m# To get the full stack trace, call:\u001b[0m\u001b[0;34m\u001b[0m\u001b[0;34m\u001b[0m\u001b[0m\n\u001b[1;32m     69\u001b[0m             \u001b[0;31m# `tf.debugging.disable_traceback_filtering()`\u001b[0m\u001b[0;34m\u001b[0m\u001b[0;34m\u001b[0m\u001b[0m\n\u001b[0;32m---> 70\u001b[0;31m             \u001b[0;32mraise\u001b[0m \u001b[0me\u001b[0m\u001b[0;34m.\u001b[0m\u001b[0mwith_traceback\u001b[0m\u001b[0;34m(\u001b[0m\u001b[0mfiltered_tb\u001b[0m\u001b[0;34m)\u001b[0m \u001b[0;32mfrom\u001b[0m \u001b[0;32mNone\u001b[0m\u001b[0;34m\u001b[0m\u001b[0;34m\u001b[0m\u001b[0m\n\u001b[0m\u001b[1;32m     71\u001b[0m         \u001b[0;32mfinally\u001b[0m\u001b[0;34m:\u001b[0m\u001b[0;34m\u001b[0m\u001b[0;34m\u001b[0m\u001b[0m\n\u001b[1;32m     72\u001b[0m             \u001b[0;32mdel\u001b[0m \u001b[0mfiltered_tb\u001b[0m\u001b[0;34m\u001b[0m\u001b[0;34m\u001b[0m\u001b[0m\n",
            "\u001b[0;32m/usr/local/lib/python3.10/dist-packages/keras/src/engine/input_spec.py\u001b[0m in \u001b[0;36massert_input_compatibility\u001b[0;34m(input_spec, inputs, layer_name)\u001b[0m\n\u001b[1;32m    233\u001b[0m             \u001b[0mndim\u001b[0m \u001b[0;34m=\u001b[0m \u001b[0mshape\u001b[0m\u001b[0;34m.\u001b[0m\u001b[0mrank\u001b[0m\u001b[0;34m\u001b[0m\u001b[0;34m\u001b[0m\u001b[0m\n\u001b[1;32m    234\u001b[0m             \u001b[0;32mif\u001b[0m \u001b[0mndim\u001b[0m \u001b[0;34m!=\u001b[0m \u001b[0mspec\u001b[0m\u001b[0;34m.\u001b[0m\u001b[0mndim\u001b[0m\u001b[0;34m:\u001b[0m\u001b[0;34m\u001b[0m\u001b[0;34m\u001b[0m\u001b[0m\n\u001b[0;32m--> 235\u001b[0;31m                 raise ValueError(\n\u001b[0m\u001b[1;32m    236\u001b[0m                     \u001b[0;34mf'Input {input_index} of layer \"{layer_name}\" '\u001b[0m\u001b[0;34m\u001b[0m\u001b[0;34m\u001b[0m\u001b[0m\n\u001b[1;32m    237\u001b[0m                     \u001b[0;34m\"is incompatible with the layer: \"\u001b[0m\u001b[0;34m\u001b[0m\u001b[0;34m\u001b[0m\u001b[0m\n",
            "\u001b[0;31mValueError\u001b[0m: Input 0 of layer \"lstm_5\" is incompatible with the layer: expected ndim=3, found ndim=2. Full shape received: (None, 1)"
          ]
        }
      ]
    }
  ]
}