{
  "cells": [
    {
      "cell_type": "markdown",
      "metadata": {
        "id": "view-in-github",
        "colab_type": "text"
      },
      "source": [
        "<a href=\"https://colab.research.google.com/github/nferrucho/NPL/blob/main/Copia_de_1_regex.ipynb\" target=\"_parent\"><img src=\"https://colab.research.google.com/assets/colab-badge.svg\" alt=\"Open In Colab\"/></a>"
      ]
    },
    {
      "cell_type": "markdown",
      "id": "7413ebe3",
      "metadata": {
        "id": "7413ebe3"
      },
      "source": [
        "<img src=\"https://drive.google.com/uc?export=view&id=1AQr9H9bXDeNPchTRufU78g8z0yxHvrmC\" width=\"100%\">"
      ]
    },
    {
      "cell_type": "markdown",
      "id": "75cf578a",
      "metadata": {
        "id": "75cf578a"
      },
      "source": [
        "# Expresiones Regulares\n",
        "---\n",
        "\n",
        "En este taller guiado presentaremos una introducción práctica a las expresiones regulares y sus aplicaciones, en especial, veremos cómo utilizarlas desde el lenguaje de programación _Python_ con la librería `re`:"
      ]
    },
    {
      "cell_type": "code",
      "execution_count": null,
      "id": "77375dd9",
      "metadata": {
        "id": "77375dd9"
      },
      "outputs": [],
      "source": [
        "import re"
      ]
    },
    {
      "cell_type": "markdown",
      "id": "5e296621",
      "metadata": {
        "id": "5e296621"
      },
      "source": [
        "## **1. Conceptos de Expresiones Regulares**\n",
        "---\n",
        "\n",
        "Una expresión regular (*regex*) es una secuencia de caracteres que describen un patrón de búsqueda. Se utilizan para búsqueda, sustitución, validación y recuperación de información de manera eficiente a partir de información textual. Generalmente, existen distintos motores de expresiones regulares que están implementados en distintos lenguajes de programación (e.g., Python, JavaScript, Perl, Go, entre otros), bases de datos (e.g., PostgreSQL, MongoDB, BigQuery, entre otros), navegadores web, editores de texto y utilidades base en distintos sistemas operativos basados en Linux en funciones como [`grep`](https://www.gnu.org/software/grep/manual/grep.html) o [`sed`](https://www.gnu.org/software/sed/manual/sed.html).\n",
        "\n",
        "Las expresiones regulares se pueden entender como una forma compacta de definir conjuntos sobre cadenas de caracteres. Por ejemplo, suponga que deseamos detectar los caracteres que hay en la placa (número de matrícula) de los automóviles en Colombia, las cuales están dadas por tres letras entre la A y la Z, seguidas de tres dígitos (e.g., ABC123).\n",
        "\n",
        "> ¿De qué forma podríamos definir el conjunto de todas las placas y qué cardinalidad tiene este conjunto?\n",
        "\n",
        "<img src=\"https://drive.google.com/uc?export=view&id=1hSSgi9Vlv_5tU1cshKIkkght47g9sAyT\" width=\"60%\">\n",
        "\n",
        "Antes de trabajar con expresiones regulares, pensemos en un enfoque crudo para detectar si una cadena de caracteres pertenece al conjunto de placas colombianas, es decir, vamos a validar si los primeros tres caracteres se encuentran entre las letras A-Z y que los últimos tres caracteres se encuentran entre los dígitos 0-9. Comenzamos importando la variable `ascii_uppercase` que nos permite sacar la lista de letras A-Z y la variable `digits` que nos permite obtener la lista de dígitos 0-9.\n"
      ]
    },
    {
      "cell_type": "code",
      "execution_count": null,
      "id": "c3faca51",
      "metadata": {
        "id": "c3faca51"
      },
      "outputs": [],
      "source": [
        "from string import ascii_uppercase, digits\n",
        "print(ascii_uppercase)\n",
        "print(digits)"
      ]
    },
    {
      "cell_type": "markdown",
      "id": "62c0a2ad",
      "metadata": {
        "id": "62c0a2ad"
      },
      "source": [
        "También importamos la función `product` para obtener todas las posibles combinaciones de placas. Note que estamos especificando la forma de las combinaciones como 3 letras en `ascii_uppercase` y 3 dígitos en `digits`:"
      ]
    },
    {
      "cell_type": "code",
      "execution_count": null,
      "id": "33ec02ae",
      "metadata": {
        "id": "33ec02ae"
      },
      "outputs": [],
      "source": [
        "from itertools import product\n",
        "combinations = product(\n",
        "        ascii_uppercase,\n",
        "        ascii_uppercase,\n",
        "        ascii_uppercase,\n",
        "        digits,\n",
        "        digits,\n",
        "        digits\n",
        "        )"
      ]
    },
    {
      "cell_type": "markdown",
      "id": "a39d3a8f",
      "metadata": {
        "id": "a39d3a8f"
      },
      "source": [
        "Ahora, mapeamos todas las combinaciones como cadenas de caracteres:"
      ]
    },
    {
      "cell_type": "code",
      "execution_count": null,
      "id": "c4cee73f",
      "metadata": {
        "id": "c4cee73f"
      },
      "outputs": [],
      "source": [
        "combinations = [\"\".join(comb) for comb in combinations]"
      ]
    },
    {
      "cell_type": "markdown",
      "id": "b91ae843",
      "metadata": {
        "id": "b91ae843"
      },
      "source": [
        "Veamos las primeras 10 combinaciones de este conjunto de placas:"
      ]
    },
    {
      "cell_type": "code",
      "execution_count": null,
      "id": "b8b03791",
      "metadata": {
        "id": "b8b03791"
      },
      "outputs": [],
      "source": [
        "print(combinations[:10])"
      ]
    },
    {
      "cell_type": "markdown",
      "id": "c637c2fe",
      "metadata": {
        "id": "c637c2fe"
      },
      "source": [
        "También podemos ver la cardinalidad de este conjunto:"
      ]
    },
    {
      "cell_type": "code",
      "execution_count": null,
      "id": "cd3ca80b",
      "metadata": {
        "id": "cd3ca80b"
      },
      "outputs": [],
      "source": [
        "print(len(combinations))"
      ]
    },
    {
      "cell_type": "markdown",
      "id": "f37dbd63",
      "metadata": {
        "id": "f37dbd63"
      },
      "source": [
        "¡Tenemos más de 17 millones de combinaciones de placas!\n",
        "\n",
        "Ahora veamos un ejemplo de cómo podríamos validar si una cadena de caracteres pertenece a este conjunto:"
      ]
    },
    {
      "cell_type": "code",
      "execution_count": null,
      "id": "43d3301f",
      "metadata": {
        "id": "43d3301f"
      },
      "outputs": [],
      "source": [
        "q = \"ABC123\"\n",
        "print(q in combinations)"
      ]
    },
    {
      "cell_type": "markdown",
      "id": "2a617ad6",
      "metadata": {
        "id": "2a617ad6"
      },
      "source": [
        "Como podemos ver, la secuencia `ABC123` es una placa válida de automóvil, veamos otro ejemplo con la secuencia `1A2B3C`:"
      ]
    },
    {
      "cell_type": "code",
      "execution_count": null,
      "id": "a5888463",
      "metadata": {
        "id": "a5888463"
      },
      "outputs": [],
      "source": [
        "q = \"1A2B3B\"\n",
        "print(q in combinations)"
      ]
    },
    {
      "cell_type": "markdown",
      "id": "3e96fdd2",
      "metadata": {
        "id": "3e96fdd2"
      },
      "source": [
        "Esta forma de validar placas presenta varios problemas:\n",
        "\n",
        "* Tiene una alta complejidad en memoria. Debemos almacenar muchas combinaciones de cadenas de caracteres para únicamente evaluar una secuencia de tamaño 6. En el ejemplo anterior la lista `combinations` ocupa alrededor de 140 MB. Este problema se vuelve más notorio cuando tenemos cadenas de caracteres más largas.\n",
        "* Tiene una alta complejidad en tiempo. En el peor de los casos, la evaluación debe comparar la secuencia de caracteres contra cada una de las combinaciones del conjunto. Esto ocurre, por ejemplo, cuando buscamos una cadena que no está dentro de la lista de combinaciones válidas.\n",
        "\n",
        "Para ilustrar esto último, veamos el tiempo que tarda hacer la comparación utilizando la librería `time`:"
      ]
    },
    {
      "cell_type": "code",
      "execution_count": null,
      "id": "73539230",
      "metadata": {
        "id": "73539230"
      },
      "outputs": [],
      "source": [
        "import time"
      ]
    },
    {
      "cell_type": "markdown",
      "id": "4020bd52",
      "metadata": {
        "id": "4020bd52"
      },
      "source": [
        "Evaluamos el tiempo:"
      ]
    },
    {
      "cell_type": "code",
      "execution_count": null,
      "id": "cbc1984d",
      "metadata": {
        "id": "cbc1984d"
      },
      "outputs": [],
      "source": [
        "q = \"1A2B3B\"\n",
        "t0 = time.time()\n",
        "result = q in combinations\n",
        "time_combs = time.time() - t0"
      ]
    },
    {
      "cell_type": "markdown",
      "id": "aae4fe09",
      "metadata": {
        "id": "aae4fe09"
      },
      "source": [
        "Veamos cuánto tardó la búsqueda en segundos:"
      ]
    },
    {
      "cell_type": "code",
      "execution_count": null,
      "id": "4cd1a7e7",
      "metadata": {
        "id": "4cd1a7e7"
      },
      "outputs": [],
      "source": [
        "print(time_combs)"
      ]
    },
    {
      "cell_type": "markdown",
      "id": "c4124dff",
      "metadata": {
        "id": "c4124dff"
      },
      "source": [
        "Este resultado suele tardar cerca de medio segundo.\n",
        "\n",
        "Ahora veamos qué ventaja nos da el mismo enfoque desde una **expresión regular**. Comencemos definiendo el patrón de la expresión regular para identificar las placas de los vehículos en Colombia:"
      ]
    },
    {
      "cell_type": "code",
      "execution_count": null,
      "id": "6542ff66",
      "metadata": {
        "id": "6542ff66"
      },
      "outputs": [],
      "source": [
        "pat = r\"[A-Z]{3,}\\d{3,}\""
      ]
    },
    {
      "cell_type": "markdown",
      "id": "94744490",
      "metadata": {
        "id": "94744490"
      },
      "source": [
        "Probemos los mismos dos ejemplos anteriores\n",
        "\n",
        "Primero el que sí coincide:"
      ]
    },
    {
      "cell_type": "code",
      "execution_count": null,
      "id": "c3ed942e",
      "metadata": {
        "id": "c3ed942e"
      },
      "outputs": [],
      "source": [
        "q = \"ABC123\"\n",
        "print(re.match(pat, q) is not None)"
      ]
    },
    {
      "cell_type": "markdown",
      "id": "b5d3971d",
      "metadata": {
        "id": "b5d3971d"
      },
      "source": [
        "Y ahora el que no coincide:"
      ]
    },
    {
      "cell_type": "code",
      "execution_count": null,
      "id": "22fa5d97",
      "metadata": {
        "id": "22fa5d97"
      },
      "outputs": [],
      "source": [
        "q = \"1A2B3C\"\n",
        "print(re.match(pat, q) is not None)"
      ]
    },
    {
      "cell_type": "markdown",
      "id": "4fcab51f",
      "metadata": {
        "id": "4fcab51f"
      },
      "source": [
        "Veamos el tiempo que tarda la búsqueda con expresiones regulares:"
      ]
    },
    {
      "cell_type": "code",
      "execution_count": null,
      "id": "e576467b",
      "metadata": {
        "id": "e576467b"
      },
      "outputs": [],
      "source": [
        "q = \"1A2B3B\"\n",
        "t0 = time.time()\n",
        "result = re.match(pat, q) is not None\n",
        "time_regex = time.time() - t0"
      ]
    },
    {
      "cell_type": "markdown",
      "id": "427fc95e",
      "metadata": {
        "id": "427fc95e"
      },
      "source": [
        "Veamos cuánto tardó la búsqueda en segundos:"
      ]
    },
    {
      "cell_type": "code",
      "execution_count": null,
      "id": "0db64507",
      "metadata": {
        "id": "0db64507"
      },
      "outputs": [],
      "source": [
        "print(time_regex)"
      ]
    },
    {
      "cell_type": "markdown",
      "id": "f40f5b26",
      "metadata": {
        "id": "f40f5b26"
      },
      "source": [
        "Veamos la relación entre el tiempo por combinaciones y el tiempo por expresión regular:"
      ]
    },
    {
      "cell_type": "code",
      "execution_count": null,
      "id": "b231333f",
      "metadata": {
        "id": "b231333f"
      },
      "outputs": [],
      "source": [
        "ratio = time_combs / time_regex\n",
        "print(ratio)"
      ]
    },
    {
      "cell_type": "markdown",
      "id": "d54fced1",
      "metadata": {
        "id": "d54fced1"
      },
      "source": [
        "Como puede ver, el enfoque de expresiones regulares ofrece estas ventajas:\n",
        "\n",
        "* Suele ser mucho más rápido en comparación con la estimación de todas las combinaciones.\n",
        "* Lo único que debemos almacenar en memoria es la expresión regular; en este caso, la cadena `r\"[A-Z]{3,}\\d{3,}\"`, y no alrededor de 17 millones de combinaciones posibles.\n",
        "\n",
        "Veamos cómo podemos construir las expresiones regulares y qué opciones nos da la librería `re` para su manipulación."
      ]
    },
    {
      "cell_type": "markdown",
      "id": "67b490cb",
      "metadata": {
        "id": "67b490cb"
      },
      "source": [
        "## **2. Funciones con Expresiones Regulares**\n",
        "---\n",
        "\n",
        "Existen distintas funciones que podemos usar con expresiones regulares. Primero vamos a definir una expresión regular (más adelante veremos cómo construirlas):"
      ]
    },
    {
      "cell_type": "code",
      "execution_count": null,
      "id": "461305f8",
      "metadata": {
        "id": "461305f8"
      },
      "outputs": [],
      "source": [
        "pat = r\"\\d{2}\""
      ]
    },
    {
      "cell_type": "markdown",
      "id": "7b909ad6",
      "metadata": {
        "id": "7b909ad6"
      },
      "source": [
        "### **2.1 Compilación**\n",
        "Podemos usar la función `compile` para obtener una versión compilada de la expresión regular. Generalmente, una expresión regular compilada es más rápida que una sin compilar:"
      ]
    },
    {
      "cell_type": "code",
      "execution_count": null,
      "id": "1860f6df",
      "metadata": {
        "id": "1860f6df"
      },
      "outputs": [],
      "source": [
        "pat_comp = re.compile(pat)\n",
        "print(pat_comp)"
      ]
    },
    {
      "cell_type": "markdown",
      "id": "60846081",
      "metadata": {
        "id": "60846081"
      },
      "source": [
        "### **2.2 Coincidencia**\n",
        "La función `match` nos permite validar si hay alguna coincidencia de la expresión regular con un texto dado. En el caso del ejemplo anterior, construimos una expresión regular (`pat_comp`) que representa dos dígitos seguidos.\n",
        "\n",
        "Veamos un ejemplo sobre el siguiente texto:"
      ]
    },
    {
      "cell_type": "code",
      "execution_count": null,
      "id": "2942de46",
      "metadata": {
        "id": "2942de46"
      },
      "outputs": [],
      "source": [
        "text = \"13\""
      ]
    },
    {
      "cell_type": "markdown",
      "id": "3008cc3d",
      "metadata": {
        "id": "3008cc3d"
      },
      "source": [
        "Ahora veamos la aplicación de la función `match`:"
      ]
    },
    {
      "cell_type": "code",
      "execution_count": null,
      "id": "9eb35889",
      "metadata": {
        "id": "9eb35889"
      },
      "outputs": [],
      "source": [
        "match = re.match(pat_comp, text)\n",
        "print(match)"
      ]
    },
    {
      "cell_type": "markdown",
      "id": "9ef4c232",
      "metadata": {
        "id": "9ef4c232"
      },
      "source": [
        "El resultado es un objeto de tipo `Match` sobre el que podemos extraer información:\n",
        "\n",
        "Con `match.start()` podemos obtener el índice donde inicia la coincidencia:"
      ]
    },
    {
      "cell_type": "code",
      "execution_count": null,
      "id": "90ab0b96",
      "metadata": {
        "id": "90ab0b96"
      },
      "outputs": [],
      "source": [
        "print(match.start())"
      ]
    },
    {
      "cell_type": "markdown",
      "id": "001febd6",
      "metadata": {
        "id": "001febd6"
      },
      "source": [
        "Con `match.end()` podemos obtener los índices donde termina la coincidencia:"
      ]
    },
    {
      "cell_type": "code",
      "execution_count": null,
      "id": "3f7aa475",
      "metadata": {
        "id": "3f7aa475"
      },
      "outputs": [],
      "source": [
        "print(match.end())"
      ]
    },
    {
      "cell_type": "markdown",
      "id": "9db615c6",
      "metadata": {
        "id": "9db615c6"
      },
      "source": [
        "Con `match.span()` podemos obtener los índices donde inicia y termina la coincidencia:"
      ]
    },
    {
      "cell_type": "code",
      "execution_count": null,
      "id": "3b12beb4",
      "metadata": {
        "id": "3b12beb4"
      },
      "outputs": [],
      "source": [
        "print(match.span())"
      ]
    },
    {
      "cell_type": "markdown",
      "id": "1f28f6c2",
      "metadata": {
        "id": "1f28f6c2"
      },
      "source": [
        "Con `match.string` podemos obtener el string de la coincidencia:"
      ]
    },
    {
      "cell_type": "code",
      "execution_count": null,
      "id": "e57ef2c9",
      "metadata": {
        "id": "e57ef2c9"
      },
      "outputs": [],
      "source": [
        "print(match.string)"
      ]
    },
    {
      "cell_type": "markdown",
      "id": "a70964b2",
      "metadata": {
        "id": "a70964b2"
      },
      "source": [
        "### **2.3 Búsqueda**\n",
        "La función `search` nos permite buscar coincidencias de una expresión regular dentro de todo un texto.\n",
        "\n",
        "Veamos un ejemplo con el siguiente texto:"
      ]
    },
    {
      "cell_type": "code",
      "execution_count": null,
      "id": "3d9e61a8",
      "metadata": {
        "id": "3d9e61a8"
      },
      "outputs": [],
      "source": [
        "text = \"mi cumpleaños es el 13 de marzo\""
      ]
    },
    {
      "cell_type": "markdown",
      "id": "41014464",
      "metadata": {
        "id": "41014464"
      },
      "source": [
        "Veamos el resultado de la búsqueda:"
      ]
    },
    {
      "cell_type": "code",
      "execution_count": null,
      "id": "efe09acb",
      "metadata": {
        "id": "efe09acb"
      },
      "outputs": [],
      "source": [
        "search = re.search(pat_comp, text)\n",
        "print(search)"
      ]
    },
    {
      "cell_type": "markdown",
      "id": "54ee28a0",
      "metadata": {
        "id": "54ee28a0"
      },
      "source": [
        "El resultado es un objeto de tipo `Match` con la primera coincidencia de la expresión regular dentro del texto."
      ]
    },
    {
      "cell_type": "markdown",
      "id": "fdc5b32c",
      "metadata": {
        "id": "fdc5b32c"
      },
      "source": [
        "### **2.4 Búsqueda múltiple**\n",
        "La función `findall` nos permite encontrar todas las coincidencias de la expresión regular en un texto.\n",
        "\n",
        "Veamos un ejemplo con el siguiente texto:"
      ]
    },
    {
      "cell_type": "code",
      "execution_count": null,
      "id": "6087f261",
      "metadata": {
        "id": "6087f261"
      },
      "outputs": [],
      "source": [
        "text = \"navidad es el 25 y año viejo el 31\""
      ]
    },
    {
      "cell_type": "markdown",
      "id": "6dc72cfe",
      "metadata": {
        "id": "6dc72cfe"
      },
      "source": [
        "Veamos el resultado de la búsqueda múltiple"
      ]
    },
    {
      "cell_type": "code",
      "execution_count": null,
      "id": "62c480a1",
      "metadata": {
        "id": "62c480a1"
      },
      "outputs": [],
      "source": [
        "multi_search = re.findall(pat_comp, text)\n",
        "print(multi_search)"
      ]
    },
    {
      "cell_type": "markdown",
      "id": "c660c65b",
      "metadata": {
        "id": "c660c65b"
      },
      "source": [
        "El resultado es una lista de strings con todas las coincidencias."
      ]
    },
    {
      "cell_type": "markdown",
      "id": "88a8fd93",
      "metadata": {
        "id": "88a8fd93"
      },
      "source": [
        "### **2.5 Búsqueda iterativa**\n",
        "La función `finditer` permite encontrar objetos de tipo `Match` de todas las coincidencias.\n",
        "\n",
        "Veamos un ejemplo:"
      ]
    },
    {
      "cell_type": "code",
      "execution_count": null,
      "id": "ce128d26",
      "metadata": {
        "id": "ce128d26"
      },
      "outputs": [],
      "source": [
        "matches = list(re.finditer(pat_comp, text))\n",
        "print(matches)"
      ]
    },
    {
      "cell_type": "markdown",
      "id": "23778b31",
      "metadata": {
        "id": "23778b31"
      },
      "source": [
        "### **2.6 Sustitución**\n",
        "\n",
        "La función `sub` permite reemplazar todas las coincidencias de una expresión regular por una secuencia dada dentro de un texto.\n",
        "\n",
        "Veamos un ejemplo para reemplazar los dos dígitos detectados por la cadena `\"XX\"`:"
      ]
    },
    {
      "cell_type": "code",
      "execution_count": null,
      "id": "df40db87",
      "metadata": {
        "id": "df40db87"
      },
      "outputs": [],
      "source": [
        "to_replace = \"XX\""
      ]
    },
    {
      "cell_type": "markdown",
      "id": "a576a1d1",
      "metadata": {
        "id": "a576a1d1"
      },
      "source": [
        "Veamos la sustitución:"
      ]
    },
    {
      "cell_type": "code",
      "execution_count": null,
      "id": "3e981b77",
      "metadata": {
        "id": "3e981b77"
      },
      "outputs": [],
      "source": [
        "sub = re.sub(pat, to_replace, text)\n",
        "print(sub)"
      ]
    },
    {
      "cell_type": "markdown",
      "id": "1df46378",
      "metadata": {
        "id": "1df46378"
      },
      "source": [
        "### **2. 7 Separación**\n",
        "\n",
        "La función `split` permite dividir una cadena de texto de acuerdo a una expresión regular.\n",
        "\n",
        "Veamos un ejemplo donde separamos la siguiente cadena utilizando cualquier número como separador:"
      ]
    },
    {
      "cell_type": "code",
      "execution_count": null,
      "id": "e2e60d7e",
      "metadata": {
        "id": "e2e60d7e"
      },
      "outputs": [],
      "source": [
        "to_split = \"este1es2un3ejemplo4de5string\""
      ]
    },
    {
      "cell_type": "markdown",
      "id": "82135b45",
      "metadata": {
        "id": "82135b45"
      },
      "source": [
        "Veamos la separación:"
      ]
    },
    {
      "cell_type": "code",
      "execution_count": null,
      "id": "e3ed383f",
      "metadata": {
        "id": "e3ed383f"
      },
      "outputs": [],
      "source": [
        "vals = re.split(r\"\\d\", to_split)\n",
        "print(vals)"
      ]
    },
    {
      "cell_type": "markdown",
      "id": "ee30185d",
      "metadata": {
        "id": "ee30185d"
      },
      "source": [
        "## **3. Identificadores de Caracteres**\n",
        "---\n",
        "\n",
        "La base de una expresión regular son los identificadores de caracteres que nos permiten definir patrones de cómo pueden variar las cadenas de caracteres. Una expresión regular puede construirse a partir de secuencias fijas (conjuntos de un único elemento) como mostramos a continuación:"
      ]
    },
    {
      "cell_type": "code",
      "execution_count": null,
      "id": "a70f4ab0",
      "metadata": {
        "id": "a70f4ab0"
      },
      "outputs": [],
      "source": [
        "pat = re.compile(r\"ejemplo\")"
      ]
    },
    {
      "cell_type": "markdown",
      "id": "7cb2c65c",
      "metadata": {
        "id": "7cb2c65c"
      },
      "source": [
        "Veamos las coincidencias de esta expresión regular dentro del siguiente texto:"
      ]
    },
    {
      "cell_type": "code",
      "execution_count": null,
      "id": "782fbd62",
      "metadata": {
        "id": "782fbd62"
      },
      "outputs": [],
      "source": [
        "text = \"ejemplo Ejemplo\""
      ]
    },
    {
      "cell_type": "markdown",
      "id": "8338b110",
      "metadata": {
        "id": "8338b110"
      },
      "source": [
        "Veamos el resultado de un `findall` para ver las coincidencias:"
      ]
    },
    {
      "cell_type": "code",
      "execution_count": null,
      "id": "2a757e94",
      "metadata": {
        "id": "2a757e94"
      },
      "outputs": [],
      "source": [
        "search = re.findall(pat, text)\n",
        "print(search)"
      ]
    },
    {
      "cell_type": "markdown",
      "id": "7a90a69f",
      "metadata": {
        "id": "7a90a69f"
      },
      "source": [
        "Como puede ver, el resultado es únicamente la primera palabra, ya que disponemos de una expresión regular que representa un único conjunto y es igual a la palabra `ejemplo` en minúsculas.\n",
        "\n",
        "Veamos cómo podemos extender la expresión regular para entender la segunda palabra con la siguiente expresión regular:\n",
        "\n",
        "<img src=\"https://drive.google.com/uc?export=view&id=1Ot-nPYztYBJW1BLTpDk_cA269cO26VnP\" width=\"60%\">"
      ]
    },
    {
      "cell_type": "code",
      "execution_count": null,
      "id": "9ac94a8d",
      "metadata": {
        "id": "9ac94a8d"
      },
      "outputs": [],
      "source": [
        "pat = re.compile(r\"[eE]jemplo\")"
      ]
    },
    {
      "cell_type": "markdown",
      "id": "898fad29",
      "metadata": {
        "id": "898fad29"
      },
      "source": [
        "Ahora, veamos las coincidencias:"
      ]
    },
    {
      "cell_type": "code",
      "execution_count": null,
      "id": "227b32cd",
      "metadata": {
        "id": "227b32cd"
      },
      "outputs": [],
      "source": [
        "search = re.findall(pat, text)\n",
        "print(search)"
      ]
    },
    {
      "cell_type": "markdown",
      "id": "9a786790",
      "metadata": {
        "id": "9a786790"
      },
      "source": [
        "En este caso, usamos los corchetes cuadrados `[]` para crear el patrón de un caracter que puede tener dos posibles valores: `e` o `E`. Esto extiende la expresión regular a un conjunto de cardinalidad 2 con las siguientes combinaciones: `{\"ejemplo\", \"Ejemplo\"}`\n",
        "\n",
        "Con los corchetes cuadrados podemos crear patrones para representar distintos caracteres, por ejemplo, podemos definir una expresión regular que extraiga cualquier secuencia de tamaño 1 de una vocal tildada:"
      ]
    },
    {
      "cell_type": "code",
      "execution_count": null,
      "id": "8d14c66e",
      "metadata": {
        "id": "8d14c66e"
      },
      "outputs": [],
      "source": [
        "pat = re.compile(r\"[éáíóú]\")"
      ]
    },
    {
      "cell_type": "markdown",
      "id": "ba1a9111",
      "metadata": {
        "id": "ba1a9111"
      },
      "source": [
        "Podemos usarla sobre el siguiente texto:"
      ]
    },
    {
      "cell_type": "code",
      "execution_count": null,
      "id": "32115dd4",
      "metadata": {
        "id": "32115dd4"
      },
      "outputs": [],
      "source": [
        "text = \"ayer perdí una canción de la memoria\""
      ]
    },
    {
      "cell_type": "markdown",
      "id": "34dce3ed",
      "metadata": {
        "id": "34dce3ed"
      },
      "source": [
        "Veamos las coincidencias:"
      ]
    },
    {
      "cell_type": "code",
      "execution_count": null,
      "id": "524eb37f",
      "metadata": {
        "id": "524eb37f"
      },
      "outputs": [],
      "source": [
        "search = re.findall(pat, text)\n",
        "print(search)"
      ]
    },
    {
      "cell_type": "markdown",
      "id": "59429234",
      "metadata": {
        "id": "59429234"
      },
      "source": [
        "Adicional a esto, es posible abreviar la definición de grupos de caracteres usando el caracter `-`. Por ejemplo, la siguiente expresión regular define el conjunto de todas las letras minúsculas:"
      ]
    },
    {
      "cell_type": "code",
      "execution_count": null,
      "id": "27ffb083",
      "metadata": {
        "id": "27ffb083"
      },
      "outputs": [],
      "source": [
        "pat = re.compile(r\"[a-z]\")"
      ]
    },
    {
      "cell_type": "markdown",
      "id": "f57b4319",
      "metadata": {
        "id": "f57b4319"
      },
      "source": [
        "Veamos un ejemplo de su aplicación con el siguiente texto:"
      ]
    },
    {
      "cell_type": "code",
      "execution_count": null,
      "id": "07d7dc18",
      "metadata": {
        "id": "07d7dc18"
      },
      "outputs": [],
      "source": [
        "text = \"a b c d e f G H I J K\""
      ]
    },
    {
      "cell_type": "markdown",
      "id": "b315a190",
      "metadata": {
        "id": "b315a190"
      },
      "source": [
        "Veamos las coincidencias:"
      ]
    },
    {
      "cell_type": "code",
      "execution_count": null,
      "id": "7bbdc2ca",
      "metadata": {
        "id": "7bbdc2ca"
      },
      "outputs": [],
      "source": [
        "search = re.findall(pat, text)\n",
        "print(search)"
      ]
    },
    {
      "cell_type": "markdown",
      "id": "54615e52",
      "metadata": {
        "id": "54615e52"
      },
      "source": [
        "Si deseamos que la expresión regular tenga en cuenta el caracter `-` para la búsqueda, o un backslash `\\`, debemos escaparlos con un _backslash_ como mostramos a continuación:"
      ]
    },
    {
      "cell_type": "code",
      "execution_count": null,
      "id": "bfc21c09",
      "metadata": {
        "id": "bfc21c09"
      },
      "outputs": [],
      "source": [
        "pat = re.compile(r\"[\\-\\\\]\")"
      ]
    },
    {
      "cell_type": "markdown",
      "id": "f75200df",
      "metadata": {
        "id": "f75200df"
      },
      "source": [
        "Veamos un ejemplo de su aplicación con el siguiente texto:"
      ]
    },
    {
      "cell_type": "code",
      "execution_count": null,
      "id": "a1f064f2",
      "metadata": {
        "id": "a1f064f2"
      },
      "outputs": [],
      "source": [
        "text = r\"este-ejemplo\\es\""
      ]
    },
    {
      "cell_type": "markdown",
      "id": "c5c0bdae",
      "metadata": {
        "id": "c5c0bdae"
      },
      "source": [
        "Veamos las coincidencias:"
      ]
    },
    {
      "cell_type": "code",
      "execution_count": null,
      "id": "755dad0c",
      "metadata": {
        "id": "755dad0c"
      },
      "outputs": [],
      "source": [
        "search = re.findall(pat, text)\n",
        "print(search)"
      ]
    },
    {
      "cell_type": "markdown",
      "id": "c4f33e43",
      "metadata": {
        "id": "c4f33e43"
      },
      "source": [
        "También es posible definir secuencias de otros caracteres, típicamente se usan:\n",
        "\n",
        "* `[a-z]`: todas las letras minúsculas.\n",
        "* `[A-Z]`: todas las letras mayúsculas.\n",
        "* `[0-9]`: todos los dígitos\n",
        "\n",
        "Y de la misma forma, es posible combinarlos entre ellos. Veamos la siguiente expresión regular que define el conjunto de todas las letras minúsculas desde la `\"a\"` hasta la `\"c\"` y letras mayúsculas desde la `\"D\"` hasta la `\"F\"`:"
      ]
    },
    {
      "cell_type": "code",
      "execution_count": null,
      "id": "dd916382",
      "metadata": {
        "id": "dd916382"
      },
      "outputs": [],
      "source": [
        "pat = re.compile(r\"[a-cD-F]\")"
      ]
    },
    {
      "cell_type": "markdown",
      "id": "da3359ff",
      "metadata": {
        "id": "da3359ff"
      },
      "source": [
        "Veamos un ejemplo sobre el siguiente texto:"
      ]
    },
    {
      "cell_type": "code",
      "execution_count": null,
      "id": "b8bbf3bd",
      "metadata": {
        "id": "b8bbf3bd"
      },
      "outputs": [],
      "source": [
        "text = r\"abcDEFghijkLMN\""
      ]
    },
    {
      "cell_type": "markdown",
      "id": "f0ca04f9",
      "metadata": {
        "id": "f0ca04f9"
      },
      "source": [
        "Veamos las coincidencias:"
      ]
    },
    {
      "cell_type": "code",
      "execution_count": null,
      "id": "be6cec28",
      "metadata": {
        "id": "be6cec28"
      },
      "outputs": [],
      "source": [
        "search = re.findall(pat, text)\n",
        "print(search)"
      ]
    },
    {
      "cell_type": "markdown",
      "id": "8927fdfd",
      "metadata": {
        "id": "8927fdfd"
      },
      "source": [
        "Existen abreviaciones para algunos conjuntos de caracteres; en la siguiente tabla encontrará los más comunes:\n",
        "\n",
        "| Expresión Regular | Descripción | Ejemplo de Patrón | Ejemplo Match |\n",
        "| --- | --- | --- | --- |\n",
        "| `\\d` | Un dígito | `file_\\d\\d` | `file_24` |\n",
        "| `\\w` | Caracter alfanumérico | `\\w-\\w\\w\\w` | `A-b_1` |\n",
        "| `\\s` | Espacio en blanco | `a\\sb\\sc` | `a b c` |\n",
        "| `\\D` | No dígito | `\\D\\D\\D` | `abc` |\n",
        "| `\\W` | No alfanumérico | `\\W\\W\\W` | `*=+` |\n",
        "| `\\S` | No es espacio | `\\S\\S\\S` | `yoy` |\n",
        "| `.` | Cualquier caracter | `....` | `Ae9=` |"
      ]
    },
    {
      "cell_type": "markdown",
      "id": "f6a5289b",
      "metadata": {
        "id": "f6a5289b"
      },
      "source": [
        "También hay algunos caracteres especiales, los más comunes son:\n",
        "\n",
        "| Expresión Regular | Descripción |\n",
        "| --- | --- |\n",
        "| `\\t` | Tabulación |\n",
        "| `\\r` | Retorno del carro |\n",
        "| `\\n` | Salto de línea |\n",
        "| `\\f` | Salto de página |\n",
        "| `\\v` | Tabulación vertical|\n",
        "| `\\x` | Representa caracteres ascii, por ejemplo `\\xA9` el cual representa © |\n",
        "| `\\u` | Formato unicode, por ejemplo `\\u1F412` representa 🐒 |\n",
        "| `^` | Inicio de una cadena |\n",
        "| `$` | Final de una cadena |"
      ]
    },
    {
      "cell_type": "markdown",
      "id": "6b0731cb",
      "metadata": {
        "id": "6b0731cb"
      },
      "source": [
        "## **4. Cuantificadores**\n",
        "---\n",
        "Los cuantificadores permiten representar las repeticiones de identificadores o secuencias de caracteres que van seguidos, por ejemplo, si quisiéramos detectar cualquier año del milenio pasado podríamos definir la siguiente expresión regular:"
      ]
    },
    {
      "cell_type": "code",
      "execution_count": null,
      "id": "0bb13ffb",
      "metadata": {
        "id": "0bb13ffb"
      },
      "outputs": [],
      "source": [
        "pat = re.compile(r\"1\\d\\d\\d\")"
      ]
    },
    {
      "cell_type": "markdown",
      "id": "95929ad1",
      "metadata": {
        "id": "95929ad1"
      },
      "source": [
        "Como puede ver, definimos el identificador de dígitos 3 veces. Esto se puede simplificar con un cuantificador, así:\n",
        "\n",
        "<img src=\"https://drive.google.com/uc?export=view&id=17EBQju0uImxW7BOAwmnE4WqXHhovkwMc\" width=\"70%\">"
      ]
    },
    {
      "cell_type": "code",
      "execution_count": null,
      "id": "ccf469c0",
      "metadata": {
        "id": "ccf469c0"
      },
      "outputs": [],
      "source": [
        "pat = re.compile(r\"1\\d{3}\")"
      ]
    },
    {
      "cell_type": "markdown",
      "id": "08ac036f",
      "metadata": {
        "id": "08ac036f"
      },
      "source": [
        "En este caso, las llaves indican que un dígito `\\d` se repite 3 veces, la expresión regular completa hace match con cualquier secuencia de números que inicie en 1 y esté seguido de 3 números.\n",
        "\n",
        "Veamos un ejemplo sobre el siguiente texto:"
      ]
    },
    {
      "cell_type": "code",
      "execution_count": null,
      "id": "df16c58a",
      "metadata": {
        "id": "df16c58a"
      },
      "outputs": [],
      "source": [
        "text = \"1888 2002 288 2023 1039\""
      ]
    },
    {
      "cell_type": "markdown",
      "id": "b3553342",
      "metadata": {
        "id": "b3553342"
      },
      "source": [
        "Veamos las coincidencias:"
      ]
    },
    {
      "cell_type": "code",
      "execution_count": null,
      "id": "28494bd8",
      "metadata": {
        "id": "28494bd8"
      },
      "outputs": [],
      "source": [
        "search = re.findall(pat, text)\n",
        "print(search)"
      ]
    },
    {
      "cell_type": "markdown",
      "id": "453bd16d",
      "metadata": {
        "id": "453bd16d"
      },
      "source": [
        "También podemos definir rangos como cuantificadores. Por ejemplo, la siguiente expresión regular representa secuencias de máximo 3 dígitos:"
      ]
    },
    {
      "cell_type": "code",
      "execution_count": null,
      "id": "3c117fa1",
      "metadata": {
        "id": "3c117fa1"
      },
      "outputs": [],
      "source": [
        "pat = re.compile(r\"\\d{,3}\")"
      ]
    },
    {
      "cell_type": "markdown",
      "id": "8660694d",
      "metadata": {
        "id": "8660694d"
      },
      "source": [
        "Veamos un ejemplo con el siguiente texto:"
      ]
    },
    {
      "cell_type": "code",
      "execution_count": null,
      "id": "f6e5ad4b",
      "metadata": {
        "id": "f6e5ad4b"
      },
      "outputs": [],
      "source": [
        "text = \"1 12 123 1234 12345 123456 1234567\""
      ]
    },
    {
      "cell_type": "markdown",
      "id": "5578d811",
      "metadata": {
        "id": "5578d811"
      },
      "source": [
        "Veamos las coincidencias:"
      ]
    },
    {
      "cell_type": "code",
      "execution_count": null,
      "id": "80deb956",
      "metadata": {
        "id": "80deb956"
      },
      "outputs": [],
      "source": [
        "search = re.findall(pat, text)\n",
        "print(search)"
      ]
    },
    {
      "cell_type": "markdown",
      "id": "57547b8e",
      "metadata": {
        "id": "57547b8e"
      },
      "source": [
        "Como puede notar, el resultado incluye cadenas vacías `''`, esto se da por que se incluyen secuencias de dígitos de longitud 0. Podemos acotar el patrón a un mínimo de 1 dígito:"
      ]
    },
    {
      "cell_type": "code",
      "execution_count": null,
      "id": "04cdf34b",
      "metadata": {
        "id": "04cdf34b"
      },
      "outputs": [],
      "source": [
        "pat = re.compile(r\"\\d{1,3}\")"
      ]
    },
    {
      "cell_type": "markdown",
      "id": "0dfea2c3",
      "metadata": {
        "id": "0dfea2c3"
      },
      "source": [
        "Veamos las coincidencias:"
      ]
    },
    {
      "cell_type": "code",
      "execution_count": null,
      "id": "577499af",
      "metadata": {
        "id": "577499af"
      },
      "outputs": [],
      "source": [
        "search = re.findall(pat, text)\n",
        "print(search)"
      ]
    },
    {
      "cell_type": "markdown",
      "id": "102adb51",
      "metadata": {
        "id": "102adb51"
      },
      "source": [
        "Tenemos algunas abreviaciones para los cuantificadores, estas se muestran en la siguiente tabla:\n",
        "\n",
        "| Abreviación | Cuantificador | Descripción |\n",
        "| --- | --- | --- |\n",
        "| `?` | `{,1}` | Aparece 0 o una vez |\n",
        "| `+` | `{1,}` | Aparece 1 o más veces |\n",
        "| `*` | `{0,}` | Aparece 0 o más veces |"
      ]
    },
    {
      "cell_type": "markdown",
      "id": "884fb93e",
      "metadata": {
        "id": "884fb93e"
      },
      "source": [
        "## **5. Operadores**\n",
        "---\n",
        "\n",
        "Tenemos algunos operadores que nos permiten modificar el comportamiento de una expresión regular, entre ellos, vimos el operador de rango `-`, el cual nos permite definir un rango de caracteres dentro de un contexto definido por corchetes cuadrados. Adicionalmente, tenemos estos operadores:"
      ]
    },
    {
      "cell_type": "markdown",
      "id": "7e587c5f",
      "metadata": {
        "id": "7e587c5f"
      },
      "source": [
        "* `[^...]` representa el complemento de un conjunto de caracteres, por ejemplo, la siguiente expresión regular hace _match_ con cualquier secuencia (longitud mayor a 1) de caracteres que **no** sean dígitos:"
      ]
    },
    {
      "cell_type": "code",
      "execution_count": null,
      "id": "69c1844b",
      "metadata": {
        "id": "69c1844b"
      },
      "outputs": [],
      "source": [
        "pat = re.compile(r\"[^0-9]+\")"
      ]
    },
    {
      "cell_type": "markdown",
      "id": "01a9a92c",
      "metadata": {
        "id": "01a9a92c"
      },
      "source": [
        "Vamos a usar el siguiente texto como ejemplo:"
      ]
    },
    {
      "cell_type": "code",
      "execution_count": null,
      "id": "705766c8",
      "metadata": {
        "id": "705766c8"
      },
      "outputs": [],
      "source": [
        "text = \"hello 1234 bye 5467\""
      ]
    },
    {
      "cell_type": "markdown",
      "id": "ea479c31",
      "metadata": {
        "id": "ea479c31"
      },
      "source": [
        "Veamos las coincidencias:"
      ]
    },
    {
      "cell_type": "code",
      "execution_count": null,
      "id": "978b9948",
      "metadata": {
        "id": "978b9948"
      },
      "outputs": [],
      "source": [
        "search = re.findall(pat, text)\n",
        "print(search)"
      ]
    },
    {
      "cell_type": "markdown",
      "id": "27d4688e",
      "metadata": {
        "id": "27d4688e"
      },
      "source": [
        "* `|` representa la unión de dos expresiones regulares. Por ejemplo la siguiente expresión regular hace match con secuencias de 4 letras minúsculas o 3 letras mayúsculas:"
      ]
    },
    {
      "cell_type": "code",
      "execution_count": null,
      "id": "f12299cf",
      "metadata": {
        "id": "f12299cf"
      },
      "outputs": [],
      "source": [
        "pat = re.compile(r\"[a-z]{4}|[A-Z]{3}\")"
      ]
    },
    {
      "cell_type": "markdown",
      "id": "871ace8e",
      "metadata": {
        "id": "871ace8e"
      },
      "source": [
        "Vamos a usar el siguiente texto como ejemplo:"
      ]
    },
    {
      "cell_type": "code",
      "execution_count": null,
      "id": "c467bf2d",
      "metadata": {
        "id": "c467bf2d"
      },
      "outputs": [],
      "source": [
        "text = \"hola DIA pe del\""
      ]
    },
    {
      "cell_type": "markdown",
      "id": "e2e0402d",
      "metadata": {
        "id": "e2e0402d"
      },
      "source": [
        "Veamos las coincidencias:"
      ]
    },
    {
      "cell_type": "code",
      "execution_count": null,
      "id": "2219b548",
      "metadata": {
        "id": "2219b548"
      },
      "outputs": [],
      "source": [
        "search = re.findall(pat, text)\n",
        "print(search)"
      ]
    },
    {
      "cell_type": "markdown",
      "id": "21ae3139",
      "metadata": {
        "id": "21ae3139"
      },
      "source": [
        "## **6. Grupos**\n",
        "---\n",
        "Los grupos en expresiones regulares nos permiten estructurar y extraer información útil de los textos, un grupo se define por medio de los paréntesis `()`, así:\n",
        "\n",
        "<img src=\"https://drive.google.com/uc?export=view&id=1cn3JUNGQzyfP7yIy71YP4j13zQD11bmW\" width=\"60%\">\n",
        "\n",
        "Existen dos formas de definir los grupos:"
      ]
    },
    {
      "cell_type": "markdown",
      "id": "8436feae",
      "metadata": {
        "id": "8436feae"
      },
      "source": [
        "### **6.1 Grupos posicionales**\n",
        "\n",
        "Los grupos posicionales se definen de izquierda a derecha dentro de la expresión regular, por ejemplo, la siguiente expresión regular define dos grupos para capturar dos palabras cuya primera letra sea mayúscula y el resto minúsculas:"
      ]
    },
    {
      "cell_type": "code",
      "execution_count": null,
      "id": "2ca00323",
      "metadata": {
        "id": "2ca00323"
      },
      "outputs": [],
      "source": [
        "pat = re.compile(r\"([A-Z][a-z]+) ([A-Z][a-z]+)\")"
      ]
    },
    {
      "cell_type": "markdown",
      "id": "ce0be8fd",
      "metadata": {
        "id": "ce0be8fd"
      },
      "source": [
        "Podemos usarla para extraer nombres de un texto:"
      ]
    },
    {
      "cell_type": "code",
      "execution_count": null,
      "id": "1a419ae4",
      "metadata": {
        "id": "1a419ae4"
      },
      "outputs": [],
      "source": [
        "text = \"mi nombre es Pepe Perez y busco a Maria Belen\""
      ]
    },
    {
      "cell_type": "markdown",
      "id": "2b45b248",
      "metadata": {
        "id": "2b45b248"
      },
      "source": [
        "Veamos el resultado de la búsqueda:"
      ]
    },
    {
      "cell_type": "code",
      "execution_count": null,
      "id": "ae01191e",
      "metadata": {
        "id": "ae01191e"
      },
      "outputs": [],
      "source": [
        "search = list(re.finditer(pat, text))\n",
        "print(search)"
      ]
    },
    {
      "cell_type": "markdown",
      "id": "380ccbde",
      "metadata": {
        "id": "380ccbde"
      },
      "source": [
        "Como puede ver, el resultado de la búsqueda da lo mismo que el caso en el que no se usan grupos. No obstante, podemos usar el método `group` del objeto `Match` para extraer la información de cada grupo, por ejemplo, los primeros nombres:"
      ]
    },
    {
      "cell_type": "code",
      "execution_count": null,
      "id": "648c7219",
      "metadata": {
        "id": "648c7219"
      },
      "outputs": [],
      "source": [
        "print([match.group(1) for match in search])"
      ]
    },
    {
      "cell_type": "markdown",
      "id": "3581e1fd",
      "metadata": {
        "id": "3581e1fd"
      },
      "source": [
        "También podemos extraer los apellidos:"
      ]
    },
    {
      "cell_type": "code",
      "execution_count": null,
      "id": "2a8187b7",
      "metadata": {
        "id": "2a8187b7"
      },
      "outputs": [],
      "source": [
        "print([match.group(2) for match in search])"
      ]
    },
    {
      "cell_type": "markdown",
      "id": "0df400db",
      "metadata": {
        "id": "0df400db"
      },
      "source": [
        "### **6.2 Grupos nombrados**\n",
        "\n",
        "\n",
        "<img src=\"https://drive.google.com/uc?export=view&id=1jZilAJSXdeCw2flg7cnhyUooiiI-w0sK\" width=\"60%\">\n",
        "\n",
        "Los grupos nombrados se crean usando la notación `(?P<tag>...)`. Por ejemplo, podemos definir la misma expresión regular de arriba con la diferencia de que ahora damos nombre a los dos grupos:"
      ]
    },
    {
      "cell_type": "code",
      "execution_count": null,
      "id": "f29acdaf",
      "metadata": {
        "id": "f29acdaf"
      },
      "outputs": [],
      "source": [
        "pat = re.compile(r\"(?P<nombre>[A-Z][a-z]+) (?P<apellido>[A-Z][a-z]+)\")"
      ]
    },
    {
      "cell_type": "markdown",
      "id": "e15c090d",
      "metadata": {
        "id": "e15c090d"
      },
      "source": [
        "Veamos el resultado de la búsqueda:"
      ]
    },
    {
      "cell_type": "code",
      "execution_count": null,
      "id": "97142075",
      "metadata": {
        "id": "97142075"
      },
      "outputs": [],
      "source": [
        "search = list(re.finditer(pat, text))\n",
        "print(search)"
      ]
    },
    {
      "cell_type": "markdown",
      "id": "227ac234",
      "metadata": {
        "id": "227ac234"
      },
      "source": [
        "Así mismo, podemos extraer los nombres y apellidos usando la etiqueta asignada a cada grupo, por ejemplo, los nombres:"
      ]
    },
    {
      "cell_type": "code",
      "execution_count": null,
      "id": "27cbdce8",
      "metadata": {
        "id": "27cbdce8"
      },
      "outputs": [],
      "source": [
        "print([match.group(\"nombre\") for match in search])"
      ]
    },
    {
      "cell_type": "code",
      "execution_count": null,
      "id": "5b38349e",
      "metadata": {
        "id": "5b38349e"
      },
      "outputs": [],
      "source": [
        "print([match.group(\"apellido\") for match in search])"
      ]
    },
    {
      "cell_type": "markdown",
      "id": "b7f7a2bf",
      "metadata": {
        "id": "b7f7a2bf"
      },
      "source": [
        "## Recursos Adicionales\n",
        "---\n",
        "\n",
        "Los siguientes enlaces corresponden a sitios donde encontrará información para profundizar en los temas vistos en este taller guiado:\n",
        "\n",
        "* [Regex en Python](https://docs.python.org/3/howto/regex.html)\n",
        "* [Learn and test regex](https://regexr.com/)\n",
        "* [Acerca de las expresiones regulares](https://support.google.com/analytics/answer/1034324?hl=es)"
      ]
    },
    {
      "cell_type": "markdown",
      "id": "20864a97",
      "metadata": {
        "id": "20864a97"
      },
      "source": [
        "## Créditos\n",
        "---\n",
        "\n",
        "* **Profesor:** [Felipe Restrepo Calle](https://dis.unal.edu.co/~ferestrepoca/)\n",
        "* **Asistentes docentes:**\n",
        "    - [Juan Sebastián Lara Ramírez](https://www.linkedin.com/in/juan-sebastian-lara-ramirez-43570a214/).\n",
        "* **Diseño de imágenes:**\n",
        "    - [Rosa Alejandra Superlano Esquibel](mailto:rsuperlano@unal.edu.co).   \n",
        "* **Coordinador de virtualización:**\n",
        "    - [Edder Hernández Forero](https://www.linkedin.com/in/edder-hernandez-forero-28aa8b207/).\n",
        "\n",
        "**Universidad Nacional de Colombia** - *Facultad de Ingeniería*"
      ]
    }
  ],
  "metadata": {
    "jupytext": {
      "cell_metadata_filter": "-all",
      "main_language": "python",
      "notebook_metadata_filter": "-all"
    },
    "colab": {
      "provenance": [],
      "private_outputs": true,
      "toc_visible": true,
      "include_colab_link": true
    },
    "language_info": {
      "name": "python"
    },
    "kernelspec": {
      "name": "python3",
      "display_name": "Python 3"
    }
  },
  "nbformat": 4,
  "nbformat_minor": 5
}