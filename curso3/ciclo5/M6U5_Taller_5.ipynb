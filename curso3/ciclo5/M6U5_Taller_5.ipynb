{
  "cells": [
    {
      "cell_type": "markdown",
      "metadata": {
        "id": "view-in-github",
        "colab_type": "text"
      },
      "source": [
        "<a href=\"https://colab.research.google.com/github/nferrucho/NPL/blob/main/curso3/ciclo5/M6U5_Taller_5.ipynb\" target=\"_parent\"><img src=\"https://colab.research.google.com/assets/colab-badge.svg\" alt=\"Open In Colab\"/></a>"
      ]
    },
    {
      "cell_type": "markdown",
      "metadata": {
        "id": "-H-Ng5chF7X6"
      },
      "source": [
        "<img src=\"https://drive.google.com/uc?export=view&id=1qVy-0wx4ddR4HPxhjFhUcrVE5Ylg39jC\" width=\"100%\">"
      ]
    },
    {
      "cell_type": "markdown",
      "metadata": {
        "id": "PWRW4nD4Ha3D"
      },
      "source": [
        "# **Taller 5: Evaluación y Reiteración de Modelos**\n",
        "---\n",
        "\n",
        "En este notebook evaluaremos los conceptos aprendidos sobre evaluación de modelos.\n",
        "\n",
        "Ejecute las siguientes celdas para conectarse a UNCode:"
      ]
    },
    {
      "cell_type": "code",
      "execution_count": null,
      "metadata": {
        "id": "TAqkL4giPflw",
        "colab": {
          "base_uri": "https://localhost:8080/"
        },
        "outputId": "7939dddc-aaea-4937-eefc-88ac407587c8"
      },
      "outputs": [
        {
          "output_type": "stream",
          "name": "stdout",
          "text": [
            "Collecting rlxcrypt\n",
            "  Downloading rlxcrypt-0.0.4-cp310-cp310-manylinux_2_17_x86_64.manylinux2014_x86_64.whl.metadata (1.9 kB)\n",
            "Collecting imphook (from rlxcrypt)\n",
            "  Downloading imphook-1.0.tar.gz (12 kB)\n",
            "  Preparing metadata (setup.py) ... \u001b[?25l\u001b[?25hdone\n",
            "Requirement already satisfied: cython in /usr/local/lib/python3.10/dist-packages (from rlxcrypt) (3.0.11)\n",
            "Collecting pycryptodome (from rlxcrypt)\n",
            "  Downloading pycryptodome-3.21.0-cp36-abi3-manylinux_2_17_x86_64.manylinux2014_x86_64.whl.metadata (3.4 kB)\n",
            "Requirement already satisfied: cryptography in /usr/local/lib/python3.10/dist-packages (from rlxcrypt) (43.0.3)\n",
            "Requirement already satisfied: cffi>=1.12 in /usr/local/lib/python3.10/dist-packages (from cryptography->rlxcrypt) (1.17.1)\n",
            "Requirement already satisfied: pycparser in /usr/local/lib/python3.10/dist-packages (from cffi>=1.12->cryptography->rlxcrypt) (2.22)\n",
            "Downloading rlxcrypt-0.0.4-cp310-cp310-manylinux_2_17_x86_64.manylinux2014_x86_64.whl (297 kB)\n",
            "\u001b[2K   \u001b[90m━━━━━━━━━━━━━━━━━━━━━━━━━━━━━━━━━━━━━━━━\u001b[0m \u001b[32m297.9/297.9 kB\u001b[0m \u001b[31m5.0 MB/s\u001b[0m eta \u001b[36m0:00:00\u001b[0m\n",
            "\u001b[?25hDownloading pycryptodome-3.21.0-cp36-abi3-manylinux_2_17_x86_64.manylinux2014_x86_64.whl (2.3 MB)\n",
            "\u001b[2K   \u001b[90m━━━━━━━━━━━━━━━━━━━━━━━━━━━━━━━━━━━━━━━━\u001b[0m \u001b[32m2.3/2.3 MB\u001b[0m \u001b[31m22.8 MB/s\u001b[0m eta \u001b[36m0:00:00\u001b[0m\n",
            "\u001b[?25hBuilding wheels for collected packages: imphook\n",
            "  Building wheel for imphook (setup.py) ... \u001b[?25l\u001b[?25hdone\n",
            "  Created wheel for imphook: filename=imphook-1.0-py3-none-any.whl size=9423 sha256=d8ff081659a7f2faef1f7cf11519304c065569471703388ea956d30b27d1afae\n",
            "  Stored in directory: /root/.cache/pip/wheels/dc/e2/a4/fcb3817d09a2eb047b2b08eb58e7d9140041b0f3f415eb1256\n",
            "Successfully built imphook\n",
            "Installing collected packages: imphook, pycryptodome, rlxcrypt\n",
            "Successfully installed imphook-1.0 pycryptodome-3.21.0 rlxcrypt-0.0.4\n"
          ]
        }
      ],
      "source": [
        "!pip install rlxcrypt\n",
        "!wget --no-cache -O session.pye -q https://raw.githubusercontent.com/JuezUN/INGInious/master/external%20libs/session.pye"
      ]
    },
    {
      "cell_type": "code",
      "execution_count": null,
      "metadata": {
        "id": "CKNgJYjHPhtr",
        "colab": {
          "base_uri": "https://localhost:8080/",
          "height": 288
        },
        "outputId": "78f75b2e-da33-4c6c-c46e-2c8e6adef6ce"
      },
      "outputs": [
        {
          "output_type": "display_data",
          "data": {
            "text/plain": [
              "<IPython.core.display.HTML object>"
            ],
            "text/html": [
              "\n",
              "    <div>\n",
              "    <div style=\"display: flex\">\n",
              "        <div style=\"padding: 10px\">\n",
              "          <img\n",
              "            src=\"https://uncode.unal.edu.co/static/images/logo_unc.svg\"\n",
              "            width=\"50px\"\n",
              "            height=\"50px\"\n",
              "          />\n",
              "        </div>\n",
              "      \n",
              "        <div>\n",
              "          <h2>UNCode Notebooks grader API</h2>\n",
              "          <hr />\n",
              "        </div>\n",
              "      </div>\n",
              "      \n",
              "      <div style=\"display: flex\">\n",
              "        <span>Please enter authentication data</span>\n",
              "      </div>\n",
              "    </div>\n",
              "    "
            ]
          },
          "metadata": {}
        },
        {
          "name": "stdout",
          "output_type": "stream",
          "text": [
            "Please enter your UNCode username: Heldeg\n",
            "Please enter your password: ··········\n"
          ]
        },
        {
          "output_type": "display_data",
          "data": {
            "text/plain": [
              "<IPython.core.display.HTML object>"
            ],
            "text/html": [
              "<h5 style=\"color: green\"><Response [200]></h5>"
            ]
          },
          "metadata": {}
        },
        {
          "output_type": "display_data",
          "data": {
            "text/plain": [
              "<IPython.core.display.HTML object>"
            ],
            "text/html": [
              "<h5 style=\"color: green\">Auth process succeeded</h5>"
            ]
          },
          "metadata": {}
        },
        {
          "output_type": "display_data",
          "data": {
            "text/plain": [
              "<IPython.core.display.HTML object>"
            ],
            "text/html": [
              "<h5>View your courses <a href=\"https://uncode.unal.edu.co/courselist\">at UNCode platform</a></h5>"
            ]
          },
          "metadata": {}
        },
        {
          "output_type": "display_data",
          "data": {
            "text/plain": [
              "<IPython.core.display.HTML object>"
            ],
            "text/html": [
              "<h3>You will sumbit code to course: <span style=\"color: green\">Metodologias agiles para el desarrollo de aplicaciones con Machine Learning | Grupo MLDS-6 | 2024 - 2<span></h3>"
            ]
          },
          "metadata": {}
        },
        {
          "output_type": "display_data",
          "data": {
            "text/plain": [
              "<IPython.core.display.HTML object>"
            ],
            "text/html": [
              "<h3>You will sumbit code to task: <span style=\"color: blue\">Taller 5: Evaluación y Reiteración de Modelos<span></h3>"
            ]
          },
          "metadata": {}
        }
      ],
      "source": [
        "import rlxcrypt\n",
        "import session\n",
        "\n",
        "grader = session.LoginSequence(\"MAPEDDACML-GroupMLDS-6-2024-2@5f34ea92-c886-43f2-a54e-3d0761521d2c\")"
      ]
    },
    {
      "cell_type": "markdown",
      "metadata": {
        "id": "S-ocd--frFi7"
      },
      "source": [
        "Comenzamos instalando las librerías y herramientas necesarias:"
      ]
    },
    {
      "cell_type": "code",
      "execution_count": null,
      "metadata": {
        "id": "M-vCMmv9Fz8p"
      },
      "outputs": [],
      "source": [
        "!pip install evidently"
      ]
    },
    {
      "cell_type": "markdown",
      "metadata": {
        "id": "R6-Jscb8Zyhb"
      },
      "source": [
        "Importamos las librerías necesarias:"
      ]
    },
    {
      "cell_type": "code",
      "execution_count": null,
      "metadata": {
        "id": "PIB7qeOuVkfh"
      },
      "outputs": [],
      "source": [
        "# Librerías de utilidad para manipulación y visualización de datos.\n",
        "import pandas as pd\n",
        "from IPython.display import display\n",
        "\n",
        "# Ignorar warnings.\n",
        "import warnings\n",
        "warnings.filterwarnings('ignore')"
      ]
    },
    {
      "cell_type": "code",
      "execution_count": null,
      "metadata": {
        "id": "jUMP_2CPqwRY",
        "colab": {
          "base_uri": "https://localhost:8080/"
        },
        "outputId": "b6f59b65-3349-495f-ab21-aecad634fc70"
      },
      "outputs": [
        {
          "output_type": "stream",
          "name": "stdout",
          "text": [
            "Python 3.10.12\n",
            "Evidently 0.4.39\n"
          ]
        }
      ],
      "source": [
        "# Versiones de las librerías usadas\n",
        "import evidently\n",
        "!python --version\n",
        "print('Evidently', evidently.__version__)"
      ]
    },
    {
      "cell_type": "markdown",
      "metadata": {
        "id": "F0TKCwN8KRtN"
      },
      "source": [
        "Esta actividad se realizó con las siguientes versiones:\n",
        "*  Python 3.10.11\n",
        "*  Evidently 0.3.1"
      ]
    },
    {
      "cell_type": "markdown",
      "metadata": {
        "id": "_Pr-voBCHT2i"
      },
      "source": [
        "## **Carga de datos**\n",
        "---\n",
        "En este caso dispondremos de distintas versiones de un conjunto de datos que han sido distribuidas en el tiempo de la siguiente forma:\n",
        "\n",
        "```sh\n",
        "└── orig\n",
        "    ├── df1\n",
        "    ├── df2\n",
        "    ├── df3\n",
        "    └── df4\n",
        "```\n",
        "\n",
        "Donde `orig` es el conjunto de datos original y los elementos llamados `df` corresponden a distintas versiones del conjunto de datos que fueron adquiridas tiempo después.\n",
        "\n",
        "Vamos a cargar estos datos:"
      ]
    },
    {
      "cell_type": "code",
      "execution_count": null,
      "metadata": {
        "id": "WHIfGQzRHWHz"
      },
      "outputs": [],
      "source": [
        "orig = pd.read_parquet(\"https://raw.githubusercontent.com/mindlab-unal/mlds6-datasets/main/u5/orig.parquet\")\n",
        "df1 = pd.read_parquet(\"https://raw.githubusercontent.com/mindlab-unal/mlds6-datasets/main/u5/case1.parquet\")\n",
        "df2 = pd.read_parquet(\"https://raw.githubusercontent.com/mindlab-unal/mlds6-datasets/main/u5/case2.parquet\")\n",
        "df3 = pd.read_parquet(\"https://raw.githubusercontent.com/mindlab-unal/mlds6-datasets/main/u5/case3.parquet\")\n",
        "df4 = pd.read_parquet(\"https://raw.githubusercontent.com/mindlab-unal/mlds6-datasets/main/u5/case4.parquet\")"
      ]
    },
    {
      "cell_type": "markdown",
      "metadata": {
        "id": "Wn34kshWHt5R"
      },
      "source": [
        "Todos los conjuntos de datos cuentan con las siguientes columnas:\n",
        "\n",
        "- `col{i}`: entradas de un modelo.\n",
        "- `target`: etiquetas del modelo.\n",
        "- `prediction`: predicción del modelo.\n",
        "\n",
        "<center><img src = \"https://drive.google.com/uc?export=view&id=1NKaUGWi-23rSrpKntgFxncUy-jfSa99n\" alt = \"Encabezado MLDS\" width = \"80%\">  </img></center>"
      ]
    },
    {
      "cell_type": "markdown",
      "metadata": {
        "id": "7Uo5gnLUHw2A"
      },
      "source": [
        "## **1. Primer caso**\n",
        "---\n",
        "En este caso deberá identificar que tipo de drift hay entre `orig` y `df1`.\n",
        "\n",
        "Para esto deberá generar reportes con `evidently` y llenar los campos dentro del diccionario `answer1`."
      ]
    },
    {
      "cell_type": "markdown",
      "metadata": {
        "id": "ZvpEZYIbH64P"
      },
      "source": [
        "<details>    \n",
        "<summary>\n",
        "    <font size=\"3\" color=\"darkgreen\"><b>Pista 1</b></font>\n",
        "</summary>\n",
        "\n",
        "Se recomienda que utilice los reportes de `evidently` para analizar los datos. Los resultados los debe ingresar dentro de un diccionario estructurado de la siguiente forma:\n",
        "\n",
        "```python\n",
        "{\"feature\": True, \"label\": True, \"concept\": True}\n",
        "```\n",
        "\n",
        "Esto indica que se encuentran los tres tipos de drifts.\n",
        "\n",
        "</details>"
      ]
    },
    {
      "cell_type": "code",
      "execution_count": null,
      "metadata": {
        "id": "tKhmbvY2IFo1"
      },
      "outputs": [],
      "source": [
        "# TEST_CELL\n",
        "# Puede ingresar el código de evidently para mostrar los reportes acá."
      ]
    },
    {
      "cell_type": "code",
      "execution_count": null,
      "metadata": {
        "id": "wBpWd6w5IH3J"
      },
      "outputs": [],
      "source": [
        "# VARIABLE CALIFICADA answer1:\n",
        "answer1 = {\"feature\": True, \"label\": False, \"concept\": False}"
      ]
    },
    {
      "cell_type": "markdown",
      "metadata": {
        "id": "v-cOa2-QIVpU"
      },
      "source": [
        "### **Evaluar código**"
      ]
    },
    {
      "cell_type": "code",
      "execution_count": null,
      "metadata": {
        "id": "8vZaPRU7FDum",
        "colab": {
          "base_uri": "https://localhost:8080/",
          "height": 141
        },
        "outputId": "ba4c2941-c15d-45bd-b548-2c2b1eea33c8"
      },
      "outputs": [
        {
          "output_type": "stream",
          "name": "stdout",
          "text": [
            "Test 1_1\n"
          ]
        },
        {
          "output_type": "display_data",
          "data": {
            "text/plain": [
              "<IPython.core.display.HTML object>"
            ],
            "text/html": [
              "<h4>Test Run correctly</h4>"
            ]
          },
          "metadata": {}
        },
        {
          "output_type": "display_data",
          "data": {
            "text/plain": [
              "<IPython.core.display.HTML object>"
            ],
            "text/html": [
              "<h6 style=\"color: green;\">Your test grade: 100</h6>\n",
              "<h6>Feedback: Probando código ejemplo.</h6>"
            ]
          },
          "metadata": {}
        }
      ],
      "source": [
        "grader.run_test(\"Test 1_1\", globals())"
      ]
    },
    {
      "cell_type": "markdown",
      "metadata": {
        "id": "FsXfB2XzQL6-"
      },
      "source": [
        "## **2. Segundo caso**\n",
        "---\n",
        "En este caso deberá identificar que tipo de drift hay entre `orig` y `df2`.\n",
        "\n",
        "Para esto deberá generar reportes con `evidently` y llenar los campos dentro del diccionario `answer2`."
      ]
    },
    {
      "cell_type": "markdown",
      "metadata": {
        "id": "ss7wkHfqQL7G"
      },
      "source": [
        "<details>    \n",
        "<summary>\n",
        "    <font size=\"3\" color=\"darkgreen\"><b>Pista 1</b></font>\n",
        "</summary>\n",
        "\n",
        "Se recomienda que utilice los reportes de `evidently` para analizar los datos. Los resultados los debe ingresar dentro de un diccionario estructurado de la siguiente forma:\n",
        "\n",
        "```python\n",
        "{\"feature\": True, \"label\": True, \"concept\": True}\n",
        "```\n",
        "\n",
        "Esto indica que se encuentran los tres tipos de drifts.\n",
        "\n",
        "</details>"
      ]
    },
    {
      "cell_type": "code",
      "execution_count": null,
      "metadata": {
        "id": "JpjAGZYQQL7H"
      },
      "outputs": [],
      "source": [
        "# TEST_CELL\n",
        "# Puede ingresar el código de evidently para mostrar los reportes acá."
      ]
    },
    {
      "cell_type": "code",
      "execution_count": null,
      "metadata": {
        "id": "LIPUztGHQL7H"
      },
      "outputs": [],
      "source": [
        "# VARIABLE CALIFICADA answer2:\n",
        "answer2 = {\"feature\": False, \"label\": True,  \"concept\": False}"
      ]
    },
    {
      "cell_type": "markdown",
      "metadata": {
        "id": "FuELVa87QL7I"
      },
      "source": [
        "### **Evaluar código**"
      ]
    },
    {
      "cell_type": "code",
      "execution_count": null,
      "metadata": {
        "id": "4J6SrpwhQL7J",
        "colab": {
          "base_uri": "https://localhost:8080/",
          "height": 141
        },
        "outputId": "d8ed6ccf-5721-48f6-ec8f-7df2f51d4722"
      },
      "outputs": [
        {
          "output_type": "stream",
          "name": "stdout",
          "text": [
            "Test 2_1\n"
          ]
        },
        {
          "output_type": "display_data",
          "data": {
            "text/plain": [
              "<IPython.core.display.HTML object>"
            ],
            "text/html": [
              "<h4>Test Run correctly</h4>"
            ]
          },
          "metadata": {}
        },
        {
          "output_type": "display_data",
          "data": {
            "text/plain": [
              "<IPython.core.display.HTML object>"
            ],
            "text/html": [
              "<h6 style=\"color: green;\">Your test grade: 100</h6>\n",
              "<h6>Feedback: Probando código ejemplo.</h6>"
            ]
          },
          "metadata": {}
        }
      ],
      "source": [
        "grader.run_test(\"Test 2_1\", globals())"
      ]
    },
    {
      "cell_type": "markdown",
      "metadata": {
        "id": "Oy1SRTEkXFrq"
      },
      "source": [
        "## **3. Tercer caso**\n",
        "---\n",
        "En este caso deberá identificar que tipo de drift hay entre `orig` y `df3`.\n",
        "\n",
        "Para esto deberá generar reportes con `evidently` y llenar los campos dentro del diccionario `answer3`."
      ]
    },
    {
      "cell_type": "markdown",
      "metadata": {
        "id": "d53w_mAZXFrr"
      },
      "source": [
        "<details>    \n",
        "<summary>\n",
        "    <font size=\"3\" color=\"darkgreen\"><b>Pista 1</b></font>\n",
        "</summary>\n",
        "\n",
        "Se recomienda que utilice los reportes de `evidently` para analizar los datos. Los resultados los debe ingresar dentro de un diccionario estructurado de la siguiente forma:\n",
        "\n",
        "```python\n",
        "{\"feature\": True, \"label\": True, \"concept\": True}\n",
        "```\n",
        "\n",
        "Esto indica que se encuentran los tres tipos de drifts.\n",
        "\n",
        "</details>"
      ]
    },
    {
      "cell_type": "code",
      "execution_count": null,
      "metadata": {
        "id": "apS2i65HXFrs"
      },
      "outputs": [],
      "source": [
        "# TEST_CELL\n",
        "# Puede ingresar el código de evidently para mostrar los reportes acá."
      ]
    },
    {
      "cell_type": "code",
      "execution_count": null,
      "metadata": {
        "id": "BWgpuKE-XFrs"
      },
      "outputs": [],
      "source": [
        "# VARIABLE CALIFICADA answer3:\n",
        "answer3 = {\"feature\": ..., \"label\": ..., \"concept\": ...}"
      ]
    },
    {
      "cell_type": "markdown",
      "metadata": {
        "id": "wVuTgLaRXFrt"
      },
      "source": [
        "### **Evaluar código**"
      ]
    },
    {
      "cell_type": "code",
      "execution_count": null,
      "metadata": {
        "id": "wNII_5aLXFru"
      },
      "outputs": [],
      "source": [
        "grader.run_test(\"Test 3_1\", globals())"
      ]
    },
    {
      "cell_type": "markdown",
      "metadata": {
        "id": "GbMkTkK9YJ6W"
      },
      "source": [
        "## **4. Cuarto caso**\n",
        "---\n",
        "En este caso deberá identificar que tipo de drift hay entre `orig` y `df4`.\n",
        "\n",
        "Para esto deberá generar reportes con `evidently` y llenar los campos dentro del diccionario `answer4`."
      ]
    },
    {
      "cell_type": "markdown",
      "metadata": {
        "id": "jqviLXmPYJ6W"
      },
      "source": [
        "<details>    \n",
        "<summary>\n",
        "    <font size=\"3\" color=\"darkgreen\"><b>Pista 1</b></font>\n",
        "</summary>\n",
        "\n",
        "Se recomienda que utilice los reportes de `evidently` para analizar los datos. Los resultados los debe ingresar dentro de un diccionario estructurado de la siguiente forma:\n",
        "\n",
        "```python\n",
        "{\"feature\": True, \"label\": True, \"concept\": True}\n",
        "```\n",
        "\n",
        "Esto indica que se encuentran los tres tipos de drifts.\n",
        "\n",
        "</details>"
      ]
    },
    {
      "cell_type": "code",
      "execution_count": null,
      "metadata": {
        "id": "MQUJzBM6YJ6X"
      },
      "outputs": [],
      "source": [
        "# TEST_CELL\n",
        "# Puede ingresar el código de evidently para mostrar los reportes acá."
      ]
    },
    {
      "cell_type": "code",
      "execution_count": null,
      "metadata": {
        "id": "6jnDtsymYJ6X"
      },
      "outputs": [],
      "source": [
        "# VARIABLE CALIFICADA answer4:\n",
        "answer4 = {\"feature\": ..., \"label\": ..., \"concept\": ...}"
      ]
    },
    {
      "cell_type": "markdown",
      "metadata": {
        "id": "54yC6GOtYJ6Y"
      },
      "source": [
        "### **Evaluar código**"
      ]
    },
    {
      "cell_type": "code",
      "execution_count": null,
      "metadata": {
        "id": "CyYR2O3xYJ6Z"
      },
      "outputs": [],
      "source": [
        "grader.run_test(\"Test 4_1\", globals())"
      ]
    },
    {
      "cell_type": "markdown",
      "metadata": {
        "id": "08eh8HTknUDd"
      },
      "source": [
        "# **Evaluación**"
      ]
    },
    {
      "cell_type": "code",
      "execution_count": null,
      "metadata": {
        "id": "pb0DP1bWwRll"
      },
      "outputs": [],
      "source": [
        "grader.submit_task(globals())"
      ]
    },
    {
      "cell_type": "markdown",
      "metadata": {
        "id": "C2k0jvWP0evr"
      },
      "source": [
        "# **Recursos Adicionales**\n",
        "---\n",
        "\n",
        "- _Fuente de los íconos_\n",
        "    - Flaticon. Instagram Highlights Stories Food | Color [Icon Pack]. https://www.flaticon.com/packs/instagram-highlights-stories-food-2\n",
        "    - Flaticon. Vegetables | Flat [Icon Pack]. https://www.flaticon.com/packs/vegetables-43\n",
        "    - Flaticon. Neural Network free icon [PNG]. https://www.flaticon.com/free-icon/neural-network_9626690"
      ]
    },
    {
      "cell_type": "markdown",
      "metadata": {
        "id": "xwLqFy8Zzet_"
      },
      "source": [
        "# **Créditos**\n",
        "---\n",
        "\n",
        "* **Profesor:** [Jorge E. Camargo, PhD](https://dis.unal.edu.co/~jecamargom/).\n",
        "\n",
        "* **Asistentes docentes:** [Juan Sebastián Lara Ramírez](https://www.linkedin.com/in/juan-sebastian-lara-ramirez-43570a214/).\n",
        "* **Diseño de imágenes:**\n",
        "  - [Rosa Alejandra Superlano Esquibel](https://www.linkedin.com/in/alejandra-superlano-02b74313a/).\n",
        "  - [Mario Andrés Rodríguez Triana](mailto:mrodrigueztr@unal.edu.co).\n",
        "\n",
        "* **Coordinador de virtualización:** [Edder Hernández Forero](https://www.linkedin.com/in/edder-hernandez-forero-28aa8b207/).\n",
        "\n",
        "**Universidad Nacional de Colombia** - *Facultad de Ingeniería*"
      ]
    }
  ],
  "metadata": {
    "colab": {
      "provenance": [],
      "toc_visible": true,
      "include_colab_link": true
    },
    "kernelspec": {
      "display_name": "Python 3",
      "name": "python3"
    },
    "language_info": {
      "name": "python"
    }
  },
  "nbformat": 4,
  "nbformat_minor": 0
}