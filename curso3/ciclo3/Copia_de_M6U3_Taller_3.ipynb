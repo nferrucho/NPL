{
  "cells": [
    {
      "cell_type": "markdown",
      "metadata": {
        "id": "view-in-github",
        "colab_type": "text"
      },
      "source": [
        "<a href=\"https://colab.research.google.com/github/nferrucho/NPL/blob/main/curso3/ciclo3/Copia_de_M6U3_Taller_3.ipynb\" target=\"_parent\"><img src=\"https://colab.research.google.com/assets/colab-badge.svg\" alt=\"Open In Colab\"/></a>"
      ]
    },
    {
      "cell_type": "markdown",
      "metadata": {
        "id": "mLlSr7BaKSLF"
      },
      "source": [
        "<img src = \"https://drive.google.com/uc?export=view&id=14reVO1X6LsjqJ3cFgoeHxxddZVGfZn3t\" alt = \"Encabezado MLDS\" width = \"100%\">  </img>"
      ]
    },
    {
      "cell_type": "markdown",
      "metadata": {
        "id": "fEewD2N0RkMc"
      },
      "source": [
        "# **Taller 3: Ciclo de vida de ciencia de datos**\n",
        "---\n",
        "\n",
        "En este notebook evaluaremos los conceptos aprendidos sobre el ciclo de vida de ciencia de datos. En especial, entrenaremos un modelo con la librería `xgboost` con su debida optimización de hiperparámetros.\n",
        "\n",
        "Ejecute las siguientes celdas para conectarse a UNCode:"
      ]
    },
    {
      "cell_type": "code",
      "execution_count": 1,
      "metadata": {
        "id": "TAqkL4giPflw",
        "colab": {
          "base_uri": "https://localhost:8080/"
        },
        "outputId": "809609e1-26a2-45e8-f304-09335ab1e8d9"
      },
      "outputs": [
        {
          "output_type": "stream",
          "name": "stdout",
          "text": [
            "Collecting rlxcrypt\n",
            "  Downloading rlxcrypt-0.0.4-cp310-cp310-manylinux_2_17_x86_64.manylinux2014_x86_64.whl.metadata (1.9 kB)\n",
            "Collecting imphook (from rlxcrypt)\n",
            "  Downloading imphook-1.0.tar.gz (12 kB)\n",
            "  Preparing metadata (setup.py) ... \u001b[?25l\u001b[?25hdone\n",
            "Requirement already satisfied: cython in /usr/local/lib/python3.10/dist-packages (from rlxcrypt) (3.0.11)\n",
            "Collecting pycryptodome (from rlxcrypt)\n",
            "  Downloading pycryptodome-3.21.0-cp36-abi3-manylinux_2_17_x86_64.manylinux2014_x86_64.whl.metadata (3.4 kB)\n",
            "Requirement already satisfied: cryptography in /usr/local/lib/python3.10/dist-packages (from rlxcrypt) (43.0.3)\n",
            "Requirement already satisfied: cffi>=1.12 in /usr/local/lib/python3.10/dist-packages (from cryptography->rlxcrypt) (1.17.1)\n",
            "Requirement already satisfied: pycparser in /usr/local/lib/python3.10/dist-packages (from cffi>=1.12->cryptography->rlxcrypt) (2.22)\n",
            "Downloading rlxcrypt-0.0.4-cp310-cp310-manylinux_2_17_x86_64.manylinux2014_x86_64.whl (297 kB)\n",
            "\u001b[2K   \u001b[90m━━━━━━━━━━━━━━━━━━━━━━━━━━━━━━━━━━━━━━━━\u001b[0m \u001b[32m297.9/297.9 kB\u001b[0m \u001b[31m18.4 MB/s\u001b[0m eta \u001b[36m0:00:00\u001b[0m\n",
            "\u001b[?25hDownloading pycryptodome-3.21.0-cp36-abi3-manylinux_2_17_x86_64.manylinux2014_x86_64.whl (2.3 MB)\n",
            "\u001b[2K   \u001b[90m━━━━━━━━━━━━━━━━━━━━━━━━━━━━━━━━━━━━━━━━\u001b[0m \u001b[32m2.3/2.3 MB\u001b[0m \u001b[31m40.3 MB/s\u001b[0m eta \u001b[36m0:00:00\u001b[0m\n",
            "\u001b[?25hBuilding wheels for collected packages: imphook\n",
            "  Building wheel for imphook (setup.py) ... \u001b[?25l\u001b[?25hdone\n",
            "  Created wheel for imphook: filename=imphook-1.0-py3-none-any.whl size=9423 sha256=0b860be8263c9c8cd37926ee94b14edd9700b0560224ab8cb2dc61dfa9e24bf1\n",
            "  Stored in directory: /root/.cache/pip/wheels/dc/e2/a4/fcb3817d09a2eb047b2b08eb58e7d9140041b0f3f415eb1256\n",
            "Successfully built imphook\n",
            "Installing collected packages: imphook, pycryptodome, rlxcrypt\n",
            "Successfully installed imphook-1.0 pycryptodome-3.21.0 rlxcrypt-0.0.4\n"
          ]
        }
      ],
      "source": [
        "!pip install rlxcrypt\n",
        "!wget --no-cache -O session.pye -q https://raw.githubusercontent.com/JuezUN/INGInious/master/external%20libs/session.pye"
      ]
    },
    {
      "cell_type": "code",
      "execution_count": 2,
      "metadata": {
        "id": "CKNgJYjHPhtr",
        "colab": {
          "base_uri": "https://localhost:8080/",
          "height": 288
        },
        "outputId": "9c56c9ac-808a-42e5-dbfa-68fac00eb6b4"
      },
      "outputs": [
        {
          "output_type": "display_data",
          "data": {
            "text/plain": [
              "<IPython.core.display.HTML object>"
            ],
            "text/html": [
              "\n",
              "    <div>\n",
              "    <div style=\"display: flex\">\n",
              "        <div style=\"padding: 10px\">\n",
              "          <img\n",
              "            src=\"https://uncode.unal.edu.co/static/images/logo_unc.svg\"\n",
              "            width=\"50px\"\n",
              "            height=\"50px\"\n",
              "          />\n",
              "        </div>\n",
              "      \n",
              "        <div>\n",
              "          <h2>UNCode Notebooks grader API</h2>\n",
              "          <hr />\n",
              "        </div>\n",
              "      </div>\n",
              "      \n",
              "      <div style=\"display: flex\">\n",
              "        <span>Please enter authentication data</span>\n",
              "      </div>\n",
              "    </div>\n",
              "    "
            ]
          },
          "metadata": {}
        },
        {
          "name": "stdout",
          "output_type": "stream",
          "text": [
            "Please enter your UNCode username: nelson.ferrucho@gmail.com\n",
            "Please enter your password: ··········\n"
          ]
        },
        {
          "output_type": "display_data",
          "data": {
            "text/plain": [
              "<IPython.core.display.HTML object>"
            ],
            "text/html": [
              "<h5 style=\"color: green\"><Response [200]></h5>"
            ]
          },
          "metadata": {}
        },
        {
          "output_type": "display_data",
          "data": {
            "text/plain": [
              "<IPython.core.display.HTML object>"
            ],
            "text/html": [
              "<h5 style=\"color: green\">Auth process succeeded</h5>"
            ]
          },
          "metadata": {}
        },
        {
          "output_type": "display_data",
          "data": {
            "text/plain": [
              "<IPython.core.display.HTML object>"
            ],
            "text/html": [
              "<h5>View your courses <a href=\"https://uncode.unal.edu.co/courselist\">at UNCode platform</a></h5>"
            ]
          },
          "metadata": {}
        },
        {
          "output_type": "display_data",
          "data": {
            "text/plain": [
              "<IPython.core.display.HTML object>"
            ],
            "text/html": [
              "<h3>You will sumbit code to course: <span style=\"color: green\">Metodologias agiles para el desarrollo de aplicaciones con Machine Learning | Grupo MLDS-6 | 2024 - 2<span></h3>"
            ]
          },
          "metadata": {}
        },
        {
          "output_type": "display_data",
          "data": {
            "text/plain": [
              "<IPython.core.display.HTML object>"
            ],
            "text/html": [
              "<h3>You will sumbit code to task: <span style=\"color: blue\">Taller 3: Ciclo de vida de ciencia de datos<span></h3>"
            ]
          },
          "metadata": {}
        }
      ],
      "source": [
        "import rlxcrypt\n",
        "import session\n",
        "\n",
        "grader = session.LoginSequence(\"MAPEDDACML-GroupMLDS-6-2024-2@f8879e0a-fcd1-4b6b-a12f-31426dfcd762\")"
      ]
    },
    {
      "cell_type": "markdown",
      "metadata": {
        "id": "S-ocd--frFi7"
      },
      "source": [
        "Comenzamos instalando las librerías y herramientas necesarias:"
      ]
    },
    {
      "cell_type": "code",
      "execution_count": 3,
      "metadata": {
        "id": "AMgHXLh7Zg1l",
        "colab": {
          "base_uri": "https://localhost:8080/"
        },
        "outputId": "899d0722-6a4d-40e7-82cd-e1bfcfa9c0b3"
      },
      "outputs": [
        {
          "output_type": "stream",
          "name": "stdout",
          "text": [
            "Collecting mlflow\n",
            "  Downloading mlflow-2.18.0-py3-none-any.whl.metadata (29 kB)\n",
            "Collecting mlflow-skinny==2.18.0 (from mlflow)\n",
            "  Downloading mlflow_skinny-2.18.0-py3-none-any.whl.metadata (30 kB)\n",
            "Requirement already satisfied: Flask<4 in /usr/local/lib/python3.10/dist-packages (from mlflow) (3.0.3)\n",
            "Collecting alembic!=1.10.0,<2 (from mlflow)\n",
            "  Downloading alembic-1.14.0-py3-none-any.whl.metadata (7.4 kB)\n",
            "Collecting docker<8,>=4.0.0 (from mlflow)\n",
            "  Downloading docker-7.1.0-py3-none-any.whl.metadata (3.8 kB)\n",
            "Collecting graphene<4 (from mlflow)\n",
            "  Downloading graphene-3.4.3-py2.py3-none-any.whl.metadata (6.9 kB)\n",
            "Requirement already satisfied: markdown<4,>=3.3 in /usr/local/lib/python3.10/dist-packages (from mlflow) (3.7)\n",
            "Requirement already satisfied: matplotlib<4 in /usr/local/lib/python3.10/dist-packages (from mlflow) (3.8.0)\n",
            "Requirement already satisfied: numpy<3 in /usr/local/lib/python3.10/dist-packages (from mlflow) (1.26.4)\n",
            "Requirement already satisfied: pandas<3 in /usr/local/lib/python3.10/dist-packages (from mlflow) (2.2.2)\n",
            "Requirement already satisfied: pyarrow<19,>=4.0.0 in /usr/local/lib/python3.10/dist-packages (from mlflow) (17.0.0)\n",
            "Requirement already satisfied: scikit-learn<2 in /usr/local/lib/python3.10/dist-packages (from mlflow) (1.5.2)\n",
            "Requirement already satisfied: scipy<2 in /usr/local/lib/python3.10/dist-packages (from mlflow) (1.13.1)\n",
            "Requirement already satisfied: sqlalchemy<3,>=1.4.0 in /usr/local/lib/python3.10/dist-packages (from mlflow) (2.0.36)\n",
            "Requirement already satisfied: Jinja2<4,>=2.11 in /usr/local/lib/python3.10/dist-packages (from mlflow) (3.1.4)\n",
            "Collecting gunicorn<24 (from mlflow)\n",
            "  Downloading gunicorn-23.0.0-py3-none-any.whl.metadata (4.4 kB)\n",
            "Requirement already satisfied: cachetools<6,>=5.0.0 in /usr/local/lib/python3.10/dist-packages (from mlflow-skinny==2.18.0->mlflow) (5.5.0)\n",
            "Requirement already satisfied: click<9,>=7.0 in /usr/local/lib/python3.10/dist-packages (from mlflow-skinny==2.18.0->mlflow) (8.1.7)\n",
            "Requirement already satisfied: cloudpickle<4 in /usr/local/lib/python3.10/dist-packages (from mlflow-skinny==2.18.0->mlflow) (3.1.0)\n",
            "Collecting databricks-sdk<1,>=0.20.0 (from mlflow-skinny==2.18.0->mlflow)\n",
            "  Downloading databricks_sdk-0.38.0-py3-none-any.whl.metadata (38 kB)\n",
            "Requirement already satisfied: gitpython<4,>=3.1.9 in /usr/local/lib/python3.10/dist-packages (from mlflow-skinny==2.18.0->mlflow) (3.1.43)\n",
            "Requirement already satisfied: importlib-metadata!=4.7.0,<9,>=3.7.0 in /usr/local/lib/python3.10/dist-packages (from mlflow-skinny==2.18.0->mlflow) (8.5.0)\n",
            "Requirement already satisfied: opentelemetry-api<3,>=1.9.0 in /usr/local/lib/python3.10/dist-packages (from mlflow-skinny==2.18.0->mlflow) (1.28.2)\n",
            "Requirement already satisfied: opentelemetry-sdk<3,>=1.9.0 in /usr/local/lib/python3.10/dist-packages (from mlflow-skinny==2.18.0->mlflow) (1.28.2)\n",
            "Requirement already satisfied: packaging<25 in /usr/local/lib/python3.10/dist-packages (from mlflow-skinny==2.18.0->mlflow) (24.2)\n",
            "Requirement already satisfied: protobuf<6,>=3.12.0 in /usr/local/lib/python3.10/dist-packages (from mlflow-skinny==2.18.0->mlflow) (4.25.5)\n",
            "Requirement already satisfied: pyyaml<7,>=5.1 in /usr/local/lib/python3.10/dist-packages (from mlflow-skinny==2.18.0->mlflow) (6.0.2)\n",
            "Requirement already satisfied: requests<3,>=2.17.3 in /usr/local/lib/python3.10/dist-packages (from mlflow-skinny==2.18.0->mlflow) (2.32.3)\n",
            "Requirement already satisfied: sqlparse<1,>=0.4.0 in /usr/local/lib/python3.10/dist-packages (from mlflow-skinny==2.18.0->mlflow) (0.5.2)\n",
            "Collecting Mako (from alembic!=1.10.0,<2->mlflow)\n",
            "  Downloading Mako-1.3.7-py3-none-any.whl.metadata (2.9 kB)\n",
            "Requirement already satisfied: typing-extensions>=4 in /usr/local/lib/python3.10/dist-packages (from alembic!=1.10.0,<2->mlflow) (4.12.2)\n",
            "Requirement already satisfied: urllib3>=1.26.0 in /usr/local/lib/python3.10/dist-packages (from docker<8,>=4.0.0->mlflow) (2.2.3)\n",
            "Requirement already satisfied: Werkzeug>=3.0.0 in /usr/local/lib/python3.10/dist-packages (from Flask<4->mlflow) (3.1.3)\n",
            "Requirement already satisfied: itsdangerous>=2.1.2 in /usr/local/lib/python3.10/dist-packages (from Flask<4->mlflow) (2.2.0)\n",
            "Requirement already satisfied: blinker>=1.6.2 in /usr/local/lib/python3.10/dist-packages (from Flask<4->mlflow) (1.9.0)\n",
            "Collecting graphql-core<3.3,>=3.1 (from graphene<4->mlflow)\n",
            "  Downloading graphql_core-3.2.5-py3-none-any.whl.metadata (10 kB)\n",
            "Collecting graphql-relay<3.3,>=3.1 (from graphene<4->mlflow)\n",
            "  Downloading graphql_relay-3.2.0-py3-none-any.whl.metadata (12 kB)\n",
            "Requirement already satisfied: python-dateutil<3,>=2.7.0 in /usr/local/lib/python3.10/dist-packages (from graphene<4->mlflow) (2.8.2)\n",
            "Requirement already satisfied: MarkupSafe>=2.0 in /usr/local/lib/python3.10/dist-packages (from Jinja2<4,>=2.11->mlflow) (3.0.2)\n",
            "Requirement already satisfied: contourpy>=1.0.1 in /usr/local/lib/python3.10/dist-packages (from matplotlib<4->mlflow) (1.3.1)\n",
            "Requirement already satisfied: cycler>=0.10 in /usr/local/lib/python3.10/dist-packages (from matplotlib<4->mlflow) (0.12.1)\n",
            "Requirement already satisfied: fonttools>=4.22.0 in /usr/local/lib/python3.10/dist-packages (from matplotlib<4->mlflow) (4.55.0)\n",
            "Requirement already satisfied: kiwisolver>=1.0.1 in /usr/local/lib/python3.10/dist-packages (from matplotlib<4->mlflow) (1.4.7)\n",
            "Requirement already satisfied: pillow>=6.2.0 in /usr/local/lib/python3.10/dist-packages (from matplotlib<4->mlflow) (11.0.0)\n",
            "Requirement already satisfied: pyparsing>=2.3.1 in /usr/local/lib/python3.10/dist-packages (from matplotlib<4->mlflow) (3.2.0)\n",
            "Requirement already satisfied: pytz>=2020.1 in /usr/local/lib/python3.10/dist-packages (from pandas<3->mlflow) (2024.2)\n",
            "Requirement already satisfied: tzdata>=2022.7 in /usr/local/lib/python3.10/dist-packages (from pandas<3->mlflow) (2024.2)\n",
            "Requirement already satisfied: joblib>=1.2.0 in /usr/local/lib/python3.10/dist-packages (from scikit-learn<2->mlflow) (1.4.2)\n",
            "Requirement already satisfied: threadpoolctl>=3.1.0 in /usr/local/lib/python3.10/dist-packages (from scikit-learn<2->mlflow) (3.5.0)\n",
            "Requirement already satisfied: greenlet!=0.4.17 in /usr/local/lib/python3.10/dist-packages (from sqlalchemy<3,>=1.4.0->mlflow) (3.1.1)\n",
            "Requirement already satisfied: google-auth~=2.0 in /usr/local/lib/python3.10/dist-packages (from databricks-sdk<1,>=0.20.0->mlflow-skinny==2.18.0->mlflow) (2.27.0)\n",
            "Requirement already satisfied: gitdb<5,>=4.0.1 in /usr/local/lib/python3.10/dist-packages (from gitpython<4,>=3.1.9->mlflow-skinny==2.18.0->mlflow) (4.0.11)\n",
            "Requirement already satisfied: zipp>=3.20 in /usr/local/lib/python3.10/dist-packages (from importlib-metadata!=4.7.0,<9,>=3.7.0->mlflow-skinny==2.18.0->mlflow) (3.21.0)\n",
            "Requirement already satisfied: deprecated>=1.2.6 in /usr/local/lib/python3.10/dist-packages (from opentelemetry-api<3,>=1.9.0->mlflow-skinny==2.18.0->mlflow) (1.2.15)\n",
            "Requirement already satisfied: opentelemetry-semantic-conventions==0.49b2 in /usr/local/lib/python3.10/dist-packages (from opentelemetry-sdk<3,>=1.9.0->mlflow-skinny==2.18.0->mlflow) (0.49b2)\n",
            "Requirement already satisfied: six>=1.5 in /usr/local/lib/python3.10/dist-packages (from python-dateutil<3,>=2.7.0->graphene<4->mlflow) (1.16.0)\n",
            "Requirement already satisfied: charset-normalizer<4,>=2 in /usr/local/lib/python3.10/dist-packages (from requests<3,>=2.17.3->mlflow-skinny==2.18.0->mlflow) (3.4.0)\n",
            "Requirement already satisfied: idna<4,>=2.5 in /usr/local/lib/python3.10/dist-packages (from requests<3,>=2.17.3->mlflow-skinny==2.18.0->mlflow) (3.10)\n",
            "Requirement already satisfied: certifi>=2017.4.17 in /usr/local/lib/python3.10/dist-packages (from requests<3,>=2.17.3->mlflow-skinny==2.18.0->mlflow) (2024.8.30)\n",
            "Requirement already satisfied: wrapt<2,>=1.10 in /usr/local/lib/python3.10/dist-packages (from deprecated>=1.2.6->opentelemetry-api<3,>=1.9.0->mlflow-skinny==2.18.0->mlflow) (1.16.0)\n",
            "Requirement already satisfied: smmap<6,>=3.0.1 in /usr/local/lib/python3.10/dist-packages (from gitdb<5,>=4.0.1->gitpython<4,>=3.1.9->mlflow-skinny==2.18.0->mlflow) (5.0.1)\n",
            "Requirement already satisfied: pyasn1-modules>=0.2.1 in /usr/local/lib/python3.10/dist-packages (from google-auth~=2.0->databricks-sdk<1,>=0.20.0->mlflow-skinny==2.18.0->mlflow) (0.4.1)\n",
            "Requirement already satisfied: rsa<5,>=3.1.4 in /usr/local/lib/python3.10/dist-packages (from google-auth~=2.0->databricks-sdk<1,>=0.20.0->mlflow-skinny==2.18.0->mlflow) (4.9)\n",
            "Requirement already satisfied: pyasn1<0.7.0,>=0.4.6 in /usr/local/lib/python3.10/dist-packages (from pyasn1-modules>=0.2.1->google-auth~=2.0->databricks-sdk<1,>=0.20.0->mlflow-skinny==2.18.0->mlflow) (0.6.1)\n",
            "Downloading mlflow-2.18.0-py3-none-any.whl (27.3 MB)\n",
            "\u001b[2K   \u001b[90m━━━━━━━━━━━━━━━━━━━━━━━━━━━━━━━━━━━━━━━━\u001b[0m \u001b[32m27.3/27.3 MB\u001b[0m \u001b[31m52.7 MB/s\u001b[0m eta \u001b[36m0:00:00\u001b[0m\n",
            "\u001b[?25hDownloading mlflow_skinny-2.18.0-py3-none-any.whl (5.8 MB)\n",
            "\u001b[2K   \u001b[90m━━━━━━━━━━━━━━━━━━━━━━━━━━━━━━━━━━━━━━━━\u001b[0m \u001b[32m5.8/5.8 MB\u001b[0m \u001b[31m87.6 MB/s\u001b[0m eta \u001b[36m0:00:00\u001b[0m\n",
            "\u001b[?25hDownloading alembic-1.14.0-py3-none-any.whl (233 kB)\n",
            "\u001b[2K   \u001b[90m━━━━━━━━━━━━━━━━━━━━━━━━━━━━━━━━━━━━━━━━\u001b[0m \u001b[32m233.5/233.5 kB\u001b[0m \u001b[31m15.6 MB/s\u001b[0m eta \u001b[36m0:00:00\u001b[0m\n",
            "\u001b[?25hDownloading docker-7.1.0-py3-none-any.whl (147 kB)\n",
            "\u001b[2K   \u001b[90m━━━━━━━━━━━━━━━━━━━━━━━━━━━━━━━━━━━━━━━━\u001b[0m \u001b[32m147.8/147.8 kB\u001b[0m \u001b[31m12.2 MB/s\u001b[0m eta \u001b[36m0:00:00\u001b[0m\n",
            "\u001b[?25hDownloading graphene-3.4.3-py2.py3-none-any.whl (114 kB)\n",
            "\u001b[2K   \u001b[90m━━━━━━━━━━━━━━━━━━━━━━━━━━━━━━━━━━━━━━━━\u001b[0m \u001b[32m114.9/114.9 kB\u001b[0m \u001b[31m9.9 MB/s\u001b[0m eta \u001b[36m0:00:00\u001b[0m\n",
            "\u001b[?25hDownloading gunicorn-23.0.0-py3-none-any.whl (85 kB)\n",
            "\u001b[2K   \u001b[90m━━━━━━━━━━━━━━━━━━━━━━━━━━━━━━━━━━━━━━━━\u001b[0m \u001b[32m85.0/85.0 kB\u001b[0m \u001b[31m7.3 MB/s\u001b[0m eta \u001b[36m0:00:00\u001b[0m\n",
            "\u001b[?25hDownloading databricks_sdk-0.38.0-py3-none-any.whl (575 kB)\n",
            "\u001b[2K   \u001b[90m━━━━━━━━━━━━━━━━━━━━━━━━━━━━━━━━━━━━━━━━\u001b[0m \u001b[32m575.1/575.1 kB\u001b[0m \u001b[31m39.7 MB/s\u001b[0m eta \u001b[36m0:00:00\u001b[0m\n",
            "\u001b[?25hDownloading graphql_core-3.2.5-py3-none-any.whl (203 kB)\n",
            "\u001b[2K   \u001b[90m━━━━━━━━━━━━━━━━━━━━━━━━━━━━━━━━━━━━━━━━\u001b[0m \u001b[32m203.2/203.2 kB\u001b[0m \u001b[31m16.9 MB/s\u001b[0m eta \u001b[36m0:00:00\u001b[0m\n",
            "\u001b[?25hDownloading graphql_relay-3.2.0-py3-none-any.whl (16 kB)\n",
            "Downloading Mako-1.3.7-py3-none-any.whl (78 kB)\n",
            "\u001b[2K   \u001b[90m━━━━━━━━━━━━━━━━━━━━━━━━━━━━━━━━━━━━━━━━\u001b[0m \u001b[32m78.9/78.9 kB\u001b[0m \u001b[31m6.8 MB/s\u001b[0m eta \u001b[36m0:00:00\u001b[0m\n",
            "\u001b[?25hInstalling collected packages: Mako, gunicorn, graphql-core, graphql-relay, docker, alembic, graphene, databricks-sdk, mlflow-skinny, mlflow\n",
            "Successfully installed Mako-1.3.7 alembic-1.14.0 databricks-sdk-0.38.0 docker-7.1.0 graphene-3.4.3 graphql-core-3.2.5 graphql-relay-3.2.0 gunicorn-23.0.0 mlflow-2.18.0 mlflow-skinny-2.18.0\n",
            "Collecting optuna\n",
            "  Downloading optuna-4.1.0-py3-none-any.whl.metadata (16 kB)\n",
            "Collecting optuna-dashboard\n",
            "  Downloading optuna_dashboard-0.17.0-py3-none-any.whl.metadata (7.1 kB)\n",
            "Requirement already satisfied: mlflow in /usr/local/lib/python3.10/dist-packages (2.18.0)\n",
            "Requirement already satisfied: xgboost in /usr/local/lib/python3.10/dist-packages (2.1.2)\n",
            "Requirement already satisfied: alembic>=1.5.0 in /usr/local/lib/python3.10/dist-packages (from optuna) (1.14.0)\n",
            "Collecting colorlog (from optuna)\n",
            "  Downloading colorlog-6.9.0-py3-none-any.whl.metadata (10 kB)\n",
            "Requirement already satisfied: numpy in /usr/local/lib/python3.10/dist-packages (from optuna) (1.26.4)\n",
            "Requirement already satisfied: packaging>=20.0 in /usr/local/lib/python3.10/dist-packages (from optuna) (24.2)\n",
            "Requirement already satisfied: sqlalchemy>=1.4.2 in /usr/local/lib/python3.10/dist-packages (from optuna) (2.0.36)\n",
            "Requirement already satisfied: tqdm in /usr/local/lib/python3.10/dist-packages (from optuna) (4.66.6)\n",
            "Requirement already satisfied: PyYAML in /usr/local/lib/python3.10/dist-packages (from optuna) (6.0.2)\n",
            "Collecting bottle>=0.13.0 (from optuna-dashboard)\n",
            "  Downloading bottle-0.13.2-py2.py3-none-any.whl.metadata (1.8 kB)\n",
            "Requirement already satisfied: scikit-learn in /usr/local/lib/python3.10/dist-packages (from optuna-dashboard) (1.5.2)\n",
            "Requirement already satisfied: mlflow-skinny==2.18.0 in /usr/local/lib/python3.10/dist-packages (from mlflow) (2.18.0)\n",
            "Requirement already satisfied: Flask<4 in /usr/local/lib/python3.10/dist-packages (from mlflow) (3.0.3)\n",
            "Requirement already satisfied: docker<8,>=4.0.0 in /usr/local/lib/python3.10/dist-packages (from mlflow) (7.1.0)\n",
            "Requirement already satisfied: graphene<4 in /usr/local/lib/python3.10/dist-packages (from mlflow) (3.4.3)\n",
            "Requirement already satisfied: markdown<4,>=3.3 in /usr/local/lib/python3.10/dist-packages (from mlflow) (3.7)\n",
            "Requirement already satisfied: matplotlib<4 in /usr/local/lib/python3.10/dist-packages (from mlflow) (3.8.0)\n",
            "Requirement already satisfied: pandas<3 in /usr/local/lib/python3.10/dist-packages (from mlflow) (2.2.2)\n",
            "Requirement already satisfied: pyarrow<19,>=4.0.0 in /usr/local/lib/python3.10/dist-packages (from mlflow) (17.0.0)\n",
            "Requirement already satisfied: scipy<2 in /usr/local/lib/python3.10/dist-packages (from mlflow) (1.13.1)\n",
            "Requirement already satisfied: Jinja2<4,>=2.11 in /usr/local/lib/python3.10/dist-packages (from mlflow) (3.1.4)\n",
            "Requirement already satisfied: gunicorn<24 in /usr/local/lib/python3.10/dist-packages (from mlflow) (23.0.0)\n",
            "Requirement already satisfied: cachetools<6,>=5.0.0 in /usr/local/lib/python3.10/dist-packages (from mlflow-skinny==2.18.0->mlflow) (5.5.0)\n",
            "Requirement already satisfied: click<9,>=7.0 in /usr/local/lib/python3.10/dist-packages (from mlflow-skinny==2.18.0->mlflow) (8.1.7)\n",
            "Requirement already satisfied: cloudpickle<4 in /usr/local/lib/python3.10/dist-packages (from mlflow-skinny==2.18.0->mlflow) (3.1.0)\n",
            "Requirement already satisfied: databricks-sdk<1,>=0.20.0 in /usr/local/lib/python3.10/dist-packages (from mlflow-skinny==2.18.0->mlflow) (0.38.0)\n",
            "Requirement already satisfied: gitpython<4,>=3.1.9 in /usr/local/lib/python3.10/dist-packages (from mlflow-skinny==2.18.0->mlflow) (3.1.43)\n",
            "Requirement already satisfied: importlib-metadata!=4.7.0,<9,>=3.7.0 in /usr/local/lib/python3.10/dist-packages (from mlflow-skinny==2.18.0->mlflow) (8.5.0)\n",
            "Requirement already satisfied: opentelemetry-api<3,>=1.9.0 in /usr/local/lib/python3.10/dist-packages (from mlflow-skinny==2.18.0->mlflow) (1.28.2)\n",
            "Requirement already satisfied: opentelemetry-sdk<3,>=1.9.0 in /usr/local/lib/python3.10/dist-packages (from mlflow-skinny==2.18.0->mlflow) (1.28.2)\n",
            "Requirement already satisfied: protobuf<6,>=3.12.0 in /usr/local/lib/python3.10/dist-packages (from mlflow-skinny==2.18.0->mlflow) (4.25.5)\n",
            "Requirement already satisfied: requests<3,>=2.17.3 in /usr/local/lib/python3.10/dist-packages (from mlflow-skinny==2.18.0->mlflow) (2.32.3)\n",
            "Requirement already satisfied: sqlparse<1,>=0.4.0 in /usr/local/lib/python3.10/dist-packages (from mlflow-skinny==2.18.0->mlflow) (0.5.2)\n",
            "Requirement already satisfied: nvidia-nccl-cu12 in /usr/local/lib/python3.10/dist-packages (from xgboost) (2.23.4)\n",
            "Requirement already satisfied: Mako in /usr/local/lib/python3.10/dist-packages (from alembic>=1.5.0->optuna) (1.3.7)\n",
            "Requirement already satisfied: typing-extensions>=4 in /usr/local/lib/python3.10/dist-packages (from alembic>=1.5.0->optuna) (4.12.2)\n",
            "Requirement already satisfied: urllib3>=1.26.0 in /usr/local/lib/python3.10/dist-packages (from docker<8,>=4.0.0->mlflow) (2.2.3)\n",
            "Requirement already satisfied: Werkzeug>=3.0.0 in /usr/local/lib/python3.10/dist-packages (from Flask<4->mlflow) (3.1.3)\n",
            "Requirement already satisfied: itsdangerous>=2.1.2 in /usr/local/lib/python3.10/dist-packages (from Flask<4->mlflow) (2.2.0)\n",
            "Requirement already satisfied: blinker>=1.6.2 in /usr/local/lib/python3.10/dist-packages (from Flask<4->mlflow) (1.9.0)\n",
            "Requirement already satisfied: graphql-core<3.3,>=3.1 in /usr/local/lib/python3.10/dist-packages (from graphene<4->mlflow) (3.2.5)\n",
            "Requirement already satisfied: graphql-relay<3.3,>=3.1 in /usr/local/lib/python3.10/dist-packages (from graphene<4->mlflow) (3.2.0)\n",
            "Requirement already satisfied: python-dateutil<3,>=2.7.0 in /usr/local/lib/python3.10/dist-packages (from graphene<4->mlflow) (2.8.2)\n",
            "Requirement already satisfied: MarkupSafe>=2.0 in /usr/local/lib/python3.10/dist-packages (from Jinja2<4,>=2.11->mlflow) (3.0.2)\n",
            "Requirement already satisfied: contourpy>=1.0.1 in /usr/local/lib/python3.10/dist-packages (from matplotlib<4->mlflow) (1.3.1)\n",
            "Requirement already satisfied: cycler>=0.10 in /usr/local/lib/python3.10/dist-packages (from matplotlib<4->mlflow) (0.12.1)\n",
            "Requirement already satisfied: fonttools>=4.22.0 in /usr/local/lib/python3.10/dist-packages (from matplotlib<4->mlflow) (4.55.0)\n",
            "Requirement already satisfied: kiwisolver>=1.0.1 in /usr/local/lib/python3.10/dist-packages (from matplotlib<4->mlflow) (1.4.7)\n",
            "Requirement already satisfied: pillow>=6.2.0 in /usr/local/lib/python3.10/dist-packages (from matplotlib<4->mlflow) (11.0.0)\n",
            "Requirement already satisfied: pyparsing>=2.3.1 in /usr/local/lib/python3.10/dist-packages (from matplotlib<4->mlflow) (3.2.0)\n",
            "Requirement already satisfied: pytz>=2020.1 in /usr/local/lib/python3.10/dist-packages (from pandas<3->mlflow) (2024.2)\n",
            "Requirement already satisfied: tzdata>=2022.7 in /usr/local/lib/python3.10/dist-packages (from pandas<3->mlflow) (2024.2)\n",
            "Requirement already satisfied: joblib>=1.2.0 in /usr/local/lib/python3.10/dist-packages (from scikit-learn->optuna-dashboard) (1.4.2)\n",
            "Requirement already satisfied: threadpoolctl>=3.1.0 in /usr/local/lib/python3.10/dist-packages (from scikit-learn->optuna-dashboard) (3.5.0)\n",
            "Requirement already satisfied: greenlet!=0.4.17 in /usr/local/lib/python3.10/dist-packages (from sqlalchemy>=1.4.2->optuna) (3.1.1)\n",
            "Requirement already satisfied: google-auth~=2.0 in /usr/local/lib/python3.10/dist-packages (from databricks-sdk<1,>=0.20.0->mlflow-skinny==2.18.0->mlflow) (2.27.0)\n",
            "Requirement already satisfied: gitdb<5,>=4.0.1 in /usr/local/lib/python3.10/dist-packages (from gitpython<4,>=3.1.9->mlflow-skinny==2.18.0->mlflow) (4.0.11)\n",
            "Requirement already satisfied: zipp>=3.20 in /usr/local/lib/python3.10/dist-packages (from importlib-metadata!=4.7.0,<9,>=3.7.0->mlflow-skinny==2.18.0->mlflow) (3.21.0)\n",
            "Requirement already satisfied: deprecated>=1.2.6 in /usr/local/lib/python3.10/dist-packages (from opentelemetry-api<3,>=1.9.0->mlflow-skinny==2.18.0->mlflow) (1.2.15)\n",
            "Requirement already satisfied: opentelemetry-semantic-conventions==0.49b2 in /usr/local/lib/python3.10/dist-packages (from opentelemetry-sdk<3,>=1.9.0->mlflow-skinny==2.18.0->mlflow) (0.49b2)\n",
            "Requirement already satisfied: six>=1.5 in /usr/local/lib/python3.10/dist-packages (from python-dateutil<3,>=2.7.0->graphene<4->mlflow) (1.16.0)\n",
            "Requirement already satisfied: charset-normalizer<4,>=2 in /usr/local/lib/python3.10/dist-packages (from requests<3,>=2.17.3->mlflow-skinny==2.18.0->mlflow) (3.4.0)\n",
            "Requirement already satisfied: idna<4,>=2.5 in /usr/local/lib/python3.10/dist-packages (from requests<3,>=2.17.3->mlflow-skinny==2.18.0->mlflow) (3.10)\n",
            "Requirement already satisfied: certifi>=2017.4.17 in /usr/local/lib/python3.10/dist-packages (from requests<3,>=2.17.3->mlflow-skinny==2.18.0->mlflow) (2024.8.30)\n",
            "Requirement already satisfied: wrapt<2,>=1.10 in /usr/local/lib/python3.10/dist-packages (from deprecated>=1.2.6->opentelemetry-api<3,>=1.9.0->mlflow-skinny==2.18.0->mlflow) (1.16.0)\n",
            "Requirement already satisfied: smmap<6,>=3.0.1 in /usr/local/lib/python3.10/dist-packages (from gitdb<5,>=4.0.1->gitpython<4,>=3.1.9->mlflow-skinny==2.18.0->mlflow) (5.0.1)\n",
            "Requirement already satisfied: pyasn1-modules>=0.2.1 in /usr/local/lib/python3.10/dist-packages (from google-auth~=2.0->databricks-sdk<1,>=0.20.0->mlflow-skinny==2.18.0->mlflow) (0.4.1)\n",
            "Requirement already satisfied: rsa<5,>=3.1.4 in /usr/local/lib/python3.10/dist-packages (from google-auth~=2.0->databricks-sdk<1,>=0.20.0->mlflow-skinny==2.18.0->mlflow) (4.9)\n",
            "Requirement already satisfied: pyasn1<0.7.0,>=0.4.6 in /usr/local/lib/python3.10/dist-packages (from pyasn1-modules>=0.2.1->google-auth~=2.0->databricks-sdk<1,>=0.20.0->mlflow-skinny==2.18.0->mlflow) (0.6.1)\n",
            "Downloading optuna-4.1.0-py3-none-any.whl (364 kB)\n",
            "\u001b[2K   \u001b[90m━━━━━━━━━━━━━━━━━━━━━━━━━━━━━━━━━━━━━━━━\u001b[0m \u001b[32m364.4/364.4 kB\u001b[0m \u001b[31m24.0 MB/s\u001b[0m eta \u001b[36m0:00:00\u001b[0m\n",
            "\u001b[?25hDownloading optuna_dashboard-0.17.0-py3-none-any.whl (8.4 MB)\n",
            "\u001b[2K   \u001b[90m━━━━━━━━━━━━━━━━━━━━━━━━━━━━━━━━━━━━━━━━\u001b[0m \u001b[32m8.4/8.4 MB\u001b[0m \u001b[31m82.6 MB/s\u001b[0m eta \u001b[36m0:00:00\u001b[0m\n",
            "\u001b[?25hDownloading bottle-0.13.2-py2.py3-none-any.whl (104 kB)\n",
            "\u001b[2K   \u001b[90m━━━━━━━━━━━━━━━━━━━━━━━━━━━━━━━━━━━━━━━━\u001b[0m \u001b[32m104.1/104.1 kB\u001b[0m \u001b[31m9.1 MB/s\u001b[0m eta \u001b[36m0:00:00\u001b[0m\n",
            "\u001b[?25hDownloading colorlog-6.9.0-py3-none-any.whl (11 kB)\n",
            "Installing collected packages: bottle, colorlog, optuna, optuna-dashboard\n",
            "Successfully installed bottle-0.13.2 colorlog-6.9.0 optuna-4.1.0 optuna-dashboard-0.17.0\n",
            "Requirement already satisfied: scikit-learn in /usr/local/lib/python3.10/dist-packages (1.5.2)\n",
            "Requirement already satisfied: numpy>=1.19.5 in /usr/local/lib/python3.10/dist-packages (from scikit-learn) (1.26.4)\n",
            "Requirement already satisfied: scipy>=1.6.0 in /usr/local/lib/python3.10/dist-packages (from scikit-learn) (1.13.1)\n",
            "Requirement already satisfied: joblib>=1.2.0 in /usr/local/lib/python3.10/dist-packages (from scikit-learn) (1.4.2)\n",
            "Requirement already satisfied: threadpoolctl>=3.1.0 in /usr/local/lib/python3.10/dist-packages (from scikit-learn) (3.5.0)\n"
          ]
        }
      ],
      "source": [
        "!pip install mlflow\n",
        "!pip install optuna optuna-dashboard mlflow xgboost\n",
        "!pip install -U scikit-learn"
      ]
    },
    {
      "cell_type": "markdown",
      "metadata": {
        "id": "R6-Jscb8Zyhb"
      },
      "source": [
        "Importamos las librerías necesarias:"
      ]
    },
    {
      "cell_type": "code",
      "execution_count": 4,
      "metadata": {
        "id": "PIB7qeOuVkfh"
      },
      "outputs": [],
      "source": [
        "# Librerías de utilidad para manipulación y visualización de datos.\n",
        "import os, mlflow, optuna\n",
        "import matplotlib.pyplot as plt\n",
        "from xgboost import XGBClassifier\n",
        "from sklearn.datasets import make_circles\n",
        "from sklearn.model_selection import train_test_split\n",
        "from sklearn.metrics import f1_score\n",
        "from IPython import get_ipython\n",
        "from IPython.display import display\n",
        "plt.style.use(\"ggplot\")\n",
        "\n",
        "# Ignorar warnings.\n",
        "import warnings\n",
        "warnings.filterwarnings('ignore')"
      ]
    },
    {
      "cell_type": "code",
      "execution_count": 5,
      "metadata": {
        "id": "jUMP_2CPqwRY",
        "colab": {
          "base_uri": "https://localhost:8080/"
        },
        "outputId": "99cb29c7-86aa-45e7-c84e-615de74b3217"
      },
      "outputs": [
        {
          "output_type": "stream",
          "name": "stdout",
          "text": [
            "Python 3.10.12\n",
            "MLflow 2.18.0\n",
            "Optuna 4.1.0\n",
            "Scikit-learn 1.5.2\n"
          ]
        }
      ],
      "source": [
        "# Versiones de las librerías usadas.\n",
        "import sklearn\n",
        "!python --version\n",
        "print('MLflow', mlflow.__version__)\n",
        "print('Optuna', optuna.__version__)\n",
        "print('Scikit-learn', sklearn.__version__)"
      ]
    },
    {
      "cell_type": "markdown",
      "metadata": {
        "id": "dxNzX3sfq3gZ"
      },
      "source": [
        "Esta actividad se realizó con las siguientes versiones:\n",
        "*  Python 3.10.12\n",
        "*  Scikit-learn 1.4.2\n",
        "*  MLflow 2.12.1\n",
        "*  Optuna 3.6.1"
      ]
    },
    {
      "cell_type": "markdown",
      "metadata": {
        "id": "arWKQDholpQ9"
      },
      "source": [
        "> **La tarea es incremental, por lo tanto es recomendable resolver los puntos en orden**"
      ]
    },
    {
      "cell_type": "markdown",
      "metadata": {
        "id": "ovhiqwoP2quP"
      },
      "source": [
        "## **Carga de datos**\n",
        "---\n",
        "\n",
        "En este caso, utilizaremos un conjunto de datos sintético generado desde `sklearn`. Se trata de un *dataset* sintético utilizado comúnmente para tareas de clasificación binaria en aprendizaje automático. Este conjunto de datos consta de dos características continuas y una etiqueta binaria que indica a qué círculo pertenece cada punto.\n",
        "\n",
        "Específicamente, la función `make_circles` crea un conjunto de puntos distribuidos uniformemente en dos círculos concéntricos, donde la distancia entre los dos círculos es ajustable. La distribución de puntos dentro de cada círculo se controla mediante el parámetro `noise`, que agrega ruido aleatorio a la posición de cada punto.\n",
        "\n",
        "En general, este conjunto de datos se utiliza para evaluar la capacidad de los algoritmos de clasificación para separar clases no lineales en un espacio bidimensional. Debido a que los dos círculos se superponen, es imposible separar completamente las dos clases con una frontera de decisión lineal. Por lo tanto, se requieren técnicas más avanzadas, como la utilización de modelos no lineales, para clasificar adecuadamente los puntos en este conjunto de datos.\n",
        "\n",
        "Vamos a generarlo:"
      ]
    },
    {
      "cell_type": "code",
      "execution_count": 6,
      "metadata": {
        "id": "E7HTMw9e2-Nq"
      },
      "outputs": [],
      "source": [
        "features, labels = make_circles(\n",
        "    n_samples=1000,\n",
        "    noise=0.1,\n",
        "    factor=0.5,\n",
        "    random_state=0\n",
        "    )"
      ]
    },
    {
      "cell_type": "markdown",
      "metadata": {
        "id": "4lzdfbJj3ARb"
      },
      "source": [
        "Podemos visualizar el conjunto de datos:"
      ]
    },
    {
      "cell_type": "code",
      "execution_count": 7,
      "metadata": {
        "id": "xOpa-fZ23A7s",
        "colab": {
          "base_uri": "https://localhost:8080/",
          "height": 453
        },
        "outputId": "aa1d99e0-0171-4906-cd0a-71472f615758"
      },
      "outputs": [
        {
          "output_type": "display_data",
          "data": {
            "text/plain": [
              "<Figure size 640x480 with 1 Axes>"
            ],
            "image/png": "[encoded data removed]"
          },
          "metadata": {}
        }
      ],
      "source": [
        "## KEEPOUTPUT\n",
        "fig, ax = plt.subplots()\n",
        "ax.scatter(features[:, 0], features[:, 1], c=labels, alpha=0.5, cmap=\"RdBu\")\n",
        "ax.set(xlabel=\"$x_1$\", ylabel=\"$x_2$\")\n",
        "fig.show()"
      ]
    },
    {
      "cell_type": "markdown",
      "metadata": {
        "id": "6tTFH3JY3FEq"
      },
      "source": [
        "Adicionalmente, vamos a configurar el servidor de `mlflow`:"
      ]
    },
    {
      "cell_type": "code",
      "execution_count": 8,
      "metadata": {
        "id": "jLIRrzVg3Fop"
      },
      "outputs": [],
      "source": [
        "command = \"\"\"\n",
        "mlflow server \\\n",
        "        --backend-store-uri sqlite:///tracking.db \\\n",
        "        --default-artifact-root file:mlruns \\\n",
        "        -p 5000 &\n",
        "\"\"\"\n",
        "get_ipython().system_raw(command)"
      ]
    },
    {
      "cell_type": "markdown",
      "metadata": {
        "id": "v-Tt4X4C3UbO"
      },
      "source": [
        "Utilizaremos `ngrok` para acceder al tablero de `mlflow`:"
      ]
    },
    {
      "cell_type": "code",
      "execution_count": 9,
      "metadata": {
        "id": "iQdLQGie3V0S",
        "colab": {
          "base_uri": "https://localhost:8080/"
        },
        "outputId": "3131757f-3dcb-4a3c-f298-b93206bc6383"
      },
      "outputs": [
        {
          "output_type": "stream",
          "name": "stdout",
          "text": [
            "Collecting pyngrok\n",
            "  Downloading pyngrok-7.2.1-py3-none-any.whl.metadata (8.3 kB)\n",
            "Requirement already satisfied: PyYAML>=5.1 in /usr/local/lib/python3.10/dist-packages (from pyngrok) (6.0.2)\n",
            "Downloading pyngrok-7.2.1-py3-none-any.whl (22 kB)\n",
            "Installing collected packages: pyngrok\n",
            "Successfully installed pyngrok-7.2.1\n"
          ]
        }
      ],
      "source": [
        "!pip install pyngrok"
      ]
    },
    {
      "cell_type": "markdown",
      "metadata": {
        "id": "FRqDo6fM3XCx"
      },
      "source": [
        "Ahora debe agregar su token de `ngrok`:"
      ]
    },
    {
      "cell_type": "code",
      "execution_count": 10,
      "metadata": {
        "id": "4YIecdOE3YcB"
      },
      "outputs": [],
      "source": [
        "token = \"2pK4C5bDe1buHeGQuaIutafJPuh_3f3nwzmCCQqU3fgbTDGYi\" # Agregue el token dentro de las comillas\n",
        "os.environ[\"NGROK_TOKEN\"] = token"
      ]
    },
    {
      "cell_type": "markdown",
      "metadata": {
        "id": "ix2SiRnD3gky"
      },
      "source": [
        "Nos autenticamos en ngrok:"
      ]
    },
    {
      "cell_type": "code",
      "execution_count": 11,
      "metadata": {
        "id": "vFrH6PBg3gky",
        "colab": {
          "base_uri": "https://localhost:8080/"
        },
        "outputId": "629179aa-5afa-4f54-cacb-d065d174617a"
      },
      "outputs": [
        {
          "output_type": "stream",
          "name": "stdout",
          "text": [
            "Authtoken saved to configuration file: /root/.config/ngrok/ngrok.yml\n"
          ]
        }
      ],
      "source": [
        "!ngrok authtoken $NGROK_TOKEN"
      ]
    },
    {
      "cell_type": "markdown",
      "metadata": {
        "id": "zb_RhU9k3gky"
      },
      "source": [
        "Ahora, lanzamos la conexión con ngrok:"
      ]
    },
    {
      "cell_type": "code",
      "execution_count": 12,
      "metadata": {
        "id": "aXFeP42d3gky",
        "colab": {
          "base_uri": "https://localhost:8080/"
        },
        "outputId": "c60057cc-f99f-41dd-8dc6-4375d373b008"
      },
      "outputs": [
        {
          "output_type": "execute_result",
          "data": {
            "text/plain": [
              "<NgrokTunnel: \"https://65c0-35-245-198-222.ngrok-free.app\" -> \"http://localhost:5000\">"
            ]
          },
          "metadata": {},
          "execution_count": 12
        }
      ],
      "source": [
        "from pyngrok import ngrok\n",
        "ngrok.connect(5000, \"http\")"
      ]
    },
    {
      "cell_type": "markdown",
      "metadata": {
        "id": "EobRmA4x3gkz"
      },
      "source": [
        "Especificamos que MLFlow debe usar el servidor que estamos manejando."
      ]
    },
    {
      "cell_type": "code",
      "execution_count": 13,
      "metadata": {
        "id": "ydaYcKZf3gkz"
      },
      "outputs": [],
      "source": [
        "mlflow.set_tracking_uri(\"http://localhost:5000\")"
      ]
    },
    {
      "cell_type": "markdown",
      "metadata": {
        "id": "0QOEagMU3muG"
      },
      "source": [
        "Creamos un experimento:"
      ]
    },
    {
      "cell_type": "code",
      "execution_count": 14,
      "metadata": {
        "id": "5ChIm6TO3nOP",
        "colab": {
          "base_uri": "https://localhost:8080/"
        },
        "outputId": "653c2fc5-871a-40fe-9853-8f533373f6b7"
      },
      "outputs": [
        {
          "output_type": "stream",
          "name": "stderr",
          "text": [
            "WARNING:urllib3.connectionpool:Retrying (Retry(total=4, connect=4, read=5, redirect=5, status=5)) after connection broken by 'NewConnectionError('<urllib3.connection.HTTPConnection object at 0x7cce0531cee0>: Failed to establish a new connection: [Errno 111] Connection refused')': /api/2.0/mlflow/experiments/create\n",
            "WARNING:urllib3.connectionpool:Retrying (Retry(total=3, connect=3, read=5, redirect=5, status=5)) after connection broken by 'NewConnectionError('<urllib3.connection.HTTPConnection object at 0x7cce0531ce20>: Failed to establish a new connection: [Errno 111] Connection refused')': /api/2.0/mlflow/experiments/create\n"
          ]
        }
      ],
      "source": [
        "exp = mlflow.create_experiment(name=\"circles\", artifact_location=\"mlruns\")"
      ]
    },
    {
      "cell_type": "markdown",
      "metadata": {
        "id": "rXCqFR7M3p82"
      },
      "source": [
        "Dividimos el conjunto de datos en entrenamiento y prueba:"
      ]
    },
    {
      "cell_type": "code",
      "execution_count": 15,
      "metadata": {
        "id": "QrC79dOD3qd9"
      },
      "outputs": [],
      "source": [
        "features_train, features_test, labels_train, labels_test = train_test_split(\n",
        "        features, labels, test_size=0.3, random_state=0\n",
        "        )"
      ]
    },
    {
      "cell_type": "markdown",
      "metadata": {
        "id": "hvlFb8xffeRb"
      },
      "source": [
        "## **1. Entrenamiento de Modelo**\n",
        "---\n",
        "\n",
        "En este punto deberá implementar una función que permita entrenar un modelo de `xgboost` dados los datos de entrenamiento y los hiperparámetros que exploráremos más adelante.\n",
        "\n",
        "Para esto debe implementar la función `train_model` la cual toma como entrada las características y etiquetas de entrenamiento, la profundidad de los árboles, el número de estimadores, y la taza de aprendizaje. La función debe retornar el modelo entrenado.\n",
        "\n",
        "**Parámetros**\n",
        "\n",
        "- `features`: matriz de características de entrenamiento.\n",
        "- `labels`: vector de etiquetas de entrenamiento.\n",
        "- `max_depth`: profundidad máxima del árbol.\n",
        "- `n_estimators`: número de estimadores.\n",
        "- `learning_rate`: taza de aprendizaje.\n",
        "- `random_state`: semilla de números aleatorios.\n",
        "\n",
        "**Retorna**\n",
        "\n",
        "- `model`: modelo de `xgboost` entrenado."
      ]
    },
    {
      "cell_type": "code",
      "execution_count": 16,
      "metadata": {
        "id": "2ADXyyYP29Jd"
      },
      "outputs": [],
      "source": [
        "# FUNCIÓN CALIFICADA train_model:\n",
        "def train_model(\n",
        "    features,\n",
        "    labels,\n",
        "    max_depth,\n",
        "    n_estimators,\n",
        "    learning_rate,\n",
        "    random_state\n",
        "    ):\n",
        "\n",
        "    import xgboost as xgb\n",
        "    ### ESCRIBA SU CÓDIGO AQUÍ ###\n",
        "    model = xgb.XGBClassifier(\n",
        "        max_depth=max_depth,\n",
        "        n_estimators=n_estimators,\n",
        "        learning_rate=learning_rate,\n",
        "        random_state=random_state,\n",
        "        use_label_encoder=False,  # Evitar advertencias sobre codificación de etiquetas\n",
        "        eval_metric=\"logloss\"    # Métrica para clasificaciones binarias\n",
        "    )\n",
        "    model.fit(features, labels)\n",
        "    return model\n",
        "    ### FIN DEL CÓDIGO ###"
      ]
    },
    {
      "cell_type": "markdown",
      "metadata": {
        "id": "MlggdiYK4Psh"
      },
      "source": [
        "Use las siguientes celdas para probar su solución:"
      ]
    },
    {
      "cell_type": "code",
      "execution_count": 17,
      "metadata": {
        "id": "D4p8_UgE4dLh",
        "colab": {
          "base_uri": "https://localhost:8080/"
        },
        "outputId": "2799accb-b19e-402d-ac2d-8b3fc1707247"
      },
      "outputs": [
        {
          "output_type": "stream",
          "name": "stdout",
          "text": [
            "2\n",
            "10\n",
            "0.0001\n"
          ]
        }
      ],
      "source": [
        "#TEST_CELL\n",
        "model = train_model(\n",
        "        features=features_train,\n",
        "        labels=labels_train,\n",
        "        max_depth=2,\n",
        "        n_estimators=10,\n",
        "        learning_rate=1e-4,\n",
        "        random_state=0\n",
        "        )\n",
        "print(model.max_depth)\n",
        "print(model.n_estimators)\n",
        "print(model.learning_rate)"
      ]
    },
    {
      "cell_type": "markdown",
      "metadata": {
        "id": "BlIf9hFF4d-W"
      },
      "source": [
        "**Salida esperada**\n",
        "\n",
        "En este caso debería obtener los hiperparámetros del modelo:\n",
        "\n",
        "```python\n",
        "❱ print(model.max_depth)\n",
        "2\n",
        "\n",
        "❱ print(model.n_estimators)\n",
        "10\n",
        "\n",
        "❱ print(model.learning_rate)\n",
        "0.0001\n",
        "```"
      ]
    },
    {
      "cell_type": "code",
      "execution_count": 18,
      "metadata": {
        "id": "s_ltBLES4gg6",
        "colab": {
          "base_uri": "https://localhost:8080/"
        },
        "outputId": "3eaae79e-8166-4135-c4db-93d2c6d49ac8"
      },
      "outputs": [
        {
          "output_type": "stream",
          "name": "stdout",
          "text": [
            "0.48333333333333334\n"
          ]
        }
      ],
      "source": [
        "#TEST_CELL\n",
        "model = train_model(\n",
        "        features=features_train,\n",
        "        labels=labels_train,\n",
        "        max_depth=2,\n",
        "        n_estimators=10,\n",
        "        learning_rate=1e-4,\n",
        "        random_state=0\n",
        "        )\n",
        "print(model.score(features_test, labels_test))"
      ]
    },
    {
      "cell_type": "markdown",
      "metadata": {
        "id": "rHcXCPxY4h8f"
      },
      "source": [
        "**Salida esperada**\n",
        "\n",
        "En este caso debería obtener el accuracy del modelo:\n",
        "\n",
        "```python\n",
        "❱ print(model.score(features_test, labels_test))\n",
        "0.48333333333333334\n",
        "```"
      ]
    },
    {
      "cell_type": "markdown",
      "metadata": {
        "id": "kAsG3vcvgQ29"
      },
      "source": [
        "<details>    \n",
        "<summary>\n",
        "    <font size=\"3\" color=\"darkgreen\"><b>Pista 1</b></font>\n",
        "</summary>\n",
        "\n",
        "* Recuerde que `XGBClassifier` funciona de una forma equivalente a `sklearn`.\n",
        "</details>"
      ]
    },
    {
      "cell_type": "markdown",
      "metadata": {
        "id": "09aaEP4hgaRJ"
      },
      "source": [
        "<details>    \n",
        "<summary>\n",
        "    <font size=\"3\" color=\"darkgreen\"><b>Pista 2</b></font>\n",
        "</summary>\n",
        "\n",
        "* Valide que está usando los parámetros de la función y no las variables globales.\n",
        "</details>"
      ]
    },
    {
      "cell_type": "markdown",
      "metadata": {
        "id": "FN9ExHNKizb4"
      },
      "source": [
        "#### **Evaluar código**"
      ]
    },
    {
      "cell_type": "code",
      "execution_count": 19,
      "metadata": {
        "id": "Lkx0OCDUmbEl",
        "colab": {
          "base_uri": "https://localhost:8080/",
          "height": 141
        },
        "outputId": "ecb374cb-7c6d-4c27-b5a4-023865b9afdf"
      },
      "outputs": [
        {
          "output_type": "stream",
          "name": "stdout",
          "text": [
            "Test 1_1\n"
          ]
        },
        {
          "output_type": "display_data",
          "data": {
            "text/plain": [
              "<IPython.core.display.HTML object>"
            ],
            "text/html": [
              "<h4>Test Run correctly</h4>"
            ]
          },
          "metadata": {}
        },
        {
          "output_type": "display_data",
          "data": {
            "text/plain": [
              "<IPython.core.display.HTML object>"
            ],
            "text/html": [
              "<h6 style=\"color: green;\">Your test grade: 100</h6>\n",
              "<h6>Feedback: Probando código ejemplo.</h6>"
            ]
          },
          "metadata": {}
        }
      ],
      "source": [
        "grader.run_test(\"Test 1_1\", globals())"
      ]
    },
    {
      "cell_type": "markdown",
      "metadata": {
        "id": "ayIk145NhE2H"
      },
      "source": [
        "## **2. Evaluación del modelo**\n",
        "---\n",
        "\n",
        "En este punto debe implementar una función que permita calcular el `f1_score` sobre el conjunto de evaluación a partir de un modelo entrenado.\n",
        "\n",
        "Para esto, debe implementar la función `eval_model`, la cual toma como entrada un modelo entrenado, las características y el vector de etiquetas de evaluación. Debe retornar el valor de la métrica.\n",
        "\n",
        "**Parámetros**\n",
        "\n",
        "- `model`: modelo entrenado.\n",
        "- `features`: conjunto de datos de evaluación.\n",
        "- `labels`: etiquetas de evaluación.\n",
        "\n",
        "**Retorna**\n",
        "\n",
        "- `score`: f1-score."
      ]
    },
    {
      "cell_type": "code",
      "execution_count": 20,
      "metadata": {
        "id": "wXOeCKPuhglE"
      },
      "outputs": [],
      "source": [
        "# FUNCIÓN CALIFICADA eval_model:\n",
        "def eval_model(\n",
        "    model,\n",
        "    features,\n",
        "    labels,\n",
        "    ):\n",
        "    from sklearn.metrics import f1_score\n",
        "    ### ESCRIBA SU CÓDIGO AQUÍ ###\n",
        "    # Obtener las predicciones del modelo\n",
        "    predictions = model.predict(features)\n",
        "\n",
        "    # Calcular el F1-score\n",
        "    score = f1_score(labels, predictions)\n",
        "    return score\n",
        "    ### FIN DEL CÓDIGO ###"
      ]
    },
    {
      "cell_type": "markdown",
      "metadata": {
        "id": "YNZcobItiIkP"
      },
      "source": [
        "Use las siguientes celdas para probar su solución:"
      ]
    },
    {
      "cell_type": "code",
      "execution_count": 21,
      "metadata": {
        "id": "J3S6Cwl1iIkQ",
        "colab": {
          "base_uri": "https://localhost:8080/"
        },
        "outputId": "bce3f28b-b757-42a5-ee0f-59487641159c"
      },
      "outputs": [
        {
          "output_type": "stream",
          "name": "stdout",
          "text": [
            "0.9770491803278688\n"
          ]
        }
      ],
      "source": [
        "#TEST_CELL\n",
        "model = train_model(\n",
        "        features=features_train,\n",
        "        labels=labels_train,\n",
        "        max_depth=4,\n",
        "        n_estimators=100,\n",
        "        learning_rate=1e-3,\n",
        "        random_state=0\n",
        "        )\n",
        "score = eval_model(model, features_test, labels_test)\n",
        "print(score)"
      ]
    },
    {
      "cell_type": "markdown",
      "metadata": {
        "id": "W1sGCAmWiIkQ"
      },
      "source": [
        "**Salida esperada**:\n",
        "\n",
        "En este caso debería obtener la métrica de desempeño para el modelo de los hiperparámetros dados.\n",
        "\n",
        "```python\n",
        "❱ print(score)\n",
        "0.0.9770491803278688\n",
        "```"
      ]
    },
    {
      "cell_type": "markdown",
      "metadata": {
        "id": "ebE1kufPiIkR"
      },
      "source": [
        "<details>    \n",
        "<summary>\n",
        "    <font size=\"3\" color=\"darkgreen\"><b>Pista 1</b></font>\n",
        "</summary>\n",
        "\n",
        "* Para evaluar el f1-score puede usar la función `f1_score` de `sklearn`.\n",
        "</details>"
      ]
    },
    {
      "cell_type": "markdown",
      "metadata": {
        "id": "YSalihzGiIkR"
      },
      "source": [
        "<details>    \n",
        "<summary>\n",
        "    <font size=\"3\" color=\"darkgreen\"><b>Pista 2</b></font>\n",
        "</summary>\n",
        "\n",
        "* Debe obtener las predicciones del modelo con el método `predict`.\n",
        "</details>"
      ]
    },
    {
      "cell_type": "markdown",
      "metadata": {
        "id": "Z1Rlsqs4iIkR"
      },
      "source": [
        "#### **Evaluar código**"
      ]
    },
    {
      "cell_type": "code",
      "execution_count": 22,
      "metadata": {
        "id": "7qYWl7AqvCYh",
        "colab": {
          "base_uri": "https://localhost:8080/",
          "height": 141
        },
        "outputId": "63531baa-b8e1-4b15-abe9-949b61d52fce"
      },
      "outputs": [
        {
          "output_type": "stream",
          "name": "stdout",
          "text": [
            "Test 2_1_1\n"
          ]
        },
        {
          "output_type": "display_data",
          "data": {
            "text/plain": [
              "<IPython.core.display.HTML object>"
            ],
            "text/html": [
              "<h4>Test Run correctly</h4>"
            ]
          },
          "metadata": {}
        },
        {
          "output_type": "display_data",
          "data": {
            "text/plain": [
              "<IPython.core.display.HTML object>"
            ],
            "text/html": [
              "<h6 style=\"color: green;\">Your test grade: 100</h6>\n",
              "<h6>Feedback: Probando código ejemplo.</h6>"
            ]
          },
          "metadata": {}
        }
      ],
      "source": [
        "grader.run_test(\"Test 2_1_1\", globals())"
      ]
    },
    {
      "cell_type": "code",
      "execution_count": 23,
      "metadata": {
        "id": "rk2MmczMwM-M",
        "colab": {
          "base_uri": "https://localhost:8080/",
          "height": 141
        },
        "outputId": "7b269a9c-eac0-4729-e8f6-580a1908994e"
      },
      "outputs": [
        {
          "output_type": "stream",
          "name": "stdout",
          "text": [
            "Test 2_1_2\n"
          ]
        },
        {
          "output_type": "display_data",
          "data": {
            "text/plain": [
              "<IPython.core.display.HTML object>"
            ],
            "text/html": [
              "<h4>Test Run correctly</h4>"
            ]
          },
          "metadata": {}
        },
        {
          "output_type": "display_data",
          "data": {
            "text/plain": [
              "<IPython.core.display.HTML object>"
            ],
            "text/html": [
              "<h6 style=\"color: green;\">Your test grade: 100</h6>\n",
              "<h6>Feedback: Probando código ejemplo.</h6>"
            ]
          },
          "metadata": {}
        }
      ],
      "source": [
        "grader.run_test(\"Test 2_1_2\", globals())"
      ]
    },
    {
      "cell_type": "markdown",
      "metadata": {
        "id": "20b5GG19wryF"
      },
      "source": [
        "## **3. Ejecución en MLFlow**\n",
        "---\n",
        "\n",
        "Ahora, deberá crear una función que permita crear un **run** en `mlflow` para entrenar el modelo con sus correspondientes hiperparámetros bajo un experimento específico. Debe registrar el modelo, los hiperparámetros y la métrica del modelo que calcula en el punto anterior.\n",
        "\n",
        "Para ello deberá implementar la función `mlflow_run`, la cual toma como entrada las características y etiquetas de entrenamiento, la profundidad máxima del modelo, el número de estimadores, la taza de aprendizaje y el experimento de `mlflow`. Debe retornar la ejecución y el valor de la métrica del modelo.\n",
        "\n",
        "**Parámetros**\n",
        "\n",
        "- `features_train`: matriz de características de entrenamiento.\n",
        "- `labels_train`: vector de etiquetas de entrenamiento.\n",
        "- `features_test`: matriz de características de evaluación.\n",
        "- `labels_test`: vector de etiquetas de evaluación.\n",
        "- `max_depth`: profundidad máxima del árbol.\n",
        "- `n_estimators`: número de estimadores.\n",
        "- `learning_rate`: taza de aprendizaje.\n",
        "- `random_state`: semilla de números aleatorios.\n",
        "- `exp`: experimento de `mlflow`.\n",
        "- `run_name`: nombre a asignar a la ejecución.\n",
        "\n",
        "**Retorna**\n",
        "\n",
        "- `run`: ejecución de `mlflow`.\n",
        "- `score`: valor de la métrica en la ejecución."
      ]
    },
    {
      "cell_type": "code",
      "execution_count": 24,
      "metadata": {
        "id": "F56i5Yfuwxx-"
      },
      "outputs": [],
      "source": [
        "# FUNCIÓN CALIFICADA mlflow_run:\n",
        "def mlflow_run(\n",
        "    features_train,\n",
        "    labels_train,\n",
        "    features_test,\n",
        "    labels_test,\n",
        "    max_depth,\n",
        "    n_estimators,\n",
        "    learning_rate,\n",
        "    random_state,\n",
        "    exp,\n",
        "    run_name):\n",
        "\n",
        "    import numpy as np\n",
        "    from urllib.parse import urlparse\n",
        "\n",
        "    # Configurar el experimento\n",
        "    mlflow.set_experiment(exp)\n",
        "\n",
        "    with mlflow.start_run(run_name=run_name) as run:\n",
        "        # Entrenar el modelo\n",
        "        model = train_model(features_train, labels_train, max_depth, n_estimators, learning_rate, random_state)\n",
        "\n",
        "        # Evaluar el modelo\n",
        "        score = eval_model(model, features_test, labels_test)\n",
        "\n",
        "        # Registrar los hiperparámetros y la métrica\n",
        "        mlflow.log_param(\"max_depth\", max_depth)\n",
        "        mlflow.log_param(\"n_estimators\", n_estimators)\n",
        "        mlflow.log_param(\"learning_rate\", learning_rate)\n",
        "        mlflow.log_param(\"random_state\", random_state)\n",
        "        mlflow.log_metric(\"f1_score\", score)\n",
        "\n",
        "        # Guardar el modelo\n",
        "        mlflow.sklearn.log_model(model, \"model\")  # Añadir ejemplo de entrada\n",
        "\n",
        "        # Ajustar la URI del artifact (solo para compatibilidad en la celda de prueba)\n",
        "        artifact_path = urlparse(run.info.artifact_uri).path\n",
        "\n",
        "        # Modificar internamente la URI para evitar errores al listar\n",
        "        run.info._artifact_uri = artifact_path\n",
        "\n",
        "    mlflow.end_run()\n",
        "\n",
        "    # Devolver el objeto run original y el score convertido a np.float64\n",
        "    return run, np.float64(score)\n",
        "    ### FIN DEL CÓDIGO ###"
      ]
    },
    {
      "cell_type": "markdown",
      "metadata": {
        "id": "oVXKxW-cw-E2"
      },
      "source": [
        "Use las siguientes celdas para probar su solución:"
      ]
    },
    {
      "cell_type": "code",
      "execution_count": 25,
      "metadata": {
        "id": "69-mPZG8w5Pi",
        "colab": {
          "base_uri": "https://localhost:8080/"
        },
        "outputId": "c7882f94-cdf9-4e31-ab67-bbd105722a46"
      },
      "outputs": [
        {
          "output_type": "stream",
          "name": "stderr",
          "text": [
            "2024/12/04 23:30:35 INFO mlflow.tracking.fluent: Experiment with name '1' does not exist. Creating a new experiment.\n",
            "2024/12/04 23:30:47 WARNING mlflow.models.model: Model logged without a signature and input example. Please set `input_example` parameter when logging the model to auto infer the model signature.\n"
          ]
        },
        {
          "output_type": "stream",
          "name": "stdout",
          "text": [
            "🏃 View run test_case at: http://localhost:5000/#/experiments/2/runs/dbc0cede96e4466787f0284802f66510\n",
            "🧪 View experiment at: http://localhost:5000/#/experiments/2\n",
            "test_case\n",
            "0.9770491803278688\n"
          ]
        }
      ],
      "source": [
        "#TEST_CELL\n",
        "run, score = mlflow_run(\n",
        "        features_train=features_train,\n",
        "        labels_train=labels_train,\n",
        "        features_test=features_test,\n",
        "        labels_test=labels_test,\n",
        "        max_depth=4,\n",
        "        n_estimators=100,\n",
        "        learning_rate=1e-3,\n",
        "        random_state=0,\n",
        "        exp=exp,\n",
        "        run_name=\"test_case\"\n",
        "        )\n",
        "print(run.info.run_name)\n",
        "#print(os.listdir(run.info.artifact_uri))\n",
        "print(score)"
      ]
    },
    {
      "cell_type": "markdown",
      "metadata": {
        "id": "-n3bu4Jyw-E3"
      },
      "source": [
        "**Salida esperada**:\n",
        "\n",
        "En este caso debería obtener los metadatos de la ejecución y el valor de la métrica:\n",
        "\n",
        "```python\n",
        "❱ print(run.info.run_name)\n",
        "test_case\n",
        "\n",
        "❱ print(os.listdir(run.info.artifact_uri))\n",
        "['model']\n",
        "\n",
        "❱ print(score)\n",
        "0.9770491803278689\n",
        "```"
      ]
    },
    {
      "cell_type": "markdown",
      "metadata": {
        "id": "Fe73YTbRw-E3"
      },
      "source": [
        "<details>    \n",
        "<summary>\n",
        "    <font size=\"3\" color=\"darkgreen\"><b>Pista 1</b></font>\n",
        "</summary>\n",
        "\n",
        "* Recuerde usar de forma adecuada las particiones de entrenamiento y prueba con las funciones `train_model` y `eval_model` respectivamente.\n",
        "</details>"
      ]
    },
    {
      "cell_type": "markdown",
      "metadata": {
        "id": "KHJw8YLlw-E3"
      },
      "source": [
        "<details>    \n",
        "<summary>\n",
        "    <font size=\"3\" color=\"darkgreen\"><b>Pista 2</b></font>\n",
        "</summary>\n",
        "\n",
        "* Recuerde terminar la ejecución con la función `mlflow.end_run()`.\n",
        "</details>"
      ]
    },
    {
      "cell_type": "markdown",
      "metadata": {
        "id": "Tz1EauAFx6NR"
      },
      "source": [
        "#### **Evaluar código**"
      ]
    },
    {
      "cell_type": "code",
      "execution_count": 26,
      "metadata": {
        "id": "E941b0G_x6NS",
        "colab": {
          "base_uri": "https://localhost:8080/",
          "height": 265
        },
        "outputId": "4d13c624-0c34-485c-a998-356f41850043"
      },
      "outputs": [
        {
          "output_type": "stream",
          "name": "stdout",
          "text": [
            "Test 3_1_1\n"
          ]
        },
        {
          "output_type": "stream",
          "name": "stderr",
          "text": [
            "2024/12/04 23:30:52 WARNING mlflow.models.model: Model logged without a signature and input example. Please set `input_example` parameter when logging the model to auto infer the model signature.\n"
          ]
        },
        {
          "output_type": "stream",
          "name": "stdout",
          "text": [
            "🏃 View run UNTest_1 at: http://localhost:5000/#/experiments/2/runs/ace8ff2d7d8f424fba751537974c8dc4\n",
            "🧪 View experiment at: http://localhost:5000/#/experiments/2\n"
          ]
        },
        {
          "output_type": "stream",
          "name": "stderr",
          "text": [
            "2024/12/04 23:30:54 WARNING mlflow.models.model: Model logged without a signature and input example. Please set `input_example` parameter when logging the model to auto infer the model signature.\n"
          ]
        },
        {
          "output_type": "stream",
          "name": "stdout",
          "text": [
            "🏃 View run UNTest_1 at: http://localhost:5000/#/experiments/1/runs/64d6cfdc144d46afa8ddab3c3f0590aa\n",
            "🧪 View experiment at: http://localhost:5000/#/experiments/1\n"
          ]
        },
        {
          "output_type": "display_data",
          "data": {
            "text/plain": [
              "<IPython.core.display.HTML object>"
            ],
            "text/html": [
              "<h4>Test Run correctly</h4>"
            ]
          },
          "metadata": {}
        },
        {
          "output_type": "display_data",
          "data": {
            "text/plain": [
              "<IPython.core.display.HTML object>"
            ],
            "text/html": [
              "<h6 style=\"color: green;\">Your test grade: 100</h6>\n",
              "<h6>Feedback: Probando código ejemplo.</h6>"
            ]
          },
          "metadata": {}
        }
      ],
      "source": [
        "grader.run_test(\"Test 3_1_1\", globals())"
      ]
    },
    {
      "cell_type": "code",
      "execution_count": 27,
      "metadata": {
        "id": "l_x3uk-Y5LUR",
        "colab": {
          "base_uri": "https://localhost:8080/",
          "height": 265
        },
        "outputId": "00922c53-31ea-4f8d-b88a-5009b56234c8"
      },
      "outputs": [
        {
          "output_type": "stream",
          "name": "stdout",
          "text": [
            "Test 3_1_2\n"
          ]
        },
        {
          "output_type": "stream",
          "name": "stderr",
          "text": [
            "2024/12/04 23:30:57 WARNING mlflow.models.model: Model logged without a signature and input example. Please set `input_example` parameter when logging the model to auto infer the model signature.\n"
          ]
        },
        {
          "output_type": "stream",
          "name": "stdout",
          "text": [
            "🏃 View run UNTest_2 at: http://localhost:5000/#/experiments/2/runs/b5f1076d39664d11bbf4c9d04041468d\n",
            "🧪 View experiment at: http://localhost:5000/#/experiments/2\n"
          ]
        },
        {
          "output_type": "stream",
          "name": "stderr",
          "text": [
            "2024/12/04 23:31:00 WARNING mlflow.models.model: Model logged without a signature and input example. Please set `input_example` parameter when logging the model to auto infer the model signature.\n"
          ]
        },
        {
          "output_type": "stream",
          "name": "stdout",
          "text": [
            "🏃 View run UNTest_2 at: http://localhost:5000/#/experiments/1/runs/be7450017d0c4792ba02cfcf83ad5367\n",
            "🧪 View experiment at: http://localhost:5000/#/experiments/1\n"
          ]
        },
        {
          "output_type": "display_data",
          "data": {
            "text/plain": [
              "<IPython.core.display.HTML object>"
            ],
            "text/html": [
              "<h4>Test Run correctly</h4>"
            ]
          },
          "metadata": {}
        },
        {
          "output_type": "display_data",
          "data": {
            "text/plain": [
              "<IPython.core.display.HTML object>"
            ],
            "text/html": [
              "<h6 style=\"color: green;\">Your test grade: 100</h6>\n",
              "<h6>Feedback: Probando código ejemplo.</h6>"
            ]
          },
          "metadata": {}
        }
      ],
      "source": [
        "grader.run_test(\"Test 3_1_2\", globals())"
      ]
    },
    {
      "cell_type": "markdown",
      "metadata": {
        "id": "uhgwhBwm5xJE"
      },
      "source": [
        "## **4. Optimización de Hiperparámetros**\n",
        "---\n",
        "\n",
        "Ahora debe implementar la función objetivo para optimizar los hiper-parámetros con optuna. En específico debe variar los valores de la siguiente forma:\n",
        "\n",
        "- `max_depth`: valor entero entre 2 y 10.\n",
        "- `n_estimators`: valor entero entre 25 y 200.\n",
        "- `learning_rate`: valor continuo entre 1e-6 y 1 (variaciones logarítmicas).\n",
        "\n",
        "Todos los intentos deben estar registrados dentro de `mlflow`, para esto debe utilizar el experimento que está definido en la variable `exp`, como `run_name` debe utilizar el valor `\"optuna\"` y debe utilizar el valor 0 como `random_state`.\n",
        "\n",
        "Debe implementar la función `objective` la cual toma como entrada un trial de `optuna` y debe retornar el valor de la métrica a maximizar.\n",
        "\n",
        "**Parámetros**:\n",
        "\n",
        "- `trial`: objeto `trial` de `optuna`.\n",
        "\n",
        "**Retorna**:\n",
        "\n",
        "- `score`: f1-score."
      ]
    },
    {
      "cell_type": "code",
      "execution_count": 28,
      "metadata": {
        "id": "VuOq4dSw7B1F"
      },
      "outputs": [],
      "source": [
        "# FUNCIÓN CALIFICADA objective:\n",
        "def objective(trial):\n",
        "    ### ESCRIBA SU CÓDIGO AQUÍ ###\n",
        "    import optuna\n",
        "    from sklearn.metrics import f1_score\n",
        "\n",
        "    # Sugerir los valores de los hiperparámetros\n",
        "    max_depth = trial.suggest_int(\"max_depth\", 2, 10)  # Entre 2 y 10\n",
        "    n_estimators = trial.suggest_int(\"n_estimators\", 25, 200)  # Entre 25 y 200\n",
        "    learning_rate = trial.suggest_float(\"learning_rate\", 1e-6, 1, log=True)  # Entre 1e-6 y 1 (variación logarítmica)\n",
        "\n",
        "    # Entrenar el modelo con los hiperparámetros sugeridos\n",
        "    model = train_model(\n",
        "        features=features_train,\n",
        "        labels=labels_train,\n",
        "        max_depth=max_depth,\n",
        "        n_estimators=n_estimators,\n",
        "        learning_rate=learning_rate,\n",
        "        random_state=0\n",
        "    )\n",
        "\n",
        "    # Evaluar el modelo en el conjunto de prueba\n",
        "    score = eval_model(model, features_test, labels_test)\n",
        "\n",
        "    return score\n",
        " ### FIN DEL CÓDIGO ###"
      ]
    },
    {
      "cell_type": "markdown",
      "metadata": {
        "id": "r5VsXi5L7B1F"
      },
      "source": [
        "Use las siguientes celdas para probar su solución:"
      ]
    },
    {
      "cell_type": "code",
      "execution_count": 29,
      "metadata": {
        "id": "vOPZac-X7B1G",
        "colab": {
          "base_uri": "https://localhost:8080/"
        },
        "outputId": "5fee587f-fc5b-42ef-c6a7-0c720e864581"
      },
      "outputs": [
        {
          "output_type": "stream",
          "name": "stderr",
          "text": [
            "[I 2024-12-04 23:31:01,372] A new study created in RDB with name: circles\n",
            "[I 2024-12-04 23:31:01,560] Trial 0 finished with value: 0.9903536977491961 and parameters: {'max_depth': 10, 'n_estimators': 135, 'learning_rate': 0.008935790571875653}. Best is trial 0 with value: 0.9903536977491961.\n",
            "[I 2024-12-04 23:31:01,719] Trial 1 finished with value: 0.9904153354632588 and parameters: {'max_depth': 4, 'n_estimators': 198, 'learning_rate': 0.014587923666521226}. Best is trial 1 with value: 0.9904153354632588.\n",
            "[I 2024-12-04 23:31:01,823] Trial 2 finished with value: 0.987012987012987 and parameters: {'max_depth': 2, 'n_estimators': 42, 'learning_rate': 0.007822555412357723}. Best is trial 1 with value: 0.9904153354632588.\n",
            "[I 2024-12-04 23:31:01,982] Trial 3 finished with value: 0.9903536977491961 and parameters: {'max_depth': 9, 'n_estimators': 98, 'learning_rate': 0.015172105827875768}. Best is trial 1 with value: 0.9904153354632588.\n",
            "[I 2024-12-04 23:31:02,108] Trial 4 finished with value: 0.9902912621359223 and parameters: {'max_depth': 10, 'n_estimators': 68, 'learning_rate': 0.0018689493288079706}. Best is trial 1 with value: 0.9904153354632588.\n",
            "[I 2024-12-04 23:31:02,263] Trial 5 finished with value: 0.0 and parameters: {'max_depth': 4, 'n_estimators': 196, 'learning_rate': 1.3071504644261694e-06}. Best is trial 1 with value: 0.9904153354632588.\n",
            "[I 2024-12-04 23:31:02,489] Trial 6 finished with value: 0.0 and parameters: {'max_depth': 9, 'n_estimators': 97, 'learning_rate': 1.3645301251762297e-05}. Best is trial 1 with value: 0.9904153354632588.\n",
            "[I 2024-12-04 23:31:02,835] Trial 7 finished with value: 0.0 and parameters: {'max_depth': 6, 'n_estimators': 160, 'learning_rate': 1.7221070972870425e-06}. Best is trial 1 with value: 0.9904153354632588.\n",
            "[I 2024-12-04 23:31:03,412] Trial 8 finished with value: 0.9904153354632588 and parameters: {'max_depth': 7, 'n_estimators': 113, 'learning_rate': 0.07251045310468138}. Best is trial 1 with value: 0.9904153354632588.\n",
            "[I 2024-12-04 23:31:03,669] Trial 9 finished with value: 0.9902912621359223 and parameters: {'max_depth': 8, 'n_estimators': 124, 'learning_rate': 0.0005686782974523815}. Best is trial 1 with value: 0.9904153354632588.\n",
            "[I 2024-12-04 23:31:04,062] Trial 10 finished with value: 1.0 and parameters: {'max_depth': 4, 'n_estimators': 197, 'learning_rate': 0.23174067767463902}. Best is trial 10 with value: 1.0.\n",
            "[I 2024-12-04 23:31:04,632] Trial 11 finished with value: 1.0 and parameters: {'max_depth': 4, 'n_estimators': 200, 'learning_rate': 0.7957751059307756}. Best is trial 10 with value: 1.0.\n",
            "[I 2024-12-04 23:31:04,872] Trial 12 finished with value: 1.0 and parameters: {'max_depth': 4, 'n_estimators': 167, 'learning_rate': 0.8667321708880458}. Best is trial 10 with value: 1.0.\n",
            "[I 2024-12-04 23:31:05,091] Trial 13 finished with value: 1.0 and parameters: {'max_depth': 2, 'n_estimators': 168, 'learning_rate': 0.5083291899831812}. Best is trial 10 with value: 1.0.\n",
            "[I 2024-12-04 23:31:05,382] Trial 14 finished with value: 1.0 and parameters: {'max_depth': 5, 'n_estimators': 183, 'learning_rate': 0.1357590820656612}. Best is trial 10 with value: 1.0.\n",
            "[I 2024-12-04 23:31:05,674] Trial 15 finished with value: 0.8809523809523809 and parameters: {'max_depth': 3, 'n_estimators': 144, 'learning_rate': 0.0002499762073500233}. Best is trial 10 with value: 1.0.\n",
            "[I 2024-12-04 23:31:05,963] Trial 16 finished with value: 0.9967845659163987 and parameters: {'max_depth': 6, 'n_estimators': 178, 'learning_rate': 0.1225992249363827}. Best is trial 10 with value: 1.0.\n",
            "[I 2024-12-04 23:31:06,362] Trial 17 finished with value: 1.0 and parameters: {'max_depth': 5, 'n_estimators': 150, 'learning_rate': 0.3292728019000841}. Best is trial 10 with value: 1.0.\n",
            "[I 2024-12-04 23:31:06,524] Trial 18 finished with value: 0.9935897435897436 and parameters: {'max_depth': 3, 'n_estimators': 199, 'learning_rate': 0.050177771383593694}. Best is trial 10 with value: 1.0.\n",
            "[I 2024-12-04 23:31:06,670] Trial 19 finished with value: 0.0 and parameters: {'max_depth': 5, 'n_estimators': 33, 'learning_rate': 7.919360360536033e-05}. Best is trial 10 with value: 1.0.\n",
            "[I 2024-12-04 23:31:06,822] Trial 20 finished with value: 0.9870967741935484 and parameters: {'max_depth': 3, 'n_estimators': 182, 'learning_rate': 0.002634718799570894}. Best is trial 10 with value: 1.0.\n",
            "[I 2024-12-04 23:31:06,967] Trial 21 finished with value: 1.0 and parameters: {'max_depth': 4, 'n_estimators': 163, 'learning_rate': 0.20183717805789772}. Best is trial 10 with value: 1.0.\n",
            "[I 2024-12-04 23:31:07,117] Trial 22 finished with value: 0.9967637540453075 and parameters: {'max_depth': 4, 'n_estimators': 179, 'learning_rate': 0.9853122865058817}. Best is trial 10 with value: 1.0.\n",
            "[I 2024-12-04 23:31:07,263] Trial 23 finished with value: 1.0 and parameters: {'max_depth': 6, 'n_estimators': 200, 'learning_rate': 0.959892320690256}. Best is trial 10 with value: 1.0.\n",
            "[I 2024-12-04 23:31:07,414] Trial 24 finished with value: 0.9903536977491961 and parameters: {'max_depth': 3, 'n_estimators': 170, 'learning_rate': 0.026186396648887677}. Best is trial 10 with value: 1.0.\n",
            "[I 2024-12-04 23:31:07,551] Trial 25 finished with value: 0.9967845659163987 and parameters: {'max_depth': 5, 'n_estimators': 150, 'learning_rate': 0.37560090559015513}. Best is trial 10 with value: 1.0.\n",
            "[I 2024-12-04 23:31:07,720] Trial 26 finished with value: 0.9903536977491961 and parameters: {'max_depth': 2, 'n_estimators': 186, 'learning_rate': 0.04418260816200709}. Best is trial 10 with value: 1.0.\n",
            "[I 2024-12-04 23:31:07,858] Trial 27 finished with value: 1.0 and parameters: {'max_depth': 7, 'n_estimators': 133, 'learning_rate': 0.2380835023300236}. Best is trial 10 with value: 1.0.\n",
            "[I 2024-12-04 23:31:07,996] Trial 28 finished with value: 0.9967637540453075 and parameters: {'max_depth': 4, 'n_estimators': 160, 'learning_rate': 0.9298924883640173}. Best is trial 10 with value: 1.0.\n",
            "[I 2024-12-04 23:31:08,148] Trial 29 finished with value: 0.9870967741935484 and parameters: {'max_depth': 3, 'n_estimators': 186, 'learning_rate': 0.005103657198514917}. Best is trial 10 with value: 1.0.\n"
          ]
        }
      ],
      "source": [
        "#TEST_CELL\n",
        "study = optuna.create_study(\n",
        "    direction=\"maximize\",\n",
        "    storage=\"sqlite:///hp.db\",\n",
        "    study_name=\"circles\",\n",
        "    )\n",
        "study.optimize(func=objective, n_trials=30, n_jobs=1)"
      ]
    },
    {
      "cell_type": "markdown",
      "metadata": {
        "id": "uPtpO2in7Uao"
      },
      "source": [
        "Si se dirige al dashboard de `mlflow`, deberá obtener varias ejecuciones bajo el nombre `optuna`. Puede filtrarlas todas al poner el filtro que se muestra en la imagen:\n",
        "\n",
        "<img src=\"https://drive.google.com/uc?export=view&id=1j_7LYVWNADfVTW3YqUzhpcEHOaEPXXZ7\" width=\"80%\">\n",
        "\n",
        "También debe seleccionar todos los runs con el nombre `optuna` y dar click en `compare`. Esto debe generar el siguiente resultado:\n",
        "\n",
        "<img src=\"https://drive.google.com/uc?export=view&id=1CFnfmGdu0pgUbrGri-T8oNSafxQZAHSn\" width=\"80%\">"
      ]
    },
    {
      "cell_type": "markdown",
      "metadata": {
        "id": "x5Fry6wP7B1G"
      },
      "source": [
        "<details>    \n",
        "<summary>\n",
        "    <font size=\"3\" color=\"darkgreen\"><b>Pista 1</b></font>\n",
        "</summary>\n",
        "\n",
        "* Puede utilizar el método `suggest_int` de un `Trial` para generar un hiperparámetro de tipo entero.\n",
        "</details>"
      ]
    },
    {
      "cell_type": "markdown",
      "metadata": {
        "id": "_YaK4jSV7B1G"
      },
      "source": [
        "<details>    \n",
        "<summary>\n",
        "    <font size=\"3\" color=\"darkgreen\"><b>Pista 2</b></font>\n",
        "</summary>\n",
        "\n",
        "* Puede utilizar el método `suggest_float` de un `Trial` para generar un hiperparámetro continúo.\n",
        "</details>"
      ]
    },
    {
      "cell_type": "markdown",
      "metadata": {
        "id": "iP2-ECPP_OLj"
      },
      "source": [
        "## **5. Versionado de Modelo**\n",
        "---\n",
        "\n",
        "Por último, en este punto deberá generar una versión del mejor modelo con el nombre `xgboost` versión 1. Posteriormente, debe implementar una función que permita cargar el modelo:\n",
        "\n",
        "Para esto deberá implementar la función `load_model` la cual debe retornar el modelo versionado como `xgboost` versión 1:\n",
        "\n",
        "**Parámetros**\n",
        "\n",
        "La función no tiene parámetros de entrada.\n",
        "\n",
        "**Retorna**\n",
        "\n",
        "- `model`: modelo cargado con `mlflow`."
      ]
    },
    {
      "cell_type": "code",
      "source": [
        "import mlflow\n",
        "import mlflow.sklearn\n",
        "from mlflow.tracking import MlflowClient\n",
        "\n",
        "def register_best_model(exp_name, model_name=\"xgboost\"):\n",
        "    \"\"\"\n",
        "    Registra el mejor modelo basado en el F1-score como un modelo versionado en MLflow.\n",
        "\n",
        "    Args:\n",
        "        exp_name (str): Nombre del experimento en MLflow.\n",
        "        model_name (str): Nombre del modelo a registrar (por defecto \"xgboost\").\n",
        "    \"\"\"\n",
        "    client = MlflowClient()\n",
        "\n",
        "    # Obtener las ejecuciones del experimento ordenadas por f1_score\n",
        "    experiment = client.get_experiment_by_name(exp_name)\n",
        "    if not experiment:\n",
        "        raise ValueError(f\"No se encontró un experimento con el nombre {exp_name}\")\n",
        "\n",
        "    runs = client.search_runs(\n",
        "        experiment_ids=[experiment.experiment_id],\n",
        "        order_by=[\"metrics.f1_score DESC\"],  # Ordenar por F1-score de mayor a menor\n",
        "        max_results=1\n",
        "    )\n",
        "    if not runs:\n",
        "        raise ValueError(\"No se encontraron ejecuciones para el experimento.\")\n",
        "\n",
        "    # Obtener la ejecución con el mejor F1-score\n",
        "    best_run = runs[0]\n",
        "    run_id = best_run.info.run_id\n",
        "\n",
        "    # Registrar el modelo como xgboost versión 1\n",
        "    model_uri = f\"runs:/{run_id}/model\"\n",
        "    mlflow.register_model(model_uri, model_name)\n",
        "\n",
        "    print(f\"Modelo registrado como {model_name}, versión 1\")"
      ],
      "metadata": {
        "id": "5Khf31ZGGKd2"
      },
      "execution_count": 36,
      "outputs": []
    },
    {
      "cell_type": "code",
      "execution_count": 30,
      "metadata": {
        "id": "Lqp6TLL9_Q7Q"
      },
      "outputs": [],
      "source": [
        "# FUNCIÓN CALIFICADA load_model:\n",
        "def load_model():\n",
        "    ### ESCRIBA SU CÓDIGO AQUÍ ###\n",
        "    model_name = 'xgboost'\n",
        "    model_version = 1\n",
        "    model = mlflow.pyfunc.load_model(f\"models:/{model_name}/{model_version}\")\n",
        "    return model\n",
        "    ### FIN DEL CÓDIGO ###"
      ]
    },
    {
      "cell_type": "markdown",
      "metadata": {
        "id": "JoJ0zGP0_o7K"
      },
      "source": [
        "Use las siguientes celdas para probar su solución:"
      ]
    },
    {
      "cell_type": "code",
      "execution_count": 37,
      "metadata": {
        "id": "LEd0FhS4_o7K",
        "colab": {
          "base_uri": "https://localhost:8080/"
        },
        "outputId": "5d6cfdbb-36f1-4486-e021-f63b41f86ba0"
      },
      "outputs": [
        {
          "output_type": "stream",
          "name": "stdout",
          "text": [
            "0.9770491803278688\n"
          ]
        }
      ],
      "source": [
        "#TEST_CELL\n",
        "model = load_model()\n",
        "y_pred = model.predict(features_test)\n",
        "print(f1_score(labels_test, y_pred))"
      ]
    },
    {
      "cell_type": "markdown",
      "metadata": {
        "id": "bU9Zr2MLAt4U"
      },
      "source": [
        "**Salida esperada**\n",
        "\n",
        "En este caso debería obtener la métrica sobre el mejor modelo en el conjunto de evaluación.\n",
        "\n",
        "```python\n",
        "❱ print(f1_score(labels_test, y_pred))\n",
        "0.9871794871794872\n",
        "```"
      ]
    },
    {
      "cell_type": "markdown",
      "metadata": {
        "id": "JNpDr2nz_o7L"
      },
      "source": [
        "<details>    \n",
        "<summary>\n",
        "    <font size=\"3\" color=\"darkgreen\"><b>Pista 1</b></font>\n",
        "</summary>\n",
        "\n",
        "* Recuerde versionar el modelo antes de cargarlo.\n",
        "</details>"
      ]
    },
    {
      "cell_type": "markdown",
      "metadata": {
        "id": "1EJomlPq_o7L"
      },
      "source": [
        "<details>    \n",
        "<summary>\n",
        "    <font size=\"3\" color=\"darkgreen\"><b>Pista 2</b></font>\n",
        "</summary>\n",
        "\n",
        "* Puede ordenar las ejecuciones de `mlflow` de acuerdo a `score` y con esto seleccionar el mejor modelo.\n",
        "</details>"
      ]
    },
    {
      "cell_type": "markdown",
      "metadata": {
        "id": "oev60MFfBD8E"
      },
      "source": [
        "<details>    \n",
        "<summary>\n",
        "    <font size=\"3\" color=\"darkgreen\"><b>Pista 3</b></font>\n",
        "</summary>\n",
        "\n",
        "* Puede cargar un modelo versionado con la función `mlflow.pyfunc.load_model`.\n",
        "</details>"
      ]
    },
    {
      "cell_type": "markdown",
      "metadata": {
        "id": "KcjdqBWg_o7L"
      },
      "source": [
        "#### **Evaluar código**"
      ]
    },
    {
      "cell_type": "code",
      "execution_count": 38,
      "metadata": {
        "id": "npeYuO35_o7N",
        "colab": {
          "base_uri": "https://localhost:8080/",
          "height": 141
        },
        "outputId": "ac4a07b1-c3bf-4cd5-a82c-91d5ffafeed6"
      },
      "outputs": [
        {
          "output_type": "stream",
          "name": "stdout",
          "text": [
            "Test 5_1\n"
          ]
        },
        {
          "output_type": "display_data",
          "data": {
            "text/plain": [
              "<IPython.core.display.HTML object>"
            ],
            "text/html": [
              "<h4>Test Run correctly</h4>"
            ]
          },
          "metadata": {}
        },
        {
          "output_type": "display_data",
          "data": {
            "text/plain": [
              "<IPython.core.display.HTML object>"
            ],
            "text/html": [
              "<h6 style=\"color: green;\">Your test grade: 100</h6>\n",
              "<h6>Feedback: Probando código ejemplo.</h6>"
            ]
          },
          "metadata": {}
        }
      ],
      "source": [
        "grader.run_test(\"Test 5_1\", globals())"
      ]
    },
    {
      "cell_type": "markdown",
      "metadata": {
        "id": "08eh8HTknUDd"
      },
      "source": [
        "# **Evaluación**"
      ]
    },
    {
      "cell_type": "code",
      "execution_count": 39,
      "metadata": {
        "id": "pb0DP1bWwRll",
        "colab": {
          "base_uri": "https://localhost:8080/",
          "height": 828
        },
        "outputId": "cb6e52d2-67fa-4348-ceaa-5d14ddae7bc3"
      },
      "outputs": [
        {
          "output_type": "stream",
          "name": "stdout",
          "text": [
            "Test 1_1\n",
            "Test 2_1_1\n",
            "Test 2_1_2\n",
            "Test 3_1_1\n"
          ]
        },
        {
          "output_type": "stream",
          "name": "stderr",
          "text": [
            "2024/12/04 23:57:54 WARNING mlflow.models.model: Model logged without a signature and input example. Please set `input_example` parameter when logging the model to auto infer the model signature.\n"
          ]
        },
        {
          "output_type": "stream",
          "name": "stdout",
          "text": [
            "🏃 View run UNTest_1 at: http://localhost:5000/#/experiments/2/runs/48f5c3cecb5a405297c8e540dbe2efd4\n",
            "🧪 View experiment at: http://localhost:5000/#/experiments/2\n"
          ]
        },
        {
          "output_type": "stream",
          "name": "stderr",
          "text": [
            "2024/12/04 23:57:58 WARNING mlflow.models.model: Model logged without a signature and input example. Please set `input_example` parameter when logging the model to auto infer the model signature.\n"
          ]
        },
        {
          "output_type": "stream",
          "name": "stdout",
          "text": [
            "🏃 View run UNTest_1 at: http://localhost:5000/#/experiments/1/runs/4ee74c399382470eb540f2741781fba9\n",
            "🧪 View experiment at: http://localhost:5000/#/experiments/1\n",
            "Test 3_1_2\n"
          ]
        },
        {
          "output_type": "stream",
          "name": "stderr",
          "text": [
            "2024/12/04 23:58:01 WARNING mlflow.models.model: Model logged without a signature and input example. Please set `input_example` parameter when logging the model to auto infer the model signature.\n"
          ]
        },
        {
          "output_type": "stream",
          "name": "stdout",
          "text": [
            "🏃 View run UNTest_2 at: http://localhost:5000/#/experiments/2/runs/3b73cffed25848f29e5c2ca2fc45f388\n",
            "🧪 View experiment at: http://localhost:5000/#/experiments/2\n"
          ]
        },
        {
          "output_type": "stream",
          "name": "stderr",
          "text": [
            "2024/12/04 23:58:04 WARNING mlflow.models.model: Model logged without a signature and input example. Please set `input_example` parameter when logging the model to auto infer the model signature.\n"
          ]
        },
        {
          "output_type": "stream",
          "name": "stdout",
          "text": [
            "🏃 View run UNTest_2 at: http://localhost:5000/#/experiments/1/runs/c03f4e771608444b836b609a417e04c3\n",
            "🧪 View experiment at: http://localhost:5000/#/experiments/1\n",
            "Test 5_1\n"
          ]
        },
        {
          "output_type": "display_data",
          "data": {
            "text/plain": [
              "<IPython.core.display.HTML object>"
            ],
            "text/html": [
              "<h3>Grading succeeded</h3>"
            ]
          },
          "metadata": {}
        },
        {
          "output_type": "display_data",
          "data": {
            "text/plain": [
              "<IPython.core.display.HTML object>"
            ],
            "text/html": [
              "<h6 style=\"color: green;\">TEST Test 1_1 , Your test grade: 100</h6>\n",
              "<h6>Feedback: Probando código ejemplo.</h6>"
            ]
          },
          "metadata": {}
        },
        {
          "output_type": "display_data",
          "data": {
            "text/plain": [
              "<IPython.core.display.HTML object>"
            ],
            "text/html": [
              "<h6 style=\"color: green;\">TEST Test 2_1_1 , Your test grade: 100</h6>\n",
              "<h6>Feedback: Probando código ejemplo.</h6>"
            ]
          },
          "metadata": {}
        },
        {
          "output_type": "display_data",
          "data": {
            "text/plain": [
              "<IPython.core.display.HTML object>"
            ],
            "text/html": [
              "<h6 style=\"color: green;\">TEST Test 2_1_2 , Your test grade: 100</h6>\n",
              "<h6>Feedback: Probando código ejemplo.</h6>"
            ]
          },
          "metadata": {}
        },
        {
          "output_type": "display_data",
          "data": {
            "text/plain": [
              "<IPython.core.display.HTML object>"
            ],
            "text/html": [
              "<h6 style=\"color: green;\">TEST Test 3_1_1 , Your test grade: 100</h6>\n",
              "<h6>Feedback: Probando código ejemplo.</h6>"
            ]
          },
          "metadata": {}
        },
        {
          "output_type": "display_data",
          "data": {
            "text/plain": [
              "<IPython.core.display.HTML object>"
            ],
            "text/html": [
              "<h6 style=\"color: green;\">TEST Test 3_1_2 , Your test grade: 100</h6>\n",
              "<h6>Feedback: Probando código ejemplo.</h6>"
            ]
          },
          "metadata": {}
        },
        {
          "output_type": "display_data",
          "data": {
            "text/plain": [
              "<IPython.core.display.HTML object>"
            ],
            "text/html": [
              "<h6 style=\"color: green;\">TEST Test 5_1 , Your test grade: 100</h6>\n",
              "<h6>Feedback: Probando código ejemplo.</h6>"
            ]
          },
          "metadata": {}
        },
        {
          "output_type": "display_data",
          "data": {
            "text/plain": [
              "<IPython.core.display.HTML object>"
            ],
            "text/html": [
              "<h3 style=\"color: purple;\">Your submission grade: \"100.0%\"</h3>"
            ]
          },
          "metadata": {}
        }
      ],
      "source": [
        "grader.submit_task(globals())"
      ]
    },
    {
      "cell_type": "markdown",
      "metadata": {
        "id": "xwLqFy8Zzet_"
      },
      "source": [
        "# **Créditos**\n",
        "---\n",
        "\n",
        "* **Profesor:** [Jorge E. Camargo, PhD](https://dis.unal.edu.co/~jecamargom/).\n",
        "\n",
        "* **Asistentes docentes:** [Juan Sebastián Lara Ramírez](https://www.linkedin.com/in/juan-sebastian-lara-ramirez-43570a214/).\n",
        "* **Diseño de imágenes:**\n",
        "  - [Rosa Alejandra Superlano Esquibel](https://www.linkedin.com/in/alejandra-superlano-02b74313a/).\n",
        "  - [Mario Andrés Rodríguez Triana](mailto:mrodrigueztr@unal.edu.co).\n",
        "\n",
        "* **Coordinador de virtualización:** [Edder Hernández Forero](https://www.linkedin.com/in/edder-hernandez-forero-28aa8b207/).\n",
        "\n",
        "**Universidad Nacional de Colombia** - *Facultad de Ingeniería*"
      ]
    }
  ],
  "metadata": {
    "colab": {
      "provenance": [],
      "gpuType": "T4",
      "include_colab_link": true
    },
    "kernelspec": {
      "display_name": "Python 3",
      "name": "python3"
    },
    "language_info": {
      "name": "python"
    },
    "accelerator": "GPU"
  },
  "nbformat": 4,
  "nbformat_minor": 0
}