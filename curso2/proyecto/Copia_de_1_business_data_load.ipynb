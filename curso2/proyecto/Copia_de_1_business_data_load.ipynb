{
  "cells": [
    {
      "cell_type": "markdown",
      "id": "585dcbfa",
      "metadata": {
        "id": "585dcbfa"
      },
      "source": [
        "<img src = \"https://drive.google.com/uc?export=view&id=1Md0grlXXV4fB0bkYuMWzBiS64RvjaFGX\" alt = \"Encabezado MLDS\" width = \"100%\">  </img>"
      ]
    },
    {
      "cell_type": "markdown",
      "id": "82ea3b5e",
      "metadata": {
        "id": "82ea3b5e"
      },
      "source": [
        "# **Entendimiento del Negocio y Carga de Datos**\n",
        "---\n",
        "\n",
        "## Integrantes del Grupo:\n",
        "\n",
        "\n",
        "\n",
        "|**Integrantes**                            | **Correo** |\n",
        "|------------------------------------------|---------------------------------------------------------------------------------------------------|\n",
        "|Juan Esteban López Cardona | juanes1793@gmail.com                |\n",
        "|Nelson Ferrucho  González | nelson.ferrucho@gmail.com              |\n",
        "|Andres Camilo Rodriguez Patarroyo |                |\n",
        "\n",
        "\n",
        "\n",
        "\n"
      ]
    },
    {
      "cell_type": "markdown",
      "id": "fdb4c33d",
      "metadata": {
        "id": "fdb4c33d"
      },
      "source": [
        "## **1. Marco de Proyecto**\n",
        "---\n",
        "\n",
        "## **Objetivos del negocio**\n",
        "\n",
        "El objetivo principal del negocio es mejorar la experiencia del usuario en la aplicación de Amazon Shopping al analizar de forma eficiente el feedback de los clientes. Esto permitirá a Amazon identificar áreas de mejora en su plataforma.\n",
        "\n",
        "El análisis  ayudará a detectar problemas clave con la app, como errores en funcionalidades, o frustración con procesos como las devoluciones."
      ]
    },
    {
      "cell_type": "markdown",
      "id": "7a974ec1",
      "metadata": {
        "id": "7a974ec1"
      },
      "source": [
        "### **1.1. Trasfondo del Negocio**\n",
        "---\n",
        "\n",
        "- **¿Quién es el cliente o los beneficiarios del proyecto?**\n",
        "\n",
        "  El cliente es el equipo de Amazon Shopping, específicamente las áreas de atención al cliente, marketing y gestión de producto. Los beneficiarios incluyen los gerentes de producto, analistas de marketing y el equipo de atención al cliente, que dependen de una interpretación precisa de los comentarios de los usuarios para mejorar la experiencia del cliente y la calidad de la aplicación.\n",
        "\n",
        "- **¿En qué dominio se encuentran?**\n",
        "\n",
        "  Este proyecto se ubica dentro del dominio del marketing y la experiencia del cliente en el contexto del comercio electrónico (e-commerce). El análisis de sentimientos en las reseñas permite a las empresas obtener insights valiosos sobre la percepción de los usuarios respecto a la aplicación y los servicios ofrecidos.\n",
        "\n",
        "\n",
        "- **¿Qué problemas del negocio o del dominio estamos tratando de solucionar?**\n",
        "\n",
        "  El principal problema que intentamos abordar es mejorar la experiencia del cliente mediante el análisis de reseñas para entender qué aspectos de la aplicación o del servicio necesitan optimización. A menudo, Amazon recibe una gran cantidad de reseñas que no se pueden analizar manualmente, lo que dificulta identificar de forma rápida los problemas críticos que enfrentan los usuarios. Al utilizar técnicas de análisis de sentimiento, Amazon podrá priorizar las áreas de mejora (por ejemplo, identificar problemas en versiones específicas de la app o servicios como devoluciones)."
      ]
    },
    {
      "cell_type": "markdown",
      "id": "d09c63e5",
      "metadata": {
        "id": "d09c63e5"
      },
      "source": [
        "### **1.2. Alcance**\n",
        "---\n",
        "\n",
        "\n",
        "\n",
        "- **¿Qué  solución de _Deep Learning_  queremos implementar**\n",
        "\n",
        "  Estamos implementando un sistema de análisis de sentimientos utilizando técnicas de CNN-Convolucional para clasificar automáticamente las reseñas en tres categorías principales: positivas, negativas, y neutras. Esto permitirá a Amazon obtener una visión agregada de cómo los usuarios perciben su aplicación, a lo largo del tiempo y según las versiones de la misma.\n",
        "\n",
        "- **¿Qué  se hará?**\n",
        "\n",
        " Se desarrollará un modelo de clasificación de sentimientos basado en las reseñas de los usuarios. Este proceso incluye las siguientes etapas:\n",
        "\n",
        "  - Extracción de datos: utilizamos los datos previamente limpiados y preprocesados (eliminación de caracteres no deseados, manejo de valores nulos, tokenización, etc.), procesos que se realizaron en un proyecto base de NLP.\n",
        "\n",
        "  - Etiquetado de sentimientos: Se etiquetarán los datos en tres clases: positivo, negativo o neutral, utilizando tanto métodos automáticos como revisión manual para asegurar la precisión.\n",
        "\n",
        "  - Entrenamiento de modelo: Se evaluará y seleccionará un modelo de redes neuronales siguientes: CNN-convolucional, GRU o LSTM para análisis de sentimientos, o modelos más avanzados como transformers (e.g., BERT).\n",
        "\n",
        "  - Validación y Evaluación: El modelo será validado y evaluado utilizando\n",
        "  métricas como precisión, recall, y F1-score.\n",
        "\n",
        "- **¿De qué forma el cliente o beneficiario utilizará el producto del proyecto**\n",
        "\n",
        "    El cliente utilizará los resultados del análisis de sentimiento para:\n",
        "\n",
        "    - Priorizar mejoras en la aplicación basándose en el feedback negativo o en tendencias de problemas recurrentes.\n",
        "\n",
        "    - Realizar informes sobre la satisfacción del cliente en función de las versiones de la app y las funcionalidades afectadas.\n",
        "\n",
        "    - Monitorear el impacto de cambios en el servicio o la aplicación mediante la comparación de sentimientos antes y después de lanzamientos importantes.\n",
        "\n",
        "    - Optimizar la atención al cliente, enfocándose en casos que muestran tendencias negativas recurrentes."
      ]
    },
    {
      "cell_type": "markdown",
      "id": "370e4a5d",
      "metadata": {
        "id": "370e4a5d"
      },
      "source": [
        "### **1.3. Plan**\n",
        "\n",
        "\n",
        "| **Actividad**                            | **Duración Estimada** | **Descripción**                                                                                   |\n",
        "|------------------------------------------|-----------------------|---------------------------------------------------------------------------------------------------|\n",
        "| **1. Preparacion de los datos:** | 3 días                | Tratamiento de los  datos de reseñas, análisis exploratorio inicial, y limpieza básica de los datos. |\n",
        "| **2. Preprocesamiento de los datos**      | 5 días                | Utiliza una función de preprocesamiento como la que ya has desarrollado en trabajos anteriores : limpieza detallada del texto (tokenización, stopwords, normalización) y manejo de puntuaciones.     |\n",
        "| **3. Etiquetado de sentimientos**         | 4 días                | Etiquetado de los datos en **positivo**, **negativo**, y **neutral** mediante métodos automáticos y revisión manual de un subconjunto. |\n",
        "| **4. Selección de modelo y entrenamiento** | 7 días                | Definición de capas embedding, capa convolucional, capa de pooling y capa de salida; evaluar modelo neuronales GRU y LSTM para analisis de sentimientos de texto, realizar pruebas iniciales con modelos avanzados (ej. BERT), para realizar una seleccion y comparacion|\n",
        "| **5. Aplicacion y Compilacion  del modelo**     | 3 días                | Establecer la funcion de perdida, la optimizacion y metricas para el modelo. |\n",
        "| **6. Entrenamiento del modelo**     | 5 días                | Evaluación del modelo usando **precisión**, **recall**, y **F1-score**. Ajuste de hiperparámetros para mejorar rendimiento. |\n",
        "| **7. Evaluacion de resultados**        | 3 días                |Presentacion de resultados obtener métricas como accuracy, precision, recall, y F1-score. Recomendaciones de acuerdo a la interpratación de los datos       |\n",
        "\n"
      ]
    },
    {
      "cell_type": "markdown",
      "id": "4a4e145b",
      "metadata": {
        "id": "4a4e145b"
      },
      "source": [
        "## **2. Datos**\n",
        "---\n",
        "\n"
      ]
    },
    {
      "cell_type": "markdown",
      "id": "2c5f8274",
      "metadata": {
        "id": "2c5f8274"
      },
      "source": [
        "### **2.1. Origen**\n",
        "---\n",
        "\n",
        "**- ¿De dónde vienen los datos?**\n",
        "  El corpus es un dataset tomado de Kaggle que contiene un conjunto de datos o reviews sobre una aplicación de Amazon llamada Amazon Shopping App. Acá el link del dataset: [Dataset Amazon Shopping App](https://www.kaggle.com/datasets/ashishkumarak/amazon-shopping-reviews-daily-updated?resource=download/)\n",
        "\n",
        "**- ¿Se usa alguna herramienta o proceso para la descarga de la información?**\n",
        "  Para el proceso de la carga del dataset, continuamos con el conjunto de datos tratados en el curso NLP, dichos datos ya se encuentran balanceados:\n",
        "\n",
        "  1.   Descargams nuestro dataset anterior y lo definimos como un CSV para este analisis, de esta forma tenemos un inicio puntual para nuestra proyecto.\n",
        "\n",
        "  2.   Se abre el link mediante una función de pandas y lo trabajos como un dataframe en GoogleColab.\n",
        "\n",
        "\n",
        "**- ¿Qué tipo de datos estamos manejando?**\n",
        "\n",
        "  El tipo de texto que se está manejando en este dataset son reseñas de usuarios de la aplicación Amazon Shopping. Este tipo de texto cuenta con las siguientes características:\n",
        "\n",
        "  1.   Lenguaje natural informal: Los usuarios tienden a escribir con estilo informal.\n",
        "\n",
        "  2.   Opiniones subjetivas.\n",
        "\n",
        "  3.  Texto corto o mediano.\n"
      ]
    },
    {
      "cell_type": "markdown",
      "id": "4a9cc180",
      "metadata": {
        "id": "4a9cc180"
      },
      "source": [
        "### **2.2. Carga o Adquisición de Datos**\n",
        "---\n",
        "\n",
        "Agregue el código necesario en _Python_ para obtener o cargar los datos."
      ]
    },
    {
      "cell_type": "code",
      "execution_count": null,
      "id": "1b580368",
      "metadata": {
        "id": "1b580368"
      },
      "outputs": [],
      "source": [
        "import pandas as pd\n"
      ]
    },
    {
      "cell_type": "code",
      "source": [
        "url = \"https://raw.githubusercontent.com/Juanes1793/AmazonDataset_reviews/main/amazon_reviews.csv\"\n",
        "df = pd.read_csv(url)\n",
        "df.sample(10)"
      ],
      "metadata": {
        "id": "cy4MfjWhSl8H"
      },
      "id": "cy4MfjWhSl8H",
      "execution_count": null,
      "outputs": []
    },
    {
      "cell_type": "markdown",
      "id": "698f42d4",
      "metadata": {
        "id": "698f42d4"
      },
      "source": [
        "## **Créditos**\n",
        "\n",
        "* **Profesor:** [Fabio Augusto Gonzalez](https://dis.unal.edu.co/~fgonza/)\n",
        "* **Asistentes docentes :**\n",
        "  * [Santiago Toledo Cortés](https://sites.google.com/unal.edu.co/santiagotoledo-cortes/)\n",
        "* **Diseño de imágenes:**\n",
        "    - [Mario Andres Rodriguez Triana](https://www.linkedin.com/in/mario-andres-rodriguez-triana-394806145/).\n",
        "* **Coordinador de virtualización:**\n",
        "    - [Edder Hernández Forero](https://www.linkedin.com/in/edder-hernandez-forero-28aa8b207/).\n",
        "\n",
        "**Universidad Nacional de Colombia** - *Facultad de Ingeniería*"
      ]
    }
  ],
  "metadata": {
    "jupytext": {
      "cell_metadata_filter": "-all"
    },
    "kernelspec": {
      "display_name": "Python 3 (ipykernel)",
      "language": "python",
      "name": "python3"
    },
    "colab": {
      "provenance": []
    }
  },
  "nbformat": 4,
  "nbformat_minor": 5
}