{
  "cells": [
    {
      "cell_type": "markdown",
      "metadata": {
        "id": "view-in-github",
        "colab_type": "text"
      },
      "source": [
        "<a href=\"https://colab.research.google.com/github/nferrucho/NPL/blob/main/Copia_de_2_obtencion_textos.ipynb\" target=\"_parent\"><img src=\"https://colab.research.google.com/assets/colab-badge.svg\" alt=\"Open In Colab\"/></a>"
      ]
    },
    {
      "cell_type": "markdown",
      "id": "e72503c7",
      "metadata": {
        "id": "e72503c7"
      },
      "source": [
        "<img src=\"https://drive.google.com/uc?export=view&id=1pWL34MWc1rS0peIekOBe8GGBIEUFPyrG\" width=\"100%\">"
      ]
    },
    {
      "cell_type": "markdown",
      "id": "829617ab",
      "metadata": {
        "id": "829617ab"
      },
      "source": [
        "# **Obtención de Textos desde _Python_**\n",
        "---\n",
        "\n",
        "En algunos casos no podemos cargar información textual directamente desde un archivo plano o desde un formato estándar como `json`. En estos casos debemos realizar un proceso comúnmente conocido como **parsing** para extraer textos desde distintas fuentes. En este taller guiado veremos las fuentes de textos más típicas y cómo podemos extraer información de ellas, en especial:\n",
        "\n",
        "* Extracción de texto en archivos `pdf`.\n",
        "* Extracción de texto en imágenes con `ocr`.\n",
        "* Extracción de texto desde la web."
      ]
    },
    {
      "cell_type": "markdown",
      "id": "2a54e729",
      "metadata": {
        "id": "2a54e729"
      },
      "source": [
        "## **1. Extracción de Texto en Archivos PDF**\n",
        "---\n",
        "\n",
        "El formato de archivos `pdf` (Portable Document Format) fue creado por *Adobe* en 1992 para presentar documentos con contenido basado en texto e imágenes. Este tipo de archivos se caracterizan por almacenar la información en un formato generalmente binario de forma compacta y eficiente."
      ]
    },
    {
      "cell_type": "markdown",
      "id": "f65d6704",
      "metadata": {
        "id": "f65d6704"
      },
      "source": [
        "### **1.1. Instalación**\n",
        "---\n",
        "\n",
        "Para el ejercicio de obtención de información textual a partir de archivos `pdf` haremos uso de la herramienta [MuPDF](https://mupdf.com/). Se trata de una herramienta simple que permite extraer información de archivos en formato `pdf` con facilidad.\n",
        "\n",
        "<img src=\"https://drive.google.com/uc?export=view&id=1tuK7RZPWBXVG1n7VswLGcY_xUkJ2yawb\" width=\"30%\">\n",
        "\n",
        "En específico, usaremos la librería `pymupdf` para extraer información de archivos `pdf` desde _Python_. Adicionalmente, instalamos la librería `Pillow` para manejo de imágenes desde _Python_:"
      ]
    },
    {
      "cell_type": "code",
      "execution_count": null,
      "id": "b6e2f0b4",
      "metadata": {
        "id": "b6e2f0b4"
      },
      "outputs": [],
      "source": [
        "!pip install Pillow==9.4.0\n",
        "!pip install pymupdf"
      ]
    },
    {
      "cell_type": "markdown",
      "id": "742b46d7",
      "metadata": {
        "id": "742b46d7"
      },
      "source": [
        "> **NOTA**: Después de la instalación, es posible que Google Colaboratory le pida reiniciar el entorno de ejecución (*RUNTIME*). Puede hacerlo, haciendo clic en el botón `RESTART RUNTIME` antes de continuar.\n",
        " <img src=\"https://drive.google.com/uc?export=view&id=1x9WLH8bLR5i6yV-NoOheOmlVX2C9l07F\" width=\"80%\">"
      ]
    },
    {
      "cell_type": "markdown",
      "id": "c7657a9b",
      "metadata": {
        "id": "c7657a9b"
      },
      "source": [
        "La librería `pymupdf` se importa mediante el paquete `fitz`, como mostramos a continuación. También importamos otras librerías generales como `os` y `matplotlib` para visualización y validación del sistema de archivos."
      ]
    },
    {
      "cell_type": "code",
      "execution_count": null,
      "id": "cdbaec7a",
      "metadata": {
        "id": "cdbaec7a"
      },
      "outputs": [],
      "source": [
        "import fitz\n",
        "import os\n",
        "import matplotlib.pyplot as plt\n",
        "import matplotlib.image as mpimg"
      ]
    },
    {
      "cell_type": "markdown",
      "id": "52e8a940",
      "metadata": {
        "id": "52e8a940"
      },
      "source": [
        "### **1.2. Carga de Datos**\n",
        "---\n",
        "\n",
        "En este caso, veremos un ejemplo de carga, extracción y modificación de un archivo `pdf` que corresponde a un documento de [tesis de maestría](https://repositorio.unal.edu.co/handle/unal/78687) disponible en el repositorio digital de la Universidad Nacional de Colombia.\n",
        "\n",
        "Descargamos el archivo y lo guardamos como `tesis.pdf`:"
      ]
    },
    {
      "cell_type": "code",
      "execution_count": null,
      "id": "08f7c454",
      "metadata": {
        "id": "08f7c454"
      },
      "outputs": [],
      "source": [
        "!wget 'https://drive.google.com/uc?export=view&id=18Lef8IqqSCULq_MuUDn9cR_o1M4MXnGE' -O 'tesis.pdf'"
      ]
    },
    {
      "cell_type": "markdown",
      "id": "c29d03f4",
      "metadata": {
        "id": "c29d03f4"
      },
      "source": [
        "Podemos, corroborar que el archivo fue descargado correctamente y existe dentro de nuestro entorno en Google Colaboratory:"
      ]
    },
    {
      "cell_type": "code",
      "execution_count": null,
      "id": "0ff66135",
      "metadata": {
        "id": "0ff66135"
      },
      "outputs": [],
      "source": [
        "print(os.path.exists(\"tesis.pdf\"))"
      ]
    },
    {
      "cell_type": "markdown",
      "id": "71836b4d",
      "metadata": {
        "id": "71836b4d"
      },
      "source": [
        "También podemos corroborar el tamaño de este archivo:"
      ]
    },
    {
      "cell_type": "code",
      "execution_count": null,
      "id": "83893aa5",
      "metadata": {
        "id": "83893aa5"
      },
      "outputs": [],
      "source": [
        "nbytes = os.stat(\"tesis.pdf\").st_size\n",
        "megabytes = nbytes / (1024 ** 2)\n",
        "print(f\"El archivo tiene {megabytes:.2f} MB\")"
      ]
    },
    {
      "cell_type": "markdown",
      "id": "21e4e492",
      "metadata": {
        "id": "21e4e492"
      },
      "source": [
        "Veamos cómo obtener datos de este archivo con la librería `fitz`. Para comenzar a manipular el archivo `pdf` debemos leerlo desde la librería; para ello, hacemos uso de la función `fitz.open`, especificando la ruta del archivo como se muestra en la siguiente celda:"
      ]
    },
    {
      "cell_type": "code",
      "execution_count": null,
      "id": "b9e2b287",
      "metadata": {
        "id": "b9e2b287"
      },
      "outputs": [],
      "source": [
        "pdf = fitz.open(\"tesis.pdf\")"
      ]
    },
    {
      "cell_type": "markdown",
      "id": "df2e7509",
      "metadata": {
        "id": "df2e7509"
      },
      "source": [
        "Podemos validar que se cargó un objeto de tipo `Document` de `fitz`"
      ]
    },
    {
      "cell_type": "code",
      "execution_count": null,
      "id": "91e1a8bc",
      "metadata": {
        "id": "91e1a8bc"
      },
      "outputs": [],
      "source": [
        "print(type(pdf))"
      ]
    },
    {
      "cell_type": "markdown",
      "id": "dfbc8889",
      "metadata": {
        "id": "dfbc8889"
      },
      "source": [
        "### **1.3. Extracción de Metadatos**\n",
        "---\n",
        "\n",
        "Sobre este documento podemos comenzar a extraer metadatos generales como:\n",
        "\n",
        "* `author`: nombre del autor del documento.\n",
        "* `creationDate`: fecha de creación del documento.\n",
        "* `creator`: nombre del programa con el que fue creado el documento.\n",
        "* `encryption`: especifica si el archivo tiene algún mecanismo de encriptado.\n",
        "* `format`: tipo y versión del archivo cargado.\n",
        "* `keywords`: palabras clave asociadas al documento.\n",
        "* `modDate`: última fecha de modificación del documento.\n",
        "* `producer`: herramienta `pdf` usada para generar el archivo.\n",
        "* `subject`: resumen del documento.\n",
        "* `title`: título del documento.\n",
        "\n",
        "Para extraer estos valores, usamos el atributo `metadata` de un `Document` en `fitz` como se muestra a continuación:"
      ]
    },
    {
      "cell_type": "code",
      "execution_count": null,
      "id": "68c67382",
      "metadata": {
        "id": "68c67382"
      },
      "outputs": [],
      "source": [
        "print(pdf.metadata)"
      ]
    },
    {
      "cell_type": "markdown",
      "id": "33f4fc91",
      "metadata": {
        "id": "33f4fc91"
      },
      "source": [
        "También es posible extraer el número de páginas que tiene el documento, esto lo conseguimos al extraer la longitud del documento con la función `len`:"
      ]
    },
    {
      "cell_type": "code",
      "execution_count": null,
      "id": "54da9591",
      "metadata": {
        "id": "54da9591"
      },
      "outputs": [],
      "source": [
        "print(len(pdf))"
      ]
    },
    {
      "cell_type": "markdown",
      "id": "d7006ac8",
      "metadata": {
        "id": "d7006ac8"
      },
      "source": [
        "### **1.4. Extracción de Páginas**\n",
        "---\n",
        "\n",
        "Para extraer información de un documento dentro de `fitz` debemos extraer una página, esto lo hacemos con el método `load_page` de un `Document`:"
      ]
    },
    {
      "cell_type": "code",
      "execution_count": null,
      "id": "2279bce4",
      "metadata": {
        "id": "2279bce4"
      },
      "outputs": [],
      "source": [
        "page0 = pdf.load_page(0)"
      ]
    },
    {
      "cell_type": "markdown",
      "id": "eae8bb13",
      "metadata": {
        "id": "eae8bb13"
      },
      "source": [
        "En este caso, obtuvimos la página 0 del documento. Podemos validar su tipo:"
      ]
    },
    {
      "cell_type": "code",
      "execution_count": null,
      "id": "cdeb1e02",
      "metadata": {
        "id": "cdeb1e02"
      },
      "outputs": [],
      "source": [
        "print(type(page0))"
      ]
    },
    {
      "cell_type": "markdown",
      "id": "f1708a3d",
      "metadata": {
        "id": "f1708a3d"
      },
      "source": [
        "En especial, estaremos trabajando sobre el objeto `Page` para la extracción de información.\n",
        "\n",
        "Veamos un pantallazo de lo que contiene esta página con el método `get_pixmap` para obtener una imagen de la misma:"
      ]
    },
    {
      "cell_type": "code",
      "execution_count": null,
      "id": "31320be9",
      "metadata": {
        "id": "31320be9"
      },
      "outputs": [],
      "source": [
        "img = page0.get_pixmap()"
      ]
    },
    {
      "cell_type": "markdown",
      "id": "2ea99b6c",
      "metadata": {
        "id": "2ea99b6c"
      },
      "source": [
        "Podemos validar su tipo:"
      ]
    },
    {
      "cell_type": "code",
      "execution_count": null,
      "id": "339ce589",
      "metadata": {
        "id": "339ce589"
      },
      "outputs": [],
      "source": [
        "print(type(img))"
      ]
    },
    {
      "cell_type": "markdown",
      "id": "622dd2d4",
      "metadata": {
        "id": "622dd2d4"
      },
      "source": [
        "El objeto `Pixmap` puede exportarse como una imagen con el método `save` y especificando una ruta:"
      ]
    },
    {
      "cell_type": "code",
      "execution_count": null,
      "id": "b6049b77",
      "metadata": {
        "id": "b6049b77"
      },
      "outputs": [],
      "source": [
        "img.save(\"page0.png\")"
      ]
    },
    {
      "cell_type": "markdown",
      "id": "e9a522ef",
      "metadata": {
        "id": "e9a522ef"
      },
      "source": [
        "Podemos validar que la imagen se creó:"
      ]
    },
    {
      "cell_type": "code",
      "execution_count": null,
      "id": "30f5ed8e",
      "metadata": {
        "id": "30f5ed8e"
      },
      "outputs": [],
      "source": [
        "print(os.path.exists(\"page0.png\"))"
      ]
    },
    {
      "cell_type": "markdown",
      "id": "b39a3a80",
      "metadata": {
        "id": "b39a3a80"
      },
      "source": [
        "Veamos la imagen como una visualización de `matplotlib`. Primero, cargamos la imagen:"
      ]
    },
    {
      "cell_type": "code",
      "execution_count": null,
      "id": "01988784",
      "metadata": {
        "id": "01988784"
      },
      "outputs": [],
      "source": [
        "img = mpimg.imread(\"page0.png\")"
      ]
    },
    {
      "cell_type": "markdown",
      "id": "a2cf6c01",
      "metadata": {
        "id": "a2cf6c01"
      },
      "source": [
        "Ahora, podemos generar una gráfica de la misma:"
      ]
    },
    {
      "cell_type": "code",
      "execution_count": null,
      "id": "328614bc",
      "metadata": {
        "id": "328614bc"
      },
      "outputs": [],
      "source": [
        "fig, ax = plt.subplots(figsize=(7, 10))\n",
        "ax.imshow(img)\n",
        "ax.axis(\"off\")"
      ]
    },
    {
      "cell_type": "markdown",
      "id": "5f8adbd2",
      "metadata": {
        "id": "5f8adbd2"
      },
      "source": [
        "### **1.5. Extracción de Información**\n",
        "---\n",
        "\n",
        "A partir de una página podemos extraer su contenido textual con el método `get_text`, este recibe una opción para el parsing dentro de las siguientes:\n",
        "\n",
        "* `text`: obtiene el texto crudo con saltos de línea, sin detalles como formatos e imágenes.\n",
        "* `blocks`: obtiene los párrafos.\n",
        "* `words`: obtiene una lista de palabras.\n",
        "* `html`: genera una versión en formato html de la página con las imágenes embebidas.\n",
        "* `json`: guarda la información en formato JSON.\n",
        "* `xhtml`: similar al formato HTML.\n",
        "* `xml`: guarda la información textual en formato XML sin imágenes.\n",
        "\n",
        "Veamos cómo extraer el texto de la página que teníamos cargada:"
      ]
    },
    {
      "cell_type": "code",
      "execution_count": null,
      "id": "05f0d58c",
      "metadata": {
        "id": "05f0d58c"
      },
      "outputs": [],
      "source": [
        "text = page0.get_text(\"text\")\n",
        "print(text)"
      ]
    },
    {
      "cell_type": "markdown",
      "id": "54ae96ca",
      "metadata": {
        "id": "54ae96ca"
      },
      "source": [
        "También podemos extraer el texto de otra página:"
      ]
    },
    {
      "cell_type": "code",
      "execution_count": null,
      "id": "0d03f665",
      "metadata": {
        "id": "0d03f665"
      },
      "outputs": [],
      "source": [
        "text = (\n",
        "        pdf\n",
        "        .load_page(9)\n",
        "       .get_text(\"text\")\n",
        "        )\n",
        "print(text)"
      ]
    },
    {
      "cell_type": "markdown",
      "id": "f70066ec",
      "metadata": {
        "id": "f70066ec"
      },
      "source": [
        "Si deseamos cargar el texto del documento completo, podemos iterar sobre todas las páginas del mismo.\n",
        "\n",
        "Veamos un ejemplo:"
      ]
    },
    {
      "cell_type": "code",
      "execution_count": null,
      "id": "51ae4e74",
      "metadata": {
        "id": "51ae4e74"
      },
      "outputs": [],
      "source": [
        "texts = [page.get_text(\"text\") for page in pdf]"
      ]
    },
    {
      "cell_type": "markdown",
      "id": "74434d1c",
      "metadata": {
        "id": "74434d1c"
      },
      "source": [
        "Podemos corroborar que el total de las páginas fuese cargado:"
      ]
    },
    {
      "cell_type": "code",
      "execution_count": null,
      "id": "171bd3d1",
      "metadata": {
        "id": "171bd3d1"
      },
      "outputs": [],
      "source": [
        "print(len(texts))"
      ]
    },
    {
      "cell_type": "markdown",
      "id": "ccdd44d4",
      "metadata": {
        "id": "ccdd44d4"
      },
      "source": [
        "Veamos el texto de las primeras 10 páginas del documento:"
      ]
    },
    {
      "cell_type": "code",
      "execution_count": null,
      "id": "cc4d855b",
      "metadata": {
        "id": "cc4d855b"
      },
      "outputs": [],
      "source": [
        "for page in texts[:10]:\n",
        "    print(page)\n",
        "    print(\"---\")"
      ]
    },
    {
      "cell_type": "markdown",
      "id": "5f285563",
      "metadata": {
        "id": "5f285563"
      },
      "source": [
        "## **2. Extracción de Texto en Imágenes con OCR**\n",
        "---\n",
        "\n",
        "En muchas ocasiones la información textual se encuentra contenida dentro de imágenes debido a la naturaleza de su adquisición, por ejemplo, pantallazos, imágenes escaneadas, fotografías, entre otras. Ante esto, existe una metodología para la extracción de los textos conocida como reconocimiento óptico de caracteres: **Optical Character Recognition** (OCR).\n",
        "\n",
        "Se trata de un proceso en el que se identifican regiones dentro de una imagen que contienen información textual, como se muestra en la siguiente figura:\n",
        "\n",
        "<img src=\"https://drive.google.com/uc?export=view&id=1oNIJ70j29ruh3mtnfMcidthtdINCTavI\" width=\"65%\">"
      ]
    },
    {
      "cell_type": "markdown",
      "id": "bafa3494",
      "metadata": {
        "id": "bafa3494"
      },
      "source": [
        "### **2.1. Instalación**\n",
        "---\n",
        "\n",
        "Para hacer OCR desde _Python_ podemos usar la herramienta de software libre [Tesseract](https://tesseract-ocr.github.io/), la cual es financiada por Google desde el año 2005 y es considerado como uno de los motores de OCR de código abierto más precisos disponibles.\n",
        "\n",
        "<img src=\"https://drive.google.com/uc?export=view&id=14pllP0PotBSFg04WU1GAQYgLPliW9Kv-\" width=\"50%\">\n",
        "\n",
        "Veamos cómo instalar esta herramienta:"
      ]
    },
    {
      "cell_type": "code",
      "execution_count": null,
      "id": "cbe5f819",
      "metadata": {
        "id": "cbe5f819"
      },
      "outputs": [],
      "source": [
        "!apt install tesseract-ocr"
      ]
    },
    {
      "cell_type": "markdown",
      "id": "81d8eca1",
      "metadata": {
        "id": "81d8eca1"
      },
      "source": [
        "Si deseamos realizar OCR en español, debemos instalar el paquete de lenguaje para español con el siguiente comando:"
      ]
    },
    {
      "cell_type": "code",
      "execution_count": null,
      "id": "cab0581c",
      "metadata": {
        "id": "cab0581c"
      },
      "outputs": [],
      "source": [
        "!apt install tesseract-ocr-spa"
      ]
    },
    {
      "cell_type": "markdown",
      "id": "1f726266",
      "metadata": {
        "id": "1f726266"
      },
      "source": [
        "De forma general, puede instalar paquetes de alrededor de 124 idiomas distintos. Puede consultar el listado completo y el código de lenguaje en [este enlace](https://tesseract-ocr.github.io/tessdoc/Data-Files-in-different-versions.html).\n",
        "\n",
        "Para instalar otro paquete de idioma puede modificar el comando:\n",
        "\n",
        "```sh\n",
        "!apt install tesseract-ocr-<lang>\n",
        "```\n",
        "\n",
        "Reemplazando `<lang>` por un código de idioma. Por ejemplo, para instalar OCR para el francés (código de lenguaje `fra`):"
      ]
    },
    {
      "cell_type": "code",
      "execution_count": null,
      "id": "d44c9036",
      "metadata": {
        "id": "d44c9036"
      },
      "outputs": [],
      "source": [
        "!apt install tesseract-ocr-fra"
      ]
    },
    {
      "cell_type": "markdown",
      "id": "381abbab",
      "metadata": {
        "id": "381abbab"
      },
      "source": [
        "Adicionalmente, podemos realizar OCR desde _Python_ con la librería `pytesseract`, la cual da una interacción con la herramienta `tesseract`, veamos su instalación:"
      ]
    },
    {
      "cell_type": "code",
      "execution_count": null,
      "id": "95cd2086",
      "metadata": {
        "id": "95cd2086"
      },
      "outputs": [],
      "source": [
        "!pip install pytesseract"
      ]
    },
    {
      "cell_type": "markdown",
      "id": "3aa4889a",
      "metadata": {
        "id": "3aa4889a"
      },
      "source": [
        "Con esto, podemos proceder a importar y utilizar `pytesseract` para OCR desde _Python_:"
      ]
    },
    {
      "cell_type": "code",
      "execution_count": null,
      "id": "c2f621b0",
      "metadata": {
        "id": "c2f621b0"
      },
      "outputs": [],
      "source": [
        "import pytesseract"
      ]
    },
    {
      "cell_type": "markdown",
      "id": "6ecdb7c1",
      "metadata": {
        "id": "6ecdb7c1"
      },
      "source": [
        "El proceso de OCR con esta librería es sencillo y consta de dos pasos:\n",
        "\n",
        "1. Leer la imagen como un arreglo de `numpy`.\n",
        "2. Extraer el texto de la imagen."
      ]
    },
    {
      "cell_type": "markdown",
      "id": "d720c78c",
      "metadata": {
        "id": "d720c78c"
      },
      "source": [
        "### **2.2. Carga de Datos**\n",
        "---\n",
        "\n",
        "Veamos un ejemplo con una imagen con el poema **Madrigal** de **José Asunción Silva**, primero descargamos la imagen:"
      ]
    },
    {
      "cell_type": "code",
      "execution_count": null,
      "id": "36768c91",
      "metadata": {
        "id": "36768c91"
      },
      "outputs": [],
      "source": [
        "!wget 'https://drive.google.com/uc?export=view&id=1FY4OuPC2sdT1wnmPJsEjJ9qb21kxClPf' -O poema.png"
      ]
    },
    {
      "cell_type": "markdown",
      "id": "b735ea6f",
      "metadata": {
        "id": "b735ea6f"
      },
      "source": [
        "Ahora procedemos a cargar la imagen como un arreglo de `numpy`:"
      ]
    },
    {
      "cell_type": "code",
      "execution_count": null,
      "id": "95eac4aa",
      "metadata": {
        "id": "95eac4aa"
      },
      "outputs": [],
      "source": [
        "img = mpimg.imread(\"poema.png\")"
      ]
    },
    {
      "cell_type": "markdown",
      "id": "c5be9128",
      "metadata": {
        "id": "c5be9128"
      },
      "source": [
        "Podemos validar que efectivamente es un arreglo de `numpy`:"
      ]
    },
    {
      "cell_type": "code",
      "execution_count": null,
      "id": "1f4eb5f7",
      "metadata": {
        "id": "1f4eb5f7"
      },
      "outputs": [],
      "source": [
        "print(type(img))"
      ]
    },
    {
      "cell_type": "markdown",
      "id": "e76de10f",
      "metadata": {
        "id": "e76de10f"
      },
      "source": [
        "Así mismo, podemos ver el tamaño de esta imagen con el atributo `shape`:"
      ]
    },
    {
      "cell_type": "code",
      "execution_count": null,
      "id": "a2ca52e5",
      "metadata": {
        "id": "a2ca52e5"
      },
      "outputs": [],
      "source": [
        "print(img.shape)"
      ]
    },
    {
      "cell_type": "markdown",
      "id": "1e19e540",
      "metadata": {
        "id": "1e19e540"
      },
      "source": [
        "Como podemos ver, se trata de una imagen de dimensiones `(588, 813)` con 4 canales de color (rojo, verde, azul y transparencia).\n",
        "\n",
        "Podemos visualizar la imagen con `matplotlib`:"
      ]
    },
    {
      "cell_type": "code",
      "execution_count": null,
      "id": "20ac45ae",
      "metadata": {
        "id": "20ac45ae"
      },
      "outputs": [],
      "source": [
        "fig, ax = plt.subplots()\n",
        "ax.imshow(img)\n",
        "ax.axis(\"off\");"
      ]
    },
    {
      "cell_type": "markdown",
      "id": "3a0bad9a",
      "metadata": {
        "id": "3a0bad9a"
      },
      "source": [
        "### **2.3. Extracción de Información**\n",
        "---\n",
        "\n",
        "Para extraer el texto de esta imagen, usamos la función `image_to_string` de `pytesseract`. Esta función toma como argumento el arreglo de `numpy` de la imagen y el código de lenguaje `lang` sobre el cual se realizará OCR.\n",
        "\n",
        "> **Nota**: `pytesseract` espera que la imagen esté codificada con el tipo `uint8`, por lo cual debemos hacer la conversión:"
      ]
    },
    {
      "cell_type": "code",
      "execution_count": null,
      "id": "db1af948",
      "metadata": {
        "id": "db1af948"
      },
      "outputs": [],
      "source": [
        "img = (img * 255).astype(\"uint8\")"
      ]
    },
    {
      "cell_type": "markdown",
      "id": "e8e3dd98",
      "metadata": {
        "id": "e8e3dd98"
      },
      "source": [
        "Finalmente, realizamos la extracción del texto:"
      ]
    },
    {
      "cell_type": "code",
      "execution_count": null,
      "id": "e9c93a0c",
      "metadata": {
        "id": "e9c93a0c"
      },
      "outputs": [],
      "source": [
        "text = pytesseract.image_to_string(img, lang=\"spa\")\n",
        "print(text)"
      ]
    },
    {
      "cell_type": "markdown",
      "id": "a7eede37",
      "metadata": {
        "id": "a7eede37"
      },
      "source": [
        "## **3. Extracción de Texto Desde la Web**\n",
        "---\n",
        "\n",
        "Una gran cantidad de información textual se puede encontrar en contenidos de páginas web. El proceso de extracción de esta información se conoce como **Web Scraping** e involucra estrategias para el análisis de archivos en formato **HTML** (sitios estáticos) y la interactividad con páginas web (sitios dinámicos).\n",
        "\n",
        "<img src=\"https://drive.google.com/uc?export=view&id=1EUUEi71gYhwO-GMfYXrH1t7dNTs5g8lI\" width=\"50%\">"
      ]
    },
    {
      "cell_type": "markdown",
      "id": "fe6d3c02",
      "metadata": {
        "id": "fe6d3c02"
      },
      "source": [
        "### **3.1. Sitios Estáticos**\n",
        "---\n",
        "\n",
        "Gran parte del proceso de extracción de información de la web consiste en el análisis de documentos **HTML**. Esto es especialmente importante cuando hablamos de sitios web estáticos, los cuales se caracterizan por tener un contenido que se encuentra mayoritariamente mediante un archivo **HTML** y no hay mayor interactividad ni generación programática de contenido con `JavaScript`.\n",
        "\n",
        "Desde _Python_ se puede automatizar la extracción de información de sitios de web estáticos con librerías como `beautifulsoup` y `requests`."
      ]
    },
    {
      "cell_type": "markdown",
      "id": "651714ad",
      "metadata": {
        "id": "651714ad"
      },
      "source": [
        "#### **3.1.1. Instalación**\n",
        "---\n",
        "\n",
        "La librería `requests` es muy conocida en _Python_ ya que nos da una forma fácil de utilizar protocolos de comunicación `http` y `https` desde _Python_.\n",
        "\n",
        "<img src=\"https://drive.google.com/uc?export=view&id=1llgHPNuUR-m_aRtkLdYahma7KPdPeBub\" width=\"20%\">\n",
        "\n",
        "Veamos cómo instalar `requests`:"
      ]
    },
    {
      "cell_type": "code",
      "execution_count": null,
      "id": "9d9160b3",
      "metadata": {
        "id": "9d9160b3"
      },
      "outputs": [],
      "source": [
        "!pip install requests"
      ]
    },
    {
      "cell_type": "markdown",
      "id": "25df5737",
      "metadata": {
        "id": "25df5737"
      },
      "source": [
        "Para importar la librería:"
      ]
    },
    {
      "cell_type": "code",
      "execution_count": null,
      "id": "944c958d",
      "metadata": {
        "id": "944c958d"
      },
      "outputs": [],
      "source": [
        "import requests"
      ]
    },
    {
      "cell_type": "markdown",
      "id": "caa3a9e9",
      "metadata": {
        "id": "caa3a9e9"
      },
      "source": [
        "Adicionalmente, para la extracción de información desde contenido web usaremos una librería llamada `beautifulsoup`. Se trata de un analizador y **parser** de archivos HTML y XML que es muy popular para web scraping desde _Python_.\n",
        "\n",
        "<img src=\"https://drive.google.com/uc?export=view&id=1J5_ftObS6_5baMH2p82KFTC7dq9ZstOz\" width=\"80%\">\n",
        "\n",
        "Veamos cómo instalar `beautifulsoup`"
      ]
    },
    {
      "cell_type": "code",
      "execution_count": null,
      "id": "6a7466aa",
      "metadata": {
        "id": "6a7466aa"
      },
      "outputs": [],
      "source": [
        "!pip install beautifulsoup4"
      ]
    },
    {
      "cell_type": "markdown",
      "id": "b8487ec4",
      "metadata": {
        "id": "b8487ec4"
      },
      "source": [
        "Para importar la librería:"
      ]
    },
    {
      "cell_type": "code",
      "execution_count": null,
      "id": "50d6f5ef",
      "metadata": {
        "id": "50d6f5ef"
      },
      "outputs": [],
      "source": [
        "import bs4"
      ]
    },
    {
      "cell_type": "markdown",
      "id": "ebc96560",
      "metadata": {
        "id": "ebc96560"
      },
      "source": [
        "#### **3.1.2. ¿Qué es HTML?**\n",
        "---\n",
        "\n",
        "El formato HTML toma su nombre de HyperText Markup Language, se trata del lenguaje estándar de marcado para páginas web, con el que típicamente se describe el contenido de un sitio y es uno de los pilares para la creación de páginas web.\n",
        "\n",
        "El formato HTML estandariza el contenido que puede llegar a tener un sitio web por medio de distintos tipos de etiquetas, las cuales se representan de la siguiente forma\n",
        "\n",
        "```html\n",
        "<etiqueta>Contenido</etiqueta>\n",
        "```\n",
        "\n",
        "Un ejemplo muy sencillo de archivo `html` se muestra a continuación:\n",
        "\n",
        "```html\n",
        "<!DOCTYPE html>\n",
        "<html>\n",
        "<head>\n",
        "    <title>Procesamiento y Entendimiento de Lenguaje Natural</title>\n",
        "</head>\n",
        "<body>\n",
        "    <h1>Objetivo</h1>\n",
        "    <p>La meta de este módulo es abordar los temas y conceptos fundamentales en el procesamiento de lenguaje natural (NLP, por sus siglas en inglés) por medios computacionales y con énfasis en textos escritos. Se estudiarán una amplia gama de técnicas para la lingüística computacional, el análisis estadístico del lenguaje y la minería de textos, aplicadas a problemas como: análisis sintáctico, extracción de información, clasificación y agrupamiento de texto, análisis de sentimientos, modelos de tópicos, entre otros. Todo ello, mediante el uso del lenguaje de programación Python y sus librerías especializadas para NLP.</p>\n",
        "</body>\n",
        "</html>\n",
        "```\n",
        "\n",
        "Esto nos muestra los elementos base que componen un documento **HTML**:\n",
        "\n",
        "* `<!DOCTIPE html>`: una declaración que define que estamos trabajando con la versión **HTML5**.\n",
        "* `<html>`: se trata de una etiqueta que acota donde inicia y termina el documento.\n",
        "* `<head>`: contiene metadatos de la página.\n",
        "* `<title>`: título de la página.\n",
        "* `<body>`: se le conoce como el cuerpo del documento y contiene la información del mismo.\n",
        "\n",
        "Los otros elementos, hacen parte de los distintos contenedores que pueden ser usados para visualizar el contenido de la página. Los tipos más comunes de contenedores son:\n",
        "\n",
        "* `<p>`: párrafo de texto.\n",
        "* `<h#>`: define un encabezado, por ejemplo `<h1>` define un título de primer nivel, mientras que `<h2>` describe un subtítulo.\n",
        "* `<a>`: contiene un hipervínculo.\n",
        "* `<ul>`: lista no ordenada de elementos.\n",
        "* `<ol>`: lista ordenada de elementos (generalmente enumerados).\n",
        "* `<li>`: elemento de una lista.\n",
        "* `<table>`: define una tabla.\n",
        "* `<th>`: encabezados de columnas en una tabla.\n",
        "* `<tr>`: fila dentro de una tabla.\n",
        "* `<td>`: celda de una tabla.\n",
        "* `<img>`: imagen.\n",
        "* `<video>`: video.\n",
        "* `<div>`: bloque de contenido o sección de la página.\n",
        "* `<section>`: bloque de contenido semántico de la página (generalmente asociado a tablas de contenido).\n",
        "\n",
        "Puede consultar otras características y elementos de **HTML** en [este enlace](https://www.w3schools.com/html/default.asp)."
      ]
    },
    {
      "cell_type": "markdown",
      "id": "c2ab3ce3",
      "metadata": {
        "id": "c2ab3ce3"
      },
      "source": [
        "#### **3.1.3. Carga de Datos**\n",
        "---\n",
        "\n",
        "Veamos un ejemplo práctico sobre una página estática, en específico usaremos la biografía de [Gabriel García Márquez en Wikipedia](https://es.wikipedia.org/wiki/Gabriel_Garc%C3%ADa_M%C3%A1rquez).\n",
        "\n",
        "Para descargar el contenido de esta página usaremos la función `requests.get` a partir de la url de la página:"
      ]
    },
    {
      "cell_type": "code",
      "execution_count": null,
      "id": "0457e378",
      "metadata": {
        "id": "0457e378"
      },
      "outputs": [],
      "source": [
        "url = \"https://es.wikipedia.org/wiki/Gabriel_Garc%C3%ADa_M%C3%A1rquez\"\n",
        "r = requests.get(url)\n",
        "print(type(r))"
      ]
    },
    {
      "cell_type": "markdown",
      "id": "f7aa50bb",
      "metadata": {
        "id": "f7aa50bb"
      },
      "source": [
        "El paquete `requests` genera un objeto de tipo `Response`, generalmente podemos validar si la consulta fue satisfactoria si el valor de `status_code` es de 200."
      ]
    },
    {
      "cell_type": "code",
      "execution_count": null,
      "id": "f436c88f",
      "metadata": {
        "id": "f436c88f"
      },
      "outputs": [],
      "source": [
        "print(r.status_code)"
      ]
    },
    {
      "cell_type": "markdown",
      "id": "446ef37c",
      "metadata": {
        "id": "446ef37c"
      },
      "source": [
        "> En algunas oportunidades puede tener errores al momento de acceder a una página web, los distintos tipos de códigos de estado de **HTTP** los puede consultar en [este enlace](https://developer.mozilla.org/en-US/docs/Web/HTTP/Status).\n",
        "\n",
        "Para obtener el contenido de la página, usamos el atributo `text` del objeto `Response` como se muestra a continuación:"
      ]
    },
    {
      "cell_type": "code",
      "execution_count": null,
      "id": "2e971d3e",
      "metadata": {
        "id": "2e971d3e"
      },
      "outputs": [],
      "source": [
        "text = r.text"
      ]
    },
    {
      "cell_type": "markdown",
      "id": "6a167d4e",
      "metadata": {
        "id": "6a167d4e"
      },
      "source": [
        "Validamos el tipo del texto obtenido:"
      ]
    },
    {
      "cell_type": "code",
      "execution_count": null,
      "id": "97d89ff2",
      "metadata": {
        "id": "97d89ff2"
      },
      "outputs": [],
      "source": [
        "print(type(text))"
      ]
    },
    {
      "cell_type": "markdown",
      "id": "1e687307",
      "metadata": {
        "id": "1e687307"
      },
      "source": [
        "Imprimimos los primeros 500 caracteres del documento encontrado:"
      ]
    },
    {
      "cell_type": "code",
      "execution_count": null,
      "id": "6168813a",
      "metadata": {
        "id": "6168813a"
      },
      "outputs": [],
      "source": [
        "print(text[:500])"
      ]
    },
    {
      "cell_type": "markdown",
      "id": "f2946afd",
      "metadata": {
        "id": "f2946afd"
      },
      "source": [
        "La información obtenida en formato `str` no resulta ser muy útil para un análisis. Como podemos ver aún contiene varias etiquetas propias del lenguaje **HTML** y no exclusivamente el contenido textual que es de nuestro interés.\n",
        "\n",
        "Por ello, vamos a usar `beautifulsoup` para filtrar y extraer el contenido dentro de estos documentos. Comenzamos creando un objeto de tipo `BeautifulSoup` para que la librería interprete el contenido **HTML** de la página."
      ]
    },
    {
      "cell_type": "code",
      "execution_count": null,
      "id": "24caf099",
      "metadata": {
        "id": "24caf099"
      },
      "outputs": [],
      "source": [
        "soup = bs4.BeautifulSoup(text)"
      ]
    },
    {
      "cell_type": "markdown",
      "id": "9aefe432",
      "metadata": {
        "id": "9aefe432"
      },
      "source": [
        "`BeautifulSoup` también genera un formato sobre el documento **HTML** para que sea más fácil de visualizar desde _Python_, veamos cómo se ve:"
      ]
    },
    {
      "cell_type": "code",
      "execution_count": null,
      "id": "95858390",
      "metadata": {
        "id": "95858390"
      },
      "outputs": [],
      "source": [
        "print(soup)"
      ]
    },
    {
      "cell_type": "markdown",
      "id": "e04b78de",
      "metadata": {
        "id": "e04b78de"
      },
      "source": [
        "El objeto `BeautifulSoup` estructura la información para ser extraída más fácilmente, por ejemplo, podemos extraer el título de la página:"
      ]
    },
    {
      "cell_type": "code",
      "execution_count": null,
      "id": "2e4245c6",
      "metadata": {
        "id": "2e4245c6"
      },
      "outputs": [],
      "source": [
        "print(soup.title)"
      ]
    },
    {
      "cell_type": "markdown",
      "id": "5ee7ab4f",
      "metadata": {
        "id": "5ee7ab4f"
      },
      "source": [
        "#### **3.1.4. Tipos de Filtros**\n",
        "---\n",
        "\n",
        "Con el objeto creado en `beautifulsoup` podemos filtrar elementos de interés, tenemos 3 formas de filtrar elementos:"
      ]
    },
    {
      "cell_type": "markdown",
      "id": "0697cfa6",
      "metadata": {
        "id": "0697cfa6"
      },
      "source": [
        "* **Filtrado por etiqueta**: podemos filtrar todos los elementos del documento **HTML** que tengan una etiqueta específica (por ejemplo, todos los párrafos). Esto se consigue usando el método `find_all` al especificar una etiqueta. Veamos un ejemplo donde filtramos todos los headers de tipo `<h1>` (títulos de primer nivel)."
      ]
    },
    {
      "cell_type": "code",
      "execution_count": null,
      "id": "94f8a53c",
      "metadata": {
        "id": "94f8a53c"
      },
      "outputs": [],
      "source": [
        "h1_vals = soup.find_all(\"h1\")\n",
        "print(h1_vals)"
      ]
    },
    {
      "cell_type": "markdown",
      "id": "735bdc78",
      "metadata": {
        "id": "735bdc78"
      },
      "source": [
        "También podemos extraer todos los párrafos `<p>`:"
      ]
    },
    {
      "cell_type": "code",
      "execution_count": null,
      "id": "706d4efa",
      "metadata": {
        "id": "706d4efa"
      },
      "outputs": [],
      "source": [
        "p_vals = soup.find_all(\"p\")\n",
        "print(p_vals)"
      ]
    },
    {
      "cell_type": "markdown",
      "id": "326a6647",
      "metadata": {
        "id": "326a6647"
      },
      "source": [
        "Los resultados de esto se guardan como un objeto de tipo `Tag` y pueden ser usados para definir nuevos filtros y operaciones."
      ]
    },
    {
      "cell_type": "code",
      "execution_count": null,
      "id": "9bf25168",
      "metadata": {
        "id": "9bf25168"
      },
      "outputs": [],
      "source": [
        "print(type(p_vals[1]))\n",
        "p_vals[1].text"
      ]
    },
    {
      "cell_type": "markdown",
      "id": "6b214787",
      "metadata": {
        "id": "6b214787"
      },
      "source": [
        "Por ejemplo, del siguiente párrafo:"
      ]
    },
    {
      "cell_type": "code",
      "execution_count": null,
      "id": "d93ff1d6",
      "metadata": {
        "id": "d93ff1d6"
      },
      "outputs": [],
      "source": [
        "par = p_vals[1]\n",
        "print(par)"
      ]
    },
    {
      "cell_type": "markdown",
      "id": "e61f0721",
      "metadata": {
        "id": "e61f0721"
      },
      "source": [
        "Si deseamos encontrar todos los hipervínculos `<a>` contenidos únicamente en este párrafo, podemos repetir el proceso anterior:"
      ]
    },
    {
      "cell_type": "code",
      "execution_count": null,
      "id": "bb0e8440",
      "metadata": {
        "id": "bb0e8440"
      },
      "outputs": [],
      "source": [
        "links = par.find_all(\"a\")\n",
        "for link in links:\n",
        "    print(link)"
      ]
    },
    {
      "cell_type": "markdown",
      "id": "0a735614",
      "metadata": {
        "id": "0a735614"
      },
      "source": [
        "De la misma forma, el resultado será una nueva lista de `Tag` sobre el que podemos seguir trabajando:"
      ]
    },
    {
      "cell_type": "code",
      "execution_count": null,
      "id": "98534f92",
      "metadata": {
        "id": "98534f92"
      },
      "outputs": [],
      "source": [
        "print(type(links[0]))"
      ]
    },
    {
      "cell_type": "markdown",
      "id": "960fa78f",
      "metadata": {
        "id": "960fa78f"
      },
      "source": [
        "* **Filtrado por id**: en algunas oportunidades un elemento específico dentro de un **HTML** puede estar asociado a un identificador único, esto se ve de la siguiente forma dentro de cualquier etiqueta:\n",
        "\n",
        "```html\n",
        "<etiqueta id=\"valor\"> Contenido </etiqueta>\n",
        "```\n",
        "\n",
        "Por ejemplo, dentro de la página estática que estamos analizando, hay una división `<div>` que contiene la tabla de contenido bajo el id `vector-toc`. Para filtrar estos elementos, también podemos usar el método `find_all` para encontrar todas las coincidencias. No obstante, como sabemos que los id son únicos podemos usar el método `find` para encontrar únicamente la primer coincidencia.\n",
        "\n",
        "A diferencia del filtrado por etiquetas, ahora debemos usar el parámetro `id`. Veamos un ejemplo:"
      ]
    },
    {
      "cell_type": "code",
      "execution_count": null,
      "id": "82e4b9cd",
      "metadata": {
        "id": "82e4b9cd"
      },
      "outputs": [],
      "source": [
        "toc = soup.find(id=\"vector-toc\")\n",
        "print(toc)"
      ]
    },
    {
      "cell_type": "markdown",
      "id": "9c089b84",
      "metadata": {
        "id": "9c089b84"
      },
      "source": [
        "Como puede ver, encontramos el elemento `<div>` que corresponde a la tabla de contenido cuyo `id` es igual a `\"vector-toc\"` correspondiente a la tabla de contenido de la página web."
      ]
    },
    {
      "cell_type": "markdown",
      "id": "e98f3a3a",
      "metadata": {
        "id": "e98f3a3a"
      },
      "source": [
        "* **Filtrado por CSS o clase**: normalmente a los documentos **HTML** se les aplica un estilo por medio del [lenguaje CSS](https://www.w3schools.com/css/). Una etiqueta puede llevar un estilo específico como `class` dentro de su etiqueta, así:\n",
        "\n",
        "```html\n",
        "<etiqueta class=\"valor\"> Contenido </etiqueta>\n",
        "```\n",
        "\n",
        "A través de la opción _Inspeccionar_ que está incluida en los navegadores web, se puede observar la estructura del archivo **HTML** de la página y el **CSS** asociado a la clase que está siendo utilizada por la etiqueta seleccionada. Esta opción generalmente se accede directamente pulsando la tecla `F12` mientras está en una página web o haciendo clic derecho sobre la página y seleccionando la opción `Inspeccionar`. Una vez seleccionada la opción, se abre una ventana dividida en dos: la parte superior correspondiente al código **HTML** y la parte inferior el **CSS** asociado.\n",
        "\n",
        "A continuación se presenta un video con un ejemplo. Sin embargo, se recomienda que usted realice la inspección del código con alguna página web de su interés."
      ]
    },
    {
      "cell_type": "code",
      "execution_count": null,
      "id": "9507f3e4",
      "metadata": {
        "id": "9507f3e4",
        "cellView": "form"
      },
      "outputs": [],
      "source": [
        "#@markdown ##**Ejecute esta celda para ver el video.**\n",
        "from IPython.display import IFrame\n",
        "IFrame(\n",
        "        src=\"https://drive.google.com/file/d/1Jbt1qgv8cQkMGAUIUCygF05Ba54-Ssva/preview\",\n",
        "        width=\"768px\",\n",
        "        height=\"432px\"\n",
        "        )"
      ]
    },
    {
      "cell_type": "markdown",
      "id": "7a29de12",
      "metadata": {
        "id": "7a29de12"
      },
      "source": [
        "Así mismo, es posible filtrar con respecto a la clase de un elemento, con las funciones `find` y `find_all` que vimos anteriormente. La única diferencia es que se debe especificar el parámetro `class_`.\n",
        "\n",
        "En el caso de la página que estamos manipulando, sabemos que contiene la clase `quote` para los elementos que se ven como citas, veamos un ejemplo del filtrado de las citas:"
      ]
    },
    {
      "cell_type": "code",
      "execution_count": null,
      "id": "6bc02eec",
      "metadata": {
        "id": "6bc02eec"
      },
      "outputs": [],
      "source": [
        "quotes = soup.find_all(class_=\"quote\")\n",
        "for quote in quotes:\n",
        "    print(quote)"
      ]
    },
    {
      "cell_type": "markdown",
      "id": "a40ce5e8",
      "metadata": {
        "id": "a40ce5e8"
      },
      "source": [
        "#### **3.1.5. Extracción de Información**\n",
        "---\n",
        "\n",
        "Podemos extraer el contenido textual de cualquier elemento dentro de `BeautifulSoup`, esto se consigue con el método `get_text`.\n",
        "\n",
        "Por ejemplo, el texto de la página web completa sería:"
      ]
    },
    {
      "cell_type": "code",
      "execution_count": null,
      "id": "d3b12429",
      "metadata": {
        "id": "d3b12429"
      },
      "outputs": [],
      "source": [
        "full_text = soup.get_text()\n",
        "print(full_text)"
      ]
    },
    {
      "cell_type": "markdown",
      "id": "a3bb7f5b",
      "metadata": {
        "id": "a3bb7f5b"
      },
      "source": [
        "También es posible extraer el texto del resultado de un filtro. Por ejemplo, el texto de la tabla de contenido:"
      ]
    },
    {
      "cell_type": "code",
      "execution_count": null,
      "id": "b5e3728d",
      "metadata": {
        "id": "b5e3728d"
      },
      "outputs": [],
      "source": [
        "toc = soup.find(id=\"vector-toc\")\n",
        "toc_text = toc.get_text()\n",
        "print(toc_text)"
      ]
    },
    {
      "cell_type": "markdown",
      "id": "1dadcad7",
      "metadata": {
        "id": "1dadcad7"
      },
      "source": [
        "Por último, veamos cómo extraer el texto de alguno de los párrafos (en este caso el párrafo `1`):"
      ]
    },
    {
      "cell_type": "code",
      "execution_count": null,
      "id": "201f2202",
      "metadata": {
        "id": "201f2202"
      },
      "outputs": [],
      "source": [
        "p_vals = soup.find_all(\"p\")\n",
        "p_text = p_vals[1].get_text()\n",
        "print(p_text)"
      ]
    },
    {
      "cell_type": "markdown",
      "id": "2b8ea62c",
      "metadata": {
        "id": "2b8ea62c"
      },
      "source": [
        "### **3.2. Sitios Dinámicos**\n",
        "---\n",
        "\n",
        "Actualmente, muchas de las páginas web no tienen todo su contenido únicamente en un archivo **HTML**. De hecho, mucho del contenido textual de las páginas web modernas es generado desde código y se usan interacciones mediante el lenguaje de programación `JavaScript`.\n",
        "\n",
        "Esto representa un inconveniente al momento de extraer la información únicamente con `requests` y `BeautifulSoup` ya que normalmente se requiere interactividad (presionar botones, llenar formularios, entre otros) para que el sitio web genere de forma dinámica el contenido.\n",
        "\n",
        "Por este motivo, debemos recurrir a técnicas un poco más avanzadas para la extracción de información en estos casos."
      ]
    },
    {
      "cell_type": "markdown",
      "id": "b4ad5507",
      "metadata": {
        "id": "b4ad5507"
      },
      "source": [
        "#### **3.2.1. Instalación**\n",
        "---\n",
        "\n",
        "Para extraer información de páginas web dinámicas desde _Python_ se suele usar la herramienta `selenium`, la cual nos permite interactuar con un sitio web programáticamente como si lo estuviéramos haciendo desde nuestro propio navegador web.\n",
        "\n",
        "<img src=\"https://drive.google.com/uc?export=view&id=1koHszh-qzeRy5YuY2eWmrMX4Diwtc8r9\" width=\"50%\">\n",
        "\n",
        "Para usar `selenium` debemos instalar un driver de un navegador web. En este caso usaremos `chromium` para Google Chrome, comenzamos instalándolo dentro del entorno de Google Colab:"
      ]
    },
    {
      "cell_type": "code",
      "execution_count": null,
      "id": "f1e6c905",
      "metadata": {
        "id": "f1e6c905"
      },
      "outputs": [],
      "source": [
        "!wget https://raw.githubusercontent.com/mindlab-unal/mlds4-datasets/main/u1/install_chromedriver.sh -O install_chromedriver.sh\n",
        "!chmod +x install_chromedriver.sh && ./install_chromedriver.sh\n",
        "!apt update\n",
        "!apt install chromium-browser\n",
        "!apt install chromium chromium-driver"
      ]
    },
    {
      "cell_type": "markdown",
      "id": "38a63801",
      "metadata": {
        "id": "38a63801"
      },
      "source": [
        "Ahora, podemos instalar `selenium`:"
      ]
    },
    {
      "cell_type": "code",
      "execution_count": null,
      "id": "238f7006",
      "metadata": {
        "id": "238f7006"
      },
      "outputs": [],
      "source": [
        "!pip install selenium"
      ]
    },
    {
      "cell_type": "markdown",
      "id": "0f046028",
      "metadata": {
        "id": "0f046028"
      },
      "source": [
        "> **NOTA**: Después de la instalación, es posible que Google Colaboratory le pida reiniciar el entorno de ejecución (*RUNTIME*). Puede hacerlo, haciendo clic en el botón `RESTART RUNTIME` antes de continuar."
      ]
    },
    {
      "cell_type": "markdown",
      "id": "3caef606",
      "metadata": {
        "id": "3caef606"
      },
      "source": [
        "Importamos los módulos necesarios de `selenium` para **web scraping**:"
      ]
    },
    {
      "cell_type": "code",
      "execution_count": null,
      "id": "6bc74b71",
      "metadata": {
        "id": "6bc74b71"
      },
      "outputs": [],
      "source": [
        "import time\n",
        "from selenium import webdriver\n",
        "from selenium.webdriver.common.keys import Keys\n",
        "from selenium.webdriver.common.by import By\n",
        "from selenium.webdriver.chrome.service import Service\n",
        "import matplotlib.pyplot as plt\n",
        "import matplotlib.image as mpimg\n",
        "import bs4"
      ]
    },
    {
      "cell_type": "markdown",
      "id": "8ec54fd3",
      "metadata": {
        "id": "8ec54fd3"
      },
      "source": [
        "#### **3.2.2. Configuración**\n",
        "---\n",
        "\n",
        "Como con `selenium` estamos usando todo un navegador web por detrás, debemos configurar algunos elementos del mismo. Esto se realiza con la clase `ChromeOptions` para crear un driver de tipo `Chrome` como se muestra a continuación:"
      ]
    },
    {
      "cell_type": "code",
      "execution_count": null,
      "id": "a4fa8d55",
      "metadata": {
        "id": "a4fa8d55"
      },
      "outputs": [],
      "source": [
        "service = Service(executable_path=r'/usr/bin/chromedriver')\n",
        "chrome_options = webdriver.ChromeOptions()\n",
        "chrome_options.add_argument(\"--headless\")\n",
        "chrome_options.add_argument(\"--no-sandbox\")\n",
        "driver = webdriver.Chrome(service=service, options=chrome_options)"
      ]
    },
    {
      "cell_type": "markdown",
      "id": "3fc4b3b5",
      "metadata": {
        "id": "3fc4b3b5"
      },
      "source": [
        "Estas opciones significan:\n",
        "\n",
        "* `headless`: no se crea ninguna ventana del navegador (como estamos trabajando en Google Colab, no tenemos acceso a ningún escritorio para ver el navegador.\n",
        "* `no-sandbox`: evita que el driver se aisle para permitir interacción directa.\n",
        "\n",
        "Note que creamos un objeto de tipo `WebDriver` sobre el que realizaremos todas las operaciones:"
      ]
    },
    {
      "cell_type": "code",
      "execution_count": null,
      "id": "7767eae4",
      "metadata": {
        "id": "7767eae4"
      },
      "outputs": [],
      "source": [
        "print(type(driver))"
      ]
    },
    {
      "cell_type": "markdown",
      "id": "e3ac8a1d",
      "metadata": {
        "id": "e3ac8a1d"
      },
      "source": [
        "#### **3.2.3. Carga de Datos**\n",
        "---\n",
        "\n",
        "En este caso, vamos a cargar la [página oficial de _Python_](https://www.python.org/).\n",
        "\n",
        "Para acceder a esta página, usamos el método `get` del driver, usamos un `sleep` de 5 segundos para esperar que la página cargue (recuerde que prácticamente estamos usando un navegador)."
      ]
    },
    {
      "cell_type": "code",
      "execution_count": null,
      "id": "035bd243",
      "metadata": {
        "id": "035bd243"
      },
      "outputs": [],
      "source": [
        "driver.get(\"https://www.python.org\")\n",
        "time.sleep(5)"
      ]
    },
    {
      "cell_type": "markdown",
      "id": "e7050ec7",
      "metadata": {
        "id": "e7050ec7"
      },
      "source": [
        "Podemos tomar un pantallazo de lo que hay actualmente en el navegador con el método `get_screenshot_as_file` para crear una imagen:"
      ]
    },
    {
      "cell_type": "code",
      "execution_count": null,
      "id": "bd38915b",
      "metadata": {
        "id": "bd38915b"
      },
      "outputs": [],
      "source": [
        "driver.get_screenshot_as_file(\"screen.png\")"
      ]
    },
    {
      "cell_type": "markdown",
      "id": "3872e5ee",
      "metadata": {
        "id": "3872e5ee"
      },
      "source": [
        "Veamos la imagen:"
      ]
    },
    {
      "cell_type": "code",
      "execution_count": null,
      "id": "3b72a7eb",
      "metadata": {
        "id": "3b72a7eb"
      },
      "outputs": [],
      "source": [
        "img = mpimg.imread(\"screen.png\")\n",
        "fig, ax = plt.subplots(figsize=(10, 7))\n",
        "ax.imshow(img)\n",
        "ax.axis(\"off\");"
      ]
    },
    {
      "cell_type": "markdown",
      "id": "aef72b94",
      "metadata": {
        "id": "aef72b94"
      },
      "source": [
        "#### **3.2.4. Tipos de Filtros**\n",
        "---\n",
        "\n",
        "Desde `selenium` podemos seleccionar un elemento de la página e interactuar con el mismo. Para ello, usamos el método `find_element` para encontrar la primera coincidencia o el método `find_elements` para encontrar todos los valores que coincidan con el filtro. Los distintos filtros los encontramos en el módulo `By` de `selenium`.\n",
        "\n",
        "Veamos un ejemplo donde seleccionamos la barra de búsqueda que está bajo el nombre `q`:"
      ]
    },
    {
      "cell_type": "code",
      "execution_count": null,
      "id": "9314de6e",
      "metadata": {
        "id": "9314de6e"
      },
      "outputs": [],
      "source": [
        "search_bar = driver.find_element(By.NAME, \"q\")\n",
        "print(search_bar)"
      ]
    },
    {
      "cell_type": "markdown",
      "id": "1f6673f7",
      "metadata": {
        "id": "1f6673f7"
      },
      "source": [
        "También podemos encontrar la barra de búsqueda por id:"
      ]
    },
    {
      "cell_type": "code",
      "execution_count": null,
      "id": "f73f7869",
      "metadata": {
        "id": "f73f7869"
      },
      "outputs": [],
      "source": [
        "search_bar2 = driver.find_element(By.ID, \"id-search-field\")\n",
        "print(search_bar)"
      ]
    },
    {
      "cell_type": "markdown",
      "id": "4c1f4db1",
      "metadata": {
        "id": "4c1f4db1"
      },
      "source": [
        "Los filtros sobre elementos de páginas en `selenium` incluyen:\n",
        "\n",
        "* `By.NAME`: nombre de la etiqueta.\n",
        "\n",
        "```html\n",
        "<etiqueta name=\"valor\"> Contenido </etiqueta>\n",
        "```\n",
        "\n",
        "* `By.ID`: identificador del elemento.\n",
        "\n",
        "```html\n",
        "<etiqueta id=\"valor\"> Contenido </etiqueta>\n",
        "```\n",
        "\n",
        "* `By.CLASS_NAME`: nombre de la clase CSS.\n",
        "\n",
        "```html\n",
        "<etiqueta class=\"valor\"> Contenido </etiqueta>\n",
        "```\n",
        "\n",
        "* `By.XPATH`: usando un `xpath` de elemento, puede revisar más información sobre xpath en [este enlace](https://www.w3schools.com/xml/xpath_intro.asp).\n",
        "* `By.LINK_TEXT`: usando el valor de `href` del elemento.\n",
        "\n",
        "```html\n",
        "<a href=\"https://link.com\"> Contenido </a>\n",
        "```\n",
        "\n",
        "* `By.TAG_NAME`: usando un tipo de tag especifico.\n",
        "\n",
        "Adicional a esto, `selenium` nos permite interactuar con los elementos como si estuviéramos usando un puntero del *mouse* o ingresando texto. Por ejemplo, vamos a seleccionar la barra de búsqueda de la página y a insertar lo que deseamos buscar:"
      ]
    },
    {
      "cell_type": "code",
      "execution_count": null,
      "id": "82a54a4d",
      "metadata": {
        "id": "82a54a4d"
      },
      "outputs": [],
      "source": [
        "search_bar = driver.find_element(By.NAME, \"q\")\n",
        "search_bar.send_keys(\"regex\")"
      ]
    },
    {
      "cell_type": "markdown",
      "id": "0278a256",
      "metadata": {
        "id": "0278a256"
      },
      "source": [
        "El argumento `q` pasado a la función `find_element` proviene del nombre que tiene el atributo `name` en el tag `input` del archivo `html` de la página de *Python*. Este atributo especifica la denominación del elemento insertado en la barra de búsqueda. Esto se puede observar desde el navegador haciendo clic derecho sobre la barra y seleccionando la opción de *Inspeccionar* mencionada anteriormente, como se puede ver en el siguiente video:"
      ]
    },
    {
      "cell_type": "code",
      "execution_count": null,
      "id": "fcd22d0d",
      "metadata": {
        "id": "fcd22d0d",
        "cellView": "form"
      },
      "outputs": [],
      "source": [
        "#@markdown ##**Ejecute esta celda para ver el video.**\n",
        "from IPython.display import IFrame\n",
        "IFrame(\n",
        "        src=\"https://drive.google.com/file/d/1gCo4o1IbPBJQOlyQFN1SEdi2V1TGuS1M/preview\",\n",
        "        width=\"768px\",\n",
        "        height=\"432px\"\n",
        "        )"
      ]
    },
    {
      "cell_type": "markdown",
      "id": "5c458b76",
      "metadata": {
        "id": "5c458b76"
      },
      "source": [
        "Podemos tomar un nuevo pantallazo para validar que efectivamente se insertó el texto `\"regexp\"` en la barra de búsqueda:"
      ]
    },
    {
      "cell_type": "code",
      "execution_count": null,
      "id": "4022f7ce",
      "metadata": {
        "id": "4022f7ce"
      },
      "outputs": [],
      "source": [
        "driver.get_screenshot_as_file(\"screen.png\")\n",
        "img = mpimg.imread(\"screen.png\")\n",
        "fig, ax = plt.subplots(figsize=(10, 7))\n",
        "ax.imshow(img)\n",
        "ax.axis(\"off\");"
      ]
    },
    {
      "cell_type": "markdown",
      "id": "350fa199",
      "metadata": {
        "id": "350fa199"
      },
      "source": [
        "Ahora, vamos a seleccionar el botón asociado al botón de búsqueda:"
      ]
    },
    {
      "cell_type": "code",
      "execution_count": null,
      "id": "c8a1a5e1",
      "metadata": {
        "id": "c8a1a5e1"
      },
      "outputs": [],
      "source": [
        "button = driver.find_element(By.NAME, \"submit\")\n",
        "print(button)"
      ]
    },
    {
      "cell_type": "markdown",
      "id": "b21a7ce7",
      "metadata": {
        "id": "b21a7ce7"
      },
      "source": [
        "Y hacemos clic sobre el botón con el método `click`:"
      ]
    },
    {
      "cell_type": "code",
      "execution_count": null,
      "id": "539cc3ab",
      "metadata": {
        "id": "539cc3ab"
      },
      "outputs": [],
      "source": [
        "button.click()"
      ]
    },
    {
      "cell_type": "markdown",
      "id": "c8a8ceda",
      "metadata": {
        "id": "c8a8ceda"
      },
      "source": [
        "#### **3.2.5. Extracción de Información**\n",
        "---\n",
        "\n",
        "Con `selenium` podemos obtener el código **HTML** de la página en su estado actual, accediendo al atributo `page_source` del driver:"
      ]
    },
    {
      "cell_type": "code",
      "execution_count": null,
      "id": "2fea0c18",
      "metadata": {
        "id": "2fea0c18"
      },
      "outputs": [],
      "source": [
        "html = driver.page_source"
      ]
    },
    {
      "cell_type": "markdown",
      "id": "f754d006",
      "metadata": {
        "id": "f754d006"
      },
      "source": [
        "Este valor lo podemos manipular directamente con `beautifulsoup` para extraer la información directamente:"
      ]
    },
    {
      "cell_type": "code",
      "execution_count": null,
      "id": "80907236",
      "metadata": {
        "id": "80907236"
      },
      "outputs": [],
      "source": [
        "soup = bs4.BeautifulSoup(html)"
      ]
    },
    {
      "cell_type": "markdown",
      "id": "f9a12466",
      "metadata": {
        "id": "f9a12466"
      },
      "source": [
        "Extraemos el texto de la página:"
      ]
    },
    {
      "cell_type": "code",
      "execution_count": null,
      "id": "6e516504",
      "metadata": {
        "id": "6e516504"
      },
      "outputs": [],
      "source": [
        "print(soup.get_text())"
      ]
    },
    {
      "cell_type": "markdown",
      "id": "c28de4eb",
      "metadata": {
        "id": "c28de4eb"
      },
      "source": [
        "## **Recursos Adicionales**\n",
        "---\n",
        "\n",
        "Los siguientes enlaces corresponden a sitios donde encontrará información muy útil para profundizar en los temas vistos en este notebook:\n",
        "\n",
        "* [PyMuPDF documentation](https://pymupdf.readthedocs.io/en/latest/).\n",
        "* [Tesseract user manual](https://tesseract-ocr.github.io/tessdoc/).\n",
        "* [BeautifulSoup documentation](https://www.crummy.com/software/BeautifulSoup/bs4/doc/).\n",
        "* [The Selenium Browser Automation Project](https://www.selenium.dev/documentation/).\n",
        "* _Origen de los íconos_\n",
        "    - Flaticon. Photo free icon [PNG]. https://www.flaticon.com/free-icon/photo_3771416\n",
        "    - Flaticon. Notes free icon [PNG]. https://www.flaticon.com/free-icon/notes_3715004\n",
        "    - Flaticon. Pdf File free icon [PNG]. https://www.flaticon.com/free-icon/pdf_4726010\n",
        "    - Flaticon. Multifunction Printer free icon [PNG]. https://www.flaticon.com/free-icon/multifunction-printer_1547966\n",
        "    - Flaticon. Title free icon [PNG]. https://www.flaticon.com/free-icon/title_2800015\n",
        "    - Flaticon. Browser free icon [PNG]. https://www.flaticon.com/free-icon/browser_1183645\n",
        "    - Flaticon. Csv free icon [PNG]. https://www.flaticon.com/free-icon/csv_202302\n",
        "    - Daedalus. BeautifulSoup [PNG]. https://daedalus-ldv.de/wp-content/uploads/2022/02/bs-1024x440.png\n",
        "    - Diego Molina. Selenium [PNG]. https://commons.wikimedia.org/wiki/File:Selenium_Logo.png"
      ]
    },
    {
      "cell_type": "markdown",
      "id": "77d5f7c9",
      "metadata": {
        "id": "77d5f7c9"
      },
      "source": [
        "## **Créditos**\n",
        "\n",
        "* **Profesor:** [Felipe Restrepo Calle](https://dis.unal.edu.co/~ferestrepoca/)\n",
        "* **Asistentes docentes:**\n",
        "    - [Juan Sebastián Lara Ramírez](https://www.linkedin.com/in/juan-sebastian-lara-ramirez-43570a214/).\n",
        "* **Diseño de imágenes:**\n",
        "    - [Rosa Alejandra Superlano Esquibel](mailto:rsuperlano@unal.edu.co).\n",
        "* **Coordinador de virtualización:**\n",
        "    - [Edder Hernández Forero](https://www.linkedin.com/in/edder-hernandez-forero-28aa8b207/).\n",
        "\n",
        "**Universidad Nacional de Colombia** - *Facultad de Ingeniería*"
      ]
    }
  ],
  "metadata": {
    "jupytext": {
      "cell_metadata_filter": "-all",
      "main_language": "python",
      "notebook_metadata_filter": "-all"
    },
    "colab": {
      "provenance": [],
      "private_outputs": true,
      "include_colab_link": true
    },
    "language_info": {
      "name": "python"
    },
    "kernelspec": {
      "name": "python3",
      "display_name": "Python 3"
    }
  },
  "nbformat": 4,
  "nbformat_minor": 5
}