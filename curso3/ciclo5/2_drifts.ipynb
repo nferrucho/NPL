{
  "cells": [
    {
      "cell_type": "markdown",
      "metadata": {
        "id": "view-in-github",
        "colab_type": "text"
      },
      "source": [
        "<a href=\"https://colab.research.google.com/github/nferrucho/NPL/blob/main/curso3/ciclo5/2_drifts.ipynb\" target=\"_parent\"><img src=\"https://colab.research.google.com/assets/colab-badge.svg\" alt=\"Open In Colab\"/></a>"
      ]
    },
    {
      "cell_type": "markdown",
      "id": "f203c50f",
      "metadata": {
        "id": "f203c50f"
      },
      "source": [
        "<img src=\"https://drive.google.com/uc?export=view&id=1hiUFVbQ2Jgrv0olU-pcf89ODJ5t2pRVe\" width=\"100%\">"
      ]
    },
    {
      "cell_type": "markdown",
      "id": "31bd2ed4",
      "metadata": {
        "id": "31bd2ed4"
      },
      "source": [
        "# Monitoreo de Modelos\n",
        "---\n",
        "\n",
        "En este notebook veremos una introducción al monitoreo de modelos desplegados por medio de técnicas de detección de drifts. Para esto comenzamos importando las librerías necesarias:"
      ]
    },
    {
      "cell_type": "code",
      "execution_count": null,
      "id": "8ddc4273",
      "metadata": {
        "id": "8ddc4273"
      },
      "outputs": [],
      "source": [
        "import numpy as np\n",
        "from IPython.display import display"
      ]
    },
    {
      "cell_type": "markdown",
      "id": "bc993e04",
      "metadata": {
        "id": "bc993e04"
      },
      "source": [
        "## **1. Drifts en Machine Learning**\n",
        "---\n",
        "\n",
        "En el contexto de Machine Learning, el término \"drift\" se refiere a un cambio en la relación entre las variables de entrada y la variable objetivo del modelo a lo largo del tiempo. Este cambio puede ser causado por diferentes factores, como cambios en los datos de entrada o cambios en el entorno en el que el modelo está operando. Veamos los tipos de drifts que normalmente se deben identificar:\n",
        "\n",
        "- **Data drift**: este tipo de drift se presenta cuando hay algún cambio notorio tanto en los datos de entrada del modelo (feature drift) como en el vector de etiquetas (label drift).\n",
        "\n",
        "  <img src=\"https://drive.google.com/uc?export=view&id=1h3IZ_suNwsCN2HaTuWiAvxCasEKAbnOF\" width=\"80%\">\n",
        "\n",
        "- **Concept drift**: este tipo de drift se presenta cuando no hay cambio en los datos de entrada del modelo pero si en la relación de los mismos con la etiqueta.\n",
        "\n",
        "  <img src=\"https://drive.google.com/uc?export=view&id=1S2ffPPYifKR8Yb2W1wUZMx2DFh_qIXc4\" width=\"80%\">\n",
        "\n",
        "- **Virtual drift**: este drift se presenta cuando un mismo modelo se puede aplicar a pesar de que la relación de los datos ha cambiado, por ejemplo, cuando los datos se separan un poco de la frontera de decisión en modelos de clasificación:\n",
        "\n",
        "  <img src=\"https://drive.google.com/uc?export=view&id=1-T4-B1K8spQ36uYbbz0wI4Ia8zkZnN5Z\" width=\"80%\">\n",
        "\n",
        "Existen diversas formas de detectar **drifts** en _Python_, no obstante, en este caso veremos cómo podemos identificarlos con la herramienta `evidently`."
      ]
    },
    {
      "cell_type": "markdown",
      "id": "edc17f11",
      "metadata": {
        "id": "edc17f11"
      },
      "source": [
        "## **2. Evidently**\n",
        "---\n",
        "\n",
        "Evidently es una biblioteca de Python de código abierto que se utiliza para la validación y el monitoreo de modelos de Machine Learning. Esta biblioteca proporciona herramientas para comparar la distribución de los datos de entrenamiento y los datos de prueba, evaluar el desempeño de los modelos, analizar los errores del modelo y monitorear los cambios en el rendimiento del modelo a lo largo del tiempo.\n",
        "\n",
        "<img src=\"https://drive.google.com/uc?export=view&id=1YqkZCfLvgAMmpm23mSPKmOO4qX_fndcu\" width=\"60%\">\n",
        "\n",
        "La biblioteca Evidently permite a los usuarios visualizar y analizar métricas de modelos como la precisión, el sesgo, la varianza, la distribución de errores, entre otras. Además, Evidently proporciona herramientas para visualizar la importancia de las características y las relaciones entre las características y la variable objetivo. Evidently es una herramienta útil para validar y monitorear el desempeño de los modelos de Machine Learning en diferentes etapas del ciclo de vida de un modelo, lo que puede ayudar a mejorar la confianza en los resultados del modelo y a detectar problemas o drifts en el modelo.\n",
        "\n",
        "Veamos cómo instalarla:"
      ]
    },
    {
      "cell_type": "code",
      "execution_count": null,
      "id": "2fa842eb",
      "metadata": {
        "id": "2fa842eb"
      },
      "outputs": [],
      "source": [
        "!pip install evidently"
      ]
    },
    {
      "cell_type": "markdown",
      "id": "b1377dcc",
      "metadata": {
        "id": "b1377dcc"
      },
      "source": [
        "## **3. Conjunto de Datos**\n",
        "---\n",
        "\n",
        "En este caso estaremos trabajando sobre el conjunto de datos \"California Housing\" es uno de los conjuntos de datos más utilizados en Machine Learning. Este conjunto de datos contiene información sobre los precios de la vivienda y otras características en diferentes regiones de California, Estados Unidos. El conjunto de datos se compone de `20640` observaciones, cada una de las cuales representa una región de California.\n",
        "\n",
        "<center><img src=\"https://drive.google.com/uc?export=view&id=1hrXXCboMcy_gXdj3FIF5qPjGdCgoL2gV\" width=\"80%\"></center>\n",
        "\n",
        "Veamos cómo cargarlo desde `sklearn`:"
      ]
    },
    {
      "cell_type": "code",
      "execution_count": null,
      "id": "add9d892",
      "metadata": {
        "id": "add9d892"
      },
      "outputs": [],
      "source": [
        "from sklearn.datasets import fetch_california_housing"
      ]
    },
    {
      "cell_type": "markdown",
      "id": "a16b0b43",
      "metadata": {
        "id": "a16b0b43"
      },
      "source": [
        "Cargamos el conjunto de datos:"
      ]
    },
    {
      "cell_type": "code",
      "execution_count": null,
      "id": "94e026d1",
      "metadata": {
        "id": "94e026d1"
      },
      "outputs": [],
      "source": [
        "dataset = fetch_california_housing(as_frame=True)[\"frame\"]\n",
        "display(dataset)"
      ]
    },
    {
      "cell_type": "markdown",
      "id": "3cd2053d",
      "metadata": {
        "id": "3cd2053d"
      },
      "source": [
        "Este conjunto de datos tiene los siguientes campos:\n",
        "\n",
        "- `MedInc`: ingreso mediano de los hogares en la región.\n",
        "- `HouseAge`: edad mediana de las casas en la región.\n",
        "- `AveRooms`: número promedio de habitaciones por vivienda en la región.\n",
        "- `AveBedrms`: número promedio de dormitorios por vivienda en la región.\n",
        "- `Population`: población total de la región.\n",
        "- `AveOccup`: número promedio de personas que ocupan una vivienda en la región.\n",
        "- `Latitude`: latitud geográfica de la región.\n",
        "- `Longitude`: longitud geográfica de la región."
      ]
    },
    {
      "cell_type": "code",
      "execution_count": null,
      "id": "8043af46",
      "metadata": {
        "id": "8043af46"
      },
      "outputs": [],
      "source": [
        "print(dataset.columns)"
      ]
    },
    {
      "cell_type": "markdown",
      "id": "2e48a5a1",
      "metadata": {
        "id": "2e48a5a1"
      },
      "source": [
        "El objetivo de este conjunto de datos es estimar el valor de `MedHouseVal`, por medio de algún modelo de regresión. Vamos a renombrar esta columna como `target`:"
      ]
    },
    {
      "cell_type": "code",
      "execution_count": null,
      "id": "f24f0ab7",
      "metadata": {
        "id": "f24f0ab7"
      },
      "outputs": [],
      "source": [
        "dataset = dataset.rename(columns={\"MedHouseVal\": \"target\"})"
      ]
    },
    {
      "cell_type": "markdown",
      "id": "76279617",
      "metadata": {
        "id": "76279617"
      },
      "source": [
        "Ahora, vamos a simular los datos predichos por un modelo al tomar los datos originales y agregando un poco de ruido normal:"
      ]
    },
    {
      "cell_type": "code",
      "execution_count": null,
      "id": "ec0d636f",
      "metadata": {
        "id": "ec0d636f"
      },
      "outputs": [],
      "source": [
        "dataset = dataset.assign(\n",
        "    prediction = dataset.target + np.random.normal(0, 3, size=(dataset.shape[0]))\n",
        ")\n",
        "display(dataset.head())"
      ]
    },
    {
      "cell_type": "markdown",
      "id": "ff76c48b",
      "metadata": {
        "id": "ff76c48b"
      },
      "source": [
        "Ahora, vamos a generar dos versiones del conjunto de datos para simular dos muestras tomadas en instantes distintos.\n",
        "\n",
        "> **Nota**: recuerde que el método `sample` en `pandas` nos permite obtener una muestra aleatoria de un `DataFrame`.:"
      ]
    },
    {
      "cell_type": "code",
      "execution_count": null,
      "id": "b1ea7e06",
      "metadata": {
        "id": "b1ea7e06"
      },
      "outputs": [],
      "source": [
        "reference = dataset.sample(n=5000, replace=False)\n",
        "current = dataset.sample(n=5000, replace=False)"
      ]
    },
    {
      "cell_type": "code",
      "source": [
        "reference"
      ],
      "metadata": {
        "id": "ExKKATjiHJbQ"
      },
      "id": "ExKKATjiHJbQ",
      "execution_count": null,
      "outputs": []
    },
    {
      "cell_type": "code",
      "source": [
        "current"
      ],
      "metadata": {
        "id": "0k9lyEzfHLlR"
      },
      "id": "0k9lyEzfHLlR",
      "execution_count": null,
      "outputs": []
    },
    {
      "cell_type": "markdown",
      "id": "2aef20ce",
      "metadata": {
        "id": "2aef20ce"
      },
      "source": [
        "## **4. Reportes**\n",
        "---\n",
        "\n",
        "El uso de `evidently` consiste en la creación de un reporte al que se le agregan distintas métricas y evaluaciones, comenzaremos importando la clase `Report`:"
      ]
    },
    {
      "cell_type": "code",
      "execution_count": null,
      "id": "cc4807b9",
      "metadata": {
        "id": "cc4807b9"
      },
      "outputs": [],
      "source": [
        "from evidently.report import Report"
      ]
    },
    {
      "cell_type": "markdown",
      "id": "d109e2ec",
      "metadata": {
        "id": "d109e2ec"
      },
      "source": [
        "Ahora, importaremos un grupo de métricas típicas para la evaluación de data drift con la clase `DataDriftPreset`:"
      ]
    },
    {
      "cell_type": "code",
      "execution_count": null,
      "id": "d21d213a",
      "metadata": {
        "id": "d21d213a"
      },
      "outputs": [],
      "source": [
        "from evidently.metric_preset import DataDriftPreset"
      ]
    },
    {
      "cell_type": "markdown",
      "id": "fb9c8a48",
      "metadata": {
        "id": "fb9c8a48"
      },
      "source": [
        "Creamos el reporte:"
      ]
    },
    {
      "cell_type": "code",
      "execution_count": null,
      "id": "ff4abc79",
      "metadata": {
        "id": "ff4abc79"
      },
      "outputs": [],
      "source": [
        "report = Report(\n",
        "        metrics=[DataDriftPreset()]\n",
        "        )"
      ]
    },
    {
      "cell_type": "markdown",
      "id": "f06882c6",
      "metadata": {
        "id": "f06882c6"
      },
      "source": [
        "Ejecutamos el reporte pasandole las dos versiones del conjunto de datos:"
      ]
    },
    {
      "cell_type": "code",
      "execution_count": null,
      "id": "bc7d4b52",
      "metadata": {
        "id": "bc7d4b52"
      },
      "outputs": [],
      "source": [
        "report.run(reference_data=reference, current_data=current)"
      ]
    },
    {
      "cell_type": "markdown",
      "id": "a46840df",
      "metadata": {
        "id": "a46840df"
      },
      "source": [
        "Por último mostramos el reporte:"
      ]
    },
    {
      "cell_type": "code",
      "execution_count": null,
      "id": "6a293fce",
      "metadata": {
        "id": "6a293fce"
      },
      "outputs": [],
      "source": [
        "display(report)"
      ]
    },
    {
      "cell_type": "markdown",
      "id": "d53d9905",
      "metadata": {
        "id": "d53d9905"
      },
      "source": [
        "Este preset nos permitirá evidenciar si alguna variable ha cambiado considerablemente con respecto al valor de referencia. El tablero le permitirá observar las distribuciones de los datos y una métrica (la distancia de Wasserstein) que permite identificar si alguna variable ha tenido algún cambio estadísticamente considerable.\n",
        "\n",
        "En algunas oportunidades queremos enfocarnos en una variable en específico, esto lo podemos lograr con métricas de columna como las que se muestran a continuación:"
      ]
    },
    {
      "cell_type": "code",
      "execution_count": null,
      "id": "8b73054b",
      "metadata": {
        "id": "8b73054b"
      },
      "outputs": [],
      "source": [
        "from evidently.metrics import ColumnDriftMetric, ColumnSummaryMetric, ColumnQuantileMetric"
      ]
    },
    {
      "cell_type": "markdown",
      "id": "6c119b92",
      "metadata": {
        "id": "6c119b92"
      },
      "source": [
        "Veamos cómo generar un reporte detallado únicamente para la columna `AveRooms`:"
      ]
    },
    {
      "cell_type": "code",
      "execution_count": null,
      "id": "aa3be712",
      "metadata": {
        "id": "aa3be712"
      },
      "outputs": [],
      "source": [
        "report = Report(metrics=[\n",
        "    ColumnSummaryMetric(column_name='AveRooms'), # resumen de la variable\n",
        "    ColumnQuantileMetric(column_name='AveRooms', quantile=0.25), # cuantil 0.25\n",
        "    ColumnDriftMetric(column_name='AveRooms'), # detección de drifts\n",
        "\n",
        "])\n",
        "\n",
        "report.run(reference_data=reference, current_data=current)\n",
        "display(report)"
      ]
    },
    {
      "cell_type": "markdown",
      "id": "a73ca1cd",
      "metadata": {
        "id": "a73ca1cd"
      },
      "source": [
        "## **5. Tests**\n",
        "---\n",
        "\n",
        "Con `evidently` también es posible realizar pruebas de calidad de datos y predicciones. Entre las cosas que podemos identificar encontramos:\n",
        "\n",
        "- **Valores faltantes**: permite identificar la aparición de valores faltantes tanto en filas como columnas.\n",
        "- **Columnas constantes**: permite identificar si alguna columna tiene un valor que nunca cambia.\n",
        "- **Registros duplicados**: permite ver si hay duplicidad en los datos.\n",
        "- **Tipos de columnas**: valida si el tipo de una variable ha cambiado.\n",
        "\n",
        "Para armar un reporte de tipo test debemos utilizar un `TestSuite`, vamos a importarlo:"
      ]
    },
    {
      "cell_type": "code",
      "execution_count": null,
      "id": "828a9836",
      "metadata": {
        "id": "828a9836"
      },
      "outputs": [],
      "source": [
        "from evidently.test_suite import TestSuite"
      ]
    },
    {
      "cell_type": "markdown",
      "id": "209942f0",
      "metadata": {
        "id": "209942f0"
      },
      "source": [
        "Al igual que con los drift, también disponemos de algunos test generales como el `NoTargetPerformanceTestPreset`, el cual nos permite realizar pruebas sobre el conjunto de datos sin la etiqueta:"
      ]
    },
    {
      "cell_type": "code",
      "execution_count": null,
      "id": "841b558e",
      "metadata": {
        "id": "841b558e"
      },
      "outputs": [],
      "source": [
        "from evidently.test_preset import NoTargetPerformanceTestPreset"
      ]
    },
    {
      "cell_type": "markdown",
      "id": "985a613f",
      "metadata": {
        "id": "985a613f"
      },
      "source": [
        "Veamos el test, la sintaxis es equivalente a la de los drifts:"
      ]
    },
    {
      "cell_type": "code",
      "execution_count": null,
      "id": "39ca4eeb",
      "metadata": {
        "id": "39ca4eeb"
      },
      "outputs": [],
      "source": [
        "suite = TestSuite(tests=[\n",
        "    NoTargetPerformanceTestPreset(),\n",
        "    ])\n",
        "\n",
        "suite.run(reference_data=reference, current_data=current)\n",
        "display(suite)"
      ]
    },
    {
      "cell_type": "markdown",
      "id": "fbb2eb8e",
      "metadata": {
        "id": "fbb2eb8e"
      },
      "source": [
        "Adicionalmente, también podemos realizar tests específicos, primero los importamos:"
      ]
    },
    {
      "cell_type": "code",
      "execution_count": null,
      "id": "1b2ae5b6",
      "metadata": {
        "id": "1b2ae5b6"
      },
      "outputs": [],
      "source": [
        "from evidently.tests import (\n",
        "        TestNumberOfColumnsWithMissingValues,\n",
        "        TestNumberOfRowsWithMissingValues,\n",
        "        TestNumberOfConstantColumns,\n",
        "        TestNumberOfDuplicatedRows,\n",
        "        TestNumberOfDuplicatedColumns,\n",
        "        TestColumnsType,\n",
        "        TestNumberOfDriftedColumns\n",
        "        )"
      ]
    },
    {
      "cell_type": "markdown",
      "id": "356a88c7",
      "metadata": {
        "id": "356a88c7"
      },
      "source": [
        "Veamos cómo podemos aplicarlo:"
      ]
    },
    {
      "cell_type": "code",
      "execution_count": null,
      "id": "e980b660",
      "metadata": {
        "id": "e980b660"
      },
      "outputs": [],
      "source": [
        "suite = TestSuite(tests=[\n",
        "    TestNumberOfColumnsWithMissingValues(),\n",
        "    TestNumberOfRowsWithMissingValues(),\n",
        "    TestNumberOfConstantColumns(),\n",
        "    TestNumberOfDuplicatedRows(),\n",
        "    TestNumberOfDuplicatedColumns(),\n",
        "    TestColumnsType(),\n",
        "    TestNumberOfDriftedColumns()\n",
        "    ])\n",
        "\n",
        "suite.run(reference_data=reference, current_data=current)\n",
        "display(suite)"
      ]
    },
    {
      "cell_type": "markdown",
      "id": "e0654e35",
      "metadata": {
        "id": "e0654e35"
      },
      "source": [
        "Por último, veamos la detección de algunos tipos de drifts.\n",
        "\n",
        "Primero generemos un conjunto de datos con variaciones en las características para detectar **feature drift**, para ello, vamos a asignar la columna `MedInc` como un valor constante:"
      ]
    },
    {
      "cell_type": "code",
      "execution_count": null,
      "id": "3554f93e",
      "metadata": {
        "id": "3554f93e"
      },
      "outputs": [],
      "source": [
        "reference = dataset.sample(n=5000, replace=False)\n",
        "current = (\n",
        "        dataset\n",
        "        .sample(n=5000, replace=False)\n",
        "        .assign(MedInc=500)\n",
        "        )"
      ]
    },
    {
      "cell_type": "markdown",
      "id": "214cac20",
      "metadata": {
        "id": "214cac20"
      },
      "source": [
        "Ahora, generamos un reporte de drifts de datos:"
      ]
    },
    {
      "cell_type": "code",
      "execution_count": null,
      "id": "75398724",
      "metadata": {
        "id": "75398724"
      },
      "outputs": [],
      "source": [
        "report = Report(\n",
        "        metrics=[DataDriftPreset()]\n",
        "        )\n",
        "report.run(reference_data=reference, current_data=current)\n",
        "display(report)"
      ]
    },
    {
      "cell_type": "markdown",
      "id": "9e1be624",
      "metadata": {
        "id": "9e1be624"
      },
      "source": [
        "También podemos detectar **label drift**, para ello, vamos a modificar la columna `target`:"
      ]
    },
    {
      "cell_type": "code",
      "execution_count": null,
      "id": "3dae608c",
      "metadata": {
        "id": "3dae608c"
      },
      "outputs": [],
      "source": [
        "reference = dataset.sample(n=5000, replace=False)\n",
        "current = (\n",
        "        dataset\n",
        "        .sample(n=5000, replace=False)\n",
        "        .assign(target=300)\n",
        "        )"
      ]
    },
    {
      "cell_type": "markdown",
      "id": "ec4420af",
      "metadata": {
        "id": "ec4420af"
      },
      "source": [
        "Para detectar **label drift** podemos usar la clase `TargetDriftPreset`, veamos cómo importarla:"
      ]
    },
    {
      "cell_type": "code",
      "execution_count": null,
      "id": "a60afe2d",
      "metadata": {
        "id": "a60afe2d"
      },
      "outputs": [],
      "source": [
        "from evidently.metric_preset import TargetDriftPreset"
      ]
    },
    {
      "cell_type": "markdown",
      "id": "0ab51c29",
      "metadata": {
        "id": "0ab51c29"
      },
      "source": [
        "Creamos el reporte:"
      ]
    },
    {
      "cell_type": "code",
      "execution_count": null,
      "id": "6f23aa8a",
      "metadata": {
        "id": "6f23aa8a"
      },
      "outputs": [],
      "source": [
        "report = Report(\n",
        "        metrics=[TargetDriftPreset()]\n",
        "        )\n",
        "report.run(reference_data=reference, current_data=current)\n",
        "display(report)"
      ]
    },
    {
      "cell_type": "markdown",
      "id": "3fcd2f8e",
      "metadata": {
        "id": "3fcd2f8e"
      },
      "source": [
        "## Recursos Adicionales\n",
        "---\n",
        "\n",
        "Los siguientes enlaces corresponden a sitios donde encontrará información muy útil para profundizar en los temas vistos en este notebook:\n",
        "\n",
        "- [Data Drift Algorithm](https://docs.evidentlyai.com/reference/data-drift-algorithm)\n",
        "- [Analyze Target and Prediction Drift in Machine Learning Models](https://www.evidentlyai.com/blog/evidently-014-target-and-prediction-drift)\n",
        "- [Why you should care about data and concept drift](https://www.evidentlyai.com/blog/machine-learning-monitoring-data-and-concept-drift)"
      ]
    },
    {
      "cell_type": "markdown",
      "id": "8f87f831",
      "metadata": {
        "id": "8f87f831"
      },
      "source": [
        "## Créditos\n",
        "---\n",
        "\n",
        "**Profesor**\n",
        "\n",
        "- [Jorge E. Camargo, PhD](https://dis.unal.edu.co/~jecamargom/)\n",
        "\n",
        "**Asistente docente**:\n",
        "\n",
        "- [Juan S. Lara MSc](https://www.linkedin.com/in/juan-sebastian-lara-ramirez-43570a214/)\n",
        "\n",
        "**Coordinador de virtualización:**\n",
        "\n",
        "- [Edder Hernández Forero](https://www.linkedin.com/in/edder-hernandez-forero-28aa8b207/).\n",
        "\n",
        "**Diseño de imágenes:**\n",
        "  - [Rosa Alejandra Superlano Esquibel](https://www.linkedin.com/in/alejandra-superlano-02b74313a/).\n",
        "  - [Mario Andrés Rodríguez Triana](mailto:mrodrigueztr@unal.edu.co).\n",
        "\n",
        "**Universidad Nacional de Colombia** - *Facultad de Ingeniería*"
      ]
    }
  ],
  "metadata": {
    "jupytext": {
      "cell_metadata_filter": "-all",
      "formats": "py:percent,md,ipynb"
    },
    "kernelspec": {
      "display_name": "Python 3",
      "name": "python3"
    },
    "colab": {
      "private_outputs": true,
      "provenance": [],
      "include_colab_link": true
    }
  },
  "nbformat": 4,
  "nbformat_minor": 5
}